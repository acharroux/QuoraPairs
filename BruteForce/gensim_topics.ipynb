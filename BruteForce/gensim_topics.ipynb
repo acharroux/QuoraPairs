{
 "metadata": {
  "language_info": {
   "codemirror_mode": {
    "name": "ipython",
    "version": 3
   },
   "file_extension": ".py",
   "mimetype": "text/x-python",
   "name": "python",
   "nbconvert_exporter": "python",
   "pygments_lexer": "ipython3",
   "version": "3.6.0-final"
  },
  "orig_nbformat": 2,
  "kernelspec": {
   "name": "python_defaultSpec_1599229057967",
   "display_name": "Python 3.8.3 64-bit"
  }
 },
 "nbformat": 4,
 "nbformat_minor": 2,
 "cells": [
  {
   "cell_type": "code",
   "execution_count": 4,
   "metadata": {},
   "outputs": [],
   "source": [
    "import numpy\n",
    "import pandas\n",
    "import os\n",
    "import matplotlib.pyplot as plot\n",
    "import seaborn as sns"
   ]
  },
  {
   "cell_type": "code",
   "execution_count": 5,
   "metadata": {
    "tags": []
   },
   "outputs": [
    {
     "output_type": "stream",
     "name": "stdout",
     "text": "load clean_training\nTrain contains 404290 lines\n"
    }
   ],
   "source": [
    "def load_dataframe(file_name,title):\n",
    "    print ('load %s' % file_name)\n",
    "    df = pandas.read_pickle('../PandasStore/'+file_name+'.pkl')\n",
    "    print('%s contains %d lines' % (title,len(df)))\n",
    "    df.metadata={'title':title}\n",
    "    return df\n",
    "\n",
    "train_dataframe = load_dataframe('clean_training','Train')"
   ]
  },
  {
   "cell_type": "code",
   "execution_count": 64,
   "metadata": {
    "tags": []
   },
   "outputs": [
    {
     "output_type": "stream",
     "name": "stdout",
     "text": "Dictionary(163326 unique tokens: ['What', 'by', 'guide', 'in', 'india?']...)\nDictionary(232466 unique tokens: ['What', 'by', 'guide', 'in', 'india?']...)\n"
    }
   ],
   "source": [
    "from gensim import corpora,models,similarities\n",
    "from gensim.parsing.preprocessing import preprocess_string\n",
    "\n",
    "gensim_dict = corpora.Dictionary(train_dataframe['question1'].str.split())\n",
    "print(gensim_dict)\n",
    "gensim_dict.add_documents(train_dataframe['question2'].str.split())\n",
    "print(gensim_dict)\n",
    "gensim_dict.compactify()\n"
   ]
  },
  {
   "cell_type": "code",
   "execution_count": 68,
   "metadata": {},
   "outputs": [],
   "source": [
    "gensim_corpus = [gensim_dict.doc2bow(q) for q in train_dataframe['question1'].str.split()]\n"
   ]
  },
  {
   "cell_type": "code",
   "execution_count": 69,
   "metadata": {},
   "outputs": [],
   "source": [
    "gensim_tf_idf = models.TfidfModel(gensim_corpus)"
   ]
  },
  {
   "cell_type": "code",
   "execution_count": 70,
   "metadata": {},
   "outputs": [],
   "source": [
    "gensim_transformed_tfidf = gensim_tf_idf[gensim_corpus]"
   ]
  },
  {
   "cell_type": "code",
   "execution_count": 72,
   "metadata": {
    "tags": []
   },
   "outputs": [
    {
     "output_type": "stream",
     "name": "stdout",
     "text": "CPU times: user 3min 37s, sys: 1min 37s, total: 5min 14s\nWall time: 4min 36s\n"
    },
    {
     "output_type": "execute_result",
     "data": {
      "text/plain": "[(72,\n  '0.000*\"malai\" + 0.000*\"(cream)?\" + 0.000*\"API.\" + 0.000*\"ascent\" + 0.000*\"abode\" + 0.000*\"jira\" + 0.000*\"Savarkar\" + 0.000*\"packages/salaries?\" + 0.000*\"skillsoft\" + 0.000*\"fingerprints,\"'),\n (60,\n  '0.000*\"malai\" + 0.000*\"(cream)?\" + 0.000*\"API.\" + 0.000*\"ascent\" + 0.000*\"abode\" + 0.000*\"jira\" + 0.000*\"Savarkar\" + 0.000*\"packages/salaries?\" + 0.000*\"skillsoft\" + 0.000*\"fingerprints,\"'),\n (40,\n  '0.000*\"malai\" + 0.000*\"(cream)?\" + 0.000*\"API.\" + 0.000*\"ascent\" + 0.000*\"abode\" + 0.000*\"jira\" + 0.000*\"Savarkar\" + 0.000*\"packages/salaries?\" + 0.000*\"skillsoft\" + 0.000*\"fingerprints,\"'),\n (2,\n  '0.000*\"malai\" + 0.000*\"(cream)?\" + 0.000*\"API.\" + 0.000*\"ascent\" + 0.000*\"abode\" + 0.000*\"jira\" + 0.000*\"Savarkar\" + 0.000*\"packages/salaries?\" + 0.000*\"skillsoft\" + 0.000*\"fingerprints,\"'),\n (59,\n  '0.000*\"malai\" + 0.000*\"(cream)?\" + 0.000*\"API.\" + 0.000*\"ascent\" + 0.000*\"abode\" + 0.000*\"jira\" + 0.000*\"Savarkar\" + 0.000*\"packages/salaries?\" + 0.000*\"skillsoft\" + 0.000*\"fingerprints,\"'),\n (16,\n  '0.000*\"malai\" + 0.000*\"(cream)?\" + 0.000*\"API.\" + 0.000*\"ascent\" + 0.000*\"abode\" + 0.000*\"jira\" + 0.000*\"Savarkar\" + 0.000*\"packages/salaries?\" + 0.000*\"skillsoft\" + 0.000*\"fingerprints,\"'),\n (45,\n  '0.000*\"malai\" + 0.000*\"(cream)?\" + 0.000*\"API.\" + 0.000*\"ascent\" + 0.000*\"abode\" + 0.000*\"jira\" + 0.000*\"Savarkar\" + 0.000*\"packages/salaries?\" + 0.000*\"skillsoft\" + 0.000*\"fingerprints,\"'),\n (9,\n  '0.000*\"malai\" + 0.000*\"(cream)?\" + 0.000*\"API.\" + 0.000*\"ascent\" + 0.000*\"abode\" + 0.000*\"jira\" + 0.000*\"Savarkar\" + 0.000*\"packages/salaries?\" + 0.000*\"skillsoft\" + 0.000*\"fingerprints,\"'),\n (21,\n  '0.000*\"malai\" + 0.000*\"(cream)?\" + 0.000*\"API.\" + 0.000*\"ascent\" + 0.000*\"abode\" + 0.000*\"jira\" + 0.000*\"Savarkar\" + 0.000*\"packages/salaries?\" + 0.000*\"skillsoft\" + 0.000*\"fingerprints,\"'),\n (29,\n  '0.000*\"malai\" + 0.000*\"(cream)?\" + 0.000*\"API.\" + 0.000*\"ascent\" + 0.000*\"abode\" + 0.000*\"jira\" + 0.000*\"Savarkar\" + 0.000*\"packages/salaries?\" + 0.000*\"skillsoft\" + 0.000*\"fingerprints,\"')]"
     },
     "metadata": {},
     "execution_count": 72
    }
   ],
   "source": [
    "%time gensim_lda=models.LdaMulticore(gensim_transformed_tfidf,num_topics=100,id2word=gensim_dict)\n",
    "gensim_lda.show_topics()"
   ]
  },
  {
   "cell_type": "code",
   "execution_count": 87,
   "metadata": {},
   "outputs": [
    {
     "output_type": "error",
     "ename": "TypeError",
     "evalue": "decoding to str: need a bytes-like object, list found",
     "traceback": [
      "\u001b[0;31m---------------------------------------------------------------------------\u001b[0m",
      "\u001b[0;31mTypeError\u001b[0m                                 Traceback (most recent call last)",
      "\u001b[0;32m<ipython-input-87-42dbf5e4c49f>\u001b[0m in \u001b[0;36m<module>\u001b[0;34m\u001b[0m\n\u001b[0;32m----> 1\u001b[0;31m \u001b[0mcorpus2\u001b[0m \u001b[0;34m=\u001b[0m \u001b[0mgensim_lda\u001b[0m\u001b[0;34m.\u001b[0m\u001b[0mget_document_topics\u001b[0m\u001b[0;34m(\u001b[0m\u001b[0mgensim_dict\u001b[0m\u001b[0;34m.\u001b[0m\u001b[0mdoc2bow\u001b[0m\u001b[0;34m(\u001b[0m\u001b[0mtrain_dataframe\u001b[0m\u001b[0;34m[\u001b[0m\u001b[0;34m'question1'\u001b[0m\u001b[0;34m]\u001b[0m\u001b[0;34m.\u001b[0m\u001b[0mstr\u001b[0m\u001b[0;34m.\u001b[0m\u001b[0msplit\u001b[0m\u001b[0;34m(\u001b[0m\u001b[0;34m)\u001b[0m\u001b[0;34m)\u001b[0m\u001b[0;34m)\u001b[0m\u001b[0;34m\u001b[0m\u001b[0;34m\u001b[0m\u001b[0m\n\u001b[0m",
      "\u001b[0;32m~/anaconda3/lib/python3.8/site-packages/gensim/corpora/dictionary.py\u001b[0m in \u001b[0;36mdoc2bow\u001b[0;34m(self, document, allow_update, return_missing)\u001b[0m\n\u001b[1;32m    255\u001b[0m         \u001b[0mcounter\u001b[0m \u001b[0;34m=\u001b[0m \u001b[0mdefaultdict\u001b[0m\u001b[0;34m(\u001b[0m\u001b[0mint\u001b[0m\u001b[0;34m)\u001b[0m\u001b[0;34m\u001b[0m\u001b[0;34m\u001b[0m\u001b[0m\n\u001b[1;32m    256\u001b[0m         \u001b[0;32mfor\u001b[0m \u001b[0mw\u001b[0m \u001b[0;32min\u001b[0m \u001b[0mdocument\u001b[0m\u001b[0;34m:\u001b[0m\u001b[0;34m\u001b[0m\u001b[0;34m\u001b[0m\u001b[0m\n\u001b[0;32m--> 257\u001b[0;31m             \u001b[0mcounter\u001b[0m\u001b[0;34m[\u001b[0m\u001b[0mw\u001b[0m \u001b[0;32mif\u001b[0m \u001b[0misinstance\u001b[0m\u001b[0;34m(\u001b[0m\u001b[0mw\u001b[0m\u001b[0;34m,\u001b[0m \u001b[0municode\u001b[0m\u001b[0;34m)\u001b[0m \u001b[0;32melse\u001b[0m \u001b[0municode\u001b[0m\u001b[0;34m(\u001b[0m\u001b[0mw\u001b[0m\u001b[0;34m,\u001b[0m \u001b[0;34m'utf-8'\u001b[0m\u001b[0;34m)\u001b[0m\u001b[0;34m]\u001b[0m \u001b[0;34m+=\u001b[0m \u001b[0;36m1\u001b[0m\u001b[0;34m\u001b[0m\u001b[0;34m\u001b[0m\u001b[0m\n\u001b[0m\u001b[1;32m    258\u001b[0m \u001b[0;34m\u001b[0m\u001b[0m\n\u001b[1;32m    259\u001b[0m         \u001b[0mtoken2id\u001b[0m \u001b[0;34m=\u001b[0m \u001b[0mself\u001b[0m\u001b[0;34m.\u001b[0m\u001b[0mtoken2id\u001b[0m\u001b[0;34m\u001b[0m\u001b[0;34m\u001b[0m\u001b[0m\n",
      "\u001b[0;31mTypeError\u001b[0m: decoding to str: need a bytes-like object, list found"
     ]
    }
   ],
   "source": [
    "corpus2 = gensim_lda.get_document_topics(gensim_dict.doc2bow(train_dataframe['question1'].str.split()))"
   ]
  }
 ]
}