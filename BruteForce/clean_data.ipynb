{
 "metadata": {
  "language_info": {
   "codemirror_mode": {
    "name": "ipython",
    "version": 3
   },
   "file_extension": ".py",
   "mimetype": "text/x-python",
   "name": "python",
   "nbconvert_exporter": "python",
   "pygments_lexer": "ipython3",
   "version": "3.8.3-final"
  },
  "orig_nbformat": 2,
  "kernelspec": {
   "name": "python_defaultSpec_1601927339512",
   "display_name": "Python 3.8.3 64-bit ('anaconda3': conda)",
   "metadata": {
    "interpreter": {
     "hash": "31f2aee4e71d21fbe5cf8b01ff0e069b9275f58929596ceb00d14d90e3e16cd6"
    }
   }
  }
 },
 "nbformat": 4,
 "nbformat_minor": 2,
 "cells": [
  {
   "source": [
    "# Playing with stop words\n",
    "\n",
    "Nb common words seems to be an interesting feature.\n",
    "\n",
    "But isn'it disturbed by common words like do, not, and which may precisely be common to many pairs, this without any significance ?\n",
    "\n",
    "So, if we remove stop words, nb common feature may have more significance\n"
   ],
   "cell_type": "markdown",
   "metadata": {}
  },
  {
   "cell_type": "code",
   "execution_count": 1,
   "metadata": {},
   "outputs": [
    {
     "output_type": "display_data",
     "data": {
      "text/plain": "&lt;IPython.core.display.HTML object&gt;",
      "text/html": "<span style=\"color:RED\">You will use environment clean_data </span>"
     },
     "metadata": {
      "text/html": {
       "isolated": true
      }
     }
    },
    {
     "output_type": "display_data",
     "data": {
      "text/plain": "&lt;IPython.core.display.HTML object&gt;",
      "text/html": "<b>Prepare clean_data environment in ../clean_data</b>"
     },
     "metadata": {
      "text/html": {
       "isolated": true
      }
     }
    },
    {
     "output_type": "display_data",
     "data": {
      "text/plain": "&lt;IPython.core.display.HTML object&gt;",
      "text/html": "<HR>"
     },
     "metadata": {
      "text/html": {
       "isolated": true
      }
     }
    },
    {
     "output_type": "display_data",
     "data": {
      "text/plain": "&lt;IPython.core.display.HTML object&gt;",
      "text/html": "<span style=\"color:LIMEGREEN\"><small><b><i>Done</i></b><p></p></small></span>"
     },
     "metadata": {
      "text/html": {
       "isolated": true
      }
     }
    },
    {
     "output_type": "display_data",
     "data": {
      "text/plain": "&lt;IPython.core.display.HTML object&gt;",
      "text/html": "<b>Untouched input data has been loaded. Training: 404290 lines Challenge: 2345796 lines</b>"
     },
     "metadata": {
      "text/html": {
       "isolated": true
      }
     }
    },
    {
     "output_type": "display_data",
     "data": {
      "text/plain": "&lt;IPython.core.display.HTML object&gt;",
      "text/html": "<HR>"
     },
     "metadata": {
      "text/html": {
       "isolated": true
      }
     }
    }
   ],
   "source": [
    "# Ugly incantation to make our 'framework' working\n",
    "import sys\n",
    "sys.path.insert(0, r'/SAPDevelop/QuoraPairs/BruteForce/Tools')\n",
    "\n",
    "#import all our small tools (paths, cache, print,zip,excel, pandas, progress,..)\n",
    "from Tools.all import *\n",
    "\n",
    "# setup the name of our experiment\n",
    "# it will be used to store every result in a unique place\n",
    "EXPERIMENT='clean_data'\n",
    "# Do a bit of checks before actually running code\n",
    "UNITARY_TEST = True\n",
    "print_alert('You will use environment %s' % EXPERIMENT)\n",
    "\n",
    "prepare_environnement(EXPERIMENT)\n",
    "train_dataframe=load_dataframe(CLEAN_TRAINING_DATA)\n",
    "challenge_dataframe=load_dataframe(CLEAN_CHALLENGE_DATA)\n",
    "print_section('Untouched input data has been loaded. Training: %d lines Challenge: %d lines' % (len(train_dataframe),len(challenge_dataframe)))\n"
   ]
  },
  {
   "source": [
    "## Challenge and training are not equivalent\n",
    "\n",
    "% of duplicate in training is not the same in challenge !\n",
    "We don't have the challenge's answer but by scoring a constant prediction and using logloss definition, we can guess the distribution of duplicates in challenge\n",
    "\n",
    "It's 17.46 %\n",
    "\n",
    "To fix that we can:\n",
    "\n",
    "* duplicate some negative cases in training to match challenge distribution\n",
    "* use weights : each case has a weight !=1 and all algorithms are supposed to be able to deal with that info\n",
    "I choose to use weights (less memory needed ?)"
   ],
   "cell_type": "markdown",
   "metadata": {}
  },
  {
   "cell_type": "code",
   "execution_count": 2,
   "metadata": {},
   "outputs": [
    {
     "output_type": "display_data",
     "data": {
      "text/plain": "&lt;IPython.core.display.HTML object&gt;",
      "text/html": "<span style=\"color:LIGHTSALMON\"><small>OUPS !! % of duplicates in train is 0.369. In challenge it is 0.175 %</small></span>"
     },
     "metadata": {
      "text/html": {
       "isolated": true
      }
     }
    },
    {
     "output_type": "display_data",
     "data": {
      "text/plain": "&lt;IPython.core.display.HTML object&gt;",
      "text/html": "<span style=\"color:LIGHTSALMON\"><small>let's add some weights to rebalance the data</small></span>"
     },
     "metadata": {
      "text/html": {
       "isolated": true
      }
     }
    },
    {
     "output_type": "display_data",
     "data": {
      "text/plain": "&lt;IPython.core.display.HTML object&gt;",
      "text/html": "<span style=\"color:LIMEGREEN\"><small>Weight for positive case 0.473</small></span>"
     },
     "metadata": {
      "text/html": {
       "isolated": true
      }
     }
    },
    {
     "output_type": "display_data",
     "data": {
      "text/plain": "&lt;IPython.core.display.HTML object&gt;",
      "text/html": "<span style=\"color:LIMEGREEN\"><small>Weight for negative case 1.308</small></span>"
     },
     "metadata": {
      "text/html": {
       "isolated": true
      }
     }
    },
    {
     "output_type": "display_data",
     "data": {
      "text/plain": "&lt;IPython.core.display.HTML object&gt;",
      "text/html": "<span style=\"color:LIMEGREEN\"><small>Training data set has been properly rebalanced</small></span>"
     },
     "metadata": {
      "text/html": {
       "isolated": true
      }
     }
    },
    {
     "output_type": "display_data",
     "data": {
      "text/plain": "&lt;IPython.core.display.HTML object&gt;",
      "text/html": "<span style=\"color:LIMEGREEN\"><small>Weights distribution:</small></span>"
     },
     "metadata": {
      "text/html": {
       "isolated": true
      }
     }
    },
    {
     "output_type": "execute_result",
     "data": {
      "text/plain": "count    404290.000000\nmean          1.000000\nstd           0.403239\nmin           0.472917\n25%           0.472917\n50%           1.308493\n75%           1.308493\nmax           1.308493\nName: weight, dtype: float64"
     },
     "metadata": {},
     "execution_count": 2
    }
   ],
   "source": [
    "# return the weight for 0 and weight for 1 needed to rebalance dataframe like challenge\n",
    "def balanced_weights(dataframe,expected_positive_ratio):\n",
    "    current_positive_ratio = dataframe['is_duplicate'].sum()/len(dataframe)\n",
    "    weight_for_negative = (1-expected_positive_ratio)/(1-current_positive_ratio)\n",
    "    weight_for_positive = expected_positive_ratio/current_positive_ratio\n",
    "    return weight_for_positive,weight_for_negative\n",
    "    return 1,\n",
    "\n",
    "\n",
    "CHALLENGE_DUPLICATE_PERCENT = 0.1746\n",
    "print_warning('OUPS !! %% of duplicates in train is %.3f. In challenge it is %.3f %%' % (train_dataframe['is_duplicate'].sum()/len(train_dataframe),CHALLENGE_DUPLICATE_PERCENT))\n",
    "\n",
    "# create a new 'weight' column to training dataset\n",
    "# Do not forget to remove this column from features !!!\n",
    "print_warning(\"let's add some weights to rebalance the data\")\n",
    "weight_for_1,weight_for_0 = balanced_weights(train_dataframe,CHALLENGE_DUPLICATE_PERCENT)\n",
    "print_info('Weight for positive case %.3f' % weight_for_1)\n",
    "print_info('Weight for negative case %.3f' % weight_for_0)\n",
    "train_dataframe['weight'] = train_dataframe['is_duplicate'].map( {0:weight_for_0, 1:weight_for_1})\n",
    "\n",
    "assert int(train_dataframe['weight'].sum()/len(train_dataframe)) == 1, \"training dataset has not been properly rebalanced\"\n",
    "print_info(\"Training data set has been properly rebalanced\")\n",
    "print_info('Weights distribution:')\n",
    "train_dataframe['weight'].describe()"
   ]
  },
  {
   "source": [
    "# Ready to start"
   ],
   "cell_type": "markdown",
   "metadata": {}
  },
  {
   "cell_type": "code",
   "execution_count": 3,
   "metadata": {},
   "outputs": [],
   "source": [
    "# our main tool to add feature\n",
    "def add_column_from_columns(dataframe,output_column_name,function):\n",
    "    dataframe[output_column_name]=dataframe.progress_apply(function,axis=1)\n",
    "    return dataframe[output_column_name]\n",
    "\n",
    "def add_column_from_column(dataframe,output_column_name,input_column_name,function):\n",
    "    dataframe[output_column_name]=dataframe[input_column_name].progress_apply(function)\n",
    "    return dataframe[output_column_name]"
   ]
  },
  {
   "source": [
    "### Step 1: lower case everything\n",
    "\n",
    "Note we definitely get rid of any information related to majus case"
   ],
   "cell_type": "markdown",
   "metadata": {}
  },
  {
   "cell_type": "code",
   "execution_count": 4,
   "metadata": {},
   "outputs": [
    {
     "output_type": "display_data",
     "data": {
      "text/plain": "&lt;IPython.core.display.HTML object&gt;",
      "text/html": "<b>Before</b>"
     },
     "metadata": {
      "text/html": {
       "isolated": true
      }
     }
    },
    {
     "output_type": "display_data",
     "data": {
      "text/plain": "&lt;IPython.core.display.HTML object&gt;",
      "text/html": "<HR>"
     },
     "metadata": {
      "text/html": {
       "isolated": true
      }
     }
    },
    {
     "output_type": "display_data",
     "data": {
      "text/plain": "                                                                               0                                                                                         1\nid                                                                             0                                                                                         1\nqid1                                                                           1                                                                                         3\nqid2                                                                           2                                                                                         4\nquestion1     What is the step by step guide to invest in share market in india?                                       What is the story of Kohinoor (Koh-i-Noor) Diamond?\nquestion2              What is the step by step guide to invest in share market?  What would happen if the Indian government stole the Kohinoor (Koh-i-Noor) diamond back?\nis_duplicate                                                                   0                                                                                         0\nweight                                                                   1.30849                                                                                   1.30849",
      "text/html": "<div>\n<style scoped>\n    .dataframe tbody tr th:only-of-type {\n        vertical-align: middle;\n    }\n\n    .dataframe tbody tr th {\n        vertical-align: top;\n    }\n\n    .dataframe thead th {\n        text-align: right;\n    }\n</style>\n<table border=\"1\" class=\"dataframe\">\n  <thead>\n    <tr style=\"text-align: right;\">\n      <th></th>\n      <th>0</th>\n      <th>1</th>\n    </tr>\n  </thead>\n  <tbody>\n    <tr>\n      <th>id</th>\n      <td>0</td>\n      <td>1</td>\n    </tr>\n    <tr>\n      <th>qid1</th>\n      <td>1</td>\n      <td>3</td>\n    </tr>\n    <tr>\n      <th>qid2</th>\n      <td>2</td>\n      <td>4</td>\n    </tr>\n    <tr>\n      <th>question1</th>\n      <td>What is the step by step guide to invest in share market in india?</td>\n      <td>What is the story of Kohinoor (Koh-i-Noor) Diamond?</td>\n    </tr>\n    <tr>\n      <th>question2</th>\n      <td>What is the step by step guide to invest in share market?</td>\n      <td>What would happen if the Indian government stole the Kohinoor (Koh-i-Noor) diamond back?</td>\n    </tr>\n    <tr>\n      <th>is_duplicate</th>\n      <td>0</td>\n      <td>0</td>\n    </tr>\n    <tr>\n      <th>weight</th>\n      <td>1.30849</td>\n      <td>1.30849</td>\n    </tr>\n  </tbody>\n</table>\n</div>"
     },
     "metadata": {}
    },
    {
     "output_type": "display_data",
     "data": {
      "text/plain": "&lt;IPython.core.display.HTML object&gt;",
      "text/html": "<b>Lower case everything in training: Load or rebuild training_lower</b>"
     },
     "metadata": {
      "text/html": {
       "isolated": true
      }
     }
    },
    {
     "output_type": "display_data",
     "data": {
      "text/plain": "&lt;IPython.core.display.HTML object&gt;",
      "text/html": "<HR>"
     },
     "metadata": {
      "text/html": {
       "isolated": true
      }
     }
    },
    {
     "output_type": "display_data",
     "data": {
      "text/plain": "&lt;IPython.core.display.HTML object&gt;",
      "text/html": "<span style=\"color:LIMEGREEN\"><small>!!!!! ../clean_data/training_lower.pkl is cached!!!</small></span>"
     },
     "metadata": {
      "text/html": {
       "isolated": true
      }
     }
    },
    {
     "output_type": "display_data",
     "data": {
      "text/plain": "&lt;IPython.core.display.HTML object&gt;",
      "text/html": "<span style=\"color:LIMEGREEN\"><small><b><i>Done:training_lower contains 404290 lines in 0.3 s</i></b><p></p></small></span>"
     },
     "metadata": {
      "text/html": {
       "isolated": true
      }
     }
    },
    {
     "output_type": "display_data",
     "data": {
      "text/plain": "&lt;IPython.core.display.HTML object&gt;",
      "text/html": "<b>Lower case everything in challenge: Load or rebuild challenge_lower</b>"
     },
     "metadata": {
      "text/html": {
       "isolated": true
      }
     }
    },
    {
     "output_type": "display_data",
     "data": {
      "text/plain": "&lt;IPython.core.display.HTML object&gt;",
      "text/html": "<HR>"
     },
     "metadata": {
      "text/html": {
       "isolated": true
      }
     }
    },
    {
     "output_type": "display_data",
     "data": {
      "text/plain": "&lt;IPython.core.display.HTML object&gt;",
      "text/html": "<span style=\"color:LIMEGREEN\"><small>!!!!! ../clean_data/challenge_lower.pkl is cached!!!</small></span>"
     },
     "metadata": {
      "text/html": {
       "isolated": true
      }
     }
    },
    {
     "output_type": "display_data",
     "data": {
      "text/plain": "&lt;IPython.core.display.HTML object&gt;",
      "text/html": "<span style=\"color:LIMEGREEN\"><small><b><i>Done:challenge_lower contains 2345796 lines in 1.3 s</i></b><p></p></small></span>"
     },
     "metadata": {
      "text/html": {
       "isolated": true
      }
     }
    },
    {
     "output_type": "display_data",
     "data": {
      "text/plain": "&lt;IPython.core.display.HTML object&gt;",
      "text/html": "<b>After</b>"
     },
     "metadata": {
      "text/html": {
       "isolated": true
      }
     }
    },
    {
     "output_type": "display_data",
     "data": {
      "text/plain": "&lt;IPython.core.display.HTML object&gt;",
      "text/html": "<HR>"
     },
     "metadata": {
      "text/html": {
       "isolated": true
      }
     }
    },
    {
     "output_type": "display_data",
     "data": {
      "text/plain": "                                                                               0                                                                                         1\nid                                                                             0                                                                                         1\nqid1                                                                           1                                                                                         3\nqid2                                                                           2                                                                                         4\nquestion1     what is the step by step guide to invest in share market in india?                                       what is the story of kohinoor (koh-i-noor) diamond?\nquestion2              what is the step by step guide to invest in share market?  what would happen if the indian government stole the kohinoor (koh-i-noor) diamond back?\nis_duplicate                                                                   0                                                                                         0\nweight                                                                   1.30849                                                                                   1.30849",
      "text/html": "<div>\n<style scoped>\n    .dataframe tbody tr th:only-of-type {\n        vertical-align: middle;\n    }\n\n    .dataframe tbody tr th {\n        vertical-align: top;\n    }\n\n    .dataframe thead th {\n        text-align: right;\n    }\n</style>\n<table border=\"1\" class=\"dataframe\">\n  <thead>\n    <tr style=\"text-align: right;\">\n      <th></th>\n      <th>0</th>\n      <th>1</th>\n    </tr>\n  </thead>\n  <tbody>\n    <tr>\n      <th>id</th>\n      <td>0</td>\n      <td>1</td>\n    </tr>\n    <tr>\n      <th>qid1</th>\n      <td>1</td>\n      <td>3</td>\n    </tr>\n    <tr>\n      <th>qid2</th>\n      <td>2</td>\n      <td>4</td>\n    </tr>\n    <tr>\n      <th>question1</th>\n      <td>what is the step by step guide to invest in share market in india?</td>\n      <td>what is the story of kohinoor (koh-i-noor) diamond?</td>\n    </tr>\n    <tr>\n      <th>question2</th>\n      <td>what is the step by step guide to invest in share market?</td>\n      <td>what would happen if the indian government stole the kohinoor (koh-i-noor) diamond back?</td>\n    </tr>\n    <tr>\n      <th>is_duplicate</th>\n      <td>0</td>\n      <td>0</td>\n    </tr>\n    <tr>\n      <th>weight</th>\n      <td>1.30849</td>\n      <td>1.30849</td>\n    </tr>\n  </tbody>\n</table>\n</div>"
     },
     "metadata": {}
    }
   ],
   "source": [
    "def build_all_lower_data(dataframe):\n",
    "    print_info('Lower case question1')\n",
    "    dataframe['question1'] = dataframe['question1'].str.lower()\n",
    "    print_info('Lower case question2')\n",
    "    dataframe['question2'] = dataframe['question2'].str.lower()\n",
    "    return dataframe\n",
    "\n",
    "print_section('Before')\n",
    "display(train_dataframe.head(2).transpose())\n",
    "train_dataframe = load_or_build_dataframe('Lower case everything in training','training_lower',build_all_lower_data,train_dataframe)\n",
    "challenge_dataframe = load_or_build_dataframe('Lower case everything in challenge','challenge_lower',build_all_lower_data,challenge_dataframe)\n",
    "print_section('After')\n",
    "display(train_dataframe.head(2).transpose())\n",
    "\n"
   ]
  },
  {
   "source": [
    "### Step 2 : build our basic features\n",
    "* Nb words in question 1\n",
    "* Nb words in question 2\n",
    "* Nb common words\n",
    "* Nb common words/nb words in question 1\n",
    "* Nb common words/nb words in question 2\n",
    "* Nb non common words in question 1\n",
    "* Nb non common words in question 2\n",
    "* Nb common words/(Nb words in question1 + Nb words in question2)\n",
    "\n",
    "Note this is done on raw question content : no preprocessing"
   ],
   "cell_type": "markdown",
   "metadata": {
    "tags": []
   }
  },
  {
   "cell_type": "code",
   "execution_count": 5,
   "metadata": {
    "tags": []
   },
   "outputs": [
    {
     "output_type": "display_data",
     "data": {
      "text/plain": "&lt;IPython.core.display.HTML object&gt;",
      "text/html": "<b>Training data + basic features: Load or rebuild training_basic_features</b>"
     },
     "metadata": {
      "text/html": {
       "isolated": true
      }
     }
    },
    {
     "output_type": "display_data",
     "data": {
      "text/plain": "&lt;IPython.core.display.HTML object&gt;",
      "text/html": "<HR>"
     },
     "metadata": {
      "text/html": {
       "isolated": true
      }
     }
    },
    {
     "output_type": "display_data",
     "data": {
      "text/plain": "&lt;IPython.core.display.HTML object&gt;",
      "text/html": "<span style=\"color:LIMEGREEN\"><small>!!!!! ../clean_data/training_basic_features.pkl is cached!!!</small></span>"
     },
     "metadata": {
      "text/html": {
       "isolated": true
      }
     }
    },
    {
     "output_type": "display_data",
     "data": {
      "text/plain": "&lt;IPython.core.display.HTML object&gt;",
      "text/html": "<span style=\"color:LIMEGREEN\"><small><b><i>Done:training_basic_features contains 404290 lines in 4.2 s</i></b><p></p></small></span>"
     },
     "metadata": {
      "text/html": {
       "isolated": true
      }
     }
    },
    {
     "output_type": "display_data",
     "data": {
      "text/plain": "&lt;IPython.core.display.HTML object&gt;",
      "text/html": "<b>Challenge data + basic features: Load or rebuild challenge_basic_features</b>"
     },
     "metadata": {
      "text/html": {
       "isolated": true
      }
     }
    },
    {
     "output_type": "display_data",
     "data": {
      "text/plain": "&lt;IPython.core.display.HTML object&gt;",
      "text/html": "<HR>"
     },
     "metadata": {
      "text/html": {
       "isolated": true
      }
     }
    },
    {
     "output_type": "display_data",
     "data": {
      "text/plain": "&lt;IPython.core.display.HTML object&gt;",
      "text/html": "<span style=\"color:LIMEGREEN\"><small>!!!!! ../clean_data/challenge_basic_features.pkl is cached!!!</small></span>"
     },
     "metadata": {
      "text/html": {
       "isolated": true
      }
     }
    },
    {
     "output_type": "display_data",
     "data": {
      "text/plain": "&lt;IPython.core.display.HTML object&gt;",
      "text/html": "<span style=\"color:LIMEGREEN\"><small><b><i>Done:challenge_basic_features contains 2345796 lines in 26.5 s</i></b><p></p></small></span>"
     },
     "metadata": {
      "text/html": {
       "isolated": true
      }
     }
    }
   ],
   "source": [
    "def build_basic_features_one_row(q1,q2):\n",
    "    q1 = set(q1.split())\n",
    "    len_q1 = len(q1)\n",
    "    q2 = set(q2.split())\n",
    "    len_q2 = len(q2)\n",
    "\n",
    "    common = q1&q2\n",
    "    len_common = len(common)\n",
    "\n",
    "    uncommon_q1 = q1-common\n",
    "    len_uncommon_q1 = len(uncommon_q1)\n",
    "\n",
    "    uncommon_q2 = q2-common\n",
    "    len_uncommon_q2 = len(uncommon_q2)\n",
    "    #       0     1           2            3         4               5               6      7      8                        9                        10\n",
    "    return common,uncommon_q1,uncommon_q2,len_common,len_uncommon_q1,len_uncommon_q2,len_q1,len_q2,len_common/max(1,len_q1),len_common/max(1,len_q2),len_common/(len_q1+len_q2)\n",
    "    \n",
    "def build_all_basic_features(dataframe):\n",
    "    print_warning('Compute all features in one shot')\n",
    "    add_column_from_columns(dataframe,'temp',lambda r: build_basic_features_one_row(r.question1,r.question2))\n",
    "    \n",
    "    print_warning('Extract nb_words_question1')\n",
    "    add_column_from_column(dataframe,'nb_words_question1','temp',lambda x: x[6])\n",
    "    print_warning('Extract nb_words_question2')\n",
    "    add_column_from_column(dataframe,'nb_words_question2','temp',lambda x: x[7])\n",
    "\n",
    "    print_warning('Extract Nb common_words between question1 & question2')\n",
    "    add_column_from_column(dataframe,'nb_common_words','temp',lambda x: x[3])\n",
    "\n",
    "    print_warning('Extract Nb common words/nb words in question1')\n",
    "    add_column_from_column(dataframe,'nb_common_words/nb_words_question1','temp',lambda x: x[8])\n",
    "\n",
    "    print_warning('Extract Nb common words/nb words in question2')\n",
    "    add_column_from_column(dataframe,'nb_common_words/nb_words_question2','temp',lambda x: x[9])\n",
    "\n",
    "    print_warning('Extract Nb words in question1 not in common words')\n",
    "    add_column_from_column(dataframe,'nb_words_question1-common_words','temp',lambda x: x[4])\n",
    "\n",
    "    print_warning('Extract Nb words in question2 not in common words')\n",
    "    add_column_from_column(dataframe,'nb_words_question2-common_words','temp',lambda x: x[5])\n",
    "\n",
    "    print_warning('Compute (nb common words)/(nb words in question1+nb word in question2)')\n",
    "    add_column_from_column(dataframe,'nb_common_words/(nb_words_question1+nb_words_question2)','temp',lambda x: x[10])\n",
    "    \n",
    "    print_warning('Extract common words between question1 & question2')\n",
    "    add_column_from_column(dataframe,'common_words','temp',lambda x: x[0])\n",
    "    \n",
    "    print_warning('Extract uncommon words in question1')\n",
    "    add_column_from_column(dataframe,'uncommon_words_question1','temp',lambda x: x[1])\n",
    "\n",
    "    print_warning('Extract uncommon words in question2')\n",
    "    add_column_from_column(dataframe,'uncommon_words_question2','temp',lambda x: x[2])\n",
    "    dataframe = dataframe.drop (columns='temp')  \n",
    "    return dataframe\n",
    "\n",
    "\n",
    "train_dataframe = load_or_build_dataframe('Training data + basic features','training_basic_features',build_all_basic_features,train_dataframe)\n",
    "challenge_dataframe = load_or_build_dataframe('Challenge data + basic features','challenge_basic_features',build_all_basic_features,challenge_dataframe)\n"
   ]
  },
  {
   "source": [
    "Let's take a look in our new data"
   ],
   "cell_type": "markdown",
   "metadata": {}
  },
  {
   "cell_type": "code",
   "execution_count": 6,
   "metadata": {},
   "outputs": [
    {
     "output_type": "execute_result",
     "data": {
      "text/plain": "                                                                                                                          0  \\\nid                                                                                                                        0   \nqid1                                                                                                                      1   \nqid2                                                                                                                      2   \nquestion1                                                what is the step by step guide to invest in share market in india?   \nquestion2                                                         what is the step by step guide to invest in share market?   \nis_duplicate                                                                                                              0   \nweight                                                                                                              1.30849   \nnb_words_question1                                                                                                       12   \nnb_words_question2                                                                                                       11   \nnb_common_words                                                                                                          10   \nnb_common_words/nb_words_question1                                                                                 0.833333   \nnb_common_words/nb_words_question2                                                                                 0.909091   \nnb_words_question1-common_words                                                                                           2   \nnb_words_question2-common_words                                                                                           1   \nnb_common_words/(nb_words_question1+nb_words_question2)                                                            0.434783   \ncommon_words                                                        {guide, by, is, the, share, invest, in, what, step, to}   \nuncommon_words_question1                                                                                   {market, india?}   \nuncommon_words_question2                                                                                          {market?}   \n\n                                                                                                                                                1  \nid                                                                                                                                              1  \nqid1                                                                                                                                            3  \nqid2                                                                                                                                            4  \nquestion1                                                                                     what is the story of kohinoor (koh-i-noor) diamond?  \nquestion2                                                what would happen if the indian government stole the kohinoor (koh-i-noor) diamond back?  \nis_duplicate                                                                                                                                    0  \nweight                                                                                                                                    1.30849  \nnb_words_question1                                                                                                                              8  \nnb_words_question2                                                                                                                             12  \nnb_common_words                                                                                                                                 4  \nnb_common_words/nb_words_question1                                                                                                            0.5  \nnb_common_words/nb_words_question2                                                                                                       0.333333  \nnb_words_question1-common_words                                                                                                                 4  \nnb_words_question2-common_words                                                                                                                 8  \nnb_common_words/(nb_words_question1+nb_words_question2)                                                                                       0.2  \ncommon_words                                                                                                  {kohinoor, the, what, (koh-i-noor)}  \nuncommon_words_question1                                                                                                {is, diamond?, of, story}  \nuncommon_words_question2                                                           {back?, stole, would, if, government, happen, diamond, indian}  ",
      "text/html": "<div>\n<style scoped>\n    .dataframe tbody tr th:only-of-type {\n        vertical-align: middle;\n    }\n\n    .dataframe tbody tr th {\n        vertical-align: top;\n    }\n\n    .dataframe thead th {\n        text-align: right;\n    }\n</style>\n<table border=\"1\" class=\"dataframe\">\n  <thead>\n    <tr style=\"text-align: right;\">\n      <th></th>\n      <th>0</th>\n      <th>1</th>\n    </tr>\n  </thead>\n  <tbody>\n    <tr>\n      <th>id</th>\n      <td>0</td>\n      <td>1</td>\n    </tr>\n    <tr>\n      <th>qid1</th>\n      <td>1</td>\n      <td>3</td>\n    </tr>\n    <tr>\n      <th>qid2</th>\n      <td>2</td>\n      <td>4</td>\n    </tr>\n    <tr>\n      <th>question1</th>\n      <td>what is the step by step guide to invest in share market in india?</td>\n      <td>what is the story of kohinoor (koh-i-noor) diamond?</td>\n    </tr>\n    <tr>\n      <th>question2</th>\n      <td>what is the step by step guide to invest in share market?</td>\n      <td>what would happen if the indian government stole the kohinoor (koh-i-noor) diamond back?</td>\n    </tr>\n    <tr>\n      <th>is_duplicate</th>\n      <td>0</td>\n      <td>0</td>\n    </tr>\n    <tr>\n      <th>weight</th>\n      <td>1.30849</td>\n      <td>1.30849</td>\n    </tr>\n    <tr>\n      <th>nb_words_question1</th>\n      <td>12</td>\n      <td>8</td>\n    </tr>\n    <tr>\n      <th>nb_words_question2</th>\n      <td>11</td>\n      <td>12</td>\n    </tr>\n    <tr>\n      <th>nb_common_words</th>\n      <td>10</td>\n      <td>4</td>\n    </tr>\n    <tr>\n      <th>nb_common_words/nb_words_question1</th>\n      <td>0.833333</td>\n      <td>0.5</td>\n    </tr>\n    <tr>\n      <th>nb_common_words/nb_words_question2</th>\n      <td>0.909091</td>\n      <td>0.333333</td>\n    </tr>\n    <tr>\n      <th>nb_words_question1-common_words</th>\n      <td>2</td>\n      <td>4</td>\n    </tr>\n    <tr>\n      <th>nb_words_question2-common_words</th>\n      <td>1</td>\n      <td>8</td>\n    </tr>\n    <tr>\n      <th>nb_common_words/(nb_words_question1+nb_words_question2)</th>\n      <td>0.434783</td>\n      <td>0.2</td>\n    </tr>\n    <tr>\n      <th>common_words</th>\n      <td>{guide, by, is, the, share, invest, in, what, step, to}</td>\n      <td>{kohinoor, the, what, (koh-i-noor)}</td>\n    </tr>\n    <tr>\n      <th>uncommon_words_question1</th>\n      <td>{market, india?}</td>\n      <td>{is, diamond?, of, story}</td>\n    </tr>\n    <tr>\n      <th>uncommon_words_question2</th>\n      <td>{market?}</td>\n      <td>{back?, stole, would, if, government, happen, diamond, indian}</td>\n    </tr>\n  </tbody>\n</table>\n</div>"
     },
     "metadata": {},
     "execution_count": 6
    }
   ],
   "source": [
    "train_dataframe.head(2).transpose()"
   ]
  },
  {
   "source": [
    "Let's take a look in common words & uncommon_words_question1"
   ],
   "cell_type": "markdown",
   "metadata": {}
  },
  {
   "cell_type": "code",
   "execution_count": 7,
   "metadata": {},
   "outputs": [
    {
     "output_type": "execute_result",
     "data": {
      "text/plain": "                                                                               common_words  \\\n0                                   {guide, by, is, the, share, invest, in, what, step, to}   \n1                                                       {kohinoor, the, what, (koh-i-noor)}   \n2                                                               {how, can, internet, speed}   \n3                                                                                        {}   \n4                                                                               {which, in}   \n...                                                                                     ...   \n404285  {there, the, many, latest, are, version?, how, keywords, in, programming, language}   \n404286                                                     {is, there, death?, after, life}   \n404287                                                                              {coin?}   \n404288                                                                                 {of}   \n404289                                       {sex, is, have, like, what, to, with, cousin?}   \n\n                                                                                            uncommon_words_question1  \n0                                                                                                   {market, india?}  \n1                                                                                          {is, diamond?, of, story}  \n2                                                      {increase, the, my, a, i, using, vpn?, of, connection, while}  \n3                                                        {solve, very, it?, mentally, why, how, lonely?, i, am, can}  \n4                                    {sugar,, water, dissolve, quikly, salt,, one, carbon, and, oxide?, di, methane}  \n...                                                                                                              ...  \n404285                                                                                                  {racket, of}  \n404286                                                                                            {do, you, believe}  \n404287                                                                                               {is, one, what}  \n404288  {uic, is, studying, the, annual, living, approx, in, student?, what, for, chicago,, an, while, indian, cost}  \n404289                                                                                                            {}  \n\n[404290 rows x 2 columns]",
      "text/html": "<div>\n<style scoped>\n    .dataframe tbody tr th:only-of-type {\n        vertical-align: middle;\n    }\n\n    .dataframe tbody tr th {\n        vertical-align: top;\n    }\n\n    .dataframe thead th {\n        text-align: right;\n    }\n</style>\n<table border=\"1\" class=\"dataframe\">\n  <thead>\n    <tr style=\"text-align: right;\">\n      <th></th>\n      <th>common_words</th>\n      <th>uncommon_words_question1</th>\n    </tr>\n  </thead>\n  <tbody>\n    <tr>\n      <th>0</th>\n      <td>{guide, by, is, the, share, invest, in, what, step, to}</td>\n      <td>{market, india?}</td>\n    </tr>\n    <tr>\n      <th>1</th>\n      <td>{kohinoor, the, what, (koh-i-noor)}</td>\n      <td>{is, diamond?, of, story}</td>\n    </tr>\n    <tr>\n      <th>2</th>\n      <td>{how, can, internet, speed}</td>\n      <td>{increase, the, my, a, i, using, vpn?, of, connection, while}</td>\n    </tr>\n    <tr>\n      <th>3</th>\n      <td>{}</td>\n      <td>{solve, very, it?, mentally, why, how, lonely?, i, am, can}</td>\n    </tr>\n    <tr>\n      <th>4</th>\n      <td>{which, in}</td>\n      <td>{sugar,, water, dissolve, quikly, salt,, one, carbon, and, oxide?, di, methane}</td>\n    </tr>\n    <tr>\n      <th>...</th>\n      <td>...</td>\n      <td>...</td>\n    </tr>\n    <tr>\n      <th>404285</th>\n      <td>{there, the, many, latest, are, version?, how, keywords, in, programming, language}</td>\n      <td>{racket, of}</td>\n    </tr>\n    <tr>\n      <th>404286</th>\n      <td>{is, there, death?, after, life}</td>\n      <td>{do, you, believe}</td>\n    </tr>\n    <tr>\n      <th>404287</th>\n      <td>{coin?}</td>\n      <td>{is, one, what}</td>\n    </tr>\n    <tr>\n      <th>404288</th>\n      <td>{of}</td>\n      <td>{uic, is, studying, the, annual, living, approx, in, student?, what, for, chicago,, an, while, indian, cost}</td>\n    </tr>\n    <tr>\n      <th>404289</th>\n      <td>{sex, is, have, like, what, to, with, cousin?}</td>\n      <td>{}</td>\n    </tr>\n  </tbody>\n</table>\n<p>404290 rows × 2 columns</p>\n</div>"
     },
     "metadata": {},
     "execution_count": 7
    }
   ],
   "source": [
    "train_dataframe[['common_words','uncommon_words_question1']]"
   ]
  },
  {
   "source": [
    "common words is 'polluted' by tons of word like is,with,to,...  stop words"
   ],
   "cell_type": "markdown",
   "metadata": {}
  },
  {
   "source": [
    "### Step 3 : remove a first set of stop words\n",
    "\n",
    "We start with stopwords coming from nltk\n"
   ],
   "cell_type": "markdown",
   "metadata": {}
  },
  {
   "cell_type": "code",
   "execution_count": 8,
   "metadata": {
    "tags": []
   },
   "outputs": [
    {
     "output_type": "display_data",
     "data": {
      "text/plain": "&lt;IPython.core.display.HTML object&gt;",
      "text/html": "<span style=\"color:LIMEGREEN\"><small>There is 179 stopwords in nltk</small></span>"
     },
     "metadata": {
      "text/html": {
       "isolated": true
      }
     }
    },
    {
     "output_type": "display_data",
     "data": {
      "text/plain": "&lt;IPython.core.display.HTML object&gt;",
      "text/html": "<b>Training: Build features aware of nltk stopwords: Load or rebuild training_nltk_stop_words_features</b>"
     },
     "metadata": {
      "text/html": {
       "isolated": true
      }
     }
    },
    {
     "output_type": "display_data",
     "data": {
      "text/plain": "&lt;IPython.core.display.HTML object&gt;",
      "text/html": "<HR>"
     },
     "metadata": {
      "text/html": {
       "isolated": true
      }
     }
    },
    {
     "output_type": "display_data",
     "data": {
      "text/plain": "&lt;IPython.core.display.HTML object&gt;",
      "text/html": "<span style=\"color:LIMEGREEN\"><small>!!!!! ../clean_data/training_nltk_stop_words_features.pkl is cached!!!</small></span>"
     },
     "metadata": {
      "text/html": {
       "isolated": true
      }
     }
    },
    {
     "output_type": "display_data",
     "data": {
      "text/plain": "&lt;IPython.core.display.HTML object&gt;",
      "text/html": "<span style=\"color:LIMEGREEN\"><small><b><i>Done:training_nltk_stop_words_features contains 404290 lines in 7.1 s</i></b><p></p></small></span>"
     },
     "metadata": {
      "text/html": {
       "isolated": true
      }
     }
    },
    {
     "output_type": "display_data",
     "data": {
      "text/plain": "&lt;IPython.core.display.HTML object&gt;",
      "text/html": "<b>Challenge: Build features aware of nltk stopwords: Load or rebuild challenge_nltk_stop_words_features</b>"
     },
     "metadata": {
      "text/html": {
       "isolated": true
      }
     }
    },
    {
     "output_type": "display_data",
     "data": {
      "text/plain": "&lt;IPython.core.display.HTML object&gt;",
      "text/html": "<HR>"
     },
     "metadata": {
      "text/html": {
       "isolated": true
      }
     }
    },
    {
     "output_type": "display_data",
     "data": {
      "text/plain": "&lt;IPython.core.display.HTML object&gt;",
      "text/html": "<span style=\"color:LIMEGREEN\"><small>!!!!! ../clean_data/challenge_nltk_stop_words_features.pkl is cached!!!</small></span>"
     },
     "metadata": {
      "text/html": {
       "isolated": true
      }
     }
    },
    {
     "output_type": "display_data",
     "data": {
      "text/plain": "&lt;IPython.core.display.HTML object&gt;",
      "text/html": "<span style=\"color:LIMEGREEN\"><small><b><i>Done:challenge_nltk_stop_words_features contains 2345796 lines in 48.9 s</i></b><p></p></small></span>"
     },
     "metadata": {
      "text/html": {
       "isolated": true
      }
     }
    }
   ],
   "source": [
    "from nltk.corpus import stopwords\n",
    "\n",
    "def build_no_stopwords_features_one_row(q1,q2,stopwords):\n",
    "    q1 = set([w for w in q1.split() if w not in stopwords])\n",
    "    len_q1 = len(q1)\n",
    "    q2 = set([w for w in q2.split() if w not in stopwords])\n",
    "    len_q2 = len(q2)\n",
    "\n",
    "    common = q1&q2\n",
    "    len_common = len(common)\n",
    "\n",
    "    uncommon_q1 = q1-common\n",
    "    len_uncommon_q1 = len(uncommon_q1)\n",
    "\n",
    "    uncommon_q2 = q2-common\n",
    "    len_uncommon_q2 = len(uncommon_q2)\n",
    "    #       0     1           2            2         4               5               6      7      8                        9                        10\n",
    "    return common,uncommon_q1,uncommon_q2,len_common,len_uncommon_q1,len_uncommon_q2,len_q1,len_q2,len_common/max(1,len_q1),len_common/max(1,len_q2),len_common/max(1,(len_q1+len_q2))\n",
    "    \n",
    "\n",
    "def build_nltk_stop_words_features(dataframe):\n",
    "    print_warning('Remove stopwords from question 1 & question2')\n",
    "    \n",
    "    print_warning('Compute all nltk features in one shot')\n",
    "    add_column_from_columns(dataframe,'temp',lambda r: build_no_stopwords_features_one_row(r.question1,r.question2,nltk_stopwords))\n",
    "    \n",
    "    print_warning('Extract nb_words_question1')\n",
    "    add_column_from_column(dataframe,'nltk_nb_words_question1','temp',lambda x: x[6])\n",
    "    print_warning('Extract nb_words_question2')\n",
    "    add_column_from_column(dataframe,'nltk_nb_words_question2','temp',lambda x: x[7])\n",
    "\n",
    "    print_warning('Extract Nb common_words between question1 & question2')\n",
    "    add_column_from_column(dataframe,'nltk_nb_common_words','temp',lambda x: x[3])\n",
    "\n",
    "    print_warning('Extract Nb common words/nb words in question1')\n",
    "    add_column_from_column(dataframe,'nltk_nb_common_words/nltk_nb_words_question1','temp',lambda x: x[8])\n",
    "\n",
    "    print_warning('Extract Nb common words/nb words in question2')\n",
    "    add_column_from_column(dataframe,'nltk_nb_common_words/nltk_nb_words_question2','temp',lambda x: x[9])\n",
    "\n",
    "    print_warning('Extract Nb words in question1 not in common words')\n",
    "    add_column_from_column(dataframe,'nltk_nb_words_question1-nltk_common_words','temp',lambda x: x[4])\n",
    "\n",
    "    print_warning('Extract Nb words in question2 not in common words')\n",
    "    add_column_from_column(dataframe,'nltk_nb_words_question2-nltk_common_words','temp',lambda x: x[5])\n",
    "\n",
    "    print_warning('Compute (nb common words)/(nb words in question1+nb word in question2)')\n",
    "    add_column_from_column(dataframe,'nltk_nb_common_words/(nltk_nb_words_question1+nltk_nb_words_question2)','temp',lambda x: x[10])\n",
    "    \n",
    "    print_warning('Extract common words between question1 & question2')\n",
    "    add_column_from_column(dataframe,'nltk_common_words','temp',lambda x: x[0])\n",
    "    \n",
    "    print_warning('Extract uncommon words in question1')\n",
    "    add_column_from_column(dataframe,'nltk_uncommon_words_question1','temp',lambda x: x[1])\n",
    "\n",
    "    print_warning('Extract uncommon words in question2')\n",
    "    add_column_from_column(dataframe,'nltk_uncommon_words_question2','temp',lambda x: x[2])\n",
    "    dataframe = dataframe.drop (columns='temp')  \n",
    "    return dataframe\n",
    "\n",
    "nltk_stopwords = set(stopwords.words('english'))\n",
    "print_info( 'There is %d stopwords in nltk' % len(nltk_stopwords))\n",
    "\n",
    "train_dataframe = load_or_build_dataframe('Training: Build features aware of nltk stopwords','training_nltk_stop_words_features',build_nltk_stop_words_features,train_dataframe)\n",
    "challenge_dataframe = load_or_build_dataframe('Challenge: Build features aware of nltk stopwords','challenge_nltk_stop_words_features',build_nltk_stop_words_features,challenge_dataframe)"
   ]
  },
  {
   "source": [
    "Did we change anything ?"
   ],
   "cell_type": "markdown",
   "metadata": {}
  },
  {
   "cell_type": "code",
   "execution_count": 9,
   "metadata": {},
   "outputs": [
    {
     "output_type": "display_data",
     "data": {
      "text/plain": "&lt;IPython.core.display.HTML object&gt;",
      "text/html": "<span style=\"color:LIMEGREEN\"><small>We have changed 85.80 % of nb common_words in training!!</small></span>"
     },
     "metadata": {
      "text/html": {
       "isolated": true
      }
     }
    },
    {
     "output_type": "display_data",
     "data": {
      "text/plain": "&lt;IPython.core.display.HTML object&gt;",
      "text/html": "<span style=\"color:LIMEGREEN\"><small>We have changed 76.89 % of nb common_words in challenge !!</small></span>"
     },
     "metadata": {
      "text/html": {
       "isolated": true
      }
     }
    },
    {
     "output_type": "execute_result",
     "data": {
      "text/plain": "                                              common_words             nltk_common_words   uncommon_words_question1 nltk_uncommon_words_question1\n0  {guide, by, is, the, share, invest, in, what, step, to}  {guide, invest, share, step}           {market, india?}              {market, india?}\n1                      {kohinoor, the, what, (koh-i-noor)}      {kohinoor, (koh-i-noor)}  {is, diamond?, of, story}             {diamond?, story}",
      "text/html": "<div>\n<style scoped>\n    .dataframe tbody tr th:only-of-type {\n        vertical-align: middle;\n    }\n\n    .dataframe tbody tr th {\n        vertical-align: top;\n    }\n\n    .dataframe thead th {\n        text-align: right;\n    }\n</style>\n<table border=\"1\" class=\"dataframe\">\n  <thead>\n    <tr style=\"text-align: right;\">\n      <th></th>\n      <th>common_words</th>\n      <th>nltk_common_words</th>\n      <th>uncommon_words_question1</th>\n      <th>nltk_uncommon_words_question1</th>\n    </tr>\n  </thead>\n  <tbody>\n    <tr>\n      <th>0</th>\n      <td>{guide, by, is, the, share, invest, in, what, step, to}</td>\n      <td>{guide, invest, share, step}</td>\n      <td>{market, india?}</td>\n      <td>{market, india?}</td>\n    </tr>\n    <tr>\n      <th>1</th>\n      <td>{kohinoor, the, what, (koh-i-noor)}</td>\n      <td>{kohinoor, (koh-i-noor)}</td>\n      <td>{is, diamond?, of, story}</td>\n      <td>{diamond?, story}</td>\n    </tr>\n  </tbody>\n</table>\n</div>"
     },
     "metadata": {},
     "execution_count": 9
    }
   ],
   "source": [
    "nb_changed_train = int(numpy.where(train_dataframe['nltk_nb_common_words']!=train_dataframe['nb_common_words'],1,0).sum())\n",
    "print_info('We have changed %.2f %% of nb common_words in training!!' % (nb_changed_train*100./len(train_dataframe)))\n",
    "nb_changed_challenge = int(numpy.where(challenge_dataframe['nltk_nb_common_words']!=challenge_dataframe['nb_common_words'],1,0).sum())\n",
    "print_info('We have changed %.2f %% of nb common_words in challenge !!' % (nb_changed_challenge*100./len(challenge_dataframe)))\n",
    "train_dataframe[['common_words','nltk_common_words','uncommon_words_question1','nltk_uncommon_words_question1']].head(2)"
   ]
  },
  {
   "cell_type": "code",
   "execution_count": 10,
   "metadata": {},
   "outputs": [
    {
     "output_type": "execute_result",
     "data": {
      "text/plain": "&lt;matplotlib.legend.Legend at 0x7f4641919910&gt;"
     },
     "metadata": {},
     "execution_count": 10
    },
    {
     "output_type": "display_data",
     "data": {
      "text/plain": "&lt;Figure size 1080x720 with 1 Axes&gt;",
      "image/svg+xml": "<?xml version=\"1.0\" encoding=\"utf-8\" standalone=\"no\"?>\n<!DOCTYPE svg PUBLIC \"-//W3C//DTD SVG 1.1//EN\"\n  \"http://www.w3.org/Graphics/SVG/1.1/DTD/svg11.dtd\">\n<!-- Created with matplotlib (https://matplotlib.org/) -->\n<svg height=\"605.753906pt\" version=\"1.1\" viewBox=\"0 0 894.34375 605.753906\" width=\"894.34375pt\" xmlns=\"http://www.w3.org/2000/svg\" xmlns:xlink=\"http://www.w3.org/1999/xlink\">\n <defs>\n  <style type=\"text/css\">\n*{stroke-linecap:butt;stroke-linejoin:round;}\n  </style>\n </defs>\n <g id=\"figure_1\">\n  <g id=\"patch_1\">\n   <path d=\"M 0 605.753906 \nL 894.34375 605.753906 \nL 894.34375 0 \nL 0 0 \nz\n\" style=\"fill:none;\"/>\n  </g>\n  <g id=\"axes_1\">\n   <g id=\"patch_2\">\n    <path d=\"M 50.14375 568.197656 \nL 887.14375 568.197656 \nL 887.14375 24.597656 \nL 50.14375 24.597656 \nz\n\" style=\"fill:#ffffff;\"/>\n   </g>\n   <g id=\"patch_3\">\n    <path clip-path=\"url(#p1f9aa8a946)\" d=\"M 88.189205 568.197656 \nL 88.189205 50.483371 \nL 97.468584 50.483371 \nL 97.468584 220.960045 \nL 116.027342 220.960045 \nL 116.027342 92.3651 \nL 134.5861 92.3651 \nL 134.5861 270.228188 \nL 153.144859 270.228188 \nL 153.144859 443.057453 \nL 171.703617 443.057453 \nL 171.703617 518.737137 \nL 190.262375 518.737137 \nL 190.262375 542.479469 \nL 208.821134 542.479469 \nL 208.821134 553.152296 \nL 227.379892 553.152296 \nL 227.379892 558.025807 \nL 245.93865 558.025807 \nL 245.93865 560.963539 \nL 264.497409 560.963539 \nL 264.497409 566.053472 \nL 283.056167 566.053472 \nL 283.056167 565.644674 \nL 301.614925 565.644674 \nL 301.614925 566.454254 \nL 320.173683 566.454254 \nL 320.173683 567.604499 \nL 338.732442 567.604499 \nL 338.732442 567.89707 \nL 357.2912 567.89707 \nL 357.2912 568.087441 \nL 394.408717 568.087441 \nL 394.408717 568.172273 \nL 450.084992 568.172273 \nL 450.084992 568.190786 \nL 515.040646 568.190786 \nL 515.040646 568.197656 \nL 450.084992 568.197656 \nL 450.084992 568.197656 \nL 394.408717 568.197656 \nL 394.408717 568.197656 \nL 357.2912 568.197656 \nL 357.2912 568.197656 \nL 338.732442 568.197656 \nL 338.732442 568.197656 \nL 320.173683 568.197656 \nL 320.173683 568.197656 \nL 301.614925 568.197656 \nL 301.614925 568.197656 \nL 283.056167 568.197656 \nL 283.056167 568.197656 \nL 264.497409 568.197656 \nL 264.497409 568.197656 \nL 245.93865 568.197656 \nL 245.93865 568.197656 \nL 227.379892 568.197656 \nL 227.379892 568.197656 \nL 208.821134 568.197656 \nL 208.821134 568.197656 \nL 190.262375 568.197656 \nL 190.262375 568.197656 \nL 171.703617 568.197656 \nL 171.703617 568.197656 \nL 153.144859 568.197656 \nL 153.144859 568.197656 \nL 134.5861 568.197656 \nL 134.5861 568.197656 \nL 116.027342 568.197656 \nL 116.027342 568.197656 \nL 97.468584 568.197656 \nL 97.468584 568.197656 \nz\n\" style=\"fill:#ff0000;\"/>\n   </g>\n   <g id=\"patch_4\">\n    <path clip-path=\"url(#p1f9aa8a946)\" d=\"M 88.189205 568.197656 \nL 88.189205 388.89576 \nL 97.468584 388.89576 \nL 97.468584 430.577099 \nL 116.027342 430.577099 \nL 116.027342 371.838474 \nL 134.5861 371.838474 \nL 134.5861 332.377469 \nL 153.144859 332.377469 \nL 153.144859 321.668571 \nL 171.703617 321.668571 \nL 171.703617 346.216474 \nL 190.262375 346.216474 \nL 190.262375 396.057736 \nL 208.821134 396.057736 \nL 208.821134 451.714347 \nL 227.379892 451.714347 \nL 227.379892 497.688061 \nL 245.93865 497.688061 \nL 245.93865 528.800776 \nL 264.497409 528.800776 \nL 264.497409 545.18074 \nL 283.056167 545.18074 \nL 283.056167 552.971944 \nL 301.614925 552.971944 \nL 301.614925 555.13216 \nL 320.173683 555.13216 \nL 320.173683 557.713197 \nL 338.732442 557.713197 \nL 338.732442 559.023754 \nL 357.2912 559.023754 \nL 357.2912 561.424439 \nL 375.849958 561.424439 \nL 375.849958 562.594722 \nL 394.408717 562.594722 \nL 394.408717 565.561846 \nL 450.084992 565.561846 \nL 450.084992 567.376053 \nL 468.64375 567.376053 \nL 468.64375 567.694675 \nL 505.761267 567.694675 \nL 505.761267 567.901077 \nL 524.320025 567.901077 \nL 524.320025 568.037343 \nL 542.878783 568.037343 \nL 542.878783 568.125515 \nL 598.555058 568.125515 \nL 598.555058 568.182961 \nL 654.231333 568.182961 \nL 654.231333 568.194221 \nL 849.098295 568.194221 \nL 849.098295 568.197656 \n\" style=\"fill:none;opacity:0.5;stroke:#008000;stroke-linejoin:miter;stroke-width:5;\"/>\n   </g>\n   <g id=\"matplotlib.axis_1\">\n    <g id=\"xtick_1\">\n     <g id=\"line2d_1\">\n      <defs>\n       <path d=\"M 0 0 \nL 0 3.5 \n\" id=\"me7e727adec\" style=\"stroke:#000000;stroke-width:0.8;\"/>\n      </defs>\n      <g>\n       <use style=\"stroke:#000000;stroke-width:0.8;\" x=\"88.189205\" xlink:href=\"#me7e727adec\" y=\"568.197656\"/>\n      </g>\n     </g>\n     <g id=\"text_1\">\n      <!-- 0 -->\n      <defs>\n       <path d=\"M 31.78125 66.40625 \nQ 24.171875 66.40625 20.328125 58.90625 \nQ 16.5 51.421875 16.5 36.375 \nQ 16.5 21.390625 20.328125 13.890625 \nQ 24.171875 6.390625 31.78125 6.390625 \nQ 39.453125 6.390625 43.28125 13.890625 \nQ 47.125 21.390625 47.125 36.375 \nQ 47.125 51.421875 43.28125 58.90625 \nQ 39.453125 66.40625 31.78125 66.40625 \nz\nM 31.78125 74.21875 \nQ 44.046875 74.21875 50.515625 64.515625 \nQ 56.984375 54.828125 56.984375 36.375 \nQ 56.984375 17.96875 50.515625 8.265625 \nQ 44.046875 -1.421875 31.78125 -1.421875 \nQ 19.53125 -1.421875 13.0625 8.265625 \nQ 6.59375 17.96875 6.59375 36.375 \nQ 6.59375 54.828125 13.0625 64.515625 \nQ 19.53125 74.21875 31.78125 74.21875 \nz\n\" id=\"DejaVuSans-48\"/>\n      </defs>\n      <g transform=\"translate(85.007955 582.796094)scale(0.1 -0.1)\">\n       <use xlink:href=\"#DejaVuSans-48\"/>\n      </g>\n     </g>\n    </g>\n    <g id=\"xtick_2\">\n     <g id=\"line2d_2\">\n      <g>\n       <use style=\"stroke:#000000;stroke-width:0.8;\" x=\"273.776788\" xlink:href=\"#me7e727adec\" y=\"568.197656\"/>\n      </g>\n     </g>\n     <g id=\"text_2\">\n      <!-- 10 -->\n      <defs>\n       <path d=\"M 12.40625 8.296875 \nL 28.515625 8.296875 \nL 28.515625 63.921875 \nL 10.984375 60.40625 \nL 10.984375 69.390625 \nL 28.421875 72.90625 \nL 38.28125 72.90625 \nL 38.28125 8.296875 \nL 54.390625 8.296875 \nL 54.390625 0 \nL 12.40625 0 \nz\n\" id=\"DejaVuSans-49\"/>\n      </defs>\n      <g transform=\"translate(267.414288 582.796094)scale(0.1 -0.1)\">\n       <use xlink:href=\"#DejaVuSans-49\"/>\n       <use x=\"63.623047\" xlink:href=\"#DejaVuSans-48\"/>\n      </g>\n     </g>\n    </g>\n    <g id=\"xtick_3\">\n     <g id=\"line2d_3\">\n      <g>\n       <use style=\"stroke:#000000;stroke-width:0.8;\" x=\"459.364371\" xlink:href=\"#me7e727adec\" y=\"568.197656\"/>\n      </g>\n     </g>\n     <g id=\"text_3\">\n      <!-- 20 -->\n      <defs>\n       <path d=\"M 19.1875 8.296875 \nL 53.609375 8.296875 \nL 53.609375 0 \nL 7.328125 0 \nL 7.328125 8.296875 \nQ 12.9375 14.109375 22.625 23.890625 \nQ 32.328125 33.6875 34.8125 36.53125 \nQ 39.546875 41.84375 41.421875 45.53125 \nQ 43.3125 49.21875 43.3125 52.78125 \nQ 43.3125 58.59375 39.234375 62.25 \nQ 35.15625 65.921875 28.609375 65.921875 \nQ 23.96875 65.921875 18.8125 64.3125 \nQ 13.671875 62.703125 7.8125 59.421875 \nL 7.8125 69.390625 \nQ 13.765625 71.78125 18.9375 73 \nQ 24.125 74.21875 28.421875 74.21875 \nQ 39.75 74.21875 46.484375 68.546875 \nQ 53.21875 62.890625 53.21875 53.421875 \nQ 53.21875 48.921875 51.53125 44.890625 \nQ 49.859375 40.875 45.40625 35.40625 \nQ 44.1875 33.984375 37.640625 27.21875 \nQ 31.109375 20.453125 19.1875 8.296875 \nz\n\" id=\"DejaVuSans-50\"/>\n      </defs>\n      <g transform=\"translate(453.001871 582.796094)scale(0.1 -0.1)\">\n       <use xlink:href=\"#DejaVuSans-50\"/>\n       <use x=\"63.623047\" xlink:href=\"#DejaVuSans-48\"/>\n      </g>\n     </g>\n    </g>\n    <g id=\"xtick_4\">\n     <g id=\"line2d_4\">\n      <g>\n       <use style=\"stroke:#000000;stroke-width:0.8;\" x=\"644.951954\" xlink:href=\"#me7e727adec\" y=\"568.197656\"/>\n      </g>\n     </g>\n     <g id=\"text_4\">\n      <!-- 30 -->\n      <defs>\n       <path d=\"M 40.578125 39.3125 \nQ 47.65625 37.796875 51.625 33 \nQ 55.609375 28.21875 55.609375 21.1875 \nQ 55.609375 10.40625 48.1875 4.484375 \nQ 40.765625 -1.421875 27.09375 -1.421875 \nQ 22.515625 -1.421875 17.65625 -0.515625 \nQ 12.796875 0.390625 7.625 2.203125 \nL 7.625 11.71875 \nQ 11.71875 9.328125 16.59375 8.109375 \nQ 21.484375 6.890625 26.8125 6.890625 \nQ 36.078125 6.890625 40.9375 10.546875 \nQ 45.796875 14.203125 45.796875 21.1875 \nQ 45.796875 27.640625 41.28125 31.265625 \nQ 36.765625 34.90625 28.71875 34.90625 \nL 20.21875 34.90625 \nL 20.21875 43.015625 \nL 29.109375 43.015625 \nQ 36.375 43.015625 40.234375 45.921875 \nQ 44.09375 48.828125 44.09375 54.296875 \nQ 44.09375 59.90625 40.109375 62.90625 \nQ 36.140625 65.921875 28.71875 65.921875 \nQ 24.65625 65.921875 20.015625 65.03125 \nQ 15.375 64.15625 9.8125 62.3125 \nL 9.8125 71.09375 \nQ 15.4375 72.65625 20.34375 73.4375 \nQ 25.25 74.21875 29.59375 74.21875 \nQ 40.828125 74.21875 47.359375 69.109375 \nQ 53.90625 64.015625 53.90625 55.328125 \nQ 53.90625 49.265625 50.4375 45.09375 \nQ 46.96875 40.921875 40.578125 39.3125 \nz\n\" id=\"DejaVuSans-51\"/>\n      </defs>\n      <g transform=\"translate(638.589454 582.796094)scale(0.1 -0.1)\">\n       <use xlink:href=\"#DejaVuSans-51\"/>\n       <use x=\"63.623047\" xlink:href=\"#DejaVuSans-48\"/>\n      </g>\n     </g>\n    </g>\n    <g id=\"xtick_5\">\n     <g id=\"line2d_5\">\n      <g>\n       <use style=\"stroke:#000000;stroke-width:0.8;\" x=\"830.539537\" xlink:href=\"#me7e727adec\" y=\"568.197656\"/>\n      </g>\n     </g>\n     <g id=\"text_5\">\n      <!-- 40 -->\n      <defs>\n       <path d=\"M 37.796875 64.3125 \nL 12.890625 25.390625 \nL 37.796875 25.390625 \nz\nM 35.203125 72.90625 \nL 47.609375 72.90625 \nL 47.609375 25.390625 \nL 58.015625 25.390625 \nL 58.015625 17.1875 \nL 47.609375 17.1875 \nL 47.609375 0 \nL 37.796875 0 \nL 37.796875 17.1875 \nL 4.890625 17.1875 \nL 4.890625 26.703125 \nz\n\" id=\"DejaVuSans-52\"/>\n      </defs>\n      <g transform=\"translate(824.177037 582.796094)scale(0.1 -0.1)\">\n       <use xlink:href=\"#DejaVuSans-52\"/>\n       <use x=\"63.623047\" xlink:href=\"#DejaVuSans-48\"/>\n      </g>\n     </g>\n    </g>\n    <g id=\"text_6\">\n     <!-- Nb common words -->\n     <defs>\n      <path d=\"M 9.8125 72.90625 \nL 23.09375 72.90625 \nL 55.421875 11.921875 \nL 55.421875 72.90625 \nL 64.984375 72.90625 \nL 64.984375 0 \nL 51.703125 0 \nL 19.390625 60.984375 \nL 19.390625 0 \nL 9.8125 0 \nz\n\" id=\"DejaVuSans-78\"/>\n      <path d=\"M 48.6875 27.296875 \nQ 48.6875 37.203125 44.609375 42.84375 \nQ 40.53125 48.484375 33.40625 48.484375 \nQ 26.265625 48.484375 22.1875 42.84375 \nQ 18.109375 37.203125 18.109375 27.296875 \nQ 18.109375 17.390625 22.1875 11.75 \nQ 26.265625 6.109375 33.40625 6.109375 \nQ 40.53125 6.109375 44.609375 11.75 \nQ 48.6875 17.390625 48.6875 27.296875 \nz\nM 18.109375 46.390625 \nQ 20.953125 51.265625 25.265625 53.625 \nQ 29.59375 56 35.59375 56 \nQ 45.5625 56 51.78125 48.09375 \nQ 58.015625 40.1875 58.015625 27.296875 \nQ 58.015625 14.40625 51.78125 6.484375 \nQ 45.5625 -1.421875 35.59375 -1.421875 \nQ 29.59375 -1.421875 25.265625 0.953125 \nQ 20.953125 3.328125 18.109375 8.203125 \nL 18.109375 0 \nL 9.078125 0 \nL 9.078125 75.984375 \nL 18.109375 75.984375 \nz\n\" id=\"DejaVuSans-98\"/>\n      <path id=\"DejaVuSans-32\"/>\n      <path d=\"M 48.78125 52.59375 \nL 48.78125 44.1875 \nQ 44.96875 46.296875 41.140625 47.34375 \nQ 37.3125 48.390625 33.40625 48.390625 \nQ 24.65625 48.390625 19.8125 42.84375 \nQ 14.984375 37.3125 14.984375 27.296875 \nQ 14.984375 17.28125 19.8125 11.734375 \nQ 24.65625 6.203125 33.40625 6.203125 \nQ 37.3125 6.203125 41.140625 7.25 \nQ 44.96875 8.296875 48.78125 10.40625 \nL 48.78125 2.09375 \nQ 45.015625 0.34375 40.984375 -0.53125 \nQ 36.96875 -1.421875 32.421875 -1.421875 \nQ 20.0625 -1.421875 12.78125 6.34375 \nQ 5.515625 14.109375 5.515625 27.296875 \nQ 5.515625 40.671875 12.859375 48.328125 \nQ 20.21875 56 33.015625 56 \nQ 37.15625 56 41.109375 55.140625 \nQ 45.0625 54.296875 48.78125 52.59375 \nz\n\" id=\"DejaVuSans-99\"/>\n      <path d=\"M 30.609375 48.390625 \nQ 23.390625 48.390625 19.1875 42.75 \nQ 14.984375 37.109375 14.984375 27.296875 \nQ 14.984375 17.484375 19.15625 11.84375 \nQ 23.34375 6.203125 30.609375 6.203125 \nQ 37.796875 6.203125 41.984375 11.859375 \nQ 46.1875 17.53125 46.1875 27.296875 \nQ 46.1875 37.015625 41.984375 42.703125 \nQ 37.796875 48.390625 30.609375 48.390625 \nz\nM 30.609375 56 \nQ 42.328125 56 49.015625 48.375 \nQ 55.71875 40.765625 55.71875 27.296875 \nQ 55.71875 13.875 49.015625 6.21875 \nQ 42.328125 -1.421875 30.609375 -1.421875 \nQ 18.84375 -1.421875 12.171875 6.21875 \nQ 5.515625 13.875 5.515625 27.296875 \nQ 5.515625 40.765625 12.171875 48.375 \nQ 18.84375 56 30.609375 56 \nz\n\" id=\"DejaVuSans-111\"/>\n      <path d=\"M 52 44.1875 \nQ 55.375 50.25 60.0625 53.125 \nQ 64.75 56 71.09375 56 \nQ 79.640625 56 84.28125 50.015625 \nQ 88.921875 44.046875 88.921875 33.015625 \nL 88.921875 0 \nL 79.890625 0 \nL 79.890625 32.71875 \nQ 79.890625 40.578125 77.09375 44.375 \nQ 74.3125 48.1875 68.609375 48.1875 \nQ 61.625 48.1875 57.5625 43.546875 \nQ 53.515625 38.921875 53.515625 30.90625 \nL 53.515625 0 \nL 44.484375 0 \nL 44.484375 32.71875 \nQ 44.484375 40.625 41.703125 44.40625 \nQ 38.921875 48.1875 33.109375 48.1875 \nQ 26.21875 48.1875 22.15625 43.53125 \nQ 18.109375 38.875 18.109375 30.90625 \nL 18.109375 0 \nL 9.078125 0 \nL 9.078125 54.6875 \nL 18.109375 54.6875 \nL 18.109375 46.1875 \nQ 21.1875 51.21875 25.484375 53.609375 \nQ 29.78125 56 35.6875 56 \nQ 41.65625 56 45.828125 52.96875 \nQ 50 49.953125 52 44.1875 \nz\n\" id=\"DejaVuSans-109\"/>\n      <path d=\"M 54.890625 33.015625 \nL 54.890625 0 \nL 45.90625 0 \nL 45.90625 32.71875 \nQ 45.90625 40.484375 42.875 44.328125 \nQ 39.84375 48.1875 33.796875 48.1875 \nQ 26.515625 48.1875 22.3125 43.546875 \nQ 18.109375 38.921875 18.109375 30.90625 \nL 18.109375 0 \nL 9.078125 0 \nL 9.078125 54.6875 \nL 18.109375 54.6875 \nL 18.109375 46.1875 \nQ 21.34375 51.125 25.703125 53.5625 \nQ 30.078125 56 35.796875 56 \nQ 45.21875 56 50.046875 50.171875 \nQ 54.890625 44.34375 54.890625 33.015625 \nz\n\" id=\"DejaVuSans-110\"/>\n      <path d=\"M 4.203125 54.6875 \nL 13.1875 54.6875 \nL 24.421875 12.015625 \nL 35.59375 54.6875 \nL 46.1875 54.6875 \nL 57.421875 12.015625 \nL 68.609375 54.6875 \nL 77.59375 54.6875 \nL 63.28125 0 \nL 52.6875 0 \nL 40.921875 44.828125 \nL 29.109375 0 \nL 18.5 0 \nz\n\" id=\"DejaVuSans-119\"/>\n      <path d=\"M 41.109375 46.296875 \nQ 39.59375 47.171875 37.8125 47.578125 \nQ 36.03125 48 33.890625 48 \nQ 26.265625 48 22.1875 43.046875 \nQ 18.109375 38.09375 18.109375 28.8125 \nL 18.109375 0 \nL 9.078125 0 \nL 9.078125 54.6875 \nL 18.109375 54.6875 \nL 18.109375 46.1875 \nQ 20.953125 51.171875 25.484375 53.578125 \nQ 30.03125 56 36.53125 56 \nQ 37.453125 56 38.578125 55.875 \nQ 39.703125 55.765625 41.0625 55.515625 \nz\n\" id=\"DejaVuSans-114\"/>\n      <path d=\"M 45.40625 46.390625 \nL 45.40625 75.984375 \nL 54.390625 75.984375 \nL 54.390625 0 \nL 45.40625 0 \nL 45.40625 8.203125 \nQ 42.578125 3.328125 38.25 0.953125 \nQ 33.9375 -1.421875 27.875 -1.421875 \nQ 17.96875 -1.421875 11.734375 6.484375 \nQ 5.515625 14.40625 5.515625 27.296875 \nQ 5.515625 40.1875 11.734375 48.09375 \nQ 17.96875 56 27.875 56 \nQ 33.9375 56 38.25 53.625 \nQ 42.578125 51.265625 45.40625 46.390625 \nz\nM 14.796875 27.296875 \nQ 14.796875 17.390625 18.875 11.75 \nQ 22.953125 6.109375 30.078125 6.109375 \nQ 37.203125 6.109375 41.296875 11.75 \nQ 45.40625 17.390625 45.40625 27.296875 \nQ 45.40625 37.203125 41.296875 42.84375 \nQ 37.203125 48.484375 30.078125 48.484375 \nQ 22.953125 48.484375 18.875 42.84375 \nQ 14.796875 37.203125 14.796875 27.296875 \nz\n\" id=\"DejaVuSans-100\"/>\n      <path d=\"M 44.28125 53.078125 \nL 44.28125 44.578125 \nQ 40.484375 46.53125 36.375 47.5 \nQ 32.28125 48.484375 27.875 48.484375 \nQ 21.1875 48.484375 17.84375 46.4375 \nQ 14.5 44.390625 14.5 40.28125 \nQ 14.5 37.15625 16.890625 35.375 \nQ 19.28125 33.59375 26.515625 31.984375 \nL 29.59375 31.296875 \nQ 39.15625 29.25 43.1875 25.515625 \nQ 47.21875 21.78125 47.21875 15.09375 \nQ 47.21875 7.46875 41.1875 3.015625 \nQ 35.15625 -1.421875 24.609375 -1.421875 \nQ 20.21875 -1.421875 15.453125 -0.5625 \nQ 10.6875 0.296875 5.421875 2 \nL 5.421875 11.28125 \nQ 10.40625 8.6875 15.234375 7.390625 \nQ 20.0625 6.109375 24.8125 6.109375 \nQ 31.15625 6.109375 34.5625 8.28125 \nQ 37.984375 10.453125 37.984375 14.40625 \nQ 37.984375 18.0625 35.515625 20.015625 \nQ 33.0625 21.96875 24.703125 23.78125 \nL 21.578125 24.515625 \nQ 13.234375 26.265625 9.515625 29.90625 \nQ 5.8125 33.546875 5.8125 39.890625 \nQ 5.8125 47.609375 11.28125 51.796875 \nQ 16.75 56 26.8125 56 \nQ 31.78125 56 36.171875 55.265625 \nQ 40.578125 54.546875 44.28125 53.078125 \nz\n\" id=\"DejaVuSans-115\"/>\n     </defs>\n     <g transform=\"translate(421.878125 596.474219)scale(0.1 -0.1)\">\n      <use xlink:href=\"#DejaVuSans-78\"/>\n      <use x=\"74.804688\" xlink:href=\"#DejaVuSans-98\"/>\n      <use x=\"138.28125\" xlink:href=\"#DejaVuSans-32\"/>\n      <use x=\"170.068359\" xlink:href=\"#DejaVuSans-99\"/>\n      <use x=\"225.048828\" xlink:href=\"#DejaVuSans-111\"/>\n      <use x=\"286.230469\" xlink:href=\"#DejaVuSans-109\"/>\n      <use x=\"383.642578\" xlink:href=\"#DejaVuSans-109\"/>\n      <use x=\"481.054688\" xlink:href=\"#DejaVuSans-111\"/>\n      <use x=\"542.236328\" xlink:href=\"#DejaVuSans-110\"/>\n      <use x=\"605.615234\" xlink:href=\"#DejaVuSans-32\"/>\n      <use x=\"637.402344\" xlink:href=\"#DejaVuSans-119\"/>\n      <use x=\"719.189453\" xlink:href=\"#DejaVuSans-111\"/>\n      <use x=\"780.371094\" xlink:href=\"#DejaVuSans-114\"/>\n      <use x=\"819.734375\" xlink:href=\"#DejaVuSans-100\"/>\n      <use x=\"883.210938\" xlink:href=\"#DejaVuSans-115\"/>\n     </g>\n    </g>\n   </g>\n   <g id=\"matplotlib.axis_2\">\n    <g id=\"ytick_1\">\n     <g id=\"line2d_6\">\n      <defs>\n       <path d=\"M 0 0 \nL -3.5 0 \n\" id=\"m1249e02fa5\" style=\"stroke:#000000;stroke-width:0.8;\"/>\n      </defs>\n      <g>\n       <use style=\"stroke:#000000;stroke-width:0.8;\" x=\"50.14375\" xlink:href=\"#m1249e02fa5\" y=\"568.197656\"/>\n      </g>\n     </g>\n     <g id=\"text_7\">\n      <!-- 0.00 -->\n      <defs>\n       <path d=\"M 10.6875 12.40625 \nL 21 12.40625 \nL 21 0 \nL 10.6875 0 \nz\n\" id=\"DejaVuSans-46\"/>\n      </defs>\n      <g transform=\"translate(20.878125 571.996875)scale(0.1 -0.1)\">\n       <use xlink:href=\"#DejaVuSans-48\"/>\n       <use x=\"63.623047\" xlink:href=\"#DejaVuSans-46\"/>\n       <use x=\"95.410156\" xlink:href=\"#DejaVuSans-48\"/>\n       <use x=\"159.033203\" xlink:href=\"#DejaVuSans-48\"/>\n      </g>\n     </g>\n    </g>\n    <g id=\"ytick_2\">\n     <g id=\"line2d_7\">\n      <g>\n       <use style=\"stroke:#000000;stroke-width:0.8;\" x=\"50.14375\" xlink:href=\"#m1249e02fa5\" y=\"487.181559\"/>\n      </g>\n     </g>\n     <g id=\"text_8\">\n      <!-- 0.05 -->\n      <defs>\n       <path d=\"M 10.796875 72.90625 \nL 49.515625 72.90625 \nL 49.515625 64.59375 \nL 19.828125 64.59375 \nL 19.828125 46.734375 \nQ 21.96875 47.46875 24.109375 47.828125 \nQ 26.265625 48.1875 28.421875 48.1875 \nQ 40.625 48.1875 47.75 41.5 \nQ 54.890625 34.8125 54.890625 23.390625 \nQ 54.890625 11.625 47.5625 5.09375 \nQ 40.234375 -1.421875 26.90625 -1.421875 \nQ 22.3125 -1.421875 17.546875 -0.640625 \nQ 12.796875 0.140625 7.71875 1.703125 \nL 7.71875 11.625 \nQ 12.109375 9.234375 16.796875 8.0625 \nQ 21.484375 6.890625 26.703125 6.890625 \nQ 35.15625 6.890625 40.078125 11.328125 \nQ 45.015625 15.765625 45.015625 23.390625 \nQ 45.015625 31 40.078125 35.4375 \nQ 35.15625 39.890625 26.703125 39.890625 \nQ 22.75 39.890625 18.8125 39.015625 \nQ 14.890625 38.140625 10.796875 36.28125 \nz\n\" id=\"DejaVuSans-53\"/>\n      </defs>\n      <g transform=\"translate(20.878125 490.980777)scale(0.1 -0.1)\">\n       <use xlink:href=\"#DejaVuSans-48\"/>\n       <use x=\"63.623047\" xlink:href=\"#DejaVuSans-46\"/>\n       <use x=\"95.410156\" xlink:href=\"#DejaVuSans-48\"/>\n       <use x=\"159.033203\" xlink:href=\"#DejaVuSans-53\"/>\n      </g>\n     </g>\n    </g>\n    <g id=\"ytick_3\">\n     <g id=\"line2d_8\">\n      <g>\n       <use style=\"stroke:#000000;stroke-width:0.8;\" x=\"50.14375\" xlink:href=\"#m1249e02fa5\" y=\"406.165461\"/>\n      </g>\n     </g>\n     <g id=\"text_9\">\n      <!-- 0.10 -->\n      <g transform=\"translate(20.878125 409.96468)scale(0.1 -0.1)\">\n       <use xlink:href=\"#DejaVuSans-48\"/>\n       <use x=\"63.623047\" xlink:href=\"#DejaVuSans-46\"/>\n       <use x=\"95.410156\" xlink:href=\"#DejaVuSans-49\"/>\n       <use x=\"159.033203\" xlink:href=\"#DejaVuSans-48\"/>\n      </g>\n     </g>\n    </g>\n    <g id=\"ytick_4\">\n     <g id=\"line2d_9\">\n      <g>\n       <use style=\"stroke:#000000;stroke-width:0.8;\" x=\"50.14375\" xlink:href=\"#m1249e02fa5\" y=\"325.149363\"/>\n      </g>\n     </g>\n     <g id=\"text_10\">\n      <!-- 0.15 -->\n      <g transform=\"translate(20.878125 328.948582)scale(0.1 -0.1)\">\n       <use xlink:href=\"#DejaVuSans-48\"/>\n       <use x=\"63.623047\" xlink:href=\"#DejaVuSans-46\"/>\n       <use x=\"95.410156\" xlink:href=\"#DejaVuSans-49\"/>\n       <use x=\"159.033203\" xlink:href=\"#DejaVuSans-53\"/>\n      </g>\n     </g>\n    </g>\n    <g id=\"ytick_5\">\n     <g id=\"line2d_10\">\n      <g>\n       <use style=\"stroke:#000000;stroke-width:0.8;\" x=\"50.14375\" xlink:href=\"#m1249e02fa5\" y=\"244.133266\"/>\n      </g>\n     </g>\n     <g id=\"text_11\">\n      <!-- 0.20 -->\n      <g transform=\"translate(20.878125 247.932484)scale(0.1 -0.1)\">\n       <use xlink:href=\"#DejaVuSans-48\"/>\n       <use x=\"63.623047\" xlink:href=\"#DejaVuSans-46\"/>\n       <use x=\"95.410156\" xlink:href=\"#DejaVuSans-50\"/>\n       <use x=\"159.033203\" xlink:href=\"#DejaVuSans-48\"/>\n      </g>\n     </g>\n    </g>\n    <g id=\"ytick_6\">\n     <g id=\"line2d_11\">\n      <g>\n       <use style=\"stroke:#000000;stroke-width:0.8;\" x=\"50.14375\" xlink:href=\"#m1249e02fa5\" y=\"163.117168\"/>\n      </g>\n     </g>\n     <g id=\"text_12\">\n      <!-- 0.25 -->\n      <g transform=\"translate(20.878125 166.916387)scale(0.1 -0.1)\">\n       <use xlink:href=\"#DejaVuSans-48\"/>\n       <use x=\"63.623047\" xlink:href=\"#DejaVuSans-46\"/>\n       <use x=\"95.410156\" xlink:href=\"#DejaVuSans-50\"/>\n       <use x=\"159.033203\" xlink:href=\"#DejaVuSans-53\"/>\n      </g>\n     </g>\n    </g>\n    <g id=\"ytick_7\">\n     <g id=\"line2d_12\">\n      <g>\n       <use style=\"stroke:#000000;stroke-width:0.8;\" x=\"50.14375\" xlink:href=\"#m1249e02fa5\" y=\"82.10107\"/>\n      </g>\n     </g>\n     <g id=\"text_13\">\n      <!-- 0.30 -->\n      <g transform=\"translate(20.878125 85.900289)scale(0.1 -0.1)\">\n       <use xlink:href=\"#DejaVuSans-48\"/>\n       <use x=\"63.623047\" xlink:href=\"#DejaVuSans-46\"/>\n       <use x=\"95.410156\" xlink:href=\"#DejaVuSans-51\"/>\n       <use x=\"159.033203\" xlink:href=\"#DejaVuSans-48\"/>\n      </g>\n     </g>\n    </g>\n    <g id=\"text_14\">\n     <!-- Prob -->\n     <defs>\n      <path d=\"M 19.671875 64.796875 \nL 19.671875 37.40625 \nL 32.078125 37.40625 \nQ 38.96875 37.40625 42.71875 40.96875 \nQ 46.484375 44.53125 46.484375 51.125 \nQ 46.484375 57.671875 42.71875 61.234375 \nQ 38.96875 64.796875 32.078125 64.796875 \nz\nM 9.8125 72.90625 \nL 32.078125 72.90625 \nQ 44.34375 72.90625 50.609375 67.359375 \nQ 56.890625 61.8125 56.890625 51.125 \nQ 56.890625 40.328125 50.609375 34.8125 \nQ 44.34375 29.296875 32.078125 29.296875 \nL 19.671875 29.296875 \nL 19.671875 0 \nL 9.8125 0 \nz\n\" id=\"DejaVuSans-80\"/>\n     </defs>\n     <g transform=\"translate(14.798437 307.501563)rotate(-90)scale(0.1 -0.1)\">\n      <use xlink:href=\"#DejaVuSans-80\"/>\n      <use x=\"58.552734\" xlink:href=\"#DejaVuSans-114\"/>\n      <use x=\"97.416016\" xlink:href=\"#DejaVuSans-111\"/>\n      <use x=\"158.597656\" xlink:href=\"#DejaVuSans-98\"/>\n     </g>\n    </g>\n   </g>\n   <g id=\"patch_5\">\n    <path d=\"M 50.14375 568.197656 \nL 50.14375 24.597656 \n\" style=\"fill:none;stroke:#000000;stroke-linecap:square;stroke-linejoin:miter;stroke-width:0.8;\"/>\n   </g>\n   <g id=\"patch_6\">\n    <path d=\"M 887.14375 568.197656 \nL 887.14375 24.597656 \n\" style=\"fill:none;stroke:#000000;stroke-linecap:square;stroke-linejoin:miter;stroke-width:0.8;\"/>\n   </g>\n   <g id=\"patch_7\">\n    <path d=\"M 50.14375 568.197656 \nL 887.14375 568.197656 \n\" style=\"fill:none;stroke:#000000;stroke-linecap:square;stroke-linejoin:miter;stroke-width:0.8;\"/>\n   </g>\n   <g id=\"patch_8\">\n    <path d=\"M 50.14375 24.597656 \nL 887.14375 24.597656 \n\" style=\"fill:none;stroke:#000000;stroke-linecap:square;stroke-linejoin:miter;stroke-width:0.8;\"/>\n   </g>\n   <g id=\"text_15\">\n    <!-- Training: Distribution of Nb common words with or without nltk stopwords -->\n    <defs>\n     <path d=\"M -0.296875 72.90625 \nL 61.375 72.90625 \nL 61.375 64.59375 \nL 35.5 64.59375 \nL 35.5 0 \nL 25.59375 0 \nL 25.59375 64.59375 \nL -0.296875 64.59375 \nz\n\" id=\"DejaVuSans-84\"/>\n     <path d=\"M 34.28125 27.484375 \nQ 23.390625 27.484375 19.1875 25 \nQ 14.984375 22.515625 14.984375 16.5 \nQ 14.984375 11.71875 18.140625 8.90625 \nQ 21.296875 6.109375 26.703125 6.109375 \nQ 34.1875 6.109375 38.703125 11.40625 \nQ 43.21875 16.703125 43.21875 25.484375 \nL 43.21875 27.484375 \nz\nM 52.203125 31.203125 \nL 52.203125 0 \nL 43.21875 0 \nL 43.21875 8.296875 \nQ 40.140625 3.328125 35.546875 0.953125 \nQ 30.953125 -1.421875 24.3125 -1.421875 \nQ 15.921875 -1.421875 10.953125 3.296875 \nQ 6 8.015625 6 15.921875 \nQ 6 25.140625 12.171875 29.828125 \nQ 18.359375 34.515625 30.609375 34.515625 \nL 43.21875 34.515625 \nL 43.21875 35.40625 \nQ 43.21875 41.609375 39.140625 45 \nQ 35.0625 48.390625 27.6875 48.390625 \nQ 23 48.390625 18.546875 47.265625 \nQ 14.109375 46.140625 10.015625 43.890625 \nL 10.015625 52.203125 \nQ 14.9375 54.109375 19.578125 55.046875 \nQ 24.21875 56 28.609375 56 \nQ 40.484375 56 46.34375 49.84375 \nQ 52.203125 43.703125 52.203125 31.203125 \nz\n\" id=\"DejaVuSans-97\"/>\n     <path d=\"M 9.421875 54.6875 \nL 18.40625 54.6875 \nL 18.40625 0 \nL 9.421875 0 \nz\nM 9.421875 75.984375 \nL 18.40625 75.984375 \nL 18.40625 64.59375 \nL 9.421875 64.59375 \nz\n\" id=\"DejaVuSans-105\"/>\n     <path d=\"M 45.40625 27.984375 \nQ 45.40625 37.75 41.375 43.109375 \nQ 37.359375 48.484375 30.078125 48.484375 \nQ 22.859375 48.484375 18.828125 43.109375 \nQ 14.796875 37.75 14.796875 27.984375 \nQ 14.796875 18.265625 18.828125 12.890625 \nQ 22.859375 7.515625 30.078125 7.515625 \nQ 37.359375 7.515625 41.375 12.890625 \nQ 45.40625 18.265625 45.40625 27.984375 \nz\nM 54.390625 6.78125 \nQ 54.390625 -7.171875 48.1875 -13.984375 \nQ 42 -20.796875 29.203125 -20.796875 \nQ 24.46875 -20.796875 20.265625 -20.09375 \nQ 16.0625 -19.390625 12.109375 -17.921875 \nL 12.109375 -9.1875 \nQ 16.0625 -11.328125 19.921875 -12.34375 \nQ 23.78125 -13.375 27.78125 -13.375 \nQ 36.625 -13.375 41.015625 -8.765625 \nQ 45.40625 -4.15625 45.40625 5.171875 \nL 45.40625 9.625 \nQ 42.625 4.78125 38.28125 2.390625 \nQ 33.9375 0 27.875 0 \nQ 17.828125 0 11.671875 7.65625 \nQ 5.515625 15.328125 5.515625 27.984375 \nQ 5.515625 40.671875 11.671875 48.328125 \nQ 17.828125 56 27.875 56 \nQ 33.9375 56 38.28125 53.609375 \nQ 42.625 51.21875 45.40625 46.390625 \nL 45.40625 54.6875 \nL 54.390625 54.6875 \nz\n\" id=\"DejaVuSans-103\"/>\n     <path d=\"M 11.71875 12.40625 \nL 22.015625 12.40625 \nL 22.015625 0 \nL 11.71875 0 \nz\nM 11.71875 51.703125 \nL 22.015625 51.703125 \nL 22.015625 39.3125 \nL 11.71875 39.3125 \nz\n\" id=\"DejaVuSans-58\"/>\n     <path d=\"M 19.671875 64.796875 \nL 19.671875 8.109375 \nL 31.59375 8.109375 \nQ 46.6875 8.109375 53.6875 14.9375 \nQ 60.6875 21.78125 60.6875 36.53125 \nQ 60.6875 51.171875 53.6875 57.984375 \nQ 46.6875 64.796875 31.59375 64.796875 \nz\nM 9.8125 72.90625 \nL 30.078125 72.90625 \nQ 51.265625 72.90625 61.171875 64.09375 \nQ 71.09375 55.28125 71.09375 36.53125 \nQ 71.09375 17.671875 61.125 8.828125 \nQ 51.171875 0 30.078125 0 \nL 9.8125 0 \nz\n\" id=\"DejaVuSans-68\"/>\n     <path d=\"M 18.3125 70.21875 \nL 18.3125 54.6875 \nL 36.8125 54.6875 \nL 36.8125 47.703125 \nL 18.3125 47.703125 \nL 18.3125 18.015625 \nQ 18.3125 11.328125 20.140625 9.421875 \nQ 21.96875 7.515625 27.59375 7.515625 \nL 36.8125 7.515625 \nL 36.8125 0 \nL 27.59375 0 \nQ 17.1875 0 13.234375 3.875 \nQ 9.28125 7.765625 9.28125 18.015625 \nL 9.28125 47.703125 \nL 2.6875 47.703125 \nL 2.6875 54.6875 \nL 9.28125 54.6875 \nL 9.28125 70.21875 \nz\n\" id=\"DejaVuSans-116\"/>\n     <path d=\"M 8.5 21.578125 \nL 8.5 54.6875 \nL 17.484375 54.6875 \nL 17.484375 21.921875 \nQ 17.484375 14.15625 20.5 10.265625 \nQ 23.53125 6.390625 29.59375 6.390625 \nQ 36.859375 6.390625 41.078125 11.03125 \nQ 45.3125 15.671875 45.3125 23.6875 \nL 45.3125 54.6875 \nL 54.296875 54.6875 \nL 54.296875 0 \nL 45.3125 0 \nL 45.3125 8.40625 \nQ 42.046875 3.421875 37.71875 1 \nQ 33.40625 -1.421875 27.6875 -1.421875 \nQ 18.265625 -1.421875 13.375 4.4375 \nQ 8.5 10.296875 8.5 21.578125 \nz\nM 31.109375 56 \nz\n\" id=\"DejaVuSans-117\"/>\n     <path d=\"M 37.109375 75.984375 \nL 37.109375 68.5 \nL 28.515625 68.5 \nQ 23.6875 68.5 21.796875 66.546875 \nQ 19.921875 64.59375 19.921875 59.515625 \nL 19.921875 54.6875 \nL 34.71875 54.6875 \nL 34.71875 47.703125 \nL 19.921875 47.703125 \nL 19.921875 0 \nL 10.890625 0 \nL 10.890625 47.703125 \nL 2.296875 47.703125 \nL 2.296875 54.6875 \nL 10.890625 54.6875 \nL 10.890625 58.5 \nQ 10.890625 67.625 15.140625 71.796875 \nQ 19.390625 75.984375 28.609375 75.984375 \nz\n\" id=\"DejaVuSans-102\"/>\n     <path d=\"M 54.890625 33.015625 \nL 54.890625 0 \nL 45.90625 0 \nL 45.90625 32.71875 \nQ 45.90625 40.484375 42.875 44.328125 \nQ 39.84375 48.1875 33.796875 48.1875 \nQ 26.515625 48.1875 22.3125 43.546875 \nQ 18.109375 38.921875 18.109375 30.90625 \nL 18.109375 0 \nL 9.078125 0 \nL 9.078125 75.984375 \nL 18.109375 75.984375 \nL 18.109375 46.1875 \nQ 21.34375 51.125 25.703125 53.5625 \nQ 30.078125 56 35.796875 56 \nQ 45.21875 56 50.046875 50.171875 \nQ 54.890625 44.34375 54.890625 33.015625 \nz\n\" id=\"DejaVuSans-104\"/>\n     <path d=\"M 9.421875 75.984375 \nL 18.40625 75.984375 \nL 18.40625 0 \nL 9.421875 0 \nz\n\" id=\"DejaVuSans-108\"/>\n     <path d=\"M 9.078125 75.984375 \nL 18.109375 75.984375 \nL 18.109375 31.109375 \nL 44.921875 54.6875 \nL 56.390625 54.6875 \nL 27.390625 29.109375 \nL 57.625 0 \nL 45.90625 0 \nL 18.109375 26.703125 \nL 18.109375 0 \nL 9.078125 0 \nz\n\" id=\"DejaVuSans-107\"/>\n     <path d=\"M 18.109375 8.203125 \nL 18.109375 -20.796875 \nL 9.078125 -20.796875 \nL 9.078125 54.6875 \nL 18.109375 54.6875 \nL 18.109375 46.390625 \nQ 20.953125 51.265625 25.265625 53.625 \nQ 29.59375 56 35.59375 56 \nQ 45.5625 56 51.78125 48.09375 \nQ 58.015625 40.1875 58.015625 27.296875 \nQ 58.015625 14.40625 51.78125 6.484375 \nQ 45.5625 -1.421875 35.59375 -1.421875 \nQ 29.59375 -1.421875 25.265625 0.953125 \nQ 20.953125 3.328125 18.109375 8.203125 \nz\nM 48.6875 27.296875 \nQ 48.6875 37.203125 44.609375 42.84375 \nQ 40.53125 48.484375 33.40625 48.484375 \nQ 26.265625 48.484375 22.1875 42.84375 \nQ 18.109375 37.203125 18.109375 27.296875 \nQ 18.109375 17.390625 22.1875 11.75 \nQ 26.265625 6.109375 33.40625 6.109375 \nQ 40.53125 6.109375 44.609375 11.75 \nQ 48.6875 17.390625 48.6875 27.296875 \nz\n\" id=\"DejaVuSans-112\"/>\n    </defs>\n    <g transform=\"translate(191.892578 18.597656)scale(0.15 -0.15)\">\n     <use xlink:href=\"#DejaVuSans-84\"/>\n     <use x=\"46.333984\" xlink:href=\"#DejaVuSans-114\"/>\n     <use x=\"87.447266\" xlink:href=\"#DejaVuSans-97\"/>\n     <use x=\"148.726562\" xlink:href=\"#DejaVuSans-105\"/>\n     <use x=\"176.509766\" xlink:href=\"#DejaVuSans-110\"/>\n     <use x=\"239.888672\" xlink:href=\"#DejaVuSans-105\"/>\n     <use x=\"267.671875\" xlink:href=\"#DejaVuSans-110\"/>\n     <use x=\"331.050781\" xlink:href=\"#DejaVuSans-103\"/>\n     <use x=\"394.527344\" xlink:href=\"#DejaVuSans-58\"/>\n     <use x=\"428.21875\" xlink:href=\"#DejaVuSans-32\"/>\n     <use x=\"460.005859\" xlink:href=\"#DejaVuSans-68\"/>\n     <use x=\"537.007812\" xlink:href=\"#DejaVuSans-105\"/>\n     <use x=\"564.791016\" xlink:href=\"#DejaVuSans-115\"/>\n     <use x=\"616.890625\" xlink:href=\"#DejaVuSans-116\"/>\n     <use x=\"656.099609\" xlink:href=\"#DejaVuSans-114\"/>\n     <use x=\"697.212891\" xlink:href=\"#DejaVuSans-105\"/>\n     <use x=\"724.996094\" xlink:href=\"#DejaVuSans-98\"/>\n     <use x=\"788.472656\" xlink:href=\"#DejaVuSans-117\"/>\n     <use x=\"851.851562\" xlink:href=\"#DejaVuSans-116\"/>\n     <use x=\"891.060547\" xlink:href=\"#DejaVuSans-105\"/>\n     <use x=\"918.84375\" xlink:href=\"#DejaVuSans-111\"/>\n     <use x=\"980.025391\" xlink:href=\"#DejaVuSans-110\"/>\n     <use x=\"1043.404297\" xlink:href=\"#DejaVuSans-32\"/>\n     <use x=\"1075.191406\" xlink:href=\"#DejaVuSans-111\"/>\n     <use x=\"1136.373047\" xlink:href=\"#DejaVuSans-102\"/>\n     <use x=\"1171.578125\" xlink:href=\"#DejaVuSans-32\"/>\n     <use x=\"1203.365234\" xlink:href=\"#DejaVuSans-78\"/>\n     <use x=\"1278.169922\" xlink:href=\"#DejaVuSans-98\"/>\n     <use x=\"1341.646484\" xlink:href=\"#DejaVuSans-32\"/>\n     <use x=\"1373.433594\" xlink:href=\"#DejaVuSans-99\"/>\n     <use x=\"1428.414062\" xlink:href=\"#DejaVuSans-111\"/>\n     <use x=\"1489.595703\" xlink:href=\"#DejaVuSans-109\"/>\n     <use x=\"1587.007812\" xlink:href=\"#DejaVuSans-109\"/>\n     <use x=\"1684.419922\" xlink:href=\"#DejaVuSans-111\"/>\n     <use x=\"1745.601562\" xlink:href=\"#DejaVuSans-110\"/>\n     <use x=\"1808.980469\" xlink:href=\"#DejaVuSans-32\"/>\n     <use x=\"1840.767578\" xlink:href=\"#DejaVuSans-119\"/>\n     <use x=\"1922.554688\" xlink:href=\"#DejaVuSans-111\"/>\n     <use x=\"1983.736328\" xlink:href=\"#DejaVuSans-114\"/>\n     <use x=\"2023.099609\" xlink:href=\"#DejaVuSans-100\"/>\n     <use x=\"2086.576172\" xlink:href=\"#DejaVuSans-115\"/>\n     <use x=\"2138.675781\" xlink:href=\"#DejaVuSans-32\"/>\n     <use x=\"2170.462891\" xlink:href=\"#DejaVuSans-119\"/>\n     <use x=\"2252.25\" xlink:href=\"#DejaVuSans-105\"/>\n     <use x=\"2280.033203\" xlink:href=\"#DejaVuSans-116\"/>\n     <use x=\"2319.242188\" xlink:href=\"#DejaVuSans-104\"/>\n     <use x=\"2382.621094\" xlink:href=\"#DejaVuSans-32\"/>\n     <use x=\"2414.408203\" xlink:href=\"#DejaVuSans-111\"/>\n     <use x=\"2475.589844\" xlink:href=\"#DejaVuSans-114\"/>\n     <use x=\"2516.703125\" xlink:href=\"#DejaVuSans-32\"/>\n     <use x=\"2548.490234\" xlink:href=\"#DejaVuSans-119\"/>\n     <use x=\"2630.277344\" xlink:href=\"#DejaVuSans-105\"/>\n     <use x=\"2658.060547\" xlink:href=\"#DejaVuSans-116\"/>\n     <use x=\"2697.269531\" xlink:href=\"#DejaVuSans-104\"/>\n     <use x=\"2760.648438\" xlink:href=\"#DejaVuSans-111\"/>\n     <use x=\"2821.830078\" xlink:href=\"#DejaVuSans-117\"/>\n     <use x=\"2885.208984\" xlink:href=\"#DejaVuSans-116\"/>\n     <use x=\"2924.417969\" xlink:href=\"#DejaVuSans-32\"/>\n     <use x=\"2956.205078\" xlink:href=\"#DejaVuSans-110\"/>\n     <use x=\"3019.583984\" xlink:href=\"#DejaVuSans-108\"/>\n     <use x=\"3047.367188\" xlink:href=\"#DejaVuSans-116\"/>\n     <use x=\"3086.576172\" xlink:href=\"#DejaVuSans-107\"/>\n     <use x=\"3144.486328\" xlink:href=\"#DejaVuSans-32\"/>\n     <use x=\"3176.273438\" xlink:href=\"#DejaVuSans-115\"/>\n     <use x=\"3228.373047\" xlink:href=\"#DejaVuSans-116\"/>\n     <use x=\"3267.582031\" xlink:href=\"#DejaVuSans-111\"/>\n     <use x=\"3328.763672\" xlink:href=\"#DejaVuSans-112\"/>\n     <use x=\"3392.240234\" xlink:href=\"#DejaVuSans-119\"/>\n     <use x=\"3474.027344\" xlink:href=\"#DejaVuSans-111\"/>\n     <use x=\"3535.208984\" xlink:href=\"#DejaVuSans-114\"/>\n     <use x=\"3574.572266\" xlink:href=\"#DejaVuSans-100\"/>\n     <use x=\"3638.048828\" xlink:href=\"#DejaVuSans-115\"/>\n    </g>\n   </g>\n   <g id=\"legend_1\">\n    <g id=\"patch_9\">\n     <path d=\"M 637.273438 61.953906 \nL 880.14375 61.953906 \nQ 882.14375 61.953906 882.14375 59.953906 \nL 882.14375 31.597656 \nQ 882.14375 29.597656 880.14375 29.597656 \nL 637.273438 29.597656 \nQ 635.273438 29.597656 635.273438 31.597656 \nL 635.273438 59.953906 \nQ 635.273438 61.953906 637.273438 61.953906 \nz\n\" style=\"fill:#ffffff;opacity:0.8;stroke:#cccccc;stroke-linejoin:miter;\"/>\n    </g>\n    <g id=\"patch_10\">\n     <path d=\"M 639.273438 41.196094 \nL 659.273438 41.196094 \nL 659.273438 34.196094 \nL 639.273438 34.196094 \nz\n\" style=\"fill:#ff0000;\"/>\n    </g>\n    <g id=\"text_16\">\n     <!-- Nb common words without nltk stopwords -->\n     <g transform=\"translate(667.273438 41.196094)scale(0.1 -0.1)\">\n      <use xlink:href=\"#DejaVuSans-78\"/>\n      <use x=\"74.804688\" xlink:href=\"#DejaVuSans-98\"/>\n      <use x=\"138.28125\" xlink:href=\"#DejaVuSans-32\"/>\n      <use x=\"170.068359\" xlink:href=\"#DejaVuSans-99\"/>\n      <use x=\"225.048828\" xlink:href=\"#DejaVuSans-111\"/>\n      <use x=\"286.230469\" xlink:href=\"#DejaVuSans-109\"/>\n      <use x=\"383.642578\" xlink:href=\"#DejaVuSans-109\"/>\n      <use x=\"481.054688\" xlink:href=\"#DejaVuSans-111\"/>\n      <use x=\"542.236328\" xlink:href=\"#DejaVuSans-110\"/>\n      <use x=\"605.615234\" xlink:href=\"#DejaVuSans-32\"/>\n      <use x=\"637.402344\" xlink:href=\"#DejaVuSans-119\"/>\n      <use x=\"719.189453\" xlink:href=\"#DejaVuSans-111\"/>\n      <use x=\"780.371094\" xlink:href=\"#DejaVuSans-114\"/>\n      <use x=\"819.734375\" xlink:href=\"#DejaVuSans-100\"/>\n      <use x=\"883.210938\" xlink:href=\"#DejaVuSans-115\"/>\n      <use x=\"935.310547\" xlink:href=\"#DejaVuSans-32\"/>\n      <use x=\"967.097656\" xlink:href=\"#DejaVuSans-119\"/>\n      <use x=\"1048.884766\" xlink:href=\"#DejaVuSans-105\"/>\n      <use x=\"1076.667969\" xlink:href=\"#DejaVuSans-116\"/>\n      <use x=\"1115.876953\" xlink:href=\"#DejaVuSans-104\"/>\n      <use x=\"1179.255859\" xlink:href=\"#DejaVuSans-111\"/>\n      <use x=\"1240.4375\" xlink:href=\"#DejaVuSans-117\"/>\n      <use x=\"1303.816406\" xlink:href=\"#DejaVuSans-116\"/>\n      <use x=\"1343.025391\" xlink:href=\"#DejaVuSans-32\"/>\n      <use x=\"1374.8125\" xlink:href=\"#DejaVuSans-110\"/>\n      <use x=\"1438.191406\" xlink:href=\"#DejaVuSans-108\"/>\n      <use x=\"1465.974609\" xlink:href=\"#DejaVuSans-116\"/>\n      <use x=\"1505.183594\" xlink:href=\"#DejaVuSans-107\"/>\n      <use x=\"1563.09375\" xlink:href=\"#DejaVuSans-32\"/>\n      <use x=\"1594.880859\" xlink:href=\"#DejaVuSans-115\"/>\n      <use x=\"1646.980469\" xlink:href=\"#DejaVuSans-116\"/>\n      <use x=\"1686.189453\" xlink:href=\"#DejaVuSans-111\"/>\n      <use x=\"1747.371094\" xlink:href=\"#DejaVuSans-112\"/>\n      <use x=\"1810.847656\" xlink:href=\"#DejaVuSans-119\"/>\n      <use x=\"1892.634766\" xlink:href=\"#DejaVuSans-111\"/>\n      <use x=\"1953.816406\" xlink:href=\"#DejaVuSans-114\"/>\n      <use x=\"1993.179688\" xlink:href=\"#DejaVuSans-100\"/>\n      <use x=\"2056.65625\" xlink:href=\"#DejaVuSans-115\"/>\n     </g>\n    </g>\n    <g id=\"patch_11\">\n     <path d=\"M 639.273438 55.874219 \nL 659.273438 55.874219 \nL 659.273438 48.874219 \nL 639.273438 48.874219 \nz\n\" style=\"fill:none;opacity:0.5;stroke:#008000;stroke-linejoin:miter;stroke-width:5;\"/>\n    </g>\n    <g id=\"text_17\">\n     <!-- Nb common words -->\n     <g transform=\"translate(667.273438 55.874219)scale(0.1 -0.1)\">\n      <use xlink:href=\"#DejaVuSans-78\"/>\n      <use x=\"74.804688\" xlink:href=\"#DejaVuSans-98\"/>\n      <use x=\"138.28125\" xlink:href=\"#DejaVuSans-32\"/>\n      <use x=\"170.068359\" xlink:href=\"#DejaVuSans-99\"/>\n      <use x=\"225.048828\" xlink:href=\"#DejaVuSans-111\"/>\n      <use x=\"286.230469\" xlink:href=\"#DejaVuSans-109\"/>\n      <use x=\"383.642578\" xlink:href=\"#DejaVuSans-109\"/>\n      <use x=\"481.054688\" xlink:href=\"#DejaVuSans-111\"/>\n      <use x=\"542.236328\" xlink:href=\"#DejaVuSans-110\"/>\n      <use x=\"605.615234\" xlink:href=\"#DejaVuSans-32\"/>\n      <use x=\"637.402344\" xlink:href=\"#DejaVuSans-119\"/>\n      <use x=\"719.189453\" xlink:href=\"#DejaVuSans-111\"/>\n      <use x=\"780.371094\" xlink:href=\"#DejaVuSans-114\"/>\n      <use x=\"819.734375\" xlink:href=\"#DejaVuSans-100\"/>\n      <use x=\"883.210938\" xlink:href=\"#DejaVuSans-115\"/>\n     </g>\n    </g>\n   </g>\n  </g>\n </g>\n <defs>\n  <clipPath id=\"p1f9aa8a946\">\n   <rect height=\"543.6\" width=\"837\" x=\"50.14375\" y=\"24.597656\"/>\n  </clipPath>\n </defs>\n</svg>\n",
      "image/png": "[encoded data removed]"
     },
     "metadata": {
      "needs_background": "light"
     }
    },
    {
     "output_type": "display_data",
     "data": {
      "text/plain": "&lt;Figure size 1080x720 with 1 Axes&gt;",
      "image/svg+xml": "<?xml version=\"1.0\" encoding=\"utf-8\" standalone=\"no\"?>\n<!DOCTYPE svg PUBLIC \"-//W3C//DTD SVG 1.1//EN\"\n  \"http://www.w3.org/Graphics/SVG/1.1/DTD/svg11.dtd\">\n<!-- Created with matplotlib (https://matplotlib.org/) -->\n<svg height=\"605.753906pt\" version=\"1.1\" viewBox=\"0 0 887.98125 605.753906\" width=\"887.98125pt\" xmlns=\"http://www.w3.org/2000/svg\" xmlns:xlink=\"http://www.w3.org/1999/xlink\">\n <defs>\n  <style type=\"text/css\">\n*{stroke-linecap:butt;stroke-linejoin:round;}\n  </style>\n </defs>\n <g id=\"figure_1\">\n  <g id=\"patch_1\">\n   <path d=\"M 0 605.753906 \nL 887.98125 605.753906 \nL 887.98125 0 \nL 0 0 \nz\n\" style=\"fill:none;\"/>\n  </g>\n  <g id=\"axes_1\">\n   <g id=\"patch_2\">\n    <path d=\"M 43.78125 568.197656 \nL 880.78125 568.197656 \nL 880.78125 24.597656 \nL 43.78125 24.597656 \nz\n\" style=\"fill:#ffffff;\"/>\n   </g>\n   <g id=\"patch_3\">\n    <path clip-path=\"url(#p21128572c3)\" d=\"M 81.826705 568.197656 \nL 81.826705 50.483371 \nL 90.885146 50.483371 \nL 90.885146 309.731817 \nL 109.002029 309.731817 \nL 109.002029 342.773988 \nL 127.118912 342.773988 \nL 127.118912 459.071463 \nL 145.235795 459.071463 \nL 145.235795 529.445596 \nL 163.352679 529.445596 \nL 163.352679 553.963634 \nL 181.469562 553.963634 \nL 181.469562 561.049184 \nL 199.586445 561.049184 \nL 199.586445 563.785164 \nL 217.703328 563.785164 \nL 217.703328 565.587522 \nL 235.820211 565.587522 \nL 235.820211 566.840481 \nL 253.937094 566.840481 \nL 253.937094 567.399318 \nL 272.053977 567.399318 \nL 272.053977 567.569604 \nL 290.17086 567.569604 \nL 290.17086 567.841747 \nL 308.287744 567.841747 \nL 308.287744 568.037595 \nL 326.404627 568.037595 \nL 326.404627 568.126868 \nL 344.52151 568.126868 \nL 344.52151 568.154397 \nL 362.638393 568.154397 \nL 362.638393 568.17347 \nL 398.872159 568.17347 \nL 398.872159 568.187824 \nL 416.989042 568.187824 \nL 416.989042 568.195442 \nL 661.566964 568.195442 \nL 661.566964 568.197656 \nL 416.989042 568.197656 \nL 416.989042 568.197656 \nL 398.872159 568.197656 \nL 398.872159 568.197656 \nL 362.638393 568.197656 \nL 362.638393 568.197656 \nL 344.52151 568.197656 \nL 344.52151 568.197656 \nL 326.404627 568.197656 \nL 326.404627 568.197656 \nL 308.287744 568.197656 \nL 308.287744 568.197656 \nL 290.17086 568.197656 \nL 290.17086 568.197656 \nL 272.053977 568.197656 \nL 272.053977 568.197656 \nL 253.937094 568.197656 \nL 253.937094 568.197656 \nL 235.820211 568.197656 \nL 235.820211 568.197656 \nL 217.703328 568.197656 \nL 217.703328 568.197656 \nL 199.586445 568.197656 \nL 199.586445 568.197656 \nL 181.469562 568.197656 \nL 181.469562 568.197656 \nL 163.352679 568.197656 \nL 163.352679 568.197656 \nL 145.235795 568.197656 \nL 145.235795 568.197656 \nL 127.118912 568.197656 \nL 127.118912 568.197656 \nL 109.002029 568.197656 \nL 109.002029 568.197656 \nL 90.885146 568.197656 \nL 90.885146 568.197656 \nz\n\" style=\"fill:#ff0000;\"/>\n   </g>\n   <g id=\"patch_4\">\n    <path clip-path=\"url(#p21128572c3)\" d=\"M 81.826705 568.197656 \nL 81.826705 359.633089 \nL 90.885146 359.633089 \nL 90.885146 423.963444 \nL 109.002029 423.963444 \nL 109.002029 410.274495 \nL 127.118912 410.274495 \nL 127.118912 420.334347 \nL 145.235795 420.334347 \nL 145.235795 445.182339 \nL 163.352679 445.182339 \nL 163.352679 476.30771 \nL 181.469562 476.30771 \nL 181.469562 507.356001 \nL 199.586445 507.356001 \nL 199.586445 531.963311 \nL 217.703328 531.963311 \nL 217.703328 548.039411 \nL 235.820211 548.039411 \nL 235.820211 557.229743 \nL 253.937094 557.229743 \nL 253.937094 561.384643 \nL 272.053977 561.384643 \nL 272.053977 563.628643 \nL 290.17086 563.628643 \nL 290.17086 564.671989 \nL 308.287744 564.671989 \nL 308.287744 565.292569 \nL 326.404627 565.292569 \nL 326.404627 566.005568 \nL 344.52151 566.005568 \nL 344.52151 566.588001 \nL 362.638393 566.588001 \nL 362.638393 567.195997 \nL 380.755276 567.195997 \nL 380.755276 567.413475 \nL 398.872159 567.413475 \nL 398.872159 567.586908 \nL 416.989042 567.586908 \nL 416.989042 567.7977 \nL 435.105925 567.7977 \nL 435.105925 567.992369 \nL 453.222808 567.992369 \nL 453.222808 568.043101 \nL 471.339692 568.043101 \nL 471.339692 568.082035 \nL 489.456575 568.082035 \nL 489.456575 568.125688 \nL 507.573458 568.125688 \nL 507.573458 568.153217 \nL 525.690341 568.153217 \nL 525.690341 568.171307 \nL 561.924107 568.171307 \nL 561.924107 568.186251 \nL 598.157873 568.186251 \nL 598.157873 568.193183 \nL 743.092938 568.193183 \nL 743.092938 568.196369 \nL 842.735795 568.196369 \nL 842.735795 568.197656 \n\" style=\"fill:none;opacity:0.25;stroke:#008000;stroke-linejoin:miter;stroke-width:5;\"/>\n   </g>\n   <g id=\"matplotlib.axis_1\">\n    <g id=\"xtick_1\">\n     <g id=\"line2d_1\">\n      <defs>\n       <path d=\"M 0 0 \nL 0 3.5 \n\" id=\"ma63148b720\" style=\"stroke:#000000;stroke-width:0.8;\"/>\n      </defs>\n      <g>\n       <use style=\"stroke:#000000;stroke-width:0.8;\" x=\"81.826705\" xlink:href=\"#ma63148b720\" y=\"568.197656\"/>\n      </g>\n     </g>\n     <g id=\"text_1\">\n      <!-- 0 -->\n      <defs>\n       <path d=\"M 31.78125 66.40625 \nQ 24.171875 66.40625 20.328125 58.90625 \nQ 16.5 51.421875 16.5 36.375 \nQ 16.5 21.390625 20.328125 13.890625 \nQ 24.171875 6.390625 31.78125 6.390625 \nQ 39.453125 6.390625 43.28125 13.890625 \nQ 47.125 21.390625 47.125 36.375 \nQ 47.125 51.421875 43.28125 58.90625 \nQ 39.453125 66.40625 31.78125 66.40625 \nz\nM 31.78125 74.21875 \nQ 44.046875 74.21875 50.515625 64.515625 \nQ 56.984375 54.828125 56.984375 36.375 \nQ 56.984375 17.96875 50.515625 8.265625 \nQ 44.046875 -1.421875 31.78125 -1.421875 \nQ 19.53125 -1.421875 13.0625 8.265625 \nQ 6.59375 17.96875 6.59375 36.375 \nQ 6.59375 54.828125 13.0625 64.515625 \nQ 19.53125 74.21875 31.78125 74.21875 \nz\n\" id=\"DejaVuSans-48\"/>\n      </defs>\n      <g transform=\"translate(78.645455 582.796094)scale(0.1 -0.1)\">\n       <use xlink:href=\"#DejaVuSans-48\"/>\n      </g>\n     </g>\n    </g>\n    <g id=\"xtick_2\">\n     <g id=\"line2d_2\">\n      <g>\n       <use style=\"stroke:#000000;stroke-width:0.8;\" x=\"262.995536\" xlink:href=\"#ma63148b720\" y=\"568.197656\"/>\n      </g>\n     </g>\n     <g id=\"text_2\">\n      <!-- 10 -->\n      <defs>\n       <path d=\"M 12.40625 8.296875 \nL 28.515625 8.296875 \nL 28.515625 63.921875 \nL 10.984375 60.40625 \nL 10.984375 69.390625 \nL 28.421875 72.90625 \nL 38.28125 72.90625 \nL 38.28125 8.296875 \nL 54.390625 8.296875 \nL 54.390625 0 \nL 12.40625 0 \nz\n\" id=\"DejaVuSans-49\"/>\n      </defs>\n      <g transform=\"translate(256.633036 582.796094)scale(0.1 -0.1)\">\n       <use xlink:href=\"#DejaVuSans-49\"/>\n       <use x=\"63.623047\" xlink:href=\"#DejaVuSans-48\"/>\n      </g>\n     </g>\n    </g>\n    <g id=\"xtick_3\">\n     <g id=\"line2d_3\">\n      <g>\n       <use style=\"stroke:#000000;stroke-width:0.8;\" x=\"444.164367\" xlink:href=\"#ma63148b720\" y=\"568.197656\"/>\n      </g>\n     </g>\n     <g id=\"text_3\">\n      <!-- 20 -->\n      <defs>\n       <path d=\"M 19.1875 8.296875 \nL 53.609375 8.296875 \nL 53.609375 0 \nL 7.328125 0 \nL 7.328125 8.296875 \nQ 12.9375 14.109375 22.625 23.890625 \nQ 32.328125 33.6875 34.8125 36.53125 \nQ 39.546875 41.84375 41.421875 45.53125 \nQ 43.3125 49.21875 43.3125 52.78125 \nQ 43.3125 58.59375 39.234375 62.25 \nQ 35.15625 65.921875 28.609375 65.921875 \nQ 23.96875 65.921875 18.8125 64.3125 \nQ 13.671875 62.703125 7.8125 59.421875 \nL 7.8125 69.390625 \nQ 13.765625 71.78125 18.9375 73 \nQ 24.125 74.21875 28.421875 74.21875 \nQ 39.75 74.21875 46.484375 68.546875 \nQ 53.21875 62.890625 53.21875 53.421875 \nQ 53.21875 48.921875 51.53125 44.890625 \nQ 49.859375 40.875 45.40625 35.40625 \nQ 44.1875 33.984375 37.640625 27.21875 \nQ 31.109375 20.453125 19.1875 8.296875 \nz\n\" id=\"DejaVuSans-50\"/>\n      </defs>\n      <g transform=\"translate(437.801867 582.796094)scale(0.1 -0.1)\">\n       <use xlink:href=\"#DejaVuSans-50\"/>\n       <use x=\"63.623047\" xlink:href=\"#DejaVuSans-48\"/>\n      </g>\n     </g>\n    </g>\n    <g id=\"xtick_4\">\n     <g id=\"line2d_4\">\n      <g>\n       <use style=\"stroke:#000000;stroke-width:0.8;\" x=\"625.333198\" xlink:href=\"#ma63148b720\" y=\"568.197656\"/>\n      </g>\n     </g>\n     <g id=\"text_4\">\n      <!-- 30 -->\n      <defs>\n       <path d=\"M 40.578125 39.3125 \nQ 47.65625 37.796875 51.625 33 \nQ 55.609375 28.21875 55.609375 21.1875 \nQ 55.609375 10.40625 48.1875 4.484375 \nQ 40.765625 -1.421875 27.09375 -1.421875 \nQ 22.515625 -1.421875 17.65625 -0.515625 \nQ 12.796875 0.390625 7.625 2.203125 \nL 7.625 11.71875 \nQ 11.71875 9.328125 16.59375 8.109375 \nQ 21.484375 6.890625 26.8125 6.890625 \nQ 36.078125 6.890625 40.9375 10.546875 \nQ 45.796875 14.203125 45.796875 21.1875 \nQ 45.796875 27.640625 41.28125 31.265625 \nQ 36.765625 34.90625 28.71875 34.90625 \nL 20.21875 34.90625 \nL 20.21875 43.015625 \nL 29.109375 43.015625 \nQ 36.375 43.015625 40.234375 45.921875 \nQ 44.09375 48.828125 44.09375 54.296875 \nQ 44.09375 59.90625 40.109375 62.90625 \nQ 36.140625 65.921875 28.71875 65.921875 \nQ 24.65625 65.921875 20.015625 65.03125 \nQ 15.375 64.15625 9.8125 62.3125 \nL 9.8125 71.09375 \nQ 15.4375 72.65625 20.34375 73.4375 \nQ 25.25 74.21875 29.59375 74.21875 \nQ 40.828125 74.21875 47.359375 69.109375 \nQ 53.90625 64.015625 53.90625 55.328125 \nQ 53.90625 49.265625 50.4375 45.09375 \nQ 46.96875 40.921875 40.578125 39.3125 \nz\n\" id=\"DejaVuSans-51\"/>\n      </defs>\n      <g transform=\"translate(618.970698 582.796094)scale(0.1 -0.1)\">\n       <use xlink:href=\"#DejaVuSans-51\"/>\n       <use x=\"63.623047\" xlink:href=\"#DejaVuSans-48\"/>\n      </g>\n     </g>\n    </g>\n    <g id=\"xtick_5\">\n     <g id=\"line2d_5\">\n      <g>\n       <use style=\"stroke:#000000;stroke-width:0.8;\" x=\"806.502029\" xlink:href=\"#ma63148b720\" y=\"568.197656\"/>\n      </g>\n     </g>\n     <g id=\"text_5\">\n      <!-- 40 -->\n      <defs>\n       <path d=\"M 37.796875 64.3125 \nL 12.890625 25.390625 \nL 37.796875 25.390625 \nz\nM 35.203125 72.90625 \nL 47.609375 72.90625 \nL 47.609375 25.390625 \nL 58.015625 25.390625 \nL 58.015625 17.1875 \nL 47.609375 17.1875 \nL 47.609375 0 \nL 37.796875 0 \nL 37.796875 17.1875 \nL 4.890625 17.1875 \nL 4.890625 26.703125 \nz\n\" id=\"DejaVuSans-52\"/>\n      </defs>\n      <g transform=\"translate(800.139529 582.796094)scale(0.1 -0.1)\">\n       <use xlink:href=\"#DejaVuSans-52\"/>\n       <use x=\"63.623047\" xlink:href=\"#DejaVuSans-48\"/>\n      </g>\n     </g>\n    </g>\n    <g id=\"text_6\">\n     <!-- Nb common words -->\n     <defs>\n      <path d=\"M 9.8125 72.90625 \nL 23.09375 72.90625 \nL 55.421875 11.921875 \nL 55.421875 72.90625 \nL 64.984375 72.90625 \nL 64.984375 0 \nL 51.703125 0 \nL 19.390625 60.984375 \nL 19.390625 0 \nL 9.8125 0 \nz\n\" id=\"DejaVuSans-78\"/>\n      <path d=\"M 48.6875 27.296875 \nQ 48.6875 37.203125 44.609375 42.84375 \nQ 40.53125 48.484375 33.40625 48.484375 \nQ 26.265625 48.484375 22.1875 42.84375 \nQ 18.109375 37.203125 18.109375 27.296875 \nQ 18.109375 17.390625 22.1875 11.75 \nQ 26.265625 6.109375 33.40625 6.109375 \nQ 40.53125 6.109375 44.609375 11.75 \nQ 48.6875 17.390625 48.6875 27.296875 \nz\nM 18.109375 46.390625 \nQ 20.953125 51.265625 25.265625 53.625 \nQ 29.59375 56 35.59375 56 \nQ 45.5625 56 51.78125 48.09375 \nQ 58.015625 40.1875 58.015625 27.296875 \nQ 58.015625 14.40625 51.78125 6.484375 \nQ 45.5625 -1.421875 35.59375 -1.421875 \nQ 29.59375 -1.421875 25.265625 0.953125 \nQ 20.953125 3.328125 18.109375 8.203125 \nL 18.109375 0 \nL 9.078125 0 \nL 9.078125 75.984375 \nL 18.109375 75.984375 \nz\n\" id=\"DejaVuSans-98\"/>\n      <path id=\"DejaVuSans-32\"/>\n      <path d=\"M 48.78125 52.59375 \nL 48.78125 44.1875 \nQ 44.96875 46.296875 41.140625 47.34375 \nQ 37.3125 48.390625 33.40625 48.390625 \nQ 24.65625 48.390625 19.8125 42.84375 \nQ 14.984375 37.3125 14.984375 27.296875 \nQ 14.984375 17.28125 19.8125 11.734375 \nQ 24.65625 6.203125 33.40625 6.203125 \nQ 37.3125 6.203125 41.140625 7.25 \nQ 44.96875 8.296875 48.78125 10.40625 \nL 48.78125 2.09375 \nQ 45.015625 0.34375 40.984375 -0.53125 \nQ 36.96875 -1.421875 32.421875 -1.421875 \nQ 20.0625 -1.421875 12.78125 6.34375 \nQ 5.515625 14.109375 5.515625 27.296875 \nQ 5.515625 40.671875 12.859375 48.328125 \nQ 20.21875 56 33.015625 56 \nQ 37.15625 56 41.109375 55.140625 \nQ 45.0625 54.296875 48.78125 52.59375 \nz\n\" id=\"DejaVuSans-99\"/>\n      <path d=\"M 30.609375 48.390625 \nQ 23.390625 48.390625 19.1875 42.75 \nQ 14.984375 37.109375 14.984375 27.296875 \nQ 14.984375 17.484375 19.15625 11.84375 \nQ 23.34375 6.203125 30.609375 6.203125 \nQ 37.796875 6.203125 41.984375 11.859375 \nQ 46.1875 17.53125 46.1875 27.296875 \nQ 46.1875 37.015625 41.984375 42.703125 \nQ 37.796875 48.390625 30.609375 48.390625 \nz\nM 30.609375 56 \nQ 42.328125 56 49.015625 48.375 \nQ 55.71875 40.765625 55.71875 27.296875 \nQ 55.71875 13.875 49.015625 6.21875 \nQ 42.328125 -1.421875 30.609375 -1.421875 \nQ 18.84375 -1.421875 12.171875 6.21875 \nQ 5.515625 13.875 5.515625 27.296875 \nQ 5.515625 40.765625 12.171875 48.375 \nQ 18.84375 56 30.609375 56 \nz\n\" id=\"DejaVuSans-111\"/>\n      <path d=\"M 52 44.1875 \nQ 55.375 50.25 60.0625 53.125 \nQ 64.75 56 71.09375 56 \nQ 79.640625 56 84.28125 50.015625 \nQ 88.921875 44.046875 88.921875 33.015625 \nL 88.921875 0 \nL 79.890625 0 \nL 79.890625 32.71875 \nQ 79.890625 40.578125 77.09375 44.375 \nQ 74.3125 48.1875 68.609375 48.1875 \nQ 61.625 48.1875 57.5625 43.546875 \nQ 53.515625 38.921875 53.515625 30.90625 \nL 53.515625 0 \nL 44.484375 0 \nL 44.484375 32.71875 \nQ 44.484375 40.625 41.703125 44.40625 \nQ 38.921875 48.1875 33.109375 48.1875 \nQ 26.21875 48.1875 22.15625 43.53125 \nQ 18.109375 38.875 18.109375 30.90625 \nL 18.109375 0 \nL 9.078125 0 \nL 9.078125 54.6875 \nL 18.109375 54.6875 \nL 18.109375 46.1875 \nQ 21.1875 51.21875 25.484375 53.609375 \nQ 29.78125 56 35.6875 56 \nQ 41.65625 56 45.828125 52.96875 \nQ 50 49.953125 52 44.1875 \nz\n\" id=\"DejaVuSans-109\"/>\n      <path d=\"M 54.890625 33.015625 \nL 54.890625 0 \nL 45.90625 0 \nL 45.90625 32.71875 \nQ 45.90625 40.484375 42.875 44.328125 \nQ 39.84375 48.1875 33.796875 48.1875 \nQ 26.515625 48.1875 22.3125 43.546875 \nQ 18.109375 38.921875 18.109375 30.90625 \nL 18.109375 0 \nL 9.078125 0 \nL 9.078125 54.6875 \nL 18.109375 54.6875 \nL 18.109375 46.1875 \nQ 21.34375 51.125 25.703125 53.5625 \nQ 30.078125 56 35.796875 56 \nQ 45.21875 56 50.046875 50.171875 \nQ 54.890625 44.34375 54.890625 33.015625 \nz\n\" id=\"DejaVuSans-110\"/>\n      <path d=\"M 4.203125 54.6875 \nL 13.1875 54.6875 \nL 24.421875 12.015625 \nL 35.59375 54.6875 \nL 46.1875 54.6875 \nL 57.421875 12.015625 \nL 68.609375 54.6875 \nL 77.59375 54.6875 \nL 63.28125 0 \nL 52.6875 0 \nL 40.921875 44.828125 \nL 29.109375 0 \nL 18.5 0 \nz\n\" id=\"DejaVuSans-119\"/>\n      <path d=\"M 41.109375 46.296875 \nQ 39.59375 47.171875 37.8125 47.578125 \nQ 36.03125 48 33.890625 48 \nQ 26.265625 48 22.1875 43.046875 \nQ 18.109375 38.09375 18.109375 28.8125 \nL 18.109375 0 \nL 9.078125 0 \nL 9.078125 54.6875 \nL 18.109375 54.6875 \nL 18.109375 46.1875 \nQ 20.953125 51.171875 25.484375 53.578125 \nQ 30.03125 56 36.53125 56 \nQ 37.453125 56 38.578125 55.875 \nQ 39.703125 55.765625 41.0625 55.515625 \nz\n\" id=\"DejaVuSans-114\"/>\n      <path d=\"M 45.40625 46.390625 \nL 45.40625 75.984375 \nL 54.390625 75.984375 \nL 54.390625 0 \nL 45.40625 0 \nL 45.40625 8.203125 \nQ 42.578125 3.328125 38.25 0.953125 \nQ 33.9375 -1.421875 27.875 -1.421875 \nQ 17.96875 -1.421875 11.734375 6.484375 \nQ 5.515625 14.40625 5.515625 27.296875 \nQ 5.515625 40.1875 11.734375 48.09375 \nQ 17.96875 56 27.875 56 \nQ 33.9375 56 38.25 53.625 \nQ 42.578125 51.265625 45.40625 46.390625 \nz\nM 14.796875 27.296875 \nQ 14.796875 17.390625 18.875 11.75 \nQ 22.953125 6.109375 30.078125 6.109375 \nQ 37.203125 6.109375 41.296875 11.75 \nQ 45.40625 17.390625 45.40625 27.296875 \nQ 45.40625 37.203125 41.296875 42.84375 \nQ 37.203125 48.484375 30.078125 48.484375 \nQ 22.953125 48.484375 18.875 42.84375 \nQ 14.796875 37.203125 14.796875 27.296875 \nz\n\" id=\"DejaVuSans-100\"/>\n      <path d=\"M 44.28125 53.078125 \nL 44.28125 44.578125 \nQ 40.484375 46.53125 36.375 47.5 \nQ 32.28125 48.484375 27.875 48.484375 \nQ 21.1875 48.484375 17.84375 46.4375 \nQ 14.5 44.390625 14.5 40.28125 \nQ 14.5 37.15625 16.890625 35.375 \nQ 19.28125 33.59375 26.515625 31.984375 \nL 29.59375 31.296875 \nQ 39.15625 29.25 43.1875 25.515625 \nQ 47.21875 21.78125 47.21875 15.09375 \nQ 47.21875 7.46875 41.1875 3.015625 \nQ 35.15625 -1.421875 24.609375 -1.421875 \nQ 20.21875 -1.421875 15.453125 -0.5625 \nQ 10.6875 0.296875 5.421875 2 \nL 5.421875 11.28125 \nQ 10.40625 8.6875 15.234375 7.390625 \nQ 20.0625 6.109375 24.8125 6.109375 \nQ 31.15625 6.109375 34.5625 8.28125 \nQ 37.984375 10.453125 37.984375 14.40625 \nQ 37.984375 18.0625 35.515625 20.015625 \nQ 33.0625 21.96875 24.703125 23.78125 \nL 21.578125 24.515625 \nQ 13.234375 26.265625 9.515625 29.90625 \nQ 5.8125 33.546875 5.8125 39.890625 \nQ 5.8125 47.609375 11.28125 51.796875 \nQ 16.75 56 26.8125 56 \nQ 31.78125 56 36.171875 55.265625 \nQ 40.578125 54.546875 44.28125 53.078125 \nz\n\" id=\"DejaVuSans-115\"/>\n     </defs>\n     <g transform=\"translate(415.515625 596.474219)scale(0.1 -0.1)\">\n      <use xlink:href=\"#DejaVuSans-78\"/>\n      <use x=\"74.804688\" xlink:href=\"#DejaVuSans-98\"/>\n      <use x=\"138.28125\" xlink:href=\"#DejaVuSans-32\"/>\n      <use x=\"170.068359\" xlink:href=\"#DejaVuSans-99\"/>\n      <use x=\"225.048828\" xlink:href=\"#DejaVuSans-111\"/>\n      <use x=\"286.230469\" xlink:href=\"#DejaVuSans-109\"/>\n      <use x=\"383.642578\" xlink:href=\"#DejaVuSans-109\"/>\n      <use x=\"481.054688\" xlink:href=\"#DejaVuSans-111\"/>\n      <use x=\"542.236328\" xlink:href=\"#DejaVuSans-110\"/>\n      <use x=\"605.615234\" xlink:href=\"#DejaVuSans-32\"/>\n      <use x=\"637.402344\" xlink:href=\"#DejaVuSans-119\"/>\n      <use x=\"719.189453\" xlink:href=\"#DejaVuSans-111\"/>\n      <use x=\"780.371094\" xlink:href=\"#DejaVuSans-114\"/>\n      <use x=\"819.734375\" xlink:href=\"#DejaVuSans-100\"/>\n      <use x=\"883.210938\" xlink:href=\"#DejaVuSans-115\"/>\n     </g>\n    </g>\n   </g>\n   <g id=\"matplotlib.axis_2\">\n    <g id=\"ytick_1\">\n     <g id=\"line2d_6\">\n      <defs>\n       <path d=\"M 0 0 \nL -3.5 0 \n\" id=\"mbdd8305efe\" style=\"stroke:#000000;stroke-width:0.8;\"/>\n      </defs>\n      <g>\n       <use style=\"stroke:#000000;stroke-width:0.8;\" x=\"43.78125\" xlink:href=\"#mbdd8305efe\" y=\"568.197656\"/>\n      </g>\n     </g>\n     <g id=\"text_7\">\n      <!-- 0.0 -->\n      <defs>\n       <path d=\"M 10.6875 12.40625 \nL 21 12.40625 \nL 21 0 \nL 10.6875 0 \nz\n\" id=\"DejaVuSans-46\"/>\n      </defs>\n      <g transform=\"translate(20.878125 571.996875)scale(0.1 -0.1)\">\n       <use xlink:href=\"#DejaVuSans-48\"/>\n       <use x=\"63.623047\" xlink:href=\"#DejaVuSans-46\"/>\n       <use x=\"95.410156\" xlink:href=\"#DejaVuSans-48\"/>\n      </g>\n     </g>\n    </g>\n    <g id=\"ytick_2\">\n     <g id=\"line2d_7\">\n      <g>\n       <use style=\"stroke:#000000;stroke-width:0.8;\" x=\"43.78125\" xlink:href=\"#mbdd8305efe\" y=\"475.944486\"/>\n      </g>\n     </g>\n     <g id=\"text_8\">\n      <!-- 0.1 -->\n      <g transform=\"translate(20.878125 479.743705)scale(0.1 -0.1)\">\n       <use xlink:href=\"#DejaVuSans-48\"/>\n       <use x=\"63.623047\" xlink:href=\"#DejaVuSans-46\"/>\n       <use x=\"95.410156\" xlink:href=\"#DejaVuSans-49\"/>\n      </g>\n     </g>\n    </g>\n    <g id=\"ytick_3\">\n     <g id=\"line2d_8\">\n      <g>\n       <use style=\"stroke:#000000;stroke-width:0.8;\" x=\"43.78125\" xlink:href=\"#mbdd8305efe\" y=\"383.691316\"/>\n      </g>\n     </g>\n     <g id=\"text_9\">\n      <!-- 0.2 -->\n      <g transform=\"translate(20.878125 387.490534)scale(0.1 -0.1)\">\n       <use xlink:href=\"#DejaVuSans-48\"/>\n       <use x=\"63.623047\" xlink:href=\"#DejaVuSans-46\"/>\n       <use x=\"95.410156\" xlink:href=\"#DejaVuSans-50\"/>\n      </g>\n     </g>\n    </g>\n    <g id=\"ytick_4\">\n     <g id=\"line2d_9\">\n      <g>\n       <use style=\"stroke:#000000;stroke-width:0.8;\" x=\"43.78125\" xlink:href=\"#mbdd8305efe\" y=\"291.438145\"/>\n      </g>\n     </g>\n     <g id=\"text_10\">\n      <!-- 0.3 -->\n      <g transform=\"translate(20.878125 295.237364)scale(0.1 -0.1)\">\n       <use xlink:href=\"#DejaVuSans-48\"/>\n       <use x=\"63.623047\" xlink:href=\"#DejaVuSans-46\"/>\n       <use x=\"95.410156\" xlink:href=\"#DejaVuSans-51\"/>\n      </g>\n     </g>\n    </g>\n    <g id=\"ytick_5\">\n     <g id=\"line2d_10\">\n      <g>\n       <use style=\"stroke:#000000;stroke-width:0.8;\" x=\"43.78125\" xlink:href=\"#mbdd8305efe\" y=\"199.184975\"/>\n      </g>\n     </g>\n     <g id=\"text_11\">\n      <!-- 0.4 -->\n      <g transform=\"translate(20.878125 202.984194)scale(0.1 -0.1)\">\n       <use xlink:href=\"#DejaVuSans-48\"/>\n       <use x=\"63.623047\" xlink:href=\"#DejaVuSans-46\"/>\n       <use x=\"95.410156\" xlink:href=\"#DejaVuSans-52\"/>\n      </g>\n     </g>\n    </g>\n    <g id=\"ytick_6\">\n     <g id=\"line2d_11\">\n      <g>\n       <use style=\"stroke:#000000;stroke-width:0.8;\" x=\"43.78125\" xlink:href=\"#mbdd8305efe\" y=\"106.931804\"/>\n      </g>\n     </g>\n     <g id=\"text_12\">\n      <!-- 0.5 -->\n      <defs>\n       <path d=\"M 10.796875 72.90625 \nL 49.515625 72.90625 \nL 49.515625 64.59375 \nL 19.828125 64.59375 \nL 19.828125 46.734375 \nQ 21.96875 47.46875 24.109375 47.828125 \nQ 26.265625 48.1875 28.421875 48.1875 \nQ 40.625 48.1875 47.75 41.5 \nQ 54.890625 34.8125 54.890625 23.390625 \nQ 54.890625 11.625 47.5625 5.09375 \nQ 40.234375 -1.421875 26.90625 -1.421875 \nQ 22.3125 -1.421875 17.546875 -0.640625 \nQ 12.796875 0.140625 7.71875 1.703125 \nL 7.71875 11.625 \nQ 12.109375 9.234375 16.796875 8.0625 \nQ 21.484375 6.890625 26.703125 6.890625 \nQ 35.15625 6.890625 40.078125 11.328125 \nQ 45.015625 15.765625 45.015625 23.390625 \nQ 45.015625 31 40.078125 35.4375 \nQ 35.15625 39.890625 26.703125 39.890625 \nQ 22.75 39.890625 18.8125 39.015625 \nQ 14.890625 38.140625 10.796875 36.28125 \nz\n\" id=\"DejaVuSans-53\"/>\n      </defs>\n      <g transform=\"translate(20.878125 110.731023)scale(0.1 -0.1)\">\n       <use xlink:href=\"#DejaVuSans-48\"/>\n       <use x=\"63.623047\" xlink:href=\"#DejaVuSans-46\"/>\n       <use x=\"95.410156\" xlink:href=\"#DejaVuSans-53\"/>\n      </g>\n     </g>\n    </g>\n    <g id=\"text_13\">\n     <!-- Prob -->\n     <defs>\n      <path d=\"M 19.671875 64.796875 \nL 19.671875 37.40625 \nL 32.078125 37.40625 \nQ 38.96875 37.40625 42.71875 40.96875 \nQ 46.484375 44.53125 46.484375 51.125 \nQ 46.484375 57.671875 42.71875 61.234375 \nQ 38.96875 64.796875 32.078125 64.796875 \nz\nM 9.8125 72.90625 \nL 32.078125 72.90625 \nQ 44.34375 72.90625 50.609375 67.359375 \nQ 56.890625 61.8125 56.890625 51.125 \nQ 56.890625 40.328125 50.609375 34.8125 \nQ 44.34375 29.296875 32.078125 29.296875 \nL 19.671875 29.296875 \nL 19.671875 0 \nL 9.8125 0 \nz\n\" id=\"DejaVuSans-80\"/>\n     </defs>\n     <g transform=\"translate(14.798438 307.501563)rotate(-90)scale(0.1 -0.1)\">\n      <use xlink:href=\"#DejaVuSans-80\"/>\n      <use x=\"58.552734\" xlink:href=\"#DejaVuSans-114\"/>\n      <use x=\"97.416016\" xlink:href=\"#DejaVuSans-111\"/>\n      <use x=\"158.597656\" xlink:href=\"#DejaVuSans-98\"/>\n     </g>\n    </g>\n   </g>\n   <g id=\"patch_5\">\n    <path d=\"M 43.78125 568.197656 \nL 43.78125 24.597656 \n\" style=\"fill:none;stroke:#000000;stroke-linecap:square;stroke-linejoin:miter;stroke-width:0.8;\"/>\n   </g>\n   <g id=\"patch_6\">\n    <path d=\"M 880.78125 568.197656 \nL 880.78125 24.597656 \n\" style=\"fill:none;stroke:#000000;stroke-linecap:square;stroke-linejoin:miter;stroke-width:0.8;\"/>\n   </g>\n   <g id=\"patch_7\">\n    <path d=\"M 43.78125 568.197656 \nL 880.78125 568.197656 \n\" style=\"fill:none;stroke:#000000;stroke-linecap:square;stroke-linejoin:miter;stroke-width:0.8;\"/>\n   </g>\n   <g id=\"patch_8\">\n    <path d=\"M 43.78125 24.597656 \nL 880.78125 24.597656 \n\" style=\"fill:none;stroke:#000000;stroke-linecap:square;stroke-linejoin:miter;stroke-width:0.8;\"/>\n   </g>\n   <g id=\"text_14\">\n    <!-- Challenge: Distribution of Nb common words with or without nltk stopwords -->\n    <defs>\n     <path d=\"M 64.40625 67.28125 \nL 64.40625 56.890625 \nQ 59.421875 61.53125 53.78125 63.8125 \nQ 48.140625 66.109375 41.796875 66.109375 \nQ 29.296875 66.109375 22.65625 58.46875 \nQ 16.015625 50.828125 16.015625 36.375 \nQ 16.015625 21.96875 22.65625 14.328125 \nQ 29.296875 6.6875 41.796875 6.6875 \nQ 48.140625 6.6875 53.78125 8.984375 \nQ 59.421875 11.28125 64.40625 15.921875 \nL 64.40625 5.609375 \nQ 59.234375 2.09375 53.4375 0.328125 \nQ 47.65625 -1.421875 41.21875 -1.421875 \nQ 24.65625 -1.421875 15.125 8.703125 \nQ 5.609375 18.84375 5.609375 36.375 \nQ 5.609375 53.953125 15.125 64.078125 \nQ 24.65625 74.21875 41.21875 74.21875 \nQ 47.75 74.21875 53.53125 72.484375 \nQ 59.328125 70.75 64.40625 67.28125 \nz\n\" id=\"DejaVuSans-67\"/>\n     <path d=\"M 54.890625 33.015625 \nL 54.890625 0 \nL 45.90625 0 \nL 45.90625 32.71875 \nQ 45.90625 40.484375 42.875 44.328125 \nQ 39.84375 48.1875 33.796875 48.1875 \nQ 26.515625 48.1875 22.3125 43.546875 \nQ 18.109375 38.921875 18.109375 30.90625 \nL 18.109375 0 \nL 9.078125 0 \nL 9.078125 75.984375 \nL 18.109375 75.984375 \nL 18.109375 46.1875 \nQ 21.34375 51.125 25.703125 53.5625 \nQ 30.078125 56 35.796875 56 \nQ 45.21875 56 50.046875 50.171875 \nQ 54.890625 44.34375 54.890625 33.015625 \nz\n\" id=\"DejaVuSans-104\"/>\n     <path d=\"M 34.28125 27.484375 \nQ 23.390625 27.484375 19.1875 25 \nQ 14.984375 22.515625 14.984375 16.5 \nQ 14.984375 11.71875 18.140625 8.90625 \nQ 21.296875 6.109375 26.703125 6.109375 \nQ 34.1875 6.109375 38.703125 11.40625 \nQ 43.21875 16.703125 43.21875 25.484375 \nL 43.21875 27.484375 \nz\nM 52.203125 31.203125 \nL 52.203125 0 \nL 43.21875 0 \nL 43.21875 8.296875 \nQ 40.140625 3.328125 35.546875 0.953125 \nQ 30.953125 -1.421875 24.3125 -1.421875 \nQ 15.921875 -1.421875 10.953125 3.296875 \nQ 6 8.015625 6 15.921875 \nQ 6 25.140625 12.171875 29.828125 \nQ 18.359375 34.515625 30.609375 34.515625 \nL 43.21875 34.515625 \nL 43.21875 35.40625 \nQ 43.21875 41.609375 39.140625 45 \nQ 35.0625 48.390625 27.6875 48.390625 \nQ 23 48.390625 18.546875 47.265625 \nQ 14.109375 46.140625 10.015625 43.890625 \nL 10.015625 52.203125 \nQ 14.9375 54.109375 19.578125 55.046875 \nQ 24.21875 56 28.609375 56 \nQ 40.484375 56 46.34375 49.84375 \nQ 52.203125 43.703125 52.203125 31.203125 \nz\n\" id=\"DejaVuSans-97\"/>\n     <path d=\"M 9.421875 75.984375 \nL 18.40625 75.984375 \nL 18.40625 0 \nL 9.421875 0 \nz\n\" id=\"DejaVuSans-108\"/>\n     <path d=\"M 56.203125 29.59375 \nL 56.203125 25.203125 \nL 14.890625 25.203125 \nQ 15.484375 15.921875 20.484375 11.0625 \nQ 25.484375 6.203125 34.421875 6.203125 \nQ 39.59375 6.203125 44.453125 7.46875 \nQ 49.3125 8.734375 54.109375 11.28125 \nL 54.109375 2.78125 \nQ 49.265625 0.734375 44.1875 -0.34375 \nQ 39.109375 -1.421875 33.890625 -1.421875 \nQ 20.796875 -1.421875 13.15625 6.1875 \nQ 5.515625 13.8125 5.515625 26.8125 \nQ 5.515625 40.234375 12.765625 48.109375 \nQ 20.015625 56 32.328125 56 \nQ 43.359375 56 49.78125 48.890625 \nQ 56.203125 41.796875 56.203125 29.59375 \nz\nM 47.21875 32.234375 \nQ 47.125 39.59375 43.09375 43.984375 \nQ 39.0625 48.390625 32.421875 48.390625 \nQ 24.90625 48.390625 20.390625 44.140625 \nQ 15.875 39.890625 15.1875 32.171875 \nz\n\" id=\"DejaVuSans-101\"/>\n     <path d=\"M 45.40625 27.984375 \nQ 45.40625 37.75 41.375 43.109375 \nQ 37.359375 48.484375 30.078125 48.484375 \nQ 22.859375 48.484375 18.828125 43.109375 \nQ 14.796875 37.75 14.796875 27.984375 \nQ 14.796875 18.265625 18.828125 12.890625 \nQ 22.859375 7.515625 30.078125 7.515625 \nQ 37.359375 7.515625 41.375 12.890625 \nQ 45.40625 18.265625 45.40625 27.984375 \nz\nM 54.390625 6.78125 \nQ 54.390625 -7.171875 48.1875 -13.984375 \nQ 42 -20.796875 29.203125 -20.796875 \nQ 24.46875 -20.796875 20.265625 -20.09375 \nQ 16.0625 -19.390625 12.109375 -17.921875 \nL 12.109375 -9.1875 \nQ 16.0625 -11.328125 19.921875 -12.34375 \nQ 23.78125 -13.375 27.78125 -13.375 \nQ 36.625 -13.375 41.015625 -8.765625 \nQ 45.40625 -4.15625 45.40625 5.171875 \nL 45.40625 9.625 \nQ 42.625 4.78125 38.28125 2.390625 \nQ 33.9375 0 27.875 0 \nQ 17.828125 0 11.671875 7.65625 \nQ 5.515625 15.328125 5.515625 27.984375 \nQ 5.515625 40.671875 11.671875 48.328125 \nQ 17.828125 56 27.875 56 \nQ 33.9375 56 38.28125 53.609375 \nQ 42.625 51.21875 45.40625 46.390625 \nL 45.40625 54.6875 \nL 54.390625 54.6875 \nz\n\" id=\"DejaVuSans-103\"/>\n     <path d=\"M 11.71875 12.40625 \nL 22.015625 12.40625 \nL 22.015625 0 \nL 11.71875 0 \nz\nM 11.71875 51.703125 \nL 22.015625 51.703125 \nL 22.015625 39.3125 \nL 11.71875 39.3125 \nz\n\" id=\"DejaVuSans-58\"/>\n     <path d=\"M 19.671875 64.796875 \nL 19.671875 8.109375 \nL 31.59375 8.109375 \nQ 46.6875 8.109375 53.6875 14.9375 \nQ 60.6875 21.78125 60.6875 36.53125 \nQ 60.6875 51.171875 53.6875 57.984375 \nQ 46.6875 64.796875 31.59375 64.796875 \nz\nM 9.8125 72.90625 \nL 30.078125 72.90625 \nQ 51.265625 72.90625 61.171875 64.09375 \nQ 71.09375 55.28125 71.09375 36.53125 \nQ 71.09375 17.671875 61.125 8.828125 \nQ 51.171875 0 30.078125 0 \nL 9.8125 0 \nz\n\" id=\"DejaVuSans-68\"/>\n     <path d=\"M 9.421875 54.6875 \nL 18.40625 54.6875 \nL 18.40625 0 \nL 9.421875 0 \nz\nM 9.421875 75.984375 \nL 18.40625 75.984375 \nL 18.40625 64.59375 \nL 9.421875 64.59375 \nz\n\" id=\"DejaVuSans-105\"/>\n     <path d=\"M 18.3125 70.21875 \nL 18.3125 54.6875 \nL 36.8125 54.6875 \nL 36.8125 47.703125 \nL 18.3125 47.703125 \nL 18.3125 18.015625 \nQ 18.3125 11.328125 20.140625 9.421875 \nQ 21.96875 7.515625 27.59375 7.515625 \nL 36.8125 7.515625 \nL 36.8125 0 \nL 27.59375 0 \nQ 17.1875 0 13.234375 3.875 \nQ 9.28125 7.765625 9.28125 18.015625 \nL 9.28125 47.703125 \nL 2.6875 47.703125 \nL 2.6875 54.6875 \nL 9.28125 54.6875 \nL 9.28125 70.21875 \nz\n\" id=\"DejaVuSans-116\"/>\n     <path d=\"M 8.5 21.578125 \nL 8.5 54.6875 \nL 17.484375 54.6875 \nL 17.484375 21.921875 \nQ 17.484375 14.15625 20.5 10.265625 \nQ 23.53125 6.390625 29.59375 6.390625 \nQ 36.859375 6.390625 41.078125 11.03125 \nQ 45.3125 15.671875 45.3125 23.6875 \nL 45.3125 54.6875 \nL 54.296875 54.6875 \nL 54.296875 0 \nL 45.3125 0 \nL 45.3125 8.40625 \nQ 42.046875 3.421875 37.71875 1 \nQ 33.40625 -1.421875 27.6875 -1.421875 \nQ 18.265625 -1.421875 13.375 4.4375 \nQ 8.5 10.296875 8.5 21.578125 \nz\nM 31.109375 56 \nz\n\" id=\"DejaVuSans-117\"/>\n     <path d=\"M 37.109375 75.984375 \nL 37.109375 68.5 \nL 28.515625 68.5 \nQ 23.6875 68.5 21.796875 66.546875 \nQ 19.921875 64.59375 19.921875 59.515625 \nL 19.921875 54.6875 \nL 34.71875 54.6875 \nL 34.71875 47.703125 \nL 19.921875 47.703125 \nL 19.921875 0 \nL 10.890625 0 \nL 10.890625 47.703125 \nL 2.296875 47.703125 \nL 2.296875 54.6875 \nL 10.890625 54.6875 \nL 10.890625 58.5 \nQ 10.890625 67.625 15.140625 71.796875 \nQ 19.390625 75.984375 28.609375 75.984375 \nz\n\" id=\"DejaVuSans-102\"/>\n     <path d=\"M 9.078125 75.984375 \nL 18.109375 75.984375 \nL 18.109375 31.109375 \nL 44.921875 54.6875 \nL 56.390625 54.6875 \nL 27.390625 29.109375 \nL 57.625 0 \nL 45.90625 0 \nL 18.109375 26.703125 \nL 18.109375 0 \nL 9.078125 0 \nz\n\" id=\"DejaVuSans-107\"/>\n     <path d=\"M 18.109375 8.203125 \nL 18.109375 -20.796875 \nL 9.078125 -20.796875 \nL 9.078125 54.6875 \nL 18.109375 54.6875 \nL 18.109375 46.390625 \nQ 20.953125 51.265625 25.265625 53.625 \nQ 29.59375 56 35.59375 56 \nQ 45.5625 56 51.78125 48.09375 \nQ 58.015625 40.1875 58.015625 27.296875 \nQ 58.015625 14.40625 51.78125 6.484375 \nQ 45.5625 -1.421875 35.59375 -1.421875 \nQ 29.59375 -1.421875 25.265625 0.953125 \nQ 20.953125 3.328125 18.109375 8.203125 \nz\nM 48.6875 27.296875 \nQ 48.6875 37.203125 44.609375 42.84375 \nQ 40.53125 48.484375 33.40625 48.484375 \nQ 26.265625 48.484375 22.1875 42.84375 \nQ 18.109375 37.203125 18.109375 27.296875 \nQ 18.109375 17.390625 22.1875 11.75 \nQ 26.265625 6.109375 33.40625 6.109375 \nQ 40.53125 6.109375 44.609375 11.75 \nQ 48.6875 17.390625 48.6875 27.296875 \nz\n\" id=\"DejaVuSans-112\"/>\n    </defs>\n    <g transform=\"translate(177.621094 18.597656)scale(0.15 -0.15)\">\n     <use xlink:href=\"#DejaVuSans-67\"/>\n     <use x=\"69.824219\" xlink:href=\"#DejaVuSans-104\"/>\n     <use x=\"133.203125\" xlink:href=\"#DejaVuSans-97\"/>\n     <use x=\"194.482422\" xlink:href=\"#DejaVuSans-108\"/>\n     <use x=\"222.265625\" xlink:href=\"#DejaVuSans-108\"/>\n     <use x=\"250.048828\" xlink:href=\"#DejaVuSans-101\"/>\n     <use x=\"311.572266\" xlink:href=\"#DejaVuSans-110\"/>\n     <use x=\"374.951172\" xlink:href=\"#DejaVuSans-103\"/>\n     <use x=\"438.427734\" xlink:href=\"#DejaVuSans-101\"/>\n     <use x=\"499.951172\" xlink:href=\"#DejaVuSans-58\"/>\n     <use x=\"533.642578\" xlink:href=\"#DejaVuSans-32\"/>\n     <use x=\"565.429688\" xlink:href=\"#DejaVuSans-68\"/>\n     <use x=\"642.431641\" xlink:href=\"#DejaVuSans-105\"/>\n     <use x=\"670.214844\" xlink:href=\"#DejaVuSans-115\"/>\n     <use x=\"722.314453\" xlink:href=\"#DejaVuSans-116\"/>\n     <use x=\"761.523438\" xlink:href=\"#DejaVuSans-114\"/>\n     <use x=\"802.636719\" xlink:href=\"#DejaVuSans-105\"/>\n     <use x=\"830.419922\" xlink:href=\"#DejaVuSans-98\"/>\n     <use x=\"893.896484\" xlink:href=\"#DejaVuSans-117\"/>\n     <use x=\"957.275391\" xlink:href=\"#DejaVuSans-116\"/>\n     <use x=\"996.484375\" xlink:href=\"#DejaVuSans-105\"/>\n     <use x=\"1024.267578\" xlink:href=\"#DejaVuSans-111\"/>\n     <use x=\"1085.449219\" xlink:href=\"#DejaVuSans-110\"/>\n     <use x=\"1148.828125\" xlink:href=\"#DejaVuSans-32\"/>\n     <use x=\"1180.615234\" xlink:href=\"#DejaVuSans-111\"/>\n     <use x=\"1241.796875\" xlink:href=\"#DejaVuSans-102\"/>\n     <use x=\"1277.001953\" xlink:href=\"#DejaVuSans-32\"/>\n     <use x=\"1308.789062\" xlink:href=\"#DejaVuSans-78\"/>\n     <use x=\"1383.59375\" xlink:href=\"#DejaVuSans-98\"/>\n     <use x=\"1447.070312\" xlink:href=\"#DejaVuSans-32\"/>\n     <use x=\"1478.857422\" xlink:href=\"#DejaVuSans-99\"/>\n     <use x=\"1533.837891\" xlink:href=\"#DejaVuSans-111\"/>\n     <use x=\"1595.019531\" xlink:href=\"#DejaVuSans-109\"/>\n     <use x=\"1692.431641\" xlink:href=\"#DejaVuSans-109\"/>\n     <use x=\"1789.84375\" xlink:href=\"#DejaVuSans-111\"/>\n     <use x=\"1851.025391\" xlink:href=\"#DejaVuSans-110\"/>\n     <use x=\"1914.404297\" xlink:href=\"#DejaVuSans-32\"/>\n     <use x=\"1946.191406\" xlink:href=\"#DejaVuSans-119\"/>\n     <use x=\"2027.978516\" xlink:href=\"#DejaVuSans-111\"/>\n     <use x=\"2089.160156\" xlink:href=\"#DejaVuSans-114\"/>\n     <use x=\"2128.523438\" xlink:href=\"#DejaVuSans-100\"/>\n     <use x=\"2192\" xlink:href=\"#DejaVuSans-115\"/>\n     <use x=\"2244.099609\" xlink:href=\"#DejaVuSans-32\"/>\n     <use x=\"2275.886719\" xlink:href=\"#DejaVuSans-119\"/>\n     <use x=\"2357.673828\" xlink:href=\"#DejaVuSans-105\"/>\n     <use x=\"2385.457031\" xlink:href=\"#DejaVuSans-116\"/>\n     <use x=\"2424.666016\" xlink:href=\"#DejaVuSans-104\"/>\n     <use x=\"2488.044922\" xlink:href=\"#DejaVuSans-32\"/>\n     <use x=\"2519.832031\" xlink:href=\"#DejaVuSans-111\"/>\n     <use x=\"2581.013672\" xlink:href=\"#DejaVuSans-114\"/>\n     <use x=\"2622.126953\" xlink:href=\"#DejaVuSans-32\"/>\n     <use x=\"2653.914062\" xlink:href=\"#DejaVuSans-119\"/>\n     <use x=\"2735.701172\" xlink:href=\"#DejaVuSans-105\"/>\n     <use x=\"2763.484375\" xlink:href=\"#DejaVuSans-116\"/>\n     <use x=\"2802.693359\" xlink:href=\"#DejaVuSans-104\"/>\n     <use x=\"2866.072266\" xlink:href=\"#DejaVuSans-111\"/>\n     <use x=\"2927.253906\" xlink:href=\"#DejaVuSans-117\"/>\n     <use x=\"2990.632812\" xlink:href=\"#DejaVuSans-116\"/>\n     <use x=\"3029.841797\" xlink:href=\"#DejaVuSans-32\"/>\n     <use x=\"3061.628906\" xlink:href=\"#DejaVuSans-110\"/>\n     <use x=\"3125.007812\" xlink:href=\"#DejaVuSans-108\"/>\n     <use x=\"3152.791016\" xlink:href=\"#DejaVuSans-116\"/>\n     <use x=\"3192\" xlink:href=\"#DejaVuSans-107\"/>\n     <use x=\"3249.910156\" xlink:href=\"#DejaVuSans-32\"/>\n     <use x=\"3281.697266\" xlink:href=\"#DejaVuSans-115\"/>\n     <use x=\"3333.796875\" xlink:href=\"#DejaVuSans-116\"/>\n     <use x=\"3373.005859\" xlink:href=\"#DejaVuSans-111\"/>\n     <use x=\"3434.1875\" xlink:href=\"#DejaVuSans-112\"/>\n     <use x=\"3497.664062\" xlink:href=\"#DejaVuSans-119\"/>\n     <use x=\"3579.451172\" xlink:href=\"#DejaVuSans-111\"/>\n     <use x=\"3640.632812\" xlink:href=\"#DejaVuSans-114\"/>\n     <use x=\"3679.996094\" xlink:href=\"#DejaVuSans-100\"/>\n     <use x=\"3743.472656\" xlink:href=\"#DejaVuSans-115\"/>\n    </g>\n   </g>\n   <g id=\"legend_1\">\n    <g id=\"patch_9\">\n     <path d=\"M 630.910938 61.953906 \nL 873.78125 61.953906 \nQ 875.78125 61.953906 875.78125 59.953906 \nL 875.78125 31.597656 \nQ 875.78125 29.597656 873.78125 29.597656 \nL 630.910938 29.597656 \nQ 628.910938 29.597656 628.910938 31.597656 \nL 628.910938 59.953906 \nQ 628.910938 61.953906 630.910938 61.953906 \nz\n\" style=\"fill:#ffffff;opacity:0.8;stroke:#cccccc;stroke-linejoin:miter;\"/>\n    </g>\n    <g id=\"patch_10\">\n     <path d=\"M 632.910938 41.196094 \nL 652.910938 41.196094 \nL 652.910938 34.196094 \nL 632.910938 34.196094 \nz\n\" style=\"fill:#ff0000;\"/>\n    </g>\n    <g id=\"text_15\">\n     <!-- Nb common words without nltk stopwords -->\n     <g transform=\"translate(660.910938 41.196094)scale(0.1 -0.1)\">\n      <use xlink:href=\"#DejaVuSans-78\"/>\n      <use x=\"74.804688\" xlink:href=\"#DejaVuSans-98\"/>\n      <use x=\"138.28125\" xlink:href=\"#DejaVuSans-32\"/>\n      <use x=\"170.068359\" xlink:href=\"#DejaVuSans-99\"/>\n      <use x=\"225.048828\" xlink:href=\"#DejaVuSans-111\"/>\n      <use x=\"286.230469\" xlink:href=\"#DejaVuSans-109\"/>\n      <use x=\"383.642578\" xlink:href=\"#DejaVuSans-109\"/>\n      <use x=\"481.054688\" xlink:href=\"#DejaVuSans-111\"/>\n      <use x=\"542.236328\" xlink:href=\"#DejaVuSans-110\"/>\n      <use x=\"605.615234\" xlink:href=\"#DejaVuSans-32\"/>\n      <use x=\"637.402344\" xlink:href=\"#DejaVuSans-119\"/>\n      <use x=\"719.189453\" xlink:href=\"#DejaVuSans-111\"/>\n      <use x=\"780.371094\" xlink:href=\"#DejaVuSans-114\"/>\n      <use x=\"819.734375\" xlink:href=\"#DejaVuSans-100\"/>\n      <use x=\"883.210938\" xlink:href=\"#DejaVuSans-115\"/>\n      <use x=\"935.310547\" xlink:href=\"#DejaVuSans-32\"/>\n      <use x=\"967.097656\" xlink:href=\"#DejaVuSans-119\"/>\n      <use x=\"1048.884766\" xlink:href=\"#DejaVuSans-105\"/>\n      <use x=\"1076.667969\" xlink:href=\"#DejaVuSans-116\"/>\n      <use x=\"1115.876953\" xlink:href=\"#DejaVuSans-104\"/>\n      <use x=\"1179.255859\" xlink:href=\"#DejaVuSans-111\"/>\n      <use x=\"1240.4375\" xlink:href=\"#DejaVuSans-117\"/>\n      <use x=\"1303.816406\" xlink:href=\"#DejaVuSans-116\"/>\n      <use x=\"1343.025391\" xlink:href=\"#DejaVuSans-32\"/>\n      <use x=\"1374.8125\" xlink:href=\"#DejaVuSans-110\"/>\n      <use x=\"1438.191406\" xlink:href=\"#DejaVuSans-108\"/>\n      <use x=\"1465.974609\" xlink:href=\"#DejaVuSans-116\"/>\n      <use x=\"1505.183594\" xlink:href=\"#DejaVuSans-107\"/>\n      <use x=\"1563.09375\" xlink:href=\"#DejaVuSans-32\"/>\n      <use x=\"1594.880859\" xlink:href=\"#DejaVuSans-115\"/>\n      <use x=\"1646.980469\" xlink:href=\"#DejaVuSans-116\"/>\n      <use x=\"1686.189453\" xlink:href=\"#DejaVuSans-111\"/>\n      <use x=\"1747.371094\" xlink:href=\"#DejaVuSans-112\"/>\n      <use x=\"1810.847656\" xlink:href=\"#DejaVuSans-119\"/>\n      <use x=\"1892.634766\" xlink:href=\"#DejaVuSans-111\"/>\n      <use x=\"1953.816406\" xlink:href=\"#DejaVuSans-114\"/>\n      <use x=\"1993.179688\" xlink:href=\"#DejaVuSans-100\"/>\n      <use x=\"2056.65625\" xlink:href=\"#DejaVuSans-115\"/>\n     </g>\n    </g>\n    <g id=\"patch_11\">\n     <path d=\"M 632.910938 55.874219 \nL 652.910938 55.874219 \nL 652.910938 48.874219 \nL 632.910938 48.874219 \nz\n\" style=\"fill:none;opacity:0.25;stroke:#008000;stroke-linejoin:miter;stroke-width:5;\"/>\n    </g>\n    <g id=\"text_16\">\n     <!-- Nb common words -->\n     <g transform=\"translate(660.910938 55.874219)scale(0.1 -0.1)\">\n      <use xlink:href=\"#DejaVuSans-78\"/>\n      <use x=\"74.804688\" xlink:href=\"#DejaVuSans-98\"/>\n      <use x=\"138.28125\" xlink:href=\"#DejaVuSans-32\"/>\n      <use x=\"170.068359\" xlink:href=\"#DejaVuSans-99\"/>\n      <use x=\"225.048828\" xlink:href=\"#DejaVuSans-111\"/>\n      <use x=\"286.230469\" xlink:href=\"#DejaVuSans-109\"/>\n      <use x=\"383.642578\" xlink:href=\"#DejaVuSans-109\"/>\n      <use x=\"481.054688\" xlink:href=\"#DejaVuSans-111\"/>\n      <use x=\"542.236328\" xlink:href=\"#DejaVuSans-110\"/>\n      <use x=\"605.615234\" xlink:href=\"#DejaVuSans-32\"/>\n      <use x=\"637.402344\" xlink:href=\"#DejaVuSans-119\"/>\n      <use x=\"719.189453\" xlink:href=\"#DejaVuSans-111\"/>\n      <use x=\"780.371094\" xlink:href=\"#DejaVuSans-114\"/>\n      <use x=\"819.734375\" xlink:href=\"#DejaVuSans-100\"/>\n      <use x=\"883.210938\" xlink:href=\"#DejaVuSans-115\"/>\n     </g>\n    </g>\n   </g>\n  </g>\n </g>\n <defs>\n  <clipPath id=\"p21128572c3\">\n   <rect height=\"543.6\" width=\"837\" x=\"43.78125\" y=\"24.597656\"/>\n  </clipPath>\n </defs>\n</svg>\n",
      "image/png": "[encoded data removed]"
     },
     "metadata": {
      "needs_background": "light"
     }
    }
   ],
   "source": [
    "from astropy.visualization import hist as as_hist\n",
    "\n",
    "#plot.figure(figsize=(15, 10))\n",
    "#sns.histplot(train_dataframe['nb_common_words'],stat='count',bins=50,label='no stopwords',legend=True)\n",
    "#sns.histplot(train_dataframe['nltk_nb_common_words'],stat='count',color=\"g\",alpha=0.5,bins=50,label='nltk stopwords',legend=True)\n",
    "#plot.legend()\n",
    "\n",
    "plot.figure(figsize=(15, 10))\n",
    "as_hist(train_dataframe['nltk_nb_common_words'],label=\"Nb common words without nltk stopwords\",histtype='stepfilled',bins='blocks',density=True,color=\"r\")\n",
    "as_hist(train_dataframe['nb_common_words'],label=\"Nb common words\",histtype='step',alpha=0.5,lw=5,bins='blocks',density=True,color=\"g\")\n",
    "plot.title('Training: Distribution of Nb common words with or without nltk stopwords', fontsize=15)\n",
    "plot.xlabel('Nb common words')\n",
    "plot.ylabel('Prob')\n",
    "plot.legend()\n",
    "\n",
    "plot.figure(figsize=(15, 10))\n",
    "as_hist(challenge_dataframe['nltk_nb_common_words'],label=\"Nb common words without nltk stopwords\",histtype='stepfilled',bins='blocks',density=True,color=\"r\")\n",
    "as_hist(challenge_dataframe['nb_common_words'],label=\"Nb common words\",histtype='step',alpha=0.25,lw=5,bins='blocks',density=True,color=\"g\")\n",
    "plot.title('Challenge: Distribution of Nb common words with or without nltk stopwords', fontsize=15)\n",
    "plot.xlabel('Nb common words')\n",
    "plot.ylabel('Prob')\n",
    "plot.legend()"
   ]
  },
  {
   "source": [
    "### Step 4 : more stopwords\n",
    "we are using also stopwords from sklearn"
   ],
   "cell_type": "markdown",
   "metadata": {}
  },
  {
   "cell_type": "code",
   "execution_count": null,
   "metadata": {
    "tags": []
   },
   "outputs": [],
   "source": [
    "from sklearn.feature_extraction.text import ENGLISH_STOP_WORDS\n",
    "\n",
    "\n",
    "sk_stopwords = set(ENGLISH_STOP_WORDS)\n",
    "print_info('There is %d words in nltk stop words' % len(nltk_stopwords))\n",
    "print_info('There is %d words in sklearn stop words' % len(sk_stopwords))\n",
    "new_stopwords = [w for w in sk_stopwords if w not in nltk_stopwords]\n",
    "print_info('There is %d new stop words in sklearn stop words' % len(new_stopwords))\n",
    "\n",
    "all_stop_words = nltk_stopwords | sk_stopwords\n",
    "print_info('There is %d words in the union of stop words' % len(all_stop_words))\n",
    "\n",
    "def build_all_stop_words_features(dataframe): \n",
    "    print_warning('Compute all features in one shot')\n",
    "    add_column_from_columns(dataframe,'temp',lambda r: build_no_stopwords_features_one_row(r.question1,r.question2,all_stop_words))\n",
    "    \n",
    "    print_warning('Extract nb_words_question1')\n",
    "    add_column_from_column(dataframe,'all_nb_words_question1','temp',lambda x: x[6])\n",
    "    print_warning('Extract nb_words_question2')\n",
    "    add_column_from_column(dataframe,'all_nb_words_question2','temp',lambda x: x[7])\n",
    "\n",
    "  \n",
    "    print_warning('Extract Nb common_words between question1 & question2')\n",
    "    add_column_from_column(dataframe,'all_nb_common_words','temp',lambda x: x[3])\n",
    "\n",
    "    print_warning('Extract Nb common words/nb words in question1')\n",
    "    add_column_from_column(dataframe,'all_nb_common_words/all_nb_words_question1','temp',lambda x: x[8])\n",
    "\n",
    "    print_warning('Extract Nb common words/nb words in question2')\n",
    "    add_column_from_column(dataframe,'all_nb_common_words/all_nb_words_question2','temp',lambda x: x[9])\n",
    "\n",
    "    print_warning('Extract Nb words in question1 not in common words')\n",
    "    add_column_from_column(dataframe,'all_nb_words_question1-all_common_words','temp',lambda x: x[4])\n",
    "\n",
    "    print_warning('Extract Nb words in question2 not in common words')\n",
    "    add_column_from_column(dataframe,'all_nb_words_question2-all_common_words','temp',lambda x: x[5])\n",
    "\n",
    "    print_warning('Compute (nb common words)/(nb words in question1+nb word in question2)')\n",
    "    add_column_from_column(dataframe,'all_nb_common_words/(all_nb_words_question1+all_nb_words_question2)','temp',lambda x: x[10])\n",
    "    \n",
    "    print_warning('Extract common words between question1 & question2')\n",
    "    add_column_from_column(dataframe,'all_common_words','temp',lambda x: x[0])\n",
    "    \n",
    "    print_warning('Extract uncommon words in question1')\n",
    "    add_column_from_column(dataframe,'all_uncommon_words_question1','temp',lambda x: x[1])\n",
    "\n",
    "    print_warning('Extract uncommon words in question2')\n",
    "    add_column_from_column(dataframe,'all_uncommon_words_question2','temp',lambda x: x[2])\n",
    "    dataframe = dataframe.drop (columns='temp')  \n",
    "    return dataframe\n",
    "\n",
    "\n",
    "train_dataframe = load_or_build_dataframe('Training: Build features aware of all stopwords','training_all_stop_words_features',build_all_stop_words_features,train_dataframe)\n",
    "challenge_dataframe = load_or_build_dataframe('Challenge: Build features aware of all stopwords','challenge_all_stop_words_features',build_all_stop_words_features,challenge_dataframe)"
   ]
  },
  {
   "source": [
    "Recap our changes : last step looks like small ..."
   ],
   "cell_type": "markdown",
   "metadata": {}
  },
  {
   "cell_type": "code",
   "execution_count": null,
   "metadata": {},
   "outputs": [],
   "source": [
    "\n"
   ]
  },
  {
   "cell_type": "code",
   "execution_count": null,
   "metadata": {
    "tags": []
   },
   "outputs": [],
   "source": [
    "nb_changed_train = int(numpy.where(train_dataframe['nltk_nb_common_words'] != train_dataframe['nb_common_words'],1,0).sum())\n",
    "print_info('With nltk stop words we have changed %.2f %% of nb common_words in training!!' % (nb_changed_train*100./len(train_dataframe)))\n",
    "nb_changed_train = int(numpy.where(train_dataframe['all_nb_common_words'] != train_dataframe['nb_common_words'],1,0).sum())\n",
    "print_warning('Removing also sklearn stop words we have changed %.2f %% of nb common_words in training!!' % (nb_changed_train*100./len(train_dataframe)))\n",
    "\n",
    "nb_changed_challenge = int(numpy.where(challenge_dataframe['nltk_nb_common_words']!=challenge_dataframe['nb_common_words'],1,0).sum())\n",
    "print_info('With nltk stop words We have changed %.2f %% of nb common_words in challenge !!' % (nb_changed_challenge*100./len(challenge_dataframe)))\n",
    "nb_changed_challenge = int(numpy.where(challenge_dataframe['all_nb_common_words']!=challenge_dataframe['nb_common_words'],1,0).sum())\n",
    "print_warning('Removing also sklearn stop words we have changed %.2f %% of nb common_words in challenge !!' % (nb_changed_challenge*100./len(challenge_dataframe)))\n",
    "\n",
    "changed = train_dataframe[train_dataframe['nltk_nb_common_words']!=train_dataframe['all_nb_common_words']]\n",
    "changed[['common_words','nltk_common_words','all_common_words','uncommon_words_question1','nltk_uncommon_words_question1','all_uncommon_words_question1']].head(3)"
   ]
  },
  {
   "cell_type": "code",
   "execution_count": null,
   "metadata": {},
   "outputs": [],
   "source": [
    "#plot.figure(figsize=(15, 10))\n",
    "#sns.histplot(train_dataframe['nb_common_words'],stat='count',bins=50,label='no stopwords',legend=True)\n",
    "#sns.histplot(train_dataframe['nltk_nb_common_words'],stat='count',color=\"g\",alpha=0.5,bins=50,label='nltk stopwords',legend=True)\n",
    "#plot.legend()\n",
    "\n",
    "plot.figure(figsize=(15, 10))\n",
    "as_hist(train_dataframe['all_nb_common_words'],label=\"Nb common words without nltk stopwords\",histtype='stepfilled',bins='blocks',density=True,color=\"r\")\n",
    "as_hist(train_dataframe['nltk_nb_common_words'],label=\"Nb common words without all stopwords\",histtype='step',bins='blocks',density=True,color=\"b\",lw=3)\n",
    "as_hist(train_dataframe['nb_common_words'],label=\"Nb common words\",histtype='step',alpha=0.5,lw=5,bins='blocks',density=True,color=\"g\")\n",
    "plot.title('Training: Distribution of Nb common words with or without nltk/all stopwords', fontsize=15)\n",
    "plot.xlabel('Nb common words')\n",
    "plot.ylabel('Prob')\n",
    "plot.legend()"
   ]
  },
  {
   "source": [
    "### Did you get this strange % of change in challenge ??\n",
    "\n",
    "We have changed 86.44% of common word in train data\n",
    "Applying same proces, we changed only 77.67% of challenge data\n",
    "\n",
    "Let's dig a little bit\n",
    "\n"
   ],
   "cell_type": "markdown",
   "metadata": {}
  },
  {
   "cell_type": "code",
   "execution_count": null,
   "metadata": {},
   "outputs": [],
   "source": [
    "challenge_dataframe[challenge_dataframe['all_nb_words_question2-all_common_words']>5].sample(1000,random_state=46)['all_uncommon_words_question1']"
   ]
  },
  {
   "source": [
    "### OK start to see the pbm\n",
    "* all question marks at end must be removed\n",
    "* some weird \" in words\n",
    "* maybe some typos like a digit or a punctuation in words\n",
    "\n",
    "Let's see how are the really unknown words ie not present in english dictionary"
   ],
   "cell_type": "markdown",
   "metadata": {}
  },
  {
   "cell_type": "code",
   "execution_count": null,
   "metadata": {
    "tags": []
   },
   "outputs": [],
   "source": [
    "from english_words import english_words_lower_alpha_set\n",
    "\n",
    "def load_english_words():\n",
    "    with open(absolute_env_file_name('../words_alpha',ext='.txt')) as word_file:\n",
    "        valid_words = set(word_file.read().split())\n",
    "    print_info('size of first dictionary %d' % len(valid_words))\n",
    "    print_info('size of second dictionary %d' % len(english_words_lower_alpha_set))\n",
    "    valid_words = valid_words | english_words_lower_alpha_set\n",
    "    print_info('size of merged dictionary %d' % len(valid_words))\n",
    "    return valid_words\n",
    "\n",
    "print_info('Load a big dictionary of English words')\n",
    "english_words = load_english_words()\n",
    "print_info('Dictionary of english words contains %d words' % len(english_words))\n",
    "print_info(\"Let's find unshared words that are fully alpha and not in dictionary. Candidate for typos ?\")\n",
    "\n",
    "train_dataframe['unknown_question1'] = train_dataframe['all_uncommon_words_question1'].progress_apply(lambda x: [ w for w in x if w not in english_words and not w.isalpha() ])\n",
    "train_dataframe['nb_unknown_question1'] = train_dataframe['unknown_question1'].progress_apply(len)\n",
    "train_dataframe['unknown_question2'] = train_dataframe['all_uncommon_words_question2'].progress_apply(lambda x: [ w for w in x if w not in english_words and not w.isalpha() ])\n",
    "train_dataframe['nb_unknown_question2'] = train_dataframe['unknown_question2'].progress_apply(len)\n",
    "\n",
    "challenge_dataframe['unknown_question1'] = challenge_dataframe['all_uncommon_words_question1'].progress_apply(lambda x: [ w for w in x if w not in english_words and not w.isalpha() ])\n",
    "challenge_dataframe['nb_unknown_question1'] = challenge_dataframe['unknown_question1'].progress_apply(len)\n",
    "challenge_dataframe['unknown_question2'] = challenge_dataframe['all_uncommon_words_question2'].progress_apply(lambda x: [ w for w in x if w not in english_words and not w.isalpha() ])\n",
    "challenge_dataframe['nb_unknown_question2'] = challenge_dataframe['unknown_question2'].progress_apply(len)\n",
    "\n"
   ]
  },
  {
   "source": [
    "Do a Kolmogorov-Smirnow to see if distribution of unknown words is different in train and challenge"
   ],
   "cell_type": "markdown",
   "metadata": {}
  },
  {
   "cell_type": "code",
   "execution_count": null,
   "metadata": {
    "tags": []
   },
   "outputs": [],
   "source": [
    "from scipy.stats import ks_2samp\n",
    "\n",
    "print_section('Basic stats on len of unshared & unknown words')\n",
    "print_warning('Train Nb unknown words in question 1 mean %.3f std: %3.f max %d' %(train_dataframe['nb_unknown_question1'].mean(),train_dataframe['nb_unknown_question1'].std(),train_dataframe['nb_unknown_question1'].max() ))\n",
    "print_warning('%.3f %% of lines have such words' % (train_dataframe['nb_unknown_question1'].where(train_dataframe['nb_unknown_question1']>0).count()/len(train_dataframe)))\n",
    "print_warning('Train Nb unknown words in question 2 mean %.3f std: %3.f max %d' %(train_dataframe['nb_unknown_question2'].mean(),train_dataframe['nb_unknown_question2'].std(),train_dataframe['nb_unknown_question1'].max() ))\n",
    "print_warning('%.3f %% of lines have such words' % (train_dataframe['nb_unknown_question2'].where(train_dataframe['nb_unknown_question2']>0).count()/len(train_dataframe)))\n",
    "\n",
    "print_warning('Challenge Nb unknown words in question 1 mean %.3f std: %3.f max %d' %(challenge_dataframe['nb_unknown_question1'].mean(),challenge_dataframe['nb_unknown_question1'].std(),challenge_dataframe['nb_unknown_question1'].max() ))\n",
    "print_warning('%.3f %% of lines have such words' % (challenge_dataframe['nb_unknown_question1'].where(challenge_dataframe['nb_unknown_question1']>0).count()/len(challenge_dataframe)))\n",
    "print_warning('Challenge Nb unknown words in question 2 mean %.3f std: %3.f max %d' %(challenge_dataframe['nb_unknown_question2'].mean(),challenge_dataframe['nb_unknown_question2'].std(),challenge_dataframe['nb_unknown_question1'].max() ))\n",
    "print_warning('%.3f %% of lines have such words' % (challenge_dataframe['nb_unknown_question2'].where(challenge_dataframe['nb_unknown_question2']>0).count()/len(challenge_dataframe)))\n",
    "\n",
    "print()\n",
    "print_section('Using a Kolmogorov-Smirnow test')\n",
    "print_info('Null hypothesis : the 2 distributions of nb unknown words in question 1 are similar')\n",
    "print_warning(str(ks_2samp(train_dataframe['nb_unknown_question1'],challenge_dataframe['nb_unknown_question1'])))\n",
    "print_alert('stat is small but p-value is 0: we reject null hypothesis: distributions are not similar')\n",
    "print_info('Null hypothesis : the 2 distributions of nb unknown words in question 2 are similar')\n",
    "print_warning(str(ks_2samp(train_dataframe['nb_unknown_question2'],challenge_dataframe['nb_unknown_question2'])))\n",
    "print_alert('stat is small but p-value is 0: we reject null hypothesis: distributions are not similar')\n",
    "\n",
    "print_alert('challenge is not using the same vocabulary as training')\n",
    "\n"
   ]
  },
  {
   "source": [
    "Maybe it's just because challenge's question are longer ?\n",
    "\n",
    "redo it on ratio nb_unknown/nb_total\n",
    "\n",
    "Answer still no"
   ],
   "cell_type": "markdown",
   "metadata": {}
  },
  {
   "cell_type": "code",
   "execution_count": null,
   "metadata": {},
   "outputs": [],
   "source": [
    "print_warning(str(ks_2samp(train_dataframe['nb_unknown_question1']/train_dataframe['all_nb_words_question1'],challenge_dataframe['nb_unknown_question1']/challenge_dataframe['all_nb_words_question1'])))\n"
   ]
  },
  {
   "cell_type": "code",
   "execution_count": null,
   "metadata": {},
   "outputs": [],
   "source": [
    "# Code to keep : most efficient way of computing a complex column with tests ?\n",
    "# train_dataframe['all_nb_words_question1_ratio'] = 0.0\n",
    "#train_dataframe.loc[(train_dataframe['nb_words_question1']>0.),'all_nb_words_question1_ratio'] = train_dataframe['all_nb_words_question1']/train_dataframe['nb_words_question1']train_dataframe['all_nb_words_question1_ratio']\n"
   ]
  },
  {
   "source": [
    "## Compute AUC of these basic features and try to figure if there is a bit of information inside each one\n",
    "\n",
    "ie is it helping to separate 1 from 0?"
   ],
   "cell_type": "markdown",
   "metadata": {}
  },
  {
   "cell_type": "code",
   "execution_count": null,
   "metadata": {},
   "outputs": [],
   "source": [
    "from sklearn.metrics import roc_auc_score\n",
    "\n",
    "def simple_AUC(dataframe,column_name):\n",
    "    return roc_auc_score(y_true=dataframe['is_duplicate'],y_score=dataframe[column_name])\n",
    "\n",
    "def simple_weighted_AUC(dataframe,column_name):\n",
    "    return roc_auc_score(y_true=dataframe['is_duplicate'],y_score=dataframe[column_name],sample_weight=dataframe['weight'])\n",
    "\n",
    "def show_AUC(dataframe,column_name):\n",
    "    if 'weight' in dataframe.columns:\n",
    "        print_bullet('Weighted AUC %s %f' % (column_name,simple_weighted_AUC(dataframe,column_name)))\n",
    "    else:\n",
    "        print_bullet('AUC %s %f' % (column_name,simple_AUC(dataframe,column_name)))\n",
    "        \n",
    "\n",
    "def display_simple_AUC(dataframe,column_name):\n",
    "    palette = sns.color_palette()\n",
    "    # Let multiplot_generator figure the size\n",
    "    #plot.figure(figsize=(10, 7))\n",
    "    #plot.hist(dataframe[column_name][dataframe['is_duplicate']==1],bins=50,color=palette[3],label='Same',histtype='step')\n",
    "    #plot.hist(dataframe[column_name][dataframe['is_duplicate']==0],bins=50,color=palette[2],label='Different',alpha = 0.75,histtype='step')\n",
    "    as_hist(dataframe[column_name][dataframe['is_duplicate']==1],bins=\"blocks\",color=palette[3],label='Same',histtype='step')\n",
    "    as_hist(dataframe[column_name][dataframe['is_duplicate']==0],bins=\"blocks\",color=palette[2],label='Different',alpha = 0.75,histtype='step')\n",
    "    plot.title('AUC %s : %f' % (column_name,simple_AUC(dataframe,column_name)) , fontsize=10)\n",
    "    plot.xlabel(column_name)\n",
    "    plot.ylabel('Nb')\n",
    "    plot.legend()\n",
    "\n",
    "\n",
    "\n",
    "def show_all_simple_AUC(dataframe):\n",
    "    all =  all_numeric_columns(dataframe)\n",
    "    print_section( 'Show AUC on %d unique features' % len(all))\n",
    "    for name in all:\n",
    "        show_AUC(dataframe,name)\n",
    "        yield\n",
    "        display_simple_AUC(dataframe,name)\n",
    "    print_done('Done')\n",
    "\n",
    "\n",
    "def show_all_simple_AUC_in_grid(dataframe,nb_columns=2):\n",
    "    multiplot_from_generator(show_all_simple_AUC(dataframe), nb_columns)\n",
    "\n",
    "show_all_simple_AUC_in_grid(train_dataframe,nb_columns=2)"
   ]
  },
  {
   "source": [
    "## OK Visualising these AUC is cool\n",
    "Can we have some numbers ?"
   ],
   "cell_type": "markdown",
   "metadata": {}
  },
  {
   "cell_type": "code",
   "execution_count": null,
   "metadata": {
    "tags": []
   },
   "outputs": [],
   "source": [
    "\n",
    "from sklearn import feature_selection\n",
    "from sklearn.feature_selection import SelectKBest,f_classif,RFE\n",
    "from sklearn.linear_model import LogisticRegression\n",
    "from sklearn.ensemble import RandomForestClassifier\n",
    "from sklearn.model_selection import train_test_split, cross_val_score\n",
    "from sklearn.decomposition import PCA\n",
    "\n",
    "def graph_relative_feature_importance(features_importances,columns):\n",
    "    # Make importances relative to max importance.\n",
    "    features_importances = 100.0 * (features_importances / features_importances.max())\n",
    "    sorted_idx = numpy.argsort(features_importances)\n",
    "    sorted_idx = sorted_idx[-20:-1:1]\n",
    "    pos = numpy.arange(sorted_idx.shape[0]) + 0.5\n",
    "    plot.barh(pos, features_importances[sorted_idx], align='center')\n",
    "    plot.yticks(pos, columns)\n",
    "    plot.xlabel('Relative Importance')\n",
    "    plot.title('Relative Feature Importance', fontsize=30)\n",
    "    plot.tick_params(axis='x', which='major', labelsize=15)\n",
    "    sns.despine(left=True, bottom=True)\n",
    "    plot.show()\n",
    "\n",
    "def graph_feature_importance(features_importances,columns):\n",
    "    # Make importances relative to max importance.\n",
    "    sorted_idx = numpy.argsort(features_importances)\n",
    "    sorted_idx = sorted_idx[-20:]\n",
    "    pos = numpy.arange(sorted_idx.shape[0]) + 0.5\n",
    "    plot.barh(pos, features_importances[sorted_idx], align='center')\n",
    "    plot.yticks(pos, columns)\n",
    "    plot.xlabel('Importance')\n",
    "    plot.title('Feature Importance', fontsize=30)\n",
    "    plot.tick_params(axis='x', which='major', labelsize=15)\n",
    "    #sns.despine(left=True, bottom=True)\n",
    "    plot.show()\n",
    "\n",
    "def independant_features_analysis(name_data,input_df,target_df):\n",
    "    train_df = input_df[all_numeric_columns(input_df)]\n",
    "    target_df = target_df\n",
    "    small = int(len(target_df)*0.05)\n",
    "    small_train = train_df.sample(small,random_state=42)\n",
    "    small_target = target_df.sample(small,random_state=42)\n",
    "    small_weights = input_df[WEIGHT].sample(small,random_state=42)\n",
    "\n",
    "    # be careful all_numeric will include also the target soon\n",
    "    all_numeric = all_numeric_columns(input_df)\n",
    "    print_section('Minimal analysis of numeric features of %s' % name_data)\n",
    "    print_info('Nb features: %d' % len(all_numeric))\n",
    "    print_info(str(all_numeric))\n",
    "    print_warning('Is there any null value ? %s' % input_df.isnull().any().any())\n",
    "\n",
    "    compute_variances = feature_selection.VarianceThreshold()\n",
    "    all_numeric.append('is_duplicate')\n",
    "    variances = compute_variances.fit_transform(input_df[all_numeric])\n",
    "    print_warning('Is there any low variance feature ? %s' % str(variances.shape[1]!=len(all_numeric)))\n",
    "    print_info('Here are the correlations to the target \"is_duplicate\"')\n",
    "    correlation_matrix = input_df[all_numeric].corr().abs()\n",
    "    print(correlation_matrix['is_duplicate'].nlargest(len(all_numeric)))\n",
    "\n",
    "    correlation_matrix_without_is_duplicate = correlation_matrix['is_duplicate'][correlation_matrix['is_duplicate']<1]\n",
    "    highest_correlated_feature = correlation_matrix_without_is_duplicate.nlargest(1).index[0]\n",
    "    highest_correlation = correlation_matrix_without_is_duplicate.nlargest(1)[0]\n",
    "    if highest_correlation >0.2:\n",
    "        if highest_correlation < 0.5:\n",
    "            print_warning('%s is the most correlated with target but %f is quite weak' % (highest_correlated_feature,highest_correlation))\n",
    "        else:\n",
    "            print_info('%s is the most correlated with target but %f is very weak' % (highest_correlated_feature,highest_correlation))\n",
    "    else:\n",
    "        print_alert('%s is the most correlated with target and %f is quite big' % (highest_correlated_feature,highest_correlation))\n",
    "    plot.figure(figsize=(15, 10))\n",
    "    sns.heatmap(correlation_matrix,annot=True,cbar=True,square=True,cmap='coolwarm',mask = numpy.triu(correlation_matrix))\n",
    "    plot.show()\n",
    "\n",
    "    # we keep only numeric features and remove is_duplicate\n",
    "    all_numeric = all_numeric_columns(input_df)\n",
    "\n",
    "    print_section('Here are the features that would be selected with a simple univariate analysis')\n",
    "    start = time.time()\n",
    "    for r in tqdm(range(1,len(all_numeric))):\n",
    "        k_best = SelectKBest(score_func=f_classif,k=r)\n",
    "        fit = k_best.fit(small_train,small_target)\n",
    "        best_columns = [small_train.columns[c] for c in fit.get_support(indices=True)]\n",
    "        print_info('Nb features to keep %d:%s' %(r,best_columns))\n",
    "        \n",
    "        # Can we graph relative importances\n",
    "        if r>1:\n",
    "            # transform train set so we can compute importances\n",
    "            univariate_features = fit.transform(small_train)\n",
    "            rfc = RandomForestClassifier(n_estimators=100)\n",
    "            rfc_scores = cross_val_score(rfc, univariate_features, small_target, cv=5, scoring='neg_log_loss',n_jobs=os.cpu_count())\n",
    "            features_importance = rfc.fit(univariate_features, small_target).feature_importances_\n",
    "            graph_relative_feature_importance(features_importance,best_columns)\n",
    "    print_done('Done',top=start)\n",
    "    \n",
    "    print_section('Here are the features that would be selected a priori from default Multinomial Naive Bayes')\n",
    "    start = time.time()   \n",
    "    mnb = MultinomialNB()\n",
    "    best_from_model = feature_selection.SelectFromModel(mnb)\n",
    "    fit = best_from_model.fit(small_train,small_target,sample_weight=small_weights)\n",
    "    print(fit.get_support(indices=True))\n",
    "    best_columns = [small_train.columns[c] for c in fit.get_support(indices=True)]\n",
    "    # transform train set so we can compute importances\n",
    "    mnb_features = fit.transform(small_train)\n",
    "    rfc = RandomForestClassifier(n_estimators=100)\n",
    "    rfc_scores = cross_val_score(rfc, mnb_features, small_target, cv=5, scoring='neg_log_loss',n_jobs=os.cpu_count())\n",
    "    features_importance = rfc.fit(mnb_features, small_target).feature_importances_\n",
    "    print(features_importance)\n",
    "    print_info('features to keep :%s logloss %.4f %.4f' %(best_columns,-rfc_scores.mean(),rfc_scores.std()))\n",
    "    graph_relative_feature_importance(features_importance,best_columns)\n",
    "    print_done('Done',top=start)\n",
    "    \n",
    "\n",
    "    print_info('Try to keep x \\% of variance with a PCA')\n",
    "    print_alert('bug ?')\n",
    "    start = time.time()\n",
    "    for r in tqdm([.8,.9,.95]):\n",
    "        acp = PCA(r)\n",
    "        principal_components = acp.fit_transform(small_train)\n",
    "        principal_df = pandas.DataFrame(principal_components).sample(small,random_state=42)\n",
    "        rfc = RandomForestClassifier(n_estimators=100)\n",
    "        rfc_scores = cross_val_score(rfc, principal_df, small_target, cv=5, scoring='neg_log_loss',n_jobs=os.cpu_count())\n",
    "        features_importance = rfc.fit(principal_df, small_target).feature_importances_\n",
    "        print_info('%% of variance %f:%s' %(r,'aie'))\n",
    "        graph_relative_feature_importance(features_importance,small_train.columns)\n",
    "    print_done('Done',top=start)\n",
    "\n",
    "    print_section('Here are the features that would be selected with a recursive feature elimination')\n",
    "    start = time.time()\n",
    "    print_alert('Doomed to fail : RFE does not support to transmit ,sample_weight=small_weights')\n",
    "    print_alert('ix is waiting since 2016 ?')\n",
    "    for r in tqdm(range(1,len(all_numeric))):\n",
    "        mnb = MultinomialNB()\n",
    "        recursive_best= feature_selection.RFE(mnb, n_features_to_select=r)\n",
    "        fit = recursive_best.fit(small_train,small_target)\n",
    "        best_columns = [small_train.columns[c] for c in fit.get_support(indices=True)]\n",
    "        print_info('Nb features to keep %d:%s' %(r,best_columns))\n",
    "        \n",
    "        # Can we graph relative importances\n",
    "        if r>1:\n",
    "            # transform train set so we can compute importances\n",
    "            recursive_features = fit.transform(small_train)\n",
    "            rfc = RandomForestClassifier(n_estimators=100)\n",
    "            rfc_scores = cross_val_score(rfc, recursive_features, small_target, cv=5, scoring='neg_log_loss',n_jobs=os.cpu_count())\n",
    "            features_importance = rfc.fit(recursive_features, small_target).feature_importances_\n",
    "            graph_relative_feature_importance(features_importance,best_columns)\n",
    "    print_done('Done',top=start)\n",
    "   \n",
    "\n",
    "# !!!!! a little bit long\n",
    "#independant_features_analysis('train',train_dataframe,train_dataframe['is_duplicate'])\n",
    "\n"
   ]
  },
  {
   "source": [
    "## Previous exploration of all combination of features was not very successfull and very heavy\n",
    "### Let's try another strategy : on a given 'theme' of fields, add each field one by one to a model"
   ],
   "cell_type": "markdown",
   "metadata": {}
  },
  {
   "source": [
    "Some code to wrap XGBoost"
   ],
   "cell_type": "markdown",
   "metadata": {}
  },
  {
   "cell_type": "code",
   "execution_count": null,
   "metadata": {
    "tags": []
   },
   "outputs": [],
   "source": [
    "# Simple XGBoost code\n",
    "# \n",
    "\n",
    "import xgboost \n",
    "\n",
    "params = {\n",
    "    'objective': 'binary:logistic',\n",
    "    'eval_metric': 'logloss',\n",
    "    'eta' : 0.02,\n",
    "    'max_depth':3 \n",
    "    }\n",
    "\n",
    "\n",
    "\n",
    "def print_res_xgboost(infos):\n",
    "    # Glurk\n",
    "    print_info(' | '.join([('%s '+f) % (k,infos[k]) for k,f in INFO_XGBOOST_MODEL.items() if k in infos]))\n",
    "\n",
    "# 80% training 20% validation\n",
    "def build_XGBoost_model_80_20(training,target,column_names,show=True):\n",
    "    input_train,input_test,target_train,target_test = train_test_split(training,target,random_state=42,test_size=0.2)\n",
    "    final_input_train = input_train[list(column_names)]\n",
    "    final_input_test = input_test[list(column_names)]\n",
    "    train_dm = xgboost.DMatrix(final_input_train, label = target_train, weight = input_train[WEIGHT],nthread = -1)\n",
    "    validation_dm = xgboost.DMatrix(final_input_test, label = target_test,weight = input_test[WEIGHT])\n",
    "    watchlist = [(train_dm, 'train'), (validation_dm, 'valid')]\n",
    "\n",
    "    start = time.time()\n",
    "    if show:\n",
    "        verbose = 10\n",
    "    else:\n",
    "        verbose = 0\n",
    "    model = xgboost.train(params,train_dm,400,watchlist,early_stopping_rounds=50,verbose_eval=verbose)\n",
    "    infos = compute_metrics_model_xgboost(model,final_input_test,target_test,sample_weight = input_test[WEIGHT],show=show)\n",
    "    duration = time.time()-start\n",
    "    infos.update({'time':duration})\n",
    "    if show:      \n",
    "        print_res_xgboost(infos)\n",
    "    return  infos\n",
    "\n",
    "# Pushing the limits :100 % training no validation !!\n",
    "def build_XGBoost_model_100_0(training,target,column_names,show=True):\n",
    "    final_train = training[list(column_names)]\n",
    "    final_target = target\n",
    "    final_weight = training[WEIGHT]\n",
    "\n",
    "    train_dm = xgboost.DMatrix(final_train, label = final_target, weight = final_weight,nthread = -1)\n",
    "    watchlist = [(train_dm, 'train')]\n",
    "\n",
    "    start = time.time()\n",
    "    if show:\n",
    "        verbose = 10\n",
    "    else:\n",
    "        verbose = 0\n",
    "    model = xgboost.train(params,train_dm,400,watchlist,early_stopping_rounds=50,verbose_eval=verbose)\n",
    "    duration = time.time()-start\n",
    "    infos = compute_metrics_model_xgboost(model,final_train,final_target,sample_weight = final_weight,show=show)\n",
    "    infos.update({'time':duration})\n",
    "    if show:      \n",
    "        print_res_xgboost(infos)\n",
    "    return  infos\n",
    "\n",
    "def compute_metrics_model_xgboost(model,input_df,target_df,sample_weight = None,show = True):\n",
    "    final_input = xgboost.DMatrix(input_df)\n",
    "    prediction_proba_df = model.predict(final_input,ntree_limit=model.best_ntree_limit)\n",
    "    # Hum shouldn't we challenge this 50% threshold ?\n",
    "    prediction_df = numpy.where(prediction_proba_df>0.5,1,0)\n",
    "    res = metrics.classification_report(target_df,prediction_df,sample_weight = sample_weight,output_dict=True)\n",
    "    accuracy = res['accuracy']\n",
    "    score = res['weighted avg']['f1-score']\n",
    "    logloss_proba = metrics.log_loss(target_df,prediction_proba_df,sample_weight = sample_weight)\n",
    "    if show:\n",
    "        print_info('Classification report')\n",
    "        print(metrics.classification_report(target_df,prediction_df,sample_weight = sample_weight))\n",
    "    return {\n",
    "             'accuracy':accuracy,\n",
    "             'score':score,\n",
    "             'logloss_proba':logloss_proba,\n",
    "             'model':model\n",
    "           }\n",
    "\n",
    "INFO_XGBOOST_MODEL= {\n",
    "    'logloss_proba': '%.4f',\n",
    "    'score': '%.4f',\n",
    "    'accuracy': '%.4f',\n",
    "    'time': '%.2f'\n",
    "}\n",
    "\n",
    "print_res_xgboost({'alain':1})\n",
    "\n",
    "if UNITARY_TEST:\n",
    "    print_section('Unitary test : playbox XGBoost 80_20')\n",
    "    small_train = train_dataframe.sample(1000,random_state=42)\n",
    "    print_section('Unitary test : playbox XGBoost 100_0')\n",
    "    res = build_XGBoost_model_100_0(small_train,small_train['is_duplicate'],all_numeric_columns(small_train))\n",
    "    print(res)\n",
    "\n",
    "if UNITARY_TEST:\n",
    "    print_section('Unitary test : playbox XGBoost 80_20')\n",
    "    small_train = train_dataframe.sample(1000,random_state=42)\n",
    "    print_section('Unitary test : playbox XGBoost 80_20')\n",
    "    res = build_XGBoost_model_80_20(small_train,small_train['is_duplicate'],all_numeric_columns(small_train))\n",
    "    print(res)"
   ]
  },
  {
   "source": [
    "Some code to do some campaign and browse results"
   ],
   "cell_type": "markdown",
   "metadata": {}
  },
  {
   "cell_type": "code",
   "execution_count": null,
   "metadata": {
    "tags": []
   },
   "outputs": [],
   "source": [
    "def find_best_result(results,metric):\n",
    "    if 'logloss' in metric:\n",
    "        return results.nsmallest(1,metric)\n",
    "    else:\n",
    "        return results.nlargest(1,metric)\n",
    "        \n",
    "def apply_xgboost(model,columns,input_df):\n",
    "    res = pandas.DataFrame()\n",
    "    res['test_id'] = input_df['test_id']\n",
    "    res['is_duplicate'] = model.predict(xgboost.DMatrix(input_df[columns]))\n",
    "    return res\n",
    "\n",
    "def submit_best_result(results,input_df,file_name,kaggle_message,metric='logloss_proba'):\n",
    "    start = time.time()\n",
    "    print_section(\"Scoring XGBoost model with best %s: %s\" % (metric,kaggle_message))\n",
    "    csv_file_name = absolute_env_file_name(file_name,ext='.csv')\n",
    "    print_info('Generating scores in %s' % csv_file_name)\n",
    "    best = find_best_result(results,metric)\n",
    "    model = best['model'][0]\n",
    "    columns = best['columns'][0]\n",
    "    prediction = apply_xgboost(model,columns,input_df)\n",
    "    prediction.to_csv(csv_file_name,index=False)\n",
    "    print_info('Zipping file')\n",
    "    absolute_file_name_zip = zip_file_and_delete(csv_file_name)\n",
    "    print_done('Done',top=start)\n",
    "    print_info('%s is ready' % absolute_file_name_zip)\n",
    "    print_warning('Use this commands to submit apply results to kaggle')\n",
    "    print_warning('kaggle competitions submit quora-question-pairs -f \"%s\" -m \"%s %s\"' % (absolute_file_name_zip,EXPERIMENT,kaggle_message))\n",
    "    return prediction\n",
    "\n",
    "def n_columns(columns,n):\n",
    "    return columns[0:n]\n",
    "\n",
    "def xgboost_all_fields_80_20(dataframe,columns_to_explore,explore=True):\n",
    "    if explore:\n",
    "        print_section(\"XGBoost (80,20) on 1 to %d fields\" % len(columns_to_explore))\n",
    "    else:\n",
    "        print_section(\"XGBoost (80,20) on %d fields\" % len(columns_to_explore))\n",
    "    start = time.time()\n",
    "    res_final = dict()\n",
    "    min_log_loss = 1000\n",
    "    best = 0\n",
    "    best_cols =''\n",
    "    # a shortcut is possible\n",
    "    if explore:\n",
    "        first_nb = 1\n",
    "    else:\n",
    "        first_nb=len(columns_to_explore)\n",
    "    for i in tqdm(range(first_nb,len(columns_to_explore)+1)):\n",
    "        columns = n_columns(columns_to_explore,i)\n",
    "        res = build_XGBoost_model_80_20(dataframe,dataframe['is_duplicate'],columns,show = False)\n",
    "        cur_logloss = res['logloss_proba']\n",
    "        if cur_logloss<min_log_loss:\n",
    "            print_info(\"%d:%.4f %s\" % (i,cur_logloss,columns))\n",
    "            min_log_loss = cur_logloss\n",
    "            best_cols = columns\n",
    "            best = i\n",
    "        else:\n",
    "            print_warning(\"%d:%.4f\" % (i,cur_logloss))\n",
    "        res.update( {'columns':columns})\n",
    "        res_final.update({str(i):res})\n",
    "    print_info('Best: %d %.4f %s' % (best,min_log_loss,best_cols))\n",
    "    print_done('Done',top=start)\n",
    "    return pandas.DataFrame.from_dict(res_final, orient='index')\n",
    "\n",
    "# try to reload from cache an exploration\n",
    "# if not available, redo it and save results in cache\n",
    "# find the best result according to a metric (default logloss_proba)\n",
    "# and submit it to kaggle\n",
    "def study_fields(message,tag,columns,train_df,challenge_df,explore=True):\n",
    "    print_section(message)\n",
    "    results = load_or_build_dataframe('Rebuild XGBoost models',tag + '_results',lambda df:xgboost_all_fields_80_20(df,columns,explore=explore),train_df)\n",
    "    save_models_dict_to_excel(results,tag=tag)\n",
    "    display(results.describe())\n",
    "    submit_best_result(results,challenge_df,'Best_'+tag,'Best ' + tag)\n",
    "    return results\n"
   ]
  },
  {
   "source": [
    "### Let's start our exploration with XGBoost (basic setup)"
   ],
   "cell_type": "markdown",
   "metadata": {}
  },
  {
   "source": [
    "Let's define our 'domains'\n",
    "* All features without any preprocessing except lowercasing\n",
    "* All features aware of nltk list of stop words\n",
    "* All features aware of extended list of stop words\n",
    "* All 'not in english dictionary'\n",
    "* All features except dict ones\n",
    "* All features\n"
   ],
   "cell_type": "markdown",
   "metadata": {}
  },
  {
   "cell_type": "code",
   "execution_count": null,
   "metadata": {
    "tags": []
   },
   "outputs": [],
   "source": [
    "# ALL_STOP_COLUMNS= ['no_stopword_nb_common_words', 'no_stopword_nb_common_words/(no_stopword_nb_words_question1+no_stopword_nb_words_question2)',       'no_stopword_nb_common_words/no_stopword_nb_words_question1', 'no_stopword_nb_common_words/no_stopword_nb_words_question2', 'no_stopword_nb_words_question1',       'no_stopword_nb_words_question1-no_stopword_common_words', 'no_stopword_nb_words_question2', 'no_stopword_nb_words_question2-no_stopword_common_words']\n",
    "\n",
    "# ALL_NO_STOP_COLUMNS= ['no_stopword_nb_common_words', 'no_stopword_nb_common_words/(no_stopword_nb_words_question1+no_stopword_nb_words_question2)',       'no_stopword_nb_common_words/no_stopword_nb_words_question1', 'no_stopword_nb_common_words/no_stopword_nb_words_question2', 'no_stopword_nb_words_question1',       'no_stopword_nb_words_question1-no_stopword_common_words', 'no_stopword_nb_words_question2', 'no_stopword_nb_words_question2-no_stopword_common_words']\n",
    "\n",
    "# ALL_COLUMNS =[ 'nb_words_question1', 'nb_words_question2', 'nb_common_words', 'nb_common_words/nb_words_question1','nb_common_words/nb_words_question2', 'nb_words_question1-common_words', 'nb_words_question2-common_words', 'nb_common_words/(nb_words_question1+nb_words_question2)', no_stopword_nb_words_question1', 'no_stopword_nb_words_question2', 'no_stopword_nb_common_words', 'no_stopword_nb_common_words/no_stopword_nb_words_question1',       'no_stopword_nb_common_words/no_stopword_nb_words_question2', 'no_stopword_nb_words_question1-no_stopword_common_words', no_stopword_nb_words_question2-no_stopword_common_words','no_stopword_nb_common_words/(no_stopword_nb_words_question1+no_stopword_nb_words_question2)']\n",
    "\n",
    "# To build a model with every kind of features except the 2 'not in english dict' ones\n",
    "ALL_FEATURES_EXCEPT_DICT = [c for c in all_numeric_columns(train_dataframe) if 'unknown' not in c] \n",
    "# To build a model with only features not aware of any stop words\n",
    "ALL_BASIC_FEATURES = [c for c in all_numeric_columns(train_dataframe) if 'nltk' not in c and 'all' not in c and 'unknown' not in c] \n",
    "# To build a model with only features aware of nltk stop words\n",
    "ALL_NLTK_FEATURES = [c for c in all_numeric_columns(train_dataframe) if 'nltk' in c] \n",
    "# To build a model with only features not aware of extended stop words\n",
    "ALL_EXTENDED_FEATURES = [c for c in all_numeric_columns(train_dataframe) if 'all' in c] \n",
    "# The 2 nb 'not in english dictionary' features \n",
    "ALL_DICT_FEATURES = [c for c in all_numeric_columns(train_dataframe) if 'unknown' in c] \n",
    "\n",
    "# everything\n",
    "ALL_ALL_FEATURES = all_numeric_columns(train_dataframe)\n",
    "\n",
    "print_section('All \"not in dict\" features')\n",
    "print_info('Nb features %d' % len(ALL_DICT_FEATURES))\n",
    "display(pandas.DataFrame(ALL_DICT_FEATURES,columns=['feature']))\n",
    "\n",
    "print_section('All basic features')\n",
    "print_info('Nb features %d' % len(ALL_BASIC_FEATURES))\n",
    "display(pandas.DataFrame(ALL_BASIC_FEATURES,columns=['feature']))\n",
    "\n",
    "print_section('All nltk features')\n",
    "print_info('Nb features %d' % len(ALL_NLTK_FEATURES))\n",
    "display(pandas.DataFrame(ALL_NLTK_FEATURES,columns=['feature']))\n",
    "\n",
    "print_section('All extended features')\n",
    "print_info('Nb features %d' % len(ALL_EXTENDED_FEATURES))\n",
    "display(pandas.DataFrame(ALL_EXTENDED_FEATURES,columns=['feature']))\n",
    "\n",
    "print_section('All features except \"not in dict\" ones')\n",
    "print_info('Nb features %d' % len(ALL_FEATURES_EXCEPT_DICT))\n",
    "display(pandas.DataFrame(ALL_FEATURES_EXCEPT_DICT,columns=['feature']))\n",
    "\n",
    "print_section('All features')\n",
    "print_info('Nb features %d' % len(ALL_ALL_FEATURES))\n",
    "display(pandas.DataFrame(ALL_ALL_FEATURES,columns=['feature']))\n",
    "\n"
   ]
  },
  {
   "source": [
    "Basic features : no preprocessing"
   ],
   "cell_type": "markdown",
   "metadata": {}
  },
  {
   "cell_type": "code",
   "execution_count": null,
   "metadata": {
    "tags": []
   },
   "outputs": [],
   "source": [
    "xgboost_only_stop_columns_results = study_fields(\n",
    "    'Only on features not aware of any stop words',\n",
    "    'basic_features_xgboost',\n",
    "    ALL_BASIC_FEATURES,\n",
    "    train_dataframe,\n",
    "    challenge_dataframe)\n",
    " "
   ]
  },
  {
   "source": [
    "Same features but nltk stop words are removed"
   ],
   "cell_type": "markdown",
   "metadata": {}
  },
  {
   "cell_type": "code",
   "execution_count": null,
   "metadata": {
    "tags": []
   },
   "outputs": [],
   "source": [
    "\n",
    "xgboost_only_stop_columns_results = study_fields(\n",
    "    'Only on features aware of nltk stop words',\n",
    "    'nltk_features_xgboost',\n",
    "    ALL_NLTK_FEATURES,\n",
    "    train_dataframe,\n",
    "    challenge_dataframe)"
   ]
  },
  {
   "source": [
    "Same features but extended list of stop words are removed"
   ],
   "cell_type": "markdown",
   "metadata": {}
  },
  {
   "cell_type": "code",
   "execution_count": null,
   "metadata": {
    "tags": []
   },
   "outputs": [],
   "source": [
    "xgboost_only_stop_columns_results = study_fields(\n",
    "    'Only on features aware of extended stop words',\n",
    "    'extended_features_xgboost',\n",
    "    ALL_EXTENDED_FEATURES,\n",
    "    train_dataframe,\n",
    "    challenge_dataframe)"
   ]
  },
  {
   "source": [
    "All features except the 'not in english dictionary ones'"
   ],
   "cell_type": "markdown",
   "metadata": {}
  },
  {
   "cell_type": "code",
   "execution_count": null,
   "metadata": {
    "tags": []
   },
   "outputs": [],
   "source": [
    "xgboost_only_stop_columns_results = study_fields(\n",
    "    'All features excepr not in dict ones',\n",
    "    'all_no_dict_features_xgboost',\n",
    "    ALL_FEATURES_EXCEPT_DICT,\n",
    "    train_dataframe,\n",
    "    challenge_dataframe)  "
   ]
  },
  {
   "source": [
    "All features"
   ],
   "cell_type": "markdown",
   "metadata": {}
  },
  {
   "cell_type": "code",
   "execution_count": null,
   "metadata": {
    "tags": []
   },
   "outputs": [],
   "source": [
    "\n",
    "# No need to explore build directly the biggest one\n",
    "xgboost_only_stop_columns_results = study_fields(\n",
    "    'All features except not in dict ones',\n",
    "    'all_features_xgboost',\n",
    "    ALL_ALL_FEATURES,\n",
    "    train_dataframe,\n",
    "    challenge_dataframe,\n",
    "    explore=False) "
   ]
  },
  {
   "source": [
    "## What are our results"
   ],
   "cell_type": "markdown",
   "metadata": {}
  },
  {
   "cell_type": "code",
   "execution_count": null,
   "metadata": {},
   "outputs": [],
   "source": [
    "all_submissions = load_kaggle_submissions()\n"
   ]
  },
  {
   "cell_type": "code",
   "execution_count": null,
   "metadata": {},
   "outputs": [],
   "source": [
    "display(get_last_submissions(all_submissions))\n",
    "display(get_best_submissions(all_submissions,10))"
   ]
  },
  {
   "cell_type": "code",
   "execution_count": null,
   "metadata": {},
   "outputs": [],
   "source": [
    "def plot_real_feature_density(df, fname):\n",
    "    \n",
    "    ix_train = numpy.where(df['id'] >= 0)[0]\n",
    "    ix_test = numpy.where(df['id'] == -1)[0]\n",
    "    ix_is_dup = numpy.where(df['is_duplicate'] == 1)[0]\n",
    "    ix_not_dup = numpy.where(df['is_duplicate'] == 0)[0]\n",
    "\n",
    "    fig = plot.figure(figsize=(16, 12))\n",
    "    ax1 = plot.subplot2grid((3, 2), (0, 0), colspan=2)\n",
    "    ax2 = plot.subplot2grid((3, 2), (1, 0), colspan=2)\n",
    "    ax3 = plot.subplot2grid((3, 2), (2, 0))\n",
    "    ax4 = plot.subplot2grid((3, 2), (2, 1))\n",
    "    ax1.set_title('Distribution of %s' % fname, fontsize=20)\n",
    "    sns.distplot(df.loc[ix_train][fname], \n",
    "                 bins=50, \n",
    "                 ax=ax1)    \n",
    "    sns.distplot(df.loc[ix_is_dup][fname], \n",
    "                 bins=50, \n",
    "                 ax=ax2,\n",
    "                 label='is dup')    \n",
    "    sns.distplot(df.loc[ix_not_dup][fname], \n",
    "                 bins=50, \n",
    "                 ax=ax2,\n",
    "                 label='not dup')\n",
    "    ax2.legend(loc='upper right', prop={'size': 18})\n",
    "    sns.boxplot(y=fname, \n",
    "                x='is_duplicate', \n",
    "                data=df.loc[ix_train], \n",
    "                ax=ax3)\n",
    "    sns.violinplot(y=fname, \n",
    "                   x='is_duplicate', \n",
    "                   data=df.loc[ix_train], \n",
    "                   ax=ax4)\n",
    "    plot.show()\n",
    "\n",
    "\n",
    "plot_real_feature_density(train_dataframe,'all_nb_common_words/(all_nb_words_question1+all_nb_words_question2)')\n"
   ]
  },
  {
   "source": [
    "So, features around common words are quite good\n",
    "Therefore, anything that can help to better detect common words is good\n",
    "\n",
    "The notebook spacy_preprocessing.ipynb provides us a good preprocessing code to apply to questions before any work\n",
    "\n",
    "We have 2 choices with this code\n",
    "* generate a new domain : clean_xxxx, kepp previous domains and train a model\n",
    "* restart from scratch and generate all previous domains on the new clean text\n"
   ],
   "cell_type": "markdown",
   "metadata": {}
  },
  {
   "source": [
    "Let's start with way 1 : just add a new domain"
   ],
   "cell_type": "markdown",
   "metadata": {}
  },
  {
   "source": [
    "# here is the code to preprocess questions\n",
    "import re\n",
    "\n",
    "# I do special stuff with $ and roupie char\n",
    "FINAL_PUNC_CLEANER = str.maketrans(dict([ (c,' ') for c in '!\"#%&\\'()*+,./:;<=>?[\\\\]^_`{|}~-@']))\n",
    "\n",
    "def clean_string(str):\n",
    "    str = re.sub('\\?',' ',str) # ?\n",
    "    # odd chars\n",
    "    # will generate more ' so do it first\n",
    "    str = re.sub(\"’\", \"'\", str) # special single quote\n",
    "    str = re.sub(\"`\", \"'\", str) # special single quote\n",
    "    str = re.sub(\"“\", '\"', str) # special double quote\n",
    "    str = re.sub(\"？\", \"?\", str) \n",
    "    str = re.sub(\"…\", \" \", str) \n",
    "    str = re.sub(\"é\", \"e\", str)\n",
    "    \n",
    "    # shortcuts\n",
    "    str = re.sub('\\'s', ' is', str) \n",
    "    str = re.sub(' whats ', ' what is ', str)\n",
    "    str = re.sub('\\'ve', ' have ', str)\n",
    "    str = re.sub(\"can't\", 'can not', str)\n",
    "    # this one is tricky do it in order\n",
    "    str = re.sub(\"wouldn't\", 'would not', str)\n",
    "    str = re.sub(\"n't\", ' not ', str)\n",
    "    str = re.sub(\"i'm\", 'i am', str)\n",
    "    str = re.sub('\\'re', ' are ', str)\n",
    "    str = re.sub('\\'d', ' would ', str)\n",
    "    str = re.sub('\\'ll', ' will ', str)\n",
    "    str = re.sub('e\\.g\\.', ' eg ', str)\n",
    "    str = re.sub('b\\.g\\.', ' bg ', str)\n",
    "    str = re.sub('e-mail', ' email ', str)\n",
    "    str = re.sub('\\(s\\)', ' ', str)\n",
    "\n",
    "    # Numbers and measures are a true mess\n",
    "    # 12,000 -> 12000\n",
    "    str = re.sub('(?<=[0-9])\\,(?=[0-9])', '', str)\n",
    "\n",
    "    # Quora is very used in India so roupie (rs) is often present\n",
    "    str = re.sub(\"(?<=[0-9])rs \", \" rs \", str)\n",
    "    str = re.sub(\" rs(?=[0-9])\", \" rs \", str)\n",
    "\n",
    "    # stolen at kaggle : https://www.kaggle.com/currie32/the-importance-of-cleaning-str\n",
    "\n",
    "#    str = re.sub('[c-fC-F]\\:\\/', ' disk ', str)\n",
    "#    str = re.sub('(\\d+)(kK)', ' \\g<1>000 ', str)\n",
    "    # very weird !!! these ones decrease the hit % WTF ?\n",
    "\n",
    "    #str = re.sub(r\" (the[\\s]+|the[\\s]+)?us(a)? \", \" usa \", str)\n",
    "    #str = re.sub('(the[\\s]+|the[\\s]+)?united state(s)?', ' usa ', str)\n",
    "\n",
    "    str = re.sub(r\" uk \", \" england \", str)\n",
    "    str = re.sub(r\" imrovement \", \" improvement \", str)\n",
    "    str = re.sub(r\" intially \", \" initially \", str)\n",
    "    str = re.sub(r\" dms \", \" direct messages \", str)  \n",
    "    str = re.sub(r\" demonitization \", \" demonetization \", str) \n",
    "    str = re.sub(r\" actived \", \" active \", str)\n",
    "    str = re.sub(r\" kms \", \" kilometers \", str)\n",
    "    str = re.sub(r\" cs \", \" computer science \", str) \n",
    "    str = re.sub(r\" upvote\", \" up vote\", str)\n",
    "    str = re.sub(r\" iphone \", \" phone \", str)\n",
    "    str = re.sub(r\" \\0rs \", \" rs \", str)\n",
    "    str = re.sub(r\" calender \", \" calendar \", str)\n",
    "    str = re.sub(r\" ios \", \" operating system \", str)\n",
    "    str = re.sub(r\" programing \", \" programming \", str)\n",
    "    str = re.sub(r\" bestfriend \", \" best friend \", str)\n",
    "    str = re.sub(r\" iii \", \" 3 \", str)\n",
    "    str = re.sub(r\" banglore \", \" bangalore \", str)\n",
    "    str = re.sub(r\" j k \", \" jk \", str)\n",
    "    str = re.sub(r\" J\\.K\\. \", \" jk \", str)\n",
    "\n",
    "    \n",
    "    # some others\n",
    "    str = re.sub(r\"60k\", \" 60000 \", str)\n",
    "    str = re.sub(r\" e g \", \" eg \", str)\n",
    "    str = re.sub(r\" b g \", \" bg \", str)\n",
    "    str = re.sub(r\"\\0s\", \"0\", str)\n",
    "    str = re.sub(r\" 9 11 \", \"911\", str)\n",
    "    str = re.sub(r\"\\s{2,}\", \" \", str)\n",
    "    str = re.sub(r\" usa \", \" America \", str)\n",
    "    str = re.sub(r\" u s \", \" America \", str)\n",
    "    str = re.sub(r\"'m \", \" am \", str)\n",
    "\n",
    "    # units\n",
    "    str = re.sub(r\"(\\d+)kgs \", lambda m: m.group(1) + ' kg ', str)        # e.g. 4kgs => 4 kg\n",
    "    str = re.sub(r\"(\\d+)kg \", lambda m: m.group(1) + ' kg ', str)         # e.g. 4kg => 4 kg\n",
    "    str = re.sub(r\"(\\d+)k \", lambda m: m.group(1) + '000 ', str)          # e.g. 4k => 4000\n",
    "    str = re.sub(r\"\\$(\\d+)\", lambda m: m.group(1) + ' dollar ', str)\n",
    "    str = re.sub(r\"(\\d+)\\$\", lambda m: m.group(1) + ' dollar ', str)\n",
    "    # This one is important in 2017\n",
    "    str = re.sub(' donald trump',' trump ',str)\n",
    "    str = re.sub(' dollars',' dollar ',str)\n",
    "    str = re.sub(' quaro',' quora ',str)\n",
    "    str = re.sub(r\"googling\", \" google \", str)\n",
    "    str = re.sub(r\"googled\", \" google \", str)\n",
    "    str = re.sub(r\"googleable\", \" google \", str)\n",
    "    str = re.sub(r\"googles\", \" google \", str)\n",
    "    \n",
    "    str = re.sub(r\"₹\", \" rs \", str)      # 测试！\n",
    "    str = re.sub(r\"\\$\", \" dollar \", str)  \n",
    "    \n",
    "    #str = re.sub('[^\\x00-\\x7F]+', ' ', str)\n",
    "    # this will blank any of !\"#%&\\'()*+,./:;<=>?[\\\\]^_`{|}~-@\n",
    "    # Note the @ is dubious : won't we loose some emails ??\n",
    "    # and $ is replaced by dollar before\n",
    "    str = str.translate(FINAL_PUNC_CLEANER)\n",
    "\n",
    "    return str\n"
   ],
   "cell_type": "code",
   "metadata": {},
   "execution_count": null,
   "outputs": []
  },
  {
   "source": [
    "time to clean up useless columns. A huge quantity of mem is wasted .."
   ],
   "cell_type": "markdown",
   "metadata": {}
  },
  {
   "cell_type": "code",
   "execution_count": null,
   "metadata": {},
   "outputs": [],
   "source": [
    "train_dataframe=train_dataframe.drop(columns=['common_words','uncommon_words_question1','uncommon_words_question2','nltk_common_words','nltk_uncommon_words_question1','nltk_uncommon_words_question2','all_common_words','all_uncommon_words_question1','all_uncommon_words_question2','unknown_question1','unknown_question2'])\n",
    "challenge_dataframe=challenge_dataframe.drop(columns=['common_words','uncommon_words_question1','uncommon_words_question2','nltk_common_words','nltk_uncommon_words_question1','nltk_uncommon_words_question2','all_common_words','all_uncommon_words_question1','all_uncommon_words_question2','unknown_question1','unknown_question2'])"
   ]
  },
  {
   "cell_type": "code",
   "execution_count": null,
   "metadata": {
    "tags": []
   },
   "outputs": [],
   "source": [
    "  \n",
    "def clean_build_no_stopwords_features_one_row(q1,q2,stopwords):\n",
    "    q1 = clean_string(q1)\n",
    "    q2 = clean_string(q2)\n",
    "    q1 = set([w for w in q1.split() if w not in stopwords])\n",
    "    len_q1 = len(q1)\n",
    "    q2 = set([w for w in q2.split() if w not in stopwords])\n",
    "    len_q2 = len(q2)\n",
    "\n",
    "    common = q1&q2\n",
    "    len_common = len(common)\n",
    "\n",
    "    uncommon_q1 = q1-common\n",
    "    len_uncommon_q1 = len(uncommon_q1)\n",
    "\n",
    "    uncommon_q2 = q2-common\n",
    "    len_uncommon_q2 = len(uncommon_q2)\n",
    "    #       0     1           2            2         4               5               6      7      8                        9                        10\n",
    "    return common,uncommon_q1,uncommon_q2,len_common,len_uncommon_q1,len_uncommon_q2,len_q1,len_q2,len_common/max(1,len_q1),len_common/max(1,len_q2),len_common/max(1,(len_q1+len_q2))\n",
    "\n",
    "\n",
    "def clean_build_all_stop_words_features(dataframe): \n",
    "    print_warning('Clean text and compute all features in one shot')\n",
    "    add_column_from_columns(dataframe,'temp',lambda r: clean_build_no_stopwords_features_one_row(r.question1,r.question2,all_stop_words))\n",
    "    \n",
    "    print_warning('Extract nb_words_question1')\n",
    "    add_column_from_column(dataframe,'clean_all_nb_words_question1','temp',lambda x: x[6])\n",
    "    print_warning('Extract nb_words_question2')\n",
    "    add_column_from_column(dataframe,'clean_all_nb_words_question2','temp',lambda x: x[7])\n",
    "\n",
    "  \n",
    "    print_warning('Extract Nb common_words between question1 & question2')\n",
    "    add_column_from_column(dataframe,'clean_all_nb_common_words','temp',lambda x: x[3])\n",
    "\n",
    "    print_warning('Extract Nb common words/nb words in question1')\n",
    "    add_column_from_column(dataframe,'clean_all_nb_common_words/clean_all_nb_words_question1','temp',lambda x: x[8])\n",
    "\n",
    "    print_warning('Extract Nb common words/nb words in question2')\n",
    "    add_column_from_column(dataframe,'clean_all_nb_common_words/clean_all_nb_words_question2','temp',lambda x: x[9])\n",
    "\n",
    "    print_warning('Extract Nb words in question1 not in common words')\n",
    "    add_column_from_column(dataframe,'clean_all_nb_words_question1-clean_all_common_words','temp',lambda x: x[4])\n",
    "\n",
    "    print_warning('Extract Nb words in question2 not in common words')\n",
    "    add_column_from_column(dataframe,'clean_all_nb_words_question2-clean_all_common_words','temp',lambda x: x[5])\n",
    "\n",
    "    print_warning('Compute (nb common words)/(nb words in question1+nb word in question2)')\n",
    "    add_column_from_column(dataframe,'clean_all_nb_common_words/(clean_all_nb_words_question1+clean_all_nb_words_question2)','temp',lambda x: x[10])\n",
    "    \n",
    "    print_warning('Extract common words between question1 & question2')\n",
    "    add_column_from_column(dataframe,'clean_all_common_words','temp',lambda x: x[0])\n",
    "    \n",
    "    print_warning('Extract uncommon words in question1')\n",
    "    add_column_from_column(dataframe,'clean_all_uncommon_words_question1','temp',lambda x: x[1])\n",
    "\n",
    "    print_warning('Extract uncommon words in question2')\n",
    "    add_column_from_column(dataframe,'clean_all_uncommon_words_question2','temp',lambda x: x[2])\n",
    "    dataframe = dataframe.drop (columns='temp')  \n",
    "    return dataframe\n",
    "\n",
    "train_dataframe = load_or_build_dataframe('Training data + clean + all stop words features','training_clean_all_stop_words_features',clean_build_all_stop_words_features,train_dataframe)\n",
    "challenge_dataframe = load_or_build_dataframe('Challenge data + clean + all stop words features','challenge_clean_all_stop_words_features',clean_build_all_stop_words_features,challenge_dataframe)"
   ]
  },
  {
   "cell_type": "code",
   "execution_count": null,
   "metadata": {},
   "outputs": [],
   "source": [
    "challenge_dataframe=challenge_dataframe.drop(columns=['clean_all_common_words','clean_all_uncommon_words_question1','clean_all_uncommon_words_question2'])\n",
    "train_dataframe=train_dataframe.drop(columns=['clean_all_common_words','clean_all_uncommon_words_question1','clean_all_uncommon_words_question2'])\n"
   ]
  },
  {
   "source": [
    "We have generated our best features (the ones with the extended stop words) on preprocessed text.\n",
    "Let's update our domains and build models"
   ],
   "cell_type": "markdown",
   "metadata": {}
  },
  {
   "cell_type": "code",
   "execution_count": null,
   "metadata": {
    "tags": []
   },
   "outputs": [],
   "source": [
    "# To build a model with every kind of features except the 2 'not in english dict' ones\n",
    "ALL_FEATURES_EXCEPT_DICT = [c for c in all_numeric_columns(train_dataframe) if 'unknown' not in c] \n",
    "# To build a model with only features not aware of any stop words\n",
    "ALL_BASIC_FEATURES = [c for c in all_numeric_columns(train_dataframe) if 'nltk' not in c and 'all' not in c and 'unknown' not in c] \n",
    "# To build a model with only features aware of nltk stop words\n",
    "ALL_NLTK_FEATURES = [c for c in all_numeric_columns(train_dataframe) if 'nltk' in c] \n",
    "# To build a model with only features not aware of extended stop words\n",
    "ALL_EXTENDED_FEATURES = [c for c in all_numeric_columns(train_dataframe) if 'all' in c] \n",
    "# To build a model with only features on top of clean text and extended stop words\n",
    "ALL_CLEAN_EXTENDED_FEATURES = [c for c in all_numeric_columns(train_dataframe) if 'clean' in c] \n",
    "# The 2 nb 'not in english dictionary' features \n",
    "ALL_DICT_FEATURES = [c for c in all_numeric_columns(train_dataframe) if 'unknown' in c] \n",
    "\n",
    "# everything\n",
    "ALL_ALL_FEATURES = all_numeric_columns(train_dataframe)\n",
    "\n",
    "xgboost_only_stop_columns_results = study_fields(\n",
    "    'Only on extended features on clean text',\n",
    "    'clean_extended_features_xgboost',\n",
    "    ALL_CLEAN_EXTENDED_FEATURES,\n",
    "    train_dataframe,\n",
    "    challenge_dataframe,\n",
    "    explore=False)\n",
    "\n"
   ]
  },
  {
   "cell_type": "code",
   "execution_count": null,
   "metadata": {
    "tags": []
   },
   "outputs": [],
   "source": [
    "xgboost_clean_all_all_features_results = study_fields(\n",
    "    'all features on clean text',\n",
    "    'clean_all_features_xgboost',\n",
    "    ALL_ALL_FEATURES,\n",
    "    train_dataframe,\n",
    "    challenge_dataframe,\n",
    "    explore=False)"
   ]
  },
  {
   "cell_type": "code",
   "execution_count": null,
   "metadata": {},
   "outputs": [],
   "source": [
    "train_dataframe[WEIGHT]"
   ]
  },
  {
   "cell_type": "code",
   "execution_count": null,
   "metadata": {},
   "outputs": [],
   "source": [
    "all_submissions = load_kaggle_submissions()\n",
    "display(get_last_submissions(all_submissions))\n",
    "display(get_best_submissions(all_submissions,3))"
   ]
  },
  {
   "source": [
    "We have generated a bunch of other features in spacy_preprocessing.ipynb\n",
    "* all usual nb common features but on lemmatized questions, hoping it will make nb common feature more significative\n",
    "* a set of interesting entities and some ratios have been generated\n",
    "    * for each question and each kind of entity\n",
    "        * the number of entities\n",
    "        * the number of common entities\n",
    "        * ratio number of common entities/number of entities\n",
    "Idea is entities are high level information about a question. So if entities are/are not the same, in both questions, it should help "
   ],
   "cell_type": "markdown",
   "metadata": {}
  },
  {
   "source": [
    "Load these new from features from gobal repository (quite heavy to generate)"
   ],
   "cell_type": "markdown",
   "metadata": {}
  },
  {
   "cell_type": "code",
   "execution_count": null,
   "metadata": {},
   "outputs": [],
   "source": [
    "copy_from_pandas_store_if_missing('train_final_lemmatized_entities_features')\n",
    "train_lemmatized_entities = load_dataframe('train_final_lemmatized_entities_features')\n",
    "\n",
    "copy_from_pandas_store_if_missing('challenge_final_lemmatized_entities_features')\n",
    "challenge_lemmatized_entities = load_dataframe('challenge_final_lemmatized_entities_features')"
   ]
  },
  {
   "source": [
    "Glue our new set of features to train and challenge data"
   ],
   "cell_type": "markdown",
   "metadata": {}
  },
  {
   "cell_type": "code",
   "execution_count": null,
   "metadata": {},
   "outputs": [],
   "source": [
    "# The set_index option was specially tricky. Made me mad for a while\n",
    "train_dataframe = pandas.concat([train_dataframe,train_lemmatized_entities.set_index(train_dataframe.index)],axis=1)\n",
    "challenge_dataframe = pandas.concat([challenge_dataframe,challenge_lemmatized_entities.set_index(challenge_dataframe.index)],axis=1)"
   ]
  },
  {
   "source": [
    "Let's define clearly our domains"
   ],
   "cell_type": "markdown",
   "metadata": {}
  },
  {
   "cell_type": "code",
   "execution_count": null,
   "metadata": {},
   "outputs": [],
   "source": [
    "# To build a model with every kind of features except the 2 'not in english dict' ones\n",
    "ALL_FEATURES_EXCEPT_DICT = [c for c in all_numeric_columns(train_dataframe) if 'unknown' not in c] \n",
    "# To build a model with only features not aware of any stop words\n",
    "ALL_BASIC_FEATURES = [c for c in all_numeric_columns(train_dataframe) if 'nltk' not in c and 'all' not in c and 'unknown' not in c] \n",
    "# To build a model with only features aware of nltk stop words\n",
    "ALL_NLTK_FEATURES = [c for c in all_numeric_columns(train_dataframe) if 'nltk' in c] \n",
    "# To build a model with only features not aware of extended stop words\n",
    "ALL_EXTENDED_FEATURES = [c for c in all_numeric_columns(train_dataframe) if 'all' in c] \n",
    "# To build a model with only features on top of clean text and extended stop words\n",
    "ALL_CLEAN_EXTENDED_FEATURES = [c for c in all_numeric_columns(train_dataframe) if 'clean' in c] \n",
    "# The 2 nb 'not in english dictionary' features \n",
    "ALL_DICT_FEATURES = [c for c in all_numeric_columns(train_dataframe) if 'unknown' in c] \n",
    "\n",
    "ALL_LEMMATIZED_FEATURES=[c for c in all_numeric_columns(train_dataframe) if 'lemma' in c]\n",
    "ALL_ENTITIES_FEATURES=[c for c in all_numeric_columns(train_dataframe) if 'entities' in c]\n",
    "\n",
    "# everything\n",
    "ALL_ALL_FEATURES = all_numeric_columns(train_dataframe)\n",
    "# everything except entities\n",
    "ALL_EXCEPT_ENTITIES = [c for c in all_numeric_columns(train_dataframe) if 'entities' not in c]"
   ]
  },
  {
   "cell_type": "code",
   "execution_count": null,
   "metadata": {},
   "outputs": [],
   "source": [
    "ALL_ALL_FEATURES"
   ]
  },
  {
   "source": [
    "Let's see if the model improved"
   ],
   "cell_type": "markdown",
   "metadata": {}
  },
  {
   "cell_type": "code",
   "execution_count": null,
   "metadata": {},
   "outputs": [],
   "source": [
    "challenge_dataframe.columns"
   ]
  },
  {
   "cell_type": "code",
   "execution_count": null,
   "metadata": {
    "tags": []
   },
   "outputs": [],
   "source": [
    "assert WEIGHT in train_dataframe\n",
    "xgboost_everything_results = study_fields(\n",
    "    'Everything',\n",
    "    'everything_xgboost',\n",
    "    ALL_ALL_FEATURES,\n",
    "    train_dataframe,\n",
    "    challenge_dataframe,\n",
    "    explore=False)"
   ]
  },
  {
   "cell_type": "code",
   "execution_count": null,
   "metadata": {},
   "outputs": [],
   "source": [
    "all_submissions = load_kaggle_submissions()\n",
    "display(get_last_submissions(all_submissions))\n",
    "display(get_best_submissions(all_submissions,3))"
   ]
  },
  {
   "cell_type": "code",
   "execution_count": null,
   "metadata": {
    "tags": []
   },
   "outputs": [],
   "source": [
    "\n",
    "xgboost_everything_except_entities_results = study_fields(\n",
    "    'Everything excep entities',\n",
    "    'everything_except_entities_xgboost',\n",
    "    ALL_EXCEPT_ENTITIES,\n",
    "    train_dataframe,\n",
    "    challenge_dataframe,\n",
    "    explore=False)\n",
    "    "
   ]
  },
  {
   "cell_type": "code",
   "execution_count": null,
   "metadata": {},
   "outputs": [],
   "source": [
    "all_submissions = load_kaggle_submissions()\n",
    "display(get_last_submissions(all_submissions))\n",
    "display(get_best_submissions(all_submissions,3))"
   ]
  },
  {
   "source": [
    "Surprisingly, the very small information provided by entities still gives us a significatively better kaggle score\n",
    "\n",
    "||                  ||test score||challenge private score||\n",
    "\n",
    "|| without entities || 0.329516 || 0.34305\n",
    "\n",
    "|| with entities || 0.329516    ||                 0.34097 ||\n",
    "\n",
    "        "
   ],
   "cell_type": "markdown",
   "metadata": {}
  },
  {
   "source": [
    "# TODO : \n",
    "* All AUCs\n",
    "* recompute %of rows impact by entities ...\n",
    "* Do the Mc Bidule test to see if models are really different\n",
    "* se if we can discover where entities informations has enhanced the model\n"
   ],
   "cell_type": "markdown",
   "metadata": {}
  },
  {
   "source": [
    "Let's challenge the threshold used by xgboost to generate final predictions (not the proba)\n",
    "\n",
    "So do the prediction with standard 0.5 threshold\n"
   ],
   "cell_type": "markdown",
   "metadata": {}
  },
  {
   "cell_type": "code",
   "execution_count": null,
   "metadata": {},
   "outputs": [],
   "source": [
    "\n",
    "model = xgboost_everything_results['model'][0]\n",
    "\n",
    "prediction_proba_df = apply_xgboost(model,ALL_ALL_FEATURES,challenge_dataframe)\n",
    "#prediction_proba_df['pred'] = numpy.where(prediction_proba_df>0.5,1,0)"
   ]
  },
  {
   "cell_type": "code",
   "execution_count": null,
   "metadata": {},
   "outputs": [],
   "source": [
    "prediction_proba_df['pred']=0       \n",
    "prediction_proba_df['pred'][(prediction_proba_df['is_duplicate']>0.5)]=1"
   ]
  },
  {
   "cell_type": "code",
   "execution_count": null,
   "metadata": {
    "tags": []
   },
   "outputs": [],
   "source": [
    "prediction_proba_df['pred']=0       \n",
    "prediction_proba_df['pred'][(prediction_proba_df['is_duplicate']>0.17)]=1\n",
    "print(prediction_proba_df['pred'].sum()/len(prediction_proba_df))\n"
   ]
  },
  {
   "cell_type": "code",
   "execution_count": null,
   "metadata": {},
   "outputs": [],
   "source": [
    "from xgboost import plot_tree\n",
    "import matplotlib.pyplot as plt\n",
    "\n",
    "plot.figure(figsize=(30, 20))\n",
    "xgboost.plot_importance(model,max_num_features=18)\n",
    "plot.show()"
   ]
  },
  {
   "source": [
    "Let's try to use an external source of high level data : 20newsgroup\n",
    "\n",
    "20newsgroup is a standard dataset to demonstrate multilabel classfication on text\n",
    "\n",
    "20000 post from 2 newsgroups are labelled with their newsgroup title\n",
    "\n",
    "It will be very partial but if both questions are classified/not classified with the same newgroup, it can help to decide if\n",
    "questions are similar or not\n",
    "\n",
    "Newsgroup are:\n",
    "* religion\n",
    "* computers\n",
    "* forsale\n",
    "* vehicles\n",
    "* sport\n",
    "* science\n",
    "* politics\n",
    "\n",
    "First test is very brutal:\n",
    "* all probabilities of each newsgroup for each question (training and challenge) has been computed in newgroup.ipynb\n",
    "* we just add this new domain\n"
   ],
   "cell_type": "markdown",
   "metadata": {}
  },
  {
   "cell_type": "code",
   "execution_count": null,
   "metadata": {},
   "outputs": [],
   "source": [
    "copy_from_pandas_store_if_missing('train_newsgroup_proba')\n",
    "copy_from_pandas_store_if_missing('challenge_newsgroup_proba')\n",
    "\n",
    "print_info('train-dataframe has %d columns' % len(train_dataframe.columns) )\n",
    "train_newsgroup_proba = load_dataframe('train_newsgroup_proba')\n",
    "\n",
    "print_info('challenge_dataframe has %d columns' % len(train_dataframe.columns) )\n",
    "challenge_newsgroup_proba = load_dataframe('challenge_newsgroup_proba')\n",
    "\n",
    "# Glue them to train_dataframe & challenge_dataframe\n",
    "train_dataframe = pandas.concat([train_dataframe,train_newsgroup_proba.set_index(train_dataframe.index)],axis=1)\n",
    "challenge_dataframe = pandas.concat([challenge_dataframe,challenge_newsgroup_proba.set_index(challenge_dataframe.index)],axis=1)\n",
    "\n",
    "del train_newsgroup_proba\n",
    "del challenge_newsgroup_proba\n",
    "print_info('train-dataframe has now %d columns' % len(train_dataframe.columns) )"
   ]
  },
  {
   "source": [
    "Define our new domains"
   ],
   "cell_type": "markdown",
   "metadata": {}
  },
  {
   "source": [
    "# everything\n",
    "ALL_ALL_FEATURES = all_numeric_columns(train_dataframe)\n",
    "# everything except entities\n",
    "ALL_EXCEPT_PROBA = [c for c in all_numeric_columns(train_dataframe) if 'proba' not in c]\n",
    "ALL_PROBA = [c for c in all_numeric_columns(train_dataframe) if 'proba' in c]\n",
    "ALL_PROBA"
   ],
   "cell_type": "code",
   "metadata": {},
   "execution_count": null,
   "outputs": []
  },
  {
   "cell_type": "code",
   "execution_count": null,
   "metadata": {
    "tags": []
   },
   "outputs": [],
   "source": [
    "xgboost_everything_plus_proba_newgroups_results = study_fields(\n",
    "    'Everything plus proba newgroups',\n",
    "    'everything_plus_proba_newgroups',\n",
    "    ALL_ALL_FEATURES,\n",
    "    train_dataframe,\n",
    "    challenge_dataframe,\n",
    "    explore=False)"
   ]
  },
  {
   "cell_type": "code",
   "execution_count": null,
   "metadata": {},
   "outputs": [],
   "source": [
    "all_submissions = load_kaggle_submissions()\n",
    "display(get_last_submissions(all_submissions))\n",
    "display(get_best_submissions(all_submissions,3))"
   ]
  }
 ]
}