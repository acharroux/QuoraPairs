{
 "cells": [
  {
   "cell_type": "code",
   "execution_count": 1,
   "metadata": {
    "ExecuteTime": {
     "end_time": "2020-09-03T09:29:11.643421Z",
     "start_time": "2020-09-03T09:29:08.401788Z"
    }
   },
   "outputs": [],
   "source": [
    "import numpy\n",
    "import pandas\n",
    "import os\n",
    "import gc\n",
    "import matplotlib.pyplot as plot\n",
    "import unicodedata\n",
    "import seaborn as sns\n",
    "from sklearn.feature_extraction.text import TfidfVectorizer\n",
    "# This is upposed to enhance default pandas display\n",
    "pandas.set_option('display.width',120)\n"
   ]
  },
  {
   "cell_type": "markdown",
   "metadata": {},
   "source": [
    "## Read text files "
   ]
  },
  {
   "cell_type": "code",
   "execution_count": 2,
   "metadata": {
    "ExecuteTime": {
     "end_time": "2020-09-03T09:29:12.944455Z",
     "start_time": "2020-09-03T09:29:11.650428Z"
    },
    "tags": []
   },
   "outputs": [
    {
     "output_type": "stream",
     "name": "stdout",
     "text": "load clean_training\nTrain contains 404290 lines\nload clean_challenge\nChallenge contains 2345796 lines\n"
    }
   ],
   "source": [
    "def load_dataframe(file_name,title):\n",
    "    print ('load %s' % file_name)\n",
    "    df = pandas.read_pickle('../PandasStore/'+file_name+'.pkl')\n",
    "    print('%s contains %d lines' % (title,len(df)))\n",
    "    df.metadata={'title':title}\n",
    "    return df\n",
    "\n",
    "train_dataframe = load_dataframe('clean_training','Train')\n",
    "challenge_dataframe = load_dataframe('clean_challenge','Challenge')"
   ]
  },
  {
   "cell_type": "code",
   "execution_count": 3,
   "metadata": {
    "ExecuteTime": {
     "end_time": "2020-09-03T09:29:12.964451Z",
     "start_time": "2020-09-03T09:29:12.947452Z"
    }
   },
   "outputs": [
    {
     "output_type": "execute_result",
     "data": {
      "text/plain": "   id  qid1  qid2                                          question1  \\\n0   0     1     2  What is the step by step guide to invest in sh...   \n1   1     3     4  What is the story of Kohinoor (Koh-i-Noor) Dia...   \n2   2     5     6  How can I increase the speed of my internet co...   \n3   3     7     8  Why am I mentally very lonely? How can I solve...   \n4   4     9    10  Which one dissolve in water quikly sugar, salt...   \n\n                                           question2  is_duplicate  \n0  What is the step by step guide to invest in sh...             0  \n1  What would happen if the Indian government sto...             0  \n2  How can Internet speed be increased by hacking...             0  \n3  Find the remainder when [math]23^{24}[/math] i...             0  \n4            Which fish would survive in salt water?             0  ",
      "text/html": "<div>\n<style scoped>\n    .dataframe tbody tr th:only-of-type {\n        vertical-align: middle;\n    }\n\n    .dataframe tbody tr th {\n        vertical-align: top;\n    }\n\n    .dataframe thead th {\n        text-align: right;\n    }\n</style>\n<table border=\"1\" class=\"dataframe\">\n  <thead>\n    <tr style=\"text-align: right;\">\n      <th></th>\n      <th>id</th>\n      <th>qid1</th>\n      <th>qid2</th>\n      <th>question1</th>\n      <th>question2</th>\n      <th>is_duplicate</th>\n    </tr>\n  </thead>\n  <tbody>\n    <tr>\n      <th>0</th>\n      <td>0</td>\n      <td>1</td>\n      <td>2</td>\n      <td>What is the step by step guide to invest in sh...</td>\n      <td>What is the step by step guide to invest in sh...</td>\n      <td>0</td>\n    </tr>\n    <tr>\n      <th>1</th>\n      <td>1</td>\n      <td>3</td>\n      <td>4</td>\n      <td>What is the story of Kohinoor (Koh-i-Noor) Dia...</td>\n      <td>What would happen if the Indian government sto...</td>\n      <td>0</td>\n    </tr>\n    <tr>\n      <th>2</th>\n      <td>2</td>\n      <td>5</td>\n      <td>6</td>\n      <td>How can I increase the speed of my internet co...</td>\n      <td>How can Internet speed be increased by hacking...</td>\n      <td>0</td>\n    </tr>\n    <tr>\n      <th>3</th>\n      <td>3</td>\n      <td>7</td>\n      <td>8</td>\n      <td>Why am I mentally very lonely? How can I solve...</td>\n      <td>Find the remainder when [math]23^{24}[/math] i...</td>\n      <td>0</td>\n    </tr>\n    <tr>\n      <th>4</th>\n      <td>4</td>\n      <td>9</td>\n      <td>10</td>\n      <td>Which one dissolve in water quikly sugar, salt...</td>\n      <td>Which fish would survive in salt water?</td>\n      <td>0</td>\n    </tr>\n  </tbody>\n</table>\n</div>"
     },
     "metadata": {},
     "execution_count": 3
    }
   ],
   "source": [
    "train_dataframe.head()"
   ]
  },
  {
   "cell_type": "code",
   "execution_count": 4,
   "metadata": {
    "ExecuteTime": {
     "end_time": "2020-09-03T09:29:12.977453Z",
     "start_time": "2020-09-03T09:29:12.967450Z"
    }
   },
   "outputs": [
    {
     "output_type": "execute_result",
     "data": {
      "text/plain": "   test_id                                          question1                                          question2\n0        0  How does the Surface Pro himself 4 compare wit...  Why did Microsoft choose core m3 and not core ...\n1        1  Should I have a hair transplant at age 24? How...        How much cost does hair transplant require?\n2        2  What but is the best way to send money from Ch...                      What you send money to China?\n3        3                        Which food not emulsifiers?                                  What foods fibre?\n4        4                   How \"aberystwyth\" start reading?                     How their can I start reading?",
      "text/html": "<div>\n<style scoped>\n    .dataframe tbody tr th:only-of-type {\n        vertical-align: middle;\n    }\n\n    .dataframe tbody tr th {\n        vertical-align: top;\n    }\n\n    .dataframe thead th {\n        text-align: right;\n    }\n</style>\n<table border=\"1\" class=\"dataframe\">\n  <thead>\n    <tr style=\"text-align: right;\">\n      <th></th>\n      <th>test_id</th>\n      <th>question1</th>\n      <th>question2</th>\n    </tr>\n  </thead>\n  <tbody>\n    <tr>\n      <th>0</th>\n      <td>0</td>\n      <td>How does the Surface Pro himself 4 compare wit...</td>\n      <td>Why did Microsoft choose core m3 and not core ...</td>\n    </tr>\n    <tr>\n      <th>1</th>\n      <td>1</td>\n      <td>Should I have a hair transplant at age 24? How...</td>\n      <td>How much cost does hair transplant require?</td>\n    </tr>\n    <tr>\n      <th>2</th>\n      <td>2</td>\n      <td>What but is the best way to send money from Ch...</td>\n      <td>What you send money to China?</td>\n    </tr>\n    <tr>\n      <th>3</th>\n      <td>3</td>\n      <td>Which food not emulsifiers?</td>\n      <td>What foods fibre?</td>\n    </tr>\n    <tr>\n      <th>4</th>\n      <td>4</td>\n      <td>How \"aberystwyth\" start reading?</td>\n      <td>How their can I start reading?</td>\n    </tr>\n  </tbody>\n</table>\n</div>"
     },
     "metadata": {},
     "execution_count": 4
    }
   ],
   "source": [
    "challenge_dataframe.head()"
   ]
  },
  {
   "cell_type": "markdown",
   "metadata": {},
   "source": [
    "## Compute TDF-IDF"
   ]
  },
  {
   "cell_type": "code",
   "execution_count": 5,
   "metadata": {
    "ExecuteTime": {
     "end_time": "2020-09-03T09:29:13.072590Z",
     "start_time": "2020-09-03T09:29:12.979451Z"
    }
   },
   "outputs": [],
   "source": [
    "all_train_questions = list(train_dataframe['question1'])+list(train_dataframe['question2'])"
   ]
  },
  {
   "cell_type": "code",
   "execution_count": 6,
   "metadata": {
    "ExecuteTime": {
     "end_time": "2020-09-03T09:29:22.633581Z",
     "start_time": "2020-09-03T09:29:13.074452Z"
    }
   },
   "outputs": [],
   "source": [
    "tfidfer = TfidfVectorizer()\n",
    "all_train_tfidfs = tfidfer.fit_transform(all_train_questions)\n"
   ]
  },
  {
   "cell_type": "code",
   "execution_count": 7,
   "metadata": {
    "ExecuteTime": {
     "end_time": "2020-09-03T09:29:22.703558Z",
     "start_time": "2020-09-03T09:29:22.635561Z"
    }
   },
   "outputs": [
    {
     "output_type": "execute_result",
     "data": {
      "text/plain": "86040"
     },
     "metadata": {},
     "execution_count": 7
    }
   ],
   "source": [
    "len(tfidfer.get_feature_names())"
   ]
  },
  {
   "cell_type": "code",
   "execution_count": 8,
   "metadata": {
    "ExecuteTime": {
     "end_time": "2020-09-03T09:29:22.783592Z",
     "start_time": "2020-09-03T09:29:22.706560Z"
    }
   },
   "outputs": [],
   "source": [
    "all_train_word2tfidf = dict(zip(tfidfer.get_feature_names(), tfidfer.idf_))"
   ]
  },
  {
   "cell_type": "code",
   "execution_count": 9,
   "metadata": {
    "ExecuteTime": {
     "end_time": "2020-09-03T09:29:25.335121Z",
     "start_time": "2020-09-03T09:29:22.785559Z"
    }
   },
   "outputs": [],
   "source": [
    "import spacy\n",
    "from tqdm import tqdm\n",
    "spacy_nlp = spacy.load('en_core_web_sm')"
   ]
  },
  {
   "cell_type": "code",
   "execution_count": 28,
   "metadata": {
    "ExecuteTime": {
     "end_time": "2020-09-03T09:34:19.510722Z",
     "start_time": "2020-09-03T09:34:17.504248Z"
    },
    "tags": []
   },
   "outputs": [
    {
     "output_type": "stream",
     "name": "stderr",
     "text": "1%|          | 4695/404290 [00:21<30:18, 219.70it/s]\n"
    },
    {
     "output_type": "error",
     "ename": "KeyboardInterrupt",
     "evalue": "",
     "traceback": [
      "\u001b[0;31m---------------------------------------------------------------------------\u001b[0m",
      "\u001b[0;31mKeyboardInterrupt\u001b[0m                         Traceback (most recent call last)",
      "\u001b[0;32m<ipython-input-28-211c45f968d0>\u001b[0m in \u001b[0;36m<module>\u001b[0;34m\u001b[0m\n\u001b[1;32m     38\u001b[0m \u001b[0;34m\u001b[0m\u001b[0m\n\u001b[1;32m     39\u001b[0m \u001b[0;34m\u001b[0m\u001b[0m\n\u001b[0;32m---> 40\u001b[0;31m \u001b[0mdetailed_durations\u001b[0m \u001b[0;34m=\u001b[0m \u001b[0mdo_full_nlp_with_progress\u001b[0m\u001b[0;34m(\u001b[0m\u001b[0mtrain_dataframe\u001b[0m\u001b[0;34m[\u001b[0m\u001b[0;34m'question1'\u001b[0m\u001b[0;34m]\u001b[0m\u001b[0;34m,\u001b[0m\u001b[0;34m'train_question1'\u001b[0m\u001b[0;34m)\u001b[0m\u001b[0;34m\u001b[0m\u001b[0;34m\u001b[0m\u001b[0m\n\u001b[0m\u001b[1;32m     41\u001b[0m \u001b[0mprint\u001b[0m\u001b[0;34m(\u001b[0m\u001b[0;34m'\\nTask time %.2f s'\u001b[0m \u001b[0;34m%\u001b[0m \u001b[0mdetailed_durations\u001b[0m\u001b[0;34m[\u001b[0m\u001b[0;34m'Duration'\u001b[0m\u001b[0;34m]\u001b[0m\u001b[0;34m)\u001b[0m\u001b[0;34m\u001b[0m\u001b[0;34m\u001b[0m\u001b[0m\n\u001b[1;32m     42\u001b[0m \u001b[0mdetailed_durations\u001b[0m\u001b[0;34m\u001b[0m\u001b[0;34m\u001b[0m\u001b[0m\n",
      "\u001b[0;32m<ipython-input-28-211c45f968d0>\u001b[0m in \u001b[0;36mdo_full_nlp_with_progress\u001b[0;34m(questions, task_name)\u001b[0m\n\u001b[1;32m     18\u001b[0m     \u001b[0mstart\u001b[0m \u001b[0;34m=\u001b[0m \u001b[0mtime\u001b[0m\u001b[0;34m.\u001b[0m\u001b[0mtime\u001b[0m\u001b[0;34m(\u001b[0m\u001b[0;34m)\u001b[0m\u001b[0;34m\u001b[0m\u001b[0;34m\u001b[0m\u001b[0m\n\u001b[1;32m     19\u001b[0m     \u001b[0;32mfor\u001b[0m \u001b[0mquestion\u001b[0m \u001b[0;32min\u001b[0m \u001b[0mtqdm\u001b[0m\u001b[0;34m(\u001b[0m\u001b[0mquestions\u001b[0m\u001b[0;34m)\u001b[0m\u001b[0;34m:\u001b[0m\u001b[0;34m\u001b[0m\u001b[0;34m\u001b[0m\u001b[0m\n\u001b[0;32m---> 20\u001b[0;31m             \u001b[0mpos\u001b[0m \u001b[0;34m=\u001b[0m \u001b[0mspacy_nlp\u001b[0m\u001b[0;34m(\u001b[0m\u001b[0mquestion\u001b[0m\u001b[0;34m,\u001b[0m\u001b[0mdisable\u001b[0m\u001b[0;34m=\u001b[0m\u001b[0;34m[\u001b[0m\u001b[0;34m\"parser\"\u001b[0m\u001b[0;34m]\u001b[0m\u001b[0;34m)\u001b[0m\u001b[0;34m\u001b[0m\u001b[0;34m\u001b[0m\u001b[0m\n\u001b[0m\u001b[1;32m     21\u001b[0m     return {\n\u001b[1;32m     22\u001b[0m         \u001b[0;34m'TaskName'\u001b[0m\u001b[0;34m:\u001b[0m \u001b[0mtask_name\u001b[0m\u001b[0;34m,\u001b[0m\u001b[0;34m\u001b[0m\u001b[0;34m\u001b[0m\u001b[0m\n",
      "\u001b[0;32m~/anaconda3/lib/python3.8/site-packages/spacy/language.py\u001b[0m in \u001b[0;36m__call__\u001b[0;34m(self, text, disable, component_cfg)\u001b[0m\n\u001b[1;32m    447\u001b[0m             \u001b[0;32mif\u001b[0m \u001b[0;32mnot\u001b[0m \u001b[0mhasattr\u001b[0m\u001b[0;34m(\u001b[0m\u001b[0mproc\u001b[0m\u001b[0;34m,\u001b[0m \u001b[0;34m\"__call__\"\u001b[0m\u001b[0;34m)\u001b[0m\u001b[0;34m:\u001b[0m\u001b[0;34m\u001b[0m\u001b[0;34m\u001b[0m\u001b[0m\n\u001b[1;32m    448\u001b[0m                 \u001b[0;32mraise\u001b[0m \u001b[0mValueError\u001b[0m\u001b[0;34m(\u001b[0m\u001b[0mErrors\u001b[0m\u001b[0;34m.\u001b[0m\u001b[0mE003\u001b[0m\u001b[0;34m.\u001b[0m\u001b[0mformat\u001b[0m\u001b[0;34m(\u001b[0m\u001b[0mcomponent\u001b[0m\u001b[0;34m=\u001b[0m\u001b[0mtype\u001b[0m\u001b[0;34m(\u001b[0m\u001b[0mproc\u001b[0m\u001b[0;34m)\u001b[0m\u001b[0;34m,\u001b[0m \u001b[0mname\u001b[0m\u001b[0;34m=\u001b[0m\u001b[0mname\u001b[0m\u001b[0;34m)\u001b[0m\u001b[0;34m)\u001b[0m\u001b[0;34m\u001b[0m\u001b[0;34m\u001b[0m\u001b[0m\n\u001b[0;32m--> 449\u001b[0;31m             \u001b[0mdoc\u001b[0m \u001b[0;34m=\u001b[0m \u001b[0mproc\u001b[0m\u001b[0;34m(\u001b[0m\u001b[0mdoc\u001b[0m\u001b[0;34m,\u001b[0m \u001b[0;34m**\u001b[0m\u001b[0mcomponent_cfg\u001b[0m\u001b[0;34m.\u001b[0m\u001b[0mget\u001b[0m\u001b[0;34m(\u001b[0m\u001b[0mname\u001b[0m\u001b[0;34m,\u001b[0m \u001b[0;34m{\u001b[0m\u001b[0;34m}\u001b[0m\u001b[0;34m)\u001b[0m\u001b[0;34m)\u001b[0m\u001b[0;34m\u001b[0m\u001b[0;34m\u001b[0m\u001b[0m\n\u001b[0m\u001b[1;32m    450\u001b[0m             \u001b[0;32mif\u001b[0m \u001b[0mdoc\u001b[0m \u001b[0;32mis\u001b[0m \u001b[0;32mNone\u001b[0m\u001b[0;34m:\u001b[0m\u001b[0;34m\u001b[0m\u001b[0;34m\u001b[0m\u001b[0m\n\u001b[1;32m    451\u001b[0m                 \u001b[0;32mraise\u001b[0m \u001b[0mValueError\u001b[0m\u001b[0;34m(\u001b[0m\u001b[0mErrors\u001b[0m\u001b[0;34m.\u001b[0m\u001b[0mE005\u001b[0m\u001b[0;34m.\u001b[0m\u001b[0mformat\u001b[0m\u001b[0;34m(\u001b[0m\u001b[0mname\u001b[0m\u001b[0;34m=\u001b[0m\u001b[0mname\u001b[0m\u001b[0;34m)\u001b[0m\u001b[0;34m)\u001b[0m\u001b[0;34m\u001b[0m\u001b[0;34m\u001b[0m\u001b[0m\n",
      "\u001b[0;32mpipes.pyx\u001b[0m in \u001b[0;36mspacy.pipeline.pipes.Tagger.__call__\u001b[0;34m()\u001b[0m\n",
      "\u001b[0;32mpipes.pyx\u001b[0m in \u001b[0;36mspacy.pipeline.pipes.Tagger.predict\u001b[0;34m()\u001b[0m\n",
      "\u001b[0;32m~/anaconda3/lib/python3.8/site-packages/thinc/neural/_classes/model.py\u001b[0m in \u001b[0;36m__call__\u001b[0;34m(self, x)\u001b[0m\n\u001b[1;32m    165\u001b[0m             \u001b[0mMust\u001b[0m \u001b[0mmatch\u001b[0m \u001b[0mexpected\u001b[0m \u001b[0mshape\u001b[0m\u001b[0;34m\u001b[0m\u001b[0;34m\u001b[0m\u001b[0m\n\u001b[1;32m    166\u001b[0m         \"\"\"\n\u001b[0;32m--> 167\u001b[0;31m         \u001b[0;32mreturn\u001b[0m \u001b[0mself\u001b[0m\u001b[0;34m.\u001b[0m\u001b[0mpredict\u001b[0m\u001b[0;34m(\u001b[0m\u001b[0mx\u001b[0m\u001b[0;34m)\u001b[0m\u001b[0;34m\u001b[0m\u001b[0;34m\u001b[0m\u001b[0m\n\u001b[0m\u001b[1;32m    168\u001b[0m \u001b[0;34m\u001b[0m\u001b[0m\n\u001b[1;32m    169\u001b[0m     \u001b[0;32mdef\u001b[0m \u001b[0mpipe\u001b[0m\u001b[0;34m(\u001b[0m\u001b[0mself\u001b[0m\u001b[0;34m,\u001b[0m \u001b[0mstream\u001b[0m\u001b[0;34m,\u001b[0m \u001b[0mbatch_size\u001b[0m\u001b[0;34m=\u001b[0m\u001b[0;36m128\u001b[0m\u001b[0;34m)\u001b[0m\u001b[0;34m:\u001b[0m\u001b[0;34m\u001b[0m\u001b[0;34m\u001b[0m\u001b[0m\n",
      "\u001b[0;32m~/anaconda3/lib/python3.8/site-packages/thinc/neural/_classes/feed_forward.py\u001b[0m in \u001b[0;36mpredict\u001b[0;34m(self, X)\u001b[0m\n\u001b[1;32m     38\u001b[0m     \u001b[0;32mdef\u001b[0m \u001b[0mpredict\u001b[0m\u001b[0;34m(\u001b[0m\u001b[0mself\u001b[0m\u001b[0;34m,\u001b[0m \u001b[0mX\u001b[0m\u001b[0;34m)\u001b[0m\u001b[0;34m:\u001b[0m\u001b[0;34m\u001b[0m\u001b[0;34m\u001b[0m\u001b[0m\n\u001b[1;32m     39\u001b[0m         \u001b[0;32mfor\u001b[0m \u001b[0mlayer\u001b[0m \u001b[0;32min\u001b[0m \u001b[0mself\u001b[0m\u001b[0;34m.\u001b[0m\u001b[0m_layers\u001b[0m\u001b[0;34m:\u001b[0m\u001b[0;34m\u001b[0m\u001b[0;34m\u001b[0m\u001b[0m\n\u001b[0;32m---> 40\u001b[0;31m             \u001b[0mX\u001b[0m \u001b[0;34m=\u001b[0m \u001b[0mlayer\u001b[0m\u001b[0;34m(\u001b[0m\u001b[0mX\u001b[0m\u001b[0;34m)\u001b[0m\u001b[0;34m\u001b[0m\u001b[0;34m\u001b[0m\u001b[0m\n\u001b[0m\u001b[1;32m     41\u001b[0m         \u001b[0;32mreturn\u001b[0m \u001b[0mX\u001b[0m\u001b[0;34m\u001b[0m\u001b[0;34m\u001b[0m\u001b[0m\n\u001b[1;32m     42\u001b[0m \u001b[0;34m\u001b[0m\u001b[0m\n",
      "\u001b[0;32m~/anaconda3/lib/python3.8/site-packages/thinc/neural/_classes/model.py\u001b[0m in \u001b[0;36m__call__\u001b[0;34m(self, x)\u001b[0m\n\u001b[1;32m    165\u001b[0m             \u001b[0mMust\u001b[0m \u001b[0mmatch\u001b[0m \u001b[0mexpected\u001b[0m \u001b[0mshape\u001b[0m\u001b[0;34m\u001b[0m\u001b[0;34m\u001b[0m\u001b[0m\n\u001b[1;32m    166\u001b[0m         \"\"\"\n\u001b[0;32m--> 167\u001b[0;31m         \u001b[0;32mreturn\u001b[0m \u001b[0mself\u001b[0m\u001b[0;34m.\u001b[0m\u001b[0mpredict\u001b[0m\u001b[0;34m(\u001b[0m\u001b[0mx\u001b[0m\u001b[0;34m)\u001b[0m\u001b[0;34m\u001b[0m\u001b[0;34m\u001b[0m\u001b[0m\n\u001b[0m\u001b[1;32m    168\u001b[0m \u001b[0;34m\u001b[0m\u001b[0m\n\u001b[1;32m    169\u001b[0m     \u001b[0;32mdef\u001b[0m \u001b[0mpipe\u001b[0m\u001b[0;34m(\u001b[0m\u001b[0mself\u001b[0m\u001b[0;34m,\u001b[0m \u001b[0mstream\u001b[0m\u001b[0;34m,\u001b[0m \u001b[0mbatch_size\u001b[0m\u001b[0;34m=\u001b[0m\u001b[0;36m128\u001b[0m\u001b[0;34m)\u001b[0m\u001b[0;34m:\u001b[0m\u001b[0;34m\u001b[0m\u001b[0;34m\u001b[0m\u001b[0m\n",
      "\u001b[0;32m~/anaconda3/lib/python3.8/site-packages/thinc/api.py\u001b[0m in \u001b[0;36mpredict\u001b[0;34m(seqs_in)\u001b[0m\n\u001b[1;32m    308\u001b[0m     \u001b[0;32mdef\u001b[0m \u001b[0mpredict\u001b[0m\u001b[0;34m(\u001b[0m\u001b[0mseqs_in\u001b[0m\u001b[0;34m)\u001b[0m\u001b[0;34m:\u001b[0m\u001b[0;34m\u001b[0m\u001b[0;34m\u001b[0m\u001b[0m\n\u001b[1;32m    309\u001b[0m         \u001b[0mlengths\u001b[0m \u001b[0;34m=\u001b[0m \u001b[0mlayer\u001b[0m\u001b[0;34m.\u001b[0m\u001b[0mops\u001b[0m\u001b[0;34m.\u001b[0m\u001b[0masarray\u001b[0m\u001b[0;34m(\u001b[0m\u001b[0;34m[\u001b[0m\u001b[0mlen\u001b[0m\u001b[0;34m(\u001b[0m\u001b[0mseq\u001b[0m\u001b[0;34m)\u001b[0m \u001b[0;32mfor\u001b[0m \u001b[0mseq\u001b[0m \u001b[0;32min\u001b[0m \u001b[0mseqs_in\u001b[0m\u001b[0;34m]\u001b[0m\u001b[0;34m)\u001b[0m\u001b[0;34m\u001b[0m\u001b[0;34m\u001b[0m\u001b[0m\n\u001b[0;32m--> 310\u001b[0;31m         \u001b[0mX\u001b[0m \u001b[0;34m=\u001b[0m \u001b[0mlayer\u001b[0m\u001b[0;34m(\u001b[0m\u001b[0mlayer\u001b[0m\u001b[0;34m.\u001b[0m\u001b[0mops\u001b[0m\u001b[0;34m.\u001b[0m\u001b[0mflatten\u001b[0m\u001b[0;34m(\u001b[0m\u001b[0mseqs_in\u001b[0m\u001b[0;34m,\u001b[0m \u001b[0mpad\u001b[0m\u001b[0;34m=\u001b[0m\u001b[0mpad\u001b[0m\u001b[0;34m)\u001b[0m\u001b[0;34m)\u001b[0m\u001b[0;34m\u001b[0m\u001b[0;34m\u001b[0m\u001b[0m\n\u001b[0m\u001b[1;32m    311\u001b[0m         \u001b[0;32mreturn\u001b[0m \u001b[0mlayer\u001b[0m\u001b[0;34m.\u001b[0m\u001b[0mops\u001b[0m\u001b[0;34m.\u001b[0m\u001b[0munflatten\u001b[0m\u001b[0;34m(\u001b[0m\u001b[0mX\u001b[0m\u001b[0;34m,\u001b[0m \u001b[0mlengths\u001b[0m\u001b[0;34m,\u001b[0m \u001b[0mpad\u001b[0m\u001b[0;34m=\u001b[0m\u001b[0mpad\u001b[0m\u001b[0;34m)\u001b[0m\u001b[0;34m\u001b[0m\u001b[0;34m\u001b[0m\u001b[0m\n\u001b[1;32m    312\u001b[0m \u001b[0;34m\u001b[0m\u001b[0m\n",
      "\u001b[0;32m~/anaconda3/lib/python3.8/site-packages/thinc/neural/_classes/model.py\u001b[0m in \u001b[0;36m__call__\u001b[0;34m(self, x)\u001b[0m\n\u001b[1;32m    165\u001b[0m             \u001b[0mMust\u001b[0m \u001b[0mmatch\u001b[0m \u001b[0mexpected\u001b[0m \u001b[0mshape\u001b[0m\u001b[0;34m\u001b[0m\u001b[0;34m\u001b[0m\u001b[0m\n\u001b[1;32m    166\u001b[0m         \"\"\"\n\u001b[0;32m--> 167\u001b[0;31m         \u001b[0;32mreturn\u001b[0m \u001b[0mself\u001b[0m\u001b[0;34m.\u001b[0m\u001b[0mpredict\u001b[0m\u001b[0;34m(\u001b[0m\u001b[0mx\u001b[0m\u001b[0;34m)\u001b[0m\u001b[0;34m\u001b[0m\u001b[0;34m\u001b[0m\u001b[0m\n\u001b[0m\u001b[1;32m    168\u001b[0m \u001b[0;34m\u001b[0m\u001b[0m\n\u001b[1;32m    169\u001b[0m     \u001b[0;32mdef\u001b[0m \u001b[0mpipe\u001b[0m\u001b[0;34m(\u001b[0m\u001b[0mself\u001b[0m\u001b[0;34m,\u001b[0m \u001b[0mstream\u001b[0m\u001b[0;34m,\u001b[0m \u001b[0mbatch_size\u001b[0m\u001b[0;34m=\u001b[0m\u001b[0;36m128\u001b[0m\u001b[0;34m)\u001b[0m\u001b[0;34m:\u001b[0m\u001b[0;34m\u001b[0m\u001b[0;34m\u001b[0m\u001b[0m\n",
      "\u001b[0;32m~/anaconda3/lib/python3.8/site-packages/thinc/neural/_classes/feed_forward.py\u001b[0m in \u001b[0;36mpredict\u001b[0;34m(self, X)\u001b[0m\n\u001b[1;32m     38\u001b[0m     \u001b[0;32mdef\u001b[0m \u001b[0mpredict\u001b[0m\u001b[0;34m(\u001b[0m\u001b[0mself\u001b[0m\u001b[0;34m,\u001b[0m \u001b[0mX\u001b[0m\u001b[0;34m)\u001b[0m\u001b[0;34m:\u001b[0m\u001b[0;34m\u001b[0m\u001b[0;34m\u001b[0m\u001b[0m\n\u001b[1;32m     39\u001b[0m         \u001b[0;32mfor\u001b[0m \u001b[0mlayer\u001b[0m \u001b[0;32min\u001b[0m \u001b[0mself\u001b[0m\u001b[0;34m.\u001b[0m\u001b[0m_layers\u001b[0m\u001b[0;34m:\u001b[0m\u001b[0;34m\u001b[0m\u001b[0;34m\u001b[0m\u001b[0m\n\u001b[0;32m---> 40\u001b[0;31m             \u001b[0mX\u001b[0m \u001b[0;34m=\u001b[0m \u001b[0mlayer\u001b[0m\u001b[0;34m(\u001b[0m\u001b[0mX\u001b[0m\u001b[0;34m)\u001b[0m\u001b[0;34m\u001b[0m\u001b[0;34m\u001b[0m\u001b[0m\n\u001b[0m\u001b[1;32m     41\u001b[0m         \u001b[0;32mreturn\u001b[0m \u001b[0mX\u001b[0m\u001b[0;34m\u001b[0m\u001b[0;34m\u001b[0m\u001b[0m\n\u001b[1;32m     42\u001b[0m \u001b[0;34m\u001b[0m\u001b[0m\n",
      "\u001b[0;32m~/anaconda3/lib/python3.8/site-packages/thinc/neural/_classes/model.py\u001b[0m in \u001b[0;36m__call__\u001b[0;34m(self, x)\u001b[0m\n\u001b[1;32m    165\u001b[0m             \u001b[0mMust\u001b[0m \u001b[0mmatch\u001b[0m \u001b[0mexpected\u001b[0m \u001b[0mshape\u001b[0m\u001b[0;34m\u001b[0m\u001b[0;34m\u001b[0m\u001b[0m\n\u001b[1;32m    166\u001b[0m         \"\"\"\n\u001b[0;32m--> 167\u001b[0;31m         \u001b[0;32mreturn\u001b[0m \u001b[0mself\u001b[0m\u001b[0;34m.\u001b[0m\u001b[0mpredict\u001b[0m\u001b[0;34m(\u001b[0m\u001b[0mx\u001b[0m\u001b[0;34m)\u001b[0m\u001b[0;34m\u001b[0m\u001b[0;34m\u001b[0m\u001b[0m\n\u001b[0m\u001b[1;32m    168\u001b[0m \u001b[0;34m\u001b[0m\u001b[0m\n\u001b[1;32m    169\u001b[0m     \u001b[0;32mdef\u001b[0m \u001b[0mpipe\u001b[0m\u001b[0;34m(\u001b[0m\u001b[0mself\u001b[0m\u001b[0;34m,\u001b[0m \u001b[0mstream\u001b[0m\u001b[0;34m,\u001b[0m \u001b[0mbatch_size\u001b[0m\u001b[0;34m=\u001b[0m\u001b[0;36m128\u001b[0m\u001b[0;34m)\u001b[0m\u001b[0;34m:\u001b[0m\u001b[0;34m\u001b[0m\u001b[0;34m\u001b[0m\u001b[0m\n",
      "\u001b[0;32m~/anaconda3/lib/python3.8/site-packages/thinc/neural/_classes/resnet.py\u001b[0m in \u001b[0;36mpredict\u001b[0;34m(self, X)\u001b[0m\n\u001b[1;32m     16\u001b[0m \u001b[0;34m\u001b[0m\u001b[0m\n\u001b[1;32m     17\u001b[0m     \u001b[0;32mdef\u001b[0m \u001b[0mpredict\u001b[0m\u001b[0;34m(\u001b[0m\u001b[0mself\u001b[0m\u001b[0;34m,\u001b[0m \u001b[0mX\u001b[0m\u001b[0;34m)\u001b[0m\u001b[0;34m:\u001b[0m\u001b[0;34m\u001b[0m\u001b[0;34m\u001b[0m\u001b[0m\n\u001b[0;32m---> 18\u001b[0;31m         \u001b[0mY\u001b[0m \u001b[0;34m=\u001b[0m \u001b[0mself\u001b[0m\u001b[0;34m.\u001b[0m\u001b[0m_layers\u001b[0m\u001b[0;34m[\u001b[0m\u001b[0;36m0\u001b[0m\u001b[0;34m]\u001b[0m\u001b[0;34m(\u001b[0m\u001b[0mX\u001b[0m\u001b[0;34m)\u001b[0m\u001b[0;34m\u001b[0m\u001b[0;34m\u001b[0m\u001b[0m\n\u001b[0m\u001b[1;32m     19\u001b[0m         \u001b[0;32mif\u001b[0m \u001b[0misinstance\u001b[0m\u001b[0;34m(\u001b[0m\u001b[0mX\u001b[0m\u001b[0;34m,\u001b[0m \u001b[0mlist\u001b[0m\u001b[0;34m)\u001b[0m \u001b[0;32mor\u001b[0m \u001b[0misinstance\u001b[0m\u001b[0;34m(\u001b[0m\u001b[0mX\u001b[0m\u001b[0;34m,\u001b[0m \u001b[0mtuple\u001b[0m\u001b[0;34m)\u001b[0m\u001b[0;34m:\u001b[0m\u001b[0;34m\u001b[0m\u001b[0;34m\u001b[0m\u001b[0m\n\u001b[1;32m     20\u001b[0m             \u001b[0;32mreturn\u001b[0m \u001b[0;34m[\u001b[0m\u001b[0mX\u001b[0m\u001b[0;34m[\u001b[0m\u001b[0mi\u001b[0m\u001b[0;34m]\u001b[0m \u001b[0;34m+\u001b[0m \u001b[0mY\u001b[0m\u001b[0;34m[\u001b[0m\u001b[0mi\u001b[0m\u001b[0;34m]\u001b[0m \u001b[0;32mfor\u001b[0m \u001b[0mi\u001b[0m \u001b[0;32min\u001b[0m \u001b[0mrange\u001b[0m\u001b[0;34m(\u001b[0m\u001b[0mlen\u001b[0m\u001b[0;34m(\u001b[0m\u001b[0mX\u001b[0m\u001b[0;34m)\u001b[0m\u001b[0;34m)\u001b[0m\u001b[0;34m]\u001b[0m\u001b[0;34m\u001b[0m\u001b[0;34m\u001b[0m\u001b[0m\n",
      "\u001b[0;32m~/anaconda3/lib/python3.8/site-packages/thinc/neural/_classes/model.py\u001b[0m in \u001b[0;36m__call__\u001b[0;34m(self, x)\u001b[0m\n\u001b[1;32m    165\u001b[0m             \u001b[0mMust\u001b[0m \u001b[0mmatch\u001b[0m \u001b[0mexpected\u001b[0m \u001b[0mshape\u001b[0m\u001b[0;34m\u001b[0m\u001b[0;34m\u001b[0m\u001b[0m\n\u001b[1;32m    166\u001b[0m         \"\"\"\n\u001b[0;32m--> 167\u001b[0;31m         \u001b[0;32mreturn\u001b[0m \u001b[0mself\u001b[0m\u001b[0;34m.\u001b[0m\u001b[0mpredict\u001b[0m\u001b[0;34m(\u001b[0m\u001b[0mx\u001b[0m\u001b[0;34m)\u001b[0m\u001b[0;34m\u001b[0m\u001b[0;34m\u001b[0m\u001b[0m\n\u001b[0m\u001b[1;32m    168\u001b[0m \u001b[0;34m\u001b[0m\u001b[0m\n\u001b[1;32m    169\u001b[0m     \u001b[0;32mdef\u001b[0m \u001b[0mpipe\u001b[0m\u001b[0;34m(\u001b[0m\u001b[0mself\u001b[0m\u001b[0;34m,\u001b[0m \u001b[0mstream\u001b[0m\u001b[0;34m,\u001b[0m \u001b[0mbatch_size\u001b[0m\u001b[0;34m=\u001b[0m\u001b[0;36m128\u001b[0m\u001b[0;34m)\u001b[0m\u001b[0;34m:\u001b[0m\u001b[0;34m\u001b[0m\u001b[0;34m\u001b[0m\u001b[0m\n",
      "\u001b[0;32m~/anaconda3/lib/python3.8/site-packages/thinc/neural/_classes/feed_forward.py\u001b[0m in \u001b[0;36mpredict\u001b[0;34m(self, X)\u001b[0m\n\u001b[1;32m     38\u001b[0m     \u001b[0;32mdef\u001b[0m \u001b[0mpredict\u001b[0m\u001b[0;34m(\u001b[0m\u001b[0mself\u001b[0m\u001b[0;34m,\u001b[0m \u001b[0mX\u001b[0m\u001b[0;34m)\u001b[0m\u001b[0;34m:\u001b[0m\u001b[0;34m\u001b[0m\u001b[0;34m\u001b[0m\u001b[0m\n\u001b[1;32m     39\u001b[0m         \u001b[0;32mfor\u001b[0m \u001b[0mlayer\u001b[0m \u001b[0;32min\u001b[0m \u001b[0mself\u001b[0m\u001b[0;34m.\u001b[0m\u001b[0m_layers\u001b[0m\u001b[0;34m:\u001b[0m\u001b[0;34m\u001b[0m\u001b[0;34m\u001b[0m\u001b[0m\n\u001b[0;32m---> 40\u001b[0;31m             \u001b[0mX\u001b[0m \u001b[0;34m=\u001b[0m \u001b[0mlayer\u001b[0m\u001b[0;34m(\u001b[0m\u001b[0mX\u001b[0m\u001b[0;34m)\u001b[0m\u001b[0;34m\u001b[0m\u001b[0;34m\u001b[0m\u001b[0m\n\u001b[0m\u001b[1;32m     41\u001b[0m         \u001b[0;32mreturn\u001b[0m \u001b[0mX\u001b[0m\u001b[0;34m\u001b[0m\u001b[0;34m\u001b[0m\u001b[0m\n\u001b[1;32m     42\u001b[0m \u001b[0;34m\u001b[0m\u001b[0m\n",
      "\u001b[0;32m~/anaconda3/lib/python3.8/site-packages/thinc/neural/_classes/model.py\u001b[0m in \u001b[0;36m__call__\u001b[0;34m(self, x)\u001b[0m\n\u001b[1;32m    165\u001b[0m             \u001b[0mMust\u001b[0m \u001b[0mmatch\u001b[0m \u001b[0mexpected\u001b[0m \u001b[0mshape\u001b[0m\u001b[0;34m\u001b[0m\u001b[0;34m\u001b[0m\u001b[0m\n\u001b[1;32m    166\u001b[0m         \"\"\"\n\u001b[0;32m--> 167\u001b[0;31m         \u001b[0;32mreturn\u001b[0m \u001b[0mself\u001b[0m\u001b[0;34m.\u001b[0m\u001b[0mpredict\u001b[0m\u001b[0;34m(\u001b[0m\u001b[0mx\u001b[0m\u001b[0;34m)\u001b[0m\u001b[0;34m\u001b[0m\u001b[0;34m\u001b[0m\u001b[0m\n\u001b[0m\u001b[1;32m    168\u001b[0m \u001b[0;34m\u001b[0m\u001b[0m\n\u001b[1;32m    169\u001b[0m     \u001b[0;32mdef\u001b[0m \u001b[0mpipe\u001b[0m\u001b[0;34m(\u001b[0m\u001b[0mself\u001b[0m\u001b[0;34m,\u001b[0m \u001b[0mstream\u001b[0m\u001b[0;34m,\u001b[0m \u001b[0mbatch_size\u001b[0m\u001b[0;34m=\u001b[0m\u001b[0;36m128\u001b[0m\u001b[0;34m)\u001b[0m\u001b[0;34m:\u001b[0m\u001b[0;34m\u001b[0m\u001b[0;34m\u001b[0m\u001b[0m\n",
      "\u001b[0;32m~/anaconda3/lib/python3.8/site-packages/thinc/neural/_classes/layernorm.py\u001b[0m in \u001b[0;36mpredict\u001b[0;34m(self, X)\u001b[0m\n\u001b[1;32m     52\u001b[0m             \u001b[0;32mreturn\u001b[0m \u001b[0mX\u001b[0m\u001b[0;34m\u001b[0m\u001b[0;34m\u001b[0m\u001b[0m\n\u001b[1;32m     53\u001b[0m         \u001b[0;32mif\u001b[0m \u001b[0mself\u001b[0m\u001b[0;34m.\u001b[0m\u001b[0mchild\u001b[0m \u001b[0;32mis\u001b[0m \u001b[0;32mnot\u001b[0m \u001b[0;32mNone\u001b[0m\u001b[0;34m:\u001b[0m\u001b[0;34m\u001b[0m\u001b[0;34m\u001b[0m\u001b[0m\n\u001b[0;32m---> 54\u001b[0;31m             \u001b[0mX\u001b[0m \u001b[0;34m=\u001b[0m \u001b[0mself\u001b[0m\u001b[0;34m.\u001b[0m\u001b[0mchild\u001b[0m\u001b[0;34m.\u001b[0m\u001b[0mpredict\u001b[0m\u001b[0;34m(\u001b[0m\u001b[0mX\u001b[0m\u001b[0;34m)\u001b[0m\u001b[0;34m\u001b[0m\u001b[0;34m\u001b[0m\u001b[0m\n\u001b[0m\u001b[1;32m     55\u001b[0m         \u001b[0mN\u001b[0m\u001b[0;34m,\u001b[0m \u001b[0mmu\u001b[0m\u001b[0;34m,\u001b[0m \u001b[0mvar\u001b[0m \u001b[0;34m=\u001b[0m \u001b[0m_get_moments\u001b[0m\u001b[0;34m(\u001b[0m\u001b[0mself\u001b[0m\u001b[0;34m.\u001b[0m\u001b[0mops\u001b[0m\u001b[0;34m,\u001b[0m \u001b[0mX\u001b[0m\u001b[0;34m)\u001b[0m\u001b[0;34m\u001b[0m\u001b[0;34m\u001b[0m\u001b[0m\n\u001b[1;32m     56\u001b[0m         \u001b[0mXh\u001b[0m \u001b[0;34m=\u001b[0m \u001b[0m_forward\u001b[0m\u001b[0;34m(\u001b[0m\u001b[0mself\u001b[0m\u001b[0;34m.\u001b[0m\u001b[0mops\u001b[0m\u001b[0;34m,\u001b[0m \u001b[0mX\u001b[0m\u001b[0;34m,\u001b[0m \u001b[0mmu\u001b[0m\u001b[0;34m,\u001b[0m \u001b[0mvar\u001b[0m\u001b[0;34m)\u001b[0m\u001b[0;34m\u001b[0m\u001b[0;34m\u001b[0m\u001b[0m\n",
      "\u001b[0;32m~/anaconda3/lib/python3.8/site-packages/thinc/neural/_classes/maxout.py\u001b[0m in \u001b[0;36mpredict\u001b[0;34m(self, X__BI)\u001b[0m\n\u001b[1;32m     64\u001b[0m     \u001b[0;32mdef\u001b[0m \u001b[0mpredict\u001b[0m\u001b[0;34m(\u001b[0m\u001b[0mself\u001b[0m\u001b[0;34m,\u001b[0m \u001b[0mX__BI\u001b[0m\u001b[0;34m)\u001b[0m\u001b[0;34m:\u001b[0m\u001b[0;34m\u001b[0m\u001b[0;34m\u001b[0m\u001b[0m\n\u001b[1;32m     65\u001b[0m         \u001b[0mW\u001b[0m \u001b[0;34m=\u001b[0m \u001b[0mself\u001b[0m\u001b[0;34m.\u001b[0m\u001b[0mW\u001b[0m\u001b[0;34m.\u001b[0m\u001b[0mreshape\u001b[0m\u001b[0;34m(\u001b[0m\u001b[0;34m(\u001b[0m\u001b[0mself\u001b[0m\u001b[0;34m.\u001b[0m\u001b[0mnO\u001b[0m \u001b[0;34m*\u001b[0m \u001b[0mself\u001b[0m\u001b[0;34m.\u001b[0m\u001b[0mnP\u001b[0m\u001b[0;34m,\u001b[0m \u001b[0mself\u001b[0m\u001b[0;34m.\u001b[0m\u001b[0mnI\u001b[0m\u001b[0;34m)\u001b[0m\u001b[0;34m)\u001b[0m\u001b[0;34m\u001b[0m\u001b[0;34m\u001b[0m\u001b[0m\n\u001b[0;32m---> 66\u001b[0;31m         \u001b[0mX__BOP\u001b[0m \u001b[0;34m=\u001b[0m \u001b[0mself\u001b[0m\u001b[0;34m.\u001b[0m\u001b[0mops\u001b[0m\u001b[0;34m.\u001b[0m\u001b[0mgemm\u001b[0m\u001b[0;34m(\u001b[0m\u001b[0mX__BI\u001b[0m\u001b[0;34m,\u001b[0m \u001b[0mW\u001b[0m\u001b[0;34m,\u001b[0m \u001b[0mtrans2\u001b[0m\u001b[0;34m=\u001b[0m\u001b[0;32mTrue\u001b[0m\u001b[0;34m)\u001b[0m\u001b[0;34m\u001b[0m\u001b[0;34m\u001b[0m\u001b[0m\n\u001b[0m\u001b[1;32m     67\u001b[0m         \u001b[0mX__BOP\u001b[0m \u001b[0;34m+=\u001b[0m \u001b[0mself\u001b[0m\u001b[0;34m.\u001b[0m\u001b[0mb\u001b[0m\u001b[0;34m.\u001b[0m\u001b[0mreshape\u001b[0m\u001b[0;34m(\u001b[0m\u001b[0;34m(\u001b[0m\u001b[0mself\u001b[0m\u001b[0;34m.\u001b[0m\u001b[0mnO\u001b[0m \u001b[0;34m*\u001b[0m \u001b[0mself\u001b[0m\u001b[0;34m.\u001b[0m\u001b[0mnP\u001b[0m\u001b[0;34m,\u001b[0m\u001b[0;34m)\u001b[0m\u001b[0;34m)\u001b[0m\u001b[0;34m\u001b[0m\u001b[0;34m\u001b[0m\u001b[0m\n\u001b[1;32m     68\u001b[0m         \u001b[0mX__BOP\u001b[0m \u001b[0;34m=\u001b[0m \u001b[0mX__BOP\u001b[0m\u001b[0;34m.\u001b[0m\u001b[0mreshape\u001b[0m\u001b[0;34m(\u001b[0m\u001b[0;34m(\u001b[0m\u001b[0mX__BOP\u001b[0m\u001b[0;34m.\u001b[0m\u001b[0mshape\u001b[0m\u001b[0;34m[\u001b[0m\u001b[0;36m0\u001b[0m\u001b[0;34m]\u001b[0m\u001b[0;34m,\u001b[0m \u001b[0mself\u001b[0m\u001b[0;34m.\u001b[0m\u001b[0mnO\u001b[0m\u001b[0;34m,\u001b[0m \u001b[0mself\u001b[0m\u001b[0;34m.\u001b[0m\u001b[0mnP\u001b[0m\u001b[0;34m)\u001b[0m\u001b[0;34m)\u001b[0m\u001b[0;34m\u001b[0m\u001b[0;34m\u001b[0m\u001b[0m\n",
      "\u001b[0;31mKeyboardInterrupt\u001b[0m: "
     ]
    }
   ],
   "source": [
    "import time\n",
    "\n",
    "import ray\n",
    "\n",
    "def do_partial_nlp(questions,task_name):\n",
    "    i = 0\n",
    "    start = time.time()\n",
    "    for question in tqdm(questions):\n",
    "        i = i+1\n",
    "        if i% 10000 == 0 :\n",
    "            pos = spacy_nlp(question,disable=[\"parser\"])\n",
    "    return {\n",
    "        'TaskName': task_name,\n",
    "        'NbRows': i,\n",
    "        'Duration':  round(time.time()-start,2)}\n",
    "\n",
    "def do_full_nlp_with_progress(questions,task_name):\n",
    "    start = time.time()\n",
    "    for question in tqdm(questions):\n",
    "            pos = spacy_nlp(question,disable=[\"parser\"])\n",
    "    return {\n",
    "        'TaskName': task_name,\n",
    "        'NbRows': len(questions),\n",
    "        'Duration': round(time.time()-start,2)}\n",
    "\n",
    "def do_full_nlp(questions,task_name):\n",
    "    start = time.time()\n",
    "    for question in questions:\n",
    "            pos = spacy_nlp(question,disable=[\"parser\"])\n",
    "    return {\n",
    "        'TaskName': task_name,\n",
    "        'NbRows': len(questions),\n",
    "        'Duration': round(time.time()-start,2)}\n",
    "\n",
    "@ray.remote\n",
    "def ray_do_nlp(questions,task_name):\n",
    "    return do_nlp(questions,task_name)\n",
    "\n",
    "\n",
    "detailed_durations = do_full_nlp_with_progress(train_dataframe['question1'],'train_question1')\n",
    "print('\\nTask time %.2f s' % detailed_durations['Duration'])\n",
    "detailed_durations\n",
    "# lost = do_full_nlp_with_progress(challenge_dataframe['question1'],'train_question1')\n",
    "#lost\n",
    "#lost = do_nlp(challenge_dataframe['question2'])\n",
    "\n",
    "# do_nlp(train_dataframe['question2'])"
   ]
  },
  {
   "cell_type": "code",
   "execution_count": 95,
   "metadata": {
    "tags": []
   },
   "outputs": [
    {
     "output_type": "stream",
     "name": "stdout",
     "text": "Block from 0 to 40428\npouet:0-10:|*...................|\npouet:0-10:|*..................|\npouet:0-10:|.*.................|\npouet:0-10:|..*................|\npouet:0-10:|...*...............|\npouet:0-10:|....*..............|\npouet:0-10:|.....*.............|\npouet:0-10:|......*............|\npouet:0-10:|.......*...........|\npouet:0-10:|........*..........|\npouet:0-10:|.........*.........|\npouet:0-10:|..........*........|\npouet:0-10:|...........*.......|\npouet:0-10:|............*......|\npouet:0-10:|.............*.....|\npouet:0-10:|..............*....|\npouet:0-10:|...............*...|\npouet:0-10:|................*..|\npouet:0-10:|.................*.|\npouet:0-10:|..................*|\n"
    },
    {
     "output_type": "execute_result",
     "data": {
      "text/plain": "404290"
     },
     "metadata": {},
     "execution_count": 95
    }
   ],
   "source": [
    "def show_progress(task_name,pos,block_size,nb_pos):\n",
    "    step = block_size/nb_pos\n",
    "    step_cur = int(pos/step)\n",
    "    return task_name+':'+'|'.ljust(step_cur,'.')+'*'.ljust(nb_pos-step_cur,'.')+'|'\n",
    "\n",
    "def do_range_nlp(questions,task_name_prefix,nb_blocks,num_block):\n",
    "    start = time.time()\n",
    "    nb_steps_in_progress = 20\n",
    "    task_name =  task_name_prefix+':'+str(num_block)+'-'+str(nb_blocks)\n",
    "    block_size = int(round(len(questions)/nb_blocks,0))\n",
    "    min_row = block_size*num_block\n",
    "    top_progress = int(block_size/nb_steps_in_progress)\n",
    "    if num_block >= (nb_blocks-1):\n",
    "        max_row = len(questions)\n",
    "    else:\n",
    "        max_row = block_size*(num_block+1)-1\n",
    "    print( 'Block from %d to %d' % (min_row,max_row))\n",
    "    pos = 0\n",
    "    for i in range(min_row,max_row):\n",
    "            pos = pos + 1\n",
    "            spacy_nlp(questions[i],disable=[\"parser\"])\n",
    "            if pos % top_progress == 0:\n",
    "                print(show_progress(task_name,pos,block_size,nb_steps_in_progress))\n",
    "    return {\n",
    "        'TaskName': task_name,\n",
    "        'NbRows': max_row-min_row,\n",
    "        'Duration': round(time.time()-start,2)}\n",
    "\n",
    "@ray.remote\n",
    "def ray_do_range_nlp(questions,task_name_prefix,nb_blocks,num_block):\n",
    "    return do_range_nlp(questions,task_name_prefix,nb_blocks,num_block)\n",
    "\n",
    "\n",
    "info = do_range_nlp(train_dataframe['question1'],'pouet',10,0)\n",
    "# info = do_range_nlp(train_dataframe['question1'],'pouet',10,1)\n",
    "# info = do_range_nlp(train_dataframe['question1'],'pouet',10,2)\n",
    "# info = do_range_nlp(train_dataframe['question1'],'pouet',10,3)\n",
    "# info = do_range_nlp(train_dataframe['question1'],'pouet',10,4)\n",
    "# info = do_range_nlp(train_dataframe['question1'],'pouet',10,5)\n",
    "# info = do_range_nlp(train_dataframe['question1'],'pouet',10,6)\n",
    "# info = do_range_nlp(train_dataframe['question1'],'pouet',10,7)\n",
    "# info = do_range_nlp(train_dataframe['question1'],'pouet',10,8)\n",
    "# info = do_range_nlp(train_dataframe['question1'],'pouet',10,9)\n",
    "\n",
    "len(train_dataframe['question1'])\n",
    "\n"
   ]
  },
  {
   "cell_type": "code",
   "execution_count": 70,
   "metadata": {},
   "outputs": [
    {
     "output_type": "execute_result",
     "data": {
      "text/plain": "{'TaskName': 'pouet:0-10', 'NbRows': 40428, 'Duration': 188.73}"
     },
     "metadata": {},
     "execution_count": 70
    }
   ],
   "source": [
    "info"
   ]
  },
  {
   "cell_type": "code",
   "execution_count": null,
   "metadata": {},
   "outputs": [],
   "source": []
  },
  {
   "cell_type": "code",
   "execution_count": 81,
   "metadata": {
    "tags": []
   },
   "outputs": [
    {
     "output_type": "stream",
     "name": "stderr",
     "text": "2020-09-03 20:17:20,524\tINFO resource_spec.py:223 -- Starting Ray with 17.82 GiB memory available for workers and up to 8.91 GiB for objects. You can adjust these settings with ray.init(memory=<bytes>, object_store_memory=<bytes>).\n2020-09-03 20:17:21,110\tWARNING services.py:1559 -- WARNING: The object store is using /tmp instead of /dev/shm because /dev/shm has only 67104768 bytes available. This may slow down performance! You may be able to free up space by deleting files in /dev/shm or terminating any running plasma_store_server processes. If you are inside a Docker container, you may need to pass an argument with the flag '--shm-size' to 'docker run'.\n2020-09-03 20:17:21,160\tWARNING services.py:1559 -- WARNING: The object store is using /tmp instead of /dev/shm because /dev/shm has only 67104768 bytes available. This may slow down performance! You may be able to free up space by deleting files in /dev/shm or terminating any running plasma_store_server processes. If you are inside a Docker container, you may need to pass an argument with the flag '--shm-size' to 'docker run'.\n2020-09-03 20:17:22,771\tWARNING worker.py:1134 -- Warning: The remote function __main__.ray_do_range_nlp has size 75588291 when pickled. It will be stored in Redis, which could cause memory issues. This may mean that its definition uses a large array or other object.\n\u001b[2m\u001b[36m(pid=99751)\u001b[0m Block from 134764 to 168454\n\u001b[2m\u001b[36m(pid=99752)\u001b[0m Block from 67382 to 101072\n\u001b[2m\u001b[36m(pid=99753)\u001b[0m Block from 33691 to 67381\n\u001b[2m\u001b[36m(pid=99748)\u001b[0m Block from 168455 to 202145\n\u001b[2m\u001b[36m(pid=99750)\u001b[0m Block from 0 to 33690\n\u001b[2m\u001b[36m(pid=99749)\u001b[0m Block from 101073 to 134763\n\u001b[2m\u001b[36m(pid=99752)\u001b[0m .\n\u001b[2m\u001b[36m(pid=99753)\u001b[0m .\n\u001b[2m\u001b[36m(pid=99751)\u001b[0m .\n\u001b[2m\u001b[36m(pid=99750)\u001b[0m .\n\u001b[2m\u001b[36m(pid=99748)\u001b[0m .\n\u001b[2m\u001b[36m(pid=99749)\u001b[0m .\n\u001b[2m\u001b[36m(pid=99752)\u001b[0m 2.\n\u001b[2m\u001b[36m(pid=99753)\u001b[0m 1.\n\u001b[2m\u001b[36m(pid=99748)\u001b[0m 5.\n\u001b[2m\u001b[36m(pid=99751)\u001b[0m 4.\n\u001b[2m\u001b[36m(pid=99750)\u001b[0m 0.\n\u001b[2m\u001b[36m(pid=99749)\u001b[0m 3.\n\u001b[2m\u001b[36m(pid=99752)\u001b[0m 22.\n\u001b[2m\u001b[36m(pid=99753)\u001b[0m 11.\n\u001b[2m\u001b[36m(pid=99750)\u001b[0m 00.\n\u001b[2m\u001b[36m(pid=99748)\u001b[0m 55.\n\u001b[2m\u001b[36m(pid=99751)\u001b[0m 44.\n\u001b[2m\u001b[36m(pid=99749)\u001b[0m 33.\n\u001b[2m\u001b[36m(pid=99752)\u001b[0m 222.\n\u001b[2m\u001b[36m(pid=99753)\u001b[0m 111.\n\u001b[2m\u001b[36m(pid=99750)\u001b[0m 000.\n\u001b[2m\u001b[36m(pid=99748)\u001b[0m 555.\n\u001b[2m\u001b[36m(pid=99749)\u001b[0m 333.\n\u001b[2m\u001b[36m(pid=99751)\u001b[0m 444.\n\u001b[2m\u001b[36m(pid=99750)\u001b[0m 0000.\n\u001b[2m\u001b[36m(pid=99753)\u001b[0m 1111.\n\u001b[2m\u001b[36m(pid=99752)\u001b[0m 2222.\n\u001b[2m\u001b[36m(pid=99748)\u001b[0m 5555.\n\u001b[2m\u001b[36m(pid=99751)\u001b[0m 4444.\n\u001b[2m\u001b[36m(pid=99749)\u001b[0m 3333.\n\u001b[2m\u001b[36m(pid=99750)\u001b[0m 00000.\n\u001b[2m\u001b[36m(pid=99753)\u001b[0m 11111.\n\u001b[2m\u001b[36m(pid=99752)\u001b[0m 22222.\n\u001b[2m\u001b[36m(pid=99748)\u001b[0m 55555.\n\u001b[2m\u001b[36m(pid=99751)\u001b[0m 44444.\n\u001b[2m\u001b[36m(pid=99749)\u001b[0m 33333.\n\u001b[2m\u001b[36m(pid=99750)\u001b[0m 000000.\n\u001b[2m\u001b[36m(pid=99752)\u001b[0m 222222.\n\u001b[2m\u001b[36m(pid=99753)\u001b[0m 111111.\n\u001b[2m\u001b[36m(pid=99751)\u001b[0m 444444.\n\u001b[2m\u001b[36m(pid=99748)\u001b[0m 555555.\n\u001b[2m\u001b[36m(pid=99749)\u001b[0m 333333.\n\u001b[2m\u001b[36m(pid=99750)\u001b[0m 0000000.\n\u001b[2m\u001b[36m(pid=99752)\u001b[0m 2222222.\n\u001b[2m\u001b[36m(pid=99753)\u001b[0m 1111111.\n\u001b[2m\u001b[36m(pid=99751)\u001b[0m 4444444.\n\u001b[2m\u001b[36m(pid=99749)\u001b[0m 3333333.\n\u001b[2m\u001b[36m(pid=99748)\u001b[0m 5555555.\n\u001b[2m\u001b[36m(pid=99750)\u001b[0m 00000000.\n\u001b[2m\u001b[36m(pid=99752)\u001b[0m 22222222.\n\u001b[2m\u001b[36m(pid=99753)\u001b[0m 11111111.\n\u001b[2m\u001b[36m(pid=99748)\u001b[0m 55555555.\n\u001b[2m\u001b[36m(pid=99749)\u001b[0m 33333333.\n\u001b[2m\u001b[36m(pid=99751)\u001b[0m 44444444.\n\u001b[2m\u001b[36m(pid=99750)\u001b[0m 000000000.\n\u001b[2m\u001b[36m(pid=99752)\u001b[0m 222222222.\n\u001b[2m\u001b[36m(pid=99753)\u001b[0m 111111111.\n\u001b[2m\u001b[36m(pid=99748)\u001b[0m 555555555.\n\u001b[2m\u001b[36m(pid=99751)\u001b[0m 444444444.\n\u001b[2m\u001b[36m(pid=99749)\u001b[0m 333333333.\n\u001b[2m\u001b[36m(pid=99750)\u001b[0m 0000000000.\n\u001b[2m\u001b[36m(pid=99752)\u001b[0m 2222222222.\n\u001b[2m\u001b[36m(pid=99753)\u001b[0m 1111111111.\n\u001b[2m\u001b[36m(pid=99748)\u001b[0m 5555555555.\n\u001b[2m\u001b[36m(pid=99751)\u001b[0m 4444444444.\n\u001b[2m\u001b[36m(pid=99749)\u001b[0m 3333333333.\n\u001b[2m\u001b[36m(pid=99750)\u001b[0m 00000000000.\n\u001b[2m\u001b[36m(pid=99753)\u001b[0m 11111111111.\n\u001b[2m\u001b[36m(pid=99752)\u001b[0m 22222222222.\n\u001b[2m\u001b[36m(pid=99748)\u001b[0m 55555555555.\n\u001b[2m\u001b[36m(pid=99749)\u001b[0m 33333333333.\n\u001b[2m\u001b[36m(pid=99751)\u001b[0m 44444444444.\n\u001b[2m\u001b[36m(pid=99750)\u001b[0m 000000000000.\n\u001b[2m\u001b[36m(pid=99753)\u001b[0m 111111111111.\n\u001b[2m\u001b[36m(pid=99752)\u001b[0m 222222222222.\n\u001b[2m\u001b[36m(pid=99748)\u001b[0m 555555555555.\n\u001b[2m\u001b[36m(pid=99751)\u001b[0m 444444444444.\n\u001b[2m\u001b[36m(pid=99749)\u001b[0m 333333333333.\n\u001b[2m\u001b[36m(pid=99750)\u001b[0m 0000000000000.\n\u001b[2m\u001b[36m(pid=99752)\u001b[0m 2222222222222.\n\u001b[2m\u001b[36m(pid=99753)\u001b[0m 1111111111111.\n\u001b[2m\u001b[36m(pid=99748)\u001b[0m 5555555555555.\n\u001b[2m\u001b[36m(pid=99751)\u001b[0m 4444444444444.\n\u001b[2m\u001b[36m(pid=99749)\u001b[0m 3333333333333.\n\u001b[2m\u001b[36m(pid=99750)\u001b[0m 00000000000000.\n\u001b[2m\u001b[36m(pid=99752)\u001b[0m 22222222222222.\n\u001b[2m\u001b[36m(pid=99753)\u001b[0m 11111111111111.\n\u001b[2m\u001b[36m(pid=99748)\u001b[0m 55555555555555.\n\u001b[2m\u001b[36m(pid=99749)\u001b[0m 33333333333333.\n\u001b[2m\u001b[36m(pid=99751)\u001b[0m 44444444444444.\n\u001b[2m\u001b[36m(pid=99750)\u001b[0m 000000000000000.\n\u001b[2m\u001b[36m(pid=99752)\u001b[0m 222222222222222.\n\u001b[2m\u001b[36m(pid=99753)\u001b[0m 111111111111111.\n\u001b[2m\u001b[36m(pid=99749)\u001b[0m 333333333333333.\n\u001b[2m\u001b[36m(pid=99748)\u001b[0m 555555555555555.\n\u001b[2m\u001b[36m(pid=99751)\u001b[0m 444444444444444.\n\u001b[2m\u001b[36m(pid=99750)\u001b[0m 0000000000000000.\n\u001b[2m\u001b[36m(pid=99752)\u001b[0m 2222222222222222.\n\u001b[2m\u001b[36m(pid=99753)\u001b[0m 1111111111111111.\n\u001b[2m\u001b[36m(pid=99749)\u001b[0m 3333333333333333.\n\u001b[2m\u001b[36m(pid=99748)\u001b[0m 5555555555555555.\n\u001b[2m\u001b[36m(pid=99751)\u001b[0m 4444444444444444.\n\u001b[2m\u001b[36m(pid=99750)\u001b[0m 00000000000000000.\n\u001b[2m\u001b[36m(pid=99752)\u001b[0m 22222222222222222.\n\u001b[2m\u001b[36m(pid=99753)\u001b[0m 11111111111111111.\n\u001b[2m\u001b[36m(pid=99749)\u001b[0m 33333333333333333.\n\u001b[2m\u001b[36m(pid=99748)\u001b[0m 55555555555555555.\n\u001b[2m\u001b[36m(pid=99751)\u001b[0m 44444444444444444.\n\u001b[2m\u001b[36m(pid=99750)\u001b[0m 000000000000000000.\n\u001b[2m\u001b[36m(pid=99752)\u001b[0m 222222222222222222.\n\u001b[2m\u001b[36m(pid=99753)\u001b[0m 111111111111111111.\n\u001b[2m\u001b[36m(pid=99749)\u001b[0m 333333333333333333.\n\u001b[2m\u001b[36m(pid=99748)\u001b[0m 555555555555555555.\n\u001b[2m\u001b[36m(pid=99751)\u001b[0m 444444444444444444.\n\u001b[2m\u001b[36m(pid=99750)\u001b[0m 0000000000000000000.\n\u001b[2m\u001b[36m(pid=99753)\u001b[0m 1111111111111111111.\n\u001b[2m\u001b[36m(pid=99752)\u001b[0m 2222222222222222222.\n\u001b[2m\u001b[36m(pid=99749)\u001b[0m 3333333333333333333.\n\u001b[2m\u001b[36m(pid=99748)\u001b[0m 5555555555555555555.\n\u001b[2m\u001b[36m(pid=99751)\u001b[0m 4444444444444444444.\n\u001b[2m\u001b[36m(pid=99750)\u001b[0m 00000000000000000000.\n\u001b[2m\u001b[36m(pid=99753)\u001b[0m 11111111111111111111.\n\u001b[2m\u001b[36m(pid=99752)\u001b[0m 22222222222222222222.\n\u001b[2m\u001b[36m(pid=99749)\u001b[0m 33333333333333333333.\n\u001b[2m\u001b[36m(pid=99748)\u001b[0m 55555555555555555555.\n\u001b[2m\u001b[36m(pid=99751)\u001b[0m 44444444444444444444.\n\u001b[2m\u001b[36m(pid=99750)\u001b[0m 000000000000000000000.\n\u001b[2m\u001b[36m(pid=99753)\u001b[0m 111111111111111111111.\n\u001b[2m\u001b[36m(pid=99752)\u001b[0m 222222222222222222222.\n\u001b[2m\u001b[36m(pid=99749)\u001b[0m 333333333333333333333.\n\u001b[2m\u001b[36m(pid=99751)\u001b[0m 444444444444444444444.\n\u001b[2m\u001b[36m(pid=99748)\u001b[0m 555555555555555555555.\n\u001b[2m\u001b[36m(pid=99750)\u001b[0m 0000000000000000000000.\n\u001b[2m\u001b[36m(pid=99753)\u001b[0m 1111111111111111111111.\n\u001b[2m\u001b[36m(pid=99752)\u001b[0m 2222222222222222222222.\n\u001b[2m\u001b[36m(pid=99749)\u001b[0m 3333333333333333333333.\n\u001b[2m\u001b[36m(pid=99751)\u001b[0m 4444444444444444444444.\n\u001b[2m\u001b[36m(pid=99748)\u001b[0m 5555555555555555555555.\n\u001b[2m\u001b[36m(pid=99750)\u001b[0m 00000000000000000000000.\n\u001b[2m\u001b[36m(pid=99753)\u001b[0m 11111111111111111111111.\n\u001b[2m\u001b[36m(pid=99752)\u001b[0m 22222222222222222222222.\n\u001b[2m\u001b[36m(pid=99751)\u001b[0m 44444444444444444444444.\n\u001b[2m\u001b[36m(pid=99749)\u001b[0m 33333333333333333333333.\n\u001b[2m\u001b[36m(pid=99748)\u001b[0m 55555555555555555555555.\n\u001b[2m\u001b[36m(pid=99753)\u001b[0m 111111111111111111111111.\n\u001b[2m\u001b[36m(pid=99750)\u001b[0m 000000000000000000000000.\n\u001b[2m\u001b[36m(pid=99752)\u001b[0m 222222222222222222222222.\n\u001b[2m\u001b[36m(pid=99751)\u001b[0m 444444444444444444444444.\n\u001b[2m\u001b[36m(pid=99749)\u001b[0m 333333333333333333333333.\n\u001b[2m\u001b[36m(pid=99748)\u001b[0m 555555555555555555555555.\n\u001b[2m\u001b[36m(pid=99753)\u001b[0m 1111111111111111111111111.\n\u001b[2m\u001b[36m(pid=99750)\u001b[0m 0000000000000000000000000.\n\u001b[2m\u001b[36m(pid=99752)\u001b[0m 2222222222222222222222222.\n\u001b[2m\u001b[36m(pid=99751)\u001b[0m 4444444444444444444444444.\n\u001b[2m\u001b[36m(pid=99749)\u001b[0m 3333333333333333333333333.\n\u001b[2m\u001b[36m(pid=99748)\u001b[0m 5555555555555555555555555.\n\u001b[2m\u001b[36m(pid=99753)\u001b[0m 11111111111111111111111111.\n\u001b[2m\u001b[36m(pid=99750)\u001b[0m 00000000000000000000000000.\n\u001b[2m\u001b[36m(pid=99752)\u001b[0m 22222222222222222222222222.\n\u001b[2m\u001b[36m(pid=99751)\u001b[0m 44444444444444444444444444.\n\u001b[2m\u001b[36m(pid=99748)\u001b[0m 55555555555555555555555555.\n\u001b[2m\u001b[36m(pid=99749)\u001b[0m 33333333333333333333333333.\n\u001b[2m\u001b[36m(pid=99753)\u001b[0m 111111111111111111111111111.\n\u001b[2m\u001b[36m(pid=99750)\u001b[0m 000000000000000000000000000.\n\u001b[2m\u001b[36m(pid=99752)\u001b[0m 222222222222222222222222222.\n\u001b[2m\u001b[36m(pid=99751)\u001b[0m 444444444444444444444444444.\n\u001b[2m\u001b[36m(pid=99748)\u001b[0m 555555555555555555555555555.\n\u001b[2m\u001b[36m(pid=99749)\u001b[0m 333333333333333333333333333.\n\u001b[2m\u001b[36m(pid=99753)\u001b[0m 1111111111111111111111111111.\n\u001b[2m\u001b[36m(pid=99750)\u001b[0m 0000000000000000000000000000.\n\u001b[2m\u001b[36m(pid=99751)\u001b[0m 4444444444444444444444444444.\n\u001b[2m\u001b[36m(pid=99752)\u001b[0m 2222222222222222222222222222.\n\u001b[2m\u001b[36m(pid=99748)\u001b[0m 5555555555555555555555555555.\n\u001b[2m\u001b[36m(pid=99749)\u001b[0m 3333333333333333333333333333.\n\u001b[2m\u001b[36m(pid=99753)\u001b[0m 11111111111111111111111111111.\n\u001b[2m\u001b[36m(pid=99750)\u001b[0m 00000000000000000000000000000.\n\u001b[2m\u001b[36m(pid=99752)\u001b[0m 22222222222222222222222222222.\n\u001b[2m\u001b[36m(pid=99751)\u001b[0m 44444444444444444444444444444.\n\u001b[2m\u001b[36m(pid=99748)\u001b[0m 55555555555555555555555555555.\n\u001b[2m\u001b[36m(pid=99749)\u001b[0m 33333333333333333333333333333.\n\u001b[2m\u001b[36m(pid=99750)\u001b[0m 000000000000000000000000000000.\n\u001b[2m\u001b[36m(pid=99753)\u001b[0m 111111111111111111111111111111.\n\u001b[2m\u001b[36m(pid=99751)\u001b[0m 444444444444444444444444444444.\n\u001b[2m\u001b[36m(pid=99752)\u001b[0m 222222222222222222222222222222.\n\u001b[2m\u001b[36m(pid=99748)\u001b[0m 555555555555555555555555555555.\n\u001b[2m\u001b[36m(pid=99749)\u001b[0m 333333333333333333333333333333.\n\u001b[2m\u001b[36m(pid=99750)\u001b[0m 0000000000000000000000000000000.\n\u001b[2m\u001b[36m(pid=99753)\u001b[0m 1111111111111111111111111111111.\n\u001b[2m\u001b[36m(pid=99751)\u001b[0m 4444444444444444444444444444444.\n\u001b[2m\u001b[36m(pid=99752)\u001b[0m 2222222222222222222222222222222.\n\u001b[2m\u001b[36m(pid=99748)\u001b[0m 5555555555555555555555555555555.\n\u001b[2m\u001b[36m(pid=99749)\u001b[0m 3333333333333333333333333333333.\n\u001b[2m\u001b[36m(pid=99750)\u001b[0m 00000000000000000000000000000000.\n\u001b[2m\u001b[36m(pid=99753)\u001b[0m 11111111111111111111111111111111.\n"
    },
    {
     "output_type": "error",
     "ename": "KeyboardInterrupt",
     "evalue": "",
     "traceback": [
      "\u001b[0;31m---------------------------------------------------------------------------\u001b[0m",
      "\u001b[0;31mKeyboardInterrupt\u001b[0m                         Traceback (most recent call last)",
      "\u001b[0;32m<ipython-input-81-3e5b44a4c8a8>\u001b[0m in \u001b[0;36m<module>\u001b[0;34m\u001b[0m\n\u001b[1;32m      3\u001b[0m \u001b[0;34m\u001b[0m\u001b[0m\n\u001b[1;32m      4\u001b[0m \u001b[0mglobal_start\u001b[0m \u001b[0;34m=\u001b[0m \u001b[0mtime\u001b[0m\u001b[0;34m.\u001b[0m\u001b[0mtime\u001b[0m\u001b[0;34m(\u001b[0m\u001b[0;34m)\u001b[0m\u001b[0;34m\u001b[0m\u001b[0;34m\u001b[0m\u001b[0m\n\u001b[0;32m----> 5\u001b[0;31m ret = ray.get([\n\u001b[0m\u001b[1;32m      6\u001b[0m     \u001b[0mray_do_range_nlp\u001b[0m\u001b[0;34m.\u001b[0m\u001b[0mremote\u001b[0m\u001b[0;34m(\u001b[0m\u001b[0mtrain_dataframe\u001b[0m\u001b[0;34m[\u001b[0m\u001b[0;34m'question1'\u001b[0m\u001b[0;34m]\u001b[0m\u001b[0;34m,\u001b[0m\u001b[0;34m'train_question1'\u001b[0m\u001b[0;34m,\u001b[0m\u001b[0;36m12\u001b[0m\u001b[0;34m,\u001b[0m\u001b[0;36m0\u001b[0m\u001b[0;34m)\u001b[0m\u001b[0;34m,\u001b[0m\u001b[0;34m\u001b[0m\u001b[0;34m\u001b[0m\u001b[0m\n\u001b[1;32m      7\u001b[0m     \u001b[0mray_do_range_nlp\u001b[0m\u001b[0;34m.\u001b[0m\u001b[0mremote\u001b[0m\u001b[0;34m(\u001b[0m\u001b[0mtrain_dataframe\u001b[0m\u001b[0;34m[\u001b[0m\u001b[0;34m'question1'\u001b[0m\u001b[0;34m]\u001b[0m\u001b[0;34m,\u001b[0m\u001b[0;34m'train_question1'\u001b[0m\u001b[0;34m,\u001b[0m\u001b[0;36m12\u001b[0m\u001b[0;34m,\u001b[0m\u001b[0;36m1\u001b[0m\u001b[0;34m)\u001b[0m\u001b[0;34m,\u001b[0m\u001b[0;34m\u001b[0m\u001b[0;34m\u001b[0m\u001b[0m\n",
      "\u001b[0;32m~/anaconda3/lib/python3.8/site-packages/ray/worker.py\u001b[0m in \u001b[0;36mget\u001b[0;34m(object_refs, timeout)\u001b[0m\n\u001b[1;32m   1529\u001b[0m         \u001b[0;32mglobal\u001b[0m \u001b[0mlast_task_error_raise_time\u001b[0m\u001b[0;34m\u001b[0m\u001b[0;34m\u001b[0m\u001b[0m\n\u001b[1;32m   1530\u001b[0m         \u001b[0;31m# TODO(ujvl): Consider how to allow user to retrieve the ready objects.\u001b[0m\u001b[0;34m\u001b[0m\u001b[0;34m\u001b[0m\u001b[0;34m\u001b[0m\u001b[0m\n\u001b[0;32m-> 1531\u001b[0;31m         \u001b[0mvalues\u001b[0m \u001b[0;34m=\u001b[0m \u001b[0mworker\u001b[0m\u001b[0;34m.\u001b[0m\u001b[0mget_objects\u001b[0m\u001b[0;34m(\u001b[0m\u001b[0mobject_refs\u001b[0m\u001b[0;34m,\u001b[0m \u001b[0mtimeout\u001b[0m\u001b[0;34m=\u001b[0m\u001b[0mtimeout\u001b[0m\u001b[0;34m)\u001b[0m\u001b[0;34m\u001b[0m\u001b[0;34m\u001b[0m\u001b[0m\n\u001b[0m\u001b[1;32m   1532\u001b[0m         \u001b[0;32mfor\u001b[0m \u001b[0mi\u001b[0m\u001b[0;34m,\u001b[0m \u001b[0mvalue\u001b[0m \u001b[0;32min\u001b[0m \u001b[0menumerate\u001b[0m\u001b[0;34m(\u001b[0m\u001b[0mvalues\u001b[0m\u001b[0;34m)\u001b[0m\u001b[0;34m:\u001b[0m\u001b[0;34m\u001b[0m\u001b[0;34m\u001b[0m\u001b[0m\n\u001b[1;32m   1533\u001b[0m             \u001b[0;32mif\u001b[0m \u001b[0misinstance\u001b[0m\u001b[0;34m(\u001b[0m\u001b[0mvalue\u001b[0m\u001b[0;34m,\u001b[0m \u001b[0mRayError\u001b[0m\u001b[0;34m)\u001b[0m\u001b[0;34m:\u001b[0m\u001b[0;34m\u001b[0m\u001b[0;34m\u001b[0m\u001b[0m\n",
      "\u001b[0;32m~/anaconda3/lib/python3.8/site-packages/ray/worker.py\u001b[0m in \u001b[0;36mget_objects\u001b[0;34m(self, object_refs, timeout)\u001b[0m\n\u001b[1;32m    299\u001b[0m \u001b[0;34m\u001b[0m\u001b[0m\n\u001b[1;32m    300\u001b[0m         \u001b[0mtimeout_ms\u001b[0m \u001b[0;34m=\u001b[0m \u001b[0mint\u001b[0m\u001b[0;34m(\u001b[0m\u001b[0mtimeout\u001b[0m \u001b[0;34m*\u001b[0m \u001b[0;36m1000\u001b[0m\u001b[0;34m)\u001b[0m \u001b[0;32mif\u001b[0m \u001b[0mtimeout\u001b[0m \u001b[0;32melse\u001b[0m \u001b[0;34m-\u001b[0m\u001b[0;36m1\u001b[0m\u001b[0;34m\u001b[0m\u001b[0;34m\u001b[0m\u001b[0m\n\u001b[0;32m--> 301\u001b[0;31m         data_metadata_pairs = self.core_worker.get_objects(\n\u001b[0m\u001b[1;32m    302\u001b[0m             object_refs, self.current_task_id, timeout_ms)\n\u001b[1;32m    303\u001b[0m         \u001b[0;32mreturn\u001b[0m \u001b[0mself\u001b[0m\u001b[0;34m.\u001b[0m\u001b[0mdeserialize_objects\u001b[0m\u001b[0;34m(\u001b[0m\u001b[0mdata_metadata_pairs\u001b[0m\u001b[0;34m,\u001b[0m \u001b[0mobject_refs\u001b[0m\u001b[0;34m)\u001b[0m\u001b[0;34m\u001b[0m\u001b[0;34m\u001b[0m\u001b[0m\n",
      "\u001b[0;32mpython/ray/_raylet.pyx\u001b[0m in \u001b[0;36mray._raylet.CoreWorker.get_objects\u001b[0;34m()\u001b[0m\n",
      "\u001b[0;32mpython/ray/_raylet.pyx\u001b[0m in \u001b[0;36mray._raylet.check_status\u001b[0;34m()\u001b[0m\n",
      "\u001b[0;31mKeyboardInterrupt\u001b[0m: "
     ]
    }
   ],
   "source": [
    "ray.shutdown()\n",
    "ray.init(include_dashboard=False,num_cpus=6)\n",
    "\n",
    "global_start = time.time()\n",
    "ret = ray.get([\n",
    "    ray_do_range_nlp.remote(train_dataframe['question1'],'train_question1',12,0),\n",
    "    ray_do_range_nlp.remote(train_dataframe['question1'],'train_question1',12,1),\n",
    "    ray_do_range_nlp.remote(train_dataframe['question1'],'train_question1',12,2),\n",
    "    ray_do_range_nlp.remote(train_dataframe['question1'],'train_question1',12,3),\n",
    "    ray_do_range_nlp.remote(train_dataframe['question1'],'train_question1',12,4),\n",
    "    ray_do_range_nlp.remote(train_dataframe['question1'],'train_question1',12,5),\n",
    "    ])\n",
    "duration = time.time()-global_start\n",
    "ray.shutdown()\n",
    "print ('Global time %d %s' % (duration,ret))"
   ]
  },
  {
   "cell_type": "code",
   "execution_count": 18,
   "metadata": {
    "tags": []
   },
   "outputs": [
    {
     "output_type": "stream",
     "name": "stderr",
     "text": "2020-09-03 16:44:03,031\tINFO resource_spec.py:223 -- Starting Ray with 29.1 GiB memory available for workers and up to 14.56 GiB for objects. You can adjust these settings with ray.init(memory=<bytes>, object_store_memory=<bytes>).\n2020-09-03 16:44:10,688\tWARNING worker.py:1134 -- Warning: The remote function __main__.ray_do_nlp has size 74754069 when pickled. It will be stored in Redis, which could cause memory issues. This may mean that its definition uses a large array or other object.\nGlobal time 38 [{'TaskName': 'train_question1', 'NbRows': 404290, 'Duration': 3.5681653022766113}, {'TaskName': 'train_question2', 'NbRows': 404290, 'Duration': 3.471158027648926}, {'TaskName': 'challenge_question1', 'NbRows': 2345796, 'Duration': 15.67287802696228}, {'TaskName': 'challenge_question2', 'NbRows': 2345796, 'Duration': 15.658888816833496}]\n"
    }
   ],
   "source": [
    "ray.shutdown()\n",
    "ray.init(include_dashboard=False,num_cpus=8)\n",
    "\n",
    "global_start = time.time()\n",
    "ret = ray.get([\n",
    "    ray_do_nlp.remote(train_dataframe['question1'],'train_question1'),\n",
    "    ray_do_nlp.remote(train_dataframe['question2'],'train_question2'),\n",
    "    ray_do_nlp.remote(challenge_dataframe['question1'],'challenge_question1'),\n",
    "    ray_do_nlp.remote(challenge_dataframe['question2'],'challenge_question2'),\n",
    "    ])\n",
    "duration = time.time()-global_start\n",
    "ray.shutdown()\n",
    "print ('Global time %d %s' % (duration,ret))"
   ]
  },
  {
   "cell_type": "code",
   "execution_count": 82,
   "metadata": {},
   "outputs": [],
   "source": [
    "ray.shutdown()\n",
    "\n"
   ]
  }
 ],
 "metadata": {
  "kernelspec": {
   "display_name": "Python 3",
   "language": "python",
   "name": "python3"
  },
  "language_info": {
   "codemirror_mode": {
    "name": "ipython",
    "version": 3
   },
   "file_extension": ".py",
   "mimetype": "text/x-python",
   "name": "python",
   "nbconvert_exporter": "python",
   "pygments_lexer": "ipython3",
   "version": "3.8.3-final"
  }
 },
 "nbformat": 4,
 "nbformat_minor": 2
}