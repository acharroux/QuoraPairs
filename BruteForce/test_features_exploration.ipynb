{
 "metadata": {
  "language_info": {
   "codemirror_mode": {
    "name": "ipython",
    "version": 3
   },
   "file_extension": ".py",
   "mimetype": "text/x-python",
   "name": "python",
   "nbconvert_exporter": "python",
   "pygments_lexer": "ipython3",
   "version": "3.8.3-final"
  },
  "orig_nbformat": 2,
  "kernelspec": {
   "name": "python_defaultSpec_1600890529716",
   "display_name": "Python 3.8.3 64-bit"
  }
 },
 "nbformat": 4,
 "nbformat_minor": 2,
 "cells": [
  {
   "source": [
    "# Simple Features exploration\n",
    "\n",
    "We design some simple features (important in a limited quantity) and explore modeling on all combinations of features.\n",
    "\n",
    "## Global Process\n",
    "\n",
    "1. Add features to the input data\n",
    "2. Generate some weights so distribution of is_duplicate in training matches the one in challenge data\n",
    "3. Do some basic exploration of each unique feature. Is there any chance it can help to separate is_duplicate\n",
    "4. Pick an algorithm\n",
    "5. Explore all combination of features. 8 features generate 255 combinations\n",
    "6. For each combination\n",
    "    * 2 models are generated : 80,20 and 100,0 partitions\n",
    "    * for each model, we keep\n",
    "        ** logloss : the main metric choosen for the challenge\n",
    "        ** accuracy\n",
    "        ** score ie f1-score\n",
    "        ** the combination of features\n",
    "        ** the model\n",
    "6. This 'database' of results is saved (excel and pickle)\n",
    "7. Using this 'database' of results, we do some graphs\n",
    "8. We choose the best models for a given metric and apply them to challenge data\n",
    "9. Scorings are submitted to Kaggle\n",
    "10. Evaluations from kaggle are downloaded and graphed\n",
    "\n",
    "## Training of models\n",
    "Code is available for 3 'strategies' to built each model\n",
    "### All default parameters\n",
    "Obviously, the fastest\n",
    "### All default parameters with cross validation\n",
    "Only one model is built. There is no 80,20/100,0 as all is driven by cross validation\n",
    "For each iteration, we store more informations\n",
    "    * for each metric: min,max,mean,std, best fold\n",
    "    * model\n",
    "The best fold for a given gives the best model. Currently, there is no dramatic difference between min,max and mean of each metric\n",
    "Still, Kaggle score is little bit better\n",
    "### Exploration of Hyper parameters \n",
    "\n",
    "A search for best parameters is done via:\n",
    "    * RandomizedSearchCV\n",
    "    * GridSearchCV\n",
    "\n",
    "Currently and strangely, strategy with hyper parameters is under Simple Cross Validatin but this may change with alogorithms and new features\n",
    "\n",
    "\n",
    "\n",
    "\n"
   ],
   "cell_type": "markdown",
   "metadata": {}
  },
  {
   "cell_type": "code",
   "execution_count": 1,
   "metadata": {},
   "outputs": [
    {
     "output_type": "display_data",
     "data": {
      "text/plain": "<IPython.core.display.HTML object>",
      "text/html": "<span style=\"color:RED\">You will use environment test_basic_features_balanced_exploration </span>"
     },
     "metadata": {
      "text/html": {
       "isolated": true
      }
     }
    }
   ],
   "source": [
    "# Ugly incantation to make our 'framework' working\n",
    "import sys\n",
    "sys.path.insert(0, r'/SAPDevelop/QuoraPairs/BruteForce/Tools')\n",
    "\n",
    "#import all our small tools (paths, cache, print,zip,excel, pandas, progress,..)\n",
    "from Tools.all import *\n",
    "\n",
    "# setup the name of our experiment\n",
    "# it will be used to store every result in a unique place\n",
    "EXPERIMENT='test_basic_features_balanced_exploration'\n",
    "# Do a bit of checks before actually running code\n",
    "UNITARY_TEST = True\n",
    "print_alert('You will use environment %s' % EXPERIMENT)"
   ]
  },
  {
   "source": [
    "## Build our simple features\n",
    "* Nb words in question 1\n",
    "* Nb words in question 2\n",
    "* abs(Nb words in question 1 - Nb words in question 2)\n",
    "* Nb common words\n",
    "* Nb common words/nb words in question 1\n",
    "* Nb common words/nb words in question 2\n",
    "* Nb non common words in question 1\n",
    "* Nb non common words in question 2\n",
    "* Nb common words/(Nb words in question1 + Nb words in question2)\n",
    "\n",
    "**Notes**\n",
    "* Input data is not processed except for basic unicode clean\n",
    "* Heavy to generate so result is cached\n",
    "* This may be overkill as features will be eliminated but features are also generated for challenge data"
   ],
   "cell_type": "markdown",
   "metadata": {}
  },
  {
   "cell_type": "code",
   "execution_count": 10,
   "metadata": {},
   "outputs": [],
   "source": [
    "def add_column_from_columns(dataframe,output_column_name,function):\n",
    "    dataframe[output_column_name]=dataframe.progress_apply(function,axis=1)\n",
    "    return dataframe[output_column_name]\n",
    "\n",
    "def add_column_from_column(dataframe,output_column_name,input_column_name,function):\n",
    "    dataframe[output_column_name]=dataframe[input_column_name].progress_apply(function)\n",
    "    return dataframe[output_column_name]\n",
    "\n",
    "def build_all_simple_features(dataframe):\n",
    "    print_warning('Compute common_words between question1 & question2')\n",
    "    add_column_from_column(dataframe,'nb_words_question1','question1',lambda x: len(x.split()))\n",
    "    add_column_from_column(dataframe,'nb_words_question2','question2',lambda x: len(x.split()))\n",
    "\n",
    "    print_warning('Compute abs(Nb words in question 1 - Nb words in question 2)')\n",
    "    add_column_from_columns(dataframe,'common_words',lambda r: abs(r.nb_words_question1-nb_words_question2))\n",
    "\n",
    "    print_warning('Compute Nb common_words between question1 & question2')\n",
    "    add_column_from_columns(dataframe,'common_words',lambda r: list(set(r.question1.split())&set(r.question2.split())))\n",
    "    add_column_from_column(dataframe,'nb_common_words','common_words',len)\n",
    "\n",
    "    print_warning('Compute Nb common words/nb words in question1')\n",
    "    add_column_from_columns(dataframe,'nb_common_words/nb_words_question1',lambda r: r.nb_common_words/max(1,r.nb_words_question1))\n",
    "    print_warning('Compute Nb common words/nb words in question2')\n",
    "    add_column_from_columns(dataframe,'nb_common_words/nb_words_question2',lambda r: r.nb_common_words/max(1,r.nb_words_question2))\n",
    "\n",
    "    print_warning('Compute Nb words in question1,question2 not in common words')\n",
    "    add_column_from_columns(dataframe,'nb_words_question1-common_words',lambda r: len(list(set(r.question1.split())-set(r.common_words))))\n",
    "    add_column_from_columns(dataframe,'nb_words_question2-common_words',lambda r: len(list(set(r.question2.split())-set(r.common_words))))\n",
    "    print_warning('Compute (nb common words)/(nb words in question1+nb word in question2)')\n",
    "    add_column_from_columns(dataframe,'nb_common_words/(nb_words_question1+nb_words_question2)',lambda r: r.nb_common_words/(r.nb_words_question1+r.nb_words_question2))\n",
    "    dataframe=dataframe.drop(columns='common_words')\n",
    "    return dataframe"
   ]
  },
  {
   "cell_type": "code",
   "execution_count": 3,
   "metadata": {
    "tags": []
   },
   "outputs": [
    {
     "output_type": "display_data",
     "data": {
      "text/plain": "<IPython.core.display.HTML object>",
      "text/html": "<b>Prepare test_basic_features_balanced_exploration environment in ../test_basic_features_balanced_exploration</b>"
     },
     "metadata": {
      "text/html": {
       "isolated": true
      }
     }
    },
    {
     "output_type": "display_data",
     "data": {
      "text/plain": "<IPython.core.display.HTML object>",
      "text/html": "<HR>"
     },
     "metadata": {
      "text/html": {
       "isolated": true
      }
     }
    },
    {
     "output_type": "display_data",
     "data": {
      "text/plain": "<IPython.core.display.HTML object>",
      "text/html": "<span style=\"color:LIMEGREEN\"><small><b><i>Done</i></b><p></p></small></span>"
     },
     "metadata": {
      "text/html": {
       "isolated": true
      }
     }
    },
    {
     "output_type": "display_data",
     "data": {
      "text/plain": "<IPython.core.display.HTML object>",
      "text/html": "<b>Untouched input data has been loaded. Training: 404290 lines Challenge: 2345796 lines</b>"
     },
     "metadata": {
      "text/html": {
       "isolated": true
      }
     }
    },
    {
     "output_type": "display_data",
     "data": {
      "text/plain": "<IPython.core.display.HTML object>",
      "text/html": "<HR>"
     },
     "metadata": {
      "text/html": {
       "isolated": true
      }
     }
    },
    {
     "output_type": "display_data",
     "data": {
      "text/plain": "<IPython.core.display.HTML object>",
      "text/html": "<b>Training data + basic features: Load or rebuild training_basic_features</b>"
     },
     "metadata": {
      "text/html": {
       "isolated": true
      }
     }
    },
    {
     "output_type": "display_data",
     "data": {
      "text/plain": "<IPython.core.display.HTML object>",
      "text/html": "<HR>"
     },
     "metadata": {
      "text/html": {
       "isolated": true
      }
     }
    },
    {
     "output_type": "display_data",
     "data": {
      "text/plain": "<IPython.core.display.HTML object>",
      "text/html": "<span style=\"color:LIMEGREEN\"><small>!!!!! ../test_basic_features_balanced_exploration/training_basic_features.pkl is cached!!!</small></span>"
     },
     "metadata": {
      "text/html": {
       "isolated": true
      }
     }
    },
    {
     "output_type": "display_data",
     "data": {
      "text/plain": "<IPython.core.display.HTML object>",
      "text/html": "<span style=\"color:LIMEGREEN\"><small><b><i>Done:training_basic_features contains 404290 lines in 0.2 s</i></b><p></p></small></span>"
     },
     "metadata": {
      "text/html": {
       "isolated": true
      }
     }
    },
    {
     "output_type": "display_data",
     "data": {
      "text/plain": "<IPython.core.display.HTML object>",
      "text/html": "<b>Challenge data + basic features: Load or rebuild challenge_basic_features</b>"
     },
     "metadata": {
      "text/html": {
       "isolated": true
      }
     }
    },
    {
     "output_type": "display_data",
     "data": {
      "text/plain": "<IPython.core.display.HTML object>",
      "text/html": "<HR>"
     },
     "metadata": {
      "text/html": {
       "isolated": true
      }
     }
    },
    {
     "output_type": "display_data",
     "data": {
      "text/plain": "<IPython.core.display.HTML object>",
      "text/html": "<span style=\"color:LIMEGREEN\"><small>!!!!! ../test_basic_features_balanced_exploration/challenge_basic_features.pkl is cached!!!</small></span>"
     },
     "metadata": {
      "text/html": {
       "isolated": true
      }
     }
    },
    {
     "output_type": "display_data",
     "data": {
      "text/plain": "<IPython.core.display.HTML object>",
      "text/html": "<span style=\"color:LIMEGREEN\"><small><b><i>Done:challenge_basic_features contains 2345796 lines in 1.0 s</i></b><p></p></small></span>"
     },
     "metadata": {
      "text/html": {
       "isolated": true
      }
     }
    }
   ],
   "source": [
    "prepare_environnement(EXPERIMENT)\n",
    "train_dataframe=load_dataframe(CLEAN_TRAINING_DATA)\n",
    "challenge_dataframe=load_dataframe(CLEAN_CHALLENGE_DATA)\n",
    "print_section('Untouched input data has been loaded. Training: %d lines Challenge: %d lines' % (len(train_dataframe),len(challenge_dataframe)))\n",
    "\n",
    "train_dataframe=load_or_build_dataframe('Training data + basic features','training_basic_features',build_all_simple_features,train_dataframe)\n",
    "challenge_dataframe=load_or_build_dataframe('Challenge data + basic features','challenge_basic_features',build_all_simple_features,challenge_dataframe)"
   ]
  },
  {
   "source": [
    "## Challenge and training are not equivalent\n",
    "\n",
    "% of duplicate in training is not the same in challenge !\n",
    "We don't have the challenge's answer but by scoring a constant prediction and using logloss definition, we can guess the distribution of duplicates in challenge\n",
    "\n",
    "It's 17.46 %\n",
    "\n",
    "To fix that we can:\n",
    "\n",
    "* duplicate some negative cases in training to match challenge distribution\n",
    "* use weights : each case has a weight <>1 and all algorithms has supposed to be able to deal with that info\n",
    "I choose to use weights (less memory needed ?)"
   ],
   "cell_type": "markdown",
   "metadata": {}
  },
  {
   "cell_type": "code",
   "execution_count": 4,
   "metadata": {},
   "outputs": [
    {
     "output_type": "display_data",
     "data": {
      "text/plain": "<IPython.core.display.HTML object>",
      "text/html": "<span style=\"color:LIGHTSALMON\"><small>OUPS !! % of duplicates in train is 0.369. In challenge it is 0.175 %</small></span>"
     },
     "metadata": {
      "text/html": {
       "isolated": true
      }
     }
    },
    {
     "output_type": "display_data",
     "data": {
      "text/plain": "<IPython.core.display.HTML object>",
      "text/html": "<span style=\"color:LIMEGREEN\"><small>Weight for positive case 0.473</small></span>"
     },
     "metadata": {
      "text/html": {
       "isolated": true
      }
     }
    },
    {
     "output_type": "display_data",
     "data": {
      "text/plain": "<IPython.core.display.HTML object>",
      "text/html": "<span style=\"color:LIMEGREEN\"><small>Weight for negative case 1.308</small></span>"
     },
     "metadata": {
      "text/html": {
       "isolated": true
      }
     }
    },
    {
     "output_type": "display_data",
     "data": {
      "text/plain": "<IPython.core.display.HTML object>",
      "text/html": "<span style=\"color:LIMEGREEN\"><small>Training data set has been properly rebalanced</small></span>"
     },
     "metadata": {
      "text/html": {
       "isolated": true
      }
     }
    },
    {
     "output_type": "display_data",
     "data": {
      "text/plain": "<IPython.core.display.HTML object>",
      "text/html": "<span style=\"color:LIMEGREEN\"><small>Weights distribution:</small></span>"
     },
     "metadata": {
      "text/html": {
       "isolated": true
      }
     }
    },
    {
     "output_type": "execute_result",
     "data": {
      "text/plain": "count    404290.000000\nmean          1.000000\nstd           0.403239\nmin           0.472917\n25%           0.472917\n50%           1.308493\n75%           1.308493\nmax           1.308493\nName: weight, dtype: float64"
     },
     "metadata": {},
     "execution_count": 4
    }
   ],
   "source": [
    "# return the weight for 0 and weight for 1 needed to rebalance dataframe like challenge\n",
    "def balanced_weights(dataframe,expected_positive_ratio):\n",
    "    current_positive_ratio = dataframe['is_duplicate'].sum()/len(dataframe)\n",
    "    weight_for_negative = (1-expected_positive_ratio)/(1-current_positive_ratio)\n",
    "    weight_for_positive = expected_positive_ratio/current_positive_ratio\n",
    "    return weight_for_positive,weight_for_negative\n",
    "    return 1,\n",
    "\n",
    "\n",
    "CHALLENGE_DUPLICATE_PERCENT = 0.1746\n",
    "print_warning('OUPS !! %% of duplicates in train is %.3f. In challenge it is %.3f %%' % (train_dataframe['is_duplicate'].sum()/len(train_dataframe),CHALLENGE_DUPLICATE_PERCENT))\n",
    "\n",
    "# create a new 'weight' column to training dataset\n",
    "# Do not forget to remove this column from features !!!\n",
    "weight_for_1,weight_for_0 = balanced_weights(train_dataframe,CHALLENGE_DUPLICATE_PERCENT)\n",
    "print_info('Weight for positive case %.3f' % weight_for_1)\n",
    "print_info('Weight for negative case %.3f' % weight_for_0)\n",
    "train_dataframe['weight'] = train_dataframe['is_duplicate'].map( {0:weight_for_0, 1:weight_for_1})\n",
    "\n",
    "assert int(train_dataframe['weight'].sum()/len(train_dataframe)) == 1, \"training dataset has not been properly rebalanced\"\n",
    "print_info(\"Training data set has been properly rebalanced\")\n",
    "print_info('Weights distribution:')\n",
    "train_dataframe['weight'].describe()"
   ]
  },
  {
   "source": [
    "## Compute AUC of these basic features and try to figure if there is a bit of information inside each one\n",
    "\n",
    "ie is it helping to separate 1 from 0?"
   ],
   "cell_type": "markdown",
   "metadata": {}
  },
  {
   "cell_type": "code",
   "execution_count": 5,
   "metadata": {},
   "outputs": [
    {
     "output_type": "display_data",
     "data": {
      "text/plain": "<IPython.core.display.HTML object>",
      "text/html": "<b>Show AUC on 8 unique features</b>"
     },
     "metadata": {
      "text/html": {
       "isolated": true
      }
     }
    },
    {
     "output_type": "display_data",
     "data": {
      "text/plain": "<IPython.core.display.HTML object>",
      "text/html": "<HR>"
     },
     "metadata": {
      "text/html": {
       "isolated": true
      }
     }
    },
    {
     "output_type": "display_data",
     "data": {
      "text/plain": "<IPython.core.display.HTML object>",
      "text/html": "<li>AUC nb_words_question1: 0.416034"
     },
     "metadata": {
      "text/html": {
       "isolated": true
      }
     }
    },
    {
     "output_type": "display_data",
     "data": {
      "text/plain": "<IPython.core.display.HTML object>",
      "text/html": "<li>Weighted AUC 0.416034"
     },
     "metadata": {
      "text/html": {
       "isolated": true
      }
     }
    },
    {
     "output_type": "display_data",
     "data": {
      "text/plain": "<IPython.core.display.HTML object>",
      "text/html": "<li>AUC nb_words_question2: 0.420794"
     },
     "metadata": {
      "text/html": {
       "isolated": true
      }
     }
    },
    {
     "output_type": "display_data",
     "data": {
      "text/plain": "<IPython.core.display.HTML object>",
      "text/html": "<li>Weighted AUC 0.420794"
     },
     "metadata": {
      "text/html": {
       "isolated": true
      }
     }
    },
    {
     "output_type": "display_data",
     "data": {
      "text/plain": "<IPython.core.display.HTML object>",
      "text/html": "<li>AUC nb_common_words: 0.680781"
     },
     "metadata": {
      "text/html": {
       "isolated": true
      }
     }
    },
    {
     "output_type": "display_data",
     "data": {
      "text/plain": "<IPython.core.display.HTML object>",
      "text/html": "<li>Weighted AUC 0.680781"
     },
     "metadata": {
      "text/html": {
       "isolated": true
      }
     }
    },
    {
     "output_type": "display_data",
     "data": {
      "text/plain": "<IPython.core.display.HTML object>",
      "text/html": "<li>AUC nb_common_words/nb_words_question1: 0.723389"
     },
     "metadata": {
      "text/html": {
       "isolated": true
      }
     }
    },
    {
     "output_type": "display_data",
     "data": {
      "text/plain": "<IPython.core.display.HTML object>",
      "text/html": "<li>Weighted AUC 0.723389"
     },
     "metadata": {
      "text/html": {
       "isolated": true
      }
     }
    },
    {
     "output_type": "display_data",
     "data": {
      "text/plain": "<IPython.core.display.HTML object>",
      "text/html": "<li>AUC nb_common_words/nb_words_question2: 0.725483"
     },
     "metadata": {
      "text/html": {
       "isolated": true
      }
     }
    },
    {
     "output_type": "display_data",
     "data": {
      "text/plain": "<IPython.core.display.HTML object>",
      "text/html": "<li>Weighted AUC 0.725483"
     },
     "metadata": {
      "text/html": {
       "isolated": true
      }
     }
    },
    {
     "output_type": "display_data",
     "data": {
      "text/plain": "<IPython.core.display.HTML object>",
      "text/html": "<li>AUC nb_words_question1-common_words: 0.320685"
     },
     "metadata": {
      "text/html": {
       "isolated": true
      }
     }
    },
    {
     "output_type": "display_data",
     "data": {
      "text/plain": "<IPython.core.display.HTML object>",
      "text/html": "<li>Weighted AUC 0.320685"
     },
     "metadata": {
      "text/html": {
       "isolated": true
      }
     }
    },
    {
     "output_type": "display_data",
     "data": {
      "text/plain": "<IPython.core.display.HTML object>",
      "text/html": "<li>AUC nb_words_question2-common_words: 0.323137"
     },
     "metadata": {
      "text/html": {
       "isolated": true
      }
     }
    },
    {
     "output_type": "display_data",
     "data": {
      "text/plain": "<IPython.core.display.HTML object>",
      "text/html": "<li>Weighted AUC 0.323137"
     },
     "metadata": {
      "text/html": {
       "isolated": true
      }
     }
    },
    {
     "output_type": "display_data",
     "data": {
      "text/plain": "<IPython.core.display.HTML object>",
      "text/html": "<li>AUC nb_common_words/(nb_words_question1+nb_words_question2): 0.734773"
     },
     "metadata": {
      "text/html": {
       "isolated": true
      }
     }
    },
    {
     "output_type": "display_data",
     "data": {
      "text/plain": "<IPython.core.display.HTML object>",
      "text/html": "<li>Weighted AUC 0.734773"
     },
     "metadata": {
      "text/html": {
       "isolated": true
      }
     }
    },
    {
     "output_type": "display_data",
     "data": {
      "text/plain": "<IPython.core.display.HTML object>",
      "text/html": "<span style=\"color:LIMEGREEN\"><small><b><i>Done</i></b><p></p></small></span>"
     },
     "metadata": {
      "text/html": {
       "isolated": true
      }
     }
    },
    {
     "output_type": "display_data",
     "data": {
      "text/plain": "<Figure size 1080x540 with 2 Axes>",
      "image/svg+xml": "<?xml version=\"1.0\" encoding=\"utf-8\" standalone=\"no\"?>\n<!DOCTYPE svg PUBLIC \"-//W3C//DTD SVG 1.1//EN\"\n  \"http://www.w3.org/Graphics/SVG/1.1/DTD/svg11.dtd\">\n<!-- Created with matplotlib (https://matplotlib.org/) -->\n<svg height=\"466.332812pt\" version=\"1.1\" viewBox=\"0 0 903.890625 466.332812\" width=\"903.890625pt\" xmlns=\"http://www.w3.org/2000/svg\" xmlns:xlink=\"http://www.w3.org/1999/xlink\">\n <defs>\n  <style type=\"text/css\">\n*{stroke-linecap:butt;stroke-linejoin:round;}\n  </style>\n </defs>\n <g id=\"figure_1\">\n  <g id=\"patch_1\">\n   <path d=\"M 0 466.332812 \nL 903.890625 466.332812 \nL 903.890625 0 \nL 0 0 \nz\n\" style=\"fill:none;\"/>\n  </g>\n  <g id=\"axes_1\">\n   <g id=\"patch_2\">\n    <path d=\"M 59.690625 428.498437 \nL 440.14517 428.498437 \nL 440.14517 20.798437 \nL 59.690625 20.798437 \nz\n\" style=\"fill:#ffffff;\"/>\n   </g>\n   <g id=\"patch_3\">\n    <path clip-path=\"url(#pf710a24710)\" d=\"M 79.750956 428.498437 \nL 79.750956 428.387402 \nL 84.122724 428.387402 \nL 84.122724 403.737451 \nL 88.494493 403.737451 \nL 88.494493 377.833448 \nL 92.866261 377.833448 \nL 92.866261 207.406535 \nL 97.23803 207.406535 \nL 97.23803 289.155021 \nL 101.609799 289.155021 \nL 101.609799 202.409923 \nL 105.981567 202.409923 \nL 105.981567 304.099135 \nL 110.353336 304.099135 \nL 110.353336 389.230948 \nL 114.725104 389.230948 \nL 114.725104 368.904862 \nL 119.096873 368.904862 \nL 119.096873 408.812441 \nL 123.468642 408.812441 \nL 123.468642 403.143083 \nL 127.84041 403.143083 \nL 127.84041 419.406564 \nL 132.212179 419.406564 \nL 132.212179 413.998466 \nL 136.583947 413.998466 \nL 136.583947 419.589446 \nL 140.955716 419.589446 \nL 140.955716 425.983803 \nL 145.327485 425.983803 \nL 145.327485 424.42277 \nL 149.699253 424.42277 \nL 149.699253 426.911278 \nL 154.071022 426.911278 \nL 154.071022 426.774117 \nL 158.44279 426.774117 \nL 158.44279 427.577493 \nL 162.814559 427.577493 \nL 162.814559 428.152267 \nL 167.186327 428.152267 \nL 167.186327 428.086952 \nL 171.558096 428.086952 \nL 171.558096 428.341681 \nL 175.929865 428.341681 \nL 175.929865 428.406996 \nL 180.301633 428.406996 \nL 180.301633 428.478843 \nL 184.673402 428.478843 \nL 184.673402 428.446185 \nL 189.04517 428.446185 \nL 189.04517 428.46578 \nL 193.416939 428.46578 \nL 193.416939 428.472311 \nL 197.788708 428.472311 \nL 197.788708 428.478843 \nL 202.160476 428.478843 \nL 202.160476 428.491906 \nL 206.532245 428.491906 \nL 206.532245 428.478843 \nL 210.904013 428.478843 \nL 210.904013 428.485374 \nL 215.275782 428.485374 \nL 215.275782 428.498437 \nL 219.647551 428.498437 \nL 219.647551 428.485374 \nL 224.019319 428.485374 \nL 224.019319 428.498437 \nL 228.391088 428.498437 \nL 228.391088 428.485374 \nL 232.762856 428.485374 \nL 232.762856 428.498437 \nL 237.134625 428.498437 \nL 237.134625 428.498437 \nL 241.506394 428.498437 \nL 241.506394 428.498437 \nL 245.878162 428.498437 \nL 245.878162 428.498437 \nL 250.249931 428.498437 \nL 250.249931 428.498437 \nL 254.621699 428.498437 \nL 254.621699 428.498437 \nL 258.993468 428.498437 \nL 258.993468 428.498437 \nL 263.365237 428.498437 \nL 263.365237 428.498437 \nL 267.737005 428.498437 \nL 267.737005 428.498437 \nL 272.108774 428.498437 \nL 272.108774 428.498437 \nL 276.480542 428.498437 \nL 276.480542 428.498437 \nL 280.852311 428.498437 \nL 280.852311 428.498437 \nL 285.22408 428.498437 \nL 285.22408 428.498437 \nL 289.595848 428.498437 \nL 289.595848 428.498437 \nL 293.967617 428.498437 \nL 293.967617 428.491906 \nL 298.339385 428.491906 \nL 298.339385 428.498437 \n\" style=\"fill:none;stroke:#d62728;stroke-linejoin:miter;\"/>\n   </g>\n   <g id=\"patch_4\">\n    <path clip-path=\"url(#pf710a24710)\" d=\"M 76.984013 428.498437 \nL 76.984013 427.695061 \nL 83.901369 427.695061 \nL 83.901369 367.814099 \nL 90.818724 367.814099 \nL 90.818724 94.293697 \nL 97.73608 94.293697 \nL 97.73608 85.456552 \nL 104.653435 85.456552 \nL 104.653435 40.212723 \nL 111.57079 40.212723 \nL 111.57079 270.886364 \nL 118.488146 270.886364 \nL 118.488146 275.046941 \nL 125.405501 275.046941 \nL 125.405501 366.155093 \nL 132.322856 366.155093 \nL 132.322856 363.26163 \nL 139.240212 363.26163 \nL 139.240212 398.544893 \nL 146.157567 398.544893 \nL 146.157567 395.213819 \nL 153.074923 395.213819 \nL 153.074923 414.207475 \nL 159.992278 414.207475 \nL 159.992278 418.217827 \nL 166.909633 418.217827 \nL 166.909633 425.389435 \nL 173.826989 425.389435 \nL 173.826989 425.631101 \nL 180.744344 425.631101 \nL 180.744344 427.028846 \nL 187.661699 427.028846 \nL 187.661699 426.950468 \nL 194.579055 426.950468 \nL 194.579055 427.825691 \nL 201.49641 427.825691 \nL 201.49641 427.73425 \nL 208.413765 427.73425 \nL 208.413765 428.060826 \nL 215.331121 428.060826 \nL 215.331121 428.047763 \nL 222.248476 428.047763 \nL 222.248476 428.256771 \nL 229.165832 428.256771 \nL 229.165832 428.289429 \nL 236.083187 428.289429 \nL 236.083187 428.374339 \nL 243.000542 428.374339 \nL 243.000542 428.315555 \nL 249.917898 428.315555 \nL 249.917898 428.433122 \nL 256.835253 428.433122 \nL 256.835253 428.459248 \nL 263.752608 428.459248 \nL 263.752608 428.478843 \nL 270.669964 428.478843 \nL 270.669964 428.485374 \nL 277.587319 428.485374 \nL 277.587319 428.485374 \nL 284.504675 428.485374 \nL 284.504675 428.491906 \nL 291.42203 428.491906 \nL 291.42203 428.498437 \nL 298.339385 428.498437 \nL 298.339385 428.498437 \nL 305.256741 428.498437 \nL 305.256741 428.498437 \nL 312.174096 428.498437 \nL 312.174096 428.498437 \nL 319.091451 428.498437 \nL 319.091451 428.498437 \nL 326.008807 428.498437 \nL 326.008807 428.498437 \nL 332.926162 428.498437 \nL 332.926162 428.498437 \nL 339.843518 428.498437 \nL 339.843518 428.498437 \nL 346.760873 428.498437 \nL 346.760873 428.498437 \nL 353.678228 428.498437 \nL 353.678228 428.498437 \nL 360.595584 428.498437 \nL 360.595584 428.498437 \nL 367.512939 428.498437 \nL 367.512939 428.498437 \nL 374.430294 428.498437 \nL 374.430294 428.498437 \nL 381.34765 428.498437 \nL 381.34765 428.498437 \nL 388.265005 428.498437 \nL 388.265005 428.498437 \nL 395.182361 428.498437 \nL 395.182361 428.498437 \nL 402.099716 428.498437 \nL 402.099716 428.498437 \nL 409.017071 428.498437 \nL 409.017071 428.498437 \nL 415.934427 428.498437 \nL 415.934427 428.491906 \nL 422.851782 428.491906 \nL 422.851782 428.498437 \n\" style=\"fill:none;opacity:0.75;stroke:#2ca02c;stroke-linejoin:miter;\"/>\n   </g>\n   <g id=\"matplotlib.axis_1\">\n    <g id=\"xtick_1\">\n     <g id=\"line2d_1\">\n      <defs>\n       <path d=\"M 0 0 \nL 0 3.5 \n\" id=\"mcc46add75e\" style=\"stroke:#000000;stroke-width:0.8;\"/>\n      </defs>\n      <g>\n       <use style=\"stroke:#000000;stroke-width:0.8;\" x=\"76.984013\" xlink:href=\"#mcc46add75e\" y=\"428.498437\"/>\n      </g>\n     </g>\n     <g id=\"text_1\">\n      <!-- 0 -->\n      <defs>\n       <path d=\"M 31.78125 66.40625 \nQ 24.171875 66.40625 20.328125 58.90625 \nQ 16.5 51.421875 16.5 36.375 \nQ 16.5 21.390625 20.328125 13.890625 \nQ 24.171875 6.390625 31.78125 6.390625 \nQ 39.453125 6.390625 43.28125 13.890625 \nQ 47.125 21.390625 47.125 36.375 \nQ 47.125 51.421875 43.28125 58.90625 \nQ 39.453125 66.40625 31.78125 66.40625 \nz\nM 31.78125 74.21875 \nQ 44.046875 74.21875 50.515625 64.515625 \nQ 56.984375 54.828125 56.984375 36.375 \nQ 56.984375 17.96875 50.515625 8.265625 \nQ 44.046875 -1.421875 31.78125 -1.421875 \nQ 19.53125 -1.421875 13.0625 8.265625 \nQ 6.59375 17.96875 6.59375 36.375 \nQ 6.59375 54.828125 13.0625 64.515625 \nQ 19.53125 74.21875 31.78125 74.21875 \nz\n\" id=\"DejaVuSans-48\"/>\n      </defs>\n      <g transform=\"translate(73.802763 443.096875)scale(0.1 -0.1)\">\n       <use xlink:href=\"#DejaVuSans-48\"/>\n      </g>\n     </g>\n    </g>\n    <g id=\"xtick_2\">\n     <g id=\"line2d_2\">\n      <g>\n       <use style=\"stroke:#000000;stroke-width:0.8;\" x=\"132.322856\" xlink:href=\"#mcc46add75e\" y=\"428.498437\"/>\n      </g>\n     </g>\n     <g id=\"text_2\">\n      <!-- 20 -->\n      <defs>\n       <path d=\"M 19.1875 8.296875 \nL 53.609375 8.296875 \nL 53.609375 0 \nL 7.328125 0 \nL 7.328125 8.296875 \nQ 12.9375 14.109375 22.625 23.890625 \nQ 32.328125 33.6875 34.8125 36.53125 \nQ 39.546875 41.84375 41.421875 45.53125 \nQ 43.3125 49.21875 43.3125 52.78125 \nQ 43.3125 58.59375 39.234375 62.25 \nQ 35.15625 65.921875 28.609375 65.921875 \nQ 23.96875 65.921875 18.8125 64.3125 \nQ 13.671875 62.703125 7.8125 59.421875 \nL 7.8125 69.390625 \nQ 13.765625 71.78125 18.9375 73 \nQ 24.125 74.21875 28.421875 74.21875 \nQ 39.75 74.21875 46.484375 68.546875 \nQ 53.21875 62.890625 53.21875 53.421875 \nQ 53.21875 48.921875 51.53125 44.890625 \nQ 49.859375 40.875 45.40625 35.40625 \nQ 44.1875 33.984375 37.640625 27.21875 \nQ 31.109375 20.453125 19.1875 8.296875 \nz\n\" id=\"DejaVuSans-50\"/>\n      </defs>\n      <g transform=\"translate(125.960356 443.096875)scale(0.1 -0.1)\">\n       <use xlink:href=\"#DejaVuSans-50\"/>\n       <use x=\"63.623047\" xlink:href=\"#DejaVuSans-48\"/>\n      </g>\n     </g>\n    </g>\n    <g id=\"xtick_3\">\n     <g id=\"line2d_3\">\n      <g>\n       <use style=\"stroke:#000000;stroke-width:0.8;\" x=\"187.661699\" xlink:href=\"#mcc46add75e\" y=\"428.498437\"/>\n      </g>\n     </g>\n     <g id=\"text_3\">\n      <!-- 40 -->\n      <defs>\n       <path d=\"M 37.796875 64.3125 \nL 12.890625 25.390625 \nL 37.796875 25.390625 \nz\nM 35.203125 72.90625 \nL 47.609375 72.90625 \nL 47.609375 25.390625 \nL 58.015625 25.390625 \nL 58.015625 17.1875 \nL 47.609375 17.1875 \nL 47.609375 0 \nL 37.796875 0 \nL 37.796875 17.1875 \nL 4.890625 17.1875 \nL 4.890625 26.703125 \nz\n\" id=\"DejaVuSans-52\"/>\n      </defs>\n      <g transform=\"translate(181.299199 443.096875)scale(0.1 -0.1)\">\n       <use xlink:href=\"#DejaVuSans-52\"/>\n       <use x=\"63.623047\" xlink:href=\"#DejaVuSans-48\"/>\n      </g>\n     </g>\n    </g>\n    <g id=\"xtick_4\">\n     <g id=\"line2d_4\">\n      <g>\n       <use style=\"stroke:#000000;stroke-width:0.8;\" x=\"243.000542\" xlink:href=\"#mcc46add75e\" y=\"428.498437\"/>\n      </g>\n     </g>\n     <g id=\"text_4\">\n      <!-- 60 -->\n      <defs>\n       <path d=\"M 33.015625 40.375 \nQ 26.375 40.375 22.484375 35.828125 \nQ 18.609375 31.296875 18.609375 23.390625 \nQ 18.609375 15.53125 22.484375 10.953125 \nQ 26.375 6.390625 33.015625 6.390625 \nQ 39.65625 6.390625 43.53125 10.953125 \nQ 47.40625 15.53125 47.40625 23.390625 \nQ 47.40625 31.296875 43.53125 35.828125 \nQ 39.65625 40.375 33.015625 40.375 \nz\nM 52.59375 71.296875 \nL 52.59375 62.3125 \nQ 48.875 64.0625 45.09375 64.984375 \nQ 41.3125 65.921875 37.59375 65.921875 \nQ 27.828125 65.921875 22.671875 59.328125 \nQ 17.53125 52.734375 16.796875 39.40625 \nQ 19.671875 43.65625 24.015625 45.921875 \nQ 28.375 48.1875 33.59375 48.1875 \nQ 44.578125 48.1875 50.953125 41.515625 \nQ 57.328125 34.859375 57.328125 23.390625 \nQ 57.328125 12.15625 50.6875 5.359375 \nQ 44.046875 -1.421875 33.015625 -1.421875 \nQ 20.359375 -1.421875 13.671875 8.265625 \nQ 6.984375 17.96875 6.984375 36.375 \nQ 6.984375 53.65625 15.1875 63.9375 \nQ 23.390625 74.21875 37.203125 74.21875 \nQ 40.921875 74.21875 44.703125 73.484375 \nQ 48.484375 72.75 52.59375 71.296875 \nz\n\" id=\"DejaVuSans-54\"/>\n      </defs>\n      <g transform=\"translate(236.638042 443.096875)scale(0.1 -0.1)\">\n       <use xlink:href=\"#DejaVuSans-54\"/>\n       <use x=\"63.623047\" xlink:href=\"#DejaVuSans-48\"/>\n      </g>\n     </g>\n    </g>\n    <g id=\"xtick_5\">\n     <g id=\"line2d_5\">\n      <g>\n       <use style=\"stroke:#000000;stroke-width:0.8;\" x=\"298.339385\" xlink:href=\"#mcc46add75e\" y=\"428.498437\"/>\n      </g>\n     </g>\n     <g id=\"text_5\">\n      <!-- 80 -->\n      <defs>\n       <path d=\"M 31.78125 34.625 \nQ 24.75 34.625 20.71875 30.859375 \nQ 16.703125 27.09375 16.703125 20.515625 \nQ 16.703125 13.921875 20.71875 10.15625 \nQ 24.75 6.390625 31.78125 6.390625 \nQ 38.8125 6.390625 42.859375 10.171875 \nQ 46.921875 13.96875 46.921875 20.515625 \nQ 46.921875 27.09375 42.890625 30.859375 \nQ 38.875 34.625 31.78125 34.625 \nz\nM 21.921875 38.8125 \nQ 15.578125 40.375 12.03125 44.71875 \nQ 8.5 49.078125 8.5 55.328125 \nQ 8.5 64.0625 14.71875 69.140625 \nQ 20.953125 74.21875 31.78125 74.21875 \nQ 42.671875 74.21875 48.875 69.140625 \nQ 55.078125 64.0625 55.078125 55.328125 \nQ 55.078125 49.078125 51.53125 44.71875 \nQ 48 40.375 41.703125 38.8125 \nQ 48.828125 37.15625 52.796875 32.3125 \nQ 56.78125 27.484375 56.78125 20.515625 \nQ 56.78125 9.90625 50.3125 4.234375 \nQ 43.84375 -1.421875 31.78125 -1.421875 \nQ 19.734375 -1.421875 13.25 4.234375 \nQ 6.78125 9.90625 6.78125 20.515625 \nQ 6.78125 27.484375 10.78125 32.3125 \nQ 14.796875 37.15625 21.921875 38.8125 \nz\nM 18.3125 54.390625 \nQ 18.3125 48.734375 21.84375 45.5625 \nQ 25.390625 42.390625 31.78125 42.390625 \nQ 38.140625 42.390625 41.71875 45.5625 \nQ 45.3125 48.734375 45.3125 54.390625 \nQ 45.3125 60.0625 41.71875 63.234375 \nQ 38.140625 66.40625 31.78125 66.40625 \nQ 25.390625 66.40625 21.84375 63.234375 \nQ 18.3125 60.0625 18.3125 54.390625 \nz\n\" id=\"DejaVuSans-56\"/>\n      </defs>\n      <g transform=\"translate(291.976885 443.096875)scale(0.1 -0.1)\">\n       <use xlink:href=\"#DejaVuSans-56\"/>\n       <use x=\"63.623047\" xlink:href=\"#DejaVuSans-48\"/>\n      </g>\n     </g>\n    </g>\n    <g id=\"xtick_6\">\n     <g id=\"line2d_6\">\n      <g>\n       <use style=\"stroke:#000000;stroke-width:0.8;\" x=\"353.678228\" xlink:href=\"#mcc46add75e\" y=\"428.498437\"/>\n      </g>\n     </g>\n     <g id=\"text_6\">\n      <!-- 100 -->\n      <defs>\n       <path d=\"M 12.40625 8.296875 \nL 28.515625 8.296875 \nL 28.515625 63.921875 \nL 10.984375 60.40625 \nL 10.984375 69.390625 \nL 28.421875 72.90625 \nL 38.28125 72.90625 \nL 38.28125 8.296875 \nL 54.390625 8.296875 \nL 54.390625 0 \nL 12.40625 0 \nz\n\" id=\"DejaVuSans-49\"/>\n      </defs>\n      <g transform=\"translate(344.134478 443.096875)scale(0.1 -0.1)\">\n       <use xlink:href=\"#DejaVuSans-49\"/>\n       <use x=\"63.623047\" xlink:href=\"#DejaVuSans-48\"/>\n       <use x=\"127.246094\" xlink:href=\"#DejaVuSans-48\"/>\n      </g>\n     </g>\n    </g>\n    <g id=\"xtick_7\">\n     <g id=\"line2d_7\">\n      <g>\n       <use style=\"stroke:#000000;stroke-width:0.8;\" x=\"409.017071\" xlink:href=\"#mcc46add75e\" y=\"428.498437\"/>\n      </g>\n     </g>\n     <g id=\"text_7\">\n      <!-- 120 -->\n      <g transform=\"translate(399.473321 443.096875)scale(0.1 -0.1)\">\n       <use xlink:href=\"#DejaVuSans-49\"/>\n       <use x=\"63.623047\" xlink:href=\"#DejaVuSans-50\"/>\n       <use x=\"127.246094\" xlink:href=\"#DejaVuSans-48\"/>\n      </g>\n     </g>\n    </g>\n    <g id=\"text_8\">\n     <!-- nb_words_question1 -->\n     <defs>\n      <path d=\"M 54.890625 33.015625 \nL 54.890625 0 \nL 45.90625 0 \nL 45.90625 32.71875 \nQ 45.90625 40.484375 42.875 44.328125 \nQ 39.84375 48.1875 33.796875 48.1875 \nQ 26.515625 48.1875 22.3125 43.546875 \nQ 18.109375 38.921875 18.109375 30.90625 \nL 18.109375 0 \nL 9.078125 0 \nL 9.078125 54.6875 \nL 18.109375 54.6875 \nL 18.109375 46.1875 \nQ 21.34375 51.125 25.703125 53.5625 \nQ 30.078125 56 35.796875 56 \nQ 45.21875 56 50.046875 50.171875 \nQ 54.890625 44.34375 54.890625 33.015625 \nz\n\" id=\"DejaVuSans-110\"/>\n      <path d=\"M 48.6875 27.296875 \nQ 48.6875 37.203125 44.609375 42.84375 \nQ 40.53125 48.484375 33.40625 48.484375 \nQ 26.265625 48.484375 22.1875 42.84375 \nQ 18.109375 37.203125 18.109375 27.296875 \nQ 18.109375 17.390625 22.1875 11.75 \nQ 26.265625 6.109375 33.40625 6.109375 \nQ 40.53125 6.109375 44.609375 11.75 \nQ 48.6875 17.390625 48.6875 27.296875 \nz\nM 18.109375 46.390625 \nQ 20.953125 51.265625 25.265625 53.625 \nQ 29.59375 56 35.59375 56 \nQ 45.5625 56 51.78125 48.09375 \nQ 58.015625 40.1875 58.015625 27.296875 \nQ 58.015625 14.40625 51.78125 6.484375 \nQ 45.5625 -1.421875 35.59375 -1.421875 \nQ 29.59375 -1.421875 25.265625 0.953125 \nQ 20.953125 3.328125 18.109375 8.203125 \nL 18.109375 0 \nL 9.078125 0 \nL 9.078125 75.984375 \nL 18.109375 75.984375 \nz\n\" id=\"DejaVuSans-98\"/>\n      <path d=\"M 50.984375 -16.609375 \nL 50.984375 -23.578125 \nL -0.984375 -23.578125 \nL -0.984375 -16.609375 \nz\n\" id=\"DejaVuSans-95\"/>\n      <path d=\"M 4.203125 54.6875 \nL 13.1875 54.6875 \nL 24.421875 12.015625 \nL 35.59375 54.6875 \nL 46.1875 54.6875 \nL 57.421875 12.015625 \nL 68.609375 54.6875 \nL 77.59375 54.6875 \nL 63.28125 0 \nL 52.6875 0 \nL 40.921875 44.828125 \nL 29.109375 0 \nL 18.5 0 \nz\n\" id=\"DejaVuSans-119\"/>\n      <path d=\"M 30.609375 48.390625 \nQ 23.390625 48.390625 19.1875 42.75 \nQ 14.984375 37.109375 14.984375 27.296875 \nQ 14.984375 17.484375 19.15625 11.84375 \nQ 23.34375 6.203125 30.609375 6.203125 \nQ 37.796875 6.203125 41.984375 11.859375 \nQ 46.1875 17.53125 46.1875 27.296875 \nQ 46.1875 37.015625 41.984375 42.703125 \nQ 37.796875 48.390625 30.609375 48.390625 \nz\nM 30.609375 56 \nQ 42.328125 56 49.015625 48.375 \nQ 55.71875 40.765625 55.71875 27.296875 \nQ 55.71875 13.875 49.015625 6.21875 \nQ 42.328125 -1.421875 30.609375 -1.421875 \nQ 18.84375 -1.421875 12.171875 6.21875 \nQ 5.515625 13.875 5.515625 27.296875 \nQ 5.515625 40.765625 12.171875 48.375 \nQ 18.84375 56 30.609375 56 \nz\n\" id=\"DejaVuSans-111\"/>\n      <path d=\"M 41.109375 46.296875 \nQ 39.59375 47.171875 37.8125 47.578125 \nQ 36.03125 48 33.890625 48 \nQ 26.265625 48 22.1875 43.046875 \nQ 18.109375 38.09375 18.109375 28.8125 \nL 18.109375 0 \nL 9.078125 0 \nL 9.078125 54.6875 \nL 18.109375 54.6875 \nL 18.109375 46.1875 \nQ 20.953125 51.171875 25.484375 53.578125 \nQ 30.03125 56 36.53125 56 \nQ 37.453125 56 38.578125 55.875 \nQ 39.703125 55.765625 41.0625 55.515625 \nz\n\" id=\"DejaVuSans-114\"/>\n      <path d=\"M 45.40625 46.390625 \nL 45.40625 75.984375 \nL 54.390625 75.984375 \nL 54.390625 0 \nL 45.40625 0 \nL 45.40625 8.203125 \nQ 42.578125 3.328125 38.25 0.953125 \nQ 33.9375 -1.421875 27.875 -1.421875 \nQ 17.96875 -1.421875 11.734375 6.484375 \nQ 5.515625 14.40625 5.515625 27.296875 \nQ 5.515625 40.1875 11.734375 48.09375 \nQ 17.96875 56 27.875 56 \nQ 33.9375 56 38.25 53.625 \nQ 42.578125 51.265625 45.40625 46.390625 \nz\nM 14.796875 27.296875 \nQ 14.796875 17.390625 18.875 11.75 \nQ 22.953125 6.109375 30.078125 6.109375 \nQ 37.203125 6.109375 41.296875 11.75 \nQ 45.40625 17.390625 45.40625 27.296875 \nQ 45.40625 37.203125 41.296875 42.84375 \nQ 37.203125 48.484375 30.078125 48.484375 \nQ 22.953125 48.484375 18.875 42.84375 \nQ 14.796875 37.203125 14.796875 27.296875 \nz\n\" id=\"DejaVuSans-100\"/>\n      <path d=\"M 44.28125 53.078125 \nL 44.28125 44.578125 \nQ 40.484375 46.53125 36.375 47.5 \nQ 32.28125 48.484375 27.875 48.484375 \nQ 21.1875 48.484375 17.84375 46.4375 \nQ 14.5 44.390625 14.5 40.28125 \nQ 14.5 37.15625 16.890625 35.375 \nQ 19.28125 33.59375 26.515625 31.984375 \nL 29.59375 31.296875 \nQ 39.15625 29.25 43.1875 25.515625 \nQ 47.21875 21.78125 47.21875 15.09375 \nQ 47.21875 7.46875 41.1875 3.015625 \nQ 35.15625 -1.421875 24.609375 -1.421875 \nQ 20.21875 -1.421875 15.453125 -0.5625 \nQ 10.6875 0.296875 5.421875 2 \nL 5.421875 11.28125 \nQ 10.40625 8.6875 15.234375 7.390625 \nQ 20.0625 6.109375 24.8125 6.109375 \nQ 31.15625 6.109375 34.5625 8.28125 \nQ 37.984375 10.453125 37.984375 14.40625 \nQ 37.984375 18.0625 35.515625 20.015625 \nQ 33.0625 21.96875 24.703125 23.78125 \nL 21.578125 24.515625 \nQ 13.234375 26.265625 9.515625 29.90625 \nQ 5.8125 33.546875 5.8125 39.890625 \nQ 5.8125 47.609375 11.28125 51.796875 \nQ 16.75 56 26.8125 56 \nQ 31.78125 56 36.171875 55.265625 \nQ 40.578125 54.546875 44.28125 53.078125 \nz\n\" id=\"DejaVuSans-115\"/>\n      <path d=\"M 14.796875 27.296875 \nQ 14.796875 17.390625 18.875 11.75 \nQ 22.953125 6.109375 30.078125 6.109375 \nQ 37.203125 6.109375 41.296875 11.75 \nQ 45.40625 17.390625 45.40625 27.296875 \nQ 45.40625 37.203125 41.296875 42.84375 \nQ 37.203125 48.484375 30.078125 48.484375 \nQ 22.953125 48.484375 18.875 42.84375 \nQ 14.796875 37.203125 14.796875 27.296875 \nz\nM 45.40625 8.203125 \nQ 42.578125 3.328125 38.25 0.953125 \nQ 33.9375 -1.421875 27.875 -1.421875 \nQ 17.96875 -1.421875 11.734375 6.484375 \nQ 5.515625 14.40625 5.515625 27.296875 \nQ 5.515625 40.1875 11.734375 48.09375 \nQ 17.96875 56 27.875 56 \nQ 33.9375 56 38.25 53.625 \nQ 42.578125 51.265625 45.40625 46.390625 \nL 45.40625 54.6875 \nL 54.390625 54.6875 \nL 54.390625 -20.796875 \nL 45.40625 -20.796875 \nz\n\" id=\"DejaVuSans-113\"/>\n      <path d=\"M 8.5 21.578125 \nL 8.5 54.6875 \nL 17.484375 54.6875 \nL 17.484375 21.921875 \nQ 17.484375 14.15625 20.5 10.265625 \nQ 23.53125 6.390625 29.59375 6.390625 \nQ 36.859375 6.390625 41.078125 11.03125 \nQ 45.3125 15.671875 45.3125 23.6875 \nL 45.3125 54.6875 \nL 54.296875 54.6875 \nL 54.296875 0 \nL 45.3125 0 \nL 45.3125 8.40625 \nQ 42.046875 3.421875 37.71875 1 \nQ 33.40625 -1.421875 27.6875 -1.421875 \nQ 18.265625 -1.421875 13.375 4.4375 \nQ 8.5 10.296875 8.5 21.578125 \nz\nM 31.109375 56 \nz\n\" id=\"DejaVuSans-117\"/>\n      <path d=\"M 56.203125 29.59375 \nL 56.203125 25.203125 \nL 14.890625 25.203125 \nQ 15.484375 15.921875 20.484375 11.0625 \nQ 25.484375 6.203125 34.421875 6.203125 \nQ 39.59375 6.203125 44.453125 7.46875 \nQ 49.3125 8.734375 54.109375 11.28125 \nL 54.109375 2.78125 \nQ 49.265625 0.734375 44.1875 -0.34375 \nQ 39.109375 -1.421875 33.890625 -1.421875 \nQ 20.796875 -1.421875 13.15625 6.1875 \nQ 5.515625 13.8125 5.515625 26.8125 \nQ 5.515625 40.234375 12.765625 48.109375 \nQ 20.015625 56 32.328125 56 \nQ 43.359375 56 49.78125 48.890625 \nQ 56.203125 41.796875 56.203125 29.59375 \nz\nM 47.21875 32.234375 \nQ 47.125 39.59375 43.09375 43.984375 \nQ 39.0625 48.390625 32.421875 48.390625 \nQ 24.90625 48.390625 20.390625 44.140625 \nQ 15.875 39.890625 15.1875 32.171875 \nz\n\" id=\"DejaVuSans-101\"/>\n      <path d=\"M 18.3125 70.21875 \nL 18.3125 54.6875 \nL 36.8125 54.6875 \nL 36.8125 47.703125 \nL 18.3125 47.703125 \nL 18.3125 18.015625 \nQ 18.3125 11.328125 20.140625 9.421875 \nQ 21.96875 7.515625 27.59375 7.515625 \nL 36.8125 7.515625 \nL 36.8125 0 \nL 27.59375 0 \nQ 17.1875 0 13.234375 3.875 \nQ 9.28125 7.765625 9.28125 18.015625 \nL 9.28125 47.703125 \nL 2.6875 47.703125 \nL 2.6875 54.6875 \nL 9.28125 54.6875 \nL 9.28125 70.21875 \nz\n\" id=\"DejaVuSans-116\"/>\n      <path d=\"M 9.421875 54.6875 \nL 18.40625 54.6875 \nL 18.40625 0 \nL 9.421875 0 \nz\nM 9.421875 75.984375 \nL 18.40625 75.984375 \nL 18.40625 64.59375 \nL 9.421875 64.59375 \nz\n\" id=\"DejaVuSans-105\"/>\n     </defs>\n     <g transform=\"translate(198.896804 456.775)scale(0.1 -0.1)\">\n      <use xlink:href=\"#DejaVuSans-110\"/>\n      <use x=\"63.378906\" xlink:href=\"#DejaVuSans-98\"/>\n      <use x=\"126.855469\" xlink:href=\"#DejaVuSans-95\"/>\n      <use x=\"176.855469\" xlink:href=\"#DejaVuSans-119\"/>\n      <use x=\"258.642578\" xlink:href=\"#DejaVuSans-111\"/>\n      <use x=\"319.824219\" xlink:href=\"#DejaVuSans-114\"/>\n      <use x=\"359.1875\" xlink:href=\"#DejaVuSans-100\"/>\n      <use x=\"422.664062\" xlink:href=\"#DejaVuSans-115\"/>\n      <use x=\"474.763672\" xlink:href=\"#DejaVuSans-95\"/>\n      <use x=\"524.763672\" xlink:href=\"#DejaVuSans-113\"/>\n      <use x=\"588.240234\" xlink:href=\"#DejaVuSans-117\"/>\n      <use x=\"651.619141\" xlink:href=\"#DejaVuSans-101\"/>\n      <use x=\"713.142578\" xlink:href=\"#DejaVuSans-115\"/>\n      <use x=\"765.242188\" xlink:href=\"#DejaVuSans-116\"/>\n      <use x=\"804.451172\" xlink:href=\"#DejaVuSans-105\"/>\n      <use x=\"832.234375\" xlink:href=\"#DejaVuSans-111\"/>\n      <use x=\"893.416016\" xlink:href=\"#DejaVuSans-110\"/>\n      <use x=\"956.794922\" xlink:href=\"#DejaVuSans-49\"/>\n     </g>\n    </g>\n   </g>\n   <g id=\"matplotlib.axis_2\">\n    <g id=\"ytick_1\">\n     <g id=\"line2d_8\">\n      <defs>\n       <path d=\"M 0 0 \nL -3.5 0 \n\" id=\"m48bcd4e382\" style=\"stroke:#000000;stroke-width:0.8;\"/>\n      </defs>\n      <g>\n       <use style=\"stroke:#000000;stroke-width:0.8;\" x=\"59.690625\" xlink:href=\"#m48bcd4e382\" y=\"428.498437\"/>\n      </g>\n     </g>\n     <g id=\"text_9\">\n      <!-- 0 -->\n      <g transform=\"translate(46.328125 432.297656)scale(0.1 -0.1)\">\n       <use xlink:href=\"#DejaVuSans-48\"/>\n      </g>\n     </g>\n    </g>\n    <g id=\"ytick_2\">\n     <g id=\"line2d_9\">\n      <g>\n       <use style=\"stroke:#000000;stroke-width:0.8;\" x=\"59.690625\" xlink:href=\"#m48bcd4e382\" y=\"363.183252\"/>\n      </g>\n     </g>\n     <g id=\"text_10\">\n      <!-- 10000 -->\n      <g transform=\"translate(20.878125 366.982471)scale(0.1 -0.1)\">\n       <use xlink:href=\"#DejaVuSans-49\"/>\n       <use x=\"63.623047\" xlink:href=\"#DejaVuSans-48\"/>\n       <use x=\"127.246094\" xlink:href=\"#DejaVuSans-48\"/>\n       <use x=\"190.869141\" xlink:href=\"#DejaVuSans-48\"/>\n       <use x=\"254.492188\" xlink:href=\"#DejaVuSans-48\"/>\n      </g>\n     </g>\n    </g>\n    <g id=\"ytick_3\">\n     <g id=\"line2d_10\">\n      <g>\n       <use style=\"stroke:#000000;stroke-width:0.8;\" x=\"59.690625\" xlink:href=\"#m48bcd4e382\" y=\"297.868067\"/>\n      </g>\n     </g>\n     <g id=\"text_11\">\n      <!-- 20000 -->\n      <g transform=\"translate(20.878125 301.667285)scale(0.1 -0.1)\">\n       <use xlink:href=\"#DejaVuSans-50\"/>\n       <use x=\"63.623047\" xlink:href=\"#DejaVuSans-48\"/>\n       <use x=\"127.246094\" xlink:href=\"#DejaVuSans-48\"/>\n       <use x=\"190.869141\" xlink:href=\"#DejaVuSans-48\"/>\n       <use x=\"254.492188\" xlink:href=\"#DejaVuSans-48\"/>\n      </g>\n     </g>\n    </g>\n    <g id=\"ytick_4\">\n     <g id=\"line2d_11\">\n      <g>\n       <use style=\"stroke:#000000;stroke-width:0.8;\" x=\"59.690625\" xlink:href=\"#m48bcd4e382\" y=\"232.552881\"/>\n      </g>\n     </g>\n     <g id=\"text_12\">\n      <!-- 30000 -->\n      <defs>\n       <path d=\"M 40.578125 39.3125 \nQ 47.65625 37.796875 51.625 33 \nQ 55.609375 28.21875 55.609375 21.1875 \nQ 55.609375 10.40625 48.1875 4.484375 \nQ 40.765625 -1.421875 27.09375 -1.421875 \nQ 22.515625 -1.421875 17.65625 -0.515625 \nQ 12.796875 0.390625 7.625 2.203125 \nL 7.625 11.71875 \nQ 11.71875 9.328125 16.59375 8.109375 \nQ 21.484375 6.890625 26.8125 6.890625 \nQ 36.078125 6.890625 40.9375 10.546875 \nQ 45.796875 14.203125 45.796875 21.1875 \nQ 45.796875 27.640625 41.28125 31.265625 \nQ 36.765625 34.90625 28.71875 34.90625 \nL 20.21875 34.90625 \nL 20.21875 43.015625 \nL 29.109375 43.015625 \nQ 36.375 43.015625 40.234375 45.921875 \nQ 44.09375 48.828125 44.09375 54.296875 \nQ 44.09375 59.90625 40.109375 62.90625 \nQ 36.140625 65.921875 28.71875 65.921875 \nQ 24.65625 65.921875 20.015625 65.03125 \nQ 15.375 64.15625 9.8125 62.3125 \nL 9.8125 71.09375 \nQ 15.4375 72.65625 20.34375 73.4375 \nQ 25.25 74.21875 29.59375 74.21875 \nQ 40.828125 74.21875 47.359375 69.109375 \nQ 53.90625 64.015625 53.90625 55.328125 \nQ 53.90625 49.265625 50.4375 45.09375 \nQ 46.96875 40.921875 40.578125 39.3125 \nz\n\" id=\"DejaVuSans-51\"/>\n      </defs>\n      <g transform=\"translate(20.878125 236.3521)scale(0.1 -0.1)\">\n       <use xlink:href=\"#DejaVuSans-51\"/>\n       <use x=\"63.623047\" xlink:href=\"#DejaVuSans-48\"/>\n       <use x=\"127.246094\" xlink:href=\"#DejaVuSans-48\"/>\n       <use x=\"190.869141\" xlink:href=\"#DejaVuSans-48\"/>\n       <use x=\"254.492188\" xlink:href=\"#DejaVuSans-48\"/>\n      </g>\n     </g>\n    </g>\n    <g id=\"ytick_5\">\n     <g id=\"line2d_12\">\n      <g>\n       <use style=\"stroke:#000000;stroke-width:0.8;\" x=\"59.690625\" xlink:href=\"#m48bcd4e382\" y=\"167.237696\"/>\n      </g>\n     </g>\n     <g id=\"text_13\">\n      <!-- 40000 -->\n      <g transform=\"translate(20.878125 171.036915)scale(0.1 -0.1)\">\n       <use xlink:href=\"#DejaVuSans-52\"/>\n       <use x=\"63.623047\" xlink:href=\"#DejaVuSans-48\"/>\n       <use x=\"127.246094\" xlink:href=\"#DejaVuSans-48\"/>\n       <use x=\"190.869141\" xlink:href=\"#DejaVuSans-48\"/>\n       <use x=\"254.492188\" xlink:href=\"#DejaVuSans-48\"/>\n      </g>\n     </g>\n    </g>\n    <g id=\"ytick_6\">\n     <g id=\"line2d_13\">\n      <g>\n       <use style=\"stroke:#000000;stroke-width:0.8;\" x=\"59.690625\" xlink:href=\"#m48bcd4e382\" y=\"101.92251\"/>\n      </g>\n     </g>\n     <g id=\"text_14\">\n      <!-- 50000 -->\n      <defs>\n       <path d=\"M 10.796875 72.90625 \nL 49.515625 72.90625 \nL 49.515625 64.59375 \nL 19.828125 64.59375 \nL 19.828125 46.734375 \nQ 21.96875 47.46875 24.109375 47.828125 \nQ 26.265625 48.1875 28.421875 48.1875 \nQ 40.625 48.1875 47.75 41.5 \nQ 54.890625 34.8125 54.890625 23.390625 \nQ 54.890625 11.625 47.5625 5.09375 \nQ 40.234375 -1.421875 26.90625 -1.421875 \nQ 22.3125 -1.421875 17.546875 -0.640625 \nQ 12.796875 0.140625 7.71875 1.703125 \nL 7.71875 11.625 \nQ 12.109375 9.234375 16.796875 8.0625 \nQ 21.484375 6.890625 26.703125 6.890625 \nQ 35.15625 6.890625 40.078125 11.328125 \nQ 45.015625 15.765625 45.015625 23.390625 \nQ 45.015625 31 40.078125 35.4375 \nQ 35.15625 39.890625 26.703125 39.890625 \nQ 22.75 39.890625 18.8125 39.015625 \nQ 14.890625 38.140625 10.796875 36.28125 \nz\n\" id=\"DejaVuSans-53\"/>\n      </defs>\n      <g transform=\"translate(20.878125 105.721729)scale(0.1 -0.1)\">\n       <use xlink:href=\"#DejaVuSans-53\"/>\n       <use x=\"63.623047\" xlink:href=\"#DejaVuSans-48\"/>\n       <use x=\"127.246094\" xlink:href=\"#DejaVuSans-48\"/>\n       <use x=\"190.869141\" xlink:href=\"#DejaVuSans-48\"/>\n       <use x=\"254.492188\" xlink:href=\"#DejaVuSans-48\"/>\n      </g>\n     </g>\n    </g>\n    <g id=\"ytick_7\">\n     <g id=\"line2d_14\">\n      <g>\n       <use style=\"stroke:#000000;stroke-width:0.8;\" x=\"59.690625\" xlink:href=\"#m48bcd4e382\" y=\"36.607325\"/>\n      </g>\n     </g>\n     <g id=\"text_15\">\n      <!-- 60000 -->\n      <g transform=\"translate(20.878125 40.406544)scale(0.1 -0.1)\">\n       <use xlink:href=\"#DejaVuSans-54\"/>\n       <use x=\"63.623047\" xlink:href=\"#DejaVuSans-48\"/>\n       <use x=\"127.246094\" xlink:href=\"#DejaVuSans-48\"/>\n       <use x=\"190.869141\" xlink:href=\"#DejaVuSans-48\"/>\n       <use x=\"254.492188\" xlink:href=\"#DejaVuSans-48\"/>\n      </g>\n     </g>\n    </g>\n    <g id=\"text_16\">\n     <!-- Nb -->\n     <defs>\n      <path d=\"M 9.8125 72.90625 \nL 23.09375 72.90625 \nL 55.421875 11.921875 \nL 55.421875 72.90625 \nL 64.984375 72.90625 \nL 64.984375 0 \nL 51.703125 0 \nL 19.390625 60.984375 \nL 19.390625 0 \nL 9.8125 0 \nz\n\" id=\"DejaVuSans-78\"/>\n     </defs>\n     <g transform=\"translate(14.798438 231.563281)rotate(-90)scale(0.1 -0.1)\">\n      <use xlink:href=\"#DejaVuSans-78\"/>\n      <use x=\"74.804688\" xlink:href=\"#DejaVuSans-98\"/>\n     </g>\n    </g>\n   </g>\n   <g id=\"patch_5\">\n    <path d=\"M 59.690625 428.498437 \nL 59.690625 20.798437 \n\" style=\"fill:none;stroke:#000000;stroke-linecap:square;stroke-linejoin:miter;stroke-width:0.8;\"/>\n   </g>\n   <g id=\"patch_6\">\n    <path d=\"M 440.14517 428.498437 \nL 440.14517 20.798437 \n\" style=\"fill:none;stroke:#000000;stroke-linecap:square;stroke-linejoin:miter;stroke-width:0.8;\"/>\n   </g>\n   <g id=\"patch_7\">\n    <path d=\"M 59.690625 428.498437 \nL 440.14517 428.498437 \n\" style=\"fill:none;stroke:#000000;stroke-linecap:square;stroke-linejoin:miter;stroke-width:0.8;\"/>\n   </g>\n   <g id=\"patch_8\">\n    <path d=\"M 59.690625 20.798437 \nL 440.14517 20.798437 \n\" style=\"fill:none;stroke:#000000;stroke-linecap:square;stroke-linejoin:miter;stroke-width:0.8;\"/>\n   </g>\n   <g id=\"text_17\">\n    <!-- AUC nb_words_question1 : 0.416034 -->\n    <defs>\n     <path d=\"M 34.1875 63.1875 \nL 20.796875 26.90625 \nL 47.609375 26.90625 \nz\nM 28.609375 72.90625 \nL 39.796875 72.90625 \nL 67.578125 0 \nL 57.328125 0 \nL 50.6875 18.703125 \nL 17.828125 18.703125 \nL 11.1875 0 \nL 0.78125 0 \nz\n\" id=\"DejaVuSans-65\"/>\n     <path d=\"M 8.6875 72.90625 \nL 18.609375 72.90625 \nL 18.609375 28.609375 \nQ 18.609375 16.890625 22.84375 11.734375 \nQ 27.09375 6.59375 36.625 6.59375 \nQ 46.09375 6.59375 50.34375 11.734375 \nQ 54.59375 16.890625 54.59375 28.609375 \nL 54.59375 72.90625 \nL 64.5 72.90625 \nL 64.5 27.390625 \nQ 64.5 13.140625 57.4375 5.859375 \nQ 50.390625 -1.421875 36.625 -1.421875 \nQ 22.796875 -1.421875 15.734375 5.859375 \nQ 8.6875 13.140625 8.6875 27.390625 \nz\n\" id=\"DejaVuSans-85\"/>\n     <path d=\"M 64.40625 67.28125 \nL 64.40625 56.890625 \nQ 59.421875 61.53125 53.78125 63.8125 \nQ 48.140625 66.109375 41.796875 66.109375 \nQ 29.296875 66.109375 22.65625 58.46875 \nQ 16.015625 50.828125 16.015625 36.375 \nQ 16.015625 21.96875 22.65625 14.328125 \nQ 29.296875 6.6875 41.796875 6.6875 \nQ 48.140625 6.6875 53.78125 8.984375 \nQ 59.421875 11.28125 64.40625 15.921875 \nL 64.40625 5.609375 \nQ 59.234375 2.09375 53.4375 0.328125 \nQ 47.65625 -1.421875 41.21875 -1.421875 \nQ 24.65625 -1.421875 15.125 8.703125 \nQ 5.609375 18.84375 5.609375 36.375 \nQ 5.609375 53.953125 15.125 64.078125 \nQ 24.65625 74.21875 41.21875 74.21875 \nQ 47.75 74.21875 53.53125 72.484375 \nQ 59.328125 70.75 64.40625 67.28125 \nz\n\" id=\"DejaVuSans-67\"/>\n     <path id=\"DejaVuSans-32\"/>\n     <path d=\"M 11.71875 12.40625 \nL 22.015625 12.40625 \nL 22.015625 0 \nL 11.71875 0 \nz\nM 11.71875 51.703125 \nL 22.015625 51.703125 \nL 22.015625 39.3125 \nL 11.71875 39.3125 \nz\n\" id=\"DejaVuSans-58\"/>\n     <path d=\"M 10.6875 12.40625 \nL 21 12.40625 \nL 21 0 \nL 10.6875 0 \nz\n\" id=\"DejaVuSans-46\"/>\n    </defs>\n    <g transform=\"translate(158.016335 14.798437)scale(0.1 -0.1)\">\n     <use xlink:href=\"#DejaVuSans-65\"/>\n     <use x=\"68.408203\" xlink:href=\"#DejaVuSans-85\"/>\n     <use x=\"141.601562\" xlink:href=\"#DejaVuSans-67\"/>\n     <use x=\"211.425781\" xlink:href=\"#DejaVuSans-32\"/>\n     <use x=\"243.212891\" xlink:href=\"#DejaVuSans-110\"/>\n     <use x=\"306.591797\" xlink:href=\"#DejaVuSans-98\"/>\n     <use x=\"370.068359\" xlink:href=\"#DejaVuSans-95\"/>\n     <use x=\"420.068359\" xlink:href=\"#DejaVuSans-119\"/>\n     <use x=\"501.855469\" xlink:href=\"#DejaVuSans-111\"/>\n     <use x=\"563.037109\" xlink:href=\"#DejaVuSans-114\"/>\n     <use x=\"602.400391\" xlink:href=\"#DejaVuSans-100\"/>\n     <use x=\"665.876953\" xlink:href=\"#DejaVuSans-115\"/>\n     <use x=\"717.976562\" xlink:href=\"#DejaVuSans-95\"/>\n     <use x=\"767.976562\" xlink:href=\"#DejaVuSans-113\"/>\n     <use x=\"831.453125\" xlink:href=\"#DejaVuSans-117\"/>\n     <use x=\"894.832031\" xlink:href=\"#DejaVuSans-101\"/>\n     <use x=\"956.355469\" xlink:href=\"#DejaVuSans-115\"/>\n     <use x=\"1008.455078\" xlink:href=\"#DejaVuSans-116\"/>\n     <use x=\"1047.664062\" xlink:href=\"#DejaVuSans-105\"/>\n     <use x=\"1075.447266\" xlink:href=\"#DejaVuSans-111\"/>\n     <use x=\"1136.628906\" xlink:href=\"#DejaVuSans-110\"/>\n     <use x=\"1200.007812\" xlink:href=\"#DejaVuSans-49\"/>\n     <use x=\"1263.630859\" xlink:href=\"#DejaVuSans-32\"/>\n     <use x=\"1295.417969\" xlink:href=\"#DejaVuSans-58\"/>\n     <use x=\"1329.109375\" xlink:href=\"#DejaVuSans-32\"/>\n     <use x=\"1360.896484\" xlink:href=\"#DejaVuSans-48\"/>\n     <use x=\"1424.519531\" xlink:href=\"#DejaVuSans-46\"/>\n     <use x=\"1456.306641\" xlink:href=\"#DejaVuSans-52\"/>\n     <use x=\"1519.929688\" xlink:href=\"#DejaVuSans-49\"/>\n     <use x=\"1583.552734\" xlink:href=\"#DejaVuSans-54\"/>\n     <use x=\"1647.175781\" xlink:href=\"#DejaVuSans-48\"/>\n     <use x=\"1710.798828\" xlink:href=\"#DejaVuSans-51\"/>\n     <use x=\"1774.421875\" xlink:href=\"#DejaVuSans-52\"/>\n    </g>\n   </g>\n   <g id=\"legend_1\">\n    <g id=\"patch_9\">\n     <path d=\"M 357.17642 58.154687 \nL 433.14517 58.154687 \nQ 435.14517 58.154687 435.14517 56.154687 \nL 435.14517 27.798437 \nQ 435.14517 25.798437 433.14517 25.798437 \nL 357.17642 25.798437 \nQ 355.17642 25.798437 355.17642 27.798437 \nL 355.17642 56.154687 \nQ 355.17642 58.154687 357.17642 58.154687 \nz\n\" style=\"fill:#ffffff;opacity:0.8;stroke:#cccccc;stroke-linejoin:miter;\"/>\n    </g>\n    <g id=\"patch_10\">\n     <path d=\"M 359.17642 37.396875 \nL 379.17642 37.396875 \nL 379.17642 30.396875 \nL 359.17642 30.396875 \nz\n\" style=\"fill:none;stroke:#d62728;stroke-linejoin:miter;\"/>\n    </g>\n    <g id=\"text_18\">\n     <!-- Same -->\n     <defs>\n      <path d=\"M 53.515625 70.515625 \nL 53.515625 60.890625 \nQ 47.90625 63.578125 42.921875 64.890625 \nQ 37.9375 66.21875 33.296875 66.21875 \nQ 25.25 66.21875 20.875 63.09375 \nQ 16.5 59.96875 16.5 54.203125 \nQ 16.5 49.359375 19.40625 46.890625 \nQ 22.3125 44.4375 30.421875 42.921875 \nL 36.375 41.703125 \nQ 47.40625 39.59375 52.65625 34.296875 \nQ 57.90625 29 57.90625 20.125 \nQ 57.90625 9.515625 50.796875 4.046875 \nQ 43.703125 -1.421875 29.984375 -1.421875 \nQ 24.8125 -1.421875 18.96875 -0.25 \nQ 13.140625 0.921875 6.890625 3.21875 \nL 6.890625 13.375 \nQ 12.890625 10.015625 18.65625 8.296875 \nQ 24.421875 6.59375 29.984375 6.59375 \nQ 38.421875 6.59375 43.015625 9.90625 \nQ 47.609375 13.234375 47.609375 19.390625 \nQ 47.609375 24.75 44.3125 27.78125 \nQ 41.015625 30.8125 33.5 32.328125 \nL 27.484375 33.5 \nQ 16.453125 35.6875 11.515625 40.375 \nQ 6.59375 45.0625 6.59375 53.421875 \nQ 6.59375 63.09375 13.40625 68.65625 \nQ 20.21875 74.21875 32.171875 74.21875 \nQ 37.3125 74.21875 42.625 73.28125 \nQ 47.953125 72.359375 53.515625 70.515625 \nz\n\" id=\"DejaVuSans-83\"/>\n      <path d=\"M 34.28125 27.484375 \nQ 23.390625 27.484375 19.1875 25 \nQ 14.984375 22.515625 14.984375 16.5 \nQ 14.984375 11.71875 18.140625 8.90625 \nQ 21.296875 6.109375 26.703125 6.109375 \nQ 34.1875 6.109375 38.703125 11.40625 \nQ 43.21875 16.703125 43.21875 25.484375 \nL 43.21875 27.484375 \nz\nM 52.203125 31.203125 \nL 52.203125 0 \nL 43.21875 0 \nL 43.21875 8.296875 \nQ 40.140625 3.328125 35.546875 0.953125 \nQ 30.953125 -1.421875 24.3125 -1.421875 \nQ 15.921875 -1.421875 10.953125 3.296875 \nQ 6 8.015625 6 15.921875 \nQ 6 25.140625 12.171875 29.828125 \nQ 18.359375 34.515625 30.609375 34.515625 \nL 43.21875 34.515625 \nL 43.21875 35.40625 \nQ 43.21875 41.609375 39.140625 45 \nQ 35.0625 48.390625 27.6875 48.390625 \nQ 23 48.390625 18.546875 47.265625 \nQ 14.109375 46.140625 10.015625 43.890625 \nL 10.015625 52.203125 \nQ 14.9375 54.109375 19.578125 55.046875 \nQ 24.21875 56 28.609375 56 \nQ 40.484375 56 46.34375 49.84375 \nQ 52.203125 43.703125 52.203125 31.203125 \nz\n\" id=\"DejaVuSans-97\"/>\n      <path d=\"M 52 44.1875 \nQ 55.375 50.25 60.0625 53.125 \nQ 64.75 56 71.09375 56 \nQ 79.640625 56 84.28125 50.015625 \nQ 88.921875 44.046875 88.921875 33.015625 \nL 88.921875 0 \nL 79.890625 0 \nL 79.890625 32.71875 \nQ 79.890625 40.578125 77.09375 44.375 \nQ 74.3125 48.1875 68.609375 48.1875 \nQ 61.625 48.1875 57.5625 43.546875 \nQ 53.515625 38.921875 53.515625 30.90625 \nL 53.515625 0 \nL 44.484375 0 \nL 44.484375 32.71875 \nQ 44.484375 40.625 41.703125 44.40625 \nQ 38.921875 48.1875 33.109375 48.1875 \nQ 26.21875 48.1875 22.15625 43.53125 \nQ 18.109375 38.875 18.109375 30.90625 \nL 18.109375 0 \nL 9.078125 0 \nL 9.078125 54.6875 \nL 18.109375 54.6875 \nL 18.109375 46.1875 \nQ 21.1875 51.21875 25.484375 53.609375 \nQ 29.78125 56 35.6875 56 \nQ 41.65625 56 45.828125 52.96875 \nQ 50 49.953125 52 44.1875 \nz\n\" id=\"DejaVuSans-109\"/>\n     </defs>\n     <g transform=\"translate(387.17642 37.396875)scale(0.1 -0.1)\">\n      <use xlink:href=\"#DejaVuSans-83\"/>\n      <use x=\"63.476562\" xlink:href=\"#DejaVuSans-97\"/>\n      <use x=\"124.755859\" xlink:href=\"#DejaVuSans-109\"/>\n      <use x=\"222.167969\" xlink:href=\"#DejaVuSans-101\"/>\n     </g>\n    </g>\n    <g id=\"patch_11\">\n     <path d=\"M 359.17642 52.075 \nL 379.17642 52.075 \nL 379.17642 45.075 \nL 359.17642 45.075 \nz\n\" style=\"fill:none;opacity:0.75;stroke:#2ca02c;stroke-linejoin:miter;\"/>\n    </g>\n    <g id=\"text_19\">\n     <!-- Different -->\n     <defs>\n      <path d=\"M 19.671875 64.796875 \nL 19.671875 8.109375 \nL 31.59375 8.109375 \nQ 46.6875 8.109375 53.6875 14.9375 \nQ 60.6875 21.78125 60.6875 36.53125 \nQ 60.6875 51.171875 53.6875 57.984375 \nQ 46.6875 64.796875 31.59375 64.796875 \nz\nM 9.8125 72.90625 \nL 30.078125 72.90625 \nQ 51.265625 72.90625 61.171875 64.09375 \nQ 71.09375 55.28125 71.09375 36.53125 \nQ 71.09375 17.671875 61.125 8.828125 \nQ 51.171875 0 30.078125 0 \nL 9.8125 0 \nz\n\" id=\"DejaVuSans-68\"/>\n      <path d=\"M 37.109375 75.984375 \nL 37.109375 68.5 \nL 28.515625 68.5 \nQ 23.6875 68.5 21.796875 66.546875 \nQ 19.921875 64.59375 19.921875 59.515625 \nL 19.921875 54.6875 \nL 34.71875 54.6875 \nL 34.71875 47.703125 \nL 19.921875 47.703125 \nL 19.921875 0 \nL 10.890625 0 \nL 10.890625 47.703125 \nL 2.296875 47.703125 \nL 2.296875 54.6875 \nL 10.890625 54.6875 \nL 10.890625 58.5 \nQ 10.890625 67.625 15.140625 71.796875 \nQ 19.390625 75.984375 28.609375 75.984375 \nz\n\" id=\"DejaVuSans-102\"/>\n     </defs>\n     <g transform=\"translate(387.17642 52.075)scale(0.1 -0.1)\">\n      <use xlink:href=\"#DejaVuSans-68\"/>\n      <use x=\"77.001953\" xlink:href=\"#DejaVuSans-105\"/>\n      <use x=\"104.785156\" xlink:href=\"#DejaVuSans-102\"/>\n      <use x=\"139.990234\" xlink:href=\"#DejaVuSans-102\"/>\n      <use x=\"175.195312\" xlink:href=\"#DejaVuSans-101\"/>\n      <use x=\"236.71875\" xlink:href=\"#DejaVuSans-114\"/>\n      <use x=\"275.582031\" xlink:href=\"#DejaVuSans-101\"/>\n      <use x=\"337.105469\" xlink:href=\"#DejaVuSans-110\"/>\n      <use x=\"400.484375\" xlink:href=\"#DejaVuSans-116\"/>\n     </g>\n    </g>\n   </g>\n  </g>\n  <g id=\"axes_2\">\n   <g id=\"patch_12\">\n    <path d=\"M 516.23608 428.498437 \nL 896.690625 428.498437 \nL 896.690625 20.798437 \nL 516.23608 20.798437 \nz\n\" style=\"fill:#ffffff;\"/>\n   </g>\n   <g id=\"patch_13\">\n    <path clip-path=\"url(#p7cc48c93e0)\" d=\"M 534.988826 428.498437 \nL 534.988826 428.439621 \nL 536.710868 428.439621 \nL 536.710868 425.825954 \nL 538.43291 425.825954 \nL 538.43291 416.852733 \nL 540.154952 416.852733 \nL 540.154952 400.384061 \nL 541.876994 400.384061 \nL 541.876994 376.930907 \nL 543.599036 376.930907 \nL 543.599036 280.151724 \nL 545.321078 280.151724 \nL 545.321078 356.731051 \nL 547.04312 356.731051 \nL 547.04312 371.089675 \nL 548.765162 371.089675 \nL 548.765162 387.477474 \nL 550.487204 387.477474 \nL 550.487204 398.44311 \nL 552.209246 398.44311 \nL 552.209246 406.47894 \nL 553.931288 406.47894 \nL 553.931288 394.722955 \nL 555.65333 394.722955 \nL 555.65333 417.334295 \nL 557.375372 417.334295 \nL 557.375372 420.668466 \nL 559.097414 420.668466 \nL 559.097414 422.359446 \nL 560.819456 422.359446 \nL 560.819456 423.179203 \nL 562.541499 423.179203 \nL 562.541499 420.344974 \nL 564.263541 420.344974 \nL 564.263541 425.726701 \nL 565.985583 425.726701 \nL 565.985583 426.63836 \nL 567.707625 426.63836 \nL 567.707625 426.86995 \nL 569.429667 426.86995 \nL 569.429667 427.083161 \nL 571.151709 427.083161 \nL 571.151709 427.340484 \nL 572.873751 427.340484 \nL 572.873751 427.289019 \nL 574.595793 427.289019 \nL 574.595793 428.152889 \nL 576.317835 428.152889 \nL 576.317835 428.219058 \nL 578.039877 428.219058 \nL 578.039877 428.149213 \nL 579.761919 428.149213 \nL 579.761919 428.351396 \nL 581.483961 428.351396 \nL 581.483961 428.318311 \nL 583.206003 428.318311 \nL 583.206003 428.388156 \nL 584.928045 428.388156 \nL 584.928045 428.472705 \nL 586.650087 428.472705 \nL 586.650087 428.461677 \nL 588.372129 428.461677 \nL 588.372129 428.483733 \nL 590.094171 428.483733 \nL 590.094171 428.472705 \nL 591.816213 428.472705 \nL 591.816213 428.487409 \nL 593.538256 428.487409 \nL 593.538256 428.498437 \nL 595.260298 428.498437 \nL 595.260298 428.480057 \nL 596.98234 428.480057 \nL 596.98234 428.480057 \nL 598.704382 428.480057 \nL 598.704382 428.494761 \nL 600.426424 428.494761 \nL 600.426424 428.494761 \nL 602.148466 428.494761 \nL 602.148466 428.494761 \nL 603.870508 428.494761 \nL 603.870508 428.494761 \nL 605.59255 428.494761 \nL 605.59255 428.498437 \nL 607.314592 428.498437 \nL 607.314592 428.498437 \nL 609.036634 428.498437 \nL 609.036634 428.498437 \nL 610.758676 428.498437 \nL 610.758676 428.494761 \nL 612.480718 428.494761 \nL 612.480718 428.491085 \nL 614.20276 428.491085 \nL 614.20276 428.498437 \nL 615.924802 428.498437 \nL 615.924802 428.498437 \nL 617.646844 428.498437 \nL 617.646844 428.494761 \nL 619.368886 428.494761 \nL 619.368886 428.494761 \nL 621.090928 428.494761 \nL 621.090928 428.498437 \n\" style=\"fill:none;stroke:#d62728;stroke-linejoin:miter;\"/>\n   </g>\n   <g id=\"patch_14\">\n    <path clip-path=\"url(#p7cc48c93e0)\" d=\"M 533.529468 428.498437 \nL 533.529468 392.226922 \nL 540.446823 392.226922 \nL 540.446823 40.212723 \nL 547.364179 40.212723 \nL 547.364179 143.851403 \nL 554.281534 143.851403 \nL 554.281534 328.99163 \nL 561.198889 328.99163 \nL 561.198889 368.090023 \nL 568.116245 368.090023 \nL 568.116245 385.900452 \nL 575.0336 385.900452 \nL 575.0336 415.643315 \nL 581.950956 415.643315 \nL 581.950956 423.726934 \nL 588.868311 423.726934 \nL 588.868311 425.138534 \nL 595.785666 425.138534 \nL 595.785666 427.097865 \nL 602.703022 427.097865 \nL 602.703022 427.34416 \nL 609.620377 427.34416 \nL 609.620377 427.667652 \nL 616.537732 427.667652 \nL 616.537732 427.667652 \nL 623.455088 427.667652 \nL 623.455088 428.211706 \nL 630.372443 428.211706 \nL 630.372443 428.421241 \nL 637.289799 428.421241 \nL 637.289799 428.465353 \nL 644.207154 428.465353 \nL 644.207154 428.469029 \nL 651.124509 428.469029 \nL 651.124509 428.487409 \nL 658.041865 428.487409 \nL 658.041865 428.494761 \nL 664.95922 428.494761 \nL 664.95922 428.483733 \nL 671.876575 428.483733 \nL 671.876575 428.491085 \nL 678.793931 428.491085 \nL 678.793931 428.494761 \nL 685.711286 428.494761 \nL 685.711286 428.487409 \nL 692.628642 428.487409 \nL 692.628642 428.487409 \nL 699.545997 428.487409 \nL 699.545997 428.494761 \nL 706.463352 428.494761 \nL 706.463352 428.498437 \nL 713.380708 428.498437 \nL 713.380708 428.487409 \nL 720.298063 428.487409 \nL 720.298063 428.498437 \nL 727.215418 428.498437 \nL 727.215418 428.494761 \nL 734.132774 428.494761 \nL 734.132774 428.498437 \nL 741.050129 428.498437 \nL 741.050129 428.498437 \nL 747.967485 428.498437 \nL 747.967485 428.494761 \nL 754.88484 428.494761 \nL 754.88484 428.498437 \nL 761.802195 428.498437 \nL 761.802195 428.498437 \nL 768.719551 428.498437 \nL 768.719551 428.498437 \nL 775.636906 428.498437 \nL 775.636906 428.498437 \nL 782.554261 428.498437 \nL 782.554261 428.498437 \nL 789.471617 428.498437 \nL 789.471617 428.498437 \nL 796.388972 428.498437 \nL 796.388972 428.498437 \nL 803.306327 428.498437 \nL 803.306327 428.498437 \nL 810.223683 428.498437 \nL 810.223683 428.498437 \nL 817.141038 428.498437 \nL 817.141038 428.498437 \nL 824.058394 428.498437 \nL 824.058394 428.498437 \nL 830.975749 428.498437 \nL 830.975749 428.498437 \nL 837.893104 428.498437 \nL 837.893104 428.498437 \nL 844.81046 428.498437 \nL 844.81046 428.498437 \nL 851.727815 428.498437 \nL 851.727815 428.498437 \nL 858.64517 428.498437 \nL 858.64517 428.498437 \nL 865.562526 428.498437 \nL 865.562526 428.487409 \nL 872.479881 428.487409 \nL 872.479881 428.450649 \nL 879.397237 428.450649 \nL 879.397237 428.498437 \n\" style=\"fill:none;opacity:0.75;stroke:#2ca02c;stroke-linejoin:miter;\"/>\n   </g>\n   <g id=\"matplotlib.axis_3\">\n    <g id=\"xtick_8\">\n     <g id=\"line2d_15\">\n      <g>\n       <use style=\"stroke:#000000;stroke-width:0.8;\" x=\"533.529468\" xlink:href=\"#mcc46add75e\" y=\"428.498437\"/>\n      </g>\n     </g>\n     <g id=\"text_20\">\n      <!-- 0 -->\n      <g transform=\"translate(530.348218 443.096875)scale(0.1 -0.1)\">\n       <use xlink:href=\"#DejaVuSans-48\"/>\n      </g>\n     </g>\n    </g>\n    <g id=\"xtick_9\">\n     <g id=\"line2d_16\">\n      <g>\n       <use style=\"stroke:#000000;stroke-width:0.8;\" x=\"606.497352\" xlink:href=\"#mcc46add75e\" y=\"428.498437\"/>\n      </g>\n     </g>\n     <g id=\"text_21\">\n      <!-- 50 -->\n      <g transform=\"translate(600.134852 443.096875)scale(0.1 -0.1)\">\n       <use xlink:href=\"#DejaVuSans-53\"/>\n       <use x=\"63.623047\" xlink:href=\"#DejaVuSans-48\"/>\n      </g>\n     </g>\n    </g>\n    <g id=\"xtick_10\">\n     <g id=\"line2d_17\">\n      <g>\n       <use style=\"stroke:#000000;stroke-width:0.8;\" x=\"679.465235\" xlink:href=\"#mcc46add75e\" y=\"428.498437\"/>\n      </g>\n     </g>\n     <g id=\"text_22\">\n      <!-- 100 -->\n      <g transform=\"translate(669.921485 443.096875)scale(0.1 -0.1)\">\n       <use xlink:href=\"#DejaVuSans-49\"/>\n       <use x=\"63.623047\" xlink:href=\"#DejaVuSans-48\"/>\n       <use x=\"127.246094\" xlink:href=\"#DejaVuSans-48\"/>\n      </g>\n     </g>\n    </g>\n    <g id=\"xtick_11\">\n     <g id=\"line2d_18\">\n      <g>\n       <use style=\"stroke:#000000;stroke-width:0.8;\" x=\"752.433119\" xlink:href=\"#mcc46add75e\" y=\"428.498437\"/>\n      </g>\n     </g>\n     <g id=\"text_23\">\n      <!-- 150 -->\n      <g transform=\"translate(742.889369 443.096875)scale(0.1 -0.1)\">\n       <use xlink:href=\"#DejaVuSans-49\"/>\n       <use x=\"63.623047\" xlink:href=\"#DejaVuSans-53\"/>\n       <use x=\"127.246094\" xlink:href=\"#DejaVuSans-48\"/>\n      </g>\n     </g>\n    </g>\n    <g id=\"xtick_12\">\n     <g id=\"line2d_19\">\n      <g>\n       <use style=\"stroke:#000000;stroke-width:0.8;\" x=\"825.401003\" xlink:href=\"#mcc46add75e\" y=\"428.498437\"/>\n      </g>\n     </g>\n     <g id=\"text_24\">\n      <!-- 200 -->\n      <g transform=\"translate(815.857253 443.096875)scale(0.1 -0.1)\">\n       <use xlink:href=\"#DejaVuSans-50\"/>\n       <use x=\"63.623047\" xlink:href=\"#DejaVuSans-48\"/>\n       <use x=\"127.246094\" xlink:href=\"#DejaVuSans-48\"/>\n      </g>\n     </g>\n    </g>\n    <g id=\"text_25\">\n     <!-- nb_words_question2 -->\n     <g transform=\"translate(655.442259 456.775)scale(0.1 -0.1)\">\n      <use xlink:href=\"#DejaVuSans-110\"/>\n      <use x=\"63.378906\" xlink:href=\"#DejaVuSans-98\"/>\n      <use x=\"126.855469\" xlink:href=\"#DejaVuSans-95\"/>\n      <use x=\"176.855469\" xlink:href=\"#DejaVuSans-119\"/>\n      <use x=\"258.642578\" xlink:href=\"#DejaVuSans-111\"/>\n      <use x=\"319.824219\" xlink:href=\"#DejaVuSans-114\"/>\n      <use x=\"359.1875\" xlink:href=\"#DejaVuSans-100\"/>\n      <use x=\"422.664062\" xlink:href=\"#DejaVuSans-115\"/>\n      <use x=\"474.763672\" xlink:href=\"#DejaVuSans-95\"/>\n      <use x=\"524.763672\" xlink:href=\"#DejaVuSans-113\"/>\n      <use x=\"588.240234\" xlink:href=\"#DejaVuSans-117\"/>\n      <use x=\"651.619141\" xlink:href=\"#DejaVuSans-101\"/>\n      <use x=\"713.142578\" xlink:href=\"#DejaVuSans-115\"/>\n      <use x=\"765.242188\" xlink:href=\"#DejaVuSans-116\"/>\n      <use x=\"804.451172\" xlink:href=\"#DejaVuSans-105\"/>\n      <use x=\"832.234375\" xlink:href=\"#DejaVuSans-111\"/>\n      <use x=\"893.416016\" xlink:href=\"#DejaVuSans-110\"/>\n      <use x=\"956.794922\" xlink:href=\"#DejaVuSans-50\"/>\n     </g>\n    </g>\n   </g>\n   <g id=\"matplotlib.axis_4\">\n    <g id=\"ytick_8\">\n     <g id=\"line2d_20\">\n      <g>\n       <use style=\"stroke:#000000;stroke-width:0.8;\" x=\"516.23608\" xlink:href=\"#m48bcd4e382\" y=\"428.498437\"/>\n      </g>\n     </g>\n     <g id=\"text_26\">\n      <!-- 0 -->\n      <g transform=\"translate(502.87358 432.297656)scale(0.1 -0.1)\">\n       <use xlink:href=\"#DejaVuSans-48\"/>\n      </g>\n     </g>\n    </g>\n    <g id=\"ytick_9\">\n     <g id=\"line2d_21\">\n      <g>\n       <use style=\"stroke:#000000;stroke-width:0.8;\" x=\"516.23608\" xlink:href=\"#m48bcd4e382\" y=\"354.977578\"/>\n      </g>\n     </g>\n     <g id=\"text_27\">\n      <!-- 20000 -->\n      <g transform=\"translate(477.42358 358.776797)scale(0.1 -0.1)\">\n       <use xlink:href=\"#DejaVuSans-50\"/>\n       <use x=\"63.623047\" xlink:href=\"#DejaVuSans-48\"/>\n       <use x=\"127.246094\" xlink:href=\"#DejaVuSans-48\"/>\n       <use x=\"190.869141\" xlink:href=\"#DejaVuSans-48\"/>\n       <use x=\"254.492188\" xlink:href=\"#DejaVuSans-48\"/>\n      </g>\n     </g>\n    </g>\n    <g id=\"ytick_10\">\n     <g id=\"line2d_22\">\n      <g>\n       <use style=\"stroke:#000000;stroke-width:0.8;\" x=\"516.23608\" xlink:href=\"#m48bcd4e382\" y=\"281.456719\"/>\n      </g>\n     </g>\n     <g id=\"text_28\">\n      <!-- 40000 -->\n      <g transform=\"translate(477.42358 285.255938)scale(0.1 -0.1)\">\n       <use xlink:href=\"#DejaVuSans-52\"/>\n       <use x=\"63.623047\" xlink:href=\"#DejaVuSans-48\"/>\n       <use x=\"127.246094\" xlink:href=\"#DejaVuSans-48\"/>\n       <use x=\"190.869141\" xlink:href=\"#DejaVuSans-48\"/>\n       <use x=\"254.492188\" xlink:href=\"#DejaVuSans-48\"/>\n      </g>\n     </g>\n    </g>\n    <g id=\"ytick_11\">\n     <g id=\"line2d_23\">\n      <g>\n       <use style=\"stroke:#000000;stroke-width:0.8;\" x=\"516.23608\" xlink:href=\"#m48bcd4e382\" y=\"207.93586\"/>\n      </g>\n     </g>\n     <g id=\"text_29\">\n      <!-- 60000 -->\n      <g transform=\"translate(477.42358 211.735078)scale(0.1 -0.1)\">\n       <use xlink:href=\"#DejaVuSans-54\"/>\n       <use x=\"63.623047\" xlink:href=\"#DejaVuSans-48\"/>\n       <use x=\"127.246094\" xlink:href=\"#DejaVuSans-48\"/>\n       <use x=\"190.869141\" xlink:href=\"#DejaVuSans-48\"/>\n       <use x=\"254.492188\" xlink:href=\"#DejaVuSans-48\"/>\n      </g>\n     </g>\n    </g>\n    <g id=\"ytick_12\">\n     <g id=\"line2d_24\">\n      <g>\n       <use style=\"stroke:#000000;stroke-width:0.8;\" x=\"516.23608\" xlink:href=\"#m48bcd4e382\" y=\"134.415\"/>\n      </g>\n     </g>\n     <g id=\"text_30\">\n      <!-- 80000 -->\n      <g transform=\"translate(477.42358 138.214219)scale(0.1 -0.1)\">\n       <use xlink:href=\"#DejaVuSans-56\"/>\n       <use x=\"63.623047\" xlink:href=\"#DejaVuSans-48\"/>\n       <use x=\"127.246094\" xlink:href=\"#DejaVuSans-48\"/>\n       <use x=\"190.869141\" xlink:href=\"#DejaVuSans-48\"/>\n       <use x=\"254.492188\" xlink:href=\"#DejaVuSans-48\"/>\n      </g>\n     </g>\n    </g>\n    <g id=\"ytick_13\">\n     <g id=\"line2d_25\">\n      <g>\n       <use style=\"stroke:#000000;stroke-width:0.8;\" x=\"516.23608\" xlink:href=\"#m48bcd4e382\" y=\"60.894141\"/>\n      </g>\n     </g>\n     <g id=\"text_31\">\n      <!-- 100000 -->\n      <g transform=\"translate(471.06108 64.69336)scale(0.1 -0.1)\">\n       <use xlink:href=\"#DejaVuSans-49\"/>\n       <use x=\"63.623047\" xlink:href=\"#DejaVuSans-48\"/>\n       <use x=\"127.246094\" xlink:href=\"#DejaVuSans-48\"/>\n       <use x=\"190.869141\" xlink:href=\"#DejaVuSans-48\"/>\n       <use x=\"254.492188\" xlink:href=\"#DejaVuSans-48\"/>\n       <use x=\"318.115234\" xlink:href=\"#DejaVuSans-48\"/>\n      </g>\n     </g>\n    </g>\n    <g id=\"text_32\">\n     <!-- Nb -->\n     <g transform=\"translate(464.981392 231.563281)rotate(-90)scale(0.1 -0.1)\">\n      <use xlink:href=\"#DejaVuSans-78\"/>\n      <use x=\"74.804688\" xlink:href=\"#DejaVuSans-98\"/>\n     </g>\n    </g>\n   </g>\n   <g id=\"patch_15\">\n    <path d=\"M 516.23608 428.498437 \nL 516.23608 20.798437 \n\" style=\"fill:none;stroke:#000000;stroke-linecap:square;stroke-linejoin:miter;stroke-width:0.8;\"/>\n   </g>\n   <g id=\"patch_16\">\n    <path d=\"M 896.690625 428.498437 \nL 896.690625 20.798437 \n\" style=\"fill:none;stroke:#000000;stroke-linecap:square;stroke-linejoin:miter;stroke-width:0.8;\"/>\n   </g>\n   <g id=\"patch_17\">\n    <path d=\"M 516.23608 428.498437 \nL 896.690625 428.498437 \n\" style=\"fill:none;stroke:#000000;stroke-linecap:square;stroke-linejoin:miter;stroke-width:0.8;\"/>\n   </g>\n   <g id=\"patch_18\">\n    <path d=\"M 516.23608 20.798437 \nL 896.690625 20.798437 \n\" style=\"fill:none;stroke:#000000;stroke-linecap:square;stroke-linejoin:miter;stroke-width:0.8;\"/>\n   </g>\n   <g id=\"text_33\">\n    <!-- AUC nb_words_question2 : 0.420794 -->\n    <defs>\n     <path d=\"M 8.203125 72.90625 \nL 55.078125 72.90625 \nL 55.078125 68.703125 \nL 28.609375 0 \nL 18.3125 0 \nL 43.21875 64.59375 \nL 8.203125 64.59375 \nz\n\" id=\"DejaVuSans-55\"/>\n     <path d=\"M 10.984375 1.515625 \nL 10.984375 10.5 \nQ 14.703125 8.734375 18.5 7.8125 \nQ 22.3125 6.890625 25.984375 6.890625 \nQ 35.75 6.890625 40.890625 13.453125 \nQ 46.046875 20.015625 46.78125 33.40625 \nQ 43.953125 29.203125 39.59375 26.953125 \nQ 35.25 24.703125 29.984375 24.703125 \nQ 19.046875 24.703125 12.671875 31.3125 \nQ 6.296875 37.9375 6.296875 49.421875 \nQ 6.296875 60.640625 12.9375 67.421875 \nQ 19.578125 74.21875 30.609375 74.21875 \nQ 43.265625 74.21875 49.921875 64.515625 \nQ 56.59375 54.828125 56.59375 36.375 \nQ 56.59375 19.140625 48.40625 8.859375 \nQ 40.234375 -1.421875 26.421875 -1.421875 \nQ 22.703125 -1.421875 18.890625 -0.6875 \nQ 15.09375 0.046875 10.984375 1.515625 \nz\nM 30.609375 32.421875 \nQ 37.25 32.421875 41.125 36.953125 \nQ 45.015625 41.5 45.015625 49.421875 \nQ 45.015625 57.28125 41.125 61.84375 \nQ 37.25 66.40625 30.609375 66.40625 \nQ 23.96875 66.40625 20.09375 61.84375 \nQ 16.21875 57.28125 16.21875 49.421875 \nQ 16.21875 41.5 20.09375 36.953125 \nQ 23.96875 32.421875 30.609375 32.421875 \nz\n\" id=\"DejaVuSans-57\"/>\n    </defs>\n    <g transform=\"translate(614.56179 14.798437)scale(0.1 -0.1)\">\n     <use xlink:href=\"#DejaVuSans-65\"/>\n     <use x=\"68.408203\" xlink:href=\"#DejaVuSans-85\"/>\n     <use x=\"141.601562\" xlink:href=\"#DejaVuSans-67\"/>\n     <use x=\"211.425781\" xlink:href=\"#DejaVuSans-32\"/>\n     <use x=\"243.212891\" xlink:href=\"#DejaVuSans-110\"/>\n     <use x=\"306.591797\" xlink:href=\"#DejaVuSans-98\"/>\n     <use x=\"370.068359\" xlink:href=\"#DejaVuSans-95\"/>\n     <use x=\"420.068359\" xlink:href=\"#DejaVuSans-119\"/>\n     <use x=\"501.855469\" xlink:href=\"#DejaVuSans-111\"/>\n     <use x=\"563.037109\" xlink:href=\"#DejaVuSans-114\"/>\n     <use x=\"602.400391\" xlink:href=\"#DejaVuSans-100\"/>\n     <use x=\"665.876953\" xlink:href=\"#DejaVuSans-115\"/>\n     <use x=\"717.976562\" xlink:href=\"#DejaVuSans-95\"/>\n     <use x=\"767.976562\" xlink:href=\"#DejaVuSans-113\"/>\n     <use x=\"831.453125\" xlink:href=\"#DejaVuSans-117\"/>\n     <use x=\"894.832031\" xlink:href=\"#DejaVuSans-101\"/>\n     <use x=\"956.355469\" xlink:href=\"#DejaVuSans-115\"/>\n     <use x=\"1008.455078\" xlink:href=\"#DejaVuSans-116\"/>\n     <use x=\"1047.664062\" xlink:href=\"#DejaVuSans-105\"/>\n     <use x=\"1075.447266\" xlink:href=\"#DejaVuSans-111\"/>\n     <use x=\"1136.628906\" xlink:href=\"#DejaVuSans-110\"/>\n     <use x=\"1200.007812\" xlink:href=\"#DejaVuSans-50\"/>\n     <use x=\"1263.630859\" xlink:href=\"#DejaVuSans-32\"/>\n     <use x=\"1295.417969\" xlink:href=\"#DejaVuSans-58\"/>\n     <use x=\"1329.109375\" xlink:href=\"#DejaVuSans-32\"/>\n     <use x=\"1360.896484\" xlink:href=\"#DejaVuSans-48\"/>\n     <use x=\"1424.519531\" xlink:href=\"#DejaVuSans-46\"/>\n     <use x=\"1456.306641\" xlink:href=\"#DejaVuSans-52\"/>\n     <use x=\"1519.929688\" xlink:href=\"#DejaVuSans-50\"/>\n     <use x=\"1583.552734\" xlink:href=\"#DejaVuSans-48\"/>\n     <use x=\"1647.175781\" xlink:href=\"#DejaVuSans-55\"/>\n     <use x=\"1710.798828\" xlink:href=\"#DejaVuSans-57\"/>\n     <use x=\"1774.421875\" xlink:href=\"#DejaVuSans-52\"/>\n    </g>\n   </g>\n   <g id=\"legend_2\">\n    <g id=\"patch_19\">\n     <path d=\"M 813.721875 58.154687 \nL 889.690625 58.154687 \nQ 891.690625 58.154687 891.690625 56.154687 \nL 891.690625 27.798437 \nQ 891.690625 25.798437 889.690625 25.798437 \nL 813.721875 25.798437 \nQ 811.721875 25.798437 811.721875 27.798437 \nL 811.721875 56.154687 \nQ 811.721875 58.154687 813.721875 58.154687 \nz\n\" style=\"fill:#ffffff;opacity:0.8;stroke:#cccccc;stroke-linejoin:miter;\"/>\n    </g>\n    <g id=\"patch_20\">\n     <path d=\"M 815.721875 37.396875 \nL 835.721875 37.396875 \nL 835.721875 30.396875 \nL 815.721875 30.396875 \nz\n\" style=\"fill:none;stroke:#d62728;stroke-linejoin:miter;\"/>\n    </g>\n    <g id=\"text_34\">\n     <!-- Same -->\n     <g transform=\"translate(843.721875 37.396875)scale(0.1 -0.1)\">\n      <use xlink:href=\"#DejaVuSans-83\"/>\n      <use x=\"63.476562\" xlink:href=\"#DejaVuSans-97\"/>\n      <use x=\"124.755859\" xlink:href=\"#DejaVuSans-109\"/>\n      <use x=\"222.167969\" xlink:href=\"#DejaVuSans-101\"/>\n     </g>\n    </g>\n    <g id=\"patch_21\">\n     <path d=\"M 815.721875 52.075 \nL 835.721875 52.075 \nL 835.721875 45.075 \nL 815.721875 45.075 \nz\n\" style=\"fill:none;opacity:0.75;stroke:#2ca02c;stroke-linejoin:miter;\"/>\n    </g>\n    <g id=\"text_35\">\n     <!-- Different -->\n     <g transform=\"translate(843.721875 52.075)scale(0.1 -0.1)\">\n      <use xlink:href=\"#DejaVuSans-68\"/>\n      <use x=\"77.001953\" xlink:href=\"#DejaVuSans-105\"/>\n      <use x=\"104.785156\" xlink:href=\"#DejaVuSans-102\"/>\n      <use x=\"139.990234\" xlink:href=\"#DejaVuSans-102\"/>\n      <use x=\"175.195312\" xlink:href=\"#DejaVuSans-101\"/>\n      <use x=\"236.71875\" xlink:href=\"#DejaVuSans-114\"/>\n      <use x=\"275.582031\" xlink:href=\"#DejaVuSans-101\"/>\n      <use x=\"337.105469\" xlink:href=\"#DejaVuSans-110\"/>\n      <use x=\"400.484375\" xlink:href=\"#DejaVuSans-116\"/>\n     </g>\n    </g>\n   </g>\n  </g>\n </g>\n <defs>\n  <clipPath id=\"pf710a24710\">\n   <rect height=\"407.7\" width=\"380.454545\" x=\"59.690625\" y=\"20.798437\"/>\n  </clipPath>\n  <clipPath id=\"p7cc48c93e0\">\n   <rect height=\"407.7\" width=\"380.454545\" x=\"516.23608\" y=\"20.798437\"/>\n  </clipPath>\n </defs>\n</svg>\n",
      "image/png": "[encoded data removed]"
     },
     "metadata": {
      "needs_background": "light"
     }
    },
    {
     "output_type": "display_data",
     "data": {
      "text/plain": "<Figure size 1080x540 with 2 Axes>",
      "image/svg+xml": "<?xml version=\"1.0\" encoding=\"utf-8\" standalone=\"no\"?>\n<!DOCTYPE svg PUBLIC \"-//W3C//DTD SVG 1.1//EN\"\n  \"http://www.w3.org/Graphics/SVG/1.1/DTD/svg11.dtd\">\n<!-- Created with matplotlib (https://matplotlib.org/) -->\n<svg height=\"466.332812pt\" version=\"1.1\" viewBox=\"0 0 903.890625 466.332812\" width=\"903.890625pt\" xmlns=\"http://www.w3.org/2000/svg\" xmlns:xlink=\"http://www.w3.org/1999/xlink\">\n <defs>\n  <style type=\"text/css\">\n*{stroke-linecap:butt;stroke-linejoin:round;}\n  </style>\n </defs>\n <g id=\"figure_1\">\n  <g id=\"patch_1\">\n   <path d=\"M 0 466.332812 \nL 903.890625 466.332812 \nL 903.890625 0 \nL 0 0 \nz\n\" style=\"fill:none;\"/>\n  </g>\n  <g id=\"axes_1\">\n   <g id=\"patch_2\">\n    <path d=\"M 59.690625 428.498437 \nL 440.14517 428.498437 \nL 440.14517 20.798437 \nL 59.690625 20.798437 \nz\n\" style=\"fill:#ffffff;\"/>\n   </g>\n   <g id=\"patch_3\">\n    <path clip-path=\"url(#p6827b929ff)\" d=\"M 76.984013 428.498437 \nL 76.984013 423.396408 \nL 83.901369 423.396408 \nL 83.901369 398.321092 \nL 90.818724 398.321092 \nL 90.818724 306.697143 \nL 97.73608 306.697143 \nL 97.73608 214.029597 \nL 104.653435 214.029597 \nL 104.653435 161.704804 \nL 111.57079 161.704804 \nL 111.57079 170.072906 \nL 118.488146 170.072906 \nL 118.488146 428.498437 \nL 125.405501 428.498437 \nL 125.405501 226.398153 \nL 132.322856 226.398153 \nL 132.322856 291.874201 \nL 139.240212 291.874201 \nL 139.240212 347.532706 \nL 146.157567 347.532706 \nL 146.157567 383.875004 \nL 153.074923 383.875004 \nL 153.074923 404.66964 \nL 159.992278 404.66964 \nL 159.992278 428.498437 \nL 166.909633 428.498437 \nL 166.909633 414.661115 \nL 173.826989 414.661115 \nL 173.826989 415.772352 \nL 180.744344 415.772352 \nL 180.744344 423.483374 \nL 187.661699 423.483374 \nL 187.661699 423.386745 \nL 194.579055 423.386745 \nL 194.579055 421.454158 \nL 201.49641 421.454158 \nL 201.49641 428.498437 \nL 208.413765 428.498437 \nL 208.413765 424.497982 \nL 215.331121 424.497982 \nL 215.331121 426.507873 \nL 222.248476 426.507873 \nL 222.248476 426.256637 \nL 229.165832 426.256637 \nL 229.165832 426.604502 \nL 236.083187 426.604502 \nL 236.083187 427.503155 \nL 243.000542 427.503155 \nL 243.000542 428.498437 \nL 249.917898 428.498437 \nL 249.917898 428.005628 \nL 256.835253 428.005628 \nL 256.835253 427.802706 \nL 263.752608 427.802706 \nL 263.752608 427.957313 \nL 270.669964 427.957313 \nL 270.669964 428.237538 \nL 277.587319 428.237538 \nL 277.587319 428.305179 \nL 284.504675 428.305179 \nL 284.504675 428.353493 \nL 291.42203 428.353493 \nL 291.42203 428.498437 \nL 298.339385 428.498437 \nL 298.339385 428.392145 \nL 305.256741 428.392145 \nL 305.256741 428.459786 \nL 312.174096 428.459786 \nL 312.174096 428.488775 \nL 319.091451 428.488775 \nL 319.091451 428.498437 \nL 326.008807 428.498437 \nL 326.008807 428.479112 \nL 332.926162 428.479112 \nL 332.926162 428.498437 \nL 339.843518 428.498437 \nL 339.843518 428.498437 \nL 346.760873 428.498437 \nL 346.760873 428.488775 \nL 353.678228 428.488775 \nL 353.678228 428.498437 \nL 360.595584 428.498437 \nL 360.595584 428.498437 \nL 367.512939 428.498437 \nL 367.512939 428.488775 \nL 374.430294 428.488775 \nL 374.430294 428.498437 \nL 381.34765 428.498437 \nL 381.34765 428.498437 \nL 388.265005 428.498437 \nL 388.265005 428.498437 \nL 395.182361 428.498437 \nL 395.182361 428.479112 \nL 402.099716 428.479112 \nL 402.099716 428.498437 \nL 409.017071 428.498437 \nL 409.017071 428.498437 \nL 415.934427 428.498437 \nL 415.934427 428.488775 \nL 422.851782 428.488775 \nL 422.851782 428.498437 \n\" style=\"fill:none;stroke:#d62728;stroke-linejoin:miter;\"/>\n   </g>\n   <g id=\"patch_4\">\n    <path clip-path=\"url(#p6827b929ff)\" d=\"M 76.984013 428.498437 \nL 76.984013 164.980539 \nL 82.913175 164.980539 \nL 82.913175 79.676149 \nL 88.842337 79.676149 \nL 88.842337 40.212723 \nL 94.771499 40.212723 \nL 94.771499 428.498437 \nL 100.70066 428.498437 \nL 100.70066 65.945119 \nL 106.629822 65.945119 \nL 106.629822 114.733277 \nL 112.558984 114.733277 \nL 112.558984 179.745504 \nL 118.488146 179.745504 \nL 118.488146 428.498437 \nL 124.417307 428.498437 \nL 124.417307 248.275038 \nL 130.346469 248.275038 \nL 130.346469 313.296927 \nL 136.275631 313.296927 \nL 136.275631 428.498437 \nL 142.204793 428.498437 \nL 142.204793 356.770472 \nL 148.133954 356.770472 \nL 148.133954 388.261976 \nL 154.063116 388.261976 \nL 154.063116 403.084919 \nL 159.992278 403.084919 \nL 159.992278 428.498437 \nL 165.92144 428.498437 \nL 165.92144 409.646051 \nL 171.850601 409.646051 \nL 171.850601 411.501335 \nL 177.779763 411.501335 \nL 177.779763 428.498437 \nL 183.708925 428.498437 \nL 183.708925 410.795941 \nL 189.638087 410.795941 \nL 189.638087 414.062013 \nL 195.567248 414.062013 \nL 195.567248 416.487409 \nL 201.49641 416.487409 \nL 201.49641 428.498437 \nL 207.425572 428.498437 \nL 207.425572 418.932132 \nL 213.354734 418.932132 \nL 213.354734 424.285398 \nL 219.283895 424.285398 \nL 219.283895 428.498437 \nL 225.213057 428.498437 \nL 225.213057 424.565623 \nL 231.142219 424.565623 \nL 231.142219 422.94225 \nL 237.071381 422.94225 \nL 237.071381 427.61911 \nL 243.000542 427.61911 \nL 243.000542 428.498437 \nL 248.929704 428.498437 \nL 248.929704 427.94765 \nL 254.858866 427.94765 \nL 254.858866 427.976639 \nL 260.788028 427.976639 \nL 260.788028 428.237538 \nL 266.717189 428.237538 \nL 266.717189 428.498437 \nL 272.646351 428.498437 \nL 272.646351 428.382482 \nL 278.575513 428.382482 \nL 278.575513 428.469449 \nL 284.504675 428.469449 \nL 284.504675 428.498437 \nL 290.433836 428.498437 \nL 290.433836 428.459786 \nL 296.362998 428.459786 \nL 296.362998 428.459786 \nL 302.29216 428.459786 \nL 302.29216 428.479112 \nL 308.221322 428.479112 \nL 308.221322 428.498437 \nL 314.150483 428.498437 \nL 314.150483 428.469449 \nL 320.079645 428.469449 \nL 320.079645 428.459786 \nL 326.008807 428.459786 \nL 326.008807 428.498437 \nL 331.937969 428.498437 \nL 331.937969 428.498437 \nL 337.86713 428.498437 \nL 337.86713 428.498437 \nL 343.796292 428.498437 \nL 343.796292 428.498437 \nL 349.725454 428.498437 \nL 349.725454 428.498437 \nL 355.654616 428.498437 \nL 355.654616 428.488775 \nL 361.583777 428.488775 \nL 361.583777 428.498437 \nL 367.512939 428.498437 \nL 367.512939 428.488775 \nL 373.442101 428.488775 \nL 373.442101 428.498437 \n\" style=\"fill:none;opacity:0.75;stroke:#2ca02c;stroke-linejoin:miter;\"/>\n   </g>\n   <g id=\"matplotlib.axis_1\">\n    <g id=\"xtick_1\">\n     <g id=\"line2d_1\">\n      <defs>\n       <path d=\"M 0 0 \nL 0 3.5 \n\" id=\"mf7d80e8eeb\" style=\"stroke:#000000;stroke-width:0.8;\"/>\n      </defs>\n      <g>\n       <use style=\"stroke:#000000;stroke-width:0.8;\" x=\"76.984013\" xlink:href=\"#mf7d80e8eeb\" y=\"428.498437\"/>\n      </g>\n     </g>\n     <g id=\"text_1\">\n      <!-- 0 -->\n      <defs>\n       <path d=\"M 31.78125 66.40625 \nQ 24.171875 66.40625 20.328125 58.90625 \nQ 16.5 51.421875 16.5 36.375 \nQ 16.5 21.390625 20.328125 13.890625 \nQ 24.171875 6.390625 31.78125 6.390625 \nQ 39.453125 6.390625 43.28125 13.890625 \nQ 47.125 21.390625 47.125 36.375 \nQ 47.125 51.421875 43.28125 58.90625 \nQ 39.453125 66.40625 31.78125 66.40625 \nz\nM 31.78125 74.21875 \nQ 44.046875 74.21875 50.515625 64.515625 \nQ 56.984375 54.828125 56.984375 36.375 \nQ 56.984375 17.96875 50.515625 8.265625 \nQ 44.046875 -1.421875 31.78125 -1.421875 \nQ 19.53125 -1.421875 13.0625 8.265625 \nQ 6.59375 17.96875 6.59375 36.375 \nQ 6.59375 54.828125 13.0625 64.515625 \nQ 19.53125 74.21875 31.78125 74.21875 \nz\n\" id=\"DejaVuSans-48\"/>\n      </defs>\n      <g transform=\"translate(73.802763 443.096875)scale(0.1 -0.1)\">\n       <use xlink:href=\"#DejaVuSans-48\"/>\n      </g>\n     </g>\n    </g>\n    <g id=\"xtick_2\">\n     <g id=\"line2d_2\">\n      <g>\n       <use style=\"stroke:#000000;stroke-width:0.8;\" x=\"159.333482\" xlink:href=\"#mf7d80e8eeb\" y=\"428.498437\"/>\n      </g>\n     </g>\n     <g id=\"text_2\">\n      <!-- 10 -->\n      <defs>\n       <path d=\"M 12.40625 8.296875 \nL 28.515625 8.296875 \nL 28.515625 63.921875 \nL 10.984375 60.40625 \nL 10.984375 69.390625 \nL 28.421875 72.90625 \nL 38.28125 72.90625 \nL 38.28125 8.296875 \nL 54.390625 8.296875 \nL 54.390625 0 \nL 12.40625 0 \nz\n\" id=\"DejaVuSans-49\"/>\n      </defs>\n      <g transform=\"translate(152.970982 443.096875)scale(0.1 -0.1)\">\n       <use xlink:href=\"#DejaVuSans-49\"/>\n       <use x=\"63.623047\" xlink:href=\"#DejaVuSans-48\"/>\n      </g>\n     </g>\n    </g>\n    <g id=\"xtick_3\">\n     <g id=\"line2d_3\">\n      <g>\n       <use style=\"stroke:#000000;stroke-width:0.8;\" x=\"241.682951\" xlink:href=\"#mf7d80e8eeb\" y=\"428.498437\"/>\n      </g>\n     </g>\n     <g id=\"text_3\">\n      <!-- 20 -->\n      <defs>\n       <path d=\"M 19.1875 8.296875 \nL 53.609375 8.296875 \nL 53.609375 0 \nL 7.328125 0 \nL 7.328125 8.296875 \nQ 12.9375 14.109375 22.625 23.890625 \nQ 32.328125 33.6875 34.8125 36.53125 \nQ 39.546875 41.84375 41.421875 45.53125 \nQ 43.3125 49.21875 43.3125 52.78125 \nQ 43.3125 58.59375 39.234375 62.25 \nQ 35.15625 65.921875 28.609375 65.921875 \nQ 23.96875 65.921875 18.8125 64.3125 \nQ 13.671875 62.703125 7.8125 59.421875 \nL 7.8125 69.390625 \nQ 13.765625 71.78125 18.9375 73 \nQ 24.125 74.21875 28.421875 74.21875 \nQ 39.75 74.21875 46.484375 68.546875 \nQ 53.21875 62.890625 53.21875 53.421875 \nQ 53.21875 48.921875 51.53125 44.890625 \nQ 49.859375 40.875 45.40625 35.40625 \nQ 44.1875 33.984375 37.640625 27.21875 \nQ 31.109375 20.453125 19.1875 8.296875 \nz\n\" id=\"DejaVuSans-50\"/>\n      </defs>\n      <g transform=\"translate(235.320451 443.096875)scale(0.1 -0.1)\">\n       <use xlink:href=\"#DejaVuSans-50\"/>\n       <use x=\"63.623047\" xlink:href=\"#DejaVuSans-48\"/>\n      </g>\n     </g>\n    </g>\n    <g id=\"xtick_4\">\n     <g id=\"line2d_4\">\n      <g>\n       <use style=\"stroke:#000000;stroke-width:0.8;\" x=\"324.03242\" xlink:href=\"#mf7d80e8eeb\" y=\"428.498437\"/>\n      </g>\n     </g>\n     <g id=\"text_4\">\n      <!-- 30 -->\n      <defs>\n       <path d=\"M 40.578125 39.3125 \nQ 47.65625 37.796875 51.625 33 \nQ 55.609375 28.21875 55.609375 21.1875 \nQ 55.609375 10.40625 48.1875 4.484375 \nQ 40.765625 -1.421875 27.09375 -1.421875 \nQ 22.515625 -1.421875 17.65625 -0.515625 \nQ 12.796875 0.390625 7.625 2.203125 \nL 7.625 11.71875 \nQ 11.71875 9.328125 16.59375 8.109375 \nQ 21.484375 6.890625 26.8125 6.890625 \nQ 36.078125 6.890625 40.9375 10.546875 \nQ 45.796875 14.203125 45.796875 21.1875 \nQ 45.796875 27.640625 41.28125 31.265625 \nQ 36.765625 34.90625 28.71875 34.90625 \nL 20.21875 34.90625 \nL 20.21875 43.015625 \nL 29.109375 43.015625 \nQ 36.375 43.015625 40.234375 45.921875 \nQ 44.09375 48.828125 44.09375 54.296875 \nQ 44.09375 59.90625 40.109375 62.90625 \nQ 36.140625 65.921875 28.71875 65.921875 \nQ 24.65625 65.921875 20.015625 65.03125 \nQ 15.375 64.15625 9.8125 62.3125 \nL 9.8125 71.09375 \nQ 15.4375 72.65625 20.34375 73.4375 \nQ 25.25 74.21875 29.59375 74.21875 \nQ 40.828125 74.21875 47.359375 69.109375 \nQ 53.90625 64.015625 53.90625 55.328125 \nQ 53.90625 49.265625 50.4375 45.09375 \nQ 46.96875 40.921875 40.578125 39.3125 \nz\n\" id=\"DejaVuSans-51\"/>\n      </defs>\n      <g transform=\"translate(317.66992 443.096875)scale(0.1 -0.1)\">\n       <use xlink:href=\"#DejaVuSans-51\"/>\n       <use x=\"63.623047\" xlink:href=\"#DejaVuSans-48\"/>\n      </g>\n     </g>\n    </g>\n    <g id=\"xtick_5\">\n     <g id=\"line2d_5\">\n      <g>\n       <use style=\"stroke:#000000;stroke-width:0.8;\" x=\"406.381888\" xlink:href=\"#mf7d80e8eeb\" y=\"428.498437\"/>\n      </g>\n     </g>\n     <g id=\"text_5\">\n      <!-- 40 -->\n      <defs>\n       <path d=\"M 37.796875 64.3125 \nL 12.890625 25.390625 \nL 37.796875 25.390625 \nz\nM 35.203125 72.90625 \nL 47.609375 72.90625 \nL 47.609375 25.390625 \nL 58.015625 25.390625 \nL 58.015625 17.1875 \nL 47.609375 17.1875 \nL 47.609375 0 \nL 37.796875 0 \nL 37.796875 17.1875 \nL 4.890625 17.1875 \nL 4.890625 26.703125 \nz\n\" id=\"DejaVuSans-52\"/>\n      </defs>\n      <g transform=\"translate(400.019388 443.096875)scale(0.1 -0.1)\">\n       <use xlink:href=\"#DejaVuSans-52\"/>\n       <use x=\"63.623047\" xlink:href=\"#DejaVuSans-48\"/>\n      </g>\n     </g>\n    </g>\n    <g id=\"text_6\">\n     <!-- nb_common_words -->\n     <defs>\n      <path d=\"M 54.890625 33.015625 \nL 54.890625 0 \nL 45.90625 0 \nL 45.90625 32.71875 \nQ 45.90625 40.484375 42.875 44.328125 \nQ 39.84375 48.1875 33.796875 48.1875 \nQ 26.515625 48.1875 22.3125 43.546875 \nQ 18.109375 38.921875 18.109375 30.90625 \nL 18.109375 0 \nL 9.078125 0 \nL 9.078125 54.6875 \nL 18.109375 54.6875 \nL 18.109375 46.1875 \nQ 21.34375 51.125 25.703125 53.5625 \nQ 30.078125 56 35.796875 56 \nQ 45.21875 56 50.046875 50.171875 \nQ 54.890625 44.34375 54.890625 33.015625 \nz\n\" id=\"DejaVuSans-110\"/>\n      <path d=\"M 48.6875 27.296875 \nQ 48.6875 37.203125 44.609375 42.84375 \nQ 40.53125 48.484375 33.40625 48.484375 \nQ 26.265625 48.484375 22.1875 42.84375 \nQ 18.109375 37.203125 18.109375 27.296875 \nQ 18.109375 17.390625 22.1875 11.75 \nQ 26.265625 6.109375 33.40625 6.109375 \nQ 40.53125 6.109375 44.609375 11.75 \nQ 48.6875 17.390625 48.6875 27.296875 \nz\nM 18.109375 46.390625 \nQ 20.953125 51.265625 25.265625 53.625 \nQ 29.59375 56 35.59375 56 \nQ 45.5625 56 51.78125 48.09375 \nQ 58.015625 40.1875 58.015625 27.296875 \nQ 58.015625 14.40625 51.78125 6.484375 \nQ 45.5625 -1.421875 35.59375 -1.421875 \nQ 29.59375 -1.421875 25.265625 0.953125 \nQ 20.953125 3.328125 18.109375 8.203125 \nL 18.109375 0 \nL 9.078125 0 \nL 9.078125 75.984375 \nL 18.109375 75.984375 \nz\n\" id=\"DejaVuSans-98\"/>\n      <path d=\"M 50.984375 -16.609375 \nL 50.984375 -23.578125 \nL -0.984375 -23.578125 \nL -0.984375 -16.609375 \nz\n\" id=\"DejaVuSans-95\"/>\n      <path d=\"M 48.78125 52.59375 \nL 48.78125 44.1875 \nQ 44.96875 46.296875 41.140625 47.34375 \nQ 37.3125 48.390625 33.40625 48.390625 \nQ 24.65625 48.390625 19.8125 42.84375 \nQ 14.984375 37.3125 14.984375 27.296875 \nQ 14.984375 17.28125 19.8125 11.734375 \nQ 24.65625 6.203125 33.40625 6.203125 \nQ 37.3125 6.203125 41.140625 7.25 \nQ 44.96875 8.296875 48.78125 10.40625 \nL 48.78125 2.09375 \nQ 45.015625 0.34375 40.984375 -0.53125 \nQ 36.96875 -1.421875 32.421875 -1.421875 \nQ 20.0625 -1.421875 12.78125 6.34375 \nQ 5.515625 14.109375 5.515625 27.296875 \nQ 5.515625 40.671875 12.859375 48.328125 \nQ 20.21875 56 33.015625 56 \nQ 37.15625 56 41.109375 55.140625 \nQ 45.0625 54.296875 48.78125 52.59375 \nz\n\" id=\"DejaVuSans-99\"/>\n      <path d=\"M 30.609375 48.390625 \nQ 23.390625 48.390625 19.1875 42.75 \nQ 14.984375 37.109375 14.984375 27.296875 \nQ 14.984375 17.484375 19.15625 11.84375 \nQ 23.34375 6.203125 30.609375 6.203125 \nQ 37.796875 6.203125 41.984375 11.859375 \nQ 46.1875 17.53125 46.1875 27.296875 \nQ 46.1875 37.015625 41.984375 42.703125 \nQ 37.796875 48.390625 30.609375 48.390625 \nz\nM 30.609375 56 \nQ 42.328125 56 49.015625 48.375 \nQ 55.71875 40.765625 55.71875 27.296875 \nQ 55.71875 13.875 49.015625 6.21875 \nQ 42.328125 -1.421875 30.609375 -1.421875 \nQ 18.84375 -1.421875 12.171875 6.21875 \nQ 5.515625 13.875 5.515625 27.296875 \nQ 5.515625 40.765625 12.171875 48.375 \nQ 18.84375 56 30.609375 56 \nz\n\" id=\"DejaVuSans-111\"/>\n      <path d=\"M 52 44.1875 \nQ 55.375 50.25 60.0625 53.125 \nQ 64.75 56 71.09375 56 \nQ 79.640625 56 84.28125 50.015625 \nQ 88.921875 44.046875 88.921875 33.015625 \nL 88.921875 0 \nL 79.890625 0 \nL 79.890625 32.71875 \nQ 79.890625 40.578125 77.09375 44.375 \nQ 74.3125 48.1875 68.609375 48.1875 \nQ 61.625 48.1875 57.5625 43.546875 \nQ 53.515625 38.921875 53.515625 30.90625 \nL 53.515625 0 \nL 44.484375 0 \nL 44.484375 32.71875 \nQ 44.484375 40.625 41.703125 44.40625 \nQ 38.921875 48.1875 33.109375 48.1875 \nQ 26.21875 48.1875 22.15625 43.53125 \nQ 18.109375 38.875 18.109375 30.90625 \nL 18.109375 0 \nL 9.078125 0 \nL 9.078125 54.6875 \nL 18.109375 54.6875 \nL 18.109375 46.1875 \nQ 21.1875 51.21875 25.484375 53.609375 \nQ 29.78125 56 35.6875 56 \nQ 41.65625 56 45.828125 52.96875 \nQ 50 49.953125 52 44.1875 \nz\n\" id=\"DejaVuSans-109\"/>\n      <path d=\"M 4.203125 54.6875 \nL 13.1875 54.6875 \nL 24.421875 12.015625 \nL 35.59375 54.6875 \nL 46.1875 54.6875 \nL 57.421875 12.015625 \nL 68.609375 54.6875 \nL 77.59375 54.6875 \nL 63.28125 0 \nL 52.6875 0 \nL 40.921875 44.828125 \nL 29.109375 0 \nL 18.5 0 \nz\n\" id=\"DejaVuSans-119\"/>\n      <path d=\"M 41.109375 46.296875 \nQ 39.59375 47.171875 37.8125 47.578125 \nQ 36.03125 48 33.890625 48 \nQ 26.265625 48 22.1875 43.046875 \nQ 18.109375 38.09375 18.109375 28.8125 \nL 18.109375 0 \nL 9.078125 0 \nL 9.078125 54.6875 \nL 18.109375 54.6875 \nL 18.109375 46.1875 \nQ 20.953125 51.171875 25.484375 53.578125 \nQ 30.03125 56 36.53125 56 \nQ 37.453125 56 38.578125 55.875 \nQ 39.703125 55.765625 41.0625 55.515625 \nz\n\" id=\"DejaVuSans-114\"/>\n      <path d=\"M 45.40625 46.390625 \nL 45.40625 75.984375 \nL 54.390625 75.984375 \nL 54.390625 0 \nL 45.40625 0 \nL 45.40625 8.203125 \nQ 42.578125 3.328125 38.25 0.953125 \nQ 33.9375 -1.421875 27.875 -1.421875 \nQ 17.96875 -1.421875 11.734375 6.484375 \nQ 5.515625 14.40625 5.515625 27.296875 \nQ 5.515625 40.1875 11.734375 48.09375 \nQ 17.96875 56 27.875 56 \nQ 33.9375 56 38.25 53.625 \nQ 42.578125 51.265625 45.40625 46.390625 \nz\nM 14.796875 27.296875 \nQ 14.796875 17.390625 18.875 11.75 \nQ 22.953125 6.109375 30.078125 6.109375 \nQ 37.203125 6.109375 41.296875 11.75 \nQ 45.40625 17.390625 45.40625 27.296875 \nQ 45.40625 37.203125 41.296875 42.84375 \nQ 37.203125 48.484375 30.078125 48.484375 \nQ 22.953125 48.484375 18.875 42.84375 \nQ 14.796875 37.203125 14.796875 27.296875 \nz\n\" id=\"DejaVuSans-100\"/>\n      <path d=\"M 44.28125 53.078125 \nL 44.28125 44.578125 \nQ 40.484375 46.53125 36.375 47.5 \nQ 32.28125 48.484375 27.875 48.484375 \nQ 21.1875 48.484375 17.84375 46.4375 \nQ 14.5 44.390625 14.5 40.28125 \nQ 14.5 37.15625 16.890625 35.375 \nQ 19.28125 33.59375 26.515625 31.984375 \nL 29.59375 31.296875 \nQ 39.15625 29.25 43.1875 25.515625 \nQ 47.21875 21.78125 47.21875 15.09375 \nQ 47.21875 7.46875 41.1875 3.015625 \nQ 35.15625 -1.421875 24.609375 -1.421875 \nQ 20.21875 -1.421875 15.453125 -0.5625 \nQ 10.6875 0.296875 5.421875 2 \nL 5.421875 11.28125 \nQ 10.40625 8.6875 15.234375 7.390625 \nQ 20.0625 6.109375 24.8125 6.109375 \nQ 31.15625 6.109375 34.5625 8.28125 \nQ 37.984375 10.453125 37.984375 14.40625 \nQ 37.984375 18.0625 35.515625 20.015625 \nQ 33.0625 21.96875 24.703125 23.78125 \nL 21.578125 24.515625 \nQ 13.234375 26.265625 9.515625 29.90625 \nQ 5.8125 33.546875 5.8125 39.890625 \nQ 5.8125 47.609375 11.28125 51.796875 \nQ 16.75 56 26.8125 56 \nQ 31.78125 56 36.171875 55.265625 \nQ 40.578125 54.546875 44.28125 53.078125 \nz\n\" id=\"DejaVuSans-115\"/>\n     </defs>\n     <g transform=\"translate(201.902273 456.775)scale(0.1 -0.1)\">\n      <use xlink:href=\"#DejaVuSans-110\"/>\n      <use x=\"63.378906\" xlink:href=\"#DejaVuSans-98\"/>\n      <use x=\"126.855469\" xlink:href=\"#DejaVuSans-95\"/>\n      <use x=\"176.855469\" xlink:href=\"#DejaVuSans-99\"/>\n      <use x=\"231.835938\" xlink:href=\"#DejaVuSans-111\"/>\n      <use x=\"293.017578\" xlink:href=\"#DejaVuSans-109\"/>\n      <use x=\"390.429688\" xlink:href=\"#DejaVuSans-109\"/>\n      <use x=\"487.841797\" xlink:href=\"#DejaVuSans-111\"/>\n      <use x=\"549.023438\" xlink:href=\"#DejaVuSans-110\"/>\n      <use x=\"612.402344\" xlink:href=\"#DejaVuSans-95\"/>\n      <use x=\"662.402344\" xlink:href=\"#DejaVuSans-119\"/>\n      <use x=\"744.189453\" xlink:href=\"#DejaVuSans-111\"/>\n      <use x=\"805.371094\" xlink:href=\"#DejaVuSans-114\"/>\n      <use x=\"844.734375\" xlink:href=\"#DejaVuSans-100\"/>\n      <use x=\"908.210938\" xlink:href=\"#DejaVuSans-115\"/>\n     </g>\n    </g>\n   </g>\n   <g id=\"matplotlib.axis_2\">\n    <g id=\"ytick_1\">\n     <g id=\"line2d_6\">\n      <defs>\n       <path d=\"M 0 0 \nL -3.5 0 \n\" id=\"m93ddc2c199\" style=\"stroke:#000000;stroke-width:0.8;\"/>\n      </defs>\n      <g>\n       <use style=\"stroke:#000000;stroke-width:0.8;\" x=\"59.690625\" xlink:href=\"#m93ddc2c199\" y=\"428.498437\"/>\n      </g>\n     </g>\n     <g id=\"text_7\">\n      <!-- 0 -->\n      <g transform=\"translate(46.328125 432.297656)scale(0.1 -0.1)\">\n       <use xlink:href=\"#DejaVuSans-48\"/>\n      </g>\n     </g>\n    </g>\n    <g id=\"ytick_2\">\n     <g id=\"line2d_7\">\n      <g>\n       <use style=\"stroke:#000000;stroke-width:0.8;\" x=\"59.690625\" xlink:href=\"#m93ddc2c199\" y=\"380.183763\"/>\n      </g>\n     </g>\n     <g id=\"text_8\">\n      <!-- 5000 -->\n      <defs>\n       <path d=\"M 10.796875 72.90625 \nL 49.515625 72.90625 \nL 49.515625 64.59375 \nL 19.828125 64.59375 \nL 19.828125 46.734375 \nQ 21.96875 47.46875 24.109375 47.828125 \nQ 26.265625 48.1875 28.421875 48.1875 \nQ 40.625 48.1875 47.75 41.5 \nQ 54.890625 34.8125 54.890625 23.390625 \nQ 54.890625 11.625 47.5625 5.09375 \nQ 40.234375 -1.421875 26.90625 -1.421875 \nQ 22.3125 -1.421875 17.546875 -0.640625 \nQ 12.796875 0.140625 7.71875 1.703125 \nL 7.71875 11.625 \nQ 12.109375 9.234375 16.796875 8.0625 \nQ 21.484375 6.890625 26.703125 6.890625 \nQ 35.15625 6.890625 40.078125 11.328125 \nQ 45.015625 15.765625 45.015625 23.390625 \nQ 45.015625 31 40.078125 35.4375 \nQ 35.15625 39.890625 26.703125 39.890625 \nQ 22.75 39.890625 18.8125 39.015625 \nQ 14.890625 38.140625 10.796875 36.28125 \nz\n\" id=\"DejaVuSans-53\"/>\n      </defs>\n      <g transform=\"translate(27.240625 383.982982)scale(0.1 -0.1)\">\n       <use xlink:href=\"#DejaVuSans-53\"/>\n       <use x=\"63.623047\" xlink:href=\"#DejaVuSans-48\"/>\n       <use x=\"127.246094\" xlink:href=\"#DejaVuSans-48\"/>\n       <use x=\"190.869141\" xlink:href=\"#DejaVuSans-48\"/>\n      </g>\n     </g>\n    </g>\n    <g id=\"ytick_3\">\n     <g id=\"line2d_8\">\n      <g>\n       <use style=\"stroke:#000000;stroke-width:0.8;\" x=\"59.690625\" xlink:href=\"#m93ddc2c199\" y=\"331.869088\"/>\n      </g>\n     </g>\n     <g id=\"text_9\">\n      <!-- 10000 -->\n      <g transform=\"translate(20.878125 335.668307)scale(0.1 -0.1)\">\n       <use xlink:href=\"#DejaVuSans-49\"/>\n       <use x=\"63.623047\" xlink:href=\"#DejaVuSans-48\"/>\n       <use x=\"127.246094\" xlink:href=\"#DejaVuSans-48\"/>\n       <use x=\"190.869141\" xlink:href=\"#DejaVuSans-48\"/>\n       <use x=\"254.492188\" xlink:href=\"#DejaVuSans-48\"/>\n      </g>\n     </g>\n    </g>\n    <g id=\"ytick_4\">\n     <g id=\"line2d_9\">\n      <g>\n       <use style=\"stroke:#000000;stroke-width:0.8;\" x=\"59.690625\" xlink:href=\"#m93ddc2c199\" y=\"283.554414\"/>\n      </g>\n     </g>\n     <g id=\"text_10\">\n      <!-- 15000 -->\n      <g transform=\"translate(20.878125 287.353632)scale(0.1 -0.1)\">\n       <use xlink:href=\"#DejaVuSans-49\"/>\n       <use x=\"63.623047\" xlink:href=\"#DejaVuSans-53\"/>\n       <use x=\"127.246094\" xlink:href=\"#DejaVuSans-48\"/>\n       <use x=\"190.869141\" xlink:href=\"#DejaVuSans-48\"/>\n       <use x=\"254.492188\" xlink:href=\"#DejaVuSans-48\"/>\n      </g>\n     </g>\n    </g>\n    <g id=\"ytick_5\">\n     <g id=\"line2d_10\">\n      <g>\n       <use style=\"stroke:#000000;stroke-width:0.8;\" x=\"59.690625\" xlink:href=\"#m93ddc2c199\" y=\"235.239739\"/>\n      </g>\n     </g>\n     <g id=\"text_11\">\n      <!-- 20000 -->\n      <g transform=\"translate(20.878125 239.038958)scale(0.1 -0.1)\">\n       <use xlink:href=\"#DejaVuSans-50\"/>\n       <use x=\"63.623047\" xlink:href=\"#DejaVuSans-48\"/>\n       <use x=\"127.246094\" xlink:href=\"#DejaVuSans-48\"/>\n       <use x=\"190.869141\" xlink:href=\"#DejaVuSans-48\"/>\n       <use x=\"254.492188\" xlink:href=\"#DejaVuSans-48\"/>\n      </g>\n     </g>\n    </g>\n    <g id=\"ytick_6\">\n     <g id=\"line2d_11\">\n      <g>\n       <use style=\"stroke:#000000;stroke-width:0.8;\" x=\"59.690625\" xlink:href=\"#m93ddc2c199\" y=\"186.925064\"/>\n      </g>\n     </g>\n     <g id=\"text_12\">\n      <!-- 25000 -->\n      <g transform=\"translate(20.878125 190.724283)scale(0.1 -0.1)\">\n       <use xlink:href=\"#DejaVuSans-50\"/>\n       <use x=\"63.623047\" xlink:href=\"#DejaVuSans-53\"/>\n       <use x=\"127.246094\" xlink:href=\"#DejaVuSans-48\"/>\n       <use x=\"190.869141\" xlink:href=\"#DejaVuSans-48\"/>\n       <use x=\"254.492188\" xlink:href=\"#DejaVuSans-48\"/>\n      </g>\n     </g>\n    </g>\n    <g id=\"ytick_7\">\n     <g id=\"line2d_12\">\n      <g>\n       <use style=\"stroke:#000000;stroke-width:0.8;\" x=\"59.690625\" xlink:href=\"#m93ddc2c199\" y=\"138.61039\"/>\n      </g>\n     </g>\n     <g id=\"text_13\">\n      <!-- 30000 -->\n      <g transform=\"translate(20.878125 142.409608)scale(0.1 -0.1)\">\n       <use xlink:href=\"#DejaVuSans-51\"/>\n       <use x=\"63.623047\" xlink:href=\"#DejaVuSans-48\"/>\n       <use x=\"127.246094\" xlink:href=\"#DejaVuSans-48\"/>\n       <use x=\"190.869141\" xlink:href=\"#DejaVuSans-48\"/>\n       <use x=\"254.492188\" xlink:href=\"#DejaVuSans-48\"/>\n      </g>\n     </g>\n    </g>\n    <g id=\"ytick_8\">\n     <g id=\"line2d_13\">\n      <g>\n       <use style=\"stroke:#000000;stroke-width:0.8;\" x=\"59.690625\" xlink:href=\"#m93ddc2c199\" y=\"90.295715\"/>\n      </g>\n     </g>\n     <g id=\"text_14\">\n      <!-- 35000 -->\n      <g transform=\"translate(20.878125 94.094934)scale(0.1 -0.1)\">\n       <use xlink:href=\"#DejaVuSans-51\"/>\n       <use x=\"63.623047\" xlink:href=\"#DejaVuSans-53\"/>\n       <use x=\"127.246094\" xlink:href=\"#DejaVuSans-48\"/>\n       <use x=\"190.869141\" xlink:href=\"#DejaVuSans-48\"/>\n       <use x=\"254.492188\" xlink:href=\"#DejaVuSans-48\"/>\n      </g>\n     </g>\n    </g>\n    <g id=\"ytick_9\">\n     <g id=\"line2d_14\">\n      <g>\n       <use style=\"stroke:#000000;stroke-width:0.8;\" x=\"59.690625\" xlink:href=\"#m93ddc2c199\" y=\"41.98104\"/>\n      </g>\n     </g>\n     <g id=\"text_15\">\n      <!-- 40000 -->\n      <g transform=\"translate(20.878125 45.780259)scale(0.1 -0.1)\">\n       <use xlink:href=\"#DejaVuSans-52\"/>\n       <use x=\"63.623047\" xlink:href=\"#DejaVuSans-48\"/>\n       <use x=\"127.246094\" xlink:href=\"#DejaVuSans-48\"/>\n       <use x=\"190.869141\" xlink:href=\"#DejaVuSans-48\"/>\n       <use x=\"254.492188\" xlink:href=\"#DejaVuSans-48\"/>\n      </g>\n     </g>\n    </g>\n    <g id=\"text_16\">\n     <!-- Nb -->\n     <defs>\n      <path d=\"M 9.8125 72.90625 \nL 23.09375 72.90625 \nL 55.421875 11.921875 \nL 55.421875 72.90625 \nL 64.984375 72.90625 \nL 64.984375 0 \nL 51.703125 0 \nL 19.390625 60.984375 \nL 19.390625 0 \nL 9.8125 0 \nz\n\" id=\"DejaVuSans-78\"/>\n     </defs>\n     <g transform=\"translate(14.798438 231.563281)rotate(-90)scale(0.1 -0.1)\">\n      <use xlink:href=\"#DejaVuSans-78\"/>\n      <use x=\"74.804688\" xlink:href=\"#DejaVuSans-98\"/>\n     </g>\n    </g>\n   </g>\n   <g id=\"patch_5\">\n    <path d=\"M 59.690625 428.498437 \nL 59.690625 20.798437 \n\" style=\"fill:none;stroke:#000000;stroke-linecap:square;stroke-linejoin:miter;stroke-width:0.8;\"/>\n   </g>\n   <g id=\"patch_6\">\n    <path d=\"M 440.14517 428.498437 \nL 440.14517 20.798437 \n\" style=\"fill:none;stroke:#000000;stroke-linecap:square;stroke-linejoin:miter;stroke-width:0.8;\"/>\n   </g>\n   <g id=\"patch_7\">\n    <path d=\"M 59.690625 428.498437 \nL 440.14517 428.498437 \n\" style=\"fill:none;stroke:#000000;stroke-linecap:square;stroke-linejoin:miter;stroke-width:0.8;\"/>\n   </g>\n   <g id=\"patch_8\">\n    <path d=\"M 59.690625 20.798437 \nL 440.14517 20.798437 \n\" style=\"fill:none;stroke:#000000;stroke-linecap:square;stroke-linejoin:miter;stroke-width:0.8;\"/>\n   </g>\n   <g id=\"text_17\">\n    <!-- AUC nb_common_words : 0.680781 -->\n    <defs>\n     <path d=\"M 34.1875 63.1875 \nL 20.796875 26.90625 \nL 47.609375 26.90625 \nz\nM 28.609375 72.90625 \nL 39.796875 72.90625 \nL 67.578125 0 \nL 57.328125 0 \nL 50.6875 18.703125 \nL 17.828125 18.703125 \nL 11.1875 0 \nL 0.78125 0 \nz\n\" id=\"DejaVuSans-65\"/>\n     <path d=\"M 8.6875 72.90625 \nL 18.609375 72.90625 \nL 18.609375 28.609375 \nQ 18.609375 16.890625 22.84375 11.734375 \nQ 27.09375 6.59375 36.625 6.59375 \nQ 46.09375 6.59375 50.34375 11.734375 \nQ 54.59375 16.890625 54.59375 28.609375 \nL 54.59375 72.90625 \nL 64.5 72.90625 \nL 64.5 27.390625 \nQ 64.5 13.140625 57.4375 5.859375 \nQ 50.390625 -1.421875 36.625 -1.421875 \nQ 22.796875 -1.421875 15.734375 5.859375 \nQ 8.6875 13.140625 8.6875 27.390625 \nz\n\" id=\"DejaVuSans-85\"/>\n     <path d=\"M 64.40625 67.28125 \nL 64.40625 56.890625 \nQ 59.421875 61.53125 53.78125 63.8125 \nQ 48.140625 66.109375 41.796875 66.109375 \nQ 29.296875 66.109375 22.65625 58.46875 \nQ 16.015625 50.828125 16.015625 36.375 \nQ 16.015625 21.96875 22.65625 14.328125 \nQ 29.296875 6.6875 41.796875 6.6875 \nQ 48.140625 6.6875 53.78125 8.984375 \nQ 59.421875 11.28125 64.40625 15.921875 \nL 64.40625 5.609375 \nQ 59.234375 2.09375 53.4375 0.328125 \nQ 47.65625 -1.421875 41.21875 -1.421875 \nQ 24.65625 -1.421875 15.125 8.703125 \nQ 5.609375 18.84375 5.609375 36.375 \nQ 5.609375 53.953125 15.125 64.078125 \nQ 24.65625 74.21875 41.21875 74.21875 \nQ 47.75 74.21875 53.53125 72.484375 \nQ 59.328125 70.75 64.40625 67.28125 \nz\n\" id=\"DejaVuSans-67\"/>\n     <path id=\"DejaVuSans-32\"/>\n     <path d=\"M 11.71875 12.40625 \nL 22.015625 12.40625 \nL 22.015625 0 \nL 11.71875 0 \nz\nM 11.71875 51.703125 \nL 22.015625 51.703125 \nL 22.015625 39.3125 \nL 11.71875 39.3125 \nz\n\" id=\"DejaVuSans-58\"/>\n     <path d=\"M 10.6875 12.40625 \nL 21 12.40625 \nL 21 0 \nL 10.6875 0 \nz\n\" id=\"DejaVuSans-46\"/>\n     <path d=\"M 33.015625 40.375 \nQ 26.375 40.375 22.484375 35.828125 \nQ 18.609375 31.296875 18.609375 23.390625 \nQ 18.609375 15.53125 22.484375 10.953125 \nQ 26.375 6.390625 33.015625 6.390625 \nQ 39.65625 6.390625 43.53125 10.953125 \nQ 47.40625 15.53125 47.40625 23.390625 \nQ 47.40625 31.296875 43.53125 35.828125 \nQ 39.65625 40.375 33.015625 40.375 \nz\nM 52.59375 71.296875 \nL 52.59375 62.3125 \nQ 48.875 64.0625 45.09375 64.984375 \nQ 41.3125 65.921875 37.59375 65.921875 \nQ 27.828125 65.921875 22.671875 59.328125 \nQ 17.53125 52.734375 16.796875 39.40625 \nQ 19.671875 43.65625 24.015625 45.921875 \nQ 28.375 48.1875 33.59375 48.1875 \nQ 44.578125 48.1875 50.953125 41.515625 \nQ 57.328125 34.859375 57.328125 23.390625 \nQ 57.328125 12.15625 50.6875 5.359375 \nQ 44.046875 -1.421875 33.015625 -1.421875 \nQ 20.359375 -1.421875 13.671875 8.265625 \nQ 6.984375 17.96875 6.984375 36.375 \nQ 6.984375 53.65625 15.1875 63.9375 \nQ 23.390625 74.21875 37.203125 74.21875 \nQ 40.921875 74.21875 44.703125 73.484375 \nQ 48.484375 72.75 52.59375 71.296875 \nz\n\" id=\"DejaVuSans-54\"/>\n     <path d=\"M 31.78125 34.625 \nQ 24.75 34.625 20.71875 30.859375 \nQ 16.703125 27.09375 16.703125 20.515625 \nQ 16.703125 13.921875 20.71875 10.15625 \nQ 24.75 6.390625 31.78125 6.390625 \nQ 38.8125 6.390625 42.859375 10.171875 \nQ 46.921875 13.96875 46.921875 20.515625 \nQ 46.921875 27.09375 42.890625 30.859375 \nQ 38.875 34.625 31.78125 34.625 \nz\nM 21.921875 38.8125 \nQ 15.578125 40.375 12.03125 44.71875 \nQ 8.5 49.078125 8.5 55.328125 \nQ 8.5 64.0625 14.71875 69.140625 \nQ 20.953125 74.21875 31.78125 74.21875 \nQ 42.671875 74.21875 48.875 69.140625 \nQ 55.078125 64.0625 55.078125 55.328125 \nQ 55.078125 49.078125 51.53125 44.71875 \nQ 48 40.375 41.703125 38.8125 \nQ 48.828125 37.15625 52.796875 32.3125 \nQ 56.78125 27.484375 56.78125 20.515625 \nQ 56.78125 9.90625 50.3125 4.234375 \nQ 43.84375 -1.421875 31.78125 -1.421875 \nQ 19.734375 -1.421875 13.25 4.234375 \nQ 6.78125 9.90625 6.78125 20.515625 \nQ 6.78125 27.484375 10.78125 32.3125 \nQ 14.796875 37.15625 21.921875 38.8125 \nz\nM 18.3125 54.390625 \nQ 18.3125 48.734375 21.84375 45.5625 \nQ 25.390625 42.390625 31.78125 42.390625 \nQ 38.140625 42.390625 41.71875 45.5625 \nQ 45.3125 48.734375 45.3125 54.390625 \nQ 45.3125 60.0625 41.71875 63.234375 \nQ 38.140625 66.40625 31.78125 66.40625 \nQ 25.390625 66.40625 21.84375 63.234375 \nQ 18.3125 60.0625 18.3125 54.390625 \nz\n\" id=\"DejaVuSans-56\"/>\n     <path d=\"M 8.203125 72.90625 \nL 55.078125 72.90625 \nL 55.078125 68.703125 \nL 28.609375 0 \nL 18.3125 0 \nL 43.21875 64.59375 \nL 8.203125 64.59375 \nz\n\" id=\"DejaVuSans-55\"/>\n    </defs>\n    <g transform=\"translate(161.021804 14.798437)scale(0.1 -0.1)\">\n     <use xlink:href=\"#DejaVuSans-65\"/>\n     <use x=\"68.408203\" xlink:href=\"#DejaVuSans-85\"/>\n     <use x=\"141.601562\" xlink:href=\"#DejaVuSans-67\"/>\n     <use x=\"211.425781\" xlink:href=\"#DejaVuSans-32\"/>\n     <use x=\"243.212891\" xlink:href=\"#DejaVuSans-110\"/>\n     <use x=\"306.591797\" xlink:href=\"#DejaVuSans-98\"/>\n     <use x=\"370.068359\" xlink:href=\"#DejaVuSans-95\"/>\n     <use x=\"420.068359\" xlink:href=\"#DejaVuSans-99\"/>\n     <use x=\"475.048828\" xlink:href=\"#DejaVuSans-111\"/>\n     <use x=\"536.230469\" xlink:href=\"#DejaVuSans-109\"/>\n     <use x=\"633.642578\" xlink:href=\"#DejaVuSans-109\"/>\n     <use x=\"731.054688\" xlink:href=\"#DejaVuSans-111\"/>\n     <use x=\"792.236328\" xlink:href=\"#DejaVuSans-110\"/>\n     <use x=\"855.615234\" xlink:href=\"#DejaVuSans-95\"/>\n     <use x=\"905.615234\" xlink:href=\"#DejaVuSans-119\"/>\n     <use x=\"987.402344\" xlink:href=\"#DejaVuSans-111\"/>\n     <use x=\"1048.583984\" xlink:href=\"#DejaVuSans-114\"/>\n     <use x=\"1087.947266\" xlink:href=\"#DejaVuSans-100\"/>\n     <use x=\"1151.423828\" xlink:href=\"#DejaVuSans-115\"/>\n     <use x=\"1203.523438\" xlink:href=\"#DejaVuSans-32\"/>\n     <use x=\"1235.310547\" xlink:href=\"#DejaVuSans-58\"/>\n     <use x=\"1269.001953\" xlink:href=\"#DejaVuSans-32\"/>\n     <use x=\"1300.789062\" xlink:href=\"#DejaVuSans-48\"/>\n     <use x=\"1364.412109\" xlink:href=\"#DejaVuSans-46\"/>\n     <use x=\"1396.199219\" xlink:href=\"#DejaVuSans-54\"/>\n     <use x=\"1459.822266\" xlink:href=\"#DejaVuSans-56\"/>\n     <use x=\"1523.445312\" xlink:href=\"#DejaVuSans-48\"/>\n     <use x=\"1587.068359\" xlink:href=\"#DejaVuSans-55\"/>\n     <use x=\"1650.691406\" xlink:href=\"#DejaVuSans-56\"/>\n     <use x=\"1714.314453\" xlink:href=\"#DejaVuSans-49\"/>\n    </g>\n   </g>\n   <g id=\"legend_1\">\n    <g id=\"patch_9\">\n     <path d=\"M 357.17642 58.154687 \nL 433.14517 58.154687 \nQ 435.14517 58.154687 435.14517 56.154687 \nL 435.14517 27.798437 \nQ 435.14517 25.798437 433.14517 25.798437 \nL 357.17642 25.798437 \nQ 355.17642 25.798437 355.17642 27.798437 \nL 355.17642 56.154687 \nQ 355.17642 58.154687 357.17642 58.154687 \nz\n\" style=\"fill:#ffffff;opacity:0.8;stroke:#cccccc;stroke-linejoin:miter;\"/>\n    </g>\n    <g id=\"patch_10\">\n     <path d=\"M 359.17642 37.396875 \nL 379.17642 37.396875 \nL 379.17642 30.396875 \nL 359.17642 30.396875 \nz\n\" style=\"fill:none;stroke:#d62728;stroke-linejoin:miter;\"/>\n    </g>\n    <g id=\"text_18\">\n     <!-- Same -->\n     <defs>\n      <path d=\"M 53.515625 70.515625 \nL 53.515625 60.890625 \nQ 47.90625 63.578125 42.921875 64.890625 \nQ 37.9375 66.21875 33.296875 66.21875 \nQ 25.25 66.21875 20.875 63.09375 \nQ 16.5 59.96875 16.5 54.203125 \nQ 16.5 49.359375 19.40625 46.890625 \nQ 22.3125 44.4375 30.421875 42.921875 \nL 36.375 41.703125 \nQ 47.40625 39.59375 52.65625 34.296875 \nQ 57.90625 29 57.90625 20.125 \nQ 57.90625 9.515625 50.796875 4.046875 \nQ 43.703125 -1.421875 29.984375 -1.421875 \nQ 24.8125 -1.421875 18.96875 -0.25 \nQ 13.140625 0.921875 6.890625 3.21875 \nL 6.890625 13.375 \nQ 12.890625 10.015625 18.65625 8.296875 \nQ 24.421875 6.59375 29.984375 6.59375 \nQ 38.421875 6.59375 43.015625 9.90625 \nQ 47.609375 13.234375 47.609375 19.390625 \nQ 47.609375 24.75 44.3125 27.78125 \nQ 41.015625 30.8125 33.5 32.328125 \nL 27.484375 33.5 \nQ 16.453125 35.6875 11.515625 40.375 \nQ 6.59375 45.0625 6.59375 53.421875 \nQ 6.59375 63.09375 13.40625 68.65625 \nQ 20.21875 74.21875 32.171875 74.21875 \nQ 37.3125 74.21875 42.625 73.28125 \nQ 47.953125 72.359375 53.515625 70.515625 \nz\n\" id=\"DejaVuSans-83\"/>\n      <path d=\"M 34.28125 27.484375 \nQ 23.390625 27.484375 19.1875 25 \nQ 14.984375 22.515625 14.984375 16.5 \nQ 14.984375 11.71875 18.140625 8.90625 \nQ 21.296875 6.109375 26.703125 6.109375 \nQ 34.1875 6.109375 38.703125 11.40625 \nQ 43.21875 16.703125 43.21875 25.484375 \nL 43.21875 27.484375 \nz\nM 52.203125 31.203125 \nL 52.203125 0 \nL 43.21875 0 \nL 43.21875 8.296875 \nQ 40.140625 3.328125 35.546875 0.953125 \nQ 30.953125 -1.421875 24.3125 -1.421875 \nQ 15.921875 -1.421875 10.953125 3.296875 \nQ 6 8.015625 6 15.921875 \nQ 6 25.140625 12.171875 29.828125 \nQ 18.359375 34.515625 30.609375 34.515625 \nL 43.21875 34.515625 \nL 43.21875 35.40625 \nQ 43.21875 41.609375 39.140625 45 \nQ 35.0625 48.390625 27.6875 48.390625 \nQ 23 48.390625 18.546875 47.265625 \nQ 14.109375 46.140625 10.015625 43.890625 \nL 10.015625 52.203125 \nQ 14.9375 54.109375 19.578125 55.046875 \nQ 24.21875 56 28.609375 56 \nQ 40.484375 56 46.34375 49.84375 \nQ 52.203125 43.703125 52.203125 31.203125 \nz\n\" id=\"DejaVuSans-97\"/>\n      <path d=\"M 56.203125 29.59375 \nL 56.203125 25.203125 \nL 14.890625 25.203125 \nQ 15.484375 15.921875 20.484375 11.0625 \nQ 25.484375 6.203125 34.421875 6.203125 \nQ 39.59375 6.203125 44.453125 7.46875 \nQ 49.3125 8.734375 54.109375 11.28125 \nL 54.109375 2.78125 \nQ 49.265625 0.734375 44.1875 -0.34375 \nQ 39.109375 -1.421875 33.890625 -1.421875 \nQ 20.796875 -1.421875 13.15625 6.1875 \nQ 5.515625 13.8125 5.515625 26.8125 \nQ 5.515625 40.234375 12.765625 48.109375 \nQ 20.015625 56 32.328125 56 \nQ 43.359375 56 49.78125 48.890625 \nQ 56.203125 41.796875 56.203125 29.59375 \nz\nM 47.21875 32.234375 \nQ 47.125 39.59375 43.09375 43.984375 \nQ 39.0625 48.390625 32.421875 48.390625 \nQ 24.90625 48.390625 20.390625 44.140625 \nQ 15.875 39.890625 15.1875 32.171875 \nz\n\" id=\"DejaVuSans-101\"/>\n     </defs>\n     <g transform=\"translate(387.17642 37.396875)scale(0.1 -0.1)\">\n      <use xlink:href=\"#DejaVuSans-83\"/>\n      <use x=\"63.476562\" xlink:href=\"#DejaVuSans-97\"/>\n      <use x=\"124.755859\" xlink:href=\"#DejaVuSans-109\"/>\n      <use x=\"222.167969\" xlink:href=\"#DejaVuSans-101\"/>\n     </g>\n    </g>\n    <g id=\"patch_11\">\n     <path d=\"M 359.17642 52.075 \nL 379.17642 52.075 \nL 379.17642 45.075 \nL 359.17642 45.075 \nz\n\" style=\"fill:none;opacity:0.75;stroke:#2ca02c;stroke-linejoin:miter;\"/>\n    </g>\n    <g id=\"text_19\">\n     <!-- Different -->\n     <defs>\n      <path d=\"M 19.671875 64.796875 \nL 19.671875 8.109375 \nL 31.59375 8.109375 \nQ 46.6875 8.109375 53.6875 14.9375 \nQ 60.6875 21.78125 60.6875 36.53125 \nQ 60.6875 51.171875 53.6875 57.984375 \nQ 46.6875 64.796875 31.59375 64.796875 \nz\nM 9.8125 72.90625 \nL 30.078125 72.90625 \nQ 51.265625 72.90625 61.171875 64.09375 \nQ 71.09375 55.28125 71.09375 36.53125 \nQ 71.09375 17.671875 61.125 8.828125 \nQ 51.171875 0 30.078125 0 \nL 9.8125 0 \nz\n\" id=\"DejaVuSans-68\"/>\n      <path d=\"M 9.421875 54.6875 \nL 18.40625 54.6875 \nL 18.40625 0 \nL 9.421875 0 \nz\nM 9.421875 75.984375 \nL 18.40625 75.984375 \nL 18.40625 64.59375 \nL 9.421875 64.59375 \nz\n\" id=\"DejaVuSans-105\"/>\n      <path d=\"M 37.109375 75.984375 \nL 37.109375 68.5 \nL 28.515625 68.5 \nQ 23.6875 68.5 21.796875 66.546875 \nQ 19.921875 64.59375 19.921875 59.515625 \nL 19.921875 54.6875 \nL 34.71875 54.6875 \nL 34.71875 47.703125 \nL 19.921875 47.703125 \nL 19.921875 0 \nL 10.890625 0 \nL 10.890625 47.703125 \nL 2.296875 47.703125 \nL 2.296875 54.6875 \nL 10.890625 54.6875 \nL 10.890625 58.5 \nQ 10.890625 67.625 15.140625 71.796875 \nQ 19.390625 75.984375 28.609375 75.984375 \nz\n\" id=\"DejaVuSans-102\"/>\n      <path d=\"M 18.3125 70.21875 \nL 18.3125 54.6875 \nL 36.8125 54.6875 \nL 36.8125 47.703125 \nL 18.3125 47.703125 \nL 18.3125 18.015625 \nQ 18.3125 11.328125 20.140625 9.421875 \nQ 21.96875 7.515625 27.59375 7.515625 \nL 36.8125 7.515625 \nL 36.8125 0 \nL 27.59375 0 \nQ 17.1875 0 13.234375 3.875 \nQ 9.28125 7.765625 9.28125 18.015625 \nL 9.28125 47.703125 \nL 2.6875 47.703125 \nL 2.6875 54.6875 \nL 9.28125 54.6875 \nL 9.28125 70.21875 \nz\n\" id=\"DejaVuSans-116\"/>\n     </defs>\n     <g transform=\"translate(387.17642 52.075)scale(0.1 -0.1)\">\n      <use xlink:href=\"#DejaVuSans-68\"/>\n      <use x=\"77.001953\" xlink:href=\"#DejaVuSans-105\"/>\n      <use x=\"104.785156\" xlink:href=\"#DejaVuSans-102\"/>\n      <use x=\"139.990234\" xlink:href=\"#DejaVuSans-102\"/>\n      <use x=\"175.195312\" xlink:href=\"#DejaVuSans-101\"/>\n      <use x=\"236.71875\" xlink:href=\"#DejaVuSans-114\"/>\n      <use x=\"275.582031\" xlink:href=\"#DejaVuSans-101\"/>\n      <use x=\"337.105469\" xlink:href=\"#DejaVuSans-110\"/>\n      <use x=\"400.484375\" xlink:href=\"#DejaVuSans-116\"/>\n     </g>\n    </g>\n   </g>\n  </g>\n  <g id=\"axes_2\">\n   <g id=\"patch_12\">\n    <path d=\"M 516.23608 428.498437 \nL 896.690625 428.498437 \nL 896.690625 20.798437 \nL 516.23608 20.798437 \nz\n\" style=\"fill:#ffffff;\"/>\n   </g>\n   <g id=\"patch_13\">\n    <path clip-path=\"url(#pa75029fdea)\" d=\"M 533.529468 428.498437 \nL 533.529468 420.981577 \nL 540.446823 420.981577 \nL 540.446823 428.469965 \nL 547.364179 428.469965 \nL 547.364179 428.3276 \nL 554.281534 428.3276 \nL 554.281534 427.444938 \nL 561.198889 427.444938 \nL 561.198889 426.619222 \nL 568.116245 426.619222 \nL 568.116245 422.561826 \nL 575.0336 422.561826 \nL 575.0336 420.76803 \nL 581.950956 420.76803 \nL 581.950956 416.425904 \nL 588.868311 416.425904 \nL 588.868311 413.350824 \nL 595.785666 413.350824 \nL 595.785666 418.233937 \nL 602.703022 418.233937 \nL 602.703022 395.78301 \nL 609.620377 395.78301 \nL 609.620377 391.754087 \nL 616.537732 391.754087 \nL 616.537732 378.927019 \nL 623.455088 378.927019 \nL 623.455088 398.146265 \nL 630.372443 398.146265 \nL 630.372443 383.639294 \nL 637.289799 383.639294 \nL 637.289799 378.585344 \nL 644.207154 378.585344 \nL 644.207154 328.572595 \nL 651.124509 328.572595 \nL 651.124509 408.026381 \nL 658.041865 408.026381 \nL 658.041865 347.450165 \nL 664.95922 347.450165 \nL 664.95922 409.193773 \nL 671.876575 409.193773 \nL 671.876575 329.868115 \nL 678.793931 329.868115 \nL 678.793931 349.61411 \nL 685.711286 349.61411 \nL 685.711286 346.524794 \nL 692.628642 346.524794 \nL 692.628642 400.723068 \nL 699.545997 400.723068 \nL 699.545997 428.227944 \nL 706.463352 428.227944 \nL 706.463352 223.080289 \nL 713.380708 223.080289 \nL 713.380708 406.318004 \nL 720.298063 406.318004 \nL 720.298063 349.016178 \nL 727.215418 349.016178 \nL 727.215418 346.040754 \nL 734.132774 346.040754 \nL 734.132774 410.475056 \nL 741.050129 410.475056 \nL 741.050129 340.616656 \nL 747.967485 340.616656 \nL 747.967485 338.096799 \nL 754.88484 338.096799 \nL 754.88484 421.380198 \nL 761.802195 421.380198 \nL 761.802195 301.779542 \nL 768.719551 301.779542 \nL 768.719551 388.636298 \nL 775.636906 388.636298 \nL 775.636906 356.547275 \nL 782.554261 356.547275 \nL 782.554261 408.553131 \nL 789.471617 408.553131 \nL 789.471617 344.787944 \nL 796.388972 344.787944 \nL 796.388972 385.119888 \nL 803.306327 385.119888 \nL 803.306327 422.547589 \nL 810.223683 422.547589 \nL 810.223683 358.882058 \nL 817.141038 358.882058 \nL 817.141038 376.876967 \nL 824.058394 376.876967 \nL 824.058394 371.410159 \nL 830.975749 371.410159 \nL 830.975749 389.291176 \nL 837.893104 389.291176 \nL 837.893104 403.072087 \nL 844.81046 403.072087 \nL 844.81046 402.57381 \nL 851.727815 402.57381 \nL 851.727815 421.892711 \nL 858.64517 421.892711 \nL 858.64517 426.704641 \nL 865.562526 426.704641 \nL 865.562526 428.427255 \nL 872.479881 428.427255 \nL 872.479881 379.596134 \nL 879.397237 379.596134 \nL 879.397237 428.498437 \n\" style=\"fill:none;stroke:#d62728;stroke-linejoin:miter;\"/>\n   </g>\n   <g id=\"patch_14\">\n    <path clip-path=\"url(#pa75029fdea)\" d=\"M 533.529468 428.498437 \nL 533.529468 40.212723 \nL 540.446823 40.212723 \nL 540.446823 416.055755 \nL 547.364179 416.055755 \nL 547.364179 374.428292 \nL 554.281534 374.428292 \nL 554.281534 343.976465 \nL 561.198889 343.976465 \nL 561.198889 336.345712 \nL 568.116245 336.345712 \nL 568.116245 286.404146 \nL 575.0336 286.404146 \nL 575.0336 321.283518 \nL 581.950956 321.283518 \nL 581.950956 297.394707 \nL 588.868311 297.394707 \nL 588.868311 311.873206 \nL 595.785666 311.873206 \nL 595.785666 355.664614 \nL 602.703022 355.664614 \nL 602.703022 274.787179 \nL 609.620377 274.787179 \nL 609.620377 312.670449 \nL 616.537732 312.670449 \nL 616.537732 285.891632 \nL 623.455088 285.891632 \nL 623.455088 348.589084 \nL 630.372443 348.589084 \nL 630.372443 335.050193 \nL 637.289799 335.050193 \nL 637.289799 329.996243 \nL 644.207154 329.996243 \nL 644.207154 265.206029 \nL 651.124509 265.206029 \nL 651.124509 400.694595 \nL 658.041865 400.694595 \nL 658.041865 323.120024 \nL 664.95922 323.120024 \nL 664.95922 403.271398 \nL 671.876575 403.271398 \nL 671.876575 305.666101 \nL 678.793931 305.666101 \nL 678.793931 351.308251 \nL 685.711286 351.308251 \nL 685.711286 348.233172 \nL 692.628642 348.233172 \nL 692.628642 404.211005 \nL 699.545997 404.211005 \nL 699.545997 428.3276 \nL 706.463352 428.3276 \nL 706.463352 233.245135 \nL 713.380708 233.245135 \nL 713.380708 413.777919 \nL 720.298063 413.777919 \nL 720.298063 363.466204 \nL 727.215418 363.466204 \nL 727.215418 369.730254 \nL 734.132774 369.730254 \nL 734.132774 415.415114 \nL 741.050129 415.415114 \nL 741.050129 355.408357 \nL 747.967485 355.408357 \nL 747.967485 363.48044 \nL 754.88484 363.48044 \nL 754.88484 424.270203 \nL 761.802195 424.270203 \nL 761.802195 325.981556 \nL 768.719551 325.981556 \nL 768.719551 398.559123 \nL 775.636906 398.559123 \nL 775.636906 384.265699 \nL 782.554261 384.265699 \nL 782.554261 413.123041 \nL 789.471617 413.123041 \nL 789.471617 361.658171 \nL 796.388972 361.658171 \nL 796.388972 394.174288 \nL 803.306327 394.174288 \nL 803.306327 421.636455 \nL 810.223683 421.636455 \nL 810.223683 372.748388 \nL 817.141038 372.748388 \nL 817.141038 386.714373 \nL 824.058394 386.714373 \nL 824.058394 382.486139 \nL 830.975749 382.486139 \nL 830.975749 381.945153 \nL 837.893104 381.945153 \nL 837.893104 397.121239 \nL 844.81046 397.121239 \nL 844.81046 382.059045 \nL 851.727815 382.059045 \nL 851.727815 392.679458 \nL 858.64517 392.679458 \nL 858.64517 418.618321 \nL 865.562526 418.618321 \nL 865.562526 428.469965 \nL 872.479881 428.469965 \nL 872.479881 412.539345 \nL 879.397237 412.539345 \nL 879.397237 428.498437 \n\" style=\"fill:none;opacity:0.75;stroke:#2ca02c;stroke-linejoin:miter;\"/>\n   </g>\n   <g id=\"matplotlib.axis_3\">\n    <g id=\"xtick_6\">\n     <g id=\"line2d_15\">\n      <g>\n       <use style=\"stroke:#000000;stroke-width:0.8;\" x=\"533.529468\" xlink:href=\"#mf7d80e8eeb\" y=\"428.498437\"/>\n      </g>\n     </g>\n     <g id=\"text_20\">\n      <!-- 0.0 -->\n      <g transform=\"translate(525.577905 443.096875)scale(0.1 -0.1)\">\n       <use xlink:href=\"#DejaVuSans-48\"/>\n       <use x=\"63.623047\" xlink:href=\"#DejaVuSans-46\"/>\n       <use x=\"95.410156\" xlink:href=\"#DejaVuSans-48\"/>\n      </g>\n     </g>\n    </g>\n    <g id=\"xtick_7\">\n     <g id=\"line2d_16\">\n      <g>\n       <use style=\"stroke:#000000;stroke-width:0.8;\" x=\"602.703022\" xlink:href=\"#mf7d80e8eeb\" y=\"428.498437\"/>\n      </g>\n     </g>\n     <g id=\"text_21\">\n      <!-- 0.2 -->\n      <g transform=\"translate(594.751459 443.096875)scale(0.1 -0.1)\">\n       <use xlink:href=\"#DejaVuSans-48\"/>\n       <use x=\"63.623047\" xlink:href=\"#DejaVuSans-46\"/>\n       <use x=\"95.410156\" xlink:href=\"#DejaVuSans-50\"/>\n      </g>\n     </g>\n    </g>\n    <g id=\"xtick_8\">\n     <g id=\"line2d_17\">\n      <g>\n       <use style=\"stroke:#000000;stroke-width:0.8;\" x=\"671.876575\" xlink:href=\"#mf7d80e8eeb\" y=\"428.498437\"/>\n      </g>\n     </g>\n     <g id=\"text_22\">\n      <!-- 0.4 -->\n      <g transform=\"translate(663.925013 443.096875)scale(0.1 -0.1)\">\n       <use xlink:href=\"#DejaVuSans-48\"/>\n       <use x=\"63.623047\" xlink:href=\"#DejaVuSans-46\"/>\n       <use x=\"95.410156\" xlink:href=\"#DejaVuSans-52\"/>\n      </g>\n     </g>\n    </g>\n    <g id=\"xtick_9\">\n     <g id=\"line2d_18\">\n      <g>\n       <use style=\"stroke:#000000;stroke-width:0.8;\" x=\"741.050129\" xlink:href=\"#mf7d80e8eeb\" y=\"428.498437\"/>\n      </g>\n     </g>\n     <g id=\"text_23\">\n      <!-- 0.6 -->\n      <g transform=\"translate(733.098567 443.096875)scale(0.1 -0.1)\">\n       <use xlink:href=\"#DejaVuSans-48\"/>\n       <use x=\"63.623047\" xlink:href=\"#DejaVuSans-46\"/>\n       <use x=\"95.410156\" xlink:href=\"#DejaVuSans-54\"/>\n      </g>\n     </g>\n    </g>\n    <g id=\"xtick_10\">\n     <g id=\"line2d_19\">\n      <g>\n       <use style=\"stroke:#000000;stroke-width:0.8;\" x=\"810.223683\" xlink:href=\"#mf7d80e8eeb\" y=\"428.498437\"/>\n      </g>\n     </g>\n     <g id=\"text_24\">\n      <!-- 0.8 -->\n      <g transform=\"translate(802.27212 443.096875)scale(0.1 -0.1)\">\n       <use xlink:href=\"#DejaVuSans-48\"/>\n       <use x=\"63.623047\" xlink:href=\"#DejaVuSans-46\"/>\n       <use x=\"95.410156\" xlink:href=\"#DejaVuSans-56\"/>\n      </g>\n     </g>\n    </g>\n    <g id=\"xtick_11\">\n     <g id=\"line2d_20\">\n      <g>\n       <use style=\"stroke:#000000;stroke-width:0.8;\" x=\"879.397237\" xlink:href=\"#mf7d80e8eeb\" y=\"428.498437\"/>\n      </g>\n     </g>\n     <g id=\"text_25\">\n      <!-- 1.0 -->\n      <g transform=\"translate(871.445674 443.096875)scale(0.1 -0.1)\">\n       <use xlink:href=\"#DejaVuSans-49\"/>\n       <use x=\"63.623047\" xlink:href=\"#DejaVuSans-46\"/>\n       <use x=\"95.410156\" xlink:href=\"#DejaVuSans-48\"/>\n      </g>\n     </g>\n    </g>\n    <g id=\"text_26\">\n     <!-- nb_common_words/nb_words_question1 -->\n     <defs>\n      <path d=\"M 25.390625 72.90625 \nL 33.6875 72.90625 \nL 8.296875 -9.28125 \nL 0 -9.28125 \nz\n\" id=\"DejaVuSans-47\"/>\n      <path d=\"M 14.796875 27.296875 \nQ 14.796875 17.390625 18.875 11.75 \nQ 22.953125 6.109375 30.078125 6.109375 \nQ 37.203125 6.109375 41.296875 11.75 \nQ 45.40625 17.390625 45.40625 27.296875 \nQ 45.40625 37.203125 41.296875 42.84375 \nQ 37.203125 48.484375 30.078125 48.484375 \nQ 22.953125 48.484375 18.875 42.84375 \nQ 14.796875 37.203125 14.796875 27.296875 \nz\nM 45.40625 8.203125 \nQ 42.578125 3.328125 38.25 0.953125 \nQ 33.9375 -1.421875 27.875 -1.421875 \nQ 17.96875 -1.421875 11.734375 6.484375 \nQ 5.515625 14.40625 5.515625 27.296875 \nQ 5.515625 40.1875 11.734375 48.09375 \nQ 17.96875 56 27.875 56 \nQ 33.9375 56 38.25 53.625 \nQ 42.578125 51.265625 45.40625 46.390625 \nL 45.40625 54.6875 \nL 54.390625 54.6875 \nL 54.390625 -20.796875 \nL 45.40625 -20.796875 \nz\n\" id=\"DejaVuSans-113\"/>\n      <path d=\"M 8.5 21.578125 \nL 8.5 54.6875 \nL 17.484375 54.6875 \nL 17.484375 21.921875 \nQ 17.484375 14.15625 20.5 10.265625 \nQ 23.53125 6.390625 29.59375 6.390625 \nQ 36.859375 6.390625 41.078125 11.03125 \nQ 45.3125 15.671875 45.3125 23.6875 \nL 45.3125 54.6875 \nL 54.296875 54.6875 \nL 54.296875 0 \nL 45.3125 0 \nL 45.3125 8.40625 \nQ 42.046875 3.421875 37.71875 1 \nQ 33.40625 -1.421875 27.6875 -1.421875 \nQ 18.265625 -1.421875 13.375 4.4375 \nQ 8.5 10.296875 8.5 21.578125 \nz\nM 31.109375 56 \nz\n\" id=\"DejaVuSans-117\"/>\n     </defs>\n     <g transform=\"translate(605.742259 456.775)scale(0.1 -0.1)\">\n      <use xlink:href=\"#DejaVuSans-110\"/>\n      <use x=\"63.378906\" xlink:href=\"#DejaVuSans-98\"/>\n      <use x=\"126.855469\" xlink:href=\"#DejaVuSans-95\"/>\n      <use x=\"176.855469\" xlink:href=\"#DejaVuSans-99\"/>\n      <use x=\"231.835938\" xlink:href=\"#DejaVuSans-111\"/>\n      <use x=\"293.017578\" xlink:href=\"#DejaVuSans-109\"/>\n      <use x=\"390.429688\" xlink:href=\"#DejaVuSans-109\"/>\n      <use x=\"487.841797\" xlink:href=\"#DejaVuSans-111\"/>\n      <use x=\"549.023438\" xlink:href=\"#DejaVuSans-110\"/>\n      <use x=\"612.402344\" xlink:href=\"#DejaVuSans-95\"/>\n      <use x=\"662.402344\" xlink:href=\"#DejaVuSans-119\"/>\n      <use x=\"744.189453\" xlink:href=\"#DejaVuSans-111\"/>\n      <use x=\"805.371094\" xlink:href=\"#DejaVuSans-114\"/>\n      <use x=\"844.734375\" xlink:href=\"#DejaVuSans-100\"/>\n      <use x=\"908.210938\" xlink:href=\"#DejaVuSans-115\"/>\n      <use x=\"960.310547\" xlink:href=\"#DejaVuSans-47\"/>\n      <use x=\"994.001953\" xlink:href=\"#DejaVuSans-110\"/>\n      <use x=\"1057.380859\" xlink:href=\"#DejaVuSans-98\"/>\n      <use x=\"1120.857422\" xlink:href=\"#DejaVuSans-95\"/>\n      <use x=\"1170.857422\" xlink:href=\"#DejaVuSans-119\"/>\n      <use x=\"1252.644531\" xlink:href=\"#DejaVuSans-111\"/>\n      <use x=\"1313.826172\" xlink:href=\"#DejaVuSans-114\"/>\n      <use x=\"1353.189453\" xlink:href=\"#DejaVuSans-100\"/>\n      <use x=\"1416.666016\" xlink:href=\"#DejaVuSans-115\"/>\n      <use x=\"1468.765625\" xlink:href=\"#DejaVuSans-95\"/>\n      <use x=\"1518.765625\" xlink:href=\"#DejaVuSans-113\"/>\n      <use x=\"1582.242188\" xlink:href=\"#DejaVuSans-117\"/>\n      <use x=\"1645.621094\" xlink:href=\"#DejaVuSans-101\"/>\n      <use x=\"1707.144531\" xlink:href=\"#DejaVuSans-115\"/>\n      <use x=\"1759.244141\" xlink:href=\"#DejaVuSans-116\"/>\n      <use x=\"1798.453125\" xlink:href=\"#DejaVuSans-105\"/>\n      <use x=\"1826.236328\" xlink:href=\"#DejaVuSans-111\"/>\n      <use x=\"1887.417969\" xlink:href=\"#DejaVuSans-110\"/>\n      <use x=\"1950.796875\" xlink:href=\"#DejaVuSans-49\"/>\n     </g>\n    </g>\n   </g>\n   <g id=\"matplotlib.axis_4\">\n    <g id=\"ytick_10\">\n     <g id=\"line2d_21\">\n      <g>\n       <use style=\"stroke:#000000;stroke-width:0.8;\" x=\"516.23608\" xlink:href=\"#m93ddc2c199\" y=\"428.498437\"/>\n      </g>\n     </g>\n     <g id=\"text_27\">\n      <!-- 0 -->\n      <g transform=\"translate(502.87358 432.297656)scale(0.1 -0.1)\">\n       <use xlink:href=\"#DejaVuSans-48\"/>\n      </g>\n     </g>\n    </g>\n    <g id=\"ytick_11\">\n     <g id=\"line2d_22\">\n      <g>\n       <use style=\"stroke:#000000;stroke-width:0.8;\" x=\"516.23608\" xlink:href=\"#m93ddc2c199\" y=\"357.316045\"/>\n      </g>\n     </g>\n     <g id=\"text_28\">\n      <!-- 5000 -->\n      <g transform=\"translate(483.78608 361.115264)scale(0.1 -0.1)\">\n       <use xlink:href=\"#DejaVuSans-53\"/>\n       <use x=\"63.623047\" xlink:href=\"#DejaVuSans-48\"/>\n       <use x=\"127.246094\" xlink:href=\"#DejaVuSans-48\"/>\n       <use x=\"190.869141\" xlink:href=\"#DejaVuSans-48\"/>\n      </g>\n     </g>\n    </g>\n    <g id=\"ytick_12\">\n     <g id=\"line2d_23\">\n      <g>\n       <use style=\"stroke:#000000;stroke-width:0.8;\" x=\"516.23608\" xlink:href=\"#m93ddc2c199\" y=\"286.133653\"/>\n      </g>\n     </g>\n     <g id=\"text_29\">\n      <!-- 10000 -->\n      <g transform=\"translate(477.42358 289.932871)scale(0.1 -0.1)\">\n       <use xlink:href=\"#DejaVuSans-49\"/>\n       <use x=\"63.623047\" xlink:href=\"#DejaVuSans-48\"/>\n       <use x=\"127.246094\" xlink:href=\"#DejaVuSans-48\"/>\n       <use x=\"190.869141\" xlink:href=\"#DejaVuSans-48\"/>\n       <use x=\"254.492188\" xlink:href=\"#DejaVuSans-48\"/>\n      </g>\n     </g>\n    </g>\n    <g id=\"ytick_13\">\n     <g id=\"line2d_24\">\n      <g>\n       <use style=\"stroke:#000000;stroke-width:0.8;\" x=\"516.23608\" xlink:href=\"#m93ddc2c199\" y=\"214.95126\"/>\n      </g>\n     </g>\n     <g id=\"text_30\">\n      <!-- 15000 -->\n      <g transform=\"translate(477.42358 218.750479)scale(0.1 -0.1)\">\n       <use xlink:href=\"#DejaVuSans-49\"/>\n       <use x=\"63.623047\" xlink:href=\"#DejaVuSans-53\"/>\n       <use x=\"127.246094\" xlink:href=\"#DejaVuSans-48\"/>\n       <use x=\"190.869141\" xlink:href=\"#DejaVuSans-48\"/>\n       <use x=\"254.492188\" xlink:href=\"#DejaVuSans-48\"/>\n      </g>\n     </g>\n    </g>\n    <g id=\"ytick_14\">\n     <g id=\"line2d_25\">\n      <g>\n       <use style=\"stroke:#000000;stroke-width:0.8;\" x=\"516.23608\" xlink:href=\"#m93ddc2c199\" y=\"143.768868\"/>\n      </g>\n     </g>\n     <g id=\"text_31\">\n      <!-- 20000 -->\n      <g transform=\"translate(477.42358 147.568086)scale(0.1 -0.1)\">\n       <use xlink:href=\"#DejaVuSans-50\"/>\n       <use x=\"63.623047\" xlink:href=\"#DejaVuSans-48\"/>\n       <use x=\"127.246094\" xlink:href=\"#DejaVuSans-48\"/>\n       <use x=\"190.869141\" xlink:href=\"#DejaVuSans-48\"/>\n       <use x=\"254.492188\" xlink:href=\"#DejaVuSans-48\"/>\n      </g>\n     </g>\n    </g>\n    <g id=\"ytick_15\">\n     <g id=\"line2d_26\">\n      <g>\n       <use style=\"stroke:#000000;stroke-width:0.8;\" x=\"516.23608\" xlink:href=\"#m93ddc2c199\" y=\"72.586475\"/>\n      </g>\n     </g>\n     <g id=\"text_32\">\n      <!-- 25000 -->\n      <g transform=\"translate(477.42358 76.385694)scale(0.1 -0.1)\">\n       <use xlink:href=\"#DejaVuSans-50\"/>\n       <use x=\"63.623047\" xlink:href=\"#DejaVuSans-53\"/>\n       <use x=\"127.246094\" xlink:href=\"#DejaVuSans-48\"/>\n       <use x=\"190.869141\" xlink:href=\"#DejaVuSans-48\"/>\n       <use x=\"254.492188\" xlink:href=\"#DejaVuSans-48\"/>\n      </g>\n     </g>\n    </g>\n    <g id=\"text_33\">\n     <!-- Nb -->\n     <g transform=\"translate(471.343892 231.563281)rotate(-90)scale(0.1 -0.1)\">\n      <use xlink:href=\"#DejaVuSans-78\"/>\n      <use x=\"74.804688\" xlink:href=\"#DejaVuSans-98\"/>\n     </g>\n    </g>\n   </g>\n   <g id=\"patch_15\">\n    <path d=\"M 516.23608 428.498437 \nL 516.23608 20.798437 \n\" style=\"fill:none;stroke:#000000;stroke-linecap:square;stroke-linejoin:miter;stroke-width:0.8;\"/>\n   </g>\n   <g id=\"patch_16\">\n    <path d=\"M 896.690625 428.498437 \nL 896.690625 20.798437 \n\" style=\"fill:none;stroke:#000000;stroke-linecap:square;stroke-linejoin:miter;stroke-width:0.8;\"/>\n   </g>\n   <g id=\"patch_17\">\n    <path d=\"M 516.23608 428.498437 \nL 896.690625 428.498437 \n\" style=\"fill:none;stroke:#000000;stroke-linecap:square;stroke-linejoin:miter;stroke-width:0.8;\"/>\n   </g>\n   <g id=\"patch_18\">\n    <path d=\"M 516.23608 20.798437 \nL 896.690625 20.798437 \n\" style=\"fill:none;stroke:#000000;stroke-linecap:square;stroke-linejoin:miter;stroke-width:0.8;\"/>\n   </g>\n   <g id=\"text_34\">\n    <!-- AUC nb_common_words/nb_words_question1 : 0.723389 -->\n    <defs>\n     <path d=\"M 10.984375 1.515625 \nL 10.984375 10.5 \nQ 14.703125 8.734375 18.5 7.8125 \nQ 22.3125 6.890625 25.984375 6.890625 \nQ 35.75 6.890625 40.890625 13.453125 \nQ 46.046875 20.015625 46.78125 33.40625 \nQ 43.953125 29.203125 39.59375 26.953125 \nQ 35.25 24.703125 29.984375 24.703125 \nQ 19.046875 24.703125 12.671875 31.3125 \nQ 6.296875 37.9375 6.296875 49.421875 \nQ 6.296875 60.640625 12.9375 67.421875 \nQ 19.578125 74.21875 30.609375 74.21875 \nQ 43.265625 74.21875 49.921875 64.515625 \nQ 56.59375 54.828125 56.59375 36.375 \nQ 56.59375 19.140625 48.40625 8.859375 \nQ 40.234375 -1.421875 26.421875 -1.421875 \nQ 22.703125 -1.421875 18.890625 -0.6875 \nQ 15.09375 0.046875 10.984375 1.515625 \nz\nM 30.609375 32.421875 \nQ 37.25 32.421875 41.125 36.953125 \nQ 45.015625 41.5 45.015625 49.421875 \nQ 45.015625 57.28125 41.125 61.84375 \nQ 37.25 66.40625 30.609375 66.40625 \nQ 23.96875 66.40625 20.09375 61.84375 \nQ 16.21875 57.28125 16.21875 49.421875 \nQ 16.21875 41.5 20.09375 36.953125 \nQ 23.96875 32.421875 30.609375 32.421875 \nz\n\" id=\"DejaVuSans-57\"/>\n    </defs>\n    <g transform=\"translate(564.86179 14.798437)scale(0.1 -0.1)\">\n     <use xlink:href=\"#DejaVuSans-65\"/>\n     <use x=\"68.408203\" xlink:href=\"#DejaVuSans-85\"/>\n     <use x=\"141.601562\" xlink:href=\"#DejaVuSans-67\"/>\n     <use x=\"211.425781\" xlink:href=\"#DejaVuSans-32\"/>\n     <use x=\"243.212891\" xlink:href=\"#DejaVuSans-110\"/>\n     <use x=\"306.591797\" xlink:href=\"#DejaVuSans-98\"/>\n     <use x=\"370.068359\" xlink:href=\"#DejaVuSans-95\"/>\n     <use x=\"420.068359\" xlink:href=\"#DejaVuSans-99\"/>\n     <use x=\"475.048828\" xlink:href=\"#DejaVuSans-111\"/>\n     <use x=\"536.230469\" xlink:href=\"#DejaVuSans-109\"/>\n     <use x=\"633.642578\" xlink:href=\"#DejaVuSans-109\"/>\n     <use x=\"731.054688\" xlink:href=\"#DejaVuSans-111\"/>\n     <use x=\"792.236328\" xlink:href=\"#DejaVuSans-110\"/>\n     <use x=\"855.615234\" xlink:href=\"#DejaVuSans-95\"/>\n     <use x=\"905.615234\" xlink:href=\"#DejaVuSans-119\"/>\n     <use x=\"987.402344\" xlink:href=\"#DejaVuSans-111\"/>\n     <use x=\"1048.583984\" xlink:href=\"#DejaVuSans-114\"/>\n     <use x=\"1087.947266\" xlink:href=\"#DejaVuSans-100\"/>\n     <use x=\"1151.423828\" xlink:href=\"#DejaVuSans-115\"/>\n     <use x=\"1203.523438\" xlink:href=\"#DejaVuSans-47\"/>\n     <use x=\"1237.214844\" xlink:href=\"#DejaVuSans-110\"/>\n     <use x=\"1300.59375\" xlink:href=\"#DejaVuSans-98\"/>\n     <use x=\"1364.070312\" xlink:href=\"#DejaVuSans-95\"/>\n     <use x=\"1414.070312\" xlink:href=\"#DejaVuSans-119\"/>\n     <use x=\"1495.857422\" xlink:href=\"#DejaVuSans-111\"/>\n     <use x=\"1557.039062\" xlink:href=\"#DejaVuSans-114\"/>\n     <use x=\"1596.402344\" xlink:href=\"#DejaVuSans-100\"/>\n     <use x=\"1659.878906\" xlink:href=\"#DejaVuSans-115\"/>\n     <use x=\"1711.978516\" xlink:href=\"#DejaVuSans-95\"/>\n     <use x=\"1761.978516\" xlink:href=\"#DejaVuSans-113\"/>\n     <use x=\"1825.455078\" xlink:href=\"#DejaVuSans-117\"/>\n     <use x=\"1888.833984\" xlink:href=\"#DejaVuSans-101\"/>\n     <use x=\"1950.357422\" xlink:href=\"#DejaVuSans-115\"/>\n     <use x=\"2002.457031\" xlink:href=\"#DejaVuSans-116\"/>\n     <use x=\"2041.666016\" xlink:href=\"#DejaVuSans-105\"/>\n     <use x=\"2069.449219\" xlink:href=\"#DejaVuSans-111\"/>\n     <use x=\"2130.630859\" xlink:href=\"#DejaVuSans-110\"/>\n     <use x=\"2194.009766\" xlink:href=\"#DejaVuSans-49\"/>\n     <use x=\"2257.632812\" xlink:href=\"#DejaVuSans-32\"/>\n     <use x=\"2289.419922\" xlink:href=\"#DejaVuSans-58\"/>\n     <use x=\"2323.111328\" xlink:href=\"#DejaVuSans-32\"/>\n     <use x=\"2354.898438\" xlink:href=\"#DejaVuSans-48\"/>\n     <use x=\"2418.521484\" xlink:href=\"#DejaVuSans-46\"/>\n     <use x=\"2450.308594\" xlink:href=\"#DejaVuSans-55\"/>\n     <use x=\"2513.931641\" xlink:href=\"#DejaVuSans-50\"/>\n     <use x=\"2577.554688\" xlink:href=\"#DejaVuSans-51\"/>\n     <use x=\"2641.177734\" xlink:href=\"#DejaVuSans-51\"/>\n     <use x=\"2704.800781\" xlink:href=\"#DejaVuSans-56\"/>\n     <use x=\"2768.423828\" xlink:href=\"#DejaVuSans-57\"/>\n    </g>\n   </g>\n   <g id=\"legend_2\">\n    <g id=\"patch_19\">\n     <path d=\"M 813.721875 58.154687 \nL 889.690625 58.154687 \nQ 891.690625 58.154687 891.690625 56.154687 \nL 891.690625 27.798437 \nQ 891.690625 25.798437 889.690625 25.798437 \nL 813.721875 25.798437 \nQ 811.721875 25.798437 811.721875 27.798437 \nL 811.721875 56.154687 \nQ 811.721875 58.154687 813.721875 58.154687 \nz\n\" style=\"fill:#ffffff;opacity:0.8;stroke:#cccccc;stroke-linejoin:miter;\"/>\n    </g>\n    <g id=\"patch_20\">\n     <path d=\"M 815.721875 37.396875 \nL 835.721875 37.396875 \nL 835.721875 30.396875 \nL 815.721875 30.396875 \nz\n\" style=\"fill:none;stroke:#d62728;stroke-linejoin:miter;\"/>\n    </g>\n    <g id=\"text_35\">\n     <!-- Same -->\n     <g transform=\"translate(843.721875 37.396875)scale(0.1 -0.1)\">\n      <use xlink:href=\"#DejaVuSans-83\"/>\n      <use x=\"63.476562\" xlink:href=\"#DejaVuSans-97\"/>\n      <use x=\"124.755859\" xlink:href=\"#DejaVuSans-109\"/>\n      <use x=\"222.167969\" xlink:href=\"#DejaVuSans-101\"/>\n     </g>\n    </g>\n    <g id=\"patch_21\">\n     <path d=\"M 815.721875 52.075 \nL 835.721875 52.075 \nL 835.721875 45.075 \nL 815.721875 45.075 \nz\n\" style=\"fill:none;opacity:0.75;stroke:#2ca02c;stroke-linejoin:miter;\"/>\n    </g>\n    <g id=\"text_36\">\n     <!-- Different -->\n     <g transform=\"translate(843.721875 52.075)scale(0.1 -0.1)\">\n      <use xlink:href=\"#DejaVuSans-68\"/>\n      <use x=\"77.001953\" xlink:href=\"#DejaVuSans-105\"/>\n      <use x=\"104.785156\" xlink:href=\"#DejaVuSans-102\"/>\n      <use x=\"139.990234\" xlink:href=\"#DejaVuSans-102\"/>\n      <use x=\"175.195312\" xlink:href=\"#DejaVuSans-101\"/>\n      <use x=\"236.71875\" xlink:href=\"#DejaVuSans-114\"/>\n      <use x=\"275.582031\" xlink:href=\"#DejaVuSans-101\"/>\n      <use x=\"337.105469\" xlink:href=\"#DejaVuSans-110\"/>\n      <use x=\"400.484375\" xlink:href=\"#DejaVuSans-116\"/>\n     </g>\n    </g>\n   </g>\n  </g>\n </g>\n <defs>\n  <clipPath id=\"p6827b929ff\">\n   <rect height=\"407.7\" width=\"380.454545\" x=\"59.690625\" y=\"20.798437\"/>\n  </clipPath>\n  <clipPath id=\"pa75029fdea\">\n   <rect height=\"407.7\" width=\"380.454545\" x=\"516.23608\" y=\"20.798437\"/>\n  </clipPath>\n </defs>\n</svg>\n",
      "image/png": "[encoded data removed]"
     },
     "metadata": {
      "needs_background": "light"
     }
    },
    {
     "output_type": "display_data",
     "data": {
      "text/plain": "<Figure size 1080x540 with 2 Axes>",
      "image/svg+xml": "<?xml version=\"1.0\" encoding=\"utf-8\" standalone=\"no\"?>\n<!DOCTYPE svg PUBLIC \"-//W3C//DTD SVG 1.1//EN\"\n  \"http://www.w3.org/Graphics/SVG/1.1/DTD/svg11.dtd\">\n<!-- Created with matplotlib (https://matplotlib.org/) -->\n<svg height=\"466.332812pt\" version=\"1.1\" viewBox=\"0 0 903.890625 466.332812\" width=\"903.890625pt\" xmlns=\"http://www.w3.org/2000/svg\" xmlns:xlink=\"http://www.w3.org/1999/xlink\">\n <defs>\n  <style type=\"text/css\">\n*{stroke-linecap:butt;stroke-linejoin:round;}\n  </style>\n </defs>\n <g id=\"figure_1\">\n  <g id=\"patch_1\">\n   <path d=\"M 0 466.332812 \nL 903.890625 466.332812 \nL 903.890625 0 \nL 0 0 \nz\n\" style=\"fill:none;\"/>\n  </g>\n  <g id=\"axes_1\">\n   <g id=\"patch_2\">\n    <path d=\"M 59.690625 428.498437 \nL 440.14517 428.498437 \nL 440.14517 20.798437 \nL 59.690625 20.798437 \nz\n\" style=\"fill:#ffffff;\"/>\n   </g>\n   <g id=\"patch_3\">\n    <path clip-path=\"url(#pfd45dd9b90)\" d=\"M 76.984013 428.498437 \nL 76.984013 420.983506 \nL 83.901369 420.983506 \nL 83.901369 428.498437 \nL 90.818724 428.498437 \nL 90.818724 428.284945 \nL 97.73608 428.284945 \nL 97.73608 426.932827 \nL 104.653435 426.932827 \nL 104.653435 426.605472 \nL 111.57079 426.605472 \nL 111.57079 421.908639 \nL 118.488146 421.908639 \nL 118.488146 420.826945 \nL 125.405501 420.826945 \nL 125.405501 415.019952 \nL 132.322856 415.019952 \nL 132.322856 413.924024 \nL 139.240212 413.924024 \nL 139.240212 416.969849 \nL 146.157567 416.969849 \nL 146.157567 394.040767 \nL 153.074923 394.040767 \nL 153.074923 393.684946 \nL 159.992278 393.684946 \nL 159.992278 380.334556 \nL 166.909633 380.334556 \nL 166.909633 397.371248 \nL 173.826989 397.371248 \nL 173.826989 384.177419 \nL 180.744344 384.177419 \nL 180.744344 378.868575 \nL 187.661699 378.868575 \nL 187.661699 325.723204 \nL 194.579055 325.723204 \nL 194.579055 409.397986 \nL 201.49641 409.397986 \nL 201.49641 347.41403 \nL 208.413765 347.41403 \nL 208.413765 407.476554 \nL 215.331121 407.476554 \nL 215.331121 330.348872 \nL 222.248476 330.348872 \nL 222.248476 355.441344 \nL 229.165832 355.441344 \nL 229.165832 344.297041 \nL 236.083187 344.297041 \nL 236.083187 400.118183 \nL 243.000542 400.118183 \nL 243.000542 428.228014 \nL 249.917898 428.228014 \nL 249.917898 222.535219 \nL 256.835253 222.535219 \nL 256.835253 406.821844 \nL 263.752608 406.821844 \nL 263.752608 345.321805 \nL 270.669964 345.321805 \nL 270.669964 349.207366 \nL 277.587319 349.207366 \nL 277.587319 410.67894 \nL 284.504675 410.67894 \nL 284.504675 343.613866 \nL 291.42203 343.613866 \nL 291.42203 337.636079 \nL 298.339385 337.636079 \nL 298.339385 421.453189 \nL 305.256741 421.453189 \nL 305.256741 305.968042 \nL 312.174096 305.968042 \nL 312.174096 388.504198 \nL 319.091451 388.504198 \nL 319.091451 359.440768 \nL 326.008807 359.440768 \nL 326.008807 408.25936 \nL 332.926162 408.25936 \nL 332.926162 343.371908 \nL 339.843518 343.371908 \nL 339.843518 383.935461 \nL 346.760873 383.935461 \nL 346.760873 422.634513 \nL 353.678228 422.634513 \nL 353.678228 358.842989 \nL 360.595584 358.842989 \nL 360.595584 376.890212 \nL 367.512939 376.890212 \nL 367.512939 369.119089 \nL 374.430294 369.119089 \nL 374.430294 389.699755 \nL 381.34765 389.699755 \nL 381.34765 402.779722 \nL 388.265005 402.779722 \nL 388.265005 401.826122 \nL 395.182361 401.826122 \nL 395.182361 421.823242 \nL 402.099716 421.823242 \nL 402.099716 426.719334 \nL 409.017071 426.719334 \nL 409.017071 428.413041 \nL 415.934427 428.413041 \nL 415.934427 378.114235 \nL 422.851782 378.114235 \nL 422.851782 428.498437 \n\" style=\"fill:none;stroke:#d62728;stroke-linejoin:miter;\"/>\n   </g>\n   <g id=\"patch_4\">\n    <path clip-path=\"url(#pfd45dd9b90)\" d=\"M 76.984013 428.498437 \nL 76.984013 40.212723 \nL 83.901369 40.212723 \nL 83.901369 413.027356 \nL 90.818724 413.027356 \nL 90.818724 375.353067 \nL 97.73608 375.353067 \nL 97.73608 344.724026 \nL 104.653435 344.724026 \nL 104.653435 340.027194 \nL 111.57079 340.027194 \nL 111.57079 280.292025 \nL 118.488146 280.292025 \nL 118.488146 306.565821 \nL 125.405501 306.565821 \nL 125.405501 290.724686 \nL 132.322856 290.724686 \nL 132.322856 306.266932 \nL 139.240212 306.266932 \nL 139.240212 352.238958 \nL 146.157567 352.238958 \nL 146.157567 266.101898 \nL 153.074923 266.101898 \nL 153.074923 314.436573 \nL 159.992278 314.436573 \nL 159.992278 276.477628 \nL 166.909633 276.477628 \nL 166.909633 351.555782 \nL 173.826989 351.555782 \nL 173.826989 333.579724 \nL 180.744344 333.579724 \nL 180.744344 332.113743 \nL 187.661699 332.113743 \nL 187.661699 269.845131 \nL 194.579055 269.845131 \nL 194.579055 404.103374 \nL 201.49641 404.103374 \nL 201.49641 325.680506 \nL 208.413765 325.680506 \nL 208.413765 405.54089 \nL 215.331121 405.54089 \nL 215.331121 313.084455 \nL 222.248476 313.084455 \nL 222.248476 355.996424 \nL 229.165832 355.996424 \nL 229.165832 355.626371 \nL 236.083187 355.626371 \nL 236.083187 407.490787 \nL 243.000542 407.490787 \nL 243.000542 428.370342 \nL 249.917898 428.370342 \nL 249.917898 238.675243 \nL 256.835253 238.675243 \nL 256.835253 415.16228 \nL 263.752608 415.16228 \nL 263.752608 371.737929 \nL 270.669964 371.737929 \nL 270.669964 370.528139 \nL 277.587319 370.528139 \nL 277.587319 416.941383 \nL 284.504675 416.941383 \nL 284.504675 358.629497 \nL 291.42203 358.629497 \nL 291.42203 367.866601 \nL 298.339385 367.866601 \nL 298.339385 424.12896 \nL 305.256741 424.12896 \nL 305.256741 328.057387 \nL 312.174096 328.057387 \nL 312.174096 400.160882 \nL 319.091451 400.160882 \nL 319.091451 382.540644 \nL 326.008807 382.540644 \nL 326.008807 415.133814 \nL 332.926162 415.133814 \nL 332.926162 359.312672 \nL 339.843518 359.312672 \nL 339.843518 395.592145 \nL 346.760873 395.592145 \nL 346.760873 421.951338 \nL 353.678228 421.951338 \nL 353.678228 371.211315 \nL 360.595584 371.211315 \nL 360.595584 383.935461 \nL 367.512939 383.935461 \nL 367.512939 379.523285 \nL 374.430294 379.523285 \nL 374.430294 381.800537 \nL 381.34765 381.800537 \nL 381.34765 396.716538 \nL 388.265005 396.716538 \nL 388.265005 381.231224 \nL 395.182361 381.231224 \nL 395.182361 391.094572 \nL 402.099716 391.094572 \nL 402.099716 418.592391 \nL 409.017071 418.592391 \nL 409.017071 428.455739 \nL 415.934427 428.455739 \nL 415.934427 406.75068 \nL 422.851782 406.75068 \nL 422.851782 428.498437 \n\" style=\"fill:none;opacity:0.75;stroke:#2ca02c;stroke-linejoin:miter;\"/>\n   </g>\n   <g id=\"matplotlib.axis_1\">\n    <g id=\"xtick_1\">\n     <g id=\"line2d_1\">\n      <defs>\n       <path d=\"M 0 0 \nL 0 3.5 \n\" id=\"m9ad4497b20\" style=\"stroke:#000000;stroke-width:0.8;\"/>\n      </defs>\n      <g>\n       <use style=\"stroke:#000000;stroke-width:0.8;\" x=\"76.984013\" xlink:href=\"#m9ad4497b20\" y=\"428.498437\"/>\n      </g>\n     </g>\n     <g id=\"text_1\">\n      <!-- 0.0 -->\n      <defs>\n       <path d=\"M 31.78125 66.40625 \nQ 24.171875 66.40625 20.328125 58.90625 \nQ 16.5 51.421875 16.5 36.375 \nQ 16.5 21.390625 20.328125 13.890625 \nQ 24.171875 6.390625 31.78125 6.390625 \nQ 39.453125 6.390625 43.28125 13.890625 \nQ 47.125 21.390625 47.125 36.375 \nQ 47.125 51.421875 43.28125 58.90625 \nQ 39.453125 66.40625 31.78125 66.40625 \nz\nM 31.78125 74.21875 \nQ 44.046875 74.21875 50.515625 64.515625 \nQ 56.984375 54.828125 56.984375 36.375 \nQ 56.984375 17.96875 50.515625 8.265625 \nQ 44.046875 -1.421875 31.78125 -1.421875 \nQ 19.53125 -1.421875 13.0625 8.265625 \nQ 6.59375 17.96875 6.59375 36.375 \nQ 6.59375 54.828125 13.0625 64.515625 \nQ 19.53125 74.21875 31.78125 74.21875 \nz\n\" id=\"DejaVuSans-48\"/>\n       <path d=\"M 10.6875 12.40625 \nL 21 12.40625 \nL 21 0 \nL 10.6875 0 \nz\n\" id=\"DejaVuSans-46\"/>\n      </defs>\n      <g transform=\"translate(69.032451 443.096875)scale(0.1 -0.1)\">\n       <use xlink:href=\"#DejaVuSans-48\"/>\n       <use x=\"63.623047\" xlink:href=\"#DejaVuSans-46\"/>\n       <use x=\"95.410156\" xlink:href=\"#DejaVuSans-48\"/>\n      </g>\n     </g>\n    </g>\n    <g id=\"xtick_2\">\n     <g id=\"line2d_2\">\n      <g>\n       <use style=\"stroke:#000000;stroke-width:0.8;\" x=\"146.157567\" xlink:href=\"#m9ad4497b20\" y=\"428.498437\"/>\n      </g>\n     </g>\n     <g id=\"text_2\">\n      <!-- 0.2 -->\n      <defs>\n       <path d=\"M 19.1875 8.296875 \nL 53.609375 8.296875 \nL 53.609375 0 \nL 7.328125 0 \nL 7.328125 8.296875 \nQ 12.9375 14.109375 22.625 23.890625 \nQ 32.328125 33.6875 34.8125 36.53125 \nQ 39.546875 41.84375 41.421875 45.53125 \nQ 43.3125 49.21875 43.3125 52.78125 \nQ 43.3125 58.59375 39.234375 62.25 \nQ 35.15625 65.921875 28.609375 65.921875 \nQ 23.96875 65.921875 18.8125 64.3125 \nQ 13.671875 62.703125 7.8125 59.421875 \nL 7.8125 69.390625 \nQ 13.765625 71.78125 18.9375 73 \nQ 24.125 74.21875 28.421875 74.21875 \nQ 39.75 74.21875 46.484375 68.546875 \nQ 53.21875 62.890625 53.21875 53.421875 \nQ 53.21875 48.921875 51.53125 44.890625 \nQ 49.859375 40.875 45.40625 35.40625 \nQ 44.1875 33.984375 37.640625 27.21875 \nQ 31.109375 20.453125 19.1875 8.296875 \nz\n\" id=\"DejaVuSans-50\"/>\n      </defs>\n      <g transform=\"translate(138.206005 443.096875)scale(0.1 -0.1)\">\n       <use xlink:href=\"#DejaVuSans-48\"/>\n       <use x=\"63.623047\" xlink:href=\"#DejaVuSans-46\"/>\n       <use x=\"95.410156\" xlink:href=\"#DejaVuSans-50\"/>\n      </g>\n     </g>\n    </g>\n    <g id=\"xtick_3\">\n     <g id=\"line2d_3\">\n      <g>\n       <use style=\"stroke:#000000;stroke-width:0.8;\" x=\"215.331121\" xlink:href=\"#m9ad4497b20\" y=\"428.498437\"/>\n      </g>\n     </g>\n     <g id=\"text_3\">\n      <!-- 0.4 -->\n      <defs>\n       <path d=\"M 37.796875 64.3125 \nL 12.890625 25.390625 \nL 37.796875 25.390625 \nz\nM 35.203125 72.90625 \nL 47.609375 72.90625 \nL 47.609375 25.390625 \nL 58.015625 25.390625 \nL 58.015625 17.1875 \nL 47.609375 17.1875 \nL 47.609375 0 \nL 37.796875 0 \nL 37.796875 17.1875 \nL 4.890625 17.1875 \nL 4.890625 26.703125 \nz\n\" id=\"DejaVuSans-52\"/>\n      </defs>\n      <g transform=\"translate(207.379558 443.096875)scale(0.1 -0.1)\">\n       <use xlink:href=\"#DejaVuSans-48\"/>\n       <use x=\"63.623047\" xlink:href=\"#DejaVuSans-46\"/>\n       <use x=\"95.410156\" xlink:href=\"#DejaVuSans-52\"/>\n      </g>\n     </g>\n    </g>\n    <g id=\"xtick_4\">\n     <g id=\"line2d_4\">\n      <g>\n       <use style=\"stroke:#000000;stroke-width:0.8;\" x=\"284.504675\" xlink:href=\"#m9ad4497b20\" y=\"428.498437\"/>\n      </g>\n     </g>\n     <g id=\"text_4\">\n      <!-- 0.6 -->\n      <defs>\n       <path d=\"M 33.015625 40.375 \nQ 26.375 40.375 22.484375 35.828125 \nQ 18.609375 31.296875 18.609375 23.390625 \nQ 18.609375 15.53125 22.484375 10.953125 \nQ 26.375 6.390625 33.015625 6.390625 \nQ 39.65625 6.390625 43.53125 10.953125 \nQ 47.40625 15.53125 47.40625 23.390625 \nQ 47.40625 31.296875 43.53125 35.828125 \nQ 39.65625 40.375 33.015625 40.375 \nz\nM 52.59375 71.296875 \nL 52.59375 62.3125 \nQ 48.875 64.0625 45.09375 64.984375 \nQ 41.3125 65.921875 37.59375 65.921875 \nQ 27.828125 65.921875 22.671875 59.328125 \nQ 17.53125 52.734375 16.796875 39.40625 \nQ 19.671875 43.65625 24.015625 45.921875 \nQ 28.375 48.1875 33.59375 48.1875 \nQ 44.578125 48.1875 50.953125 41.515625 \nQ 57.328125 34.859375 57.328125 23.390625 \nQ 57.328125 12.15625 50.6875 5.359375 \nQ 44.046875 -1.421875 33.015625 -1.421875 \nQ 20.359375 -1.421875 13.671875 8.265625 \nQ 6.984375 17.96875 6.984375 36.375 \nQ 6.984375 53.65625 15.1875 63.9375 \nQ 23.390625 74.21875 37.203125 74.21875 \nQ 40.921875 74.21875 44.703125 73.484375 \nQ 48.484375 72.75 52.59375 71.296875 \nz\n\" id=\"DejaVuSans-54\"/>\n      </defs>\n      <g transform=\"translate(276.553112 443.096875)scale(0.1 -0.1)\">\n       <use xlink:href=\"#DejaVuSans-48\"/>\n       <use x=\"63.623047\" xlink:href=\"#DejaVuSans-46\"/>\n       <use x=\"95.410156\" xlink:href=\"#DejaVuSans-54\"/>\n      </g>\n     </g>\n    </g>\n    <g id=\"xtick_5\">\n     <g id=\"line2d_5\">\n      <g>\n       <use style=\"stroke:#000000;stroke-width:0.8;\" x=\"353.678228\" xlink:href=\"#m9ad4497b20\" y=\"428.498437\"/>\n      </g>\n     </g>\n     <g id=\"text_5\">\n      <!-- 0.8 -->\n      <defs>\n       <path d=\"M 31.78125 34.625 \nQ 24.75 34.625 20.71875 30.859375 \nQ 16.703125 27.09375 16.703125 20.515625 \nQ 16.703125 13.921875 20.71875 10.15625 \nQ 24.75 6.390625 31.78125 6.390625 \nQ 38.8125 6.390625 42.859375 10.171875 \nQ 46.921875 13.96875 46.921875 20.515625 \nQ 46.921875 27.09375 42.890625 30.859375 \nQ 38.875 34.625 31.78125 34.625 \nz\nM 21.921875 38.8125 \nQ 15.578125 40.375 12.03125 44.71875 \nQ 8.5 49.078125 8.5 55.328125 \nQ 8.5 64.0625 14.71875 69.140625 \nQ 20.953125 74.21875 31.78125 74.21875 \nQ 42.671875 74.21875 48.875 69.140625 \nQ 55.078125 64.0625 55.078125 55.328125 \nQ 55.078125 49.078125 51.53125 44.71875 \nQ 48 40.375 41.703125 38.8125 \nQ 48.828125 37.15625 52.796875 32.3125 \nQ 56.78125 27.484375 56.78125 20.515625 \nQ 56.78125 9.90625 50.3125 4.234375 \nQ 43.84375 -1.421875 31.78125 -1.421875 \nQ 19.734375 -1.421875 13.25 4.234375 \nQ 6.78125 9.90625 6.78125 20.515625 \nQ 6.78125 27.484375 10.78125 32.3125 \nQ 14.796875 37.15625 21.921875 38.8125 \nz\nM 18.3125 54.390625 \nQ 18.3125 48.734375 21.84375 45.5625 \nQ 25.390625 42.390625 31.78125 42.390625 \nQ 38.140625 42.390625 41.71875 45.5625 \nQ 45.3125 48.734375 45.3125 54.390625 \nQ 45.3125 60.0625 41.71875 63.234375 \nQ 38.140625 66.40625 31.78125 66.40625 \nQ 25.390625 66.40625 21.84375 63.234375 \nQ 18.3125 60.0625 18.3125 54.390625 \nz\n\" id=\"DejaVuSans-56\"/>\n      </defs>\n      <g transform=\"translate(345.726666 443.096875)scale(0.1 -0.1)\">\n       <use xlink:href=\"#DejaVuSans-48\"/>\n       <use x=\"63.623047\" xlink:href=\"#DejaVuSans-46\"/>\n       <use x=\"95.410156\" xlink:href=\"#DejaVuSans-56\"/>\n      </g>\n     </g>\n    </g>\n    <g id=\"xtick_6\">\n     <g id=\"line2d_6\">\n      <g>\n       <use style=\"stroke:#000000;stroke-width:0.8;\" x=\"422.851782\" xlink:href=\"#m9ad4497b20\" y=\"428.498437\"/>\n      </g>\n     </g>\n     <g id=\"text_6\">\n      <!-- 1.0 -->\n      <defs>\n       <path d=\"M 12.40625 8.296875 \nL 28.515625 8.296875 \nL 28.515625 63.921875 \nL 10.984375 60.40625 \nL 10.984375 69.390625 \nL 28.421875 72.90625 \nL 38.28125 72.90625 \nL 38.28125 8.296875 \nL 54.390625 8.296875 \nL 54.390625 0 \nL 12.40625 0 \nz\n\" id=\"DejaVuSans-49\"/>\n      </defs>\n      <g transform=\"translate(414.90022 443.096875)scale(0.1 -0.1)\">\n       <use xlink:href=\"#DejaVuSans-49\"/>\n       <use x=\"63.623047\" xlink:href=\"#DejaVuSans-46\"/>\n       <use x=\"95.410156\" xlink:href=\"#DejaVuSans-48\"/>\n      </g>\n     </g>\n    </g>\n    <g id=\"text_7\">\n     <!-- nb_common_words/nb_words_question2 -->\n     <defs>\n      <path d=\"M 54.890625 33.015625 \nL 54.890625 0 \nL 45.90625 0 \nL 45.90625 32.71875 \nQ 45.90625 40.484375 42.875 44.328125 \nQ 39.84375 48.1875 33.796875 48.1875 \nQ 26.515625 48.1875 22.3125 43.546875 \nQ 18.109375 38.921875 18.109375 30.90625 \nL 18.109375 0 \nL 9.078125 0 \nL 9.078125 54.6875 \nL 18.109375 54.6875 \nL 18.109375 46.1875 \nQ 21.34375 51.125 25.703125 53.5625 \nQ 30.078125 56 35.796875 56 \nQ 45.21875 56 50.046875 50.171875 \nQ 54.890625 44.34375 54.890625 33.015625 \nz\n\" id=\"DejaVuSans-110\"/>\n      <path d=\"M 48.6875 27.296875 \nQ 48.6875 37.203125 44.609375 42.84375 \nQ 40.53125 48.484375 33.40625 48.484375 \nQ 26.265625 48.484375 22.1875 42.84375 \nQ 18.109375 37.203125 18.109375 27.296875 \nQ 18.109375 17.390625 22.1875 11.75 \nQ 26.265625 6.109375 33.40625 6.109375 \nQ 40.53125 6.109375 44.609375 11.75 \nQ 48.6875 17.390625 48.6875 27.296875 \nz\nM 18.109375 46.390625 \nQ 20.953125 51.265625 25.265625 53.625 \nQ 29.59375 56 35.59375 56 \nQ 45.5625 56 51.78125 48.09375 \nQ 58.015625 40.1875 58.015625 27.296875 \nQ 58.015625 14.40625 51.78125 6.484375 \nQ 45.5625 -1.421875 35.59375 -1.421875 \nQ 29.59375 -1.421875 25.265625 0.953125 \nQ 20.953125 3.328125 18.109375 8.203125 \nL 18.109375 0 \nL 9.078125 0 \nL 9.078125 75.984375 \nL 18.109375 75.984375 \nz\n\" id=\"DejaVuSans-98\"/>\n      <path d=\"M 50.984375 -16.609375 \nL 50.984375 -23.578125 \nL -0.984375 -23.578125 \nL -0.984375 -16.609375 \nz\n\" id=\"DejaVuSans-95\"/>\n      <path d=\"M 48.78125 52.59375 \nL 48.78125 44.1875 \nQ 44.96875 46.296875 41.140625 47.34375 \nQ 37.3125 48.390625 33.40625 48.390625 \nQ 24.65625 48.390625 19.8125 42.84375 \nQ 14.984375 37.3125 14.984375 27.296875 \nQ 14.984375 17.28125 19.8125 11.734375 \nQ 24.65625 6.203125 33.40625 6.203125 \nQ 37.3125 6.203125 41.140625 7.25 \nQ 44.96875 8.296875 48.78125 10.40625 \nL 48.78125 2.09375 \nQ 45.015625 0.34375 40.984375 -0.53125 \nQ 36.96875 -1.421875 32.421875 -1.421875 \nQ 20.0625 -1.421875 12.78125 6.34375 \nQ 5.515625 14.109375 5.515625 27.296875 \nQ 5.515625 40.671875 12.859375 48.328125 \nQ 20.21875 56 33.015625 56 \nQ 37.15625 56 41.109375 55.140625 \nQ 45.0625 54.296875 48.78125 52.59375 \nz\n\" id=\"DejaVuSans-99\"/>\n      <path d=\"M 30.609375 48.390625 \nQ 23.390625 48.390625 19.1875 42.75 \nQ 14.984375 37.109375 14.984375 27.296875 \nQ 14.984375 17.484375 19.15625 11.84375 \nQ 23.34375 6.203125 30.609375 6.203125 \nQ 37.796875 6.203125 41.984375 11.859375 \nQ 46.1875 17.53125 46.1875 27.296875 \nQ 46.1875 37.015625 41.984375 42.703125 \nQ 37.796875 48.390625 30.609375 48.390625 \nz\nM 30.609375 56 \nQ 42.328125 56 49.015625 48.375 \nQ 55.71875 40.765625 55.71875 27.296875 \nQ 55.71875 13.875 49.015625 6.21875 \nQ 42.328125 -1.421875 30.609375 -1.421875 \nQ 18.84375 -1.421875 12.171875 6.21875 \nQ 5.515625 13.875 5.515625 27.296875 \nQ 5.515625 40.765625 12.171875 48.375 \nQ 18.84375 56 30.609375 56 \nz\n\" id=\"DejaVuSans-111\"/>\n      <path d=\"M 52 44.1875 \nQ 55.375 50.25 60.0625 53.125 \nQ 64.75 56 71.09375 56 \nQ 79.640625 56 84.28125 50.015625 \nQ 88.921875 44.046875 88.921875 33.015625 \nL 88.921875 0 \nL 79.890625 0 \nL 79.890625 32.71875 \nQ 79.890625 40.578125 77.09375 44.375 \nQ 74.3125 48.1875 68.609375 48.1875 \nQ 61.625 48.1875 57.5625 43.546875 \nQ 53.515625 38.921875 53.515625 30.90625 \nL 53.515625 0 \nL 44.484375 0 \nL 44.484375 32.71875 \nQ 44.484375 40.625 41.703125 44.40625 \nQ 38.921875 48.1875 33.109375 48.1875 \nQ 26.21875 48.1875 22.15625 43.53125 \nQ 18.109375 38.875 18.109375 30.90625 \nL 18.109375 0 \nL 9.078125 0 \nL 9.078125 54.6875 \nL 18.109375 54.6875 \nL 18.109375 46.1875 \nQ 21.1875 51.21875 25.484375 53.609375 \nQ 29.78125 56 35.6875 56 \nQ 41.65625 56 45.828125 52.96875 \nQ 50 49.953125 52 44.1875 \nz\n\" id=\"DejaVuSans-109\"/>\n      <path d=\"M 4.203125 54.6875 \nL 13.1875 54.6875 \nL 24.421875 12.015625 \nL 35.59375 54.6875 \nL 46.1875 54.6875 \nL 57.421875 12.015625 \nL 68.609375 54.6875 \nL 77.59375 54.6875 \nL 63.28125 0 \nL 52.6875 0 \nL 40.921875 44.828125 \nL 29.109375 0 \nL 18.5 0 \nz\n\" id=\"DejaVuSans-119\"/>\n      <path d=\"M 41.109375 46.296875 \nQ 39.59375 47.171875 37.8125 47.578125 \nQ 36.03125 48 33.890625 48 \nQ 26.265625 48 22.1875 43.046875 \nQ 18.109375 38.09375 18.109375 28.8125 \nL 18.109375 0 \nL 9.078125 0 \nL 9.078125 54.6875 \nL 18.109375 54.6875 \nL 18.109375 46.1875 \nQ 20.953125 51.171875 25.484375 53.578125 \nQ 30.03125 56 36.53125 56 \nQ 37.453125 56 38.578125 55.875 \nQ 39.703125 55.765625 41.0625 55.515625 \nz\n\" id=\"DejaVuSans-114\"/>\n      <path d=\"M 45.40625 46.390625 \nL 45.40625 75.984375 \nL 54.390625 75.984375 \nL 54.390625 0 \nL 45.40625 0 \nL 45.40625 8.203125 \nQ 42.578125 3.328125 38.25 0.953125 \nQ 33.9375 -1.421875 27.875 -1.421875 \nQ 17.96875 -1.421875 11.734375 6.484375 \nQ 5.515625 14.40625 5.515625 27.296875 \nQ 5.515625 40.1875 11.734375 48.09375 \nQ 17.96875 56 27.875 56 \nQ 33.9375 56 38.25 53.625 \nQ 42.578125 51.265625 45.40625 46.390625 \nz\nM 14.796875 27.296875 \nQ 14.796875 17.390625 18.875 11.75 \nQ 22.953125 6.109375 30.078125 6.109375 \nQ 37.203125 6.109375 41.296875 11.75 \nQ 45.40625 17.390625 45.40625 27.296875 \nQ 45.40625 37.203125 41.296875 42.84375 \nQ 37.203125 48.484375 30.078125 48.484375 \nQ 22.953125 48.484375 18.875 42.84375 \nQ 14.796875 37.203125 14.796875 27.296875 \nz\n\" id=\"DejaVuSans-100\"/>\n      <path d=\"M 44.28125 53.078125 \nL 44.28125 44.578125 \nQ 40.484375 46.53125 36.375 47.5 \nQ 32.28125 48.484375 27.875 48.484375 \nQ 21.1875 48.484375 17.84375 46.4375 \nQ 14.5 44.390625 14.5 40.28125 \nQ 14.5 37.15625 16.890625 35.375 \nQ 19.28125 33.59375 26.515625 31.984375 \nL 29.59375 31.296875 \nQ 39.15625 29.25 43.1875 25.515625 \nQ 47.21875 21.78125 47.21875 15.09375 \nQ 47.21875 7.46875 41.1875 3.015625 \nQ 35.15625 -1.421875 24.609375 -1.421875 \nQ 20.21875 -1.421875 15.453125 -0.5625 \nQ 10.6875 0.296875 5.421875 2 \nL 5.421875 11.28125 \nQ 10.40625 8.6875 15.234375 7.390625 \nQ 20.0625 6.109375 24.8125 6.109375 \nQ 31.15625 6.109375 34.5625 8.28125 \nQ 37.984375 10.453125 37.984375 14.40625 \nQ 37.984375 18.0625 35.515625 20.015625 \nQ 33.0625 21.96875 24.703125 23.78125 \nL 21.578125 24.515625 \nQ 13.234375 26.265625 9.515625 29.90625 \nQ 5.8125 33.546875 5.8125 39.890625 \nQ 5.8125 47.609375 11.28125 51.796875 \nQ 16.75 56 26.8125 56 \nQ 31.78125 56 36.171875 55.265625 \nQ 40.578125 54.546875 44.28125 53.078125 \nz\n\" id=\"DejaVuSans-115\"/>\n      <path d=\"M 25.390625 72.90625 \nL 33.6875 72.90625 \nL 8.296875 -9.28125 \nL 0 -9.28125 \nz\n\" id=\"DejaVuSans-47\"/>\n      <path d=\"M 14.796875 27.296875 \nQ 14.796875 17.390625 18.875 11.75 \nQ 22.953125 6.109375 30.078125 6.109375 \nQ 37.203125 6.109375 41.296875 11.75 \nQ 45.40625 17.390625 45.40625 27.296875 \nQ 45.40625 37.203125 41.296875 42.84375 \nQ 37.203125 48.484375 30.078125 48.484375 \nQ 22.953125 48.484375 18.875 42.84375 \nQ 14.796875 37.203125 14.796875 27.296875 \nz\nM 45.40625 8.203125 \nQ 42.578125 3.328125 38.25 0.953125 \nQ 33.9375 -1.421875 27.875 -1.421875 \nQ 17.96875 -1.421875 11.734375 6.484375 \nQ 5.515625 14.40625 5.515625 27.296875 \nQ 5.515625 40.1875 11.734375 48.09375 \nQ 17.96875 56 27.875 56 \nQ 33.9375 56 38.25 53.625 \nQ 42.578125 51.265625 45.40625 46.390625 \nL 45.40625 54.6875 \nL 54.390625 54.6875 \nL 54.390625 -20.796875 \nL 45.40625 -20.796875 \nz\n\" id=\"DejaVuSans-113\"/>\n      <path d=\"M 8.5 21.578125 \nL 8.5 54.6875 \nL 17.484375 54.6875 \nL 17.484375 21.921875 \nQ 17.484375 14.15625 20.5 10.265625 \nQ 23.53125 6.390625 29.59375 6.390625 \nQ 36.859375 6.390625 41.078125 11.03125 \nQ 45.3125 15.671875 45.3125 23.6875 \nL 45.3125 54.6875 \nL 54.296875 54.6875 \nL 54.296875 0 \nL 45.3125 0 \nL 45.3125 8.40625 \nQ 42.046875 3.421875 37.71875 1 \nQ 33.40625 -1.421875 27.6875 -1.421875 \nQ 18.265625 -1.421875 13.375 4.4375 \nQ 8.5 10.296875 8.5 21.578125 \nz\nM 31.109375 56 \nz\n\" id=\"DejaVuSans-117\"/>\n      <path d=\"M 56.203125 29.59375 \nL 56.203125 25.203125 \nL 14.890625 25.203125 \nQ 15.484375 15.921875 20.484375 11.0625 \nQ 25.484375 6.203125 34.421875 6.203125 \nQ 39.59375 6.203125 44.453125 7.46875 \nQ 49.3125 8.734375 54.109375 11.28125 \nL 54.109375 2.78125 \nQ 49.265625 0.734375 44.1875 -0.34375 \nQ 39.109375 -1.421875 33.890625 -1.421875 \nQ 20.796875 -1.421875 13.15625 6.1875 \nQ 5.515625 13.8125 5.515625 26.8125 \nQ 5.515625 40.234375 12.765625 48.109375 \nQ 20.015625 56 32.328125 56 \nQ 43.359375 56 49.78125 48.890625 \nQ 56.203125 41.796875 56.203125 29.59375 \nz\nM 47.21875 32.234375 \nQ 47.125 39.59375 43.09375 43.984375 \nQ 39.0625 48.390625 32.421875 48.390625 \nQ 24.90625 48.390625 20.390625 44.140625 \nQ 15.875 39.890625 15.1875 32.171875 \nz\n\" id=\"DejaVuSans-101\"/>\n      <path d=\"M 18.3125 70.21875 \nL 18.3125 54.6875 \nL 36.8125 54.6875 \nL 36.8125 47.703125 \nL 18.3125 47.703125 \nL 18.3125 18.015625 \nQ 18.3125 11.328125 20.140625 9.421875 \nQ 21.96875 7.515625 27.59375 7.515625 \nL 36.8125 7.515625 \nL 36.8125 0 \nL 27.59375 0 \nQ 17.1875 0 13.234375 3.875 \nQ 9.28125 7.765625 9.28125 18.015625 \nL 9.28125 47.703125 \nL 2.6875 47.703125 \nL 2.6875 54.6875 \nL 9.28125 54.6875 \nL 9.28125 70.21875 \nz\n\" id=\"DejaVuSans-116\"/>\n      <path d=\"M 9.421875 54.6875 \nL 18.40625 54.6875 \nL 18.40625 0 \nL 9.421875 0 \nz\nM 9.421875 75.984375 \nL 18.40625 75.984375 \nL 18.40625 64.59375 \nL 9.421875 64.59375 \nz\n\" id=\"DejaVuSans-105\"/>\n     </defs>\n     <g transform=\"translate(149.196804 456.775)scale(0.1 -0.1)\">\n      <use xlink:href=\"#DejaVuSans-110\"/>\n      <use x=\"63.378906\" xlink:href=\"#DejaVuSans-98\"/>\n      <use x=\"126.855469\" xlink:href=\"#DejaVuSans-95\"/>\n      <use x=\"176.855469\" xlink:href=\"#DejaVuSans-99\"/>\n      <use x=\"231.835938\" xlink:href=\"#DejaVuSans-111\"/>\n      <use x=\"293.017578\" xlink:href=\"#DejaVuSans-109\"/>\n      <use x=\"390.429688\" xlink:href=\"#DejaVuSans-109\"/>\n      <use x=\"487.841797\" xlink:href=\"#DejaVuSans-111\"/>\n      <use x=\"549.023438\" xlink:href=\"#DejaVuSans-110\"/>\n      <use x=\"612.402344\" xlink:href=\"#DejaVuSans-95\"/>\n      <use x=\"662.402344\" xlink:href=\"#DejaVuSans-119\"/>\n      <use x=\"744.189453\" xlink:href=\"#DejaVuSans-111\"/>\n      <use x=\"805.371094\" xlink:href=\"#DejaVuSans-114\"/>\n      <use x=\"844.734375\" xlink:href=\"#DejaVuSans-100\"/>\n      <use x=\"908.210938\" xlink:href=\"#DejaVuSans-115\"/>\n      <use x=\"960.310547\" xlink:href=\"#DejaVuSans-47\"/>\n      <use x=\"994.001953\" xlink:href=\"#DejaVuSans-110\"/>\n      <use x=\"1057.380859\" xlink:href=\"#DejaVuSans-98\"/>\n      <use x=\"1120.857422\" xlink:href=\"#DejaVuSans-95\"/>\n      <use x=\"1170.857422\" xlink:href=\"#DejaVuSans-119\"/>\n      <use x=\"1252.644531\" xlink:href=\"#DejaVuSans-111\"/>\n      <use x=\"1313.826172\" xlink:href=\"#DejaVuSans-114\"/>\n      <use x=\"1353.189453\" xlink:href=\"#DejaVuSans-100\"/>\n      <use x=\"1416.666016\" xlink:href=\"#DejaVuSans-115\"/>\n      <use x=\"1468.765625\" xlink:href=\"#DejaVuSans-95\"/>\n      <use x=\"1518.765625\" xlink:href=\"#DejaVuSans-113\"/>\n      <use x=\"1582.242188\" xlink:href=\"#DejaVuSans-117\"/>\n      <use x=\"1645.621094\" xlink:href=\"#DejaVuSans-101\"/>\n      <use x=\"1707.144531\" xlink:href=\"#DejaVuSans-115\"/>\n      <use x=\"1759.244141\" xlink:href=\"#DejaVuSans-116\"/>\n      <use x=\"1798.453125\" xlink:href=\"#DejaVuSans-105\"/>\n      <use x=\"1826.236328\" xlink:href=\"#DejaVuSans-111\"/>\n      <use x=\"1887.417969\" xlink:href=\"#DejaVuSans-110\"/>\n      <use x=\"1950.796875\" xlink:href=\"#DejaVuSans-50\"/>\n     </g>\n    </g>\n   </g>\n   <g id=\"matplotlib.axis_2\">\n    <g id=\"ytick_1\">\n     <g id=\"line2d_7\">\n      <defs>\n       <path d=\"M 0 0 \nL -3.5 0 \n\" id=\"mbee3f8d72d\" style=\"stroke:#000000;stroke-width:0.8;\"/>\n      </defs>\n      <g>\n       <use style=\"stroke:#000000;stroke-width:0.8;\" x=\"59.690625\" xlink:href=\"#mbee3f8d72d\" y=\"428.498437\"/>\n      </g>\n     </g>\n     <g id=\"text_8\">\n      <!-- 0 -->\n      <g transform=\"translate(46.328125 432.297656)scale(0.1 -0.1)\">\n       <use xlink:href=\"#DejaVuSans-48\"/>\n      </g>\n     </g>\n    </g>\n    <g id=\"ytick_2\">\n     <g id=\"line2d_8\">\n      <g>\n       <use style=\"stroke:#000000;stroke-width:0.8;\" x=\"59.690625\" xlink:href=\"#mbee3f8d72d\" y=\"357.33431\"/>\n      </g>\n     </g>\n     <g id=\"text_9\">\n      <!-- 5000 -->\n      <defs>\n       <path d=\"M 10.796875 72.90625 \nL 49.515625 72.90625 \nL 49.515625 64.59375 \nL 19.828125 64.59375 \nL 19.828125 46.734375 \nQ 21.96875 47.46875 24.109375 47.828125 \nQ 26.265625 48.1875 28.421875 48.1875 \nQ 40.625 48.1875 47.75 41.5 \nQ 54.890625 34.8125 54.890625 23.390625 \nQ 54.890625 11.625 47.5625 5.09375 \nQ 40.234375 -1.421875 26.90625 -1.421875 \nQ 22.3125 -1.421875 17.546875 -0.640625 \nQ 12.796875 0.140625 7.71875 1.703125 \nL 7.71875 11.625 \nQ 12.109375 9.234375 16.796875 8.0625 \nQ 21.484375 6.890625 26.703125 6.890625 \nQ 35.15625 6.890625 40.078125 11.328125 \nQ 45.015625 15.765625 45.015625 23.390625 \nQ 45.015625 31 40.078125 35.4375 \nQ 35.15625 39.890625 26.703125 39.890625 \nQ 22.75 39.890625 18.8125 39.015625 \nQ 14.890625 38.140625 10.796875 36.28125 \nz\n\" id=\"DejaVuSans-53\"/>\n      </defs>\n      <g transform=\"translate(27.240625 361.133528)scale(0.1 -0.1)\">\n       <use xlink:href=\"#DejaVuSans-53\"/>\n       <use x=\"63.623047\" xlink:href=\"#DejaVuSans-48\"/>\n       <use x=\"127.246094\" xlink:href=\"#DejaVuSans-48\"/>\n       <use x=\"190.869141\" xlink:href=\"#DejaVuSans-48\"/>\n      </g>\n     </g>\n    </g>\n    <g id=\"ytick_3\">\n     <g id=\"line2d_9\">\n      <g>\n       <use style=\"stroke:#000000;stroke-width:0.8;\" x=\"59.690625\" xlink:href=\"#mbee3f8d72d\" y=\"286.170182\"/>\n      </g>\n     </g>\n     <g id=\"text_10\">\n      <!-- 10000 -->\n      <g transform=\"translate(20.878125 289.969401)scale(0.1 -0.1)\">\n       <use xlink:href=\"#DejaVuSans-49\"/>\n       <use x=\"63.623047\" xlink:href=\"#DejaVuSans-48\"/>\n       <use x=\"127.246094\" xlink:href=\"#DejaVuSans-48\"/>\n       <use x=\"190.869141\" xlink:href=\"#DejaVuSans-48\"/>\n       <use x=\"254.492188\" xlink:href=\"#DejaVuSans-48\"/>\n      </g>\n     </g>\n    </g>\n    <g id=\"ytick_4\">\n     <g id=\"line2d_10\">\n      <g>\n       <use style=\"stroke:#000000;stroke-width:0.8;\" x=\"59.690625\" xlink:href=\"#mbee3f8d72d\" y=\"215.006054\"/>\n      </g>\n     </g>\n     <g id=\"text_11\">\n      <!-- 15000 -->\n      <g transform=\"translate(20.878125 218.805273)scale(0.1 -0.1)\">\n       <use xlink:href=\"#DejaVuSans-49\"/>\n       <use x=\"63.623047\" xlink:href=\"#DejaVuSans-53\"/>\n       <use x=\"127.246094\" xlink:href=\"#DejaVuSans-48\"/>\n       <use x=\"190.869141\" xlink:href=\"#DejaVuSans-48\"/>\n       <use x=\"254.492188\" xlink:href=\"#DejaVuSans-48\"/>\n      </g>\n     </g>\n    </g>\n    <g id=\"ytick_5\">\n     <g id=\"line2d_11\">\n      <g>\n       <use style=\"stroke:#000000;stroke-width:0.8;\" x=\"59.690625\" xlink:href=\"#mbee3f8d72d\" y=\"143.841926\"/>\n      </g>\n     </g>\n     <g id=\"text_12\">\n      <!-- 20000 -->\n      <g transform=\"translate(20.878125 147.641145)scale(0.1 -0.1)\">\n       <use xlink:href=\"#DejaVuSans-50\"/>\n       <use x=\"63.623047\" xlink:href=\"#DejaVuSans-48\"/>\n       <use x=\"127.246094\" xlink:href=\"#DejaVuSans-48\"/>\n       <use x=\"190.869141\" xlink:href=\"#DejaVuSans-48\"/>\n       <use x=\"254.492188\" xlink:href=\"#DejaVuSans-48\"/>\n      </g>\n     </g>\n    </g>\n    <g id=\"ytick_6\">\n     <g id=\"line2d_12\">\n      <g>\n       <use style=\"stroke:#000000;stroke-width:0.8;\" x=\"59.690625\" xlink:href=\"#mbee3f8d72d\" y=\"72.677798\"/>\n      </g>\n     </g>\n     <g id=\"text_13\">\n      <!-- 25000 -->\n      <g transform=\"translate(20.878125 76.477017)scale(0.1 -0.1)\">\n       <use xlink:href=\"#DejaVuSans-50\"/>\n       <use x=\"63.623047\" xlink:href=\"#DejaVuSans-53\"/>\n       <use x=\"127.246094\" xlink:href=\"#DejaVuSans-48\"/>\n       <use x=\"190.869141\" xlink:href=\"#DejaVuSans-48\"/>\n       <use x=\"254.492188\" xlink:href=\"#DejaVuSans-48\"/>\n      </g>\n     </g>\n    </g>\n    <g id=\"text_14\">\n     <!-- Nb -->\n     <defs>\n      <path d=\"M 9.8125 72.90625 \nL 23.09375 72.90625 \nL 55.421875 11.921875 \nL 55.421875 72.90625 \nL 64.984375 72.90625 \nL 64.984375 0 \nL 51.703125 0 \nL 19.390625 60.984375 \nL 19.390625 0 \nL 9.8125 0 \nz\n\" id=\"DejaVuSans-78\"/>\n     </defs>\n     <g transform=\"translate(14.798438 231.563281)rotate(-90)scale(0.1 -0.1)\">\n      <use xlink:href=\"#DejaVuSans-78\"/>\n      <use x=\"74.804688\" xlink:href=\"#DejaVuSans-98\"/>\n     </g>\n    </g>\n   </g>\n   <g id=\"patch_5\">\n    <path d=\"M 59.690625 428.498437 \nL 59.690625 20.798437 \n\" style=\"fill:none;stroke:#000000;stroke-linecap:square;stroke-linejoin:miter;stroke-width:0.8;\"/>\n   </g>\n   <g id=\"patch_6\">\n    <path d=\"M 440.14517 428.498437 \nL 440.14517 20.798437 \n\" style=\"fill:none;stroke:#000000;stroke-linecap:square;stroke-linejoin:miter;stroke-width:0.8;\"/>\n   </g>\n   <g id=\"patch_7\">\n    <path d=\"M 59.690625 428.498437 \nL 440.14517 428.498437 \n\" style=\"fill:none;stroke:#000000;stroke-linecap:square;stroke-linejoin:miter;stroke-width:0.8;\"/>\n   </g>\n   <g id=\"patch_8\">\n    <path d=\"M 59.690625 20.798437 \nL 440.14517 20.798437 \n\" style=\"fill:none;stroke:#000000;stroke-linecap:square;stroke-linejoin:miter;stroke-width:0.8;\"/>\n   </g>\n   <g id=\"text_15\">\n    <!-- AUC nb_common_words/nb_words_question2 : 0.725483 -->\n    <defs>\n     <path d=\"M 34.1875 63.1875 \nL 20.796875 26.90625 \nL 47.609375 26.90625 \nz\nM 28.609375 72.90625 \nL 39.796875 72.90625 \nL 67.578125 0 \nL 57.328125 0 \nL 50.6875 18.703125 \nL 17.828125 18.703125 \nL 11.1875 0 \nL 0.78125 0 \nz\n\" id=\"DejaVuSans-65\"/>\n     <path d=\"M 8.6875 72.90625 \nL 18.609375 72.90625 \nL 18.609375 28.609375 \nQ 18.609375 16.890625 22.84375 11.734375 \nQ 27.09375 6.59375 36.625 6.59375 \nQ 46.09375 6.59375 50.34375 11.734375 \nQ 54.59375 16.890625 54.59375 28.609375 \nL 54.59375 72.90625 \nL 64.5 72.90625 \nL 64.5 27.390625 \nQ 64.5 13.140625 57.4375 5.859375 \nQ 50.390625 -1.421875 36.625 -1.421875 \nQ 22.796875 -1.421875 15.734375 5.859375 \nQ 8.6875 13.140625 8.6875 27.390625 \nz\n\" id=\"DejaVuSans-85\"/>\n     <path d=\"M 64.40625 67.28125 \nL 64.40625 56.890625 \nQ 59.421875 61.53125 53.78125 63.8125 \nQ 48.140625 66.109375 41.796875 66.109375 \nQ 29.296875 66.109375 22.65625 58.46875 \nQ 16.015625 50.828125 16.015625 36.375 \nQ 16.015625 21.96875 22.65625 14.328125 \nQ 29.296875 6.6875 41.796875 6.6875 \nQ 48.140625 6.6875 53.78125 8.984375 \nQ 59.421875 11.28125 64.40625 15.921875 \nL 64.40625 5.609375 \nQ 59.234375 2.09375 53.4375 0.328125 \nQ 47.65625 -1.421875 41.21875 -1.421875 \nQ 24.65625 -1.421875 15.125 8.703125 \nQ 5.609375 18.84375 5.609375 36.375 \nQ 5.609375 53.953125 15.125 64.078125 \nQ 24.65625 74.21875 41.21875 74.21875 \nQ 47.75 74.21875 53.53125 72.484375 \nQ 59.328125 70.75 64.40625 67.28125 \nz\n\" id=\"DejaVuSans-67\"/>\n     <path id=\"DejaVuSans-32\"/>\n     <path d=\"M 11.71875 12.40625 \nL 22.015625 12.40625 \nL 22.015625 0 \nL 11.71875 0 \nz\nM 11.71875 51.703125 \nL 22.015625 51.703125 \nL 22.015625 39.3125 \nL 11.71875 39.3125 \nz\n\" id=\"DejaVuSans-58\"/>\n     <path d=\"M 8.203125 72.90625 \nL 55.078125 72.90625 \nL 55.078125 68.703125 \nL 28.609375 0 \nL 18.3125 0 \nL 43.21875 64.59375 \nL 8.203125 64.59375 \nz\n\" id=\"DejaVuSans-55\"/>\n     <path d=\"M 40.578125 39.3125 \nQ 47.65625 37.796875 51.625 33 \nQ 55.609375 28.21875 55.609375 21.1875 \nQ 55.609375 10.40625 48.1875 4.484375 \nQ 40.765625 -1.421875 27.09375 -1.421875 \nQ 22.515625 -1.421875 17.65625 -0.515625 \nQ 12.796875 0.390625 7.625 2.203125 \nL 7.625 11.71875 \nQ 11.71875 9.328125 16.59375 8.109375 \nQ 21.484375 6.890625 26.8125 6.890625 \nQ 36.078125 6.890625 40.9375 10.546875 \nQ 45.796875 14.203125 45.796875 21.1875 \nQ 45.796875 27.640625 41.28125 31.265625 \nQ 36.765625 34.90625 28.71875 34.90625 \nL 20.21875 34.90625 \nL 20.21875 43.015625 \nL 29.109375 43.015625 \nQ 36.375 43.015625 40.234375 45.921875 \nQ 44.09375 48.828125 44.09375 54.296875 \nQ 44.09375 59.90625 40.109375 62.90625 \nQ 36.140625 65.921875 28.71875 65.921875 \nQ 24.65625 65.921875 20.015625 65.03125 \nQ 15.375 64.15625 9.8125 62.3125 \nL 9.8125 71.09375 \nQ 15.4375 72.65625 20.34375 73.4375 \nQ 25.25 74.21875 29.59375 74.21875 \nQ 40.828125 74.21875 47.359375 69.109375 \nQ 53.90625 64.015625 53.90625 55.328125 \nQ 53.90625 49.265625 50.4375 45.09375 \nQ 46.96875 40.921875 40.578125 39.3125 \nz\n\" id=\"DejaVuSans-51\"/>\n    </defs>\n    <g transform=\"translate(108.316335 14.798437)scale(0.1 -0.1)\">\n     <use xlink:href=\"#DejaVuSans-65\"/>\n     <use x=\"68.408203\" xlink:href=\"#DejaVuSans-85\"/>\n     <use x=\"141.601562\" xlink:href=\"#DejaVuSans-67\"/>\n     <use x=\"211.425781\" xlink:href=\"#DejaVuSans-32\"/>\n     <use x=\"243.212891\" xlink:href=\"#DejaVuSans-110\"/>\n     <use x=\"306.591797\" xlink:href=\"#DejaVuSans-98\"/>\n     <use x=\"370.068359\" xlink:href=\"#DejaVuSans-95\"/>\n     <use x=\"420.068359\" xlink:href=\"#DejaVuSans-99\"/>\n     <use x=\"475.048828\" xlink:href=\"#DejaVuSans-111\"/>\n     <use x=\"536.230469\" xlink:href=\"#DejaVuSans-109\"/>\n     <use x=\"633.642578\" xlink:href=\"#DejaVuSans-109\"/>\n     <use x=\"731.054688\" xlink:href=\"#DejaVuSans-111\"/>\n     <use x=\"792.236328\" xlink:href=\"#DejaVuSans-110\"/>\n     <use x=\"855.615234\" xlink:href=\"#DejaVuSans-95\"/>\n     <use x=\"905.615234\" xlink:href=\"#DejaVuSans-119\"/>\n     <use x=\"987.402344\" xlink:href=\"#DejaVuSans-111\"/>\n     <use x=\"1048.583984\" xlink:href=\"#DejaVuSans-114\"/>\n     <use x=\"1087.947266\" xlink:href=\"#DejaVuSans-100\"/>\n     <use x=\"1151.423828\" xlink:href=\"#DejaVuSans-115\"/>\n     <use x=\"1203.523438\" xlink:href=\"#DejaVuSans-47\"/>\n     <use x=\"1237.214844\" xlink:href=\"#DejaVuSans-110\"/>\n     <use x=\"1300.59375\" xlink:href=\"#DejaVuSans-98\"/>\n     <use x=\"1364.070312\" xlink:href=\"#DejaVuSans-95\"/>\n     <use x=\"1414.070312\" xlink:href=\"#DejaVuSans-119\"/>\n     <use x=\"1495.857422\" xlink:href=\"#DejaVuSans-111\"/>\n     <use x=\"1557.039062\" xlink:href=\"#DejaVuSans-114\"/>\n     <use x=\"1596.402344\" xlink:href=\"#DejaVuSans-100\"/>\n     <use x=\"1659.878906\" xlink:href=\"#DejaVuSans-115\"/>\n     <use x=\"1711.978516\" xlink:href=\"#DejaVuSans-95\"/>\n     <use x=\"1761.978516\" xlink:href=\"#DejaVuSans-113\"/>\n     <use x=\"1825.455078\" xlink:href=\"#DejaVuSans-117\"/>\n     <use x=\"1888.833984\" xlink:href=\"#DejaVuSans-101\"/>\n     <use x=\"1950.357422\" xlink:href=\"#DejaVuSans-115\"/>\n     <use x=\"2002.457031\" xlink:href=\"#DejaVuSans-116\"/>\n     <use x=\"2041.666016\" xlink:href=\"#DejaVuSans-105\"/>\n     <use x=\"2069.449219\" xlink:href=\"#DejaVuSans-111\"/>\n     <use x=\"2130.630859\" xlink:href=\"#DejaVuSans-110\"/>\n     <use x=\"2194.009766\" xlink:href=\"#DejaVuSans-50\"/>\n     <use x=\"2257.632812\" xlink:href=\"#DejaVuSans-32\"/>\n     <use x=\"2289.419922\" xlink:href=\"#DejaVuSans-58\"/>\n     <use x=\"2323.111328\" xlink:href=\"#DejaVuSans-32\"/>\n     <use x=\"2354.898438\" xlink:href=\"#DejaVuSans-48\"/>\n     <use x=\"2418.521484\" xlink:href=\"#DejaVuSans-46\"/>\n     <use x=\"2450.308594\" xlink:href=\"#DejaVuSans-55\"/>\n     <use x=\"2513.931641\" xlink:href=\"#DejaVuSans-50\"/>\n     <use x=\"2577.554688\" xlink:href=\"#DejaVuSans-53\"/>\n     <use x=\"2641.177734\" xlink:href=\"#DejaVuSans-52\"/>\n     <use x=\"2704.800781\" xlink:href=\"#DejaVuSans-56\"/>\n     <use x=\"2768.423828\" xlink:href=\"#DejaVuSans-51\"/>\n    </g>\n   </g>\n   <g id=\"legend_1\">\n    <g id=\"patch_9\">\n     <path d=\"M 357.17642 58.154687 \nL 433.14517 58.154687 \nQ 435.14517 58.154687 435.14517 56.154687 \nL 435.14517 27.798437 \nQ 435.14517 25.798437 433.14517 25.798437 \nL 357.17642 25.798437 \nQ 355.17642 25.798437 355.17642 27.798437 \nL 355.17642 56.154687 \nQ 355.17642 58.154687 357.17642 58.154687 \nz\n\" style=\"fill:#ffffff;opacity:0.8;stroke:#cccccc;stroke-linejoin:miter;\"/>\n    </g>\n    <g id=\"patch_10\">\n     <path d=\"M 359.17642 37.396875 \nL 379.17642 37.396875 \nL 379.17642 30.396875 \nL 359.17642 30.396875 \nz\n\" style=\"fill:none;stroke:#d62728;stroke-linejoin:miter;\"/>\n    </g>\n    <g id=\"text_16\">\n     <!-- Same -->\n     <defs>\n      <path d=\"M 53.515625 70.515625 \nL 53.515625 60.890625 \nQ 47.90625 63.578125 42.921875 64.890625 \nQ 37.9375 66.21875 33.296875 66.21875 \nQ 25.25 66.21875 20.875 63.09375 \nQ 16.5 59.96875 16.5 54.203125 \nQ 16.5 49.359375 19.40625 46.890625 \nQ 22.3125 44.4375 30.421875 42.921875 \nL 36.375 41.703125 \nQ 47.40625 39.59375 52.65625 34.296875 \nQ 57.90625 29 57.90625 20.125 \nQ 57.90625 9.515625 50.796875 4.046875 \nQ 43.703125 -1.421875 29.984375 -1.421875 \nQ 24.8125 -1.421875 18.96875 -0.25 \nQ 13.140625 0.921875 6.890625 3.21875 \nL 6.890625 13.375 \nQ 12.890625 10.015625 18.65625 8.296875 \nQ 24.421875 6.59375 29.984375 6.59375 \nQ 38.421875 6.59375 43.015625 9.90625 \nQ 47.609375 13.234375 47.609375 19.390625 \nQ 47.609375 24.75 44.3125 27.78125 \nQ 41.015625 30.8125 33.5 32.328125 \nL 27.484375 33.5 \nQ 16.453125 35.6875 11.515625 40.375 \nQ 6.59375 45.0625 6.59375 53.421875 \nQ 6.59375 63.09375 13.40625 68.65625 \nQ 20.21875 74.21875 32.171875 74.21875 \nQ 37.3125 74.21875 42.625 73.28125 \nQ 47.953125 72.359375 53.515625 70.515625 \nz\n\" id=\"DejaVuSans-83\"/>\n      <path d=\"M 34.28125 27.484375 \nQ 23.390625 27.484375 19.1875 25 \nQ 14.984375 22.515625 14.984375 16.5 \nQ 14.984375 11.71875 18.140625 8.90625 \nQ 21.296875 6.109375 26.703125 6.109375 \nQ 34.1875 6.109375 38.703125 11.40625 \nQ 43.21875 16.703125 43.21875 25.484375 \nL 43.21875 27.484375 \nz\nM 52.203125 31.203125 \nL 52.203125 0 \nL 43.21875 0 \nL 43.21875 8.296875 \nQ 40.140625 3.328125 35.546875 0.953125 \nQ 30.953125 -1.421875 24.3125 -1.421875 \nQ 15.921875 -1.421875 10.953125 3.296875 \nQ 6 8.015625 6 15.921875 \nQ 6 25.140625 12.171875 29.828125 \nQ 18.359375 34.515625 30.609375 34.515625 \nL 43.21875 34.515625 \nL 43.21875 35.40625 \nQ 43.21875 41.609375 39.140625 45 \nQ 35.0625 48.390625 27.6875 48.390625 \nQ 23 48.390625 18.546875 47.265625 \nQ 14.109375 46.140625 10.015625 43.890625 \nL 10.015625 52.203125 \nQ 14.9375 54.109375 19.578125 55.046875 \nQ 24.21875 56 28.609375 56 \nQ 40.484375 56 46.34375 49.84375 \nQ 52.203125 43.703125 52.203125 31.203125 \nz\n\" id=\"DejaVuSans-97\"/>\n     </defs>\n     <g transform=\"translate(387.17642 37.396875)scale(0.1 -0.1)\">\n      <use xlink:href=\"#DejaVuSans-83\"/>\n      <use x=\"63.476562\" xlink:href=\"#DejaVuSans-97\"/>\n      <use x=\"124.755859\" xlink:href=\"#DejaVuSans-109\"/>\n      <use x=\"222.167969\" xlink:href=\"#DejaVuSans-101\"/>\n     </g>\n    </g>\n    <g id=\"patch_11\">\n     <path d=\"M 359.17642 52.075 \nL 379.17642 52.075 \nL 379.17642 45.075 \nL 359.17642 45.075 \nz\n\" style=\"fill:none;opacity:0.75;stroke:#2ca02c;stroke-linejoin:miter;\"/>\n    </g>\n    <g id=\"text_17\">\n     <!-- Different -->\n     <defs>\n      <path d=\"M 19.671875 64.796875 \nL 19.671875 8.109375 \nL 31.59375 8.109375 \nQ 46.6875 8.109375 53.6875 14.9375 \nQ 60.6875 21.78125 60.6875 36.53125 \nQ 60.6875 51.171875 53.6875 57.984375 \nQ 46.6875 64.796875 31.59375 64.796875 \nz\nM 9.8125 72.90625 \nL 30.078125 72.90625 \nQ 51.265625 72.90625 61.171875 64.09375 \nQ 71.09375 55.28125 71.09375 36.53125 \nQ 71.09375 17.671875 61.125 8.828125 \nQ 51.171875 0 30.078125 0 \nL 9.8125 0 \nz\n\" id=\"DejaVuSans-68\"/>\n      <path d=\"M 37.109375 75.984375 \nL 37.109375 68.5 \nL 28.515625 68.5 \nQ 23.6875 68.5 21.796875 66.546875 \nQ 19.921875 64.59375 19.921875 59.515625 \nL 19.921875 54.6875 \nL 34.71875 54.6875 \nL 34.71875 47.703125 \nL 19.921875 47.703125 \nL 19.921875 0 \nL 10.890625 0 \nL 10.890625 47.703125 \nL 2.296875 47.703125 \nL 2.296875 54.6875 \nL 10.890625 54.6875 \nL 10.890625 58.5 \nQ 10.890625 67.625 15.140625 71.796875 \nQ 19.390625 75.984375 28.609375 75.984375 \nz\n\" id=\"DejaVuSans-102\"/>\n     </defs>\n     <g transform=\"translate(387.17642 52.075)scale(0.1 -0.1)\">\n      <use xlink:href=\"#DejaVuSans-68\"/>\n      <use x=\"77.001953\" xlink:href=\"#DejaVuSans-105\"/>\n      <use x=\"104.785156\" xlink:href=\"#DejaVuSans-102\"/>\n      <use x=\"139.990234\" xlink:href=\"#DejaVuSans-102\"/>\n      <use x=\"175.195312\" xlink:href=\"#DejaVuSans-101\"/>\n      <use x=\"236.71875\" xlink:href=\"#DejaVuSans-114\"/>\n      <use x=\"275.582031\" xlink:href=\"#DejaVuSans-101\"/>\n      <use x=\"337.105469\" xlink:href=\"#DejaVuSans-110\"/>\n      <use x=\"400.484375\" xlink:href=\"#DejaVuSans-116\"/>\n     </g>\n    </g>\n   </g>\n  </g>\n  <g id=\"axes_2\">\n   <g id=\"patch_12\">\n    <path d=\"M 516.23608 428.498437 \nL 896.690625 428.498437 \nL 896.690625 20.798437 \nL 516.23608 20.798437 \nz\n\" style=\"fill:#ffffff;\"/>\n   </g>\n   <g id=\"patch_13\">\n    <path clip-path=\"url(#p879dfe7712)\" d=\"M 533.529468 428.498437 \nL 533.529468 393.961607 \nL 536.988146 393.961607 \nL 536.988146 269.276059 \nL 540.446823 269.276059 \nL 540.446823 230.348592 \nL 543.905501 230.348592 \nL 543.905501 224.883742 \nL 547.364179 224.883742 \nL 547.364179 248.951249 \nL 550.822856 248.951249 \nL 550.822856 287.469492 \nL 554.281534 287.469492 \nL 554.281534 428.498437 \nL 557.740212 428.498437 \nL 557.740212 320.85538 \nL 561.198889 320.85538 \nL 561.198889 348.981029 \nL 564.657567 348.981029 \nL 564.657567 374.770689 \nL 568.116245 374.770689 \nL 568.116245 392.699831 \nL 571.574923 392.699831 \nL 571.574923 402.768456 \nL 575.0336 402.768456 \nL 575.0336 428.498437 \nL 578.492278 428.498437 \nL 578.492278 410.347632 \nL 581.950956 410.347632 \nL 581.950956 416.673559 \nL 585.409633 416.673559 \nL 585.409633 420.296899 \nL 588.868311 420.296899 \nL 588.868311 423.647424 \nL 592.326989 423.647424 \nL 592.326989 425.088234 \nL 595.785666 425.088234 \nL 595.785666 428.498437 \nL 599.244344 428.498437 \nL 599.244344 425.906683 \nL 602.703022 425.906683 \nL 602.703022 426.776285 \nL 606.161699 426.776285 \nL 606.161699 427.211086 \nL 609.620377 427.211086 \nL 609.620377 427.543581 \nL 613.079055 427.543581 \nL 613.079055 428.072162 \nL 616.537732 428.072162 \nL 616.537732 428.498437 \nL 619.99641 428.498437 \nL 619.99641 428.276774 \nL 623.455088 428.276774 \nL 623.455088 428.362029 \nL 626.913765 428.362029 \nL 626.913765 428.370555 \nL 630.372443 428.370555 \nL 630.372443 428.447284 \nL 633.831121 428.447284 \nL 633.831121 428.489912 \nL 637.289799 428.489912 \nL 637.289799 428.498437 \nL 640.748476 428.498437 \nL 640.748476 428.498437 \nL 644.207154 428.498437 \nL 644.207154 428.489912 \nL 647.665832 428.489912 \nL 647.665832 428.489912 \nL 651.124509 428.489912 \nL 651.124509 428.489912 \nL 654.583187 428.489912 \nL 654.583187 428.489912 \nL 658.041865 428.489912 \nL 658.041865 428.498437 \nL 661.500542 428.498437 \nL 661.500542 428.498437 \nL 664.95922 428.498437 \nL 664.95922 428.498437 \nL 668.417898 428.498437 \nL 668.417898 428.498437 \nL 671.876575 428.498437 \nL 671.876575 428.498437 \nL 675.335253 428.498437 \nL 675.335253 428.481386 \nL 678.793931 428.481386 \nL 678.793931 428.498437 \nL 682.252608 428.498437 \nL 682.252608 428.498437 \nL 685.711286 428.498437 \nL 685.711286 428.498437 \nL 689.169964 428.498437 \nL 689.169964 428.498437 \nL 692.628642 428.498437 \nL 692.628642 428.498437 \nL 696.087319 428.498437 \nL 696.087319 428.498437 \nL 699.545997 428.498437 \nL 699.545997 428.498437 \nL 703.004675 428.498437 \nL 703.004675 428.489912 \nL 706.463352 428.489912 \nL 706.463352 428.498437 \n\" style=\"fill:none;stroke:#d62728;stroke-linejoin:miter;\"/>\n   </g>\n   <g id=\"patch_14\">\n    <path clip-path=\"url(#p879dfe7712)\" d=\"M 533.529468 428.498437 \nL 533.529468 222.914349 \nL 540.446823 222.914349 \nL 540.446823 75.68736 \nL 547.364179 75.68736 \nL 547.364179 40.212723 \nL 554.281534 40.212723 \nL 554.281534 241.66194 \nL 561.198889 241.66194 \nL 561.198889 99.320067 \nL 568.116245 99.320067 \nL 568.116245 193.458721 \nL 575.0336 193.458721 \nL 575.0336 341.120511 \nL 581.950956 341.120511 \nL 581.950956 300.155447 \nL 588.868311 300.155447 \nL 588.868311 341.060832 \nL 595.785666 341.060832 \nL 595.785666 396.374325 \nL 602.703022 396.374325 \nL 602.703022 377.106678 \nL 609.620377 377.106678 \nL 609.620377 393.51828 \nL 616.537732 393.51828 \nL 616.537732 415.667549 \nL 623.455088 415.667549 \nL 623.455088 410.023663 \nL 630.372443 410.023663 \nL 630.372443 418.259303 \nL 637.289799 418.259303 \nL 637.289799 425.037081 \nL 644.207154 425.037081 \nL 644.207154 424.610806 \nL 651.124509 424.610806 \nL 651.124509 426.529045 \nL 658.041865 426.529045 \nL 658.041865 427.688514 \nL 664.95922 427.688514 \nL 664.95922 427.543581 \nL 671.876575 427.543581 \nL 671.876575 427.679989 \nL 678.793931 427.679989 \nL 678.793931 428.182994 \nL 685.711286 428.182994 \nL 685.711286 428.080688 \nL 692.628642 428.080688 \nL 692.628642 428.217096 \nL 699.545997 428.217096 \nL 699.545997 428.404657 \nL 706.463352 428.404657 \nL 706.463352 428.413182 \nL 713.380708 428.413182 \nL 713.380708 428.387606 \nL 720.298063 428.387606 \nL 720.298063 428.438759 \nL 727.215418 428.438759 \nL 727.215418 428.489912 \nL 734.132774 428.489912 \nL 734.132774 428.489912 \nL 741.050129 428.489912 \nL 741.050129 428.498437 \nL 747.967485 428.498437 \nL 747.967485 428.489912 \nL 754.88484 428.489912 \nL 754.88484 428.498437 \nL 761.802195 428.498437 \nL 761.802195 428.498437 \nL 768.719551 428.498437 \nL 768.719551 428.498437 \nL 775.636906 428.498437 \nL 775.636906 428.498437 \nL 782.554261 428.498437 \nL 782.554261 428.498437 \nL 789.471617 428.498437 \nL 789.471617 428.498437 \nL 796.388972 428.498437 \nL 796.388972 428.498437 \nL 803.306327 428.498437 \nL 803.306327 428.498437 \nL 810.223683 428.498437 \nL 810.223683 428.498437 \nL 817.141038 428.498437 \nL 817.141038 428.498437 \nL 824.058394 428.498437 \nL 824.058394 428.498437 \nL 830.975749 428.498437 \nL 830.975749 428.498437 \nL 837.893104 428.498437 \nL 837.893104 428.498437 \nL 844.81046 428.498437 \nL 844.81046 428.498437 \nL 851.727815 428.498437 \nL 851.727815 428.498437 \nL 858.64517 428.498437 \nL 858.64517 428.498437 \nL 865.562526 428.498437 \nL 865.562526 428.498437 \nL 872.479881 428.498437 \nL 872.479881 428.489912 \nL 879.397237 428.489912 \nL 879.397237 428.498437 \n\" style=\"fill:none;opacity:0.75;stroke:#2ca02c;stroke-linejoin:miter;\"/>\n   </g>\n   <g id=\"matplotlib.axis_3\">\n    <g id=\"xtick_7\">\n     <g id=\"line2d_13\">\n      <g>\n       <use style=\"stroke:#000000;stroke-width:0.8;\" x=\"533.529468\" xlink:href=\"#m9ad4497b20\" y=\"428.498437\"/>\n      </g>\n     </g>\n     <g id=\"text_18\">\n      <!-- 0 -->\n      <g transform=\"translate(530.348218 443.096875)scale(0.1 -0.1)\">\n       <use xlink:href=\"#DejaVuSans-48\"/>\n      </g>\n     </g>\n    </g>\n    <g id=\"xtick_8\">\n     <g id=\"line2d_14\">\n      <g>\n       <use style=\"stroke:#000000;stroke-width:0.8;\" x=\"615.878937\" xlink:href=\"#m9ad4497b20\" y=\"428.498437\"/>\n      </g>\n     </g>\n     <g id=\"text_19\">\n      <!-- 20 -->\n      <g transform=\"translate(609.516437 443.096875)scale(0.1 -0.1)\">\n       <use xlink:href=\"#DejaVuSans-50\"/>\n       <use x=\"63.623047\" xlink:href=\"#DejaVuSans-48\"/>\n      </g>\n     </g>\n    </g>\n    <g id=\"xtick_9\">\n     <g id=\"line2d_15\">\n      <g>\n       <use style=\"stroke:#000000;stroke-width:0.8;\" x=\"698.228405\" xlink:href=\"#m9ad4497b20\" y=\"428.498437\"/>\n      </g>\n     </g>\n     <g id=\"text_20\">\n      <!-- 40 -->\n      <g transform=\"translate(691.865905 443.096875)scale(0.1 -0.1)\">\n       <use xlink:href=\"#DejaVuSans-52\"/>\n       <use x=\"63.623047\" xlink:href=\"#DejaVuSans-48\"/>\n      </g>\n     </g>\n    </g>\n    <g id=\"xtick_10\">\n     <g id=\"line2d_16\">\n      <g>\n       <use style=\"stroke:#000000;stroke-width:0.8;\" x=\"780.577874\" xlink:href=\"#m9ad4497b20\" y=\"428.498437\"/>\n      </g>\n     </g>\n     <g id=\"text_21\">\n      <!-- 60 -->\n      <g transform=\"translate(774.215374 443.096875)scale(0.1 -0.1)\">\n       <use xlink:href=\"#DejaVuSans-54\"/>\n       <use x=\"63.623047\" xlink:href=\"#DejaVuSans-48\"/>\n      </g>\n     </g>\n    </g>\n    <g id=\"xtick_11\">\n     <g id=\"line2d_17\">\n      <g>\n       <use style=\"stroke:#000000;stroke-width:0.8;\" x=\"862.927343\" xlink:href=\"#m9ad4497b20\" y=\"428.498437\"/>\n      </g>\n     </g>\n     <g id=\"text_22\">\n      <!-- 80 -->\n      <g transform=\"translate(856.564843 443.096875)scale(0.1 -0.1)\">\n       <use xlink:href=\"#DejaVuSans-56\"/>\n       <use x=\"63.623047\" xlink:href=\"#DejaVuSans-48\"/>\n      </g>\n     </g>\n    </g>\n    <g id=\"text_23\">\n     <!-- nb_words_question1-common_words -->\n     <defs>\n      <path d=\"M 4.890625 31.390625 \nL 31.203125 31.390625 \nL 31.203125 23.390625 \nL 4.890625 23.390625 \nz\n\" id=\"DejaVuSans-45\"/>\n     </defs>\n     <g transform=\"translate(614.465696 456.775)scale(0.1 -0.1)\">\n      <use xlink:href=\"#DejaVuSans-110\"/>\n      <use x=\"63.378906\" xlink:href=\"#DejaVuSans-98\"/>\n      <use x=\"126.855469\" xlink:href=\"#DejaVuSans-95\"/>\n      <use x=\"176.855469\" xlink:href=\"#DejaVuSans-119\"/>\n      <use x=\"258.642578\" xlink:href=\"#DejaVuSans-111\"/>\n      <use x=\"319.824219\" xlink:href=\"#DejaVuSans-114\"/>\n      <use x=\"359.1875\" xlink:href=\"#DejaVuSans-100\"/>\n      <use x=\"422.664062\" xlink:href=\"#DejaVuSans-115\"/>\n      <use x=\"474.763672\" xlink:href=\"#DejaVuSans-95\"/>\n      <use x=\"524.763672\" xlink:href=\"#DejaVuSans-113\"/>\n      <use x=\"588.240234\" xlink:href=\"#DejaVuSans-117\"/>\n      <use x=\"651.619141\" xlink:href=\"#DejaVuSans-101\"/>\n      <use x=\"713.142578\" xlink:href=\"#DejaVuSans-115\"/>\n      <use x=\"765.242188\" xlink:href=\"#DejaVuSans-116\"/>\n      <use x=\"804.451172\" xlink:href=\"#DejaVuSans-105\"/>\n      <use x=\"832.234375\" xlink:href=\"#DejaVuSans-111\"/>\n      <use x=\"893.416016\" xlink:href=\"#DejaVuSans-110\"/>\n      <use x=\"956.794922\" xlink:href=\"#DejaVuSans-49\"/>\n      <use x=\"1020.417969\" xlink:href=\"#DejaVuSans-45\"/>\n      <use x=\"1056.501953\" xlink:href=\"#DejaVuSans-99\"/>\n      <use x=\"1111.482422\" xlink:href=\"#DejaVuSans-111\"/>\n      <use x=\"1172.664062\" xlink:href=\"#DejaVuSans-109\"/>\n      <use x=\"1270.076172\" xlink:href=\"#DejaVuSans-109\"/>\n      <use x=\"1367.488281\" xlink:href=\"#DejaVuSans-111\"/>\n      <use x=\"1428.669922\" xlink:href=\"#DejaVuSans-110\"/>\n      <use x=\"1492.048828\" xlink:href=\"#DejaVuSans-95\"/>\n      <use x=\"1542.048828\" xlink:href=\"#DejaVuSans-119\"/>\n      <use x=\"1623.835938\" xlink:href=\"#DejaVuSans-111\"/>\n      <use x=\"1685.017578\" xlink:href=\"#DejaVuSans-114\"/>\n      <use x=\"1724.380859\" xlink:href=\"#DejaVuSans-100\"/>\n      <use x=\"1787.857422\" xlink:href=\"#DejaVuSans-115\"/>\n     </g>\n    </g>\n   </g>\n   <g id=\"matplotlib.axis_4\">\n    <g id=\"ytick_7\">\n     <g id=\"line2d_18\">\n      <g>\n       <use style=\"stroke:#000000;stroke-width:0.8;\" x=\"516.23608\" xlink:href=\"#mbee3f8d72d\" y=\"428.498437\"/>\n      </g>\n     </g>\n     <g id=\"text_24\">\n      <!-- 0 -->\n      <g transform=\"translate(502.87358 432.297656)scale(0.1 -0.1)\">\n       <use xlink:href=\"#DejaVuSans-48\"/>\n      </g>\n     </g>\n    </g>\n    <g id=\"ytick_8\">\n     <g id=\"line2d_19\">\n      <g>\n       <use style=\"stroke:#000000;stroke-width:0.8;\" x=\"516.23608\" xlink:href=\"#mbee3f8d72d\" y=\"343.243362\"/>\n      </g>\n     </g>\n     <g id=\"text_25\">\n      <!-- 10000 -->\n      <g transform=\"translate(477.42358 347.042581)scale(0.1 -0.1)\">\n       <use xlink:href=\"#DejaVuSans-49\"/>\n       <use x=\"63.623047\" xlink:href=\"#DejaVuSans-48\"/>\n       <use x=\"127.246094\" xlink:href=\"#DejaVuSans-48\"/>\n       <use x=\"190.869141\" xlink:href=\"#DejaVuSans-48\"/>\n       <use x=\"254.492188\" xlink:href=\"#DejaVuSans-48\"/>\n      </g>\n     </g>\n    </g>\n    <g id=\"ytick_9\">\n     <g id=\"line2d_20\">\n      <g>\n       <use style=\"stroke:#000000;stroke-width:0.8;\" x=\"516.23608\" xlink:href=\"#mbee3f8d72d\" y=\"257.988287\"/>\n      </g>\n     </g>\n     <g id=\"text_26\">\n      <!-- 20000 -->\n      <g transform=\"translate(477.42358 261.787506)scale(0.1 -0.1)\">\n       <use xlink:href=\"#DejaVuSans-50\"/>\n       <use x=\"63.623047\" xlink:href=\"#DejaVuSans-48\"/>\n       <use x=\"127.246094\" xlink:href=\"#DejaVuSans-48\"/>\n       <use x=\"190.869141\" xlink:href=\"#DejaVuSans-48\"/>\n       <use x=\"254.492188\" xlink:href=\"#DejaVuSans-48\"/>\n      </g>\n     </g>\n    </g>\n    <g id=\"ytick_10\">\n     <g id=\"line2d_21\">\n      <g>\n       <use style=\"stroke:#000000;stroke-width:0.8;\" x=\"516.23608\" xlink:href=\"#mbee3f8d72d\" y=\"172.733212\"/>\n      </g>\n     </g>\n     <g id=\"text_27\">\n      <!-- 30000 -->\n      <g transform=\"translate(477.42358 176.532431)scale(0.1 -0.1)\">\n       <use xlink:href=\"#DejaVuSans-51\"/>\n       <use x=\"63.623047\" xlink:href=\"#DejaVuSans-48\"/>\n       <use x=\"127.246094\" xlink:href=\"#DejaVuSans-48\"/>\n       <use x=\"190.869141\" xlink:href=\"#DejaVuSans-48\"/>\n       <use x=\"254.492188\" xlink:href=\"#DejaVuSans-48\"/>\n      </g>\n     </g>\n    </g>\n    <g id=\"ytick_11\">\n     <g id=\"line2d_22\">\n      <g>\n       <use style=\"stroke:#000000;stroke-width:0.8;\" x=\"516.23608\" xlink:href=\"#mbee3f8d72d\" y=\"87.478137\"/>\n      </g>\n     </g>\n     <g id=\"text_28\">\n      <!-- 40000 -->\n      <g transform=\"translate(477.42358 91.277356)scale(0.1 -0.1)\">\n       <use xlink:href=\"#DejaVuSans-52\"/>\n       <use x=\"63.623047\" xlink:href=\"#DejaVuSans-48\"/>\n       <use x=\"127.246094\" xlink:href=\"#DejaVuSans-48\"/>\n       <use x=\"190.869141\" xlink:href=\"#DejaVuSans-48\"/>\n       <use x=\"254.492188\" xlink:href=\"#DejaVuSans-48\"/>\n      </g>\n     </g>\n    </g>\n    <g id=\"text_29\">\n     <!-- Nb -->\n     <g transform=\"translate(471.343892 231.563281)rotate(-90)scale(0.1 -0.1)\">\n      <use xlink:href=\"#DejaVuSans-78\"/>\n      <use x=\"74.804688\" xlink:href=\"#DejaVuSans-98\"/>\n     </g>\n    </g>\n   </g>\n   <g id=\"patch_15\">\n    <path d=\"M 516.23608 428.498437 \nL 516.23608 20.798437 \n\" style=\"fill:none;stroke:#000000;stroke-linecap:square;stroke-linejoin:miter;stroke-width:0.8;\"/>\n   </g>\n   <g id=\"patch_16\">\n    <path d=\"M 896.690625 428.498437 \nL 896.690625 20.798437 \n\" style=\"fill:none;stroke:#000000;stroke-linecap:square;stroke-linejoin:miter;stroke-width:0.8;\"/>\n   </g>\n   <g id=\"patch_17\">\n    <path d=\"M 516.23608 428.498437 \nL 896.690625 428.498437 \n\" style=\"fill:none;stroke:#000000;stroke-linecap:square;stroke-linejoin:miter;stroke-width:0.8;\"/>\n   </g>\n   <g id=\"patch_18\">\n    <path d=\"M 516.23608 20.798437 \nL 896.690625 20.798437 \n\" style=\"fill:none;stroke:#000000;stroke-linecap:square;stroke-linejoin:miter;stroke-width:0.8;\"/>\n   </g>\n   <g id=\"text_30\">\n    <!-- AUC nb_words_question1-common_words : 0.320685 -->\n    <g transform=\"translate(573.585227 14.798437)scale(0.1 -0.1)\">\n     <use xlink:href=\"#DejaVuSans-65\"/>\n     <use x=\"68.408203\" xlink:href=\"#DejaVuSans-85\"/>\n     <use x=\"141.601562\" xlink:href=\"#DejaVuSans-67\"/>\n     <use x=\"211.425781\" xlink:href=\"#DejaVuSans-32\"/>\n     <use x=\"243.212891\" xlink:href=\"#DejaVuSans-110\"/>\n     <use x=\"306.591797\" xlink:href=\"#DejaVuSans-98\"/>\n     <use x=\"370.068359\" xlink:href=\"#DejaVuSans-95\"/>\n     <use x=\"420.068359\" xlink:href=\"#DejaVuSans-119\"/>\n     <use x=\"501.855469\" xlink:href=\"#DejaVuSans-111\"/>\n     <use x=\"563.037109\" xlink:href=\"#DejaVuSans-114\"/>\n     <use x=\"602.400391\" xlink:href=\"#DejaVuSans-100\"/>\n     <use x=\"665.876953\" xlink:href=\"#DejaVuSans-115\"/>\n     <use x=\"717.976562\" xlink:href=\"#DejaVuSans-95\"/>\n     <use x=\"767.976562\" xlink:href=\"#DejaVuSans-113\"/>\n     <use x=\"831.453125\" xlink:href=\"#DejaVuSans-117\"/>\n     <use x=\"894.832031\" xlink:href=\"#DejaVuSans-101\"/>\n     <use x=\"956.355469\" xlink:href=\"#DejaVuSans-115\"/>\n     <use x=\"1008.455078\" xlink:href=\"#DejaVuSans-116\"/>\n     <use x=\"1047.664062\" xlink:href=\"#DejaVuSans-105\"/>\n     <use x=\"1075.447266\" xlink:href=\"#DejaVuSans-111\"/>\n     <use x=\"1136.628906\" xlink:href=\"#DejaVuSans-110\"/>\n     <use x=\"1200.007812\" xlink:href=\"#DejaVuSans-49\"/>\n     <use x=\"1263.630859\" xlink:href=\"#DejaVuSans-45\"/>\n     <use x=\"1299.714844\" xlink:href=\"#DejaVuSans-99\"/>\n     <use x=\"1354.695312\" xlink:href=\"#DejaVuSans-111\"/>\n     <use x=\"1415.876953\" xlink:href=\"#DejaVuSans-109\"/>\n     <use x=\"1513.289062\" xlink:href=\"#DejaVuSans-109\"/>\n     <use x=\"1610.701172\" xlink:href=\"#DejaVuSans-111\"/>\n     <use x=\"1671.882812\" xlink:href=\"#DejaVuSans-110\"/>\n     <use x=\"1735.261719\" xlink:href=\"#DejaVuSans-95\"/>\n     <use x=\"1785.261719\" xlink:href=\"#DejaVuSans-119\"/>\n     <use x=\"1867.048828\" xlink:href=\"#DejaVuSans-111\"/>\n     <use x=\"1928.230469\" xlink:href=\"#DejaVuSans-114\"/>\n     <use x=\"1967.59375\" xlink:href=\"#DejaVuSans-100\"/>\n     <use x=\"2031.070312\" xlink:href=\"#DejaVuSans-115\"/>\n     <use x=\"2083.169922\" xlink:href=\"#DejaVuSans-32\"/>\n     <use x=\"2114.957031\" xlink:href=\"#DejaVuSans-58\"/>\n     <use x=\"2148.648438\" xlink:href=\"#DejaVuSans-32\"/>\n     <use x=\"2180.435547\" xlink:href=\"#DejaVuSans-48\"/>\n     <use x=\"2244.058594\" xlink:href=\"#DejaVuSans-46\"/>\n     <use x=\"2275.845703\" xlink:href=\"#DejaVuSans-51\"/>\n     <use x=\"2339.46875\" xlink:href=\"#DejaVuSans-50\"/>\n     <use x=\"2403.091797\" xlink:href=\"#DejaVuSans-48\"/>\n     <use x=\"2466.714844\" xlink:href=\"#DejaVuSans-54\"/>\n     <use x=\"2530.337891\" xlink:href=\"#DejaVuSans-56\"/>\n     <use x=\"2593.960938\" xlink:href=\"#DejaVuSans-53\"/>\n    </g>\n   </g>\n   <g id=\"legend_2\">\n    <g id=\"patch_19\">\n     <path d=\"M 813.721875 58.154687 \nL 889.690625 58.154687 \nQ 891.690625 58.154687 891.690625 56.154687 \nL 891.690625 27.798437 \nQ 891.690625 25.798437 889.690625 25.798437 \nL 813.721875 25.798437 \nQ 811.721875 25.798437 811.721875 27.798437 \nL 811.721875 56.154687 \nQ 811.721875 58.154687 813.721875 58.154687 \nz\n\" style=\"fill:#ffffff;opacity:0.8;stroke:#cccccc;stroke-linejoin:miter;\"/>\n    </g>\n    <g id=\"patch_20\">\n     <path d=\"M 815.721875 37.396875 \nL 835.721875 37.396875 \nL 835.721875 30.396875 \nL 815.721875 30.396875 \nz\n\" style=\"fill:none;stroke:#d62728;stroke-linejoin:miter;\"/>\n    </g>\n    <g id=\"text_31\">\n     <!-- Same -->\n     <g transform=\"translate(843.721875 37.396875)scale(0.1 -0.1)\">\n      <use xlink:href=\"#DejaVuSans-83\"/>\n      <use x=\"63.476562\" xlink:href=\"#DejaVuSans-97\"/>\n      <use x=\"124.755859\" xlink:href=\"#DejaVuSans-109\"/>\n      <use x=\"222.167969\" xlink:href=\"#DejaVuSans-101\"/>\n     </g>\n    </g>\n    <g id=\"patch_21\">\n     <path d=\"M 815.721875 52.075 \nL 835.721875 52.075 \nL 835.721875 45.075 \nL 815.721875 45.075 \nz\n\" style=\"fill:none;opacity:0.75;stroke:#2ca02c;stroke-linejoin:miter;\"/>\n    </g>\n    <g id=\"text_32\">\n     <!-- Different -->\n     <g transform=\"translate(843.721875 52.075)scale(0.1 -0.1)\">\n      <use xlink:href=\"#DejaVuSans-68\"/>\n      <use x=\"77.001953\" xlink:href=\"#DejaVuSans-105\"/>\n      <use x=\"104.785156\" xlink:href=\"#DejaVuSans-102\"/>\n      <use x=\"139.990234\" xlink:href=\"#DejaVuSans-102\"/>\n      <use x=\"175.195312\" xlink:href=\"#DejaVuSans-101\"/>\n      <use x=\"236.71875\" xlink:href=\"#DejaVuSans-114\"/>\n      <use x=\"275.582031\" xlink:href=\"#DejaVuSans-101\"/>\n      <use x=\"337.105469\" xlink:href=\"#DejaVuSans-110\"/>\n      <use x=\"400.484375\" xlink:href=\"#DejaVuSans-116\"/>\n     </g>\n    </g>\n   </g>\n  </g>\n </g>\n <defs>\n  <clipPath id=\"pfd45dd9b90\">\n   <rect height=\"407.7\" width=\"380.454545\" x=\"59.690625\" y=\"20.798437\"/>\n  </clipPath>\n  <clipPath id=\"p879dfe7712\">\n   <rect height=\"407.7\" width=\"380.454545\" x=\"516.23608\" y=\"20.798437\"/>\n  </clipPath>\n </defs>\n</svg>\n",
      "image/png": "[encoded data removed]"
     },
     "metadata": {
      "needs_background": "light"
     }
    },
    {
     "output_type": "display_data",
     "data": {
      "text/plain": "<Figure size 1080x540 with 2 Axes>",
      "image/svg+xml": "<?xml version=\"1.0\" encoding=\"utf-8\" standalone=\"no\"?>\n<!DOCTYPE svg PUBLIC \"-//W3C//DTD SVG 1.1//EN\"\n  \"http://www.w3.org/Graphics/SVG/1.1/DTD/svg11.dtd\">\n<!-- Created with matplotlib (https://matplotlib.org/) -->\n<svg height=\"466.332812pt\" version=\"1.1\" viewBox=\"0 0 914.377415 466.332812\" width=\"914.377415pt\" xmlns=\"http://www.w3.org/2000/svg\" xmlns:xlink=\"http://www.w3.org/1999/xlink\">\n <defs>\n  <style type=\"text/css\">\n*{stroke-linecap:butt;stroke-linejoin:round;}\n  </style>\n </defs>\n <g id=\"figure_1\">\n  <g id=\"patch_1\">\n   <path d=\"M 0 466.332812 \nL 914.377415 466.332812 \nL 914.377415 0 \nL 0 0 \nz\n\" style=\"fill:none;\"/>\n  </g>\n  <g id=\"axes_1\">\n   <g id=\"patch_2\">\n    <path d=\"M 59.690625 428.498437 \nL 440.14517 428.498437 \nL 440.14517 20.798437 \nL 59.690625 20.798437 \nz\n\" style=\"fill:#ffffff;\"/>\n   </g>\n   <g id=\"patch_3\">\n    <path clip-path=\"url(#p2bb6fb23d8)\" d=\"M 76.984013 428.498437 \nL 76.984013 404.548865 \nL 78.572443 404.548865 \nL 78.572443 317.748398 \nL 80.160873 317.748398 \nL 80.160873 428.498437 \nL 81.749303 428.498437 \nL 81.749303 294.718397 \nL 83.337732 294.718397 \nL 83.337732 290.848053 \nL 84.926162 290.848053 \nL 84.926162 428.498437 \nL 86.514592 428.498437 \nL 86.514592 307.394501 \nL 88.103022 307.394501 \nL 88.103022 428.498437 \nL 89.691451 428.498437 \nL 89.691451 332.269464 \nL 91.279881 332.269464 \nL 91.279881 354.8164 \nL 92.868311 354.8164 \nL 92.868311 428.498437 \nL 94.456741 428.498437 \nL 94.456741 374.587165 \nL 96.04517 374.587165 \nL 96.04517 390.87753 \nL 97.6336 390.87753 \nL 97.6336 428.498437 \nL 99.22203 428.498437 \nL 99.22203 403.623475 \nL 100.81046 403.623475 \nL 100.81046 428.498437 \nL 102.398889 428.498437 \nL 102.398889 411.323422 \nL 103.987319 411.323422 \nL 103.987319 416.258838 \nL 105.575749 416.258838 \nL 105.575749 428.498437 \nL 107.164179 428.498437 \nL 107.164179 419.94876 \nL 108.752608 419.94876 \nL 108.752608 423.155617 \nL 110.341038 423.155617 \nL 110.341038 428.498437 \nL 111.929468 428.498437 \nL 111.929468 424.680474 \nL 113.517898 424.680474 \nL 113.517898 428.498437 \nL 115.106327 428.498437 \nL 115.106327 425.978349 \nL 116.694757 425.978349 \nL 116.694757 426.589456 \nL 118.283187 426.589456 \nL 118.283187 428.498437 \nL 119.871617 428.498437 \nL 119.871617 427.159822 \nL 121.460046 427.159822 \nL 121.460046 428.498437 \nL 123.048476 428.498437 \nL 123.048476 427.567227 \nL 124.636906 427.567227 \nL 124.636906 428.027012 \nL 126.225336 428.027012 \nL 126.225336 428.498437 \nL 127.813765 428.498437 \nL 127.813765 428.201614 \nL 129.402195 428.201614 \nL 129.402195 428.201614 \nL 130.990625 428.201614 \nL 130.990625 428.498437 \nL 132.579055 428.498437 \nL 132.579055 428.405316 \nL 134.167485 428.405316 \nL 134.167485 428.498437 \nL 135.755914 428.498437 \nL 135.755914 428.440237 \nL 137.344344 428.440237 \nL 137.344344 428.475157 \nL 138.932774 428.475157 \nL 138.932774 428.498437 \nL 140.521204 428.498437 \nL 140.521204 428.475157 \nL 142.109633 428.475157 \nL 142.109633 428.463517 \nL 143.698063 428.463517 \nL 143.698063 428.498437 \nL 145.286493 428.498437 \nL 145.286493 428.480977 \nL 146.874923 428.480977 \nL 146.874923 428.498437 \nL 148.463352 428.498437 \nL 148.463352 428.486797 \nL 150.051782 428.486797 \nL 150.051782 428.492617 \nL 151.640212 428.492617 \nL 151.640212 428.498437 \nL 153.228642 428.498437 \nL 153.228642 428.492617 \nL 154.817071 428.492617 \nL 154.817071 428.492617 \nL 156.405501 428.492617 \nL 156.405501 428.498437 \n\" style=\"fill:none;stroke:#d62728;stroke-linejoin:miter;\"/>\n   </g>\n   <g id=\"patch_4\">\n    <path clip-path=\"url(#p2bb6fb23d8)\" d=\"M 76.984013 428.498437 \nL 76.984013 167.875875 \nL 83.901369 167.875875 \nL 83.901369 40.212723 \nL 90.818724 40.212723 \nL 90.818724 84.055282 \nL 97.73608 84.055282 \nL 97.73608 279.690986 \nL 104.653435 279.690986 \nL 104.653435 292.693014 \nL 111.57079 292.693014 \nL 111.57079 349.723842 \nL 118.488146 349.723842 \nL 118.488146 390.609807 \nL 125.405501 390.609807 \nL 125.405501 385.313547 \nL 132.322856 385.313547 \nL 132.322856 404.001779 \nL 139.240212 404.001779 \nL 139.240212 420.594788 \nL 146.157567 420.594788 \nL 146.157567 422.730752 \nL 153.074923 422.730752 \nL 153.074923 425.640785 \nL 159.992278 425.640785 \nL 159.992278 426.368293 \nL 166.909633 426.368293 \nL 166.909633 427.415905 \nL 173.826989 427.415905 \nL 173.826989 427.427545 \nL 180.744344 427.427545 \nL 180.744344 427.945531 \nL 187.661699 427.945531 \nL 187.661699 428.370396 \nL 194.579055 428.370396 \nL 194.579055 428.341296 \nL 201.49641 428.341296 \nL 201.49641 428.457697 \nL 208.413765 428.457697 \nL 208.413765 428.480977 \nL 215.331121 428.480977 \nL 215.331121 428.457697 \nL 222.248476 428.457697 \nL 222.248476 428.475157 \nL 229.165832 428.475157 \nL 229.165832 428.475157 \nL 236.083187 428.475157 \nL 236.083187 428.492617 \nL 243.000542 428.492617 \nL 243.000542 428.475157 \nL 249.917898 428.475157 \nL 249.917898 428.486797 \nL 256.835253 428.486797 \nL 256.835253 428.492617 \nL 263.752608 428.492617 \nL 263.752608 428.498437 \nL 270.669964 428.498437 \nL 270.669964 428.498437 \nL 277.587319 428.498437 \nL 277.587319 428.498437 \nL 284.504675 428.498437 \nL 284.504675 428.492617 \nL 291.42203 428.492617 \nL 291.42203 428.492617 \nL 298.339385 428.492617 \nL 298.339385 428.492617 \nL 305.256741 428.492617 \nL 305.256741 428.492617 \nL 312.174096 428.492617 \nL 312.174096 428.492617 \nL 319.091451 428.492617 \nL 319.091451 428.498437 \nL 326.008807 428.498437 \nL 326.008807 428.498437 \nL 332.926162 428.498437 \nL 332.926162 428.498437 \nL 339.843518 428.498437 \nL 339.843518 428.498437 \nL 346.760873 428.498437 \nL 346.760873 428.498437 \nL 353.678228 428.498437 \nL 353.678228 428.498437 \nL 360.595584 428.498437 \nL 360.595584 428.498437 \nL 367.512939 428.498437 \nL 367.512939 428.486797 \nL 374.430294 428.486797 \nL 374.430294 428.486797 \nL 381.34765 428.486797 \nL 381.34765 428.463517 \nL 388.265005 428.463517 \nL 388.265005 428.480977 \nL 395.182361 428.480977 \nL 395.182361 428.498437 \nL 402.099716 428.498437 \nL 402.099716 428.498437 \nL 409.017071 428.498437 \nL 409.017071 428.498437 \nL 415.934427 428.498437 \nL 415.934427 428.480977 \nL 422.851782 428.480977 \nL 422.851782 428.498437 \n\" style=\"fill:none;opacity:0.75;stroke:#2ca02c;stroke-linejoin:miter;\"/>\n   </g>\n   <g id=\"matplotlib.axis_1\">\n    <g id=\"xtick_1\">\n     <g id=\"line2d_1\">\n      <defs>\n       <path d=\"M 0 0 \nL 0 3.5 \n\" id=\"md1abde0deb\" style=\"stroke:#000000;stroke-width:0.8;\"/>\n      </defs>\n      <g>\n       <use style=\"stroke:#000000;stroke-width:0.8;\" x=\"76.984013\" xlink:href=\"#md1abde0deb\" y=\"428.498437\"/>\n      </g>\n     </g>\n     <g id=\"text_1\">\n      <!-- 0 -->\n      <defs>\n       <path d=\"M 31.78125 66.40625 \nQ 24.171875 66.40625 20.328125 58.90625 \nQ 16.5 51.421875 16.5 36.375 \nQ 16.5 21.390625 20.328125 13.890625 \nQ 24.171875 6.390625 31.78125 6.390625 \nQ 39.453125 6.390625 43.28125 13.890625 \nQ 47.125 21.390625 47.125 36.375 \nQ 47.125 51.421875 43.28125 58.90625 \nQ 39.453125 66.40625 31.78125 66.40625 \nz\nM 31.78125 74.21875 \nQ 44.046875 74.21875 50.515625 64.515625 \nQ 56.984375 54.828125 56.984375 36.375 \nQ 56.984375 17.96875 50.515625 8.265625 \nQ 44.046875 -1.421875 31.78125 -1.421875 \nQ 19.53125 -1.421875 13.0625 8.265625 \nQ 6.59375 17.96875 6.59375 36.375 \nQ 6.59375 54.828125 13.0625 64.515625 \nQ 19.53125 74.21875 31.78125 74.21875 \nz\n\" id=\"DejaVuSans-48\"/>\n      </defs>\n      <g transform=\"translate(73.802763 443.096875)scale(0.1 -0.1)\">\n       <use xlink:href=\"#DejaVuSans-48\"/>\n      </g>\n     </g>\n    </g>\n    <g id=\"xtick_2\">\n     <g id=\"line2d_2\">\n      <g>\n       <use style=\"stroke:#000000;stroke-width:0.8;\" x=\"128.223683\" xlink:href=\"#md1abde0deb\" y=\"428.498437\"/>\n      </g>\n     </g>\n     <g id=\"text_2\">\n      <!-- 20 -->\n      <defs>\n       <path d=\"M 19.1875 8.296875 \nL 53.609375 8.296875 \nL 53.609375 0 \nL 7.328125 0 \nL 7.328125 8.296875 \nQ 12.9375 14.109375 22.625 23.890625 \nQ 32.328125 33.6875 34.8125 36.53125 \nQ 39.546875 41.84375 41.421875 45.53125 \nQ 43.3125 49.21875 43.3125 52.78125 \nQ 43.3125 58.59375 39.234375 62.25 \nQ 35.15625 65.921875 28.609375 65.921875 \nQ 23.96875 65.921875 18.8125 64.3125 \nQ 13.671875 62.703125 7.8125 59.421875 \nL 7.8125 69.390625 \nQ 13.765625 71.78125 18.9375 73 \nQ 24.125 74.21875 28.421875 74.21875 \nQ 39.75 74.21875 46.484375 68.546875 \nQ 53.21875 62.890625 53.21875 53.421875 \nQ 53.21875 48.921875 51.53125 44.890625 \nQ 49.859375 40.875 45.40625 35.40625 \nQ 44.1875 33.984375 37.640625 27.21875 \nQ 31.109375 20.453125 19.1875 8.296875 \nz\n\" id=\"DejaVuSans-50\"/>\n      </defs>\n      <g transform=\"translate(121.861183 443.096875)scale(0.1 -0.1)\">\n       <use xlink:href=\"#DejaVuSans-50\"/>\n       <use x=\"63.623047\" xlink:href=\"#DejaVuSans-48\"/>\n      </g>\n     </g>\n    </g>\n    <g id=\"xtick_3\">\n     <g id=\"line2d_3\">\n      <g>\n       <use style=\"stroke:#000000;stroke-width:0.8;\" x=\"179.463352\" xlink:href=\"#md1abde0deb\" y=\"428.498437\"/>\n      </g>\n     </g>\n     <g id=\"text_3\">\n      <!-- 40 -->\n      <defs>\n       <path d=\"M 37.796875 64.3125 \nL 12.890625 25.390625 \nL 37.796875 25.390625 \nz\nM 35.203125 72.90625 \nL 47.609375 72.90625 \nL 47.609375 25.390625 \nL 58.015625 25.390625 \nL 58.015625 17.1875 \nL 47.609375 17.1875 \nL 47.609375 0 \nL 37.796875 0 \nL 37.796875 17.1875 \nL 4.890625 17.1875 \nL 4.890625 26.703125 \nz\n\" id=\"DejaVuSans-52\"/>\n      </defs>\n      <g transform=\"translate(173.100852 443.096875)scale(0.1 -0.1)\">\n       <use xlink:href=\"#DejaVuSans-52\"/>\n       <use x=\"63.623047\" xlink:href=\"#DejaVuSans-48\"/>\n      </g>\n     </g>\n    </g>\n    <g id=\"xtick_4\">\n     <g id=\"line2d_4\">\n      <g>\n       <use style=\"stroke:#000000;stroke-width:0.8;\" x=\"230.703022\" xlink:href=\"#md1abde0deb\" y=\"428.498437\"/>\n      </g>\n     </g>\n     <g id=\"text_4\">\n      <!-- 60 -->\n      <defs>\n       <path d=\"M 33.015625 40.375 \nQ 26.375 40.375 22.484375 35.828125 \nQ 18.609375 31.296875 18.609375 23.390625 \nQ 18.609375 15.53125 22.484375 10.953125 \nQ 26.375 6.390625 33.015625 6.390625 \nQ 39.65625 6.390625 43.53125 10.953125 \nQ 47.40625 15.53125 47.40625 23.390625 \nQ 47.40625 31.296875 43.53125 35.828125 \nQ 39.65625 40.375 33.015625 40.375 \nz\nM 52.59375 71.296875 \nL 52.59375 62.3125 \nQ 48.875 64.0625 45.09375 64.984375 \nQ 41.3125 65.921875 37.59375 65.921875 \nQ 27.828125 65.921875 22.671875 59.328125 \nQ 17.53125 52.734375 16.796875 39.40625 \nQ 19.671875 43.65625 24.015625 45.921875 \nQ 28.375 48.1875 33.59375 48.1875 \nQ 44.578125 48.1875 50.953125 41.515625 \nQ 57.328125 34.859375 57.328125 23.390625 \nQ 57.328125 12.15625 50.6875 5.359375 \nQ 44.046875 -1.421875 33.015625 -1.421875 \nQ 20.359375 -1.421875 13.671875 8.265625 \nQ 6.984375 17.96875 6.984375 36.375 \nQ 6.984375 53.65625 15.1875 63.9375 \nQ 23.390625 74.21875 37.203125 74.21875 \nQ 40.921875 74.21875 44.703125 73.484375 \nQ 48.484375 72.75 52.59375 71.296875 \nz\n\" id=\"DejaVuSans-54\"/>\n      </defs>\n      <g transform=\"translate(224.340522 443.096875)scale(0.1 -0.1)\">\n       <use xlink:href=\"#DejaVuSans-54\"/>\n       <use x=\"63.623047\" xlink:href=\"#DejaVuSans-48\"/>\n      </g>\n     </g>\n    </g>\n    <g id=\"xtick_5\">\n     <g id=\"line2d_5\">\n      <g>\n       <use style=\"stroke:#000000;stroke-width:0.8;\" x=\"281.942691\" xlink:href=\"#md1abde0deb\" y=\"428.498437\"/>\n      </g>\n     </g>\n     <g id=\"text_5\">\n      <!-- 80 -->\n      <defs>\n       <path d=\"M 31.78125 34.625 \nQ 24.75 34.625 20.71875 30.859375 \nQ 16.703125 27.09375 16.703125 20.515625 \nQ 16.703125 13.921875 20.71875 10.15625 \nQ 24.75 6.390625 31.78125 6.390625 \nQ 38.8125 6.390625 42.859375 10.171875 \nQ 46.921875 13.96875 46.921875 20.515625 \nQ 46.921875 27.09375 42.890625 30.859375 \nQ 38.875 34.625 31.78125 34.625 \nz\nM 21.921875 38.8125 \nQ 15.578125 40.375 12.03125 44.71875 \nQ 8.5 49.078125 8.5 55.328125 \nQ 8.5 64.0625 14.71875 69.140625 \nQ 20.953125 74.21875 31.78125 74.21875 \nQ 42.671875 74.21875 48.875 69.140625 \nQ 55.078125 64.0625 55.078125 55.328125 \nQ 55.078125 49.078125 51.53125 44.71875 \nQ 48 40.375 41.703125 38.8125 \nQ 48.828125 37.15625 52.796875 32.3125 \nQ 56.78125 27.484375 56.78125 20.515625 \nQ 56.78125 9.90625 50.3125 4.234375 \nQ 43.84375 -1.421875 31.78125 -1.421875 \nQ 19.734375 -1.421875 13.25 4.234375 \nQ 6.78125 9.90625 6.78125 20.515625 \nQ 6.78125 27.484375 10.78125 32.3125 \nQ 14.796875 37.15625 21.921875 38.8125 \nz\nM 18.3125 54.390625 \nQ 18.3125 48.734375 21.84375 45.5625 \nQ 25.390625 42.390625 31.78125 42.390625 \nQ 38.140625 42.390625 41.71875 45.5625 \nQ 45.3125 48.734375 45.3125 54.390625 \nQ 45.3125 60.0625 41.71875 63.234375 \nQ 38.140625 66.40625 31.78125 66.40625 \nQ 25.390625 66.40625 21.84375 63.234375 \nQ 18.3125 60.0625 18.3125 54.390625 \nz\n\" id=\"DejaVuSans-56\"/>\n      </defs>\n      <g transform=\"translate(275.580191 443.096875)scale(0.1 -0.1)\">\n       <use xlink:href=\"#DejaVuSans-56\"/>\n       <use x=\"63.623047\" xlink:href=\"#DejaVuSans-48\"/>\n      </g>\n     </g>\n    </g>\n    <g id=\"xtick_6\">\n     <g id=\"line2d_6\">\n      <g>\n       <use style=\"stroke:#000000;stroke-width:0.8;\" x=\"333.182361\" xlink:href=\"#md1abde0deb\" y=\"428.498437\"/>\n      </g>\n     </g>\n     <g id=\"text_6\">\n      <!-- 100 -->\n      <defs>\n       <path d=\"M 12.40625 8.296875 \nL 28.515625 8.296875 \nL 28.515625 63.921875 \nL 10.984375 60.40625 \nL 10.984375 69.390625 \nL 28.421875 72.90625 \nL 38.28125 72.90625 \nL 38.28125 8.296875 \nL 54.390625 8.296875 \nL 54.390625 0 \nL 12.40625 0 \nz\n\" id=\"DejaVuSans-49\"/>\n      </defs>\n      <g transform=\"translate(323.638611 443.096875)scale(0.1 -0.1)\">\n       <use xlink:href=\"#DejaVuSans-49\"/>\n       <use x=\"63.623047\" xlink:href=\"#DejaVuSans-48\"/>\n       <use x=\"127.246094\" xlink:href=\"#DejaVuSans-48\"/>\n      </g>\n     </g>\n    </g>\n    <g id=\"xtick_7\">\n     <g id=\"line2d_7\">\n      <g>\n       <use style=\"stroke:#000000;stroke-width:0.8;\" x=\"384.42203\" xlink:href=\"#md1abde0deb\" y=\"428.498437\"/>\n      </g>\n     </g>\n     <g id=\"text_7\">\n      <!-- 120 -->\n      <g transform=\"translate(374.87828 443.096875)scale(0.1 -0.1)\">\n       <use xlink:href=\"#DejaVuSans-49\"/>\n       <use x=\"63.623047\" xlink:href=\"#DejaVuSans-50\"/>\n       <use x=\"127.246094\" xlink:href=\"#DejaVuSans-48\"/>\n      </g>\n     </g>\n    </g>\n    <g id=\"xtick_8\">\n     <g id=\"line2d_8\">\n      <g>\n       <use style=\"stroke:#000000;stroke-width:0.8;\" x=\"435.661699\" xlink:href=\"#md1abde0deb\" y=\"428.498437\"/>\n      </g>\n     </g>\n     <g id=\"text_8\">\n      <!-- 140 -->\n      <g transform=\"translate(426.117949 443.096875)scale(0.1 -0.1)\">\n       <use xlink:href=\"#DejaVuSans-49\"/>\n       <use x=\"63.623047\" xlink:href=\"#DejaVuSans-52\"/>\n       <use x=\"127.246094\" xlink:href=\"#DejaVuSans-48\"/>\n      </g>\n     </g>\n    </g>\n    <g id=\"text_9\">\n     <!-- nb_words_question2-common_words -->\n     <defs>\n      <path d=\"M 54.890625 33.015625 \nL 54.890625 0 \nL 45.90625 0 \nL 45.90625 32.71875 \nQ 45.90625 40.484375 42.875 44.328125 \nQ 39.84375 48.1875 33.796875 48.1875 \nQ 26.515625 48.1875 22.3125 43.546875 \nQ 18.109375 38.921875 18.109375 30.90625 \nL 18.109375 0 \nL 9.078125 0 \nL 9.078125 54.6875 \nL 18.109375 54.6875 \nL 18.109375 46.1875 \nQ 21.34375 51.125 25.703125 53.5625 \nQ 30.078125 56 35.796875 56 \nQ 45.21875 56 50.046875 50.171875 \nQ 54.890625 44.34375 54.890625 33.015625 \nz\n\" id=\"DejaVuSans-110\"/>\n      <path d=\"M 48.6875 27.296875 \nQ 48.6875 37.203125 44.609375 42.84375 \nQ 40.53125 48.484375 33.40625 48.484375 \nQ 26.265625 48.484375 22.1875 42.84375 \nQ 18.109375 37.203125 18.109375 27.296875 \nQ 18.109375 17.390625 22.1875 11.75 \nQ 26.265625 6.109375 33.40625 6.109375 \nQ 40.53125 6.109375 44.609375 11.75 \nQ 48.6875 17.390625 48.6875 27.296875 \nz\nM 18.109375 46.390625 \nQ 20.953125 51.265625 25.265625 53.625 \nQ 29.59375 56 35.59375 56 \nQ 45.5625 56 51.78125 48.09375 \nQ 58.015625 40.1875 58.015625 27.296875 \nQ 58.015625 14.40625 51.78125 6.484375 \nQ 45.5625 -1.421875 35.59375 -1.421875 \nQ 29.59375 -1.421875 25.265625 0.953125 \nQ 20.953125 3.328125 18.109375 8.203125 \nL 18.109375 0 \nL 9.078125 0 \nL 9.078125 75.984375 \nL 18.109375 75.984375 \nz\n\" id=\"DejaVuSans-98\"/>\n      <path d=\"M 50.984375 -16.609375 \nL 50.984375 -23.578125 \nL -0.984375 -23.578125 \nL -0.984375 -16.609375 \nz\n\" id=\"DejaVuSans-95\"/>\n      <path d=\"M 4.203125 54.6875 \nL 13.1875 54.6875 \nL 24.421875 12.015625 \nL 35.59375 54.6875 \nL 46.1875 54.6875 \nL 57.421875 12.015625 \nL 68.609375 54.6875 \nL 77.59375 54.6875 \nL 63.28125 0 \nL 52.6875 0 \nL 40.921875 44.828125 \nL 29.109375 0 \nL 18.5 0 \nz\n\" id=\"DejaVuSans-119\"/>\n      <path d=\"M 30.609375 48.390625 \nQ 23.390625 48.390625 19.1875 42.75 \nQ 14.984375 37.109375 14.984375 27.296875 \nQ 14.984375 17.484375 19.15625 11.84375 \nQ 23.34375 6.203125 30.609375 6.203125 \nQ 37.796875 6.203125 41.984375 11.859375 \nQ 46.1875 17.53125 46.1875 27.296875 \nQ 46.1875 37.015625 41.984375 42.703125 \nQ 37.796875 48.390625 30.609375 48.390625 \nz\nM 30.609375 56 \nQ 42.328125 56 49.015625 48.375 \nQ 55.71875 40.765625 55.71875 27.296875 \nQ 55.71875 13.875 49.015625 6.21875 \nQ 42.328125 -1.421875 30.609375 -1.421875 \nQ 18.84375 -1.421875 12.171875 6.21875 \nQ 5.515625 13.875 5.515625 27.296875 \nQ 5.515625 40.765625 12.171875 48.375 \nQ 18.84375 56 30.609375 56 \nz\n\" id=\"DejaVuSans-111\"/>\n      <path d=\"M 41.109375 46.296875 \nQ 39.59375 47.171875 37.8125 47.578125 \nQ 36.03125 48 33.890625 48 \nQ 26.265625 48 22.1875 43.046875 \nQ 18.109375 38.09375 18.109375 28.8125 \nL 18.109375 0 \nL 9.078125 0 \nL 9.078125 54.6875 \nL 18.109375 54.6875 \nL 18.109375 46.1875 \nQ 20.953125 51.171875 25.484375 53.578125 \nQ 30.03125 56 36.53125 56 \nQ 37.453125 56 38.578125 55.875 \nQ 39.703125 55.765625 41.0625 55.515625 \nz\n\" id=\"DejaVuSans-114\"/>\n      <path d=\"M 45.40625 46.390625 \nL 45.40625 75.984375 \nL 54.390625 75.984375 \nL 54.390625 0 \nL 45.40625 0 \nL 45.40625 8.203125 \nQ 42.578125 3.328125 38.25 0.953125 \nQ 33.9375 -1.421875 27.875 -1.421875 \nQ 17.96875 -1.421875 11.734375 6.484375 \nQ 5.515625 14.40625 5.515625 27.296875 \nQ 5.515625 40.1875 11.734375 48.09375 \nQ 17.96875 56 27.875 56 \nQ 33.9375 56 38.25 53.625 \nQ 42.578125 51.265625 45.40625 46.390625 \nz\nM 14.796875 27.296875 \nQ 14.796875 17.390625 18.875 11.75 \nQ 22.953125 6.109375 30.078125 6.109375 \nQ 37.203125 6.109375 41.296875 11.75 \nQ 45.40625 17.390625 45.40625 27.296875 \nQ 45.40625 37.203125 41.296875 42.84375 \nQ 37.203125 48.484375 30.078125 48.484375 \nQ 22.953125 48.484375 18.875 42.84375 \nQ 14.796875 37.203125 14.796875 27.296875 \nz\n\" id=\"DejaVuSans-100\"/>\n      <path d=\"M 44.28125 53.078125 \nL 44.28125 44.578125 \nQ 40.484375 46.53125 36.375 47.5 \nQ 32.28125 48.484375 27.875 48.484375 \nQ 21.1875 48.484375 17.84375 46.4375 \nQ 14.5 44.390625 14.5 40.28125 \nQ 14.5 37.15625 16.890625 35.375 \nQ 19.28125 33.59375 26.515625 31.984375 \nL 29.59375 31.296875 \nQ 39.15625 29.25 43.1875 25.515625 \nQ 47.21875 21.78125 47.21875 15.09375 \nQ 47.21875 7.46875 41.1875 3.015625 \nQ 35.15625 -1.421875 24.609375 -1.421875 \nQ 20.21875 -1.421875 15.453125 -0.5625 \nQ 10.6875 0.296875 5.421875 2 \nL 5.421875 11.28125 \nQ 10.40625 8.6875 15.234375 7.390625 \nQ 20.0625 6.109375 24.8125 6.109375 \nQ 31.15625 6.109375 34.5625 8.28125 \nQ 37.984375 10.453125 37.984375 14.40625 \nQ 37.984375 18.0625 35.515625 20.015625 \nQ 33.0625 21.96875 24.703125 23.78125 \nL 21.578125 24.515625 \nQ 13.234375 26.265625 9.515625 29.90625 \nQ 5.8125 33.546875 5.8125 39.890625 \nQ 5.8125 47.609375 11.28125 51.796875 \nQ 16.75 56 26.8125 56 \nQ 31.78125 56 36.171875 55.265625 \nQ 40.578125 54.546875 44.28125 53.078125 \nz\n\" id=\"DejaVuSans-115\"/>\n      <path d=\"M 14.796875 27.296875 \nQ 14.796875 17.390625 18.875 11.75 \nQ 22.953125 6.109375 30.078125 6.109375 \nQ 37.203125 6.109375 41.296875 11.75 \nQ 45.40625 17.390625 45.40625 27.296875 \nQ 45.40625 37.203125 41.296875 42.84375 \nQ 37.203125 48.484375 30.078125 48.484375 \nQ 22.953125 48.484375 18.875 42.84375 \nQ 14.796875 37.203125 14.796875 27.296875 \nz\nM 45.40625 8.203125 \nQ 42.578125 3.328125 38.25 0.953125 \nQ 33.9375 -1.421875 27.875 -1.421875 \nQ 17.96875 -1.421875 11.734375 6.484375 \nQ 5.515625 14.40625 5.515625 27.296875 \nQ 5.515625 40.1875 11.734375 48.09375 \nQ 17.96875 56 27.875 56 \nQ 33.9375 56 38.25 53.625 \nQ 42.578125 51.265625 45.40625 46.390625 \nL 45.40625 54.6875 \nL 54.390625 54.6875 \nL 54.390625 -20.796875 \nL 45.40625 -20.796875 \nz\n\" id=\"DejaVuSans-113\"/>\n      <path d=\"M 8.5 21.578125 \nL 8.5 54.6875 \nL 17.484375 54.6875 \nL 17.484375 21.921875 \nQ 17.484375 14.15625 20.5 10.265625 \nQ 23.53125 6.390625 29.59375 6.390625 \nQ 36.859375 6.390625 41.078125 11.03125 \nQ 45.3125 15.671875 45.3125 23.6875 \nL 45.3125 54.6875 \nL 54.296875 54.6875 \nL 54.296875 0 \nL 45.3125 0 \nL 45.3125 8.40625 \nQ 42.046875 3.421875 37.71875 1 \nQ 33.40625 -1.421875 27.6875 -1.421875 \nQ 18.265625 -1.421875 13.375 4.4375 \nQ 8.5 10.296875 8.5 21.578125 \nz\nM 31.109375 56 \nz\n\" id=\"DejaVuSans-117\"/>\n      <path d=\"M 56.203125 29.59375 \nL 56.203125 25.203125 \nL 14.890625 25.203125 \nQ 15.484375 15.921875 20.484375 11.0625 \nQ 25.484375 6.203125 34.421875 6.203125 \nQ 39.59375 6.203125 44.453125 7.46875 \nQ 49.3125 8.734375 54.109375 11.28125 \nL 54.109375 2.78125 \nQ 49.265625 0.734375 44.1875 -0.34375 \nQ 39.109375 -1.421875 33.890625 -1.421875 \nQ 20.796875 -1.421875 13.15625 6.1875 \nQ 5.515625 13.8125 5.515625 26.8125 \nQ 5.515625 40.234375 12.765625 48.109375 \nQ 20.015625 56 32.328125 56 \nQ 43.359375 56 49.78125 48.890625 \nQ 56.203125 41.796875 56.203125 29.59375 \nz\nM 47.21875 32.234375 \nQ 47.125 39.59375 43.09375 43.984375 \nQ 39.0625 48.390625 32.421875 48.390625 \nQ 24.90625 48.390625 20.390625 44.140625 \nQ 15.875 39.890625 15.1875 32.171875 \nz\n\" id=\"DejaVuSans-101\"/>\n      <path d=\"M 18.3125 70.21875 \nL 18.3125 54.6875 \nL 36.8125 54.6875 \nL 36.8125 47.703125 \nL 18.3125 47.703125 \nL 18.3125 18.015625 \nQ 18.3125 11.328125 20.140625 9.421875 \nQ 21.96875 7.515625 27.59375 7.515625 \nL 36.8125 7.515625 \nL 36.8125 0 \nL 27.59375 0 \nQ 17.1875 0 13.234375 3.875 \nQ 9.28125 7.765625 9.28125 18.015625 \nL 9.28125 47.703125 \nL 2.6875 47.703125 \nL 2.6875 54.6875 \nL 9.28125 54.6875 \nL 9.28125 70.21875 \nz\n\" id=\"DejaVuSans-116\"/>\n      <path d=\"M 9.421875 54.6875 \nL 18.40625 54.6875 \nL 18.40625 0 \nL 9.421875 0 \nz\nM 9.421875 75.984375 \nL 18.40625 75.984375 \nL 18.40625 64.59375 \nL 9.421875 64.59375 \nz\n\" id=\"DejaVuSans-105\"/>\n      <path d=\"M 4.890625 31.390625 \nL 31.203125 31.390625 \nL 31.203125 23.390625 \nL 4.890625 23.390625 \nz\n\" id=\"DejaVuSans-45\"/>\n      <path d=\"M 48.78125 52.59375 \nL 48.78125 44.1875 \nQ 44.96875 46.296875 41.140625 47.34375 \nQ 37.3125 48.390625 33.40625 48.390625 \nQ 24.65625 48.390625 19.8125 42.84375 \nQ 14.984375 37.3125 14.984375 27.296875 \nQ 14.984375 17.28125 19.8125 11.734375 \nQ 24.65625 6.203125 33.40625 6.203125 \nQ 37.3125 6.203125 41.140625 7.25 \nQ 44.96875 8.296875 48.78125 10.40625 \nL 48.78125 2.09375 \nQ 45.015625 0.34375 40.984375 -0.53125 \nQ 36.96875 -1.421875 32.421875 -1.421875 \nQ 20.0625 -1.421875 12.78125 6.34375 \nQ 5.515625 14.109375 5.515625 27.296875 \nQ 5.515625 40.671875 12.859375 48.328125 \nQ 20.21875 56 33.015625 56 \nQ 37.15625 56 41.109375 55.140625 \nQ 45.0625 54.296875 48.78125 52.59375 \nz\n\" id=\"DejaVuSans-99\"/>\n      <path d=\"M 52 44.1875 \nQ 55.375 50.25 60.0625 53.125 \nQ 64.75 56 71.09375 56 \nQ 79.640625 56 84.28125 50.015625 \nQ 88.921875 44.046875 88.921875 33.015625 \nL 88.921875 0 \nL 79.890625 0 \nL 79.890625 32.71875 \nQ 79.890625 40.578125 77.09375 44.375 \nQ 74.3125 48.1875 68.609375 48.1875 \nQ 61.625 48.1875 57.5625 43.546875 \nQ 53.515625 38.921875 53.515625 30.90625 \nL 53.515625 0 \nL 44.484375 0 \nL 44.484375 32.71875 \nQ 44.484375 40.625 41.703125 44.40625 \nQ 38.921875 48.1875 33.109375 48.1875 \nQ 26.21875 48.1875 22.15625 43.53125 \nQ 18.109375 38.875 18.109375 30.90625 \nL 18.109375 0 \nL 9.078125 0 \nL 9.078125 54.6875 \nL 18.109375 54.6875 \nL 18.109375 46.1875 \nQ 21.1875 51.21875 25.484375 53.609375 \nQ 29.78125 56 35.6875 56 \nQ 41.65625 56 45.828125 52.96875 \nQ 50 49.953125 52 44.1875 \nz\n\" id=\"DejaVuSans-109\"/>\n     </defs>\n     <g transform=\"translate(157.920241 456.775)scale(0.1 -0.1)\">\n      <use xlink:href=\"#DejaVuSans-110\"/>\n      <use x=\"63.378906\" xlink:href=\"#DejaVuSans-98\"/>\n      <use x=\"126.855469\" xlink:href=\"#DejaVuSans-95\"/>\n      <use x=\"176.855469\" xlink:href=\"#DejaVuSans-119\"/>\n      <use x=\"258.642578\" xlink:href=\"#DejaVuSans-111\"/>\n      <use x=\"319.824219\" xlink:href=\"#DejaVuSans-114\"/>\n      <use x=\"359.1875\" xlink:href=\"#DejaVuSans-100\"/>\n      <use x=\"422.664062\" xlink:href=\"#DejaVuSans-115\"/>\n      <use x=\"474.763672\" xlink:href=\"#DejaVuSans-95\"/>\n      <use x=\"524.763672\" xlink:href=\"#DejaVuSans-113\"/>\n      <use x=\"588.240234\" xlink:href=\"#DejaVuSans-117\"/>\n      <use x=\"651.619141\" xlink:href=\"#DejaVuSans-101\"/>\n      <use x=\"713.142578\" xlink:href=\"#DejaVuSans-115\"/>\n      <use x=\"765.242188\" xlink:href=\"#DejaVuSans-116\"/>\n      <use x=\"804.451172\" xlink:href=\"#DejaVuSans-105\"/>\n      <use x=\"832.234375\" xlink:href=\"#DejaVuSans-111\"/>\n      <use x=\"893.416016\" xlink:href=\"#DejaVuSans-110\"/>\n      <use x=\"956.794922\" xlink:href=\"#DejaVuSans-50\"/>\n      <use x=\"1020.417969\" xlink:href=\"#DejaVuSans-45\"/>\n      <use x=\"1056.501953\" xlink:href=\"#DejaVuSans-99\"/>\n      <use x=\"1111.482422\" xlink:href=\"#DejaVuSans-111\"/>\n      <use x=\"1172.664062\" xlink:href=\"#DejaVuSans-109\"/>\n      <use x=\"1270.076172\" xlink:href=\"#DejaVuSans-109\"/>\n      <use x=\"1367.488281\" xlink:href=\"#DejaVuSans-111\"/>\n      <use x=\"1428.669922\" xlink:href=\"#DejaVuSans-110\"/>\n      <use x=\"1492.048828\" xlink:href=\"#DejaVuSans-95\"/>\n      <use x=\"1542.048828\" xlink:href=\"#DejaVuSans-119\"/>\n      <use x=\"1623.835938\" xlink:href=\"#DejaVuSans-111\"/>\n      <use x=\"1685.017578\" xlink:href=\"#DejaVuSans-114\"/>\n      <use x=\"1724.380859\" xlink:href=\"#DejaVuSans-100\"/>\n      <use x=\"1787.857422\" xlink:href=\"#DejaVuSans-115\"/>\n     </g>\n    </g>\n   </g>\n   <g id=\"matplotlib.axis_2\">\n    <g id=\"ytick_1\">\n     <g id=\"line2d_9\">\n      <defs>\n       <path d=\"M 0 0 \nL -3.5 0 \n\" id=\"mb54d303b7f\" style=\"stroke:#000000;stroke-width:0.8;\"/>\n      </defs>\n      <g>\n       <use style=\"stroke:#000000;stroke-width:0.8;\" x=\"59.690625\" xlink:href=\"#mb54d303b7f\" y=\"428.498437\"/>\n      </g>\n     </g>\n     <g id=\"text_10\">\n      <!-- 0 -->\n      <g transform=\"translate(46.328125 432.297656)scale(0.1 -0.1)\">\n       <use xlink:href=\"#DejaVuSans-48\"/>\n      </g>\n     </g>\n    </g>\n    <g id=\"ytick_2\">\n     <g id=\"line2d_10\">\n      <g>\n       <use style=\"stroke:#000000;stroke-width:0.8;\" x=\"59.690625\" xlink:href=\"#mb54d303b7f\" y=\"370.297776\"/>\n      </g>\n     </g>\n     <g id=\"text_11\">\n      <!-- 10000 -->\n      <g transform=\"translate(20.878125 374.096995)scale(0.1 -0.1)\">\n       <use xlink:href=\"#DejaVuSans-49\"/>\n       <use x=\"63.623047\" xlink:href=\"#DejaVuSans-48\"/>\n       <use x=\"127.246094\" xlink:href=\"#DejaVuSans-48\"/>\n       <use x=\"190.869141\" xlink:href=\"#DejaVuSans-48\"/>\n       <use x=\"254.492188\" xlink:href=\"#DejaVuSans-48\"/>\n      </g>\n     </g>\n    </g>\n    <g id=\"ytick_3\">\n     <g id=\"line2d_11\">\n      <g>\n       <use style=\"stroke:#000000;stroke-width:0.8;\" x=\"59.690625\" xlink:href=\"#mb54d303b7f\" y=\"312.097114\"/>\n      </g>\n     </g>\n     <g id=\"text_12\">\n      <!-- 20000 -->\n      <g transform=\"translate(20.878125 315.896333)scale(0.1 -0.1)\">\n       <use xlink:href=\"#DejaVuSans-50\"/>\n       <use x=\"63.623047\" xlink:href=\"#DejaVuSans-48\"/>\n       <use x=\"127.246094\" xlink:href=\"#DejaVuSans-48\"/>\n       <use x=\"190.869141\" xlink:href=\"#DejaVuSans-48\"/>\n       <use x=\"254.492188\" xlink:href=\"#DejaVuSans-48\"/>\n      </g>\n     </g>\n    </g>\n    <g id=\"ytick_4\">\n     <g id=\"line2d_12\">\n      <g>\n       <use style=\"stroke:#000000;stroke-width:0.8;\" x=\"59.690625\" xlink:href=\"#mb54d303b7f\" y=\"253.896453\"/>\n      </g>\n     </g>\n     <g id=\"text_13\">\n      <!-- 30000 -->\n      <defs>\n       <path d=\"M 40.578125 39.3125 \nQ 47.65625 37.796875 51.625 33 \nQ 55.609375 28.21875 55.609375 21.1875 \nQ 55.609375 10.40625 48.1875 4.484375 \nQ 40.765625 -1.421875 27.09375 -1.421875 \nQ 22.515625 -1.421875 17.65625 -0.515625 \nQ 12.796875 0.390625 7.625 2.203125 \nL 7.625 11.71875 \nQ 11.71875 9.328125 16.59375 8.109375 \nQ 21.484375 6.890625 26.8125 6.890625 \nQ 36.078125 6.890625 40.9375 10.546875 \nQ 45.796875 14.203125 45.796875 21.1875 \nQ 45.796875 27.640625 41.28125 31.265625 \nQ 36.765625 34.90625 28.71875 34.90625 \nL 20.21875 34.90625 \nL 20.21875 43.015625 \nL 29.109375 43.015625 \nQ 36.375 43.015625 40.234375 45.921875 \nQ 44.09375 48.828125 44.09375 54.296875 \nQ 44.09375 59.90625 40.109375 62.90625 \nQ 36.140625 65.921875 28.71875 65.921875 \nQ 24.65625 65.921875 20.015625 65.03125 \nQ 15.375 64.15625 9.8125 62.3125 \nL 9.8125 71.09375 \nQ 15.4375 72.65625 20.34375 73.4375 \nQ 25.25 74.21875 29.59375 74.21875 \nQ 40.828125 74.21875 47.359375 69.109375 \nQ 53.90625 64.015625 53.90625 55.328125 \nQ 53.90625 49.265625 50.4375 45.09375 \nQ 46.96875 40.921875 40.578125 39.3125 \nz\n\" id=\"DejaVuSans-51\"/>\n      </defs>\n      <g transform=\"translate(20.878125 257.695671)scale(0.1 -0.1)\">\n       <use xlink:href=\"#DejaVuSans-51\"/>\n       <use x=\"63.623047\" xlink:href=\"#DejaVuSans-48\"/>\n       <use x=\"127.246094\" xlink:href=\"#DejaVuSans-48\"/>\n       <use x=\"190.869141\" xlink:href=\"#DejaVuSans-48\"/>\n       <use x=\"254.492188\" xlink:href=\"#DejaVuSans-48\"/>\n      </g>\n     </g>\n    </g>\n    <g id=\"ytick_5\">\n     <g id=\"line2d_13\">\n      <g>\n       <use style=\"stroke:#000000;stroke-width:0.8;\" x=\"59.690625\" xlink:href=\"#mb54d303b7f\" y=\"195.695791\"/>\n      </g>\n     </g>\n     <g id=\"text_14\">\n      <!-- 40000 -->\n      <g transform=\"translate(20.878125 199.49501)scale(0.1 -0.1)\">\n       <use xlink:href=\"#DejaVuSans-52\"/>\n       <use x=\"63.623047\" xlink:href=\"#DejaVuSans-48\"/>\n       <use x=\"127.246094\" xlink:href=\"#DejaVuSans-48\"/>\n       <use x=\"190.869141\" xlink:href=\"#DejaVuSans-48\"/>\n       <use x=\"254.492188\" xlink:href=\"#DejaVuSans-48\"/>\n      </g>\n     </g>\n    </g>\n    <g id=\"ytick_6\">\n     <g id=\"line2d_14\">\n      <g>\n       <use style=\"stroke:#000000;stroke-width:0.8;\" x=\"59.690625\" xlink:href=\"#mb54d303b7f\" y=\"137.495129\"/>\n      </g>\n     </g>\n     <g id=\"text_15\">\n      <!-- 50000 -->\n      <defs>\n       <path d=\"M 10.796875 72.90625 \nL 49.515625 72.90625 \nL 49.515625 64.59375 \nL 19.828125 64.59375 \nL 19.828125 46.734375 \nQ 21.96875 47.46875 24.109375 47.828125 \nQ 26.265625 48.1875 28.421875 48.1875 \nQ 40.625 48.1875 47.75 41.5 \nQ 54.890625 34.8125 54.890625 23.390625 \nQ 54.890625 11.625 47.5625 5.09375 \nQ 40.234375 -1.421875 26.90625 -1.421875 \nQ 22.3125 -1.421875 17.546875 -0.640625 \nQ 12.796875 0.140625 7.71875 1.703125 \nL 7.71875 11.625 \nQ 12.109375 9.234375 16.796875 8.0625 \nQ 21.484375 6.890625 26.703125 6.890625 \nQ 35.15625 6.890625 40.078125 11.328125 \nQ 45.015625 15.765625 45.015625 23.390625 \nQ 45.015625 31 40.078125 35.4375 \nQ 35.15625 39.890625 26.703125 39.890625 \nQ 22.75 39.890625 18.8125 39.015625 \nQ 14.890625 38.140625 10.796875 36.28125 \nz\n\" id=\"DejaVuSans-53\"/>\n      </defs>\n      <g transform=\"translate(20.878125 141.294348)scale(0.1 -0.1)\">\n       <use xlink:href=\"#DejaVuSans-53\"/>\n       <use x=\"63.623047\" xlink:href=\"#DejaVuSans-48\"/>\n       <use x=\"127.246094\" xlink:href=\"#DejaVuSans-48\"/>\n       <use x=\"190.869141\" xlink:href=\"#DejaVuSans-48\"/>\n       <use x=\"254.492188\" xlink:href=\"#DejaVuSans-48\"/>\n      </g>\n     </g>\n    </g>\n    <g id=\"ytick_7\">\n     <g id=\"line2d_15\">\n      <g>\n       <use style=\"stroke:#000000;stroke-width:0.8;\" x=\"59.690625\" xlink:href=\"#mb54d303b7f\" y=\"79.294468\"/>\n      </g>\n     </g>\n     <g id=\"text_16\">\n      <!-- 60000 -->\n      <g transform=\"translate(20.878125 83.093686)scale(0.1 -0.1)\">\n       <use xlink:href=\"#DejaVuSans-54\"/>\n       <use x=\"63.623047\" xlink:href=\"#DejaVuSans-48\"/>\n       <use x=\"127.246094\" xlink:href=\"#DejaVuSans-48\"/>\n       <use x=\"190.869141\" xlink:href=\"#DejaVuSans-48\"/>\n       <use x=\"254.492188\" xlink:href=\"#DejaVuSans-48\"/>\n      </g>\n     </g>\n    </g>\n    <g id=\"ytick_8\">\n     <g id=\"line2d_16\">\n      <g>\n       <use style=\"stroke:#000000;stroke-width:0.8;\" x=\"59.690625\" xlink:href=\"#mb54d303b7f\" y=\"21.093806\"/>\n      </g>\n     </g>\n     <g id=\"text_17\">\n      <!-- 70000 -->\n      <defs>\n       <path d=\"M 8.203125 72.90625 \nL 55.078125 72.90625 \nL 55.078125 68.703125 \nL 28.609375 0 \nL 18.3125 0 \nL 43.21875 64.59375 \nL 8.203125 64.59375 \nz\n\" id=\"DejaVuSans-55\"/>\n      </defs>\n      <g transform=\"translate(20.878125 24.893025)scale(0.1 -0.1)\">\n       <use xlink:href=\"#DejaVuSans-55\"/>\n       <use x=\"63.623047\" xlink:href=\"#DejaVuSans-48\"/>\n       <use x=\"127.246094\" xlink:href=\"#DejaVuSans-48\"/>\n       <use x=\"190.869141\" xlink:href=\"#DejaVuSans-48\"/>\n       <use x=\"254.492188\" xlink:href=\"#DejaVuSans-48\"/>\n      </g>\n     </g>\n    </g>\n    <g id=\"text_18\">\n     <!-- Nb -->\n     <defs>\n      <path d=\"M 9.8125 72.90625 \nL 23.09375 72.90625 \nL 55.421875 11.921875 \nL 55.421875 72.90625 \nL 64.984375 72.90625 \nL 64.984375 0 \nL 51.703125 0 \nL 19.390625 60.984375 \nL 19.390625 0 \nL 9.8125 0 \nz\n\" id=\"DejaVuSans-78\"/>\n     </defs>\n     <g transform=\"translate(14.798438 231.563281)rotate(-90)scale(0.1 -0.1)\">\n      <use xlink:href=\"#DejaVuSans-78\"/>\n      <use x=\"74.804688\" xlink:href=\"#DejaVuSans-98\"/>\n     </g>\n    </g>\n   </g>\n   <g id=\"patch_5\">\n    <path d=\"M 59.690625 428.498437 \nL 59.690625 20.798437 \n\" style=\"fill:none;stroke:#000000;stroke-linecap:square;stroke-linejoin:miter;stroke-width:0.8;\"/>\n   </g>\n   <g id=\"patch_6\">\n    <path d=\"M 440.14517 428.498437 \nL 440.14517 20.798437 \n\" style=\"fill:none;stroke:#000000;stroke-linecap:square;stroke-linejoin:miter;stroke-width:0.8;\"/>\n   </g>\n   <g id=\"patch_7\">\n    <path d=\"M 59.690625 428.498437 \nL 440.14517 428.498437 \n\" style=\"fill:none;stroke:#000000;stroke-linecap:square;stroke-linejoin:miter;stroke-width:0.8;\"/>\n   </g>\n   <g id=\"patch_8\">\n    <path d=\"M 59.690625 20.798437 \nL 440.14517 20.798437 \n\" style=\"fill:none;stroke:#000000;stroke-linecap:square;stroke-linejoin:miter;stroke-width:0.8;\"/>\n   </g>\n   <g id=\"text_19\">\n    <!-- AUC nb_words_question2-common_words : 0.323137 -->\n    <defs>\n     <path d=\"M 34.1875 63.1875 \nL 20.796875 26.90625 \nL 47.609375 26.90625 \nz\nM 28.609375 72.90625 \nL 39.796875 72.90625 \nL 67.578125 0 \nL 57.328125 0 \nL 50.6875 18.703125 \nL 17.828125 18.703125 \nL 11.1875 0 \nL 0.78125 0 \nz\n\" id=\"DejaVuSans-65\"/>\n     <path d=\"M 8.6875 72.90625 \nL 18.609375 72.90625 \nL 18.609375 28.609375 \nQ 18.609375 16.890625 22.84375 11.734375 \nQ 27.09375 6.59375 36.625 6.59375 \nQ 46.09375 6.59375 50.34375 11.734375 \nQ 54.59375 16.890625 54.59375 28.609375 \nL 54.59375 72.90625 \nL 64.5 72.90625 \nL 64.5 27.390625 \nQ 64.5 13.140625 57.4375 5.859375 \nQ 50.390625 -1.421875 36.625 -1.421875 \nQ 22.796875 -1.421875 15.734375 5.859375 \nQ 8.6875 13.140625 8.6875 27.390625 \nz\n\" id=\"DejaVuSans-85\"/>\n     <path d=\"M 64.40625 67.28125 \nL 64.40625 56.890625 \nQ 59.421875 61.53125 53.78125 63.8125 \nQ 48.140625 66.109375 41.796875 66.109375 \nQ 29.296875 66.109375 22.65625 58.46875 \nQ 16.015625 50.828125 16.015625 36.375 \nQ 16.015625 21.96875 22.65625 14.328125 \nQ 29.296875 6.6875 41.796875 6.6875 \nQ 48.140625 6.6875 53.78125 8.984375 \nQ 59.421875 11.28125 64.40625 15.921875 \nL 64.40625 5.609375 \nQ 59.234375 2.09375 53.4375 0.328125 \nQ 47.65625 -1.421875 41.21875 -1.421875 \nQ 24.65625 -1.421875 15.125 8.703125 \nQ 5.609375 18.84375 5.609375 36.375 \nQ 5.609375 53.953125 15.125 64.078125 \nQ 24.65625 74.21875 41.21875 74.21875 \nQ 47.75 74.21875 53.53125 72.484375 \nQ 59.328125 70.75 64.40625 67.28125 \nz\n\" id=\"DejaVuSans-67\"/>\n     <path id=\"DejaVuSans-32\"/>\n     <path d=\"M 11.71875 12.40625 \nL 22.015625 12.40625 \nL 22.015625 0 \nL 11.71875 0 \nz\nM 11.71875 51.703125 \nL 22.015625 51.703125 \nL 22.015625 39.3125 \nL 11.71875 39.3125 \nz\n\" id=\"DejaVuSans-58\"/>\n     <path d=\"M 10.6875 12.40625 \nL 21 12.40625 \nL 21 0 \nL 10.6875 0 \nz\n\" id=\"DejaVuSans-46\"/>\n    </defs>\n    <g transform=\"translate(117.039773 14.798437)scale(0.1 -0.1)\">\n     <use xlink:href=\"#DejaVuSans-65\"/>\n     <use x=\"68.408203\" xlink:href=\"#DejaVuSans-85\"/>\n     <use x=\"141.601562\" xlink:href=\"#DejaVuSans-67\"/>\n     <use x=\"211.425781\" xlink:href=\"#DejaVuSans-32\"/>\n     <use x=\"243.212891\" xlink:href=\"#DejaVuSans-110\"/>\n     <use x=\"306.591797\" xlink:href=\"#DejaVuSans-98\"/>\n     <use x=\"370.068359\" xlink:href=\"#DejaVuSans-95\"/>\n     <use x=\"420.068359\" xlink:href=\"#DejaVuSans-119\"/>\n     <use x=\"501.855469\" xlink:href=\"#DejaVuSans-111\"/>\n     <use x=\"563.037109\" xlink:href=\"#DejaVuSans-114\"/>\n     <use x=\"602.400391\" xlink:href=\"#DejaVuSans-100\"/>\n     <use x=\"665.876953\" xlink:href=\"#DejaVuSans-115\"/>\n     <use x=\"717.976562\" xlink:href=\"#DejaVuSans-95\"/>\n     <use x=\"767.976562\" xlink:href=\"#DejaVuSans-113\"/>\n     <use x=\"831.453125\" xlink:href=\"#DejaVuSans-117\"/>\n     <use x=\"894.832031\" xlink:href=\"#DejaVuSans-101\"/>\n     <use x=\"956.355469\" xlink:href=\"#DejaVuSans-115\"/>\n     <use x=\"1008.455078\" xlink:href=\"#DejaVuSans-116\"/>\n     <use x=\"1047.664062\" xlink:href=\"#DejaVuSans-105\"/>\n     <use x=\"1075.447266\" xlink:href=\"#DejaVuSans-111\"/>\n     <use x=\"1136.628906\" xlink:href=\"#DejaVuSans-110\"/>\n     <use x=\"1200.007812\" xlink:href=\"#DejaVuSans-50\"/>\n     <use x=\"1263.630859\" xlink:href=\"#DejaVuSans-45\"/>\n     <use x=\"1299.714844\" xlink:href=\"#DejaVuSans-99\"/>\n     <use x=\"1354.695312\" xlink:href=\"#DejaVuSans-111\"/>\n     <use x=\"1415.876953\" xlink:href=\"#DejaVuSans-109\"/>\n     <use x=\"1513.289062\" xlink:href=\"#DejaVuSans-109\"/>\n     <use x=\"1610.701172\" xlink:href=\"#DejaVuSans-111\"/>\n     <use x=\"1671.882812\" xlink:href=\"#DejaVuSans-110\"/>\n     <use x=\"1735.261719\" xlink:href=\"#DejaVuSans-95\"/>\n     <use x=\"1785.261719\" xlink:href=\"#DejaVuSans-119\"/>\n     <use x=\"1867.048828\" xlink:href=\"#DejaVuSans-111\"/>\n     <use x=\"1928.230469\" xlink:href=\"#DejaVuSans-114\"/>\n     <use x=\"1967.59375\" xlink:href=\"#DejaVuSans-100\"/>\n     <use x=\"2031.070312\" xlink:href=\"#DejaVuSans-115\"/>\n     <use x=\"2083.169922\" xlink:href=\"#DejaVuSans-32\"/>\n     <use x=\"2114.957031\" xlink:href=\"#DejaVuSans-58\"/>\n     <use x=\"2148.648438\" xlink:href=\"#DejaVuSans-32\"/>\n     <use x=\"2180.435547\" xlink:href=\"#DejaVuSans-48\"/>\n     <use x=\"2244.058594\" xlink:href=\"#DejaVuSans-46\"/>\n     <use x=\"2275.845703\" xlink:href=\"#DejaVuSans-51\"/>\n     <use x=\"2339.46875\" xlink:href=\"#DejaVuSans-50\"/>\n     <use x=\"2403.091797\" xlink:href=\"#DejaVuSans-51\"/>\n     <use x=\"2466.714844\" xlink:href=\"#DejaVuSans-49\"/>\n     <use x=\"2530.337891\" xlink:href=\"#DejaVuSans-51\"/>\n     <use x=\"2593.960938\" xlink:href=\"#DejaVuSans-55\"/>\n    </g>\n   </g>\n   <g id=\"legend_1\">\n    <g id=\"patch_9\">\n     <path d=\"M 357.17642 58.154687 \nL 433.14517 58.154687 \nQ 435.14517 58.154687 435.14517 56.154687 \nL 435.14517 27.798437 \nQ 435.14517 25.798437 433.14517 25.798437 \nL 357.17642 25.798437 \nQ 355.17642 25.798437 355.17642 27.798437 \nL 355.17642 56.154687 \nQ 355.17642 58.154687 357.17642 58.154687 \nz\n\" style=\"fill:#ffffff;opacity:0.8;stroke:#cccccc;stroke-linejoin:miter;\"/>\n    </g>\n    <g id=\"patch_10\">\n     <path d=\"M 359.17642 37.396875 \nL 379.17642 37.396875 \nL 379.17642 30.396875 \nL 359.17642 30.396875 \nz\n\" style=\"fill:none;stroke:#d62728;stroke-linejoin:miter;\"/>\n    </g>\n    <g id=\"text_20\">\n     <!-- Same -->\n     <defs>\n      <path d=\"M 53.515625 70.515625 \nL 53.515625 60.890625 \nQ 47.90625 63.578125 42.921875 64.890625 \nQ 37.9375 66.21875 33.296875 66.21875 \nQ 25.25 66.21875 20.875 63.09375 \nQ 16.5 59.96875 16.5 54.203125 \nQ 16.5 49.359375 19.40625 46.890625 \nQ 22.3125 44.4375 30.421875 42.921875 \nL 36.375 41.703125 \nQ 47.40625 39.59375 52.65625 34.296875 \nQ 57.90625 29 57.90625 20.125 \nQ 57.90625 9.515625 50.796875 4.046875 \nQ 43.703125 -1.421875 29.984375 -1.421875 \nQ 24.8125 -1.421875 18.96875 -0.25 \nQ 13.140625 0.921875 6.890625 3.21875 \nL 6.890625 13.375 \nQ 12.890625 10.015625 18.65625 8.296875 \nQ 24.421875 6.59375 29.984375 6.59375 \nQ 38.421875 6.59375 43.015625 9.90625 \nQ 47.609375 13.234375 47.609375 19.390625 \nQ 47.609375 24.75 44.3125 27.78125 \nQ 41.015625 30.8125 33.5 32.328125 \nL 27.484375 33.5 \nQ 16.453125 35.6875 11.515625 40.375 \nQ 6.59375 45.0625 6.59375 53.421875 \nQ 6.59375 63.09375 13.40625 68.65625 \nQ 20.21875 74.21875 32.171875 74.21875 \nQ 37.3125 74.21875 42.625 73.28125 \nQ 47.953125 72.359375 53.515625 70.515625 \nz\n\" id=\"DejaVuSans-83\"/>\n      <path d=\"M 34.28125 27.484375 \nQ 23.390625 27.484375 19.1875 25 \nQ 14.984375 22.515625 14.984375 16.5 \nQ 14.984375 11.71875 18.140625 8.90625 \nQ 21.296875 6.109375 26.703125 6.109375 \nQ 34.1875 6.109375 38.703125 11.40625 \nQ 43.21875 16.703125 43.21875 25.484375 \nL 43.21875 27.484375 \nz\nM 52.203125 31.203125 \nL 52.203125 0 \nL 43.21875 0 \nL 43.21875 8.296875 \nQ 40.140625 3.328125 35.546875 0.953125 \nQ 30.953125 -1.421875 24.3125 -1.421875 \nQ 15.921875 -1.421875 10.953125 3.296875 \nQ 6 8.015625 6 15.921875 \nQ 6 25.140625 12.171875 29.828125 \nQ 18.359375 34.515625 30.609375 34.515625 \nL 43.21875 34.515625 \nL 43.21875 35.40625 \nQ 43.21875 41.609375 39.140625 45 \nQ 35.0625 48.390625 27.6875 48.390625 \nQ 23 48.390625 18.546875 47.265625 \nQ 14.109375 46.140625 10.015625 43.890625 \nL 10.015625 52.203125 \nQ 14.9375 54.109375 19.578125 55.046875 \nQ 24.21875 56 28.609375 56 \nQ 40.484375 56 46.34375 49.84375 \nQ 52.203125 43.703125 52.203125 31.203125 \nz\n\" id=\"DejaVuSans-97\"/>\n     </defs>\n     <g transform=\"translate(387.17642 37.396875)scale(0.1 -0.1)\">\n      <use xlink:href=\"#DejaVuSans-83\"/>\n      <use x=\"63.476562\" xlink:href=\"#DejaVuSans-97\"/>\n      <use x=\"124.755859\" xlink:href=\"#DejaVuSans-109\"/>\n      <use x=\"222.167969\" xlink:href=\"#DejaVuSans-101\"/>\n     </g>\n    </g>\n    <g id=\"patch_11\">\n     <path d=\"M 359.17642 52.075 \nL 379.17642 52.075 \nL 379.17642 45.075 \nL 359.17642 45.075 \nz\n\" style=\"fill:none;opacity:0.75;stroke:#2ca02c;stroke-linejoin:miter;\"/>\n    </g>\n    <g id=\"text_21\">\n     <!-- Different -->\n     <defs>\n      <path d=\"M 19.671875 64.796875 \nL 19.671875 8.109375 \nL 31.59375 8.109375 \nQ 46.6875 8.109375 53.6875 14.9375 \nQ 60.6875 21.78125 60.6875 36.53125 \nQ 60.6875 51.171875 53.6875 57.984375 \nQ 46.6875 64.796875 31.59375 64.796875 \nz\nM 9.8125 72.90625 \nL 30.078125 72.90625 \nQ 51.265625 72.90625 61.171875 64.09375 \nQ 71.09375 55.28125 71.09375 36.53125 \nQ 71.09375 17.671875 61.125 8.828125 \nQ 51.171875 0 30.078125 0 \nL 9.8125 0 \nz\n\" id=\"DejaVuSans-68\"/>\n      <path d=\"M 37.109375 75.984375 \nL 37.109375 68.5 \nL 28.515625 68.5 \nQ 23.6875 68.5 21.796875 66.546875 \nQ 19.921875 64.59375 19.921875 59.515625 \nL 19.921875 54.6875 \nL 34.71875 54.6875 \nL 34.71875 47.703125 \nL 19.921875 47.703125 \nL 19.921875 0 \nL 10.890625 0 \nL 10.890625 47.703125 \nL 2.296875 47.703125 \nL 2.296875 54.6875 \nL 10.890625 54.6875 \nL 10.890625 58.5 \nQ 10.890625 67.625 15.140625 71.796875 \nQ 19.390625 75.984375 28.609375 75.984375 \nz\n\" id=\"DejaVuSans-102\"/>\n     </defs>\n     <g transform=\"translate(387.17642 52.075)scale(0.1 -0.1)\">\n      <use xlink:href=\"#DejaVuSans-68\"/>\n      <use x=\"77.001953\" xlink:href=\"#DejaVuSans-105\"/>\n      <use x=\"104.785156\" xlink:href=\"#DejaVuSans-102\"/>\n      <use x=\"139.990234\" xlink:href=\"#DejaVuSans-102\"/>\n      <use x=\"175.195312\" xlink:href=\"#DejaVuSans-101\"/>\n      <use x=\"236.71875\" xlink:href=\"#DejaVuSans-114\"/>\n      <use x=\"275.582031\" xlink:href=\"#DejaVuSans-101\"/>\n      <use x=\"337.105469\" xlink:href=\"#DejaVuSans-110\"/>\n      <use x=\"400.484375\" xlink:href=\"#DejaVuSans-116\"/>\n     </g>\n    </g>\n   </g>\n  </g>\n  <g id=\"axes_2\">\n   <g id=\"patch_12\">\n    <path d=\"M 516.23608 428.498437 \nL 896.690625 428.498437 \nL 896.690625 20.798437 \nL 516.23608 20.798437 \nz\n\" style=\"fill:#ffffff;\"/>\n   </g>\n   <g id=\"patch_13\">\n    <path clip-path=\"url(#p3f7f100830)\" d=\"M 533.529468 428.498437 \nL 533.529468 420.98075 \nL 540.446823 420.98075 \nL 540.446823 428.484199 \nL 547.364179 428.484199 \nL 547.364179 428.469961 \nL 554.281534 428.469961 \nL 554.281534 428.071296 \nL 561.198889 428.071296 \nL 561.198889 426.462397 \nL 568.116245 426.462397 \nL 568.116245 422.746267 \nL 575.0336 422.746267 \nL 575.0336 422.461507 \nL 581.950956 422.461507 \nL 581.950956 415.840816 \nL 588.868311 415.840816 \nL 588.868311 418.318236 \nL 595.785666 418.318236 \nL 595.785666 415.171628 \nL 602.703022 415.171628 \nL 602.703022 405.54671 \nL 609.620377 405.54671 \nL 609.620377 391.878187 \nL 616.537732 391.878187 \nL 616.537732 395.637031 \nL 623.455088 395.637031 \nL 623.455088 384.787641 \nL 630.372443 384.787641 \nL 630.372443 385.499543 \nL 637.289799 385.499543 \nL 637.289799 361.722008 \nL 644.207154 361.722008 \nL 644.207154 361.294867 \nL 651.124509 361.294867 \nL 651.124509 374.23725 \nL 658.041865 374.23725 \nL 658.041865 356.809883 \nL 664.95922 356.809883 \nL 664.95922 394.270178 \nL 671.876575 394.270178 \nL 671.876575 328.590079 \nL 678.793931 328.590079 \nL 678.793931 343.226788 \nL 685.711286 343.226788 \nL 685.711286 359.031018 \nL 692.628642 359.031018 \nL 692.628642 330.98207 \nL 699.545997 330.98207 \nL 699.545997 410.145598 \nL 706.463352 410.145598 \nL 706.463352 307.930676 \nL 713.380708 307.930676 \nL 713.380708 339.510659 \nL 720.298063 339.510659 \nL 720.298063 356.126457 \nL 727.215418 356.126457 \nL 727.215418 354.702652 \nL 734.132774 354.702652 \nL 734.132774 376.586527 \nL 741.050129 376.586527 \nL 741.050129 345.148924 \nL 747.967485 345.148924 \nL 747.967485 352.367613 \nL 754.88484 352.367613 \nL 754.88484 417.805666 \nL 761.802195 417.805666 \nL 761.802195 304.285736 \nL 768.719551 304.285736 \nL 768.719551 396.291981 \nL 775.636906 396.291981 \nL 775.636906 363.160051 \nL 782.554261 363.160051 \nL 782.554261 381.313558 \nL 789.471617 381.313558 \nL 789.471617 382.808552 \nL 796.388972 382.808552 \nL 796.388972 371.446593 \nL 803.306327 371.446593 \nL 803.306327 418.901995 \nL 810.223683 418.901995 \nL 810.223683 371.560497 \nL 817.141038 371.560497 \nL 817.141038 384.873069 \nL 824.058394 384.873069 \nL 824.058394 377.170287 \nL 830.975749 377.170287 \nL 830.975749 404.606999 \nL 837.893104 404.606999 \nL 837.893104 403.311337 \nL 844.81046 403.311337 \nL 844.81046 405.560948 \nL 851.727815 405.560948 \nL 851.727815 407.910225 \nL 858.64517 407.910225 \nL 858.64517 413.292206 \nL 865.562526 413.292206 \nL 865.562526 426.063732 \nL 872.479881 426.063732 \nL 872.479881 426.305779 \nL 879.397237 426.305779 \nL 879.397237 428.498437 \n\" style=\"fill:none;stroke:#d62728;stroke-linejoin:miter;\"/>\n   </g>\n   <g id=\"patch_14\">\n    <path clip-path=\"url(#p3f7f100830)\" d=\"M 533.529468 428.498437 \nL 533.529468 40.212723 \nL 540.446823 40.212723 \nL 540.446823 426.704444 \nL 547.364179 426.704444 \nL 547.364179 382.466839 \nL 554.281534 382.466839 \nL 554.281534 339.838134 \nL 561.198889 339.838134 \nL 561.198889 310.635904 \nL 568.116245 310.635904 \nL 568.116245 274.001416 \nL 575.0336 274.001416 \nL 575.0336 303.645024 \nL 581.950956 303.645024 \nL 581.950956 310.963379 \nL 588.868311 310.963379 \nL 588.868311 306.777394 \nL 595.785666 306.777394 \nL 595.785666 316.174504 \nL 602.703022 316.174504 \nL 602.703022 288.040128 \nL 609.620377 288.040128 \nL 609.620377 289.378504 \nL 616.537732 289.378504 \nL 616.537732 309.311766 \nL 623.455088 309.311766 \nL 623.455088 311.518663 \nL 630.372443 311.518663 \nL 630.372443 329.843026 \nL 637.289799 329.843026 \nL 637.289799 313.58318 \nL 644.207154 313.58318 \nL 644.207154 323.777619 \nL 651.124509 323.777619 \nL 651.124509 353.962274 \nL 658.041865 353.962274 \nL 658.041865 341.660603 \nL 664.95922 341.660603 \nL 664.95922 390.212336 \nL 671.876575 390.212336 \nL 671.876575 328.091747 \nL 678.793931 328.091747 \nL 678.793931 352.16828 \nL 685.711286 352.16828 \nL 685.711286 365.253043 \nL 692.628642 365.253043 \nL 692.628642 351.612997 \nL 699.545997 351.612997 \nL 699.545997 415.613007 \nL 706.463352 415.613007 \nL 706.463352 331.693972 \nL 713.380708 331.693972 \nL 713.380708 365.623233 \nL 720.298063 365.623233 \nL 720.298063 376.031243 \nL 727.215418 376.031243 \nL 727.215418 372.799207 \nL 734.132774 372.799207 \nL 734.132774 396.363171 \nL 741.050129 396.363171 \nL 741.050129 367.346036 \nL 747.967485 367.346036 \nL 747.967485 377.141811 \nL 754.88484 377.141811 \nL 754.88484 421.920461 \nL 761.802195 421.920461 \nL 761.802195 337.716665 \nL 768.719551 337.716665 \nL 768.719551 406.842372 \nL 775.636906 406.842372 \nL 775.636906 383.677073 \nL 782.554261 383.677073 \nL 782.554261 394.384083 \nL 789.471617 394.384083 \nL 789.471617 388.162057 \nL 796.388972 388.162057 \nL 796.388972 387.806106 \nL 803.306327 387.806106 \nL 803.306327 418.716901 \nL 810.223683 418.716901 \nL 810.223683 381.285082 \nL 817.141038 381.285082 \nL 817.141038 389.941813 \nL 824.058394 389.941813 \nL 824.058394 385.442591 \nL 830.975749 385.442591 \nL 830.975749 393.045706 \nL 837.893104 393.045706 \nL 837.893104 398.057498 \nL 844.81046 398.057498 \nL 844.81046 383.036361 \nL 851.727815 383.036361 \nL 851.727815 390.739143 \nL 858.64517 390.739143 \nL 858.64517 415.257056 \nL 865.562526 415.257056 \nL 865.562526 427.373632 \nL 872.479881 427.373632 \nL 872.479881 427.985868 \nL 879.397237 427.985868 \nL 879.397237 428.498437 \n\" style=\"fill:none;opacity:0.75;stroke:#2ca02c;stroke-linejoin:miter;\"/>\n   </g>\n   <g id=\"matplotlib.axis_3\">\n    <g id=\"xtick_9\">\n     <g id=\"line2d_17\">\n      <g>\n       <use style=\"stroke:#000000;stroke-width:0.8;\" x=\"533.529468\" xlink:href=\"#md1abde0deb\" y=\"428.498437\"/>\n      </g>\n     </g>\n     <g id=\"text_22\">\n      <!-- 0.0 -->\n      <g transform=\"translate(525.577905 443.096875)scale(0.1 -0.1)\">\n       <use xlink:href=\"#DejaVuSans-48\"/>\n       <use x=\"63.623047\" xlink:href=\"#DejaVuSans-46\"/>\n       <use x=\"95.410156\" xlink:href=\"#DejaVuSans-48\"/>\n      </g>\n     </g>\n    </g>\n    <g id=\"xtick_10\">\n     <g id=\"line2d_18\">\n      <g>\n       <use style=\"stroke:#000000;stroke-width:0.8;\" x=\"602.703022\" xlink:href=\"#md1abde0deb\" y=\"428.498437\"/>\n      </g>\n     </g>\n     <g id=\"text_23\">\n      <!-- 0.1 -->\n      <g transform=\"translate(594.751459 443.096875)scale(0.1 -0.1)\">\n       <use xlink:href=\"#DejaVuSans-48\"/>\n       <use x=\"63.623047\" xlink:href=\"#DejaVuSans-46\"/>\n       <use x=\"95.410156\" xlink:href=\"#DejaVuSans-49\"/>\n      </g>\n     </g>\n    </g>\n    <g id=\"xtick_11\">\n     <g id=\"line2d_19\">\n      <g>\n       <use style=\"stroke:#000000;stroke-width:0.8;\" x=\"671.876575\" xlink:href=\"#md1abde0deb\" y=\"428.498437\"/>\n      </g>\n     </g>\n     <g id=\"text_24\">\n      <!-- 0.2 -->\n      <g transform=\"translate(663.925013 443.096875)scale(0.1 -0.1)\">\n       <use xlink:href=\"#DejaVuSans-48\"/>\n       <use x=\"63.623047\" xlink:href=\"#DejaVuSans-46\"/>\n       <use x=\"95.410156\" xlink:href=\"#DejaVuSans-50\"/>\n      </g>\n     </g>\n    </g>\n    <g id=\"xtick_12\">\n     <g id=\"line2d_20\">\n      <g>\n       <use style=\"stroke:#000000;stroke-width:0.8;\" x=\"741.050129\" xlink:href=\"#md1abde0deb\" y=\"428.498437\"/>\n      </g>\n     </g>\n     <g id=\"text_25\">\n      <!-- 0.3 -->\n      <g transform=\"translate(733.098567 443.096875)scale(0.1 -0.1)\">\n       <use xlink:href=\"#DejaVuSans-48\"/>\n       <use x=\"63.623047\" xlink:href=\"#DejaVuSans-46\"/>\n       <use x=\"95.410156\" xlink:href=\"#DejaVuSans-51\"/>\n      </g>\n     </g>\n    </g>\n    <g id=\"xtick_13\">\n     <g id=\"line2d_21\">\n      <g>\n       <use style=\"stroke:#000000;stroke-width:0.8;\" x=\"810.223683\" xlink:href=\"#md1abde0deb\" y=\"428.498437\"/>\n      </g>\n     </g>\n     <g id=\"text_26\">\n      <!-- 0.4 -->\n      <g transform=\"translate(802.27212 443.096875)scale(0.1 -0.1)\">\n       <use xlink:href=\"#DejaVuSans-48\"/>\n       <use x=\"63.623047\" xlink:href=\"#DejaVuSans-46\"/>\n       <use x=\"95.410156\" xlink:href=\"#DejaVuSans-52\"/>\n      </g>\n     </g>\n    </g>\n    <g id=\"xtick_14\">\n     <g id=\"line2d_22\">\n      <g>\n       <use style=\"stroke:#000000;stroke-width:0.8;\" x=\"879.397237\" xlink:href=\"#md1abde0deb\" y=\"428.498437\"/>\n      </g>\n     </g>\n     <g id=\"text_27\">\n      <!-- 0.5 -->\n      <g transform=\"translate(871.445674 443.096875)scale(0.1 -0.1)\">\n       <use xlink:href=\"#DejaVuSans-48\"/>\n       <use x=\"63.623047\" xlink:href=\"#DejaVuSans-46\"/>\n       <use x=\"95.410156\" xlink:href=\"#DejaVuSans-53\"/>\n      </g>\n     </g>\n    </g>\n    <g id=\"text_28\">\n     <!-- nb_common_words/(nb_words_question1+nb_words_question2) -->\n     <defs>\n      <path d=\"M 25.390625 72.90625 \nL 33.6875 72.90625 \nL 8.296875 -9.28125 \nL 0 -9.28125 \nz\n\" id=\"DejaVuSans-47\"/>\n      <path d=\"M 31 75.875 \nQ 24.46875 64.65625 21.28125 53.65625 \nQ 18.109375 42.671875 18.109375 31.390625 \nQ 18.109375 20.125 21.3125 9.0625 \nQ 24.515625 -2 31 -13.1875 \nL 23.1875 -13.1875 \nQ 15.875 -1.703125 12.234375 9.375 \nQ 8.59375 20.453125 8.59375 31.390625 \nQ 8.59375 42.28125 12.203125 53.3125 \nQ 15.828125 64.359375 23.1875 75.875 \nz\n\" id=\"DejaVuSans-40\"/>\n      <path d=\"M 46 62.703125 \nL 46 35.5 \nL 73.1875 35.5 \nL 73.1875 27.203125 \nL 46 27.203125 \nL 46 0 \nL 37.796875 0 \nL 37.796875 27.203125 \nL 10.59375 27.203125 \nL 10.59375 35.5 \nL 37.796875 35.5 \nL 37.796875 62.703125 \nz\n\" id=\"DejaVuSans-43\"/>\n      <path d=\"M 8.015625 75.875 \nL 15.828125 75.875 \nQ 23.140625 64.359375 26.78125 53.3125 \nQ 30.421875 42.28125 30.421875 31.390625 \nQ 30.421875 20.453125 26.78125 9.375 \nQ 23.140625 -1.703125 15.828125 -13.1875 \nL 8.015625 -13.1875 \nQ 14.5 -2 17.703125 9.0625 \nQ 20.90625 20.125 20.90625 31.390625 \nQ 20.90625 42.671875 17.703125 53.65625 \nQ 14.5 64.65625 8.015625 75.875 \nz\n\" id=\"DejaVuSans-41\"/>\n     </defs>\n     <g transform=\"translate(546.629759 456.775)scale(0.1 -0.1)\">\n      <use xlink:href=\"#DejaVuSans-110\"/>\n      <use x=\"63.378906\" xlink:href=\"#DejaVuSans-98\"/>\n      <use x=\"126.855469\" xlink:href=\"#DejaVuSans-95\"/>\n      <use x=\"176.855469\" xlink:href=\"#DejaVuSans-99\"/>\n      <use x=\"231.835938\" xlink:href=\"#DejaVuSans-111\"/>\n      <use x=\"293.017578\" xlink:href=\"#DejaVuSans-109\"/>\n      <use x=\"390.429688\" xlink:href=\"#DejaVuSans-109\"/>\n      <use x=\"487.841797\" xlink:href=\"#DejaVuSans-111\"/>\n      <use x=\"549.023438\" xlink:href=\"#DejaVuSans-110\"/>\n      <use x=\"612.402344\" xlink:href=\"#DejaVuSans-95\"/>\n      <use x=\"662.402344\" xlink:href=\"#DejaVuSans-119\"/>\n      <use x=\"744.189453\" xlink:href=\"#DejaVuSans-111\"/>\n      <use x=\"805.371094\" xlink:href=\"#DejaVuSans-114\"/>\n      <use x=\"844.734375\" xlink:href=\"#DejaVuSans-100\"/>\n      <use x=\"908.210938\" xlink:href=\"#DejaVuSans-115\"/>\n      <use x=\"960.310547\" xlink:href=\"#DejaVuSans-47\"/>\n      <use x=\"994.001953\" xlink:href=\"#DejaVuSans-40\"/>\n      <use x=\"1033.015625\" xlink:href=\"#DejaVuSans-110\"/>\n      <use x=\"1096.394531\" xlink:href=\"#DejaVuSans-98\"/>\n      <use x=\"1159.871094\" xlink:href=\"#DejaVuSans-95\"/>\n      <use x=\"1209.871094\" xlink:href=\"#DejaVuSans-119\"/>\n      <use x=\"1291.658203\" xlink:href=\"#DejaVuSans-111\"/>\n      <use x=\"1352.839844\" xlink:href=\"#DejaVuSans-114\"/>\n      <use x=\"1392.203125\" xlink:href=\"#DejaVuSans-100\"/>\n      <use x=\"1455.679688\" xlink:href=\"#DejaVuSans-115\"/>\n      <use x=\"1507.779297\" xlink:href=\"#DejaVuSans-95\"/>\n      <use x=\"1557.779297\" xlink:href=\"#DejaVuSans-113\"/>\n      <use x=\"1621.255859\" xlink:href=\"#DejaVuSans-117\"/>\n      <use x=\"1684.634766\" xlink:href=\"#DejaVuSans-101\"/>\n      <use x=\"1746.158203\" xlink:href=\"#DejaVuSans-115\"/>\n      <use x=\"1798.257812\" xlink:href=\"#DejaVuSans-116\"/>\n      <use x=\"1837.466797\" xlink:href=\"#DejaVuSans-105\"/>\n      <use x=\"1865.25\" xlink:href=\"#DejaVuSans-111\"/>\n      <use x=\"1926.431641\" xlink:href=\"#DejaVuSans-110\"/>\n      <use x=\"1989.810547\" xlink:href=\"#DejaVuSans-49\"/>\n      <use x=\"2053.433594\" xlink:href=\"#DejaVuSans-43\"/>\n      <use x=\"2137.222656\" xlink:href=\"#DejaVuSans-110\"/>\n      <use x=\"2200.601562\" xlink:href=\"#DejaVuSans-98\"/>\n      <use x=\"2264.078125\" xlink:href=\"#DejaVuSans-95\"/>\n      <use x=\"2314.078125\" xlink:href=\"#DejaVuSans-119\"/>\n      <use x=\"2395.865234\" xlink:href=\"#DejaVuSans-111\"/>\n      <use x=\"2457.046875\" xlink:href=\"#DejaVuSans-114\"/>\n      <use x=\"2496.410156\" xlink:href=\"#DejaVuSans-100\"/>\n      <use x=\"2559.886719\" xlink:href=\"#DejaVuSans-115\"/>\n      <use x=\"2611.986328\" xlink:href=\"#DejaVuSans-95\"/>\n      <use x=\"2661.986328\" xlink:href=\"#DejaVuSans-113\"/>\n      <use x=\"2725.462891\" xlink:href=\"#DejaVuSans-117\"/>\n      <use x=\"2788.841797\" xlink:href=\"#DejaVuSans-101\"/>\n      <use x=\"2850.365234\" xlink:href=\"#DejaVuSans-115\"/>\n      <use x=\"2902.464844\" xlink:href=\"#DejaVuSans-116\"/>\n      <use x=\"2941.673828\" xlink:href=\"#DejaVuSans-105\"/>\n      <use x=\"2969.457031\" xlink:href=\"#DejaVuSans-111\"/>\n      <use x=\"3030.638672\" xlink:href=\"#DejaVuSans-110\"/>\n      <use x=\"3094.017578\" xlink:href=\"#DejaVuSans-50\"/>\n      <use x=\"3157.640625\" xlink:href=\"#DejaVuSans-41\"/>\n     </g>\n    </g>\n   </g>\n   <g id=\"matplotlib.axis_4\">\n    <g id=\"ytick_9\">\n     <g id=\"line2d_23\">\n      <g>\n       <use style=\"stroke:#000000;stroke-width:0.8;\" x=\"516.23608\" xlink:href=\"#mb54d303b7f\" y=\"428.498437\"/>\n      </g>\n     </g>\n     <g id=\"text_29\">\n      <!-- 0 -->\n      <g transform=\"translate(502.87358 432.297656)scale(0.1 -0.1)\">\n       <use xlink:href=\"#DejaVuSans-48\"/>\n      </g>\n     </g>\n    </g>\n    <g id=\"ytick_10\">\n     <g id=\"line2d_24\">\n      <g>\n       <use style=\"stroke:#000000;stroke-width:0.8;\" x=\"516.23608\" xlink:href=\"#mb54d303b7f\" y=\"357.308215\"/>\n      </g>\n     </g>\n     <g id=\"text_30\">\n      <!-- 5000 -->\n      <g transform=\"translate(483.78608 361.107433)scale(0.1 -0.1)\">\n       <use xlink:href=\"#DejaVuSans-53\"/>\n       <use x=\"63.623047\" xlink:href=\"#DejaVuSans-48\"/>\n       <use x=\"127.246094\" xlink:href=\"#DejaVuSans-48\"/>\n       <use x=\"190.869141\" xlink:href=\"#DejaVuSans-48\"/>\n      </g>\n     </g>\n    </g>\n    <g id=\"ytick_11\">\n     <g id=\"line2d_25\">\n      <g>\n       <use style=\"stroke:#000000;stroke-width:0.8;\" x=\"516.23608\" xlink:href=\"#mb54d303b7f\" y=\"286.117992\"/>\n      </g>\n     </g>\n     <g id=\"text_31\">\n      <!-- 10000 -->\n      <g transform=\"translate(477.42358 289.91721)scale(0.1 -0.1)\">\n       <use xlink:href=\"#DejaVuSans-49\"/>\n       <use x=\"63.623047\" xlink:href=\"#DejaVuSans-48\"/>\n       <use x=\"127.246094\" xlink:href=\"#DejaVuSans-48\"/>\n       <use x=\"190.869141\" xlink:href=\"#DejaVuSans-48\"/>\n       <use x=\"254.492188\" xlink:href=\"#DejaVuSans-48\"/>\n      </g>\n     </g>\n    </g>\n    <g id=\"ytick_12\">\n     <g id=\"line2d_26\">\n      <g>\n       <use style=\"stroke:#000000;stroke-width:0.8;\" x=\"516.23608\" xlink:href=\"#mb54d303b7f\" y=\"214.927769\"/>\n      </g>\n     </g>\n     <g id=\"text_32\">\n      <!-- 15000 -->\n      <g transform=\"translate(477.42358 218.726987)scale(0.1 -0.1)\">\n       <use xlink:href=\"#DejaVuSans-49\"/>\n       <use x=\"63.623047\" xlink:href=\"#DejaVuSans-53\"/>\n       <use x=\"127.246094\" xlink:href=\"#DejaVuSans-48\"/>\n       <use x=\"190.869141\" xlink:href=\"#DejaVuSans-48\"/>\n       <use x=\"254.492188\" xlink:href=\"#DejaVuSans-48\"/>\n      </g>\n     </g>\n    </g>\n    <g id=\"ytick_13\">\n     <g id=\"line2d_27\">\n      <g>\n       <use style=\"stroke:#000000;stroke-width:0.8;\" x=\"516.23608\" xlink:href=\"#mb54d303b7f\" y=\"143.737546\"/>\n      </g>\n     </g>\n     <g id=\"text_33\">\n      <!-- 20000 -->\n      <g transform=\"translate(477.42358 147.536764)scale(0.1 -0.1)\">\n       <use xlink:href=\"#DejaVuSans-50\"/>\n       <use x=\"63.623047\" xlink:href=\"#DejaVuSans-48\"/>\n       <use x=\"127.246094\" xlink:href=\"#DejaVuSans-48\"/>\n       <use x=\"190.869141\" xlink:href=\"#DejaVuSans-48\"/>\n       <use x=\"254.492188\" xlink:href=\"#DejaVuSans-48\"/>\n      </g>\n     </g>\n    </g>\n    <g id=\"ytick_14\">\n     <g id=\"line2d_28\">\n      <g>\n       <use style=\"stroke:#000000;stroke-width:0.8;\" x=\"516.23608\" xlink:href=\"#mb54d303b7f\" y=\"72.547323\"/>\n      </g>\n     </g>\n     <g id=\"text_34\">\n      <!-- 25000 -->\n      <g transform=\"translate(477.42358 76.346541)scale(0.1 -0.1)\">\n       <use xlink:href=\"#DejaVuSans-50\"/>\n       <use x=\"63.623047\" xlink:href=\"#DejaVuSans-53\"/>\n       <use x=\"127.246094\" xlink:href=\"#DejaVuSans-48\"/>\n       <use x=\"190.869141\" xlink:href=\"#DejaVuSans-48\"/>\n       <use x=\"254.492188\" xlink:href=\"#DejaVuSans-48\"/>\n      </g>\n     </g>\n    </g>\n    <g id=\"text_35\">\n     <!-- Nb -->\n     <g transform=\"translate(471.343892 231.563281)rotate(-90)scale(0.1 -0.1)\">\n      <use xlink:href=\"#DejaVuSans-78\"/>\n      <use x=\"74.804688\" xlink:href=\"#DejaVuSans-98\"/>\n     </g>\n    </g>\n   </g>\n   <g id=\"patch_15\">\n    <path d=\"M 516.23608 428.498437 \nL 516.23608 20.798437 \n\" style=\"fill:none;stroke:#000000;stroke-linecap:square;stroke-linejoin:miter;stroke-width:0.8;\"/>\n   </g>\n   <g id=\"patch_16\">\n    <path d=\"M 896.690625 428.498437 \nL 896.690625 20.798437 \n\" style=\"fill:none;stroke:#000000;stroke-linecap:square;stroke-linejoin:miter;stroke-width:0.8;\"/>\n   </g>\n   <g id=\"patch_17\">\n    <path d=\"M 516.23608 428.498437 \nL 896.690625 428.498437 \n\" style=\"fill:none;stroke:#000000;stroke-linecap:square;stroke-linejoin:miter;stroke-width:0.8;\"/>\n   </g>\n   <g id=\"patch_18\">\n    <path d=\"M 516.23608 20.798437 \nL 896.690625 20.798437 \n\" style=\"fill:none;stroke:#000000;stroke-linecap:square;stroke-linejoin:miter;stroke-width:0.8;\"/>\n   </g>\n   <g id=\"text_36\">\n    <!-- AUC nb_common_words/(nb_words_question1+nb_words_question2) : 0.734773 -->\n    <g transform=\"translate(505.74929 14.798437)scale(0.1 -0.1)\">\n     <use xlink:href=\"#DejaVuSans-65\"/>\n     <use x=\"68.408203\" xlink:href=\"#DejaVuSans-85\"/>\n     <use x=\"141.601562\" xlink:href=\"#DejaVuSans-67\"/>\n     <use x=\"211.425781\" xlink:href=\"#DejaVuSans-32\"/>\n     <use x=\"243.212891\" xlink:href=\"#DejaVuSans-110\"/>\n     <use x=\"306.591797\" xlink:href=\"#DejaVuSans-98\"/>\n     <use x=\"370.068359\" xlink:href=\"#DejaVuSans-95\"/>\n     <use x=\"420.068359\" xlink:href=\"#DejaVuSans-99\"/>\n     <use x=\"475.048828\" xlink:href=\"#DejaVuSans-111\"/>\n     <use x=\"536.230469\" xlink:href=\"#DejaVuSans-109\"/>\n     <use x=\"633.642578\" xlink:href=\"#DejaVuSans-109\"/>\n     <use x=\"731.054688\" xlink:href=\"#DejaVuSans-111\"/>\n     <use x=\"792.236328\" xlink:href=\"#DejaVuSans-110\"/>\n     <use x=\"855.615234\" xlink:href=\"#DejaVuSans-95\"/>\n     <use x=\"905.615234\" xlink:href=\"#DejaVuSans-119\"/>\n     <use x=\"987.402344\" xlink:href=\"#DejaVuSans-111\"/>\n     <use x=\"1048.583984\" xlink:href=\"#DejaVuSans-114\"/>\n     <use x=\"1087.947266\" xlink:href=\"#DejaVuSans-100\"/>\n     <use x=\"1151.423828\" xlink:href=\"#DejaVuSans-115\"/>\n     <use x=\"1203.523438\" xlink:href=\"#DejaVuSans-47\"/>\n     <use x=\"1237.214844\" xlink:href=\"#DejaVuSans-40\"/>\n     <use x=\"1276.228516\" xlink:href=\"#DejaVuSans-110\"/>\n     <use x=\"1339.607422\" xlink:href=\"#DejaVuSans-98\"/>\n     <use x=\"1403.083984\" xlink:href=\"#DejaVuSans-95\"/>\n     <use x=\"1453.083984\" xlink:href=\"#DejaVuSans-119\"/>\n     <use x=\"1534.871094\" xlink:href=\"#DejaVuSans-111\"/>\n     <use x=\"1596.052734\" xlink:href=\"#DejaVuSans-114\"/>\n     <use x=\"1635.416016\" xlink:href=\"#DejaVuSans-100\"/>\n     <use x=\"1698.892578\" xlink:href=\"#DejaVuSans-115\"/>\n     <use x=\"1750.992188\" xlink:href=\"#DejaVuSans-95\"/>\n     <use x=\"1800.992188\" xlink:href=\"#DejaVuSans-113\"/>\n     <use x=\"1864.46875\" xlink:href=\"#DejaVuSans-117\"/>\n     <use x=\"1927.847656\" xlink:href=\"#DejaVuSans-101\"/>\n     <use x=\"1989.371094\" xlink:href=\"#DejaVuSans-115\"/>\n     <use x=\"2041.470703\" xlink:href=\"#DejaVuSans-116\"/>\n     <use x=\"2080.679688\" xlink:href=\"#DejaVuSans-105\"/>\n     <use x=\"2108.462891\" xlink:href=\"#DejaVuSans-111\"/>\n     <use x=\"2169.644531\" xlink:href=\"#DejaVuSans-110\"/>\n     <use x=\"2233.023438\" xlink:href=\"#DejaVuSans-49\"/>\n     <use x=\"2296.646484\" xlink:href=\"#DejaVuSans-43\"/>\n     <use x=\"2380.435547\" xlink:href=\"#DejaVuSans-110\"/>\n     <use x=\"2443.814453\" xlink:href=\"#DejaVuSans-98\"/>\n     <use x=\"2507.291016\" xlink:href=\"#DejaVuSans-95\"/>\n     <use x=\"2557.291016\" xlink:href=\"#DejaVuSans-119\"/>\n     <use x=\"2639.078125\" xlink:href=\"#DejaVuSans-111\"/>\n     <use x=\"2700.259766\" xlink:href=\"#DejaVuSans-114\"/>\n     <use x=\"2739.623047\" xlink:href=\"#DejaVuSans-100\"/>\n     <use x=\"2803.099609\" xlink:href=\"#DejaVuSans-115\"/>\n     <use x=\"2855.199219\" xlink:href=\"#DejaVuSans-95\"/>\n     <use x=\"2905.199219\" xlink:href=\"#DejaVuSans-113\"/>\n     <use x=\"2968.675781\" xlink:href=\"#DejaVuSans-117\"/>\n     <use x=\"3032.054688\" xlink:href=\"#DejaVuSans-101\"/>\n     <use x=\"3093.578125\" xlink:href=\"#DejaVuSans-115\"/>\n     <use x=\"3145.677734\" xlink:href=\"#DejaVuSans-116\"/>\n     <use x=\"3184.886719\" xlink:href=\"#DejaVuSans-105\"/>\n     <use x=\"3212.669922\" xlink:href=\"#DejaVuSans-111\"/>\n     <use x=\"3273.851562\" xlink:href=\"#DejaVuSans-110\"/>\n     <use x=\"3337.230469\" xlink:href=\"#DejaVuSans-50\"/>\n     <use x=\"3400.853516\" xlink:href=\"#DejaVuSans-41\"/>\n     <use x=\"3439.867188\" xlink:href=\"#DejaVuSans-32\"/>\n     <use x=\"3471.654297\" xlink:href=\"#DejaVuSans-58\"/>\n     <use x=\"3505.345703\" xlink:href=\"#DejaVuSans-32\"/>\n     <use x=\"3537.132812\" xlink:href=\"#DejaVuSans-48\"/>\n     <use x=\"3600.755859\" xlink:href=\"#DejaVuSans-46\"/>\n     <use x=\"3632.542969\" xlink:href=\"#DejaVuSans-55\"/>\n     <use x=\"3696.166016\" xlink:href=\"#DejaVuSans-51\"/>\n     <use x=\"3759.789062\" xlink:href=\"#DejaVuSans-52\"/>\n     <use x=\"3823.412109\" xlink:href=\"#DejaVuSans-55\"/>\n     <use x=\"3887.035156\" xlink:href=\"#DejaVuSans-55\"/>\n     <use x=\"3950.658203\" xlink:href=\"#DejaVuSans-51\"/>\n    </g>\n   </g>\n   <g id=\"legend_2\">\n    <g id=\"patch_19\">\n     <path d=\"M 813.721875 58.154687 \nL 889.690625 58.154687 \nQ 891.690625 58.154687 891.690625 56.154687 \nL 891.690625 27.798437 \nQ 891.690625 25.798437 889.690625 25.798437 \nL 813.721875 25.798437 \nQ 811.721875 25.798437 811.721875 27.798437 \nL 811.721875 56.154687 \nQ 811.721875 58.154687 813.721875 58.154687 \nz\n\" style=\"fill:#ffffff;opacity:0.8;stroke:#cccccc;stroke-linejoin:miter;\"/>\n    </g>\n    <g id=\"patch_20\">\n     <path d=\"M 815.721875 37.396875 \nL 835.721875 37.396875 \nL 835.721875 30.396875 \nL 815.721875 30.396875 \nz\n\" style=\"fill:none;stroke:#d62728;stroke-linejoin:miter;\"/>\n    </g>\n    <g id=\"text_37\">\n     <!-- Same -->\n     <g transform=\"translate(843.721875 37.396875)scale(0.1 -0.1)\">\n      <use xlink:href=\"#DejaVuSans-83\"/>\n      <use x=\"63.476562\" xlink:href=\"#DejaVuSans-97\"/>\n      <use x=\"124.755859\" xlink:href=\"#DejaVuSans-109\"/>\n      <use x=\"222.167969\" xlink:href=\"#DejaVuSans-101\"/>\n     </g>\n    </g>\n    <g id=\"patch_21\">\n     <path d=\"M 815.721875 52.075 \nL 835.721875 52.075 \nL 835.721875 45.075 \nL 815.721875 45.075 \nz\n\" style=\"fill:none;opacity:0.75;stroke:#2ca02c;stroke-linejoin:miter;\"/>\n    </g>\n    <g id=\"text_38\">\n     <!-- Different -->\n     <g transform=\"translate(843.721875 52.075)scale(0.1 -0.1)\">\n      <use xlink:href=\"#DejaVuSans-68\"/>\n      <use x=\"77.001953\" xlink:href=\"#DejaVuSans-105\"/>\n      <use x=\"104.785156\" xlink:href=\"#DejaVuSans-102\"/>\n      <use x=\"139.990234\" xlink:href=\"#DejaVuSans-102\"/>\n      <use x=\"175.195312\" xlink:href=\"#DejaVuSans-101\"/>\n      <use x=\"236.71875\" xlink:href=\"#DejaVuSans-114\"/>\n      <use x=\"275.582031\" xlink:href=\"#DejaVuSans-101\"/>\n      <use x=\"337.105469\" xlink:href=\"#DejaVuSans-110\"/>\n      <use x=\"400.484375\" xlink:href=\"#DejaVuSans-116\"/>\n     </g>\n    </g>\n   </g>\n  </g>\n </g>\n <defs>\n  <clipPath id=\"p2bb6fb23d8\">\n   <rect height=\"407.7\" width=\"380.454545\" x=\"59.690625\" y=\"20.798437\"/>\n  </clipPath>\n  <clipPath id=\"p3f7f100830\">\n   <rect height=\"407.7\" width=\"380.454545\" x=\"516.23608\" y=\"20.798437\"/>\n  </clipPath>\n </defs>\n</svg>\n",
      "image/png": "[encoded data removed]"
     },
     "metadata": {
      "needs_background": "light"
     }
    }
   ],
   "source": [
    "from sklearn.metrics import roc_auc_score\n",
    "\n",
    "def simple_AUC(dataframe,column_name):\n",
    "    return roc_auc_score(y_true=dataframe['is_duplicate'],y_score=dataframe[column_name])\n",
    "\n",
    "def simple_weighted_AUC(dataframe,column_name):\n",
    "    return roc_auc_score(y_true=dataframe['is_duplicate'],y_score=dataframe[column_name],sample_weight=dataframe['weight'])\n",
    "\n",
    "def show_AUC(dataframe,column_name):\n",
    "    print_bullet('AUC %s: %f' % (column_name,simple_AUC(dataframe,column_name)))\n",
    "    if 'weight' in dataframe.columns:\n",
    "        print_bullet('Weighted AUC %f' % simple_weighted_AUC(dataframe,column_name))\n",
    "    else:\n",
    "        print_bullet('AUC %f' % simple_AUC(dataframe,column_name))\n",
    "        \n",
    "\n",
    "def display_simple_AUC(dataframe,column_name):\n",
    "    palette = sns.color_palette()\n",
    "    # Let multiplot_generator figure the size\n",
    "    #plot.figure(figsize=(10, 7))\n",
    "    plot.hist(dataframe[column_name][dataframe['is_duplicate']==1],bins=50,color=palette[3],label='Same',histtype='step')\n",
    "    plot.hist(train_dataframe[column_name][dataframe['is_duplicate']==0],bins=50,color=palette[2],label='Different',alpha = 0.75,histtype='step')\n",
    "    plot.title('AUC %s : %f' % (column_name,simple_AUC(dataframe,column_name)) , fontsize=10)\n",
    "    plot.xlabel(column_name)\n",
    "    plot.ylabel('Nb')\n",
    "    plot.legend()\n",
    "\n",
    "\n",
    "\n",
    "def show_all_simple_AUC(dataframe):\n",
    "    all =  all_numeric_columns(dataframe)\n",
    "    print_section( 'Show AUC on %d unique features' % len(all))\n",
    "    for name in all:\n",
    "        show_AUC(dataframe,name)\n",
    "        yield\n",
    "        display_simple_AUC(dataframe,name)\n",
    "    print_done('Done')\n",
    "\n",
    "\n",
    "def show_all_simple_AUC_in_grid(dataframe,nb_columns=2):\n",
    "    multiplot_from_generator(show_all_simple_AUC(dataframe), nb_columns)\n",
    "\n",
    "show_all_simple_AUC_in_grid(train_dataframe,nb_columns=2)"
   ]
  },
  {
   "source": [
    "## Here are the specs of alogorithms to try"
   ],
   "cell_type": "markdown",
   "metadata": {}
  },
  {
   "cell_type": "code",
   "execution_count": 6,
   "metadata": {
    "tags": []
   },
   "outputs": [
    {
     "output_type": "display_data",
     "data": {
      "text/plain": "<IPython.core.display.HTML object>",
      "text/html": "<b>Unitary test: one default model (80,20) & (100,0) using feature nb_words_question1</b>"
     },
     "metadata": {
      "text/html": {
       "isolated": true
      }
     }
    },
    {
     "output_type": "display_data",
     "data": {
      "text/plain": "<IPython.core.display.HTML object>",
      "text/html": "<HR>"
     },
     "metadata": {
      "text/html": {
       "isolated": true
      }
     }
    },
    {
     "output_type": "display_data",
     "data": {
      "text/plain": "<IPython.core.display.HTML object>",
      "text/html": "<span style=\"color:LIMEGREEN\"><small>Model with weight</small></span>"
     },
     "metadata": {
      "text/html": {
       "isolated": true
      }
     }
    },
    {
     "output_type": "display_data",
     "data": {
      "text/plain": "<IPython.core.display.HTML object>",
      "text/html": "<span style=\"color:LIMEGREEN\"><small>Training:323432 lines Test:80858 Nb Features: 4</small></span>"
     },
     "metadata": {
      "text/html": {
       "isolated": true
      }
     }
    },
    {
     "output_type": "stream",
     "name": "stdout",
     "text": "Classification report on 80_20\n              precision    recall  f1-score   support\n\n           0       0.91      0.65      0.76 66475.35427891841\n           1       0.30      0.69      0.42 14213.525233116525\n\n    accuracy                           0.66 80688.87951203494\n   macro avg       0.60      0.67      0.59 80688.87951203494\nweighted avg       0.80      0.66      0.70 80688.87951203494\n\n"
    },
    {
     "output_type": "display_data",
     "data": {
      "text/plain": "<IPython.core.display.HTML object>",
      "text/html": "<span style=\"color:LIMEGREEN\"><small>80_20 0.661031 | 0.700464 | 0.612386 | 0.1</small></span>"
     },
     "metadata": {
      "text/html": {
       "isolated": true
      }
     }
    },
    {
     "output_type": "display_data",
     "data": {
      "text/plain": "<IPython.core.display.HTML object>",
      "text/html": "<span style=\"color:LIMEGREEN\"><small>Model with weight</small></span>"
     },
     "metadata": {
      "text/html": {
       "isolated": true
      }
     }
    },
    {
     "output_type": "display_data",
     "data": {
      "text/plain": "<IPython.core.display.HTML object>",
      "text/html": "<span style=\"color:LIMEGREEN\"><small>Training on 404290x4 features</small></span>"
     },
     "metadata": {
      "text/html": {
       "isolated": true
      }
     }
    },
    {
     "output_type": "stream",
     "name": "stdout",
     "text": "Classification report on 100_0\n              precision    recall  f1-score   support\n\n           0       0.91      0.66      0.76 333700.9660020216\n           1       0.30      0.69      0.42 70589.0339997351\n\n    accuracy                           0.66 404290.0000017567\n   macro avg       0.60      0.67      0.59 404290.0000017567\nweighted avg       0.80      0.66      0.70 404290.0000017567\n\n"
    },
    {
     "output_type": "display_data",
     "data": {
      "text/plain": "<IPython.core.display.HTML object>",
      "text/html": "<span style=\"color:LIMEGREEN\"><small>100_0 0.661300 | 0.701156 | 0.611831 | 0.1</small></span>"
     },
     "metadata": {
      "text/html": {
       "isolated": true
      }
     }
    },
    {
     "output_type": "stream",
     "name": "stdout",
     "text": "{'accuracy_80_20': 0.6610309902990631, 'score_80_20': 0.7004636683195876, 'logloss_proba_80_20': 0.6123861201725102, 'model_80_20': ComplementNB(), 'time_80_20': 0.0890498161315918, 'accuracy_100_0': 0.6612999633373224, 'score_100_0': 0.7011559815347109, 'logloss_proba_100_0': 0.6118306951072937, 'model_100_0': ComplementNB(), 'time_100_0': 0.06160545349121094, 'nb_features': 4, 'column_names': 'nb_common_words/nb_words_question1+nb_words_question1-common_words+nb_words_question2-common_words+nb_common_words/(nb_words_question1+nb_words_question2)', 'columns': ['nb_common_words/nb_words_question1', 'nb_words_question1-common_words', 'nb_words_question2-common_words', 'nb_common_words/(nb_words_question1+nb_words_question2)']}\n"
    },
    {
     "output_type": "display_data",
     "data": {
      "text/plain": "<IPython.core.display.HTML object>",
      "text/html": "<b>Unitary test : optimize one model (80,20) & (100,0) using feature nb_words_question1</b>"
     },
     "metadata": {
      "text/html": {
       "isolated": true
      }
     }
    },
    {
     "output_type": "display_data",
     "data": {
      "text/plain": "<IPython.core.display.HTML object>",
      "text/html": "<HR>"
     },
     "metadata": {
      "text/html": {
       "isolated": true
      }
     }
    },
    {
     "output_type": "display_data",
     "data": {
      "text/plain": "<IPython.core.display.HTML object>",
      "text/html": "<span style=\"color:LIMEGREEN\"><small>Model with hyper parameter</small></span>"
     },
     "metadata": {
      "text/html": {
       "isolated": true
      }
     }
    },
    {
     "output_type": "display_data",
     "data": {
      "text/plain": "<IPython.core.display.HTML object>",
      "text/html": "<span style=\"color:LIMEGREEN\"><small>Model with weight</small></span>"
     },
     "metadata": {
      "text/html": {
       "isolated": true
      }
     }
    },
    {
     "output_type": "display_data",
     "data": {
      "text/plain": "<IPython.core.display.HTML object>",
      "text/html": "<span style=\"color:LIMEGREEN\"><small>Training:323432 lines Test:80858 Nb Features: 4</small></span>"
     },
     "metadata": {
      "text/html": {
       "isolated": true
      }
     }
    },
    {
     "output_type": "display_data",
     "data": {
      "text/plain": "<IPython.core.display.HTML object>",
      "text/html": "<span style=\"color:LIMEGREEN\"><small>Searcher : RandomizedSearchCV(estimator=MultinomialNB(),\n                   param_distributions={'alpha': [1e-10, 1e-08, 1e-06, 0.0001,\n                                                  0.01, 0.1, 1.0]})</small></span>"
     },
     "metadata": {
      "text/html": {
       "isolated": true
      }
     }
    },
    {
     "output_type": "stream",
     "name": "stdout",
     "text": "Fitting 5 folds for each of 7 candidates, totalling 35 fits\n[Parallel(n_jobs=7)]: Using backend LokyBackend with 7 concurrent workers.\n[Parallel(n_jobs=7)]: Done  18 tasks      | elapsed:    1.4s\n[Parallel(n_jobs=7)]: Done  35 out of  35 | elapsed:    1.7s finished\nClassification report on 80_20\n              precision    recall  f1-score   support\n\n           0       0.82      1.00      0.90 66475.35427891841\n           1       0.00      0.00      0.00 14213.525233116525\n\n    accuracy                           0.82 80688.87951203494\n   macro avg       0.41      0.50      0.45 80688.87951203494\nweighted avg       0.68      0.82      0.74 80688.87951203494\n\n"
    },
    {
     "output_type": "display_data",
     "data": {
      "text/plain": "<IPython.core.display.HTML object>",
      "text/html": "<span style=\"color:LIMEGREEN\"><small>80_20 0.823848 | 0.744278 | 0.420386 | {'alpha': 1e-10}</small></span>"
     },
     "metadata": {
      "text/html": {
       "isolated": true
      }
     }
    },
    {
     "output_type": "display_data",
     "data": {
      "text/plain": "<IPython.core.display.HTML object>",
      "text/html": "<span style=\"color:LIMEGREEN\"><small>Model with hyper parameters</small></span>"
     },
     "metadata": {
      "text/html": {
       "isolated": true
      }
     }
    },
    {
     "output_type": "display_data",
     "data": {
      "text/plain": "<IPython.core.display.HTML object>",
      "text/html": "<span style=\"color:LIMEGREEN\"><small>Model with weight</small></span>"
     },
     "metadata": {
      "text/html": {
       "isolated": true
      }
     }
    },
    {
     "output_type": "display_data",
     "data": {
      "text/plain": "<IPython.core.display.HTML object>",
      "text/html": "<span style=\"color:LIMEGREEN\"><small>Training on 404290x4 features</small></span>"
     },
     "metadata": {
      "text/html": {
       "isolated": true
      }
     }
    },
    {
     "output_type": "display_data",
     "data": {
      "text/plain": "<IPython.core.display.HTML object>",
      "text/html": "<span style=\"color:LIMEGREEN\"><small>Searcher : RandomizedSearchCV(estimator=MultinomialNB(),\n                   param_distributions={'alpha': [1e-10, 1e-08, 1e-06, 0.0001,\n                                                  0.01, 0.1, 1.0]})</small></span>"
     },
     "metadata": {
      "text/html": {
       "isolated": true
      }
     }
    },
    {
     "output_type": "stream",
     "name": "stdout",
     "text": "Fitting 5 folds for each of 7 candidates, totalling 35 fits\n[Parallel(n_jobs=7)]: Using backend LokyBackend with 7 concurrent workers.\n[Parallel(n_jobs=7)]: Done  22 out of  35 | elapsed:    0.7s remaining:    0.4s\n[Parallel(n_jobs=7)]: Done  35 out of  35 | elapsed:    0.9s finished\nClassification report on 100_0\n              precision    recall  f1-score   support\n\n           0       0.83      1.00      0.90 333700.9660020216\n           1       0.00      0.00      0.00 70589.0339997351\n\n    accuracy                           0.83 404290.0000017567\n   macro avg       0.41      0.50      0.45 404290.0000017567\nweighted avg       0.68      0.83      0.75 404290.0000017567\n\n"
    },
    {
     "output_type": "display_data",
     "data": {
      "text/plain": "<IPython.core.display.HTML object>",
      "text/html": "<span style=\"color:LIMEGREEN\"><small>100_0 0.825400 | 0.746450 | 0.418023 | {'alpha': 1e-10}</small></span>"
     },
     "metadata": {
      "text/html": {
       "isolated": true
      }
     }
    },
    {
     "output_type": "stream",
     "name": "stdout",
     "text": "{'accuracy_80_20': 0.8238477802763291, 'score_80_20': 0.7442783026145227, 'logloss_proba_80_20': 0.4203864559337953, 'model_80_20': MultinomialNB(alpha=1e-10), 'params_80_20': {'alpha': 1e-10}, 'time_80_20': 2.286177158355713, 'accuracy_100_0': 0.8253999999982544, 'score_100_0': 0.7464502684347297, 'logloss_proba_100_0': 0.4180232432549241, 'model_100_0': MultinomialNB(alpha=1e-10), 'params_100_0': {'alpha': 1e-10}, 'time_100_0': 2.749467372894287, 'nb_features': 4, 'column_names': 'nb_common_words/nb_words_question1+nb_words_question1-common_words+nb_words_question2-common_words+nb_common_words/(nb_words_question1+nb_words_question2)', 'columns': ['nb_common_words/nb_words_question1', 'nb_words_question1-common_words', 'nb_words_question2-common_words', 'nb_common_words/(nb_words_question1+nb_words_question2)']}\n"
    },
    {
     "output_type": "display_data",
     "data": {
      "text/plain": "<IPython.core.display.HTML object>",
      "text/html": "<b>test_basic_features_balanced_exploration : Build all models ((80,20)+(100,0)) on every combination of simple features - 100 lines</b>"
     },
     "metadata": {
      "text/html": {
       "isolated": true
      }
     }
    },
    {
     "output_type": "display_data",
     "data": {
      "text/plain": "<IPython.core.display.HTML object>",
      "text/html": "<HR>"
     },
     "metadata": {
      "text/html": {
       "isolated": true
      }
     }
    },
    {
     "output_type": "display_data",
     "data": {
      "text/plain": "<IPython.core.display.HTML object>",
      "text/html": "<span style=\"color:LIGHTSALMON\"><small>256*2 models built - only 21 logged here</small></span>"
     },
     "metadata": {
      "text/html": {
       "isolated": true
      }
     }
    },
    {
     "output_type": "display_data",
     "data": {
      "text/plain": "<IPython.core.display.HTML object>",
      "text/html": "<span style=\"color:LIMEGREEN\"><small>accuracy_80_20|score_80_20|logloss_proba_80_20|time_80_20|accuracy_100_0|score_100_0|logloss_proba_100_0|time_100_0|nb_features|column_names</small></span>"
     },
     "metadata": {
      "text/html": {
       "isolated": true
      }
     }
    },
    {
     "output_type": "display_data",
     "data": {
      "text/plain": "HBox(children=(FloatProgress(value=0.0, max=256.0), HTML(value='')))",
      "application/vnd.jupyter.widget-view+json": {
       "version_major": 2,
       "version_minor": 0,
       "model_id": "e68eddd080984a148136721afee11de8"
      }
     },
     "metadata": {}
    },
    {
     "output_type": "display_data",
     "data": {
      "text/plain": "<IPython.core.display.HTML object>",
      "text/html": "<span style=\"color:LIMEGREEN\"><small> 0.8925 | 0.8418 | 0.3509 | 0.0 | 0.8546 | 0.7877 | 0.4146 | 0.0 | 1 | nb_words_question1</small></span>"
     },
     "metadata": {
      "text/html": {
       "isolated": true
      }
     }
    },
    {
     "output_type": "display_data",
     "data": {
      "text/plain": "<IPython.core.display.HTML object>",
      "text/html": "<span style=\"color:LIMEGREEN\"><small> 0.8925 | 0.8418 | 0.3446 | 0.0 | 0.8546 | 0.7877 | 0.4131 | 0.0 | 2 | nb_words_question1+nb_words_question2</small></span>"
     },
     "metadata": {
      "text/html": {
       "isolated": true
      }
     }
    },
    {
     "output_type": "display_data",
     "data": {
      "text/plain": "<IPython.core.display.HTML object>",
      "text/html": "<span style=\"color:LIMEGREEN\"><small> 0.8330 | 0.8112 | 0.2882 | 0.0 | 0.8180 | 0.7867 | 0.3985 | 0.0 | 2 | nb_words_question1+nb_common_words</small></span>"
     },
     "metadata": {
      "text/html": {
       "isolated": true
      }
     }
    },
    {
     "output_type": "display_data",
     "data": {
      "text/plain": "<IPython.core.display.HTML object>",
      "text/html": "<span style=\"color:LIGHTSALMON\"><small> 0.8925 | 0.8418 | 0.2998 | 0.0 | 0.8466 | 0.7914 | 0.3701 | 0.0 | 2 | nb_words_question1+nb_words_question1-common_words</small></span>"
     },
     "metadata": {
      "text/html": {
       "isolated": true
      }
     }
    },
    {
     "output_type": "display_data",
     "data": {
      "text/plain": "<IPython.core.display.HTML object>",
      "text/html": "<span style=\"color:LIGHTSALMON\"><small> 0.7355 | 0.7680 | 0.4304 | 0.0 | 0.7332 | 0.7564 | 0.5523 | 0.0 | 2 | nb_common_words+nb_words_question2-common_words</small></span>"
     },
     "metadata": {
      "text/html": {
       "isolated": true
      }
     }
    },
    {
     "output_type": "display_data",
     "data": {
      "text/plain": "<IPython.core.display.HTML object>",
      "text/html": "<span style=\"color:LIMEGREEN\"><small> 0.8925 | 0.8418 | 0.2775 | 0.0 | 0.8546 | 0.7877 | 0.3660 | 0.0 | 2 | nb_common_words/nb_words_question1+nb_words_question1-common_words</small></span>"
     },
     "metadata": {
      "text/html": {
       "isolated": true
      }
     }
    },
    {
     "output_type": "display_data",
     "data": {
      "text/plain": "<IPython.core.display.HTML object>",
      "text/html": "<span style=\"color:LIGHTSALMON\"><small> 0.8330 | 0.8112 | 0.2941 | 0.0 | 0.8351 | 0.8025 | 0.4002 | 0.0 | 3 | nb_words_question1+nb_words_question2+nb_common_words</small></span>"
     },
     "metadata": {
      "text/html": {
       "isolated": true
      }
     }
    },
    {
     "output_type": "display_data",
     "data": {
      "text/plain": "<IPython.core.display.HTML object>",
      "text/html": "<span style=\"color:LIGHTSALMON\"><small> 0.8925 | 0.8418 | 0.2776 | 0.0 | 0.8215 | 0.7775 | 0.3731 | 0.0 | 3 | nb_words_question1+nb_common_words/nb_words_question1+nb_words_question1-common_words</small></span>"
     },
     "metadata": {
      "text/html": {
       "isolated": true
      }
     }
    },
    {
     "output_type": "display_data",
     "data": {
      "text/plain": "<IPython.core.display.HTML object>",
      "text/html": "<span style=\"color:LIGHTSALMON\"><small> 0.7355 | 0.7680 | 0.4299 | 0.0 | 0.7332 | 0.7564 | 0.5519 | 0.0 | 3 | nb_words_question2+nb_common_words+nb_words_question2-common_words</small></span>"
     },
     "metadata": {
      "text/html": {
       "isolated": true
      }
     }
    },
    {
     "output_type": "display_data",
     "data": {
      "text/plain": "<IPython.core.display.HTML object>",
      "text/html": "<span style=\"color:LIGHTSALMON\"><small> 0.8925 | 0.8418 | 0.3432 | 0.0 | 0.8546 | 0.7877 | 0.4115 | 0.0 | 3 | nb_common_words+nb_common_words/nb_words_question1+nb_common_words/nb_words_question2</small></span>"
     },
     "metadata": {
      "text/html": {
       "isolated": true
      }
     }
    },
    {
     "output_type": "display_data",
     "data": {
      "text/plain": "<IPython.core.display.HTML object>",
      "text/html": "<span style=\"color:LIMEGREEN\"><small> 0.8760 | 0.8747 | 0.2639 | 0.0 | 0.8351 | 0.8025 | 0.3671 | 0.0 | 3 | nb_common_words/nb_words_question1+nb_common_words/nb_words_question2+nb_words_question1-common_words</small></span>"
     },
     "metadata": {
      "text/html": {
       "isolated": true
      }
     }
    },
    {
     "output_type": "display_data",
     "data": {
      "text/plain": "<IPython.core.display.HTML object>",
      "text/html": "<span style=\"color:LIGHTSALMON\"><small> 0.8925 | 0.8418 | 0.3509 | 0.0 | 0.8546 | 0.7877 | 0.4145 | 0.0 | 3 | nb_common_words/nb_words_question1+nb_common_words/nb_words_question2+nb_common_words/(nb_words_question1+nb_words_question2)</small></span>"
     },
     "metadata": {
      "text/html": {
       "isolated": true
      }
     }
    },
    {
     "output_type": "display_data",
     "data": {
      "text/plain": "<IPython.core.display.HTML object>",
      "text/html": "<span style=\"color:LIMEGREEN\"><small> 0.8925 | 0.8418 | 0.2635 | 0.0 | 0.8546 | 0.7877 | 0.3640 | 0.0 | 3 | nb_common_words/nb_words_question1+nb_words_question1-common_words+nb_common_words/(nb_words_question1+nb_words_question2)</small></span>"
     },
     "metadata": {
      "text/html": {
       "isolated": true
      }
     }
    },
    {
     "output_type": "display_data",
     "data": {
      "text/plain": "<IPython.core.display.HTML object>",
      "text/html": "<span style=\"color:LIGHTSALMON\"><small> 0.8545 | 0.8453 | 0.2919 | 0.0 | 0.8100 | 0.7864 | 0.4027 | 0.0 | 4 | nb_words_question1+nb_words_question2+nb_common_words+nb_common_words/(nb_words_question1+nb_words_question2)</small></span>"
     },
     "metadata": {
      "text/html": {
       "isolated": true
      }
     }
    },
    {
     "output_type": "display_data",
     "data": {
      "text/plain": "<IPython.core.display.HTML object>",
      "text/html": "<span style=\"color:LIGHTSALMON\"><small> 0.8380 | 0.8555 | 0.4311 | 0.0 | 0.7468 | 0.7712 | 0.6628 | 0.0 | 4 | nb_words_question1+nb_common_words+nb_common_words/nb_words_question1+nb_words_question1-common_words</small></span>"
     },
     "metadata": {
      "text/html": {
       "isolated": true
      }
     }
    },
    {
     "output_type": "display_data",
     "data": {
      "text/plain": "<IPython.core.display.HTML object>",
      "text/html": "<span style=\"color:LIGHTSALMON\"><small> 0.8330 | 0.8112 | 0.2928 | 0.0 | 0.8351 | 0.8025 | 0.3820 | 0.0 | 4 | nb_words_question1+nb_common_words/nb_words_question1+nb_words_question1-common_words+nb_words_question2-common_words</small></span>"
     },
     "metadata": {
      "text/html": {
       "isolated": true
      }
     }
    },
    {
     "output_type": "display_data",
     "data": {
      "text/plain": "<IPython.core.display.HTML object>",
      "text/html": "<span style=\"color:LIGHTSALMON\"><small> 0.7355 | 0.7680 | 0.4534 | 0.0 | 0.7332 | 0.7564 | 0.5811 | 0.0 | 4 | nb_words_question2+nb_common_words+nb_common_words/nb_words_question2+nb_words_question2-common_words</small></span>"
     },
     "metadata": {
      "text/html": {
       "isolated": true
      }
     }
    },
    {
     "output_type": "display_data",
     "data": {
      "text/plain": "<IPython.core.display.HTML object>",
      "text/html": "<span style=\"color:LIGHTSALMON\"><small> 0.8760 | 0.8747 | 0.2813 | 0.0 | 0.7768 | 0.7691 | 0.4171 | 0.0 | 4 | nb_words_question2+nb_common_words/nb_words_question2+nb_words_question1-common_words+nb_common_words/(nb_words_question1+nb_words_question2)</small></span>"
     },
     "metadata": {
      "text/html": {
       "isolated": true
      }
     }
    },
    {
     "output_type": "display_data",
     "data": {
      "text/plain": "<IPython.core.display.HTML object>",
      "text/html": "<span style=\"color:LIGHTSALMON\"><small> 0.7785 | 0.8122 | 0.4976 | 0.0 | 0.7514 | 0.7760 | 0.7088 | 0.0 | 4 | nb_common_words+nb_words_question1-common_words+nb_words_question2-common_words+nb_common_words/(nb_words_question1+nb_words_question2)</small></span>"
     },
     "metadata": {
      "text/html": {
       "isolated": true
      }
     }
    },
    {
     "output_type": "display_data",
     "data": {
      "text/plain": "<IPython.core.display.HTML object>",
      "text/html": "<span style=\"color:LIMEGREEN\"><small> 0.8760 | 0.8747 | 0.2634 | 0.0 | 0.8351 | 0.8025 | 0.3671 | 0.0 | 4 | nb_common_words/nb_words_question1+nb_common_words/nb_words_question2+nb_words_question1-common_words+nb_words_question2-common_words</small></span>"
     },
     "metadata": {
      "text/html": {
       "isolated": true
      }
     }
    },
    {
     "output_type": "display_data",
     "data": {
      "text/plain": "<IPython.core.display.HTML object>",
      "text/html": "<span style=\"color:LIMEGREEN\"><small> 0.8925 | 0.8418 | 0.2626 | 0.0 | 0.8421 | 0.7814 | 0.3651 | 0.0 | 4 | nb_common_words/nb_words_question1+nb_words_question1-common_words+nb_words_question2-common_words+nb_common_words/(nb_words_question1+nb_words_question2)</small></span>"
     },
     "metadata": {
      "text/html": {
       "isolated": true
      }
     }
    },
    {
     "output_type": "display_data",
     "data": {
      "text/plain": "<IPython.core.display.HTML object>",
      "text/html": "<span style=\"color:LIGHTSALMON\"><small> 0.8545 | 0.8453 | 0.2953 | 0.0 | 0.7723 | 0.7625 | 0.4100 | 0.0 | 5 | nb_words_question1+nb_words_question2+nb_common_words+nb_common_words/nb_words_question2+nb_common_words/(nb_words_question1+nb_words_question2)</small></span>"
     },
     "metadata": {
      "text/html": {
       "isolated": true
      }
     }
    },
    {
     "output_type": "display_data",
     "data": {
      "text/plain": "<IPython.core.display.HTML object>",
      "text/html": "<span style=\"color:LIGHTSALMON\"><small> 0.9140 | 0.8873 | 0.3094 | 0.0 | 0.8340 | 0.7845 | 0.3838 | 0.0 | 5 | nb_words_question1+nb_words_question2+nb_common_words/nb_words_question2+nb_words_question2-common_words+nb_common_words/(nb_words_question1+nb_words_question2)</small></span>"
     },
     "metadata": {
      "text/html": {
       "isolated": true
      }
     }
    },
    {
     "output_type": "display_data",
     "data": {
      "text/plain": "<IPython.core.display.HTML object>",
      "text/html": "<span style=\"color:LIGHTSALMON\"><small> 0.8760 | 0.8747 | 0.3023 | 0.0 | 0.7985 | 0.7902 | 0.4048 | 0.0 | 5 | nb_words_question1+nb_common_words/nb_words_question1+nb_common_words/nb_words_question2+nb_words_question1-common_words+nb_words_question2-common_words</small></span>"
     },
     "metadata": {
      "text/html": {
       "isolated": true
      }
     }
    },
    {
     "output_type": "display_data",
     "data": {
      "text/plain": "<IPython.core.display.HTML object>",
      "text/html": "<span style=\"color:LIGHTSALMON\"><small> 0.8380 | 0.8555 | 0.4460 | 0.0 | 0.7468 | 0.7712 | 0.6737 | 0.0 | 5 | nb_words_question2+nb_common_words+nb_common_words/nb_words_question2+nb_words_question1-common_words+nb_common_words/(nb_words_question1+nb_words_question2)</small></span>"
     },
     "metadata": {
      "text/html": {
       "isolated": true
      }
     }
    },
    {
     "output_type": "display_data",
     "data": {
      "text/plain": "<IPython.core.display.HTML object>",
      "text/html": "<span style=\"color:LIGHTSALMON\"><small> 0.7785 | 0.8122 | 0.5439 | 0.0 | 0.7514 | 0.7760 | 0.7641 | 0.0 | 5 | nb_common_words+nb_common_words/nb_words_question2+nb_words_question1-common_words+nb_words_question2-common_words+nb_common_words/(nb_words_question1+nb_words_question2)</small></span>"
     },
     "metadata": {
      "text/html": {
       "isolated": true
      }
     }
    },
    {
     "output_type": "display_data",
     "data": {
      "text/plain": "<IPython.core.display.HTML object>",
      "text/html": "<span style=\"color:LIGHTSALMON\"><small> 0.8760 | 0.8747 | 0.3155 | 0.0 | 0.7824 | 0.7850 | 0.4561 | 0.0 | 6 | nb_words_question1+nb_words_question2+nb_common_words/nb_words_question1+nb_common_words/nb_words_question2+nb_words_question1-common_words+nb_words_question2-common_words</small></span>"
     },
     "metadata": {
      "text/html": {
       "isolated": true
      }
     }
    },
    {
     "output_type": "display_data",
     "data": {
      "text/plain": "<IPython.core.display.HTML object>",
      "text/html": "<span style=\"color:LIGHTSALMON\"><small> 0.8380 | 0.8555 | 0.4715 | 0.0 | 0.7559 | 0.7807 | 0.7164 | 0.0 | 6 | nb_words_question2+nb_common_words+nb_common_words/nb_words_question1+nb_common_words/nb_words_question2+nb_words_question1-common_words+nb_common_words/(nb_words_question1+nb_words_question2)</small></span>"
     },
     "metadata": {
      "text/html": {
       "isolated": true
      }
     }
    },
    {
     "output_type": "display_data",
     "data": {
      "text/plain": "<IPython.core.display.HTML object>",
      "text/html": "<span style=\"color:LIGHTSALMON\"><small> 0.7785 | 0.8122 | 0.5899 | 0.0 | 0.7433 | 0.7712 | 0.8289 | 0.0 | 7 | nb_words_question1+nb_common_words+nb_common_words/nb_words_question1+nb_common_words/nb_words_question2+nb_words_question1-common_words+nb_words_question2-common_words+nb_common_words/(nb_words_question1+nb_words_question2)</small></span>"
     },
     "metadata": {
      "text/html": {
       "isolated": true
      }
     }
    },
    {
     "output_type": "stream",
     "name": "stdout",
     "text": "\n"
    },
    {
     "output_type": "display_data",
     "data": {
      "text/plain": "<IPython.core.display.HTML object>",
      "text/html": "<span style=\"color:LIMEGREEN\"><small><b><i>Done in 6.1 s</i></b><p></p></small></span>"
     },
     "metadata": {
      "text/html": {
       "isolated": true
      }
     }
    },
    {
     "output_type": "display_data",
     "data": {
      "text/plain": "<IPython.core.display.HTML object>",
      "text/html": "<b>test_basic_features_balanced_exploration : Build all models (80_20 & 100_0) on every combination of simple features - 100 lines</b>"
     },
     "metadata": {
      "text/html": {
       "isolated": true
      }
     }
    },
    {
     "output_type": "display_data",
     "data": {
      "text/plain": "<IPython.core.display.HTML object>",
      "text/html": "<HR>"
     },
     "metadata": {
      "text/html": {
       "isolated": true
      }
     }
    },
    {
     "output_type": "display_data",
     "data": {
      "text/plain": "<IPython.core.display.HTML object>",
      "text/html": "<span style=\"color:LIGHTSALMON\"><small>256*2 models optimized - only 21 logged or best here. Watch for green</small></span>"
     },
     "metadata": {
      "text/html": {
       "isolated": true
      }
     }
    },
    {
     "output_type": "display_data",
     "data": {
      "text/plain": "<IPython.core.display.HTML object>",
      "text/html": "<span style=\"color:LIMEGREEN\"><small>accuracy_80_20|score_80_20|logloss_proba_80_20|time_80_20|accuracy_100_0|score_100_0|logloss_proba_100_0|time_100_0|nb_features|column_names</small></span>"
     },
     "metadata": {
      "text/html": {
       "isolated": true
      }
     }
    },
    {
     "output_type": "display_data",
     "data": {
      "text/plain": "HBox(children=(FloatProgress(value=0.0, max=256.0), HTML(value='')))",
      "application/vnd.jupyter.widget-view+json": {
       "version_major": 2,
       "version_minor": 0,
       "model_id": "90a69e91705948909a170514013ee809"
      }
     },
     "metadata": {}
    },
    {
     "output_type": "display_data",
     "data": {
      "text/plain": "<IPython.core.display.HTML object>",
      "text/html": "<span style=\"color:LIMEGREEN\"><small> 0.8925 | 0.8418 | 0.3509 | {'alpha': 1e-10} | 0.8546 | 0.7877 | 0.4146 | {'alpha': 1e-10} | 1 | nb_words_question1</small></span>"
     },
     "metadata": {
      "text/html": {
       "isolated": true
      }
     }
    },
    {
     "output_type": "display_data",
     "data": {
      "text/plain": "<IPython.core.display.HTML object>",
      "text/html": "<span style=\"color:LIMEGREEN\"><small> 0.8925 | 0.8418 | 0.3446 | {'alpha': 1.0} | 0.8546 | 0.7877 | 0.4131 | {'alpha': 1.0} | 2 | nb_words_question1+nb_words_question2</small></span>"
     },
     "metadata": {
      "text/html": {
       "isolated": true
      }
     }
    },
    {
     "output_type": "display_data",
     "data": {
      "text/plain": "<IPython.core.display.HTML object>",
      "text/html": "<span style=\"color:LIMEGREEN\"><small> 0.8330 | 0.8112 | 0.2886 | {'alpha': 1e-10} | 0.8180 | 0.7867 | 0.3983 | {'alpha': 1e-10} | 2 | nb_words_question1+nb_common_words</small></span>"
     },
     "metadata": {
      "text/html": {
       "isolated": true
      }
     }
    },
    {
     "output_type": "display_data",
     "data": {
      "text/plain": "<IPython.core.display.HTML object>",
      "text/html": "<span style=\"color:LIGHTSALMON\"><small> 0.8925 | 0.8418 | 0.2998 | {'alpha': 1.0} | 0.8466 | 0.7914 | 0.3701 | {'alpha': 1.0} | 2 | nb_words_question1+nb_words_question1-common_words</small></span>"
     },
     "metadata": {
      "text/html": {
       "isolated": true
      }
     }
    },
    {
     "output_type": "display_data",
     "data": {
      "text/plain": "<IPython.core.display.HTML object>",
      "text/html": "<span style=\"color:LIGHTSALMON\"><small> 0.7355 | 0.7680 | 0.4304 | {'alpha': 1.0} | 0.7332 | 0.7564 | 0.5523 | {'alpha': 1.0} | 2 | nb_common_words+nb_words_question2-common_words</small></span>"
     },
     "metadata": {
      "text/html": {
       "isolated": true
      }
     }
    },
    {
     "output_type": "display_data",
     "data": {
      "text/plain": "<IPython.core.display.HTML object>",
      "text/html": "<span style=\"color:LIMEGREEN\"><small> 0.8925 | 0.8418 | 0.2836 | {'alpha': 1e-10} | 0.8546 | 0.7877 | 0.3672 | {'alpha': 1e-10} | 2 | nb_common_words/nb_words_question1+nb_words_question1-common_words</small></span>"
     },
     "metadata": {
      "text/html": {
       "isolated": true
      }
     }
    },
    {
     "output_type": "display_data",
     "data": {
      "text/plain": "<IPython.core.display.HTML object>",
      "text/html": "<span style=\"color:LIGHTSALMON\"><small> 0.8330 | 0.8112 | 0.2945 | {'alpha': 1e-10} | 0.8351 | 0.8025 | 0.3999 | {'alpha': 1e-10} | 3 | nb_words_question1+nb_words_question2+nb_common_words</small></span>"
     },
     "metadata": {
      "text/html": {
       "isolated": true
      }
     }
    },
    {
     "output_type": "display_data",
     "data": {
      "text/plain": "<IPython.core.display.HTML object>",
      "text/html": "<span style=\"color:LIMEGREEN\"><small> 0.8925 | 0.8418 | 0.2803 | {'alpha': 1e-10} | 0.8215 | 0.7775 | 0.3730 | {'alpha': 1e-10} | 3 | nb_words_question1+nb_common_words/nb_words_question1+nb_words_question1-common_words</small></span>"
     },
     "metadata": {
      "text/html": {
       "isolated": true
      }
     }
    },
    {
     "output_type": "display_data",
     "data": {
      "text/plain": "<IPython.core.display.HTML object>",
      "text/html": "<span style=\"color:LIGHTSALMON\"><small> 0.7355 | 0.7680 | 0.4299 | {'alpha': 1.0} | 0.7332 | 0.7564 | 0.5519 | {'alpha': 1.0} | 3 | nb_words_question2+nb_common_words+nb_words_question2-common_words</small></span>"
     },
     "metadata": {
      "text/html": {
       "isolated": true
      }
     }
    },
    {
     "output_type": "display_data",
     "data": {
      "text/plain": "<IPython.core.display.HTML object>",
      "text/html": "<span style=\"color:LIGHTSALMON\"><small> 0.8925 | 0.8418 | 0.3466 | {'alpha': 1e-10} | 0.8546 | 0.7877 | 0.4119 | {'alpha': 1e-10} | 3 | nb_common_words+nb_common_words/nb_words_question1+nb_common_words/nb_words_question2</small></span>"
     },
     "metadata": {
      "text/html": {
       "isolated": true
      }
     }
    },
    {
     "output_type": "display_data",
     "data": {
      "text/plain": "<IPython.core.display.HTML object>",
      "text/html": "<span style=\"color:LIMEGREEN\"><small> 0.9140 | 0.8873 | 0.2679 | {'alpha': 1e-10} | 0.8431 | 0.8023 | 0.3647 | {'alpha': 1e-10} | 3 | nb_common_words/nb_words_question1+nb_common_words/nb_words_question2+nb_words_question1-common_words</small></span>"
     },
     "metadata": {
      "text/html": {
       "isolated": true
      }
     }
    },
    {
     "output_type": "display_data",
     "data": {
      "text/plain": "<IPython.core.display.HTML object>",
      "text/html": "<span style=\"color:LIGHTSALMON\"><small> 0.8925 | 0.8418 | 0.3509 | {'alpha': 0.01} | 0.8546 | 0.7877 | 0.4145 | {'alpha': 0.01} | 3 | nb_common_words/nb_words_question1+nb_common_words/nb_words_question2+nb_common_words/(nb_words_question1+nb_words_question2)</small></span>"
     },
     "metadata": {
      "text/html": {
       "isolated": true
      }
     }
    },
    {
     "output_type": "display_data",
     "data": {
      "text/plain": "<IPython.core.display.HTML object>",
      "text/html": "<span style=\"color:LIGHTSALMON\"><small> 0.8545 | 0.8453 | 0.2940 | {'alpha': 1e-10} | 0.8145 | 0.7936 | 0.4029 | {'alpha': 1e-10} | 4 | nb_words_question1+nb_words_question2+nb_common_words+nb_common_words/(nb_words_question1+nb_words_question2)</small></span>"
     },
     "metadata": {
      "text/html": {
       "isolated": true
      }
     }
    },
    {
     "output_type": "display_data",
     "data": {
      "text/plain": "<IPython.core.display.HTML object>",
      "text/html": "<span style=\"color:LIGHTSALMON\"><small> 0.8380 | 0.8555 | 0.4325 | {'alpha': 1e-10} | 0.7468 | 0.7712 | 0.6632 | {'alpha': 1e-10} | 4 | nb_words_question1+nb_common_words+nb_common_words/nb_words_question1+nb_words_question1-common_words</small></span>"
     },
     "metadata": {
      "text/html": {
       "isolated": true
      }
     }
    },
    {
     "output_type": "display_data",
     "data": {
      "text/plain": "<IPython.core.display.HTML object>",
      "text/html": "<span style=\"color:LIGHTSALMON\"><small> 0.8330 | 0.8112 | 0.2965 | {'alpha': 1e-10} | 0.8351 | 0.8025 | 0.3826 | {'alpha': 1e-10} | 4 | nb_words_question1+nb_common_words/nb_words_question1+nb_words_question1-common_words+nb_words_question2-common_words</small></span>"
     },
     "metadata": {
      "text/html": {
       "isolated": true
      }
     }
    },
    {
     "output_type": "display_data",
     "data": {
      "text/plain": "<IPython.core.display.HTML object>",
      "text/html": "<span style=\"color:LIGHTSALMON\"><small> 0.7355 | 0.7680 | 0.4550 | {'alpha': 1e-10} | 0.7332 | 0.7564 | 0.5820 | {'alpha': 1e-10} | 4 | nb_words_question2+nb_common_words+nb_common_words/nb_words_question2+nb_words_question2-common_words</small></span>"
     },
     "metadata": {
      "text/html": {
       "isolated": true
      }
     }
    },
    {
     "output_type": "display_data",
     "data": {
      "text/plain": "<IPython.core.display.HTML object>",
      "text/html": "<span style=\"color:LIGHTSALMON\"><small> 0.8760 | 0.8747 | 0.2845 | {'alpha': 1e-10} | 0.7642 | 0.7609 | 0.4203 | {'alpha': 1e-10} | 4 | nb_words_question2+nb_common_words/nb_words_question2+nb_words_question1-common_words+nb_common_words/(nb_words_question1+nb_words_question2)</small></span>"
     },
     "metadata": {
      "text/html": {
       "isolated": true
      }
     }
    },
    {
     "output_type": "display_data",
     "data": {
      "text/plain": "<IPython.core.display.HTML object>",
      "text/html": "<span style=\"color:LIGHTSALMON\"><small> 0.7785 | 0.8122 | 0.4994 | {'alpha': 1e-10} | 0.7514 | 0.7760 | 0.7098 | {'alpha': 1e-10} | 4 | nb_common_words+nb_words_question1-common_words+nb_words_question2-common_words+nb_common_words/(nb_words_question1+nb_words_question2)</small></span>"
     },
     "metadata": {
      "text/html": {
       "isolated": true
      }
     }
    },
    {
     "output_type": "display_data",
     "data": {
      "text/plain": "<IPython.core.display.HTML object>",
      "text/html": "<span style=\"color:LIMEGREEN\"><small> 0.9140 | 0.8873 | 0.2665 | {'alpha': 1e-10} | 0.8512 | 0.8011 | 0.3648 | {'alpha': 1e-10} | 4 | nb_common_words/nb_words_question1+nb_common_words/nb_words_question2+nb_words_question1-common_words+nb_words_question2-common_words</small></span>"
     },
     "metadata": {
      "text/html": {
       "isolated": true
      }
     }
    },
    {
     "output_type": "display_data",
     "data": {
      "text/plain": "<IPython.core.display.HTML object>",
      "text/html": "<span style=\"color:LIGHTSALMON\"><small> 0.8545 | 0.8453 | 0.2979 | {'alpha': 1e-10} | 0.7768 | 0.7691 | 0.4102 | {'alpha': 1e-10} | 5 | nb_words_question1+nb_words_question2+nb_common_words+nb_common_words/nb_words_question2+nb_common_words/(nb_words_question1+nb_words_question2)</small></span>"
     },
     "metadata": {
      "text/html": {
       "isolated": true
      }
     }
    },
    {
     "output_type": "display_data",
     "data": {
      "text/plain": "<IPython.core.display.HTML object>",
      "text/html": "<span style=\"color:LIGHTSALMON\"><small> 0.8925 | 0.8418 | 0.3167 | {'alpha': 1e-10} | 0.8386 | 0.7936 | 0.3854 | {'alpha': 1e-10} | 5 | nb_words_question1+nb_words_question2+nb_common_words/nb_words_question2+nb_words_question2-common_words+nb_common_words/(nb_words_question1+nb_words_question2)</small></span>"
     },
     "metadata": {
      "text/html": {
       "isolated": true
      }
     }
    },
    {
     "output_type": "display_data",
     "data": {
      "text/plain": "<IPython.core.display.HTML object>",
      "text/html": "<span style=\"color:LIGHTSALMON\"><small> 0.8545 | 0.8453 | 0.3059 | {'alpha': 1e-10} | 0.7939 | 0.7838 | 0.4035 | {'alpha': 1e-10} | 5 | nb_words_question1+nb_common_words/nb_words_question1+nb_common_words/nb_words_question2+nb_words_question1-common_words+nb_words_question2-common_words</small></span>"
     },
     "metadata": {
      "text/html": {
       "isolated": true
      }
     }
    },
    {
     "output_type": "display_data",
     "data": {
      "text/plain": "<IPython.core.display.HTML object>",
      "text/html": "<span style=\"color:LIGHTSALMON\"><small> 0.8380 | 0.8555 | 0.4464 | {'alpha': 1e-10} | 0.7468 | 0.7712 | 0.6758 | {'alpha': 1e-10} | 5 | nb_words_question2+nb_common_words+nb_common_words/nb_words_question2+nb_words_question1-common_words+nb_common_words/(nb_words_question1+nb_words_question2)</small></span>"
     },
     "metadata": {
      "text/html": {
       "isolated": true
      }
     }
    },
    {
     "output_type": "display_data",
     "data": {
      "text/plain": "<IPython.core.display.HTML object>",
      "text/html": "<span style=\"color:LIGHTSALMON\"><small> 0.7785 | 0.8122 | 0.5446 | {'alpha': 1e-10} | 0.7514 | 0.7760 | 0.7634 | {'alpha': 1e-10} | 5 | nb_common_words+nb_common_words/nb_words_question2+nb_words_question1-common_words+nb_words_question2-common_words+nb_common_words/(nb_words_question1+nb_words_question2)</small></span>"
     },
     "metadata": {
      "text/html": {
       "isolated": true
      }
     }
    },
    {
     "output_type": "display_data",
     "data": {
      "text/plain": "<IPython.core.display.HTML object>",
      "text/html": "<span style=\"color:LIGHTSALMON\"><small> 0.8760 | 0.8747 | 0.3170 | {'alpha': 1e-10} | 0.7824 | 0.7850 | 0.4559 | {'alpha': 1e-10} | 6 | nb_words_question1+nb_words_question2+nb_common_words/nb_words_question1+nb_common_words/nb_words_question2+nb_words_question1-common_words+nb_words_question2-common_words</small></span>"
     },
     "metadata": {
      "text/html": {
       "isolated": true
      }
     }
    },
    {
     "output_type": "display_data",
     "data": {
      "text/plain": "<IPython.core.display.HTML object>",
      "text/html": "<span style=\"color:LIGHTSALMON\"><small> 0.8380 | 0.8555 | 0.4710 | {'alpha': 1e-10} | 0.7605 | 0.7854 | 0.7174 | {'alpha': 1e-10} | 6 | nb_words_question2+nb_common_words+nb_common_words/nb_words_question1+nb_common_words/nb_words_question2+nb_words_question1-common_words+nb_common_words/(nb_words_question1+nb_words_question2)</small></span>"
     },
     "metadata": {
      "text/html": {
       "isolated": true
      }
     }
    },
    {
     "output_type": "display_data",
     "data": {
      "text/plain": "<IPython.core.display.HTML object>",
      "text/html": "<span style=\"color:LIGHTSALMON\"><small> 0.7785 | 0.8122 | 0.5938 | {'alpha': 1e-10} | 0.7433 | 0.7712 | 0.8287 | {'alpha': 1e-10} | 7 | nb_words_question1+nb_common_words+nb_common_words/nb_words_question1+nb_common_words/nb_words_question2+nb_words_question1-common_words+nb_words_question2-common_words+nb_common_words/(nb_words_question1+nb_words_question2)</small></span>"
     },
     "metadata": {
      "text/html": {
       "isolated": true
      }
     }
    },
    {
     "output_type": "stream",
     "name": "stdout",
     "text": "\n"
    },
    {
     "output_type": "display_data",
     "data": {
      "text/plain": "<IPython.core.display.HTML object>",
      "text/html": "<span style=\"color:LIMEGREEN\"><small><b><i>Done in 46.5 s</i></b><p></p></small></span>"
     },
     "metadata": {
      "text/html": {
       "isolated": true
      }
     }
    }
   ],
   "source": [
    "# Here is our algorithm specification\n",
    "HYPER_PARAMETERS_MULTINOMIAL_NAIVE_BAYES_FIRST_TRY = {\n",
    "    'alpha':[1e-10,1e-08,1e-06,1e-04,1e-02,1e-01,1.0]\n",
    "    }\n",
    "\n",
    "HYPER_PARAMETERS_MULTINOMIAL_NAIVE_BAYES_FINE_TUNING = {\n",
    "    'alpha':[0.8e-10,0.9e-10,1.0e-10,1.1e-10,1.2e-10]\n",
    "    }\n",
    "\n",
    "ALGORITHM_SPEC_MULTINOMIAL_NB_RANDOMIZED_SEARCH = {\n",
    "    'algorithm': MultinomialNB,\n",
    "    'searcher': RandomizedSearchCV,\n",
    "    'hyper_parameters': {\n",
    "        'alpha':[1e-10,1e-08,1e-06,1e-04,1e-02,1e-01,1.0]\n",
    "    }\n",
    "}\n",
    "\n",
    "ALGORITHM_SPEC_COMPLEMENT_NB = {\n",
    "    'algorithm': ComplementNB\n",
    "}\n",
    "\n",
    "if UNITARY_TEST:\n",
    "    print_section('Unitary test: one default model (80,20) & (100,0) using feature nb_words_question1')\n",
    "    res = build_model_80_20_and_100_0(ALGORITHM_SPEC_COMPLEMENT_NB,train_dataframe,['nb_common_words/nb_words_question1', 'nb_words_question1-common_words', 'nb_words_question2-common_words', 'nb_common_words/(nb_words_question1+nb_words_question2)'],train_dataframe['is_duplicate'])\n",
    "    print(res)\n",
    "\n",
    "# Unitary test\n",
    "if UNITARY_TEST:\n",
    "    print_section('Unitary test : optimize one model (80,20) & (100,0) using feature nb_words_question1')\n",
    "    res = build_model_80_20_and_100_0_hyper(ALGORITHM_SPEC_MULTINOMIAL_NB_RANDOMIZED_SEARCH,train_dataframe,['nb_common_words/nb_words_question1', 'nb_words_question1-common_words', 'nb_words_question2-common_words', 'nb_common_words/(nb_words_question1+nb_words_question2)'],train_dataframe['is_duplicate'])\n",
    "    print( res)\n",
    "\n",
    "if UNITARY_TEST:\n",
    "    small_train = train_dataframe.sample(100,random_state=42)\n",
    "    res = build_default_model_on_all_subset_of_simple_features(ALGORITHM_SPEC_MULTINOMIAL_NB_RANDOMIZED_SEARCH,small_train,small_train['is_duplicate'])\n",
    "\n",
    "if UNITARY_TEST:\n",
    "    small_train = train_dataframe.sample(100,random_state=42)\n",
    "    res = build_hyper_model_on_all_subset_of_simple_features(ALGORITHM_SPEC_MULTINOMIAL_NB_RANDOMIZED_SEARCH,small_train,small_train['is_duplicate'])"
   ]
  },
  {
   "source": [
    "## Everything ready for exploration\n",
    "\n",
    "Algorithms available here are:\n",
    "* Multinomial Naive Bayes : good resulst facing its simplicity\n",
    "* Complement Naive Bayes (poor results)"
   ],
   "cell_type": "markdown",
   "metadata": {}
  },
  {
   "cell_type": "code",
   "execution_count": 9,
   "metadata": {
    "tags": []
   },
   "outputs": [
    {
     "output_type": "display_data",
     "data": {
      "text/plain": "<IPython.core.display.HTML object>",
      "text/html": "<b>test_basic_features_balanced_exploration : Build all models (80_20 & 100_0) on every combination of simple features - 404290 lines</b>"
     },
     "metadata": {
      "text/html": {
       "isolated": true
      }
     }
    },
    {
     "output_type": "display_data",
     "data": {
      "text/plain": "<IPython.core.display.HTML object>",
      "text/html": "<HR>"
     },
     "metadata": {
      "text/html": {
       "isolated": true
      }
     }
    },
    {
     "output_type": "display_data",
     "data": {
      "text/plain": "<IPython.core.display.HTML object>",
      "text/html": "<span style=\"color:LIGHTSALMON\"><small>256*2 models optimized - only 21 logged or best here. Watch for green</small></span>"
     },
     "metadata": {
      "text/html": {
       "isolated": true
      }
     }
    },
    {
     "output_type": "display_data",
     "data": {
      "text/plain": "<IPython.core.display.HTML object>",
      "text/html": "<span style=\"color:LIMEGREEN\"><small>accuracy_80_20|score_80_20|logloss_proba_80_20|params_80_20|accuracy_100_0|score_100_0|logloss_proba_100_0|params_100_0|nb_features|column_names</small></span>"
     },
     "metadata": {
      "text/html": {
       "isolated": true
      }
     }
    },
    {
     "output_type": "display_data",
     "data": {
      "text/plain": "HBox(children=(FloatProgress(value=0.0, max=256.0), HTML(value='')))",
      "application/vnd.jupyter.widget-view+json": {
       "version_major": 2,
       "version_minor": 0,
       "model_id": "abf8d4ab54314b1dbaaf9a5dee811123"
      }
     },
     "metadata": {}
    },
    {
     "output_type": "display_data",
     "data": {
      "text/plain": "<IPython.core.display.HTML object>",
      "text/html": "<span style=\"color:LIMEGREEN\"><small> 0.8238 | 0.7443 | 0.4655 | {'alpha': 9e-11} | 0.8254 | 0.7465 | 0.4631 | {'alpha': 9e-11} | 1 | nb_words_question1</small></span>"
     },
     "metadata": {
      "text/html": {
       "isolated": true
      }
     }
    },
    {
     "output_type": "display_data",
     "data": {
      "text/plain": "<IPython.core.display.HTML object>",
      "text/html": "<span style=\"color:LIMEGREEN\"><small> 0.8238 | 0.7443 | 0.4657 | {'alpha': 9e-11} | 0.8254 | 0.7465 | 0.4631 | {'alpha': 9e-11} | 2 | nb_words_question1+nb_words_question2</small></span>"
     },
     "metadata": {
      "text/html": {
       "isolated": true
      }
     }
    },
    {
     "output_type": "display_data",
     "data": {
      "text/plain": "<IPython.core.display.HTML object>",
      "text/html": "<span style=\"color:LIMEGREEN\"><small> 0.7901 | 0.7409 | 0.4452 | {'alpha': 9e-11} | 0.7918 | 0.7428 | 0.4436 | {'alpha': 9e-11} | 2 | nb_words_question1+nb_common_words</small></span>"
     },
     "metadata": {
      "text/html": {
       "isolated": true
      }
     }
    },
    {
     "output_type": "display_data",
     "data": {
      "text/plain": "<IPython.core.display.HTML object>",
      "text/html": "<span style=\"color:LIMEGREEN\"><small> 0.8077 | 0.7417 | 0.4368 | {'alpha': 1.05e-10} | 0.8091 | 0.7436 | 0.4348 | {'alpha': 9e-11} | 2 | nb_words_question1+nb_words_question1-common_words</small></span>"
     },
     "metadata": {
      "text/html": {
       "isolated": true
      }
     }
    },
    {
     "output_type": "display_data",
     "data": {
      "text/plain": "<IPython.core.display.HTML object>",
      "text/html": "<span style=\"color:LIMEGREEN\"><small> 0.8074 | 0.7415 | 0.4366 | {'alpha': 9e-11} | 0.8086 | 0.7433 | 0.4341 | {'alpha': 1.05e-10} | 2 | nb_words_question2+nb_words_question2-common_words</small></span>"
     },
     "metadata": {
      "text/html": {
       "isolated": true
      }
     }
    },
    {
     "output_type": "display_data",
     "data": {
      "text/plain": "<IPython.core.display.HTML object>",
      "text/html": "<span style=\"color:LIGHTSALMON\"><small> 0.7426 | 0.7499 | 0.6419 | {'alpha': 9e-11} | 0.7433 | 0.7510 | 0.6386 | {'alpha': 1.05e-10} | 2 | nb_common_words+nb_words_question2-common_words</small></span>"
     },
     "metadata": {
      "text/html": {
       "isolated": true
      }
     }
    },
    {
     "output_type": "display_data",
     "data": {
      "text/plain": "<IPython.core.display.HTML object>",
      "text/html": "<span style=\"color:LIMEGREEN\"><small> 0.8238 | 0.7443 | 0.4303 | {'alpha': 1.05e-10} | 0.8254 | 0.7465 | 0.4281 | {'alpha': 9e-11} | 2 | nb_common_words/nb_words_question1+nb_words_question1-common_words</small></span>"
     },
     "metadata": {
      "text/html": {
       "isolated": true
      }
     }
    },
    {
     "output_type": "display_data",
     "data": {
      "text/plain": "<IPython.core.display.HTML object>",
      "text/html": "<span style=\"color:LIMEGREEN\"><small> 0.8238 | 0.7443 | 0.4273 | {'alpha': 1.05e-10} | 0.8254 | 0.7465 | 0.4248 | {'alpha': 9e-11} | 2 | nb_common_words/nb_words_question1+nb_words_question2-common_words</small></span>"
     },
     "metadata": {
      "text/html": {
       "isolated": true
      }
     }
    },
    {
     "output_type": "display_data",
     "data": {
      "text/plain": "<IPython.core.display.HTML object>",
      "text/html": "<span style=\"color:LIGHTSALMON\"><small> 0.7821 | 0.7431 | 0.4524 | {'alpha': 9e-11} | 0.7841 | 0.7455 | 0.4503 | {'alpha': 9e-11} | 3 | nb_words_question1+nb_words_question2+nb_common_words</small></span>"
     },
     "metadata": {
      "text/html": {
       "isolated": true
      }
     }
    },
    {
     "output_type": "display_data",
     "data": {
      "text/plain": "<IPython.core.display.HTML object>",
      "text/html": "<span style=\"color:LIGHTSALMON\"><small> 0.7972 | 0.7403 | 0.4356 | {'alpha': 1.05e-10} | 0.7989 | 0.7423 | 0.4337 | {'alpha': 9e-11} | 3 | nb_words_question1+nb_common_words/nb_words_question1+nb_words_question1-common_words</small></span>"
     },
     "metadata": {
      "text/html": {
       "isolated": true
      }
     }
    },
    {
     "output_type": "display_data",
     "data": {
      "text/plain": "<IPython.core.display.HTML object>",
      "text/html": "<span style=\"color:LIGHTSALMON\"><small> 0.7428 | 0.7500 | 0.6419 | {'alpha': 9e-11} | 0.7437 | 0.7511 | 0.6385 | {'alpha': 1.05e-10} | 3 | nb_words_question2+nb_common_words+nb_words_question2-common_words</small></span>"
     },
     "metadata": {
      "text/html": {
       "isolated": true
      }
     }
    },
    {
     "output_type": "display_data",
     "data": {
      "text/plain": "<IPython.core.display.HTML object>",
      "text/html": "<span style=\"color:LIGHTSALMON\"><small> 0.8238 | 0.7443 | 0.4642 | {'alpha': 1.1e-10} | 0.8254 | 0.7465 | 0.4618 | {'alpha': 9e-11} | 3 | nb_common_words+nb_common_words/nb_words_question1+nb_common_words/nb_words_question2</small></span>"
     },
     "metadata": {
      "text/html": {
       "isolated": true
      }
     }
    },
    {
     "output_type": "display_data",
     "data": {
      "text/plain": "<IPython.core.display.HTML object>",
      "text/html": "<span style=\"color:LIMEGREEN\"><small> 0.8242 | 0.7468 | 0.4241 | {'alpha': 1.05e-10} | 0.8258 | 0.7491 | 0.4222 | {'alpha': 9e-11} | 3 | nb_common_words/nb_words_question1+nb_common_words/nb_words_question2+nb_words_question1-common_words</small></span>"
     },
     "metadata": {
      "text/html": {
       "isolated": true
      }
     }
    },
    {
     "output_type": "display_data",
     "data": {
      "text/plain": "<IPython.core.display.HTML object>",
      "text/html": "<span style=\"color:LIGHTSALMON\"><small> 0.8238 | 0.7443 | 0.4655 | {'alpha': 1.1e-10} | 0.8254 | 0.7465 | 0.4631 | {'alpha': 9e-11} | 3 | nb_common_words/nb_words_question1+nb_common_words/nb_words_question2+nb_common_words/(nb_words_question1+nb_words_question2)</small></span>"
     },
     "metadata": {
      "text/html": {
       "isolated": true
      }
     }
    },
    {
     "output_type": "display_data",
     "data": {
      "text/plain": "<IPython.core.display.HTML object>",
      "text/html": "<span style=\"color:LIMEGREEN\"><small> 0.8238 | 0.7443 | 0.4224 | {'alpha': 9e-11} | 0.8254 | 0.7465 | 0.4199 | {'alpha': 1.05e-10} | 3 | nb_common_words/nb_words_question1+nb_words_question2-common_words+nb_common_words/(nb_words_question1+nb_words_question2)</small></span>"
     },
     "metadata": {
      "text/html": {
       "isolated": true
      }
     }
    },
    {
     "output_type": "display_data",
     "data": {
      "text/plain": "<IPython.core.display.HTML object>",
      "text/html": "<span style=\"color:LIGHTSALMON\"><small> 0.7780 | 0.7447 | 0.4537 | {'alpha': 9e-11} | 0.7802 | 0.7470 | 0.4517 | {'alpha': 9e-11} | 4 | nb_words_question1+nb_words_question2+nb_common_words+nb_common_words/(nb_words_question1+nb_words_question2)</small></span>"
     },
     "metadata": {
      "text/html": {
       "isolated": true
      }
     }
    },
    {
     "output_type": "display_data",
     "data": {
      "text/plain": "<IPython.core.display.HTML object>",
      "text/html": "<span style=\"color:LIGHTSALMON\"><small> 0.7450 | 0.7510 | 0.6417 | {'alpha': 1.05e-10} | 0.7460 | 0.7522 | 0.6406 | {'alpha': 9e-11} | 4 | nb_words_question1+nb_common_words+nb_common_words/nb_words_question1+nb_words_question1-common_words</small></span>"
     },
     "metadata": {
      "text/html": {
       "isolated": true
      }
     }
    },
    {
     "output_type": "display_data",
     "data": {
      "text/plain": "<IPython.core.display.HTML object>",
      "text/html": "<span style=\"color:LIGHTSALMON\"><small> 0.7763 | 0.7454 | 0.4660 | {'alpha': 1.05e-10} | 0.7781 | 0.7475 | 0.4631 | {'alpha': 1.05e-10} | 4 | nb_words_question1+nb_common_words/nb_words_question1+nb_words_question1-common_words+nb_words_question2-common_words</small></span>"
     },
     "metadata": {
      "text/html": {
       "isolated": true
      }
     }
    },
    {
     "output_type": "display_data",
     "data": {
      "text/plain": "<IPython.core.display.HTML object>",
      "text/html": "<span style=\"color:LIGHTSALMON\"><small> 0.7396 | 0.7490 | 0.6680 | {'alpha': 9e-11} | 0.7406 | 0.7502 | 0.6646 | {'alpha': 1.05e-10} | 4 | nb_words_question2+nb_common_words+nb_common_words/nb_words_question2+nb_words_question2-common_words</small></span>"
     },
     "metadata": {
      "text/html": {
       "isolated": true
      }
     }
    },
    {
     "output_type": "display_data",
     "data": {
      "text/plain": "<IPython.core.display.HTML object>",
      "text/html": "<span style=\"color:LIGHTSALMON\"><small> 0.7873 | 0.7395 | 0.4567 | {'alpha': 1.05e-10} | 0.7887 | 0.7415 | 0.4558 | {'alpha': 9e-11} | 4 | nb_words_question2+nb_common_words/nb_words_question2+nb_words_question1-common_words+nb_common_words/(nb_words_question1+nb_words_question2)</small></span>"
     },
     "metadata": {
      "text/html": {
       "isolated": true
      }
     }
    },
    {
     "output_type": "display_data",
     "data": {
      "text/plain": "<IPython.core.display.HTML object>",
      "text/html": "<span style=\"color:LIGHTSALMON\"><small> 0.7363 | 0.7494 | 0.7529 | {'alpha': 1.05e-10} | 0.7361 | 0.7497 | 0.7505 | {'alpha': 9e-11} | 4 | nb_common_words+nb_words_question1-common_words+nb_words_question2-common_words+nb_common_words/(nb_words_question1+nb_words_question2)</small></span>"
     },
     "metadata": {
      "text/html": {
       "isolated": true
      }
     }
    },
    {
     "output_type": "display_data",
     "data": {
      "text/plain": "<IPython.core.display.HTML object>",
      "text/html": "<span style=\"color:LIMEGREEN\"><small> 0.8212 | 0.7505 | 0.4217 | {'alpha': 1.1e-10} | 0.8207 | 0.7517 | 0.4194 | {'alpha': 1.05e-10} | 4 | nb_common_words/nb_words_question1+nb_common_words/nb_words_question2+nb_words_question1-common_words+nb_words_question2-common_words</small></span>"
     },
     "metadata": {
      "text/html": {
       "isolated": true
      }
     }
    },
    {
     "output_type": "display_data",
     "data": {
      "text/plain": "<IPython.core.display.HTML object>",
      "text/html": "<span style=\"color:LIMEGREEN\"><small> 0.8238 | 0.7443 | 0.4204 | {'alpha': 1.1e-10} | 0.8254 | 0.7465 | 0.4180 | {'alpha': 9e-11} | 4 | nb_common_words/nb_words_question1+nb_words_question1-common_words+nb_words_question2-common_words+nb_common_words/(nb_words_question1+nb_words_question2)</small></span>"
     },
     "metadata": {
      "text/html": {
       "isolated": true
      }
     }
    },
    {
     "output_type": "display_data",
     "data": {
      "text/plain": "<IPython.core.display.HTML object>",
      "text/html": "<span style=\"color:LIGHTSALMON\"><small> 0.7722 | 0.7474 | 0.4583 | {'alpha': 9e-11} | 0.7743 | 0.7499 | 0.4563 | {'alpha': 1.05e-10} | 5 | nb_words_question1+nb_words_question2+nb_common_words+nb_common_words/nb_words_question2+nb_common_words/(nb_words_question1+nb_words_question2)</small></span>"
     },
     "metadata": {
      "text/html": {
       "isolated": true
      }
     }
    },
    {
     "output_type": "display_data",
     "data": {
      "text/plain": "<IPython.core.display.HTML object>",
      "text/html": "<span style=\"color:LIGHTSALMON\"><small> 0.7732 | 0.7443 | 0.4723 | {'alpha': 9e-11} | 0.7751 | 0.7464 | 0.4687 | {'alpha': 1.05e-10} | 5 | nb_words_question1+nb_words_question2+nb_common_words/nb_words_question2+nb_words_question2-common_words+nb_common_words/(nb_words_question1+nb_words_question2)</small></span>"
     },
     "metadata": {
      "text/html": {
       "isolated": true
      }
     }
    },
    {
     "output_type": "display_data",
     "data": {
      "text/plain": "<IPython.core.display.HTML object>",
      "text/html": "<span style=\"color:LIGHTSALMON\"><small> 0.7621 | 0.7502 | 0.4858 | {'alpha': 1.05e-10} | 0.7634 | 0.7518 | 0.4830 | {'alpha': 1.05e-10} | 5 | nb_words_question1+nb_common_words/nb_words_question1+nb_common_words/nb_words_question2+nb_words_question1-common_words+nb_words_question2-common_words</small></span>"
     },
     "metadata": {
      "text/html": {
       "isolated": true
      }
     }
    },
    {
     "output_type": "display_data",
     "data": {
      "text/plain": "<IPython.core.display.HTML object>",
      "text/html": "<span style=\"color:LIGHTSALMON\"><small> 0.7409 | 0.7497 | 0.6419 | {'alpha': 1.05e-10} | 0.7419 | 0.7510 | 0.6409 | {'alpha': 9e-11} | 5 | nb_words_question2+nb_common_words+nb_common_words/nb_words_question2+nb_words_question1-common_words+nb_common_words/(nb_words_question1+nb_words_question2)</small></span>"
     },
     "metadata": {
      "text/html": {
       "isolated": true
      }
     }
    },
    {
     "output_type": "display_data",
     "data": {
      "text/plain": "<IPython.core.display.HTML object>",
      "text/html": "<span style=\"color:LIGHTSALMON\"><small> 0.7307 | 0.7473 | 0.7954 | {'alpha': 1.05e-10} | 0.7306 | 0.7476 | 0.7931 | {'alpha': 1.05e-10} | 5 | nb_common_words+nb_common_words/nb_words_question2+nb_words_question1-common_words+nb_words_question2-common_words+nb_common_words/(nb_words_question1+nb_words_question2)</small></span>"
     },
     "metadata": {
      "text/html": {
       "isolated": true
      }
     }
    },
    {
     "output_type": "display_data",
     "data": {
      "text/plain": "<IPython.core.display.HTML object>",
      "text/html": "<span style=\"color:LIGHTSALMON\"><small> 0.7588 | 0.7511 | 0.5055 | {'alpha': 1.1e-10} | 0.7599 | 0.7523 | 0.5032 | {'alpha': 1.05e-10} | 6 | nb_words_question1+nb_words_question2+nb_common_words/nb_words_question1+nb_common_words/nb_words_question2+nb_words_question1-common_words+nb_words_question2-common_words</small></span>"
     },
     "metadata": {
      "text/html": {
       "isolated": true
      }
     }
    },
    {
     "output_type": "display_data",
     "data": {
      "text/plain": "<IPython.core.display.HTML object>",
      "text/html": "<span style=\"color:LIGHTSALMON\"><small> 0.7359 | 0.7487 | 0.6648 | {'alpha': 1.1e-10} | 0.7367 | 0.7498 | 0.6638 | {'alpha': 9e-11} | 6 | nb_words_question2+nb_common_words+nb_common_words/nb_words_question1+nb_common_words/nb_words_question2+nb_words_question1-common_words+nb_common_words/(nb_words_question1+nb_words_question2)</small></span>"
     },
     "metadata": {
      "text/html": {
       "isolated": true
      }
     }
    },
    {
     "output_type": "display_data",
     "data": {
      "text/plain": "<IPython.core.display.HTML object>",
      "text/html": "<span style=\"color:LIGHTSALMON\"><small> 0.7243 | 0.7437 | 0.8530 | {'alpha': 9e-11} | 0.7240 | 0.7439 | 0.8504 | {'alpha': 1.05e-10} | 7 | nb_words_question1+nb_common_words+nb_common_words/nb_words_question1+nb_common_words/nb_words_question2+nb_words_question1-common_words+nb_words_question2-common_words+nb_common_words/(nb_words_question1+nb_words_question2)</small></span>"
     },
     "metadata": {
      "text/html": {
       "isolated": true
      }
     }
    },
    {
     "output_type": "stream",
     "name": "stdout",
     "text": "\n"
    },
    {
     "output_type": "display_data",
     "data": {
      "text/plain": "<IPython.core.display.HTML object>",
      "text/html": "<span style=\"color:LIMEGREEN\"><small><b><i>Done in 761.7 s</i></b><p></p></small></span>"
     },
     "metadata": {
      "text/html": {
       "isolated": true
      }
     }
    }
   ],
   "source": [
    "HYPER_PARAMETERS_MULTINOMIAL_NAIVE_BAYES_FIRST_TRY = [1e-10,1e-08,1e-06,1e-04,1e-02,1e-01,1.0]\n",
    "\n",
    "HYPER_PARAMETERS_MULTINOMIAL_NAIVE_BAYES_FINE_TUNING = [0.9e-10,0.95e-10,1.0e-10,1.05e-10,1.1e-10]\n",
    "\n",
    "ALGORITHM_SPEC_MULTINOMIAL_NB_RANDOMIZED_SEARCH = {\n",
    "    'algorithm': MultinomialNB,\n",
    "    'searcher': RandomizedSearchCV,\n",
    "    'hyper_parameters': {\n",
    "        'alpha':HYPER_PARAMETERS_MULTINOMIAL_NAIVE_BAYES_FINE_TUNING\n",
    "    }\n",
    "}\n",
    "\n",
    "ALGORITHM_SPEC_COMPLEMENT_NB = {\n",
    "    'algorithm': ComplementNB\n",
    "}\n",
    "\n",
    "# Explore by building default models\n",
    "# default_model_results = build_default_model_on_all_subset_of_simple_features(ALGORITHM_SPEC_MULTINOMIAL_NB_RANDOMIZED_SEARCH,train_dataframe,train_dataframe['is_duplicate'])\n",
    "# Explore by guessing hyper parameters\n",
    "hyper_models_results = build_hyper_model_on_all_subset_of_simple_features(ALGORITHM_SPEC_MULTINOMIAL_NB_RANDOMIZED_SEARCH,train_dataframe,train_dataframe['is_duplicate'])"
   ]
  },
  {
   "cell_type": "code",
   "execution_count": null,
   "metadata": {},
   "outputs": [],
   "source": []
  },
  {
   "cell_type": "code",
   "execution_count": 8,
   "metadata": {},
   "outputs": [
    {
     "output_type": "error",
     "ename": "NameError",
     "evalue": "name 'model_results' is not defined",
     "traceback": [
      "\u001b[0;31m---------------------------------------------------------------------------\u001b[0m",
      "\u001b[0;31mNameError\u001b[0m                                 Traceback (most recent call last)",
      "\u001b[0;32m<ipython-input-8-0da0cae44832>\u001b[0m in \u001b[0;36m<module>\u001b[0;34m\u001b[0m\n\u001b[0;32m----> 1\u001b[0;31m \u001b[0mmodel_results\u001b[0m\u001b[0;34m\u001b[0m\u001b[0;34m\u001b[0m\u001b[0m\n\u001b[0m",
      "\u001b[0;31mNameError\u001b[0m: name 'model_results' is not defined"
     ]
    }
   ],
   "source": [
    "model_results"
   ]
  }
 ]
}