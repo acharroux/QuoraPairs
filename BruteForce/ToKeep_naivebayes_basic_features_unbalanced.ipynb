{
 "metadata": {
  "language_info": {
   "codemirror_mode": {
    "name": "ipython",
    "version": 3
   },
   "file_extension": ".py",
   "mimetype": "text/x-python",
   "name": "python",
   "nbconvert_exporter": "python",
   "pygments_lexer": "ipython3",
   "version": "3.8.3-final"
  },
  "orig_nbformat": 2,
  "kernelspec": {
   "name": "python_defaultSpec_1600194409625",
   "display_name": "Python 3.8.3 64-bit ('base': conda)"
  }
 },
 "nbformat": 4,
 "nbformat_minor": 2,
 "cells": [
  {
   "cell_type": "markdown",
   "metadata": {},
   "source": [
    "## Brute force : multinomial naive bayes on basic features\n",
    "* Default parameters for multinomial naive bayes\n",
    "* No cross validation, no hyper parameters\n",
    "* train is done on unbalanced data (distribution of is_duplicate is not the same on train(37%) and challenge data (17%) !)\n",
    "\n",
    "*BUT* a bunch of features are tested\n",
    "* Compute common_words between question1 & question2\n",
    "* Compute Nb common_words between question1 & question2\n",
    "* Compute Nb common words/nb words in question1\n",
    "* Compute Nb common words/nb words in question2\n",
    "* Compute Nb words in question1,question2 not in common words\n",
    "* Compute (nb common words)/(nb words in question1+nb word in question2)\n",
    "These features are combined to generate 255 models (*2 as bot models with or without tests are trained)\n",
    "\n",
    "# Sequence\n",
    "* All features are generated\n",
    "    * on training data\n",
    "    * on challenge data (overkill as some features may be rejected later but easier)\n",
    "* AUC graphs are computed for each single feature, so we can visually see if it is potentially useful or obviously useless\n",
    "* 2 Models are trained on *ALL* combination of features\n",
    "    * on a a partition 80/20\n",
    "    * on full training data \n",
    "* Performances of all models are saved in a excel file\n",
    "    * logloss on proba (test+full)\n",
    "    * logloss on decision (test+full)\n",
    "    * accuracy (test+full)\n",
    "    * score (weighted combination of f1-score) (test+full)\n",
    "* Various requests on this database of performances are done\n",
    "* Apply is done on best 3 models (test & full)\n",
    "    * proba is generated in a csv\n",
    "    * csv is zipped\n",
    "    * command line to publish in kaggle is displayed (no automatic submission to keep control)\n",
    "* Kaggle performances are downloaded and saved\n",
    "* Various requests on kaggle performances are done"
   ]
  },
  {
   "cell_type": "markdown",
   "metadata": {},
   "source": [
    "## Some setup and os tools"
   ]
  },
  {
   "cell_type": "code",
   "execution_count": 6,
   "metadata": {
    "tags": []
   },
   "outputs": [],
   "source": [
    "import numpy\n",
    "import pandas\n",
    "import os\n",
    "import matplotlib.pyplot as plot\n",
    "import seaborn as sns\n",
    "from shutil import copyfile\n",
    "from IPython.display import IFrame, display, HTML\n",
    "#tqdm_pandas is needed only for old versions of tqdm\n",
    "from tqdm import tqdm_pandas\n",
    "from tqdm.autonotebook  import tqdm\n",
    "%matplotlib inline\n",
    "\n",
    "# This is supposed to enhance default pandas display\n",
    "pandas.set_option('display.width',200)\n",
    "pandas.set_option('display.max_colwidth',200)\n",
    "\n",
    "# the folder where this experiment will be stored\n",
    "EXPERIMENT = 'multinomial_naivebayes_unbalanced'\n",
    "\n",
    "# The name of the docker image (used to display docker command to copy apply files to windows host)\n",
    "DOCKER_IMAGE_NAME = 'dev_ds_1'\n",
    "\n",
    "# Some common resources\n",
    "PANDAS_STORE = '../PandasStore'\n",
    "KAGGLE_EXE = '/root/anaconda3/bin/kaggle'\n",
    "PICKLE_EXTENSION = '.pkl'\n",
    "CLEAN_TRAINING_DATA = 'clean_training'\n",
    "CLEAN_CHALLENGE_DATA = 'clean_challenge'\n",
    "\n",
    "# Other useful constants\n",
    "ZIP_EXTENSION = '.zip'\n",
    "SEP_IN_FILE_NAME = '!'\n",
    "KAGGLE_GET_SUBMISSIONS_COMMAND = KAGGLE_EXE +' competitions submissions quora-question-pairs --csv'\n",
    "EXCEL_PRECISION='%.6f'\n",
    "\n",
    "# Try to have a minimal decoration in notebook output\n",
    "def print_html(s):\n",
    "    display(HTML(s, metadata=dict(isolated=True)))\n",
    "    \n",
    "def start_small():\n",
    "    display(HTML('<span><small>', metadata=dict(isolated=True)))\n",
    "\n",
    "def print_small(s):\n",
    "    print_html('<small>',s,'</small>')\n",
    "\n",
    "def end_small():\n",
    "    display(HTML('</small></span>', metadata=dict(isolated=True)))\n",
    "\n",
    "def start_italic():\n",
    "    display(HTML('<i>', metadata=dict(isolated=True)))\n",
    "\n",
    "def print_italic(s):\n",
    "    print_html('<i>'+s+'</i>')\n",
    "\n",
    "def end_italic():\n",
    "    display(HTML('</i>', metadata=dict(isolated=True)))\n",
    "\n",
    "def start_bold():\n",
    "    display(HTML('<b>', metadata=dict(isolated=True)))\n",
    "\n",
    "def print_bold(s):\n",
    "    print_html('<b>'+s+'</b>')\n",
    "\n",
    "def end_bold():\n",
    "    display(HTML('</b>', metadata=dict(isolated=True)))\n",
    "\n",
    "def print_bullet(s):\n",
    "    print_html('<li>'+s)\n",
    "\n",
    "def print_section(s):\n",
    "    print_bold(s)\n",
    "    print_html('<HR>')\n",
    "\n",
    "def print_done(s):\n",
    "    print_html('<span style=\"color:LIMEGREEN\"><small><b><i>'+s+'</i></b><p></p></small></span>')\n",
    "\n",
    "def print_info(s):\n",
    "    print_html('<span style=\"color:LIMEGREEN\"><small>'+s+'</small></span>')\n",
    "    \n",
    "def print_warning(s):\n",
    "    print_html('<span style=\"color:LIGHTSALMON\"><small>'+s+'</small></span>')\n",
    "\n",
    "## Plenty of small tools to help not creating a huge mess\n",
    "\n",
    "def global_pandas_store_file_name(file_name,ext='.pkl'):\n",
    "    return PANDAS_STORE +'/'+file_name+ext\n",
    "\n",
    "def local_pandas_store_file_name(file_name):\n",
    "    return env_file_name(file_name,PICKLE_EXTENSION)\n",
    "\n",
    "def env_path():\n",
    "    return '../'+EXPERIMENT\n",
    "\n",
    "def env_file_name(file_name,ext=''):\n",
    "    return env_path()+'/'+file_name+ext\n",
    "\n",
    "def absolute_env_file_name(file_name,ext=''):\n",
    "    return str(os.path.abspath(env_path()+'/'+file_name+ext))\n",
    "\n",
    "def copy_from_pandas_store_if_missing(file_name):\n",
    "    if not os.path.exists(env_file_name(file_name)):\n",
    "        print_info('Make local copy of %s' % global_pandas_store_file_name(file_name))\n",
    "        copyfile(global_pandas_store_file_name(file_name),local_pandas_store_file_name(file_name))\n",
    "\n",
    "def prepare_environnement():\n",
    "    print_section('Prepare %s environment' % EXPERIMENT)\n",
    "    # with recent versions use tqdm.pandas(desc=\"my bar!\")\n",
    "    # tqdm_pandas(tqdm())\n",
    "    tqdm.pandas()\n",
    "    if not os.path.exists(env_path()):\n",
    "        os.mkdir(env_path())\n",
    "    copy_from_pandas_store_if_missing(CLEAN_TRAINING_DATA)\n",
    "    copy_from_pandas_store_if_missing(CLEAN_CHALLENGE_DATA)\n",
    "    print_done('Done')\n",
    "    print\n",
    "\n",
    "## Tools to cache important and costly data\n",
    "\n",
    "def load_dataframe(file_name):\n",
    "    df = pandas.read_pickle(local_pandas_store_file_name(file_name))\n",
    "    return df\n",
    "\n",
    "def save_dataframe(df,file_name):\n",
    "    print_info('Save %s' % file_name )\n",
    "    df.to_pickle(local_pandas_store_file_name(file_name))\n",
    "\n",
    "def load_or_build_dataframe(dataframe_name,file_name,builder,dataframe):\n",
    "    print_section('%s: Load or rebuild %s' % (dataframe_name,file_name))\n",
    "    if os.path.exists(local_pandas_store_file_name(file_name)):\n",
    "        print_info(\"!!!!! %s is cached!!!\" % local_pandas_store_file_name(file_name))\n",
    "        df = load_dataframe(file_name)\n",
    "    else:\n",
    "        print_warning(\"!!!!! %s does not exists!!!\" % local_pandas_store_file_name(file_name))\n",
    "        print_warning('Rebuild and save it')\n",
    "        df = builder(dataframe)\n",
    "        save_dataframe(df,file_name)\n",
    "    print_done('Done:%s contains %d lines' % (file_name,len(df)))\n",
    "    return df\n",
    "\n",
    "# Code to generate all combination of numeric features\n",
    "from itertools import compress, product\n",
    "from itertools import chain, combinations\n",
    "\n",
    "def all_numeric_columns(dataframe):\n",
    "    l = list()\n",
    "    for name in dataframe.columns:\n",
    "        if dataframe.dtypes[name] in ['int64','float64'] and name not in ['test_id','id','qid1','qid2','is_duplicate']:\n",
    "            l.append( name)\n",
    "    return l\n",
    "\n",
    "def all_float_columns(dataframe):\n",
    "    l = list()\n",
    "    for name in dataframe.columns:\n",
    "        if dataframe.dtypes[name] in ['float64']:\n",
    "            l.append( name)\n",
    "    return l\n",
    "\n",
    "def all_subsets(ss):\n",
    "    return list(chain(*map(lambda x: combinations(ss, x), range(0, len(ss)+1))))\n",
    "\n",
    "def clean_combination_name(c):\n",
    "    return str(numpy.asarray(c)).replace(\"' '\",\"+\").replace(\"['\",\"\").replace(\"']\",\"\").replace(\"'\",\"\").replace(\" \",\"\").replace('\\n','+')\n",
    "\n",
    "def clean_all_combination_names(dataframe):\n",
    "    for c in all_subsets(all_numeric_columns(dataframe)):\n",
    "        if len(c)>0:\n",
    "            print('|%s|'% clean_combination_name(c))\n",
    "\n",
    "#print( 'All numeric columns\\n%s' % all_numeric_columns(train_dataframe))\n",
    "#print('All combinations of numeric columns\\n %d combinations\\n' % len(all_subsets(all_numeric_columns(train_dataframe))))\n",
    "#for c in all_subsets(all_numeric_columns(train_dataframe)):\n",
    "#    print(c)\n",
    "#clean_all_combination_names(train_dataframe)\n",
    "#print( '%d combination of features will be studied' % (len(list(all_subsets(all_numeric_columns(train_dataframe))))-1))\n",
    "\n",
    "# code to put plots in a grid\n",
    "\n",
    "def multiplot_from_generator(g, num_columns, figsize_for_one_row=None):\n",
    "    # call 'next(g)' to get past the first 'yield'\n",
    "    next(g)\n",
    "    # default to 15-inch rows, with square subplots\n",
    "    if figsize_for_one_row is None:\n",
    "        figsize_for_one_row = (15, 15/num_columns)\n",
    "    try:\n",
    "        while True:\n",
    "            # call plt.figure once per row\n",
    "            plot.figure(figsize=figsize_for_one_row)\n",
    "            for col in range(num_columns):\n",
    "                ax = plot.subplot(1, num_columns, col+1)\n",
    "                next(g)\n",
    "    except StopIteration:\n",
    "        pass\n",
    "\n",
    "# apply tools\n",
    "def apply_file_name(criteria,kind,model_key,ext='.csv'):\n",
    "    return env_file_name(SEP_IN_FILE_NAME.join((EXPERIMENT,criteria,kind,clean_combination_name(model_key).replace('/','_div_'))),ext=ext)\n",
    "\n",
    "def apply_absolute_file_name(criteria,kind,model_key,ext='.csv'):\n",
    "    return str(os.path.abspath(apply_file_name(criteria,kind,model_key,ext=ext)))\n",
    "\n",
    "# Zip tools\n",
    "from zipfile import ZipFile,ZIP_DEFLATED \n",
    "import zlib\n",
    "import os\n",
    "from pathlib import Path\n",
    "\n",
    "def zip_file_name(original_file_name):\n",
    "    return str(Path(original_file_name).with_suffix('.zip'))\n",
    "\n",
    "def zip_file_and_delete(original_file_name):\n",
    "    zip_name = zip_file_name(original_file_name) \n",
    "    zip = ZipFile(str(zip_name), 'w',compression=ZIP_DEFLATED)\n",
    "    zip.write(original_file_name)\n",
    "    zip.close()\n",
    "    os.unlink(original_file_name)\n",
    "    return zip_name\n",
    "\n",
    "# Excel tools\n",
    "def excel_file_name(file_name):\n",
    "    return env_file_name(file_name,ext='.xlsx')\n",
    "\n",
    "def pandas_to_excel(dataframe,file_name):\n",
    "    dataframe.to_excel(excel_file_name(SEP_IN_FILE_NAME.join([EXPERIMENT,file_name])),float_format=EXCEL_PRECISION)\n",
    "\n",
    "def save_models_dict_to_excel(models_dict,file_name='all_models'):\n",
    "    results = models_dict_to_models_results(models_dict)\n",
    "    results.to_excel(excel_file_name('_'.join([EXPERIMENT,file_name])),float_format=\"%.4f\")\n",
    "\n",
    "# Kaggle submissions tool\n",
    "import subprocess\n",
    "\n",
    "def load_kaggle_submissions():\n",
    "    print_section('Load all Kaggle submissions')\n",
    "    generic_submissions_name = EXPERIMENT+'_submissions'\n",
    "    file_name_csv = absolute_env_file_name(generic_submissions_name,ext='.csv')\n",
    "    file_name_excel = absolute_env_file_name(excel_file_name(generic_submissions_name))\n",
    "    csv_output = open(file_name_csv,\"w\")\n",
    "    proc = subprocess.Popen(KAGGLE_GET_SUBMISSIONS_COMMAND.split(),stdout=csv_output)\n",
    "    proc.wait()\n",
    "    csv_output.close()\n",
    "    print_info('All submissions are available in .csv&nbsp;&nbsp;format with %s' % file_name_csv)\n",
    "    submissions = pandas.read_csv(file_name_csv,error_bad_lines=True,warn_bad_lines=True)\n",
    "    # fix dataframe so it is more convenient to use\n",
    "    #submissions = submissions[submissions['status']=='complete' & submissions['description']!='first xgboost']\n",
    "    submissions = submissions[submissions['status']=='complete']\n",
    "    submissions = submissions[['date','publicScore','privateScore','description','fileName']]\n",
    "    submissions['date'] = pandas.to_datetime(submissions['date'])\n",
    "    submissions['publicScore'] = submissions['publicScore'].astype('float64')\n",
    "    submissions['privateScore'] = submissions['privateScore'].astype('float64')\n",
    "    submissions.to_excel(file_name_excel,float_format=\"%.4f\")\n",
    "    print_info('All submissions are available in .xlsx format with %s' % file_name_excel)\n",
    "    return submissions\n",
    "\n",
    "def show_last_submissions(submissions,n=3):\n",
    "    return submissions.nlargest(n,'date')\n",
    "\n",
    "def put_first(l,e):\n",
    "    l.insert(0,e)\n",
    "    return list(dict.fromkeys(l))\n",
    "\n",
    "\n",
    "def show_best_submissions(submissions,n=3,metric='publicScore',):\n",
    "    return submissions.nsmallest(n,metric)[put_first(submissions.columns.values.tolist(),metric)]\n"
   ]
  },
  {
   "cell_type": "markdown",
   "metadata": {},
   "source": [
    "## Build simple features"
   ]
  },
  {
   "cell_type": "code",
   "execution_count": 7,
   "metadata": {},
   "outputs": [],
   "source": [
    "\n",
    "def add_column_from_columns(dataframe,output_column_name,function):\n",
    "    dataframe[output_column_name]=dataframe.progress_apply(function,axis=1)\n",
    "    return dataframe[output_column_name]\n",
    "\n",
    "def add_column_from_column(dataframe,output_column_name,input_column_name,function):\n",
    "    dataframe[output_column_name]=dataframe[input_column_name].progress_apply(function)\n",
    "    return dataframe[output_column_name]\n",
    "\n",
    "\n",
    "def build_all_simple_features(dataframe):\n",
    "    start_small()\n",
    "    print_warning('Compute common_words between question1 & question2')\n",
    "    add_column_from_column(dataframe,'nb_words_question1','question1',lambda x: len(x.split()))\n",
    "    add_column_from_column(dataframe,'nb_words_question2','question2',lambda x: len(x.split()))\n",
    "    print_warning('Compute Nb common_words between question1 & question2')\n",
    "    add_column_from_columns(dataframe,'common_words',lambda r: list(set(r.question1.split())&set(r.question2.split())))\n",
    "    add_column_from_column(dataframe,'nb_common_words','common_words',len)\n",
    "\n",
    "    print_warning('Compute Nb common words/nb words in question1')\n",
    "    add_column_from_columns(dataframe,'nb_common_words/nb_words_question1',lambda r: r.nb_common_words/max(1,r.nb_words_question1))\n",
    "    print_warning('Compute Nb common words/nb words in question2')\n",
    "    add_column_from_columns(dataframe,'nb_common_words/nb_words_question2',lambda r: r.nb_common_words/max(1,r.nb_words_question2))\n",
    "\n",
    "    print_warning('Compute Nb words in question1,question2 not in common words')\n",
    "    add_column_from_columns(dataframe,'nb_words_question1-common_words',lambda r: len(list(set(r.question1.split())-set(r.common_words))))\n",
    "    add_column_from_columns(dataframe,'nb_words_question2-common_words',lambda r: len(list(set(r.question2.split())-set(r.common_words))))\n",
    "    print_warning('Compute (nb common words)/(nb words in question1+nb word in question2)')\n",
    "    add_column_from_columns(dataframe,'nb_common_words/(nb_words_question1+nb_words_question2)',lambda r: r.nb_common_words/(r.nb_words_question1+r.nb_words_question2))\n",
    "    end_small()\n",
    "    dataframe=dataframe.drop(columns='common_words')\n",
    "    return dataframe"
   ]
  },
  {
   "cell_type": "markdown",
   "metadata": {},
   "source": [
    "# First steps\n",
    "* Train & Challenge: Read original data (minimal low level cleaning already done)\n",
    "* Train & Challenge: Compute basic features\n",
    "    * Compute common_words between question1 & question2\n",
    "    * Compute Nb common_words between question1 & question2\n",
    "    * Compute Nb common words/nb words in question1\n",
    "    * Compute Nb common words/nb words in question2\n",
    "    * Compute Nb words in question1,question2 not in common words\n",
    "    * Compute (nb common words)/(nb words in question1+nb word in question2)\n"
   ]
  },
  {
   "cell_type": "code",
   "execution_count": 8,
   "metadata": {
    "tags": []
   },
   "outputs": [
    {
     "output_type": "display_data",
     "data": {
      "text/plain": "<IPython.core.display.HTML object>",
      "text/html": "<b>Prepare multinomial_naivebayes_unbalanced environment</b>"
     },
     "metadata": {
      "text/html": {
       "isolated": true
      }
     }
    },
    {
     "output_type": "display_data",
     "data": {
      "text/plain": "<IPython.core.display.HTML object>",
      "text/html": "<HR>"
     },
     "metadata": {
      "text/html": {
       "isolated": true
      }
     }
    },
    {
     "output_type": "display_data",
     "data": {
      "text/plain": "<IPython.core.display.HTML object>",
      "text/html": "<span style=\"color:LIMEGREEN\"><small>Make local copy of ../PandasStore/clean_training.pkl</small></span>"
     },
     "metadata": {
      "text/html": {
       "isolated": true
      }
     }
    },
    {
     "output_type": "display_data",
     "data": {
      "text/plain": "<IPython.core.display.HTML object>",
      "text/html": "<span style=\"color:LIMEGREEN\"><small>Make local copy of ../PandasStore/clean_challenge.pkl</small></span>"
     },
     "metadata": {
      "text/html": {
       "isolated": true
      }
     }
    },
    {
     "output_type": "display_data",
     "data": {
      "text/plain": "<IPython.core.display.HTML object>",
      "text/html": "<span style=\"color:LIMEGREEN\"><small><b><i>Done</i></b><p></p></small></span>"
     },
     "metadata": {
      "text/html": {
       "isolated": true
      }
     }
    },
    {
     "output_type": "display_data",
     "data": {
      "text/plain": "<IPython.core.display.HTML object>",
      "text/html": "<b>Training basic features: Load or rebuild training_basic_features</b>"
     },
     "metadata": {
      "text/html": {
       "isolated": true
      }
     }
    },
    {
     "output_type": "display_data",
     "data": {
      "text/plain": "<IPython.core.display.HTML object>",
      "text/html": "<HR>"
     },
     "metadata": {
      "text/html": {
       "isolated": true
      }
     }
    },
    {
     "output_type": "display_data",
     "data": {
      "text/plain": "<IPython.core.display.HTML object>",
      "text/html": "<span style=\"color:LIMEGREEN\"><small>!!!!! ../multinomial_naivebayes_unbalanced/training_basic_features.pkl is cached!!!</small></span>"
     },
     "metadata": {
      "text/html": {
       "isolated": true
      }
     }
    },
    {
     "output_type": "display_data",
     "data": {
      "text/plain": "<IPython.core.display.HTML object>",
      "text/html": "<span style=\"color:LIMEGREEN\"><small><b><i>Done:training_basic_features contains 404290 lines</i></b><p></p></small></span>"
     },
     "metadata": {
      "text/html": {
       "isolated": true
      }
     }
    },
    {
     "output_type": "display_data",
     "data": {
      "text/plain": "<IPython.core.display.HTML object>",
      "text/html": "<b>Challenge basic features: Load or rebuild challenge_basic_features</b>"
     },
     "metadata": {
      "text/html": {
       "isolated": true
      }
     }
    },
    {
     "output_type": "display_data",
     "data": {
      "text/plain": "<IPython.core.display.HTML object>",
      "text/html": "<HR>"
     },
     "metadata": {
      "text/html": {
       "isolated": true
      }
     }
    },
    {
     "output_type": "display_data",
     "data": {
      "text/plain": "<IPython.core.display.HTML object>",
      "text/html": "<span style=\"color:LIGHTSALMON\"><small>!!!!! ../multinomial_naivebayes_unbalanced/challenge_basic_features.pkl does not exists!!!</small></span>"
     },
     "metadata": {
      "text/html": {
       "isolated": true
      }
     }
    },
    {
     "output_type": "display_data",
     "data": {
      "text/plain": "<IPython.core.display.HTML object>",
      "text/html": "<span style=\"color:LIGHTSALMON\"><small>Rebuild and save it</small></span>"
     },
     "metadata": {
      "text/html": {
       "isolated": true
      }
     }
    },
    {
     "output_type": "display_data",
     "data": {
      "text/plain": "<IPython.core.display.HTML object>",
      "text/html": "<span><small>"
     },
     "metadata": {
      "text/html": {
       "isolated": true
      }
     }
    },
    {
     "output_type": "display_data",
     "data": {
      "text/plain": "<IPython.core.display.HTML object>",
      "text/html": "<span style=\"color:LIGHTSALMON\"><small>Compute common_words between question1 & question2</small></span>"
     },
     "metadata": {
      "text/html": {
       "isolated": true
      }
     }
    },
    {
     "output_type": "display_data",
     "data": {
      "text/plain": "HBox(children=(FloatProgress(value=0.0, max=2345796.0), HTML(value='')))",
      "application/vnd.jupyter.widget-view+json": {
       "version_major": 2,
       "version_minor": 0,
       "model_id": "86dfd959dff747e285ec6b087233b2ec"
      }
     },
     "metadata": {}
    },
    {
     "output_type": "stream",
     "name": "stdout",
     "text": "\n"
    },
    {
     "output_type": "display_data",
     "data": {
      "text/plain": "HBox(children=(FloatProgress(value=0.0, max=2345796.0), HTML(value='')))",
      "application/vnd.jupyter.widget-view+json": {
       "version_major": 2,
       "version_minor": 0,
       "model_id": "bc50617b45af4323b178c93f5c5b89dc"
      }
     },
     "metadata": {}
    },
    {
     "output_type": "stream",
     "name": "stdout",
     "text": "\n"
    },
    {
     "output_type": "display_data",
     "data": {
      "text/plain": "<IPython.core.display.HTML object>",
      "text/html": "<span style=\"color:LIGHTSALMON\"><small>Compute Nb common_words between question1 & question2</small></span>"
     },
     "metadata": {
      "text/html": {
       "isolated": true
      }
     }
    },
    {
     "output_type": "display_data",
     "data": {
      "text/plain": "HBox(children=(FloatProgress(value=0.0, max=2345796.0), HTML(value='')))",
      "application/vnd.jupyter.widget-view+json": {
       "version_major": 2,
       "version_minor": 0,
       "model_id": "b7f3365235364933bc2370f39c7fdd9c"
      }
     },
     "metadata": {}
    },
    {
     "output_type": "stream",
     "name": "stdout",
     "text": "\n"
    },
    {
     "output_type": "display_data",
     "data": {
      "text/plain": "HBox(children=(FloatProgress(value=0.0, max=2345796.0), HTML(value='')))",
      "application/vnd.jupyter.widget-view+json": {
       "version_major": 2,
       "version_minor": 0,
       "model_id": "f6f0d47c5d9a4486ba96410b89e349b5"
      }
     },
     "metadata": {}
    },
    {
     "output_type": "stream",
     "name": "stdout",
     "text": "\n"
    },
    {
     "output_type": "display_data",
     "data": {
      "text/plain": "<IPython.core.display.HTML object>",
      "text/html": "<span style=\"color:LIGHTSALMON\"><small>Compute Nb common words/nb words in question1</small></span>"
     },
     "metadata": {
      "text/html": {
       "isolated": true
      }
     }
    },
    {
     "output_type": "display_data",
     "data": {
      "text/plain": "HBox(children=(FloatProgress(value=0.0, max=2345796.0), HTML(value='')))",
      "application/vnd.jupyter.widget-view+json": {
       "version_major": 2,
       "version_minor": 0,
       "model_id": "c0c5bb4e38334877b486a1a314f5431c"
      }
     },
     "metadata": {}
    },
    {
     "output_type": "stream",
     "name": "stdout",
     "text": "\n"
    },
    {
     "output_type": "display_data",
     "data": {
      "text/plain": "<IPython.core.display.HTML object>",
      "text/html": "<span style=\"color:LIGHTSALMON\"><small>Compute Nb common words/nb words in question2</small></span>"
     },
     "metadata": {
      "text/html": {
       "isolated": true
      }
     }
    },
    {
     "output_type": "display_data",
     "data": {
      "text/plain": "HBox(children=(FloatProgress(value=0.0, max=2345796.0), HTML(value='')))",
      "application/vnd.jupyter.widget-view+json": {
       "version_major": 2,
       "version_minor": 0,
       "model_id": "916b8a5efb7343bd9d336e9745e67e16"
      }
     },
     "metadata": {}
    },
    {
     "output_type": "stream",
     "name": "stdout",
     "text": "\n"
    },
    {
     "output_type": "display_data",
     "data": {
      "text/plain": "<IPython.core.display.HTML object>",
      "text/html": "<span style=\"color:LIGHTSALMON\"><small>Compute Nb words in question1,question2 not in common words</small></span>"
     },
     "metadata": {
      "text/html": {
       "isolated": true
      }
     }
    },
    {
     "output_type": "display_data",
     "data": {
      "text/plain": "HBox(children=(FloatProgress(value=0.0, max=2345796.0), HTML(value='')))",
      "application/vnd.jupyter.widget-view+json": {
       "version_major": 2,
       "version_minor": 0,
       "model_id": "33e242f46ca44bdbabe28f6d4d89fad5"
      }
     },
     "metadata": {}
    },
    {
     "output_type": "stream",
     "name": "stdout",
     "text": "\n"
    },
    {
     "output_type": "display_data",
     "data": {
      "text/plain": "HBox(children=(FloatProgress(value=0.0, max=2345796.0), HTML(value='')))",
      "application/vnd.jupyter.widget-view+json": {
       "version_major": 2,
       "version_minor": 0,
       "model_id": "5587a287e9454708acd01dcff3f3bacb"
      }
     },
     "metadata": {}
    },
    {
     "output_type": "stream",
     "name": "stdout",
     "text": "\n"
    },
    {
     "output_type": "display_data",
     "data": {
      "text/plain": "<IPython.core.display.HTML object>",
      "text/html": "<span style=\"color:LIGHTSALMON\"><small>Compute (nb common words)/(nb words in question1+nb word in question2)</small></span>"
     },
     "metadata": {
      "text/html": {
       "isolated": true
      }
     }
    },
    {
     "output_type": "display_data",
     "data": {
      "text/plain": "HBox(children=(FloatProgress(value=0.0, max=2345796.0), HTML(value='')))",
      "application/vnd.jupyter.widget-view+json": {
       "version_major": 2,
       "version_minor": 0,
       "model_id": "5ca801ef3d984648954536c6de49dbd2"
      }
     },
     "metadata": {}
    },
    {
     "output_type": "stream",
     "name": "stdout",
     "text": "\n"
    },
    {
     "output_type": "display_data",
     "data": {
      "text/plain": "<IPython.core.display.HTML object>",
      "text/html": "</small></span>"
     },
     "metadata": {
      "text/html": {
       "isolated": true
      }
     }
    },
    {
     "output_type": "display_data",
     "data": {
      "text/plain": "<IPython.core.display.HTML object>",
      "text/html": "<span style=\"color:LIMEGREEN\"><small>Save challenge_basic_features</small></span>"
     },
     "metadata": {
      "text/html": {
       "isolated": true
      }
     }
    },
    {
     "output_type": "display_data",
     "data": {
      "text/plain": "<IPython.core.display.HTML object>",
      "text/html": "<span style=\"color:LIMEGREEN\"><small><b><i>Done:challenge_basic_features contains 2345796 lines</i></b><p></p></small></span>"
     },
     "metadata": {
      "text/html": {
       "isolated": true
      }
     }
    }
   ],
   "source": [
    "prepare_environnement()\n",
    "train_dataframe=load_dataframe(CLEAN_TRAINING_DATA)\n",
    "challenge_dataframe=load_dataframe(CLEAN_CHALLENGE_DATA)\n",
    "\n",
    "train_dataframe=load_or_build_dataframe('Training basic features','training_basic_features',build_all_simple_features,train_dataframe)\n",
    "challenge_dataframe=load_or_build_dataframe('Challenge basic features','challenge_basic_features',build_all_simple_features,challenge_dataframe)"
   ]
  },
  {
   "cell_type": "code",
   "execution_count": 9,
   "metadata": {},
   "outputs": [
    {
     "output_type": "execute_result",
     "data": {
      "text/plain": "   id  qid1  qid2                                                                     question1                                                                                 question2  \\\n0   0     1     2            What is the step by step guide to invest in share market in india?                                 What is the step by step guide to invest in share market?   \n1   1     3     4                           What is the story of Kohinoor (Koh-i-Noor) Diamond?  What would happen if the Indian government stole the Kohinoor (Koh-i-Noor) diamond back?   \n2   2     5     6     How can I increase the speed of my internet connection while using a VPN?                               How can Internet speed be increased by hacking through DNS?   \n3   3     7     8                            Why am I mentally very lonely? How can I solve it?                         Find the remainder when [math]23^{24}[/math] is divided by 24,23?   \n4   4     9    10  Which one dissolve in water quikly sugar, salt, methane and carbon di oxide?                                                   Which fish would survive in salt water?   \n\n   is_duplicate  nb_words_question1  nb_words_question2  nb_common_words  nb_common_words/nb_words_question1  nb_common_words/nb_words_question2  nb_words_question1-common_words  \\\n0             0                  14                  12               10                            0.714286                            0.833333                                2   \n1             0                   8                  13                4                            0.500000                            0.307692                                4   \n2             0                  14                  10                3                            0.214286                            0.300000                               11   \n3             0                  11                   9                0                            0.000000                            0.000000                               10   \n4             0                  13                   7                2                            0.153846                            0.285714                               11   \n\n   nb_words_question2-common_words  nb_common_words/(nb_words_question1+nb_words_question2)  \n0                                1                                                 0.384615  \n1                                8                                                 0.190476  \n2                                7                                                 0.125000  \n3                                9                                                 0.000000  \n4                                5                                                 0.100000  ",
      "text/html": "<div>\n<style scoped>\n    .dataframe tbody tr th:only-of-type {\n        vertical-align: middle;\n    }\n\n    .dataframe tbody tr th {\n        vertical-align: top;\n    }\n\n    .dataframe thead th {\n        text-align: right;\n    }\n</style>\n<table border=\"1\" class=\"dataframe\">\n  <thead>\n    <tr style=\"text-align: right;\">\n      <th></th>\n      <th>id</th>\n      <th>qid1</th>\n      <th>qid2</th>\n      <th>question1</th>\n      <th>question2</th>\n      <th>is_duplicate</th>\n      <th>nb_words_question1</th>\n      <th>nb_words_question2</th>\n      <th>nb_common_words</th>\n      <th>nb_common_words/nb_words_question1</th>\n      <th>nb_common_words/nb_words_question2</th>\n      <th>nb_words_question1-common_words</th>\n      <th>nb_words_question2-common_words</th>\n      <th>nb_common_words/(nb_words_question1+nb_words_question2)</th>\n    </tr>\n  </thead>\n  <tbody>\n    <tr>\n      <th>0</th>\n      <td>0</td>\n      <td>1</td>\n      <td>2</td>\n      <td>What is the step by step guide to invest in share market in india?</td>\n      <td>What is the step by step guide to invest in share market?</td>\n      <td>0</td>\n      <td>14</td>\n      <td>12</td>\n      <td>10</td>\n      <td>0.714286</td>\n      <td>0.833333</td>\n      <td>2</td>\n      <td>1</td>\n      <td>0.384615</td>\n    </tr>\n    <tr>\n      <th>1</th>\n      <td>1</td>\n      <td>3</td>\n      <td>4</td>\n      <td>What is the story of Kohinoor (Koh-i-Noor) Diamond?</td>\n      <td>What would happen if the Indian government stole the Kohinoor (Koh-i-Noor) diamond back?</td>\n      <td>0</td>\n      <td>8</td>\n      <td>13</td>\n      <td>4</td>\n      <td>0.500000</td>\n      <td>0.307692</td>\n      <td>4</td>\n      <td>8</td>\n      <td>0.190476</td>\n    </tr>\n    <tr>\n      <th>2</th>\n      <td>2</td>\n      <td>5</td>\n      <td>6</td>\n      <td>How can I increase the speed of my internet connection while using a VPN?</td>\n      <td>How can Internet speed be increased by hacking through DNS?</td>\n      <td>0</td>\n      <td>14</td>\n      <td>10</td>\n      <td>3</td>\n      <td>0.214286</td>\n      <td>0.300000</td>\n      <td>11</td>\n      <td>7</td>\n      <td>0.125000</td>\n    </tr>\n    <tr>\n      <th>3</th>\n      <td>3</td>\n      <td>7</td>\n      <td>8</td>\n      <td>Why am I mentally very lonely? How can I solve it?</td>\n      <td>Find the remainder when [math]23^{24}[/math] is divided by 24,23?</td>\n      <td>0</td>\n      <td>11</td>\n      <td>9</td>\n      <td>0</td>\n      <td>0.000000</td>\n      <td>0.000000</td>\n      <td>10</td>\n      <td>9</td>\n      <td>0.000000</td>\n    </tr>\n    <tr>\n      <th>4</th>\n      <td>4</td>\n      <td>9</td>\n      <td>10</td>\n      <td>Which one dissolve in water quikly sugar, salt, methane and carbon di oxide?</td>\n      <td>Which fish would survive in salt water?</td>\n      <td>0</td>\n      <td>13</td>\n      <td>7</td>\n      <td>2</td>\n      <td>0.153846</td>\n      <td>0.285714</td>\n      <td>11</td>\n      <td>5</td>\n      <td>0.100000</td>\n    </tr>\n  </tbody>\n</table>\n</div>"
     },
     "metadata": {},
     "execution_count": 9
    }
   ],
   "source": [
    "train_dataframe.head()"
   ]
  },
  {
   "cell_type": "code",
   "execution_count": 5,
   "metadata": {},
   "outputs": [
    {
     "output_type": "execute_result",
     "data": {
      "text/plain": "   test_id                                                           question1                                                             question2  nb_words_question1  nb_words_question2  \\\n0        0           How does the Surface Pro himself 4 compare with iPad Pro?  Why did Microsoft choose core m3 and not core i3 home Surface Pro 4?                  11                  14   \n1        1  Should I have a hair transplant at age 24? How much would it cost?                           How much cost does hair transplant require?                  14                   7   \n2        2        What but is the best way to send money from China to the US?                                         What you send money to China?                  14                   6   \n3        3                                         Which food not emulsifiers?                                                     What foods fibre?                   4                   3   \n4        4                                    How \"aberystwyth\" start reading?                                        How their can I start reading?                   4                   6   \n\n   nb_common_words  nb_common_words/nb_words_question1  nb_common_words/nb_words_question2  nb_words_question1-common_words  nb_words_question2-common_words  \\\n0                2                            0.181818                            0.142857                                9                               11   \n1                4                            0.285714                            0.571429                               10                                3   \n2                4                            0.285714                            0.666667                                8                                2   \n3                0                            0.000000                            0.000000                                4                                3   \n4                3                            0.750000                            0.500000                                1                                3   \n\n   nb_common_words/(nb_words_question1+nb_words_question2)  \n0                                                 0.080000  \n1                                                 0.190476  \n2                                                 0.200000  \n3                                                 0.000000  \n4                                                 0.300000  ",
      "text/html": "<div>\n<style scoped>\n    .dataframe tbody tr th:only-of-type {\n        vertical-align: middle;\n    }\n\n    .dataframe tbody tr th {\n        vertical-align: top;\n    }\n\n    .dataframe thead th {\n        text-align: right;\n    }\n</style>\n<table border=\"1\" class=\"dataframe\">\n  <thead>\n    <tr style=\"text-align: right;\">\n      <th></th>\n      <th>test_id</th>\n      <th>question1</th>\n      <th>question2</th>\n      <th>nb_words_question1</th>\n      <th>nb_words_question2</th>\n      <th>nb_common_words</th>\n      <th>nb_common_words/nb_words_question1</th>\n      <th>nb_common_words/nb_words_question2</th>\n      <th>nb_words_question1-common_words</th>\n      <th>nb_words_question2-common_words</th>\n      <th>nb_common_words/(nb_words_question1+nb_words_question2)</th>\n    </tr>\n  </thead>\n  <tbody>\n    <tr>\n      <th>0</th>\n      <td>0</td>\n      <td>How does the Surface Pro himself 4 compare with iPad Pro?</td>\n      <td>Why did Microsoft choose core m3 and not core i3 home Surface Pro 4?</td>\n      <td>11</td>\n      <td>14</td>\n      <td>2</td>\n      <td>0.181818</td>\n      <td>0.142857</td>\n      <td>9</td>\n      <td>11</td>\n      <td>0.080000</td>\n    </tr>\n    <tr>\n      <th>1</th>\n      <td>1</td>\n      <td>Should I have a hair transplant at age 24? How much would it cost?</td>\n      <td>How much cost does hair transplant require?</td>\n      <td>14</td>\n      <td>7</td>\n      <td>4</td>\n      <td>0.285714</td>\n      <td>0.571429</td>\n      <td>10</td>\n      <td>3</td>\n      <td>0.190476</td>\n    </tr>\n    <tr>\n      <th>2</th>\n      <td>2</td>\n      <td>What but is the best way to send money from China to the US?</td>\n      <td>What you send money to China?</td>\n      <td>14</td>\n      <td>6</td>\n      <td>4</td>\n      <td>0.285714</td>\n      <td>0.666667</td>\n      <td>8</td>\n      <td>2</td>\n      <td>0.200000</td>\n    </tr>\n    <tr>\n      <th>3</th>\n      <td>3</td>\n      <td>Which food not emulsifiers?</td>\n      <td>What foods fibre?</td>\n      <td>4</td>\n      <td>3</td>\n      <td>0</td>\n      <td>0.000000</td>\n      <td>0.000000</td>\n      <td>4</td>\n      <td>3</td>\n      <td>0.000000</td>\n    </tr>\n    <tr>\n      <th>4</th>\n      <td>4</td>\n      <td>How \"aberystwyth\" start reading?</td>\n      <td>How their can I start reading?</td>\n      <td>4</td>\n      <td>6</td>\n      <td>3</td>\n      <td>0.750000</td>\n      <td>0.500000</td>\n      <td>1</td>\n      <td>3</td>\n      <td>0.300000</td>\n    </tr>\n  </tbody>\n</table>\n</div>"
     },
     "metadata": {},
     "execution_count": 5
    }
   ],
   "source": [
    "challenge_dataframe.head()"
   ]
  },
  {
   "cell_type": "markdown",
   "metadata": {},
   "source": [
    "Define some code to easily compute AUC of these basic features"
   ]
  },
  {
   "cell_type": "code",
   "execution_count": 10,
   "metadata": {},
   "outputs": [],
   "source": [
    "\n",
    "from sklearn.metrics import roc_auc_score\n",
    "\n",
    "def simple_AUC(dataframe,column_name):\n",
    "    return roc_auc_score(dataframe['is_duplicate'],dataframe[column_name])\n",
    "\n",
    "def show_AUC(dataframe,column_name):\n",
    "    print_bullet('AUC %s: %f' % (column_name,simple_AUC(dataframe,column_name)))\n",
    "\n",
    "def display_simple_AUC(dataframe,column_name):\n",
    "    palette = sns.color_palette()\n",
    "    # Let multiplot_generator figure the size\n",
    "    #plot.figure(figsize=(10, 7))\n",
    "    plot.hist(dataframe[column_name][dataframe['is_duplicate']==1],bins=50,color=palette[3],label='Same',histtype='step')\n",
    "    plot.hist(train_dataframe[column_name][dataframe['is_duplicate']==0],bins=50,color=palette[2],label='Different',alpha = 0.75,histtype='step')\n",
    "    plot.title('AUC %s : %f' % (column_name,simple_AUC(dataframe,column_name)) , fontsize=10)\n",
    "    plot.xlabel(column_name)\n",
    "    plot.ylabel('Nb')\n",
    "    plot.legend()\n",
    "\n",
    "\n",
    "def show_all_simple_AUC(dataframe):\n",
    "    all =  all_numeric_columns(dataframe)\n",
    "    print_section( 'Show AUC on %d unique features' % len(all))\n",
    "    for name in all:\n",
    "        show_AUC(dataframe,name)\n",
    "        yield\n",
    "        display_simple_AUC(dataframe,name)\n",
    "    print_done('Done')\n",
    "\n",
    "\n",
    "def show_all_simple_AUC_in_grid(dataframe,nb_columns=2):\n",
    "    multiplot_from_generator(show_all_simple_AUC(dataframe), nb_columns)"
   ]
  },
  {
   "cell_type": "markdown",
   "metadata": {},
   "source": [
    "## Is there a bit of information in our features ??"
   ]
  },
  {
   "cell_type": "code",
   "execution_count": 11,
   "metadata": {
    "tags": []
   },
   "outputs": [
    {
     "output_type": "display_data",
     "data": {
      "text/plain": "<IPython.core.display.HTML object>",
      "text/html": "<b>Show AUC on 8 unique features</b>"
     },
     "metadata": {
      "text/html": {
       "isolated": true
      }
     }
    },
    {
     "output_type": "display_data",
     "data": {
      "text/plain": "<IPython.core.display.HTML object>",
      "text/html": "<HR>"
     },
     "metadata": {
      "text/html": {
       "isolated": true
      }
     }
    },
    {
     "output_type": "display_data",
     "data": {
      "text/plain": "<IPython.core.display.HTML object>",
      "text/html": "<li>AUC nb_words_question1: 0.416034"
     },
     "metadata": {
      "text/html": {
       "isolated": true
      }
     }
    },
    {
     "output_type": "display_data",
     "data": {
      "text/plain": "<IPython.core.display.HTML object>",
      "text/html": "<li>AUC nb_words_question2: 0.420794"
     },
     "metadata": {
      "text/html": {
       "isolated": true
      }
     }
    },
    {
     "output_type": "display_data",
     "data": {
      "text/plain": "<IPython.core.display.HTML object>",
      "text/html": "<li>AUC nb_common_words: 0.680781"
     },
     "metadata": {
      "text/html": {
       "isolated": true
      }
     }
    },
    {
     "output_type": "display_data",
     "data": {
      "text/plain": "<IPython.core.display.HTML object>",
      "text/html": "<li>AUC nb_common_words/nb_words_question1: 0.723389"
     },
     "metadata": {
      "text/html": {
       "isolated": true
      }
     }
    },
    {
     "output_type": "display_data",
     "data": {
      "text/plain": "<IPython.core.display.HTML object>",
      "text/html": "<li>AUC nb_common_words/nb_words_question2: 0.725483"
     },
     "metadata": {
      "text/html": {
       "isolated": true
      }
     }
    },
    {
     "output_type": "display_data",
     "data": {
      "text/plain": "<IPython.core.display.HTML object>",
      "text/html": "<li>AUC nb_words_question1-common_words: 0.320685"
     },
     "metadata": {
      "text/html": {
       "isolated": true
      }
     }
    },
    {
     "output_type": "display_data",
     "data": {
      "text/plain": "<IPython.core.display.HTML object>",
      "text/html": "<li>AUC nb_words_question2-common_words: 0.323137"
     },
     "metadata": {
      "text/html": {
       "isolated": true
      }
     }
    },
    {
     "output_type": "display_data",
     "data": {
      "text/plain": "<IPython.core.display.HTML object>",
      "text/html": "<li>AUC nb_common_words/(nb_words_question1+nb_words_question2): 0.734773"
     },
     "metadata": {
      "text/html": {
       "isolated": true
      }
     }
    },
    {
     "output_type": "display_data",
     "data": {
      "text/plain": "<IPython.core.display.HTML object>",
      "text/html": "<span style=\"color:LIMEGREEN\"><small><b><i>Done</i></b><p></p></small></span>"
     },
     "metadata": {
      "text/html": {
       "isolated": true
      }
     }
    },
    {
     "output_type": "display_data",
     "data": {
      "text/plain": "<Figure size 1080x540 with 2 Axes>",
      "image/svg+xml": "<?xml version=\"1.0\" encoding=\"utf-8\" standalone=\"no\"?>\n<!DOCTYPE svg PUBLIC \"-//W3C//DTD SVG 1.1//EN\"\n  \"http://www.w3.org/Graphics/SVG/1.1/DTD/svg11.dtd\">\n<!-- Created with matplotlib (https://matplotlib.org/) -->\n<svg height=\"466.332812pt\" version=\"1.1\" viewBox=\"0 0 903.890625 466.332812\" width=\"903.890625pt\" xmlns=\"http://www.w3.org/2000/svg\" xmlns:xlink=\"http://www.w3.org/1999/xlink\">\n <defs>\n  <style type=\"text/css\">\n*{stroke-linecap:butt;stroke-linejoin:round;}\n  </style>\n </defs>\n <g id=\"figure_1\">\n  <g id=\"patch_1\">\n   <path d=\"M 0 466.332812 \nL 903.890625 466.332812 \nL 903.890625 0 \nL 0 0 \nz\n\" style=\"fill:none;\"/>\n  </g>\n  <g id=\"axes_1\">\n   <g id=\"patch_2\">\n    <path d=\"M 59.690625 428.498437 \nL 440.14517 428.498437 \nL 440.14517 20.798437 \nL 59.690625 20.798437 \nz\n\" style=\"fill:#ffffff;\"/>\n   </g>\n   <g id=\"patch_3\">\n    <path clip-path=\"url(#p718e3ea5ec)\" d=\"M 79.750956 428.498437 \nL 79.750956 428.387402 \nL 84.122724 428.387402 \nL 84.122724 403.737451 \nL 88.494493 403.737451 \nL 88.494493 377.833448 \nL 92.866261 377.833448 \nL 92.866261 207.406535 \nL 97.23803 207.406535 \nL 97.23803 289.155021 \nL 101.609799 289.155021 \nL 101.609799 202.409923 \nL 105.981567 202.409923 \nL 105.981567 304.099135 \nL 110.353336 304.099135 \nL 110.353336 389.230948 \nL 114.725104 389.230948 \nL 114.725104 368.904862 \nL 119.096873 368.904862 \nL 119.096873 408.812441 \nL 123.468642 408.812441 \nL 123.468642 403.143083 \nL 127.84041 403.143083 \nL 127.84041 419.406564 \nL 132.212179 419.406564 \nL 132.212179 413.998466 \nL 136.583947 413.998466 \nL 136.583947 419.589446 \nL 140.955716 419.589446 \nL 140.955716 425.983803 \nL 145.327485 425.983803 \nL 145.327485 424.42277 \nL 149.699253 424.42277 \nL 149.699253 426.911278 \nL 154.071022 426.911278 \nL 154.071022 426.774117 \nL 158.44279 426.774117 \nL 158.44279 427.577493 \nL 162.814559 427.577493 \nL 162.814559 428.152267 \nL 167.186327 428.152267 \nL 167.186327 428.086952 \nL 171.558096 428.086952 \nL 171.558096 428.341681 \nL 175.929865 428.341681 \nL 175.929865 428.406996 \nL 180.301633 428.406996 \nL 180.301633 428.478843 \nL 184.673402 428.478843 \nL 184.673402 428.446185 \nL 189.04517 428.446185 \nL 189.04517 428.46578 \nL 193.416939 428.46578 \nL 193.416939 428.472311 \nL 197.788708 428.472311 \nL 197.788708 428.478843 \nL 202.160476 428.478843 \nL 202.160476 428.491906 \nL 206.532245 428.491906 \nL 206.532245 428.478843 \nL 210.904013 428.478843 \nL 210.904013 428.485374 \nL 215.275782 428.485374 \nL 215.275782 428.498437 \nL 219.647551 428.498437 \nL 219.647551 428.485374 \nL 224.019319 428.485374 \nL 224.019319 428.498437 \nL 228.391088 428.498437 \nL 228.391088 428.485374 \nL 232.762856 428.485374 \nL 232.762856 428.498437 \nL 237.134625 428.498437 \nL 237.134625 428.498437 \nL 241.506394 428.498437 \nL 241.506394 428.498437 \nL 245.878162 428.498437 \nL 245.878162 428.498437 \nL 250.249931 428.498437 \nL 250.249931 428.498437 \nL 254.621699 428.498437 \nL 254.621699 428.498437 \nL 258.993468 428.498437 \nL 258.993468 428.498437 \nL 263.365237 428.498437 \nL 263.365237 428.498437 \nL 267.737005 428.498437 \nL 267.737005 428.498437 \nL 272.108774 428.498437 \nL 272.108774 428.498437 \nL 276.480542 428.498437 \nL 276.480542 428.498437 \nL 280.852311 428.498437 \nL 280.852311 428.498437 \nL 285.22408 428.498437 \nL 285.22408 428.498437 \nL 289.595848 428.498437 \nL 289.595848 428.498437 \nL 293.967617 428.498437 \nL 293.967617 428.491906 \nL 298.339385 428.491906 \nL 298.339385 428.498437 \n\" style=\"fill:none;stroke:#d62728;stroke-linejoin:miter;\"/>\n   </g>\n   <g id=\"patch_4\">\n    <path clip-path=\"url(#p718e3ea5ec)\" d=\"M 76.984013 428.498437 \nL 76.984013 427.695061 \nL 83.901369 427.695061 \nL 83.901369 367.814099 \nL 90.818724 367.814099 \nL 90.818724 94.293697 \nL 97.73608 94.293697 \nL 97.73608 85.456552 \nL 104.653435 85.456552 \nL 104.653435 40.212723 \nL 111.57079 40.212723 \nL 111.57079 270.886364 \nL 118.488146 270.886364 \nL 118.488146 275.046941 \nL 125.405501 275.046941 \nL 125.405501 366.155093 \nL 132.322856 366.155093 \nL 132.322856 363.26163 \nL 139.240212 363.26163 \nL 139.240212 398.544893 \nL 146.157567 398.544893 \nL 146.157567 395.213819 \nL 153.074923 395.213819 \nL 153.074923 414.207475 \nL 159.992278 414.207475 \nL 159.992278 418.217827 \nL 166.909633 418.217827 \nL 166.909633 425.389435 \nL 173.826989 425.389435 \nL 173.826989 425.631101 \nL 180.744344 425.631101 \nL 180.744344 427.028846 \nL 187.661699 427.028846 \nL 187.661699 426.950468 \nL 194.579055 426.950468 \nL 194.579055 427.825691 \nL 201.49641 427.825691 \nL 201.49641 427.73425 \nL 208.413765 427.73425 \nL 208.413765 428.060826 \nL 215.331121 428.060826 \nL 215.331121 428.047763 \nL 222.248476 428.047763 \nL 222.248476 428.256771 \nL 229.165832 428.256771 \nL 229.165832 428.289429 \nL 236.083187 428.289429 \nL 236.083187 428.374339 \nL 243.000542 428.374339 \nL 243.000542 428.315555 \nL 249.917898 428.315555 \nL 249.917898 428.433122 \nL 256.835253 428.433122 \nL 256.835253 428.459248 \nL 263.752608 428.459248 \nL 263.752608 428.478843 \nL 270.669964 428.478843 \nL 270.669964 428.485374 \nL 277.587319 428.485374 \nL 277.587319 428.485374 \nL 284.504675 428.485374 \nL 284.504675 428.491906 \nL 291.42203 428.491906 \nL 291.42203 428.498437 \nL 298.339385 428.498437 \nL 298.339385 428.498437 \nL 305.256741 428.498437 \nL 305.256741 428.498437 \nL 312.174096 428.498437 \nL 312.174096 428.498437 \nL 319.091451 428.498437 \nL 319.091451 428.498437 \nL 326.008807 428.498437 \nL 326.008807 428.498437 \nL 332.926162 428.498437 \nL 332.926162 428.498437 \nL 339.843518 428.498437 \nL 339.843518 428.498437 \nL 346.760873 428.498437 \nL 346.760873 428.498437 \nL 353.678228 428.498437 \nL 353.678228 428.498437 \nL 360.595584 428.498437 \nL 360.595584 428.498437 \nL 367.512939 428.498437 \nL 367.512939 428.498437 \nL 374.430294 428.498437 \nL 374.430294 428.498437 \nL 381.34765 428.498437 \nL 381.34765 428.498437 \nL 388.265005 428.498437 \nL 388.265005 428.498437 \nL 395.182361 428.498437 \nL 395.182361 428.498437 \nL 402.099716 428.498437 \nL 402.099716 428.498437 \nL 409.017071 428.498437 \nL 409.017071 428.498437 \nL 415.934427 428.498437 \nL 415.934427 428.491906 \nL 422.851782 428.491906 \nL 422.851782 428.498437 \n\" style=\"fill:none;opacity:0.75;stroke:#2ca02c;stroke-linejoin:miter;\"/>\n   </g>\n   <g id=\"matplotlib.axis_1\">\n    <g id=\"xtick_1\">\n     <g id=\"line2d_1\">\n      <defs>\n       <path d=\"M 0 0 \nL 0 3.5 \n\" id=\"mb7a7ca8098\" style=\"stroke:#000000;stroke-width:0.8;\"/>\n      </defs>\n      <g>\n       <use style=\"stroke:#000000;stroke-width:0.8;\" x=\"76.984013\" xlink:href=\"#mb7a7ca8098\" y=\"428.498437\"/>\n      </g>\n     </g>\n     <g id=\"text_1\">\n      <!-- 0 -->\n      <defs>\n       <path d=\"M 31.78125 66.40625 \nQ 24.171875 66.40625 20.328125 58.90625 \nQ 16.5 51.421875 16.5 36.375 \nQ 16.5 21.390625 20.328125 13.890625 \nQ 24.171875 6.390625 31.78125 6.390625 \nQ 39.453125 6.390625 43.28125 13.890625 \nQ 47.125 21.390625 47.125 36.375 \nQ 47.125 51.421875 43.28125 58.90625 \nQ 39.453125 66.40625 31.78125 66.40625 \nz\nM 31.78125 74.21875 \nQ 44.046875 74.21875 50.515625 64.515625 \nQ 56.984375 54.828125 56.984375 36.375 \nQ 56.984375 17.96875 50.515625 8.265625 \nQ 44.046875 -1.421875 31.78125 -1.421875 \nQ 19.53125 -1.421875 13.0625 8.265625 \nQ 6.59375 17.96875 6.59375 36.375 \nQ 6.59375 54.828125 13.0625 64.515625 \nQ 19.53125 74.21875 31.78125 74.21875 \nz\n\" id=\"DejaVuSans-48\"/>\n      </defs>\n      <g transform=\"translate(73.802763 443.096875)scale(0.1 -0.1)\">\n       <use xlink:href=\"#DejaVuSans-48\"/>\n      </g>\n     </g>\n    </g>\n    <g id=\"xtick_2\">\n     <g id=\"line2d_2\">\n      <g>\n       <use style=\"stroke:#000000;stroke-width:0.8;\" x=\"132.322856\" xlink:href=\"#mb7a7ca8098\" y=\"428.498437\"/>\n      </g>\n     </g>\n     <g id=\"text_2\">\n      <!-- 20 -->\n      <defs>\n       <path d=\"M 19.1875 8.296875 \nL 53.609375 8.296875 \nL 53.609375 0 \nL 7.328125 0 \nL 7.328125 8.296875 \nQ 12.9375 14.109375 22.625 23.890625 \nQ 32.328125 33.6875 34.8125 36.53125 \nQ 39.546875 41.84375 41.421875 45.53125 \nQ 43.3125 49.21875 43.3125 52.78125 \nQ 43.3125 58.59375 39.234375 62.25 \nQ 35.15625 65.921875 28.609375 65.921875 \nQ 23.96875 65.921875 18.8125 64.3125 \nQ 13.671875 62.703125 7.8125 59.421875 \nL 7.8125 69.390625 \nQ 13.765625 71.78125 18.9375 73 \nQ 24.125 74.21875 28.421875 74.21875 \nQ 39.75 74.21875 46.484375 68.546875 \nQ 53.21875 62.890625 53.21875 53.421875 \nQ 53.21875 48.921875 51.53125 44.890625 \nQ 49.859375 40.875 45.40625 35.40625 \nQ 44.1875 33.984375 37.640625 27.21875 \nQ 31.109375 20.453125 19.1875 8.296875 \nz\n\" id=\"DejaVuSans-50\"/>\n      </defs>\n      <g transform=\"translate(125.960356 443.096875)scale(0.1 -0.1)\">\n       <use xlink:href=\"#DejaVuSans-50\"/>\n       <use x=\"63.623047\" xlink:href=\"#DejaVuSans-48\"/>\n      </g>\n     </g>\n    </g>\n    <g id=\"xtick_3\">\n     <g id=\"line2d_3\">\n      <g>\n       <use style=\"stroke:#000000;stroke-width:0.8;\" x=\"187.661699\" xlink:href=\"#mb7a7ca8098\" y=\"428.498437\"/>\n      </g>\n     </g>\n     <g id=\"text_3\">\n      <!-- 40 -->\n      <defs>\n       <path d=\"M 37.796875 64.3125 \nL 12.890625 25.390625 \nL 37.796875 25.390625 \nz\nM 35.203125 72.90625 \nL 47.609375 72.90625 \nL 47.609375 25.390625 \nL 58.015625 25.390625 \nL 58.015625 17.1875 \nL 47.609375 17.1875 \nL 47.609375 0 \nL 37.796875 0 \nL 37.796875 17.1875 \nL 4.890625 17.1875 \nL 4.890625 26.703125 \nz\n\" id=\"DejaVuSans-52\"/>\n      </defs>\n      <g transform=\"translate(181.299199 443.096875)scale(0.1 -0.1)\">\n       <use xlink:href=\"#DejaVuSans-52\"/>\n       <use x=\"63.623047\" xlink:href=\"#DejaVuSans-48\"/>\n      </g>\n     </g>\n    </g>\n    <g id=\"xtick_4\">\n     <g id=\"line2d_4\">\n      <g>\n       <use style=\"stroke:#000000;stroke-width:0.8;\" x=\"243.000542\" xlink:href=\"#mb7a7ca8098\" y=\"428.498437\"/>\n      </g>\n     </g>\n     <g id=\"text_4\">\n      <!-- 60 -->\n      <defs>\n       <path d=\"M 33.015625 40.375 \nQ 26.375 40.375 22.484375 35.828125 \nQ 18.609375 31.296875 18.609375 23.390625 \nQ 18.609375 15.53125 22.484375 10.953125 \nQ 26.375 6.390625 33.015625 6.390625 \nQ 39.65625 6.390625 43.53125 10.953125 \nQ 47.40625 15.53125 47.40625 23.390625 \nQ 47.40625 31.296875 43.53125 35.828125 \nQ 39.65625 40.375 33.015625 40.375 \nz\nM 52.59375 71.296875 \nL 52.59375 62.3125 \nQ 48.875 64.0625 45.09375 64.984375 \nQ 41.3125 65.921875 37.59375 65.921875 \nQ 27.828125 65.921875 22.671875 59.328125 \nQ 17.53125 52.734375 16.796875 39.40625 \nQ 19.671875 43.65625 24.015625 45.921875 \nQ 28.375 48.1875 33.59375 48.1875 \nQ 44.578125 48.1875 50.953125 41.515625 \nQ 57.328125 34.859375 57.328125 23.390625 \nQ 57.328125 12.15625 50.6875 5.359375 \nQ 44.046875 -1.421875 33.015625 -1.421875 \nQ 20.359375 -1.421875 13.671875 8.265625 \nQ 6.984375 17.96875 6.984375 36.375 \nQ 6.984375 53.65625 15.1875 63.9375 \nQ 23.390625 74.21875 37.203125 74.21875 \nQ 40.921875 74.21875 44.703125 73.484375 \nQ 48.484375 72.75 52.59375 71.296875 \nz\n\" id=\"DejaVuSans-54\"/>\n      </defs>\n      <g transform=\"translate(236.638042 443.096875)scale(0.1 -0.1)\">\n       <use xlink:href=\"#DejaVuSans-54\"/>\n       <use x=\"63.623047\" xlink:href=\"#DejaVuSans-48\"/>\n      </g>\n     </g>\n    </g>\n    <g id=\"xtick_5\">\n     <g id=\"line2d_5\">\n      <g>\n       <use style=\"stroke:#000000;stroke-width:0.8;\" x=\"298.339385\" xlink:href=\"#mb7a7ca8098\" y=\"428.498437\"/>\n      </g>\n     </g>\n     <g id=\"text_5\">\n      <!-- 80 -->\n      <defs>\n       <path d=\"M 31.78125 34.625 \nQ 24.75 34.625 20.71875 30.859375 \nQ 16.703125 27.09375 16.703125 20.515625 \nQ 16.703125 13.921875 20.71875 10.15625 \nQ 24.75 6.390625 31.78125 6.390625 \nQ 38.8125 6.390625 42.859375 10.171875 \nQ 46.921875 13.96875 46.921875 20.515625 \nQ 46.921875 27.09375 42.890625 30.859375 \nQ 38.875 34.625 31.78125 34.625 \nz\nM 21.921875 38.8125 \nQ 15.578125 40.375 12.03125 44.71875 \nQ 8.5 49.078125 8.5 55.328125 \nQ 8.5 64.0625 14.71875 69.140625 \nQ 20.953125 74.21875 31.78125 74.21875 \nQ 42.671875 74.21875 48.875 69.140625 \nQ 55.078125 64.0625 55.078125 55.328125 \nQ 55.078125 49.078125 51.53125 44.71875 \nQ 48 40.375 41.703125 38.8125 \nQ 48.828125 37.15625 52.796875 32.3125 \nQ 56.78125 27.484375 56.78125 20.515625 \nQ 56.78125 9.90625 50.3125 4.234375 \nQ 43.84375 -1.421875 31.78125 -1.421875 \nQ 19.734375 -1.421875 13.25 4.234375 \nQ 6.78125 9.90625 6.78125 20.515625 \nQ 6.78125 27.484375 10.78125 32.3125 \nQ 14.796875 37.15625 21.921875 38.8125 \nz\nM 18.3125 54.390625 \nQ 18.3125 48.734375 21.84375 45.5625 \nQ 25.390625 42.390625 31.78125 42.390625 \nQ 38.140625 42.390625 41.71875 45.5625 \nQ 45.3125 48.734375 45.3125 54.390625 \nQ 45.3125 60.0625 41.71875 63.234375 \nQ 38.140625 66.40625 31.78125 66.40625 \nQ 25.390625 66.40625 21.84375 63.234375 \nQ 18.3125 60.0625 18.3125 54.390625 \nz\n\" id=\"DejaVuSans-56\"/>\n      </defs>\n      <g transform=\"translate(291.976885 443.096875)scale(0.1 -0.1)\">\n       <use xlink:href=\"#DejaVuSans-56\"/>\n       <use x=\"63.623047\" xlink:href=\"#DejaVuSans-48\"/>\n      </g>\n     </g>\n    </g>\n    <g id=\"xtick_6\">\n     <g id=\"line2d_6\">\n      <g>\n       <use style=\"stroke:#000000;stroke-width:0.8;\" x=\"353.678228\" xlink:href=\"#mb7a7ca8098\" y=\"428.498437\"/>\n      </g>\n     </g>\n     <g id=\"text_6\">\n      <!-- 100 -->\n      <defs>\n       <path d=\"M 12.40625 8.296875 \nL 28.515625 8.296875 \nL 28.515625 63.921875 \nL 10.984375 60.40625 \nL 10.984375 69.390625 \nL 28.421875 72.90625 \nL 38.28125 72.90625 \nL 38.28125 8.296875 \nL 54.390625 8.296875 \nL 54.390625 0 \nL 12.40625 0 \nz\n\" id=\"DejaVuSans-49\"/>\n      </defs>\n      <g transform=\"translate(344.134478 443.096875)scale(0.1 -0.1)\">\n       <use xlink:href=\"#DejaVuSans-49\"/>\n       <use x=\"63.623047\" xlink:href=\"#DejaVuSans-48\"/>\n       <use x=\"127.246094\" xlink:href=\"#DejaVuSans-48\"/>\n      </g>\n     </g>\n    </g>\n    <g id=\"xtick_7\">\n     <g id=\"line2d_7\">\n      <g>\n       <use style=\"stroke:#000000;stroke-width:0.8;\" x=\"409.017071\" xlink:href=\"#mb7a7ca8098\" y=\"428.498437\"/>\n      </g>\n     </g>\n     <g id=\"text_7\">\n      <!-- 120 -->\n      <g transform=\"translate(399.473321 443.096875)scale(0.1 -0.1)\">\n       <use xlink:href=\"#DejaVuSans-49\"/>\n       <use x=\"63.623047\" xlink:href=\"#DejaVuSans-50\"/>\n       <use x=\"127.246094\" xlink:href=\"#DejaVuSans-48\"/>\n      </g>\n     </g>\n    </g>\n    <g id=\"text_8\">\n     <!-- nb_words_question1 -->\n     <defs>\n      <path d=\"M 54.890625 33.015625 \nL 54.890625 0 \nL 45.90625 0 \nL 45.90625 32.71875 \nQ 45.90625 40.484375 42.875 44.328125 \nQ 39.84375 48.1875 33.796875 48.1875 \nQ 26.515625 48.1875 22.3125 43.546875 \nQ 18.109375 38.921875 18.109375 30.90625 \nL 18.109375 0 \nL 9.078125 0 \nL 9.078125 54.6875 \nL 18.109375 54.6875 \nL 18.109375 46.1875 \nQ 21.34375 51.125 25.703125 53.5625 \nQ 30.078125 56 35.796875 56 \nQ 45.21875 56 50.046875 50.171875 \nQ 54.890625 44.34375 54.890625 33.015625 \nz\n\" id=\"DejaVuSans-110\"/>\n      <path d=\"M 48.6875 27.296875 \nQ 48.6875 37.203125 44.609375 42.84375 \nQ 40.53125 48.484375 33.40625 48.484375 \nQ 26.265625 48.484375 22.1875 42.84375 \nQ 18.109375 37.203125 18.109375 27.296875 \nQ 18.109375 17.390625 22.1875 11.75 \nQ 26.265625 6.109375 33.40625 6.109375 \nQ 40.53125 6.109375 44.609375 11.75 \nQ 48.6875 17.390625 48.6875 27.296875 \nz\nM 18.109375 46.390625 \nQ 20.953125 51.265625 25.265625 53.625 \nQ 29.59375 56 35.59375 56 \nQ 45.5625 56 51.78125 48.09375 \nQ 58.015625 40.1875 58.015625 27.296875 \nQ 58.015625 14.40625 51.78125 6.484375 \nQ 45.5625 -1.421875 35.59375 -1.421875 \nQ 29.59375 -1.421875 25.265625 0.953125 \nQ 20.953125 3.328125 18.109375 8.203125 \nL 18.109375 0 \nL 9.078125 0 \nL 9.078125 75.984375 \nL 18.109375 75.984375 \nz\n\" id=\"DejaVuSans-98\"/>\n      <path d=\"M 50.984375 -16.609375 \nL 50.984375 -23.578125 \nL -0.984375 -23.578125 \nL -0.984375 -16.609375 \nz\n\" id=\"DejaVuSans-95\"/>\n      <path d=\"M 4.203125 54.6875 \nL 13.1875 54.6875 \nL 24.421875 12.015625 \nL 35.59375 54.6875 \nL 46.1875 54.6875 \nL 57.421875 12.015625 \nL 68.609375 54.6875 \nL 77.59375 54.6875 \nL 63.28125 0 \nL 52.6875 0 \nL 40.921875 44.828125 \nL 29.109375 0 \nL 18.5 0 \nz\n\" id=\"DejaVuSans-119\"/>\n      <path d=\"M 30.609375 48.390625 \nQ 23.390625 48.390625 19.1875 42.75 \nQ 14.984375 37.109375 14.984375 27.296875 \nQ 14.984375 17.484375 19.15625 11.84375 \nQ 23.34375 6.203125 30.609375 6.203125 \nQ 37.796875 6.203125 41.984375 11.859375 \nQ 46.1875 17.53125 46.1875 27.296875 \nQ 46.1875 37.015625 41.984375 42.703125 \nQ 37.796875 48.390625 30.609375 48.390625 \nz\nM 30.609375 56 \nQ 42.328125 56 49.015625 48.375 \nQ 55.71875 40.765625 55.71875 27.296875 \nQ 55.71875 13.875 49.015625 6.21875 \nQ 42.328125 -1.421875 30.609375 -1.421875 \nQ 18.84375 -1.421875 12.171875 6.21875 \nQ 5.515625 13.875 5.515625 27.296875 \nQ 5.515625 40.765625 12.171875 48.375 \nQ 18.84375 56 30.609375 56 \nz\n\" id=\"DejaVuSans-111\"/>\n      <path d=\"M 41.109375 46.296875 \nQ 39.59375 47.171875 37.8125 47.578125 \nQ 36.03125 48 33.890625 48 \nQ 26.265625 48 22.1875 43.046875 \nQ 18.109375 38.09375 18.109375 28.8125 \nL 18.109375 0 \nL 9.078125 0 \nL 9.078125 54.6875 \nL 18.109375 54.6875 \nL 18.109375 46.1875 \nQ 20.953125 51.171875 25.484375 53.578125 \nQ 30.03125 56 36.53125 56 \nQ 37.453125 56 38.578125 55.875 \nQ 39.703125 55.765625 41.0625 55.515625 \nz\n\" id=\"DejaVuSans-114\"/>\n      <path d=\"M 45.40625 46.390625 \nL 45.40625 75.984375 \nL 54.390625 75.984375 \nL 54.390625 0 \nL 45.40625 0 \nL 45.40625 8.203125 \nQ 42.578125 3.328125 38.25 0.953125 \nQ 33.9375 -1.421875 27.875 -1.421875 \nQ 17.96875 -1.421875 11.734375 6.484375 \nQ 5.515625 14.40625 5.515625 27.296875 \nQ 5.515625 40.1875 11.734375 48.09375 \nQ 17.96875 56 27.875 56 \nQ 33.9375 56 38.25 53.625 \nQ 42.578125 51.265625 45.40625 46.390625 \nz\nM 14.796875 27.296875 \nQ 14.796875 17.390625 18.875 11.75 \nQ 22.953125 6.109375 30.078125 6.109375 \nQ 37.203125 6.109375 41.296875 11.75 \nQ 45.40625 17.390625 45.40625 27.296875 \nQ 45.40625 37.203125 41.296875 42.84375 \nQ 37.203125 48.484375 30.078125 48.484375 \nQ 22.953125 48.484375 18.875 42.84375 \nQ 14.796875 37.203125 14.796875 27.296875 \nz\n\" id=\"DejaVuSans-100\"/>\n      <path d=\"M 44.28125 53.078125 \nL 44.28125 44.578125 \nQ 40.484375 46.53125 36.375 47.5 \nQ 32.28125 48.484375 27.875 48.484375 \nQ 21.1875 48.484375 17.84375 46.4375 \nQ 14.5 44.390625 14.5 40.28125 \nQ 14.5 37.15625 16.890625 35.375 \nQ 19.28125 33.59375 26.515625 31.984375 \nL 29.59375 31.296875 \nQ 39.15625 29.25 43.1875 25.515625 \nQ 47.21875 21.78125 47.21875 15.09375 \nQ 47.21875 7.46875 41.1875 3.015625 \nQ 35.15625 -1.421875 24.609375 -1.421875 \nQ 20.21875 -1.421875 15.453125 -0.5625 \nQ 10.6875 0.296875 5.421875 2 \nL 5.421875 11.28125 \nQ 10.40625 8.6875 15.234375 7.390625 \nQ 20.0625 6.109375 24.8125 6.109375 \nQ 31.15625 6.109375 34.5625 8.28125 \nQ 37.984375 10.453125 37.984375 14.40625 \nQ 37.984375 18.0625 35.515625 20.015625 \nQ 33.0625 21.96875 24.703125 23.78125 \nL 21.578125 24.515625 \nQ 13.234375 26.265625 9.515625 29.90625 \nQ 5.8125 33.546875 5.8125 39.890625 \nQ 5.8125 47.609375 11.28125 51.796875 \nQ 16.75 56 26.8125 56 \nQ 31.78125 56 36.171875 55.265625 \nQ 40.578125 54.546875 44.28125 53.078125 \nz\n\" id=\"DejaVuSans-115\"/>\n      <path d=\"M 14.796875 27.296875 \nQ 14.796875 17.390625 18.875 11.75 \nQ 22.953125 6.109375 30.078125 6.109375 \nQ 37.203125 6.109375 41.296875 11.75 \nQ 45.40625 17.390625 45.40625 27.296875 \nQ 45.40625 37.203125 41.296875 42.84375 \nQ 37.203125 48.484375 30.078125 48.484375 \nQ 22.953125 48.484375 18.875 42.84375 \nQ 14.796875 37.203125 14.796875 27.296875 \nz\nM 45.40625 8.203125 \nQ 42.578125 3.328125 38.25 0.953125 \nQ 33.9375 -1.421875 27.875 -1.421875 \nQ 17.96875 -1.421875 11.734375 6.484375 \nQ 5.515625 14.40625 5.515625 27.296875 \nQ 5.515625 40.1875 11.734375 48.09375 \nQ 17.96875 56 27.875 56 \nQ 33.9375 56 38.25 53.625 \nQ 42.578125 51.265625 45.40625 46.390625 \nL 45.40625 54.6875 \nL 54.390625 54.6875 \nL 54.390625 -20.796875 \nL 45.40625 -20.796875 \nz\n\" id=\"DejaVuSans-113\"/>\n      <path d=\"M 8.5 21.578125 \nL 8.5 54.6875 \nL 17.484375 54.6875 \nL 17.484375 21.921875 \nQ 17.484375 14.15625 20.5 10.265625 \nQ 23.53125 6.390625 29.59375 6.390625 \nQ 36.859375 6.390625 41.078125 11.03125 \nQ 45.3125 15.671875 45.3125 23.6875 \nL 45.3125 54.6875 \nL 54.296875 54.6875 \nL 54.296875 0 \nL 45.3125 0 \nL 45.3125 8.40625 \nQ 42.046875 3.421875 37.71875 1 \nQ 33.40625 -1.421875 27.6875 -1.421875 \nQ 18.265625 -1.421875 13.375 4.4375 \nQ 8.5 10.296875 8.5 21.578125 \nz\nM 31.109375 56 \nz\n\" id=\"DejaVuSans-117\"/>\n      <path d=\"M 56.203125 29.59375 \nL 56.203125 25.203125 \nL 14.890625 25.203125 \nQ 15.484375 15.921875 20.484375 11.0625 \nQ 25.484375 6.203125 34.421875 6.203125 \nQ 39.59375 6.203125 44.453125 7.46875 \nQ 49.3125 8.734375 54.109375 11.28125 \nL 54.109375 2.78125 \nQ 49.265625 0.734375 44.1875 -0.34375 \nQ 39.109375 -1.421875 33.890625 -1.421875 \nQ 20.796875 -1.421875 13.15625 6.1875 \nQ 5.515625 13.8125 5.515625 26.8125 \nQ 5.515625 40.234375 12.765625 48.109375 \nQ 20.015625 56 32.328125 56 \nQ 43.359375 56 49.78125 48.890625 \nQ 56.203125 41.796875 56.203125 29.59375 \nz\nM 47.21875 32.234375 \nQ 47.125 39.59375 43.09375 43.984375 \nQ 39.0625 48.390625 32.421875 48.390625 \nQ 24.90625 48.390625 20.390625 44.140625 \nQ 15.875 39.890625 15.1875 32.171875 \nz\n\" id=\"DejaVuSans-101\"/>\n      <path d=\"M 18.3125 70.21875 \nL 18.3125 54.6875 \nL 36.8125 54.6875 \nL 36.8125 47.703125 \nL 18.3125 47.703125 \nL 18.3125 18.015625 \nQ 18.3125 11.328125 20.140625 9.421875 \nQ 21.96875 7.515625 27.59375 7.515625 \nL 36.8125 7.515625 \nL 36.8125 0 \nL 27.59375 0 \nQ 17.1875 0 13.234375 3.875 \nQ 9.28125 7.765625 9.28125 18.015625 \nL 9.28125 47.703125 \nL 2.6875 47.703125 \nL 2.6875 54.6875 \nL 9.28125 54.6875 \nL 9.28125 70.21875 \nz\n\" id=\"DejaVuSans-116\"/>\n      <path d=\"M 9.421875 54.6875 \nL 18.40625 54.6875 \nL 18.40625 0 \nL 9.421875 0 \nz\nM 9.421875 75.984375 \nL 18.40625 75.984375 \nL 18.40625 64.59375 \nL 9.421875 64.59375 \nz\n\" id=\"DejaVuSans-105\"/>\n     </defs>\n     <g transform=\"translate(198.896804 456.775)scale(0.1 -0.1)\">\n      <use xlink:href=\"#DejaVuSans-110\"/>\n      <use x=\"63.378906\" xlink:href=\"#DejaVuSans-98\"/>\n      <use x=\"126.855469\" xlink:href=\"#DejaVuSans-95\"/>\n      <use x=\"176.855469\" xlink:href=\"#DejaVuSans-119\"/>\n      <use x=\"258.642578\" xlink:href=\"#DejaVuSans-111\"/>\n      <use x=\"319.824219\" xlink:href=\"#DejaVuSans-114\"/>\n      <use x=\"359.1875\" xlink:href=\"#DejaVuSans-100\"/>\n      <use x=\"422.664062\" xlink:href=\"#DejaVuSans-115\"/>\n      <use x=\"474.763672\" xlink:href=\"#DejaVuSans-95\"/>\n      <use x=\"524.763672\" xlink:href=\"#DejaVuSans-113\"/>\n      <use x=\"588.240234\" xlink:href=\"#DejaVuSans-117\"/>\n      <use x=\"651.619141\" xlink:href=\"#DejaVuSans-101\"/>\n      <use x=\"713.142578\" xlink:href=\"#DejaVuSans-115\"/>\n      <use x=\"765.242188\" xlink:href=\"#DejaVuSans-116\"/>\n      <use x=\"804.451172\" xlink:href=\"#DejaVuSans-105\"/>\n      <use x=\"832.234375\" xlink:href=\"#DejaVuSans-111\"/>\n      <use x=\"893.416016\" xlink:href=\"#DejaVuSans-110\"/>\n      <use x=\"956.794922\" xlink:href=\"#DejaVuSans-49\"/>\n     </g>\n    </g>\n   </g>\n   <g id=\"matplotlib.axis_2\">\n    <g id=\"ytick_1\">\n     <g id=\"line2d_8\">\n      <defs>\n       <path d=\"M 0 0 \nL -3.5 0 \n\" id=\"m9389d3e779\" style=\"stroke:#000000;stroke-width:0.8;\"/>\n      </defs>\n      <g>\n       <use style=\"stroke:#000000;stroke-width:0.8;\" x=\"59.690625\" xlink:href=\"#m9389d3e779\" y=\"428.498437\"/>\n      </g>\n     </g>\n     <g id=\"text_9\">\n      <!-- 0 -->\n      <g transform=\"translate(46.328125 432.297656)scale(0.1 -0.1)\">\n       <use xlink:href=\"#DejaVuSans-48\"/>\n      </g>\n     </g>\n    </g>\n    <g id=\"ytick_2\">\n     <g id=\"line2d_9\">\n      <g>\n       <use style=\"stroke:#000000;stroke-width:0.8;\" x=\"59.690625\" xlink:href=\"#m9389d3e779\" y=\"363.183252\"/>\n      </g>\n     </g>\n     <g id=\"text_10\">\n      <!-- 10000 -->\n      <g transform=\"translate(20.878125 366.982471)scale(0.1 -0.1)\">\n       <use xlink:href=\"#DejaVuSans-49\"/>\n       <use x=\"63.623047\" xlink:href=\"#DejaVuSans-48\"/>\n       <use x=\"127.246094\" xlink:href=\"#DejaVuSans-48\"/>\n       <use x=\"190.869141\" xlink:href=\"#DejaVuSans-48\"/>\n       <use x=\"254.492188\" xlink:href=\"#DejaVuSans-48\"/>\n      </g>\n     </g>\n    </g>\n    <g id=\"ytick_3\">\n     <g id=\"line2d_10\">\n      <g>\n       <use style=\"stroke:#000000;stroke-width:0.8;\" x=\"59.690625\" xlink:href=\"#m9389d3e779\" y=\"297.868067\"/>\n      </g>\n     </g>\n     <g id=\"text_11\">\n      <!-- 20000 -->\n      <g transform=\"translate(20.878125 301.667285)scale(0.1 -0.1)\">\n       <use xlink:href=\"#DejaVuSans-50\"/>\n       <use x=\"63.623047\" xlink:href=\"#DejaVuSans-48\"/>\n       <use x=\"127.246094\" xlink:href=\"#DejaVuSans-48\"/>\n       <use x=\"190.869141\" xlink:href=\"#DejaVuSans-48\"/>\n       <use x=\"254.492188\" xlink:href=\"#DejaVuSans-48\"/>\n      </g>\n     </g>\n    </g>\n    <g id=\"ytick_4\">\n     <g id=\"line2d_11\">\n      <g>\n       <use style=\"stroke:#000000;stroke-width:0.8;\" x=\"59.690625\" xlink:href=\"#m9389d3e779\" y=\"232.552881\"/>\n      </g>\n     </g>\n     <g id=\"text_12\">\n      <!-- 30000 -->\n      <defs>\n       <path d=\"M 40.578125 39.3125 \nQ 47.65625 37.796875 51.625 33 \nQ 55.609375 28.21875 55.609375 21.1875 \nQ 55.609375 10.40625 48.1875 4.484375 \nQ 40.765625 -1.421875 27.09375 -1.421875 \nQ 22.515625 -1.421875 17.65625 -0.515625 \nQ 12.796875 0.390625 7.625 2.203125 \nL 7.625 11.71875 \nQ 11.71875 9.328125 16.59375 8.109375 \nQ 21.484375 6.890625 26.8125 6.890625 \nQ 36.078125 6.890625 40.9375 10.546875 \nQ 45.796875 14.203125 45.796875 21.1875 \nQ 45.796875 27.640625 41.28125 31.265625 \nQ 36.765625 34.90625 28.71875 34.90625 \nL 20.21875 34.90625 \nL 20.21875 43.015625 \nL 29.109375 43.015625 \nQ 36.375 43.015625 40.234375 45.921875 \nQ 44.09375 48.828125 44.09375 54.296875 \nQ 44.09375 59.90625 40.109375 62.90625 \nQ 36.140625 65.921875 28.71875 65.921875 \nQ 24.65625 65.921875 20.015625 65.03125 \nQ 15.375 64.15625 9.8125 62.3125 \nL 9.8125 71.09375 \nQ 15.4375 72.65625 20.34375 73.4375 \nQ 25.25 74.21875 29.59375 74.21875 \nQ 40.828125 74.21875 47.359375 69.109375 \nQ 53.90625 64.015625 53.90625 55.328125 \nQ 53.90625 49.265625 50.4375 45.09375 \nQ 46.96875 40.921875 40.578125 39.3125 \nz\n\" id=\"DejaVuSans-51\"/>\n      </defs>\n      <g transform=\"translate(20.878125 236.3521)scale(0.1 -0.1)\">\n       <use xlink:href=\"#DejaVuSans-51\"/>\n       <use x=\"63.623047\" xlink:href=\"#DejaVuSans-48\"/>\n       <use x=\"127.246094\" xlink:href=\"#DejaVuSans-48\"/>\n       <use x=\"190.869141\" xlink:href=\"#DejaVuSans-48\"/>\n       <use x=\"254.492188\" xlink:href=\"#DejaVuSans-48\"/>\n      </g>\n     </g>\n    </g>\n    <g id=\"ytick_5\">\n     <g id=\"line2d_12\">\n      <g>\n       <use style=\"stroke:#000000;stroke-width:0.8;\" x=\"59.690625\" xlink:href=\"#m9389d3e779\" y=\"167.237696\"/>\n      </g>\n     </g>\n     <g id=\"text_13\">\n      <!-- 40000 -->\n      <g transform=\"translate(20.878125 171.036915)scale(0.1 -0.1)\">\n       <use xlink:href=\"#DejaVuSans-52\"/>\n       <use x=\"63.623047\" xlink:href=\"#DejaVuSans-48\"/>\n       <use x=\"127.246094\" xlink:href=\"#DejaVuSans-48\"/>\n       <use x=\"190.869141\" xlink:href=\"#DejaVuSans-48\"/>\n       <use x=\"254.492188\" xlink:href=\"#DejaVuSans-48\"/>\n      </g>\n     </g>\n    </g>\n    <g id=\"ytick_6\">\n     <g id=\"line2d_13\">\n      <g>\n       <use style=\"stroke:#000000;stroke-width:0.8;\" x=\"59.690625\" xlink:href=\"#m9389d3e779\" y=\"101.92251\"/>\n      </g>\n     </g>\n     <g id=\"text_14\">\n      <!-- 50000 -->\n      <defs>\n       <path d=\"M 10.796875 72.90625 \nL 49.515625 72.90625 \nL 49.515625 64.59375 \nL 19.828125 64.59375 \nL 19.828125 46.734375 \nQ 21.96875 47.46875 24.109375 47.828125 \nQ 26.265625 48.1875 28.421875 48.1875 \nQ 40.625 48.1875 47.75 41.5 \nQ 54.890625 34.8125 54.890625 23.390625 \nQ 54.890625 11.625 47.5625 5.09375 \nQ 40.234375 -1.421875 26.90625 -1.421875 \nQ 22.3125 -1.421875 17.546875 -0.640625 \nQ 12.796875 0.140625 7.71875 1.703125 \nL 7.71875 11.625 \nQ 12.109375 9.234375 16.796875 8.0625 \nQ 21.484375 6.890625 26.703125 6.890625 \nQ 35.15625 6.890625 40.078125 11.328125 \nQ 45.015625 15.765625 45.015625 23.390625 \nQ 45.015625 31 40.078125 35.4375 \nQ 35.15625 39.890625 26.703125 39.890625 \nQ 22.75 39.890625 18.8125 39.015625 \nQ 14.890625 38.140625 10.796875 36.28125 \nz\n\" id=\"DejaVuSans-53\"/>\n      </defs>\n      <g transform=\"translate(20.878125 105.721729)scale(0.1 -0.1)\">\n       <use xlink:href=\"#DejaVuSans-53\"/>\n       <use x=\"63.623047\" xlink:href=\"#DejaVuSans-48\"/>\n       <use x=\"127.246094\" xlink:href=\"#DejaVuSans-48\"/>\n       <use x=\"190.869141\" xlink:href=\"#DejaVuSans-48\"/>\n       <use x=\"254.492188\" xlink:href=\"#DejaVuSans-48\"/>\n      </g>\n     </g>\n    </g>\n    <g id=\"ytick_7\">\n     <g id=\"line2d_14\">\n      <g>\n       <use style=\"stroke:#000000;stroke-width:0.8;\" x=\"59.690625\" xlink:href=\"#m9389d3e779\" y=\"36.607325\"/>\n      </g>\n     </g>\n     <g id=\"text_15\">\n      <!-- 60000 -->\n      <g transform=\"translate(20.878125 40.406544)scale(0.1 -0.1)\">\n       <use xlink:href=\"#DejaVuSans-54\"/>\n       <use x=\"63.623047\" xlink:href=\"#DejaVuSans-48\"/>\n       <use x=\"127.246094\" xlink:href=\"#DejaVuSans-48\"/>\n       <use x=\"190.869141\" xlink:href=\"#DejaVuSans-48\"/>\n       <use x=\"254.492188\" xlink:href=\"#DejaVuSans-48\"/>\n      </g>\n     </g>\n    </g>\n    <g id=\"text_16\">\n     <!-- Nb -->\n     <defs>\n      <path d=\"M 9.8125 72.90625 \nL 23.09375 72.90625 \nL 55.421875 11.921875 \nL 55.421875 72.90625 \nL 64.984375 72.90625 \nL 64.984375 0 \nL 51.703125 0 \nL 19.390625 60.984375 \nL 19.390625 0 \nL 9.8125 0 \nz\n\" id=\"DejaVuSans-78\"/>\n     </defs>\n     <g transform=\"translate(14.798438 231.563281)rotate(-90)scale(0.1 -0.1)\">\n      <use xlink:href=\"#DejaVuSans-78\"/>\n      <use x=\"74.804688\" xlink:href=\"#DejaVuSans-98\"/>\n     </g>\n    </g>\n   </g>\n   <g id=\"patch_5\">\n    <path d=\"M 59.690625 428.498437 \nL 59.690625 20.798437 \n\" style=\"fill:none;stroke:#000000;stroke-linecap:square;stroke-linejoin:miter;stroke-width:0.8;\"/>\n   </g>\n   <g id=\"patch_6\">\n    <path d=\"M 440.14517 428.498437 \nL 440.14517 20.798437 \n\" style=\"fill:none;stroke:#000000;stroke-linecap:square;stroke-linejoin:miter;stroke-width:0.8;\"/>\n   </g>\n   <g id=\"patch_7\">\n    <path d=\"M 59.690625 428.498437 \nL 440.14517 428.498437 \n\" style=\"fill:none;stroke:#000000;stroke-linecap:square;stroke-linejoin:miter;stroke-width:0.8;\"/>\n   </g>\n   <g id=\"patch_8\">\n    <path d=\"M 59.690625 20.798437 \nL 440.14517 20.798437 \n\" style=\"fill:none;stroke:#000000;stroke-linecap:square;stroke-linejoin:miter;stroke-width:0.8;\"/>\n   </g>\n   <g id=\"text_17\">\n    <!-- AUC nb_words_question1 : 0.416034 -->\n    <defs>\n     <path d=\"M 34.1875 63.1875 \nL 20.796875 26.90625 \nL 47.609375 26.90625 \nz\nM 28.609375 72.90625 \nL 39.796875 72.90625 \nL 67.578125 0 \nL 57.328125 0 \nL 50.6875 18.703125 \nL 17.828125 18.703125 \nL 11.1875 0 \nL 0.78125 0 \nz\n\" id=\"DejaVuSans-65\"/>\n     <path d=\"M 8.6875 72.90625 \nL 18.609375 72.90625 \nL 18.609375 28.609375 \nQ 18.609375 16.890625 22.84375 11.734375 \nQ 27.09375 6.59375 36.625 6.59375 \nQ 46.09375 6.59375 50.34375 11.734375 \nQ 54.59375 16.890625 54.59375 28.609375 \nL 54.59375 72.90625 \nL 64.5 72.90625 \nL 64.5 27.390625 \nQ 64.5 13.140625 57.4375 5.859375 \nQ 50.390625 -1.421875 36.625 -1.421875 \nQ 22.796875 -1.421875 15.734375 5.859375 \nQ 8.6875 13.140625 8.6875 27.390625 \nz\n\" id=\"DejaVuSans-85\"/>\n     <path d=\"M 64.40625 67.28125 \nL 64.40625 56.890625 \nQ 59.421875 61.53125 53.78125 63.8125 \nQ 48.140625 66.109375 41.796875 66.109375 \nQ 29.296875 66.109375 22.65625 58.46875 \nQ 16.015625 50.828125 16.015625 36.375 \nQ 16.015625 21.96875 22.65625 14.328125 \nQ 29.296875 6.6875 41.796875 6.6875 \nQ 48.140625 6.6875 53.78125 8.984375 \nQ 59.421875 11.28125 64.40625 15.921875 \nL 64.40625 5.609375 \nQ 59.234375 2.09375 53.4375 0.328125 \nQ 47.65625 -1.421875 41.21875 -1.421875 \nQ 24.65625 -1.421875 15.125 8.703125 \nQ 5.609375 18.84375 5.609375 36.375 \nQ 5.609375 53.953125 15.125 64.078125 \nQ 24.65625 74.21875 41.21875 74.21875 \nQ 47.75 74.21875 53.53125 72.484375 \nQ 59.328125 70.75 64.40625 67.28125 \nz\n\" id=\"DejaVuSans-67\"/>\n     <path id=\"DejaVuSans-32\"/>\n     <path d=\"M 11.71875 12.40625 \nL 22.015625 12.40625 \nL 22.015625 0 \nL 11.71875 0 \nz\nM 11.71875 51.703125 \nL 22.015625 51.703125 \nL 22.015625 39.3125 \nL 11.71875 39.3125 \nz\n\" id=\"DejaVuSans-58\"/>\n     <path d=\"M 10.6875 12.40625 \nL 21 12.40625 \nL 21 0 \nL 10.6875 0 \nz\n\" id=\"DejaVuSans-46\"/>\n    </defs>\n    <g transform=\"translate(158.016335 14.798437)scale(0.1 -0.1)\">\n     <use xlink:href=\"#DejaVuSans-65\"/>\n     <use x=\"68.408203\" xlink:href=\"#DejaVuSans-85\"/>\n     <use x=\"141.601562\" xlink:href=\"#DejaVuSans-67\"/>\n     <use x=\"211.425781\" xlink:href=\"#DejaVuSans-32\"/>\n     <use x=\"243.212891\" xlink:href=\"#DejaVuSans-110\"/>\n     <use x=\"306.591797\" xlink:href=\"#DejaVuSans-98\"/>\n     <use x=\"370.068359\" xlink:href=\"#DejaVuSans-95\"/>\n     <use x=\"420.068359\" xlink:href=\"#DejaVuSans-119\"/>\n     <use x=\"501.855469\" xlink:href=\"#DejaVuSans-111\"/>\n     <use x=\"563.037109\" xlink:href=\"#DejaVuSans-114\"/>\n     <use x=\"602.400391\" xlink:href=\"#DejaVuSans-100\"/>\n     <use x=\"665.876953\" xlink:href=\"#DejaVuSans-115\"/>\n     <use x=\"717.976562\" xlink:href=\"#DejaVuSans-95\"/>\n     <use x=\"767.976562\" xlink:href=\"#DejaVuSans-113\"/>\n     <use x=\"831.453125\" xlink:href=\"#DejaVuSans-117\"/>\n     <use x=\"894.832031\" xlink:href=\"#DejaVuSans-101\"/>\n     <use x=\"956.355469\" xlink:href=\"#DejaVuSans-115\"/>\n     <use x=\"1008.455078\" xlink:href=\"#DejaVuSans-116\"/>\n     <use x=\"1047.664062\" xlink:href=\"#DejaVuSans-105\"/>\n     <use x=\"1075.447266\" xlink:href=\"#DejaVuSans-111\"/>\n     <use x=\"1136.628906\" xlink:href=\"#DejaVuSans-110\"/>\n     <use x=\"1200.007812\" xlink:href=\"#DejaVuSans-49\"/>\n     <use x=\"1263.630859\" xlink:href=\"#DejaVuSans-32\"/>\n     <use x=\"1295.417969\" xlink:href=\"#DejaVuSans-58\"/>\n     <use x=\"1329.109375\" xlink:href=\"#DejaVuSans-32\"/>\n     <use x=\"1360.896484\" xlink:href=\"#DejaVuSans-48\"/>\n     <use x=\"1424.519531\" xlink:href=\"#DejaVuSans-46\"/>\n     <use x=\"1456.306641\" xlink:href=\"#DejaVuSans-52\"/>\n     <use x=\"1519.929688\" xlink:href=\"#DejaVuSans-49\"/>\n     <use x=\"1583.552734\" xlink:href=\"#DejaVuSans-54\"/>\n     <use x=\"1647.175781\" xlink:href=\"#DejaVuSans-48\"/>\n     <use x=\"1710.798828\" xlink:href=\"#DejaVuSans-51\"/>\n     <use x=\"1774.421875\" xlink:href=\"#DejaVuSans-52\"/>\n    </g>\n   </g>\n   <g id=\"legend_1\">\n    <g id=\"patch_9\">\n     <path d=\"M 357.17642 58.154687 \nL 433.14517 58.154687 \nQ 435.14517 58.154687 435.14517 56.154687 \nL 435.14517 27.798437 \nQ 435.14517 25.798437 433.14517 25.798437 \nL 357.17642 25.798437 \nQ 355.17642 25.798437 355.17642 27.798437 \nL 355.17642 56.154687 \nQ 355.17642 58.154687 357.17642 58.154687 \nz\n\" style=\"fill:#ffffff;opacity:0.8;stroke:#cccccc;stroke-linejoin:miter;\"/>\n    </g>\n    <g id=\"patch_10\">\n     <path d=\"M 359.17642 37.396875 \nL 379.17642 37.396875 \nL 379.17642 30.396875 \nL 359.17642 30.396875 \nz\n\" style=\"fill:none;stroke:#d62728;stroke-linejoin:miter;\"/>\n    </g>\n    <g id=\"text_18\">\n     <!-- Same -->\n     <defs>\n      <path d=\"M 53.515625 70.515625 \nL 53.515625 60.890625 \nQ 47.90625 63.578125 42.921875 64.890625 \nQ 37.9375 66.21875 33.296875 66.21875 \nQ 25.25 66.21875 20.875 63.09375 \nQ 16.5 59.96875 16.5 54.203125 \nQ 16.5 49.359375 19.40625 46.890625 \nQ 22.3125 44.4375 30.421875 42.921875 \nL 36.375 41.703125 \nQ 47.40625 39.59375 52.65625 34.296875 \nQ 57.90625 29 57.90625 20.125 \nQ 57.90625 9.515625 50.796875 4.046875 \nQ 43.703125 -1.421875 29.984375 -1.421875 \nQ 24.8125 -1.421875 18.96875 -0.25 \nQ 13.140625 0.921875 6.890625 3.21875 \nL 6.890625 13.375 \nQ 12.890625 10.015625 18.65625 8.296875 \nQ 24.421875 6.59375 29.984375 6.59375 \nQ 38.421875 6.59375 43.015625 9.90625 \nQ 47.609375 13.234375 47.609375 19.390625 \nQ 47.609375 24.75 44.3125 27.78125 \nQ 41.015625 30.8125 33.5 32.328125 \nL 27.484375 33.5 \nQ 16.453125 35.6875 11.515625 40.375 \nQ 6.59375 45.0625 6.59375 53.421875 \nQ 6.59375 63.09375 13.40625 68.65625 \nQ 20.21875 74.21875 32.171875 74.21875 \nQ 37.3125 74.21875 42.625 73.28125 \nQ 47.953125 72.359375 53.515625 70.515625 \nz\n\" id=\"DejaVuSans-83\"/>\n      <path d=\"M 34.28125 27.484375 \nQ 23.390625 27.484375 19.1875 25 \nQ 14.984375 22.515625 14.984375 16.5 \nQ 14.984375 11.71875 18.140625 8.90625 \nQ 21.296875 6.109375 26.703125 6.109375 \nQ 34.1875 6.109375 38.703125 11.40625 \nQ 43.21875 16.703125 43.21875 25.484375 \nL 43.21875 27.484375 \nz\nM 52.203125 31.203125 \nL 52.203125 0 \nL 43.21875 0 \nL 43.21875 8.296875 \nQ 40.140625 3.328125 35.546875 0.953125 \nQ 30.953125 -1.421875 24.3125 -1.421875 \nQ 15.921875 -1.421875 10.953125 3.296875 \nQ 6 8.015625 6 15.921875 \nQ 6 25.140625 12.171875 29.828125 \nQ 18.359375 34.515625 30.609375 34.515625 \nL 43.21875 34.515625 \nL 43.21875 35.40625 \nQ 43.21875 41.609375 39.140625 45 \nQ 35.0625 48.390625 27.6875 48.390625 \nQ 23 48.390625 18.546875 47.265625 \nQ 14.109375 46.140625 10.015625 43.890625 \nL 10.015625 52.203125 \nQ 14.9375 54.109375 19.578125 55.046875 \nQ 24.21875 56 28.609375 56 \nQ 40.484375 56 46.34375 49.84375 \nQ 52.203125 43.703125 52.203125 31.203125 \nz\n\" id=\"DejaVuSans-97\"/>\n      <path d=\"M 52 44.1875 \nQ 55.375 50.25 60.0625 53.125 \nQ 64.75 56 71.09375 56 \nQ 79.640625 56 84.28125 50.015625 \nQ 88.921875 44.046875 88.921875 33.015625 \nL 88.921875 0 \nL 79.890625 0 \nL 79.890625 32.71875 \nQ 79.890625 40.578125 77.09375 44.375 \nQ 74.3125 48.1875 68.609375 48.1875 \nQ 61.625 48.1875 57.5625 43.546875 \nQ 53.515625 38.921875 53.515625 30.90625 \nL 53.515625 0 \nL 44.484375 0 \nL 44.484375 32.71875 \nQ 44.484375 40.625 41.703125 44.40625 \nQ 38.921875 48.1875 33.109375 48.1875 \nQ 26.21875 48.1875 22.15625 43.53125 \nQ 18.109375 38.875 18.109375 30.90625 \nL 18.109375 0 \nL 9.078125 0 \nL 9.078125 54.6875 \nL 18.109375 54.6875 \nL 18.109375 46.1875 \nQ 21.1875 51.21875 25.484375 53.609375 \nQ 29.78125 56 35.6875 56 \nQ 41.65625 56 45.828125 52.96875 \nQ 50 49.953125 52 44.1875 \nz\n\" id=\"DejaVuSans-109\"/>\n     </defs>\n     <g transform=\"translate(387.17642 37.396875)scale(0.1 -0.1)\">\n      <use xlink:href=\"#DejaVuSans-83\"/>\n      <use x=\"63.476562\" xlink:href=\"#DejaVuSans-97\"/>\n      <use x=\"124.755859\" xlink:href=\"#DejaVuSans-109\"/>\n      <use x=\"222.167969\" xlink:href=\"#DejaVuSans-101\"/>\n     </g>\n    </g>\n    <g id=\"patch_11\">\n     <path d=\"M 359.17642 52.075 \nL 379.17642 52.075 \nL 379.17642 45.075 \nL 359.17642 45.075 \nz\n\" style=\"fill:none;opacity:0.75;stroke:#2ca02c;stroke-linejoin:miter;\"/>\n    </g>\n    <g id=\"text_19\">\n     <!-- Different -->\n     <defs>\n      <path d=\"M 19.671875 64.796875 \nL 19.671875 8.109375 \nL 31.59375 8.109375 \nQ 46.6875 8.109375 53.6875 14.9375 \nQ 60.6875 21.78125 60.6875 36.53125 \nQ 60.6875 51.171875 53.6875 57.984375 \nQ 46.6875 64.796875 31.59375 64.796875 \nz\nM 9.8125 72.90625 \nL 30.078125 72.90625 \nQ 51.265625 72.90625 61.171875 64.09375 \nQ 71.09375 55.28125 71.09375 36.53125 \nQ 71.09375 17.671875 61.125 8.828125 \nQ 51.171875 0 30.078125 0 \nL 9.8125 0 \nz\n\" id=\"DejaVuSans-68\"/>\n      <path d=\"M 37.109375 75.984375 \nL 37.109375 68.5 \nL 28.515625 68.5 \nQ 23.6875 68.5 21.796875 66.546875 \nQ 19.921875 64.59375 19.921875 59.515625 \nL 19.921875 54.6875 \nL 34.71875 54.6875 \nL 34.71875 47.703125 \nL 19.921875 47.703125 \nL 19.921875 0 \nL 10.890625 0 \nL 10.890625 47.703125 \nL 2.296875 47.703125 \nL 2.296875 54.6875 \nL 10.890625 54.6875 \nL 10.890625 58.5 \nQ 10.890625 67.625 15.140625 71.796875 \nQ 19.390625 75.984375 28.609375 75.984375 \nz\n\" id=\"DejaVuSans-102\"/>\n     </defs>\n     <g transform=\"translate(387.17642 52.075)scale(0.1 -0.1)\">\n      <use xlink:href=\"#DejaVuSans-68\"/>\n      <use x=\"77.001953\" xlink:href=\"#DejaVuSans-105\"/>\n      <use x=\"104.785156\" xlink:href=\"#DejaVuSans-102\"/>\n      <use x=\"139.990234\" xlink:href=\"#DejaVuSans-102\"/>\n      <use x=\"175.195312\" xlink:href=\"#DejaVuSans-101\"/>\n      <use x=\"236.71875\" xlink:href=\"#DejaVuSans-114\"/>\n      <use x=\"275.582031\" xlink:href=\"#DejaVuSans-101\"/>\n      <use x=\"337.105469\" xlink:href=\"#DejaVuSans-110\"/>\n      <use x=\"400.484375\" xlink:href=\"#DejaVuSans-116\"/>\n     </g>\n    </g>\n   </g>\n  </g>\n  <g id=\"axes_2\">\n   <g id=\"patch_12\">\n    <path d=\"M 516.23608 428.498437 \nL 896.690625 428.498437 \nL 896.690625 20.798437 \nL 516.23608 20.798437 \nz\n\" style=\"fill:#ffffff;\"/>\n   </g>\n   <g id=\"patch_13\">\n    <path clip-path=\"url(#p45a7f2088d)\" d=\"M 534.988826 428.498437 \nL 534.988826 428.439621 \nL 536.710868 428.439621 \nL 536.710868 425.825954 \nL 538.43291 425.825954 \nL 538.43291 416.852733 \nL 540.154952 416.852733 \nL 540.154952 400.384061 \nL 541.876994 400.384061 \nL 541.876994 376.930907 \nL 543.599036 376.930907 \nL 543.599036 280.151724 \nL 545.321078 280.151724 \nL 545.321078 356.731051 \nL 547.04312 356.731051 \nL 547.04312 371.089675 \nL 548.765162 371.089675 \nL 548.765162 387.477474 \nL 550.487204 387.477474 \nL 550.487204 398.44311 \nL 552.209246 398.44311 \nL 552.209246 406.47894 \nL 553.931288 406.47894 \nL 553.931288 394.722955 \nL 555.65333 394.722955 \nL 555.65333 417.334295 \nL 557.375372 417.334295 \nL 557.375372 420.668466 \nL 559.097414 420.668466 \nL 559.097414 422.359446 \nL 560.819456 422.359446 \nL 560.819456 423.179203 \nL 562.541499 423.179203 \nL 562.541499 420.344974 \nL 564.263541 420.344974 \nL 564.263541 425.726701 \nL 565.985583 425.726701 \nL 565.985583 426.63836 \nL 567.707625 426.63836 \nL 567.707625 426.86995 \nL 569.429667 426.86995 \nL 569.429667 427.083161 \nL 571.151709 427.083161 \nL 571.151709 427.340484 \nL 572.873751 427.340484 \nL 572.873751 427.289019 \nL 574.595793 427.289019 \nL 574.595793 428.152889 \nL 576.317835 428.152889 \nL 576.317835 428.219058 \nL 578.039877 428.219058 \nL 578.039877 428.149213 \nL 579.761919 428.149213 \nL 579.761919 428.351396 \nL 581.483961 428.351396 \nL 581.483961 428.318311 \nL 583.206003 428.318311 \nL 583.206003 428.388156 \nL 584.928045 428.388156 \nL 584.928045 428.472705 \nL 586.650087 428.472705 \nL 586.650087 428.461677 \nL 588.372129 428.461677 \nL 588.372129 428.483733 \nL 590.094171 428.483733 \nL 590.094171 428.472705 \nL 591.816213 428.472705 \nL 591.816213 428.487409 \nL 593.538256 428.487409 \nL 593.538256 428.498437 \nL 595.260298 428.498437 \nL 595.260298 428.480057 \nL 596.98234 428.480057 \nL 596.98234 428.480057 \nL 598.704382 428.480057 \nL 598.704382 428.494761 \nL 600.426424 428.494761 \nL 600.426424 428.494761 \nL 602.148466 428.494761 \nL 602.148466 428.494761 \nL 603.870508 428.494761 \nL 603.870508 428.494761 \nL 605.59255 428.494761 \nL 605.59255 428.498437 \nL 607.314592 428.498437 \nL 607.314592 428.498437 \nL 609.036634 428.498437 \nL 609.036634 428.498437 \nL 610.758676 428.498437 \nL 610.758676 428.494761 \nL 612.480718 428.494761 \nL 612.480718 428.491085 \nL 614.20276 428.491085 \nL 614.20276 428.498437 \nL 615.924802 428.498437 \nL 615.924802 428.498437 \nL 617.646844 428.498437 \nL 617.646844 428.494761 \nL 619.368886 428.494761 \nL 619.368886 428.494761 \nL 621.090928 428.494761 \nL 621.090928 428.498437 \n\" style=\"fill:none;stroke:#d62728;stroke-linejoin:miter;\"/>\n   </g>\n   <g id=\"patch_14\">\n    <path clip-path=\"url(#p45a7f2088d)\" d=\"M 533.529468 428.498437 \nL 533.529468 392.226922 \nL 540.446823 392.226922 \nL 540.446823 40.212723 \nL 547.364179 40.212723 \nL 547.364179 143.851403 \nL 554.281534 143.851403 \nL 554.281534 328.99163 \nL 561.198889 328.99163 \nL 561.198889 368.090023 \nL 568.116245 368.090023 \nL 568.116245 385.900452 \nL 575.0336 385.900452 \nL 575.0336 415.643315 \nL 581.950956 415.643315 \nL 581.950956 423.726934 \nL 588.868311 423.726934 \nL 588.868311 425.138534 \nL 595.785666 425.138534 \nL 595.785666 427.097865 \nL 602.703022 427.097865 \nL 602.703022 427.34416 \nL 609.620377 427.34416 \nL 609.620377 427.667652 \nL 616.537732 427.667652 \nL 616.537732 427.667652 \nL 623.455088 427.667652 \nL 623.455088 428.211706 \nL 630.372443 428.211706 \nL 630.372443 428.421241 \nL 637.289799 428.421241 \nL 637.289799 428.465353 \nL 644.207154 428.465353 \nL 644.207154 428.469029 \nL 651.124509 428.469029 \nL 651.124509 428.487409 \nL 658.041865 428.487409 \nL 658.041865 428.494761 \nL 664.95922 428.494761 \nL 664.95922 428.483733 \nL 671.876575 428.483733 \nL 671.876575 428.491085 \nL 678.793931 428.491085 \nL 678.793931 428.494761 \nL 685.711286 428.494761 \nL 685.711286 428.487409 \nL 692.628642 428.487409 \nL 692.628642 428.487409 \nL 699.545997 428.487409 \nL 699.545997 428.494761 \nL 706.463352 428.494761 \nL 706.463352 428.498437 \nL 713.380708 428.498437 \nL 713.380708 428.487409 \nL 720.298063 428.487409 \nL 720.298063 428.498437 \nL 727.215418 428.498437 \nL 727.215418 428.494761 \nL 734.132774 428.494761 \nL 734.132774 428.498437 \nL 741.050129 428.498437 \nL 741.050129 428.498437 \nL 747.967485 428.498437 \nL 747.967485 428.494761 \nL 754.88484 428.494761 \nL 754.88484 428.498437 \nL 761.802195 428.498437 \nL 761.802195 428.498437 \nL 768.719551 428.498437 \nL 768.719551 428.498437 \nL 775.636906 428.498437 \nL 775.636906 428.498437 \nL 782.554261 428.498437 \nL 782.554261 428.498437 \nL 789.471617 428.498437 \nL 789.471617 428.498437 \nL 796.388972 428.498437 \nL 796.388972 428.498437 \nL 803.306327 428.498437 \nL 803.306327 428.498437 \nL 810.223683 428.498437 \nL 810.223683 428.498437 \nL 817.141038 428.498437 \nL 817.141038 428.498437 \nL 824.058394 428.498437 \nL 824.058394 428.498437 \nL 830.975749 428.498437 \nL 830.975749 428.498437 \nL 837.893104 428.498437 \nL 837.893104 428.498437 \nL 844.81046 428.498437 \nL 844.81046 428.498437 \nL 851.727815 428.498437 \nL 851.727815 428.498437 \nL 858.64517 428.498437 \nL 858.64517 428.498437 \nL 865.562526 428.498437 \nL 865.562526 428.487409 \nL 872.479881 428.487409 \nL 872.479881 428.450649 \nL 879.397237 428.450649 \nL 879.397237 428.498437 \n\" style=\"fill:none;opacity:0.75;stroke:#2ca02c;stroke-linejoin:miter;\"/>\n   </g>\n   <g id=\"matplotlib.axis_3\">\n    <g id=\"xtick_8\">\n     <g id=\"line2d_15\">\n      <g>\n       <use style=\"stroke:#000000;stroke-width:0.8;\" x=\"533.529468\" xlink:href=\"#mb7a7ca8098\" y=\"428.498437\"/>\n      </g>\n     </g>\n     <g id=\"text_20\">\n      <!-- 0 -->\n      <g transform=\"translate(530.348218 443.096875)scale(0.1 -0.1)\">\n       <use xlink:href=\"#DejaVuSans-48\"/>\n      </g>\n     </g>\n    </g>\n    <g id=\"xtick_9\">\n     <g id=\"line2d_16\">\n      <g>\n       <use style=\"stroke:#000000;stroke-width:0.8;\" x=\"606.497352\" xlink:href=\"#mb7a7ca8098\" y=\"428.498437\"/>\n      </g>\n     </g>\n     <g id=\"text_21\">\n      <!-- 50 -->\n      <g transform=\"translate(600.134852 443.096875)scale(0.1 -0.1)\">\n       <use xlink:href=\"#DejaVuSans-53\"/>\n       <use x=\"63.623047\" xlink:href=\"#DejaVuSans-48\"/>\n      </g>\n     </g>\n    </g>\n    <g id=\"xtick_10\">\n     <g id=\"line2d_17\">\n      <g>\n       <use style=\"stroke:#000000;stroke-width:0.8;\" x=\"679.465235\" xlink:href=\"#mb7a7ca8098\" y=\"428.498437\"/>\n      </g>\n     </g>\n     <g id=\"text_22\">\n      <!-- 100 -->\n      <g transform=\"translate(669.921485 443.096875)scale(0.1 -0.1)\">\n       <use xlink:href=\"#DejaVuSans-49\"/>\n       <use x=\"63.623047\" xlink:href=\"#DejaVuSans-48\"/>\n       <use x=\"127.246094\" xlink:href=\"#DejaVuSans-48\"/>\n      </g>\n     </g>\n    </g>\n    <g id=\"xtick_11\">\n     <g id=\"line2d_18\">\n      <g>\n       <use style=\"stroke:#000000;stroke-width:0.8;\" x=\"752.433119\" xlink:href=\"#mb7a7ca8098\" y=\"428.498437\"/>\n      </g>\n     </g>\n     <g id=\"text_23\">\n      <!-- 150 -->\n      <g transform=\"translate(742.889369 443.096875)scale(0.1 -0.1)\">\n       <use xlink:href=\"#DejaVuSans-49\"/>\n       <use x=\"63.623047\" xlink:href=\"#DejaVuSans-53\"/>\n       <use x=\"127.246094\" xlink:href=\"#DejaVuSans-48\"/>\n      </g>\n     </g>\n    </g>\n    <g id=\"xtick_12\">\n     <g id=\"line2d_19\">\n      <g>\n       <use style=\"stroke:#000000;stroke-width:0.8;\" x=\"825.401003\" xlink:href=\"#mb7a7ca8098\" y=\"428.498437\"/>\n      </g>\n     </g>\n     <g id=\"text_24\">\n      <!-- 200 -->\n      <g transform=\"translate(815.857253 443.096875)scale(0.1 -0.1)\">\n       <use xlink:href=\"#DejaVuSans-50\"/>\n       <use x=\"63.623047\" xlink:href=\"#DejaVuSans-48\"/>\n       <use x=\"127.246094\" xlink:href=\"#DejaVuSans-48\"/>\n      </g>\n     </g>\n    </g>\n    <g id=\"text_25\">\n     <!-- nb_words_question2 -->\n     <g transform=\"translate(655.442259 456.775)scale(0.1 -0.1)\">\n      <use xlink:href=\"#DejaVuSans-110\"/>\n      <use x=\"63.378906\" xlink:href=\"#DejaVuSans-98\"/>\n      <use x=\"126.855469\" xlink:href=\"#DejaVuSans-95\"/>\n      <use x=\"176.855469\" xlink:href=\"#DejaVuSans-119\"/>\n      <use x=\"258.642578\" xlink:href=\"#DejaVuSans-111\"/>\n      <use x=\"319.824219\" xlink:href=\"#DejaVuSans-114\"/>\n      <use x=\"359.1875\" xlink:href=\"#DejaVuSans-100\"/>\n      <use x=\"422.664062\" xlink:href=\"#DejaVuSans-115\"/>\n      <use x=\"474.763672\" xlink:href=\"#DejaVuSans-95\"/>\n      <use x=\"524.763672\" xlink:href=\"#DejaVuSans-113\"/>\n      <use x=\"588.240234\" xlink:href=\"#DejaVuSans-117\"/>\n      <use x=\"651.619141\" xlink:href=\"#DejaVuSans-101\"/>\n      <use x=\"713.142578\" xlink:href=\"#DejaVuSans-115\"/>\n      <use x=\"765.242188\" xlink:href=\"#DejaVuSans-116\"/>\n      <use x=\"804.451172\" xlink:href=\"#DejaVuSans-105\"/>\n      <use x=\"832.234375\" xlink:href=\"#DejaVuSans-111\"/>\n      <use x=\"893.416016\" xlink:href=\"#DejaVuSans-110\"/>\n      <use x=\"956.794922\" xlink:href=\"#DejaVuSans-50\"/>\n     </g>\n    </g>\n   </g>\n   <g id=\"matplotlib.axis_4\">\n    <g id=\"ytick_8\">\n     <g id=\"line2d_20\">\n      <g>\n       <use style=\"stroke:#000000;stroke-width:0.8;\" x=\"516.23608\" xlink:href=\"#m9389d3e779\" y=\"428.498437\"/>\n      </g>\n     </g>\n     <g id=\"text_26\">\n      <!-- 0 -->\n      <g transform=\"translate(502.87358 432.297656)scale(0.1 -0.1)\">\n       <use xlink:href=\"#DejaVuSans-48\"/>\n      </g>\n     </g>\n    </g>\n    <g id=\"ytick_9\">\n     <g id=\"line2d_21\">\n      <g>\n       <use style=\"stroke:#000000;stroke-width:0.8;\" x=\"516.23608\" xlink:href=\"#m9389d3e779\" y=\"354.977578\"/>\n      </g>\n     </g>\n     <g id=\"text_27\">\n      <!-- 20000 -->\n      <g transform=\"translate(477.42358 358.776797)scale(0.1 -0.1)\">\n       <use xlink:href=\"#DejaVuSans-50\"/>\n       <use x=\"63.623047\" xlink:href=\"#DejaVuSans-48\"/>\n       <use x=\"127.246094\" xlink:href=\"#DejaVuSans-48\"/>\n       <use x=\"190.869141\" xlink:href=\"#DejaVuSans-48\"/>\n       <use x=\"254.492188\" xlink:href=\"#DejaVuSans-48\"/>\n      </g>\n     </g>\n    </g>\n    <g id=\"ytick_10\">\n     <g id=\"line2d_22\">\n      <g>\n       <use style=\"stroke:#000000;stroke-width:0.8;\" x=\"516.23608\" xlink:href=\"#m9389d3e779\" y=\"281.456719\"/>\n      </g>\n     </g>\n     <g id=\"text_28\">\n      <!-- 40000 -->\n      <g transform=\"translate(477.42358 285.255938)scale(0.1 -0.1)\">\n       <use xlink:href=\"#DejaVuSans-52\"/>\n       <use x=\"63.623047\" xlink:href=\"#DejaVuSans-48\"/>\n       <use x=\"127.246094\" xlink:href=\"#DejaVuSans-48\"/>\n       <use x=\"190.869141\" xlink:href=\"#DejaVuSans-48\"/>\n       <use x=\"254.492188\" xlink:href=\"#DejaVuSans-48\"/>\n      </g>\n     </g>\n    </g>\n    <g id=\"ytick_11\">\n     <g id=\"line2d_23\">\n      <g>\n       <use style=\"stroke:#000000;stroke-width:0.8;\" x=\"516.23608\" xlink:href=\"#m9389d3e779\" y=\"207.93586\"/>\n      </g>\n     </g>\n     <g id=\"text_29\">\n      <!-- 60000 -->\n      <g transform=\"translate(477.42358 211.735078)scale(0.1 -0.1)\">\n       <use xlink:href=\"#DejaVuSans-54\"/>\n       <use x=\"63.623047\" xlink:href=\"#DejaVuSans-48\"/>\n       <use x=\"127.246094\" xlink:href=\"#DejaVuSans-48\"/>\n       <use x=\"190.869141\" xlink:href=\"#DejaVuSans-48\"/>\n       <use x=\"254.492188\" xlink:href=\"#DejaVuSans-48\"/>\n      </g>\n     </g>\n    </g>\n    <g id=\"ytick_12\">\n     <g id=\"line2d_24\">\n      <g>\n       <use style=\"stroke:#000000;stroke-width:0.8;\" x=\"516.23608\" xlink:href=\"#m9389d3e779\" y=\"134.415\"/>\n      </g>\n     </g>\n     <g id=\"text_30\">\n      <!-- 80000 -->\n      <g transform=\"translate(477.42358 138.214219)scale(0.1 -0.1)\">\n       <use xlink:href=\"#DejaVuSans-56\"/>\n       <use x=\"63.623047\" xlink:href=\"#DejaVuSans-48\"/>\n       <use x=\"127.246094\" xlink:href=\"#DejaVuSans-48\"/>\n       <use x=\"190.869141\" xlink:href=\"#DejaVuSans-48\"/>\n       <use x=\"254.492188\" xlink:href=\"#DejaVuSans-48\"/>\n      </g>\n     </g>\n    </g>\n    <g id=\"ytick_13\">\n     <g id=\"line2d_25\">\n      <g>\n       <use style=\"stroke:#000000;stroke-width:0.8;\" x=\"516.23608\" xlink:href=\"#m9389d3e779\" y=\"60.894141\"/>\n      </g>\n     </g>\n     <g id=\"text_31\">\n      <!-- 100000 -->\n      <g transform=\"translate(471.06108 64.69336)scale(0.1 -0.1)\">\n       <use xlink:href=\"#DejaVuSans-49\"/>\n       <use x=\"63.623047\" xlink:href=\"#DejaVuSans-48\"/>\n       <use x=\"127.246094\" xlink:href=\"#DejaVuSans-48\"/>\n       <use x=\"190.869141\" xlink:href=\"#DejaVuSans-48\"/>\n       <use x=\"254.492188\" xlink:href=\"#DejaVuSans-48\"/>\n       <use x=\"318.115234\" xlink:href=\"#DejaVuSans-48\"/>\n      </g>\n     </g>\n    </g>\n    <g id=\"text_32\">\n     <!-- Nb -->\n     <g transform=\"translate(464.981392 231.563281)rotate(-90)scale(0.1 -0.1)\">\n      <use xlink:href=\"#DejaVuSans-78\"/>\n      <use x=\"74.804688\" xlink:href=\"#DejaVuSans-98\"/>\n     </g>\n    </g>\n   </g>\n   <g id=\"patch_15\">\n    <path d=\"M 516.23608 428.498437 \nL 516.23608 20.798437 \n\" style=\"fill:none;stroke:#000000;stroke-linecap:square;stroke-linejoin:miter;stroke-width:0.8;\"/>\n   </g>\n   <g id=\"patch_16\">\n    <path d=\"M 896.690625 428.498437 \nL 896.690625 20.798437 \n\" style=\"fill:none;stroke:#000000;stroke-linecap:square;stroke-linejoin:miter;stroke-width:0.8;\"/>\n   </g>\n   <g id=\"patch_17\">\n    <path d=\"M 516.23608 428.498437 \nL 896.690625 428.498437 \n\" style=\"fill:none;stroke:#000000;stroke-linecap:square;stroke-linejoin:miter;stroke-width:0.8;\"/>\n   </g>\n   <g id=\"patch_18\">\n    <path d=\"M 516.23608 20.798437 \nL 896.690625 20.798437 \n\" style=\"fill:none;stroke:#000000;stroke-linecap:square;stroke-linejoin:miter;stroke-width:0.8;\"/>\n   </g>\n   <g id=\"text_33\">\n    <!-- AUC nb_words_question2 : 0.420794 -->\n    <defs>\n     <path d=\"M 8.203125 72.90625 \nL 55.078125 72.90625 \nL 55.078125 68.703125 \nL 28.609375 0 \nL 18.3125 0 \nL 43.21875 64.59375 \nL 8.203125 64.59375 \nz\n\" id=\"DejaVuSans-55\"/>\n     <path d=\"M 10.984375 1.515625 \nL 10.984375 10.5 \nQ 14.703125 8.734375 18.5 7.8125 \nQ 22.3125 6.890625 25.984375 6.890625 \nQ 35.75 6.890625 40.890625 13.453125 \nQ 46.046875 20.015625 46.78125 33.40625 \nQ 43.953125 29.203125 39.59375 26.953125 \nQ 35.25 24.703125 29.984375 24.703125 \nQ 19.046875 24.703125 12.671875 31.3125 \nQ 6.296875 37.9375 6.296875 49.421875 \nQ 6.296875 60.640625 12.9375 67.421875 \nQ 19.578125 74.21875 30.609375 74.21875 \nQ 43.265625 74.21875 49.921875 64.515625 \nQ 56.59375 54.828125 56.59375 36.375 \nQ 56.59375 19.140625 48.40625 8.859375 \nQ 40.234375 -1.421875 26.421875 -1.421875 \nQ 22.703125 -1.421875 18.890625 -0.6875 \nQ 15.09375 0.046875 10.984375 1.515625 \nz\nM 30.609375 32.421875 \nQ 37.25 32.421875 41.125 36.953125 \nQ 45.015625 41.5 45.015625 49.421875 \nQ 45.015625 57.28125 41.125 61.84375 \nQ 37.25 66.40625 30.609375 66.40625 \nQ 23.96875 66.40625 20.09375 61.84375 \nQ 16.21875 57.28125 16.21875 49.421875 \nQ 16.21875 41.5 20.09375 36.953125 \nQ 23.96875 32.421875 30.609375 32.421875 \nz\n\" id=\"DejaVuSans-57\"/>\n    </defs>\n    <g transform=\"translate(614.56179 14.798437)scale(0.1 -0.1)\">\n     <use xlink:href=\"#DejaVuSans-65\"/>\n     <use x=\"68.408203\" xlink:href=\"#DejaVuSans-85\"/>\n     <use x=\"141.601562\" xlink:href=\"#DejaVuSans-67\"/>\n     <use x=\"211.425781\" xlink:href=\"#DejaVuSans-32\"/>\n     <use x=\"243.212891\" xlink:href=\"#DejaVuSans-110\"/>\n     <use x=\"306.591797\" xlink:href=\"#DejaVuSans-98\"/>\n     <use x=\"370.068359\" xlink:href=\"#DejaVuSans-95\"/>\n     <use x=\"420.068359\" xlink:href=\"#DejaVuSans-119\"/>\n     <use x=\"501.855469\" xlink:href=\"#DejaVuSans-111\"/>\n     <use x=\"563.037109\" xlink:href=\"#DejaVuSans-114\"/>\n     <use x=\"602.400391\" xlink:href=\"#DejaVuSans-100\"/>\n     <use x=\"665.876953\" xlink:href=\"#DejaVuSans-115\"/>\n     <use x=\"717.976562\" xlink:href=\"#DejaVuSans-95\"/>\n     <use x=\"767.976562\" xlink:href=\"#DejaVuSans-113\"/>\n     <use x=\"831.453125\" xlink:href=\"#DejaVuSans-117\"/>\n     <use x=\"894.832031\" xlink:href=\"#DejaVuSans-101\"/>\n     <use x=\"956.355469\" xlink:href=\"#DejaVuSans-115\"/>\n     <use x=\"1008.455078\" xlink:href=\"#DejaVuSans-116\"/>\n     <use x=\"1047.664062\" xlink:href=\"#DejaVuSans-105\"/>\n     <use x=\"1075.447266\" xlink:href=\"#DejaVuSans-111\"/>\n     <use x=\"1136.628906\" xlink:href=\"#DejaVuSans-110\"/>\n     <use x=\"1200.007812\" xlink:href=\"#DejaVuSans-50\"/>\n     <use x=\"1263.630859\" xlink:href=\"#DejaVuSans-32\"/>\n     <use x=\"1295.417969\" xlink:href=\"#DejaVuSans-58\"/>\n     <use x=\"1329.109375\" xlink:href=\"#DejaVuSans-32\"/>\n     <use x=\"1360.896484\" xlink:href=\"#DejaVuSans-48\"/>\n     <use x=\"1424.519531\" xlink:href=\"#DejaVuSans-46\"/>\n     <use x=\"1456.306641\" xlink:href=\"#DejaVuSans-52\"/>\n     <use x=\"1519.929688\" xlink:href=\"#DejaVuSans-50\"/>\n     <use x=\"1583.552734\" xlink:href=\"#DejaVuSans-48\"/>\n     <use x=\"1647.175781\" xlink:href=\"#DejaVuSans-55\"/>\n     <use x=\"1710.798828\" xlink:href=\"#DejaVuSans-57\"/>\n     <use x=\"1774.421875\" xlink:href=\"#DejaVuSans-52\"/>\n    </g>\n   </g>\n   <g id=\"legend_2\">\n    <g id=\"patch_19\">\n     <path d=\"M 813.721875 58.154687 \nL 889.690625 58.154687 \nQ 891.690625 58.154687 891.690625 56.154687 \nL 891.690625 27.798437 \nQ 891.690625 25.798437 889.690625 25.798437 \nL 813.721875 25.798437 \nQ 811.721875 25.798437 811.721875 27.798437 \nL 811.721875 56.154687 \nQ 811.721875 58.154687 813.721875 58.154687 \nz\n\" style=\"fill:#ffffff;opacity:0.8;stroke:#cccccc;stroke-linejoin:miter;\"/>\n    </g>\n    <g id=\"patch_20\">\n     <path d=\"M 815.721875 37.396875 \nL 835.721875 37.396875 \nL 835.721875 30.396875 \nL 815.721875 30.396875 \nz\n\" style=\"fill:none;stroke:#d62728;stroke-linejoin:miter;\"/>\n    </g>\n    <g id=\"text_34\">\n     <!-- Same -->\n     <g transform=\"translate(843.721875 37.396875)scale(0.1 -0.1)\">\n      <use xlink:href=\"#DejaVuSans-83\"/>\n      <use x=\"63.476562\" xlink:href=\"#DejaVuSans-97\"/>\n      <use x=\"124.755859\" xlink:href=\"#DejaVuSans-109\"/>\n      <use x=\"222.167969\" xlink:href=\"#DejaVuSans-101\"/>\n     </g>\n    </g>\n    <g id=\"patch_21\">\n     <path d=\"M 815.721875 52.075 \nL 835.721875 52.075 \nL 835.721875 45.075 \nL 815.721875 45.075 \nz\n\" style=\"fill:none;opacity:0.75;stroke:#2ca02c;stroke-linejoin:miter;\"/>\n    </g>\n    <g id=\"text_35\">\n     <!-- Different -->\n     <g transform=\"translate(843.721875 52.075)scale(0.1 -0.1)\">\n      <use xlink:href=\"#DejaVuSans-68\"/>\n      <use x=\"77.001953\" xlink:href=\"#DejaVuSans-105\"/>\n      <use x=\"104.785156\" xlink:href=\"#DejaVuSans-102\"/>\n      <use x=\"139.990234\" xlink:href=\"#DejaVuSans-102\"/>\n      <use x=\"175.195312\" xlink:href=\"#DejaVuSans-101\"/>\n      <use x=\"236.71875\" xlink:href=\"#DejaVuSans-114\"/>\n      <use x=\"275.582031\" xlink:href=\"#DejaVuSans-101\"/>\n      <use x=\"337.105469\" xlink:href=\"#DejaVuSans-110\"/>\n      <use x=\"400.484375\" xlink:href=\"#DejaVuSans-116\"/>\n     </g>\n    </g>\n   </g>\n  </g>\n </g>\n <defs>\n  <clipPath id=\"p718e3ea5ec\">\n   <rect height=\"407.7\" width=\"380.454545\" x=\"59.690625\" y=\"20.798437\"/>\n  </clipPath>\n  <clipPath id=\"p45a7f2088d\">\n   <rect height=\"407.7\" width=\"380.454545\" x=\"516.23608\" y=\"20.798437\"/>\n  </clipPath>\n </defs>\n</svg>\n",
      "image/png": "[encoded data removed]"
     },
     "metadata": {
      "needs_background": "light"
     }
    },
    {
     "output_type": "display_data",
     "data": {
      "text/plain": "<Figure size 1080x540 with 2 Axes>",
      "image/svg+xml": "<?xml version=\"1.0\" encoding=\"utf-8\" standalone=\"no\"?>\n<!DOCTYPE svg PUBLIC \"-//W3C//DTD SVG 1.1//EN\"\n  \"http://www.w3.org/Graphics/SVG/1.1/DTD/svg11.dtd\">\n<!-- Created with matplotlib (https://matplotlib.org/) -->\n<svg height=\"466.332812pt\" version=\"1.1\" viewBox=\"0 0 903.890625 466.332812\" width=\"903.890625pt\" xmlns=\"http://www.w3.org/2000/svg\" xmlns:xlink=\"http://www.w3.org/1999/xlink\">\n <defs>\n  <style type=\"text/css\">\n*{stroke-linecap:butt;stroke-linejoin:round;}\n  </style>\n </defs>\n <g id=\"figure_1\">\n  <g id=\"patch_1\">\n   <path d=\"M 0 466.332812 \nL 903.890625 466.332812 \nL 903.890625 0 \nL 0 0 \nz\n\" style=\"fill:none;\"/>\n  </g>\n  <g id=\"axes_1\">\n   <g id=\"patch_2\">\n    <path d=\"M 59.690625 428.498437 \nL 440.14517 428.498437 \nL 440.14517 20.798437 \nL 59.690625 20.798437 \nz\n\" style=\"fill:#ffffff;\"/>\n   </g>\n   <g id=\"patch_3\">\n    <path clip-path=\"url(#p9759f6c7f8)\" d=\"M 76.984013 428.498437 \nL 76.984013 423.396408 \nL 83.901369 423.396408 \nL 83.901369 398.321092 \nL 90.818724 398.321092 \nL 90.818724 306.697143 \nL 97.73608 306.697143 \nL 97.73608 214.029597 \nL 104.653435 214.029597 \nL 104.653435 161.704804 \nL 111.57079 161.704804 \nL 111.57079 170.072906 \nL 118.488146 170.072906 \nL 118.488146 428.498437 \nL 125.405501 428.498437 \nL 125.405501 226.398153 \nL 132.322856 226.398153 \nL 132.322856 291.874201 \nL 139.240212 291.874201 \nL 139.240212 347.532706 \nL 146.157567 347.532706 \nL 146.157567 383.875004 \nL 153.074923 383.875004 \nL 153.074923 404.66964 \nL 159.992278 404.66964 \nL 159.992278 428.498437 \nL 166.909633 428.498437 \nL 166.909633 414.661115 \nL 173.826989 414.661115 \nL 173.826989 415.772352 \nL 180.744344 415.772352 \nL 180.744344 423.483374 \nL 187.661699 423.483374 \nL 187.661699 423.386745 \nL 194.579055 423.386745 \nL 194.579055 421.454158 \nL 201.49641 421.454158 \nL 201.49641 428.498437 \nL 208.413765 428.498437 \nL 208.413765 424.497982 \nL 215.331121 424.497982 \nL 215.331121 426.507873 \nL 222.248476 426.507873 \nL 222.248476 426.256637 \nL 229.165832 426.256637 \nL 229.165832 426.604502 \nL 236.083187 426.604502 \nL 236.083187 427.503155 \nL 243.000542 427.503155 \nL 243.000542 428.498437 \nL 249.917898 428.498437 \nL 249.917898 428.005628 \nL 256.835253 428.005628 \nL 256.835253 427.802706 \nL 263.752608 427.802706 \nL 263.752608 427.957313 \nL 270.669964 427.957313 \nL 270.669964 428.237538 \nL 277.587319 428.237538 \nL 277.587319 428.305179 \nL 284.504675 428.305179 \nL 284.504675 428.353493 \nL 291.42203 428.353493 \nL 291.42203 428.498437 \nL 298.339385 428.498437 \nL 298.339385 428.392145 \nL 305.256741 428.392145 \nL 305.256741 428.459786 \nL 312.174096 428.459786 \nL 312.174096 428.488775 \nL 319.091451 428.488775 \nL 319.091451 428.498437 \nL 326.008807 428.498437 \nL 326.008807 428.479112 \nL 332.926162 428.479112 \nL 332.926162 428.498437 \nL 339.843518 428.498437 \nL 339.843518 428.498437 \nL 346.760873 428.498437 \nL 346.760873 428.488775 \nL 353.678228 428.488775 \nL 353.678228 428.498437 \nL 360.595584 428.498437 \nL 360.595584 428.498437 \nL 367.512939 428.498437 \nL 367.512939 428.488775 \nL 374.430294 428.488775 \nL 374.430294 428.498437 \nL 381.34765 428.498437 \nL 381.34765 428.498437 \nL 388.265005 428.498437 \nL 388.265005 428.498437 \nL 395.182361 428.498437 \nL 395.182361 428.479112 \nL 402.099716 428.479112 \nL 402.099716 428.498437 \nL 409.017071 428.498437 \nL 409.017071 428.498437 \nL 415.934427 428.498437 \nL 415.934427 428.488775 \nL 422.851782 428.488775 \nL 422.851782 428.498437 \n\" style=\"fill:none;stroke:#d62728;stroke-linejoin:miter;\"/>\n   </g>\n   <g id=\"patch_4\">\n    <path clip-path=\"url(#p9759f6c7f8)\" d=\"M 76.984013 428.498437 \nL 76.984013 164.980539 \nL 82.913175 164.980539 \nL 82.913175 79.676149 \nL 88.842337 79.676149 \nL 88.842337 40.212723 \nL 94.771499 40.212723 \nL 94.771499 428.498437 \nL 100.70066 428.498437 \nL 100.70066 65.945119 \nL 106.629822 65.945119 \nL 106.629822 114.733277 \nL 112.558984 114.733277 \nL 112.558984 179.745504 \nL 118.488146 179.745504 \nL 118.488146 428.498437 \nL 124.417307 428.498437 \nL 124.417307 248.275038 \nL 130.346469 248.275038 \nL 130.346469 313.296927 \nL 136.275631 313.296927 \nL 136.275631 428.498437 \nL 142.204793 428.498437 \nL 142.204793 356.770472 \nL 148.133954 356.770472 \nL 148.133954 388.261976 \nL 154.063116 388.261976 \nL 154.063116 403.084919 \nL 159.992278 403.084919 \nL 159.992278 428.498437 \nL 165.92144 428.498437 \nL 165.92144 409.646051 \nL 171.850601 409.646051 \nL 171.850601 411.501335 \nL 177.779763 411.501335 \nL 177.779763 428.498437 \nL 183.708925 428.498437 \nL 183.708925 410.795941 \nL 189.638087 410.795941 \nL 189.638087 414.062013 \nL 195.567248 414.062013 \nL 195.567248 416.487409 \nL 201.49641 416.487409 \nL 201.49641 428.498437 \nL 207.425572 428.498437 \nL 207.425572 418.932132 \nL 213.354734 418.932132 \nL 213.354734 424.285398 \nL 219.283895 424.285398 \nL 219.283895 428.498437 \nL 225.213057 428.498437 \nL 225.213057 424.565623 \nL 231.142219 424.565623 \nL 231.142219 422.94225 \nL 237.071381 422.94225 \nL 237.071381 427.61911 \nL 243.000542 427.61911 \nL 243.000542 428.498437 \nL 248.929704 428.498437 \nL 248.929704 427.94765 \nL 254.858866 427.94765 \nL 254.858866 427.976639 \nL 260.788028 427.976639 \nL 260.788028 428.237538 \nL 266.717189 428.237538 \nL 266.717189 428.498437 \nL 272.646351 428.498437 \nL 272.646351 428.382482 \nL 278.575513 428.382482 \nL 278.575513 428.469449 \nL 284.504675 428.469449 \nL 284.504675 428.498437 \nL 290.433836 428.498437 \nL 290.433836 428.459786 \nL 296.362998 428.459786 \nL 296.362998 428.459786 \nL 302.29216 428.459786 \nL 302.29216 428.479112 \nL 308.221322 428.479112 \nL 308.221322 428.498437 \nL 314.150483 428.498437 \nL 314.150483 428.469449 \nL 320.079645 428.469449 \nL 320.079645 428.459786 \nL 326.008807 428.459786 \nL 326.008807 428.498437 \nL 331.937969 428.498437 \nL 331.937969 428.498437 \nL 337.86713 428.498437 \nL 337.86713 428.498437 \nL 343.796292 428.498437 \nL 343.796292 428.498437 \nL 349.725454 428.498437 \nL 349.725454 428.498437 \nL 355.654616 428.498437 \nL 355.654616 428.488775 \nL 361.583777 428.488775 \nL 361.583777 428.498437 \nL 367.512939 428.498437 \nL 367.512939 428.488775 \nL 373.442101 428.488775 \nL 373.442101 428.498437 \n\" style=\"fill:none;opacity:0.75;stroke:#2ca02c;stroke-linejoin:miter;\"/>\n   </g>\n   <g id=\"matplotlib.axis_1\">\n    <g id=\"xtick_1\">\n     <g id=\"line2d_1\">\n      <defs>\n       <path d=\"M 0 0 \nL 0 3.5 \n\" id=\"mecfda65fee\" style=\"stroke:#000000;stroke-width:0.8;\"/>\n      </defs>\n      <g>\n       <use style=\"stroke:#000000;stroke-width:0.8;\" x=\"76.984013\" xlink:href=\"#mecfda65fee\" y=\"428.498437\"/>\n      </g>\n     </g>\n     <g id=\"text_1\">\n      <!-- 0 -->\n      <defs>\n       <path d=\"M 31.78125 66.40625 \nQ 24.171875 66.40625 20.328125 58.90625 \nQ 16.5 51.421875 16.5 36.375 \nQ 16.5 21.390625 20.328125 13.890625 \nQ 24.171875 6.390625 31.78125 6.390625 \nQ 39.453125 6.390625 43.28125 13.890625 \nQ 47.125 21.390625 47.125 36.375 \nQ 47.125 51.421875 43.28125 58.90625 \nQ 39.453125 66.40625 31.78125 66.40625 \nz\nM 31.78125 74.21875 \nQ 44.046875 74.21875 50.515625 64.515625 \nQ 56.984375 54.828125 56.984375 36.375 \nQ 56.984375 17.96875 50.515625 8.265625 \nQ 44.046875 -1.421875 31.78125 -1.421875 \nQ 19.53125 -1.421875 13.0625 8.265625 \nQ 6.59375 17.96875 6.59375 36.375 \nQ 6.59375 54.828125 13.0625 64.515625 \nQ 19.53125 74.21875 31.78125 74.21875 \nz\n\" id=\"DejaVuSans-48\"/>\n      </defs>\n      <g transform=\"translate(73.802763 443.096875)scale(0.1 -0.1)\">\n       <use xlink:href=\"#DejaVuSans-48\"/>\n      </g>\n     </g>\n    </g>\n    <g id=\"xtick_2\">\n     <g id=\"line2d_2\">\n      <g>\n       <use style=\"stroke:#000000;stroke-width:0.8;\" x=\"159.333482\" xlink:href=\"#mecfda65fee\" y=\"428.498437\"/>\n      </g>\n     </g>\n     <g id=\"text_2\">\n      <!-- 10 -->\n      <defs>\n       <path d=\"M 12.40625 8.296875 \nL 28.515625 8.296875 \nL 28.515625 63.921875 \nL 10.984375 60.40625 \nL 10.984375 69.390625 \nL 28.421875 72.90625 \nL 38.28125 72.90625 \nL 38.28125 8.296875 \nL 54.390625 8.296875 \nL 54.390625 0 \nL 12.40625 0 \nz\n\" id=\"DejaVuSans-49\"/>\n      </defs>\n      <g transform=\"translate(152.970982 443.096875)scale(0.1 -0.1)\">\n       <use xlink:href=\"#DejaVuSans-49\"/>\n       <use x=\"63.623047\" xlink:href=\"#DejaVuSans-48\"/>\n      </g>\n     </g>\n    </g>\n    <g id=\"xtick_3\">\n     <g id=\"line2d_3\">\n      <g>\n       <use style=\"stroke:#000000;stroke-width:0.8;\" x=\"241.682951\" xlink:href=\"#mecfda65fee\" y=\"428.498437\"/>\n      </g>\n     </g>\n     <g id=\"text_3\">\n      <!-- 20 -->\n      <defs>\n       <path d=\"M 19.1875 8.296875 \nL 53.609375 8.296875 \nL 53.609375 0 \nL 7.328125 0 \nL 7.328125 8.296875 \nQ 12.9375 14.109375 22.625 23.890625 \nQ 32.328125 33.6875 34.8125 36.53125 \nQ 39.546875 41.84375 41.421875 45.53125 \nQ 43.3125 49.21875 43.3125 52.78125 \nQ 43.3125 58.59375 39.234375 62.25 \nQ 35.15625 65.921875 28.609375 65.921875 \nQ 23.96875 65.921875 18.8125 64.3125 \nQ 13.671875 62.703125 7.8125 59.421875 \nL 7.8125 69.390625 \nQ 13.765625 71.78125 18.9375 73 \nQ 24.125 74.21875 28.421875 74.21875 \nQ 39.75 74.21875 46.484375 68.546875 \nQ 53.21875 62.890625 53.21875 53.421875 \nQ 53.21875 48.921875 51.53125 44.890625 \nQ 49.859375 40.875 45.40625 35.40625 \nQ 44.1875 33.984375 37.640625 27.21875 \nQ 31.109375 20.453125 19.1875 8.296875 \nz\n\" id=\"DejaVuSans-50\"/>\n      </defs>\n      <g transform=\"translate(235.320451 443.096875)scale(0.1 -0.1)\">\n       <use xlink:href=\"#DejaVuSans-50\"/>\n       <use x=\"63.623047\" xlink:href=\"#DejaVuSans-48\"/>\n      </g>\n     </g>\n    </g>\n    <g id=\"xtick_4\">\n     <g id=\"line2d_4\">\n      <g>\n       <use style=\"stroke:#000000;stroke-width:0.8;\" x=\"324.03242\" xlink:href=\"#mecfda65fee\" y=\"428.498437\"/>\n      </g>\n     </g>\n     <g id=\"text_4\">\n      <!-- 30 -->\n      <defs>\n       <path d=\"M 40.578125 39.3125 \nQ 47.65625 37.796875 51.625 33 \nQ 55.609375 28.21875 55.609375 21.1875 \nQ 55.609375 10.40625 48.1875 4.484375 \nQ 40.765625 -1.421875 27.09375 -1.421875 \nQ 22.515625 -1.421875 17.65625 -0.515625 \nQ 12.796875 0.390625 7.625 2.203125 \nL 7.625 11.71875 \nQ 11.71875 9.328125 16.59375 8.109375 \nQ 21.484375 6.890625 26.8125 6.890625 \nQ 36.078125 6.890625 40.9375 10.546875 \nQ 45.796875 14.203125 45.796875 21.1875 \nQ 45.796875 27.640625 41.28125 31.265625 \nQ 36.765625 34.90625 28.71875 34.90625 \nL 20.21875 34.90625 \nL 20.21875 43.015625 \nL 29.109375 43.015625 \nQ 36.375 43.015625 40.234375 45.921875 \nQ 44.09375 48.828125 44.09375 54.296875 \nQ 44.09375 59.90625 40.109375 62.90625 \nQ 36.140625 65.921875 28.71875 65.921875 \nQ 24.65625 65.921875 20.015625 65.03125 \nQ 15.375 64.15625 9.8125 62.3125 \nL 9.8125 71.09375 \nQ 15.4375 72.65625 20.34375 73.4375 \nQ 25.25 74.21875 29.59375 74.21875 \nQ 40.828125 74.21875 47.359375 69.109375 \nQ 53.90625 64.015625 53.90625 55.328125 \nQ 53.90625 49.265625 50.4375 45.09375 \nQ 46.96875 40.921875 40.578125 39.3125 \nz\n\" id=\"DejaVuSans-51\"/>\n      </defs>\n      <g transform=\"translate(317.66992 443.096875)scale(0.1 -0.1)\">\n       <use xlink:href=\"#DejaVuSans-51\"/>\n       <use x=\"63.623047\" xlink:href=\"#DejaVuSans-48\"/>\n      </g>\n     </g>\n    </g>\n    <g id=\"xtick_5\">\n     <g id=\"line2d_5\">\n      <g>\n       <use style=\"stroke:#000000;stroke-width:0.8;\" x=\"406.381888\" xlink:href=\"#mecfda65fee\" y=\"428.498437\"/>\n      </g>\n     </g>\n     <g id=\"text_5\">\n      <!-- 40 -->\n      <defs>\n       <path d=\"M 37.796875 64.3125 \nL 12.890625 25.390625 \nL 37.796875 25.390625 \nz\nM 35.203125 72.90625 \nL 47.609375 72.90625 \nL 47.609375 25.390625 \nL 58.015625 25.390625 \nL 58.015625 17.1875 \nL 47.609375 17.1875 \nL 47.609375 0 \nL 37.796875 0 \nL 37.796875 17.1875 \nL 4.890625 17.1875 \nL 4.890625 26.703125 \nz\n\" id=\"DejaVuSans-52\"/>\n      </defs>\n      <g transform=\"translate(400.019388 443.096875)scale(0.1 -0.1)\">\n       <use xlink:href=\"#DejaVuSans-52\"/>\n       <use x=\"63.623047\" xlink:href=\"#DejaVuSans-48\"/>\n      </g>\n     </g>\n    </g>\n    <g id=\"text_6\">\n     <!-- nb_common_words -->\n     <defs>\n      <path d=\"M 54.890625 33.015625 \nL 54.890625 0 \nL 45.90625 0 \nL 45.90625 32.71875 \nQ 45.90625 40.484375 42.875 44.328125 \nQ 39.84375 48.1875 33.796875 48.1875 \nQ 26.515625 48.1875 22.3125 43.546875 \nQ 18.109375 38.921875 18.109375 30.90625 \nL 18.109375 0 \nL 9.078125 0 \nL 9.078125 54.6875 \nL 18.109375 54.6875 \nL 18.109375 46.1875 \nQ 21.34375 51.125 25.703125 53.5625 \nQ 30.078125 56 35.796875 56 \nQ 45.21875 56 50.046875 50.171875 \nQ 54.890625 44.34375 54.890625 33.015625 \nz\n\" id=\"DejaVuSans-110\"/>\n      <path d=\"M 48.6875 27.296875 \nQ 48.6875 37.203125 44.609375 42.84375 \nQ 40.53125 48.484375 33.40625 48.484375 \nQ 26.265625 48.484375 22.1875 42.84375 \nQ 18.109375 37.203125 18.109375 27.296875 \nQ 18.109375 17.390625 22.1875 11.75 \nQ 26.265625 6.109375 33.40625 6.109375 \nQ 40.53125 6.109375 44.609375 11.75 \nQ 48.6875 17.390625 48.6875 27.296875 \nz\nM 18.109375 46.390625 \nQ 20.953125 51.265625 25.265625 53.625 \nQ 29.59375 56 35.59375 56 \nQ 45.5625 56 51.78125 48.09375 \nQ 58.015625 40.1875 58.015625 27.296875 \nQ 58.015625 14.40625 51.78125 6.484375 \nQ 45.5625 -1.421875 35.59375 -1.421875 \nQ 29.59375 -1.421875 25.265625 0.953125 \nQ 20.953125 3.328125 18.109375 8.203125 \nL 18.109375 0 \nL 9.078125 0 \nL 9.078125 75.984375 \nL 18.109375 75.984375 \nz\n\" id=\"DejaVuSans-98\"/>\n      <path d=\"M 50.984375 -16.609375 \nL 50.984375 -23.578125 \nL -0.984375 -23.578125 \nL -0.984375 -16.609375 \nz\n\" id=\"DejaVuSans-95\"/>\n      <path d=\"M 48.78125 52.59375 \nL 48.78125 44.1875 \nQ 44.96875 46.296875 41.140625 47.34375 \nQ 37.3125 48.390625 33.40625 48.390625 \nQ 24.65625 48.390625 19.8125 42.84375 \nQ 14.984375 37.3125 14.984375 27.296875 \nQ 14.984375 17.28125 19.8125 11.734375 \nQ 24.65625 6.203125 33.40625 6.203125 \nQ 37.3125 6.203125 41.140625 7.25 \nQ 44.96875 8.296875 48.78125 10.40625 \nL 48.78125 2.09375 \nQ 45.015625 0.34375 40.984375 -0.53125 \nQ 36.96875 -1.421875 32.421875 -1.421875 \nQ 20.0625 -1.421875 12.78125 6.34375 \nQ 5.515625 14.109375 5.515625 27.296875 \nQ 5.515625 40.671875 12.859375 48.328125 \nQ 20.21875 56 33.015625 56 \nQ 37.15625 56 41.109375 55.140625 \nQ 45.0625 54.296875 48.78125 52.59375 \nz\n\" id=\"DejaVuSans-99\"/>\n      <path d=\"M 30.609375 48.390625 \nQ 23.390625 48.390625 19.1875 42.75 \nQ 14.984375 37.109375 14.984375 27.296875 \nQ 14.984375 17.484375 19.15625 11.84375 \nQ 23.34375 6.203125 30.609375 6.203125 \nQ 37.796875 6.203125 41.984375 11.859375 \nQ 46.1875 17.53125 46.1875 27.296875 \nQ 46.1875 37.015625 41.984375 42.703125 \nQ 37.796875 48.390625 30.609375 48.390625 \nz\nM 30.609375 56 \nQ 42.328125 56 49.015625 48.375 \nQ 55.71875 40.765625 55.71875 27.296875 \nQ 55.71875 13.875 49.015625 6.21875 \nQ 42.328125 -1.421875 30.609375 -1.421875 \nQ 18.84375 -1.421875 12.171875 6.21875 \nQ 5.515625 13.875 5.515625 27.296875 \nQ 5.515625 40.765625 12.171875 48.375 \nQ 18.84375 56 30.609375 56 \nz\n\" id=\"DejaVuSans-111\"/>\n      <path d=\"M 52 44.1875 \nQ 55.375 50.25 60.0625 53.125 \nQ 64.75 56 71.09375 56 \nQ 79.640625 56 84.28125 50.015625 \nQ 88.921875 44.046875 88.921875 33.015625 \nL 88.921875 0 \nL 79.890625 0 \nL 79.890625 32.71875 \nQ 79.890625 40.578125 77.09375 44.375 \nQ 74.3125 48.1875 68.609375 48.1875 \nQ 61.625 48.1875 57.5625 43.546875 \nQ 53.515625 38.921875 53.515625 30.90625 \nL 53.515625 0 \nL 44.484375 0 \nL 44.484375 32.71875 \nQ 44.484375 40.625 41.703125 44.40625 \nQ 38.921875 48.1875 33.109375 48.1875 \nQ 26.21875 48.1875 22.15625 43.53125 \nQ 18.109375 38.875 18.109375 30.90625 \nL 18.109375 0 \nL 9.078125 0 \nL 9.078125 54.6875 \nL 18.109375 54.6875 \nL 18.109375 46.1875 \nQ 21.1875 51.21875 25.484375 53.609375 \nQ 29.78125 56 35.6875 56 \nQ 41.65625 56 45.828125 52.96875 \nQ 50 49.953125 52 44.1875 \nz\n\" id=\"DejaVuSans-109\"/>\n      <path d=\"M 4.203125 54.6875 \nL 13.1875 54.6875 \nL 24.421875 12.015625 \nL 35.59375 54.6875 \nL 46.1875 54.6875 \nL 57.421875 12.015625 \nL 68.609375 54.6875 \nL 77.59375 54.6875 \nL 63.28125 0 \nL 52.6875 0 \nL 40.921875 44.828125 \nL 29.109375 0 \nL 18.5 0 \nz\n\" id=\"DejaVuSans-119\"/>\n      <path d=\"M 41.109375 46.296875 \nQ 39.59375 47.171875 37.8125 47.578125 \nQ 36.03125 48 33.890625 48 \nQ 26.265625 48 22.1875 43.046875 \nQ 18.109375 38.09375 18.109375 28.8125 \nL 18.109375 0 \nL 9.078125 0 \nL 9.078125 54.6875 \nL 18.109375 54.6875 \nL 18.109375 46.1875 \nQ 20.953125 51.171875 25.484375 53.578125 \nQ 30.03125 56 36.53125 56 \nQ 37.453125 56 38.578125 55.875 \nQ 39.703125 55.765625 41.0625 55.515625 \nz\n\" id=\"DejaVuSans-114\"/>\n      <path d=\"M 45.40625 46.390625 \nL 45.40625 75.984375 \nL 54.390625 75.984375 \nL 54.390625 0 \nL 45.40625 0 \nL 45.40625 8.203125 \nQ 42.578125 3.328125 38.25 0.953125 \nQ 33.9375 -1.421875 27.875 -1.421875 \nQ 17.96875 -1.421875 11.734375 6.484375 \nQ 5.515625 14.40625 5.515625 27.296875 \nQ 5.515625 40.1875 11.734375 48.09375 \nQ 17.96875 56 27.875 56 \nQ 33.9375 56 38.25 53.625 \nQ 42.578125 51.265625 45.40625 46.390625 \nz\nM 14.796875 27.296875 \nQ 14.796875 17.390625 18.875 11.75 \nQ 22.953125 6.109375 30.078125 6.109375 \nQ 37.203125 6.109375 41.296875 11.75 \nQ 45.40625 17.390625 45.40625 27.296875 \nQ 45.40625 37.203125 41.296875 42.84375 \nQ 37.203125 48.484375 30.078125 48.484375 \nQ 22.953125 48.484375 18.875 42.84375 \nQ 14.796875 37.203125 14.796875 27.296875 \nz\n\" id=\"DejaVuSans-100\"/>\n      <path d=\"M 44.28125 53.078125 \nL 44.28125 44.578125 \nQ 40.484375 46.53125 36.375 47.5 \nQ 32.28125 48.484375 27.875 48.484375 \nQ 21.1875 48.484375 17.84375 46.4375 \nQ 14.5 44.390625 14.5 40.28125 \nQ 14.5 37.15625 16.890625 35.375 \nQ 19.28125 33.59375 26.515625 31.984375 \nL 29.59375 31.296875 \nQ 39.15625 29.25 43.1875 25.515625 \nQ 47.21875 21.78125 47.21875 15.09375 \nQ 47.21875 7.46875 41.1875 3.015625 \nQ 35.15625 -1.421875 24.609375 -1.421875 \nQ 20.21875 -1.421875 15.453125 -0.5625 \nQ 10.6875 0.296875 5.421875 2 \nL 5.421875 11.28125 \nQ 10.40625 8.6875 15.234375 7.390625 \nQ 20.0625 6.109375 24.8125 6.109375 \nQ 31.15625 6.109375 34.5625 8.28125 \nQ 37.984375 10.453125 37.984375 14.40625 \nQ 37.984375 18.0625 35.515625 20.015625 \nQ 33.0625 21.96875 24.703125 23.78125 \nL 21.578125 24.515625 \nQ 13.234375 26.265625 9.515625 29.90625 \nQ 5.8125 33.546875 5.8125 39.890625 \nQ 5.8125 47.609375 11.28125 51.796875 \nQ 16.75 56 26.8125 56 \nQ 31.78125 56 36.171875 55.265625 \nQ 40.578125 54.546875 44.28125 53.078125 \nz\n\" id=\"DejaVuSans-115\"/>\n     </defs>\n     <g transform=\"translate(201.902273 456.775)scale(0.1 -0.1)\">\n      <use xlink:href=\"#DejaVuSans-110\"/>\n      <use x=\"63.378906\" xlink:href=\"#DejaVuSans-98\"/>\n      <use x=\"126.855469\" xlink:href=\"#DejaVuSans-95\"/>\n      <use x=\"176.855469\" xlink:href=\"#DejaVuSans-99\"/>\n      <use x=\"231.835938\" xlink:href=\"#DejaVuSans-111\"/>\n      <use x=\"293.017578\" xlink:href=\"#DejaVuSans-109\"/>\n      <use x=\"390.429688\" xlink:href=\"#DejaVuSans-109\"/>\n      <use x=\"487.841797\" xlink:href=\"#DejaVuSans-111\"/>\n      <use x=\"549.023438\" xlink:href=\"#DejaVuSans-110\"/>\n      <use x=\"612.402344\" xlink:href=\"#DejaVuSans-95\"/>\n      <use x=\"662.402344\" xlink:href=\"#DejaVuSans-119\"/>\n      <use x=\"744.189453\" xlink:href=\"#DejaVuSans-111\"/>\n      <use x=\"805.371094\" xlink:href=\"#DejaVuSans-114\"/>\n      <use x=\"844.734375\" xlink:href=\"#DejaVuSans-100\"/>\n      <use x=\"908.210938\" xlink:href=\"#DejaVuSans-115\"/>\n     </g>\n    </g>\n   </g>\n   <g id=\"matplotlib.axis_2\">\n    <g id=\"ytick_1\">\n     <g id=\"line2d_6\">\n      <defs>\n       <path d=\"M 0 0 \nL -3.5 0 \n\" id=\"m04521602ee\" style=\"stroke:#000000;stroke-width:0.8;\"/>\n      </defs>\n      <g>\n       <use style=\"stroke:#000000;stroke-width:0.8;\" x=\"59.690625\" xlink:href=\"#m04521602ee\" y=\"428.498437\"/>\n      </g>\n     </g>\n     <g id=\"text_7\">\n      <!-- 0 -->\n      <g transform=\"translate(46.328125 432.297656)scale(0.1 -0.1)\">\n       <use xlink:href=\"#DejaVuSans-48\"/>\n      </g>\n     </g>\n    </g>\n    <g id=\"ytick_2\">\n     <g id=\"line2d_7\">\n      <g>\n       <use style=\"stroke:#000000;stroke-width:0.8;\" x=\"59.690625\" xlink:href=\"#m04521602ee\" y=\"380.183763\"/>\n      </g>\n     </g>\n     <g id=\"text_8\">\n      <!-- 5000 -->\n      <defs>\n       <path d=\"M 10.796875 72.90625 \nL 49.515625 72.90625 \nL 49.515625 64.59375 \nL 19.828125 64.59375 \nL 19.828125 46.734375 \nQ 21.96875 47.46875 24.109375 47.828125 \nQ 26.265625 48.1875 28.421875 48.1875 \nQ 40.625 48.1875 47.75 41.5 \nQ 54.890625 34.8125 54.890625 23.390625 \nQ 54.890625 11.625 47.5625 5.09375 \nQ 40.234375 -1.421875 26.90625 -1.421875 \nQ 22.3125 -1.421875 17.546875 -0.640625 \nQ 12.796875 0.140625 7.71875 1.703125 \nL 7.71875 11.625 \nQ 12.109375 9.234375 16.796875 8.0625 \nQ 21.484375 6.890625 26.703125 6.890625 \nQ 35.15625 6.890625 40.078125 11.328125 \nQ 45.015625 15.765625 45.015625 23.390625 \nQ 45.015625 31 40.078125 35.4375 \nQ 35.15625 39.890625 26.703125 39.890625 \nQ 22.75 39.890625 18.8125 39.015625 \nQ 14.890625 38.140625 10.796875 36.28125 \nz\n\" id=\"DejaVuSans-53\"/>\n      </defs>\n      <g transform=\"translate(27.240625 383.982982)scale(0.1 -0.1)\">\n       <use xlink:href=\"#DejaVuSans-53\"/>\n       <use x=\"63.623047\" xlink:href=\"#DejaVuSans-48\"/>\n       <use x=\"127.246094\" xlink:href=\"#DejaVuSans-48\"/>\n       <use x=\"190.869141\" xlink:href=\"#DejaVuSans-48\"/>\n      </g>\n     </g>\n    </g>\n    <g id=\"ytick_3\">\n     <g id=\"line2d_8\">\n      <g>\n       <use style=\"stroke:#000000;stroke-width:0.8;\" x=\"59.690625\" xlink:href=\"#m04521602ee\" y=\"331.869088\"/>\n      </g>\n     </g>\n     <g id=\"text_9\">\n      <!-- 10000 -->\n      <g transform=\"translate(20.878125 335.668307)scale(0.1 -0.1)\">\n       <use xlink:href=\"#DejaVuSans-49\"/>\n       <use x=\"63.623047\" xlink:href=\"#DejaVuSans-48\"/>\n       <use x=\"127.246094\" xlink:href=\"#DejaVuSans-48\"/>\n       <use x=\"190.869141\" xlink:href=\"#DejaVuSans-48\"/>\n       <use x=\"254.492188\" xlink:href=\"#DejaVuSans-48\"/>\n      </g>\n     </g>\n    </g>\n    <g id=\"ytick_4\">\n     <g id=\"line2d_9\">\n      <g>\n       <use style=\"stroke:#000000;stroke-width:0.8;\" x=\"59.690625\" xlink:href=\"#m04521602ee\" y=\"283.554414\"/>\n      </g>\n     </g>\n     <g id=\"text_10\">\n      <!-- 15000 -->\n      <g transform=\"translate(20.878125 287.353632)scale(0.1 -0.1)\">\n       <use xlink:href=\"#DejaVuSans-49\"/>\n       <use x=\"63.623047\" xlink:href=\"#DejaVuSans-53\"/>\n       <use x=\"127.246094\" xlink:href=\"#DejaVuSans-48\"/>\n       <use x=\"190.869141\" xlink:href=\"#DejaVuSans-48\"/>\n       <use x=\"254.492188\" xlink:href=\"#DejaVuSans-48\"/>\n      </g>\n     </g>\n    </g>\n    <g id=\"ytick_5\">\n     <g id=\"line2d_10\">\n      <g>\n       <use style=\"stroke:#000000;stroke-width:0.8;\" x=\"59.690625\" xlink:href=\"#m04521602ee\" y=\"235.239739\"/>\n      </g>\n     </g>\n     <g id=\"text_11\">\n      <!-- 20000 -->\n      <g transform=\"translate(20.878125 239.038958)scale(0.1 -0.1)\">\n       <use xlink:href=\"#DejaVuSans-50\"/>\n       <use x=\"63.623047\" xlink:href=\"#DejaVuSans-48\"/>\n       <use x=\"127.246094\" xlink:href=\"#DejaVuSans-48\"/>\n       <use x=\"190.869141\" xlink:href=\"#DejaVuSans-48\"/>\n       <use x=\"254.492188\" xlink:href=\"#DejaVuSans-48\"/>\n      </g>\n     </g>\n    </g>\n    <g id=\"ytick_6\">\n     <g id=\"line2d_11\">\n      <g>\n       <use style=\"stroke:#000000;stroke-width:0.8;\" x=\"59.690625\" xlink:href=\"#m04521602ee\" y=\"186.925064\"/>\n      </g>\n     </g>\n     <g id=\"text_12\">\n      <!-- 25000 -->\n      <g transform=\"translate(20.878125 190.724283)scale(0.1 -0.1)\">\n       <use xlink:href=\"#DejaVuSans-50\"/>\n       <use x=\"63.623047\" xlink:href=\"#DejaVuSans-53\"/>\n       <use x=\"127.246094\" xlink:href=\"#DejaVuSans-48\"/>\n       <use x=\"190.869141\" xlink:href=\"#DejaVuSans-48\"/>\n       <use x=\"254.492188\" xlink:href=\"#DejaVuSans-48\"/>\n      </g>\n     </g>\n    </g>\n    <g id=\"ytick_7\">\n     <g id=\"line2d_12\">\n      <g>\n       <use style=\"stroke:#000000;stroke-width:0.8;\" x=\"59.690625\" xlink:href=\"#m04521602ee\" y=\"138.61039\"/>\n      </g>\n     </g>\n     <g id=\"text_13\">\n      <!-- 30000 -->\n      <g transform=\"translate(20.878125 142.409608)scale(0.1 -0.1)\">\n       <use xlink:href=\"#DejaVuSans-51\"/>\n       <use x=\"63.623047\" xlink:href=\"#DejaVuSans-48\"/>\n       <use x=\"127.246094\" xlink:href=\"#DejaVuSans-48\"/>\n       <use x=\"190.869141\" xlink:href=\"#DejaVuSans-48\"/>\n       <use x=\"254.492188\" xlink:href=\"#DejaVuSans-48\"/>\n      </g>\n     </g>\n    </g>\n    <g id=\"ytick_8\">\n     <g id=\"line2d_13\">\n      <g>\n       <use style=\"stroke:#000000;stroke-width:0.8;\" x=\"59.690625\" xlink:href=\"#m04521602ee\" y=\"90.295715\"/>\n      </g>\n     </g>\n     <g id=\"text_14\">\n      <!-- 35000 -->\n      <g transform=\"translate(20.878125 94.094934)scale(0.1 -0.1)\">\n       <use xlink:href=\"#DejaVuSans-51\"/>\n       <use x=\"63.623047\" xlink:href=\"#DejaVuSans-53\"/>\n       <use x=\"127.246094\" xlink:href=\"#DejaVuSans-48\"/>\n       <use x=\"190.869141\" xlink:href=\"#DejaVuSans-48\"/>\n       <use x=\"254.492188\" xlink:href=\"#DejaVuSans-48\"/>\n      </g>\n     </g>\n    </g>\n    <g id=\"ytick_9\">\n     <g id=\"line2d_14\">\n      <g>\n       <use style=\"stroke:#000000;stroke-width:0.8;\" x=\"59.690625\" xlink:href=\"#m04521602ee\" y=\"41.98104\"/>\n      </g>\n     </g>\n     <g id=\"text_15\">\n      <!-- 40000 -->\n      <g transform=\"translate(20.878125 45.780259)scale(0.1 -0.1)\">\n       <use xlink:href=\"#DejaVuSans-52\"/>\n       <use x=\"63.623047\" xlink:href=\"#DejaVuSans-48\"/>\n       <use x=\"127.246094\" xlink:href=\"#DejaVuSans-48\"/>\n       <use x=\"190.869141\" xlink:href=\"#DejaVuSans-48\"/>\n       <use x=\"254.492188\" xlink:href=\"#DejaVuSans-48\"/>\n      </g>\n     </g>\n    </g>\n    <g id=\"text_16\">\n     <!-- Nb -->\n     <defs>\n      <path d=\"M 9.8125 72.90625 \nL 23.09375 72.90625 \nL 55.421875 11.921875 \nL 55.421875 72.90625 \nL 64.984375 72.90625 \nL 64.984375 0 \nL 51.703125 0 \nL 19.390625 60.984375 \nL 19.390625 0 \nL 9.8125 0 \nz\n\" id=\"DejaVuSans-78\"/>\n     </defs>\n     <g transform=\"translate(14.798438 231.563281)rotate(-90)scale(0.1 -0.1)\">\n      <use xlink:href=\"#DejaVuSans-78\"/>\n      <use x=\"74.804688\" xlink:href=\"#DejaVuSans-98\"/>\n     </g>\n    </g>\n   </g>\n   <g id=\"patch_5\">\n    <path d=\"M 59.690625 428.498437 \nL 59.690625 20.798437 \n\" style=\"fill:none;stroke:#000000;stroke-linecap:square;stroke-linejoin:miter;stroke-width:0.8;\"/>\n   </g>\n   <g id=\"patch_6\">\n    <path d=\"M 440.14517 428.498437 \nL 440.14517 20.798437 \n\" style=\"fill:none;stroke:#000000;stroke-linecap:square;stroke-linejoin:miter;stroke-width:0.8;\"/>\n   </g>\n   <g id=\"patch_7\">\n    <path d=\"M 59.690625 428.498437 \nL 440.14517 428.498437 \n\" style=\"fill:none;stroke:#000000;stroke-linecap:square;stroke-linejoin:miter;stroke-width:0.8;\"/>\n   </g>\n   <g id=\"patch_8\">\n    <path d=\"M 59.690625 20.798437 \nL 440.14517 20.798437 \n\" style=\"fill:none;stroke:#000000;stroke-linecap:square;stroke-linejoin:miter;stroke-width:0.8;\"/>\n   </g>\n   <g id=\"text_17\">\n    <!-- AUC nb_common_words : 0.680781 -->\n    <defs>\n     <path d=\"M 34.1875 63.1875 \nL 20.796875 26.90625 \nL 47.609375 26.90625 \nz\nM 28.609375 72.90625 \nL 39.796875 72.90625 \nL 67.578125 0 \nL 57.328125 0 \nL 50.6875 18.703125 \nL 17.828125 18.703125 \nL 11.1875 0 \nL 0.78125 0 \nz\n\" id=\"DejaVuSans-65\"/>\n     <path d=\"M 8.6875 72.90625 \nL 18.609375 72.90625 \nL 18.609375 28.609375 \nQ 18.609375 16.890625 22.84375 11.734375 \nQ 27.09375 6.59375 36.625 6.59375 \nQ 46.09375 6.59375 50.34375 11.734375 \nQ 54.59375 16.890625 54.59375 28.609375 \nL 54.59375 72.90625 \nL 64.5 72.90625 \nL 64.5 27.390625 \nQ 64.5 13.140625 57.4375 5.859375 \nQ 50.390625 -1.421875 36.625 -1.421875 \nQ 22.796875 -1.421875 15.734375 5.859375 \nQ 8.6875 13.140625 8.6875 27.390625 \nz\n\" id=\"DejaVuSans-85\"/>\n     <path d=\"M 64.40625 67.28125 \nL 64.40625 56.890625 \nQ 59.421875 61.53125 53.78125 63.8125 \nQ 48.140625 66.109375 41.796875 66.109375 \nQ 29.296875 66.109375 22.65625 58.46875 \nQ 16.015625 50.828125 16.015625 36.375 \nQ 16.015625 21.96875 22.65625 14.328125 \nQ 29.296875 6.6875 41.796875 6.6875 \nQ 48.140625 6.6875 53.78125 8.984375 \nQ 59.421875 11.28125 64.40625 15.921875 \nL 64.40625 5.609375 \nQ 59.234375 2.09375 53.4375 0.328125 \nQ 47.65625 -1.421875 41.21875 -1.421875 \nQ 24.65625 -1.421875 15.125 8.703125 \nQ 5.609375 18.84375 5.609375 36.375 \nQ 5.609375 53.953125 15.125 64.078125 \nQ 24.65625 74.21875 41.21875 74.21875 \nQ 47.75 74.21875 53.53125 72.484375 \nQ 59.328125 70.75 64.40625 67.28125 \nz\n\" id=\"DejaVuSans-67\"/>\n     <path id=\"DejaVuSans-32\"/>\n     <path d=\"M 11.71875 12.40625 \nL 22.015625 12.40625 \nL 22.015625 0 \nL 11.71875 0 \nz\nM 11.71875 51.703125 \nL 22.015625 51.703125 \nL 22.015625 39.3125 \nL 11.71875 39.3125 \nz\n\" id=\"DejaVuSans-58\"/>\n     <path d=\"M 10.6875 12.40625 \nL 21 12.40625 \nL 21 0 \nL 10.6875 0 \nz\n\" id=\"DejaVuSans-46\"/>\n     <path d=\"M 33.015625 40.375 \nQ 26.375 40.375 22.484375 35.828125 \nQ 18.609375 31.296875 18.609375 23.390625 \nQ 18.609375 15.53125 22.484375 10.953125 \nQ 26.375 6.390625 33.015625 6.390625 \nQ 39.65625 6.390625 43.53125 10.953125 \nQ 47.40625 15.53125 47.40625 23.390625 \nQ 47.40625 31.296875 43.53125 35.828125 \nQ 39.65625 40.375 33.015625 40.375 \nz\nM 52.59375 71.296875 \nL 52.59375 62.3125 \nQ 48.875 64.0625 45.09375 64.984375 \nQ 41.3125 65.921875 37.59375 65.921875 \nQ 27.828125 65.921875 22.671875 59.328125 \nQ 17.53125 52.734375 16.796875 39.40625 \nQ 19.671875 43.65625 24.015625 45.921875 \nQ 28.375 48.1875 33.59375 48.1875 \nQ 44.578125 48.1875 50.953125 41.515625 \nQ 57.328125 34.859375 57.328125 23.390625 \nQ 57.328125 12.15625 50.6875 5.359375 \nQ 44.046875 -1.421875 33.015625 -1.421875 \nQ 20.359375 -1.421875 13.671875 8.265625 \nQ 6.984375 17.96875 6.984375 36.375 \nQ 6.984375 53.65625 15.1875 63.9375 \nQ 23.390625 74.21875 37.203125 74.21875 \nQ 40.921875 74.21875 44.703125 73.484375 \nQ 48.484375 72.75 52.59375 71.296875 \nz\n\" id=\"DejaVuSans-54\"/>\n     <path d=\"M 31.78125 34.625 \nQ 24.75 34.625 20.71875 30.859375 \nQ 16.703125 27.09375 16.703125 20.515625 \nQ 16.703125 13.921875 20.71875 10.15625 \nQ 24.75 6.390625 31.78125 6.390625 \nQ 38.8125 6.390625 42.859375 10.171875 \nQ 46.921875 13.96875 46.921875 20.515625 \nQ 46.921875 27.09375 42.890625 30.859375 \nQ 38.875 34.625 31.78125 34.625 \nz\nM 21.921875 38.8125 \nQ 15.578125 40.375 12.03125 44.71875 \nQ 8.5 49.078125 8.5 55.328125 \nQ 8.5 64.0625 14.71875 69.140625 \nQ 20.953125 74.21875 31.78125 74.21875 \nQ 42.671875 74.21875 48.875 69.140625 \nQ 55.078125 64.0625 55.078125 55.328125 \nQ 55.078125 49.078125 51.53125 44.71875 \nQ 48 40.375 41.703125 38.8125 \nQ 48.828125 37.15625 52.796875 32.3125 \nQ 56.78125 27.484375 56.78125 20.515625 \nQ 56.78125 9.90625 50.3125 4.234375 \nQ 43.84375 -1.421875 31.78125 -1.421875 \nQ 19.734375 -1.421875 13.25 4.234375 \nQ 6.78125 9.90625 6.78125 20.515625 \nQ 6.78125 27.484375 10.78125 32.3125 \nQ 14.796875 37.15625 21.921875 38.8125 \nz\nM 18.3125 54.390625 \nQ 18.3125 48.734375 21.84375 45.5625 \nQ 25.390625 42.390625 31.78125 42.390625 \nQ 38.140625 42.390625 41.71875 45.5625 \nQ 45.3125 48.734375 45.3125 54.390625 \nQ 45.3125 60.0625 41.71875 63.234375 \nQ 38.140625 66.40625 31.78125 66.40625 \nQ 25.390625 66.40625 21.84375 63.234375 \nQ 18.3125 60.0625 18.3125 54.390625 \nz\n\" id=\"DejaVuSans-56\"/>\n     <path d=\"M 8.203125 72.90625 \nL 55.078125 72.90625 \nL 55.078125 68.703125 \nL 28.609375 0 \nL 18.3125 0 \nL 43.21875 64.59375 \nL 8.203125 64.59375 \nz\n\" id=\"DejaVuSans-55\"/>\n    </defs>\n    <g transform=\"translate(161.021804 14.798437)scale(0.1 -0.1)\">\n     <use xlink:href=\"#DejaVuSans-65\"/>\n     <use x=\"68.408203\" xlink:href=\"#DejaVuSans-85\"/>\n     <use x=\"141.601562\" xlink:href=\"#DejaVuSans-67\"/>\n     <use x=\"211.425781\" xlink:href=\"#DejaVuSans-32\"/>\n     <use x=\"243.212891\" xlink:href=\"#DejaVuSans-110\"/>\n     <use x=\"306.591797\" xlink:href=\"#DejaVuSans-98\"/>\n     <use x=\"370.068359\" xlink:href=\"#DejaVuSans-95\"/>\n     <use x=\"420.068359\" xlink:href=\"#DejaVuSans-99\"/>\n     <use x=\"475.048828\" xlink:href=\"#DejaVuSans-111\"/>\n     <use x=\"536.230469\" xlink:href=\"#DejaVuSans-109\"/>\n     <use x=\"633.642578\" xlink:href=\"#DejaVuSans-109\"/>\n     <use x=\"731.054688\" xlink:href=\"#DejaVuSans-111\"/>\n     <use x=\"792.236328\" xlink:href=\"#DejaVuSans-110\"/>\n     <use x=\"855.615234\" xlink:href=\"#DejaVuSans-95\"/>\n     <use x=\"905.615234\" xlink:href=\"#DejaVuSans-119\"/>\n     <use x=\"987.402344\" xlink:href=\"#DejaVuSans-111\"/>\n     <use x=\"1048.583984\" xlink:href=\"#DejaVuSans-114\"/>\n     <use x=\"1087.947266\" xlink:href=\"#DejaVuSans-100\"/>\n     <use x=\"1151.423828\" xlink:href=\"#DejaVuSans-115\"/>\n     <use x=\"1203.523438\" xlink:href=\"#DejaVuSans-32\"/>\n     <use x=\"1235.310547\" xlink:href=\"#DejaVuSans-58\"/>\n     <use x=\"1269.001953\" xlink:href=\"#DejaVuSans-32\"/>\n     <use x=\"1300.789062\" xlink:href=\"#DejaVuSans-48\"/>\n     <use x=\"1364.412109\" xlink:href=\"#DejaVuSans-46\"/>\n     <use x=\"1396.199219\" xlink:href=\"#DejaVuSans-54\"/>\n     <use x=\"1459.822266\" xlink:href=\"#DejaVuSans-56\"/>\n     <use x=\"1523.445312\" xlink:href=\"#DejaVuSans-48\"/>\n     <use x=\"1587.068359\" xlink:href=\"#DejaVuSans-55\"/>\n     <use x=\"1650.691406\" xlink:href=\"#DejaVuSans-56\"/>\n     <use x=\"1714.314453\" xlink:href=\"#DejaVuSans-49\"/>\n    </g>\n   </g>\n   <g id=\"legend_1\">\n    <g id=\"patch_9\">\n     <path d=\"M 357.17642 58.154687 \nL 433.14517 58.154687 \nQ 435.14517 58.154687 435.14517 56.154687 \nL 435.14517 27.798437 \nQ 435.14517 25.798437 433.14517 25.798437 \nL 357.17642 25.798437 \nQ 355.17642 25.798437 355.17642 27.798437 \nL 355.17642 56.154687 \nQ 355.17642 58.154687 357.17642 58.154687 \nz\n\" style=\"fill:#ffffff;opacity:0.8;stroke:#cccccc;stroke-linejoin:miter;\"/>\n    </g>\n    <g id=\"patch_10\">\n     <path d=\"M 359.17642 37.396875 \nL 379.17642 37.396875 \nL 379.17642 30.396875 \nL 359.17642 30.396875 \nz\n\" style=\"fill:none;stroke:#d62728;stroke-linejoin:miter;\"/>\n    </g>\n    <g id=\"text_18\">\n     <!-- Same -->\n     <defs>\n      <path d=\"M 53.515625 70.515625 \nL 53.515625 60.890625 \nQ 47.90625 63.578125 42.921875 64.890625 \nQ 37.9375 66.21875 33.296875 66.21875 \nQ 25.25 66.21875 20.875 63.09375 \nQ 16.5 59.96875 16.5 54.203125 \nQ 16.5 49.359375 19.40625 46.890625 \nQ 22.3125 44.4375 30.421875 42.921875 \nL 36.375 41.703125 \nQ 47.40625 39.59375 52.65625 34.296875 \nQ 57.90625 29 57.90625 20.125 \nQ 57.90625 9.515625 50.796875 4.046875 \nQ 43.703125 -1.421875 29.984375 -1.421875 \nQ 24.8125 -1.421875 18.96875 -0.25 \nQ 13.140625 0.921875 6.890625 3.21875 \nL 6.890625 13.375 \nQ 12.890625 10.015625 18.65625 8.296875 \nQ 24.421875 6.59375 29.984375 6.59375 \nQ 38.421875 6.59375 43.015625 9.90625 \nQ 47.609375 13.234375 47.609375 19.390625 \nQ 47.609375 24.75 44.3125 27.78125 \nQ 41.015625 30.8125 33.5 32.328125 \nL 27.484375 33.5 \nQ 16.453125 35.6875 11.515625 40.375 \nQ 6.59375 45.0625 6.59375 53.421875 \nQ 6.59375 63.09375 13.40625 68.65625 \nQ 20.21875 74.21875 32.171875 74.21875 \nQ 37.3125 74.21875 42.625 73.28125 \nQ 47.953125 72.359375 53.515625 70.515625 \nz\n\" id=\"DejaVuSans-83\"/>\n      <path d=\"M 34.28125 27.484375 \nQ 23.390625 27.484375 19.1875 25 \nQ 14.984375 22.515625 14.984375 16.5 \nQ 14.984375 11.71875 18.140625 8.90625 \nQ 21.296875 6.109375 26.703125 6.109375 \nQ 34.1875 6.109375 38.703125 11.40625 \nQ 43.21875 16.703125 43.21875 25.484375 \nL 43.21875 27.484375 \nz\nM 52.203125 31.203125 \nL 52.203125 0 \nL 43.21875 0 \nL 43.21875 8.296875 \nQ 40.140625 3.328125 35.546875 0.953125 \nQ 30.953125 -1.421875 24.3125 -1.421875 \nQ 15.921875 -1.421875 10.953125 3.296875 \nQ 6 8.015625 6 15.921875 \nQ 6 25.140625 12.171875 29.828125 \nQ 18.359375 34.515625 30.609375 34.515625 \nL 43.21875 34.515625 \nL 43.21875 35.40625 \nQ 43.21875 41.609375 39.140625 45 \nQ 35.0625 48.390625 27.6875 48.390625 \nQ 23 48.390625 18.546875 47.265625 \nQ 14.109375 46.140625 10.015625 43.890625 \nL 10.015625 52.203125 \nQ 14.9375 54.109375 19.578125 55.046875 \nQ 24.21875 56 28.609375 56 \nQ 40.484375 56 46.34375 49.84375 \nQ 52.203125 43.703125 52.203125 31.203125 \nz\n\" id=\"DejaVuSans-97\"/>\n      <path d=\"M 56.203125 29.59375 \nL 56.203125 25.203125 \nL 14.890625 25.203125 \nQ 15.484375 15.921875 20.484375 11.0625 \nQ 25.484375 6.203125 34.421875 6.203125 \nQ 39.59375 6.203125 44.453125 7.46875 \nQ 49.3125 8.734375 54.109375 11.28125 \nL 54.109375 2.78125 \nQ 49.265625 0.734375 44.1875 -0.34375 \nQ 39.109375 -1.421875 33.890625 -1.421875 \nQ 20.796875 -1.421875 13.15625 6.1875 \nQ 5.515625 13.8125 5.515625 26.8125 \nQ 5.515625 40.234375 12.765625 48.109375 \nQ 20.015625 56 32.328125 56 \nQ 43.359375 56 49.78125 48.890625 \nQ 56.203125 41.796875 56.203125 29.59375 \nz\nM 47.21875 32.234375 \nQ 47.125 39.59375 43.09375 43.984375 \nQ 39.0625 48.390625 32.421875 48.390625 \nQ 24.90625 48.390625 20.390625 44.140625 \nQ 15.875 39.890625 15.1875 32.171875 \nz\n\" id=\"DejaVuSans-101\"/>\n     </defs>\n     <g transform=\"translate(387.17642 37.396875)scale(0.1 -0.1)\">\n      <use xlink:href=\"#DejaVuSans-83\"/>\n      <use x=\"63.476562\" xlink:href=\"#DejaVuSans-97\"/>\n      <use x=\"124.755859\" xlink:href=\"#DejaVuSans-109\"/>\n      <use x=\"222.167969\" xlink:href=\"#DejaVuSans-101\"/>\n     </g>\n    </g>\n    <g id=\"patch_11\">\n     <path d=\"M 359.17642 52.075 \nL 379.17642 52.075 \nL 379.17642 45.075 \nL 359.17642 45.075 \nz\n\" style=\"fill:none;opacity:0.75;stroke:#2ca02c;stroke-linejoin:miter;\"/>\n    </g>\n    <g id=\"text_19\">\n     <!-- Different -->\n     <defs>\n      <path d=\"M 19.671875 64.796875 \nL 19.671875 8.109375 \nL 31.59375 8.109375 \nQ 46.6875 8.109375 53.6875 14.9375 \nQ 60.6875 21.78125 60.6875 36.53125 \nQ 60.6875 51.171875 53.6875 57.984375 \nQ 46.6875 64.796875 31.59375 64.796875 \nz\nM 9.8125 72.90625 \nL 30.078125 72.90625 \nQ 51.265625 72.90625 61.171875 64.09375 \nQ 71.09375 55.28125 71.09375 36.53125 \nQ 71.09375 17.671875 61.125 8.828125 \nQ 51.171875 0 30.078125 0 \nL 9.8125 0 \nz\n\" id=\"DejaVuSans-68\"/>\n      <path d=\"M 9.421875 54.6875 \nL 18.40625 54.6875 \nL 18.40625 0 \nL 9.421875 0 \nz\nM 9.421875 75.984375 \nL 18.40625 75.984375 \nL 18.40625 64.59375 \nL 9.421875 64.59375 \nz\n\" id=\"DejaVuSans-105\"/>\n      <path d=\"M 37.109375 75.984375 \nL 37.109375 68.5 \nL 28.515625 68.5 \nQ 23.6875 68.5 21.796875 66.546875 \nQ 19.921875 64.59375 19.921875 59.515625 \nL 19.921875 54.6875 \nL 34.71875 54.6875 \nL 34.71875 47.703125 \nL 19.921875 47.703125 \nL 19.921875 0 \nL 10.890625 0 \nL 10.890625 47.703125 \nL 2.296875 47.703125 \nL 2.296875 54.6875 \nL 10.890625 54.6875 \nL 10.890625 58.5 \nQ 10.890625 67.625 15.140625 71.796875 \nQ 19.390625 75.984375 28.609375 75.984375 \nz\n\" id=\"DejaVuSans-102\"/>\n      <path d=\"M 18.3125 70.21875 \nL 18.3125 54.6875 \nL 36.8125 54.6875 \nL 36.8125 47.703125 \nL 18.3125 47.703125 \nL 18.3125 18.015625 \nQ 18.3125 11.328125 20.140625 9.421875 \nQ 21.96875 7.515625 27.59375 7.515625 \nL 36.8125 7.515625 \nL 36.8125 0 \nL 27.59375 0 \nQ 17.1875 0 13.234375 3.875 \nQ 9.28125 7.765625 9.28125 18.015625 \nL 9.28125 47.703125 \nL 2.6875 47.703125 \nL 2.6875 54.6875 \nL 9.28125 54.6875 \nL 9.28125 70.21875 \nz\n\" id=\"DejaVuSans-116\"/>\n     </defs>\n     <g transform=\"translate(387.17642 52.075)scale(0.1 -0.1)\">\n      <use xlink:href=\"#DejaVuSans-68\"/>\n      <use x=\"77.001953\" xlink:href=\"#DejaVuSans-105\"/>\n      <use x=\"104.785156\" xlink:href=\"#DejaVuSans-102\"/>\n      <use x=\"139.990234\" xlink:href=\"#DejaVuSans-102\"/>\n      <use x=\"175.195312\" xlink:href=\"#DejaVuSans-101\"/>\n      <use x=\"236.71875\" xlink:href=\"#DejaVuSans-114\"/>\n      <use x=\"275.582031\" xlink:href=\"#DejaVuSans-101\"/>\n      <use x=\"337.105469\" xlink:href=\"#DejaVuSans-110\"/>\n      <use x=\"400.484375\" xlink:href=\"#DejaVuSans-116\"/>\n     </g>\n    </g>\n   </g>\n  </g>\n  <g id=\"axes_2\">\n   <g id=\"patch_12\">\n    <path d=\"M 516.23608 428.498437 \nL 896.690625 428.498437 \nL 896.690625 20.798437 \nL 516.23608 20.798437 \nz\n\" style=\"fill:#ffffff;\"/>\n   </g>\n   <g id=\"patch_13\">\n    <path clip-path=\"url(#p7694e72dcd)\" d=\"M 533.529468 428.498437 \nL 533.529468 420.981577 \nL 540.446823 420.981577 \nL 540.446823 428.469965 \nL 547.364179 428.469965 \nL 547.364179 428.3276 \nL 554.281534 428.3276 \nL 554.281534 427.444938 \nL 561.198889 427.444938 \nL 561.198889 426.619222 \nL 568.116245 426.619222 \nL 568.116245 422.561826 \nL 575.0336 422.561826 \nL 575.0336 420.76803 \nL 581.950956 420.76803 \nL 581.950956 416.425904 \nL 588.868311 416.425904 \nL 588.868311 413.350824 \nL 595.785666 413.350824 \nL 595.785666 418.233937 \nL 602.703022 418.233937 \nL 602.703022 395.78301 \nL 609.620377 395.78301 \nL 609.620377 391.754087 \nL 616.537732 391.754087 \nL 616.537732 378.927019 \nL 623.455088 378.927019 \nL 623.455088 398.146265 \nL 630.372443 398.146265 \nL 630.372443 383.639294 \nL 637.289799 383.639294 \nL 637.289799 378.585344 \nL 644.207154 378.585344 \nL 644.207154 328.572595 \nL 651.124509 328.572595 \nL 651.124509 408.026381 \nL 658.041865 408.026381 \nL 658.041865 347.450165 \nL 664.95922 347.450165 \nL 664.95922 409.193773 \nL 671.876575 409.193773 \nL 671.876575 329.868115 \nL 678.793931 329.868115 \nL 678.793931 349.61411 \nL 685.711286 349.61411 \nL 685.711286 346.524794 \nL 692.628642 346.524794 \nL 692.628642 400.723068 \nL 699.545997 400.723068 \nL 699.545997 428.227944 \nL 706.463352 428.227944 \nL 706.463352 223.080289 \nL 713.380708 223.080289 \nL 713.380708 406.318004 \nL 720.298063 406.318004 \nL 720.298063 349.016178 \nL 727.215418 349.016178 \nL 727.215418 346.040754 \nL 734.132774 346.040754 \nL 734.132774 410.475056 \nL 741.050129 410.475056 \nL 741.050129 340.616656 \nL 747.967485 340.616656 \nL 747.967485 338.096799 \nL 754.88484 338.096799 \nL 754.88484 421.380198 \nL 761.802195 421.380198 \nL 761.802195 301.779542 \nL 768.719551 301.779542 \nL 768.719551 388.636298 \nL 775.636906 388.636298 \nL 775.636906 356.547275 \nL 782.554261 356.547275 \nL 782.554261 408.553131 \nL 789.471617 408.553131 \nL 789.471617 344.787944 \nL 796.388972 344.787944 \nL 796.388972 385.119888 \nL 803.306327 385.119888 \nL 803.306327 422.547589 \nL 810.223683 422.547589 \nL 810.223683 358.882058 \nL 817.141038 358.882058 \nL 817.141038 376.876967 \nL 824.058394 376.876967 \nL 824.058394 371.410159 \nL 830.975749 371.410159 \nL 830.975749 389.291176 \nL 837.893104 389.291176 \nL 837.893104 403.072087 \nL 844.81046 403.072087 \nL 844.81046 402.57381 \nL 851.727815 402.57381 \nL 851.727815 421.892711 \nL 858.64517 421.892711 \nL 858.64517 426.704641 \nL 865.562526 426.704641 \nL 865.562526 428.427255 \nL 872.479881 428.427255 \nL 872.479881 379.596134 \nL 879.397237 379.596134 \nL 879.397237 428.498437 \n\" style=\"fill:none;stroke:#d62728;stroke-linejoin:miter;\"/>\n   </g>\n   <g id=\"patch_14\">\n    <path clip-path=\"url(#p7694e72dcd)\" d=\"M 533.529468 428.498437 \nL 533.529468 40.212723 \nL 540.446823 40.212723 \nL 540.446823 416.055755 \nL 547.364179 416.055755 \nL 547.364179 374.428292 \nL 554.281534 374.428292 \nL 554.281534 343.976465 \nL 561.198889 343.976465 \nL 561.198889 336.345712 \nL 568.116245 336.345712 \nL 568.116245 286.404146 \nL 575.0336 286.404146 \nL 575.0336 321.283518 \nL 581.950956 321.283518 \nL 581.950956 297.394707 \nL 588.868311 297.394707 \nL 588.868311 311.873206 \nL 595.785666 311.873206 \nL 595.785666 355.664614 \nL 602.703022 355.664614 \nL 602.703022 274.787179 \nL 609.620377 274.787179 \nL 609.620377 312.670449 \nL 616.537732 312.670449 \nL 616.537732 285.891632 \nL 623.455088 285.891632 \nL 623.455088 348.589084 \nL 630.372443 348.589084 \nL 630.372443 335.050193 \nL 637.289799 335.050193 \nL 637.289799 329.996243 \nL 644.207154 329.996243 \nL 644.207154 265.206029 \nL 651.124509 265.206029 \nL 651.124509 400.694595 \nL 658.041865 400.694595 \nL 658.041865 323.120024 \nL 664.95922 323.120024 \nL 664.95922 403.271398 \nL 671.876575 403.271398 \nL 671.876575 305.666101 \nL 678.793931 305.666101 \nL 678.793931 351.308251 \nL 685.711286 351.308251 \nL 685.711286 348.233172 \nL 692.628642 348.233172 \nL 692.628642 404.211005 \nL 699.545997 404.211005 \nL 699.545997 428.3276 \nL 706.463352 428.3276 \nL 706.463352 233.245135 \nL 713.380708 233.245135 \nL 713.380708 413.777919 \nL 720.298063 413.777919 \nL 720.298063 363.466204 \nL 727.215418 363.466204 \nL 727.215418 369.730254 \nL 734.132774 369.730254 \nL 734.132774 415.415114 \nL 741.050129 415.415114 \nL 741.050129 355.408357 \nL 747.967485 355.408357 \nL 747.967485 363.48044 \nL 754.88484 363.48044 \nL 754.88484 424.270203 \nL 761.802195 424.270203 \nL 761.802195 325.981556 \nL 768.719551 325.981556 \nL 768.719551 398.559123 \nL 775.636906 398.559123 \nL 775.636906 384.265699 \nL 782.554261 384.265699 \nL 782.554261 413.123041 \nL 789.471617 413.123041 \nL 789.471617 361.658171 \nL 796.388972 361.658171 \nL 796.388972 394.174288 \nL 803.306327 394.174288 \nL 803.306327 421.636455 \nL 810.223683 421.636455 \nL 810.223683 372.748388 \nL 817.141038 372.748388 \nL 817.141038 386.714373 \nL 824.058394 386.714373 \nL 824.058394 382.486139 \nL 830.975749 382.486139 \nL 830.975749 381.945153 \nL 837.893104 381.945153 \nL 837.893104 397.121239 \nL 844.81046 397.121239 \nL 844.81046 382.059045 \nL 851.727815 382.059045 \nL 851.727815 392.679458 \nL 858.64517 392.679458 \nL 858.64517 418.618321 \nL 865.562526 418.618321 \nL 865.562526 428.469965 \nL 872.479881 428.469965 \nL 872.479881 412.539345 \nL 879.397237 412.539345 \nL 879.397237 428.498437 \n\" style=\"fill:none;opacity:0.75;stroke:#2ca02c;stroke-linejoin:miter;\"/>\n   </g>\n   <g id=\"matplotlib.axis_3\">\n    <g id=\"xtick_6\">\n     <g id=\"line2d_15\">\n      <g>\n       <use style=\"stroke:#000000;stroke-width:0.8;\" x=\"533.529468\" xlink:href=\"#mecfda65fee\" y=\"428.498437\"/>\n      </g>\n     </g>\n     <g id=\"text_20\">\n      <!-- 0.0 -->\n      <g transform=\"translate(525.577905 443.096875)scale(0.1 -0.1)\">\n       <use xlink:href=\"#DejaVuSans-48\"/>\n       <use x=\"63.623047\" xlink:href=\"#DejaVuSans-46\"/>\n       <use x=\"95.410156\" xlink:href=\"#DejaVuSans-48\"/>\n      </g>\n     </g>\n    </g>\n    <g id=\"xtick_7\">\n     <g id=\"line2d_16\">\n      <g>\n       <use style=\"stroke:#000000;stroke-width:0.8;\" x=\"602.703022\" xlink:href=\"#mecfda65fee\" y=\"428.498437\"/>\n      </g>\n     </g>\n     <g id=\"text_21\">\n      <!-- 0.2 -->\n      <g transform=\"translate(594.751459 443.096875)scale(0.1 -0.1)\">\n       <use xlink:href=\"#DejaVuSans-48\"/>\n       <use x=\"63.623047\" xlink:href=\"#DejaVuSans-46\"/>\n       <use x=\"95.410156\" xlink:href=\"#DejaVuSans-50\"/>\n      </g>\n     </g>\n    </g>\n    <g id=\"xtick_8\">\n     <g id=\"line2d_17\">\n      <g>\n       <use style=\"stroke:#000000;stroke-width:0.8;\" x=\"671.876575\" xlink:href=\"#mecfda65fee\" y=\"428.498437\"/>\n      </g>\n     </g>\n     <g id=\"text_22\">\n      <!-- 0.4 -->\n      <g transform=\"translate(663.925013 443.096875)scale(0.1 -0.1)\">\n       <use xlink:href=\"#DejaVuSans-48\"/>\n       <use x=\"63.623047\" xlink:href=\"#DejaVuSans-46\"/>\n       <use x=\"95.410156\" xlink:href=\"#DejaVuSans-52\"/>\n      </g>\n     </g>\n    </g>\n    <g id=\"xtick_9\">\n     <g id=\"line2d_18\">\n      <g>\n       <use style=\"stroke:#000000;stroke-width:0.8;\" x=\"741.050129\" xlink:href=\"#mecfda65fee\" y=\"428.498437\"/>\n      </g>\n     </g>\n     <g id=\"text_23\">\n      <!-- 0.6 -->\n      <g transform=\"translate(733.098567 443.096875)scale(0.1 -0.1)\">\n       <use xlink:href=\"#DejaVuSans-48\"/>\n       <use x=\"63.623047\" xlink:href=\"#DejaVuSans-46\"/>\n       <use x=\"95.410156\" xlink:href=\"#DejaVuSans-54\"/>\n      </g>\n     </g>\n    </g>\n    <g id=\"xtick_10\">\n     <g id=\"line2d_19\">\n      <g>\n       <use style=\"stroke:#000000;stroke-width:0.8;\" x=\"810.223683\" xlink:href=\"#mecfda65fee\" y=\"428.498437\"/>\n      </g>\n     </g>\n     <g id=\"text_24\">\n      <!-- 0.8 -->\n      <g transform=\"translate(802.27212 443.096875)scale(0.1 -0.1)\">\n       <use xlink:href=\"#DejaVuSans-48\"/>\n       <use x=\"63.623047\" xlink:href=\"#DejaVuSans-46\"/>\n       <use x=\"95.410156\" xlink:href=\"#DejaVuSans-56\"/>\n      </g>\n     </g>\n    </g>\n    <g id=\"xtick_11\">\n     <g id=\"line2d_20\">\n      <g>\n       <use style=\"stroke:#000000;stroke-width:0.8;\" x=\"879.397237\" xlink:href=\"#mecfda65fee\" y=\"428.498437\"/>\n      </g>\n     </g>\n     <g id=\"text_25\">\n      <!-- 1.0 -->\n      <g transform=\"translate(871.445674 443.096875)scale(0.1 -0.1)\">\n       <use xlink:href=\"#DejaVuSans-49\"/>\n       <use x=\"63.623047\" xlink:href=\"#DejaVuSans-46\"/>\n       <use x=\"95.410156\" xlink:href=\"#DejaVuSans-48\"/>\n      </g>\n     </g>\n    </g>\n    <g id=\"text_26\">\n     <!-- nb_common_words/nb_words_question1 -->\n     <defs>\n      <path d=\"M 25.390625 72.90625 \nL 33.6875 72.90625 \nL 8.296875 -9.28125 \nL 0 -9.28125 \nz\n\" id=\"DejaVuSans-47\"/>\n      <path d=\"M 14.796875 27.296875 \nQ 14.796875 17.390625 18.875 11.75 \nQ 22.953125 6.109375 30.078125 6.109375 \nQ 37.203125 6.109375 41.296875 11.75 \nQ 45.40625 17.390625 45.40625 27.296875 \nQ 45.40625 37.203125 41.296875 42.84375 \nQ 37.203125 48.484375 30.078125 48.484375 \nQ 22.953125 48.484375 18.875 42.84375 \nQ 14.796875 37.203125 14.796875 27.296875 \nz\nM 45.40625 8.203125 \nQ 42.578125 3.328125 38.25 0.953125 \nQ 33.9375 -1.421875 27.875 -1.421875 \nQ 17.96875 -1.421875 11.734375 6.484375 \nQ 5.515625 14.40625 5.515625 27.296875 \nQ 5.515625 40.1875 11.734375 48.09375 \nQ 17.96875 56 27.875 56 \nQ 33.9375 56 38.25 53.625 \nQ 42.578125 51.265625 45.40625 46.390625 \nL 45.40625 54.6875 \nL 54.390625 54.6875 \nL 54.390625 -20.796875 \nL 45.40625 -20.796875 \nz\n\" id=\"DejaVuSans-113\"/>\n      <path d=\"M 8.5 21.578125 \nL 8.5 54.6875 \nL 17.484375 54.6875 \nL 17.484375 21.921875 \nQ 17.484375 14.15625 20.5 10.265625 \nQ 23.53125 6.390625 29.59375 6.390625 \nQ 36.859375 6.390625 41.078125 11.03125 \nQ 45.3125 15.671875 45.3125 23.6875 \nL 45.3125 54.6875 \nL 54.296875 54.6875 \nL 54.296875 0 \nL 45.3125 0 \nL 45.3125 8.40625 \nQ 42.046875 3.421875 37.71875 1 \nQ 33.40625 -1.421875 27.6875 -1.421875 \nQ 18.265625 -1.421875 13.375 4.4375 \nQ 8.5 10.296875 8.5 21.578125 \nz\nM 31.109375 56 \nz\n\" id=\"DejaVuSans-117\"/>\n     </defs>\n     <g transform=\"translate(605.742259 456.775)scale(0.1 -0.1)\">\n      <use xlink:href=\"#DejaVuSans-110\"/>\n      <use x=\"63.378906\" xlink:href=\"#DejaVuSans-98\"/>\n      <use x=\"126.855469\" xlink:href=\"#DejaVuSans-95\"/>\n      <use x=\"176.855469\" xlink:href=\"#DejaVuSans-99\"/>\n      <use x=\"231.835938\" xlink:href=\"#DejaVuSans-111\"/>\n      <use x=\"293.017578\" xlink:href=\"#DejaVuSans-109\"/>\n      <use x=\"390.429688\" xlink:href=\"#DejaVuSans-109\"/>\n      <use x=\"487.841797\" xlink:href=\"#DejaVuSans-111\"/>\n      <use x=\"549.023438\" xlink:href=\"#DejaVuSans-110\"/>\n      <use x=\"612.402344\" xlink:href=\"#DejaVuSans-95\"/>\n      <use x=\"662.402344\" xlink:href=\"#DejaVuSans-119\"/>\n      <use x=\"744.189453\" xlink:href=\"#DejaVuSans-111\"/>\n      <use x=\"805.371094\" xlink:href=\"#DejaVuSans-114\"/>\n      <use x=\"844.734375\" xlink:href=\"#DejaVuSans-100\"/>\n      <use x=\"908.210938\" xlink:href=\"#DejaVuSans-115\"/>\n      <use x=\"960.310547\" xlink:href=\"#DejaVuSans-47\"/>\n      <use x=\"994.001953\" xlink:href=\"#DejaVuSans-110\"/>\n      <use x=\"1057.380859\" xlink:href=\"#DejaVuSans-98\"/>\n      <use x=\"1120.857422\" xlink:href=\"#DejaVuSans-95\"/>\n      <use x=\"1170.857422\" xlink:href=\"#DejaVuSans-119\"/>\n      <use x=\"1252.644531\" xlink:href=\"#DejaVuSans-111\"/>\n      <use x=\"1313.826172\" xlink:href=\"#DejaVuSans-114\"/>\n      <use x=\"1353.189453\" xlink:href=\"#DejaVuSans-100\"/>\n      <use x=\"1416.666016\" xlink:href=\"#DejaVuSans-115\"/>\n      <use x=\"1468.765625\" xlink:href=\"#DejaVuSans-95\"/>\n      <use x=\"1518.765625\" xlink:href=\"#DejaVuSans-113\"/>\n      <use x=\"1582.242188\" xlink:href=\"#DejaVuSans-117\"/>\n      <use x=\"1645.621094\" xlink:href=\"#DejaVuSans-101\"/>\n      <use x=\"1707.144531\" xlink:href=\"#DejaVuSans-115\"/>\n      <use x=\"1759.244141\" xlink:href=\"#DejaVuSans-116\"/>\n      <use x=\"1798.453125\" xlink:href=\"#DejaVuSans-105\"/>\n      <use x=\"1826.236328\" xlink:href=\"#DejaVuSans-111\"/>\n      <use x=\"1887.417969\" xlink:href=\"#DejaVuSans-110\"/>\n      <use x=\"1950.796875\" xlink:href=\"#DejaVuSans-49\"/>\n     </g>\n    </g>\n   </g>\n   <g id=\"matplotlib.axis_4\">\n    <g id=\"ytick_10\">\n     <g id=\"line2d_21\">\n      <g>\n       <use style=\"stroke:#000000;stroke-width:0.8;\" x=\"516.23608\" xlink:href=\"#m04521602ee\" y=\"428.498437\"/>\n      </g>\n     </g>\n     <g id=\"text_27\">\n      <!-- 0 -->\n      <g transform=\"translate(502.87358 432.297656)scale(0.1 -0.1)\">\n       <use xlink:href=\"#DejaVuSans-48\"/>\n      </g>\n     </g>\n    </g>\n    <g id=\"ytick_11\">\n     <g id=\"line2d_22\">\n      <g>\n       <use style=\"stroke:#000000;stroke-width:0.8;\" x=\"516.23608\" xlink:href=\"#m04521602ee\" y=\"357.316045\"/>\n      </g>\n     </g>\n     <g id=\"text_28\">\n      <!-- 5000 -->\n      <g transform=\"translate(483.78608 361.115264)scale(0.1 -0.1)\">\n       <use xlink:href=\"#DejaVuSans-53\"/>\n       <use x=\"63.623047\" xlink:href=\"#DejaVuSans-48\"/>\n       <use x=\"127.246094\" xlink:href=\"#DejaVuSans-48\"/>\n       <use x=\"190.869141\" xlink:href=\"#DejaVuSans-48\"/>\n      </g>\n     </g>\n    </g>\n    <g id=\"ytick_12\">\n     <g id=\"line2d_23\">\n      <g>\n       <use style=\"stroke:#000000;stroke-width:0.8;\" x=\"516.23608\" xlink:href=\"#m04521602ee\" y=\"286.133653\"/>\n      </g>\n     </g>\n     <g id=\"text_29\">\n      <!-- 10000 -->\n      <g transform=\"translate(477.42358 289.932871)scale(0.1 -0.1)\">\n       <use xlink:href=\"#DejaVuSans-49\"/>\n       <use x=\"63.623047\" xlink:href=\"#DejaVuSans-48\"/>\n       <use x=\"127.246094\" xlink:href=\"#DejaVuSans-48\"/>\n       <use x=\"190.869141\" xlink:href=\"#DejaVuSans-48\"/>\n       <use x=\"254.492188\" xlink:href=\"#DejaVuSans-48\"/>\n      </g>\n     </g>\n    </g>\n    <g id=\"ytick_13\">\n     <g id=\"line2d_24\">\n      <g>\n       <use style=\"stroke:#000000;stroke-width:0.8;\" x=\"516.23608\" xlink:href=\"#m04521602ee\" y=\"214.95126\"/>\n      </g>\n     </g>\n     <g id=\"text_30\">\n      <!-- 15000 -->\n      <g transform=\"translate(477.42358 218.750479)scale(0.1 -0.1)\">\n       <use xlink:href=\"#DejaVuSans-49\"/>\n       <use x=\"63.623047\" xlink:href=\"#DejaVuSans-53\"/>\n       <use x=\"127.246094\" xlink:href=\"#DejaVuSans-48\"/>\n       <use x=\"190.869141\" xlink:href=\"#DejaVuSans-48\"/>\n       <use x=\"254.492188\" xlink:href=\"#DejaVuSans-48\"/>\n      </g>\n     </g>\n    </g>\n    <g id=\"ytick_14\">\n     <g id=\"line2d_25\">\n      <g>\n       <use style=\"stroke:#000000;stroke-width:0.8;\" x=\"516.23608\" xlink:href=\"#m04521602ee\" y=\"143.768868\"/>\n      </g>\n     </g>\n     <g id=\"text_31\">\n      <!-- 20000 -->\n      <g transform=\"translate(477.42358 147.568086)scale(0.1 -0.1)\">\n       <use xlink:href=\"#DejaVuSans-50\"/>\n       <use x=\"63.623047\" xlink:href=\"#DejaVuSans-48\"/>\n       <use x=\"127.246094\" xlink:href=\"#DejaVuSans-48\"/>\n       <use x=\"190.869141\" xlink:href=\"#DejaVuSans-48\"/>\n       <use x=\"254.492188\" xlink:href=\"#DejaVuSans-48\"/>\n      </g>\n     </g>\n    </g>\n    <g id=\"ytick_15\">\n     <g id=\"line2d_26\">\n      <g>\n       <use style=\"stroke:#000000;stroke-width:0.8;\" x=\"516.23608\" xlink:href=\"#m04521602ee\" y=\"72.586475\"/>\n      </g>\n     </g>\n     <g id=\"text_32\">\n      <!-- 25000 -->\n      <g transform=\"translate(477.42358 76.385694)scale(0.1 -0.1)\">\n       <use xlink:href=\"#DejaVuSans-50\"/>\n       <use x=\"63.623047\" xlink:href=\"#DejaVuSans-53\"/>\n       <use x=\"127.246094\" xlink:href=\"#DejaVuSans-48\"/>\n       <use x=\"190.869141\" xlink:href=\"#DejaVuSans-48\"/>\n       <use x=\"254.492188\" xlink:href=\"#DejaVuSans-48\"/>\n      </g>\n     </g>\n    </g>\n    <g id=\"text_33\">\n     <!-- Nb -->\n     <g transform=\"translate(471.343892 231.563281)rotate(-90)scale(0.1 -0.1)\">\n      <use xlink:href=\"#DejaVuSans-78\"/>\n      <use x=\"74.804688\" xlink:href=\"#DejaVuSans-98\"/>\n     </g>\n    </g>\n   </g>\n   <g id=\"patch_15\">\n    <path d=\"M 516.23608 428.498437 \nL 516.23608 20.798437 \n\" style=\"fill:none;stroke:#000000;stroke-linecap:square;stroke-linejoin:miter;stroke-width:0.8;\"/>\n   </g>\n   <g id=\"patch_16\">\n    <path d=\"M 896.690625 428.498437 \nL 896.690625 20.798437 \n\" style=\"fill:none;stroke:#000000;stroke-linecap:square;stroke-linejoin:miter;stroke-width:0.8;\"/>\n   </g>\n   <g id=\"patch_17\">\n    <path d=\"M 516.23608 428.498437 \nL 896.690625 428.498437 \n\" style=\"fill:none;stroke:#000000;stroke-linecap:square;stroke-linejoin:miter;stroke-width:0.8;\"/>\n   </g>\n   <g id=\"patch_18\">\n    <path d=\"M 516.23608 20.798437 \nL 896.690625 20.798437 \n\" style=\"fill:none;stroke:#000000;stroke-linecap:square;stroke-linejoin:miter;stroke-width:0.8;\"/>\n   </g>\n   <g id=\"text_34\">\n    <!-- AUC nb_common_words/nb_words_question1 : 0.723389 -->\n    <defs>\n     <path d=\"M 10.984375 1.515625 \nL 10.984375 10.5 \nQ 14.703125 8.734375 18.5 7.8125 \nQ 22.3125 6.890625 25.984375 6.890625 \nQ 35.75 6.890625 40.890625 13.453125 \nQ 46.046875 20.015625 46.78125 33.40625 \nQ 43.953125 29.203125 39.59375 26.953125 \nQ 35.25 24.703125 29.984375 24.703125 \nQ 19.046875 24.703125 12.671875 31.3125 \nQ 6.296875 37.9375 6.296875 49.421875 \nQ 6.296875 60.640625 12.9375 67.421875 \nQ 19.578125 74.21875 30.609375 74.21875 \nQ 43.265625 74.21875 49.921875 64.515625 \nQ 56.59375 54.828125 56.59375 36.375 \nQ 56.59375 19.140625 48.40625 8.859375 \nQ 40.234375 -1.421875 26.421875 -1.421875 \nQ 22.703125 -1.421875 18.890625 -0.6875 \nQ 15.09375 0.046875 10.984375 1.515625 \nz\nM 30.609375 32.421875 \nQ 37.25 32.421875 41.125 36.953125 \nQ 45.015625 41.5 45.015625 49.421875 \nQ 45.015625 57.28125 41.125 61.84375 \nQ 37.25 66.40625 30.609375 66.40625 \nQ 23.96875 66.40625 20.09375 61.84375 \nQ 16.21875 57.28125 16.21875 49.421875 \nQ 16.21875 41.5 20.09375 36.953125 \nQ 23.96875 32.421875 30.609375 32.421875 \nz\n\" id=\"DejaVuSans-57\"/>\n    </defs>\n    <g transform=\"translate(564.86179 14.798437)scale(0.1 -0.1)\">\n     <use xlink:href=\"#DejaVuSans-65\"/>\n     <use x=\"68.408203\" xlink:href=\"#DejaVuSans-85\"/>\n     <use x=\"141.601562\" xlink:href=\"#DejaVuSans-67\"/>\n     <use x=\"211.425781\" xlink:href=\"#DejaVuSans-32\"/>\n     <use x=\"243.212891\" xlink:href=\"#DejaVuSans-110\"/>\n     <use x=\"306.591797\" xlink:href=\"#DejaVuSans-98\"/>\n     <use x=\"370.068359\" xlink:href=\"#DejaVuSans-95\"/>\n     <use x=\"420.068359\" xlink:href=\"#DejaVuSans-99\"/>\n     <use x=\"475.048828\" xlink:href=\"#DejaVuSans-111\"/>\n     <use x=\"536.230469\" xlink:href=\"#DejaVuSans-109\"/>\n     <use x=\"633.642578\" xlink:href=\"#DejaVuSans-109\"/>\n     <use x=\"731.054688\" xlink:href=\"#DejaVuSans-111\"/>\n     <use x=\"792.236328\" xlink:href=\"#DejaVuSans-110\"/>\n     <use x=\"855.615234\" xlink:href=\"#DejaVuSans-95\"/>\n     <use x=\"905.615234\" xlink:href=\"#DejaVuSans-119\"/>\n     <use x=\"987.402344\" xlink:href=\"#DejaVuSans-111\"/>\n     <use x=\"1048.583984\" xlink:href=\"#DejaVuSans-114\"/>\n     <use x=\"1087.947266\" xlink:href=\"#DejaVuSans-100\"/>\n     <use x=\"1151.423828\" xlink:href=\"#DejaVuSans-115\"/>\n     <use x=\"1203.523438\" xlink:href=\"#DejaVuSans-47\"/>\n     <use x=\"1237.214844\" xlink:href=\"#DejaVuSans-110\"/>\n     <use x=\"1300.59375\" xlink:href=\"#DejaVuSans-98\"/>\n     <use x=\"1364.070312\" xlink:href=\"#DejaVuSans-95\"/>\n     <use x=\"1414.070312\" xlink:href=\"#DejaVuSans-119\"/>\n     <use x=\"1495.857422\" xlink:href=\"#DejaVuSans-111\"/>\n     <use x=\"1557.039062\" xlink:href=\"#DejaVuSans-114\"/>\n     <use x=\"1596.402344\" xlink:href=\"#DejaVuSans-100\"/>\n     <use x=\"1659.878906\" xlink:href=\"#DejaVuSans-115\"/>\n     <use x=\"1711.978516\" xlink:href=\"#DejaVuSans-95\"/>\n     <use x=\"1761.978516\" xlink:href=\"#DejaVuSans-113\"/>\n     <use x=\"1825.455078\" xlink:href=\"#DejaVuSans-117\"/>\n     <use x=\"1888.833984\" xlink:href=\"#DejaVuSans-101\"/>\n     <use x=\"1950.357422\" xlink:href=\"#DejaVuSans-115\"/>\n     <use x=\"2002.457031\" xlink:href=\"#DejaVuSans-116\"/>\n     <use x=\"2041.666016\" xlink:href=\"#DejaVuSans-105\"/>\n     <use x=\"2069.449219\" xlink:href=\"#DejaVuSans-111\"/>\n     <use x=\"2130.630859\" xlink:href=\"#DejaVuSans-110\"/>\n     <use x=\"2194.009766\" xlink:href=\"#DejaVuSans-49\"/>\n     <use x=\"2257.632812\" xlink:href=\"#DejaVuSans-32\"/>\n     <use x=\"2289.419922\" xlink:href=\"#DejaVuSans-58\"/>\n     <use x=\"2323.111328\" xlink:href=\"#DejaVuSans-32\"/>\n     <use x=\"2354.898438\" xlink:href=\"#DejaVuSans-48\"/>\n     <use x=\"2418.521484\" xlink:href=\"#DejaVuSans-46\"/>\n     <use x=\"2450.308594\" xlink:href=\"#DejaVuSans-55\"/>\n     <use x=\"2513.931641\" xlink:href=\"#DejaVuSans-50\"/>\n     <use x=\"2577.554688\" xlink:href=\"#DejaVuSans-51\"/>\n     <use x=\"2641.177734\" xlink:href=\"#DejaVuSans-51\"/>\n     <use x=\"2704.800781\" xlink:href=\"#DejaVuSans-56\"/>\n     <use x=\"2768.423828\" xlink:href=\"#DejaVuSans-57\"/>\n    </g>\n   </g>\n   <g id=\"legend_2\">\n    <g id=\"patch_19\">\n     <path d=\"M 813.721875 58.154687 \nL 889.690625 58.154687 \nQ 891.690625 58.154687 891.690625 56.154687 \nL 891.690625 27.798437 \nQ 891.690625 25.798437 889.690625 25.798437 \nL 813.721875 25.798437 \nQ 811.721875 25.798437 811.721875 27.798437 \nL 811.721875 56.154687 \nQ 811.721875 58.154687 813.721875 58.154687 \nz\n\" style=\"fill:#ffffff;opacity:0.8;stroke:#cccccc;stroke-linejoin:miter;\"/>\n    </g>\n    <g id=\"patch_20\">\n     <path d=\"M 815.721875 37.396875 \nL 835.721875 37.396875 \nL 835.721875 30.396875 \nL 815.721875 30.396875 \nz\n\" style=\"fill:none;stroke:#d62728;stroke-linejoin:miter;\"/>\n    </g>\n    <g id=\"text_35\">\n     <!-- Same -->\n     <g transform=\"translate(843.721875 37.396875)scale(0.1 -0.1)\">\n      <use xlink:href=\"#DejaVuSans-83\"/>\n      <use x=\"63.476562\" xlink:href=\"#DejaVuSans-97\"/>\n      <use x=\"124.755859\" xlink:href=\"#DejaVuSans-109\"/>\n      <use x=\"222.167969\" xlink:href=\"#DejaVuSans-101\"/>\n     </g>\n    </g>\n    <g id=\"patch_21\">\n     <path d=\"M 815.721875 52.075 \nL 835.721875 52.075 \nL 835.721875 45.075 \nL 815.721875 45.075 \nz\n\" style=\"fill:none;opacity:0.75;stroke:#2ca02c;stroke-linejoin:miter;\"/>\n    </g>\n    <g id=\"text_36\">\n     <!-- Different -->\n     <g transform=\"translate(843.721875 52.075)scale(0.1 -0.1)\">\n      <use xlink:href=\"#DejaVuSans-68\"/>\n      <use x=\"77.001953\" xlink:href=\"#DejaVuSans-105\"/>\n      <use x=\"104.785156\" xlink:href=\"#DejaVuSans-102\"/>\n      <use x=\"139.990234\" xlink:href=\"#DejaVuSans-102\"/>\n      <use x=\"175.195312\" xlink:href=\"#DejaVuSans-101\"/>\n      <use x=\"236.71875\" xlink:href=\"#DejaVuSans-114\"/>\n      <use x=\"275.582031\" xlink:href=\"#DejaVuSans-101\"/>\n      <use x=\"337.105469\" xlink:href=\"#DejaVuSans-110\"/>\n      <use x=\"400.484375\" xlink:href=\"#DejaVuSans-116\"/>\n     </g>\n    </g>\n   </g>\n  </g>\n </g>\n <defs>\n  <clipPath id=\"p9759f6c7f8\">\n   <rect height=\"407.7\" width=\"380.454545\" x=\"59.690625\" y=\"20.798437\"/>\n  </clipPath>\n  <clipPath id=\"p7694e72dcd\">\n   <rect height=\"407.7\" width=\"380.454545\" x=\"516.23608\" y=\"20.798437\"/>\n  </clipPath>\n </defs>\n</svg>\n",
      "image/png": "[encoded data removed]"
     },
     "metadata": {
      "needs_background": "light"
     }
    },
    {
     "output_type": "display_data",
     "data": {
      "text/plain": "<Figure size 1080x540 with 2 Axes>",
      "image/svg+xml": "<?xml version=\"1.0\" encoding=\"utf-8\" standalone=\"no\"?>\n<!DOCTYPE svg PUBLIC \"-//W3C//DTD SVG 1.1//EN\"\n  \"http://www.w3.org/Graphics/SVG/1.1/DTD/svg11.dtd\">\n<!-- Created with matplotlib (https://matplotlib.org/) -->\n<svg height=\"466.332812pt\" version=\"1.1\" viewBox=\"0 0 903.890625 466.332812\" width=\"903.890625pt\" xmlns=\"http://www.w3.org/2000/svg\" xmlns:xlink=\"http://www.w3.org/1999/xlink\">\n <defs>\n  <style type=\"text/css\">\n*{stroke-linecap:butt;stroke-linejoin:round;}\n  </style>\n </defs>\n <g id=\"figure_1\">\n  <g id=\"patch_1\">\n   <path d=\"M 0 466.332812 \nL 903.890625 466.332812 \nL 903.890625 0 \nL 0 0 \nz\n\" style=\"fill:none;\"/>\n  </g>\n  <g id=\"axes_1\">\n   <g id=\"patch_2\">\n    <path d=\"M 59.690625 428.498437 \nL 440.14517 428.498437 \nL 440.14517 20.798437 \nL 59.690625 20.798437 \nz\n\" style=\"fill:#ffffff;\"/>\n   </g>\n   <g id=\"patch_3\">\n    <path clip-path=\"url(#p5eda5d3634)\" d=\"M 76.984013 428.498437 \nL 76.984013 420.983506 \nL 83.901369 420.983506 \nL 83.901369 428.498437 \nL 90.818724 428.498437 \nL 90.818724 428.284945 \nL 97.73608 428.284945 \nL 97.73608 426.932827 \nL 104.653435 426.932827 \nL 104.653435 426.605472 \nL 111.57079 426.605472 \nL 111.57079 421.908639 \nL 118.488146 421.908639 \nL 118.488146 420.826945 \nL 125.405501 420.826945 \nL 125.405501 415.019952 \nL 132.322856 415.019952 \nL 132.322856 413.924024 \nL 139.240212 413.924024 \nL 139.240212 416.969849 \nL 146.157567 416.969849 \nL 146.157567 394.040767 \nL 153.074923 394.040767 \nL 153.074923 393.684946 \nL 159.992278 393.684946 \nL 159.992278 380.334556 \nL 166.909633 380.334556 \nL 166.909633 397.371248 \nL 173.826989 397.371248 \nL 173.826989 384.177419 \nL 180.744344 384.177419 \nL 180.744344 378.868575 \nL 187.661699 378.868575 \nL 187.661699 325.723204 \nL 194.579055 325.723204 \nL 194.579055 409.397986 \nL 201.49641 409.397986 \nL 201.49641 347.41403 \nL 208.413765 347.41403 \nL 208.413765 407.476554 \nL 215.331121 407.476554 \nL 215.331121 330.348872 \nL 222.248476 330.348872 \nL 222.248476 355.441344 \nL 229.165832 355.441344 \nL 229.165832 344.297041 \nL 236.083187 344.297041 \nL 236.083187 400.118183 \nL 243.000542 400.118183 \nL 243.000542 428.228014 \nL 249.917898 428.228014 \nL 249.917898 222.535219 \nL 256.835253 222.535219 \nL 256.835253 406.821844 \nL 263.752608 406.821844 \nL 263.752608 345.321805 \nL 270.669964 345.321805 \nL 270.669964 349.207366 \nL 277.587319 349.207366 \nL 277.587319 410.67894 \nL 284.504675 410.67894 \nL 284.504675 343.613866 \nL 291.42203 343.613866 \nL 291.42203 337.636079 \nL 298.339385 337.636079 \nL 298.339385 421.453189 \nL 305.256741 421.453189 \nL 305.256741 305.968042 \nL 312.174096 305.968042 \nL 312.174096 388.504198 \nL 319.091451 388.504198 \nL 319.091451 359.440768 \nL 326.008807 359.440768 \nL 326.008807 408.25936 \nL 332.926162 408.25936 \nL 332.926162 343.371908 \nL 339.843518 343.371908 \nL 339.843518 383.935461 \nL 346.760873 383.935461 \nL 346.760873 422.634513 \nL 353.678228 422.634513 \nL 353.678228 358.842989 \nL 360.595584 358.842989 \nL 360.595584 376.890212 \nL 367.512939 376.890212 \nL 367.512939 369.119089 \nL 374.430294 369.119089 \nL 374.430294 389.699755 \nL 381.34765 389.699755 \nL 381.34765 402.779722 \nL 388.265005 402.779722 \nL 388.265005 401.826122 \nL 395.182361 401.826122 \nL 395.182361 421.823242 \nL 402.099716 421.823242 \nL 402.099716 426.719334 \nL 409.017071 426.719334 \nL 409.017071 428.413041 \nL 415.934427 428.413041 \nL 415.934427 378.114235 \nL 422.851782 378.114235 \nL 422.851782 428.498437 \n\" style=\"fill:none;stroke:#d62728;stroke-linejoin:miter;\"/>\n   </g>\n   <g id=\"patch_4\">\n    <path clip-path=\"url(#p5eda5d3634)\" d=\"M 76.984013 428.498437 \nL 76.984013 40.212723 \nL 83.901369 40.212723 \nL 83.901369 413.027356 \nL 90.818724 413.027356 \nL 90.818724 375.353067 \nL 97.73608 375.353067 \nL 97.73608 344.724026 \nL 104.653435 344.724026 \nL 104.653435 340.027194 \nL 111.57079 340.027194 \nL 111.57079 280.292025 \nL 118.488146 280.292025 \nL 118.488146 306.565821 \nL 125.405501 306.565821 \nL 125.405501 290.724686 \nL 132.322856 290.724686 \nL 132.322856 306.266932 \nL 139.240212 306.266932 \nL 139.240212 352.238958 \nL 146.157567 352.238958 \nL 146.157567 266.101898 \nL 153.074923 266.101898 \nL 153.074923 314.436573 \nL 159.992278 314.436573 \nL 159.992278 276.477628 \nL 166.909633 276.477628 \nL 166.909633 351.555782 \nL 173.826989 351.555782 \nL 173.826989 333.579724 \nL 180.744344 333.579724 \nL 180.744344 332.113743 \nL 187.661699 332.113743 \nL 187.661699 269.845131 \nL 194.579055 269.845131 \nL 194.579055 404.103374 \nL 201.49641 404.103374 \nL 201.49641 325.680506 \nL 208.413765 325.680506 \nL 208.413765 405.54089 \nL 215.331121 405.54089 \nL 215.331121 313.084455 \nL 222.248476 313.084455 \nL 222.248476 355.996424 \nL 229.165832 355.996424 \nL 229.165832 355.626371 \nL 236.083187 355.626371 \nL 236.083187 407.490787 \nL 243.000542 407.490787 \nL 243.000542 428.370342 \nL 249.917898 428.370342 \nL 249.917898 238.675243 \nL 256.835253 238.675243 \nL 256.835253 415.16228 \nL 263.752608 415.16228 \nL 263.752608 371.737929 \nL 270.669964 371.737929 \nL 270.669964 370.528139 \nL 277.587319 370.528139 \nL 277.587319 416.941383 \nL 284.504675 416.941383 \nL 284.504675 358.629497 \nL 291.42203 358.629497 \nL 291.42203 367.866601 \nL 298.339385 367.866601 \nL 298.339385 424.12896 \nL 305.256741 424.12896 \nL 305.256741 328.057387 \nL 312.174096 328.057387 \nL 312.174096 400.160882 \nL 319.091451 400.160882 \nL 319.091451 382.540644 \nL 326.008807 382.540644 \nL 326.008807 415.133814 \nL 332.926162 415.133814 \nL 332.926162 359.312672 \nL 339.843518 359.312672 \nL 339.843518 395.592145 \nL 346.760873 395.592145 \nL 346.760873 421.951338 \nL 353.678228 421.951338 \nL 353.678228 371.211315 \nL 360.595584 371.211315 \nL 360.595584 383.935461 \nL 367.512939 383.935461 \nL 367.512939 379.523285 \nL 374.430294 379.523285 \nL 374.430294 381.800537 \nL 381.34765 381.800537 \nL 381.34765 396.716538 \nL 388.265005 396.716538 \nL 388.265005 381.231224 \nL 395.182361 381.231224 \nL 395.182361 391.094572 \nL 402.099716 391.094572 \nL 402.099716 418.592391 \nL 409.017071 418.592391 \nL 409.017071 428.455739 \nL 415.934427 428.455739 \nL 415.934427 406.75068 \nL 422.851782 406.75068 \nL 422.851782 428.498437 \n\" style=\"fill:none;opacity:0.75;stroke:#2ca02c;stroke-linejoin:miter;\"/>\n   </g>\n   <g id=\"matplotlib.axis_1\">\n    <g id=\"xtick_1\">\n     <g id=\"line2d_1\">\n      <defs>\n       <path d=\"M 0 0 \nL 0 3.5 \n\" id=\"ma4197f90d2\" style=\"stroke:#000000;stroke-width:0.8;\"/>\n      </defs>\n      <g>\n       <use style=\"stroke:#000000;stroke-width:0.8;\" x=\"76.984013\" xlink:href=\"#ma4197f90d2\" y=\"428.498437\"/>\n      </g>\n     </g>\n     <g id=\"text_1\">\n      <!-- 0.0 -->\n      <defs>\n       <path d=\"M 31.78125 66.40625 \nQ 24.171875 66.40625 20.328125 58.90625 \nQ 16.5 51.421875 16.5 36.375 \nQ 16.5 21.390625 20.328125 13.890625 \nQ 24.171875 6.390625 31.78125 6.390625 \nQ 39.453125 6.390625 43.28125 13.890625 \nQ 47.125 21.390625 47.125 36.375 \nQ 47.125 51.421875 43.28125 58.90625 \nQ 39.453125 66.40625 31.78125 66.40625 \nz\nM 31.78125 74.21875 \nQ 44.046875 74.21875 50.515625 64.515625 \nQ 56.984375 54.828125 56.984375 36.375 \nQ 56.984375 17.96875 50.515625 8.265625 \nQ 44.046875 -1.421875 31.78125 -1.421875 \nQ 19.53125 -1.421875 13.0625 8.265625 \nQ 6.59375 17.96875 6.59375 36.375 \nQ 6.59375 54.828125 13.0625 64.515625 \nQ 19.53125 74.21875 31.78125 74.21875 \nz\n\" id=\"DejaVuSans-48\"/>\n       <path d=\"M 10.6875 12.40625 \nL 21 12.40625 \nL 21 0 \nL 10.6875 0 \nz\n\" id=\"DejaVuSans-46\"/>\n      </defs>\n      <g transform=\"translate(69.032451 443.096875)scale(0.1 -0.1)\">\n       <use xlink:href=\"#DejaVuSans-48\"/>\n       <use x=\"63.623047\" xlink:href=\"#DejaVuSans-46\"/>\n       <use x=\"95.410156\" xlink:href=\"#DejaVuSans-48\"/>\n      </g>\n     </g>\n    </g>\n    <g id=\"xtick_2\">\n     <g id=\"line2d_2\">\n      <g>\n       <use style=\"stroke:#000000;stroke-width:0.8;\" x=\"146.157567\" xlink:href=\"#ma4197f90d2\" y=\"428.498437\"/>\n      </g>\n     </g>\n     <g id=\"text_2\">\n      <!-- 0.2 -->\n      <defs>\n       <path d=\"M 19.1875 8.296875 \nL 53.609375 8.296875 \nL 53.609375 0 \nL 7.328125 0 \nL 7.328125 8.296875 \nQ 12.9375 14.109375 22.625 23.890625 \nQ 32.328125 33.6875 34.8125 36.53125 \nQ 39.546875 41.84375 41.421875 45.53125 \nQ 43.3125 49.21875 43.3125 52.78125 \nQ 43.3125 58.59375 39.234375 62.25 \nQ 35.15625 65.921875 28.609375 65.921875 \nQ 23.96875 65.921875 18.8125 64.3125 \nQ 13.671875 62.703125 7.8125 59.421875 \nL 7.8125 69.390625 \nQ 13.765625 71.78125 18.9375 73 \nQ 24.125 74.21875 28.421875 74.21875 \nQ 39.75 74.21875 46.484375 68.546875 \nQ 53.21875 62.890625 53.21875 53.421875 \nQ 53.21875 48.921875 51.53125 44.890625 \nQ 49.859375 40.875 45.40625 35.40625 \nQ 44.1875 33.984375 37.640625 27.21875 \nQ 31.109375 20.453125 19.1875 8.296875 \nz\n\" id=\"DejaVuSans-50\"/>\n      </defs>\n      <g transform=\"translate(138.206005 443.096875)scale(0.1 -0.1)\">\n       <use xlink:href=\"#DejaVuSans-48\"/>\n       <use x=\"63.623047\" xlink:href=\"#DejaVuSans-46\"/>\n       <use x=\"95.410156\" xlink:href=\"#DejaVuSans-50\"/>\n      </g>\n     </g>\n    </g>\n    <g id=\"xtick_3\">\n     <g id=\"line2d_3\">\n      <g>\n       <use style=\"stroke:#000000;stroke-width:0.8;\" x=\"215.331121\" xlink:href=\"#ma4197f90d2\" y=\"428.498437\"/>\n      </g>\n     </g>\n     <g id=\"text_3\">\n      <!-- 0.4 -->\n      <defs>\n       <path d=\"M 37.796875 64.3125 \nL 12.890625 25.390625 \nL 37.796875 25.390625 \nz\nM 35.203125 72.90625 \nL 47.609375 72.90625 \nL 47.609375 25.390625 \nL 58.015625 25.390625 \nL 58.015625 17.1875 \nL 47.609375 17.1875 \nL 47.609375 0 \nL 37.796875 0 \nL 37.796875 17.1875 \nL 4.890625 17.1875 \nL 4.890625 26.703125 \nz\n\" id=\"DejaVuSans-52\"/>\n      </defs>\n      <g transform=\"translate(207.379558 443.096875)scale(0.1 -0.1)\">\n       <use xlink:href=\"#DejaVuSans-48\"/>\n       <use x=\"63.623047\" xlink:href=\"#DejaVuSans-46\"/>\n       <use x=\"95.410156\" xlink:href=\"#DejaVuSans-52\"/>\n      </g>\n     </g>\n    </g>\n    <g id=\"xtick_4\">\n     <g id=\"line2d_4\">\n      <g>\n       <use style=\"stroke:#000000;stroke-width:0.8;\" x=\"284.504675\" xlink:href=\"#ma4197f90d2\" y=\"428.498437\"/>\n      </g>\n     </g>\n     <g id=\"text_4\">\n      <!-- 0.6 -->\n      <defs>\n       <path d=\"M 33.015625 40.375 \nQ 26.375 40.375 22.484375 35.828125 \nQ 18.609375 31.296875 18.609375 23.390625 \nQ 18.609375 15.53125 22.484375 10.953125 \nQ 26.375 6.390625 33.015625 6.390625 \nQ 39.65625 6.390625 43.53125 10.953125 \nQ 47.40625 15.53125 47.40625 23.390625 \nQ 47.40625 31.296875 43.53125 35.828125 \nQ 39.65625 40.375 33.015625 40.375 \nz\nM 52.59375 71.296875 \nL 52.59375 62.3125 \nQ 48.875 64.0625 45.09375 64.984375 \nQ 41.3125 65.921875 37.59375 65.921875 \nQ 27.828125 65.921875 22.671875 59.328125 \nQ 17.53125 52.734375 16.796875 39.40625 \nQ 19.671875 43.65625 24.015625 45.921875 \nQ 28.375 48.1875 33.59375 48.1875 \nQ 44.578125 48.1875 50.953125 41.515625 \nQ 57.328125 34.859375 57.328125 23.390625 \nQ 57.328125 12.15625 50.6875 5.359375 \nQ 44.046875 -1.421875 33.015625 -1.421875 \nQ 20.359375 -1.421875 13.671875 8.265625 \nQ 6.984375 17.96875 6.984375 36.375 \nQ 6.984375 53.65625 15.1875 63.9375 \nQ 23.390625 74.21875 37.203125 74.21875 \nQ 40.921875 74.21875 44.703125 73.484375 \nQ 48.484375 72.75 52.59375 71.296875 \nz\n\" id=\"DejaVuSans-54\"/>\n      </defs>\n      <g transform=\"translate(276.553112 443.096875)scale(0.1 -0.1)\">\n       <use xlink:href=\"#DejaVuSans-48\"/>\n       <use x=\"63.623047\" xlink:href=\"#DejaVuSans-46\"/>\n       <use x=\"95.410156\" xlink:href=\"#DejaVuSans-54\"/>\n      </g>\n     </g>\n    </g>\n    <g id=\"xtick_5\">\n     <g id=\"line2d_5\">\n      <g>\n       <use style=\"stroke:#000000;stroke-width:0.8;\" x=\"353.678228\" xlink:href=\"#ma4197f90d2\" y=\"428.498437\"/>\n      </g>\n     </g>\n     <g id=\"text_5\">\n      <!-- 0.8 -->\n      <defs>\n       <path d=\"M 31.78125 34.625 \nQ 24.75 34.625 20.71875 30.859375 \nQ 16.703125 27.09375 16.703125 20.515625 \nQ 16.703125 13.921875 20.71875 10.15625 \nQ 24.75 6.390625 31.78125 6.390625 \nQ 38.8125 6.390625 42.859375 10.171875 \nQ 46.921875 13.96875 46.921875 20.515625 \nQ 46.921875 27.09375 42.890625 30.859375 \nQ 38.875 34.625 31.78125 34.625 \nz\nM 21.921875 38.8125 \nQ 15.578125 40.375 12.03125 44.71875 \nQ 8.5 49.078125 8.5 55.328125 \nQ 8.5 64.0625 14.71875 69.140625 \nQ 20.953125 74.21875 31.78125 74.21875 \nQ 42.671875 74.21875 48.875 69.140625 \nQ 55.078125 64.0625 55.078125 55.328125 \nQ 55.078125 49.078125 51.53125 44.71875 \nQ 48 40.375 41.703125 38.8125 \nQ 48.828125 37.15625 52.796875 32.3125 \nQ 56.78125 27.484375 56.78125 20.515625 \nQ 56.78125 9.90625 50.3125 4.234375 \nQ 43.84375 -1.421875 31.78125 -1.421875 \nQ 19.734375 -1.421875 13.25 4.234375 \nQ 6.78125 9.90625 6.78125 20.515625 \nQ 6.78125 27.484375 10.78125 32.3125 \nQ 14.796875 37.15625 21.921875 38.8125 \nz\nM 18.3125 54.390625 \nQ 18.3125 48.734375 21.84375 45.5625 \nQ 25.390625 42.390625 31.78125 42.390625 \nQ 38.140625 42.390625 41.71875 45.5625 \nQ 45.3125 48.734375 45.3125 54.390625 \nQ 45.3125 60.0625 41.71875 63.234375 \nQ 38.140625 66.40625 31.78125 66.40625 \nQ 25.390625 66.40625 21.84375 63.234375 \nQ 18.3125 60.0625 18.3125 54.390625 \nz\n\" id=\"DejaVuSans-56\"/>\n      </defs>\n      <g transform=\"translate(345.726666 443.096875)scale(0.1 -0.1)\">\n       <use xlink:href=\"#DejaVuSans-48\"/>\n       <use x=\"63.623047\" xlink:href=\"#DejaVuSans-46\"/>\n       <use x=\"95.410156\" xlink:href=\"#DejaVuSans-56\"/>\n      </g>\n     </g>\n    </g>\n    <g id=\"xtick_6\">\n     <g id=\"line2d_6\">\n      <g>\n       <use style=\"stroke:#000000;stroke-width:0.8;\" x=\"422.851782\" xlink:href=\"#ma4197f90d2\" y=\"428.498437\"/>\n      </g>\n     </g>\n     <g id=\"text_6\">\n      <!-- 1.0 -->\n      <defs>\n       <path d=\"M 12.40625 8.296875 \nL 28.515625 8.296875 \nL 28.515625 63.921875 \nL 10.984375 60.40625 \nL 10.984375 69.390625 \nL 28.421875 72.90625 \nL 38.28125 72.90625 \nL 38.28125 8.296875 \nL 54.390625 8.296875 \nL 54.390625 0 \nL 12.40625 0 \nz\n\" id=\"DejaVuSans-49\"/>\n      </defs>\n      <g transform=\"translate(414.90022 443.096875)scale(0.1 -0.1)\">\n       <use xlink:href=\"#DejaVuSans-49\"/>\n       <use x=\"63.623047\" xlink:href=\"#DejaVuSans-46\"/>\n       <use x=\"95.410156\" xlink:href=\"#DejaVuSans-48\"/>\n      </g>\n     </g>\n    </g>\n    <g id=\"text_7\">\n     <!-- nb_common_words/nb_words_question2 -->\n     <defs>\n      <path d=\"M 54.890625 33.015625 \nL 54.890625 0 \nL 45.90625 0 \nL 45.90625 32.71875 \nQ 45.90625 40.484375 42.875 44.328125 \nQ 39.84375 48.1875 33.796875 48.1875 \nQ 26.515625 48.1875 22.3125 43.546875 \nQ 18.109375 38.921875 18.109375 30.90625 \nL 18.109375 0 \nL 9.078125 0 \nL 9.078125 54.6875 \nL 18.109375 54.6875 \nL 18.109375 46.1875 \nQ 21.34375 51.125 25.703125 53.5625 \nQ 30.078125 56 35.796875 56 \nQ 45.21875 56 50.046875 50.171875 \nQ 54.890625 44.34375 54.890625 33.015625 \nz\n\" id=\"DejaVuSans-110\"/>\n      <path d=\"M 48.6875 27.296875 \nQ 48.6875 37.203125 44.609375 42.84375 \nQ 40.53125 48.484375 33.40625 48.484375 \nQ 26.265625 48.484375 22.1875 42.84375 \nQ 18.109375 37.203125 18.109375 27.296875 \nQ 18.109375 17.390625 22.1875 11.75 \nQ 26.265625 6.109375 33.40625 6.109375 \nQ 40.53125 6.109375 44.609375 11.75 \nQ 48.6875 17.390625 48.6875 27.296875 \nz\nM 18.109375 46.390625 \nQ 20.953125 51.265625 25.265625 53.625 \nQ 29.59375 56 35.59375 56 \nQ 45.5625 56 51.78125 48.09375 \nQ 58.015625 40.1875 58.015625 27.296875 \nQ 58.015625 14.40625 51.78125 6.484375 \nQ 45.5625 -1.421875 35.59375 -1.421875 \nQ 29.59375 -1.421875 25.265625 0.953125 \nQ 20.953125 3.328125 18.109375 8.203125 \nL 18.109375 0 \nL 9.078125 0 \nL 9.078125 75.984375 \nL 18.109375 75.984375 \nz\n\" id=\"DejaVuSans-98\"/>\n      <path d=\"M 50.984375 -16.609375 \nL 50.984375 -23.578125 \nL -0.984375 -23.578125 \nL -0.984375 -16.609375 \nz\n\" id=\"DejaVuSans-95\"/>\n      <path d=\"M 48.78125 52.59375 \nL 48.78125 44.1875 \nQ 44.96875 46.296875 41.140625 47.34375 \nQ 37.3125 48.390625 33.40625 48.390625 \nQ 24.65625 48.390625 19.8125 42.84375 \nQ 14.984375 37.3125 14.984375 27.296875 \nQ 14.984375 17.28125 19.8125 11.734375 \nQ 24.65625 6.203125 33.40625 6.203125 \nQ 37.3125 6.203125 41.140625 7.25 \nQ 44.96875 8.296875 48.78125 10.40625 \nL 48.78125 2.09375 \nQ 45.015625 0.34375 40.984375 -0.53125 \nQ 36.96875 -1.421875 32.421875 -1.421875 \nQ 20.0625 -1.421875 12.78125 6.34375 \nQ 5.515625 14.109375 5.515625 27.296875 \nQ 5.515625 40.671875 12.859375 48.328125 \nQ 20.21875 56 33.015625 56 \nQ 37.15625 56 41.109375 55.140625 \nQ 45.0625 54.296875 48.78125 52.59375 \nz\n\" id=\"DejaVuSans-99\"/>\n      <path d=\"M 30.609375 48.390625 \nQ 23.390625 48.390625 19.1875 42.75 \nQ 14.984375 37.109375 14.984375 27.296875 \nQ 14.984375 17.484375 19.15625 11.84375 \nQ 23.34375 6.203125 30.609375 6.203125 \nQ 37.796875 6.203125 41.984375 11.859375 \nQ 46.1875 17.53125 46.1875 27.296875 \nQ 46.1875 37.015625 41.984375 42.703125 \nQ 37.796875 48.390625 30.609375 48.390625 \nz\nM 30.609375 56 \nQ 42.328125 56 49.015625 48.375 \nQ 55.71875 40.765625 55.71875 27.296875 \nQ 55.71875 13.875 49.015625 6.21875 \nQ 42.328125 -1.421875 30.609375 -1.421875 \nQ 18.84375 -1.421875 12.171875 6.21875 \nQ 5.515625 13.875 5.515625 27.296875 \nQ 5.515625 40.765625 12.171875 48.375 \nQ 18.84375 56 30.609375 56 \nz\n\" id=\"DejaVuSans-111\"/>\n      <path d=\"M 52 44.1875 \nQ 55.375 50.25 60.0625 53.125 \nQ 64.75 56 71.09375 56 \nQ 79.640625 56 84.28125 50.015625 \nQ 88.921875 44.046875 88.921875 33.015625 \nL 88.921875 0 \nL 79.890625 0 \nL 79.890625 32.71875 \nQ 79.890625 40.578125 77.09375 44.375 \nQ 74.3125 48.1875 68.609375 48.1875 \nQ 61.625 48.1875 57.5625 43.546875 \nQ 53.515625 38.921875 53.515625 30.90625 \nL 53.515625 0 \nL 44.484375 0 \nL 44.484375 32.71875 \nQ 44.484375 40.625 41.703125 44.40625 \nQ 38.921875 48.1875 33.109375 48.1875 \nQ 26.21875 48.1875 22.15625 43.53125 \nQ 18.109375 38.875 18.109375 30.90625 \nL 18.109375 0 \nL 9.078125 0 \nL 9.078125 54.6875 \nL 18.109375 54.6875 \nL 18.109375 46.1875 \nQ 21.1875 51.21875 25.484375 53.609375 \nQ 29.78125 56 35.6875 56 \nQ 41.65625 56 45.828125 52.96875 \nQ 50 49.953125 52 44.1875 \nz\n\" id=\"DejaVuSans-109\"/>\n      <path d=\"M 4.203125 54.6875 \nL 13.1875 54.6875 \nL 24.421875 12.015625 \nL 35.59375 54.6875 \nL 46.1875 54.6875 \nL 57.421875 12.015625 \nL 68.609375 54.6875 \nL 77.59375 54.6875 \nL 63.28125 0 \nL 52.6875 0 \nL 40.921875 44.828125 \nL 29.109375 0 \nL 18.5 0 \nz\n\" id=\"DejaVuSans-119\"/>\n      <path d=\"M 41.109375 46.296875 \nQ 39.59375 47.171875 37.8125 47.578125 \nQ 36.03125 48 33.890625 48 \nQ 26.265625 48 22.1875 43.046875 \nQ 18.109375 38.09375 18.109375 28.8125 \nL 18.109375 0 \nL 9.078125 0 \nL 9.078125 54.6875 \nL 18.109375 54.6875 \nL 18.109375 46.1875 \nQ 20.953125 51.171875 25.484375 53.578125 \nQ 30.03125 56 36.53125 56 \nQ 37.453125 56 38.578125 55.875 \nQ 39.703125 55.765625 41.0625 55.515625 \nz\n\" id=\"DejaVuSans-114\"/>\n      <path d=\"M 45.40625 46.390625 \nL 45.40625 75.984375 \nL 54.390625 75.984375 \nL 54.390625 0 \nL 45.40625 0 \nL 45.40625 8.203125 \nQ 42.578125 3.328125 38.25 0.953125 \nQ 33.9375 -1.421875 27.875 -1.421875 \nQ 17.96875 -1.421875 11.734375 6.484375 \nQ 5.515625 14.40625 5.515625 27.296875 \nQ 5.515625 40.1875 11.734375 48.09375 \nQ 17.96875 56 27.875 56 \nQ 33.9375 56 38.25 53.625 \nQ 42.578125 51.265625 45.40625 46.390625 \nz\nM 14.796875 27.296875 \nQ 14.796875 17.390625 18.875 11.75 \nQ 22.953125 6.109375 30.078125 6.109375 \nQ 37.203125 6.109375 41.296875 11.75 \nQ 45.40625 17.390625 45.40625 27.296875 \nQ 45.40625 37.203125 41.296875 42.84375 \nQ 37.203125 48.484375 30.078125 48.484375 \nQ 22.953125 48.484375 18.875 42.84375 \nQ 14.796875 37.203125 14.796875 27.296875 \nz\n\" id=\"DejaVuSans-100\"/>\n      <path d=\"M 44.28125 53.078125 \nL 44.28125 44.578125 \nQ 40.484375 46.53125 36.375 47.5 \nQ 32.28125 48.484375 27.875 48.484375 \nQ 21.1875 48.484375 17.84375 46.4375 \nQ 14.5 44.390625 14.5 40.28125 \nQ 14.5 37.15625 16.890625 35.375 \nQ 19.28125 33.59375 26.515625 31.984375 \nL 29.59375 31.296875 \nQ 39.15625 29.25 43.1875 25.515625 \nQ 47.21875 21.78125 47.21875 15.09375 \nQ 47.21875 7.46875 41.1875 3.015625 \nQ 35.15625 -1.421875 24.609375 -1.421875 \nQ 20.21875 -1.421875 15.453125 -0.5625 \nQ 10.6875 0.296875 5.421875 2 \nL 5.421875 11.28125 \nQ 10.40625 8.6875 15.234375 7.390625 \nQ 20.0625 6.109375 24.8125 6.109375 \nQ 31.15625 6.109375 34.5625 8.28125 \nQ 37.984375 10.453125 37.984375 14.40625 \nQ 37.984375 18.0625 35.515625 20.015625 \nQ 33.0625 21.96875 24.703125 23.78125 \nL 21.578125 24.515625 \nQ 13.234375 26.265625 9.515625 29.90625 \nQ 5.8125 33.546875 5.8125 39.890625 \nQ 5.8125 47.609375 11.28125 51.796875 \nQ 16.75 56 26.8125 56 \nQ 31.78125 56 36.171875 55.265625 \nQ 40.578125 54.546875 44.28125 53.078125 \nz\n\" id=\"DejaVuSans-115\"/>\n      <path d=\"M 25.390625 72.90625 \nL 33.6875 72.90625 \nL 8.296875 -9.28125 \nL 0 -9.28125 \nz\n\" id=\"DejaVuSans-47\"/>\n      <path d=\"M 14.796875 27.296875 \nQ 14.796875 17.390625 18.875 11.75 \nQ 22.953125 6.109375 30.078125 6.109375 \nQ 37.203125 6.109375 41.296875 11.75 \nQ 45.40625 17.390625 45.40625 27.296875 \nQ 45.40625 37.203125 41.296875 42.84375 \nQ 37.203125 48.484375 30.078125 48.484375 \nQ 22.953125 48.484375 18.875 42.84375 \nQ 14.796875 37.203125 14.796875 27.296875 \nz\nM 45.40625 8.203125 \nQ 42.578125 3.328125 38.25 0.953125 \nQ 33.9375 -1.421875 27.875 -1.421875 \nQ 17.96875 -1.421875 11.734375 6.484375 \nQ 5.515625 14.40625 5.515625 27.296875 \nQ 5.515625 40.1875 11.734375 48.09375 \nQ 17.96875 56 27.875 56 \nQ 33.9375 56 38.25 53.625 \nQ 42.578125 51.265625 45.40625 46.390625 \nL 45.40625 54.6875 \nL 54.390625 54.6875 \nL 54.390625 -20.796875 \nL 45.40625 -20.796875 \nz\n\" id=\"DejaVuSans-113\"/>\n      <path d=\"M 8.5 21.578125 \nL 8.5 54.6875 \nL 17.484375 54.6875 \nL 17.484375 21.921875 \nQ 17.484375 14.15625 20.5 10.265625 \nQ 23.53125 6.390625 29.59375 6.390625 \nQ 36.859375 6.390625 41.078125 11.03125 \nQ 45.3125 15.671875 45.3125 23.6875 \nL 45.3125 54.6875 \nL 54.296875 54.6875 \nL 54.296875 0 \nL 45.3125 0 \nL 45.3125 8.40625 \nQ 42.046875 3.421875 37.71875 1 \nQ 33.40625 -1.421875 27.6875 -1.421875 \nQ 18.265625 -1.421875 13.375 4.4375 \nQ 8.5 10.296875 8.5 21.578125 \nz\nM 31.109375 56 \nz\n\" id=\"DejaVuSans-117\"/>\n      <path d=\"M 56.203125 29.59375 \nL 56.203125 25.203125 \nL 14.890625 25.203125 \nQ 15.484375 15.921875 20.484375 11.0625 \nQ 25.484375 6.203125 34.421875 6.203125 \nQ 39.59375 6.203125 44.453125 7.46875 \nQ 49.3125 8.734375 54.109375 11.28125 \nL 54.109375 2.78125 \nQ 49.265625 0.734375 44.1875 -0.34375 \nQ 39.109375 -1.421875 33.890625 -1.421875 \nQ 20.796875 -1.421875 13.15625 6.1875 \nQ 5.515625 13.8125 5.515625 26.8125 \nQ 5.515625 40.234375 12.765625 48.109375 \nQ 20.015625 56 32.328125 56 \nQ 43.359375 56 49.78125 48.890625 \nQ 56.203125 41.796875 56.203125 29.59375 \nz\nM 47.21875 32.234375 \nQ 47.125 39.59375 43.09375 43.984375 \nQ 39.0625 48.390625 32.421875 48.390625 \nQ 24.90625 48.390625 20.390625 44.140625 \nQ 15.875 39.890625 15.1875 32.171875 \nz\n\" id=\"DejaVuSans-101\"/>\n      <path d=\"M 18.3125 70.21875 \nL 18.3125 54.6875 \nL 36.8125 54.6875 \nL 36.8125 47.703125 \nL 18.3125 47.703125 \nL 18.3125 18.015625 \nQ 18.3125 11.328125 20.140625 9.421875 \nQ 21.96875 7.515625 27.59375 7.515625 \nL 36.8125 7.515625 \nL 36.8125 0 \nL 27.59375 0 \nQ 17.1875 0 13.234375 3.875 \nQ 9.28125 7.765625 9.28125 18.015625 \nL 9.28125 47.703125 \nL 2.6875 47.703125 \nL 2.6875 54.6875 \nL 9.28125 54.6875 \nL 9.28125 70.21875 \nz\n\" id=\"DejaVuSans-116\"/>\n      <path d=\"M 9.421875 54.6875 \nL 18.40625 54.6875 \nL 18.40625 0 \nL 9.421875 0 \nz\nM 9.421875 75.984375 \nL 18.40625 75.984375 \nL 18.40625 64.59375 \nL 9.421875 64.59375 \nz\n\" id=\"DejaVuSans-105\"/>\n     </defs>\n     <g transform=\"translate(149.196804 456.775)scale(0.1 -0.1)\">\n      <use xlink:href=\"#DejaVuSans-110\"/>\n      <use x=\"63.378906\" xlink:href=\"#DejaVuSans-98\"/>\n      <use x=\"126.855469\" xlink:href=\"#DejaVuSans-95\"/>\n      <use x=\"176.855469\" xlink:href=\"#DejaVuSans-99\"/>\n      <use x=\"231.835938\" xlink:href=\"#DejaVuSans-111\"/>\n      <use x=\"293.017578\" xlink:href=\"#DejaVuSans-109\"/>\n      <use x=\"390.429688\" xlink:href=\"#DejaVuSans-109\"/>\n      <use x=\"487.841797\" xlink:href=\"#DejaVuSans-111\"/>\n      <use x=\"549.023438\" xlink:href=\"#DejaVuSans-110\"/>\n      <use x=\"612.402344\" xlink:href=\"#DejaVuSans-95\"/>\n      <use x=\"662.402344\" xlink:href=\"#DejaVuSans-119\"/>\n      <use x=\"744.189453\" xlink:href=\"#DejaVuSans-111\"/>\n      <use x=\"805.371094\" xlink:href=\"#DejaVuSans-114\"/>\n      <use x=\"844.734375\" xlink:href=\"#DejaVuSans-100\"/>\n      <use x=\"908.210938\" xlink:href=\"#DejaVuSans-115\"/>\n      <use x=\"960.310547\" xlink:href=\"#DejaVuSans-47\"/>\n      <use x=\"994.001953\" xlink:href=\"#DejaVuSans-110\"/>\n      <use x=\"1057.380859\" xlink:href=\"#DejaVuSans-98\"/>\n      <use x=\"1120.857422\" xlink:href=\"#DejaVuSans-95\"/>\n      <use x=\"1170.857422\" xlink:href=\"#DejaVuSans-119\"/>\n      <use x=\"1252.644531\" xlink:href=\"#DejaVuSans-111\"/>\n      <use x=\"1313.826172\" xlink:href=\"#DejaVuSans-114\"/>\n      <use x=\"1353.189453\" xlink:href=\"#DejaVuSans-100\"/>\n      <use x=\"1416.666016\" xlink:href=\"#DejaVuSans-115\"/>\n      <use x=\"1468.765625\" xlink:href=\"#DejaVuSans-95\"/>\n      <use x=\"1518.765625\" xlink:href=\"#DejaVuSans-113\"/>\n      <use x=\"1582.242188\" xlink:href=\"#DejaVuSans-117\"/>\n      <use x=\"1645.621094\" xlink:href=\"#DejaVuSans-101\"/>\n      <use x=\"1707.144531\" xlink:href=\"#DejaVuSans-115\"/>\n      <use x=\"1759.244141\" xlink:href=\"#DejaVuSans-116\"/>\n      <use x=\"1798.453125\" xlink:href=\"#DejaVuSans-105\"/>\n      <use x=\"1826.236328\" xlink:href=\"#DejaVuSans-111\"/>\n      <use x=\"1887.417969\" xlink:href=\"#DejaVuSans-110\"/>\n      <use x=\"1950.796875\" xlink:href=\"#DejaVuSans-50\"/>\n     </g>\n    </g>\n   </g>\n   <g id=\"matplotlib.axis_2\">\n    <g id=\"ytick_1\">\n     <g id=\"line2d_7\">\n      <defs>\n       <path d=\"M 0 0 \nL -3.5 0 \n\" id=\"mcde268a202\" style=\"stroke:#000000;stroke-width:0.8;\"/>\n      </defs>\n      <g>\n       <use style=\"stroke:#000000;stroke-width:0.8;\" x=\"59.690625\" xlink:href=\"#mcde268a202\" y=\"428.498437\"/>\n      </g>\n     </g>\n     <g id=\"text_8\">\n      <!-- 0 -->\n      <g transform=\"translate(46.328125 432.297656)scale(0.1 -0.1)\">\n       <use xlink:href=\"#DejaVuSans-48\"/>\n      </g>\n     </g>\n    </g>\n    <g id=\"ytick_2\">\n     <g id=\"line2d_8\">\n      <g>\n       <use style=\"stroke:#000000;stroke-width:0.8;\" x=\"59.690625\" xlink:href=\"#mcde268a202\" y=\"357.33431\"/>\n      </g>\n     </g>\n     <g id=\"text_9\">\n      <!-- 5000 -->\n      <defs>\n       <path d=\"M 10.796875 72.90625 \nL 49.515625 72.90625 \nL 49.515625 64.59375 \nL 19.828125 64.59375 \nL 19.828125 46.734375 \nQ 21.96875 47.46875 24.109375 47.828125 \nQ 26.265625 48.1875 28.421875 48.1875 \nQ 40.625 48.1875 47.75 41.5 \nQ 54.890625 34.8125 54.890625 23.390625 \nQ 54.890625 11.625 47.5625 5.09375 \nQ 40.234375 -1.421875 26.90625 -1.421875 \nQ 22.3125 -1.421875 17.546875 -0.640625 \nQ 12.796875 0.140625 7.71875 1.703125 \nL 7.71875 11.625 \nQ 12.109375 9.234375 16.796875 8.0625 \nQ 21.484375 6.890625 26.703125 6.890625 \nQ 35.15625 6.890625 40.078125 11.328125 \nQ 45.015625 15.765625 45.015625 23.390625 \nQ 45.015625 31 40.078125 35.4375 \nQ 35.15625 39.890625 26.703125 39.890625 \nQ 22.75 39.890625 18.8125 39.015625 \nQ 14.890625 38.140625 10.796875 36.28125 \nz\n\" id=\"DejaVuSans-53\"/>\n      </defs>\n      <g transform=\"translate(27.240625 361.133528)scale(0.1 -0.1)\">\n       <use xlink:href=\"#DejaVuSans-53\"/>\n       <use x=\"63.623047\" xlink:href=\"#DejaVuSans-48\"/>\n       <use x=\"127.246094\" xlink:href=\"#DejaVuSans-48\"/>\n       <use x=\"190.869141\" xlink:href=\"#DejaVuSans-48\"/>\n      </g>\n     </g>\n    </g>\n    <g id=\"ytick_3\">\n     <g id=\"line2d_9\">\n      <g>\n       <use style=\"stroke:#000000;stroke-width:0.8;\" x=\"59.690625\" xlink:href=\"#mcde268a202\" y=\"286.170182\"/>\n      </g>\n     </g>\n     <g id=\"text_10\">\n      <!-- 10000 -->\n      <g transform=\"translate(20.878125 289.969401)scale(0.1 -0.1)\">\n       <use xlink:href=\"#DejaVuSans-49\"/>\n       <use x=\"63.623047\" xlink:href=\"#DejaVuSans-48\"/>\n       <use x=\"127.246094\" xlink:href=\"#DejaVuSans-48\"/>\n       <use x=\"190.869141\" xlink:href=\"#DejaVuSans-48\"/>\n       <use x=\"254.492188\" xlink:href=\"#DejaVuSans-48\"/>\n      </g>\n     </g>\n    </g>\n    <g id=\"ytick_4\">\n     <g id=\"line2d_10\">\n      <g>\n       <use style=\"stroke:#000000;stroke-width:0.8;\" x=\"59.690625\" xlink:href=\"#mcde268a202\" y=\"215.006054\"/>\n      </g>\n     </g>\n     <g id=\"text_11\">\n      <!-- 15000 -->\n      <g transform=\"translate(20.878125 218.805273)scale(0.1 -0.1)\">\n       <use xlink:href=\"#DejaVuSans-49\"/>\n       <use x=\"63.623047\" xlink:href=\"#DejaVuSans-53\"/>\n       <use x=\"127.246094\" xlink:href=\"#DejaVuSans-48\"/>\n       <use x=\"190.869141\" xlink:href=\"#DejaVuSans-48\"/>\n       <use x=\"254.492188\" xlink:href=\"#DejaVuSans-48\"/>\n      </g>\n     </g>\n    </g>\n    <g id=\"ytick_5\">\n     <g id=\"line2d_11\">\n      <g>\n       <use style=\"stroke:#000000;stroke-width:0.8;\" x=\"59.690625\" xlink:href=\"#mcde268a202\" y=\"143.841926\"/>\n      </g>\n     </g>\n     <g id=\"text_12\">\n      <!-- 20000 -->\n      <g transform=\"translate(20.878125 147.641145)scale(0.1 -0.1)\">\n       <use xlink:href=\"#DejaVuSans-50\"/>\n       <use x=\"63.623047\" xlink:href=\"#DejaVuSans-48\"/>\n       <use x=\"127.246094\" xlink:href=\"#DejaVuSans-48\"/>\n       <use x=\"190.869141\" xlink:href=\"#DejaVuSans-48\"/>\n       <use x=\"254.492188\" xlink:href=\"#DejaVuSans-48\"/>\n      </g>\n     </g>\n    </g>\n    <g id=\"ytick_6\">\n     <g id=\"line2d_12\">\n      <g>\n       <use style=\"stroke:#000000;stroke-width:0.8;\" x=\"59.690625\" xlink:href=\"#mcde268a202\" y=\"72.677798\"/>\n      </g>\n     </g>\n     <g id=\"text_13\">\n      <!-- 25000 -->\n      <g transform=\"translate(20.878125 76.477017)scale(0.1 -0.1)\">\n       <use xlink:href=\"#DejaVuSans-50\"/>\n       <use x=\"63.623047\" xlink:href=\"#DejaVuSans-53\"/>\n       <use x=\"127.246094\" xlink:href=\"#DejaVuSans-48\"/>\n       <use x=\"190.869141\" xlink:href=\"#DejaVuSans-48\"/>\n       <use x=\"254.492188\" xlink:href=\"#DejaVuSans-48\"/>\n      </g>\n     </g>\n    </g>\n    <g id=\"text_14\">\n     <!-- Nb -->\n     <defs>\n      <path d=\"M 9.8125 72.90625 \nL 23.09375 72.90625 \nL 55.421875 11.921875 \nL 55.421875 72.90625 \nL 64.984375 72.90625 \nL 64.984375 0 \nL 51.703125 0 \nL 19.390625 60.984375 \nL 19.390625 0 \nL 9.8125 0 \nz\n\" id=\"DejaVuSans-78\"/>\n     </defs>\n     <g transform=\"translate(14.798438 231.563281)rotate(-90)scale(0.1 -0.1)\">\n      <use xlink:href=\"#DejaVuSans-78\"/>\n      <use x=\"74.804688\" xlink:href=\"#DejaVuSans-98\"/>\n     </g>\n    </g>\n   </g>\n   <g id=\"patch_5\">\n    <path d=\"M 59.690625 428.498437 \nL 59.690625 20.798437 \n\" style=\"fill:none;stroke:#000000;stroke-linecap:square;stroke-linejoin:miter;stroke-width:0.8;\"/>\n   </g>\n   <g id=\"patch_6\">\n    <path d=\"M 440.14517 428.498437 \nL 440.14517 20.798437 \n\" style=\"fill:none;stroke:#000000;stroke-linecap:square;stroke-linejoin:miter;stroke-width:0.8;\"/>\n   </g>\n   <g id=\"patch_7\">\n    <path d=\"M 59.690625 428.498437 \nL 440.14517 428.498437 \n\" style=\"fill:none;stroke:#000000;stroke-linecap:square;stroke-linejoin:miter;stroke-width:0.8;\"/>\n   </g>\n   <g id=\"patch_8\">\n    <path d=\"M 59.690625 20.798437 \nL 440.14517 20.798437 \n\" style=\"fill:none;stroke:#000000;stroke-linecap:square;stroke-linejoin:miter;stroke-width:0.8;\"/>\n   </g>\n   <g id=\"text_15\">\n    <!-- AUC nb_common_words/nb_words_question2 : 0.725483 -->\n    <defs>\n     <path d=\"M 34.1875 63.1875 \nL 20.796875 26.90625 \nL 47.609375 26.90625 \nz\nM 28.609375 72.90625 \nL 39.796875 72.90625 \nL 67.578125 0 \nL 57.328125 0 \nL 50.6875 18.703125 \nL 17.828125 18.703125 \nL 11.1875 0 \nL 0.78125 0 \nz\n\" id=\"DejaVuSans-65\"/>\n     <path d=\"M 8.6875 72.90625 \nL 18.609375 72.90625 \nL 18.609375 28.609375 \nQ 18.609375 16.890625 22.84375 11.734375 \nQ 27.09375 6.59375 36.625 6.59375 \nQ 46.09375 6.59375 50.34375 11.734375 \nQ 54.59375 16.890625 54.59375 28.609375 \nL 54.59375 72.90625 \nL 64.5 72.90625 \nL 64.5 27.390625 \nQ 64.5 13.140625 57.4375 5.859375 \nQ 50.390625 -1.421875 36.625 -1.421875 \nQ 22.796875 -1.421875 15.734375 5.859375 \nQ 8.6875 13.140625 8.6875 27.390625 \nz\n\" id=\"DejaVuSans-85\"/>\n     <path d=\"M 64.40625 67.28125 \nL 64.40625 56.890625 \nQ 59.421875 61.53125 53.78125 63.8125 \nQ 48.140625 66.109375 41.796875 66.109375 \nQ 29.296875 66.109375 22.65625 58.46875 \nQ 16.015625 50.828125 16.015625 36.375 \nQ 16.015625 21.96875 22.65625 14.328125 \nQ 29.296875 6.6875 41.796875 6.6875 \nQ 48.140625 6.6875 53.78125 8.984375 \nQ 59.421875 11.28125 64.40625 15.921875 \nL 64.40625 5.609375 \nQ 59.234375 2.09375 53.4375 0.328125 \nQ 47.65625 -1.421875 41.21875 -1.421875 \nQ 24.65625 -1.421875 15.125 8.703125 \nQ 5.609375 18.84375 5.609375 36.375 \nQ 5.609375 53.953125 15.125 64.078125 \nQ 24.65625 74.21875 41.21875 74.21875 \nQ 47.75 74.21875 53.53125 72.484375 \nQ 59.328125 70.75 64.40625 67.28125 \nz\n\" id=\"DejaVuSans-67\"/>\n     <path id=\"DejaVuSans-32\"/>\n     <path d=\"M 11.71875 12.40625 \nL 22.015625 12.40625 \nL 22.015625 0 \nL 11.71875 0 \nz\nM 11.71875 51.703125 \nL 22.015625 51.703125 \nL 22.015625 39.3125 \nL 11.71875 39.3125 \nz\n\" id=\"DejaVuSans-58\"/>\n     <path d=\"M 8.203125 72.90625 \nL 55.078125 72.90625 \nL 55.078125 68.703125 \nL 28.609375 0 \nL 18.3125 0 \nL 43.21875 64.59375 \nL 8.203125 64.59375 \nz\n\" id=\"DejaVuSans-55\"/>\n     <path d=\"M 40.578125 39.3125 \nQ 47.65625 37.796875 51.625 33 \nQ 55.609375 28.21875 55.609375 21.1875 \nQ 55.609375 10.40625 48.1875 4.484375 \nQ 40.765625 -1.421875 27.09375 -1.421875 \nQ 22.515625 -1.421875 17.65625 -0.515625 \nQ 12.796875 0.390625 7.625 2.203125 \nL 7.625 11.71875 \nQ 11.71875 9.328125 16.59375 8.109375 \nQ 21.484375 6.890625 26.8125 6.890625 \nQ 36.078125 6.890625 40.9375 10.546875 \nQ 45.796875 14.203125 45.796875 21.1875 \nQ 45.796875 27.640625 41.28125 31.265625 \nQ 36.765625 34.90625 28.71875 34.90625 \nL 20.21875 34.90625 \nL 20.21875 43.015625 \nL 29.109375 43.015625 \nQ 36.375 43.015625 40.234375 45.921875 \nQ 44.09375 48.828125 44.09375 54.296875 \nQ 44.09375 59.90625 40.109375 62.90625 \nQ 36.140625 65.921875 28.71875 65.921875 \nQ 24.65625 65.921875 20.015625 65.03125 \nQ 15.375 64.15625 9.8125 62.3125 \nL 9.8125 71.09375 \nQ 15.4375 72.65625 20.34375 73.4375 \nQ 25.25 74.21875 29.59375 74.21875 \nQ 40.828125 74.21875 47.359375 69.109375 \nQ 53.90625 64.015625 53.90625 55.328125 \nQ 53.90625 49.265625 50.4375 45.09375 \nQ 46.96875 40.921875 40.578125 39.3125 \nz\n\" id=\"DejaVuSans-51\"/>\n    </defs>\n    <g transform=\"translate(108.316335 14.798437)scale(0.1 -0.1)\">\n     <use xlink:href=\"#DejaVuSans-65\"/>\n     <use x=\"68.408203\" xlink:href=\"#DejaVuSans-85\"/>\n     <use x=\"141.601562\" xlink:href=\"#DejaVuSans-67\"/>\n     <use x=\"211.425781\" xlink:href=\"#DejaVuSans-32\"/>\n     <use x=\"243.212891\" xlink:href=\"#DejaVuSans-110\"/>\n     <use x=\"306.591797\" xlink:href=\"#DejaVuSans-98\"/>\n     <use x=\"370.068359\" xlink:href=\"#DejaVuSans-95\"/>\n     <use x=\"420.068359\" xlink:href=\"#DejaVuSans-99\"/>\n     <use x=\"475.048828\" xlink:href=\"#DejaVuSans-111\"/>\n     <use x=\"536.230469\" xlink:href=\"#DejaVuSans-109\"/>\n     <use x=\"633.642578\" xlink:href=\"#DejaVuSans-109\"/>\n     <use x=\"731.054688\" xlink:href=\"#DejaVuSans-111\"/>\n     <use x=\"792.236328\" xlink:href=\"#DejaVuSans-110\"/>\n     <use x=\"855.615234\" xlink:href=\"#DejaVuSans-95\"/>\n     <use x=\"905.615234\" xlink:href=\"#DejaVuSans-119\"/>\n     <use x=\"987.402344\" xlink:href=\"#DejaVuSans-111\"/>\n     <use x=\"1048.583984\" xlink:href=\"#DejaVuSans-114\"/>\n     <use x=\"1087.947266\" xlink:href=\"#DejaVuSans-100\"/>\n     <use x=\"1151.423828\" xlink:href=\"#DejaVuSans-115\"/>\n     <use x=\"1203.523438\" xlink:href=\"#DejaVuSans-47\"/>\n     <use x=\"1237.214844\" xlink:href=\"#DejaVuSans-110\"/>\n     <use x=\"1300.59375\" xlink:href=\"#DejaVuSans-98\"/>\n     <use x=\"1364.070312\" xlink:href=\"#DejaVuSans-95\"/>\n     <use x=\"1414.070312\" xlink:href=\"#DejaVuSans-119\"/>\n     <use x=\"1495.857422\" xlink:href=\"#DejaVuSans-111\"/>\n     <use x=\"1557.039062\" xlink:href=\"#DejaVuSans-114\"/>\n     <use x=\"1596.402344\" xlink:href=\"#DejaVuSans-100\"/>\n     <use x=\"1659.878906\" xlink:href=\"#DejaVuSans-115\"/>\n     <use x=\"1711.978516\" xlink:href=\"#DejaVuSans-95\"/>\n     <use x=\"1761.978516\" xlink:href=\"#DejaVuSans-113\"/>\n     <use x=\"1825.455078\" xlink:href=\"#DejaVuSans-117\"/>\n     <use x=\"1888.833984\" xlink:href=\"#DejaVuSans-101\"/>\n     <use x=\"1950.357422\" xlink:href=\"#DejaVuSans-115\"/>\n     <use x=\"2002.457031\" xlink:href=\"#DejaVuSans-116\"/>\n     <use x=\"2041.666016\" xlink:href=\"#DejaVuSans-105\"/>\n     <use x=\"2069.449219\" xlink:href=\"#DejaVuSans-111\"/>\n     <use x=\"2130.630859\" xlink:href=\"#DejaVuSans-110\"/>\n     <use x=\"2194.009766\" xlink:href=\"#DejaVuSans-50\"/>\n     <use x=\"2257.632812\" xlink:href=\"#DejaVuSans-32\"/>\n     <use x=\"2289.419922\" xlink:href=\"#DejaVuSans-58\"/>\n     <use x=\"2323.111328\" xlink:href=\"#DejaVuSans-32\"/>\n     <use x=\"2354.898438\" xlink:href=\"#DejaVuSans-48\"/>\n     <use x=\"2418.521484\" xlink:href=\"#DejaVuSans-46\"/>\n     <use x=\"2450.308594\" xlink:href=\"#DejaVuSans-55\"/>\n     <use x=\"2513.931641\" xlink:href=\"#DejaVuSans-50\"/>\n     <use x=\"2577.554688\" xlink:href=\"#DejaVuSans-53\"/>\n     <use x=\"2641.177734\" xlink:href=\"#DejaVuSans-52\"/>\n     <use x=\"2704.800781\" xlink:href=\"#DejaVuSans-56\"/>\n     <use x=\"2768.423828\" xlink:href=\"#DejaVuSans-51\"/>\n    </g>\n   </g>\n   <g id=\"legend_1\">\n    <g id=\"patch_9\">\n     <path d=\"M 357.17642 58.154687 \nL 433.14517 58.154687 \nQ 435.14517 58.154687 435.14517 56.154687 \nL 435.14517 27.798437 \nQ 435.14517 25.798437 433.14517 25.798437 \nL 357.17642 25.798437 \nQ 355.17642 25.798437 355.17642 27.798437 \nL 355.17642 56.154687 \nQ 355.17642 58.154687 357.17642 58.154687 \nz\n\" style=\"fill:#ffffff;opacity:0.8;stroke:#cccccc;stroke-linejoin:miter;\"/>\n    </g>\n    <g id=\"patch_10\">\n     <path d=\"M 359.17642 37.396875 \nL 379.17642 37.396875 \nL 379.17642 30.396875 \nL 359.17642 30.396875 \nz\n\" style=\"fill:none;stroke:#d62728;stroke-linejoin:miter;\"/>\n    </g>\n    <g id=\"text_16\">\n     <!-- Same -->\n     <defs>\n      <path d=\"M 53.515625 70.515625 \nL 53.515625 60.890625 \nQ 47.90625 63.578125 42.921875 64.890625 \nQ 37.9375 66.21875 33.296875 66.21875 \nQ 25.25 66.21875 20.875 63.09375 \nQ 16.5 59.96875 16.5 54.203125 \nQ 16.5 49.359375 19.40625 46.890625 \nQ 22.3125 44.4375 30.421875 42.921875 \nL 36.375 41.703125 \nQ 47.40625 39.59375 52.65625 34.296875 \nQ 57.90625 29 57.90625 20.125 \nQ 57.90625 9.515625 50.796875 4.046875 \nQ 43.703125 -1.421875 29.984375 -1.421875 \nQ 24.8125 -1.421875 18.96875 -0.25 \nQ 13.140625 0.921875 6.890625 3.21875 \nL 6.890625 13.375 \nQ 12.890625 10.015625 18.65625 8.296875 \nQ 24.421875 6.59375 29.984375 6.59375 \nQ 38.421875 6.59375 43.015625 9.90625 \nQ 47.609375 13.234375 47.609375 19.390625 \nQ 47.609375 24.75 44.3125 27.78125 \nQ 41.015625 30.8125 33.5 32.328125 \nL 27.484375 33.5 \nQ 16.453125 35.6875 11.515625 40.375 \nQ 6.59375 45.0625 6.59375 53.421875 \nQ 6.59375 63.09375 13.40625 68.65625 \nQ 20.21875 74.21875 32.171875 74.21875 \nQ 37.3125 74.21875 42.625 73.28125 \nQ 47.953125 72.359375 53.515625 70.515625 \nz\n\" id=\"DejaVuSans-83\"/>\n      <path d=\"M 34.28125 27.484375 \nQ 23.390625 27.484375 19.1875 25 \nQ 14.984375 22.515625 14.984375 16.5 \nQ 14.984375 11.71875 18.140625 8.90625 \nQ 21.296875 6.109375 26.703125 6.109375 \nQ 34.1875 6.109375 38.703125 11.40625 \nQ 43.21875 16.703125 43.21875 25.484375 \nL 43.21875 27.484375 \nz\nM 52.203125 31.203125 \nL 52.203125 0 \nL 43.21875 0 \nL 43.21875 8.296875 \nQ 40.140625 3.328125 35.546875 0.953125 \nQ 30.953125 -1.421875 24.3125 -1.421875 \nQ 15.921875 -1.421875 10.953125 3.296875 \nQ 6 8.015625 6 15.921875 \nQ 6 25.140625 12.171875 29.828125 \nQ 18.359375 34.515625 30.609375 34.515625 \nL 43.21875 34.515625 \nL 43.21875 35.40625 \nQ 43.21875 41.609375 39.140625 45 \nQ 35.0625 48.390625 27.6875 48.390625 \nQ 23 48.390625 18.546875 47.265625 \nQ 14.109375 46.140625 10.015625 43.890625 \nL 10.015625 52.203125 \nQ 14.9375 54.109375 19.578125 55.046875 \nQ 24.21875 56 28.609375 56 \nQ 40.484375 56 46.34375 49.84375 \nQ 52.203125 43.703125 52.203125 31.203125 \nz\n\" id=\"DejaVuSans-97\"/>\n     </defs>\n     <g transform=\"translate(387.17642 37.396875)scale(0.1 -0.1)\">\n      <use xlink:href=\"#DejaVuSans-83\"/>\n      <use x=\"63.476562\" xlink:href=\"#DejaVuSans-97\"/>\n      <use x=\"124.755859\" xlink:href=\"#DejaVuSans-109\"/>\n      <use x=\"222.167969\" xlink:href=\"#DejaVuSans-101\"/>\n     </g>\n    </g>\n    <g id=\"patch_11\">\n     <path d=\"M 359.17642 52.075 \nL 379.17642 52.075 \nL 379.17642 45.075 \nL 359.17642 45.075 \nz\n\" style=\"fill:none;opacity:0.75;stroke:#2ca02c;stroke-linejoin:miter;\"/>\n    </g>\n    <g id=\"text_17\">\n     <!-- Different -->\n     <defs>\n      <path d=\"M 19.671875 64.796875 \nL 19.671875 8.109375 \nL 31.59375 8.109375 \nQ 46.6875 8.109375 53.6875 14.9375 \nQ 60.6875 21.78125 60.6875 36.53125 \nQ 60.6875 51.171875 53.6875 57.984375 \nQ 46.6875 64.796875 31.59375 64.796875 \nz\nM 9.8125 72.90625 \nL 30.078125 72.90625 \nQ 51.265625 72.90625 61.171875 64.09375 \nQ 71.09375 55.28125 71.09375 36.53125 \nQ 71.09375 17.671875 61.125 8.828125 \nQ 51.171875 0 30.078125 0 \nL 9.8125 0 \nz\n\" id=\"DejaVuSans-68\"/>\n      <path d=\"M 37.109375 75.984375 \nL 37.109375 68.5 \nL 28.515625 68.5 \nQ 23.6875 68.5 21.796875 66.546875 \nQ 19.921875 64.59375 19.921875 59.515625 \nL 19.921875 54.6875 \nL 34.71875 54.6875 \nL 34.71875 47.703125 \nL 19.921875 47.703125 \nL 19.921875 0 \nL 10.890625 0 \nL 10.890625 47.703125 \nL 2.296875 47.703125 \nL 2.296875 54.6875 \nL 10.890625 54.6875 \nL 10.890625 58.5 \nQ 10.890625 67.625 15.140625 71.796875 \nQ 19.390625 75.984375 28.609375 75.984375 \nz\n\" id=\"DejaVuSans-102\"/>\n     </defs>\n     <g transform=\"translate(387.17642 52.075)scale(0.1 -0.1)\">\n      <use xlink:href=\"#DejaVuSans-68\"/>\n      <use x=\"77.001953\" xlink:href=\"#DejaVuSans-105\"/>\n      <use x=\"104.785156\" xlink:href=\"#DejaVuSans-102\"/>\n      <use x=\"139.990234\" xlink:href=\"#DejaVuSans-102\"/>\n      <use x=\"175.195312\" xlink:href=\"#DejaVuSans-101\"/>\n      <use x=\"236.71875\" xlink:href=\"#DejaVuSans-114\"/>\n      <use x=\"275.582031\" xlink:href=\"#DejaVuSans-101\"/>\n      <use x=\"337.105469\" xlink:href=\"#DejaVuSans-110\"/>\n      <use x=\"400.484375\" xlink:href=\"#DejaVuSans-116\"/>\n     </g>\n    </g>\n   </g>\n  </g>\n  <g id=\"axes_2\">\n   <g id=\"patch_12\">\n    <path d=\"M 516.23608 428.498437 \nL 896.690625 428.498437 \nL 896.690625 20.798437 \nL 516.23608 20.798437 \nz\n\" style=\"fill:#ffffff;\"/>\n   </g>\n   <g id=\"patch_13\">\n    <path clip-path=\"url(#p68a339340e)\" d=\"M 533.529468 428.498437 \nL 533.529468 393.961607 \nL 536.988146 393.961607 \nL 536.988146 269.276059 \nL 540.446823 269.276059 \nL 540.446823 230.348592 \nL 543.905501 230.348592 \nL 543.905501 224.883742 \nL 547.364179 224.883742 \nL 547.364179 248.951249 \nL 550.822856 248.951249 \nL 550.822856 287.469492 \nL 554.281534 287.469492 \nL 554.281534 428.498437 \nL 557.740212 428.498437 \nL 557.740212 320.85538 \nL 561.198889 320.85538 \nL 561.198889 348.981029 \nL 564.657567 348.981029 \nL 564.657567 374.770689 \nL 568.116245 374.770689 \nL 568.116245 392.699831 \nL 571.574923 392.699831 \nL 571.574923 402.768456 \nL 575.0336 402.768456 \nL 575.0336 428.498437 \nL 578.492278 428.498437 \nL 578.492278 410.347632 \nL 581.950956 410.347632 \nL 581.950956 416.673559 \nL 585.409633 416.673559 \nL 585.409633 420.296899 \nL 588.868311 420.296899 \nL 588.868311 423.647424 \nL 592.326989 423.647424 \nL 592.326989 425.088234 \nL 595.785666 425.088234 \nL 595.785666 428.498437 \nL 599.244344 428.498437 \nL 599.244344 425.906683 \nL 602.703022 425.906683 \nL 602.703022 426.776285 \nL 606.161699 426.776285 \nL 606.161699 427.211086 \nL 609.620377 427.211086 \nL 609.620377 427.543581 \nL 613.079055 427.543581 \nL 613.079055 428.072162 \nL 616.537732 428.072162 \nL 616.537732 428.498437 \nL 619.99641 428.498437 \nL 619.99641 428.276774 \nL 623.455088 428.276774 \nL 623.455088 428.362029 \nL 626.913765 428.362029 \nL 626.913765 428.370555 \nL 630.372443 428.370555 \nL 630.372443 428.447284 \nL 633.831121 428.447284 \nL 633.831121 428.489912 \nL 637.289799 428.489912 \nL 637.289799 428.498437 \nL 640.748476 428.498437 \nL 640.748476 428.498437 \nL 644.207154 428.498437 \nL 644.207154 428.489912 \nL 647.665832 428.489912 \nL 647.665832 428.489912 \nL 651.124509 428.489912 \nL 651.124509 428.489912 \nL 654.583187 428.489912 \nL 654.583187 428.489912 \nL 658.041865 428.489912 \nL 658.041865 428.498437 \nL 661.500542 428.498437 \nL 661.500542 428.498437 \nL 664.95922 428.498437 \nL 664.95922 428.498437 \nL 668.417898 428.498437 \nL 668.417898 428.498437 \nL 671.876575 428.498437 \nL 671.876575 428.498437 \nL 675.335253 428.498437 \nL 675.335253 428.481386 \nL 678.793931 428.481386 \nL 678.793931 428.498437 \nL 682.252608 428.498437 \nL 682.252608 428.498437 \nL 685.711286 428.498437 \nL 685.711286 428.498437 \nL 689.169964 428.498437 \nL 689.169964 428.498437 \nL 692.628642 428.498437 \nL 692.628642 428.498437 \nL 696.087319 428.498437 \nL 696.087319 428.498437 \nL 699.545997 428.498437 \nL 699.545997 428.498437 \nL 703.004675 428.498437 \nL 703.004675 428.489912 \nL 706.463352 428.489912 \nL 706.463352 428.498437 \n\" style=\"fill:none;stroke:#d62728;stroke-linejoin:miter;\"/>\n   </g>\n   <g id=\"patch_14\">\n    <path clip-path=\"url(#p68a339340e)\" d=\"M 533.529468 428.498437 \nL 533.529468 222.914349 \nL 540.446823 222.914349 \nL 540.446823 75.68736 \nL 547.364179 75.68736 \nL 547.364179 40.212723 \nL 554.281534 40.212723 \nL 554.281534 241.66194 \nL 561.198889 241.66194 \nL 561.198889 99.320067 \nL 568.116245 99.320067 \nL 568.116245 193.458721 \nL 575.0336 193.458721 \nL 575.0336 341.120511 \nL 581.950956 341.120511 \nL 581.950956 300.155447 \nL 588.868311 300.155447 \nL 588.868311 341.060832 \nL 595.785666 341.060832 \nL 595.785666 396.374325 \nL 602.703022 396.374325 \nL 602.703022 377.106678 \nL 609.620377 377.106678 \nL 609.620377 393.51828 \nL 616.537732 393.51828 \nL 616.537732 415.667549 \nL 623.455088 415.667549 \nL 623.455088 410.023663 \nL 630.372443 410.023663 \nL 630.372443 418.259303 \nL 637.289799 418.259303 \nL 637.289799 425.037081 \nL 644.207154 425.037081 \nL 644.207154 424.610806 \nL 651.124509 424.610806 \nL 651.124509 426.529045 \nL 658.041865 426.529045 \nL 658.041865 427.688514 \nL 664.95922 427.688514 \nL 664.95922 427.543581 \nL 671.876575 427.543581 \nL 671.876575 427.679989 \nL 678.793931 427.679989 \nL 678.793931 428.182994 \nL 685.711286 428.182994 \nL 685.711286 428.080688 \nL 692.628642 428.080688 \nL 692.628642 428.217096 \nL 699.545997 428.217096 \nL 699.545997 428.404657 \nL 706.463352 428.404657 \nL 706.463352 428.413182 \nL 713.380708 428.413182 \nL 713.380708 428.387606 \nL 720.298063 428.387606 \nL 720.298063 428.438759 \nL 727.215418 428.438759 \nL 727.215418 428.489912 \nL 734.132774 428.489912 \nL 734.132774 428.489912 \nL 741.050129 428.489912 \nL 741.050129 428.498437 \nL 747.967485 428.498437 \nL 747.967485 428.489912 \nL 754.88484 428.489912 \nL 754.88484 428.498437 \nL 761.802195 428.498437 \nL 761.802195 428.498437 \nL 768.719551 428.498437 \nL 768.719551 428.498437 \nL 775.636906 428.498437 \nL 775.636906 428.498437 \nL 782.554261 428.498437 \nL 782.554261 428.498437 \nL 789.471617 428.498437 \nL 789.471617 428.498437 \nL 796.388972 428.498437 \nL 796.388972 428.498437 \nL 803.306327 428.498437 \nL 803.306327 428.498437 \nL 810.223683 428.498437 \nL 810.223683 428.498437 \nL 817.141038 428.498437 \nL 817.141038 428.498437 \nL 824.058394 428.498437 \nL 824.058394 428.498437 \nL 830.975749 428.498437 \nL 830.975749 428.498437 \nL 837.893104 428.498437 \nL 837.893104 428.498437 \nL 844.81046 428.498437 \nL 844.81046 428.498437 \nL 851.727815 428.498437 \nL 851.727815 428.498437 \nL 858.64517 428.498437 \nL 858.64517 428.498437 \nL 865.562526 428.498437 \nL 865.562526 428.498437 \nL 872.479881 428.498437 \nL 872.479881 428.489912 \nL 879.397237 428.489912 \nL 879.397237 428.498437 \n\" style=\"fill:none;opacity:0.75;stroke:#2ca02c;stroke-linejoin:miter;\"/>\n   </g>\n   <g id=\"matplotlib.axis_3\">\n    <g id=\"xtick_7\">\n     <g id=\"line2d_13\">\n      <g>\n       <use style=\"stroke:#000000;stroke-width:0.8;\" x=\"533.529468\" xlink:href=\"#ma4197f90d2\" y=\"428.498437\"/>\n      </g>\n     </g>\n     <g id=\"text_18\">\n      <!-- 0 -->\n      <g transform=\"translate(530.348218 443.096875)scale(0.1 -0.1)\">\n       <use xlink:href=\"#DejaVuSans-48\"/>\n      </g>\n     </g>\n    </g>\n    <g id=\"xtick_8\">\n     <g id=\"line2d_14\">\n      <g>\n       <use style=\"stroke:#000000;stroke-width:0.8;\" x=\"615.878937\" xlink:href=\"#ma4197f90d2\" y=\"428.498437\"/>\n      </g>\n     </g>\n     <g id=\"text_19\">\n      <!-- 20 -->\n      <g transform=\"translate(609.516437 443.096875)scale(0.1 -0.1)\">\n       <use xlink:href=\"#DejaVuSans-50\"/>\n       <use x=\"63.623047\" xlink:href=\"#DejaVuSans-48\"/>\n      </g>\n     </g>\n    </g>\n    <g id=\"xtick_9\">\n     <g id=\"line2d_15\">\n      <g>\n       <use style=\"stroke:#000000;stroke-width:0.8;\" x=\"698.228405\" xlink:href=\"#ma4197f90d2\" y=\"428.498437\"/>\n      </g>\n     </g>\n     <g id=\"text_20\">\n      <!-- 40 -->\n      <g transform=\"translate(691.865905 443.096875)scale(0.1 -0.1)\">\n       <use xlink:href=\"#DejaVuSans-52\"/>\n       <use x=\"63.623047\" xlink:href=\"#DejaVuSans-48\"/>\n      </g>\n     </g>\n    </g>\n    <g id=\"xtick_10\">\n     <g id=\"line2d_16\">\n      <g>\n       <use style=\"stroke:#000000;stroke-width:0.8;\" x=\"780.577874\" xlink:href=\"#ma4197f90d2\" y=\"428.498437\"/>\n      </g>\n     </g>\n     <g id=\"text_21\">\n      <!-- 60 -->\n      <g transform=\"translate(774.215374 443.096875)scale(0.1 -0.1)\">\n       <use xlink:href=\"#DejaVuSans-54\"/>\n       <use x=\"63.623047\" xlink:href=\"#DejaVuSans-48\"/>\n      </g>\n     </g>\n    </g>\n    <g id=\"xtick_11\">\n     <g id=\"line2d_17\">\n      <g>\n       <use style=\"stroke:#000000;stroke-width:0.8;\" x=\"862.927343\" xlink:href=\"#ma4197f90d2\" y=\"428.498437\"/>\n      </g>\n     </g>\n     <g id=\"text_22\">\n      <!-- 80 -->\n      <g transform=\"translate(856.564843 443.096875)scale(0.1 -0.1)\">\n       <use xlink:href=\"#DejaVuSans-56\"/>\n       <use x=\"63.623047\" xlink:href=\"#DejaVuSans-48\"/>\n      </g>\n     </g>\n    </g>\n    <g id=\"text_23\">\n     <!-- nb_words_question1-common_words -->\n     <defs>\n      <path d=\"M 4.890625 31.390625 \nL 31.203125 31.390625 \nL 31.203125 23.390625 \nL 4.890625 23.390625 \nz\n\" id=\"DejaVuSans-45\"/>\n     </defs>\n     <g transform=\"translate(614.465696 456.775)scale(0.1 -0.1)\">\n      <use xlink:href=\"#DejaVuSans-110\"/>\n      <use x=\"63.378906\" xlink:href=\"#DejaVuSans-98\"/>\n      <use x=\"126.855469\" xlink:href=\"#DejaVuSans-95\"/>\n      <use x=\"176.855469\" xlink:href=\"#DejaVuSans-119\"/>\n      <use x=\"258.642578\" xlink:href=\"#DejaVuSans-111\"/>\n      <use x=\"319.824219\" xlink:href=\"#DejaVuSans-114\"/>\n      <use x=\"359.1875\" xlink:href=\"#DejaVuSans-100\"/>\n      <use x=\"422.664062\" xlink:href=\"#DejaVuSans-115\"/>\n      <use x=\"474.763672\" xlink:href=\"#DejaVuSans-95\"/>\n      <use x=\"524.763672\" xlink:href=\"#DejaVuSans-113\"/>\n      <use x=\"588.240234\" xlink:href=\"#DejaVuSans-117\"/>\n      <use x=\"651.619141\" xlink:href=\"#DejaVuSans-101\"/>\n      <use x=\"713.142578\" xlink:href=\"#DejaVuSans-115\"/>\n      <use x=\"765.242188\" xlink:href=\"#DejaVuSans-116\"/>\n      <use x=\"804.451172\" xlink:href=\"#DejaVuSans-105\"/>\n      <use x=\"832.234375\" xlink:href=\"#DejaVuSans-111\"/>\n      <use x=\"893.416016\" xlink:href=\"#DejaVuSans-110\"/>\n      <use x=\"956.794922\" xlink:href=\"#DejaVuSans-49\"/>\n      <use x=\"1020.417969\" xlink:href=\"#DejaVuSans-45\"/>\n      <use x=\"1056.501953\" xlink:href=\"#DejaVuSans-99\"/>\n      <use x=\"1111.482422\" xlink:href=\"#DejaVuSans-111\"/>\n      <use x=\"1172.664062\" xlink:href=\"#DejaVuSans-109\"/>\n      <use x=\"1270.076172\" xlink:href=\"#DejaVuSans-109\"/>\n      <use x=\"1367.488281\" xlink:href=\"#DejaVuSans-111\"/>\n      <use x=\"1428.669922\" xlink:href=\"#DejaVuSans-110\"/>\n      <use x=\"1492.048828\" xlink:href=\"#DejaVuSans-95\"/>\n      <use x=\"1542.048828\" xlink:href=\"#DejaVuSans-119\"/>\n      <use x=\"1623.835938\" xlink:href=\"#DejaVuSans-111\"/>\n      <use x=\"1685.017578\" xlink:href=\"#DejaVuSans-114\"/>\n      <use x=\"1724.380859\" xlink:href=\"#DejaVuSans-100\"/>\n      <use x=\"1787.857422\" xlink:href=\"#DejaVuSans-115\"/>\n     </g>\n    </g>\n   </g>\n   <g id=\"matplotlib.axis_4\">\n    <g id=\"ytick_7\">\n     <g id=\"line2d_18\">\n      <g>\n       <use style=\"stroke:#000000;stroke-width:0.8;\" x=\"516.23608\" xlink:href=\"#mcde268a202\" y=\"428.498437\"/>\n      </g>\n     </g>\n     <g id=\"text_24\">\n      <!-- 0 -->\n      <g transform=\"translate(502.87358 432.297656)scale(0.1 -0.1)\">\n       <use xlink:href=\"#DejaVuSans-48\"/>\n      </g>\n     </g>\n    </g>\n    <g id=\"ytick_8\">\n     <g id=\"line2d_19\">\n      <g>\n       <use style=\"stroke:#000000;stroke-width:0.8;\" x=\"516.23608\" xlink:href=\"#mcde268a202\" y=\"343.243362\"/>\n      </g>\n     </g>\n     <g id=\"text_25\">\n      <!-- 10000 -->\n      <g transform=\"translate(477.42358 347.042581)scale(0.1 -0.1)\">\n       <use xlink:href=\"#DejaVuSans-49\"/>\n       <use x=\"63.623047\" xlink:href=\"#DejaVuSans-48\"/>\n       <use x=\"127.246094\" xlink:href=\"#DejaVuSans-48\"/>\n       <use x=\"190.869141\" xlink:href=\"#DejaVuSans-48\"/>\n       <use x=\"254.492188\" xlink:href=\"#DejaVuSans-48\"/>\n      </g>\n     </g>\n    </g>\n    <g id=\"ytick_9\">\n     <g id=\"line2d_20\">\n      <g>\n       <use style=\"stroke:#000000;stroke-width:0.8;\" x=\"516.23608\" xlink:href=\"#mcde268a202\" y=\"257.988287\"/>\n      </g>\n     </g>\n     <g id=\"text_26\">\n      <!-- 20000 -->\n      <g transform=\"translate(477.42358 261.787506)scale(0.1 -0.1)\">\n       <use xlink:href=\"#DejaVuSans-50\"/>\n       <use x=\"63.623047\" xlink:href=\"#DejaVuSans-48\"/>\n       <use x=\"127.246094\" xlink:href=\"#DejaVuSans-48\"/>\n       <use x=\"190.869141\" xlink:href=\"#DejaVuSans-48\"/>\n       <use x=\"254.492188\" xlink:href=\"#DejaVuSans-48\"/>\n      </g>\n     </g>\n    </g>\n    <g id=\"ytick_10\">\n     <g id=\"line2d_21\">\n      <g>\n       <use style=\"stroke:#000000;stroke-width:0.8;\" x=\"516.23608\" xlink:href=\"#mcde268a202\" y=\"172.733212\"/>\n      </g>\n     </g>\n     <g id=\"text_27\">\n      <!-- 30000 -->\n      <g transform=\"translate(477.42358 176.532431)scale(0.1 -0.1)\">\n       <use xlink:href=\"#DejaVuSans-51\"/>\n       <use x=\"63.623047\" xlink:href=\"#DejaVuSans-48\"/>\n       <use x=\"127.246094\" xlink:href=\"#DejaVuSans-48\"/>\n       <use x=\"190.869141\" xlink:href=\"#DejaVuSans-48\"/>\n       <use x=\"254.492188\" xlink:href=\"#DejaVuSans-48\"/>\n      </g>\n     </g>\n    </g>\n    <g id=\"ytick_11\">\n     <g id=\"line2d_22\">\n      <g>\n       <use style=\"stroke:#000000;stroke-width:0.8;\" x=\"516.23608\" xlink:href=\"#mcde268a202\" y=\"87.478137\"/>\n      </g>\n     </g>\n     <g id=\"text_28\">\n      <!-- 40000 -->\n      <g transform=\"translate(477.42358 91.277356)scale(0.1 -0.1)\">\n       <use xlink:href=\"#DejaVuSans-52\"/>\n       <use x=\"63.623047\" xlink:href=\"#DejaVuSans-48\"/>\n       <use x=\"127.246094\" xlink:href=\"#DejaVuSans-48\"/>\n       <use x=\"190.869141\" xlink:href=\"#DejaVuSans-48\"/>\n       <use x=\"254.492188\" xlink:href=\"#DejaVuSans-48\"/>\n      </g>\n     </g>\n    </g>\n    <g id=\"text_29\">\n     <!-- Nb -->\n     <g transform=\"translate(471.343892 231.563281)rotate(-90)scale(0.1 -0.1)\">\n      <use xlink:href=\"#DejaVuSans-78\"/>\n      <use x=\"74.804688\" xlink:href=\"#DejaVuSans-98\"/>\n     </g>\n    </g>\n   </g>\n   <g id=\"patch_15\">\n    <path d=\"M 516.23608 428.498437 \nL 516.23608 20.798437 \n\" style=\"fill:none;stroke:#000000;stroke-linecap:square;stroke-linejoin:miter;stroke-width:0.8;\"/>\n   </g>\n   <g id=\"patch_16\">\n    <path d=\"M 896.690625 428.498437 \nL 896.690625 20.798437 \n\" style=\"fill:none;stroke:#000000;stroke-linecap:square;stroke-linejoin:miter;stroke-width:0.8;\"/>\n   </g>\n   <g id=\"patch_17\">\n    <path d=\"M 516.23608 428.498437 \nL 896.690625 428.498437 \n\" style=\"fill:none;stroke:#000000;stroke-linecap:square;stroke-linejoin:miter;stroke-width:0.8;\"/>\n   </g>\n   <g id=\"patch_18\">\n    <path d=\"M 516.23608 20.798437 \nL 896.690625 20.798437 \n\" style=\"fill:none;stroke:#000000;stroke-linecap:square;stroke-linejoin:miter;stroke-width:0.8;\"/>\n   </g>\n   <g id=\"text_30\">\n    <!-- AUC nb_words_question1-common_words : 0.320685 -->\n    <g transform=\"translate(573.585227 14.798437)scale(0.1 -0.1)\">\n     <use xlink:href=\"#DejaVuSans-65\"/>\n     <use x=\"68.408203\" xlink:href=\"#DejaVuSans-85\"/>\n     <use x=\"141.601562\" xlink:href=\"#DejaVuSans-67\"/>\n     <use x=\"211.425781\" xlink:href=\"#DejaVuSans-32\"/>\n     <use x=\"243.212891\" xlink:href=\"#DejaVuSans-110\"/>\n     <use x=\"306.591797\" xlink:href=\"#DejaVuSans-98\"/>\n     <use x=\"370.068359\" xlink:href=\"#DejaVuSans-95\"/>\n     <use x=\"420.068359\" xlink:href=\"#DejaVuSans-119\"/>\n     <use x=\"501.855469\" xlink:href=\"#DejaVuSans-111\"/>\n     <use x=\"563.037109\" xlink:href=\"#DejaVuSans-114\"/>\n     <use x=\"602.400391\" xlink:href=\"#DejaVuSans-100\"/>\n     <use x=\"665.876953\" xlink:href=\"#DejaVuSans-115\"/>\n     <use x=\"717.976562\" xlink:href=\"#DejaVuSans-95\"/>\n     <use x=\"767.976562\" xlink:href=\"#DejaVuSans-113\"/>\n     <use x=\"831.453125\" xlink:href=\"#DejaVuSans-117\"/>\n     <use x=\"894.832031\" xlink:href=\"#DejaVuSans-101\"/>\n     <use x=\"956.355469\" xlink:href=\"#DejaVuSans-115\"/>\n     <use x=\"1008.455078\" xlink:href=\"#DejaVuSans-116\"/>\n     <use x=\"1047.664062\" xlink:href=\"#DejaVuSans-105\"/>\n     <use x=\"1075.447266\" xlink:href=\"#DejaVuSans-111\"/>\n     <use x=\"1136.628906\" xlink:href=\"#DejaVuSans-110\"/>\n     <use x=\"1200.007812\" xlink:href=\"#DejaVuSans-49\"/>\n     <use x=\"1263.630859\" xlink:href=\"#DejaVuSans-45\"/>\n     <use x=\"1299.714844\" xlink:href=\"#DejaVuSans-99\"/>\n     <use x=\"1354.695312\" xlink:href=\"#DejaVuSans-111\"/>\n     <use x=\"1415.876953\" xlink:href=\"#DejaVuSans-109\"/>\n     <use x=\"1513.289062\" xlink:href=\"#DejaVuSans-109\"/>\n     <use x=\"1610.701172\" xlink:href=\"#DejaVuSans-111\"/>\n     <use x=\"1671.882812\" xlink:href=\"#DejaVuSans-110\"/>\n     <use x=\"1735.261719\" xlink:href=\"#DejaVuSans-95\"/>\n     <use x=\"1785.261719\" xlink:href=\"#DejaVuSans-119\"/>\n     <use x=\"1867.048828\" xlink:href=\"#DejaVuSans-111\"/>\n     <use x=\"1928.230469\" xlink:href=\"#DejaVuSans-114\"/>\n     <use x=\"1967.59375\" xlink:href=\"#DejaVuSans-100\"/>\n     <use x=\"2031.070312\" xlink:href=\"#DejaVuSans-115\"/>\n     <use x=\"2083.169922\" xlink:href=\"#DejaVuSans-32\"/>\n     <use x=\"2114.957031\" xlink:href=\"#DejaVuSans-58\"/>\n     <use x=\"2148.648438\" xlink:href=\"#DejaVuSans-32\"/>\n     <use x=\"2180.435547\" xlink:href=\"#DejaVuSans-48\"/>\n     <use x=\"2244.058594\" xlink:href=\"#DejaVuSans-46\"/>\n     <use x=\"2275.845703\" xlink:href=\"#DejaVuSans-51\"/>\n     <use x=\"2339.46875\" xlink:href=\"#DejaVuSans-50\"/>\n     <use x=\"2403.091797\" xlink:href=\"#DejaVuSans-48\"/>\n     <use x=\"2466.714844\" xlink:href=\"#DejaVuSans-54\"/>\n     <use x=\"2530.337891\" xlink:href=\"#DejaVuSans-56\"/>\n     <use x=\"2593.960938\" xlink:href=\"#DejaVuSans-53\"/>\n    </g>\n   </g>\n   <g id=\"legend_2\">\n    <g id=\"patch_19\">\n     <path d=\"M 813.721875 58.154687 \nL 889.690625 58.154687 \nQ 891.690625 58.154687 891.690625 56.154687 \nL 891.690625 27.798437 \nQ 891.690625 25.798437 889.690625 25.798437 \nL 813.721875 25.798437 \nQ 811.721875 25.798437 811.721875 27.798437 \nL 811.721875 56.154687 \nQ 811.721875 58.154687 813.721875 58.154687 \nz\n\" style=\"fill:#ffffff;opacity:0.8;stroke:#cccccc;stroke-linejoin:miter;\"/>\n    </g>\n    <g id=\"patch_20\">\n     <path d=\"M 815.721875 37.396875 \nL 835.721875 37.396875 \nL 835.721875 30.396875 \nL 815.721875 30.396875 \nz\n\" style=\"fill:none;stroke:#d62728;stroke-linejoin:miter;\"/>\n    </g>\n    <g id=\"text_31\">\n     <!-- Same -->\n     <g transform=\"translate(843.721875 37.396875)scale(0.1 -0.1)\">\n      <use xlink:href=\"#DejaVuSans-83\"/>\n      <use x=\"63.476562\" xlink:href=\"#DejaVuSans-97\"/>\n      <use x=\"124.755859\" xlink:href=\"#DejaVuSans-109\"/>\n      <use x=\"222.167969\" xlink:href=\"#DejaVuSans-101\"/>\n     </g>\n    </g>\n    <g id=\"patch_21\">\n     <path d=\"M 815.721875 52.075 \nL 835.721875 52.075 \nL 835.721875 45.075 \nL 815.721875 45.075 \nz\n\" style=\"fill:none;opacity:0.75;stroke:#2ca02c;stroke-linejoin:miter;\"/>\n    </g>\n    <g id=\"text_32\">\n     <!-- Different -->\n     <g transform=\"translate(843.721875 52.075)scale(0.1 -0.1)\">\n      <use xlink:href=\"#DejaVuSans-68\"/>\n      <use x=\"77.001953\" xlink:href=\"#DejaVuSans-105\"/>\n      <use x=\"104.785156\" xlink:href=\"#DejaVuSans-102\"/>\n      <use x=\"139.990234\" xlink:href=\"#DejaVuSans-102\"/>\n      <use x=\"175.195312\" xlink:href=\"#DejaVuSans-101\"/>\n      <use x=\"236.71875\" xlink:href=\"#DejaVuSans-114\"/>\n      <use x=\"275.582031\" xlink:href=\"#DejaVuSans-101\"/>\n      <use x=\"337.105469\" xlink:href=\"#DejaVuSans-110\"/>\n      <use x=\"400.484375\" xlink:href=\"#DejaVuSans-116\"/>\n     </g>\n    </g>\n   </g>\n  </g>\n </g>\n <defs>\n  <clipPath id=\"p5eda5d3634\">\n   <rect height=\"407.7\" width=\"380.454545\" x=\"59.690625\" y=\"20.798437\"/>\n  </clipPath>\n  <clipPath id=\"p68a339340e\">\n   <rect height=\"407.7\" width=\"380.454545\" x=\"516.23608\" y=\"20.798437\"/>\n  </clipPath>\n </defs>\n</svg>\n",
      "image/png": "[encoded data removed]"
     },
     "metadata": {
      "needs_background": "light"
     }
    },
    {
     "output_type": "display_data",
     "data": {
      "text/plain": "<Figure size 1080x540 with 2 Axes>",
      "image/svg+xml": "<?xml version=\"1.0\" encoding=\"utf-8\" standalone=\"no\"?>\n<!DOCTYPE svg PUBLIC \"-//W3C//DTD SVG 1.1//EN\"\n  \"http://www.w3.org/Graphics/SVG/1.1/DTD/svg11.dtd\">\n<!-- Created with matplotlib (https://matplotlib.org/) -->\n<svg height=\"466.332812pt\" version=\"1.1\" viewBox=\"0 0 914.377415 466.332812\" width=\"914.377415pt\" xmlns=\"http://www.w3.org/2000/svg\" xmlns:xlink=\"http://www.w3.org/1999/xlink\">\n <defs>\n  <style type=\"text/css\">\n*{stroke-linecap:butt;stroke-linejoin:round;}\n  </style>\n </defs>\n <g id=\"figure_1\">\n  <g id=\"patch_1\">\n   <path d=\"M 0 466.332812 \nL 914.377415 466.332812 \nL 914.377415 0 \nL 0 0 \nz\n\" style=\"fill:none;\"/>\n  </g>\n  <g id=\"axes_1\">\n   <g id=\"patch_2\">\n    <path d=\"M 59.690625 428.498437 \nL 440.14517 428.498437 \nL 440.14517 20.798437 \nL 59.690625 20.798437 \nz\n\" style=\"fill:#ffffff;\"/>\n   </g>\n   <g id=\"patch_3\">\n    <path clip-path=\"url(#p7c4a8511f0)\" d=\"M 76.984013 428.498437 \nL 76.984013 404.548865 \nL 78.572443 404.548865 \nL 78.572443 317.748398 \nL 80.160873 317.748398 \nL 80.160873 428.498437 \nL 81.749303 428.498437 \nL 81.749303 294.718397 \nL 83.337732 294.718397 \nL 83.337732 290.848053 \nL 84.926162 290.848053 \nL 84.926162 428.498437 \nL 86.514592 428.498437 \nL 86.514592 307.394501 \nL 88.103022 307.394501 \nL 88.103022 428.498437 \nL 89.691451 428.498437 \nL 89.691451 332.269464 \nL 91.279881 332.269464 \nL 91.279881 354.8164 \nL 92.868311 354.8164 \nL 92.868311 428.498437 \nL 94.456741 428.498437 \nL 94.456741 374.587165 \nL 96.04517 374.587165 \nL 96.04517 390.87753 \nL 97.6336 390.87753 \nL 97.6336 428.498437 \nL 99.22203 428.498437 \nL 99.22203 403.623475 \nL 100.81046 403.623475 \nL 100.81046 428.498437 \nL 102.398889 428.498437 \nL 102.398889 411.323422 \nL 103.987319 411.323422 \nL 103.987319 416.258838 \nL 105.575749 416.258838 \nL 105.575749 428.498437 \nL 107.164179 428.498437 \nL 107.164179 419.94876 \nL 108.752608 419.94876 \nL 108.752608 423.155617 \nL 110.341038 423.155617 \nL 110.341038 428.498437 \nL 111.929468 428.498437 \nL 111.929468 424.680474 \nL 113.517898 424.680474 \nL 113.517898 428.498437 \nL 115.106327 428.498437 \nL 115.106327 425.978349 \nL 116.694757 425.978349 \nL 116.694757 426.589456 \nL 118.283187 426.589456 \nL 118.283187 428.498437 \nL 119.871617 428.498437 \nL 119.871617 427.159822 \nL 121.460046 427.159822 \nL 121.460046 428.498437 \nL 123.048476 428.498437 \nL 123.048476 427.567227 \nL 124.636906 427.567227 \nL 124.636906 428.027012 \nL 126.225336 428.027012 \nL 126.225336 428.498437 \nL 127.813765 428.498437 \nL 127.813765 428.201614 \nL 129.402195 428.201614 \nL 129.402195 428.201614 \nL 130.990625 428.201614 \nL 130.990625 428.498437 \nL 132.579055 428.498437 \nL 132.579055 428.405316 \nL 134.167485 428.405316 \nL 134.167485 428.498437 \nL 135.755914 428.498437 \nL 135.755914 428.440237 \nL 137.344344 428.440237 \nL 137.344344 428.475157 \nL 138.932774 428.475157 \nL 138.932774 428.498437 \nL 140.521204 428.498437 \nL 140.521204 428.475157 \nL 142.109633 428.475157 \nL 142.109633 428.463517 \nL 143.698063 428.463517 \nL 143.698063 428.498437 \nL 145.286493 428.498437 \nL 145.286493 428.480977 \nL 146.874923 428.480977 \nL 146.874923 428.498437 \nL 148.463352 428.498437 \nL 148.463352 428.486797 \nL 150.051782 428.486797 \nL 150.051782 428.492617 \nL 151.640212 428.492617 \nL 151.640212 428.498437 \nL 153.228642 428.498437 \nL 153.228642 428.492617 \nL 154.817071 428.492617 \nL 154.817071 428.492617 \nL 156.405501 428.492617 \nL 156.405501 428.498437 \n\" style=\"fill:none;stroke:#d62728;stroke-linejoin:miter;\"/>\n   </g>\n   <g id=\"patch_4\">\n    <path clip-path=\"url(#p7c4a8511f0)\" d=\"M 76.984013 428.498437 \nL 76.984013 167.875875 \nL 83.901369 167.875875 \nL 83.901369 40.212723 \nL 90.818724 40.212723 \nL 90.818724 84.055282 \nL 97.73608 84.055282 \nL 97.73608 279.690986 \nL 104.653435 279.690986 \nL 104.653435 292.693014 \nL 111.57079 292.693014 \nL 111.57079 349.723842 \nL 118.488146 349.723842 \nL 118.488146 390.609807 \nL 125.405501 390.609807 \nL 125.405501 385.313547 \nL 132.322856 385.313547 \nL 132.322856 404.001779 \nL 139.240212 404.001779 \nL 139.240212 420.594788 \nL 146.157567 420.594788 \nL 146.157567 422.730752 \nL 153.074923 422.730752 \nL 153.074923 425.640785 \nL 159.992278 425.640785 \nL 159.992278 426.368293 \nL 166.909633 426.368293 \nL 166.909633 427.415905 \nL 173.826989 427.415905 \nL 173.826989 427.427545 \nL 180.744344 427.427545 \nL 180.744344 427.945531 \nL 187.661699 427.945531 \nL 187.661699 428.370396 \nL 194.579055 428.370396 \nL 194.579055 428.341296 \nL 201.49641 428.341296 \nL 201.49641 428.457697 \nL 208.413765 428.457697 \nL 208.413765 428.480977 \nL 215.331121 428.480977 \nL 215.331121 428.457697 \nL 222.248476 428.457697 \nL 222.248476 428.475157 \nL 229.165832 428.475157 \nL 229.165832 428.475157 \nL 236.083187 428.475157 \nL 236.083187 428.492617 \nL 243.000542 428.492617 \nL 243.000542 428.475157 \nL 249.917898 428.475157 \nL 249.917898 428.486797 \nL 256.835253 428.486797 \nL 256.835253 428.492617 \nL 263.752608 428.492617 \nL 263.752608 428.498437 \nL 270.669964 428.498437 \nL 270.669964 428.498437 \nL 277.587319 428.498437 \nL 277.587319 428.498437 \nL 284.504675 428.498437 \nL 284.504675 428.492617 \nL 291.42203 428.492617 \nL 291.42203 428.492617 \nL 298.339385 428.492617 \nL 298.339385 428.492617 \nL 305.256741 428.492617 \nL 305.256741 428.492617 \nL 312.174096 428.492617 \nL 312.174096 428.492617 \nL 319.091451 428.492617 \nL 319.091451 428.498437 \nL 326.008807 428.498437 \nL 326.008807 428.498437 \nL 332.926162 428.498437 \nL 332.926162 428.498437 \nL 339.843518 428.498437 \nL 339.843518 428.498437 \nL 346.760873 428.498437 \nL 346.760873 428.498437 \nL 353.678228 428.498437 \nL 353.678228 428.498437 \nL 360.595584 428.498437 \nL 360.595584 428.498437 \nL 367.512939 428.498437 \nL 367.512939 428.486797 \nL 374.430294 428.486797 \nL 374.430294 428.486797 \nL 381.34765 428.486797 \nL 381.34765 428.463517 \nL 388.265005 428.463517 \nL 388.265005 428.480977 \nL 395.182361 428.480977 \nL 395.182361 428.498437 \nL 402.099716 428.498437 \nL 402.099716 428.498437 \nL 409.017071 428.498437 \nL 409.017071 428.498437 \nL 415.934427 428.498437 \nL 415.934427 428.480977 \nL 422.851782 428.480977 \nL 422.851782 428.498437 \n\" style=\"fill:none;opacity:0.75;stroke:#2ca02c;stroke-linejoin:miter;\"/>\n   </g>\n   <g id=\"matplotlib.axis_1\">\n    <g id=\"xtick_1\">\n     <g id=\"line2d_1\">\n      <defs>\n       <path d=\"M 0 0 \nL 0 3.5 \n\" id=\"mb8fd9b5205\" style=\"stroke:#000000;stroke-width:0.8;\"/>\n      </defs>\n      <g>\n       <use style=\"stroke:#000000;stroke-width:0.8;\" x=\"76.984013\" xlink:href=\"#mb8fd9b5205\" y=\"428.498437\"/>\n      </g>\n     </g>\n     <g id=\"text_1\">\n      <!-- 0 -->\n      <defs>\n       <path d=\"M 31.78125 66.40625 \nQ 24.171875 66.40625 20.328125 58.90625 \nQ 16.5 51.421875 16.5 36.375 \nQ 16.5 21.390625 20.328125 13.890625 \nQ 24.171875 6.390625 31.78125 6.390625 \nQ 39.453125 6.390625 43.28125 13.890625 \nQ 47.125 21.390625 47.125 36.375 \nQ 47.125 51.421875 43.28125 58.90625 \nQ 39.453125 66.40625 31.78125 66.40625 \nz\nM 31.78125 74.21875 \nQ 44.046875 74.21875 50.515625 64.515625 \nQ 56.984375 54.828125 56.984375 36.375 \nQ 56.984375 17.96875 50.515625 8.265625 \nQ 44.046875 -1.421875 31.78125 -1.421875 \nQ 19.53125 -1.421875 13.0625 8.265625 \nQ 6.59375 17.96875 6.59375 36.375 \nQ 6.59375 54.828125 13.0625 64.515625 \nQ 19.53125 74.21875 31.78125 74.21875 \nz\n\" id=\"DejaVuSans-48\"/>\n      </defs>\n      <g transform=\"translate(73.802763 443.096875)scale(0.1 -0.1)\">\n       <use xlink:href=\"#DejaVuSans-48\"/>\n      </g>\n     </g>\n    </g>\n    <g id=\"xtick_2\">\n     <g id=\"line2d_2\">\n      <g>\n       <use style=\"stroke:#000000;stroke-width:0.8;\" x=\"128.223683\" xlink:href=\"#mb8fd9b5205\" y=\"428.498437\"/>\n      </g>\n     </g>\n     <g id=\"text_2\">\n      <!-- 20 -->\n      <defs>\n       <path d=\"M 19.1875 8.296875 \nL 53.609375 8.296875 \nL 53.609375 0 \nL 7.328125 0 \nL 7.328125 8.296875 \nQ 12.9375 14.109375 22.625 23.890625 \nQ 32.328125 33.6875 34.8125 36.53125 \nQ 39.546875 41.84375 41.421875 45.53125 \nQ 43.3125 49.21875 43.3125 52.78125 \nQ 43.3125 58.59375 39.234375 62.25 \nQ 35.15625 65.921875 28.609375 65.921875 \nQ 23.96875 65.921875 18.8125 64.3125 \nQ 13.671875 62.703125 7.8125 59.421875 \nL 7.8125 69.390625 \nQ 13.765625 71.78125 18.9375 73 \nQ 24.125 74.21875 28.421875 74.21875 \nQ 39.75 74.21875 46.484375 68.546875 \nQ 53.21875 62.890625 53.21875 53.421875 \nQ 53.21875 48.921875 51.53125 44.890625 \nQ 49.859375 40.875 45.40625 35.40625 \nQ 44.1875 33.984375 37.640625 27.21875 \nQ 31.109375 20.453125 19.1875 8.296875 \nz\n\" id=\"DejaVuSans-50\"/>\n      </defs>\n      <g transform=\"translate(121.861183 443.096875)scale(0.1 -0.1)\">\n       <use xlink:href=\"#DejaVuSans-50\"/>\n       <use x=\"63.623047\" xlink:href=\"#DejaVuSans-48\"/>\n      </g>\n     </g>\n    </g>\n    <g id=\"xtick_3\">\n     <g id=\"line2d_3\">\n      <g>\n       <use style=\"stroke:#000000;stroke-width:0.8;\" x=\"179.463352\" xlink:href=\"#mb8fd9b5205\" y=\"428.498437\"/>\n      </g>\n     </g>\n     <g id=\"text_3\">\n      <!-- 40 -->\n      <defs>\n       <path d=\"M 37.796875 64.3125 \nL 12.890625 25.390625 \nL 37.796875 25.390625 \nz\nM 35.203125 72.90625 \nL 47.609375 72.90625 \nL 47.609375 25.390625 \nL 58.015625 25.390625 \nL 58.015625 17.1875 \nL 47.609375 17.1875 \nL 47.609375 0 \nL 37.796875 0 \nL 37.796875 17.1875 \nL 4.890625 17.1875 \nL 4.890625 26.703125 \nz\n\" id=\"DejaVuSans-52\"/>\n      </defs>\n      <g transform=\"translate(173.100852 443.096875)scale(0.1 -0.1)\">\n       <use xlink:href=\"#DejaVuSans-52\"/>\n       <use x=\"63.623047\" xlink:href=\"#DejaVuSans-48\"/>\n      </g>\n     </g>\n    </g>\n    <g id=\"xtick_4\">\n     <g id=\"line2d_4\">\n      <g>\n       <use style=\"stroke:#000000;stroke-width:0.8;\" x=\"230.703022\" xlink:href=\"#mb8fd9b5205\" y=\"428.498437\"/>\n      </g>\n     </g>\n     <g id=\"text_4\">\n      <!-- 60 -->\n      <defs>\n       <path d=\"M 33.015625 40.375 \nQ 26.375 40.375 22.484375 35.828125 \nQ 18.609375 31.296875 18.609375 23.390625 \nQ 18.609375 15.53125 22.484375 10.953125 \nQ 26.375 6.390625 33.015625 6.390625 \nQ 39.65625 6.390625 43.53125 10.953125 \nQ 47.40625 15.53125 47.40625 23.390625 \nQ 47.40625 31.296875 43.53125 35.828125 \nQ 39.65625 40.375 33.015625 40.375 \nz\nM 52.59375 71.296875 \nL 52.59375 62.3125 \nQ 48.875 64.0625 45.09375 64.984375 \nQ 41.3125 65.921875 37.59375 65.921875 \nQ 27.828125 65.921875 22.671875 59.328125 \nQ 17.53125 52.734375 16.796875 39.40625 \nQ 19.671875 43.65625 24.015625 45.921875 \nQ 28.375 48.1875 33.59375 48.1875 \nQ 44.578125 48.1875 50.953125 41.515625 \nQ 57.328125 34.859375 57.328125 23.390625 \nQ 57.328125 12.15625 50.6875 5.359375 \nQ 44.046875 -1.421875 33.015625 -1.421875 \nQ 20.359375 -1.421875 13.671875 8.265625 \nQ 6.984375 17.96875 6.984375 36.375 \nQ 6.984375 53.65625 15.1875 63.9375 \nQ 23.390625 74.21875 37.203125 74.21875 \nQ 40.921875 74.21875 44.703125 73.484375 \nQ 48.484375 72.75 52.59375 71.296875 \nz\n\" id=\"DejaVuSans-54\"/>\n      </defs>\n      <g transform=\"translate(224.340522 443.096875)scale(0.1 -0.1)\">\n       <use xlink:href=\"#DejaVuSans-54\"/>\n       <use x=\"63.623047\" xlink:href=\"#DejaVuSans-48\"/>\n      </g>\n     </g>\n    </g>\n    <g id=\"xtick_5\">\n     <g id=\"line2d_5\">\n      <g>\n       <use style=\"stroke:#000000;stroke-width:0.8;\" x=\"281.942691\" xlink:href=\"#mb8fd9b5205\" y=\"428.498437\"/>\n      </g>\n     </g>\n     <g id=\"text_5\">\n      <!-- 80 -->\n      <defs>\n       <path d=\"M 31.78125 34.625 \nQ 24.75 34.625 20.71875 30.859375 \nQ 16.703125 27.09375 16.703125 20.515625 \nQ 16.703125 13.921875 20.71875 10.15625 \nQ 24.75 6.390625 31.78125 6.390625 \nQ 38.8125 6.390625 42.859375 10.171875 \nQ 46.921875 13.96875 46.921875 20.515625 \nQ 46.921875 27.09375 42.890625 30.859375 \nQ 38.875 34.625 31.78125 34.625 \nz\nM 21.921875 38.8125 \nQ 15.578125 40.375 12.03125 44.71875 \nQ 8.5 49.078125 8.5 55.328125 \nQ 8.5 64.0625 14.71875 69.140625 \nQ 20.953125 74.21875 31.78125 74.21875 \nQ 42.671875 74.21875 48.875 69.140625 \nQ 55.078125 64.0625 55.078125 55.328125 \nQ 55.078125 49.078125 51.53125 44.71875 \nQ 48 40.375 41.703125 38.8125 \nQ 48.828125 37.15625 52.796875 32.3125 \nQ 56.78125 27.484375 56.78125 20.515625 \nQ 56.78125 9.90625 50.3125 4.234375 \nQ 43.84375 -1.421875 31.78125 -1.421875 \nQ 19.734375 -1.421875 13.25 4.234375 \nQ 6.78125 9.90625 6.78125 20.515625 \nQ 6.78125 27.484375 10.78125 32.3125 \nQ 14.796875 37.15625 21.921875 38.8125 \nz\nM 18.3125 54.390625 \nQ 18.3125 48.734375 21.84375 45.5625 \nQ 25.390625 42.390625 31.78125 42.390625 \nQ 38.140625 42.390625 41.71875 45.5625 \nQ 45.3125 48.734375 45.3125 54.390625 \nQ 45.3125 60.0625 41.71875 63.234375 \nQ 38.140625 66.40625 31.78125 66.40625 \nQ 25.390625 66.40625 21.84375 63.234375 \nQ 18.3125 60.0625 18.3125 54.390625 \nz\n\" id=\"DejaVuSans-56\"/>\n      </defs>\n      <g transform=\"translate(275.580191 443.096875)scale(0.1 -0.1)\">\n       <use xlink:href=\"#DejaVuSans-56\"/>\n       <use x=\"63.623047\" xlink:href=\"#DejaVuSans-48\"/>\n      </g>\n     </g>\n    </g>\n    <g id=\"xtick_6\">\n     <g id=\"line2d_6\">\n      <g>\n       <use style=\"stroke:#000000;stroke-width:0.8;\" x=\"333.182361\" xlink:href=\"#mb8fd9b5205\" y=\"428.498437\"/>\n      </g>\n     </g>\n     <g id=\"text_6\">\n      <!-- 100 -->\n      <defs>\n       <path d=\"M 12.40625 8.296875 \nL 28.515625 8.296875 \nL 28.515625 63.921875 \nL 10.984375 60.40625 \nL 10.984375 69.390625 \nL 28.421875 72.90625 \nL 38.28125 72.90625 \nL 38.28125 8.296875 \nL 54.390625 8.296875 \nL 54.390625 0 \nL 12.40625 0 \nz\n\" id=\"DejaVuSans-49\"/>\n      </defs>\n      <g transform=\"translate(323.638611 443.096875)scale(0.1 -0.1)\">\n       <use xlink:href=\"#DejaVuSans-49\"/>\n       <use x=\"63.623047\" xlink:href=\"#DejaVuSans-48\"/>\n       <use x=\"127.246094\" xlink:href=\"#DejaVuSans-48\"/>\n      </g>\n     </g>\n    </g>\n    <g id=\"xtick_7\">\n     <g id=\"line2d_7\">\n      <g>\n       <use style=\"stroke:#000000;stroke-width:0.8;\" x=\"384.42203\" xlink:href=\"#mb8fd9b5205\" y=\"428.498437\"/>\n      </g>\n     </g>\n     <g id=\"text_7\">\n      <!-- 120 -->\n      <g transform=\"translate(374.87828 443.096875)scale(0.1 -0.1)\">\n       <use xlink:href=\"#DejaVuSans-49\"/>\n       <use x=\"63.623047\" xlink:href=\"#DejaVuSans-50\"/>\n       <use x=\"127.246094\" xlink:href=\"#DejaVuSans-48\"/>\n      </g>\n     </g>\n    </g>\n    <g id=\"xtick_8\">\n     <g id=\"line2d_8\">\n      <g>\n       <use style=\"stroke:#000000;stroke-width:0.8;\" x=\"435.661699\" xlink:href=\"#mb8fd9b5205\" y=\"428.498437\"/>\n      </g>\n     </g>\n     <g id=\"text_8\">\n      <!-- 140 -->\n      <g transform=\"translate(426.117949 443.096875)scale(0.1 -0.1)\">\n       <use xlink:href=\"#DejaVuSans-49\"/>\n       <use x=\"63.623047\" xlink:href=\"#DejaVuSans-52\"/>\n       <use x=\"127.246094\" xlink:href=\"#DejaVuSans-48\"/>\n      </g>\n     </g>\n    </g>\n    <g id=\"text_9\">\n     <!-- nb_words_question2-common_words -->\n     <defs>\n      <path d=\"M 54.890625 33.015625 \nL 54.890625 0 \nL 45.90625 0 \nL 45.90625 32.71875 \nQ 45.90625 40.484375 42.875 44.328125 \nQ 39.84375 48.1875 33.796875 48.1875 \nQ 26.515625 48.1875 22.3125 43.546875 \nQ 18.109375 38.921875 18.109375 30.90625 \nL 18.109375 0 \nL 9.078125 0 \nL 9.078125 54.6875 \nL 18.109375 54.6875 \nL 18.109375 46.1875 \nQ 21.34375 51.125 25.703125 53.5625 \nQ 30.078125 56 35.796875 56 \nQ 45.21875 56 50.046875 50.171875 \nQ 54.890625 44.34375 54.890625 33.015625 \nz\n\" id=\"DejaVuSans-110\"/>\n      <path d=\"M 48.6875 27.296875 \nQ 48.6875 37.203125 44.609375 42.84375 \nQ 40.53125 48.484375 33.40625 48.484375 \nQ 26.265625 48.484375 22.1875 42.84375 \nQ 18.109375 37.203125 18.109375 27.296875 \nQ 18.109375 17.390625 22.1875 11.75 \nQ 26.265625 6.109375 33.40625 6.109375 \nQ 40.53125 6.109375 44.609375 11.75 \nQ 48.6875 17.390625 48.6875 27.296875 \nz\nM 18.109375 46.390625 \nQ 20.953125 51.265625 25.265625 53.625 \nQ 29.59375 56 35.59375 56 \nQ 45.5625 56 51.78125 48.09375 \nQ 58.015625 40.1875 58.015625 27.296875 \nQ 58.015625 14.40625 51.78125 6.484375 \nQ 45.5625 -1.421875 35.59375 -1.421875 \nQ 29.59375 -1.421875 25.265625 0.953125 \nQ 20.953125 3.328125 18.109375 8.203125 \nL 18.109375 0 \nL 9.078125 0 \nL 9.078125 75.984375 \nL 18.109375 75.984375 \nz\n\" id=\"DejaVuSans-98\"/>\n      <path d=\"M 50.984375 -16.609375 \nL 50.984375 -23.578125 \nL -0.984375 -23.578125 \nL -0.984375 -16.609375 \nz\n\" id=\"DejaVuSans-95\"/>\n      <path d=\"M 4.203125 54.6875 \nL 13.1875 54.6875 \nL 24.421875 12.015625 \nL 35.59375 54.6875 \nL 46.1875 54.6875 \nL 57.421875 12.015625 \nL 68.609375 54.6875 \nL 77.59375 54.6875 \nL 63.28125 0 \nL 52.6875 0 \nL 40.921875 44.828125 \nL 29.109375 0 \nL 18.5 0 \nz\n\" id=\"DejaVuSans-119\"/>\n      <path d=\"M 30.609375 48.390625 \nQ 23.390625 48.390625 19.1875 42.75 \nQ 14.984375 37.109375 14.984375 27.296875 \nQ 14.984375 17.484375 19.15625 11.84375 \nQ 23.34375 6.203125 30.609375 6.203125 \nQ 37.796875 6.203125 41.984375 11.859375 \nQ 46.1875 17.53125 46.1875 27.296875 \nQ 46.1875 37.015625 41.984375 42.703125 \nQ 37.796875 48.390625 30.609375 48.390625 \nz\nM 30.609375 56 \nQ 42.328125 56 49.015625 48.375 \nQ 55.71875 40.765625 55.71875 27.296875 \nQ 55.71875 13.875 49.015625 6.21875 \nQ 42.328125 -1.421875 30.609375 -1.421875 \nQ 18.84375 -1.421875 12.171875 6.21875 \nQ 5.515625 13.875 5.515625 27.296875 \nQ 5.515625 40.765625 12.171875 48.375 \nQ 18.84375 56 30.609375 56 \nz\n\" id=\"DejaVuSans-111\"/>\n      <path d=\"M 41.109375 46.296875 \nQ 39.59375 47.171875 37.8125 47.578125 \nQ 36.03125 48 33.890625 48 \nQ 26.265625 48 22.1875 43.046875 \nQ 18.109375 38.09375 18.109375 28.8125 \nL 18.109375 0 \nL 9.078125 0 \nL 9.078125 54.6875 \nL 18.109375 54.6875 \nL 18.109375 46.1875 \nQ 20.953125 51.171875 25.484375 53.578125 \nQ 30.03125 56 36.53125 56 \nQ 37.453125 56 38.578125 55.875 \nQ 39.703125 55.765625 41.0625 55.515625 \nz\n\" id=\"DejaVuSans-114\"/>\n      <path d=\"M 45.40625 46.390625 \nL 45.40625 75.984375 \nL 54.390625 75.984375 \nL 54.390625 0 \nL 45.40625 0 \nL 45.40625 8.203125 \nQ 42.578125 3.328125 38.25 0.953125 \nQ 33.9375 -1.421875 27.875 -1.421875 \nQ 17.96875 -1.421875 11.734375 6.484375 \nQ 5.515625 14.40625 5.515625 27.296875 \nQ 5.515625 40.1875 11.734375 48.09375 \nQ 17.96875 56 27.875 56 \nQ 33.9375 56 38.25 53.625 \nQ 42.578125 51.265625 45.40625 46.390625 \nz\nM 14.796875 27.296875 \nQ 14.796875 17.390625 18.875 11.75 \nQ 22.953125 6.109375 30.078125 6.109375 \nQ 37.203125 6.109375 41.296875 11.75 \nQ 45.40625 17.390625 45.40625 27.296875 \nQ 45.40625 37.203125 41.296875 42.84375 \nQ 37.203125 48.484375 30.078125 48.484375 \nQ 22.953125 48.484375 18.875 42.84375 \nQ 14.796875 37.203125 14.796875 27.296875 \nz\n\" id=\"DejaVuSans-100\"/>\n      <path d=\"M 44.28125 53.078125 \nL 44.28125 44.578125 \nQ 40.484375 46.53125 36.375 47.5 \nQ 32.28125 48.484375 27.875 48.484375 \nQ 21.1875 48.484375 17.84375 46.4375 \nQ 14.5 44.390625 14.5 40.28125 \nQ 14.5 37.15625 16.890625 35.375 \nQ 19.28125 33.59375 26.515625 31.984375 \nL 29.59375 31.296875 \nQ 39.15625 29.25 43.1875 25.515625 \nQ 47.21875 21.78125 47.21875 15.09375 \nQ 47.21875 7.46875 41.1875 3.015625 \nQ 35.15625 -1.421875 24.609375 -1.421875 \nQ 20.21875 -1.421875 15.453125 -0.5625 \nQ 10.6875 0.296875 5.421875 2 \nL 5.421875 11.28125 \nQ 10.40625 8.6875 15.234375 7.390625 \nQ 20.0625 6.109375 24.8125 6.109375 \nQ 31.15625 6.109375 34.5625 8.28125 \nQ 37.984375 10.453125 37.984375 14.40625 \nQ 37.984375 18.0625 35.515625 20.015625 \nQ 33.0625 21.96875 24.703125 23.78125 \nL 21.578125 24.515625 \nQ 13.234375 26.265625 9.515625 29.90625 \nQ 5.8125 33.546875 5.8125 39.890625 \nQ 5.8125 47.609375 11.28125 51.796875 \nQ 16.75 56 26.8125 56 \nQ 31.78125 56 36.171875 55.265625 \nQ 40.578125 54.546875 44.28125 53.078125 \nz\n\" id=\"DejaVuSans-115\"/>\n      <path d=\"M 14.796875 27.296875 \nQ 14.796875 17.390625 18.875 11.75 \nQ 22.953125 6.109375 30.078125 6.109375 \nQ 37.203125 6.109375 41.296875 11.75 \nQ 45.40625 17.390625 45.40625 27.296875 \nQ 45.40625 37.203125 41.296875 42.84375 \nQ 37.203125 48.484375 30.078125 48.484375 \nQ 22.953125 48.484375 18.875 42.84375 \nQ 14.796875 37.203125 14.796875 27.296875 \nz\nM 45.40625 8.203125 \nQ 42.578125 3.328125 38.25 0.953125 \nQ 33.9375 -1.421875 27.875 -1.421875 \nQ 17.96875 -1.421875 11.734375 6.484375 \nQ 5.515625 14.40625 5.515625 27.296875 \nQ 5.515625 40.1875 11.734375 48.09375 \nQ 17.96875 56 27.875 56 \nQ 33.9375 56 38.25 53.625 \nQ 42.578125 51.265625 45.40625 46.390625 \nL 45.40625 54.6875 \nL 54.390625 54.6875 \nL 54.390625 -20.796875 \nL 45.40625 -20.796875 \nz\n\" id=\"DejaVuSans-113\"/>\n      <path d=\"M 8.5 21.578125 \nL 8.5 54.6875 \nL 17.484375 54.6875 \nL 17.484375 21.921875 \nQ 17.484375 14.15625 20.5 10.265625 \nQ 23.53125 6.390625 29.59375 6.390625 \nQ 36.859375 6.390625 41.078125 11.03125 \nQ 45.3125 15.671875 45.3125 23.6875 \nL 45.3125 54.6875 \nL 54.296875 54.6875 \nL 54.296875 0 \nL 45.3125 0 \nL 45.3125 8.40625 \nQ 42.046875 3.421875 37.71875 1 \nQ 33.40625 -1.421875 27.6875 -1.421875 \nQ 18.265625 -1.421875 13.375 4.4375 \nQ 8.5 10.296875 8.5 21.578125 \nz\nM 31.109375 56 \nz\n\" id=\"DejaVuSans-117\"/>\n      <path d=\"M 56.203125 29.59375 \nL 56.203125 25.203125 \nL 14.890625 25.203125 \nQ 15.484375 15.921875 20.484375 11.0625 \nQ 25.484375 6.203125 34.421875 6.203125 \nQ 39.59375 6.203125 44.453125 7.46875 \nQ 49.3125 8.734375 54.109375 11.28125 \nL 54.109375 2.78125 \nQ 49.265625 0.734375 44.1875 -0.34375 \nQ 39.109375 -1.421875 33.890625 -1.421875 \nQ 20.796875 -1.421875 13.15625 6.1875 \nQ 5.515625 13.8125 5.515625 26.8125 \nQ 5.515625 40.234375 12.765625 48.109375 \nQ 20.015625 56 32.328125 56 \nQ 43.359375 56 49.78125 48.890625 \nQ 56.203125 41.796875 56.203125 29.59375 \nz\nM 47.21875 32.234375 \nQ 47.125 39.59375 43.09375 43.984375 \nQ 39.0625 48.390625 32.421875 48.390625 \nQ 24.90625 48.390625 20.390625 44.140625 \nQ 15.875 39.890625 15.1875 32.171875 \nz\n\" id=\"DejaVuSans-101\"/>\n      <path d=\"M 18.3125 70.21875 \nL 18.3125 54.6875 \nL 36.8125 54.6875 \nL 36.8125 47.703125 \nL 18.3125 47.703125 \nL 18.3125 18.015625 \nQ 18.3125 11.328125 20.140625 9.421875 \nQ 21.96875 7.515625 27.59375 7.515625 \nL 36.8125 7.515625 \nL 36.8125 0 \nL 27.59375 0 \nQ 17.1875 0 13.234375 3.875 \nQ 9.28125 7.765625 9.28125 18.015625 \nL 9.28125 47.703125 \nL 2.6875 47.703125 \nL 2.6875 54.6875 \nL 9.28125 54.6875 \nL 9.28125 70.21875 \nz\n\" id=\"DejaVuSans-116\"/>\n      <path d=\"M 9.421875 54.6875 \nL 18.40625 54.6875 \nL 18.40625 0 \nL 9.421875 0 \nz\nM 9.421875 75.984375 \nL 18.40625 75.984375 \nL 18.40625 64.59375 \nL 9.421875 64.59375 \nz\n\" id=\"DejaVuSans-105\"/>\n      <path d=\"M 4.890625 31.390625 \nL 31.203125 31.390625 \nL 31.203125 23.390625 \nL 4.890625 23.390625 \nz\n\" id=\"DejaVuSans-45\"/>\n      <path d=\"M 48.78125 52.59375 \nL 48.78125 44.1875 \nQ 44.96875 46.296875 41.140625 47.34375 \nQ 37.3125 48.390625 33.40625 48.390625 \nQ 24.65625 48.390625 19.8125 42.84375 \nQ 14.984375 37.3125 14.984375 27.296875 \nQ 14.984375 17.28125 19.8125 11.734375 \nQ 24.65625 6.203125 33.40625 6.203125 \nQ 37.3125 6.203125 41.140625 7.25 \nQ 44.96875 8.296875 48.78125 10.40625 \nL 48.78125 2.09375 \nQ 45.015625 0.34375 40.984375 -0.53125 \nQ 36.96875 -1.421875 32.421875 -1.421875 \nQ 20.0625 -1.421875 12.78125 6.34375 \nQ 5.515625 14.109375 5.515625 27.296875 \nQ 5.515625 40.671875 12.859375 48.328125 \nQ 20.21875 56 33.015625 56 \nQ 37.15625 56 41.109375 55.140625 \nQ 45.0625 54.296875 48.78125 52.59375 \nz\n\" id=\"DejaVuSans-99\"/>\n      <path d=\"M 52 44.1875 \nQ 55.375 50.25 60.0625 53.125 \nQ 64.75 56 71.09375 56 \nQ 79.640625 56 84.28125 50.015625 \nQ 88.921875 44.046875 88.921875 33.015625 \nL 88.921875 0 \nL 79.890625 0 \nL 79.890625 32.71875 \nQ 79.890625 40.578125 77.09375 44.375 \nQ 74.3125 48.1875 68.609375 48.1875 \nQ 61.625 48.1875 57.5625 43.546875 \nQ 53.515625 38.921875 53.515625 30.90625 \nL 53.515625 0 \nL 44.484375 0 \nL 44.484375 32.71875 \nQ 44.484375 40.625 41.703125 44.40625 \nQ 38.921875 48.1875 33.109375 48.1875 \nQ 26.21875 48.1875 22.15625 43.53125 \nQ 18.109375 38.875 18.109375 30.90625 \nL 18.109375 0 \nL 9.078125 0 \nL 9.078125 54.6875 \nL 18.109375 54.6875 \nL 18.109375 46.1875 \nQ 21.1875 51.21875 25.484375 53.609375 \nQ 29.78125 56 35.6875 56 \nQ 41.65625 56 45.828125 52.96875 \nQ 50 49.953125 52 44.1875 \nz\n\" id=\"DejaVuSans-109\"/>\n     </defs>\n     <g transform=\"translate(157.920241 456.775)scale(0.1 -0.1)\">\n      <use xlink:href=\"#DejaVuSans-110\"/>\n      <use x=\"63.378906\" xlink:href=\"#DejaVuSans-98\"/>\n      <use x=\"126.855469\" xlink:href=\"#DejaVuSans-95\"/>\n      <use x=\"176.855469\" xlink:href=\"#DejaVuSans-119\"/>\n      <use x=\"258.642578\" xlink:href=\"#DejaVuSans-111\"/>\n      <use x=\"319.824219\" xlink:href=\"#DejaVuSans-114\"/>\n      <use x=\"359.1875\" xlink:href=\"#DejaVuSans-100\"/>\n      <use x=\"422.664062\" xlink:href=\"#DejaVuSans-115\"/>\n      <use x=\"474.763672\" xlink:href=\"#DejaVuSans-95\"/>\n      <use x=\"524.763672\" xlink:href=\"#DejaVuSans-113\"/>\n      <use x=\"588.240234\" xlink:href=\"#DejaVuSans-117\"/>\n      <use x=\"651.619141\" xlink:href=\"#DejaVuSans-101\"/>\n      <use x=\"713.142578\" xlink:href=\"#DejaVuSans-115\"/>\n      <use x=\"765.242188\" xlink:href=\"#DejaVuSans-116\"/>\n      <use x=\"804.451172\" xlink:href=\"#DejaVuSans-105\"/>\n      <use x=\"832.234375\" xlink:href=\"#DejaVuSans-111\"/>\n      <use x=\"893.416016\" xlink:href=\"#DejaVuSans-110\"/>\n      <use x=\"956.794922\" xlink:href=\"#DejaVuSans-50\"/>\n      <use x=\"1020.417969\" xlink:href=\"#DejaVuSans-45\"/>\n      <use x=\"1056.501953\" xlink:href=\"#DejaVuSans-99\"/>\n      <use x=\"1111.482422\" xlink:href=\"#DejaVuSans-111\"/>\n      <use x=\"1172.664062\" xlink:href=\"#DejaVuSans-109\"/>\n      <use x=\"1270.076172\" xlink:href=\"#DejaVuSans-109\"/>\n      <use x=\"1367.488281\" xlink:href=\"#DejaVuSans-111\"/>\n      <use x=\"1428.669922\" xlink:href=\"#DejaVuSans-110\"/>\n      <use x=\"1492.048828\" xlink:href=\"#DejaVuSans-95\"/>\n      <use x=\"1542.048828\" xlink:href=\"#DejaVuSans-119\"/>\n      <use x=\"1623.835938\" xlink:href=\"#DejaVuSans-111\"/>\n      <use x=\"1685.017578\" xlink:href=\"#DejaVuSans-114\"/>\n      <use x=\"1724.380859\" xlink:href=\"#DejaVuSans-100\"/>\n      <use x=\"1787.857422\" xlink:href=\"#DejaVuSans-115\"/>\n     </g>\n    </g>\n   </g>\n   <g id=\"matplotlib.axis_2\">\n    <g id=\"ytick_1\">\n     <g id=\"line2d_9\">\n      <defs>\n       <path d=\"M 0 0 \nL -3.5 0 \n\" id=\"m6bfeda0030\" style=\"stroke:#000000;stroke-width:0.8;\"/>\n      </defs>\n      <g>\n       <use style=\"stroke:#000000;stroke-width:0.8;\" x=\"59.690625\" xlink:href=\"#m6bfeda0030\" y=\"428.498437\"/>\n      </g>\n     </g>\n     <g id=\"text_10\">\n      <!-- 0 -->\n      <g transform=\"translate(46.328125 432.297656)scale(0.1 -0.1)\">\n       <use xlink:href=\"#DejaVuSans-48\"/>\n      </g>\n     </g>\n    </g>\n    <g id=\"ytick_2\">\n     <g id=\"line2d_10\">\n      <g>\n       <use style=\"stroke:#000000;stroke-width:0.8;\" x=\"59.690625\" xlink:href=\"#m6bfeda0030\" y=\"370.297776\"/>\n      </g>\n     </g>\n     <g id=\"text_11\">\n      <!-- 10000 -->\n      <g transform=\"translate(20.878125 374.096995)scale(0.1 -0.1)\">\n       <use xlink:href=\"#DejaVuSans-49\"/>\n       <use x=\"63.623047\" xlink:href=\"#DejaVuSans-48\"/>\n       <use x=\"127.246094\" xlink:href=\"#DejaVuSans-48\"/>\n       <use x=\"190.869141\" xlink:href=\"#DejaVuSans-48\"/>\n       <use x=\"254.492188\" xlink:href=\"#DejaVuSans-48\"/>\n      </g>\n     </g>\n    </g>\n    <g id=\"ytick_3\">\n     <g id=\"line2d_11\">\n      <g>\n       <use style=\"stroke:#000000;stroke-width:0.8;\" x=\"59.690625\" xlink:href=\"#m6bfeda0030\" y=\"312.097114\"/>\n      </g>\n     </g>\n     <g id=\"text_12\">\n      <!-- 20000 -->\n      <g transform=\"translate(20.878125 315.896333)scale(0.1 -0.1)\">\n       <use xlink:href=\"#DejaVuSans-50\"/>\n       <use x=\"63.623047\" xlink:href=\"#DejaVuSans-48\"/>\n       <use x=\"127.246094\" xlink:href=\"#DejaVuSans-48\"/>\n       <use x=\"190.869141\" xlink:href=\"#DejaVuSans-48\"/>\n       <use x=\"254.492188\" xlink:href=\"#DejaVuSans-48\"/>\n      </g>\n     </g>\n    </g>\n    <g id=\"ytick_4\">\n     <g id=\"line2d_12\">\n      <g>\n       <use style=\"stroke:#000000;stroke-width:0.8;\" x=\"59.690625\" xlink:href=\"#m6bfeda0030\" y=\"253.896453\"/>\n      </g>\n     </g>\n     <g id=\"text_13\">\n      <!-- 30000 -->\n      <defs>\n       <path d=\"M 40.578125 39.3125 \nQ 47.65625 37.796875 51.625 33 \nQ 55.609375 28.21875 55.609375 21.1875 \nQ 55.609375 10.40625 48.1875 4.484375 \nQ 40.765625 -1.421875 27.09375 -1.421875 \nQ 22.515625 -1.421875 17.65625 -0.515625 \nQ 12.796875 0.390625 7.625 2.203125 \nL 7.625 11.71875 \nQ 11.71875 9.328125 16.59375 8.109375 \nQ 21.484375 6.890625 26.8125 6.890625 \nQ 36.078125 6.890625 40.9375 10.546875 \nQ 45.796875 14.203125 45.796875 21.1875 \nQ 45.796875 27.640625 41.28125 31.265625 \nQ 36.765625 34.90625 28.71875 34.90625 \nL 20.21875 34.90625 \nL 20.21875 43.015625 \nL 29.109375 43.015625 \nQ 36.375 43.015625 40.234375 45.921875 \nQ 44.09375 48.828125 44.09375 54.296875 \nQ 44.09375 59.90625 40.109375 62.90625 \nQ 36.140625 65.921875 28.71875 65.921875 \nQ 24.65625 65.921875 20.015625 65.03125 \nQ 15.375 64.15625 9.8125 62.3125 \nL 9.8125 71.09375 \nQ 15.4375 72.65625 20.34375 73.4375 \nQ 25.25 74.21875 29.59375 74.21875 \nQ 40.828125 74.21875 47.359375 69.109375 \nQ 53.90625 64.015625 53.90625 55.328125 \nQ 53.90625 49.265625 50.4375 45.09375 \nQ 46.96875 40.921875 40.578125 39.3125 \nz\n\" id=\"DejaVuSans-51\"/>\n      </defs>\n      <g transform=\"translate(20.878125 257.695671)scale(0.1 -0.1)\">\n       <use xlink:href=\"#DejaVuSans-51\"/>\n       <use x=\"63.623047\" xlink:href=\"#DejaVuSans-48\"/>\n       <use x=\"127.246094\" xlink:href=\"#DejaVuSans-48\"/>\n       <use x=\"190.869141\" xlink:href=\"#DejaVuSans-48\"/>\n       <use x=\"254.492188\" xlink:href=\"#DejaVuSans-48\"/>\n      </g>\n     </g>\n    </g>\n    <g id=\"ytick_5\">\n     <g id=\"line2d_13\">\n      <g>\n       <use style=\"stroke:#000000;stroke-width:0.8;\" x=\"59.690625\" xlink:href=\"#m6bfeda0030\" y=\"195.695791\"/>\n      </g>\n     </g>\n     <g id=\"text_14\">\n      <!-- 40000 -->\n      <g transform=\"translate(20.878125 199.49501)scale(0.1 -0.1)\">\n       <use xlink:href=\"#DejaVuSans-52\"/>\n       <use x=\"63.623047\" xlink:href=\"#DejaVuSans-48\"/>\n       <use x=\"127.246094\" xlink:href=\"#DejaVuSans-48\"/>\n       <use x=\"190.869141\" xlink:href=\"#DejaVuSans-48\"/>\n       <use x=\"254.492188\" xlink:href=\"#DejaVuSans-48\"/>\n      </g>\n     </g>\n    </g>\n    <g id=\"ytick_6\">\n     <g id=\"line2d_14\">\n      <g>\n       <use style=\"stroke:#000000;stroke-width:0.8;\" x=\"59.690625\" xlink:href=\"#m6bfeda0030\" y=\"137.495129\"/>\n      </g>\n     </g>\n     <g id=\"text_15\">\n      <!-- 50000 -->\n      <defs>\n       <path d=\"M 10.796875 72.90625 \nL 49.515625 72.90625 \nL 49.515625 64.59375 \nL 19.828125 64.59375 \nL 19.828125 46.734375 \nQ 21.96875 47.46875 24.109375 47.828125 \nQ 26.265625 48.1875 28.421875 48.1875 \nQ 40.625 48.1875 47.75 41.5 \nQ 54.890625 34.8125 54.890625 23.390625 \nQ 54.890625 11.625 47.5625 5.09375 \nQ 40.234375 -1.421875 26.90625 -1.421875 \nQ 22.3125 -1.421875 17.546875 -0.640625 \nQ 12.796875 0.140625 7.71875 1.703125 \nL 7.71875 11.625 \nQ 12.109375 9.234375 16.796875 8.0625 \nQ 21.484375 6.890625 26.703125 6.890625 \nQ 35.15625 6.890625 40.078125 11.328125 \nQ 45.015625 15.765625 45.015625 23.390625 \nQ 45.015625 31 40.078125 35.4375 \nQ 35.15625 39.890625 26.703125 39.890625 \nQ 22.75 39.890625 18.8125 39.015625 \nQ 14.890625 38.140625 10.796875 36.28125 \nz\n\" id=\"DejaVuSans-53\"/>\n      </defs>\n      <g transform=\"translate(20.878125 141.294348)scale(0.1 -0.1)\">\n       <use xlink:href=\"#DejaVuSans-53\"/>\n       <use x=\"63.623047\" xlink:href=\"#DejaVuSans-48\"/>\n       <use x=\"127.246094\" xlink:href=\"#DejaVuSans-48\"/>\n       <use x=\"190.869141\" xlink:href=\"#DejaVuSans-48\"/>\n       <use x=\"254.492188\" xlink:href=\"#DejaVuSans-48\"/>\n      </g>\n     </g>\n    </g>\n    <g id=\"ytick_7\">\n     <g id=\"line2d_15\">\n      <g>\n       <use style=\"stroke:#000000;stroke-width:0.8;\" x=\"59.690625\" xlink:href=\"#m6bfeda0030\" y=\"79.294468\"/>\n      </g>\n     </g>\n     <g id=\"text_16\">\n      <!-- 60000 -->\n      <g transform=\"translate(20.878125 83.093686)scale(0.1 -0.1)\">\n       <use xlink:href=\"#DejaVuSans-54\"/>\n       <use x=\"63.623047\" xlink:href=\"#DejaVuSans-48\"/>\n       <use x=\"127.246094\" xlink:href=\"#DejaVuSans-48\"/>\n       <use x=\"190.869141\" xlink:href=\"#DejaVuSans-48\"/>\n       <use x=\"254.492188\" xlink:href=\"#DejaVuSans-48\"/>\n      </g>\n     </g>\n    </g>\n    <g id=\"ytick_8\">\n     <g id=\"line2d_16\">\n      <g>\n       <use style=\"stroke:#000000;stroke-width:0.8;\" x=\"59.690625\" xlink:href=\"#m6bfeda0030\" y=\"21.093806\"/>\n      </g>\n     </g>\n     <g id=\"text_17\">\n      <!-- 70000 -->\n      <defs>\n       <path d=\"M 8.203125 72.90625 \nL 55.078125 72.90625 \nL 55.078125 68.703125 \nL 28.609375 0 \nL 18.3125 0 \nL 43.21875 64.59375 \nL 8.203125 64.59375 \nz\n\" id=\"DejaVuSans-55\"/>\n      </defs>\n      <g transform=\"translate(20.878125 24.893025)scale(0.1 -0.1)\">\n       <use xlink:href=\"#DejaVuSans-55\"/>\n       <use x=\"63.623047\" xlink:href=\"#DejaVuSans-48\"/>\n       <use x=\"127.246094\" xlink:href=\"#DejaVuSans-48\"/>\n       <use x=\"190.869141\" xlink:href=\"#DejaVuSans-48\"/>\n       <use x=\"254.492188\" xlink:href=\"#DejaVuSans-48\"/>\n      </g>\n     </g>\n    </g>\n    <g id=\"text_18\">\n     <!-- Nb -->\n     <defs>\n      <path d=\"M 9.8125 72.90625 \nL 23.09375 72.90625 \nL 55.421875 11.921875 \nL 55.421875 72.90625 \nL 64.984375 72.90625 \nL 64.984375 0 \nL 51.703125 0 \nL 19.390625 60.984375 \nL 19.390625 0 \nL 9.8125 0 \nz\n\" id=\"DejaVuSans-78\"/>\n     </defs>\n     <g transform=\"translate(14.798438 231.563281)rotate(-90)scale(0.1 -0.1)\">\n      <use xlink:href=\"#DejaVuSans-78\"/>\n      <use x=\"74.804688\" xlink:href=\"#DejaVuSans-98\"/>\n     </g>\n    </g>\n   </g>\n   <g id=\"patch_5\">\n    <path d=\"M 59.690625 428.498437 \nL 59.690625 20.798437 \n\" style=\"fill:none;stroke:#000000;stroke-linecap:square;stroke-linejoin:miter;stroke-width:0.8;\"/>\n   </g>\n   <g id=\"patch_6\">\n    <path d=\"M 440.14517 428.498437 \nL 440.14517 20.798437 \n\" style=\"fill:none;stroke:#000000;stroke-linecap:square;stroke-linejoin:miter;stroke-width:0.8;\"/>\n   </g>\n   <g id=\"patch_7\">\n    <path d=\"M 59.690625 428.498437 \nL 440.14517 428.498437 \n\" style=\"fill:none;stroke:#000000;stroke-linecap:square;stroke-linejoin:miter;stroke-width:0.8;\"/>\n   </g>\n   <g id=\"patch_8\">\n    <path d=\"M 59.690625 20.798437 \nL 440.14517 20.798437 \n\" style=\"fill:none;stroke:#000000;stroke-linecap:square;stroke-linejoin:miter;stroke-width:0.8;\"/>\n   </g>\n   <g id=\"text_19\">\n    <!-- AUC nb_words_question2-common_words : 0.323137 -->\n    <defs>\n     <path d=\"M 34.1875 63.1875 \nL 20.796875 26.90625 \nL 47.609375 26.90625 \nz\nM 28.609375 72.90625 \nL 39.796875 72.90625 \nL 67.578125 0 \nL 57.328125 0 \nL 50.6875 18.703125 \nL 17.828125 18.703125 \nL 11.1875 0 \nL 0.78125 0 \nz\n\" id=\"DejaVuSans-65\"/>\n     <path d=\"M 8.6875 72.90625 \nL 18.609375 72.90625 \nL 18.609375 28.609375 \nQ 18.609375 16.890625 22.84375 11.734375 \nQ 27.09375 6.59375 36.625 6.59375 \nQ 46.09375 6.59375 50.34375 11.734375 \nQ 54.59375 16.890625 54.59375 28.609375 \nL 54.59375 72.90625 \nL 64.5 72.90625 \nL 64.5 27.390625 \nQ 64.5 13.140625 57.4375 5.859375 \nQ 50.390625 -1.421875 36.625 -1.421875 \nQ 22.796875 -1.421875 15.734375 5.859375 \nQ 8.6875 13.140625 8.6875 27.390625 \nz\n\" id=\"DejaVuSans-85\"/>\n     <path d=\"M 64.40625 67.28125 \nL 64.40625 56.890625 \nQ 59.421875 61.53125 53.78125 63.8125 \nQ 48.140625 66.109375 41.796875 66.109375 \nQ 29.296875 66.109375 22.65625 58.46875 \nQ 16.015625 50.828125 16.015625 36.375 \nQ 16.015625 21.96875 22.65625 14.328125 \nQ 29.296875 6.6875 41.796875 6.6875 \nQ 48.140625 6.6875 53.78125 8.984375 \nQ 59.421875 11.28125 64.40625 15.921875 \nL 64.40625 5.609375 \nQ 59.234375 2.09375 53.4375 0.328125 \nQ 47.65625 -1.421875 41.21875 -1.421875 \nQ 24.65625 -1.421875 15.125 8.703125 \nQ 5.609375 18.84375 5.609375 36.375 \nQ 5.609375 53.953125 15.125 64.078125 \nQ 24.65625 74.21875 41.21875 74.21875 \nQ 47.75 74.21875 53.53125 72.484375 \nQ 59.328125 70.75 64.40625 67.28125 \nz\n\" id=\"DejaVuSans-67\"/>\n     <path id=\"DejaVuSans-32\"/>\n     <path d=\"M 11.71875 12.40625 \nL 22.015625 12.40625 \nL 22.015625 0 \nL 11.71875 0 \nz\nM 11.71875 51.703125 \nL 22.015625 51.703125 \nL 22.015625 39.3125 \nL 11.71875 39.3125 \nz\n\" id=\"DejaVuSans-58\"/>\n     <path d=\"M 10.6875 12.40625 \nL 21 12.40625 \nL 21 0 \nL 10.6875 0 \nz\n\" id=\"DejaVuSans-46\"/>\n    </defs>\n    <g transform=\"translate(117.039773 14.798437)scale(0.1 -0.1)\">\n     <use xlink:href=\"#DejaVuSans-65\"/>\n     <use x=\"68.408203\" xlink:href=\"#DejaVuSans-85\"/>\n     <use x=\"141.601562\" xlink:href=\"#DejaVuSans-67\"/>\n     <use x=\"211.425781\" xlink:href=\"#DejaVuSans-32\"/>\n     <use x=\"243.212891\" xlink:href=\"#DejaVuSans-110\"/>\n     <use x=\"306.591797\" xlink:href=\"#DejaVuSans-98\"/>\n     <use x=\"370.068359\" xlink:href=\"#DejaVuSans-95\"/>\n     <use x=\"420.068359\" xlink:href=\"#DejaVuSans-119\"/>\n     <use x=\"501.855469\" xlink:href=\"#DejaVuSans-111\"/>\n     <use x=\"563.037109\" xlink:href=\"#DejaVuSans-114\"/>\n     <use x=\"602.400391\" xlink:href=\"#DejaVuSans-100\"/>\n     <use x=\"665.876953\" xlink:href=\"#DejaVuSans-115\"/>\n     <use x=\"717.976562\" xlink:href=\"#DejaVuSans-95\"/>\n     <use x=\"767.976562\" xlink:href=\"#DejaVuSans-113\"/>\n     <use x=\"831.453125\" xlink:href=\"#DejaVuSans-117\"/>\n     <use x=\"894.832031\" xlink:href=\"#DejaVuSans-101\"/>\n     <use x=\"956.355469\" xlink:href=\"#DejaVuSans-115\"/>\n     <use x=\"1008.455078\" xlink:href=\"#DejaVuSans-116\"/>\n     <use x=\"1047.664062\" xlink:href=\"#DejaVuSans-105\"/>\n     <use x=\"1075.447266\" xlink:href=\"#DejaVuSans-111\"/>\n     <use x=\"1136.628906\" xlink:href=\"#DejaVuSans-110\"/>\n     <use x=\"1200.007812\" xlink:href=\"#DejaVuSans-50\"/>\n     <use x=\"1263.630859\" xlink:href=\"#DejaVuSans-45\"/>\n     <use x=\"1299.714844\" xlink:href=\"#DejaVuSans-99\"/>\n     <use x=\"1354.695312\" xlink:href=\"#DejaVuSans-111\"/>\n     <use x=\"1415.876953\" xlink:href=\"#DejaVuSans-109\"/>\n     <use x=\"1513.289062\" xlink:href=\"#DejaVuSans-109\"/>\n     <use x=\"1610.701172\" xlink:href=\"#DejaVuSans-111\"/>\n     <use x=\"1671.882812\" xlink:href=\"#DejaVuSans-110\"/>\n     <use x=\"1735.261719\" xlink:href=\"#DejaVuSans-95\"/>\n     <use x=\"1785.261719\" xlink:href=\"#DejaVuSans-119\"/>\n     <use x=\"1867.048828\" xlink:href=\"#DejaVuSans-111\"/>\n     <use x=\"1928.230469\" xlink:href=\"#DejaVuSans-114\"/>\n     <use x=\"1967.59375\" xlink:href=\"#DejaVuSans-100\"/>\n     <use x=\"2031.070312\" xlink:href=\"#DejaVuSans-115\"/>\n     <use x=\"2083.169922\" xlink:href=\"#DejaVuSans-32\"/>\n     <use x=\"2114.957031\" xlink:href=\"#DejaVuSans-58\"/>\n     <use x=\"2148.648438\" xlink:href=\"#DejaVuSans-32\"/>\n     <use x=\"2180.435547\" xlink:href=\"#DejaVuSans-48\"/>\n     <use x=\"2244.058594\" xlink:href=\"#DejaVuSans-46\"/>\n     <use x=\"2275.845703\" xlink:href=\"#DejaVuSans-51\"/>\n     <use x=\"2339.46875\" xlink:href=\"#DejaVuSans-50\"/>\n     <use x=\"2403.091797\" xlink:href=\"#DejaVuSans-51\"/>\n     <use x=\"2466.714844\" xlink:href=\"#DejaVuSans-49\"/>\n     <use x=\"2530.337891\" xlink:href=\"#DejaVuSans-51\"/>\n     <use x=\"2593.960938\" xlink:href=\"#DejaVuSans-55\"/>\n    </g>\n   </g>\n   <g id=\"legend_1\">\n    <g id=\"patch_9\">\n     <path d=\"M 357.17642 58.154687 \nL 433.14517 58.154687 \nQ 435.14517 58.154687 435.14517 56.154687 \nL 435.14517 27.798437 \nQ 435.14517 25.798437 433.14517 25.798437 \nL 357.17642 25.798437 \nQ 355.17642 25.798437 355.17642 27.798437 \nL 355.17642 56.154687 \nQ 355.17642 58.154687 357.17642 58.154687 \nz\n\" style=\"fill:#ffffff;opacity:0.8;stroke:#cccccc;stroke-linejoin:miter;\"/>\n    </g>\n    <g id=\"patch_10\">\n     <path d=\"M 359.17642 37.396875 \nL 379.17642 37.396875 \nL 379.17642 30.396875 \nL 359.17642 30.396875 \nz\n\" style=\"fill:none;stroke:#d62728;stroke-linejoin:miter;\"/>\n    </g>\n    <g id=\"text_20\">\n     <!-- Same -->\n     <defs>\n      <path d=\"M 53.515625 70.515625 \nL 53.515625 60.890625 \nQ 47.90625 63.578125 42.921875 64.890625 \nQ 37.9375 66.21875 33.296875 66.21875 \nQ 25.25 66.21875 20.875 63.09375 \nQ 16.5 59.96875 16.5 54.203125 \nQ 16.5 49.359375 19.40625 46.890625 \nQ 22.3125 44.4375 30.421875 42.921875 \nL 36.375 41.703125 \nQ 47.40625 39.59375 52.65625 34.296875 \nQ 57.90625 29 57.90625 20.125 \nQ 57.90625 9.515625 50.796875 4.046875 \nQ 43.703125 -1.421875 29.984375 -1.421875 \nQ 24.8125 -1.421875 18.96875 -0.25 \nQ 13.140625 0.921875 6.890625 3.21875 \nL 6.890625 13.375 \nQ 12.890625 10.015625 18.65625 8.296875 \nQ 24.421875 6.59375 29.984375 6.59375 \nQ 38.421875 6.59375 43.015625 9.90625 \nQ 47.609375 13.234375 47.609375 19.390625 \nQ 47.609375 24.75 44.3125 27.78125 \nQ 41.015625 30.8125 33.5 32.328125 \nL 27.484375 33.5 \nQ 16.453125 35.6875 11.515625 40.375 \nQ 6.59375 45.0625 6.59375 53.421875 \nQ 6.59375 63.09375 13.40625 68.65625 \nQ 20.21875 74.21875 32.171875 74.21875 \nQ 37.3125 74.21875 42.625 73.28125 \nQ 47.953125 72.359375 53.515625 70.515625 \nz\n\" id=\"DejaVuSans-83\"/>\n      <path d=\"M 34.28125 27.484375 \nQ 23.390625 27.484375 19.1875 25 \nQ 14.984375 22.515625 14.984375 16.5 \nQ 14.984375 11.71875 18.140625 8.90625 \nQ 21.296875 6.109375 26.703125 6.109375 \nQ 34.1875 6.109375 38.703125 11.40625 \nQ 43.21875 16.703125 43.21875 25.484375 \nL 43.21875 27.484375 \nz\nM 52.203125 31.203125 \nL 52.203125 0 \nL 43.21875 0 \nL 43.21875 8.296875 \nQ 40.140625 3.328125 35.546875 0.953125 \nQ 30.953125 -1.421875 24.3125 -1.421875 \nQ 15.921875 -1.421875 10.953125 3.296875 \nQ 6 8.015625 6 15.921875 \nQ 6 25.140625 12.171875 29.828125 \nQ 18.359375 34.515625 30.609375 34.515625 \nL 43.21875 34.515625 \nL 43.21875 35.40625 \nQ 43.21875 41.609375 39.140625 45 \nQ 35.0625 48.390625 27.6875 48.390625 \nQ 23 48.390625 18.546875 47.265625 \nQ 14.109375 46.140625 10.015625 43.890625 \nL 10.015625 52.203125 \nQ 14.9375 54.109375 19.578125 55.046875 \nQ 24.21875 56 28.609375 56 \nQ 40.484375 56 46.34375 49.84375 \nQ 52.203125 43.703125 52.203125 31.203125 \nz\n\" id=\"DejaVuSans-97\"/>\n     </defs>\n     <g transform=\"translate(387.17642 37.396875)scale(0.1 -0.1)\">\n      <use xlink:href=\"#DejaVuSans-83\"/>\n      <use x=\"63.476562\" xlink:href=\"#DejaVuSans-97\"/>\n      <use x=\"124.755859\" xlink:href=\"#DejaVuSans-109\"/>\n      <use x=\"222.167969\" xlink:href=\"#DejaVuSans-101\"/>\n     </g>\n    </g>\n    <g id=\"patch_11\">\n     <path d=\"M 359.17642 52.075 \nL 379.17642 52.075 \nL 379.17642 45.075 \nL 359.17642 45.075 \nz\n\" style=\"fill:none;opacity:0.75;stroke:#2ca02c;stroke-linejoin:miter;\"/>\n    </g>\n    <g id=\"text_21\">\n     <!-- Different -->\n     <defs>\n      <path d=\"M 19.671875 64.796875 \nL 19.671875 8.109375 \nL 31.59375 8.109375 \nQ 46.6875 8.109375 53.6875 14.9375 \nQ 60.6875 21.78125 60.6875 36.53125 \nQ 60.6875 51.171875 53.6875 57.984375 \nQ 46.6875 64.796875 31.59375 64.796875 \nz\nM 9.8125 72.90625 \nL 30.078125 72.90625 \nQ 51.265625 72.90625 61.171875 64.09375 \nQ 71.09375 55.28125 71.09375 36.53125 \nQ 71.09375 17.671875 61.125 8.828125 \nQ 51.171875 0 30.078125 0 \nL 9.8125 0 \nz\n\" id=\"DejaVuSans-68\"/>\n      <path d=\"M 37.109375 75.984375 \nL 37.109375 68.5 \nL 28.515625 68.5 \nQ 23.6875 68.5 21.796875 66.546875 \nQ 19.921875 64.59375 19.921875 59.515625 \nL 19.921875 54.6875 \nL 34.71875 54.6875 \nL 34.71875 47.703125 \nL 19.921875 47.703125 \nL 19.921875 0 \nL 10.890625 0 \nL 10.890625 47.703125 \nL 2.296875 47.703125 \nL 2.296875 54.6875 \nL 10.890625 54.6875 \nL 10.890625 58.5 \nQ 10.890625 67.625 15.140625 71.796875 \nQ 19.390625 75.984375 28.609375 75.984375 \nz\n\" id=\"DejaVuSans-102\"/>\n     </defs>\n     <g transform=\"translate(387.17642 52.075)scale(0.1 -0.1)\">\n      <use xlink:href=\"#DejaVuSans-68\"/>\n      <use x=\"77.001953\" xlink:href=\"#DejaVuSans-105\"/>\n      <use x=\"104.785156\" xlink:href=\"#DejaVuSans-102\"/>\n      <use x=\"139.990234\" xlink:href=\"#DejaVuSans-102\"/>\n      <use x=\"175.195312\" xlink:href=\"#DejaVuSans-101\"/>\n      <use x=\"236.71875\" xlink:href=\"#DejaVuSans-114\"/>\n      <use x=\"275.582031\" xlink:href=\"#DejaVuSans-101\"/>\n      <use x=\"337.105469\" xlink:href=\"#DejaVuSans-110\"/>\n      <use x=\"400.484375\" xlink:href=\"#DejaVuSans-116\"/>\n     </g>\n    </g>\n   </g>\n  </g>\n  <g id=\"axes_2\">\n   <g id=\"patch_12\">\n    <path d=\"M 516.23608 428.498437 \nL 896.690625 428.498437 \nL 896.690625 20.798437 \nL 516.23608 20.798437 \nz\n\" style=\"fill:#ffffff;\"/>\n   </g>\n   <g id=\"patch_13\">\n    <path clip-path=\"url(#pb328293dcf)\" d=\"M 533.529468 428.498437 \nL 533.529468 420.98075 \nL 540.446823 420.98075 \nL 540.446823 428.484199 \nL 547.364179 428.484199 \nL 547.364179 428.469961 \nL 554.281534 428.469961 \nL 554.281534 428.071296 \nL 561.198889 428.071296 \nL 561.198889 426.462397 \nL 568.116245 426.462397 \nL 568.116245 422.746267 \nL 575.0336 422.746267 \nL 575.0336 422.461507 \nL 581.950956 422.461507 \nL 581.950956 415.840816 \nL 588.868311 415.840816 \nL 588.868311 418.318236 \nL 595.785666 418.318236 \nL 595.785666 415.171628 \nL 602.703022 415.171628 \nL 602.703022 405.54671 \nL 609.620377 405.54671 \nL 609.620377 391.878187 \nL 616.537732 391.878187 \nL 616.537732 395.637031 \nL 623.455088 395.637031 \nL 623.455088 384.787641 \nL 630.372443 384.787641 \nL 630.372443 385.499543 \nL 637.289799 385.499543 \nL 637.289799 361.722008 \nL 644.207154 361.722008 \nL 644.207154 361.294867 \nL 651.124509 361.294867 \nL 651.124509 374.23725 \nL 658.041865 374.23725 \nL 658.041865 356.809883 \nL 664.95922 356.809883 \nL 664.95922 394.270178 \nL 671.876575 394.270178 \nL 671.876575 328.590079 \nL 678.793931 328.590079 \nL 678.793931 343.226788 \nL 685.711286 343.226788 \nL 685.711286 359.031018 \nL 692.628642 359.031018 \nL 692.628642 330.98207 \nL 699.545997 330.98207 \nL 699.545997 410.145598 \nL 706.463352 410.145598 \nL 706.463352 307.930676 \nL 713.380708 307.930676 \nL 713.380708 339.510659 \nL 720.298063 339.510659 \nL 720.298063 356.126457 \nL 727.215418 356.126457 \nL 727.215418 354.702652 \nL 734.132774 354.702652 \nL 734.132774 376.586527 \nL 741.050129 376.586527 \nL 741.050129 345.148924 \nL 747.967485 345.148924 \nL 747.967485 352.367613 \nL 754.88484 352.367613 \nL 754.88484 417.805666 \nL 761.802195 417.805666 \nL 761.802195 304.285736 \nL 768.719551 304.285736 \nL 768.719551 396.291981 \nL 775.636906 396.291981 \nL 775.636906 363.160051 \nL 782.554261 363.160051 \nL 782.554261 381.313558 \nL 789.471617 381.313558 \nL 789.471617 382.808552 \nL 796.388972 382.808552 \nL 796.388972 371.446593 \nL 803.306327 371.446593 \nL 803.306327 418.901995 \nL 810.223683 418.901995 \nL 810.223683 371.560497 \nL 817.141038 371.560497 \nL 817.141038 384.873069 \nL 824.058394 384.873069 \nL 824.058394 377.170287 \nL 830.975749 377.170287 \nL 830.975749 404.606999 \nL 837.893104 404.606999 \nL 837.893104 403.311337 \nL 844.81046 403.311337 \nL 844.81046 405.560948 \nL 851.727815 405.560948 \nL 851.727815 407.910225 \nL 858.64517 407.910225 \nL 858.64517 413.292206 \nL 865.562526 413.292206 \nL 865.562526 426.063732 \nL 872.479881 426.063732 \nL 872.479881 426.305779 \nL 879.397237 426.305779 \nL 879.397237 428.498437 \n\" style=\"fill:none;stroke:#d62728;stroke-linejoin:miter;\"/>\n   </g>\n   <g id=\"patch_14\">\n    <path clip-path=\"url(#pb328293dcf)\" d=\"M 533.529468 428.498437 \nL 533.529468 40.212723 \nL 540.446823 40.212723 \nL 540.446823 426.704444 \nL 547.364179 426.704444 \nL 547.364179 382.466839 \nL 554.281534 382.466839 \nL 554.281534 339.838134 \nL 561.198889 339.838134 \nL 561.198889 310.635904 \nL 568.116245 310.635904 \nL 568.116245 274.001416 \nL 575.0336 274.001416 \nL 575.0336 303.645024 \nL 581.950956 303.645024 \nL 581.950956 310.963379 \nL 588.868311 310.963379 \nL 588.868311 306.777394 \nL 595.785666 306.777394 \nL 595.785666 316.174504 \nL 602.703022 316.174504 \nL 602.703022 288.040128 \nL 609.620377 288.040128 \nL 609.620377 289.378504 \nL 616.537732 289.378504 \nL 616.537732 309.311766 \nL 623.455088 309.311766 \nL 623.455088 311.518663 \nL 630.372443 311.518663 \nL 630.372443 329.843026 \nL 637.289799 329.843026 \nL 637.289799 313.58318 \nL 644.207154 313.58318 \nL 644.207154 323.777619 \nL 651.124509 323.777619 \nL 651.124509 353.962274 \nL 658.041865 353.962274 \nL 658.041865 341.660603 \nL 664.95922 341.660603 \nL 664.95922 390.212336 \nL 671.876575 390.212336 \nL 671.876575 328.091747 \nL 678.793931 328.091747 \nL 678.793931 352.16828 \nL 685.711286 352.16828 \nL 685.711286 365.253043 \nL 692.628642 365.253043 \nL 692.628642 351.612997 \nL 699.545997 351.612997 \nL 699.545997 415.613007 \nL 706.463352 415.613007 \nL 706.463352 331.693972 \nL 713.380708 331.693972 \nL 713.380708 365.623233 \nL 720.298063 365.623233 \nL 720.298063 376.031243 \nL 727.215418 376.031243 \nL 727.215418 372.799207 \nL 734.132774 372.799207 \nL 734.132774 396.363171 \nL 741.050129 396.363171 \nL 741.050129 367.346036 \nL 747.967485 367.346036 \nL 747.967485 377.141811 \nL 754.88484 377.141811 \nL 754.88484 421.920461 \nL 761.802195 421.920461 \nL 761.802195 337.716665 \nL 768.719551 337.716665 \nL 768.719551 406.842372 \nL 775.636906 406.842372 \nL 775.636906 383.677073 \nL 782.554261 383.677073 \nL 782.554261 394.384083 \nL 789.471617 394.384083 \nL 789.471617 388.162057 \nL 796.388972 388.162057 \nL 796.388972 387.806106 \nL 803.306327 387.806106 \nL 803.306327 418.716901 \nL 810.223683 418.716901 \nL 810.223683 381.285082 \nL 817.141038 381.285082 \nL 817.141038 389.941813 \nL 824.058394 389.941813 \nL 824.058394 385.442591 \nL 830.975749 385.442591 \nL 830.975749 393.045706 \nL 837.893104 393.045706 \nL 837.893104 398.057498 \nL 844.81046 398.057498 \nL 844.81046 383.036361 \nL 851.727815 383.036361 \nL 851.727815 390.739143 \nL 858.64517 390.739143 \nL 858.64517 415.257056 \nL 865.562526 415.257056 \nL 865.562526 427.373632 \nL 872.479881 427.373632 \nL 872.479881 427.985868 \nL 879.397237 427.985868 \nL 879.397237 428.498437 \n\" style=\"fill:none;opacity:0.75;stroke:#2ca02c;stroke-linejoin:miter;\"/>\n   </g>\n   <g id=\"matplotlib.axis_3\">\n    <g id=\"xtick_9\">\n     <g id=\"line2d_17\">\n      <g>\n       <use style=\"stroke:#000000;stroke-width:0.8;\" x=\"533.529468\" xlink:href=\"#mb8fd9b5205\" y=\"428.498437\"/>\n      </g>\n     </g>\n     <g id=\"text_22\">\n      <!-- 0.0 -->\n      <g transform=\"translate(525.577905 443.096875)scale(0.1 -0.1)\">\n       <use xlink:href=\"#DejaVuSans-48\"/>\n       <use x=\"63.623047\" xlink:href=\"#DejaVuSans-46\"/>\n       <use x=\"95.410156\" xlink:href=\"#DejaVuSans-48\"/>\n      </g>\n     </g>\n    </g>\n    <g id=\"xtick_10\">\n     <g id=\"line2d_18\">\n      <g>\n       <use style=\"stroke:#000000;stroke-width:0.8;\" x=\"602.703022\" xlink:href=\"#mb8fd9b5205\" y=\"428.498437\"/>\n      </g>\n     </g>\n     <g id=\"text_23\">\n      <!-- 0.1 -->\n      <g transform=\"translate(594.751459 443.096875)scale(0.1 -0.1)\">\n       <use xlink:href=\"#DejaVuSans-48\"/>\n       <use x=\"63.623047\" xlink:href=\"#DejaVuSans-46\"/>\n       <use x=\"95.410156\" xlink:href=\"#DejaVuSans-49\"/>\n      </g>\n     </g>\n    </g>\n    <g id=\"xtick_11\">\n     <g id=\"line2d_19\">\n      <g>\n       <use style=\"stroke:#000000;stroke-width:0.8;\" x=\"671.876575\" xlink:href=\"#mb8fd9b5205\" y=\"428.498437\"/>\n      </g>\n     </g>\n     <g id=\"text_24\">\n      <!-- 0.2 -->\n      <g transform=\"translate(663.925013 443.096875)scale(0.1 -0.1)\">\n       <use xlink:href=\"#DejaVuSans-48\"/>\n       <use x=\"63.623047\" xlink:href=\"#DejaVuSans-46\"/>\n       <use x=\"95.410156\" xlink:href=\"#DejaVuSans-50\"/>\n      </g>\n     </g>\n    </g>\n    <g id=\"xtick_12\">\n     <g id=\"line2d_20\">\n      <g>\n       <use style=\"stroke:#000000;stroke-width:0.8;\" x=\"741.050129\" xlink:href=\"#mb8fd9b5205\" y=\"428.498437\"/>\n      </g>\n     </g>\n     <g id=\"text_25\">\n      <!-- 0.3 -->\n      <g transform=\"translate(733.098567 443.096875)scale(0.1 -0.1)\">\n       <use xlink:href=\"#DejaVuSans-48\"/>\n       <use x=\"63.623047\" xlink:href=\"#DejaVuSans-46\"/>\n       <use x=\"95.410156\" xlink:href=\"#DejaVuSans-51\"/>\n      </g>\n     </g>\n    </g>\n    <g id=\"xtick_13\">\n     <g id=\"line2d_21\">\n      <g>\n       <use style=\"stroke:#000000;stroke-width:0.8;\" x=\"810.223683\" xlink:href=\"#mb8fd9b5205\" y=\"428.498437\"/>\n      </g>\n     </g>\n     <g id=\"text_26\">\n      <!-- 0.4 -->\n      <g transform=\"translate(802.27212 443.096875)scale(0.1 -0.1)\">\n       <use xlink:href=\"#DejaVuSans-48\"/>\n       <use x=\"63.623047\" xlink:href=\"#DejaVuSans-46\"/>\n       <use x=\"95.410156\" xlink:href=\"#DejaVuSans-52\"/>\n      </g>\n     </g>\n    </g>\n    <g id=\"xtick_14\">\n     <g id=\"line2d_22\">\n      <g>\n       <use style=\"stroke:#000000;stroke-width:0.8;\" x=\"879.397237\" xlink:href=\"#mb8fd9b5205\" y=\"428.498437\"/>\n      </g>\n     </g>\n     <g id=\"text_27\">\n      <!-- 0.5 -->\n      <g transform=\"translate(871.445674 443.096875)scale(0.1 -0.1)\">\n       <use xlink:href=\"#DejaVuSans-48\"/>\n       <use x=\"63.623047\" xlink:href=\"#DejaVuSans-46\"/>\n       <use x=\"95.410156\" xlink:href=\"#DejaVuSans-53\"/>\n      </g>\n     </g>\n    </g>\n    <g id=\"text_28\">\n     <!-- nb_common_words/(nb_words_question1+nb_words_question2) -->\n     <defs>\n      <path d=\"M 25.390625 72.90625 \nL 33.6875 72.90625 \nL 8.296875 -9.28125 \nL 0 -9.28125 \nz\n\" id=\"DejaVuSans-47\"/>\n      <path d=\"M 31 75.875 \nQ 24.46875 64.65625 21.28125 53.65625 \nQ 18.109375 42.671875 18.109375 31.390625 \nQ 18.109375 20.125 21.3125 9.0625 \nQ 24.515625 -2 31 -13.1875 \nL 23.1875 -13.1875 \nQ 15.875 -1.703125 12.234375 9.375 \nQ 8.59375 20.453125 8.59375 31.390625 \nQ 8.59375 42.28125 12.203125 53.3125 \nQ 15.828125 64.359375 23.1875 75.875 \nz\n\" id=\"DejaVuSans-40\"/>\n      <path d=\"M 46 62.703125 \nL 46 35.5 \nL 73.1875 35.5 \nL 73.1875 27.203125 \nL 46 27.203125 \nL 46 0 \nL 37.796875 0 \nL 37.796875 27.203125 \nL 10.59375 27.203125 \nL 10.59375 35.5 \nL 37.796875 35.5 \nL 37.796875 62.703125 \nz\n\" id=\"DejaVuSans-43\"/>\n      <path d=\"M 8.015625 75.875 \nL 15.828125 75.875 \nQ 23.140625 64.359375 26.78125 53.3125 \nQ 30.421875 42.28125 30.421875 31.390625 \nQ 30.421875 20.453125 26.78125 9.375 \nQ 23.140625 -1.703125 15.828125 -13.1875 \nL 8.015625 -13.1875 \nQ 14.5 -2 17.703125 9.0625 \nQ 20.90625 20.125 20.90625 31.390625 \nQ 20.90625 42.671875 17.703125 53.65625 \nQ 14.5 64.65625 8.015625 75.875 \nz\n\" id=\"DejaVuSans-41\"/>\n     </defs>\n     <g transform=\"translate(546.629759 456.775)scale(0.1 -0.1)\">\n      <use xlink:href=\"#DejaVuSans-110\"/>\n      <use x=\"63.378906\" xlink:href=\"#DejaVuSans-98\"/>\n      <use x=\"126.855469\" xlink:href=\"#DejaVuSans-95\"/>\n      <use x=\"176.855469\" xlink:href=\"#DejaVuSans-99\"/>\n      <use x=\"231.835938\" xlink:href=\"#DejaVuSans-111\"/>\n      <use x=\"293.017578\" xlink:href=\"#DejaVuSans-109\"/>\n      <use x=\"390.429688\" xlink:href=\"#DejaVuSans-109\"/>\n      <use x=\"487.841797\" xlink:href=\"#DejaVuSans-111\"/>\n      <use x=\"549.023438\" xlink:href=\"#DejaVuSans-110\"/>\n      <use x=\"612.402344\" xlink:href=\"#DejaVuSans-95\"/>\n      <use x=\"662.402344\" xlink:href=\"#DejaVuSans-119\"/>\n      <use x=\"744.189453\" xlink:href=\"#DejaVuSans-111\"/>\n      <use x=\"805.371094\" xlink:href=\"#DejaVuSans-114\"/>\n      <use x=\"844.734375\" xlink:href=\"#DejaVuSans-100\"/>\n      <use x=\"908.210938\" xlink:href=\"#DejaVuSans-115\"/>\n      <use x=\"960.310547\" xlink:href=\"#DejaVuSans-47\"/>\n      <use x=\"994.001953\" xlink:href=\"#DejaVuSans-40\"/>\n      <use x=\"1033.015625\" xlink:href=\"#DejaVuSans-110\"/>\n      <use x=\"1096.394531\" xlink:href=\"#DejaVuSans-98\"/>\n      <use x=\"1159.871094\" xlink:href=\"#DejaVuSans-95\"/>\n      <use x=\"1209.871094\" xlink:href=\"#DejaVuSans-119\"/>\n      <use x=\"1291.658203\" xlink:href=\"#DejaVuSans-111\"/>\n      <use x=\"1352.839844\" xlink:href=\"#DejaVuSans-114\"/>\n      <use x=\"1392.203125\" xlink:href=\"#DejaVuSans-100\"/>\n      <use x=\"1455.679688\" xlink:href=\"#DejaVuSans-115\"/>\n      <use x=\"1507.779297\" xlink:href=\"#DejaVuSans-95\"/>\n      <use x=\"1557.779297\" xlink:href=\"#DejaVuSans-113\"/>\n      <use x=\"1621.255859\" xlink:href=\"#DejaVuSans-117\"/>\n      <use x=\"1684.634766\" xlink:href=\"#DejaVuSans-101\"/>\n      <use x=\"1746.158203\" xlink:href=\"#DejaVuSans-115\"/>\n      <use x=\"1798.257812\" xlink:href=\"#DejaVuSans-116\"/>\n      <use x=\"1837.466797\" xlink:href=\"#DejaVuSans-105\"/>\n      <use x=\"1865.25\" xlink:href=\"#DejaVuSans-111\"/>\n      <use x=\"1926.431641\" xlink:href=\"#DejaVuSans-110\"/>\n      <use x=\"1989.810547\" xlink:href=\"#DejaVuSans-49\"/>\n      <use x=\"2053.433594\" xlink:href=\"#DejaVuSans-43\"/>\n      <use x=\"2137.222656\" xlink:href=\"#DejaVuSans-110\"/>\n      <use x=\"2200.601562\" xlink:href=\"#DejaVuSans-98\"/>\n      <use x=\"2264.078125\" xlink:href=\"#DejaVuSans-95\"/>\n      <use x=\"2314.078125\" xlink:href=\"#DejaVuSans-119\"/>\n      <use x=\"2395.865234\" xlink:href=\"#DejaVuSans-111\"/>\n      <use x=\"2457.046875\" xlink:href=\"#DejaVuSans-114\"/>\n      <use x=\"2496.410156\" xlink:href=\"#DejaVuSans-100\"/>\n      <use x=\"2559.886719\" xlink:href=\"#DejaVuSans-115\"/>\n      <use x=\"2611.986328\" xlink:href=\"#DejaVuSans-95\"/>\n      <use x=\"2661.986328\" xlink:href=\"#DejaVuSans-113\"/>\n      <use x=\"2725.462891\" xlink:href=\"#DejaVuSans-117\"/>\n      <use x=\"2788.841797\" xlink:href=\"#DejaVuSans-101\"/>\n      <use x=\"2850.365234\" xlink:href=\"#DejaVuSans-115\"/>\n      <use x=\"2902.464844\" xlink:href=\"#DejaVuSans-116\"/>\n      <use x=\"2941.673828\" xlink:href=\"#DejaVuSans-105\"/>\n      <use x=\"2969.457031\" xlink:href=\"#DejaVuSans-111\"/>\n      <use x=\"3030.638672\" xlink:href=\"#DejaVuSans-110\"/>\n      <use x=\"3094.017578\" xlink:href=\"#DejaVuSans-50\"/>\n      <use x=\"3157.640625\" xlink:href=\"#DejaVuSans-41\"/>\n     </g>\n    </g>\n   </g>\n   <g id=\"matplotlib.axis_4\">\n    <g id=\"ytick_9\">\n     <g id=\"line2d_23\">\n      <g>\n       <use style=\"stroke:#000000;stroke-width:0.8;\" x=\"516.23608\" xlink:href=\"#m6bfeda0030\" y=\"428.498437\"/>\n      </g>\n     </g>\n     <g id=\"text_29\">\n      <!-- 0 -->\n      <g transform=\"translate(502.87358 432.297656)scale(0.1 -0.1)\">\n       <use xlink:href=\"#DejaVuSans-48\"/>\n      </g>\n     </g>\n    </g>\n    <g id=\"ytick_10\">\n     <g id=\"line2d_24\">\n      <g>\n       <use style=\"stroke:#000000;stroke-width:0.8;\" x=\"516.23608\" xlink:href=\"#m6bfeda0030\" y=\"357.308215\"/>\n      </g>\n     </g>\n     <g id=\"text_30\">\n      <!-- 5000 -->\n      <g transform=\"translate(483.78608 361.107433)scale(0.1 -0.1)\">\n       <use xlink:href=\"#DejaVuSans-53\"/>\n       <use x=\"63.623047\" xlink:href=\"#DejaVuSans-48\"/>\n       <use x=\"127.246094\" xlink:href=\"#DejaVuSans-48\"/>\n       <use x=\"190.869141\" xlink:href=\"#DejaVuSans-48\"/>\n      </g>\n     </g>\n    </g>\n    <g id=\"ytick_11\">\n     <g id=\"line2d_25\">\n      <g>\n       <use style=\"stroke:#000000;stroke-width:0.8;\" x=\"516.23608\" xlink:href=\"#m6bfeda0030\" y=\"286.117992\"/>\n      </g>\n     </g>\n     <g id=\"text_31\">\n      <!-- 10000 -->\n      <g transform=\"translate(477.42358 289.91721)scale(0.1 -0.1)\">\n       <use xlink:href=\"#DejaVuSans-49\"/>\n       <use x=\"63.623047\" xlink:href=\"#DejaVuSans-48\"/>\n       <use x=\"127.246094\" xlink:href=\"#DejaVuSans-48\"/>\n       <use x=\"190.869141\" xlink:href=\"#DejaVuSans-48\"/>\n       <use x=\"254.492188\" xlink:href=\"#DejaVuSans-48\"/>\n      </g>\n     </g>\n    </g>\n    <g id=\"ytick_12\">\n     <g id=\"line2d_26\">\n      <g>\n       <use style=\"stroke:#000000;stroke-width:0.8;\" x=\"516.23608\" xlink:href=\"#m6bfeda0030\" y=\"214.927769\"/>\n      </g>\n     </g>\n     <g id=\"text_32\">\n      <!-- 15000 -->\n      <g transform=\"translate(477.42358 218.726987)scale(0.1 -0.1)\">\n       <use xlink:href=\"#DejaVuSans-49\"/>\n       <use x=\"63.623047\" xlink:href=\"#DejaVuSans-53\"/>\n       <use x=\"127.246094\" xlink:href=\"#DejaVuSans-48\"/>\n       <use x=\"190.869141\" xlink:href=\"#DejaVuSans-48\"/>\n       <use x=\"254.492188\" xlink:href=\"#DejaVuSans-48\"/>\n      </g>\n     </g>\n    </g>\n    <g id=\"ytick_13\">\n     <g id=\"line2d_27\">\n      <g>\n       <use style=\"stroke:#000000;stroke-width:0.8;\" x=\"516.23608\" xlink:href=\"#m6bfeda0030\" y=\"143.737546\"/>\n      </g>\n     </g>\n     <g id=\"text_33\">\n      <!-- 20000 -->\n      <g transform=\"translate(477.42358 147.536764)scale(0.1 -0.1)\">\n       <use xlink:href=\"#DejaVuSans-50\"/>\n       <use x=\"63.623047\" xlink:href=\"#DejaVuSans-48\"/>\n       <use x=\"127.246094\" xlink:href=\"#DejaVuSans-48\"/>\n       <use x=\"190.869141\" xlink:href=\"#DejaVuSans-48\"/>\n       <use x=\"254.492188\" xlink:href=\"#DejaVuSans-48\"/>\n      </g>\n     </g>\n    </g>\n    <g id=\"ytick_14\">\n     <g id=\"line2d_28\">\n      <g>\n       <use style=\"stroke:#000000;stroke-width:0.8;\" x=\"516.23608\" xlink:href=\"#m6bfeda0030\" y=\"72.547323\"/>\n      </g>\n     </g>\n     <g id=\"text_34\">\n      <!-- 25000 -->\n      <g transform=\"translate(477.42358 76.346541)scale(0.1 -0.1)\">\n       <use xlink:href=\"#DejaVuSans-50\"/>\n       <use x=\"63.623047\" xlink:href=\"#DejaVuSans-53\"/>\n       <use x=\"127.246094\" xlink:href=\"#DejaVuSans-48\"/>\n       <use x=\"190.869141\" xlink:href=\"#DejaVuSans-48\"/>\n       <use x=\"254.492188\" xlink:href=\"#DejaVuSans-48\"/>\n      </g>\n     </g>\n    </g>\n    <g id=\"text_35\">\n     <!-- Nb -->\n     <g transform=\"translate(471.343892 231.563281)rotate(-90)scale(0.1 -0.1)\">\n      <use xlink:href=\"#DejaVuSans-78\"/>\n      <use x=\"74.804688\" xlink:href=\"#DejaVuSans-98\"/>\n     </g>\n    </g>\n   </g>\n   <g id=\"patch_15\">\n    <path d=\"M 516.23608 428.498437 \nL 516.23608 20.798437 \n\" style=\"fill:none;stroke:#000000;stroke-linecap:square;stroke-linejoin:miter;stroke-width:0.8;\"/>\n   </g>\n   <g id=\"patch_16\">\n    <path d=\"M 896.690625 428.498437 \nL 896.690625 20.798437 \n\" style=\"fill:none;stroke:#000000;stroke-linecap:square;stroke-linejoin:miter;stroke-width:0.8;\"/>\n   </g>\n   <g id=\"patch_17\">\n    <path d=\"M 516.23608 428.498437 \nL 896.690625 428.498437 \n\" style=\"fill:none;stroke:#000000;stroke-linecap:square;stroke-linejoin:miter;stroke-width:0.8;\"/>\n   </g>\n   <g id=\"patch_18\">\n    <path d=\"M 516.23608 20.798437 \nL 896.690625 20.798437 \n\" style=\"fill:none;stroke:#000000;stroke-linecap:square;stroke-linejoin:miter;stroke-width:0.8;\"/>\n   </g>\n   <g id=\"text_36\">\n    <!-- AUC nb_common_words/(nb_words_question1+nb_words_question2) : 0.734773 -->\n    <g transform=\"translate(505.74929 14.798437)scale(0.1 -0.1)\">\n     <use xlink:href=\"#DejaVuSans-65\"/>\n     <use x=\"68.408203\" xlink:href=\"#DejaVuSans-85\"/>\n     <use x=\"141.601562\" xlink:href=\"#DejaVuSans-67\"/>\n     <use x=\"211.425781\" xlink:href=\"#DejaVuSans-32\"/>\n     <use x=\"243.212891\" xlink:href=\"#DejaVuSans-110\"/>\n     <use x=\"306.591797\" xlink:href=\"#DejaVuSans-98\"/>\n     <use x=\"370.068359\" xlink:href=\"#DejaVuSans-95\"/>\n     <use x=\"420.068359\" xlink:href=\"#DejaVuSans-99\"/>\n     <use x=\"475.048828\" xlink:href=\"#DejaVuSans-111\"/>\n     <use x=\"536.230469\" xlink:href=\"#DejaVuSans-109\"/>\n     <use x=\"633.642578\" xlink:href=\"#DejaVuSans-109\"/>\n     <use x=\"731.054688\" xlink:href=\"#DejaVuSans-111\"/>\n     <use x=\"792.236328\" xlink:href=\"#DejaVuSans-110\"/>\n     <use x=\"855.615234\" xlink:href=\"#DejaVuSans-95\"/>\n     <use x=\"905.615234\" xlink:href=\"#DejaVuSans-119\"/>\n     <use x=\"987.402344\" xlink:href=\"#DejaVuSans-111\"/>\n     <use x=\"1048.583984\" xlink:href=\"#DejaVuSans-114\"/>\n     <use x=\"1087.947266\" xlink:href=\"#DejaVuSans-100\"/>\n     <use x=\"1151.423828\" xlink:href=\"#DejaVuSans-115\"/>\n     <use x=\"1203.523438\" xlink:href=\"#DejaVuSans-47\"/>\n     <use x=\"1237.214844\" xlink:href=\"#DejaVuSans-40\"/>\n     <use x=\"1276.228516\" xlink:href=\"#DejaVuSans-110\"/>\n     <use x=\"1339.607422\" xlink:href=\"#DejaVuSans-98\"/>\n     <use x=\"1403.083984\" xlink:href=\"#DejaVuSans-95\"/>\n     <use x=\"1453.083984\" xlink:href=\"#DejaVuSans-119\"/>\n     <use x=\"1534.871094\" xlink:href=\"#DejaVuSans-111\"/>\n     <use x=\"1596.052734\" xlink:href=\"#DejaVuSans-114\"/>\n     <use x=\"1635.416016\" xlink:href=\"#DejaVuSans-100\"/>\n     <use x=\"1698.892578\" xlink:href=\"#DejaVuSans-115\"/>\n     <use x=\"1750.992188\" xlink:href=\"#DejaVuSans-95\"/>\n     <use x=\"1800.992188\" xlink:href=\"#DejaVuSans-113\"/>\n     <use x=\"1864.46875\" xlink:href=\"#DejaVuSans-117\"/>\n     <use x=\"1927.847656\" xlink:href=\"#DejaVuSans-101\"/>\n     <use x=\"1989.371094\" xlink:href=\"#DejaVuSans-115\"/>\n     <use x=\"2041.470703\" xlink:href=\"#DejaVuSans-116\"/>\n     <use x=\"2080.679688\" xlink:href=\"#DejaVuSans-105\"/>\n     <use x=\"2108.462891\" xlink:href=\"#DejaVuSans-111\"/>\n     <use x=\"2169.644531\" xlink:href=\"#DejaVuSans-110\"/>\n     <use x=\"2233.023438\" xlink:href=\"#DejaVuSans-49\"/>\n     <use x=\"2296.646484\" xlink:href=\"#DejaVuSans-43\"/>\n     <use x=\"2380.435547\" xlink:href=\"#DejaVuSans-110\"/>\n     <use x=\"2443.814453\" xlink:href=\"#DejaVuSans-98\"/>\n     <use x=\"2507.291016\" xlink:href=\"#DejaVuSans-95\"/>\n     <use x=\"2557.291016\" xlink:href=\"#DejaVuSans-119\"/>\n     <use x=\"2639.078125\" xlink:href=\"#DejaVuSans-111\"/>\n     <use x=\"2700.259766\" xlink:href=\"#DejaVuSans-114\"/>\n     <use x=\"2739.623047\" xlink:href=\"#DejaVuSans-100\"/>\n     <use x=\"2803.099609\" xlink:href=\"#DejaVuSans-115\"/>\n     <use x=\"2855.199219\" xlink:href=\"#DejaVuSans-95\"/>\n     <use x=\"2905.199219\" xlink:href=\"#DejaVuSans-113\"/>\n     <use x=\"2968.675781\" xlink:href=\"#DejaVuSans-117\"/>\n     <use x=\"3032.054688\" xlink:href=\"#DejaVuSans-101\"/>\n     <use x=\"3093.578125\" xlink:href=\"#DejaVuSans-115\"/>\n     <use x=\"3145.677734\" xlink:href=\"#DejaVuSans-116\"/>\n     <use x=\"3184.886719\" xlink:href=\"#DejaVuSans-105\"/>\n     <use x=\"3212.669922\" xlink:href=\"#DejaVuSans-111\"/>\n     <use x=\"3273.851562\" xlink:href=\"#DejaVuSans-110\"/>\n     <use x=\"3337.230469\" xlink:href=\"#DejaVuSans-50\"/>\n     <use x=\"3400.853516\" xlink:href=\"#DejaVuSans-41\"/>\n     <use x=\"3439.867188\" xlink:href=\"#DejaVuSans-32\"/>\n     <use x=\"3471.654297\" xlink:href=\"#DejaVuSans-58\"/>\n     <use x=\"3505.345703\" xlink:href=\"#DejaVuSans-32\"/>\n     <use x=\"3537.132812\" xlink:href=\"#DejaVuSans-48\"/>\n     <use x=\"3600.755859\" xlink:href=\"#DejaVuSans-46\"/>\n     <use x=\"3632.542969\" xlink:href=\"#DejaVuSans-55\"/>\n     <use x=\"3696.166016\" xlink:href=\"#DejaVuSans-51\"/>\n     <use x=\"3759.789062\" xlink:href=\"#DejaVuSans-52\"/>\n     <use x=\"3823.412109\" xlink:href=\"#DejaVuSans-55\"/>\n     <use x=\"3887.035156\" xlink:href=\"#DejaVuSans-55\"/>\n     <use x=\"3950.658203\" xlink:href=\"#DejaVuSans-51\"/>\n    </g>\n   </g>\n   <g id=\"legend_2\">\n    <g id=\"patch_19\">\n     <path d=\"M 813.721875 58.154687 \nL 889.690625 58.154687 \nQ 891.690625 58.154687 891.690625 56.154687 \nL 891.690625 27.798437 \nQ 891.690625 25.798437 889.690625 25.798437 \nL 813.721875 25.798437 \nQ 811.721875 25.798437 811.721875 27.798437 \nL 811.721875 56.154687 \nQ 811.721875 58.154687 813.721875 58.154687 \nz\n\" style=\"fill:#ffffff;opacity:0.8;stroke:#cccccc;stroke-linejoin:miter;\"/>\n    </g>\n    <g id=\"patch_20\">\n     <path d=\"M 815.721875 37.396875 \nL 835.721875 37.396875 \nL 835.721875 30.396875 \nL 815.721875 30.396875 \nz\n\" style=\"fill:none;stroke:#d62728;stroke-linejoin:miter;\"/>\n    </g>\n    <g id=\"text_37\">\n     <!-- Same -->\n     <g transform=\"translate(843.721875 37.396875)scale(0.1 -0.1)\">\n      <use xlink:href=\"#DejaVuSans-83\"/>\n      <use x=\"63.476562\" xlink:href=\"#DejaVuSans-97\"/>\n      <use x=\"124.755859\" xlink:href=\"#DejaVuSans-109\"/>\n      <use x=\"222.167969\" xlink:href=\"#DejaVuSans-101\"/>\n     </g>\n    </g>\n    <g id=\"patch_21\">\n     <path d=\"M 815.721875 52.075 \nL 835.721875 52.075 \nL 835.721875 45.075 \nL 815.721875 45.075 \nz\n\" style=\"fill:none;opacity:0.75;stroke:#2ca02c;stroke-linejoin:miter;\"/>\n    </g>\n    <g id=\"text_38\">\n     <!-- Different -->\n     <g transform=\"translate(843.721875 52.075)scale(0.1 -0.1)\">\n      <use xlink:href=\"#DejaVuSans-68\"/>\n      <use x=\"77.001953\" xlink:href=\"#DejaVuSans-105\"/>\n      <use x=\"104.785156\" xlink:href=\"#DejaVuSans-102\"/>\n      <use x=\"139.990234\" xlink:href=\"#DejaVuSans-102\"/>\n      <use x=\"175.195312\" xlink:href=\"#DejaVuSans-101\"/>\n      <use x=\"236.71875\" xlink:href=\"#DejaVuSans-114\"/>\n      <use x=\"275.582031\" xlink:href=\"#DejaVuSans-101\"/>\n      <use x=\"337.105469\" xlink:href=\"#DejaVuSans-110\"/>\n      <use x=\"400.484375\" xlink:href=\"#DejaVuSans-116\"/>\n     </g>\n    </g>\n   </g>\n  </g>\n </g>\n <defs>\n  <clipPath id=\"p7c4a8511f0\">\n   <rect height=\"407.7\" width=\"380.454545\" x=\"59.690625\" y=\"20.798437\"/>\n  </clipPath>\n  <clipPath id=\"pb328293dcf\">\n   <rect height=\"407.7\" width=\"380.454545\" x=\"516.23608\" y=\"20.798437\"/>\n  </clipPath>\n </defs>\n</svg>\n",
      "image/png": "[encoded data removed]"
     },
     "metadata": {
      "needs_background": "light"
     }
    }
   ],
   "source": [
    "show_all_simple_AUC_in_grid(train_dataframe,nb_columns=2)"
   ]
  },
  {
   "cell_type": "code",
   "execution_count": null,
   "metadata": {
    "tags": []
   },
   "outputs": [],
   "source": []
  },
  {
   "cell_type": "markdown",
   "metadata": {},
   "source": [
    "## Code to build simple naive bayes model on these features"
   ]
  },
  {
   "cell_type": "code",
   "execution_count": 12,
   "metadata": {
    "tags": []
   },
   "outputs": [],
   "source": [
    "\n",
    "from sklearn.model_selection import train_test_split\n",
    "from sklearn.naive_bayes import GaussianNB\n",
    "from sklearn.naive_bayes import MultinomialNB\n",
    "from sklearn import metrics\n",
    "\n",
    "# This will add a suffix to all keys of a dict\n",
    "# Used to add _test,_train,_full to keys of infos about a model\n",
    "\n",
    "FAKE_INFOS_ON_MODEL_TEST_TRAIN = {\n",
    "    'accuracy_train': 0,\n",
    "    'score_train': 0,\n",
    "    'logloss_proba_train': 0,\n",
    "    'model_train': None,\n",
    "    'accuracy_test': 0,\n",
    "    'score_test': 0,\n",
    "    'logloss_proba_test': 0,\n",
    "    'model_test': None\n",
    "}\n",
    "\n",
    "FAKE_INFOS_ON_MODEL_FULL = {\n",
    "    'accuracy_full': 0,\n",
    "    'score_full': 0,\n",
    "    'logloss_proba_full': 0,\n",
    "    'model_full': None\n",
    "}\n",
    "\n",
    "\n",
    "PRINT_INFOS_ON_2_MODELS = {\n",
    "    'accuracy_test': '%.4f',\n",
    "    'score_test': '%.4f',\n",
    "    'logloss_proba_test': '%.4f',\n",
    "\n",
    "    'accuracy_train': '%.4f',\n",
    "    'score_train': '%.4f',\n",
    "    'logloss_proba_train': '%.4f',\n",
    "\n",
    "    'accuracy_full': '%.4f',\n",
    "    'score_full': '%.4f',\n",
    "    'logloss_proba_full': '%.4f',\n",
    "\n",
    "    'nb_features': '%d',\n",
    "    'column_names': '%s'\n",
    "}\n",
    "\n",
    "PRINT_INFOS_ON_MODEL_TRAIN = {\n",
    "    'accuracy_train': '%.4f',\n",
    "    'score_train': '%.4f',\n",
    "    'logloss_proba_train': '%.4f',\n",
    "}\n",
    "\n",
    "PRINT_INFOS_ON_MODEL_TEST = {\n",
    "    'accuracy_test': '%.4f',\n",
    "    'score_test': '%.4f',\n",
    "    'logloss_proba_test': '%.4f',\n",
    "}\n",
    "\n",
    "PRINT_INFOS_ON_MODEL_FULL = {\n",
    "    'accuracy_full': '%.4f',\n",
    "    'score_full': '%.4f',\n",
    "    'logloss_proba_full': '%.4f'\n",
    "}\n",
    "\n",
    "def add_suffix_to_keys(d,s):\n",
    "    return dict(zip([k+s for k in d.keys()],d.values()))\n",
    "\n",
    "def format_model_infos(message,keys_formats,infos):\n",
    "    values = list()\n",
    "    for k,f in keys_formats.items():\n",
    "        values.append( f % infos[k])\n",
    "    #return print_info( '%s %s' %(message,'&nbsp;|&nbsp;'.join(values)))\n",
    "    return '%s %s' %(message,' | '.join(values))\n",
    "\n",
    "def print_model_infos(message,keys_formats,infos):\n",
    "    print_info(format_model_infos(message,keys_formats,infos))\n",
    "def print_header_infos_model(key_formats):\n",
    "    print_info('|'.join(key_formats.keys()))\n",
    "\n",
    "\n",
    "def compute_metrics_model(model,input_df,target_df,suffix,show=True):\n",
    "    prediction_df = model.predict(input_df)\n",
    "    prediction_proba_df = model.predict_proba(input_df)\n",
    "    res = metrics.classification_report(target_df,prediction_df,output_dict=True)\n",
    "    accuracy = res['accuracy']\n",
    "    score = res['0']['f1-score']*(1-0.17)+res['1']['f1-score']*.17\n",
    "    logloss_proba = metrics.log_loss(target_df,prediction_proba_df)\n",
    "    if show:\n",
    "        print('Classification report on %s' % suffix)\n",
    "        print(metrics.classification_report(target_df,prediction_df))\n",
    "    return add_suffix_to_keys(\n",
    "            {\n",
    "             'accuracy':accuracy,\n",
    "             'score':score,\n",
    "             'logloss_proba':logloss_proba,\n",
    "             'model':model\n",
    "           },\n",
    "           suffix)\n",
    "\n",
    "\n",
    "def build_naivebayes_model_with_test(input,column_names,target,show=True):\n",
    "    # print_bullet('Multinomial Naive Bayes with test on %s' % clean_combination_name(column_names))\n",
    "    input_train = pandas.DataFrame()\n",
    "    for column_name in column_names:\n",
    "        input_train[column_name]=input[column_name]\n",
    "    target_train = target\n",
    "    input_train,input_test,target_train,target_test = train_test_split(input_train,target_train,random_state=42,test_size=0.2)\n",
    "    if show:\n",
    "        print_info( 'Training on %d Test %d x %d' % (len(input_train),len(input_test),len(input_train.columns)))\n",
    "    model = MultinomialNB()\n",
    "    #naive_bayes_classifier_with_test=ComplementNB()\n",
    "    model.fit(input_train,target_train)\n",
    "    infos = compute_metrics_model(model,input_test,target_test,'_test',show=show)\n",
    "    infos.update(compute_metrics_model(model,input_train,target_train,'_train',show=show))\n",
    "    if show:      \n",
    "        print_model_infos('Test ',PRINT_INFOS_ON_MODEL_TEST,infos)\n",
    "        print_model_infos('Train ',PRINT_INFOS_ON_MODEL_TRAIN,infos)\n",
    "    return  infos\n",
    "    \n",
    "def build_naivebayes_model_full(input,column_names,target,show=True):\n",
    "    input_full = pandas.DataFrame()\n",
    "    for column_name in column_names:\n",
    "        input_full[column_name] = input[column_name]\n",
    "    if show:\n",
    "        print_info( 'Training on %dx%d' % (len(input_full),len(input_full.columns)))\n",
    "    target_full = target\n",
    "    model = MultinomialNB()\n",
    "    model.fit(input_full,target_full)\n",
    "    infos = compute_metrics_model(model,input_full,target_full,'_full',show=show)\n",
    "    if show:\n",
    "        print_model_infos('Full ',PRINT_INFOS_ON_MODEL_FULL,infos)\n",
    "    return infos\n",
    "\n",
    "def FAKE_build_naivebayes_model_full(input,column_names,target,show=True):\n",
    "    return FAKE_INFOS_ON_MODEL_FULL\n",
    "\n",
    "def FAKE_build_naivebayes_model_with_test(input,column_names,target,show=True):\n",
    "    return FAKE_INFOS_ON_MODEL_TEST_TRAIN\n",
    "\n",
    "def build_model(train_dataframe,column_names,target,show=True):\n",
    "    infos = build_naivebayes_model_with_test(train_dataframe,column_names,target,show=show)\n",
    "    infos.update(build_naivebayes_model_full(train_dataframe,column_names,target,show=show))\n",
    "    infos.update(\n",
    "        {\n",
    "            'nb_features':len(column_names),\n",
    "            'column_names':clean_combination_name(column_names),\n",
    "            'columns': column_names\n",
    "        })\n",
    "    return infos\n",
    "\n",
    "def FAKE_build_model(train_dataframe,column_names,target,show=True):\n",
    "    infos = FAKE_build_naivebayes_model_with_test(train_dataframe,column_names,target,show=show)\n",
    "    infos.update(FAKE_build_naivebayes_model_full(train_dataframe,column_names,target,show=show))\n",
    "    infos.update(\n",
    "        {\n",
    "            'nb_features':len(column_names),\n",
    "            'column_names':clean_combination_name(column_names),\n",
    "            'columns': column_names\n",
    "        })\n",
    "    return infos"
   ]
  },
  {
   "cell_type": "markdown",
   "metadata": {},
   "source": [
    "## Build one model as a quick check"
   ]
  },
  {
   "cell_type": "code",
   "execution_count": 13,
   "metadata": {
    "tags": []
   },
   "outputs": [
    {
     "output_type": "display_data",
     "data": {
      "text/plain": "<IPython.core.display.HTML object>",
      "text/html": "<span style=\"color:LIMEGREEN\"><small>Training on 323432 Test 80858 x 1</small></span>"
     },
     "metadata": {
      "text/html": {
       "isolated": true
      }
     }
    },
    {
     "output_type": "stream",
     "name": "stdout",
     "text": "Classification report on _test\n              precision    recall  f1-score   support\n\n           0       0.63      1.00      0.77     50803\n           1       0.00      0.00      0.00     30055\n\n    accuracy                           0.63     80858\n   macro avg       0.31      0.50      0.39     80858\nweighted avg       0.39      0.63      0.48     80858\n\nClassification report on _train\n              precision    recall  f1-score   support\n\n           0       0.63      1.00      0.77    204224\n           1       0.00      0.00      0.00    119208\n\n    accuracy                           0.63    323432\n   macro avg       0.32      0.50      0.39    323432\nweighted avg       0.40      0.63      0.49    323432\n\n"
    },
    {
     "output_type": "display_data",
     "data": {
      "text/plain": "<IPython.core.display.HTML object>",
      "text/html": "<span style=\"color:LIMEGREEN\"><small>Test  0.6283 | 0.6405 | 0.6599</small></span>"
     },
     "metadata": {
      "text/html": {
       "isolated": true
      }
     }
    },
    {
     "output_type": "display_data",
     "data": {
      "text/plain": "<IPython.core.display.HTML object>",
      "text/html": "<span style=\"color:LIMEGREEN\"><small>Train  0.6314 | 0.6425 | 0.6582</small></span>"
     },
     "metadata": {
      "text/html": {
       "isolated": true
      }
     }
    },
    {
     "output_type": "display_data",
     "data": {
      "text/plain": "<IPython.core.display.HTML object>",
      "text/html": "<span style=\"color:LIMEGREEN\"><small>Training on 404290x1</small></span>"
     },
     "metadata": {
      "text/html": {
       "isolated": true
      }
     }
    },
    {
     "output_type": "stream",
     "name": "stdout",
     "text": "Classification report on _full\n              precision    recall  f1-score   support\n\n           0       0.63      1.00      0.77    255027\n           1       0.00      0.00      0.00    149263\n\n    accuracy                           0.63    404290\n   macro avg       0.32      0.50      0.39    404290\nweighted avg       0.40      0.63      0.49    404290\n\n"
    },
    {
     "output_type": "display_data",
     "data": {
      "text/plain": "<IPython.core.display.HTML object>",
      "text/html": "<span style=\"color:LIMEGREEN\"><small>Full  0.6308 | 0.6421 | 0.6585</small></span>"
     },
     "metadata": {
      "text/html": {
       "isolated": true
      }
     }
    },
    {
     "output_type": "execute_result",
     "data": {
      "text/plain": "{'accuracy_test': 0.6282989932968909,\n 'score_test': 0.640531212735738,\n 'logloss_proba_test': 0.6598757918253548,\n 'model_test': MultinomialNB(),\n 'accuracy_train': 0.631427935392911,\n 'score_train': 0.6424864684567217,\n 'logloss_proba_train': 0.6581913334694939,\n 'model_train': MultinomialNB(),\n 'accuracy_full': 0.630802146973707,\n 'score_full': 0.6420960175454294,\n 'logloss_proba_full': 0.6585273839844356,\n 'model_full': MultinomialNB(),\n 'nb_features': 1,\n 'column_names': 'nb_words_question1',\n 'columns': ['nb_words_question1']}"
     },
     "metadata": {},
     "execution_count": 13
    }
   ],
   "source": [
    "model_result = build_model(train_dataframe,['nb_words_question1'],train_dataframe['is_duplicate'])\n",
    "model_result"
   ]
  },
  {
   "cell_type": "code",
   "execution_count": 20,
   "metadata": {},
   "outputs": [],
   "source": [
    "# bad design choice : a DataFrame can be more convenient than a dict\n",
    "# But then, it is convenient to suppress all non numeric/string columns\n",
    "def models_dict_to_df(models_dict):\n",
    "    # reorder also the columns in a way I use more convenient\n",
    "    return pandas.DataFrame.from_dict(models_dict, orient='index').reindex(columns=['logloss_proba_test','logloss_proba_train','logloss_proba_full','nb_features','column_names','accuracy_test','accuracy_train','accuracy_full','score_test','score_train','score_full','model_test','model_train','model_full','columns'])\n",
    "\n",
    "def build_model_on_all_subset_of_simple_features(dataframe,target):\n",
    "    print_section('%s : Build all models (with test+full) on every combination of simple features' % EXPERIMENT)\n",
    "    models_dict = dict()\n",
    "    print_header_infos_model(PRINT_INFOS_ON_2_MODELS)\n",
    "    all_combinations = list(all_subsets(all_numeric_columns(dataframe)))\n",
    "    progress = tqdm(all_combinations)\n",
    "    for c in progress:\n",
    "        #if (len(c)) ==1:\n",
    "        if (len(c)) >0:\n",
    "            infos = build_model(dataframe,c,target,show=False)\n",
    "            models_dict[clean_combination_name(c)] = infos\n",
    "            print_info(format_model_infos('',PRINT_INFOS_ON_2_MODELS,infos))\n",
    "            progress.refresh()\n",
    "    print_done('Done')\n",
    "    # Design mistake : need to convert dict to dataframe :(\n",
    "    return models_dict_to_df(models_dict)\n",
    "\n",
    "\n",
    "def FAKE_build_model_on_all_subset_of_simple_features(dataframe,target):\n",
    "    print_section('%s : Build all models (with test+full) on every combination of simple features' % EXPERIMENT)\n",
    "    models_dict = dict()\n",
    "    print_header_infos_model(PRINT_INFOS_ON_2_MODELS)\n",
    "    all_combinations = list(all_subsets(all_numeric_columns(dataframe)))\n",
    "    progress = tqdm(all_combinations)\n",
    "    for c in progress:\n",
    "        if (len(c)) <2:\n",
    "            infos = FAKE_build_model(dataframe,c,target,show=False)\n",
    "            models_dict[clean_combination_name(c)] = infos\n",
    "            print_info(format_model_infos('',PRINT_INFOS_ON_2_MODELS,infos))\n",
    "            progress.refresh()\n",
    "    print_done('Done')\n",
    "    # Design mistake : need to convert dict to dataframe :(\n",
    "    return models_dict_to_df(models_dict)"
   ]
  },
  {
   "cell_type": "markdown",
   "metadata": {},
   "source": [
    "## Then build models (test & full) on all combinations of features"
   ]
  },
  {
   "cell_type": "code",
   "execution_count": 21,
   "metadata": {
    "tags": []
   },
   "outputs": [
    {
     "output_type": "display_data",
     "data": {
      "text/plain": "<IPython.core.display.HTML object>",
      "text/html": "<b>multinomial_naivebayes_unbalanced : Build all models (with test+full) on every combination of simple features</b>"
     },
     "metadata": {
      "text/html": {
       "isolated": true
      }
     }
    },
    {
     "output_type": "display_data",
     "data": {
      "text/plain": "<IPython.core.display.HTML object>",
      "text/html": "<HR>"
     },
     "metadata": {
      "text/html": {
       "isolated": true
      }
     }
    },
    {
     "output_type": "display_data",
     "data": {
      "text/plain": "<IPython.core.display.HTML object>",
      "text/html": "<span style=\"color:LIMEGREEN\"><small>accuracy_test|score_test|logloss_proba_test|accuracy_train|score_train|logloss_proba_train|accuracy_full|score_full|logloss_proba_full|nb_features|column_names</small></span>"
     },
     "metadata": {
      "text/html": {
       "isolated": true
      }
     }
    },
    {
     "output_type": "display_data",
     "data": {
      "text/plain": "HBox(children=(FloatProgress(value=0.0, max=256.0), HTML(value='')))",
      "application/vnd.jupyter.widget-view+json": {
       "version_major": 2,
       "version_minor": 0,
       "model_id": "4ccb58cad3d0427f8bd6059cd34f9f7f"
      }
     },
     "metadata": {}
    },
    {
     "output_type": "display_data",
     "data": {
      "text/plain": "<IPython.core.display.HTML object>",
      "text/html": "<span style=\"color:LIMEGREEN\"><small> 0.6283 | 0.6405 | 0.6599 | 0.6314 | 0.6425 | 0.6582 | 0.6308 | 0.6421 | 0.6585 | 1 | nb_words_question1</small></span>"
     },
     "metadata": {
      "text/html": {
       "isolated": true
      }
     }
    },
    {
     "output_type": "display_data",
     "data": {
      "text/plain": "<IPython.core.display.HTML object>",
      "text/html": "<span style=\"color:LIMEGREEN\"><small> 0.6283 | 0.6405 | 0.6599 | 0.6314 | 0.6425 | 0.6582 | 0.6308 | 0.6421 | 0.6585 | 1 | nb_words_question2</small></span>"
     },
     "metadata": {
      "text/html": {
       "isolated": true
      }
     }
    },
    {
     "output_type": "display_data",
     "data": {
      "text/plain": "<IPython.core.display.HTML object>",
      "text/html": "<span style=\"color:LIMEGREEN\"><small> 0.6283 | 0.6405 | 0.6599 | 0.6314 | 0.6425 | 0.6582 | 0.6308 | 0.6421 | 0.6585 | 1 | nb_common_words</small></span>"
     },
     "metadata": {
      "text/html": {
       "isolated": true
      }
     }
    },
    {
     "output_type": "display_data",
     "data": {
      "text/plain": "<IPython.core.display.HTML object>",
      "text/html": "<span style=\"color:LIMEGREEN\"><small> 0.6283 | 0.6405 | 0.6599 | 0.6314 | 0.6425 | 0.6582 | 0.6308 | 0.6421 | 0.6585 | 1 | nb_common_words/nb_words_question1</small></span>"
     },
     "metadata": {
      "text/html": {
       "isolated": true
      }
     }
    },
    {
     "output_type": "display_data",
     "data": {
      "text/plain": "<IPython.core.display.HTML object>",
      "text/html": "<span style=\"color:LIMEGREEN\"><small> 0.6283 | 0.6405 | 0.6599 | 0.6314 | 0.6425 | 0.6582 | 0.6308 | 0.6421 | 0.6585 | 1 | nb_common_words/nb_words_question2</small></span>"
     },
     "metadata": {
      "text/html": {
       "isolated": true
      }
     }
    },
    {
     "output_type": "display_data",
     "data": {
      "text/plain": "<IPython.core.display.HTML object>",
      "text/html": "<span style=\"color:LIMEGREEN\"><small> 0.6283 | 0.6405 | 0.6599 | 0.6314 | 0.6425 | 0.6582 | 0.6308 | 0.6421 | 0.6585 | 1 | nb_words_question1-common_words</small></span>"
     },
     "metadata": {
      "text/html": {
       "isolated": true
      }
     }
    },
    {
     "output_type": "display_data",
     "data": {
      "text/plain": "<IPython.core.display.HTML object>",
      "text/html": "<span style=\"color:LIMEGREEN\"><small> 0.6283 | 0.6405 | 0.6599 | 0.6314 | 0.6425 | 0.6582 | 0.6308 | 0.6421 | 0.6585 | 1 | nb_words_question2-common_words</small></span>"
     },
     "metadata": {
      "text/html": {
       "isolated": true
      }
     }
    },
    {
     "output_type": "display_data",
     "data": {
      "text/plain": "<IPython.core.display.HTML object>",
      "text/html": "<span style=\"color:LIMEGREEN\"><small> 0.6283 | 0.6405 | 0.6599 | 0.6314 | 0.6425 | 0.6582 | 0.6308 | 0.6421 | 0.6585 | 1 | nb_common_words/(nb_words_question1+nb_words_question2)</small></span>"
     },
     "metadata": {
      "text/html": {
       "isolated": true
      }
     }
    },
    {
     "output_type": "display_data",
     "data": {
      "text/plain": "<IPython.core.display.HTML object>",
      "text/html": "<span style=\"color:LIMEGREEN\"><small> 0.6277 | 0.6402 | 0.6600 | 0.6310 | 0.6422 | 0.6580 | 0.6304 | 0.6418 | 0.6583 | 2 | nb_words_question1+nb_words_question2</small></span>"
     },
     "metadata": {
      "text/html": {
       "isolated": true
      }
     }
    },
    {
     "output_type": "display_data",
     "data": {
      "text/plain": "<IPython.core.display.HTML object>",
      "text/html": "<span style=\"color:LIMEGREEN\"><small> 0.6549 | 0.6977 | 0.6069 | 0.6564 | 0.6990 | 0.6063 | 0.6561 | 0.6988 | 0.6064 | 2 | nb_words_question1+nb_common_words</small></span>"
     },
     "metadata": {
      "text/html": {
       "isolated": true
      }
     }
    },
    {
     "output_type": "display_data",
     "data": {
      "text/plain": "<IPython.core.display.HTML object>",
      "text/html": "<span style=\"color:LIMEGREEN\"><small> 0.6283 | 0.6405 | 0.6294 | 0.6314 | 0.6425 | 0.6279 | 0.6308 | 0.6421 | 0.6282 | 2 | nb_words_question1+nb_common_words/nb_words_question1</small></span>"
     },
     "metadata": {
      "text/html": {
       "isolated": true
      }
     }
    },
    {
     "output_type": "display_data",
     "data": {
      "text/plain": "<IPython.core.display.HTML object>",
      "text/html": "<span style=\"color:LIMEGREEN\"><small> 0.6283 | 0.6405 | 0.6282 | 0.6314 | 0.6425 | 0.6266 | 0.6308 | 0.6421 | 0.6269 | 2 | nb_words_question1+nb_common_words/nb_words_question2</small></span>"
     },
     "metadata": {
      "text/html": {
       "isolated": true
      }
     }
    },
    {
     "output_type": "display_data",
     "data": {
      "text/plain": "<IPython.core.display.HTML object>",
      "text/html": "<span style=\"color:LIMEGREEN\"><small> 0.6313 | 0.6724 | 0.6054 | 0.6328 | 0.6733 | 0.6041 | 0.6335 | 0.6750 | 0.6043 | 2 | nb_words_question1+nb_words_question1-common_words</small></span>"
     },
     "metadata": {
      "text/html": {
       "isolated": true
      }
     }
    },
    {
     "output_type": "display_data",
     "data": {
      "text/plain": "<IPython.core.display.HTML object>",
      "text/html": "<span style=\"color:LIMEGREEN\"><small> 0.5986 | 0.6477 | 0.6778 | 0.6009 | 0.6499 | 0.6733 | 0.6004 | 0.6494 | 0.6737 | 2 | nb_words_question1+nb_words_question2-common_words</small></span>"
     },
     "metadata": {
      "text/html": {
       "isolated": true
      }
     }
    },
    {
     "output_type": "display_data",
     "data": {
      "text/plain": "<IPython.core.display.HTML object>",
      "text/html": "<span style=\"color:LIMEGREEN\"><small> 0.6283 | 0.6405 | 0.6425 | 0.6314 | 0.6425 | 0.6409 | 0.6308 | 0.6421 | 0.6412 | 2 | nb_words_question1+nb_common_words/(nb_words_question1+nb_words_question2)</small></span>"
     },
     "metadata": {
      "text/html": {
       "isolated": true
      }
     }
    },
    {
     "output_type": "display_data",
     "data": {
      "text/plain": "<IPython.core.display.HTML object>",
      "text/html": "<span style=\"color:LIMEGREEN\"><small> 0.6597 | 0.7015 | 0.6093 | 0.6606 | 0.7023 | 0.6070 | 0.6604 | 0.7022 | 0.6074 | 2 | nb_words_question2+nb_common_words</small></span>"
     },
     "metadata": {
      "text/html": {
       "isolated": true
      }
     }
    },
    {
     "output_type": "display_data",
     "data": {
      "text/plain": "<IPython.core.display.HTML object>",
      "text/html": "<span style=\"color:LIMEGREEN\"><small> 0.6283 | 0.6405 | 0.6262 | 0.6314 | 0.6425 | 0.6243 | 0.6308 | 0.6421 | 0.6247 | 2 | nb_words_question2+nb_common_words/nb_words_question1</small></span>"
     },
     "metadata": {
      "text/html": {
       "isolated": true
      }
     }
    },
    {
     "output_type": "display_data",
     "data": {
      "text/plain": "<IPython.core.display.HTML object>",
      "text/html": "<span style=\"color:LIMEGREEN\"><small> 0.6285 | 0.6410 | 0.6269 | 0.6317 | 0.6430 | 0.6248 | 0.6310 | 0.6426 | 0.6253 | 2 | nb_words_question2+nb_common_words/nb_words_question2</small></span>"
     },
     "metadata": {
      "text/html": {
       "isolated": true
      }
     }
    },
    {
     "output_type": "display_data",
     "data": {
      "text/plain": "<IPython.core.display.HTML object>",
      "text/html": "<span style=\"color:LIMEGREEN\"><small> 0.5924 | 0.6431 | 0.6699 | 0.5924 | 0.6431 | 0.6705 | 0.5924 | 0.6431 | 0.6709 | 2 | nb_words_question2+nb_words_question1-common_words</small></span>"
     },
     "metadata": {
      "text/html": {
       "isolated": true
      }
     }
    },
    {
     "output_type": "display_data",
     "data": {
      "text/plain": "<IPython.core.display.HTML object>",
      "text/html": "<span style=\"color:LIMEGREEN\"><small> 0.6318 | 0.6738 | 0.6047 | 0.6345 | 0.6759 | 0.6025 | 0.6340 | 0.6754 | 0.6029 | 2 | nb_words_question2+nb_words_question2-common_words</small></span>"
     },
     "metadata": {
      "text/html": {
       "isolated": true
      }
     }
    },
    {
     "output_type": "display_data",
     "data": {
      "text/plain": "<IPython.core.display.HTML object>",
      "text/html": "<span style=\"color:LIMEGREEN\"><small> 0.6283 | 0.6405 | 0.6410 | 0.6314 | 0.6425 | 0.6392 | 0.6308 | 0.6421 | 0.6396 | 2 | nb_words_question2+nb_common_words/(nb_words_question1+nb_words_question2)</small></span>"
     },
     "metadata": {
      "text/html": {
       "isolated": true
      }
     }
    },
    {
     "output_type": "display_data",
     "data": {
      "text/plain": "<IPython.core.display.HTML object>",
      "text/html": "<span style=\"color:LIMEGREEN\"><small> 0.6283 | 0.6405 | 0.6588 | 0.6314 | 0.6425 | 0.6571 | 0.6308 | 0.6421 | 0.6574 | 2 | nb_common_words+nb_common_words/nb_words_question1</small></span>"
     },
     "metadata": {
      "text/html": {
       "isolated": true
      }
     }
    },
    {
     "output_type": "display_data",
     "data": {
      "text/plain": "<IPython.core.display.HTML object>",
      "text/html": "<span style=\"color:LIMEGREEN\"><small> 0.6283 | 0.6405 | 0.6586 | 0.6314 | 0.6425 | 0.6569 | 0.6308 | 0.6421 | 0.6573 | 2 | nb_common_words+nb_common_words/nb_words_question2</small></span>"
     },
     "metadata": {
      "text/html": {
       "isolated": true
      }
     }
    },
    {
     "output_type": "display_data",
     "data": {
      "text/plain": "<IPython.core.display.HTML object>",
      "text/html": "<span style=\"color:LIMEGREEN\"><small> 0.6633 | 0.7003 | 0.7654 | 0.6644 | 0.7014 | 0.7653 | 0.6641 | 0.7012 | 0.7658 | 2 | nb_common_words+nb_words_question1-common_words</small></span>"
     },
     "metadata": {
      "text/html": {
       "isolated": true
      }
     }
    },
    {
     "output_type": "display_data",
     "data": {
      "text/plain": "<IPython.core.display.HTML object>",
      "text/html": "<span style=\"color:LIMEGREEN\"><small> 0.6659 | 0.7017 | 0.7853 | 0.6675 | 0.7034 | 0.7819 | 0.6672 | 0.7031 | 0.7820 | 2 | nb_common_words+nb_words_question2-common_words</small></span>"
     },
     "metadata": {
      "text/html": {
       "isolated": true
      }
     }
    },
    {
     "output_type": "display_data",
     "data": {
      "text/plain": "<IPython.core.display.HTML object>",
      "text/html": "<span style=\"color:LIMEGREEN\"><small> 0.6283 | 0.6405 | 0.6591 | 0.6314 | 0.6425 | 0.6574 | 0.6308 | 0.6421 | 0.6578 | 2 | nb_common_words+nb_common_words/(nb_words_question1+nb_words_question2)</small></span>"
     },
     "metadata": {
      "text/html": {
       "isolated": true
      }
     }
    },
    {
     "output_type": "display_data",
     "data": {
      "text/plain": "<IPython.core.display.HTML object>",
      "text/html": "<span style=\"color:LIMEGREEN\"><small> 0.6283 | 0.6405 | 0.6599 | 0.6314 | 0.6425 | 0.6582 | 0.6308 | 0.6421 | 0.6585 | 2 | nb_common_words/nb_words_question1+nb_common_words/nb_words_question2</small></span>"
     },
     "metadata": {
      "text/html": {
       "isolated": true
      }
     }
    },
    {
     "output_type": "display_data",
     "data": {
      "text/plain": "<IPython.core.display.HTML object>",
      "text/html": "<span style=\"color:LIMEGREEN\"><small> 0.6285 | 0.6691 | 0.6011 | 0.6310 | 0.6708 | 0.5998 | 0.6305 | 0.6705 | 0.6000 | 2 | nb_common_words/nb_words_question1+nb_words_question1-common_words</small></span>"
     },
     "metadata": {
      "text/html": {
       "isolated": true
      }
     }
    },
    {
     "output_type": "display_data",
     "data": {
      "text/plain": "<IPython.core.display.HTML object>",
      "text/html": "<span style=\"color:LIMEGREEN\"><small> 0.6279 | 0.6687 | 0.5958 | 0.6295 | 0.6699 | 0.5936 | 0.6292 | 0.6697 | 0.5941 | 2 | nb_common_words/nb_words_question1+nb_words_question2-common_words</small></span>"
     },
     "metadata": {
      "text/html": {
       "isolated": true
      }
     }
    },
    {
     "output_type": "display_data",
     "data": {
      "text/plain": "<IPython.core.display.HTML object>",
      "text/html": "<span style=\"color:LIMEGREEN\"><small> 0.6283 | 0.6405 | 0.6599 | 0.6314 | 0.6425 | 0.6582 | 0.6308 | 0.6421 | 0.6585 | 2 | nb_common_words/nb_words_question1+nb_common_words/(nb_words_question1+nb_words_question2)</small></span>"
     },
     "metadata": {
      "text/html": {
       "isolated": true
      }
     }
    },
    {
     "output_type": "display_data",
     "data": {
      "text/plain": "<IPython.core.display.HTML object>",
      "text/html": "<span style=\"color:LIMEGREEN\"><small> 0.6272 | 0.6663 | 0.5977 | 0.6285 | 0.6671 | 0.5963 | 0.6283 | 0.6670 | 0.5965 | 2 | nb_common_words/nb_words_question2+nb_words_question1-common_words</small></span>"
     },
     "metadata": {
      "text/html": {
       "isolated": true
      }
     }
    },
    {
     "output_type": "display_data",
     "data": {
      "text/plain": "<IPython.core.display.HTML object>",
      "text/html": "<span style=\"color:LIMEGREEN\"><small> 0.6285 | 0.6712 | 0.5992 | 0.6306 | 0.6730 | 0.5970 | 0.6304 | 0.6728 | 0.5974 | 2 | nb_common_words/nb_words_question2+nb_words_question2-common_words</small></span>"
     },
     "metadata": {
      "text/html": {
       "isolated": true
      }
     }
    },
    {
     "output_type": "display_data",
     "data": {
      "text/plain": "<IPython.core.display.HTML object>",
      "text/html": "<span style=\"color:LIMEGREEN\"><small> 0.6283 | 0.6405 | 0.6599 | 0.6314 | 0.6425 | 0.6582 | 0.6308 | 0.6421 | 0.6585 | 2 | nb_common_words/nb_words_question2+nb_common_words/(nb_words_question1+nb_words_question2)</small></span>"
     },
     "metadata": {
      "text/html": {
       "isolated": true
      }
     }
    },
    {
     "output_type": "display_data",
     "data": {
      "text/plain": "<IPython.core.display.HTML object>",
      "text/html": "<span style=\"color:LIMEGREEN\"><small> 0.6281 | 0.6404 | 0.6602 | 0.6312 | 0.6424 | 0.6583 | 0.6307 | 0.6420 | 0.6586 | 2 | nb_words_question1-common_words+nb_words_question2-common_words</small></span>"
     },
     "metadata": {
      "text/html": {
       "isolated": true
      }
     }
    },
    {
     "output_type": "display_data",
     "data": {
      "text/plain": "<IPython.core.display.HTML object>",
      "text/html": "<span style=\"color:LIMEGREEN\"><small> 0.6283 | 0.6405 | 0.6211 | 0.6314 | 0.6425 | 0.6196 | 0.6308 | 0.6421 | 0.6198 | 2 | nb_words_question1-common_words+nb_common_words/(nb_words_question1+nb_words_question2)</small></span>"
     },
     "metadata": {
      "text/html": {
       "isolated": true
      }
     }
    },
    {
     "output_type": "display_data",
     "data": {
      "text/plain": "<IPython.core.display.HTML object>",
      "text/html": "<span style=\"color:LIMEGREEN\"><small> 0.6283 | 0.6405 | 0.6192 | 0.6314 | 0.6425 | 0.6172 | 0.6308 | 0.6421 | 0.6176 | 2 | nb_words_question2-common_words+nb_common_words/(nb_words_question1+nb_words_question2)</small></span>"
     },
     "metadata": {
      "text/html": {
       "isolated": true
      }
     }
    },
    {
     "output_type": "display_data",
     "data": {
      "text/plain": "<IPython.core.display.HTML object>",
      "text/html": "<span style=\"color:LIMEGREEN\"><small> 0.6626 | 0.7039 | 0.6051 | 0.6626 | 0.7041 | 0.6035 | 0.6626 | 0.7040 | 0.6038 | 3 | nb_words_question1+nb_words_question2+nb_common_words</small></span>"
     },
     "metadata": {
      "text/html": {
       "isolated": true
      }
     }
    },
    {
     "output_type": "display_data",
     "data": {
      "text/plain": "<IPython.core.display.HTML object>",
      "text/html": "<span style=\"color:LIMEGREEN\"><small> 0.6283 | 0.6405 | 0.6265 | 0.6314 | 0.6425 | 0.6245 | 0.6308 | 0.6421 | 0.6249 | 3 | nb_words_question1+nb_words_question2+nb_common_words/nb_words_question1</small></span>"
     },
     "metadata": {
      "text/html": {
       "isolated": true
      }
     }
    },
    {
     "output_type": "display_data",
     "data": {
      "text/plain": "<IPython.core.display.HTML object>",
      "text/html": "<span style=\"color:LIMEGREEN\"><small> 0.6285 | 0.6411 | 0.6274 | 0.6317 | 0.6431 | 0.6253 | 0.6310 | 0.6427 | 0.6256 | 3 | nb_words_question1+nb_words_question2+nb_common_words/nb_words_question2</small></span>"
     },
     "metadata": {
      "text/html": {
       "isolated": true
      }
     }
    },
    {
     "output_type": "display_data",
     "data": {
      "text/plain": "<IPython.core.display.HTML object>",
      "text/html": "<span style=\"color:LIMEGREEN\"><small> 0.6257 | 0.6720 | 0.6294 | 0.6268 | 0.6729 | 0.6290 | 0.6262 | 0.6725 | 0.6297 | 3 | nb_words_question1+nb_words_question2+nb_words_question1-common_words</small></span>"
     },
     "metadata": {
      "text/html": {
       "isolated": true
      }
     }
    },
    {
     "output_type": "display_data",
     "data": {
      "text/plain": "<IPython.core.display.HTML object>",
      "text/html": "<span style=\"color:LIMEGREEN\"><small> 0.6209 | 0.6678 | 0.6494 | 0.6229 | 0.6696 | 0.6457 | 0.6227 | 0.6694 | 0.6457 | 3 | nb_words_question1+nb_words_question2+nb_words_question2-common_words</small></span>"
     },
     "metadata": {
      "text/html": {
       "isolated": true
      }
     }
    },
    {
     "output_type": "display_data",
     "data": {
      "text/plain": "<IPython.core.display.HTML object>",
      "text/html": "<span style=\"color:LIMEGREEN\"><small> 0.6283 | 0.6405 | 0.6417 | 0.6314 | 0.6425 | 0.6397 | 0.6308 | 0.6421 | 0.6400 | 3 | nb_words_question1+nb_words_question2+nb_common_words/(nb_words_question1+nb_words_question2)</small></span>"
     },
     "metadata": {
      "text/html": {
       "isolated": true
      }
     }
    },
    {
     "output_type": "display_data",
     "data": {
      "text/plain": "<IPython.core.display.HTML object>",
      "text/html": "<span style=\"color:LIMEGREEN\"><small> 0.6564 | 0.6987 | 0.6071 | 0.6586 | 0.7007 | 0.6066 | 0.6582 | 0.7003 | 0.6067 | 3 | nb_words_question1+nb_common_words+nb_common_words/nb_words_question1</small></span>"
     },
     "metadata": {
      "text/html": {
       "isolated": true
      }
     }
    },
    {
     "output_type": "display_data",
     "data": {
      "text/plain": "<IPython.core.display.HTML object>",
      "text/html": "<span style=\"color:LIMEGREEN\"><small> 0.6589 | 0.7006 | 0.6037 | 0.6602 | 0.7019 | 0.6032 | 0.6602 | 0.7018 | 0.6034 | 3 | nb_words_question1+nb_common_words+nb_common_words/nb_words_question2</small></span>"
     },
     "metadata": {
      "text/html": {
       "isolated": true
      }
     }
    },
    {
     "output_type": "display_data",
     "data": {
      "text/plain": "<IPython.core.display.HTML object>",
      "text/html": "<span style=\"color:LIMEGREEN\"><small> 0.6633 | 0.7002 | 0.7654 | 0.6644 | 0.7014 | 0.7652 | 0.6641 | 0.7012 | 0.7658 | 3 | nb_words_question1+nb_common_words+nb_words_question1-common_words</small></span>"
     },
     "metadata": {
      "text/html": {
       "isolated": true
      }
     }
    },
    {
     "output_type": "display_data",
     "data": {
      "text/plain": "<IPython.core.display.HTML object>",
      "text/html": "<span style=\"color:LIMEGREEN\"><small> 0.6658 | 0.7017 | 0.7870 | 0.6674 | 0.7033 | 0.7836 | 0.6671 | 0.7030 | 0.7834 | 3 | nb_words_question1+nb_common_words+nb_words_question2-common_words</small></span>"
     },
     "metadata": {
      "text/html": {
       "isolated": true
      }
     }
    },
    {
     "output_type": "display_data",
     "data": {
      "text/plain": "<IPython.core.display.HTML object>",
      "text/html": "<span style=\"color:LIMEGREEN\"><small> 0.6576 | 0.6997 | 0.6059 | 0.6593 | 0.7013 | 0.6053 | 0.6590 | 0.7010 | 0.6055 | 3 | nb_words_question1+nb_common_words+nb_common_words/(nb_words_question1+nb_words_question2)</small></span>"
     },
     "metadata": {
      "text/html": {
       "isolated": true
      }
     }
    },
    {
     "output_type": "display_data",
     "data": {
      "text/plain": "<IPython.core.display.HTML object>",
      "text/html": "<span style=\"color:LIMEGREEN\"><small> 0.6371 | 0.6651 | 0.6086 | 0.6398 | 0.6671 | 0.6072 | 0.6398 | 0.6678 | 0.6074 | 3 | nb_words_question1+nb_common_words/nb_words_question1+nb_common_words/nb_words_question2</small></span>"
     },
     "metadata": {
      "text/html": {
       "isolated": true
      }
     }
    },
    {
     "output_type": "display_data",
     "data": {
      "text/plain": "<IPython.core.display.HTML object>",
      "text/html": "<span style=\"color:LIMEGREEN\"><small> 0.6508 | 0.6942 | 0.5998 | 0.6525 | 0.6957 | 0.5987 | 0.6521 | 0.6954 | 0.5989 | 3 | nb_words_question1+nb_common_words/nb_words_question1+nb_words_question1-common_words</small></span>"
     },
     "metadata": {
      "text/html": {
       "isolated": true
      }
     }
    },
    {
     "output_type": "display_data",
     "data": {
      "text/plain": "<IPython.core.display.HTML object>",
      "text/html": "<span style=\"color:LIMEGREEN\"><small> 0.6235 | 0.6675 | 0.6537 | 0.6250 | 0.6691 | 0.6495 | 0.6248 | 0.6688 | 0.6498 | 3 | nb_words_question1+nb_common_words/nb_words_question1+nb_words_question2-common_words</small></span>"
     },
     "metadata": {
      "text/html": {
       "isolated": true
      }
     }
    },
    {
     "output_type": "display_data",
     "data": {
      "text/plain": "<IPython.core.display.HTML object>",
      "text/html": "<span style=\"color:LIMEGREEN\"><small> 0.6318 | 0.6466 | 0.6182 | 0.6358 | 0.6495 | 0.6168 | 0.6350 | 0.6490 | 0.6171 | 3 | nb_words_question1+nb_common_words/nb_words_question1+nb_common_words/(nb_words_question1+nb_words_question2)</small></span>"
     },
     "metadata": {
      "text/html": {
       "isolated": true
      }
     }
    },
    {
     "output_type": "display_data",
     "data": {
      "text/plain": "<IPython.core.display.HTML object>",
      "text/html": "<span style=\"color:LIMEGREEN\"><small> 0.6512 | 0.6946 | 0.5956 | 0.6522 | 0.6954 | 0.5944 | 0.6521 | 0.6954 | 0.5946 | 3 | nb_words_question1+nb_common_words/nb_words_question2+nb_words_question1-common_words</small></span>"
     },
     "metadata": {
      "text/html": {
       "isolated": true
      }
     }
    },
    {
     "output_type": "display_data",
     "data": {
      "text/plain": "<IPython.core.display.HTML object>",
      "text/html": "<span style=\"color:LIMEGREEN\"><small> 0.6200 | 0.6639 | 0.6664 | 0.6218 | 0.6656 | 0.6621 | 0.6214 | 0.6653 | 0.6623 | 3 | nb_words_question1+nb_common_words/nb_words_question2+nb_words_question2-common_words</small></span>"
     },
     "metadata": {
      "text/html": {
       "isolated": true
      }
     }
    },
    {
     "output_type": "display_data",
     "data": {
      "text/plain": "<IPython.core.display.HTML object>",
      "text/html": "<span style=\"color:LIMEGREEN\"><small> 0.6320 | 0.6467 | 0.6168 | 0.6354 | 0.6489 | 0.6152 | 0.6349 | 0.6488 | 0.6155 | 3 | nb_words_question1+nb_common_words/nb_words_question2+nb_common_words/(nb_words_question1+nb_words_question2)</small></span>"
     },
     "metadata": {
      "text/html": {
       "isolated": true
      }
     }
    },
    {
     "output_type": "display_data",
     "data": {
      "text/plain": "<IPython.core.display.HTML object>",
      "text/html": "<span style=\"color:LIMEGREEN\"><small> 0.6426 | 0.6869 | 0.6323 | 0.6438 | 0.6880 | 0.6292 | 0.6437 | 0.6880 | 0.6292 | 3 | nb_words_question1+nb_words_question1-common_words+nb_words_question2-common_words</small></span>"
     },
     "metadata": {
      "text/html": {
       "isolated": true
      }
     }
    },
    {
     "output_type": "display_data",
     "data": {
      "text/plain": "<IPython.core.display.HTML object>",
      "text/html": "<span style=\"color:LIMEGREEN\"><small> 0.6458 | 0.6893 | 0.5996 | 0.6471 | 0.6904 | 0.5984 | 0.6470 | 0.6903 | 0.5986 | 3 | nb_words_question1+nb_words_question1-common_words+nb_common_words/(nb_words_question1+nb_words_question2)</small></span>"
     },
     "metadata": {
      "text/html": {
       "isolated": true
      }
     }
    },
    {
     "output_type": "display_data",
     "data": {
      "text/plain": "<IPython.core.display.HTML object>",
      "text/html": "<span style=\"color:LIMEGREEN\"><small> 0.6117 | 0.6580 | 0.6669 | 0.6142 | 0.6604 | 0.6625 | 0.6137 | 0.6599 | 0.6628 | 3 | nb_words_question1+nb_words_question2-common_words+nb_common_words/(nb_words_question1+nb_words_question2)</small></span>"
     },
     "metadata": {
      "text/html": {
       "isolated": true
      }
     }
    },
    {
     "output_type": "display_data",
     "data": {
      "text/plain": "<IPython.core.display.HTML object>",
      "text/html": "<span style=\"color:LIMEGREEN\"><small> 0.6618 | 0.7026 | 0.6075 | 0.6634 | 0.7042 | 0.6052 | 0.6631 | 0.7039 | 0.6056 | 3 | nb_words_question2+nb_common_words+nb_common_words/nb_words_question1</small></span>"
     },
     "metadata": {
      "text/html": {
       "isolated": true
      }
     }
    },
    {
     "output_type": "display_data",
     "data": {
      "text/plain": "<IPython.core.display.HTML object>",
      "text/html": "<span style=\"color:LIMEGREEN\"><small> 0.6634 | 0.7030 | 0.6115 | 0.6658 | 0.7053 | 0.6092 | 0.6653 | 0.7048 | 0.6095 | 3 | nb_words_question2+nb_common_words+nb_common_words/nb_words_question2</small></span>"
     },
     "metadata": {
      "text/html": {
       "isolated": true
      }
     }
    },
    {
     "output_type": "display_data",
     "data": {
      "text/plain": "<IPython.core.display.HTML object>",
      "text/html": "<span style=\"color:LIMEGREEN\"><small> 0.6667 | 0.7033 | 0.7575 | 0.6671 | 0.7039 | 0.7571 | 0.6670 | 0.7037 | 0.7579 | 3 | nb_words_question2+nb_common_words+nb_words_question1-common_words</small></span>"
     },
     "metadata": {
      "text/html": {
       "isolated": true
      }
     }
    },
    {
     "output_type": "display_data",
     "data": {
      "text/plain": "<IPython.core.display.HTML object>",
      "text/html": "<span style=\"color:LIMEGREEN\"><small> 0.6658 | 0.7017 | 0.7852 | 0.6675 | 0.7034 | 0.7818 | 0.6672 | 0.7031 | 0.7819 | 3 | nb_words_question2+nb_common_words+nb_words_question2-common_words</small></span>"
     },
     "metadata": {
      "text/html": {
       "isolated": true
      }
     }
    },
    {
     "output_type": "display_data",
     "data": {
      "text/plain": "<IPython.core.display.HTML object>",
      "text/html": "<span style=\"color:LIMEGREEN\"><small> 0.6597 | 0.7012 | 0.6092 | 0.6608 | 0.7022 | 0.6069 | 0.6606 | 0.7020 | 0.6072 | 3 | nb_words_question2+nb_common_words+nb_common_words/(nb_words_question1+nb_words_question2)</small></span>"
     },
     "metadata": {
      "text/html": {
       "isolated": true
      }
     }
    },
    {
     "output_type": "display_data",
     "data": {
      "text/plain": "<IPython.core.display.HTML object>",
      "text/html": "<span style=\"color:LIMEGREEN\"><small> 0.6390 | 0.6703 | 0.6058 | 0.6408 | 0.6716 | 0.6036 | 0.6395 | 0.6709 | 0.6041 | 3 | nb_words_question2+nb_common_words/nb_words_question1+nb_common_words/nb_words_question2</small></span>"
     },
     "metadata": {
      "text/html": {
       "isolated": true
      }
     }
    },
    {
     "output_type": "display_data",
     "data": {
      "text/plain": "<IPython.core.display.HTML object>",
      "text/html": "<span style=\"color:LIMEGREEN\"><small> 0.6196 | 0.6654 | 0.6494 | 0.6213 | 0.6671 | 0.6498 | 0.6205 | 0.6662 | 0.6504 | 3 | nb_words_question2+nb_common_words/nb_words_question1+nb_words_question1-common_words</small></span>"
     },
     "metadata": {
      "text/html": {
       "isolated": true
      }
     }
    },
    {
     "output_type": "display_data",
     "data": {
      "text/plain": "<IPython.core.display.HTML object>",
      "text/html": "<span style=\"color:LIMEGREEN\"><small> 0.6508 | 0.6942 | 0.5955 | 0.6524 | 0.6956 | 0.5931 | 0.6523 | 0.6955 | 0.5936 | 3 | nb_words_question2+nb_common_words/nb_words_question1+nb_words_question2-common_words</small></span>"
     },
     "metadata": {
      "text/html": {
       "isolated": true
      }
     }
    },
    {
     "output_type": "display_data",
     "data": {
      "text/plain": "<IPython.core.display.HTML object>",
      "text/html": "<span style=\"color:LIMEGREEN\"><small> 0.6327 | 0.6478 | 0.6142 | 0.6366 | 0.6507 | 0.6122 | 0.6362 | 0.6517 | 0.6127 | 3 | nb_words_question2+nb_common_words/nb_words_question1+nb_common_words/(nb_words_question1+nb_words_question2)</small></span>"
     },
     "metadata": {
      "text/html": {
       "isolated": true
      }
     }
    },
    {
     "output_type": "display_data",
     "data": {
      "text/plain": "<IPython.core.display.HTML object>",
      "text/html": "<span style=\"color:LIMEGREEN\"><small> 0.6246 | 0.6704 | 0.6381 | 0.6257 | 0.6715 | 0.6384 | 0.6252 | 0.6709 | 0.6390 | 3 | nb_words_question2+nb_common_words/nb_words_question2+nb_words_question1-common_words</small></span>"
     },
     "metadata": {
      "text/html": {
       "isolated": true
      }
     }
    },
    {
     "output_type": "display_data",
     "data": {
      "text/plain": "<IPython.core.display.HTML object>",
      "text/html": "<span style=\"color:LIMEGREEN\"><small> 0.6516 | 0.6946 | 0.6003 | 0.6530 | 0.6959 | 0.5979 | 0.6527 | 0.6957 | 0.5983 | 3 | nb_words_question2+nb_common_words/nb_words_question2+nb_words_question2-common_words</small></span>"
     },
     "metadata": {
      "text/html": {
       "isolated": true
      }
     }
    },
    {
     "output_type": "display_data",
     "data": {
      "text/plain": "<IPython.core.display.HTML object>",
      "text/html": "<span style=\"color:LIMEGREEN\"><small> 0.6349 | 0.6523 | 0.6154 | 0.6377 | 0.6539 | 0.6133 | 0.6372 | 0.6536 | 0.6138 | 3 | nb_words_question2+nb_common_words/nb_words_question2+nb_common_words/(nb_words_question1+nb_words_question2)</small></span>"
     },
     "metadata": {
      "text/html": {
       "isolated": true
      }
     }
    },
    {
     "output_type": "display_data",
     "data": {
      "text/plain": "<IPython.core.display.HTML object>",
      "text/html": "<span style=\"color:LIMEGREEN\"><small> 0.6425 | 0.6869 | 0.6185 | 0.6444 | 0.6885 | 0.6174 | 0.6442 | 0.6884 | 0.6181 | 3 | nb_words_question2+nb_words_question1-common_words+nb_words_question2-common_words</small></span>"
     },
     "metadata": {
      "text/html": {
       "isolated": true
      }
     }
    },
    {
     "output_type": "display_data",
     "data": {
      "text/plain": "<IPython.core.display.HTML object>",
      "text/html": "<span style=\"color:LIMEGREEN\"><small> 0.6071 | 0.6557 | 0.6544 | 0.6088 | 0.6573 | 0.6548 | 0.6083 | 0.6568 | 0.6554 | 3 | nb_words_question2+nb_words_question1-common_words+nb_common_words/(nb_words_question1+nb_words_question2)</small></span>"
     },
     "metadata": {
      "text/html": {
       "isolated": true
      }
     }
    },
    {
     "output_type": "display_data",
     "data": {
      "text/plain": "<IPython.core.display.HTML object>",
      "text/html": "<span style=\"color:LIMEGREEN\"><small> 0.6464 | 0.6901 | 0.5992 | 0.6477 | 0.6912 | 0.5969 | 0.6477 | 0.6911 | 0.5973 | 3 | nb_words_question2+nb_words_question2-common_words+nb_common_words/(nb_words_question1+nb_words_question2)</small></span>"
     },
     "metadata": {
      "text/html": {
       "isolated": true
      }
     }
    },
    {
     "output_type": "display_data",
     "data": {
      "text/plain": "<IPython.core.display.HTML object>",
      "text/html": "<span style=\"color:LIMEGREEN\"><small> 0.6283 | 0.6405 | 0.6578 | 0.6314 | 0.6425 | 0.6561 | 0.6308 | 0.6421 | 0.6564 | 3 | nb_common_words+nb_common_words/nb_words_question1+nb_common_words/nb_words_question2</small></span>"
     },
     "metadata": {
      "text/html": {
       "isolated": true
      }
     }
    },
    {
     "output_type": "display_data",
     "data": {
      "text/plain": "<IPython.core.display.HTML object>",
      "text/html": "<span style=\"color:LIMEGREEN\"><small> 0.6634 | 0.7004 | 0.7879 | 0.6644 | 0.7015 | 0.7880 | 0.6642 | 0.7013 | 0.7886 | 3 | nb_common_words+nb_common_words/nb_words_question1+nb_words_question1-common_words</small></span>"
     },
     "metadata": {
      "text/html": {
       "isolated": true
      }
     }
    },
    {
     "output_type": "display_data",
     "data": {
      "text/plain": "<IPython.core.display.HTML object>",
      "text/html": "<span style=\"color:LIMEGREEN\"><small> 0.6682 | 0.7031 | 0.8038 | 0.6697 | 0.7047 | 0.8004 | 0.6694 | 0.7044 | 0.8004 | 3 | nb_common_words+nb_common_words/nb_words_question1+nb_words_question2-common_words</small></span>"
     },
     "metadata": {
      "text/html": {
       "isolated": true
      }
     }
    },
    {
     "output_type": "display_data",
     "data": {
      "text/plain": "<IPython.core.display.HTML object>",
      "text/html": "<span style=\"color:LIMEGREEN\"><small> 0.6283 | 0.6405 | 0.6582 | 0.6314 | 0.6425 | 0.6565 | 0.6308 | 0.6421 | 0.6568 | 3 | nb_common_words+nb_common_words/nb_words_question1+nb_common_words/(nb_words_question1+nb_words_question2)</small></span>"
     },
     "metadata": {
      "text/html": {
       "isolated": true
      }
     }
    },
    {
     "output_type": "display_data",
     "data": {
      "text/plain": "<IPython.core.display.HTML object>",
      "text/html": "<span style=\"color:LIMEGREEN\"><small> 0.6654 | 0.7014 | 0.7817 | 0.6662 | 0.7024 | 0.7816 | 0.6660 | 0.7022 | 0.7822 | 3 | nb_common_words+nb_common_words/nb_words_question2+nb_words_question1-common_words</small></span>"
     },
     "metadata": {
      "text/html": {
       "isolated": true
      }
     }
    },
    {
     "output_type": "display_data",
     "data": {
      "text/plain": "<IPython.core.display.HTML object>",
      "text/html": "<span style=\"color:LIMEGREEN\"><small> 0.6673 | 0.7016 | 0.8116 | 0.6690 | 0.7032 | 0.8082 | 0.6687 | 0.7029 | 0.8082 | 3 | nb_common_words+nb_common_words/nb_words_question2+nb_words_question2-common_words</small></span>"
     },
     "metadata": {
      "text/html": {
       "isolated": true
      }
     }
    },
    {
     "output_type": "display_data",
     "data": {
      "text/plain": "<IPython.core.display.HTML object>",
      "text/html": "<span style=\"color:LIMEGREEN\"><small> 0.6283 | 0.6405 | 0.6581 | 0.6314 | 0.6425 | 0.6563 | 0.6308 | 0.6421 | 0.6567 | 3 | nb_common_words+nb_common_words/nb_words_question2+nb_common_words/(nb_words_question1+nb_words_question2)</small></span>"
     },
     "metadata": {
      "text/html": {
       "isolated": true
      }
     }
    },
    {
     "output_type": "display_data",
     "data": {
      "text/plain": "<IPython.core.display.HTML object>",
      "text/html": "<span style=\"color:LIMEGREEN\"><small> 0.6734 | 0.7086 | 0.8548 | 0.6735 | 0.7090 | 0.8527 | 0.6734 | 0.7089 | 0.8531 | 3 | nb_common_words+nb_words_question1-common_words+nb_words_question2-common_words</small></span>"
     },
     "metadata": {
      "text/html": {
       "isolated": true
      }
     }
    },
    {
     "output_type": "display_data",
     "data": {
      "text/plain": "<IPython.core.display.HTML object>",
      "text/html": "<span style=\"color:LIMEGREEN\"><small> 0.6640 | 0.7008 | 0.7752 | 0.6648 | 0.7018 | 0.7751 | 0.6646 | 0.7015 | 0.7757 | 3 | nb_common_words+nb_words_question1-common_words+nb_common_words/(nb_words_question1+nb_words_question2)</small></span>"
     },
     "metadata": {
      "text/html": {
       "isolated": true
      }
     }
    },
    {
     "output_type": "display_data",
     "data": {
      "text/plain": "<IPython.core.display.HTML object>",
      "text/html": "<span style=\"color:LIMEGREEN\"><small> 0.6662 | 0.7021 | 0.7966 | 0.6679 | 0.7038 | 0.7932 | 0.6676 | 0.7035 | 0.7933 | 3 | nb_common_words+nb_words_question2-common_words+nb_common_words/(nb_words_question1+nb_words_question2)</small></span>"
     },
     "metadata": {
      "text/html": {
       "isolated": true
      }
     }
    },
    {
     "output_type": "display_data",
     "data": {
      "text/plain": "<IPython.core.display.HTML object>",
      "text/html": "<span style=\"color:LIMEGREEN\"><small> 0.6505 | 0.6937 | 0.5871 | 0.6525 | 0.6955 | 0.5861 | 0.6522 | 0.6952 | 0.5863 | 3 | nb_common_words/nb_words_question1+nb_common_words/nb_words_question2+nb_words_question1-common_words</small></span>"
     },
     "metadata": {
      "text/html": {
       "isolated": true
      }
     }
    },
    {
     "output_type": "display_data",
     "data": {
      "text/plain": "<IPython.core.display.HTML object>",
      "text/html": "<span style=\"color:LIMEGREEN\"><small> 0.6506 | 0.6934 | 0.5877 | 0.6526 | 0.6953 | 0.5853 | 0.6523 | 0.6950 | 0.5857 | 3 | nb_common_words/nb_words_question1+nb_common_words/nb_words_question2+nb_words_question2-common_words</small></span>"
     },
     "metadata": {
      "text/html": {
       "isolated": true
      }
     }
    },
    {
     "output_type": "display_data",
     "data": {
      "text/plain": "<IPython.core.display.HTML object>",
      "text/html": "<span style=\"color:LIMEGREEN\"><small> 0.6283 | 0.6405 | 0.6599 | 0.6314 | 0.6425 | 0.6582 | 0.6308 | 0.6421 | 0.6585 | 3 | nb_common_words/nb_words_question1+nb_common_words/nb_words_question2+nb_common_words/(nb_words_question1+nb_words_question2)</small></span>"
     },
     "metadata": {
      "text/html": {
       "isolated": true
      }
     }
    },
    {
     "output_type": "display_data",
     "data": {
      "text/plain": "<IPython.core.display.HTML object>",
      "text/html": "<span style=\"color:LIMEGREEN\"><small> 0.6286 | 0.6695 | 0.5938 | 0.6302 | 0.6705 | 0.5919 | 0.6298 | 0.6703 | 0.5923 | 3 | nb_common_words/nb_words_question1+nb_words_question1-common_words+nb_words_question2-common_words</small></span>"
     },
     "metadata": {
      "text/html": {
       "isolated": true
      }
     }
    },
    {
     "output_type": "display_data",
     "data": {
      "text/plain": "<IPython.core.display.HTML object>",
      "text/html": "<span style=\"color:LIMEGREEN\"><small> 0.6437 | 0.6878 | 0.5914 | 0.6452 | 0.6891 | 0.5903 | 0.6453 | 0.6893 | 0.5905 | 3 | nb_common_words/nb_words_question1+nb_words_question1-common_words+nb_common_words/(nb_words_question1+nb_words_question2)</small></span>"
     },
     "metadata": {
      "text/html": {
       "isolated": true
      }
     }
    },
    {
     "output_type": "display_data",
     "data": {
      "text/plain": "<IPython.core.display.HTML object>",
      "text/html": "<span style=\"color:LIMEGREEN\"><small> 0.6434 | 0.6876 | 0.5861 | 0.6441 | 0.6882 | 0.5839 | 0.6440 | 0.6881 | 0.5843 | 3 | nb_common_words/nb_words_question1+nb_words_question2-common_words+nb_common_words/(nb_words_question1+nb_words_question2)</small></span>"
     },
     "metadata": {
      "text/html": {
       "isolated": true
      }
     }
    },
    {
     "output_type": "display_data",
     "data": {
      "text/plain": "<IPython.core.display.HTML object>",
      "text/html": "<span style=\"color:LIMEGREEN\"><small> 0.6297 | 0.6719 | 0.5955 | 0.6313 | 0.6730 | 0.5935 | 0.6309 | 0.6727 | 0.5938 | 3 | nb_common_words/nb_words_question2+nb_words_question1-common_words+nb_words_question2-common_words</small></span>"
     },
     "metadata": {
      "text/html": {
       "isolated": true
      }
     }
    },
    {
     "output_type": "display_data",
     "data": {
      "text/plain": "<IPython.core.display.HTML object>",
      "text/html": "<span style=\"color:LIMEGREEN\"><small> 0.6423 | 0.6865 | 0.5873 | 0.6426 | 0.6867 | 0.5861 | 0.6426 | 0.6867 | 0.5863 | 3 | nb_common_words/nb_words_question2+nb_words_question1-common_words+nb_common_words/(nb_words_question1+nb_words_question2)</small></span>"
     },
     "metadata": {
      "text/html": {
       "isolated": true
      }
     }
    },
    {
     "output_type": "display_data",
     "data": {
      "text/plain": "<IPython.core.display.HTML object>",
      "text/html": "<span style=\"color:LIMEGREEN\"><small> 0.6430 | 0.6874 | 0.5908 | 0.6449 | 0.6891 | 0.5885 | 0.6446 | 0.6888 | 0.5890 | 3 | nb_common_words/nb_words_question2+nb_words_question2-common_words+nb_common_words/(nb_words_question1+nb_words_question2)</small></span>"
     },
     "metadata": {
      "text/html": {
       "isolated": true
      }
     }
    },
    {
     "output_type": "display_data",
     "data": {
      "text/plain": "<IPython.core.display.HTML object>",
      "text/html": "<span style=\"color:LIMEGREEN\"><small> 0.6283 | 0.6405 | 0.6191 | 0.6314 | 0.6425 | 0.6171 | 0.6308 | 0.6421 | 0.6174 | 3 | nb_words_question1-common_words+nb_words_question2-common_words+nb_common_words/(nb_words_question1+nb_words_question2)</small></span>"
     },
     "metadata": {
      "text/html": {
       "isolated": true
      }
     }
    },
    {
     "output_type": "display_data",
     "data": {
      "text/plain": "<IPython.core.display.HTML object>",
      "text/html": "<span style=\"color:LIMEGREEN\"><small> 0.6645 | 0.7046 | 0.6065 | 0.6655 | 0.7056 | 0.6050 | 0.6653 | 0.7053 | 0.6052 | 4 | nb_words_question1+nb_words_question2+nb_common_words+nb_common_words/nb_words_question1</small></span>"
     },
     "metadata": {
      "text/html": {
       "isolated": true
      }
     }
    },
    {
     "output_type": "display_data",
     "data": {
      "text/plain": "<IPython.core.display.HTML object>",
      "text/html": "<span style=\"color:LIMEGREEN\"><small> 0.6645 | 0.7045 | 0.6076 | 0.6654 | 0.7054 | 0.6060 | 0.6653 | 0.7053 | 0.6063 | 4 | nb_words_question1+nb_words_question2+nb_common_words+nb_common_words/nb_words_question2</small></span>"
     },
     "metadata": {
      "text/html": {
       "isolated": true
      }
     }
    },
    {
     "output_type": "display_data",
     "data": {
      "text/plain": "<IPython.core.display.HTML object>",
      "text/html": "<span style=\"color:LIMEGREEN\"><small> 0.6668 | 0.7035 | 0.7565 | 0.6673 | 0.7041 | 0.7562 | 0.6672 | 0.7039 | 0.7571 | 4 | nb_words_question1+nb_words_question2+nb_common_words+nb_words_question1-common_words</small></span>"
     },
     "metadata": {
      "text/html": {
       "isolated": true
      }
     }
    },
    {
     "output_type": "display_data",
     "data": {
      "text/plain": "<IPython.core.display.HTML object>",
      "text/html": "<span style=\"color:LIMEGREEN\"><small> 0.6642 | 0.7005 | 0.7906 | 0.6661 | 0.7023 | 0.7871 | 0.6660 | 0.7021 | 0.7868 | 4 | nb_words_question1+nb_words_question2+nb_common_words+nb_words_question2-common_words</small></span>"
     },
     "metadata": {
      "text/html": {
       "isolated": true
      }
     }
    },
    {
     "output_type": "display_data",
     "data": {
      "text/plain": "<IPython.core.display.HTML object>",
      "text/html": "<span style=\"color:LIMEGREEN\"><small> 0.6642 | 0.7049 | 0.6058 | 0.6646 | 0.7054 | 0.6043 | 0.6658 | 0.7062 | 0.6045 | 4 | nb_words_question1+nb_words_question2+nb_common_words+nb_common_words/(nb_words_question1+nb_words_question2)</small></span>"
     },
     "metadata": {
      "text/html": {
       "isolated": true
      }
     }
    },
    {
     "output_type": "display_data",
     "data": {
      "text/plain": "<IPython.core.display.HTML object>",
      "text/html": "<span style=\"color:LIMEGREEN\"><small> 0.6387 | 0.6704 | 0.6044 | 0.6404 | 0.6716 | 0.6024 | 0.6401 | 0.6714 | 0.6028 | 4 | nb_words_question1+nb_words_question2+nb_common_words/nb_words_question1+nb_common_words/nb_words_question2</small></span>"
     },
     "metadata": {
      "text/html": {
       "isolated": true
      }
     }
    },
    {
     "output_type": "display_data",
     "data": {
      "text/plain": "<IPython.core.display.HTML object>",
      "text/html": "<span style=\"color:LIMEGREEN\"><small> 0.6421 | 0.6860 | 0.6225 | 0.6439 | 0.6878 | 0.6220 | 0.6442 | 0.6878 | 0.6228 | 4 | nb_words_question1+nb_words_question2+nb_common_words/nb_words_question1+nb_words_question1-common_words</small></span>"
     },
     "metadata": {
      "text/html": {
       "isolated": true
      }
     }
    },
    {
     "output_type": "display_data",
     "data": {
      "text/plain": "<IPython.core.display.HTML object>",
      "text/html": "<span style=\"color:LIMEGREEN\"><small> 0.6388 | 0.6819 | 0.6372 | 0.6413 | 0.6842 | 0.6336 | 0.6409 | 0.6839 | 0.6336 | 4 | nb_words_question1+nb_words_question2+nb_common_words/nb_words_question1+nb_words_question2-common_words</small></span>"
     },
     "metadata": {
      "text/html": {
       "isolated": true
      }
     }
    },
    {
     "output_type": "display_data",
     "data": {
      "text/plain": "<IPython.core.display.HTML object>",
      "text/html": "<span style=\"color:LIMEGREEN\"><small> 0.6332 | 0.6497 | 0.6140 | 0.6372 | 0.6525 | 0.6120 | 0.6364 | 0.6520 | 0.6124 | 4 | nb_words_question1+nb_words_question2+nb_common_words/nb_words_question1+nb_common_words/(nb_words_question1+nb_words_question2)</small></span>"
     },
     "metadata": {
      "text/html": {
       "isolated": true
      }
     }
    },
    {
     "output_type": "display_data",
     "data": {
      "text/plain": "<IPython.core.display.HTML object>",
      "text/html": "<span style=\"color:LIMEGREEN\"><small> 0.6479 | 0.6913 | 0.6150 | 0.6491 | 0.6924 | 0.6144 | 0.6495 | 0.6926 | 0.6152 | 4 | nb_words_question1+nb_words_question2+nb_common_words/nb_words_question2+nb_words_question1-common_words</small></span>"
     },
     "metadata": {
      "text/html": {
       "isolated": true
      }
     }
    },
    {
     "output_type": "display_data",
     "data": {
      "text/plain": "<IPython.core.display.HTML object>",
      "text/html": "<span style=\"color:LIMEGREEN\"><small> 0.6352 | 0.6782 | 0.6475 | 0.6360 | 0.6790 | 0.6438 | 0.6361 | 0.6791 | 0.6438 | 4 | nb_words_question1+nb_words_question2+nb_common_words/nb_words_question2+nb_words_question2-common_words</small></span>"
     },
     "metadata": {
      "text/html": {
       "isolated": true
      }
     }
    },
    {
     "output_type": "display_data",
     "data": {
      "text/plain": "<IPython.core.display.HTML object>",
      "text/html": "<span style=\"color:LIMEGREEN\"><small> 0.6349 | 0.6522 | 0.6149 | 0.6377 | 0.6538 | 0.6129 | 0.6376 | 0.6554 | 0.6132 | 4 | nb_words_question1+nb_words_question2+nb_common_words/nb_words_question2+nb_common_words/(nb_words_question1+nb_words_question2)</small></span>"
     },
     "metadata": {
      "text/html": {
       "isolated": true
      }
     }
    },
    {
     "output_type": "display_data",
     "data": {
      "text/plain": "<IPython.core.display.HTML object>",
      "text/html": "<span style=\"color:LIMEGREEN\"><small> 0.6582 | 0.7004 | 0.6256 | 0.6584 | 0.7007 | 0.6234 | 0.6584 | 0.7007 | 0.6237 | 4 | nb_words_question1+nb_words_question2+nb_words_question1-common_words+nb_words_question2-common_words</small></span>"
     },
     "metadata": {
      "text/html": {
       "isolated": true
      }
     }
    },
    {
     "output_type": "display_data",
     "data": {
      "text/plain": "<IPython.core.display.HTML object>",
      "text/html": "<span style=\"color:LIMEGREEN\"><small> 0.6376 | 0.6826 | 0.6225 | 0.6391 | 0.6840 | 0.6220 | 0.6385 | 0.6834 | 0.6228 | 4 | nb_words_question1+nb_words_question2+nb_words_question1-common_words+nb_common_words/(nb_words_question1+nb_words_question2)</small></span>"
     },
     "metadata": {
      "text/html": {
       "isolated": true
      }
     }
    },
    {
     "output_type": "display_data",
     "data": {
      "text/plain": "<IPython.core.display.HTML object>",
      "text/html": "<span style=\"color:LIMEGREEN\"><small> 0.6310 | 0.6757 | 0.6444 | 0.6324 | 0.6770 | 0.6407 | 0.6322 | 0.6769 | 0.6407 | 4 | nb_words_question1+nb_words_question2+nb_words_question2-common_words+nb_common_words/(nb_words_question1+nb_words_question2)</small></span>"
     },
     "metadata": {
      "text/html": {
       "isolated": true
      }
     }
    },
    {
     "output_type": "display_data",
     "data": {
      "text/plain": "<IPython.core.display.HTML object>",
      "text/html": "<span style=\"color:LIMEGREEN\"><small> 0.6604 | 0.7008 | 0.6060 | 0.6617 | 0.7021 | 0.6056 | 0.6621 | 0.7021 | 0.6058 | 4 | nb_words_question1+nb_common_words+nb_common_words/nb_words_question1+nb_common_words/nb_words_question2</small></span>"
     },
     "metadata": {
      "text/html": {
       "isolated": true
      }
     }
    },
    {
     "output_type": "display_data",
     "data": {
      "text/plain": "<IPython.core.display.HTML object>",
      "text/html": "<span style=\"color:LIMEGREEN\"><small> 0.6646 | 0.7007 | 0.7888 | 0.6649 | 0.7012 | 0.7888 | 0.6649 | 0.7011 | 0.7894 | 4 | nb_words_question1+nb_common_words+nb_common_words/nb_words_question1+nb_words_question1-common_words</small></span>"
     },
     "metadata": {
      "text/html": {
       "isolated": true
      }
     }
    },
    {
     "output_type": "display_data",
     "data": {
      "text/plain": "<IPython.core.display.HTML object>",
      "text/html": "<span style=\"color:LIMEGREEN\"><small> 0.6685 | 0.7034 | 0.8014 | 0.6702 | 0.7051 | 0.7980 | 0.6699 | 0.7048 | 0.7978 | 4 | nb_words_question1+nb_common_words+nb_common_words/nb_words_question1+nb_words_question2-common_words</small></span>"
     },
     "metadata": {
      "text/html": {
       "isolated": true
      }
     }
    },
    {
     "output_type": "display_data",
     "data": {
      "text/plain": "<IPython.core.display.HTML object>",
      "text/html": "<span style=\"color:LIMEGREEN\"><small> 0.6582 | 0.6993 | 0.6073 | 0.6596 | 0.7007 | 0.6068 | 0.6595 | 0.7005 | 0.6070 | 4 | nb_words_question1+nb_common_words+nb_common_words/nb_words_question1+nb_common_words/(nb_words_question1+nb_words_question2)</small></span>"
     },
     "metadata": {
      "text/html": {
       "isolated": true
      }
     }
    },
    {
     "output_type": "display_data",
     "data": {
      "text/plain": "<IPython.core.display.HTML object>",
      "text/html": "<span style=\"color:LIMEGREEN\"><small> 0.6658 | 0.7017 | 0.7822 | 0.6663 | 0.7024 | 0.7822 | 0.6662 | 0.7022 | 0.7828 | 4 | nb_words_question1+nb_common_words+nb_common_words/nb_words_question2+nb_words_question1-common_words</small></span>"
     },
     "metadata": {
      "text/html": {
       "isolated": true
      }
     }
    },
    {
     "output_type": "display_data",
     "data": {
      "text/plain": "<IPython.core.display.HTML object>",
      "text/html": "<span style=\"color:LIMEGREEN\"><small> 0.6678 | 0.7028 | 0.8089 | 0.6697 | 0.7047 | 0.8056 | 0.6693 | 0.7043 | 0.8054 | 4 | nb_words_question1+nb_common_words+nb_common_words/nb_words_question2+nb_words_question2-common_words</small></span>"
     },
     "metadata": {
      "text/html": {
       "isolated": true
      }
     }
    },
    {
     "output_type": "display_data",
     "data": {
      "text/plain": "<IPython.core.display.HTML object>",
      "text/html": "<span style=\"color:LIMEGREEN\"><small> 0.6608 | 0.7017 | 0.6040 | 0.6620 | 0.7029 | 0.6035 | 0.6618 | 0.7027 | 0.6037 | 4 | nb_words_question1+nb_common_words+nb_common_words/nb_words_question2+nb_common_words/(nb_words_question1+nb_words_question2)</small></span>"
     },
     "metadata": {
      "text/html": {
       "isolated": true
      }
     }
    },
    {
     "output_type": "display_data",
     "data": {
      "text/plain": "<IPython.core.display.HTML object>",
      "text/html": "<span style=\"color:LIMEGREEN\"><small> 0.6730 | 0.7081 | 0.8838 | 0.6732 | 0.7085 | 0.8812 | 0.6732 | 0.7084 | 0.8814 | 4 | nb_words_question1+nb_common_words+nb_words_question1-common_words+nb_words_question2-common_words</small></span>"
     },
     "metadata": {
      "text/html": {
       "isolated": true
      }
     }
    },
    {
     "output_type": "display_data",
     "data": {
      "text/plain": "<IPython.core.display.HTML object>",
      "text/html": "<span style=\"color:LIMEGREEN\"><small> 0.6645 | 0.7011 | 0.7754 | 0.6650 | 0.7018 | 0.7754 | 0.6650 | 0.7017 | 0.7759 | 4 | nb_words_question1+nb_common_words+nb_words_question1-common_words+nb_common_words/(nb_words_question1+nb_words_question2)</small></span>"
     },
     "metadata": {
      "text/html": {
       "isolated": true
      }
     }
    },
    {
     "output_type": "display_data",
     "data": {
      "text/plain": "<IPython.core.display.HTML object>",
      "text/html": "<span style=\"color:LIMEGREEN\"><small> 0.6664 | 0.7023 | 0.7961 | 0.6679 | 0.7038 | 0.7927 | 0.6676 | 0.7035 | 0.7925 | 4 | nb_words_question1+nb_common_words+nb_words_question2-common_words+nb_common_words/(nb_words_question1+nb_words_question2)</small></span>"
     },
     "metadata": {
      "text/html": {
       "isolated": true
      }
     }
    },
    {
     "output_type": "display_data",
     "data": {
      "text/plain": "<IPython.core.display.HTML object>",
      "text/html": "<span style=\"color:LIMEGREEN\"><small> 0.6564 | 0.6978 | 0.6023 | 0.6582 | 0.6995 | 0.6013 | 0.6578 | 0.6992 | 0.6016 | 4 | nb_words_question1+nb_common_words/nb_words_question1+nb_common_words/nb_words_question2+nb_words_question1-common_words</small></span>"
     },
     "metadata": {
      "text/html": {
       "isolated": true
      }
     }
    },
    {
     "output_type": "display_data",
     "data": {
      "text/plain": "<IPython.core.display.HTML object>",
      "text/html": "<span style=\"color:LIMEGREEN\"><small> 0.6380 | 0.6783 | 0.6556 | 0.6401 | 0.6803 | 0.6517 | 0.6397 | 0.6800 | 0.6518 | 4 | nb_words_question1+nb_common_words/nb_words_question1+nb_common_words/nb_words_question2+nb_words_question2-common_words</small></span>"
     },
     "metadata": {
      "text/html": {
       "isolated": true
      }
     }
    },
    {
     "output_type": "display_data",
     "data": {
      "text/plain": "<IPython.core.display.HTML object>",
      "text/html": "<span style=\"color:LIMEGREEN\"><small> 0.6441 | 0.6813 | 0.6017 | 0.6454 | 0.6822 | 0.6004 | 0.6452 | 0.6821 | 0.6006 | 4 | nb_words_question1+nb_common_words/nb_words_question1+nb_common_words/nb_words_question2+nb_common_words/(nb_words_question1+nb_words_question2)</small></span>"
     },
     "metadata": {
      "text/html": {
       "isolated": true
      }
     }
    },
    {
     "output_type": "display_data",
     "data": {
      "text/plain": "<IPython.core.display.HTML object>",
      "text/html": "<span style=\"color:LIMEGREEN\"><small> 0.6567 | 0.6979 | 0.6269 | 0.6584 | 0.6995 | 0.6241 | 0.6582 | 0.6993 | 0.6241 | 4 | nb_words_question1+nb_common_words/nb_words_question1+nb_words_question1-common_words+nb_words_question2-common_words</small></span>"
     },
     "metadata": {
      "text/html": {
       "isolated": true
      }
     }
    },
    {
     "output_type": "display_data",
     "data": {
      "text/plain": "<IPython.core.display.HTML object>",
      "text/html": "<span style=\"color:LIMEGREEN\"><small> 0.6529 | 0.6955 | 0.6011 | 0.6552 | 0.6976 | 0.6001 | 0.6547 | 0.6972 | 0.6004 | 4 | nb_words_question1+nb_common_words/nb_words_question1+nb_words_question1-common_words+nb_common_words/(nb_words_question1+nb_words_question2)</small></span>"
     },
     "metadata": {
      "text/html": {
       "isolated": true
      }
     }
    },
    {
     "output_type": "display_data",
     "data": {
      "text/plain": "<IPython.core.display.HTML object>",
      "text/html": "<span style=\"color:LIMEGREEN\"><small> 0.6325 | 0.6746 | 0.6504 | 0.6346 | 0.6766 | 0.6464 | 0.6343 | 0.6763 | 0.6465 | 4 | nb_words_question1+nb_common_words/nb_words_question1+nb_words_question2-common_words+nb_common_words/(nb_words_question1+nb_words_question2)</small></span>"
     },
     "metadata": {
      "text/html": {
       "isolated": true
      }
     }
    },
    {
     "output_type": "display_data",
     "data": {
      "text/plain": "<IPython.core.display.HTML object>",
      "text/html": "<span style=\"color:LIMEGREEN\"><small> 0.6525 | 0.6940 | 0.6349 | 0.6540 | 0.6954 | 0.6321 | 0.6538 | 0.6953 | 0.6320 | 4 | nb_words_question1+nb_common_words/nb_words_question2+nb_words_question1-common_words+nb_words_question2-common_words</small></span>"
     },
     "metadata": {
      "text/html": {
       "isolated": true
      }
     }
    },
    {
     "output_type": "display_data",
     "data": {
      "text/plain": "<IPython.core.display.HTML object>",
      "text/html": "<span style=\"color:LIMEGREEN\"><small> 0.6548 | 0.6974 | 0.5967 | 0.6566 | 0.6990 | 0.5956 | 0.6563 | 0.6987 | 0.5959 | 4 | nb_words_question1+nb_common_words/nb_words_question2+nb_words_question1-common_words+nb_common_words/(nb_words_question1+nb_words_question2)</small></span>"
     },
     "metadata": {
      "text/html": {
       "isolated": true
      }
     }
    },
    {
     "output_type": "display_data",
     "data": {
      "text/plain": "<IPython.core.display.HTML object>",
      "text/html": "<span style=\"color:LIMEGREEN\"><small> 0.6281 | 0.6703 | 0.6626 | 0.6302 | 0.6723 | 0.6585 | 0.6298 | 0.6719 | 0.6587 | 4 | nb_words_question1+nb_common_words/nb_words_question2+nb_words_question2-common_words+nb_common_words/(nb_words_question1+nb_words_question2)</small></span>"
     },
     "metadata": {
      "text/html": {
       "isolated": true
      }
     }
    },
    {
     "output_type": "display_data",
     "data": {
      "text/plain": "<IPython.core.display.HTML object>",
      "text/html": "<span style=\"color:LIMEGREEN\"><small> 0.6525 | 0.6946 | 0.6293 | 0.6548 | 0.6966 | 0.6264 | 0.6545 | 0.6964 | 0.6263 | 4 | nb_words_question1+nb_words_question1-common_words+nb_words_question2-common_words+nb_common_words/(nb_words_question1+nb_words_question2)</small></span>"
     },
     "metadata": {
      "text/html": {
       "isolated": true
      }
     }
    },
    {
     "output_type": "display_data",
     "data": {
      "text/plain": "<IPython.core.display.HTML object>",
      "text/html": "<span style=\"color:LIMEGREEN\"><small> 0.6625 | 0.7016 | 0.6119 | 0.6638 | 0.7029 | 0.6095 | 0.6636 | 0.7026 | 0.6099 | 4 | nb_words_question2+nb_common_words+nb_common_words/nb_words_question1+nb_common_words/nb_words_question2</small></span>"
     },
     "metadata": {
      "text/html": {
       "isolated": true
      }
     }
    },
    {
     "output_type": "display_data",
     "data": {
      "text/plain": "<IPython.core.display.HTML object>",
      "text/html": "<span style=\"color:LIMEGREEN\"><small> 0.6680 | 0.7037 | 0.7773 | 0.6683 | 0.7042 | 0.7770 | 0.6681 | 0.7040 | 0.7778 | 4 | nb_words_question2+nb_common_words+nb_common_words/nb_words_question1+nb_words_question1-common_words</small></span>"
     },
     "metadata": {
      "text/html": {
       "isolated": true
      }
     }
    },
    {
     "output_type": "display_data",
     "data": {
      "text/plain": "<IPython.core.display.HTML object>",
      "text/html": "<span style=\"color:LIMEGREEN\"><small> 0.6681 | 0.7028 | 0.8046 | 0.6701 | 0.7049 | 0.8012 | 0.6697 | 0.7045 | 0.8012 | 4 | nb_words_question2+nb_common_words+nb_common_words/nb_words_question1+nb_words_question2-common_words</small></span>"
     },
     "metadata": {
      "text/html": {
       "isolated": true
      }
     }
    },
    {
     "output_type": "display_data",
     "data": {
      "text/plain": "<IPython.core.display.HTML object>",
      "text/html": "<span style=\"color:LIMEGREEN\"><small> 0.6630 | 0.7028 | 0.6086 | 0.6642 | 0.7040 | 0.6063 | 0.6640 | 0.7038 | 0.6067 | 4 | nb_words_question2+nb_common_words+nb_common_words/nb_words_question1+nb_common_words/(nb_words_question1+nb_words_question2)</small></span>"
     },
     "metadata": {
      "text/html": {
       "isolated": true
      }
     }
    },
    {
     "output_type": "display_data",
     "data": {
      "text/plain": "<IPython.core.display.HTML object>",
      "text/html": "<span style=\"color:LIMEGREEN\"><small> 0.6681 | 0.7036 | 0.7721 | 0.6690 | 0.7046 | 0.7717 | 0.6688 | 0.7044 | 0.7725 | 4 | nb_words_question2+nb_common_words+nb_common_words/nb_words_question2+nb_words_question1-common_words</small></span>"
     },
     "metadata": {
      "text/html": {
       "isolated": true
      }
     }
    },
    {
     "output_type": "display_data",
     "data": {
      "text/plain": "<IPython.core.display.HTML object>",
      "text/html": "<span style=\"color:LIMEGREEN\"><small> 0.6673 | 0.7016 | 0.8128 | 0.6691 | 0.7033 | 0.8093 | 0.6687 | 0.7030 | 0.8094 | 4 | nb_words_question2+nb_common_words+nb_common_words/nb_words_question2+nb_words_question2-common_words</small></span>"
     },
     "metadata": {
      "text/html": {
       "isolated": true
      }
     }
    },
    {
     "output_type": "display_data",
     "data": {
      "text/plain": "<IPython.core.display.HTML object>",
      "text/html": "<span style=\"color:LIMEGREEN\"><small> 0.6622 | 0.7011 | 0.6127 | 0.6638 | 0.7027 | 0.6103 | 0.6635 | 0.7024 | 0.6107 | 4 | nb_words_question2+nb_common_words+nb_common_words/nb_words_question2+nb_common_words/(nb_words_question1+nb_words_question2)</small></span>"
     },
     "metadata": {
      "text/html": {
       "isolated": true
      }
     }
    },
    {
     "output_type": "display_data",
     "data": {
      "text/plain": "<IPython.core.display.HTML object>",
      "text/html": "<span style=\"color:LIMEGREEN\"><small> 0.6735 | 0.7086 | 0.8742 | 0.6736 | 0.7090 | 0.8723 | 0.6735 | 0.7089 | 0.8728 | 4 | nb_words_question2+nb_common_words+nb_words_question1-common_words+nb_words_question2-common_words</small></span>"
     },
     "metadata": {
      "text/html": {
       "isolated": true
      }
     }
    },
    {
     "output_type": "display_data",
     "data": {
      "text/plain": "<IPython.core.display.HTML object>",
      "text/html": "<span style=\"color:LIMEGREEN\"><small> 0.6677 | 0.7038 | 0.7660 | 0.6679 | 0.7042 | 0.7657 | 0.6677 | 0.7040 | 0.7665 | 4 | nb_words_question2+nb_common_words+nb_words_question1-common_words+nb_common_words/(nb_words_question1+nb_words_question2)</small></span>"
     },
     "metadata": {
      "text/html": {
       "isolated": true
      }
     }
    },
    {
     "output_type": "display_data",
     "data": {
      "text/plain": "<IPython.core.display.HTML object>",
      "text/html": "<span style=\"color:LIMEGREEN\"><small> 0.6662 | 0.7020 | 0.7970 | 0.6679 | 0.7037 | 0.7936 | 0.6675 | 0.7034 | 0.7936 | 4 | nb_words_question2+nb_common_words+nb_words_question2-common_words+nb_common_words/(nb_words_question1+nb_words_question2)</small></span>"
     },
     "metadata": {
      "text/html": {
       "isolated": true
      }
     }
    },
    {
     "output_type": "display_data",
     "data": {
      "text/plain": "<IPython.core.display.HTML object>",
      "text/html": "<span style=\"color:LIMEGREEN\"><small> 0.6399 | 0.6815 | 0.6334 | 0.6412 | 0.6829 | 0.6335 | 0.6407 | 0.6824 | 0.6342 | 4 | nb_words_question2+nb_common_words/nb_words_question1+nb_common_words/nb_words_question2+nb_words_question1-common_words</small></span>"
     },
     "metadata": {
      "text/html": {
       "isolated": true
      }
     }
    },
    {
     "output_type": "display_data",
     "data": {
      "text/plain": "<IPython.core.display.HTML object>",
      "text/html": "<span style=\"color:LIMEGREEN\"><small> 0.6572 | 0.6982 | 0.6048 | 0.6583 | 0.6994 | 0.6023 | 0.6581 | 0.6991 | 0.6027 | 4 | nb_words_question2+nb_common_words/nb_words_question1+nb_common_words/nb_words_question2+nb_words_question2-common_words</small></span>"
     },
     "metadata": {
      "text/html": {
       "isolated": true
      }
     }
    },
    {
     "output_type": "display_data",
     "data": {
      "text/plain": "<IPython.core.display.HTML object>",
      "text/html": "<span style=\"color:LIMEGREEN\"><small> 0.6452 | 0.6846 | 0.5991 | 0.6463 | 0.6855 | 0.5969 | 0.6464 | 0.6857 | 0.5974 | 4 | nb_words_question2+nb_common_words/nb_words_question1+nb_common_words/nb_words_question2+nb_common_words/(nb_words_question1+nb_words_question2)</small></span>"
     },
     "metadata": {
      "text/html": {
       "isolated": true
      }
     }
    },
    {
     "output_type": "display_data",
     "data": {
      "text/plain": "<IPython.core.display.HTML object>",
      "text/html": "<span style=\"color:LIMEGREEN\"><small> 0.6546 | 0.6966 | 0.6169 | 0.6559 | 0.6980 | 0.6157 | 0.6556 | 0.6976 | 0.6164 | 4 | nb_words_question2+nb_common_words/nb_words_question1+nb_words_question1-common_words+nb_words_question2-common_words</small></span>"
     },
     "metadata": {
      "text/html": {
       "isolated": true
      }
     }
    },
    {
     "output_type": "display_data",
     "data": {
      "text/plain": "<IPython.core.display.HTML object>",
      "text/html": "<span style=\"color:LIMEGREEN\"><small> 0.6291 | 0.6730 | 0.6423 | 0.6304 | 0.6744 | 0.6425 | 0.6304 | 0.6741 | 0.6432 | 4 | nb_words_question2+nb_common_words/nb_words_question1+nb_words_question1-common_words+nb_common_words/(nb_words_question1+nb_words_question2)</small></span>"
     },
     "metadata": {
      "text/html": {
       "isolated": true
      }
     }
    },
    {
     "output_type": "display_data",
     "data": {
      "text/plain": "<IPython.core.display.HTML object>",
      "text/html": "<span style=\"color:LIMEGREEN\"><small> 0.6557 | 0.6979 | 0.5975 | 0.6562 | 0.6985 | 0.5951 | 0.6562 | 0.6984 | 0.5955 | 4 | nb_words_question2+nb_common_words/nb_words_question1+nb_words_question2-common_words+nb_common_words/(nb_words_question1+nb_words_question2)</small></span>"
     },
     "metadata": {
      "text/html": {
       "isolated": true
      }
     }
    },
    {
     "output_type": "display_data",
     "data": {
      "text/plain": "<IPython.core.display.HTML object>",
      "text/html": "<span style=\"color:LIMEGREEN\"><small> 0.6571 | 0.6989 | 0.6123 | 0.6576 | 0.6995 | 0.6110 | 0.6575 | 0.6994 | 0.6117 | 4 | nb_words_question2+nb_common_words/nb_words_question2+nb_words_question1-common_words+nb_words_question2-common_words</small></span>"
     },
     "metadata": {
      "text/html": {
       "isolated": true
      }
     }
    },
    {
     "output_type": "display_data",
     "data": {
      "text/plain": "<IPython.core.display.HTML object>",
      "text/html": "<span style=\"color:LIMEGREEN\"><small> 0.6332 | 0.6769 | 0.6316 | 0.6347 | 0.6784 | 0.6318 | 0.6341 | 0.6778 | 0.6324 | 4 | nb_words_question2+nb_common_words/nb_words_question2+nb_words_question1-common_words+nb_common_words/(nb_words_question1+nb_words_question2)</small></span>"
     },
     "metadata": {
      "text/html": {
       "isolated": true
      }
     }
    },
    {
     "output_type": "display_data",
     "data": {
      "text/plain": "<IPython.core.display.HTML object>",
      "text/html": "<span style=\"color:LIMEGREEN\"><small> 0.6543 | 0.6965 | 0.6029 | 0.6547 | 0.6970 | 0.6004 | 0.6547 | 0.6968 | 0.6008 | 4 | nb_words_question2+nb_common_words/nb_words_question2+nb_words_question2-common_words+nb_common_words/(nb_words_question1+nb_words_question2)</small></span>"
     },
     "metadata": {
      "text/html": {
       "isolated": true
      }
     }
    },
    {
     "output_type": "display_data",
     "data": {
      "text/plain": "<IPython.core.display.HTML object>",
      "text/html": "<span style=\"color:LIMEGREEN\"><small> 0.6519 | 0.6950 | 0.6139 | 0.6530 | 0.6960 | 0.6128 | 0.6526 | 0.6957 | 0.6135 | 4 | nb_words_question2+nb_words_question1-common_words+nb_words_question2-common_words+nb_common_words/(nb_words_question1+nb_words_question2)</small></span>"
     },
     "metadata": {
      "text/html": {
       "isolated": true
      }
     }
    },
    {
     "output_type": "display_data",
     "data": {
      "text/plain": "<IPython.core.display.HTML object>",
      "text/html": "<span style=\"color:LIMEGREEN\"><small> 0.6668 | 0.7014 | 0.8047 | 0.6676 | 0.7023 | 0.8049 | 0.6675 | 0.7022 | 0.8055 | 4 | nb_common_words+nb_common_words/nb_words_question1+nb_common_words/nb_words_question2+nb_words_question1-common_words</small></span>"
     },
     "metadata": {
      "text/html": {
       "isolated": true
      }
     }
    },
    {
     "output_type": "display_data",
     "data": {
      "text/plain": "<IPython.core.display.HTML object>",
      "text/html": "<span style=\"color:LIMEGREEN\"><small> 0.6684 | 0.7014 | 0.8305 | 0.6703 | 0.7033 | 0.8271 | 0.6699 | 0.7029 | 0.8270 | 4 | nb_common_words+nb_common_words/nb_words_question1+nb_common_words/nb_words_question2+nb_words_question2-common_words</small></span>"
     },
     "metadata": {
      "text/html": {
       "isolated": true
      }
     }
    },
    {
     "output_type": "display_data",
     "data": {
      "text/plain": "<IPython.core.display.HTML object>",
      "text/html": "<span style=\"color:LIMEGREEN\"><small> 0.6283 | 0.6405 | 0.6573 | 0.6314 | 0.6425 | 0.6556 | 0.6308 | 0.6421 | 0.6559 | 4 | nb_common_words+nb_common_words/nb_words_question1+nb_common_words/nb_words_question2+nb_common_words/(nb_words_question1+nb_words_question2)</small></span>"
     },
     "metadata": {
      "text/html": {
       "isolated": true
      }
     }
    },
    {
     "output_type": "display_data",
     "data": {
      "text/plain": "<IPython.core.display.HTML object>",
      "text/html": "<span style=\"color:LIMEGREEN\"><small> 0.6737 | 0.7076 | 0.8933 | 0.6737 | 0.7080 | 0.8913 | 0.6737 | 0.7079 | 0.8917 | 4 | nb_common_words+nb_common_words/nb_words_question1+nb_words_question1-common_words+nb_words_question2-common_words</small></span>"
     },
     "metadata": {
      "text/html": {
       "isolated": true
      }
     }
    },
    {
     "output_type": "display_data",
     "data": {
      "text/plain": "<IPython.core.display.HTML object>",
      "text/html": "<span style=\"color:LIMEGREEN\"><small> 0.6662 | 0.7020 | 0.7981 | 0.6664 | 0.7024 | 0.7983 | 0.6668 | 0.7024 | 0.7989 | 4 | nb_common_words+nb_common_words/nb_words_question1+nb_words_question1-common_words+nb_common_words/(nb_words_question1+nb_words_question2)</small></span>"
     },
     "metadata": {
      "text/html": {
       "isolated": true
      }
     }
    },
    {
     "output_type": "display_data",
     "data": {
      "text/plain": "<IPython.core.display.HTML object>",
      "text/html": "<span style=\"color:LIMEGREEN\"><small> 0.6685 | 0.7027 | 0.8156 | 0.6706 | 0.7048 | 0.8122 | 0.6702 | 0.7043 | 0.8122 | 4 | nb_common_words+nb_common_words/nb_words_question1+nb_words_question2-common_words+nb_common_words/(nb_words_question1+nb_words_question2)</small></span>"
     },
     "metadata": {
      "text/html": {
       "isolated": true
      }
     }
    },
    {
     "output_type": "display_data",
     "data": {
      "text/plain": "<IPython.core.display.HTML object>",
      "text/html": "<span style=\"color:LIMEGREEN\"><small> 0.6737 | 0.7078 | 0.8950 | 0.6737 | 0.7081 | 0.8930 | 0.6737 | 0.7081 | 0.8933 | 4 | nb_common_words+nb_common_words/nb_words_question2+nb_words_question1-common_words+nb_words_question2-common_words</small></span>"
     },
     "metadata": {
      "text/html": {
       "isolated": true
      }
     }
    },
    {
     "output_type": "display_data",
     "data": {
      "text/plain": "<IPython.core.display.HTML object>",
      "text/html": "<span style=\"color:LIMEGREEN\"><small> 0.6659 | 0.7013 | 0.7920 | 0.6665 | 0.7021 | 0.7920 | 0.6664 | 0.7019 | 0.7926 | 4 | nb_common_words+nb_common_words/nb_words_question2+nb_words_question1-common_words+nb_common_words/(nb_words_question1+nb_words_question2)</small></span>"
     },
     "metadata": {
      "text/html": {
       "isolated": true
      }
     }
    },
    {
     "output_type": "display_data",
     "data": {
      "text/plain": "<IPython.core.display.HTML object>",
      "text/html": "<span style=\"color:LIMEGREEN\"><small> 0.6685 | 0.7018 | 0.8233 | 0.6709 | 0.7041 | 0.8199 | 0.6704 | 0.7036 | 0.8199 | 4 | nb_common_words+nb_common_words/nb_words_question2+nb_words_question2-common_words+nb_common_words/(nb_words_question1+nb_words_question2)</small></span>"
     },
     "metadata": {
      "text/html": {
       "isolated": true
      }
     }
    },
    {
     "output_type": "display_data",
     "data": {
      "text/plain": "<IPython.core.display.HTML object>",
      "text/html": "<span style=\"color:LIMEGREEN\"><small> 0.6737 | 0.7083 | 0.8747 | 0.6735 | 0.7084 | 0.8726 | 0.6735 | 0.7084 | 0.8730 | 4 | nb_common_words+nb_words_question1-common_words+nb_words_question2-common_words+nb_common_words/(nb_words_question1+nb_words_question2)</small></span>"
     },
     "metadata": {
      "text/html": {
       "isolated": true
      }
     }
    },
    {
     "output_type": "display_data",
     "data": {
      "text/plain": "<IPython.core.display.HTML object>",
      "text/html": "<span style=\"color:LIMEGREEN\"><small> 0.6510 | 0.6938 | 0.5810 | 0.6533 | 0.6959 | 0.5791 | 0.6528 | 0.6955 | 0.5794 | 4 | nb_common_words/nb_words_question1+nb_common_words/nb_words_question2+nb_words_question1-common_words+nb_words_question2-common_words</small></span>"
     },
     "metadata": {
      "text/html": {
       "isolated": true
      }
     }
    },
    {
     "output_type": "display_data",
     "data": {
      "text/plain": "<IPython.core.display.HTML object>",
      "text/html": "<span style=\"color:LIMEGREEN\"><small> 0.6547 | 0.6964 | 0.5913 | 0.6557 | 0.6974 | 0.5904 | 0.6561 | 0.6976 | 0.5907 | 4 | nb_common_words/nb_words_question1+nb_common_words/nb_words_question2+nb_words_question1-common_words+nb_common_words/(nb_words_question1+nb_words_question2)</small></span>"
     },
     "metadata": {
      "text/html": {
       "isolated": true
      }
     }
    },
    {
     "output_type": "display_data",
     "data": {
      "text/plain": "<IPython.core.display.HTML object>",
      "text/html": "<span style=\"color:LIMEGREEN\"><small> 0.6548 | 0.6959 | 0.5937 | 0.6568 | 0.6978 | 0.5913 | 0.6560 | 0.6970 | 0.5917 | 4 | nb_common_words/nb_words_question1+nb_common_words/nb_words_question2+nb_words_question2-common_words+nb_common_words/(nb_words_question1+nb_words_question2)</small></span>"
     },
     "metadata": {
      "text/html": {
       "isolated": true
      }
     }
    },
    {
     "output_type": "display_data",
     "data": {
      "text/plain": "<IPython.core.display.HTML object>",
      "text/html": "<span style=\"color:LIMEGREEN\"><small> 0.6443 | 0.6885 | 0.5823 | 0.6454 | 0.6894 | 0.5804 | 0.6452 | 0.6892 | 0.5808 | 4 | nb_common_words/nb_words_question1+nb_words_question1-common_words+nb_words_question2-common_words+nb_common_words/(nb_words_question1+nb_words_question2)</small></span>"
     },
     "metadata": {
      "text/html": {
       "isolated": true
      }
     }
    },
    {
     "output_type": "display_data",
     "data": {
      "text/plain": "<IPython.core.display.HTML object>",
      "text/html": "<span style=\"color:LIMEGREEN\"><small> 0.6433 | 0.6876 | 0.5842 | 0.6452 | 0.6893 | 0.5822 | 0.6448 | 0.6890 | 0.5824 | 4 | nb_common_words/nb_words_question2+nb_words_question1-common_words+nb_words_question2-common_words+nb_common_words/(nb_words_question1+nb_words_question2)</small></span>"
     },
     "metadata": {
      "text/html": {
       "isolated": true
      }
     }
    },
    {
     "output_type": "display_data",
     "data": {
      "text/plain": "<IPython.core.display.HTML object>",
      "text/html": "<span style=\"color:LIMEGREEN\"><small> 0.6655 | 0.7041 | 0.6119 | 0.6666 | 0.7053 | 0.6104 | 0.6666 | 0.7052 | 0.6107 | 5 | nb_words_question1+nb_words_question2+nb_common_words+nb_common_words/nb_words_question1+nb_common_words/nb_words_question2</small></span>"
     },
     "metadata": {
      "text/html": {
       "isolated": true
      }
     }
    },
    {
     "output_type": "display_data",
     "data": {
      "text/plain": "<IPython.core.display.HTML object>",
      "text/html": "<span style=\"color:LIMEGREEN\"><small> 0.6680 | 0.7037 | 0.7776 | 0.6682 | 0.7041 | 0.7774 | 0.6681 | 0.7039 | 0.7783 | 5 | nb_words_question1+nb_words_question2+nb_common_words+nb_common_words/nb_words_question1+nb_words_question1-common_words</small></span>"
     },
     "metadata": {
      "text/html": {
       "isolated": true
      }
     }
    },
    {
     "output_type": "display_data",
     "data": {
      "text/plain": "<IPython.core.display.HTML object>",
      "text/html": "<span style=\"color:LIMEGREEN\"><small> 0.6679 | 0.7027 | 0.8064 | 0.6699 | 0.7046 | 0.8030 | 0.6695 | 0.7043 | 0.8027 | 5 | nb_words_question1+nb_words_question2+nb_common_words+nb_common_words/nb_words_question1+nb_words_question2-common_words</small></span>"
     },
     "metadata": {
      "text/html": {
       "isolated": true
      }
     }
    },
    {
     "output_type": "display_data",
     "data": {
      "text/plain": "<IPython.core.display.HTML object>",
      "text/html": "<span style=\"color:LIMEGREEN\"><small> 0.6659 | 0.7046 | 0.6089 | 0.6673 | 0.7061 | 0.6074 | 0.6673 | 0.7058 | 0.6077 | 5 | nb_words_question1+nb_words_question2+nb_common_words+nb_common_words/nb_words_question1+nb_common_words/(nb_words_question1+nb_words_question2)</small></span>"
     },
     "metadata": {
      "text/html": {
       "isolated": true
      }
     }
    },
    {
     "output_type": "display_data",
     "data": {
      "text/plain": "<IPython.core.display.HTML object>",
      "text/html": "<span style=\"color:LIMEGREEN\"><small> 0.6681 | 0.7036 | 0.7724 | 0.6690 | 0.7046 | 0.7721 | 0.6687 | 0.7042 | 0.7730 | 5 | nb_words_question1+nb_words_question2+nb_common_words+nb_common_words/nb_words_question2+nb_words_question1-common_words</small></span>"
     },
     "metadata": {
      "text/html": {
       "isolated": true
      }
     }
    },
    {
     "output_type": "display_data",
     "data": {
      "text/plain": "<IPython.core.display.HTML object>",
      "text/html": "<span style=\"color:LIMEGREEN\"><small> 0.6669 | 0.7012 | 0.8148 | 0.6687 | 0.7030 | 0.8113 | 0.6684 | 0.7027 | 0.8110 | 5 | nb_words_question1+nb_words_question2+nb_common_words+nb_common_words/nb_words_question2+nb_words_question2-common_words</small></span>"
     },
     "metadata": {
      "text/html": {
       "isolated": true
      }
     }
    },
    {
     "output_type": "display_data",
     "data": {
      "text/plain": "<IPython.core.display.HTML object>",
      "text/html": "<span style=\"color:LIMEGREEN\"><small> 0.6653 | 0.7045 | 0.6101 | 0.6662 | 0.7055 | 0.6085 | 0.6660 | 0.7053 | 0.6088 | 5 | nb_words_question1+nb_words_question2+nb_common_words+nb_common_words/nb_words_question2+nb_common_words/(nb_words_question1+nb_words_question2)</small></span>"
     },
     "metadata": {
      "text/html": {
       "isolated": true
      }
     }
    },
    {
     "output_type": "display_data",
     "data": {
      "text/plain": "<IPython.core.display.HTML object>",
      "text/html": "<span style=\"color:LIMEGREEN\"><small> 0.6728 | 0.7079 | 0.8887 | 0.6731 | 0.7084 | 0.8863 | 0.6730 | 0.7083 | 0.8866 | 5 | nb_words_question1+nb_words_question2+nb_common_words+nb_words_question1-common_words+nb_words_question2-common_words</small></span>"
     },
     "metadata": {
      "text/html": {
       "isolated": true
      }
     }
    },
    {
     "output_type": "display_data",
     "data": {
      "text/plain": "<IPython.core.display.HTML object>",
      "text/html": "<span style=\"color:LIMEGREEN\"><small> 0.6677 | 0.7038 | 0.7657 | 0.6679 | 0.7043 | 0.7654 | 0.6678 | 0.7041 | 0.7663 | 5 | nb_words_question1+nb_words_question2+nb_common_words+nb_words_question1-common_words+nb_common_words/(nb_words_question1+nb_words_question2)</small></span>"
     },
     "metadata": {
      "text/html": {
       "isolated": true
      }
     }
    },
    {
     "output_type": "display_data",
     "data": {
      "text/plain": "<IPython.core.display.HTML object>",
      "text/html": "<span style=\"color:LIMEGREEN\"><small> 0.6653 | 0.7013 | 0.8005 | 0.6671 | 0.7031 | 0.7971 | 0.6669 | 0.7028 | 0.7968 | 5 | nb_words_question1+nb_words_question2+nb_common_words+nb_words_question2-common_words+nb_common_words/(nb_words_question1+nb_words_question2)</small></span>"
     },
     "metadata": {
      "text/html": {
       "isolated": true
      }
     }
    },
    {
     "output_type": "display_data",
     "data": {
      "text/plain": "<IPython.core.display.HTML object>",
      "text/html": "<span style=\"color:LIMEGREEN\"><small> 0.6534 | 0.6943 | 0.6184 | 0.6554 | 0.6963 | 0.6179 | 0.6549 | 0.6957 | 0.6187 | 5 | nb_words_question1+nb_words_question2+nb_common_words/nb_words_question1+nb_common_words/nb_words_question2+nb_words_question1-common_words</small></span>"
     },
     "metadata": {
      "text/html": {
       "isolated": true
      }
     }
    },
    {
     "output_type": "display_data",
     "data": {
      "text/plain": "<IPython.core.display.HTML object>",
      "text/html": "<span style=\"color:LIMEGREEN\"><small> 0.6467 | 0.6870 | 0.6448 | 0.6487 | 0.6889 | 0.6414 | 0.6481 | 0.6883 | 0.6413 | 5 | nb_words_question1+nb_words_question2+nb_common_words/nb_words_question1+nb_common_words/nb_words_question2+nb_words_question2-common_words</small></span>"
     },
     "metadata": {
      "text/html": {
       "isolated": true
      }
     }
    },
    {
     "output_type": "display_data",
     "data": {
      "text/plain": "<IPython.core.display.HTML object>",
      "text/html": "<span style=\"color:LIMEGREEN\"><small> 0.6445 | 0.6835 | 0.5968 | 0.6452 | 0.6841 | 0.5948 | 0.6450 | 0.6840 | 0.5951 | 5 | nb_words_question1+nb_words_question2+nb_common_words/nb_words_question1+nb_common_words/nb_words_question2+nb_common_words/(nb_words_question1+nb_words_question2)</small></span>"
     },
     "metadata": {
      "text/html": {
       "isolated": true
      }
     }
    },
    {
     "output_type": "display_data",
     "data": {
      "text/plain": "<IPython.core.display.HTML object>",
      "text/html": "<span style=\"color:LIMEGREEN\"><small> 0.6633 | 0.7035 | 0.6357 | 0.6639 | 0.7042 | 0.6336 | 0.6637 | 0.7040 | 0.6339 | 5 | nb_words_question1+nb_words_question2+nb_common_words/nb_words_question1+nb_words_question1-common_words+nb_words_question2-common_words</small></span>"
     },
     "metadata": {
      "text/html": {
       "isolated": true
      }
     }
    },
    {
     "output_type": "display_data",
     "data": {
      "text/plain": "<IPython.core.display.HTML object>",
      "text/html": "<span style=\"color:LIMEGREEN\"><small> 0.6473 | 0.6898 | 0.6212 | 0.6485 | 0.6910 | 0.6207 | 0.6484 | 0.6908 | 0.6216 | 5 | nb_words_question1+nb_words_question2+nb_common_words/nb_words_question1+nb_words_question1-common_words+nb_common_words/(nb_words_question1+nb_words_question2)</small></span>"
     },
     "metadata": {
      "text/html": {
       "isolated": true
      }
     }
    },
    {
     "output_type": "display_data",
     "data": {
      "text/plain": "<IPython.core.display.HTML object>",
      "text/html": "<span style=\"color:LIMEGREEN\"><small> 0.6445 | 0.6860 | 0.6376 | 0.6460 | 0.6875 | 0.6340 | 0.6460 | 0.6874 | 0.6340 | 5 | nb_words_question1+nb_words_question2+nb_common_words/nb_words_question1+nb_words_question2-common_words+nb_common_words/(nb_words_question1+nb_words_question2)</small></span>"
     },
     "metadata": {
      "text/html": {
       "isolated": true
      }
     }
    },
    {
     "output_type": "display_data",
     "data": {
      "text/plain": "<IPython.core.display.HTML object>",
      "text/html": "<span style=\"color:LIMEGREEN\"><small> 0.6622 | 0.7025 | 0.6383 | 0.6628 | 0.7032 | 0.6361 | 0.6627 | 0.7030 | 0.6363 | 5 | nb_words_question1+nb_words_question2+nb_common_words/nb_words_question2+nb_words_question1-common_words+nb_words_question2-common_words</small></span>"
     },
     "metadata": {
      "text/html": {
       "isolated": true
      }
     }
    },
    {
     "output_type": "display_data",
     "data": {
      "text/plain": "<IPython.core.display.HTML object>",
      "text/html": "<span style=\"color:LIMEGREEN\"><small> 0.6503 | 0.6928 | 0.6140 | 0.6521 | 0.6946 | 0.6134 | 0.6516 | 0.6940 | 0.6142 | 5 | nb_words_question1+nb_words_question2+nb_common_words/nb_words_question2+nb_words_question1-common_words+nb_common_words/(nb_words_question1+nb_words_question2)</small></span>"
     },
     "metadata": {
      "text/html": {
       "isolated": true
      }
     }
    },
    {
     "output_type": "display_data",
     "data": {
      "text/plain": "<IPython.core.display.HTML object>",
      "text/html": "<span style=\"color:LIMEGREEN\"><small> 0.6404 | 0.6821 | 0.6478 | 0.6421 | 0.6837 | 0.6442 | 0.6419 | 0.6835 | 0.6441 | 5 | nb_words_question1+nb_words_question2+nb_common_words/nb_words_question2+nb_words_question2-common_words+nb_common_words/(nb_words_question1+nb_words_question2)</small></span>"
     },
     "metadata": {
      "text/html": {
       "isolated": true
      }
     }
    },
    {
     "output_type": "display_data",
     "data": {
      "text/plain": "<IPython.core.display.HTML object>",
      "text/html": "<span style=\"color:LIMEGREEN\"><small> 0.6618 | 0.7030 | 0.6302 | 0.6623 | 0.7036 | 0.6280 | 0.6622 | 0.7034 | 0.6282 | 5 | nb_words_question1+nb_words_question2+nb_words_question1-common_words+nb_words_question2-common_words+nb_common_words/(nb_words_question1+nb_words_question2)</small></span>"
     },
     "metadata": {
      "text/html": {
       "isolated": true
      }
     }
    },
    {
     "output_type": "display_data",
     "data": {
      "text/plain": "<IPython.core.display.HTML object>",
      "text/html": "<span style=\"color:LIMEGREEN\"><small> 0.6675 | 0.7017 | 0.8072 | 0.6683 | 0.7025 | 0.8075 | 0.6682 | 0.7024 | 0.8080 | 5 | nb_words_question1+nb_common_words+nb_common_words/nb_words_question1+nb_common_words/nb_words_question2+nb_words_question1-common_words</small></span>"
     },
     "metadata": {
      "text/html": {
       "isolated": true
      }
     }
    },
    {
     "output_type": "display_data",
     "data": {
      "text/plain": "<IPython.core.display.HTML object>",
      "text/html": "<span style=\"color:LIMEGREEN\"><small> 0.6684 | 0.7023 | 0.8252 | 0.6709 | 0.7048 | 0.8220 | 0.6704 | 0.7043 | 0.8217 | 5 | nb_words_question1+nb_common_words+nb_common_words/nb_words_question1+nb_common_words/nb_words_question2+nb_words_question2-common_words</small></span>"
     },
     "metadata": {
      "text/html": {
       "isolated": true
      }
     }
    },
    {
     "output_type": "display_data",
     "data": {
      "text/plain": "<IPython.core.display.HTML object>",
      "text/html": "<span style=\"color:LIMEGREEN\"><small> 0.6609 | 0.7005 | 0.6072 | 0.6620 | 0.7018 | 0.6068 | 0.6620 | 0.7017 | 0.6070 | 5 | nb_words_question1+nb_common_words+nb_common_words/nb_words_question1+nb_common_words/nb_words_question2+nb_common_words/(nb_words_question1+nb_words_question2)</small></span>"
     },
     "metadata": {
      "text/html": {
       "isolated": true
      }
     }
    },
    {
     "output_type": "display_data",
     "data": {
      "text/plain": "<IPython.core.display.HTML object>",
      "text/html": "<span style=\"color:LIMEGREEN\"><small> 0.6740 | 0.7080 | 0.9155 | 0.6741 | 0.7084 | 0.9131 | 0.6743 | 0.7085 | 0.9133 | 5 | nb_words_question1+nb_common_words+nb_common_words/nb_words_question1+nb_words_question1-common_words+nb_words_question2-common_words</small></span>"
     },
     "metadata": {
      "text/html": {
       "isolated": true
      }
     }
    },
    {
     "output_type": "display_data",
     "data": {
      "text/plain": "<IPython.core.display.HTML object>",
      "text/html": "<span style=\"color:LIMEGREEN\"><small> 0.6667 | 0.7018 | 0.7997 | 0.6672 | 0.7025 | 0.8000 | 0.6670 | 0.7022 | 0.8005 | 5 | nb_words_question1+nb_common_words+nb_common_words/nb_words_question1+nb_words_question1-common_words+nb_common_words/(nb_words_question1+nb_words_question2)</small></span>"
     },
     "metadata": {
      "text/html": {
       "isolated": true
      }
     }
    },
    {
     "output_type": "display_data",
     "data": {
      "text/plain": "<IPython.core.display.HTML object>",
      "text/html": "<span style=\"color:LIMEGREEN\"><small> 0.6689 | 0.7034 | 0.8117 | 0.6707 | 0.7053 | 0.8084 | 0.6704 | 0.7049 | 0.8082 | 5 | nb_words_question1+nb_common_words+nb_common_words/nb_words_question1+nb_words_question2-common_words+nb_common_words/(nb_words_question1+nb_words_question2)</small></span>"
     },
     "metadata": {
      "text/html": {
       "isolated": true
      }
     }
    },
    {
     "output_type": "display_data",
     "data": {
      "text/plain": "<IPython.core.display.HTML object>",
      "text/html": "<span style=\"color:LIMEGREEN\"><small> 0.6728 | 0.7069 | 0.9183 | 0.6735 | 0.7078 | 0.9159 | 0.6733 | 0.7076 | 0.9160 | 5 | nb_words_question1+nb_common_words+nb_common_words/nb_words_question2+nb_words_question1-common_words+nb_words_question2-common_words</small></span>"
     },
     "metadata": {
      "text/html": {
       "isolated": true
      }
     }
    },
    {
     "output_type": "display_data",
     "data": {
      "text/plain": "<IPython.core.display.HTML object>",
      "text/html": "<span style=\"color:LIMEGREEN\"><small> 0.6666 | 0.7017 | 0.7933 | 0.6672 | 0.7024 | 0.7934 | 0.6671 | 0.7023 | 0.7940 | 5 | nb_words_question1+nb_common_words+nb_common_words/nb_words_question2+nb_words_question1-common_words+nb_common_words/(nb_words_question1+nb_words_question2)</small></span>"
     },
     "metadata": {
      "text/html": {
       "isolated": true
      }
     }
    },
    {
     "output_type": "display_data",
     "data": {
      "text/plain": "<IPython.core.display.HTML object>",
      "text/html": "<span style=\"color:LIMEGREEN\"><small> 0.6687 | 0.7026 | 0.8191 | 0.6708 | 0.7048 | 0.8158 | 0.6704 | 0.7043 | 0.8155 | 5 | nb_words_question1+nb_common_words+nb_common_words/nb_words_question2+nb_words_question2-common_words+nb_common_words/(nb_words_question1+nb_words_question2)</small></span>"
     },
     "metadata": {
      "text/html": {
       "isolated": true
      }
     }
    },
    {
     "output_type": "display_data",
     "data": {
      "text/plain": "<IPython.core.display.HTML object>",
      "text/html": "<span style=\"color:LIMEGREEN\"><small> 0.6731 | 0.7076 | 0.9005 | 0.6732 | 0.7080 | 0.8980 | 0.6732 | 0.7080 | 0.8982 | 5 | nb_words_question1+nb_common_words+nb_words_question1-common_words+nb_words_question2-common_words+nb_common_words/(nb_words_question1+nb_words_question2)</small></span>"
     },
     "metadata": {
      "text/html": {
       "isolated": true
      }
     }
    },
    {
     "output_type": "display_data",
     "data": {
      "text/plain": "<IPython.core.display.HTML object>",
      "text/html": "<span style=\"color:LIMEGREEN\"><small> 0.6612 | 0.7000 | 0.6449 | 0.6627 | 0.7014 | 0.6422 | 0.6624 | 0.7012 | 0.6421 | 5 | nb_words_question1+nb_common_words/nb_words_question1+nb_common_words/nb_words_question2+nb_words_question1-common_words+nb_words_question2-common_words</small></span>"
     },
     "metadata": {
      "text/html": {
       "isolated": true
      }
     }
    },
    {
     "output_type": "display_data",
     "data": {
      "text/plain": "<IPython.core.display.HTML object>",
      "text/html": "<span style=\"color:LIMEGREEN\"><small> 0.6591 | 0.6994 | 0.6085 | 0.6599 | 0.7002 | 0.6076 | 0.6597 | 0.7000 | 0.6079 | 5 | nb_words_question1+nb_common_words/nb_words_question1+nb_common_words/nb_words_question2+nb_words_question1-common_words+nb_common_words/(nb_words_question1+nb_words_question2)</small></span>"
     },
     "metadata": {
      "text/html": {
       "isolated": true
      }
     }
    },
    {
     "output_type": "display_data",
     "data": {
      "text/plain": "<IPython.core.display.HTML object>",
      "text/html": "<span style=\"color:LIMEGREEN\"><small> 0.6425 | 0.6818 | 0.6577 | 0.6445 | 0.6837 | 0.6540 | 0.6443 | 0.6835 | 0.6540 | 5 | nb_words_question1+nb_common_words/nb_words_question1+nb_common_words/nb_words_question2+nb_words_question2-common_words+nb_common_words/(nb_words_question1+nb_words_question2)</small></span>"
     },
     "metadata": {
      "text/html": {
       "isolated": true
      }
     }
    },
    {
     "output_type": "display_data",
     "data": {
      "text/plain": "<IPython.core.display.HTML object>",
      "text/html": "<span style=\"color:LIMEGREEN\"><small> 0.6595 | 0.6997 | 0.6329 | 0.6608 | 0.7010 | 0.6302 | 0.6611 | 0.7011 | 0.6302 | 5 | nb_words_question1+nb_common_words/nb_words_question1+nb_words_question1-common_words+nb_words_question2-common_words+nb_common_words/(nb_words_question1+nb_words_question2)</small></span>"
     },
     "metadata": {
      "text/html": {
       "isolated": true
      }
     }
    },
    {
     "output_type": "display_data",
     "data": {
      "text/plain": "<IPython.core.display.HTML object>",
      "text/html": "<span style=\"color:LIMEGREEN\"><small> 0.6594 | 0.6990 | 0.6404 | 0.6609 | 0.7004 | 0.6376 | 0.6607 | 0.7002 | 0.6375 | 5 | nb_words_question1+nb_common_words/nb_words_question2+nb_words_question1-common_words+nb_words_question2-common_words+nb_common_words/(nb_words_question1+nb_words_question2)</small></span>"
     },
     "metadata": {
      "text/html": {
       "isolated": true
      }
     }
    },
    {
     "output_type": "display_data",
     "data": {
      "text/plain": "<IPython.core.display.HTML object>",
      "text/html": "<span style=\"color:LIMEGREEN\"><small> 0.6691 | 0.7039 | 0.7941 | 0.6698 | 0.7046 | 0.7939 | 0.6697 | 0.7044 | 0.7946 | 5 | nb_words_question2+nb_common_words+nb_common_words/nb_words_question1+nb_common_words/nb_words_question2+nb_words_question1-common_words</small></span>"
     },
     "metadata": {
      "text/html": {
       "isolated": true
      }
     }
    },
    {
     "output_type": "display_data",
     "data": {
      "text/plain": "<IPython.core.display.HTML object>",
      "text/html": "<span style=\"color:LIMEGREEN\"><small> 0.6682 | 0.7012 | 0.8337 | 0.6704 | 0.7034 | 0.8303 | 0.6700 | 0.7030 | 0.8302 | 5 | nb_words_question2+nb_common_words+nb_common_words/nb_words_question1+nb_common_words/nb_words_question2+nb_words_question2-common_words</small></span>"
     },
     "metadata": {
      "text/html": {
       "isolated": true
      }
     }
    },
    {
     "output_type": "display_data",
     "data": {
      "text/plain": "<IPython.core.display.HTML object>",
      "text/html": "<span style=\"color:LIMEGREEN\"><small> 0.6618 | 0.7008 | 0.6140 | 0.6631 | 0.7022 | 0.6117 | 0.6629 | 0.7019 | 0.6120 | 5 | nb_words_question2+nb_common_words+nb_common_words/nb_words_question1+nb_common_words/nb_words_question2+nb_common_words/(nb_words_question1+nb_words_question2)</small></span>"
     },
     "metadata": {
      "text/html": {
       "isolated": true
      }
     }
    },
    {
     "output_type": "display_data",
     "data": {
      "text/plain": "<IPython.core.display.HTML object>",
      "text/html": "<span style=\"color:LIMEGREEN\"><small> 0.6737 | 0.7077 | 0.9080 | 0.6740 | 0.7083 | 0.9061 | 0.6739 | 0.7081 | 0.9066 | 5 | nb_words_question2+nb_common_words+nb_common_words/nb_words_question1+nb_words_question1-common_words+nb_words_question2-common_words</small></span>"
     },
     "metadata": {
      "text/html": {
       "isolated": true
      }
     }
    },
    {
     "output_type": "display_data",
     "data": {
      "text/plain": "<IPython.core.display.HTML object>",
      "text/html": "<span style=\"color:LIMEGREEN\"><small> 0.6685 | 0.7036 | 0.7870 | 0.6688 | 0.7041 | 0.7868 | 0.6687 | 0.7040 | 0.7876 | 5 | nb_words_question2+nb_common_words+nb_common_words/nb_words_question1+nb_words_question1-common_words+nb_common_words/(nb_words_question1+nb_words_question2)</small></span>"
     },
     "metadata": {
      "text/html": {
       "isolated": true
      }
     }
    },
    {
     "output_type": "display_data",
     "data": {
      "text/plain": "<IPython.core.display.HTML object>",
      "text/html": "<span style=\"color:LIMEGREEN\"><small> 0.6685 | 0.7026 | 0.8173 | 0.6707 | 0.7048 | 0.8139 | 0.6702 | 0.7044 | 0.8139 | 5 | nb_words_question2+nb_common_words+nb_common_words/nb_words_question1+nb_words_question2-common_words+nb_common_words/(nb_words_question1+nb_words_question2)</small></span>"
     },
     "metadata": {
      "text/html": {
       "isolated": true
      }
     }
    },
    {
     "output_type": "display_data",
     "data": {
      "text/plain": "<IPython.core.display.HTML object>",
      "text/html": "<span style=\"color:LIMEGREEN\"><small> 0.6737 | 0.7078 | 0.9086 | 0.6738 | 0.7082 | 0.9067 | 0.6738 | 0.7081 | 0.9072 | 5 | nb_words_question2+nb_common_words+nb_common_words/nb_words_question2+nb_words_question1-common_words+nb_words_question2-common_words</small></span>"
     },
     "metadata": {
      "text/html": {
       "isolated": true
      }
     }
    },
    {
     "output_type": "display_data",
     "data": {
      "text/plain": "<IPython.core.display.HTML object>",
      "text/html": "<span style=\"color:LIMEGREEN\"><small> 0.6691 | 0.7043 | 0.7821 | 0.6699 | 0.7052 | 0.7818 | 0.6698 | 0.7050 | 0.7826 | 5 | nb_words_question2+nb_common_words+nb_common_words/nb_words_question2+nb_words_question1-common_words+nb_common_words/(nb_words_question1+nb_words_question2)</small></span>"
     },
     "metadata": {
      "text/html": {
       "isolated": true
      }
     }
    },
    {
     "output_type": "display_data",
     "data": {
      "text/plain": "<IPython.core.display.HTML object>",
      "text/html": "<span style=\"color:LIMEGREEN\"><small> 0.6682 | 0.7012 | 0.8255 | 0.6705 | 0.7035 | 0.8221 | 0.6702 | 0.7030 | 0.8220 | 5 | nb_words_question2+nb_common_words+nb_common_words/nb_words_question2+nb_words_question2-common_words+nb_common_words/(nb_words_question1+nb_words_question2)</small></span>"
     },
     "metadata": {
      "text/html": {
       "isolated": true
      }
     }
    },
    {
     "output_type": "display_data",
     "data": {
      "text/plain": "<IPython.core.display.HTML object>",
      "text/html": "<span style=\"color:LIMEGREEN\"><small> 0.6736 | 0.7081 | 0.8914 | 0.6735 | 0.7084 | 0.8895 | 0.6735 | 0.7083 | 0.8900 | 5 | nb_words_question2+nb_common_words+nb_words_question1-common_words+nb_words_question2-common_words+nb_common_words/(nb_words_question1+nb_words_question2)</small></span>"
     },
     "metadata": {
      "text/html": {
       "isolated": true
      }
     }
    },
    {
     "output_type": "display_data",
     "data": {
      "text/plain": "<IPython.core.display.HTML object>",
      "text/html": "<span style=\"color:LIMEGREEN\"><small> 0.6613 | 0.7007 | 0.6278 | 0.6624 | 0.7019 | 0.6265 | 0.6622 | 0.7017 | 0.6272 | 5 | nb_words_question2+nb_common_words/nb_words_question1+nb_common_words/nb_words_question2+nb_words_question1-common_words+nb_words_question2-common_words</small></span>"
     },
     "metadata": {
      "text/html": {
       "isolated": true
      }
     }
    },
    {
     "output_type": "display_data",
     "data": {
      "text/plain": "<IPython.core.display.HTML object>",
      "text/html": "<span style=\"color:LIMEGREEN\"><small> 0.6444 | 0.6851 | 0.6333 | 0.6458 | 0.6866 | 0.6334 | 0.6451 | 0.6859 | 0.6342 | 5 | nb_words_question2+nb_common_words/nb_words_question1+nb_common_words/nb_words_question2+nb_words_question1-common_words+nb_common_words/(nb_words_question1+nb_words_question2)</small></span>"
     },
     "metadata": {
      "text/html": {
       "isolated": true
      }
     }
    },
    {
     "output_type": "display_data",
     "data": {
      "text/plain": "<IPython.core.display.HTML object>",
      "text/html": "<span style=\"color:LIMEGREEN\"><small> 0.6584 | 0.6983 | 0.6124 | 0.6600 | 0.6998 | 0.6099 | 0.6597 | 0.6995 | 0.6102 | 5 | nb_words_question2+nb_common_words/nb_words_question1+nb_common_words/nb_words_question2+nb_words_question2-common_words+nb_common_words/(nb_words_question1+nb_words_question2)</small></span>"
     },
     "metadata": {
      "text/html": {
       "isolated": true
      }
     }
    },
    {
     "output_type": "display_data",
     "data": {
      "text/plain": "<IPython.core.display.HTML object>",
      "text/html": "<span style=\"color:LIMEGREEN\"><small> 0.6595 | 0.7001 | 0.6217 | 0.6606 | 0.7013 | 0.6205 | 0.6604 | 0.7010 | 0.6212 | 5 | nb_words_question2+nb_common_words/nb_words_question1+nb_words_question1-common_words+nb_words_question2-common_words+nb_common_words/(nb_words_question1+nb_words_question2)</small></span>"
     },
     "metadata": {
      "text/html": {
       "isolated": true
      }
     }
    },
    {
     "output_type": "display_data",
     "data": {
      "text/plain": "<IPython.core.display.HTML object>",
      "text/html": "<span style=\"color:LIMEGREEN\"><small> 0.6600 | 0.7006 | 0.6179 | 0.6611 | 0.7018 | 0.6166 | 0.6609 | 0.7015 | 0.6172 | 5 | nb_words_question2+nb_common_words/nb_words_question2+nb_words_question1-common_words+nb_words_question2-common_words+nb_common_words/(nb_words_question1+nb_words_question2)</small></span>"
     },
     "metadata": {
      "text/html": {
       "isolated": true
      }
     }
    },
    {
     "output_type": "display_data",
     "data": {
      "text/plain": "<IPython.core.display.HTML object>",
      "text/html": "<span style=\"color:LIMEGREEN\"><small> 0.6732 | 0.7069 | 0.9344 | 0.6731 | 0.7071 | 0.9325 | 0.6731 | 0.7071 | 0.9328 | 5 | nb_common_words+nb_common_words/nb_words_question1+nb_common_words/nb_words_question2+nb_words_question1-common_words+nb_words_question2-common_words</small></span>"
     },
     "metadata": {
      "text/html": {
       "isolated": true
      }
     }
    },
    {
     "output_type": "display_data",
     "data": {
      "text/plain": "<IPython.core.display.HTML object>",
      "text/html": "<span style=\"color:LIMEGREEN\"><small> 0.6669 | 0.7010 | 0.8151 | 0.6679 | 0.7021 | 0.8154 | 0.6677 | 0.7019 | 0.8160 | 5 | nb_common_words+nb_common_words/nb_words_question1+nb_common_words/nb_words_question2+nb_words_question1-common_words+nb_common_words/(nb_words_question1+nb_words_question2)</small></span>"
     },
     "metadata": {
      "text/html": {
       "isolated": true
      }
     }
    },
    {
     "output_type": "display_data",
     "data": {
      "text/plain": "<IPython.core.display.HTML object>",
      "text/html": "<span style=\"color:LIMEGREEN\"><small> 0.6678 | 0.7005 | 0.8423 | 0.6700 | 0.7027 | 0.8389 | 0.6695 | 0.7023 | 0.8388 | 5 | nb_common_words+nb_common_words/nb_words_question1+nb_common_words/nb_words_question2+nb_words_question2-common_words+nb_common_words/(nb_words_question1+nb_words_question2)</small></span>"
     },
     "metadata": {
      "text/html": {
       "isolated": true
      }
     }
    },
    {
     "output_type": "display_data",
     "data": {
      "text/plain": "<IPython.core.display.HTML object>",
      "text/html": "<span style=\"color:LIMEGREEN\"><small> 0.6728 | 0.7067 | 0.9140 | 0.6728 | 0.7070 | 0.9120 | 0.6728 | 0.7070 | 0.9123 | 5 | nb_common_words+nb_common_words/nb_words_question1+nb_words_question1-common_words+nb_words_question2-common_words+nb_common_words/(nb_words_question1+nb_words_question2)</small></span>"
     },
     "metadata": {
      "text/html": {
       "isolated": true
      }
     }
    },
    {
     "output_type": "display_data",
     "data": {
      "text/plain": "<IPython.core.display.HTML object>",
      "text/html": "<span style=\"color:LIMEGREEN\"><small> 0.6737 | 0.7074 | 0.9156 | 0.6733 | 0.7074 | 0.9136 | 0.6734 | 0.7074 | 0.9139 | 5 | nb_common_words+nb_common_words/nb_words_question2+nb_words_question1-common_words+nb_words_question2-common_words+nb_common_words/(nb_words_question1+nb_words_question2)</small></span>"
     },
     "metadata": {
      "text/html": {
       "isolated": true
      }
     }
    },
    {
     "output_type": "display_data",
     "data": {
      "text/plain": "<IPython.core.display.HTML object>",
      "text/html": "<span style=\"color:LIMEGREEN\"><small> 0.6551 | 0.6961 | 0.5873 | 0.6569 | 0.6978 | 0.5855 | 0.6565 | 0.6975 | 0.5858 | 5 | nb_common_words/nb_words_question1+nb_common_words/nb_words_question2+nb_words_question1-common_words+nb_words_question2-common_words+nb_common_words/(nb_words_question1+nb_words_question2)</small></span>"
     },
     "metadata": {
      "text/html": {
       "isolated": true
      }
     }
    },
    {
     "output_type": "display_data",
     "data": {
      "text/plain": "<IPython.core.display.HTML object>",
      "text/html": "<span style=\"color:LIMEGREEN\"><small> 0.6689 | 0.7036 | 0.7958 | 0.6696 | 0.7045 | 0.7956 | 0.6695 | 0.7042 | 0.7965 | 6 | nb_words_question1+nb_words_question2+nb_common_words+nb_common_words/nb_words_question1+nb_common_words/nb_words_question2+nb_words_question1-common_words</small></span>"
     },
     "metadata": {
      "text/html": {
       "isolated": true
      }
     }
    },
    {
     "output_type": "display_data",
     "data": {
      "text/plain": "<IPython.core.display.HTML object>",
      "text/html": "<span style=\"color:LIMEGREEN\"><small> 0.6682 | 0.7013 | 0.8327 | 0.6704 | 0.7035 | 0.8294 | 0.6700 | 0.7031 | 0.8290 | 6 | nb_words_question1+nb_words_question2+nb_common_words+nb_common_words/nb_words_question1+nb_common_words/nb_words_question2+nb_words_question2-common_words</small></span>"
     },
     "metadata": {
      "text/html": {
       "isolated": true
      }
     }
    },
    {
     "output_type": "display_data",
     "data": {
      "text/plain": "<IPython.core.display.HTML object>",
      "text/html": "<span style=\"color:LIMEGREEN\"><small> 0.6647 | 0.7030 | 0.6158 | 0.6661 | 0.7044 | 0.6143 | 0.6658 | 0.7042 | 0.6146 | 6 | nb_words_question1+nb_words_question2+nb_common_words+nb_common_words/nb_words_question1+nb_common_words/nb_words_question2+nb_common_words/(nb_words_question1+nb_words_question2)</small></span>"
     },
     "metadata": {
      "text/html": {
       "isolated": true
      }
     }
    },
    {
     "output_type": "display_data",
     "data": {
      "text/plain": "<IPython.core.display.HTML object>",
      "text/html": "<span style=\"color:LIMEGREEN\"><small> 0.6743 | 0.7080 | 0.9193 | 0.6744 | 0.7084 | 0.9170 | 0.6743 | 0.7083 | 0.9173 | 6 | nb_words_question1+nb_words_question2+nb_common_words+nb_common_words/nb_words_question1+nb_words_question1-common_words+nb_words_question2-common_words</small></span>"
     },
     "metadata": {
      "text/html": {
       "isolated": true
      }
     }
    },
    {
     "output_type": "display_data",
     "data": {
      "text/plain": "<IPython.core.display.HTML object>",
      "text/html": "<span style=\"color:LIMEGREEN\"><small> 0.6683 | 0.7034 | 0.7881 | 0.6686 | 0.7039 | 0.7880 | 0.6687 | 0.7038 | 0.7889 | 6 | nb_words_question1+nb_words_question2+nb_common_words+nb_common_words/nb_words_question1+nb_words_question1-common_words+nb_common_words/(nb_words_question1+nb_words_question2)</small></span>"
     },
     "metadata": {
      "text/html": {
       "isolated": true
      }
     }
    },
    {
     "output_type": "display_data",
     "data": {
      "text/plain": "<IPython.core.display.HTML object>",
      "text/html": "<span style=\"color:LIMEGREEN\"><small> 0.6685 | 0.7027 | 0.8177 | 0.6706 | 0.7048 | 0.8143 | 0.6702 | 0.7044 | 0.8140 | 6 | nb_words_question1+nb_words_question2+nb_common_words+nb_common_words/nb_words_question1+nb_words_question2-common_words+nb_common_words/(nb_words_question1+nb_words_question2)</small></span>"
     },
     "metadata": {
      "text/html": {
       "isolated": true
      }
     }
    },
    {
     "output_type": "display_data",
     "data": {
      "text/plain": "<IPython.core.display.HTML object>",
      "text/html": "<span style=\"color:LIMEGREEN\"><small> 0.6732 | 0.7074 | 0.9214 | 0.6735 | 0.7080 | 0.9191 | 0.6735 | 0.7079 | 0.9193 | 6 | nb_words_question1+nb_words_question2+nb_common_words+nb_common_words/nb_words_question2+nb_words_question1-common_words+nb_words_question2-common_words</small></span>"
     },
     "metadata": {
      "text/html": {
       "isolated": true
      }
     }
    },
    {
     "output_type": "display_data",
     "data": {
      "text/plain": "<IPython.core.display.HTML object>",
      "text/html": "<span style=\"color:LIMEGREEN\"><small> 0.6691 | 0.7042 | 0.7830 | 0.6698 | 0.7050 | 0.7828 | 0.6696 | 0.7048 | 0.7836 | 6 | nb_words_question1+nb_words_question2+nb_common_words+nb_common_words/nb_words_question2+nb_words_question1-common_words+nb_common_words/(nb_words_question1+nb_words_question2)</small></span>"
     },
     "metadata": {
      "text/html": {
       "isolated": true
      }
     }
    },
    {
     "output_type": "display_data",
     "data": {
      "text/plain": "<IPython.core.display.HTML object>",
      "text/html": "<span style=\"color:LIMEGREEN\"><small> 0.6680 | 0.7008 | 0.8259 | 0.6703 | 0.7031 | 0.8225 | 0.6702 | 0.7029 | 0.8221 | 6 | nb_words_question1+nb_words_question2+nb_common_words+nb_common_words/nb_words_question2+nb_words_question2-common_words+nb_common_words/(nb_words_question1+nb_words_question2)</small></span>"
     },
     "metadata": {
      "text/html": {
       "isolated": true
      }
     }
    },
    {
     "output_type": "display_data",
     "data": {
      "text/plain": "<IPython.core.display.HTML object>",
      "text/html": "<span style=\"color:LIMEGREEN\"><small> 0.6731 | 0.7076 | 0.9047 | 0.6730 | 0.7079 | 0.9023 | 0.6730 | 0.7078 | 0.9026 | 6 | nb_words_question1+nb_words_question2+nb_common_words+nb_words_question1-common_words+nb_words_question2-common_words+nb_common_words/(nb_words_question1+nb_words_question2)</small></span>"
     },
     "metadata": {
      "text/html": {
       "isolated": true
      }
     }
    },
    {
     "output_type": "display_data",
     "data": {
      "text/plain": "<IPython.core.display.HTML object>",
      "text/html": "<span style=\"color:LIMEGREEN\"><small> 0.6641 | 0.7026 | 0.6571 | 0.6650 | 0.7036 | 0.6550 | 0.6647 | 0.7033 | 0.6553 | 6 | nb_words_question1+nb_words_question2+nb_common_words/nb_words_question1+nb_common_words/nb_words_question2+nb_words_question1-common_words+nb_words_question2-common_words</small></span>"
     },
     "metadata": {
      "text/html": {
       "isolated": true
      }
     }
    },
    {
     "output_type": "display_data",
     "data": {
      "text/plain": "<IPython.core.display.HTML object>",
      "text/html": "<span style=\"color:LIMEGREEN\"><small> 0.6556 | 0.6959 | 0.6219 | 0.6573 | 0.6976 | 0.6214 | 0.6568 | 0.6970 | 0.6222 | 6 | nb_words_question1+nb_words_question2+nb_common_words/nb_words_question1+nb_common_words/nb_words_question2+nb_words_question1-common_words+nb_common_words/(nb_words_question1+nb_words_question2)</small></span>"
     },
     "metadata": {
      "text/html": {
       "isolated": true
      }
     }
    },
    {
     "output_type": "display_data",
     "data": {
      "text/plain": "<IPython.core.display.HTML object>",
      "text/html": "<span style=\"color:LIMEGREEN\"><small> 0.6490 | 0.6879 | 0.6494 | 0.6519 | 0.6907 | 0.6460 | 0.6514 | 0.6902 | 0.6459 | 6 | nb_words_question1+nb_words_question2+nb_common_words/nb_words_question1+nb_common_words/nb_words_question2+nb_words_question2-common_words+nb_common_words/(nb_words_question1+nb_words_question2)</small></span>"
     },
     "metadata": {
      "text/html": {
       "isolated": true
      }
     }
    },
    {
     "output_type": "display_data",
     "data": {
      "text/plain": "<IPython.core.display.HTML object>",
      "text/html": "<span style=\"color:LIMEGREEN\"><small> 0.6639 | 0.7032 | 0.6453 | 0.6646 | 0.7040 | 0.6431 | 0.6645 | 0.7038 | 0.6434 | 6 | nb_words_question1+nb_words_question2+nb_common_words/nb_words_question1+nb_words_question1-common_words+nb_words_question2-common_words+nb_common_words/(nb_words_question1+nb_words_question2)</small></span>"
     },
     "metadata": {
      "text/html": {
       "isolated": true
      }
     }
    },
    {
     "output_type": "display_data",
     "data": {
      "text/plain": "<IPython.core.display.HTML object>",
      "text/html": "<span style=\"color:LIMEGREEN\"><small> 0.6633 | 0.7026 | 0.6479 | 0.6643 | 0.7037 | 0.6457 | 0.6643 | 0.7035 | 0.6459 | 6 | nb_words_question1+nb_words_question2+nb_common_words/nb_words_question2+nb_words_question1-common_words+nb_words_question2-common_words+nb_common_words/(nb_words_question1+nb_words_question2)</small></span>"
     },
     "metadata": {
      "text/html": {
       "isolated": true
      }
     }
    },
    {
     "output_type": "display_data",
     "data": {
      "text/plain": "<IPython.core.display.HTML object>",
      "text/html": "<span style=\"color:LIMEGREEN\"><small> 0.6734 | 0.7066 | 0.9515 | 0.6732 | 0.7068 | 0.9492 | 0.6733 | 0.7067 | 0.9494 | 6 | nb_words_question1+nb_common_words+nb_common_words/nb_words_question1+nb_common_words/nb_words_question2+nb_words_question1-common_words+nb_words_question2-common_words</small></span>"
     },
     "metadata": {
      "text/html": {
       "isolated": true
      }
     }
    },
    {
     "output_type": "display_data",
     "data": {
      "text/plain": "<IPython.core.display.HTML object>",
      "text/html": "<span style=\"color:LIMEGREEN\"><small> 0.6667 | 0.7003 | 0.8189 | 0.6676 | 0.7013 | 0.8194 | 0.6674 | 0.7011 | 0.8199 | 6 | nb_words_question1+nb_common_words+nb_common_words/nb_words_question1+nb_common_words/nb_words_question2+nb_words_question1-common_words+nb_common_words/(nb_words_question1+nb_words_question2)</small></span>"
     },
     "metadata": {
      "text/html": {
       "isolated": true
      }
     }
    },
    {
     "output_type": "display_data",
     "data": {
      "text/plain": "<IPython.core.display.HTML object>",
      "text/html": "<span style=\"color:LIMEGREEN\"><small> 0.6690 | 0.7024 | 0.8363 | 0.6707 | 0.7041 | 0.8331 | 0.6704 | 0.7038 | 0.8329 | 6 | nb_words_question1+nb_common_words+nb_common_words/nb_words_question1+nb_common_words/nb_words_question2+nb_words_question2-common_words+nb_common_words/(nb_words_question1+nb_words_question2)</small></span>"
     },
     "metadata": {
      "text/html": {
       "isolated": true
      }
     }
    },
    {
     "output_type": "display_data",
     "data": {
      "text/plain": "<IPython.core.display.HTML object>",
      "text/html": "<span style=\"color:LIMEGREEN\"><small> 0.6737 | 0.7072 | 0.9333 | 0.6735 | 0.7073 | 0.9309 | 0.6735 | 0.7072 | 0.9311 | 6 | nb_words_question1+nb_common_words+nb_common_words/nb_words_question1+nb_words_question1-common_words+nb_words_question2-common_words+nb_common_words/(nb_words_question1+nb_words_question2)</small></span>"
     },
     "metadata": {
      "text/html": {
       "isolated": true
      }
     }
    },
    {
     "output_type": "display_data",
     "data": {
      "text/plain": "<IPython.core.display.HTML object>",
      "text/html": "<span style=\"color:LIMEGREEN\"><small> 0.6730 | 0.7066 | 0.9359 | 0.6734 | 0.7073 | 0.9336 | 0.6733 | 0.7071 | 0.9337 | 6 | nb_words_question1+nb_common_words+nb_common_words/nb_words_question2+nb_words_question1-common_words+nb_words_question2-common_words+nb_common_words/(nb_words_question1+nb_words_question2)</small></span>"
     },
     "metadata": {
      "text/html": {
       "isolated": true
      }
     }
    },
    {
     "output_type": "display_data",
     "data": {
      "text/plain": "<IPython.core.display.HTML object>",
      "text/html": "<span style=\"color:LIMEGREEN\"><small> 0.6629 | 0.7005 | 0.6566 | 0.6645 | 0.7021 | 0.6540 | 0.6642 | 0.7018 | 0.6540 | 6 | nb_words_question1+nb_common_words/nb_words_question1+nb_common_words/nb_words_question2+nb_words_question1-common_words+nb_words_question2-common_words+nb_common_words/(nb_words_question1+nb_words_question2)</small></span>"
     },
     "metadata": {
      "text/html": {
       "isolated": true
      }
     }
    },
    {
     "output_type": "display_data",
     "data": {
      "text/plain": "<IPython.core.display.HTML object>",
      "text/html": "<span style=\"color:LIMEGREEN\"><small> 0.6727 | 0.7066 | 0.9440 | 0.6727 | 0.7070 | 0.9422 | 0.6727 | 0.7069 | 0.9426 | 6 | nb_words_question2+nb_common_words+nb_common_words/nb_words_question1+nb_common_words/nb_words_question2+nb_words_question1-common_words+nb_words_question2-common_words</small></span>"
     },
     "metadata": {
      "text/html": {
       "isolated": true
      }
     }
    },
    {
     "output_type": "display_data",
     "data": {
      "text/plain": "<IPython.core.display.HTML object>",
      "text/html": "<span style=\"color:LIMEGREEN\"><small> 0.6697 | 0.7037 | 0.8049 | 0.6706 | 0.7048 | 0.8048 | 0.6704 | 0.7045 | 0.8056 | 6 | nb_words_question2+nb_common_words+nb_common_words/nb_words_question1+nb_common_words/nb_words_question2+nb_words_question1-common_words+nb_common_words/(nb_words_question1+nb_words_question2)</small></span>"
     },
     "metadata": {
      "text/html": {
       "isolated": true
      }
     }
    },
    {
     "output_type": "display_data",
     "data": {
      "text/plain": "<IPython.core.display.HTML object>",
      "text/html": "<span style=\"color:LIMEGREEN\"><small> 0.6674 | 0.7000 | 0.8471 | 0.6695 | 0.7022 | 0.8437 | 0.6691 | 0.7017 | 0.8436 | 6 | nb_words_question2+nb_common_words+nb_common_words/nb_words_question1+nb_common_words/nb_words_question2+nb_words_question2-common_words+nb_common_words/(nb_words_question1+nb_words_question2)</small></span>"
     },
     "metadata": {
      "text/html": {
       "isolated": true
      }
     }
    },
    {
     "output_type": "display_data",
     "data": {
      "text/plain": "<IPython.core.display.HTML object>",
      "text/html": "<span style=\"color:LIMEGREEN\"><small> 0.6730 | 0.7068 | 0.9261 | 0.6734 | 0.7074 | 0.9243 | 0.6734 | 0.7073 | 0.9248 | 6 | nb_words_question2+nb_common_words+nb_common_words/nb_words_question1+nb_words_question1-common_words+nb_words_question2-common_words+nb_common_words/(nb_words_question1+nb_words_question2)</small></span>"
     },
     "metadata": {
      "text/html": {
       "isolated": true
      }
     }
    },
    {
     "output_type": "display_data",
     "data": {
      "text/plain": "<IPython.core.display.HTML object>",
      "text/html": "<span style=\"color:LIMEGREEN\"><small> 0.6732 | 0.7069 | 0.9269 | 0.6731 | 0.7072 | 0.9251 | 0.6731 | 0.7071 | 0.9255 | 6 | nb_words_question2+nb_common_words+nb_common_words/nb_words_question2+nb_words_question1-common_words+nb_words_question2-common_words+nb_common_words/(nb_words_question1+nb_words_question2)</small></span>"
     },
     "metadata": {
      "text/html": {
       "isolated": true
      }
     }
    },
    {
     "output_type": "display_data",
     "data": {
      "text/plain": "<IPython.core.display.HTML object>",
      "text/html": "<span style=\"color:LIMEGREEN\"><small> 0.6629 | 0.7015 | 0.6396 | 0.6638 | 0.7025 | 0.6384 | 0.6638 | 0.7024 | 0.6390 | 6 | nb_words_question2+nb_common_words/nb_words_question1+nb_common_words/nb_words_question2+nb_words_question1-common_words+nb_words_question2-common_words+nb_common_words/(nb_words_question1+nb_words_question2)</small></span>"
     },
     "metadata": {
      "text/html": {
       "isolated": true
      }
     }
    },
    {
     "output_type": "display_data",
     "data": {
      "text/plain": "<IPython.core.display.HTML object>",
      "text/html": "<span style=\"color:LIMEGREEN\"><small> 0.6729 | 0.7065 | 0.9553 | 0.6729 | 0.7068 | 0.9535 | 0.6729 | 0.7067 | 0.9537 | 6 | nb_common_words+nb_common_words/nb_words_question1+nb_common_words/nb_words_question2+nb_words_question1-common_words+nb_words_question2-common_words+nb_common_words/(nb_words_question1+nb_words_question2)</small></span>"
     },
     "metadata": {
      "text/html": {
       "isolated": true
      }
     }
    },
    {
     "output_type": "display_data",
     "data": {
      "text/plain": "<IPython.core.display.HTML object>",
      "text/html": "<span style=\"color:LIMEGREEN\"><small> 0.6737 | 0.7071 | 0.9536 | 0.6734 | 0.7071 | 0.9515 | 0.6734 | 0.7072 | 0.9517 | 7 | nb_words_question1+nb_words_question2+nb_common_words+nb_common_words/nb_words_question1+nb_common_words/nb_words_question2+nb_words_question1-common_words+nb_words_question2-common_words</small></span>"
     },
     "metadata": {
      "text/html": {
       "isolated": true
      }
     }
    },
    {
     "output_type": "display_data",
     "data": {
      "text/plain": "<IPython.core.display.HTML object>",
      "text/html": "<span style=\"color:LIMEGREEN\"><small> 0.6696 | 0.7036 | 0.8074 | 0.6704 | 0.7045 | 0.8073 | 0.6702 | 0.7043 | 0.8082 | 7 | nb_words_question1+nb_words_question2+nb_common_words+nb_common_words/nb_words_question1+nb_common_words/nb_words_question2+nb_words_question1-common_words+nb_common_words/(nb_words_question1+nb_words_question2)</small></span>"
     },
     "metadata": {
      "text/html": {
       "isolated": true
      }
     }
    },
    {
     "output_type": "display_data",
     "data": {
      "text/plain": "<IPython.core.display.HTML object>",
      "text/html": "<span style=\"color:LIMEGREEN\"><small> 0.6676 | 0.7005 | 0.8449 | 0.6699 | 0.7028 | 0.8416 | 0.6695 | 0.7024 | 0.8412 | 7 | nb_words_question1+nb_words_question2+nb_common_words+nb_common_words/nb_words_question1+nb_common_words/nb_words_question2+nb_words_question2-common_words+nb_common_words/(nb_words_question1+nb_words_question2)</small></span>"
     },
     "metadata": {
      "text/html": {
       "isolated": true
      }
     }
    },
    {
     "output_type": "display_data",
     "data": {
      "text/plain": "<IPython.core.display.HTML object>",
      "text/html": "<span style=\"color:LIMEGREEN\"><small> 0.6733 | 0.7069 | 0.9363 | 0.6733 | 0.7072 | 0.9341 | 0.6733 | 0.7072 | 0.9344 | 7 | nb_words_question1+nb_words_question2+nb_common_words+nb_common_words/nb_words_question1+nb_words_question1-common_words+nb_words_question2-common_words+nb_common_words/(nb_words_question1+nb_words_question2)</small></span>"
     },
     "metadata": {
      "text/html": {
       "isolated": true
      }
     }
    },
    {
     "output_type": "display_data",
     "data": {
      "text/plain": "<IPython.core.display.HTML object>",
      "text/html": "<span style=\"color:LIMEGREEN\"><small> 0.6734 | 0.7071 | 0.9384 | 0.6737 | 0.7076 | 0.9362 | 0.6735 | 0.7076 | 0.9364 | 7 | nb_words_question1+nb_words_question2+nb_common_words+nb_common_words/nb_words_question2+nb_words_question1-common_words+nb_words_question2-common_words+nb_common_words/(nb_words_question1+nb_words_question2)</small></span>"
     },
     "metadata": {
      "text/html": {
       "isolated": true
      }
     }
    },
    {
     "output_type": "display_data",
     "data": {
      "text/plain": "<IPython.core.display.HTML object>",
      "text/html": "<span style=\"color:LIMEGREEN\"><small> 0.6651 | 0.7028 | 0.6704 | 0.6664 | 0.7041 | 0.6683 | 0.6662 | 0.7038 | 0.6686 | 7 | nb_words_question1+nb_words_question2+nb_common_words/nb_words_question1+nb_common_words/nb_words_question2+nb_words_question1-common_words+nb_words_question2-common_words+nb_common_words/(nb_words_question1+nb_words_question2)</small></span>"
     },
     "metadata": {
      "text/html": {
       "isolated": true
      }
     }
    },
    {
     "output_type": "display_data",
     "data": {
      "text/plain": "<IPython.core.display.HTML object>",
      "text/html": "<span style=\"color:LIMEGREEN\"><small> 0.6734 | 0.7066 | 0.9698 | 0.6731 | 0.7067 | 0.9677 | 0.6732 | 0.7067 | 0.9678 | 7 | nb_words_question1+nb_common_words+nb_common_words/nb_words_question1+nb_common_words/nb_words_question2+nb_words_question1-common_words+nb_words_question2-common_words+nb_common_words/(nb_words_question1+nb_words_question2)</small></span>"
     },
     "metadata": {
      "text/html": {
       "isolated": true
      }
     }
    },
    {
     "output_type": "display_data",
     "data": {
      "text/plain": "<IPython.core.display.HTML object>",
      "text/html": "<span style=\"color:LIMEGREEN\"><small> 0.6726 | 0.7065 | 0.9629 | 0.6727 | 0.7069 | 0.9612 | 0.6726 | 0.7068 | 0.9615 | 7 | nb_words_question2+nb_common_words+nb_common_words/nb_words_question1+nb_common_words/nb_words_question2+nb_words_question1-common_words+nb_words_question2-common_words+nb_common_words/(nb_words_question1+nb_words_question2)</small></span>"
     },
     "metadata": {
      "text/html": {
       "isolated": true
      }
     }
    },
    {
     "output_type": "display_data",
     "data": {
      "text/plain": "<IPython.core.display.HTML object>",
      "text/html": "<span style=\"color:LIMEGREEN\"><small> 0.6734 | 0.7066 | 0.9714 | 0.6732 | 0.7068 | 0.9693 | 0.6732 | 0.7068 | 0.9695 | 8 | nb_words_question1+nb_words_question2+nb_common_words+nb_common_words/nb_words_question1+nb_common_words/nb_words_question2+nb_words_question1-common_words+nb_words_question2-common_words+nb_common_words/(nb_words_question1+nb_words_question2)</small></span>"
     },
     "metadata": {
      "text/html": {
       "isolated": true
      }
     }
    },
    {
     "output_type": "stream",
     "name": "stdout",
     "text": "\n"
    },
    {
     "output_type": "display_data",
     "data": {
      "text/plain": "<IPython.core.display.HTML object>",
      "text/html": "<span style=\"color:LIMEGREEN\"><small><b><i>Done</i></b><p></p></small></span>"
     },
     "metadata": {
      "text/html": {
       "isolated": true
      }
     }
    },
    {
     "output_type": "stream",
     "name": "stdout",
     "text": "done in 404.6853759288788\n"
    }
   ],
   "source": [
    "import time\n",
    "\n",
    "# build ALL models\n",
    "# 2 very important global variables: all_models_dict & model_results\n",
    "# model_results = fake_build_model_on_all_subset_of_simple_features(train_dataframe,train_dataframe['is_duplicate'])\n",
    "t = time.time()\n",
    "model_results = build_model_on_all_subset_of_simple_features(train_dataframe,train_dataframe['is_duplicate'])\n",
    "print('done in %s' % (time.time()-t))\n"
   ]
  },
  {
   "cell_type": "code",
   "execution_count": 23,
   "metadata": {
    "tags": []
   },
   "outputs": [
    {
     "output_type": "execute_result",
     "data": {
      "text/plain": "              0.640531   \nnb_common_words                                                                                                                                                                                             0.640531   \nnb_common_words/nb_words_question1                                                                                                                                                                          0.640531   \nnb_common_words/nb_words_question2                                                                                                                                                                          0.640531   \n...                                                                                                                                                                                                              ...   \nnb_words_question1+nb_words_question2+nb_common_words+nb_common_words/nb_words_question2+nb_words_question1-common_words+nb_words_question2-common_words+nb_common_words/(nb_words_question1+nb_words...    0.707098   \nnb_words_question1+nb_words_question2+nb_common_words/nb_words_question1+nb_common_words/nb_words_question2+nb_words_question1-common_words+nb_words_question2-common_words+nb_common_words/(nb_words...    0.702758   \nnb_words_question1+nb_common_words+nb_common_words/nb_words_question1+nb_common_words/nb_words_question2+nb_words_question1-common_words+nb_words_question2-common_words+nb_common_words/(nb_words_qu...    0.706629   \nnb_words_question2+nb_common_words+nb_common_words/nb_words_question1+nb_common_words/nb_words_question2+nb_words_question1-common_words+nb_words_question2-common_words+nb_common_words/(nb_words_qu...    0.706541   \nnb_words_question1+nb_words_question2+nb_common_words+nb_common_words/nb_words_question1+nb_common_words/nb_words_question2+nb_words_question1-common_words+nb_words_question2-common_words+nb_common...    0.706607   \n\n                                                                                                                                                                                                          score_train  \\\nnb_words_question1                                                                                                                                                                                           0.642486   \nnb_words_question2                                                                                                                                                                                           0.642486   \nnb_common_words                                                                                                                                                                                              0.642486   \nnb_common_words/nb_words_question1                                                                                                                                                                           0.642486   \nnb_common_words/nb_words_question2                                                                                                                                                                           0.642486   \n...                                                                                                                                                                                                               ...   \nnb_words_question1+nb_words_question2+nb_common_words+nb_common_words/nb_words_question2+nb_words_question1-common_words+nb_words_question2-common_words+nb_common_words/(nb_words_question1+nb_words...     0.707626   \nnb_words_question1+nb_words_question2+nb_common_words/nb_words_question1+nb_common_words/nb_words_question2+nb_words_question1-common_words+nb_words_question2-common_words+nb_common_words/(nb_words...     0.704132   \nnb_words_question1+nb_common_words+nb_common_words/nb_words_question1+nb_common_words/nb_words_question2+nb_words_question1-common_words+nb_words_question2-common_words+nb_common_words/(nb_words_qu...     0.706739   \nnb_words_question2+nb_common_words+nb_common_words/nb_words_question1+nb_common_words/nb_words_question2+nb_words_question1-common_words+nb_words_question2-common_words+nb_common_words/(nb_words_qu...     0.706919   \nnb_words_question1+nb_words_question2+nb_common_words+nb_common_words/nb_words_question1+nb_common_words/nb_words_question2+nb_words_question1-common_words+nb_words_question2-common_words+nb_common...     0.706796   \n\n                                                                                                                                                                                                          score_full  \\\nnb_words_question1                                                                                                                                                                                          0.642096   \nnb_words_question2                                                                                                                                                                                          0.642096   \nnb_common_words                                                                                                                                                                                             0.642096   \nnb_common_words/nb_words_question1                                                                                                                                                                          0.642096   \nnb_common_words/nb_words_question2                                                                                                                                                                          0.642096   \n...                                                                                                                                                                                                              ...   \nnb_words_question1+nb_words_question2+nb_common_words+nb_common_words/nb_words_question2+nb_words_question1-common_words+nb_words_question2-common_words+nb_common_words/(nb_words_question1+nb_words...    0.707563   \nnb_words_question1+nb_words_question2+nb_common_words/nb_words_question1+nb_common_words/nb_words_question2+nb_words_question1-common_words+nb_words_question2-common_words+nb_common_words/(nb_words...    0.703846   \nnb_words_question1+nb_common_words+nb_common_words/nb_words_question1+nb_common_words/nb_words_question2+nb_words_question1-common_words+nb_words_question2-common_words+nb_common_words/(nb_words_qu...    0.706720   \nnb_words_question2+nb_common_words+nb_common_words/nb_words_question1+nb_common_words/nb_words_question2+nb_words_question1-common_words+nb_words_question2-common_words+nb_common_words/(nb_words_qu...    0.706776   \nnb_words_question1+nb_words_question2+nb_common_words+nb_common_words/nb_words_question1+nb_common_words/nb_words_question2+nb_words_question1-common_words+nb_words_question2-common_words+nb_common...    0.706756   \n\n                                                                                                                                                                                                               model_test  \\\nnb_words_question1                                                                                                                                                                                        MultinomialNB()   \nnb_words_question2                                                                                                                                                                                        MultinomialNB()   \nnb_common_words                                                                                                                                                                                           MultinomialNB()   \nnb_common_words/nb_words_question1                                                                                                                                                                        MultinomialNB()   \nnb_common_words/nb_words_question2                                                                                                                                                                        MultinomialNB()   \n...                                                                                                                                                                                                                   ...   \nnb_words_question1+nb_words_question2+nb_common_words+nb_common_words/nb_words_question2+nb_words_question1-common_words+nb_words_question2-common_words+nb_common_words/(nb_words_question1+nb_words...  MultinomialNB()   \nnb_words_question1+nb_words_question2+nb_common_words/nb_words_question1+nb_common_words/nb_words_question2+nb_words_question1-common_words+nb_words_question2-common_words+nb_common_words/(nb_words...  MultinomialNB()   \nnb_words_question1+nb_common_words+nb_common_words/nb_words_question1+nb_common_words/nb_words_question2+nb_words_question1-common_words+nb_words_question2-common_words+nb_common_words/(nb_words_qu...  MultinomialNB()   \nnb_words_question2+nb_common_words+nb_common_words/nb_words_question1+nb_common_words/nb_words_question2+nb_words_question1-common_words+nb_words_question2-common_words+nb_common_words/(nb_words_qu...  MultinomialNB()   \nnb_words_question1+nb_words_question2+nb_common_words+nb_common_words/nb_words_question1+nb_common_words/nb_words_question2+nb_words_question1-common_words+nb_words_question2-common_words+nb_common...  MultinomialNB()   \n\n                                                                                                                                                                                                              model_train  \\\nnb_words_question1                                                                                                                                                                                        MultinomialNB()   \nnb_words_question2                                                                                                                                                                                        MultinomialNB()   \nnb_common_words                                                                                                                                                                                           MultinomialNB()   \nnb_common_words/nb_words_question1                                                                                                                                                                        MultinomialNB()   \nnb_common_words/nb_words_question2                                                                                                                                                                        MultinomialNB()   \n...                                                                                                                                                                                                                   ...   \nnb_words_question1+nb_words_question2+nb_common_words+nb_common_words/nb_words_question2+nb_words_question1-common_words+nb_words_question2-common_words+nb_common_words/(nb_words_question1+nb_words...  MultinomialNB()   \nnb_words_question1+nb_words_question2+nb_common_words/nb_words_question1+nb_common_words/nb_words_question2+nb_words_question1-common_words+nb_words_question2-common_words+nb_common_words/(nb_words...  MultinomialNB()   \nnb_words_question1+nb_common_words+nb_common_words/nb_words_question1+nb_common_words/nb_words_question2+nb_words_question1-common_words+nb_words_question2-common_words+nb_common_words/(nb_words_qu...  MultinomialNB()   \nnb_words_question2+nb_common_words+nb_common_words/nb_words_question1+nb_common_words/nb_words_question2+nb_words_question1-common_words+nb_words_question2-common_words+nb_common_words/(nb_words_qu...  MultinomialNB()   \nnb_words_question1+nb_words_question2+nb_common_words+nb_common_words/nb_words_question1+nb_common_words/nb_words_question2+nb_words_question1-common_words+nb_words_question2-common_words+nb_common...  MultinomialNB()   \n\n                                                                                                                                                                                                               model_full  \\\nnb_words_question1                                                                                                                                                                                        MultinomialNB()   \nnb_words_question2                                                                                                                                                                                        MultinomialNB()   \nnb_common_words                                                                                                                                                                                           MultinomialNB()   \nnb_common_words/nb_words_question1                                                                                                                                                                        MultinomialNB()   \nnb_common_words/nb_words_question2                                                                                                                                                                        MultinomialNB()   \n...                                                                                                                                                                                                                   ...   \nnb_words_question1+nb_words_question2+nb_common_words+nb_common_words/nb_words_question2+nb_words_question1-common_words+nb_words_question2-common_words+nb_common_words/(nb_words_question1+nb_words...  MultinomialNB()   \nnb_words_question1+nb_words_question2+nb_common_words/nb_words_question1+nb_common_words/nb_words_question2+nb_words_question1-common_words+nb_words_question2-common_words+nb_common_words/(nb_words...  MultinomialNB()   \nnb_words_question1+nb_common_words+nb_common_words/nb_words_question1+nb_common_words/nb_words_question2+nb_words_question1-common_words+nb_words_question2-common_words+nb_common_words/(nb_words_qu...  MultinomialNB()   \nnb_words_question2+nb_common_words+nb_common_words/nb_words_question1+nb_common_words/nb_words_question2+nb_words_question1-common_words+nb_words_question2-common_words+nb_common_words/(nb_words_qu...  MultinomialNB()   \nnb_words_question1+nb_words_question2+nb_common_words+nb_common_words/nb_words_question1+nb_common_words/nb_words_question2+nb_words_question1-common_words+nb_words_question2-common_words+nb_common...  MultinomialNB()   \n\n                                                                                                                                                                                                                                                                                                                                                                                                          columns  \nnb_words_question1                                                                                                                                                                                                                                                                                                                                                                          (nb_words_question1,)  \nnb_words_question2                                                                                                                                                                                                                                                                                                                                                                          (nb_words_question2,)  \nnb_common_words                                                                                                                                                                                                                                                                                                                                                                                (nb_common_words,)  \nnb_common_words/nb_words_question1                                                                                                                                                                                                                                                                                                                                          (nb_common_words/nb_words_question1,)  \nnb_common_words/nb_words_question2                                                                                                                                                                                                                                                                                                                                          (nb_common_words/nb_words_question2,)  \n...                                                                                                                                                                                                                                                                                                                                                                                                           ...  \nnb_words_question1+nb_words_question2+nb_common_words+nb_common_words/nb_words_question2+nb_words_question1-common_words+nb_words_question2-common_words+nb_common_words/(nb_words_question1+nb_words...  (nb_words_question1, nb_words_question2, nb_common_words, nb_common_words/nb_words_question2, nb_words_question1-common_words, nb_words_question2-common_words, nb_common_words/(nb_words_question1+...  \nnb_words_question1+nb_words_question2+nb_common_words/nb_words_question1+nb_common_words/nb_words_question2+nb_words_question1-common_words+nb_words_question2-common_words+nb_common_words/(nb_words...  (nb_words_question1, nb_words_question2, nb_common_words/nb_words_question1, nb_common_words/nb_words_question2, nb_words_question1-common_words, nb_words_question2-common_words, nb_common_words/(...  \nnb_words_question1+nb_common_words+nb_common_words/nb_words_question1+nb_common_words/nb_words_question2+nb_words_question1-common_words+nb_words_question2-common_words+nb_common_words/(nb_words_qu...  (nb_words_question1, nb_common_words, nb_common_words/nb_words_question1, nb_common_words/nb_words_question2, nb_words_question1-common_words, nb_words_question2-common_words, nb_common_words/(nb_...  \nnb_words_question2+nb_common_words+nb_common_words/nb_words_question1+nb_common_words/nb_words_question2+nb_words_question1-common_words+nb_words_question2-common_words+nb_common_words/(nb_words_qu...  (nb_words_question2, nb_common_words, nb_common_words/nb_words_question1, nb_common_words/nb_words_question2, nb_words_question1-common_words, nb_words_question2-common_words, nb_common_words/(nb_...  \nnb_words_question1+nb_words_question2+nb_common_words+nb_common_words/nb_words_question1+nb_common_words/nb_words_question2+nb_words_question1-common_words+nb_words_question2-common_words+nb_common...  (nb_words_question1, nb_words_question2, nb_common_words, nb_common_words/nb_words_question1, nb_common_words/nb_words_question2, nb_words_question1-common_words, nb_words_question2-common_words, ...  \n\n[255 rows x 15 columns]",
      "text/html": "<div>\n<style scoped>\n    .dataframe tbody tr th:only-of-type {\n        vertical-align: middle;\n    }\n\n    .dataframe tbody tr th {\n        vertical-align: top;\n    }\n\n    .dataframe thead th {\n        text-align: right;\n    }\n</style>\n<table border=\"1\" class=\"dataframe\">\n  <thead>\n    <tr style=\"text-align: right;\">\n      <th></th>\n      <th>logloss_proba_test</th>\n      <th>logloss_proba_train</th>\n      <th>logloss_proba_full</th>\n      <th>nb_features</th>\n      <th>column_names</th>\n      <th>accuracy_test</th>\n      <th>accuracy_train</th>\n      <th>accuracy_full</th>\n      <th>score_test</th>\n      <th>score_train</th>\n      <th>score_full</th>\n      <th>model_test</th>\n      <th>model_train</th>\n      <th>model_full</th>\n      <th>columns</th>\n    </tr>\n  </thead>\n  <tbody>\n    <tr>\n      <th>nb_words_question1</th>\n      <td>0.659876</td>\n      <td>0.658191</td>\n      <td>0.658527</td>\n      <td>1</td>\n      <td>nb_words_question1</td>\n      <td>0.628299</td>\n      <td>0.631428</td>\n      <td>0.630802</td>\n      <td>0.640531</td>\n      <td>0.642486</td>\n      <td>0.642096</td>\n      <td>MultinomialNB()</td>\n      <td>MultinomialNB()</td>\n      <td>MultinomialNB()</td>\n      <td>(nb_words_question1,)</td>\n    </tr>\n    <tr>\n      <th>nb_words_question2</th>\n      <td>0.659876</td>\n      <td>0.658191</td>\n      <td>0.658527</td>\n      <td>1</td>\n      <td>nb_words_question2</td>\n      <td>0.628299</td>\n      <td>0.631428</td>\n      <td>0.630802</td>\n      <td>0.640531</td>\n      <td>0.642486</td>\n      <td>0.642096</td>\n      <td>MultinomialNB()</td>\n      <td>MultinomialNB()</td>\n      <td>MultinomialNB()</td>\n      <td>(nb_words_question2,)</td>\n    </tr>\n    <tr>\n      <th>nb_common_words</th>\n      <td>0.659876</td>\n      <td>0.658191</td>\n      <td>0.658527</td>\n      <td>1</td>\n      <td>nb_common_words</td>\n      <td>0.628299</td>\n      <td>0.631428</td>\n      <td>0.630802</td>\n      <td>0.640531</td>\n      <td>0.642486</td>\n      <td>0.642096</td>\n      <td>MultinomialNB()</td>\n      <td>MultinomialNB()</td>\n      <td>MultinomialNB()</td>\n      <td>(nb_common_words,)</td>\n    </tr>\n    <tr>\n      <th>nb_common_words/nb_words_question1</th>\n      <td>0.659876</td>\n      <td>0.658191</td>\n      <td>0.658527</td>\n      <td>1</td>\n      <td>nb_common_words/nb_words_question1</td>\n      <td>0.628299</td>\n      <td>0.631428</td>\n      <td>0.630802</td>\n      <td>0.640531</td>\n      <td>0.642486</td>\n      <td>0.642096</td>\n      <td>MultinomialNB()</td>\n      <td>MultinomialNB()</td>\n      <td>MultinomialNB()</td>\n      <td>(nb_common_words/nb_words_question1,)</td>\n    </tr>\n    <tr>\n      <th>nb_common_words/nb_words_question2</th>\n      <td>0.659876</td>\n      <td>0.658191</td>\n      <td>0.658527</td>\n      <td>1</td>\n      <td>nb_common_words/nb_words_question2</td>\n      <td>0.628299</td>\n      <td>0.631428</td>\n      <td>0.630802</td>\n      <td>0.640531</td>\n      <td>0.642486</td>\n      <td>0.642096</td>\n      <td>MultinomialNB()</td>\n      <td>MultinomialNB()</td>\n      <td>MultinomialNB()</td>\n      <td>(nb_common_words/nb_words_question2,)</td>\n    </tr>\n    <tr>\n      <th>...</th>\n      <td>...</td>\n      <td>...</td>\n      <td>...</td>\n      <td>...</td>\n      <td>...</td>\n      <td>...</td>\n      <td>...</td>\n      <td>...</td>\n      <td>...</td>\n      <td>...</td>\n      <td>...</td>\n      <td>...</td>\n      <td>...</td>\n      <td>...</td>\n      <td>...</td>\n    </tr>\n    <tr>\n      <th>nb_words_question1+nb_words_question2+nb_common_words+nb_common_words/nb_words_question2+nb_words_question1-common_words+nb_words_question2-common_words+nb_common_words/(nb_words_question1+nb_words_question2)</th>\n      <td>0.938410</td>\n      <td>0.936172</td>\n      <td>0.936413</td>\n      <td>7</td>\n      <td>nb_words_question1+nb_words_question2+nb_common_words+nb_common_words/nb_words_question2+nb_words_question1-common_words+nb_words_question2-common_words+nb_common_words/(nb_words_question1+nb_word...</td>\n      <td>0.673440</td>\n      <td>0.673672</td>\n      <td>0.673536</td>\n      <td>0.707098</td>\n      <td>0.707626</td>\n      <td>0.707563</td>\n      <td>MultinomialNB()</td>\n      <td>MultinomialNB()</td>\n      <td>MultinomialNB()</td>\n      <td>(nb_words_question1, nb_words_question2, nb_common_words, nb_common_words/nb_words_question2, nb_words_question1-common_words, nb_words_question2-common_words, nb_common_words/(nb_words_question1+...</td>\n    </tr>\n    <tr>\n      <th>nb_words_question1+nb_words_question2+nb_common_words/nb_words_question1+nb_common_words/nb_words_question2+nb_words_question1-common_words+nb_words_question2-common_words+nb_common_words/(nb_words_question1+nb_words_question2)</th>\n      <td>0.670387</td>\n      <td>0.668288</td>\n      <td>0.668555</td>\n      <td>7</td>\n      <td>nb_words_question1+nb_words_question2+nb_common_words/nb_words_question1+nb_common_words/nb_words_question2+nb_words_question1-common_words+nb_words_question2-common_words+nb_common_words/(nb_word...</td>\n      <td>0.665055</td>\n      <td>0.666440</td>\n      <td>0.666163</td>\n      <td>0.702758</td>\n      <td>0.704132</td>\n      <td>0.703846</td>\n      <td>MultinomialNB()</td>\n      <td>MultinomialNB()</td>\n      <td>MultinomialNB()</td>\n      <td>(nb_words_question1, nb_words_question2, nb_common_words/nb_words_question1, nb_common_words/nb_words_question2, nb_words_question1-common_words, nb_words_question2-common_words, nb_common_words/(...</td>\n    </tr>\n    <tr>\n      <th>nb_words_question1+nb_common_words+nb_common_words/nb_words_question1+nb_common_words/nb_words_question2+nb_words_question1-common_words+nb_words_question2-common_words+nb_common_words/(nb_words_question1+nb_words_question2)</th>\n      <td>0.969826</td>\n      <td>0.967669</td>\n      <td>0.967807</td>\n      <td>7</td>\n      <td>nb_words_question1+nb_common_words+nb_common_words/nb_words_question1+nb_common_words/nb_words_question2+nb_words_question1-common_words+nb_words_question2-common_words+nb_common_words/(nb_words_q...</td>\n      <td>0.673378</td>\n      <td>0.673143</td>\n      <td>0.673190</td>\n      <td>0.706629</td>\n      <td>0.706739</td>\n      <td>0.706720</td>\n      <td>MultinomialNB()</td>\n      <td>MultinomialNB()</td>\n      <td>MultinomialNB()</td>\n      <td>(nb_words_question1, nb_common_words, nb_common_words/nb_words_question1, nb_common_words/nb_words_question2, nb_words_question1-common_words, nb_words_question2-common_words, nb_common_words/(nb_...</td>\n    </tr>\n    <tr>\n      <th>nb_words_question2+nb_common_words+nb_common_words/nb_words_question1+nb_common_words/nb_words_question2+nb_words_question1-common_words+nb_words_question2-common_words+nb_common_words/(nb_words_question1+nb_words_question2)</th>\n      <td>0.962883</td>\n      <td>0.961165</td>\n      <td>0.961521</td>\n      <td>7</td>\n      <td>nb_words_question2+nb_common_words+nb_common_words/nb_words_question1+nb_common_words/nb_words_question2+nb_words_question1-common_words+nb_words_question2-common_words+nb_common_words/(nb_words_q...</td>\n      <td>0.672599</td>\n      <td>0.672685</td>\n      <td>0.672589</td>\n      <td>0.706541</td>\n      <td>0.706919</td>\n      <td>0.706776</td>\n      <td>MultinomialNB()</td>\n      <td>MultinomialNB()</td>\n      <td>MultinomialNB()</td>\n      <td>(nb_words_question2, nb_common_words, nb_common_words/nb_words_question1, nb_common_words/nb_words_question2, nb_words_question1-common_words, nb_words_question2-common_words, nb_common_words/(nb_...</td>\n    </tr>\n    <tr>\n      <th>nb_words_question1+nb_words_question2+nb_common_words+nb_common_words/nb_words_question1+nb_common_words/nb_words_question2+nb_words_question1-common_words+nb_words_question2-common_words+nb_common_words/(nb_words_question1+nb_words_question2)</th>\n      <td>0.971395</td>\n      <td>0.969321</td>\n      <td>0.969550</td>\n      <td>8</td>\n      <td>nb_words_question1+nb_words_question2+nb_common_words+nb_common_words/nb_words_question1+nb_common_words/nb_words_question2+nb_words_question1-common_words+nb_words_question2-common_words+nb_commo...</td>\n      <td>0.673353</td>\n      <td>0.673199</td>\n      <td>0.673220</td>\n      <td>0.706607</td>\n      <td>0.706796</td>\n      <td>0.706756</td>\n      <td>MultinomialNB()</td>\n      <td>MultinomialNB()</td>\n      <td>MultinomialNB()</td>\n      <td>(nb_words_question1, nb_words_question2, nb_common_words, nb_common_words/nb_words_question1, nb_common_words/nb_words_question2, nb_words_question1-common_words, nb_words_question2-common_words, ...</td>\n    </tr>\n  </tbody>\n</table>\n<p>255 rows × 15 columns</p>\n</div>"
     },
     "metadata": {},
     "execution_count": 23
    }
   ],
   "source": [
    "model_results "
   ]
  },
  {
   "cell_type": "markdown",
   "metadata": {},
   "source": [
    "## Show metrics on all models generated"
   ]
  },
  {
   "cell_type": "code",
   "execution_count": 109,
   "metadata": {},
   "outputs": [],
   "source": [
    "def graph_all_metric_all_models(results,y_label,metric_sort,metrics):\n",
    "    palette = sns.color_palette()\n",
    "    data = results.sort_values(metric_sort+'_test',ascending=(metric_sort!='logloss_proba'))\n",
    "    #ax = plot\n",
    "    # fig,ax = plot.subplots()\n",
    "    x = numpy.arange(len(data))\n",
    "    num_col=1\n",
    "    if len(metrics)>1:\n",
    "        kinds =['_test']\n",
    "    else:\n",
    "        kinds = ['_test','_train','_full']\n",
    "    for k in kinds:\n",
    "        for m in metrics:\n",
    "                plot.plot(x,data[m+k],color = palette[num_col],label = m+k)\n",
    "                num_col = num_col+1\n",
    "    plot.ylabel(y_label)\n",
    "    #plot.plot(x,data['nb_features'],color=palette[num_col])\n",
    "    #plot.plot(x,nb_features,color = palette[num_col],label='Nb features')\n",
    "    plot.title(EXPERIMENT+':'+ y_label,fontsize=8)\n",
    "    #plot.xticks(x)\n",
    "    #ax.set_xticklabels(labels)\n",
    "    plot.legend()\n",
    "\n",
    "\n",
    "def graph_all_metrics_all_models(results):\n",
    "    for m in ['accuracy','score','logloss_proba']:\n",
    "        yield\n",
    "        graph_all_metric_all_models(model_results,m,m,[m])\n",
    "    yield\n",
    "    graph_all_metric_all_models(model_results,'all metrics','logloss_proba',['accuracy','score','logloss_proba'])\n",
    "\n",
    "\n",
    "def graph_all_metrics_all_models_in_grid(results,nb_columns=2):\n",
    "    multiplot_from_generator(graph_all_metrics_all_models(results), nb_columns)\n",
    "\n",
    "def find_all_best_metrics0(results):\n",
    "    metrics_columns = all_float_columns(results)\n",
    "    res = dict()\n",
    "    for m in all_float_columns(results):\n",
    "        if 'proba' in m:\n",
    "            column_names = results[m].idxmin()\n",
    "        else:\n",
    "            column_names = results[m].idxmax()\n",
    "        res[m] = {'metric':m,'value':results[m][column_names],'column_names':results[m].idxmax()}\n",
    "    return pandas.DataFrame.from_dict(res, orient='index').reindex()\n",
    "\n",
    "def find_all_best_metrics(results):\n",
    "    metrics_columns = all_float_columns(results)\n",
    "    res = list()\n",
    "    for m in all_float_columns(results):\n",
    "        if 'proba' in m:\n",
    "            column_names = results[m].idxmin()\n",
    "        else:\n",
    "            column_names = results[m].idxmax()\n",
    "        res.append(column_names)\n",
    "    return results[results['column_names'].isin(res)]\n",
    "\n"
   ]
  },
  {
   "cell_type": "code",
   "execution_count": 111,
   "metadata": {
    "tags": []
   },
   "outputs": [
    {
     "output_type": "execute_result",
     "data": {
      "text/plain": "                                                                                                                                                          logloss_proba_test  logloss_proba_train  \\\nnb_common_words+nb_words_question1-common_words+nb_words_question2-common_words                                                                                     0.854847             0.852707   \nnb_words_question2+nb_common_words+nb_words_question1-common_words+nb_words_question2-common_words                                                                  0.874214             0.872275   \nnb_common_words/nb_words_question1+nb_common_words/nb_words_question2+nb_words_question1-common_words+nb_words_question2-common_words                               0.581016             0.579103   \nnb_words_question1+nb_common_words+nb_common_words/nb_words_question1+nb_words_question1-common_words+nb_words_question2-common_words                               0.915508             0.913079   \nnb_words_question1+nb_words_question2+nb_common_words+nb_common_words/nb_words_question1+nb_words_question1-common_words+nb_words_question2-common_words            0.919292             0.917012   \n\n                                                                                                                                                          logloss_proba_full  nb_features  \\\nnb_common_words+nb_words_question1-common_words+nb_words_question2-common_words                                                                                     0.853058            3   \nnb_words_question2+nb_common_words+nb_words_question1-common_words+nb_words_question2-common_words                                                                  0.872789            4   \nnb_common_words/nb_words_question1+nb_common_words/nb_words_question2+nb_words_question1-common_words+nb_words_question2-common_words                               0.579412            4   \nnb_words_question1+nb_common_words+nb_common_words/nb_words_question1+nb_words_question1-common_words+nb_words_question2-common_words                               0.913288            5   \nnb_words_question1+nb_words_question2+nb_common_words+nb_common_words/nb_words_question1+nb_words_question1-common_words+nb_words_question2-common_words            0.917346            6   \n\n                                                                                                                                                                                                                                                                                                      column_names  \\\nnb_common_words+nb_words_question1-common_words+nb_words_question2-common_words                                                                                                                                                    nb_common_words+nb_words_question1-common_words+nb_words_question2-common_words   \nnb_words_question2+nb_common_words+nb_words_question1-common_words+nb_words_question2-common_words                                                                                                              nb_words_question2+nb_common_words+nb_words_question1-common_words+nb_words_question2-common_words   \nnb_common_words/nb_words_question1+nb_common_words/nb_words_question2+nb_words_question1-common_words+nb_words_question2-common_words                                        nb_common_words/nb_words_question1+nb_common_words/nb_words_question2+nb_words_question1-common_words+nb_words_question2-common_words   \nnb_words_question1+nb_common_words+nb_common_words/nb_words_question1+nb_words_question1-common_words+nb_words_question2-common_words                                        nb_words_question1+nb_common_words+nb_common_words/nb_words_question1+nb_words_question1-common_words+nb_words_question2-common_words   \nnb_words_question1+nb_words_question2+nb_common_words+nb_common_words/nb_words_question1+nb_words_question1-common_words+nb_words_question2-common_words  nb_words_question1+nb_words_question2+nb_common_words+nb_common_words/nb_words_question1+nb_words_question1-common_words+nb_words_question2-common_words   \n\n                                                                                                                                                          accuracy_test  accuracy_train  \\\nnb_common_words+nb_words_question1-common_words+nb_words_question2-common_words                                                                                0.673353        0.673462   \nnb_words_question2+nb_common_words+nb_words_question1-common_words+nb_words_question2-common_words                                                             0.673465        0.673610   \nnb_common_words/nb_words_question1+nb_common_words/nb_words_question2+nb_words_question1-common_words+nb_words_question2-common_words                          0.650968        0.653312   \nnb_words_question1+nb_common_words+nb_common_words/nb_words_question1+nb_words_question1-common_words+nb_words_question2-common_words                          0.674046        0.674120   \nnb_words_question1+nb_words_question2+nb_common_words+nb_common_words/nb_words_question1+nb_words_question1-common_words+nb_words_question2-common_words       0.674306        0.674367   \n\n                                                                                                                                                          accuracy_full  score_test  score_train  \\\nnb_common_words+nb_words_question1-common_words+nb_words_question2-common_words                                                                                0.673437    0.708617     0.709006   \nnb_words_question2+nb_common_words+nb_words_question1-common_words+nb_words_question2-common_words                                                             0.673549    0.708554     0.709034   \nnb_common_words/nb_words_question1+nb_common_words/nb_words_question2+nb_words_question1-common_words+nb_words_question2-common_words                          0.652786    0.693784     0.695940   \nnb_words_question1+nb_common_words+nb_common_words/nb_words_question1+nb_words_question1-common_words+nb_words_question2-common_words                          0.674345    0.708037     0.708420   \nnb_words_question1+nb_words_question2+nb_common_words+nb_common_words/nb_words_question1+nb_words_question1-common_words+nb_words_question2-common_words       0.674330    0.708004     0.708377   \n\n                                                                                                                                                          score_full       model_test  \\\nnb_common_words+nb_words_question1-common_words+nb_words_question2-common_words                                                                             0.708926  MultinomialNB()   \nnb_words_question2+nb_common_words+nb_words_question1-common_words+nb_words_question2-common_words                                                          0.708915  MultinomialNB()   \nnb_common_words/nb_words_question1+nb_common_words/nb_words_question2+nb_words_question1-common_words+nb_words_question2-common_words                       0.695453  MultinomialNB()   \nnb_words_question1+nb_common_words+nb_common_words/nb_words_question1+nb_words_question1-common_words+nb_words_question2-common_words                       0.708458  MultinomialNB()   \nnb_words_question1+nb_words_question2+nb_common_words+nb_common_words/nb_words_question1+nb_words_question1-common_words+nb_words_question2-common_words    0.708281  MultinomialNB()   \n\n                                                                                                                                                              model_train       model_full  \\\nnb_common_words+nb_words_question1-common_words+nb_words_question2-common_words                                                                           MultinomialNB()  MultinomialNB()   \nnb_words_question2+nb_common_words+nb_words_question1-common_words+nb_words_question2-common_words                                                        MultinomialNB()  MultinomialNB()   \nnb_common_words/nb_words_question1+nb_common_words/nb_words_question2+nb_words_question1-common_words+nb_words_question2-common_words                     MultinomialNB()  MultinomialNB()   \nnb_words_question1+nb_common_words+nb_common_words/nb_words_question1+nb_words_question1-common_words+nb_words_question2-common_words                     MultinomialNB()  MultinomialNB()   \nnb_words_question1+nb_words_question2+nb_common_words+nb_common_words/nb_words_question1+nb_words_question1-common_words+nb_words_question2-common_words  MultinomialNB()  MultinomialNB()   \n\n                                                                                                                                                                                                                                                                                                                  columns  \nnb_common_words+nb_words_question1-common_words+nb_words_question2-common_words                                                                                                                                                       (nb_common_words, nb_words_question1-common_words, nb_words_question2-common_words)  \nnb_words_question2+nb_common_words+nb_words_question1-common_words+nb_words_question2-common_words                                                                                                                (nb_words_question2, nb_common_words, nb_words_question1-common_words, nb_words_question2-common_words)  \nnb_common_words/nb_words_question1+nb_common_words/nb_words_question2+nb_words_question1-common_words+nb_words_question2-common_words                                          (nb_common_words/nb_words_question1, nb_common_words/nb_words_question2, nb_words_question1-common_words, nb_words_question2-common_words)  \nnb_words_question1+nb_common_words+nb_common_words/nb_words_question1+nb_words_question1-common_words+nb_words_question2-common_words                                         (nb_words_question1, nb_common_words, nb_common_words/nb_words_question1, nb_words_question1-common_words, nb_words_question2-common_words)  \nnb_words_question1+nb_words_question2+nb_common_words+nb_common_words/nb_words_question1+nb_words_question1-common_words+nb_words_question2-common_words  (nb_words_question1, nb_words_question2, nb_common_words, nb_common_words/nb_words_question1, nb_words_question1-common_words, nb_words_question2-common_words)  ",
      "text/html": "<div>\n<style scoped>\n    .dataframe tbody tr th:only-of-type {\n        vertical-align: middle;\n    }\n\n    .dataframe tbody tr th {\n        vertical-align: top;\n    }\n\n    .dataframe thead th {\n        text-align: right;\n    }\n</style>\n<table border=\"1\" class=\"dataframe\">\n  <thead>\n    <tr style=\"text-align: right;\">\n      <th></th>\n      <th>logloss_proba_test</th>\n      <th>logloss_proba_train</th>\n      <th>logloss_proba_full</th>\n      <th>nb_features</th>\n      <th>column_names</th>\n      <th>accuracy_test</th>\n      <th>accuracy_train</th>\n      <th>accuracy_full</th>\n      <th>score_test</th>\n      <th>score_train</th>\n      <th>score_full</th>\n      <th>model_test</th>\n      <th>model_train</th>\n      <th>model_full</th>\n      <th>columns</th>\n    </tr>\n  </thead>\n  <tbody>\n    <tr>\n      <th>nb_common_words+nb_words_question1-common_words+nb_words_question2-common_words</th>\n      <td>0.854847</td>\n      <td>0.852707</td>\n      <td>0.853058</td>\n      <td>3</td>\n      <td>nb_common_words+nb_words_question1-common_words+nb_words_question2-common_words</td>\n      <td>0.673353</td>\n      <td>0.673462</td>\n      <td>0.673437</td>\n      <td>0.708617</td>\n      <td>0.709006</td>\n      <td>0.708926</td>\n      <td>MultinomialNB()</td>\n      <td>MultinomialNB()</td>\n      <td>MultinomialNB()</td>\n      <td>(nb_common_words, nb_words_question1-common_words, nb_words_question2-common_words)</td>\n    </tr>\n    <tr>\n      <th>nb_words_question2+nb_common_words+nb_words_question1-common_words+nb_words_question2-common_words</th>\n      <td>0.874214</td>\n      <td>0.872275</td>\n      <td>0.872789</td>\n      <td>4</td>\n      <td>nb_words_question2+nb_common_words+nb_words_question1-common_words+nb_words_question2-common_words</td>\n      <td>0.673465</td>\n      <td>0.673610</td>\n      <td>0.673549</td>\n      <td>0.708554</td>\n      <td>0.709034</td>\n      <td>0.708915</td>\n      <td>MultinomialNB()</td>\n      <td>MultinomialNB()</td>\n      <td>MultinomialNB()</td>\n      <td>(nb_words_question2, nb_common_words, nb_words_question1-common_words, nb_words_question2-common_words)</td>\n    </tr>\n    <tr>\n      <th>nb_common_words/nb_words_question1+nb_common_words/nb_words_question2+nb_words_question1-common_words+nb_words_question2-common_words</th>\n      <td>0.581016</td>\n      <td>0.579103</td>\n      <td>0.579412</td>\n      <td>4</td>\n      <td>nb_common_words/nb_words_question1+nb_common_words/nb_words_question2+nb_words_question1-common_words+nb_words_question2-common_words</td>\n      <td>0.650968</td>\n      <td>0.653312</td>\n      <td>0.652786</td>\n      <td>0.693784</td>\n      <td>0.695940</td>\n      <td>0.695453</td>\n      <td>MultinomialNB()</td>\n      <td>MultinomialNB()</td>\n      <td>MultinomialNB()</td>\n      <td>(nb_common_words/nb_words_question1, nb_common_words/nb_words_question2, nb_words_question1-common_words, nb_words_question2-common_words)</td>\n    </tr>\n    <tr>\n      <th>nb_words_question1+nb_common_words+nb_common_words/nb_words_question1+nb_words_question1-common_words+nb_words_question2-common_words</th>\n      <td>0.915508</td>\n      <td>0.913079</td>\n      <td>0.913288</td>\n      <td>5</td>\n      <td>nb_words_question1+nb_common_words+nb_common_words/nb_words_question1+nb_words_question1-common_words+nb_words_question2-common_words</td>\n      <td>0.674046</td>\n      <td>0.674120</td>\n      <td>0.674345</td>\n      <td>0.708037</td>\n      <td>0.708420</td>\n      <td>0.708458</td>\n      <td>MultinomialNB()</td>\n      <td>MultinomialNB()</td>\n      <td>MultinomialNB()</td>\n      <td>(nb_words_question1, nb_common_words, nb_common_words/nb_words_question1, nb_words_question1-common_words, nb_words_question2-common_words)</td>\n    </tr>\n    <tr>\n      <th>nb_words_question1+nb_words_question2+nb_common_words+nb_common_words/nb_words_question1+nb_words_question1-common_words+nb_words_question2-common_words</th>\n      <td>0.919292</td>\n      <td>0.917012</td>\n      <td>0.917346</td>\n      <td>6</td>\n      <td>nb_words_question1+nb_words_question2+nb_common_words+nb_common_words/nb_words_question1+nb_words_question1-common_words+nb_words_question2-common_words</td>\n      <td>0.674306</td>\n      <td>0.674367</td>\n      <td>0.674330</td>\n      <td>0.708004</td>\n      <td>0.708377</td>\n      <td>0.708281</td>\n      <td>MultinomialNB()</td>\n      <td>MultinomialNB()</td>\n      <td>MultinomialNB()</td>\n      <td>(nb_words_question1, nb_words_question2, nb_common_words, nb_common_words/nb_words_question1, nb_words_question1-common_words, nb_words_question2-common_words)</td>\n    </tr>\n  </tbody>\n</table>\n</div>"
     },
     "metadata": {},
     "execution_count": 111
    }
   ],
   "source": [
    "\n",
    "find_all_best_metrics(model_results)\n",
    "#graph_all_metrics_all_models_in_grid(model_results)"
   ]
  },
  {
   "cell_type": "markdown",
   "metadata": {},
   "source": [
    "Some code for an easy apply (display kaggle command for subscription)"
   ]
  },
  {
   "cell_type": "code",
   "execution_count": 40,
   "metadata": {
    "tags": []
   },
   "outputs": [],
   "source": [
    "# Suppose global variable all_models_dict is available !\n",
    "\n",
    "# kind is 'test or 'full'\n",
    "def retrieve_model(model_key,kind):\n",
    "    model = model_results['model_'+kind][model_key]\n",
    "    column_names = model_results['columns'][model_key]\n",
    "    return model,numpy.asarray(column_names)\n",
    "    \n",
    "# return a dataframe fully ready to be converted in csv and published into kaggle\n",
    "def simple_apply(model_key,input_dataframe,kind,proba=True):\n",
    "    model,column_names=retrieve_model(model_key,kind)\n",
    "    input_for_prediction=input_dataframe[column_names]\n",
    "    res = pandas.DataFrame()\n",
    "    if 'test_id' in input_dataframe.columns:\n",
    "        res['test_id']=input_dataframe['test_id']\n",
    "    if proba:\n",
    "        res['is_duplicate']=pandas.Series(model.predict_proba(input_for_prediction)[:,1],name='is_duplicate')\n",
    "    else:\n",
    "        res['is_duplicate']=pandas.Series(model.predict(input_for_prediction),name='is_duplicate')\n",
    "    return res\n",
    "\n",
    "\n",
    "def show_docker_cp_command(absolute_file_name):\n",
    "    return 'docker cp '+ DOCKER_IMAGE_NAME+':'+zip_file_name(absolute_file_name)+ ' c:\\\\temp\\\\outputs'\n",
    "\n",
    "def show_kaggle_command(absolute_file_name):\n",
    "    return 'kaggle competitions submit quora-question-pairs -f \"' + zip_file_name(absolute_file_name) +'\" -m \"' + absolute_file_name +'\"'\n",
    "\n",
    "def show_docker_cp_commands(best_results):\n",
    "    print_section('Use these commands to transfer apply results to windows host')\n",
    "    for c in best_results['file_name'].apply(show_docker_cp_command):\n",
    "        print_warning(c)\n",
    "    print_done(\"\")\n",
    "\n",
    "def show_kaggle_commands(best_results):\n",
    "    print_section('Use these commands to submit apply results to kaggle')\n",
    "    for c in best_results['file_name'].apply(show_kaggle_command):\n",
    "        print_warning(c)\n",
    "    print_done(\"\")\n",
    "   \n",
    "\n",
    "def submit_model(criteria,kind,input_dataframe,model_key,proba=True,show_how_to_publish=True,kaggle=False):\n",
    "    absolute_file_name_csv = apply_absolute_file_name(criteria,kind,model_key)\n",
    "    print_info('Doing apply')\n",
    "    prediction = simple_apply(model_key,input_dataframe,kind,proba)\n",
    "    print_info('Generating CSV file')\n",
    "    prediction.to_csv(absolute_file_name_csv,index=False)\n",
    "    print_info('Zipping file')\n",
    "    absolute_file_name_zip = zip_file_and_delete(absolute_file_name_csv)\n",
    "    print_info('%s is ready' % absolute_file_name_csv)\n",
    "    if show_how_to_publish:\n",
    "        if kaggle:\n",
    "            print_warning('Use this commands to submit apply results to kaggle')\n",
    "            print_warning(show_kaggle_command(absolute_file_name_zip))\n",
    "        else:\n",
    "            print_warning('Use this command to transfer apply _results to Windows host')\n",
    "            print_warning(show_docker_cp_command(absolute_file_name_csv))\n",
    "\n",
    "# suppose global variable model_results is available\n",
    "def find_best_models(top,criteria,kind):\n",
    "    if 'logloss' in criteria:\n",
    "        return model_results.nsmallest(top,criteria+'_'+kind)\n",
    "    else:\n",
    "        return model_results.nlargest(top,criteria+'_'+kind)\n",
    "\n",
    "def submit_best_models(top,criteria,kind,input_dataframe,proba=True,kaggle=False):\n",
    "    print_section('Submit best %d %s models by %s' % (top,kind,criteria))\n",
    "    best_models = find_best_models(top,criteria,kind)\n",
    "    best_models['model_key']=numpy.asarray(best_models.index)\n",
    "    #best_models['file_name']=numpy.array([apply_file_name(criteria,kind,n) for n in best_models.index])\n",
    "    best_models['file_name']=best_models['model_key'].apply(lambda mk: apply_absolute_file_name(criteria,kind,mk))\n",
    "    best_models['model_key'].apply(lambda mk: submit_model(criteria,kind,input_dataframe,mk,proba=proba,show_how_to_publish=False,kaggle=kaggle))\n",
    "    best_models['docker']=best_models['file_name'].apply(show_docker_cp_command)\n",
    "    best_models['kaggle']=best_models['file_name'].apply(show_kaggle_command)\n",
    "    print_done('Done')\n",
    "    if kaggle:\n",
    "        show_kaggle_commands(best_models)\n",
    "    else:\n",
    "        show_docker_cp_commands(best_models)\n",
    "    return best_models"
   ]
  },
  {
   "cell_type": "markdown",
   "metadata": {},
   "source": [
    "## Some basic testing of code"
   ]
  },
  {
   "cell_type": "code",
   "execution_count": 95,
   "metadata": {},
   "outputs": [
    {
     "output_type": "execute_result",
     "data": {
      "text/plain": "                                                                                                                                                            logloss_proba_test  logloss_proba_train  \\\nnb_common_words/nb_words_question1+nb_common_words/nb_words_question2+nb_words_question1-common_words+nb_words_question2-common_words                                 0.581016             0.579103   \nnb_common_words/nb_words_question1+nb_words_question1-common_words+nb_words_question2-common_words+nb_common_words/(nb_words_question1+nb_words_question2)            0.582293             0.580427   \nnb_common_words/nb_words_question2+nb_words_question1-common_words+nb_words_question2-common_words+nb_common_words/(nb_words_question1+nb_words_question2)            0.584173             0.582167   \nnb_common_words/nb_words_question1+nb_words_question2-common_words+nb_common_words/(nb_words_question1+nb_words_question2)                                            0.586088             0.583858   \n\n                                                                                                                                                            logloss_proba_full  nb_features  \\\nnb_common_words/nb_words_question1+nb_common_words/nb_words_question2+nb_words_question1-common_words+nb_words_question2-common_words                                 0.579412            4   \nnb_common_words/nb_words_question1+nb_words_question1-common_words+nb_words_question2-common_words+nb_common_words/(nb_words_question1+nb_words_question2)            0.580778            4   \nnb_common_words/nb_words_question2+nb_words_question1-common_words+nb_words_question2-common_words+nb_common_words/(nb_words_question1+nb_words_question2)            0.582438            4   \nnb_common_words/nb_words_question1+nb_words_question2-common_words+nb_common_words/(nb_words_question1+nb_words_question2)                                            0.584323            3   \n\n                                                                                                                                                                                                                                                                                                          column_names  \\\nnb_common_words/nb_words_question1+nb_common_words/nb_words_question2+nb_words_question1-common_words+nb_words_question2-common_words                                            nb_common_words/nb_words_question1+nb_common_words/nb_words_question2+nb_words_question1-common_words+nb_words_question2-common_words   \nnb_common_words/nb_words_question1+nb_words_question1-common_words+nb_words_question2-common_words+nb_common_words/(nb_words_question1+nb_words_question2)  nb_common_words/nb_words_question1+nb_words_question1-common_words+nb_words_question2-common_words+nb_common_words/(nb_words_question1+nb_words_question2)   \nnb_common_words/nb_words_question2+nb_words_question1-common_words+nb_words_question2-common_words+nb_common_words/(nb_words_question1+nb_words_question2)  nb_common_words/nb_words_question2+nb_words_question1-common_words+nb_words_question2-common_words+nb_common_words/(nb_words_question1+nb_words_question2)   \nnb_common_words/nb_words_question1+nb_words_question2-common_words+nb_common_words/(nb_words_question1+nb_words_question2)                                                                  nb_common_words/nb_words_question1+nb_words_question2-common_words+nb_common_words/(nb_words_question1+nb_words_question2)   \n\n                                                                                                                                                            accuracy_test  accuracy_train  \\\nnb_common_words/nb_words_question1+nb_common_words/nb_words_question2+nb_words_question1-common_words+nb_words_question2-common_words                            0.650968        0.653312   \nnb_common_words/nb_words_question1+nb_words_question1-common_words+nb_words_question2-common_words+nb_common_words/(nb_words_question1+nb_words_question2)       0.644339        0.645400   \nnb_common_words/nb_words_question2+nb_words_question1-common_words+nb_words_question2-common_words+nb_common_words/(nb_words_question1+nb_words_question2)       0.643251        0.645227   \nnb_common_words/nb_words_question1+nb_words_question2-common_words+nb_common_words/(nb_words_question1+nb_words_question2)                                       0.643375        0.644083   \n\n                                                                                                                                                            accuracy_full  score_test  score_train  \\\nnb_common_words/nb_words_question1+nb_common_words/nb_words_question2+nb_words_question1-common_words+nb_words_question2-common_words                            0.652786    0.693784     0.695940   \nnb_common_words/nb_words_question1+nb_words_question1-common_words+nb_words_question2-common_words+nb_common_words/(nb_words_question1+nb_words_question2)       0.645203    0.688499     0.689390   \nnb_common_words/nb_words_question2+nb_words_question1-common_words+nb_words_question2-common_words+nb_common_words/(nb_words_question1+nb_words_question2)       0.644822    0.687594     0.689310   \nnb_common_words/nb_words_question1+nb_words_question2-common_words+nb_common_words/(nb_words_question1+nb_words_question2)                                       0.644045    0.687585     0.688163   \n\n                                                                                                                                                            score_full       model_test  \\\nnb_common_words/nb_words_question1+nb_common_words/nb_words_question2+nb_words_question1-common_words+nb_words_question2-common_words                         0.695453  MultinomialNB()   \nnb_common_words/nb_words_question1+nb_words_question1-common_words+nb_words_question2-common_words+nb_common_words/(nb_words_question1+nb_words_question2)    0.689231  MultinomialNB()   \nnb_common_words/nb_words_question2+nb_words_question1-common_words+nb_words_question2-common_words+nb_common_words/(nb_words_question1+nb_words_question2)    0.688958  MultinomialNB()   \nnb_common_words/nb_words_question1+nb_words_question2-common_words+nb_common_words/(nb_words_question1+nb_words_question2)                                    0.688145  MultinomialNB()   \n\n                                                                                                                                                                model_train       model_full  \\\nnb_common_words/nb_words_question1+nb_common_words/nb_words_question2+nb_words_question1-common_words+nb_words_question2-common_words                       MultinomialNB()  MultinomialNB()   \nnb_common_words/nb_words_question1+nb_words_question1-common_words+nb_words_question2-common_words+nb_common_words/(nb_words_question1+nb_words_question2)  MultinomialNB()  MultinomialNB()   \nnb_common_words/nb_words_question2+nb_words_question1-common_words+nb_words_question2-common_words+nb_common_words/(nb_words_question1+nb_words_question2)  MultinomialNB()  MultinomialNB()   \nnb_common_words/nb_words_question1+nb_words_question2-common_words+nb_common_words/(nb_words_question1+nb_words_question2)                                  MultinomialNB()  MultinomialNB()   \n\n                                                                                                                                                                                                                                                                                                                    columns  \nnb_common_words/nb_words_question1+nb_common_words/nb_words_question2+nb_words_question1-common_words+nb_words_question2-common_words                                            (nb_common_words/nb_words_question1, nb_common_words/nb_words_question2, nb_words_question1-common_words, nb_words_question2-common_words)  \nnb_common_words/nb_words_question1+nb_words_question1-common_words+nb_words_question2-common_words+nb_common_words/(nb_words_question1+nb_words_question2)  (nb_common_words/nb_words_question1, nb_words_question1-common_words, nb_words_question2-common_words, nb_common_words/(nb_words_question1+nb_words_question2))  \nnb_common_words/nb_words_question2+nb_words_question1-common_words+nb_words_question2-common_words+nb_common_words/(nb_words_question1+nb_words_question2)  (nb_common_words/nb_words_question2, nb_words_question1-common_words, nb_words_question2-common_words, nb_common_words/(nb_words_question1+nb_words_question2))  \nnb_common_words/nb_words_question1+nb_words_question2-common_words+nb_common_words/(nb_words_question1+nb_words_question2)                                                                   (nb_common_words/nb_words_question1, nb_words_question2-common_words, nb_common_words/(nb_words_question1+nb_words_question2))  ",
      "text/html": "<div>\n<style scoped>\n    .dataframe tbody tr th:only-of-type {\n        vertical-align: middle;\n    }\n\n    .dataframe tbody tr th {\n        vertical-align: top;\n    }\n\n    .dataframe thead th {\n        text-align: right;\n    }\n</style>\n<table border=\"1\" class=\"dataframe\">\n  <thead>\n    <tr style=\"text-align: right;\">\n      <th></th>\n      <th>logloss_proba_test</th>\n      <th>logloss_proba_train</th>\n      <th>logloss_proba_full</th>\n      <th>nb_features</th>\n      <th>column_names</th>\n      <th>accuracy_test</th>\n      <th>accuracy_train</th>\n      <th>accuracy_full</th>\n      <th>score_test</th>\n      <th>score_train</th>\n      <th>score_full</th>\n      <th>model_test</th>\n      <th>model_train</th>\n      <th>model_full</th>\n      <th>columns</th>\n    </tr>\n  </thead>\n  <tbody>\n    <tr>\n      <th>nb_common_words/nb_words_question1+nb_common_words/nb_words_question2+nb_words_question1-common_words+nb_words_question2-common_words</th>\n      <td>0.581016</td>\n      <td>0.579103</td>\n      <td>0.579412</td>\n      <td>4</td>\n      <td>nb_common_words/nb_words_question1+nb_common_words/nb_words_question2+nb_words_question1-common_words+nb_words_question2-common_words</td>\n      <td>0.650968</td>\n      <td>0.653312</td>\n      <td>0.652786</td>\n      <td>0.693784</td>\n      <td>0.695940</td>\n      <td>0.695453</td>\n      <td>MultinomialNB()</td>\n      <td>MultinomialNB()</td>\n      <td>MultinomialNB()</td>\n      <td>(nb_common_words/nb_words_question1, nb_common_words/nb_words_question2, nb_words_question1-common_words, nb_words_question2-common_words)</td>\n    </tr>\n    <tr>\n      <th>nb_common_words/nb_words_question1+nb_words_question1-common_words+nb_words_question2-common_words+nb_common_words/(nb_words_question1+nb_words_question2)</th>\n      <td>0.582293</td>\n      <td>0.580427</td>\n      <td>0.580778</td>\n      <td>4</td>\n      <td>nb_common_words/nb_words_question1+nb_words_question1-common_words+nb_words_question2-common_words+nb_common_words/(nb_words_question1+nb_words_question2)</td>\n      <td>0.644339</td>\n      <td>0.645400</td>\n      <td>0.645203</td>\n      <td>0.688499</td>\n      <td>0.689390</td>\n      <td>0.689231</td>\n      <td>MultinomialNB()</td>\n      <td>MultinomialNB()</td>\n      <td>MultinomialNB()</td>\n      <td>(nb_common_words/nb_words_question1, nb_words_question1-common_words, nb_words_question2-common_words, nb_common_words/(nb_words_question1+nb_words_question2))</td>\n    </tr>\n    <tr>\n      <th>nb_common_words/nb_words_question2+nb_words_question1-common_words+nb_words_question2-common_words+nb_common_words/(nb_words_question1+nb_words_question2)</th>\n      <td>0.584173</td>\n      <td>0.582167</td>\n      <td>0.582438</td>\n      <td>4</td>\n      <td>nb_common_words/nb_words_question2+nb_words_question1-common_words+nb_words_question2-common_words+nb_common_words/(nb_words_question1+nb_words_question2)</td>\n      <td>0.643251</td>\n      <td>0.645227</td>\n      <td>0.644822</td>\n      <td>0.687594</td>\n      <td>0.689310</td>\n      <td>0.688958</td>\n      <td>MultinomialNB()</td>\n      <td>MultinomialNB()</td>\n      <td>MultinomialNB()</td>\n      <td>(nb_common_words/nb_words_question2, nb_words_question1-common_words, nb_words_question2-common_words, nb_common_words/(nb_words_question1+nb_words_question2))</td>\n    </tr>\n    <tr>\n      <th>nb_common_words/nb_words_question1+nb_words_question2-common_words+nb_common_words/(nb_words_question1+nb_words_question2)</th>\n      <td>0.586088</td>\n      <td>0.583858</td>\n      <td>0.584323</td>\n      <td>3</td>\n      <td>nb_common_words/nb_words_question1+nb_words_question2-common_words+nb_common_words/(nb_words_question1+nb_words_question2)</td>\n      <td>0.643375</td>\n      <td>0.644083</td>\n      <td>0.644045</td>\n      <td>0.687585</td>\n      <td>0.688163</td>\n      <td>0.688145</td>\n      <td>MultinomialNB()</td>\n      <td>MultinomialNB()</td>\n      <td>MultinomialNB()</td>\n      <td>(nb_common_words/nb_words_question1, nb_words_question2-common_words, nb_common_words/(nb_words_question1+nb_words_question2))</td>\n    </tr>\n  </tbody>\n</table>\n</div>"
     },
     "metadata": {},
     "execution_count": 95
    }
   ],
   "source": [
    "retrieve_model('nb_common_words+nb_common_words/(nb_words_question1+nb_words_question2)','test')\n",
    "simple_apply('nb_common_words+nb_common_words/(nb_words_question1+nb_words_question2)',challenge_dataframe,'full')\n",
    "find_best_models(4,'logloss_proba','full')"
   ]
  },
  {
   "cell_type": "markdown",
   "metadata": {},
   "source": [
    "# What are the best 4 full models ?"
   ]
  },
  {
   "cell_type": "code",
   "execution_count": 105,
   "metadata": {},
   "outputs": [
    {
     "output_type": "execute_result",
     "data": {
      "text/plain": "                                                                                                                                                            logloss_proba_test  logloss_proba_train  \\\nnb_common_words/nb_words_question1+nb_common_words/nb_words_question2+nb_words_question1-common_words+nb_words_question2-common_words                                 0.581016             0.579103   \nnb_common_words/nb_words_question1+nb_words_question1-common_words+nb_words_question2-common_words+nb_common_words/(nb_words_question1+nb_words_question2)            0.582293             0.580427   \nnb_common_words/nb_words_question2+nb_words_question1-common_words+nb_words_question2-common_words+nb_common_words/(nb_words_question1+nb_words_question2)            0.584173             0.582167   \nnb_common_words/nb_words_question1+nb_words_question2-common_words+nb_common_words/(nb_words_question1+nb_words_question2)                                            0.586088             0.583858   \n\n                                                                                                                                                            logloss_proba_full  nb_features  \\\nnb_common_words/nb_words_question1+nb_common_words/nb_words_question2+nb_words_question1-common_words+nb_words_question2-common_words                                 0.579412            4   \nnb_common_words/nb_words_question1+nb_words_question1-common_words+nb_words_question2-common_words+nb_common_words/(nb_words_question1+nb_words_question2)            0.580778            4   \nnb_common_words/nb_words_question2+nb_words_question1-common_words+nb_words_question2-common_words+nb_common_words/(nb_words_question1+nb_words_question2)            0.582438            4   \nnb_common_words/nb_words_question1+nb_words_question2-common_words+nb_common_words/(nb_words_question1+nb_words_question2)                                            0.584323            3   \n\n                                                                                                                                                                                                                                                                                                          column_names  \\\nnb_common_words/nb_words_question1+nb_common_words/nb_words_question2+nb_words_question1-common_words+nb_words_question2-common_words                                            nb_common_words/nb_words_question1+nb_common_words/nb_words_question2+nb_words_question1-common_words+nb_words_question2-common_words   \nnb_common_words/nb_words_question1+nb_words_question1-common_words+nb_words_question2-common_words+nb_common_words/(nb_words_question1+nb_words_question2)  nb_common_words/nb_words_question1+nb_words_question1-common_words+nb_words_question2-common_words+nb_common_words/(nb_words_question1+nb_words_question2)   \nnb_common_words/nb_words_question2+nb_words_question1-common_words+nb_words_question2-common_words+nb_common_words/(nb_words_question1+nb_words_question2)  nb_common_words/nb_words_question2+nb_words_question1-common_words+nb_words_question2-common_words+nb_common_words/(nb_words_question1+nb_words_question2)   \nnb_common_words/nb_words_question1+nb_words_question2-common_words+nb_common_words/(nb_words_question1+nb_words_question2)                                                                  nb_common_words/nb_words_question1+nb_words_question2-common_words+nb_common_words/(nb_words_question1+nb_words_question2)   \n\n                                                                                                                                                            accuracy_test  accuracy_train  \\\nnb_common_words/nb_words_question1+nb_common_words/nb_words_question2+nb_words_question1-common_words+nb_words_question2-common_words                            0.650968        0.653312   \nnb_common_words/nb_words_question1+nb_words_question1-common_words+nb_words_question2-common_words+nb_common_words/(nb_words_question1+nb_words_question2)       0.644339        0.645400   \nnb_common_words/nb_words_question2+nb_words_question1-common_words+nb_words_question2-common_words+nb_common_words/(nb_words_question1+nb_words_question2)       0.643251        0.645227   \nnb_common_words/nb_words_question1+nb_words_question2-common_words+nb_common_words/(nb_words_question1+nb_words_question2)                                       0.643375        0.644083   \n\n                                                                                                                                                            accuracy_full  score_test  score_train  \\\nnb_common_words/nb_words_question1+nb_common_words/nb_words_question2+nb_words_question1-common_words+nb_words_question2-common_words                            0.652786    0.693784     0.695940   \nnb_common_words/nb_words_question1+nb_words_question1-common_words+nb_words_question2-common_words+nb_common_words/(nb_words_question1+nb_words_question2)       0.645203    0.688499     0.689390   \nnb_common_words/nb_words_question2+nb_words_question1-common_words+nb_words_question2-common_words+nb_common_words/(nb_words_question1+nb_words_question2)       0.644822    0.687594     0.689310   \nnb_common_words/nb_words_question1+nb_words_question2-common_words+nb_common_words/(nb_words_question1+nb_words_question2)                                       0.644045    0.687585     0.688163   \n\n                                                                                                                                                            score_full       model_test  \\\nnb_common_words/nb_words_question1+nb_common_words/nb_words_question2+nb_words_question1-common_words+nb_words_question2-common_words                         0.695453  MultinomialNB()   \nnb_common_words/nb_words_question1+nb_words_question1-common_words+nb_words_question2-common_words+nb_common_words/(nb_words_question1+nb_words_question2)    0.689231  MultinomialNB()   \nnb_common_words/nb_words_question2+nb_words_question1-common_words+nb_words_question2-common_words+nb_common_words/(nb_words_question1+nb_words_question2)    0.688958  MultinomialNB()   \nnb_common_words/nb_words_question1+nb_words_question2-common_words+nb_common_words/(nb_words_question1+nb_words_question2)                                    0.688145  MultinomialNB()   \n\n                                                                                                                                                                model_train       model_full  \\\nnb_common_words/nb_words_question1+nb_common_words/nb_words_question2+nb_words_question1-common_words+nb_words_question2-common_words                       MultinomialNB()  MultinomialNB()   \nnb_common_words/nb_words_question1+nb_words_question1-common_words+nb_words_question2-common_words+nb_common_words/(nb_words_question1+nb_words_question2)  MultinomialNB()  MultinomialNB()   \nnb_common_words/nb_words_question2+nb_words_question1-common_words+nb_words_question2-common_words+nb_common_words/(nb_words_question1+nb_words_question2)  MultinomialNB()  MultinomialNB()   \nnb_common_words/nb_words_question1+nb_words_question2-common_words+nb_common_words/(nb_words_question1+nb_words_question2)                                  MultinomialNB()  MultinomialNB()   \n\n                                                                                                                                                                                                                                                                                                                    columns  \nnb_common_words/nb_words_question1+nb_common_words/nb_words_question2+nb_words_question1-common_words+nb_words_question2-common_words                                            (nb_common_words/nb_words_question1, nb_common_words/nb_words_question2, nb_words_question1-common_words, nb_words_question2-common_words)  \nnb_common_words/nb_words_question1+nb_words_question1-common_words+nb_words_question2-common_words+nb_common_words/(nb_words_question1+nb_words_question2)  (nb_common_words/nb_words_question1, nb_words_question1-common_words, nb_words_question2-common_words, nb_common_words/(nb_words_question1+nb_words_question2))  \nnb_common_words/nb_words_question2+nb_words_question1-common_words+nb_words_question2-common_words+nb_common_words/(nb_words_question1+nb_words_question2)  (nb_common_words/nb_words_question2, nb_words_question1-common_words, nb_words_question2-common_words, nb_common_words/(nb_words_question1+nb_words_question2))  \nnb_common_words/nb_words_question1+nb_words_question2-common_words+nb_common_words/(nb_words_question1+nb_words_question2)                                                                   (nb_common_words/nb_words_question1, nb_words_question2-common_words, nb_common_words/(nb_words_question1+nb_words_question2))  ",
      "text/html": "<div>\n<style scoped>\n    .dataframe tbody tr th:only-of-type {\n        vertical-align: middle;\n    }\n\n    .dataframe tbody tr th {\n        vertical-align: top;\n    }\n\n    .dataframe thead th {\n        text-align: right;\n    }\n</style>\n<table border=\"1\" class=\"dataframe\">\n  <thead>\n    <tr style=\"text-align: right;\">\n      <th></th>\n      <th>logloss_proba_test</th>\n      <th>logloss_proba_train</th>\n      <th>logloss_proba_full</th>\n      <th>nb_features</th>\n      <th>column_names</th>\n      <th>accuracy_test</th>\n      <th>accuracy_train</th>\n      <th>accuracy_full</th>\n      <th>score_test</th>\n      <th>score_train</th>\n      <th>score_full</th>\n      <th>model_test</th>\n      <th>model_train</th>\n      <th>model_full</th>\n      <th>columns</th>\n    </tr>\n  </thead>\n  <tbody>\n    <tr>\n      <th>nb_common_words/nb_words_question1+nb_common_words/nb_words_question2+nb_words_question1-common_words+nb_words_question2-common_words</th>\n      <td>0.581016</td>\n      <td>0.579103</td>\n      <td>0.579412</td>\n      <td>4</td>\n      <td>nb_common_words/nb_words_question1+nb_common_words/nb_words_question2+nb_words_question1-common_words+nb_words_question2-common_words</td>\n      <td>0.650968</td>\n      <td>0.653312</td>\n      <td>0.652786</td>\n      <td>0.693784</td>\n      <td>0.695940</td>\n      <td>0.695453</td>\n      <td>MultinomialNB()</td>\n      <td>MultinomialNB()</td>\n      <td>MultinomialNB()</td>\n      <td>(nb_common_words/nb_words_question1, nb_common_words/nb_words_question2, nb_words_question1-common_words, nb_words_question2-common_words)</td>\n    </tr>\n    <tr>\n      <th>nb_common_words/nb_words_question1+nb_words_question1-common_words+nb_words_question2-common_words+nb_common_words/(nb_words_question1+nb_words_question2)</th>\n      <td>0.582293</td>\n      <td>0.580427</td>\n      <td>0.580778</td>\n      <td>4</td>\n      <td>nb_common_words/nb_words_question1+nb_words_question1-common_words+nb_words_question2-common_words+nb_common_words/(nb_words_question1+nb_words_question2)</td>\n      <td>0.644339</td>\n      <td>0.645400</td>\n      <td>0.645203</td>\n      <td>0.688499</td>\n      <td>0.689390</td>\n      <td>0.689231</td>\n      <td>MultinomialNB()</td>\n      <td>MultinomialNB()</td>\n      <td>MultinomialNB()</td>\n      <td>(nb_common_words/nb_words_question1, nb_words_question1-common_words, nb_words_question2-common_words, nb_common_words/(nb_words_question1+nb_words_question2))</td>\n    </tr>\n    <tr>\n      <th>nb_common_words/nb_words_question2+nb_words_question1-common_words+nb_words_question2-common_words+nb_common_words/(nb_words_question1+nb_words_question2)</th>\n      <td>0.584173</td>\n      <td>0.582167</td>\n      <td>0.582438</td>\n      <td>4</td>\n      <td>nb_common_words/nb_words_question2+nb_words_question1-common_words+nb_words_question2-common_words+nb_common_words/(nb_words_question1+nb_words_question2)</td>\n      <td>0.643251</td>\n      <td>0.645227</td>\n      <td>0.644822</td>\n      <td>0.687594</td>\n      <td>0.689310</td>\n      <td>0.688958</td>\n      <td>MultinomialNB()</td>\n      <td>MultinomialNB()</td>\n      <td>MultinomialNB()</td>\n      <td>(nb_common_words/nb_words_question2, nb_words_question1-common_words, nb_words_question2-common_words, nb_common_words/(nb_words_question1+nb_words_question2))</td>\n    </tr>\n    <tr>\n      <th>nb_common_words/nb_words_question1+nb_words_question2-common_words+nb_common_words/(nb_words_question1+nb_words_question2)</th>\n      <td>0.586088</td>\n      <td>0.583858</td>\n      <td>0.584323</td>\n      <td>3</td>\n      <td>nb_common_words/nb_words_question1+nb_words_question2-common_words+nb_common_words/(nb_words_question1+nb_words_question2)</td>\n      <td>0.643375</td>\n      <td>0.644083</td>\n      <td>0.644045</td>\n      <td>0.687585</td>\n      <td>0.688163</td>\n      <td>0.688145</td>\n      <td>MultinomialNB()</td>\n      <td>MultinomialNB()</td>\n      <td>MultinomialNB()</td>\n      <td>(nb_common_words/nb_words_question1, nb_words_question2-common_words, nb_common_words/(nb_words_question1+nb_words_question2))</td>\n    </tr>\n  </tbody>\n</table>\n</div>"
     },
     "metadata": {},
     "execution_count": 105
    }
   ],
   "source": [
    "#retrieve_model('nb_common_words+nb_common_words/(nb_words_question1+nb_words_question2)','full')\n",
    "#simple_apply('nb_common_words+nb_common_words/(nb_words_question1+nb_words_question2)',challenge_dataframe,'full')\n",
    "find_best_models(4,'logloss_proba','full')\n",
    "#submit_best_models('accuracy','full',train_dataframe)\n",
    "#submit_best_models('score','full',challenge_dataframe)\n",
    "# best_accuracy_full_models = submit_best_models(3,'accuracy','full',challenge_dataframe)\n",
    "# show_docker_cp_commands(best_accuracy_full_models)\n"
   ]
  },
  {
   "cell_type": "markdown",
   "metadata": {},
   "source": [
    "## What are the best 4 test models ?"
   ]
  },
  {
   "cell_type": "code",
   "execution_count": 45,
   "metadata": {},
   "outputs": [
    {
     "output_type": "execute_result",
     "data": {
      "text/plain": "                                                                                                                                                            logloss_proba_test  logloss_proba_train  \\\nnb_common_words/nb_words_question1+nb_common_words/nb_words_question2+nb_words_question1-common_words+nb_words_question2-common_words                                 0.581016             0.579103   \nnb_common_words/nb_words_question1+nb_words_question1-common_words+nb_words_question2-common_words+nb_common_words/(nb_words_question1+nb_words_question2)            0.582293             0.580427   \nnb_common_words/nb_words_question2+nb_words_question1-common_words+nb_words_question2-common_words+nb_common_words/(nb_words_question1+nb_words_question2)            0.584173             0.582167   \nnb_common_words/nb_words_question1+nb_words_question2-common_words+nb_common_words/(nb_words_question1+nb_words_question2)                                            0.586088             0.583858   \n\n                                                                                                                                                            logloss_proba_full  nb_features  \\\nnb_common_words/nb_words_question1+nb_common_words/nb_words_question2+nb_words_question1-common_words+nb_words_question2-common_words                                 0.579412            4   \nnb_common_words/nb_words_question1+nb_words_question1-common_words+nb_words_question2-common_words+nb_common_words/(nb_words_question1+nb_words_question2)            0.580778            4   \nnb_common_words/nb_words_question2+nb_words_question1-common_words+nb_words_question2-common_words+nb_common_words/(nb_words_question1+nb_words_question2)            0.582438            4   \nnb_common_words/nb_words_question1+nb_words_question2-common_words+nb_common_words/(nb_words_question1+nb_words_question2)                                            0.584323            3   \n\n                                                                                                                                                                                                                                                                                                          column_names  \\\nnb_common_words/nb_words_question1+nb_common_words/nb_words_question2+nb_words_question1-common_words+nb_words_question2-common_words                                            nb_common_words/nb_words_question1+nb_common_words/nb_words_question2+nb_words_question1-common_words+nb_words_question2-common_words   \nnb_common_words/nb_words_question1+nb_words_question1-common_words+nb_words_question2-common_words+nb_common_words/(nb_words_question1+nb_words_question2)  nb_common_words/nb_words_question1+nb_words_question1-common_words+nb_words_question2-common_words+nb_common_words/(nb_words_question1+nb_words_question2)   \nnb_common_words/nb_words_question2+nb_words_question1-common_words+nb_words_question2-common_words+nb_common_words/(nb_words_question1+nb_words_question2)  nb_common_words/nb_words_question2+nb_words_question1-common_words+nb_words_question2-common_words+nb_common_words/(nb_words_question1+nb_words_question2)   \nnb_common_words/nb_words_question1+nb_words_question2-common_words+nb_common_words/(nb_words_question1+nb_words_question2)                                                                  nb_common_words/nb_words_question1+nb_words_question2-common_words+nb_common_words/(nb_words_question1+nb_words_question2)   \n\n                                                                                                                                                            accuracy_test  accuracy_train  \\\nnb_common_words/nb_words_question1+nb_common_words/nb_words_question2+nb_words_question1-common_words+nb_words_question2-common_words                            0.650968        0.653312   \nnb_common_words/nb_words_question1+nb_words_question1-common_words+nb_words_question2-common_words+nb_common_words/(nb_words_question1+nb_words_question2)       0.644339        0.645400   \nnb_common_words/nb_words_question2+nb_words_question1-common_words+nb_words_question2-common_words+nb_common_words/(nb_words_question1+nb_words_question2)       0.643251        0.645227   \nnb_common_words/nb_words_question1+nb_words_question2-common_words+nb_common_words/(nb_words_question1+nb_words_question2)                                       0.643375        0.644083   \n\n                                                                                                                                                            accuracy_full  score_test  score_train  \\\nnb_common_words/nb_words_question1+nb_common_words/nb_words_question2+nb_words_question1-common_words+nb_words_question2-common_words                            0.652786    0.693784     0.695940   \nnb_common_words/nb_words_question1+nb_words_question1-common_words+nb_words_question2-common_words+nb_common_words/(nb_words_question1+nb_words_question2)       0.645203    0.688499     0.689390   \nnb_common_words/nb_words_question2+nb_words_question1-common_words+nb_words_question2-common_words+nb_common_words/(nb_words_question1+nb_words_question2)       0.644822    0.687594     0.689310   \nnb_common_words/nb_words_question1+nb_words_question2-common_words+nb_common_words/(nb_words_question1+nb_words_question2)                                       0.644045    0.687585     0.688163   \n\n                                                                                                                                                            score_full       model_test  \\\nnb_common_words/nb_words_question1+nb_common_words/nb_words_question2+nb_words_question1-common_words+nb_words_question2-common_words                         0.695453  MultinomialNB()   \nnb_common_words/nb_words_question1+nb_words_question1-common_words+nb_words_question2-common_words+nb_common_words/(nb_words_question1+nb_words_question2)    0.689231  MultinomialNB()   \nnb_common_words/nb_words_question2+nb_words_question1-common_words+nb_words_question2-common_words+nb_common_words/(nb_words_question1+nb_words_question2)    0.688958  MultinomialNB()   \nnb_common_words/nb_words_question1+nb_words_question2-common_words+nb_common_words/(nb_words_question1+nb_words_question2)                                    0.688145  MultinomialNB()   \n\n                                                                                                                                                                model_train       model_full  \\\nnb_common_words/nb_words_question1+nb_common_words/nb_words_question2+nb_words_question1-common_words+nb_words_question2-common_words                       MultinomialNB()  MultinomialNB()   \nnb_common_words/nb_words_question1+nb_words_question1-common_words+nb_words_question2-common_words+nb_common_words/(nb_words_question1+nb_words_question2)  MultinomialNB()  MultinomialNB()   \nnb_common_words/nb_words_question2+nb_words_question1-common_words+nb_words_question2-common_words+nb_common_words/(nb_words_question1+nb_words_question2)  MultinomialNB()  MultinomialNB()   \nnb_common_words/nb_words_question1+nb_words_question2-common_words+nb_common_words/(nb_words_question1+nb_words_question2)                                  MultinomialNB()  MultinomialNB()   \n\n                                                                                                                                                                                                                                                                                                                    columns  \nnb_common_words/nb_words_question1+nb_common_words/nb_words_question2+nb_words_question1-common_words+nb_words_question2-common_words                                            (nb_common_words/nb_words_question1, nb_common_words/nb_words_question2, nb_words_question1-common_words, nb_words_question2-common_words)  \nnb_common_words/nb_words_question1+nb_words_question1-common_words+nb_words_question2-common_words+nb_common_words/(nb_words_question1+nb_words_question2)  (nb_common_words/nb_words_question1, nb_words_question1-common_words, nb_words_question2-common_words, nb_common_words/(nb_words_question1+nb_words_question2))  \nnb_common_words/nb_words_question2+nb_words_question1-common_words+nb_words_question2-common_words+nb_common_words/(nb_words_question1+nb_words_question2)  (nb_common_words/nb_words_question2, nb_words_question1-common_words, nb_words_question2-common_words, nb_common_words/(nb_words_question1+nb_words_question2))  \nnb_common_words/nb_words_question1+nb_words_question2-common_words+nb_common_words/(nb_words_question1+nb_words_question2)                                                                   (nb_common_words/nb_words_question1, nb_words_question2-common_words, nb_common_words/(nb_words_question1+nb_words_question2))  ",
      "text/html": "<div>\n<style scoped>\n    .dataframe tbody tr th:only-of-type {\n        vertical-align: middle;\n    }\n\n    .dataframe tbody tr th {\n        vertical-align: top;\n    }\n\n    .dataframe thead th {\n        text-align: right;\n    }\n</style>\n<table border=\"1\" class=\"dataframe\">\n  <thead>\n    <tr style=\"text-align: right;\">\n      <th></th>\n      <th>logloss_proba_test</th>\n      <th>logloss_proba_train</th>\n      <th>logloss_proba_full</th>\n      <th>nb_features</th>\n      <th>column_names</th>\n      <th>accuracy_test</th>\n      <th>accuracy_train</th>\n      <th>accuracy_full</th>\n      <th>score_test</th>\n      <th>score_train</th>\n      <th>score_full</th>\n      <th>model_test</th>\n      <th>model_train</th>\n      <th>model_full</th>\n      <th>columns</th>\n    </tr>\n  </thead>\n  <tbody>\n    <tr>\n      <th>nb_common_words/nb_words_question1+nb_common_words/nb_words_question2+nb_words_question1-common_words+nb_words_question2-common_words</th>\n      <td>0.581016</td>\n      <td>0.579103</td>\n      <td>0.579412</td>\n      <td>4</td>\n      <td>nb_common_words/nb_words_question1+nb_common_words/nb_words_question2+nb_words_question1-common_words+nb_words_question2-common_words</td>\n      <td>0.650968</td>\n      <td>0.653312</td>\n      <td>0.652786</td>\n      <td>0.693784</td>\n      <td>0.695940</td>\n      <td>0.695453</td>\n      <td>MultinomialNB()</td>\n      <td>MultinomialNB()</td>\n      <td>MultinomialNB()</td>\n      <td>(nb_common_words/nb_words_question1, nb_common_words/nb_words_question2, nb_words_question1-common_words, nb_words_question2-common_words)</td>\n    </tr>\n    <tr>\n      <th>nb_common_words/nb_words_question1+nb_words_question1-common_words+nb_words_question2-common_words+nb_common_words/(nb_words_question1+nb_words_question2)</th>\n      <td>0.582293</td>\n      <td>0.580427</td>\n      <td>0.580778</td>\n      <td>4</td>\n      <td>nb_common_words/nb_words_question1+nb_words_question1-common_words+nb_words_question2-common_words+nb_common_words/(nb_words_question1+nb_words_question2)</td>\n      <td>0.644339</td>\n      <td>0.645400</td>\n      <td>0.645203</td>\n      <td>0.688499</td>\n      <td>0.689390</td>\n      <td>0.689231</td>\n      <td>MultinomialNB()</td>\n      <td>MultinomialNB()</td>\n      <td>MultinomialNB()</td>\n      <td>(nb_common_words/nb_words_question1, nb_words_question1-common_words, nb_words_question2-common_words, nb_common_words/(nb_words_question1+nb_words_question2))</td>\n    </tr>\n    <tr>\n      <th>nb_common_words/nb_words_question2+nb_words_question1-common_words+nb_words_question2-common_words+nb_common_words/(nb_words_question1+nb_words_question2)</th>\n      <td>0.584173</td>\n      <td>0.582167</td>\n      <td>0.582438</td>\n      <td>4</td>\n      <td>nb_common_words/nb_words_question2+nb_words_question1-common_words+nb_words_question2-common_words+nb_common_words/(nb_words_question1+nb_words_question2)</td>\n      <td>0.643251</td>\n      <td>0.645227</td>\n      <td>0.644822</td>\n      <td>0.687594</td>\n      <td>0.689310</td>\n      <td>0.688958</td>\n      <td>MultinomialNB()</td>\n      <td>MultinomialNB()</td>\n      <td>MultinomialNB()</td>\n      <td>(nb_common_words/nb_words_question2, nb_words_question1-common_words, nb_words_question2-common_words, nb_common_words/(nb_words_question1+nb_words_question2))</td>\n    </tr>\n    <tr>\n      <th>nb_common_words/nb_words_question1+nb_words_question2-common_words+nb_common_words/(nb_words_question1+nb_words_question2)</th>\n      <td>0.586088</td>\n      <td>0.583858</td>\n      <td>0.584323</td>\n      <td>3</td>\n      <td>nb_common_words/nb_words_question1+nb_words_question2-common_words+nb_common_words/(nb_words_question1+nb_words_question2)</td>\n      <td>0.643375</td>\n      <td>0.644083</td>\n      <td>0.644045</td>\n      <td>0.687585</td>\n      <td>0.688163</td>\n      <td>0.688145</td>\n      <td>MultinomialNB()</td>\n      <td>MultinomialNB()</td>\n      <td>MultinomialNB()</td>\n      <td>(nb_common_words/nb_words_question1, nb_words_question2-common_words, nb_common_words/(nb_words_question1+nb_words_question2))</td>\n    </tr>\n  </tbody>\n</table>\n</div>"
     },
     "metadata": {},
     "execution_count": 45
    }
   ],
   "source": [
    "find_best_models(4,'logloss_proba','test')"
   ]
  },
  {
   "cell_type": "markdown",
   "metadata": {},
   "source": [
    "## Find the best models for all metrics (deactivated)"
   ]
  },
  {
   "cell_type": "markdown",
   "metadata": {},
   "source": [
    "## Apply full models with best logloss \n"
   ]
  },
  {
   "cell_type": "code",
   "execution_count": 106,
   "metadata": {
    "tags": []
   },
   "outputs": [
    {
     "output_type": "display_data",
     "data": {
      "text/plain": "<IPython.core.display.HTML object>",
      "text/html": "<b>Submit best 3 test models by logloss_proba</b>"
     },
     "metadata": {
      "text/html": {
       "isolated": true
      }
     }
    },
    {
     "output_type": "display_data",
     "data": {
      "text/plain": "<IPython.core.display.HTML object>",
      "text/html": "<HR>"
     },
     "metadata": {
      "text/html": {
       "isolated": true
      }
     }
    },
    {
     "output_type": "display_data",
     "data": {
      "text/plain": "<IPython.core.display.HTML object>",
      "text/html": "<span style=\"color:LIMEGREEN\"><small>Doing apply</small></span>"
     },
     "metadata": {
      "text/html": {
       "isolated": true
      }
     }
    },
    {
     "output_type": "display_data",
     "data": {
      "text/plain": "<IPython.core.display.HTML object>",
      "text/html": "<span style=\"color:LIMEGREEN\"><small>Generating CSV file</small></span>"
     },
     "metadata": {
      "text/html": {
       "isolated": true
      }
     }
    },
    {
     "output_type": "display_data",
     "data": {
      "text/plain": "<IPython.core.display.HTML object>",
      "text/html": "<span style=\"color:LIMEGREEN\"><small>Zipping file</small></span>"
     },
     "metadata": {
      "text/html": {
       "isolated": true
      }
     }
    },
    {
     "output_type": "display_data",
     "data": {
      "text/plain": "<IPython.core.display.HTML object>",
      "text/html": "<span style=\"color:LIMEGREEN\"><small>/SAPDevelop/QuoraPairs/multinomial_naivebayes_unbalanced/multinomial_naivebayes_unbalanced!logloss_proba!test!nb_common_words_div_nb_words_question1+nb_common_words_div_nb_words_question2+nb_words_question1-common_words+nb_words_question2-common_words.csv is ready</small></span>"
     },
     "metadata": {
      "text/html": {
       "isolated": true
      }
     }
    },
    {
     "output_type": "display_data",
     "data": {
      "text/plain": "<IPython.core.display.HTML object>",
      "text/html": "<span style=\"color:LIMEGREEN\"><small>Doing apply</small></span>"
     },
     "metadata": {
      "text/html": {
       "isolated": true
      }
     }
    },
    {
     "output_type": "display_data",
     "data": {
      "text/plain": "<IPython.core.display.HTML object>",
      "text/html": "<span style=\"color:LIMEGREEN\"><small>Generating CSV file</small></span>"
     },
     "metadata": {
      "text/html": {
       "isolated": true
      }
     }
    },
    {
     "output_type": "display_data",
     "data": {
      "text/plain": "<IPython.core.display.HTML object>",
      "text/html": "<span style=\"color:LIMEGREEN\"><small>Zipping file</small></span>"
     },
     "metadata": {
      "text/html": {
       "isolated": true
      }
     }
    },
    {
     "output_type": "display_data",
     "data": {
      "text/plain": "<IPython.core.display.HTML object>",
      "text/html": "<span style=\"color:LIMEGREEN\"><small>/SAPDevelop/QuoraPairs/multinomial_naivebayes_unbalanced/multinomial_naivebayes_unbalanced!logloss_proba!test!nb_common_words_div_nb_words_question1+nb_words_question1-common_words+nb_words_question2-common_words+nb_common_words_div_(nb_words_question1+nb_words_question2).csv is ready</small></span>"
     },
     "metadata": {
      "text/html": {
       "isolated": true
      }
     }
    },
    {
     "output_type": "display_data",
     "data": {
      "text/plain": "<IPython.core.display.HTML object>",
      "text/html": "<span style=\"color:LIMEGREEN\"><small>Doing apply</small></span>"
     },
     "metadata": {
      "text/html": {
       "isolated": true
      }
     }
    },
    {
     "output_type": "display_data",
     "data": {
      "text/plain": "<IPython.core.display.HTML object>",
      "text/html": "<span style=\"color:LIMEGREEN\"><small>Generating CSV file</small></span>"
     },
     "metadata": {
      "text/html": {
       "isolated": true
      }
     }
    },
    {
     "output_type": "display_data",
     "data": {
      "text/plain": "<IPython.core.display.HTML object>",
      "text/html": "<span style=\"color:LIMEGREEN\"><small>Zipping file</small></span>"
     },
     "metadata": {
      "text/html": {
       "isolated": true
      }
     }
    },
    {
     "output_type": "display_data",
     "data": {
      "text/plain": "<IPython.core.display.HTML object>",
      "text/html": "<span style=\"color:LIMEGREEN\"><small>/SAPDevelop/QuoraPairs/multinomial_naivebayes_unbalanced/multinomial_naivebayes_unbalanced!logloss_proba!test!nb_common_words_div_nb_words_question2+nb_words_question1-common_words+nb_words_question2-common_words+nb_common_words_div_(nb_words_question1+nb_words_question2).csv is ready</small></span>"
     },
     "metadata": {
      "text/html": {
       "isolated": true
      }
     }
    },
    {
     "output_type": "display_data",
     "data": {
      "text/plain": "<IPython.core.display.HTML object>",
      "text/html": "<span style=\"color:LIMEGREEN\"><small><b><i>Done</i></b><p></p></small></span>"
     },
     "metadata": {
      "text/html": {
       "isolated": true
      }
     }
    },
    {
     "output_type": "display_data",
     "data": {
      "text/plain": "<IPython.core.display.HTML object>",
      "text/html": "<b>Use these commands to submit apply results to kaggle</b>"
     },
     "metadata": {
      "text/html": {
       "isolated": true
      }
     }
    },
    {
     "output_type": "display_data",
     "data": {
      "text/plain": "<IPython.core.display.HTML object>",
      "text/html": "<HR>"
     },
     "metadata": {
      "text/html": {
       "isolated": true
      }
     }
    },
    {
     "output_type": "display_data",
     "data": {
      "text/plain": "<IPython.core.display.HTML object>",
      "text/html": "<span style=\"color:LIGHTSALMON\"><small>kaggle competitions submit quora-question-pairs -f \"/SAPDevelop/QuoraPairs/multinomial_naivebayes_unbalanced/multinomial_naivebayes_unbalanced!logloss_proba!test!nb_common_words_div_nb_words_question1+nb_common_words_div_nb_words_question2+nb_words_question1-common_words+nb_words_question2-common_words.zip\" -m \"/SAPDevelop/QuoraPairs/multinomial_naivebayes_unbalanced/multinomial_naivebayes_unbalanced!logloss_proba!test!nb_common_words_div_nb_words_question1+nb_common_words_div_nb_words_question2+nb_words_question1-common_words+nb_words_question2-common_words.csv\"</small></span>"
     },
     "metadata": {
      "text/html": {
       "isolated": true
      }
     }
    },
    {
     "output_type": "display_data",
     "data": {
      "text/plain": "<IPython.core.display.HTML object>",
      "text/html": "<span style=\"color:LIGHTSALMON\"><small>kaggle competitions submit quora-question-pairs -f \"/SAPDevelop/QuoraPairs/multinomial_naivebayes_unbalanced/multinomial_naivebayes_unbalanced!logloss_proba!test!nb_common_words_div_nb_words_question1+nb_words_question1-common_words+nb_words_question2-common_words+nb_common_words_div_(nb_words_question1+nb_words_question2).zip\" -m \"/SAPDevelop/QuoraPairs/multinomial_naivebayes_unbalanced/multinomial_naivebayes_unbalanced!logloss_proba!test!nb_common_words_div_nb_words_question1+nb_words_question1-common_words+nb_words_question2-common_words+nb_common_words_div_(nb_words_question1+nb_words_question2).csv\"</small></span>"
     },
     "metadata": {
      "text/html": {
       "isolated": true
      }
     }
    },
    {
     "output_type": "display_data",
     "data": {
      "text/plain": "<IPython.core.display.HTML object>",
      "text/html": "<span style=\"color:LIGHTSALMON\"><small>kaggle competitions submit quora-question-pairs -f \"/SAPDevelop/QuoraPairs/multinomial_naivebayes_unbalanced/multinomial_naivebayes_unbalanced!logloss_proba!test!nb_common_words_div_nb_words_question2+nb_words_question1-common_words+nb_words_question2-common_words+nb_common_words_div_(nb_words_question1+nb_words_question2).zip\" -m \"/SAPDevelop/QuoraPairs/multinomial_naivebayes_unbalanced/multinomial_naivebayes_unbalanced!logloss_proba!test!nb_common_words_div_nb_words_question2+nb_words_question1-common_words+nb_words_question2-common_words+nb_common_words_div_(nb_words_question1+nb_words_question2).csv\"</small></span>"
     },
     "metadata": {
      "text/html": {
       "isolated": true
      }
     }
    },
    {
     "output_type": "display_data",
     "data": {
      "text/plain": "<IPython.core.display.HTML object>",
      "text/html": "<span style=\"color:LIMEGREEN\"><small><b><i></i></b><p></p></small></span>"
     },
     "metadata": {
      "text/html": {
       "isolated": true
      }
     }
    }
   ],
   "source": [
    "#best_accuracy_full_models = submit_best_models(3,'accuracy','full',challenge_dataframe)\n",
    "#show_docker_cp_commands(best_accuracy_full_models)\n",
    "#best_score_full_models = submit_best_models(3,'score','full',challenge_dataframe)\n",
    "#show_docker_cp_commands(best_score_full_models)\n",
    "#best_accuracy_test_models = submit_best_models(3,'accuracy','test',challenge_dataframe)\n",
    "#show_docker_cp_commands(best_accuracy_test_models)\n",
    "#best_score_test_models = submit_best_models(3,'score','test',challenge_dataframe)\n",
    "#show_docker_cp_commands(best_score_test_models)\n",
    "best_logloss_proba_test = submit_best_models(3,'logloss_proba','test',challenge_dataframe,kaggle=True)\n"
   ]
  },
  {
   "cell_type": "markdown",
   "metadata": {},
   "source": [
    "## Apply full models with best logloss"
   ]
  },
  {
   "cell_type": "code",
   "execution_count": null,
   "metadata": {},
   "outputs": [],
   "source": [
    "best_logloss_proba_full = submit_best_models(3,'logloss_proba','full',challenge_dataframe,kaggle=True)"
   ]
  },
  {
   "cell_type": "markdown",
   "metadata": {},
   "source": [
    "## Redisplay again the commands to submit to kaggle"
   ]
  },
  {
   "cell_type": "code",
   "execution_count": 38,
   "metadata": {
    "tags": []
   },
   "outputs": [
    {
     "output_type": "display_data",
     "data": {
      "text/plain": "<IPython.core.display.HTML object>",
      "text/html": "<b>Use these commands to submit apply results to kaggle</b>"
     },
     "metadata": {
      "text/html": {
       "isolated": true
      }
     }
    },
    {
     "output_type": "display_data",
     "data": {
      "text/plain": "<IPython.core.display.HTML object>",
      "text/html": "<HR>"
     },
     "metadata": {
      "text/html": {
       "isolated": true
      }
     }
    },
    {
     "output_type": "display_data",
     "data": {
      "text/plain": "<IPython.core.display.HTML object>",
      "text/html": "<span style=\"color:LIGHTSALMON\"><small>kaggle competitions submit quora-question-pairs -f \"/SAPDevelop/QuoraPairs/multinomial_naivebayes_unbalanced/multinomial_naivebayes_unbalanced!logloss_proba!full!nb_common_words_div_nb_words_question1+nb_common_words_div_nb_words_question2+nb_words_question1-common_words+nb_words_question2-common_words.zip\" -m \"/SAPDevelop/QuoraPairs/multinomial_naivebayes_unbalanced/multinomial_naivebayes_unbalanced!logloss_proba!full!nb_common_words_div_nb_words_question1+nb_common_words_div_nb_words_question2+nb_words_question1-common_words+nb_words_question2-common_words.csv\"</small></span>"
     },
     "metadata": {
      "text/html": {
       "isolated": true
      }
     }
    },
    {
     "output_type": "display_data",
     "data": {
      "text/plain": "<IPython.core.display.HTML object>",
      "text/html": "<span style=\"color:LIGHTSALMON\"><small>kaggle competitions submit quora-question-pairs -f \"/SAPDevelop/QuoraPairs/multinomial_naivebayes_unbalanced/multinomial_naivebayes_unbalanced!logloss_proba!full!nb_common_words_div_nb_words_question1+nb_words_question1-common_words+nb_words_question2-common_words+nb_common_words_div_(nb_words_question1+nb_words_question2).zip\" -m \"/SAPDevelop/QuoraPairs/multinomial_naivebayes_unbalanced/multinomial_naivebayes_unbalanced!logloss_proba!full!nb_common_words_div_nb_words_question1+nb_words_question1-common_words+nb_words_question2-common_words+nb_common_words_div_(nb_words_question1+nb_words_question2).csv\"</small></span>"
     },
     "metadata": {
      "text/html": {
       "isolated": true
      }
     }
    },
    {
     "output_type": "display_data",
     "data": {
      "text/plain": "<IPython.core.display.HTML object>",
      "text/html": "<span style=\"color:LIGHTSALMON\"><small>kaggle competitions submit quora-question-pairs -f \"/SAPDevelop/QuoraPairs/multinomial_naivebayes_unbalanced/multinomial_naivebayes_unbalanced!logloss_proba!full!nb_common_words_div_nb_words_question2+nb_words_question1-common_words+nb_words_question2-common_words+nb_common_words_div_(nb_words_question1+nb_words_question2).zip\" -m \"/SAPDevelop/QuoraPairs/multinomial_naivebayes_unbalanced/multinomial_naivebayes_unbalanced!logloss_proba!full!nb_common_words_div_nb_words_question2+nb_words_question1-common_words+nb_words_question2-common_words+nb_common_words_div_(nb_words_question1+nb_words_question2).csv\"</small></span>"
     },
     "metadata": {
      "text/html": {
       "isolated": true
      }
     }
    },
    {
     "output_type": "display_data",
     "data": {
      "text/plain": "<IPython.core.display.HTML object>",
      "text/html": "<span style=\"color:LIMEGREEN\"><small><b><i></i></b><p></p></small></span>"
     },
     "metadata": {
      "text/html": {
       "isolated": true
      }
     }
    },
    {
     "output_type": "display_data",
     "data": {
      "text/plain": "<IPython.core.display.HTML object>",
      "text/html": "<b>Use these commands to submit apply results to kaggle</b>"
     },
     "metadata": {
      "text/html": {
       "isolated": true
      }
     }
    },
    {
     "output_type": "display_data",
     "data": {
      "text/plain": "<IPython.core.display.HTML object>",
      "text/html": "<HR>"
     },
     "metadata": {
      "text/html": {
       "isolated": true
      }
     }
    },
    {
     "output_type": "display_data",
     "data": {
      "text/plain": "<IPython.core.display.HTML object>",
      "text/html": "<span style=\"color:LIGHTSALMON\"><small>kaggle competitions submit quora-question-pairs -f \"/SAPDevelop/QuoraPairs/multinomial_naivebayes_unbalanced/multinomial_naivebayes_unbalanced!logloss_proba!test!nb_common_words_div_nb_words_question1+nb_common_words_div_nb_words_question2+nb_words_question1-common_words+nb_words_question2-common_words.zip\" -m \"/SAPDevelop/QuoraPairs/multinomial_naivebayes_unbalanced/multinomial_naivebayes_unbalanced!logloss_proba!test!nb_common_words_div_nb_words_question1+nb_common_words_div_nb_words_question2+nb_words_question1-common_words+nb_words_question2-common_words.csv\"</small></span>"
     },
     "metadata": {
      "text/html": {
       "isolated": true
      }
     }
    },
    {
     "output_type": "display_data",
     "data": {
      "text/plain": "<IPython.core.display.HTML object>",
      "text/html": "<span style=\"color:LIGHTSALMON\"><small>kaggle competitions submit quora-question-pairs -f \"/SAPDevelop/QuoraPairs/multinomial_naivebayes_unbalanced/multinomial_naivebayes_unbalanced!logloss_proba!test!nb_common_words_div_nb_words_question1+nb_words_question1-common_words+nb_words_question2-common_words+nb_common_words_div_(nb_words_question1+nb_words_question2).zip\" -m \"/SAPDevelop/QuoraPairs/multinomial_naivebayes_unbalanced/multinomial_naivebayes_unbalanced!logloss_proba!test!nb_common_words_div_nb_words_question1+nb_words_question1-common_words+nb_words_question2-common_words+nb_common_words_div_(nb_words_question1+nb_words_question2).csv\"</small></span>"
     },
     "metadata": {
      "text/html": {
       "isolated": true
      }
     }
    },
    {
     "output_type": "display_data",
     "data": {
      "text/plain": "<IPython.core.display.HTML object>",
      "text/html": "<span style=\"color:LIGHTSALMON\"><small>kaggle competitions submit quora-question-pairs -f \"/SAPDevelop/QuoraPairs/multinomial_naivebayes_unbalanced/multinomial_naivebayes_unbalanced!logloss_proba!test!nb_common_words_div_nb_words_question2+nb_words_question1-common_words+nb_words_question2-common_words+nb_common_words_div_(nb_words_question1+nb_words_question2).zip\" -m \"/SAPDevelop/QuoraPairs/multinomial_naivebayes_unbalanced/multinomial_naivebayes_unbalanced!logloss_proba!test!nb_common_words_div_nb_words_question2+nb_words_question1-common_words+nb_words_question2-common_words+nb_common_words_div_(nb_words_question1+nb_words_question2).csv\"</small></span>"
     },
     "metadata": {
      "text/html": {
       "isolated": true
      }
     }
    },
    {
     "output_type": "display_data",
     "data": {
      "text/plain": "<IPython.core.display.HTML object>",
      "text/html": "<span style=\"color:LIMEGREEN\"><small><b><i></i></b><p></p></small></span>"
     },
     "metadata": {
      "text/html": {
       "isolated": true
      }
     }
    }
   ],
   "source": [
    "#show_docker_cp_commands(best_logloss_proba_full)\n",
    "show_kaggle_commands(best_logloss_proba_full)\n",
    "show_kaggle_commands(best_logloss_proba_test)"
   ]
  },
  {
   "cell_type": "markdown",
   "metadata": {},
   "source": [
    "## Manual submission (deactivated)"
   ]
  },
  {
   "cell_type": "code",
   "execution_count": null,
   "metadata": {
    "tags": []
   },
   "outputs": [],
   "source": [
    "# submit_model('score','full',challenge_dataframe,'nb_common_words/(nb_words_question1+nb_words_question2)',kaggle=True)"
   ]
  },
  {
   "cell_type": "markdown",
   "metadata": {},
   "source": [
    "## Submit best models on all metrics (deactivated)"
   ]
  },
  {
   "cell_type": "code",
   "execution_count": null,
   "metadata": {
    "tags": []
   },
   "outputs": [],
   "source": [
    "\n",
    "def submit_all_bests(criterias,input_dataframe,kaggle=False):\n",
    "    kinds = ['full','test']\n",
    "    print_section('Submit best models by %sx%s' % (criterias,kinds))\n",
    "    all_file_names = list()\n",
    "    for c in tqdm(criterias):\n",
    "        for k in kinds:\n",
    "            print_info('Best %s_%s' %(c,k))\n",
    "            best_model = find_best_models(1,c,k)\n",
    "            generated_file = apply_absolute_file_name(c,k,best_model.index)\n",
    "            best_model['model_key']=numpy.asarray(best_model.index)\n",
    "            best_model['model_key'].apply(lambda mk: submit_model(c,k,input_dataframe,mk,proba=True,show_how_to_publish=False,kaggle=kaggle))\n",
    "            all_file_names.append(generated_file)\n",
    "    print_done('Done')\n",
    "    commands = pandas.DataFrame()\n",
    "    commands['file_name']=all_file_names\n",
    "    if kaggle:\n",
    "        commands['kaggle'] = commands['file_name'].apply(show_kaggle_command)\n",
    "        show_kaggle_commands(commands)\n",
    "    else:\n",
    "        commands['docker'] = commands['file_name'].apply(show_docker_cp_command)\n",
    "        show_docker_cp_commands(commands)\n",
    "    return commands\n",
    "\n",
    "# submit_all_bests(['accuracy','score','logloss_classif','logloss_proba'],challenge_dataframe,kaggle=True)\n"
   ]
  },
  {
   "cell_type": "markdown",
   "metadata": {},
   "source": [
    "## Display training performnces of all models"
   ]
  },
  {
   "cell_type": "code",
   "execution_count": 39,
   "metadata": {},
   "outputs": [
    {
     "output_type": "execute_result",
     "data": {
      "text/plain": "                                            0.628299   \n...                                                                                                                                                                                                                 ...   \nnb_words_question1+nb_words_question2+nb_common_words+nb_common_words/nb_words_question2+nb_words_question1-common_words+nb_words_question2-common_words+nb_common_words/(nb_words_question1+nb_words...       0.673440   \nnb_words_question1+nb_words_question2+nb_common_words/nb_words_question1+nb_common_words/nb_words_question2+nb_words_question1-common_words+nb_words_question2-common_words+nb_common_words/(nb_words...       0.665055   \nnb_words_question1+nb_common_words+nb_common_words/nb_words_question1+nb_common_words/nb_words_question2+nb_words_question1-common_words+nb_words_question2-common_words+nb_common_words/(nb_words_qu...       0.673378   \nnb_words_question2+nb_common_words+nb_common_words/nb_words_question1+nb_common_words/nb_words_question2+nb_words_question1-common_words+nb_words_question2-common_words+nb_common_words/(nb_words_qu...       0.672599   \nnb_words_question1+nb_words_question2+nb_common_words+nb_common_words/nb_words_question1+nb_common_words/nb_words_question2+nb_words_question1-common_words+nb_words_question2-common_words+nb_common...       0.673353   \n\n                                                                                                                                                                                                          score_test  \\\nnb_words_question1                                                                                                                                                                                          0.640531   \nnb_words_question2                                                                                                                                                                                          0.640531   \nnb_common_words                                                                                                                                                                                             0.640531   \nnb_common_words/nb_words_question1                                                                                                                                                                          0.640531   \nnb_common_words/nb_words_question2                                                                                                                                                                          0.640531   \n...                                                                                                                                                                                                              ...   \nnb_words_question1+nb_words_question2+nb_common_words+nb_common_words/nb_words_question2+nb_words_question1-common_words+nb_words_question2-common_words+nb_common_words/(nb_words_question1+nb_words...    0.707098   \nnb_words_question1+nb_words_question2+nb_common_words/nb_words_question1+nb_common_words/nb_words_question2+nb_words_question1-common_words+nb_words_question2-common_words+nb_common_words/(nb_words...    0.702758   \nnb_words_question1+nb_common_words+nb_common_words/nb_words_question1+nb_common_words/nb_words_question2+nb_words_question1-common_words+nb_words_question2-common_words+nb_common_words/(nb_words_qu...    0.706629   \nnb_words_question2+nb_common_words+nb_common_words/nb_words_question1+nb_common_words/nb_words_question2+nb_words_question1-common_words+nb_words_question2-common_words+nb_common_words/(nb_words_qu...    0.706541   \nnb_words_question1+nb_words_question2+nb_common_words+nb_common_words/nb_words_question1+nb_common_words/nb_words_question2+nb_words_question1-common_words+nb_words_question2-common_words+nb_common...    0.706607   \n\n                                                                                                                                                                                                          logloss_classif_test  \\\nnb_words_question1                                                                                                                                                                                                   12.838098   \nnb_words_question2                                                                                                                                                                                                   12.838098   \nnb_common_words                                                                                                                                                                                                      12.838098   \nnb_common_words/nb_words_question1                                                                                                                                                                                   12.838098   \nnb_common_words/nb_words_question2                                                                                                                                                                                   12.838098   \n...                                                                                                                                                                                                                        ...   \nnb_words_question1+nb_words_question2+nb_common_words+nb_common_words/nb_words_question2+nb_words_question1-common_words+nb_words_question2-common_words+nb_common_words/(nb_words_question1+nb_words...             11.279131   \nnb_words_question1+nb_words_question2+nb_common_words/nb_words_question1+nb_common_words/nb_words_question2+nb_words_question1-common_words+nb_words_question2-common_words+nb_common_words/(nb_words...             11.568728   \nnb_words_question1+nb_common_words+nb_common_words/nb_words_question1+nb_common_words/nb_words_question2+nb_words_question1-common_words+nb_words_question2-common_words+nb_common_words/(nb_words_qu...             11.281269   \nnb_words_question2+nb_common_words+nb_common_words/nb_words_question1+nb_common_words/nb_words_question2+nb_words_question1-common_words+nb_words_question2-common_words+nb_common_words/(nb_words_qu...             11.308177   \nnb_words_question1+nb_words_question2+nb_common_words+nb_common_words/nb_words_question1+nb_common_words/nb_words_question2+nb_words_question1-common_words+nb_words_question2-common_words+nb_common...             11.282123   \n\n                                                                                                                                                                                                          logloss_proba_test  \\\nnb_words_question1                                                                                                                                                                                                  0.659876   \nnb_words_question2                                                                                                                                                                                                  0.659876   \nnb_common_words                                                                                                                                                                                                     0.659876   \nnb_common_words/nb_words_question1                                                                                                                                                                                  0.659876   \nnb_common_words/nb_words_question2                                                                                                                                                                                  0.659876   \n...                                                                                                                                                                                                                      ...   \nnb_words_question1+nb_words_question2+nb_common_words+nb_common_words/nb_words_question2+nb_words_question1-common_words+nb_words_question2-common_words+nb_common_words/(nb_words_question1+nb_words...            0.938410   \nnb_words_question1+nb_words_question2+nb_common_words/nb_words_question1+nb_common_words/nb_words_question2+nb_words_question1-common_words+nb_words_question2-common_words+nb_common_words/(nb_words...            0.670387   \nnb_words_question1+nb_common_words+nb_common_words/nb_words_question1+nb_common_words/nb_words_question2+nb_words_question1-common_words+nb_words_question2-common_words+nb_common_words/(nb_words_qu...            0.969826   \nnb_words_question2+nb_common_words+nb_common_words/nb_words_question1+nb_common_words/nb_words_question2+nb_words_question1-common_words+nb_words_question2-common_words+nb_common_words/(nb_words_qu...            0.962883   \nnb_words_question1+nb_words_question2+nb_common_words+nb_common_words/nb_words_question1+nb_common_words/nb_words_question2+nb_words_question1-common_words+nb_words_question2-common_words+nb_common...            0.971395   \n\n                                                                                                                                                                                                          accuracy_full  \\\nnb_words_question1                                                                                                                                                                                             0.630802   \nnb_words_question2                                                                                                                                                                                             0.630802   \nnb_common_words                                                                                                                                                                                                0.630802   \nnb_common_words/nb_words_question1                                                                                                                                                                             0.630802   \nnb_common_words/nb_words_question2                                                                                                                                                                             0.630802   \n...                                                                                                                                                                                                                 ...   \nnb_words_question1+nb_words_question2+nb_common_words+nb_common_words/nb_words_question2+nb_words_question1-common_words+nb_words_question2-common_words+nb_common_words/(nb_words_question1+nb_words...       0.673536   \nnb_words_question1+nb_words_question2+nb_common_words/nb_words_question1+nb_common_words/nb_words_question2+nb_words_question1-common_words+nb_words_question2-common_words+nb_common_words/(nb_words...       0.666163   \nnb_words_question1+nb_common_words+nb_common_words/nb_words_question1+nb_common_words/nb_words_question2+nb_words_question1-common_words+nb_words_question2-common_words+nb_common_words/(nb_words_qu...       0.673190   \nnb_words_question2+nb_common_words+nb_common_words/nb_words_question1+nb_common_words/nb_words_question2+nb_words_question1-common_words+nb_words_question2-common_words+nb_common_words/(nb_words_qu...       0.672589   \nnb_words_question1+nb_words_question2+nb_common_words+nb_common_words/nb_words_question1+nb_common_words/nb_words_question2+nb_words_question1-common_words+nb_words_question2-common_words+nb_common...       0.673220   \n\n                                                                                                                                                                                                          score_full  \\\nnb_words_question1                                                                                                                                                                                          0.642096   \nnb_words_question2                                                                                                                                                                                          0.642096   \nnb_common_words                                                                                                                                                                                             0.642096   \nnb_common_words/nb_words_question1                                                                                                                                                                          0.642096   \nnb_common_words/nb_words_question2                                                                                                                                                                          0.642096   \n...                                                                                                                                                                                                              ...   \nnb_words_question1+nb_words_question2+nb_common_words+nb_common_words/nb_words_question2+nb_words_question1-common_words+nb_words_question2-common_words+nb_common_words/(nb_words_question1+nb_words...    0.707563   \nnb_words_question1+nb_words_question2+nb_common_words/nb_words_question1+nb_common_words/nb_words_question2+nb_words_question1-common_words+nb_words_question2-common_words+nb_common_words/(nb_words...    0.703846   \nnb_words_question1+nb_common_words+nb_common_words/nb_words_question1+nb_common_words/nb_words_question2+nb_words_question1-common_words+nb_words_question2-common_words+nb_common_words/(nb_words_qu...    0.706720   \nnb_words_question2+nb_common_words+nb_common_words/nb_words_question1+nb_common_words/nb_words_question2+nb_words_question1-common_words+nb_words_question2-common_words+nb_common_words/(nb_words_qu...    0.706776   \nnb_words_question1+nb_words_question2+nb_common_words+nb_common_words/nb_words_question1+nb_common_words/nb_words_question2+nb_words_question1-common_words+nb_words_question2-common_words+nb_common...    0.706756   \n\n                                                                                                                                                                                                          logloss_classif_full  \\\nnb_words_question1                                                                                                                                                                                                   12.751642   \nnb_words_question2                                                                                                                                                                                                   12.751642   \nnb_common_words                                                                                                                                                                                                      12.751642   \nnb_common_words/nb_words_question1                                                                                                                                                                                   12.751642   \nnb_common_words/nb_words_question2                                                                                                                                                                                   12.751642   \n...                                                                                                                                                                                                                        ...   \nnb_words_question1+nb_words_question2+nb_common_words+nb_common_words/nb_words_question2+nb_words_question1-common_words+nb_words_question2-common_words+nb_common_words/(nb_words_question1+nb_words...             11.275799   \nnb_words_question1+nb_words_question2+nb_common_words/nb_words_question1+nb_common_words/nb_words_question2+nb_words_question1-common_words+nb_words_question2-common_words+nb_common_words/(nb_words...             11.530456   \nnb_words_question1+nb_common_words+nb_common_words/nb_words_question1+nb_common_words/nb_words_question2+nb_words_question1-common_words+nb_words_question2-common_words+nb_common_words/(nb_words_qu...             11.287762   \nnb_words_question2+nb_common_words+nb_common_words/nb_words_question1+nb_common_words/nb_words_question2+nb_words_question1-common_words+nb_words_question2-common_words+nb_common_words/(nb_words_qu...             11.308519   \nnb_words_question1+nb_words_question2+nb_common_words+nb_common_words/nb_words_question1+nb_common_words/nb_words_question2+nb_words_question1-common_words+nb_words_question2-common_words+nb_common...             11.286737   \n\n                                                                                                                                                                                                          logloss_proba_full  \nnb_words_question1                                                                                                                                                                                                  0.658527  \nnb_words_question2                                                                                                                                                                                                  0.658527  \nnb_common_words                                                                                                                                                                                                     0.658527  \nnb_common_words/nb_words_question1                                                                                                                                                                                  0.658527  \nnb_common_words/nb_words_question2                                                                                                                                                                                  0.658527  \n...                                                                                                                                                                                                                      ...  \nnb_words_question1+nb_words_question2+nb_common_words+nb_common_words/nb_words_question2+nb_words_question1-common_words+nb_words_question2-common_words+nb_common_words/(nb_words_question1+nb_words...            0.936413  \nnb_words_question1+nb_words_question2+nb_common_words/nb_words_question1+nb_common_words/nb_words_question2+nb_words_question1-common_words+nb_words_question2-common_words+nb_common_words/(nb_words...            0.668555  \nnb_words_question1+nb_common_words+nb_common_words/nb_words_question1+nb_common_words/nb_words_question2+nb_words_question1-common_words+nb_words_question2-common_words+nb_common_words/(nb_words_qu...            0.967807  \nnb_words_question2+nb_common_words+nb_common_words/nb_words_question1+nb_common_words/nb_words_question2+nb_words_question1-common_words+nb_words_question2-common_words+nb_common_words/(nb_words_qu...            0.961521  \nnb_words_question1+nb_words_question2+nb_common_words+nb_common_words/nb_words_question1+nb_common_words/nb_words_question2+nb_words_question1-common_words+nb_words_question2-common_words+nb_common...            0.969550  \n\n[255 rows x 8 columns]",
      "text/html": "<div>\n<style scoped>\n    .dataframe tbody tr th:only-of-type {\n        vertical-align: middle;\n    }\n\n    .dataframe tbody tr th {\n        vertical-align: top;\n    }\n\n    .dataframe thead th {\n        text-align: right;\n    }\n</style>\n<table border=\"1\" class=\"dataframe\">\n  <thead>\n    <tr style=\"text-align: right;\">\n      <th></th>\n      <th>accuracy_test</th>\n      <th>score_test</th>\n      <th>logloss_classif_test</th>\n      <th>logloss_proba_test</th>\n      <th>accuracy_full</th>\n      <th>score_full</th>\n      <th>logloss_classif_full</th>\n      <th>logloss_proba_full</th>\n    </tr>\n  </thead>\n  <tbody>\n    <tr>\n      <th>nb_words_question1</th>\n      <td>0.628299</td>\n      <td>0.640531</td>\n      <td>12.838098</td>\n      <td>0.659876</td>\n      <td>0.630802</td>\n      <td>0.642096</td>\n      <td>12.751642</td>\n      <td>0.658527</td>\n    </tr>\n    <tr>\n      <th>nb_words_question2</th>\n      <td>0.628299</td>\n      <td>0.640531</td>\n      <td>12.838098</td>\n      <td>0.659876</td>\n      <td>0.630802</td>\n      <td>0.642096</td>\n      <td>12.751642</td>\n      <td>0.658527</td>\n    </tr>\n    <tr>\n      <th>nb_common_words</th>\n      <td>0.628299</td>\n      <td>0.640531</td>\n      <td>12.838098</td>\n      <td>0.659876</td>\n      <td>0.630802</td>\n      <td>0.642096</td>\n      <td>12.751642</td>\n      <td>0.658527</td>\n    </tr>\n    <tr>\n      <th>nb_common_words/nb_words_question1</th>\n      <td>0.628299</td>\n      <td>0.640531</td>\n      <td>12.838098</td>\n      <td>0.659876</td>\n      <td>0.630802</td>\n      <td>0.642096</td>\n      <td>12.751642</td>\n      <td>0.658527</td>\n    </tr>\n    <tr>\n      <th>nb_common_words/nb_words_question2</th>\n      <td>0.628299</td>\n      <td>0.640531</td>\n      <td>12.838098</td>\n      <td>0.659876</td>\n      <td>0.630802</td>\n      <td>0.642096</td>\n      <td>12.751642</td>\n      <td>0.658527</td>\n    </tr>\n    <tr>\n      <th>...</th>\n      <td>...</td>\n      <td>...</td>\n      <td>...</td>\n      <td>...</td>\n      <td>...</td>\n      <td>...</td>\n      <td>...</td>\n      <td>...</td>\n    </tr>\n    <tr>\n      <th>nb_words_question1+nb_words_question2+nb_common_words+nb_common_words/nb_words_question2+nb_words_question1-common_words+nb_words_question2-common_words+nb_common_words/(nb_words_question1+nb_words_question2)</th>\n      <td>0.673440</td>\n      <td>0.707098</td>\n      <td>11.279131</td>\n      <td>0.938410</td>\n      <td>0.673536</td>\n      <td>0.707563</td>\n      <td>11.275799</td>\n      <td>0.936413</td>\n    </tr>\n    <tr>\n      <th>nb_words_question1+nb_words_question2+nb_common_words/nb_words_question1+nb_common_words/nb_words_question2+nb_words_question1-common_words+nb_words_question2-common_words+nb_common_words/(nb_words_question1+nb_words_question2)</th>\n      <td>0.665055</td>\n      <td>0.702758</td>\n      <td>11.568728</td>\n      <td>0.670387</td>\n      <td>0.666163</td>\n      <td>0.703846</td>\n      <td>11.530456</td>\n      <td>0.668555</td>\n    </tr>\n    <tr>\n      <th>nb_words_question1+nb_common_words+nb_common_words/nb_words_question1+nb_common_words/nb_words_question2+nb_words_question1-common_words+nb_words_question2-common_words+nb_common_words/(nb_words_question1+nb_words_question2)</th>\n      <td>0.673378</td>\n      <td>0.706629</td>\n      <td>11.281269</td>\n      <td>0.969826</td>\n      <td>0.673190</td>\n      <td>0.706720</td>\n      <td>11.287762</td>\n      <td>0.967807</td>\n    </tr>\n    <tr>\n      <th>nb_words_question2+nb_common_words+nb_common_words/nb_words_question1+nb_common_words/nb_words_question2+nb_words_question1-common_words+nb_words_question2-common_words+nb_common_words/(nb_words_question1+nb_words_question2)</th>\n      <td>0.672599</td>\n      <td>0.706541</td>\n      <td>11.308177</td>\n      <td>0.962883</td>\n      <td>0.672589</td>\n      <td>0.706776</td>\n      <td>11.308519</td>\n      <td>0.961521</td>\n    </tr>\n    <tr>\n      <th>nb_words_question1+nb_words_question2+nb_common_words+nb_common_words/nb_words_question1+nb_common_words/nb_words_question2+nb_words_question1-common_words+nb_words_question2-common_words+nb_common_words/(nb_words_question1+nb_words_question2)</th>\n      <td>0.673353</td>\n      <td>0.706607</td>\n      <td>11.282123</td>\n      <td>0.971395</td>\n      <td>0.673220</td>\n      <td>0.706756</td>\n      <td>11.286737</td>\n      <td>0.969550</td>\n    </tr>\n  </tbody>\n</table>\n<p>255 rows × 8 columns</p>\n</div>"
     },
     "metadata": {},
     "execution_count": 39
    }
   ],
   "source": [
    "model_results"
   ]
  },
  {
   "cell_type": "markdown",
   "metadata": {},
   "source": [
    "## Save training performances of all models on a convenenien Excel file"
   ]
  },
  {
   "cell_type": "code",
   "execution_count": 18,
   "metadata": {},
   "outputs": [],
   "source": [
    "\n",
    "save_models_dict_to_excel(all_models_dict)"
   ]
  },
  {
   "cell_type": "markdown",
   "metadata": {},
   "source": [
    "## Load our kaggle scores"
   ]
  },
  {
   "cell_type": "code",
   "execution_count": 19,
   "metadata": {
    "tags": []
   },
   "outputs": [
    {
     "output_type": "display_data",
     "data": {
      "text/plain": "<IPython.core.display.HTML object>",
      "text/html": "<b>Load all Kaggle submissions</b>"
     },
     "metadata": {
      "text/html": {
       "isolated": true
      }
     }
    },
    {
     "output_type": "display_data",
     "data": {
      "text/plain": "<IPython.core.display.HTML object>",
      "text/html": "<HR>"
     },
     "metadata": {
      "text/html": {
       "isolated": true
      }
     }
    },
    {
     "output_type": "display_data",
     "data": {
      "text/plain": "<IPython.core.display.HTML object>",
      "text/html": "<span style=\"color:LIMEGREEN\"><small>All submissions are available in .csv&nbsp;&nbsp;format with /SAPDevelop/QuoraPairs/multinomial_naivebayes_unbalanced/multinomial_naivebayes_unbalanced_submissions.csv</small></span>"
     },
     "metadata": {
      "text/html": {
       "isolated": true
      }
     }
    },
    {
     "output_type": "display_data",
     "data": {
      "text/plain": "<IPython.core.display.HTML object>",
      "text/html": "<span style=\"color:LIMEGREEN\"><small>All submissions are available in .xlsx format with /SAPDevelop/QuoraPairs/multinomial_naivebayes_unbalanced/multinomial_naivebayes_unbalanced_submissions.xlsx</small></span>"
     },
     "metadata": {
      "text/html": {
       "isolated": true
      }
     }
    }
   ],
   "source": [
    "all_submissions = load_kaggle_submissions()\n"
   ]
  },
  {
   "cell_type": "code",
   "execution_count": 27,
   "metadata": {},
   "outputs": [
    {
     "output_type": "execute_result",
     "data": {
      "text/plain": "                 date  publicScore  privateScore  \\\n0 2020-09-10 21:24:17      0.49314       0.49464   \n1 2020-09-10 21:24:02      0.49074       0.49211   \n2 2020-09-10 21:23:42      0.49432       0.49583   \n\n                                                                                                                                                                                               description  \\\n0  /SAPDevelop/QuoraPairs/multinomial_naivebayes_unbalanced/multinomial_naivebayes_unbalanced!logloss_proba!test!nb_common_words_div_nb_words_question2+nb_words_question1-common_words+nb_words_questi...   \n1  /SAPDevelop/QuoraPairs/multinomial_naivebayes_unbalanced/multinomial_naivebayes_unbalanced!logloss_proba!test!nb_common_words_div_nb_words_question1+nb_words_question1-common_words+nb_words_questi...   \n2  /SAPDevelop/QuoraPairs/multinomial_naivebayes_unbalanced/multinomial_naivebayes_unbalanced!logloss_proba!test!nb_common_words_div_nb_words_question1+nb_common_words_div_nb_words_question2+nb_words...   \n\n                                                                                                                                                                                                  fileName  \n0  multinomial_naivebayes_unbalancedlogloss_probatestnb_common_words_div_nb_words_question2nb_words_question1-common_wordsnb_words_question2-common_wordsnb_common_words_div_(nb_words_question1nb_word...  \n1  multinomial_naivebayes_unbalancedlogloss_probatestnb_common_words_div_nb_words_question1nb_words_question1-common_wordsnb_words_question2-common_wordsnb_common_words_div_(nb_words_question1nb_word...  \n2         multinomial_naivebayes_unbalancedlogloss_probatestnb_common_words_div_nb_words_question1nb_common_words_div_nb_words_question2nb_words_question1-common_wordsnb_words_question2-common_words.zip  ",
      "text/html": "<div>\n<style scoped>\n    .dataframe tbody tr th:only-of-type {\n        vertical-align: middle;\n    }\n\n    .dataframe tbody tr th {\n        vertical-align: top;\n    }\n\n    .dataframe thead th {\n        text-align: right;\n    }\n</style>\n<table border=\"1\" class=\"dataframe\">\n  <thead>\n    <tr style=\"text-align: right;\">\n      <th></th>\n      <th>date</th>\n      <th>publicScore</th>\n      <th>privateScore</th>\n      <th>description</th>\n      <th>fileName</th>\n    </tr>\n  </thead>\n  <tbody>\n    <tr>\n      <th>0</th>\n      <td>2020-09-10 21:24:17</td>\n      <td>0.49314</td>\n      <td>0.49464</td>\n      <td>/SAPDevelop/QuoraPairs/multinomial_naivebayes_unbalanced/multinomial_naivebayes_unbalanced!logloss_proba!test!nb_common_words_div_nb_words_question2+nb_words_question1-common_words+nb_words_questi...</td>\n      <td>multinomial_naivebayes_unbalancedlogloss_probatestnb_common_words_div_nb_words_question2nb_words_question1-common_wordsnb_words_question2-common_wordsnb_common_words_div_(nb_words_question1nb_word...</td>\n    </tr>\n    <tr>\n      <th>1</th>\n      <td>2020-09-10 21:24:02</td>\n      <td>0.49074</td>\n      <td>0.49211</td>\n      <td>/SAPDevelop/QuoraPairs/multinomial_naivebayes_unbalanced/multinomial_naivebayes_unbalanced!logloss_proba!test!nb_common_words_div_nb_words_question1+nb_words_question1-common_words+nb_words_questi...</td>\n      <td>multinomial_naivebayes_unbalancedlogloss_probatestnb_common_words_div_nb_words_question1nb_words_question1-common_wordsnb_words_question2-common_wordsnb_common_words_div_(nb_words_question1nb_word...</td>\n    </tr>\n    <tr>\n      <th>2</th>\n      <td>2020-09-10 21:23:42</td>\n      <td>0.49432</td>\n      <td>0.49583</td>\n      <td>/SAPDevelop/QuoraPairs/multinomial_naivebayes_unbalanced/multinomial_naivebayes_unbalanced!logloss_proba!test!nb_common_words_div_nb_words_question1+nb_common_words_div_nb_words_question2+nb_words...</td>\n      <td>multinomial_naivebayes_unbalancedlogloss_probatestnb_common_words_div_nb_words_question1nb_common_words_div_nb_words_question2nb_words_question1-common_wordsnb_words_question2-common_words.zip</td>\n    </tr>\n  </tbody>\n</table>\n</div>"
     },
     "metadata": {},
     "execution_count": 27
    }
   ],
   "source": [
    "show_last_submissions(all_submissions)\n",
    "#show_best_submissions(all_submissions,metric='publicScore')"
   ]
  },
  {
   "cell_type": "code",
   "execution_count": 29,
   "metadata": {},
   "outputs": [
    {
     "output_type": "execute_result",
     "data": {
      "text/plain": "    privateScore                date  publicScore  \\\n15       0.35579 2020-09-08 21:51:27      0.35408   \n1        0.49211 2020-09-10 21:24:02      0.49074   \n4        0.49246 2020-09-10 21:22:42      0.49109   \n\n                                                                                                                                                                                                description  \\\n15                                                                                                                                                                                            first xgboost   \n1   /SAPDevelop/QuoraPairs/multinomial_naivebayes_unbalanced/multinomial_naivebayes_unbalanced!logloss_proba!test!nb_common_words_div_nb_words_question1+nb_words_question1-common_words+nb_words_questi...   \n4   /SAPDevelop/QuoraPairs/multinomial_naivebayes_unbalanced/multinomial_naivebayes_unbalanced!logloss_proba!full!nb_common_words_div_nb_words_question1+nb_words_question1-common_words+nb_words_questi...   \n\n                                                                                                                                                                                                   fileName  \n15                                                                                                                                                                                           simple_xgb.csv  \n1   multinomial_naivebayes_unbalancedlogloss_probatestnb_common_words_div_nb_words_question1nb_words_question1-common_wordsnb_words_question2-common_wordsnb_common_words_div_(nb_words_question1nb_word...  \n4   multinomial_naivebayes_unbalancedlogloss_probafullnb_common_words_div_nb_words_question1nb_words_question1-common_wordsnb_words_question2-common_wordsnb_common_words_div_(nb_words_question1nb_word...  ",
      "text/html": "<div>\n<style scoped>\n    .dataframe tbody tr th:only-of-type {\n        vertical-align: middle;\n    }\n\n    .dataframe tbody tr th {\n        vertical-align: top;\n    }\n\n    .dataframe thead th {\n        text-align: right;\n    }\n</style>\n<table border=\"1\" class=\"dataframe\">\n  <thead>\n    <tr style=\"text-align: right;\">\n      <th></th>\n      <th>privateScore</th>\n      <th>date</th>\n      <th>publicScore</th>\n      <th>description</th>\n      <th>fileName</th>\n    </tr>\n  </thead>\n  <tbody>\n    <tr>\n      <th>15</th>\n      <td>0.35579</td>\n      <td>2020-09-08 21:51:27</td>\n      <td>0.35408</td>\n      <td>first xgboost</td>\n      <td>simple_xgb.csv</td>\n    </tr>\n    <tr>\n      <th>1</th>\n      <td>0.49211</td>\n      <td>2020-09-10 21:24:02</td>\n      <td>0.49074</td>\n      <td>/SAPDevelop/QuoraPairs/multinomial_naivebayes_unbalanced/multinomial_naivebayes_unbalanced!logloss_proba!test!nb_common_words_div_nb_words_question1+nb_words_question1-common_words+nb_words_questi...</td>\n      <td>multinomial_naivebayes_unbalancedlogloss_probatestnb_common_words_div_nb_words_question1nb_words_question1-common_wordsnb_words_question2-common_wordsnb_common_words_div_(nb_words_question1nb_word...</td>\n    </tr>\n    <tr>\n      <th>4</th>\n      <td>0.49246</td>\n      <td>2020-09-10 21:22:42</td>\n      <td>0.49109</td>\n      <td>/SAPDevelop/QuoraPairs/multinomial_naivebayes_unbalanced/multinomial_naivebayes_unbalanced!logloss_proba!full!nb_common_words_div_nb_words_question1+nb_words_question1-common_words+nb_words_questi...</td>\n      <td>multinomial_naivebayes_unbalancedlogloss_probafullnb_common_words_div_nb_words_question1nb_words_question1-common_wordsnb_words_question2-common_wordsnb_common_words_div_(nb_words_question1nb_word...</td>\n    </tr>\n  </tbody>\n</table>\n</div>"
     },
     "metadata": {},
     "execution_count": 29
    }
   ],
   "source": [
    "show_best_submissions(all_submissions,metric='privateScore')\n"
   ]
  },
  {
   "cell_type": "code",
   "execution_count": 34,
   "metadata": {},
   "outputs": [
    {
     "output_type": "execute_result",
     "data": {
      "text/plain": "    publicScore                date  privateScore  \\\n15      0.35408 2020-09-08 21:51:27       0.35579   \n1       0.49074 2020-09-10 21:24:02       0.49211   \n4       0.49109 2020-09-10 21:22:42       0.49246   \n0       0.49314 2020-09-10 21:24:17       0.49464   \n3       0.49341 2020-09-10 21:23:05       0.49490   \n\n                                                                                                                                                                                                description  \\\n15                                                                                                                                                                                            first xgboost   \n1   /SAPDevelop/QuoraPairs/multinomial_naivebayes_unbalanced/multinomial_naivebayes_unbalanced!logloss_proba!test!nb_common_words_div_nb_words_question1+nb_words_question1-common_words+nb_words_questi...   \n4   /SAPDevelop/QuoraPairs/multinomial_naivebayes_unbalanced/multinomial_naivebayes_unbalanced!logloss_proba!full!nb_common_words_div_nb_words_question1+nb_words_question1-common_words+nb_words_questi...   \n0   /SAPDevelop/QuoraPairs/multinomial_naivebayes_unbalanced/multinomial_naivebayes_unbalanced!logloss_proba!test!nb_common_words_div_nb_words_question2+nb_words_question1-common_words+nb_words_questi...   \n3   /SAPDevelop/QuoraPairs/multinomial_naivebayes_unbalanced/multinomial_naivebayes_unbalanced!logloss_proba!full!nb_common_words_div_nb_words_question2+nb_words_question1-common_words+nb_words_questi...   \n\n                                                                                                                                                                                                   fileName  \n15                                                                                                                                                                                           simple_xgb.csv  \n1   multinomial_naivebayes_unbalancedlogloss_probatestnb_common_words_div_nb_words_question1nb_words_question1-common_wordsnb_words_question2-common_wordsnb_common_words_div_(nb_words_question1nb_word...  \n4   multinomial_naivebayes_unbalancedlogloss_probafullnb_common_words_div_nb_words_question1nb_words_question1-common_wordsnb_words_question2-common_wordsnb_common_words_div_(nb_words_question1nb_word...  \n0   multinomial_naivebayes_unbalancedlogloss_probatestnb_common_words_div_nb_words_question2nb_words_question1-common_wordsnb_words_question2-common_wordsnb_common_words_div_(nb_words_question1nb_word...  \n3   multinomial_naivebayes_unbalancedlogloss_probafullnb_common_words_div_nb_words_question2nb_words_question1-common_wordsnb_words_question2-common_wordsnb_common_words_div_(nb_words_question1nb_word...  ",
      "text/html": "<div>\n<style scoped>\n    .dataframe tbody tr th:only-of-type {\n        vertical-align: middle;\n    }\n\n    .dataframe tbody tr th {\n        vertical-align: top;\n    }\n\n    .dataframe thead th {\n        text-align: right;\n    }\n</style>\n<table border=\"1\" class=\"dataframe\">\n  <thead>\n    <tr style=\"text-align: right;\">\n      <th></th>\n      <th>publicScore</th>\n      <th>date</th>\n      <th>privateScore</th>\n      <th>description</th>\n      <th>fileName</th>\n    </tr>\n  </thead>\n  <tbody>\n    <tr>\n      <th>15</th>\n      <td>0.35408</td>\n      <td>2020-09-08 21:51:27</td>\n      <td>0.35579</td>\n      <td>first xgboost</td>\n      <td>simple_xgb.csv</td>\n    </tr>\n    <tr>\n      <th>1</th>\n      <td>0.49074</td>\n      <td>2020-09-10 21:24:02</td>\n      <td>0.49211</td>\n      <td>/SAPDevelop/QuoraPairs/multinomial_naivebayes_unbalanced/multinomial_naivebayes_unbalanced!logloss_proba!test!nb_common_words_div_nb_words_question1+nb_words_question1-common_words+nb_words_questi...</td>\n      <td>multinomial_naivebayes_unbalancedlogloss_probatestnb_common_words_div_nb_words_question1nb_words_question1-common_wordsnb_words_question2-common_wordsnb_common_words_div_(nb_words_question1nb_word...</td>\n    </tr>\n    <tr>\n      <th>4</th>\n      <td>0.49109</td>\n      <td>2020-09-10 21:22:42</td>\n      <td>0.49246</td>\n      <td>/SAPDevelop/QuoraPairs/multinomial_naivebayes_unbalanced/multinomial_naivebayes_unbalanced!logloss_proba!full!nb_common_words_div_nb_words_question1+nb_words_question1-common_words+nb_words_questi...</td>\n      <td>multinomial_naivebayes_unbalancedlogloss_probafullnb_common_words_div_nb_words_question1nb_words_question1-common_wordsnb_words_question2-common_wordsnb_common_words_div_(nb_words_question1nb_word...</td>\n    </tr>\n    <tr>\n      <th>0</th>\n      <td>0.49314</td>\n      <td>2020-09-10 21:24:17</td>\n      <td>0.49464</td>\n      <td>/SAPDevelop/QuoraPairs/multinomial_naivebayes_unbalanced/multinomial_naivebayes_unbalanced!logloss_proba!test!nb_common_words_div_nb_words_question2+nb_words_question1-common_words+nb_words_questi...</td>\n      <td>multinomial_naivebayes_unbalancedlogloss_probatestnb_common_words_div_nb_words_question2nb_words_question1-common_wordsnb_words_question2-common_wordsnb_common_words_div_(nb_words_question1nb_word...</td>\n    </tr>\n    <tr>\n      <th>3</th>\n      <td>0.49341</td>\n      <td>2020-09-10 21:23:05</td>\n      <td>0.49490</td>\n      <td>/SAPDevelop/QuoraPairs/multinomial_naivebayes_unbalanced/multinomial_naivebayes_unbalanced!logloss_proba!full!nb_common_words_div_nb_words_question2+nb_words_question1-common_words+nb_words_questi...</td>\n      <td>multinomial_naivebayes_unbalancedlogloss_probafullnb_common_words_div_nb_words_question2nb_words_question1-common_wordsnb_words_question2-common_wordsnb_common_words_div_(nb_words_question1nb_word...</td>\n    </tr>\n  </tbody>\n</table>\n</div>"
     },
     "metadata": {},
     "execution_count": 34
    }
   ],
   "source": [
    "show_best_submissions(all_submissions,metric='publicScore',n=5)"
   ]
  },
  {
   "cell_type": "code",
   "execution_count": 30,
   "metadata": {
    "tags": []
   },
   "outputs": [
    {
     "output_type": "display_data",
     "data": {
      "text/plain": "<Figure size 1440x1008 with 1 Axes>",
      "image/svg+xml": "<?xml version=\"1.0\" encoding=\"utf-8\" standalone=\"no\"?>\n<!DOCTYPE svg PUBLIC \"-//W3C//DTD SVG 1.1//EN\"\n  \"http://www.w3.org/Graphics/SVG/1.1/DTD/svg11.dtd\">\n<!-- Created with matplotlib (https://matplotlib.org/) -->\n<svg height=\"999.59625pt\" version=\"1.1\" viewBox=\"0 0 1432.453125 999.59625\" width=\"1432.453125pt\" xmlns=\"http://www.w3.org/2000/svg\" xmlns:xlink=\"http://www.w3.org/1999/xlink\">\n <defs>\n  <style type=\"text/css\">\n*{stroke-linecap:butt;stroke-linejoin:round;}\n  </style>\n </defs>\n <g id=\"figure_1\">\n  <g id=\"patch_1\">\n   <path d=\"M -0 999.59625 \nL 1432.453125 999.59625 \nL 1432.453125 0 \nL -0 0 \nz\n\" style=\"fill:none;\"/>\n  </g>\n  <g id=\"axes_1\">\n   <g id=\"patch_2\">\n    <path d=\"M 40.603125 975.718125 \nL 1425.253125 975.718125 \nL 1425.253125 22.318125 \nL 40.603125 22.318125 \nz\n\" style=\"fill:#ffffff;\"/>\n   </g>\n   <g id=\"patch_3\">\n    <path clip-path=\"url(#p64fbceeeff)\" d=\"M 103.541761 975.718125 \nL 110.921501 975.718125 \nL 110.921501 958.077413 \nL 103.541761 958.077413 \nz\n\" style=\"fill:#1f77b4;\"/>\n   </g>\n   <g id=\"patch_4\">\n    <path clip-path=\"url(#p64fbceeeff)\" d=\"M 124.626732 975.718125 \nL 132.006471 975.718125 \nL 132.006471 784.096889 \nL 124.626732 784.096889 \nz\n\" style=\"fill:#1f77b4;\"/>\n   </g>\n   <g id=\"patch_5\">\n    <path clip-path=\"url(#p64fbceeeff)\" d=\"M 145.711702 975.718125 \nL 153.091442 975.718125 \nL 153.091442 67.718125 \nL 145.711702 67.718125 \nz\n\" style=\"fill:#1f77b4;\"/>\n   </g>\n   <g id=\"patch_6\">\n    <path clip-path=\"url(#p64fbceeeff)\" d=\"M 166.796672 975.718125 \nL 174.176412 975.718125 \nL 174.176412 784.096889 \nL 166.796672 784.096889 \nz\n\" style=\"fill:#1f77b4;\"/>\n   </g>\n   <g id=\"patch_7\">\n    <path clip-path=\"url(#p64fbceeeff)\" d=\"M 187.881643 975.718125 \nL 195.261382 975.718125 \nL 195.261382 665.652929 \nL 187.881643 665.652929 \nz\n\" style=\"fill:#1f77b4;\"/>\n   </g>\n   <g id=\"patch_8\">\n    <path clip-path=\"url(#p64fbceeeff)\" d=\"M 208.966613 975.718125 \nL 216.346353 975.718125 \nL 216.346353 631.692092 \nL 208.966613 631.692092 \nz\n\" style=\"fill:#1f77b4;\"/>\n   </g>\n   <g id=\"patch_9\">\n    <path clip-path=\"url(#p64fbceeeff)\" d=\"M 230.051583 975.718125 \nL 237.431323 975.718125 \nL 237.431323 603.132031 \nL 230.051583 603.132031 \nz\n\" style=\"fill:#1f77b4;\"/>\n   </g>\n   <g id=\"patch_10\">\n    <path clip-path=\"url(#p64fbceeeff)\" d=\"M 251.136554 975.718125 \nL 258.516293 975.718125 \nL 258.516293 621.309509 \nL 251.136554 621.309509 \nz\n\" style=\"fill:#1f77b4;\"/>\n   </g>\n   <g id=\"patch_11\">\n    <path clip-path=\"url(#p64fbceeeff)\" d=\"M 272.221524 975.718125 \nL 279.601263 975.718125 \nL 279.601263 651.211805 \nL 272.221524 651.211805 \nz\n\" style=\"fill:#1f77b4;\"/>\n   </g>\n   <g id=\"patch_12\">\n    <path clip-path=\"url(#p64fbceeeff)\" d=\"M 293.306494 975.718125 \nL 300.686234 975.718125 \nL 300.686234 631.692092 \nL 293.306494 631.692092 \nz\n\" style=\"fill:#1f77b4;\"/>\n   </g>\n   <g id=\"patch_13\">\n    <path clip-path=\"url(#p64fbceeeff)\" d=\"M 314.391464 975.718125 \nL 321.771204 975.718125 \nL 321.771204 621.309509 \nL 314.391464 621.309509 \nz\n\" style=\"fill:#1f77b4;\"/>\n   </g>\n   <g id=\"patch_14\">\n    <path clip-path=\"url(#p64fbceeeff)\" d=\"M 335.476435 975.718125 \nL 342.856174 975.718125 \nL 342.856174 410.58976 \nL 335.476435 410.58976 \nz\n\" style=\"fill:#1f77b4;\"/>\n   </g>\n   <g id=\"patch_15\">\n    <path clip-path=\"url(#p64fbceeeff)\" d=\"M 356.561405 975.718125 \nL 363.941145 975.718125 \nL 363.941145 511.289539 \nL 356.561405 511.289539 \nz\n\" style=\"fill:#1f77b4;\"/>\n   </g>\n   <g id=\"patch_16\">\n    <path clip-path=\"url(#p64fbceeeff)\" d=\"M 377.646375 975.718125 \nL 385.026115 975.718125 \nL 385.026115 396.124758 \nL 377.646375 396.124758 \nz\n\" style=\"fill:#1f77b4;\"/>\n   </g>\n   <g id=\"patch_17\">\n    <path clip-path=\"url(#p64fbceeeff)\" d=\"M 398.731346 975.718125 \nL 406.111085 975.718125 \nL 406.111085 410.58976 \nL 398.731346 410.58976 \nz\n\" style=\"fill:#1f77b4;\"/>\n   </g>\n   <g id=\"patch_18\">\n    <path clip-path=\"url(#p64fbceeeff)\" d=\"M 419.816316 975.718125 \nL 427.196056 975.718125 \nL 427.196056 418.488762 \nL 419.816316 418.488762 \nz\n\" style=\"fill:#1f77b4;\"/>\n   </g>\n   <g id=\"patch_19\">\n    <path clip-path=\"url(#p64fbceeeff)\" d=\"M 440.901286 975.718125 \nL 448.281026 975.718125 \nL 448.281026 396.124758 \nL 440.901286 396.124758 \nz\n\" style=\"fill:#1f77b4;\"/>\n   </g>\n   <g id=\"patch_20\">\n    <path clip-path=\"url(#p64fbceeeff)\" d=\"M 461.986257 975.718125 \nL 469.365996 975.718125 \nL 469.365996 618.128705 \nL 461.986257 618.128705 \nz\n\" style=\"fill:#1f77b4;\"/>\n   </g>\n   <g id=\"patch_21\">\n    <path clip-path=\"url(#p64fbceeeff)\" d=\"M 483.071227 975.718125 \nL 490.450966 975.718125 \nL 490.450966 644.993462 \nL 483.071227 644.993462 \nz\n\" style=\"fill:#1f77b4;\"/>\n   </g>\n   <g id=\"patch_22\">\n    <path clip-path=\"url(#p64fbceeeff)\" d=\"M 504.156197 975.718125 \nL 511.535937 975.718125 \nL 511.535937 643.168901 \nL 504.156197 643.168901 \nz\n\" style=\"fill:#1f77b4;\"/>\n   </g>\n   <g id=\"patch_23\">\n    <path clip-path=\"url(#p64fbceeeff)\" d=\"M 525.241167 975.718125 \nL 532.620907 975.718125 \nL 532.620907 783.558531 \nL 525.241167 783.558531 \nz\n\" style=\"fill:#1f77b4;\"/>\n   </g>\n   <g id=\"patch_24\">\n    <path clip-path=\"url(#p64fbceeeff)\" d=\"M 546.326138 975.718125 \nL 553.705877 975.718125 \nL 553.705877 784.08893 \nL 546.326138 784.08893 \nz\n\" style=\"fill:#1f77b4;\"/>\n   </g>\n   <g id=\"patch_25\">\n    <path clip-path=\"url(#p64fbceeeff)\" d=\"M 567.411108 975.718125 \nL 574.790848 975.718125 \nL 574.790848 783.920195 \nL 567.411108 783.920195 \nz\n\" style=\"fill:#1f77b4;\"/>\n   </g>\n   <g id=\"patch_26\">\n    <path clip-path=\"url(#p64fbceeeff)\" d=\"M 588.496078 975.718125 \nL 595.875818 975.718125 \nL 595.875818 644.855291 \nL 588.496078 644.855291 \nz\n\" style=\"fill:#1f77b4;\"/>\n   </g>\n   <g id=\"patch_27\">\n    <path clip-path=\"url(#p64fbceeeff)\" d=\"M 609.581049 975.718125 \nL 616.960788 975.718125 \nL 616.960788 646.82439 \nL 609.581049 646.82439 \nz\n\" style=\"fill:#1f77b4;\"/>\n   </g>\n   <g id=\"patch_28\">\n    <path clip-path=\"url(#p64fbceeeff)\" d=\"M 630.666019 975.718125 \nL 638.045759 975.718125 \nL 638.045759 644.469749 \nL 630.666019 644.469749 \nz\n\" style=\"fill:#1f77b4;\"/>\n   </g>\n   <g id=\"patch_29\">\n    <path clip-path=\"url(#p64fbceeeff)\" d=\"M 651.750989 975.718125 \nL 659.130729 975.718125 \nL 659.130729 647.089272 \nL 651.750989 647.089272 \nz\n\" style=\"fill:#1f77b4;\"/>\n   </g>\n   <g id=\"patch_30\">\n    <path clip-path=\"url(#p64fbceeeff)\" d=\"M 672.83596 975.718125 \nL 680.215699 975.718125 \nL 680.215699 645.208997 \nL 672.83596 645.208997 \nz\n\" style=\"fill:#1f77b4;\"/>\n   </g>\n   <g id=\"patch_31\">\n    <path clip-path=\"url(#p64fbceeeff)\" d=\"M 693.92093 975.718125 \nL 701.30067 975.718125 \nL 701.30067 646.82439 \nL 693.92093 646.82439 \nz\n\" style=\"fill:#1f77b4;\"/>\n   </g>\n   <g id=\"patch_32\">\n    <path clip-path=\"url(#p64fbceeeff)\" d=\"M 715.0059 975.718125 \nL 722.38564 975.718125 \nL 722.38564 644.855291 \nL 715.0059 644.855291 \nz\n\" style=\"fill:#1f77b4;\"/>\n   </g>\n   <g id=\"patch_33\">\n    <path clip-path=\"url(#p64fbceeeff)\" d=\"M 736.090871 975.718125 \nL 743.47061 975.718125 \nL 743.47061 646.783958 \nL 736.090871 646.783958 \nz\n\" style=\"fill:#1f77b4;\"/>\n   </g>\n   <g id=\"patch_34\">\n    <path clip-path=\"url(#p64fbceeeff)\" d=\"M 757.175841 975.718125 \nL 764.55558 975.718125 \nL 764.55558 644.244663 \nL 757.175841 644.244663 \nz\n\" style=\"fill:#1f77b4;\"/>\n   </g>\n   <g id=\"patch_35\">\n    <path clip-path=\"url(#p64fbceeeff)\" d=\"M 778.260811 975.718125 \nL 785.640551 975.718125 \nL 785.640551 647.089272 \nL 778.260811 647.089272 \nz\n\" style=\"fill:#1f77b4;\"/>\n   </g>\n   <g id=\"patch_36\">\n    <path clip-path=\"url(#p64fbceeeff)\" d=\"M 799.345781 975.718125 \nL 806.725521 975.718125 \nL 806.725521 644.855291 \nL 799.345781 644.855291 \nz\n\" style=\"fill:#1f77b4;\"/>\n   </g>\n   <g id=\"patch_37\">\n    <path clip-path=\"url(#p64fbceeeff)\" d=\"M 820.430752 975.718125 \nL 827.810491 975.718125 \nL 827.810491 646.783958 \nL 820.430752 646.783958 \nz\n\" style=\"fill:#1f77b4;\"/>\n   </g>\n   <g id=\"patch_38\">\n    <path clip-path=\"url(#p64fbceeeff)\" d=\"M 841.515722 975.718125 \nL 848.895462 975.718125 \nL 848.895462 784.096889 \nL 841.515722 784.096889 \nz\n\" style=\"fill:#1f77b4;\"/>\n   </g>\n   <g id=\"patch_39\">\n    <path clip-path=\"url(#p64fbceeeff)\" d=\"M 862.600692 975.718125 \nL 869.980432 975.718125 \nL 869.980432 784.096889 \nL 862.600692 784.096889 \nz\n\" style=\"fill:#1f77b4;\"/>\n   </g>\n   <g id=\"patch_40\">\n    <path clip-path=\"url(#p64fbceeeff)\" d=\"M 883.685663 975.718125 \nL 891.065402 975.718125 \nL 891.065402 784.096889 \nL 883.685663 784.096889 \nz\n\" style=\"fill:#1f77b4;\"/>\n   </g>\n   <g id=\"patch_41\">\n    <path clip-path=\"url(#p64fbceeeff)\" d=\"M 904.770633 975.718125 \nL 912.150373 975.718125 \nL 912.150373 950.286338 \nL 904.770633 950.286338 \nz\n\" style=\"fill:#1f77b4;\"/>\n   </g>\n   <g id=\"patch_42\">\n    <path clip-path=\"url(#p64fbceeeff)\" d=\"M 925.855603 975.718125 \nL 933.235343 975.718125 \nL 933.235343 950.409546 \nL 925.855603 950.409546 \nz\n\" style=\"fill:#1f77b4;\"/>\n   </g>\n   <g id=\"patch_43\">\n    <path clip-path=\"url(#p64fbceeeff)\" d=\"M 946.940574 975.718125 \nL 954.320313 975.718125 \nL 954.320313 949.777269 \nL 946.940574 949.777269 \nz\n\" style=\"fill:#1f77b4;\"/>\n   </g>\n   <g id=\"patch_44\">\n    <path clip-path=\"url(#p64fbceeeff)\" d=\"M 968.025544 975.718125 \nL 975.405284 975.718125 \nL 975.405284 959.731011 \nL 968.025544 959.731011 \nz\n\" style=\"fill:#1f77b4;\"/>\n   </g>\n   <g id=\"patch_45\">\n    <path clip-path=\"url(#p64fbceeeff)\" d=\"M 989.110514 975.718125 \nL 996.490254 975.718125 \nL 996.490254 959.648872 \nL 989.110514 959.648872 \nz\n\" style=\"fill:#1f77b4;\"/>\n   </g>\n   <g id=\"patch_46\">\n    <path clip-path=\"url(#p64fbceeeff)\" d=\"M 1010.195485 975.718125 \nL 1017.575224 975.718125 \nL 1017.575224 959.681664 \nL 1010.195485 959.681664 \nz\n\" style=\"fill:#1f77b4;\"/>\n   </g>\n   <g id=\"patch_47\">\n    <path clip-path=\"url(#p64fbceeeff)\" d=\"M 1031.280455 975.718125 \nL 1038.660194 975.718125 \nL 1038.660194 964.445389 \nL 1031.280455 964.445389 \nz\n\" style=\"fill:#1f77b4;\"/>\n   </g>\n   <g id=\"patch_48\">\n    <path clip-path=\"url(#p64fbceeeff)\" d=\"M 1052.365425 975.718125 \nL 1059.745165 975.718125 \nL 1059.745165 959.681664 \nL 1052.365425 959.681664 \nz\n\" style=\"fill:#1f77b4;\"/>\n   </g>\n   <g id=\"patch_49\">\n    <path clip-path=\"url(#p64fbceeeff)\" d=\"M 1073.450395 975.718125 \nL 1080.830135 975.718125 \nL 1080.830135 950.409546 \nL 1073.450395 950.409546 \nz\n\" style=\"fill:#1f77b4;\"/>\n   </g>\n   <g id=\"patch_50\">\n    <path clip-path=\"url(#p64fbceeeff)\" d=\"M 1094.535366 975.718125 \nL 1101.915105 975.718125 \nL 1101.915105 950.290477 \nL 1094.535366 950.290477 \nz\n\" style=\"fill:#1f77b4;\"/>\n   </g>\n   <g id=\"patch_51\">\n    <path clip-path=\"url(#p64fbceeeff)\" d=\"M 1115.620336 975.718125 \nL 1123.000076 975.718125 \nL 1123.000076 951.004892 \nL 1115.620336 951.004892 \nz\n\" style=\"fill:#1f77b4;\"/>\n   </g>\n   <g id=\"patch_52\">\n    <path clip-path=\"url(#p64fbceeeff)\" d=\"M 1136.705306 975.718125 \nL 1144.085046 975.718125 \nL 1144.085046 951.009349 \nL 1136.705306 951.009349 \nz\n\" style=\"fill:#1f77b4;\"/>\n   </g>\n   <g id=\"patch_53\">\n    <path clip-path=\"url(#p64fbceeeff)\" d=\"M 1157.790277 975.718125 \nL 1165.170016 975.718125 \nL 1165.170016 950.409546 \nL 1157.790277 950.409546 \nz\n\" style=\"fill:#1f77b4;\"/>\n   </g>\n   <g id=\"patch_54\">\n    <path clip-path=\"url(#p64fbceeeff)\" d=\"M 1178.875247 975.718125 \nL 1186.254987 975.718125 \nL 1186.254987 950.290477 \nL 1178.875247 950.290477 \nz\n\" style=\"fill:#1f77b4;\"/>\n   </g>\n   <g id=\"patch_55\">\n    <path clip-path=\"url(#p64fbceeeff)\" d=\"M 1199.960217 975.718125 \nL 1207.339957 975.718125 \nL 1207.339957 959.681664 \nL 1199.960217 959.681664 \nz\n\" style=\"fill:#1f77b4;\"/>\n   </g>\n   <g id=\"patch_56\">\n    <path clip-path=\"url(#p64fbceeeff)\" d=\"M 1221.045188 975.718125 \nL 1228.424927 975.718125 \nL 1228.424927 959.694399 \nL 1221.045188 959.694399 \nz\n\" style=\"fill:#1f77b4;\"/>\n   </g>\n   <g id=\"patch_57\">\n    <path clip-path=\"url(#p64fbceeeff)\" d=\"M 1242.130158 975.718125 \nL 1249.509897 975.718125 \nL 1249.509897 959.97106 \nL 1242.130158 959.97106 \nz\n\" style=\"fill:#1f77b4;\"/>\n   </g>\n   <g id=\"patch_58\">\n    <path clip-path=\"url(#p64fbceeeff)\" d=\"M 1263.215128 975.718125 \nL 1270.594868 975.718125 \nL 1270.594868 960.083443 \nL 1263.215128 960.083443 \nz\n\" style=\"fill:#1f77b4;\"/>\n   </g>\n   <g id=\"patch_59\">\n    <path clip-path=\"url(#p64fbceeeff)\" d=\"M 1284.300099 975.718125 \nL 1291.679838 975.718125 \nL 1291.679838 960.009582 \nL 1284.300099 960.009582 \nz\n\" style=\"fill:#1f77b4;\"/>\n   </g>\n   <g id=\"patch_60\">\n    <path clip-path=\"url(#p64fbceeeff)\" d=\"M 1305.385069 975.718125 \nL 1312.764808 975.718125 \nL 1312.764808 959.980611 \nL 1305.385069 959.980611 \nz\n\" style=\"fill:#1f77b4;\"/>\n   </g>\n   <g id=\"patch_61\">\n    <path clip-path=\"url(#p64fbceeeff)\" d=\"M 1326.470039 975.718125 \nL 1333.849779 975.718125 \nL 1333.849779 960.094586 \nL 1326.470039 960.094586 \nz\n\" style=\"fill:#1f77b4;\"/>\n   </g>\n   <g id=\"patch_62\">\n    <path clip-path=\"url(#p64fbceeeff)\" d=\"M 1347.555009 975.718125 \nL 1354.934749 975.718125 \nL 1354.934749 960.018178 \nL 1347.555009 960.018178 \nz\n\" style=\"fill:#1f77b4;\"/>\n   </g>\n   <g id=\"patch_63\">\n    <path clip-path=\"url(#p64fbceeeff)\" d=\"M 110.921501 975.718125 \nL 118.301241 975.718125 \nL 118.301241 958.040801 \nL 110.921501 958.040801 \nz\n\" style=\"fill:#ff7f0e;\"/>\n   </g>\n   <g id=\"patch_64\">\n    <path clip-path=\"url(#p64fbceeeff)\" d=\"M 132.006471 975.718125 \nL 139.386211 975.718125 \nL 139.386211 781.740974 \nL 132.006471 781.740974 \nz\n\" style=\"fill:#ff7f0e;\"/>\n   </g>\n   <g id=\"patch_65\">\n    <path clip-path=\"url(#p64fbceeeff)\" d=\"M 153.091442 975.718125 \nL 160.471181 975.718125 \nL 160.471181 70.074359 \nL 153.091442 70.074359 \nz\n\" style=\"fill:#ff7f0e;\"/>\n   </g>\n   <g id=\"patch_66\">\n    <path clip-path=\"url(#p64fbceeeff)\" d=\"M 174.176412 975.718125 \nL 181.556151 975.718125 \nL 181.556151 781.740974 \nL 174.176412 781.740974 \nz\n\" style=\"fill:#ff7f0e;\"/>\n   </g>\n   <g id=\"patch_67\">\n    <path clip-path=\"url(#p64fbceeeff)\" d=\"M 195.261382 975.718125 \nL 202.641122 975.718125 \nL 202.641122 664.761183 \nL 195.261382 664.761183 \nz\n\" style=\"fill:#ff7f0e;\"/>\n   </g>\n   <g id=\"patch_68\">\n    <path clip-path=\"url(#p64fbceeeff)\" d=\"M 216.346353 975.718125 \nL 223.726092 975.718125 \nL 223.726092 630.607097 \nL 216.346353 630.607097 \nz\n\" style=\"fill:#ff7f0e;\"/>\n   </g>\n   <g id=\"patch_69\">\n    <path clip-path=\"url(#p64fbceeeff)\" d=\"M 237.431323 975.718125 \nL 244.811062 975.718125 \nL 244.811062 602.524269 \nL 237.431323 602.524269 \nz\n\" style=\"fill:#ff7f0e;\"/>\n   </g>\n   <g id=\"patch_70\">\n    <path clip-path=\"url(#p64fbceeeff)\" d=\"M 258.516293 975.718125 \nL 265.896033 975.718125 \nL 265.896033 620.408213 \nL 258.516293 620.408213 \nz\n\" style=\"fill:#ff7f0e;\"/>\n   </g>\n   <g id=\"patch_71\">\n    <path clip-path=\"url(#p64fbceeeff)\" d=\"M 279.601263 975.718125 \nL 286.981003 975.718125 \nL 286.981003 649.348085 \nL 279.601263 649.348085 \nz\n\" style=\"fill:#ff7f0e;\"/>\n   </g>\n   <g id=\"patch_72\">\n    <path clip-path=\"url(#p64fbceeeff)\" d=\"M 300.686234 975.718125 \nL 308.065973 975.718125 \nL 308.065973 630.607097 \nL 300.686234 630.607097 \nz\n\" style=\"fill:#ff7f0e;\"/>\n   </g>\n   <g id=\"patch_73\">\n    <path clip-path=\"url(#p64fbceeeff)\" d=\"M 321.771204 975.718125 \nL 329.150944 975.718125 \nL 329.150944 620.408213 \nL 321.771204 620.408213 \nz\n\" style=\"fill:#ff7f0e;\"/>\n   </g>\n   <g id=\"patch_74\">\n    <path clip-path=\"url(#p64fbceeeff)\" d=\"M 342.856174 975.718125 \nL 350.235914 975.718125 \nL 350.235914 410.476103 \nL 342.856174 410.476103 \nz\n\" style=\"fill:#ff7f0e;\"/>\n   </g>\n   <g id=\"patch_75\">\n    <path clip-path=\"url(#p64fbceeeff)\" d=\"M 363.941145 975.718125 \nL 371.320884 975.718125 \nL 371.320884 510.423581 \nL 363.941145 510.423581 \nz\n\" style=\"fill:#ff7f0e;\"/>\n   </g>\n   <g id=\"patch_76\">\n    <path clip-path=\"url(#p64fbceeeff)\" d=\"M 385.026115 975.718125 \nL 392.405855 975.718125 \nL 392.405855 396.884382 \nL 385.026115 396.884382 \nz\n\" style=\"fill:#ff7f0e;\"/>\n   </g>\n   <g id=\"patch_77\">\n    <path clip-path=\"url(#p64fbceeeff)\" d=\"M 406.111085 975.718125 \nL 413.490825 975.718125 \nL 413.490825 410.476103 \nL 406.111085 410.476103 \nz\n\" style=\"fill:#ff7f0e;\"/>\n   </g>\n   <g id=\"patch_78\">\n    <path clip-path=\"url(#p64fbceeeff)\" d=\"M 427.196056 975.718125 \nL 434.575795 975.718125 \nL 434.575795 418.035089 \nL 427.196056 418.035089 \nz\n\" style=\"fill:#ff7f0e;\"/>\n   </g>\n   <g id=\"patch_79\">\n    <path clip-path=\"url(#p64fbceeeff)\" d=\"M 448.281026 975.718125 \nL 455.660765 975.718125 \nL 455.660765 396.884382 \nL 448.281026 396.884382 \nz\n\" style=\"fill:#ff7f0e;\"/>\n   </g>\n   <g id=\"patch_80\">\n    <path clip-path=\"url(#p64fbceeeff)\" d=\"M 469.365996 975.718125 \nL 476.745736 975.718125 \nL 476.745736 617.341702 \nL 469.365996 617.341702 \nz\n\" style=\"fill:#ff7f0e;\"/>\n   </g>\n   <g id=\"patch_81\">\n    <path clip-path=\"url(#p64fbceeeff)\" d=\"M 490.450966 975.718125 \nL 497.830706 975.718125 \nL 497.830706 643.563995 \nL 490.450966 643.563995 \nz\n\" style=\"fill:#ff7f0e;\"/>\n   </g>\n   <g id=\"patch_82\">\n    <path clip-path=\"url(#p64fbceeeff)\" d=\"M 511.535937 975.718125 \nL 518.915676 975.718125 \nL 518.915676 642.139939 \nL 511.535937 642.139939 \nz\n\" style=\"fill:#ff7f0e;\"/>\n   </g>\n   <g id=\"patch_83\">\n    <path clip-path=\"url(#p64fbceeeff)\" d=\"M 532.620907 975.718125 \nL 540.000647 975.718125 \nL 540.000647 781.191472 \nL 532.620907 781.191472 \nz\n\" style=\"fill:#ff7f0e;\"/>\n   </g>\n   <g id=\"patch_84\">\n    <path clip-path=\"url(#p64fbceeeff)\" d=\"M 553.705877 975.718125 \nL 561.085617 975.718125 \nL 561.085617 781.732378 \nL 553.705877 781.732378 \nz\n\" style=\"fill:#ff7f0e;\"/>\n   </g>\n   <g id=\"patch_85\">\n    <path clip-path=\"url(#p64fbceeeff)\" d=\"M 574.790848 975.718125 \nL 582.170587 975.718125 \nL 582.170587 781.563325 \nL 574.790848 781.563325 \nz\n\" style=\"fill:#ff7f0e;\"/>\n   </g>\n   <g id=\"patch_86\">\n    <path clip-path=\"url(#p64fbceeeff)\" d=\"M 595.875818 975.718125 \nL 603.255558 975.718125 \nL 603.255558 642.433155 \nL 595.875818 642.433155 \nz\n\" style=\"fill:#ff7f0e;\"/>\n   </g>\n   <g id=\"patch_87\">\n    <path clip-path=\"url(#p64fbceeeff)\" d=\"M 616.960788 975.718125 \nL 624.340528 975.718125 \nL 624.340528 644.445553 \nL 616.960788 644.445553 \nz\n\" style=\"fill:#ff7f0e;\"/>\n   </g>\n   <g id=\"patch_88\">\n    <path clip-path=\"url(#p64fbceeeff)\" d=\"M 638.045759 975.718125 \nL 645.425498 975.718125 \nL 645.425498 641.948601 \nL 638.045759 641.948601 \nz\n\" style=\"fill:#ff7f0e;\"/>\n   </g>\n   <g id=\"patch_89\">\n    <path clip-path=\"url(#p64fbceeeff)\" d=\"M 659.130729 975.718125 \nL 666.510469 975.718125 \nL 666.510469 645.176523 \nL 659.130729 645.176523 \nz\n\" style=\"fill:#ff7f0e;\"/>\n   </g>\n   <g id=\"patch_90\">\n    <path clip-path=\"url(#p64fbceeeff)\" d=\"M 680.215699 975.718125 \nL 687.595439 975.718125 \nL 687.595439 643.346232 \nL 680.215699 643.346232 \nz\n\" style=\"fill:#ff7f0e;\"/>\n   </g>\n   <g id=\"patch_91\">\n    <path clip-path=\"url(#p64fbceeeff)\" d=\"M 701.30067 975.718125 \nL 708.680409 975.718125 \nL 708.680409 644.445553 \nL 701.30067 644.445553 \nz\n\" style=\"fill:#ff7f0e;\"/>\n   </g>\n   <g id=\"patch_92\">\n    <path clip-path=\"url(#p64fbceeeff)\" d=\"M 722.38564 975.718125 \nL 729.765379 975.718125 \nL 729.765379 642.437613 \nL 722.38564 642.437613 \nz\n\" style=\"fill:#ff7f0e;\"/>\n   </g>\n   <g id=\"patch_93\">\n    <path clip-path=\"url(#p64fbceeeff)\" d=\"M 743.47061 975.718125 \nL 750.85035 975.718125 \nL 750.85035 644.436638 \nL 743.47061 644.436638 \nz\n\" style=\"fill:#ff7f0e;\"/>\n   </g>\n   <g id=\"patch_94\">\n    <path clip-path=\"url(#p64fbceeeff)\" d=\"M 764.55558 975.718125 \nL 771.93532 975.718125 \nL 771.93532 641.901164 \nL 764.55558 641.901164 \nz\n\" style=\"fill:#ff7f0e;\"/>\n   </g>\n   <g id=\"patch_95\">\n    <path clip-path=\"url(#p64fbceeeff)\" d=\"M 785.640551 975.718125 \nL 793.02029 975.718125 \nL 793.02029 645.167927 \nL 785.640551 645.167927 \nz\n\" style=\"fill:#ff7f0e;\"/>\n   </g>\n   <g id=\"patch_96\">\n    <path clip-path=\"url(#p64fbceeeff)\" d=\"M 806.725521 975.718125 \nL 814.105261 975.718125 \nL 814.105261 642.437613 \nL 806.725521 642.437613 \nz\n\" style=\"fill:#ff7f0e;\"/>\n   </g>\n   <g id=\"patch_97\">\n    <path clip-path=\"url(#p64fbceeeff)\" d=\"M 827.810491 975.718125 \nL 835.190231 975.718125 \nL 835.190231 644.436638 \nL 827.810491 644.436638 \nz\n\" style=\"fill:#ff7f0e;\"/>\n   </g>\n   <g id=\"patch_98\">\n    <path clip-path=\"url(#p64fbceeeff)\" d=\"M 848.895462 975.718125 \nL 856.275201 975.718125 \nL 856.275201 781.740974 \nL 848.895462 781.740974 \nz\n\" style=\"fill:#ff7f0e;\"/>\n   </g>\n   <g id=\"patch_99\">\n    <path clip-path=\"url(#p64fbceeeff)\" d=\"M 869.980432 975.718125 \nL 877.360172 975.718125 \nL 877.360172 781.740974 \nL 869.980432 781.740974 \nz\n\" style=\"fill:#ff7f0e;\"/>\n   </g>\n   <g id=\"patch_100\">\n    <path clip-path=\"url(#p64fbceeeff)\" d=\"M 891.065402 975.718125 \nL 898.445142 975.718125 \nL 898.445142 781.740974 \nL 891.065402 781.740974 \nz\n\" style=\"fill:#ff7f0e;\"/>\n   </g>\n   <g id=\"patch_101\">\n    <path clip-path=\"url(#p64fbceeeff)\" d=\"M 912.150373 975.718125 \nL 919.530112 975.718125 \nL 919.530112 950.270419 \nL 912.150373 950.270419 \nz\n\" style=\"fill:#ff7f0e;\"/>\n   </g>\n   <g id=\"patch_102\">\n    <path clip-path=\"url(#p64fbceeeff)\" d=\"M 933.235343 975.718125 \nL 940.615083 975.718125 \nL 940.615083 950.395538 \nL 933.235343 950.395538 \nz\n\" style=\"fill:#ff7f0e;\"/>\n   </g>\n   <g id=\"patch_103\">\n    <path clip-path=\"url(#p64fbceeeff)\" d=\"M 954.320313 975.718125 \nL 961.700053 975.718125 \nL 961.700053 949.763261 \nL 954.320313 949.763261 \nz\n\" style=\"fill:#ff7f0e;\"/>\n   </g>\n   <g id=\"patch_104\">\n    <path clip-path=\"url(#p64fbceeeff)\" d=\"M 975.405284 975.718125 \nL 982.785023 975.718125 \nL 982.785023 959.695991 \nL 975.405284 959.695991 \nz\n\" style=\"fill:#ff7f0e;\"/>\n   </g>\n   <g id=\"patch_105\">\n    <path clip-path=\"url(#p64fbceeeff)\" d=\"M 996.490254 975.718125 \nL 1003.869993 975.718125 \nL 1003.869993 959.617036 \nL 996.490254 959.617036 \nz\n\" style=\"fill:#ff7f0e;\"/>\n   </g>\n   <g id=\"patch_106\">\n    <path clip-path=\"url(#p64fbceeeff)\" d=\"M 1017.575224 975.718125 \nL 1024.954964 975.718125 \nL 1024.954964 959.647599 \nL 1017.575224 959.647599 \nz\n\" style=\"fill:#ff7f0e;\"/>\n   </g>\n   <g id=\"patch_107\">\n    <path clip-path=\"url(#p64fbceeeff)\" d=\"M 1038.660194 975.718125 \nL 1046.039934 975.718125 \nL 1046.039934 964.390948 \nL 1038.660194 964.390948 \nz\n\" style=\"fill:#ff7f0e;\"/>\n   </g>\n   <g id=\"patch_108\">\n    <path clip-path=\"url(#p64fbceeeff)\" d=\"M 1059.745165 975.718125 \nL 1067.124904 975.718125 \nL 1067.124904 959.647599 \nL 1059.745165 959.647599 \nz\n\" style=\"fill:#ff7f0e;\"/>\n   </g>\n   <g id=\"patch_109\">\n    <path clip-path=\"url(#p64fbceeeff)\" d=\"M 1080.830135 975.718125 \nL 1088.209875 975.718125 \nL 1088.209875 950.395538 \nL 1080.830135 950.395538 \nz\n\" style=\"fill:#ff7f0e;\"/>\n   </g>\n   <g id=\"patch_110\">\n    <path clip-path=\"url(#p64fbceeeff)\" d=\"M 1101.915105 975.718125 \nL 1109.294845 975.718125 \nL 1109.294845 950.27424 \nL 1101.915105 950.27424 \nz\n\" style=\"fill:#ff7f0e;\"/>\n   </g>\n   <g id=\"patch_111\">\n    <path clip-path=\"url(#p64fbceeeff)\" d=\"M 1123.000076 975.718125 \nL 1130.379815 975.718125 \nL 1130.379815 950.988974 \nL 1123.000076 950.988974 \nz\n\" style=\"fill:#ff7f0e;\"/>\n   </g>\n   <g id=\"patch_112\">\n    <path clip-path=\"url(#p64fbceeeff)\" d=\"M 1144.085046 975.718125 \nL 1151.464786 975.718125 \nL 1151.464786 950.993112 \nL 1144.085046 950.993112 \nz\n\" style=\"fill:#ff7f0e;\"/>\n   </g>\n   <g id=\"patch_113\">\n    <path clip-path=\"url(#p64fbceeeff)\" d=\"M 1165.170016 975.718125 \nL 1172.549756 975.718125 \nL 1172.549756 950.395538 \nL 1165.170016 950.395538 \nz\n\" style=\"fill:#ff7f0e;\"/>\n   </g>\n   <g id=\"patch_114\">\n    <path clip-path=\"url(#p64fbceeeff)\" d=\"M 1186.254987 975.718125 \nL 1193.634726 975.718125 \nL 1193.634726 950.27424 \nL 1186.254987 950.27424 \nz\n\" style=\"fill:#ff7f0e;\"/>\n   </g>\n   <g id=\"patch_115\">\n    <path clip-path=\"url(#p64fbceeeff)\" d=\"M 1207.339957 975.718125 \nL 1214.719696 975.718125 \nL 1214.719696 959.647599 \nL 1207.339957 959.647599 \nz\n\" style=\"fill:#ff7f0e;\"/>\n   </g>\n   <g id=\"patch_116\">\n    <path clip-path=\"url(#p64fbceeeff)\" d=\"M 1228.424927 975.718125 \nL 1235.804667 975.718125 \nL 1235.804667 959.660015 \nL 1228.424927 959.660015 \nz\n\" style=\"fill:#ff7f0e;\"/>\n   </g>\n   <g id=\"patch_117\">\n    <path clip-path=\"url(#p64fbceeeff)\" d=\"M 1249.509897 975.718125 \nL 1256.889637 975.718125 \nL 1256.889637 959.923623 \nL 1249.509897 959.923623 \nz\n\" style=\"fill:#ff7f0e;\"/>\n   </g>\n   <g id=\"patch_118\">\n    <path clip-path=\"url(#p64fbceeeff)\" d=\"M 1270.594868 975.718125 \nL 1277.974607 975.718125 \nL 1277.974607 960.039827 \nL 1270.594868 960.039827 \nz\n\" style=\"fill:#ff7f0e;\"/>\n   </g>\n   <g id=\"patch_119\">\n    <path clip-path=\"url(#p64fbceeeff)\" d=\"M 1291.679838 975.718125 \nL 1299.059578 975.718125 \nL 1299.059578 959.962146 \nL 1291.679838 959.962146 \nz\n\" style=\"fill:#ff7f0e;\"/>\n   </g>\n   <g id=\"patch_120\">\n    <path clip-path=\"url(#p64fbceeeff)\" d=\"M 1312.764808 975.718125 \nL 1320.144548 975.718125 \nL 1320.144548 959.932537 \nL 1312.764808 959.932537 \nz\n\" style=\"fill:#ff7f0e;\"/>\n   </g>\n   <g id=\"patch_121\">\n    <path clip-path=\"url(#p64fbceeeff)\" d=\"M 1333.849779 975.718125 \nL 1341.229518 975.718125 \nL 1341.229518 960.05097 \nL 1333.849779 960.05097 \nz\n\" style=\"fill:#ff7f0e;\"/>\n   </g>\n   <g id=\"patch_122\">\n    <path clip-path=\"url(#p64fbceeeff)\" d=\"M 1354.934749 975.718125 \nL 1362.314489 975.718125 \nL 1362.314489 959.970423 \nL 1354.934749 959.970423 \nz\n\" style=\"fill:#ff7f0e;\"/>\n   </g>\n   <g id=\"matplotlib.axis_1\">\n    <g id=\"xtick_1\">\n     <g id=\"line2d_1\">\n      <defs>\n       <path d=\"M 0 0 \nL 0 3.5 \n\" id=\"m62b228ac97\" style=\"stroke:#000000;stroke-width:0.8;\"/>\n      </defs>\n      <g>\n       <use style=\"stroke:#000000;stroke-width:0.8;\" x=\"110.921501\" xlink:href=\"#m62b228ac97\" y=\"975.718125\"/>\n      </g>\n     </g>\n     <g id=\"text_1\">\n      <!-- 0 -->\n      <defs>\n       <path d=\"M 31.78125 66.40625 \nQ 24.171875 66.40625 20.328125 58.90625 \nQ 16.5 51.421875 16.5 36.375 \nQ 16.5 21.390625 20.328125 13.890625 \nQ 24.171875 6.390625 31.78125 6.390625 \nQ 39.453125 6.390625 43.28125 13.890625 \nQ 47.125 21.390625 47.125 36.375 \nQ 47.125 51.421875 43.28125 58.90625 \nQ 39.453125 66.40625 31.78125 66.40625 \nz\nM 31.78125 74.21875 \nQ 44.046875 74.21875 50.515625 64.515625 \nQ 56.984375 54.828125 56.984375 36.375 \nQ 56.984375 17.96875 50.515625 8.265625 \nQ 44.046875 -1.421875 31.78125 -1.421875 \nQ 19.53125 -1.421875 13.0625 8.265625 \nQ 6.59375 17.96875 6.59375 36.375 \nQ 6.59375 54.828125 13.0625 64.515625 \nQ 19.53125 74.21875 31.78125 74.21875 \nz\n\" id=\"DejaVuSans-48\"/>\n      </defs>\n      <g transform=\"translate(107.740251 990.316562)scale(0.1 -0.1)\">\n       <use xlink:href=\"#DejaVuSans-48\"/>\n      </g>\n     </g>\n    </g>\n    <g id=\"xtick_2\">\n     <g id=\"line2d_2\">\n      <g>\n       <use style=\"stroke:#000000;stroke-width:0.8;\" x=\"132.006471\" xlink:href=\"#m62b228ac97\" y=\"975.718125\"/>\n      </g>\n     </g>\n     <g id=\"text_2\">\n      <!-- 1 -->\n      <defs>\n       <path d=\"M 12.40625 8.296875 \nL 28.515625 8.296875 \nL 28.515625 63.921875 \nL 10.984375 60.40625 \nL 10.984375 69.390625 \nL 28.421875 72.90625 \nL 38.28125 72.90625 \nL 38.28125 8.296875 \nL 54.390625 8.296875 \nL 54.390625 0 \nL 12.40625 0 \nz\n\" id=\"DejaVuSans-49\"/>\n      </defs>\n      <g transform=\"translate(128.825221 990.316562)scale(0.1 -0.1)\">\n       <use xlink:href=\"#DejaVuSans-49\"/>\n      </g>\n     </g>\n    </g>\n    <g id=\"xtick_3\">\n     <g id=\"line2d_3\">\n      <g>\n       <use style=\"stroke:#000000;stroke-width:0.8;\" x=\"153.091442\" xlink:href=\"#m62b228ac97\" y=\"975.718125\"/>\n      </g>\n     </g>\n     <g id=\"text_3\">\n      <!-- 2 -->\n      <defs>\n       <path d=\"M 19.1875 8.296875 \nL 53.609375 8.296875 \nL 53.609375 0 \nL 7.328125 0 \nL 7.328125 8.296875 \nQ 12.9375 14.109375 22.625 23.890625 \nQ 32.328125 33.6875 34.8125 36.53125 \nQ 39.546875 41.84375 41.421875 45.53125 \nQ 43.3125 49.21875 43.3125 52.78125 \nQ 43.3125 58.59375 39.234375 62.25 \nQ 35.15625 65.921875 28.609375 65.921875 \nQ 23.96875 65.921875 18.8125 64.3125 \nQ 13.671875 62.703125 7.8125 59.421875 \nL 7.8125 69.390625 \nQ 13.765625 71.78125 18.9375 73 \nQ 24.125 74.21875 28.421875 74.21875 \nQ 39.75 74.21875 46.484375 68.546875 \nQ 53.21875 62.890625 53.21875 53.421875 \nQ 53.21875 48.921875 51.53125 44.890625 \nQ 49.859375 40.875 45.40625 35.40625 \nQ 44.1875 33.984375 37.640625 27.21875 \nQ 31.109375 20.453125 19.1875 8.296875 \nz\n\" id=\"DejaVuSans-50\"/>\n      </defs>\n      <g transform=\"translate(149.910192 990.316562)scale(0.1 -0.1)\">\n       <use xlink:href=\"#DejaVuSans-50\"/>\n      </g>\n     </g>\n    </g>\n    <g id=\"xtick_4\">\n     <g id=\"line2d_4\">\n      <g>\n       <use style=\"stroke:#000000;stroke-width:0.8;\" x=\"174.176412\" xlink:href=\"#m62b228ac97\" y=\"975.718125\"/>\n      </g>\n     </g>\n     <g id=\"text_4\">\n      <!-- 3 -->\n      <defs>\n       <path d=\"M 40.578125 39.3125 \nQ 47.65625 37.796875 51.625 33 \nQ 55.609375 28.21875 55.609375 21.1875 \nQ 55.609375 10.40625 48.1875 4.484375 \nQ 40.765625 -1.421875 27.09375 -1.421875 \nQ 22.515625 -1.421875 17.65625 -0.515625 \nQ 12.796875 0.390625 7.625 2.203125 \nL 7.625 11.71875 \nQ 11.71875 9.328125 16.59375 8.109375 \nQ 21.484375 6.890625 26.8125 6.890625 \nQ 36.078125 6.890625 40.9375 10.546875 \nQ 45.796875 14.203125 45.796875 21.1875 \nQ 45.796875 27.640625 41.28125 31.265625 \nQ 36.765625 34.90625 28.71875 34.90625 \nL 20.21875 34.90625 \nL 20.21875 43.015625 \nL 29.109375 43.015625 \nQ 36.375 43.015625 40.234375 45.921875 \nQ 44.09375 48.828125 44.09375 54.296875 \nQ 44.09375 59.90625 40.109375 62.90625 \nQ 36.140625 65.921875 28.71875 65.921875 \nQ 24.65625 65.921875 20.015625 65.03125 \nQ 15.375 64.15625 9.8125 62.3125 \nL 9.8125 71.09375 \nQ 15.4375 72.65625 20.34375 73.4375 \nQ 25.25 74.21875 29.59375 74.21875 \nQ 40.828125 74.21875 47.359375 69.109375 \nQ 53.90625 64.015625 53.90625 55.328125 \nQ 53.90625 49.265625 50.4375 45.09375 \nQ 46.96875 40.921875 40.578125 39.3125 \nz\n\" id=\"DejaVuSans-51\"/>\n      </defs>\n      <g transform=\"translate(170.995162 990.316562)scale(0.1 -0.1)\">\n       <use xlink:href=\"#DejaVuSans-51\"/>\n      </g>\n     </g>\n    </g>\n    <g id=\"xtick_5\">\n     <g id=\"line2d_5\">\n      <g>\n       <use style=\"stroke:#000000;stroke-width:0.8;\" x=\"195.261382\" xlink:href=\"#m62b228ac97\" y=\"975.718125\"/>\n      </g>\n     </g>\n     <g id=\"text_5\">\n      <!-- 4 -->\n      <defs>\n       <path d=\"M 37.796875 64.3125 \nL 12.890625 25.390625 \nL 37.796875 25.390625 \nz\nM 35.203125 72.90625 \nL 47.609375 72.90625 \nL 47.609375 25.390625 \nL 58.015625 25.390625 \nL 58.015625 17.1875 \nL 47.609375 17.1875 \nL 47.609375 0 \nL 37.796875 0 \nL 37.796875 17.1875 \nL 4.890625 17.1875 \nL 4.890625 26.703125 \nz\n\" id=\"DejaVuSans-52\"/>\n      </defs>\n      <g transform=\"translate(192.080132 990.316562)scale(0.1 -0.1)\">\n       <use xlink:href=\"#DejaVuSans-52\"/>\n      </g>\n     </g>\n    </g>\n    <g id=\"xtick_6\">\n     <g id=\"line2d_6\">\n      <g>\n       <use style=\"stroke:#000000;stroke-width:0.8;\" x=\"216.346353\" xlink:href=\"#m62b228ac97\" y=\"975.718125\"/>\n      </g>\n     </g>\n     <g id=\"text_6\">\n      <!-- 5 -->\n      <defs>\n       <path d=\"M 10.796875 72.90625 \nL 49.515625 72.90625 \nL 49.515625 64.59375 \nL 19.828125 64.59375 \nL 19.828125 46.734375 \nQ 21.96875 47.46875 24.109375 47.828125 \nQ 26.265625 48.1875 28.421875 48.1875 \nQ 40.625 48.1875 47.75 41.5 \nQ 54.890625 34.8125 54.890625 23.390625 \nQ 54.890625 11.625 47.5625 5.09375 \nQ 40.234375 -1.421875 26.90625 -1.421875 \nQ 22.3125 -1.421875 17.546875 -0.640625 \nQ 12.796875 0.140625 7.71875 1.703125 \nL 7.71875 11.625 \nQ 12.109375 9.234375 16.796875 8.0625 \nQ 21.484375 6.890625 26.703125 6.890625 \nQ 35.15625 6.890625 40.078125 11.328125 \nQ 45.015625 15.765625 45.015625 23.390625 \nQ 45.015625 31 40.078125 35.4375 \nQ 35.15625 39.890625 26.703125 39.890625 \nQ 22.75 39.890625 18.8125 39.015625 \nQ 14.890625 38.140625 10.796875 36.28125 \nz\n\" id=\"DejaVuSans-53\"/>\n      </defs>\n      <g transform=\"translate(213.165103 990.316562)scale(0.1 -0.1)\">\n       <use xlink:href=\"#DejaVuSans-53\"/>\n      </g>\n     </g>\n    </g>\n    <g id=\"xtick_7\">\n     <g id=\"line2d_7\">\n      <g>\n       <use style=\"stroke:#000000;stroke-width:0.8;\" x=\"237.431323\" xlink:href=\"#m62b228ac97\" y=\"975.718125\"/>\n      </g>\n     </g>\n     <g id=\"text_7\">\n      <!-- 6 -->\n      <defs>\n       <path d=\"M 33.015625 40.375 \nQ 26.375 40.375 22.484375 35.828125 \nQ 18.609375 31.296875 18.609375 23.390625 \nQ 18.609375 15.53125 22.484375 10.953125 \nQ 26.375 6.390625 33.015625 6.390625 \nQ 39.65625 6.390625 43.53125 10.953125 \nQ 47.40625 15.53125 47.40625 23.390625 \nQ 47.40625 31.296875 43.53125 35.828125 \nQ 39.65625 40.375 33.015625 40.375 \nz\nM 52.59375 71.296875 \nL 52.59375 62.3125 \nQ 48.875 64.0625 45.09375 64.984375 \nQ 41.3125 65.921875 37.59375 65.921875 \nQ 27.828125 65.921875 22.671875 59.328125 \nQ 17.53125 52.734375 16.796875 39.40625 \nQ 19.671875 43.65625 24.015625 45.921875 \nQ 28.375 48.1875 33.59375 48.1875 \nQ 44.578125 48.1875 50.953125 41.515625 \nQ 57.328125 34.859375 57.328125 23.390625 \nQ 57.328125 12.15625 50.6875 5.359375 \nQ 44.046875 -1.421875 33.015625 -1.421875 \nQ 20.359375 -1.421875 13.671875 8.265625 \nQ 6.984375 17.96875 6.984375 36.375 \nQ 6.984375 53.65625 15.1875 63.9375 \nQ 23.390625 74.21875 37.203125 74.21875 \nQ 40.921875 74.21875 44.703125 73.484375 \nQ 48.484375 72.75 52.59375 71.296875 \nz\n\" id=\"DejaVuSans-54\"/>\n      </defs>\n      <g transform=\"translate(234.250073 990.316562)scale(0.1 -0.1)\">\n       <use xlink:href=\"#DejaVuSans-54\"/>\n      </g>\n     </g>\n    </g>\n    <g id=\"xtick_8\">\n     <g id=\"line2d_8\">\n      <g>\n       <use style=\"stroke:#000000;stroke-width:0.8;\" x=\"258.516293\" xlink:href=\"#m62b228ac97\" y=\"975.718125\"/>\n      </g>\n     </g>\n     <g id=\"text_8\">\n      <!-- 7 -->\n      <defs>\n       <path d=\"M 8.203125 72.90625 \nL 55.078125 72.90625 \nL 55.078125 68.703125 \nL 28.609375 0 \nL 18.3125 0 \nL 43.21875 64.59375 \nL 8.203125 64.59375 \nz\n\" id=\"DejaVuSans-55\"/>\n      </defs>\n      <g transform=\"translate(255.335043 990.316562)scale(0.1 -0.1)\">\n       <use xlink:href=\"#DejaVuSans-55\"/>\n      </g>\n     </g>\n    </g>\n    <g id=\"xtick_9\">\n     <g id=\"line2d_9\">\n      <g>\n       <use style=\"stroke:#000000;stroke-width:0.8;\" x=\"279.601263\" xlink:href=\"#m62b228ac97\" y=\"975.718125\"/>\n      </g>\n     </g>\n     <g id=\"text_9\">\n      <!-- 8 -->\n      <defs>\n       <path d=\"M 31.78125 34.625 \nQ 24.75 34.625 20.71875 30.859375 \nQ 16.703125 27.09375 16.703125 20.515625 \nQ 16.703125 13.921875 20.71875 10.15625 \nQ 24.75 6.390625 31.78125 6.390625 \nQ 38.8125 6.390625 42.859375 10.171875 \nQ 46.921875 13.96875 46.921875 20.515625 \nQ 46.921875 27.09375 42.890625 30.859375 \nQ 38.875 34.625 31.78125 34.625 \nz\nM 21.921875 38.8125 \nQ 15.578125 40.375 12.03125 44.71875 \nQ 8.5 49.078125 8.5 55.328125 \nQ 8.5 64.0625 14.71875 69.140625 \nQ 20.953125 74.21875 31.78125 74.21875 \nQ 42.671875 74.21875 48.875 69.140625 \nQ 55.078125 64.0625 55.078125 55.328125 \nQ 55.078125 49.078125 51.53125 44.71875 \nQ 48 40.375 41.703125 38.8125 \nQ 48.828125 37.15625 52.796875 32.3125 \nQ 56.78125 27.484375 56.78125 20.515625 \nQ 56.78125 9.90625 50.3125 4.234375 \nQ 43.84375 -1.421875 31.78125 -1.421875 \nQ 19.734375 -1.421875 13.25 4.234375 \nQ 6.78125 9.90625 6.78125 20.515625 \nQ 6.78125 27.484375 10.78125 32.3125 \nQ 14.796875 37.15625 21.921875 38.8125 \nz\nM 18.3125 54.390625 \nQ 18.3125 48.734375 21.84375 45.5625 \nQ 25.390625 42.390625 31.78125 42.390625 \nQ 38.140625 42.390625 41.71875 45.5625 \nQ 45.3125 48.734375 45.3125 54.390625 \nQ 45.3125 60.0625 41.71875 63.234375 \nQ 38.140625 66.40625 31.78125 66.40625 \nQ 25.390625 66.40625 21.84375 63.234375 \nQ 18.3125 60.0625 18.3125 54.390625 \nz\n\" id=\"DejaVuSans-56\"/>\n      </defs>\n      <g transform=\"translate(276.420013 990.316562)scale(0.1 -0.1)\">\n       <use xlink:href=\"#DejaVuSans-56\"/>\n      </g>\n     </g>\n    </g>\n    <g id=\"xtick_10\">\n     <g id=\"line2d_10\">\n      <g>\n       <use style=\"stroke:#000000;stroke-width:0.8;\" x=\"300.686234\" xlink:href=\"#m62b228ac97\" y=\"975.718125\"/>\n      </g>\n     </g>\n     <g id=\"text_10\">\n      <!-- 9 -->\n      <defs>\n       <path d=\"M 10.984375 1.515625 \nL 10.984375 10.5 \nQ 14.703125 8.734375 18.5 7.8125 \nQ 22.3125 6.890625 25.984375 6.890625 \nQ 35.75 6.890625 40.890625 13.453125 \nQ 46.046875 20.015625 46.78125 33.40625 \nQ 43.953125 29.203125 39.59375 26.953125 \nQ 35.25 24.703125 29.984375 24.703125 \nQ 19.046875 24.703125 12.671875 31.3125 \nQ 6.296875 37.9375 6.296875 49.421875 \nQ 6.296875 60.640625 12.9375 67.421875 \nQ 19.578125 74.21875 30.609375 74.21875 \nQ 43.265625 74.21875 49.921875 64.515625 \nQ 56.59375 54.828125 56.59375 36.375 \nQ 56.59375 19.140625 48.40625 8.859375 \nQ 40.234375 -1.421875 26.421875 -1.421875 \nQ 22.703125 -1.421875 18.890625 -0.6875 \nQ 15.09375 0.046875 10.984375 1.515625 \nz\nM 30.609375 32.421875 \nQ 37.25 32.421875 41.125 36.953125 \nQ 45.015625 41.5 45.015625 49.421875 \nQ 45.015625 57.28125 41.125 61.84375 \nQ 37.25 66.40625 30.609375 66.40625 \nQ 23.96875 66.40625 20.09375 61.84375 \nQ 16.21875 57.28125 16.21875 49.421875 \nQ 16.21875 41.5 20.09375 36.953125 \nQ 23.96875 32.421875 30.609375 32.421875 \nz\n\" id=\"DejaVuSans-57\"/>\n      </defs>\n      <g transform=\"translate(297.504984 990.316562)scale(0.1 -0.1)\">\n       <use xlink:href=\"#DejaVuSans-57\"/>\n      </g>\n     </g>\n    </g>\n    <g id=\"xtick_11\">\n     <g id=\"line2d_11\">\n      <g>\n       <use style=\"stroke:#000000;stroke-width:0.8;\" x=\"321.771204\" xlink:href=\"#m62b228ac97\" y=\"975.718125\"/>\n      </g>\n     </g>\n     <g id=\"text_11\">\n      <!-- 10 -->\n      <g transform=\"translate(315.408704 990.316562)scale(0.1 -0.1)\">\n       <use xlink:href=\"#DejaVuSans-49\"/>\n       <use x=\"63.623047\" xlink:href=\"#DejaVuSans-48\"/>\n      </g>\n     </g>\n    </g>\n    <g id=\"xtick_12\">\n     <g id=\"line2d_12\">\n      <g>\n       <use style=\"stroke:#000000;stroke-width:0.8;\" x=\"342.856174\" xlink:href=\"#m62b228ac97\" y=\"975.718125\"/>\n      </g>\n     </g>\n     <g id=\"text_12\">\n      <!-- 11 -->\n      <g transform=\"translate(336.493674 990.316562)scale(0.1 -0.1)\">\n       <use xlink:href=\"#DejaVuSans-49\"/>\n       <use x=\"63.623047\" xlink:href=\"#DejaVuSans-49\"/>\n      </g>\n     </g>\n    </g>\n    <g id=\"xtick_13\">\n     <g id=\"line2d_13\">\n      <g>\n       <use style=\"stroke:#000000;stroke-width:0.8;\" x=\"363.941145\" xlink:href=\"#m62b228ac97\" y=\"975.718125\"/>\n      </g>\n     </g>\n     <g id=\"text_13\">\n      <!-- 12 -->\n      <g transform=\"translate(357.578645 990.316562)scale(0.1 -0.1)\">\n       <use xlink:href=\"#DejaVuSans-49\"/>\n       <use x=\"63.623047\" xlink:href=\"#DejaVuSans-50\"/>\n      </g>\n     </g>\n    </g>\n    <g id=\"xtick_14\">\n     <g id=\"line2d_14\">\n      <g>\n       <use style=\"stroke:#000000;stroke-width:0.8;\" x=\"385.026115\" xlink:href=\"#m62b228ac97\" y=\"975.718125\"/>\n      </g>\n     </g>\n     <g id=\"text_14\">\n      <!-- 13 -->\n      <g transform=\"translate(378.663615 990.316562)scale(0.1 -0.1)\">\n       <use xlink:href=\"#DejaVuSans-49\"/>\n       <use x=\"63.623047\" xlink:href=\"#DejaVuSans-51\"/>\n      </g>\n     </g>\n    </g>\n    <g id=\"xtick_15\">\n     <g id=\"line2d_15\">\n      <g>\n       <use style=\"stroke:#000000;stroke-width:0.8;\" x=\"406.111085\" xlink:href=\"#m62b228ac97\" y=\"975.718125\"/>\n      </g>\n     </g>\n     <g id=\"text_15\">\n      <!-- 14 -->\n      <g transform=\"translate(399.748585 990.316562)scale(0.1 -0.1)\">\n       <use xlink:href=\"#DejaVuSans-49\"/>\n       <use x=\"63.623047\" xlink:href=\"#DejaVuSans-52\"/>\n      </g>\n     </g>\n    </g>\n    <g id=\"xtick_16\">\n     <g id=\"line2d_16\">\n      <g>\n       <use style=\"stroke:#000000;stroke-width:0.8;\" x=\"427.196056\" xlink:href=\"#m62b228ac97\" y=\"975.718125\"/>\n      </g>\n     </g>\n     <g id=\"text_16\">\n      <!-- 15 -->\n      <g transform=\"translate(420.833556 990.316562)scale(0.1 -0.1)\">\n       <use xlink:href=\"#DejaVuSans-49\"/>\n       <use x=\"63.623047\" xlink:href=\"#DejaVuSans-53\"/>\n      </g>\n     </g>\n    </g>\n    <g id=\"xtick_17\">\n     <g id=\"line2d_17\">\n      <g>\n       <use style=\"stroke:#000000;stroke-width:0.8;\" x=\"448.281026\" xlink:href=\"#m62b228ac97\" y=\"975.718125\"/>\n      </g>\n     </g>\n     <g id=\"text_17\">\n      <!-- 16 -->\n      <g transform=\"translate(441.918526 990.316562)scale(0.1 -0.1)\">\n       <use xlink:href=\"#DejaVuSans-49\"/>\n       <use x=\"63.623047\" xlink:href=\"#DejaVuSans-54\"/>\n      </g>\n     </g>\n    </g>\n    <g id=\"xtick_18\">\n     <g id=\"line2d_18\">\n      <g>\n       <use style=\"stroke:#000000;stroke-width:0.8;\" x=\"469.365996\" xlink:href=\"#m62b228ac97\" y=\"975.718125\"/>\n      </g>\n     </g>\n     <g id=\"text_18\">\n      <!-- 17 -->\n      <g transform=\"translate(463.003496 990.316562)scale(0.1 -0.1)\">\n       <use xlink:href=\"#DejaVuSans-49\"/>\n       <use x=\"63.623047\" xlink:href=\"#DejaVuSans-55\"/>\n      </g>\n     </g>\n    </g>\n    <g id=\"xtick_19\">\n     <g id=\"line2d_19\">\n      <g>\n       <use style=\"stroke:#000000;stroke-width:0.8;\" x=\"490.450966\" xlink:href=\"#m62b228ac97\" y=\"975.718125\"/>\n      </g>\n     </g>\n     <g id=\"text_19\">\n      <!-- 18 -->\n      <g transform=\"translate(484.088466 990.316562)scale(0.1 -0.1)\">\n       <use xlink:href=\"#DejaVuSans-49\"/>\n       <use x=\"63.623047\" xlink:href=\"#DejaVuSans-56\"/>\n      </g>\n     </g>\n    </g>\n    <g id=\"xtick_20\">\n     <g id=\"line2d_20\">\n      <g>\n       <use style=\"stroke:#000000;stroke-width:0.8;\" x=\"511.535937\" xlink:href=\"#m62b228ac97\" y=\"975.718125\"/>\n      </g>\n     </g>\n     <g id=\"text_20\">\n      <!-- 19 -->\n      <g transform=\"translate(505.173437 990.316562)scale(0.1 -0.1)\">\n       <use xlink:href=\"#DejaVuSans-49\"/>\n       <use x=\"63.623047\" xlink:href=\"#DejaVuSans-57\"/>\n      </g>\n     </g>\n    </g>\n    <g id=\"xtick_21\">\n     <g id=\"line2d_21\">\n      <g>\n       <use style=\"stroke:#000000;stroke-width:0.8;\" x=\"532.620907\" xlink:href=\"#m62b228ac97\" y=\"975.718125\"/>\n      </g>\n     </g>\n     <g id=\"text_21\">\n      <!-- 20 -->\n      <g transform=\"translate(526.258407 990.316562)scale(0.1 -0.1)\">\n       <use xlink:href=\"#DejaVuSans-50\"/>\n       <use x=\"63.623047\" xlink:href=\"#DejaVuSans-48\"/>\n      </g>\n     </g>\n    </g>\n    <g id=\"xtick_22\">\n     <g id=\"line2d_22\">\n      <g>\n       <use style=\"stroke:#000000;stroke-width:0.8;\" x=\"553.705877\" xlink:href=\"#m62b228ac97\" y=\"975.718125\"/>\n      </g>\n     </g>\n     <g id=\"text_22\">\n      <!-- 21 -->\n      <g transform=\"translate(547.343377 990.316562)scale(0.1 -0.1)\">\n       <use xlink:href=\"#DejaVuSans-50\"/>\n       <use x=\"63.623047\" xlink:href=\"#DejaVuSans-49\"/>\n      </g>\n     </g>\n    </g>\n    <g id=\"xtick_23\">\n     <g id=\"line2d_23\">\n      <g>\n       <use style=\"stroke:#000000;stroke-width:0.8;\" x=\"574.790848\" xlink:href=\"#m62b228ac97\" y=\"975.718125\"/>\n      </g>\n     </g>\n     <g id=\"text_23\">\n      <!-- 22 -->\n      <g transform=\"translate(568.428348 990.316562)scale(0.1 -0.1)\">\n       <use xlink:href=\"#DejaVuSans-50\"/>\n       <use x=\"63.623047\" xlink:href=\"#DejaVuSans-50\"/>\n      </g>\n     </g>\n    </g>\n    <g id=\"xtick_24\">\n     <g id=\"line2d_24\">\n      <g>\n       <use style=\"stroke:#000000;stroke-width:0.8;\" x=\"595.875818\" xlink:href=\"#m62b228ac97\" y=\"975.718125\"/>\n      </g>\n     </g>\n     <g id=\"text_24\">\n      <!-- 23 -->\n      <g transform=\"translate(589.513318 990.316562)scale(0.1 -0.1)\">\n       <use xlink:href=\"#DejaVuSans-50\"/>\n       <use x=\"63.623047\" xlink:href=\"#DejaVuSans-51\"/>\n      </g>\n     </g>\n    </g>\n    <g id=\"xtick_25\">\n     <g id=\"line2d_25\">\n      <g>\n       <use style=\"stroke:#000000;stroke-width:0.8;\" x=\"616.960788\" xlink:href=\"#m62b228ac97\" y=\"975.718125\"/>\n      </g>\n     </g>\n     <g id=\"text_25\">\n      <!-- 24 -->\n      <g transform=\"translate(610.598288 990.316562)scale(0.1 -0.1)\">\n       <use xlink:href=\"#DejaVuSans-50\"/>\n       <use x=\"63.623047\" xlink:href=\"#DejaVuSans-52\"/>\n      </g>\n     </g>\n    </g>\n    <g id=\"xtick_26\">\n     <g id=\"line2d_26\">\n      <g>\n       <use style=\"stroke:#000000;stroke-width:0.8;\" x=\"638.045759\" xlink:href=\"#m62b228ac97\" y=\"975.718125\"/>\n      </g>\n     </g>\n     <g id=\"text_26\">\n      <!-- 25 -->\n      <g transform=\"translate(631.683259 990.316562)scale(0.1 -0.1)\">\n       <use xlink:href=\"#DejaVuSans-50\"/>\n       <use x=\"63.623047\" xlink:href=\"#DejaVuSans-53\"/>\n      </g>\n     </g>\n    </g>\n    <g id=\"xtick_27\">\n     <g id=\"line2d_27\">\n      <g>\n       <use style=\"stroke:#000000;stroke-width:0.8;\" x=\"659.130729\" xlink:href=\"#m62b228ac97\" y=\"975.718125\"/>\n      </g>\n     </g>\n     <g id=\"text_27\">\n      <!-- 26 -->\n      <g transform=\"translate(652.768229 990.316562)scale(0.1 -0.1)\">\n       <use xlink:href=\"#DejaVuSans-50\"/>\n       <use x=\"63.623047\" xlink:href=\"#DejaVuSans-54\"/>\n      </g>\n     </g>\n    </g>\n    <g id=\"xtick_28\">\n     <g id=\"line2d_28\">\n      <g>\n       <use style=\"stroke:#000000;stroke-width:0.8;\" x=\"680.215699\" xlink:href=\"#m62b228ac97\" y=\"975.718125\"/>\n      </g>\n     </g>\n     <g id=\"text_28\">\n      <!-- 27 -->\n      <g transform=\"translate(673.853199 990.316562)scale(0.1 -0.1)\">\n       <use xlink:href=\"#DejaVuSans-50\"/>\n       <use x=\"63.623047\" xlink:href=\"#DejaVuSans-55\"/>\n      </g>\n     </g>\n    </g>\n    <g id=\"xtick_29\">\n     <g id=\"line2d_29\">\n      <g>\n       <use style=\"stroke:#000000;stroke-width:0.8;\" x=\"701.30067\" xlink:href=\"#m62b228ac97\" y=\"975.718125\"/>\n      </g>\n     </g>\n     <g id=\"text_29\">\n      <!-- 28 -->\n      <g transform=\"translate(694.93817 990.316562)scale(0.1 -0.1)\">\n       <use xlink:href=\"#DejaVuSans-50\"/>\n       <use x=\"63.623047\" xlink:href=\"#DejaVuSans-56\"/>\n      </g>\n     </g>\n    </g>\n    <g id=\"xtick_30\">\n     <g id=\"line2d_30\">\n      <g>\n       <use style=\"stroke:#000000;stroke-width:0.8;\" x=\"722.38564\" xlink:href=\"#m62b228ac97\" y=\"975.718125\"/>\n      </g>\n     </g>\n     <g id=\"text_30\">\n      <!-- 29 -->\n      <g transform=\"translate(716.02314 990.316562)scale(0.1 -0.1)\">\n       <use xlink:href=\"#DejaVuSans-50\"/>\n       <use x=\"63.623047\" xlink:href=\"#DejaVuSans-57\"/>\n      </g>\n     </g>\n    </g>\n    <g id=\"xtick_31\">\n     <g id=\"line2d_31\">\n      <g>\n       <use style=\"stroke:#000000;stroke-width:0.8;\" x=\"743.47061\" xlink:href=\"#m62b228ac97\" y=\"975.718125\"/>\n      </g>\n     </g>\n     <g id=\"text_31\">\n      <!-- 30 -->\n      <g transform=\"translate(737.10811 990.316562)scale(0.1 -0.1)\">\n       <use xlink:href=\"#DejaVuSans-51\"/>\n       <use x=\"63.623047\" xlink:href=\"#DejaVuSans-48\"/>\n      </g>\n     </g>\n    </g>\n    <g id=\"xtick_32\">\n     <g id=\"line2d_32\">\n      <g>\n       <use style=\"stroke:#000000;stroke-width:0.8;\" x=\"764.55558\" xlink:href=\"#m62b228ac97\" y=\"975.718125\"/>\n      </g>\n     </g>\n     <g id=\"text_32\">\n      <!-- 31 -->\n      <g transform=\"translate(758.19308 990.316562)scale(0.1 -0.1)\">\n       <use xlink:href=\"#DejaVuSans-51\"/>\n       <use x=\"63.623047\" xlink:href=\"#DejaVuSans-49\"/>\n      </g>\n     </g>\n    </g>\n    <g id=\"xtick_33\">\n     <g id=\"line2d_33\">\n      <g>\n       <use style=\"stroke:#000000;stroke-width:0.8;\" x=\"785.640551\" xlink:href=\"#m62b228ac97\" y=\"975.718125\"/>\n      </g>\n     </g>\n     <g id=\"text_33\">\n      <!-- 32 -->\n      <g transform=\"translate(779.278051 990.316562)scale(0.1 -0.1)\">\n       <use xlink:href=\"#DejaVuSans-51\"/>\n       <use x=\"63.623047\" xlink:href=\"#DejaVuSans-50\"/>\n      </g>\n     </g>\n    </g>\n    <g id=\"xtick_34\">\n     <g id=\"line2d_34\">\n      <g>\n       <use style=\"stroke:#000000;stroke-width:0.8;\" x=\"806.725521\" xlink:href=\"#m62b228ac97\" y=\"975.718125\"/>\n      </g>\n     </g>\n     <g id=\"text_34\">\n      <!-- 33 -->\n      <g transform=\"translate(800.363021 990.316562)scale(0.1 -0.1)\">\n       <use xlink:href=\"#DejaVuSans-51\"/>\n       <use x=\"63.623047\" xlink:href=\"#DejaVuSans-51\"/>\n      </g>\n     </g>\n    </g>\n    <g id=\"xtick_35\">\n     <g id=\"line2d_35\">\n      <g>\n       <use style=\"stroke:#000000;stroke-width:0.8;\" x=\"827.810491\" xlink:href=\"#m62b228ac97\" y=\"975.718125\"/>\n      </g>\n     </g>\n     <g id=\"text_35\">\n      <!-- 34 -->\n      <g transform=\"translate(821.447991 990.316562)scale(0.1 -0.1)\">\n       <use xlink:href=\"#DejaVuSans-51\"/>\n       <use x=\"63.623047\" xlink:href=\"#DejaVuSans-52\"/>\n      </g>\n     </g>\n    </g>\n    <g id=\"xtick_36\">\n     <g id=\"line2d_36\">\n      <g>\n       <use style=\"stroke:#000000;stroke-width:0.8;\" x=\"848.895462\" xlink:href=\"#m62b228ac97\" y=\"975.718125\"/>\n      </g>\n     </g>\n     <g id=\"text_36\">\n      <!-- 35 -->\n      <g transform=\"translate(842.532962 990.316562)scale(0.1 -0.1)\">\n       <use xlink:href=\"#DejaVuSans-51\"/>\n       <use x=\"63.623047\" xlink:href=\"#DejaVuSans-53\"/>\n      </g>\n     </g>\n    </g>\n    <g id=\"xtick_37\">\n     <g id=\"line2d_37\">\n      <g>\n       <use style=\"stroke:#000000;stroke-width:0.8;\" x=\"869.980432\" xlink:href=\"#m62b228ac97\" y=\"975.718125\"/>\n      </g>\n     </g>\n     <g id=\"text_37\">\n      <!-- 36 -->\n      <g transform=\"translate(863.617932 990.316562)scale(0.1 -0.1)\">\n       <use xlink:href=\"#DejaVuSans-51\"/>\n       <use x=\"63.623047\" xlink:href=\"#DejaVuSans-54\"/>\n      </g>\n     </g>\n    </g>\n    <g id=\"xtick_38\">\n     <g id=\"line2d_38\">\n      <g>\n       <use style=\"stroke:#000000;stroke-width:0.8;\" x=\"891.065402\" xlink:href=\"#m62b228ac97\" y=\"975.718125\"/>\n      </g>\n     </g>\n     <g id=\"text_38\">\n      <!-- 37 -->\n      <g transform=\"translate(884.702902 990.316562)scale(0.1 -0.1)\">\n       <use xlink:href=\"#DejaVuSans-51\"/>\n       <use x=\"63.623047\" xlink:href=\"#DejaVuSans-55\"/>\n      </g>\n     </g>\n    </g>\n    <g id=\"xtick_39\">\n     <g id=\"line2d_39\">\n      <g>\n       <use style=\"stroke:#000000;stroke-width:0.8;\" x=\"912.150373\" xlink:href=\"#m62b228ac97\" y=\"975.718125\"/>\n      </g>\n     </g>\n     <g id=\"text_39\">\n      <!-- 38 -->\n      <g transform=\"translate(905.787873 990.316562)scale(0.1 -0.1)\">\n       <use xlink:href=\"#DejaVuSans-51\"/>\n       <use x=\"63.623047\" xlink:href=\"#DejaVuSans-56\"/>\n      </g>\n     </g>\n    </g>\n    <g id=\"xtick_40\">\n     <g id=\"line2d_40\">\n      <g>\n       <use style=\"stroke:#000000;stroke-width:0.8;\" x=\"933.235343\" xlink:href=\"#m62b228ac97\" y=\"975.718125\"/>\n      </g>\n     </g>\n     <g id=\"text_40\">\n      <!-- 39 -->\n      <g transform=\"translate(926.872843 990.316562)scale(0.1 -0.1)\">\n       <use xlink:href=\"#DejaVuSans-51\"/>\n       <use x=\"63.623047\" xlink:href=\"#DejaVuSans-57\"/>\n      </g>\n     </g>\n    </g>\n    <g id=\"xtick_41\">\n     <g id=\"line2d_41\">\n      <g>\n       <use style=\"stroke:#000000;stroke-width:0.8;\" x=\"954.320313\" xlink:href=\"#m62b228ac97\" y=\"975.718125\"/>\n      </g>\n     </g>\n     <g id=\"text_41\">\n      <!-- 40 -->\n      <g transform=\"translate(947.957813 990.316562)scale(0.1 -0.1)\">\n       <use xlink:href=\"#DejaVuSans-52\"/>\n       <use x=\"63.623047\" xlink:href=\"#DejaVuSans-48\"/>\n      </g>\n     </g>\n    </g>\n    <g id=\"xtick_42\">\n     <g id=\"line2d_42\">\n      <g>\n       <use style=\"stroke:#000000;stroke-width:0.8;\" x=\"975.405284\" xlink:href=\"#m62b228ac97\" y=\"975.718125\"/>\n      </g>\n     </g>\n     <g id=\"text_42\">\n      <!-- 41 -->\n      <g transform=\"translate(969.042784 990.316562)scale(0.1 -0.1)\">\n       <use xlink:href=\"#DejaVuSans-52\"/>\n       <use x=\"63.623047\" xlink:href=\"#DejaVuSans-49\"/>\n      </g>\n     </g>\n    </g>\n    <g id=\"xtick_43\">\n     <g id=\"line2d_43\">\n      <g>\n       <use style=\"stroke:#000000;stroke-width:0.8;\" x=\"996.490254\" xlink:href=\"#m62b228ac97\" y=\"975.718125\"/>\n      </g>\n     </g>\n     <g id=\"text_43\">\n      <!-- 42 -->\n      <g transform=\"translate(990.127754 990.316562)scale(0.1 -0.1)\">\n       <use xlink:href=\"#DejaVuSans-52\"/>\n       <use x=\"63.623047\" xlink:href=\"#DejaVuSans-50\"/>\n      </g>\n     </g>\n    </g>\n    <g id=\"xtick_44\">\n     <g id=\"line2d_44\">\n      <g>\n       <use style=\"stroke:#000000;stroke-width:0.8;\" x=\"1017.575224\" xlink:href=\"#m62b228ac97\" y=\"975.718125\"/>\n      </g>\n     </g>\n     <g id=\"text_44\">\n      <!-- 43 -->\n      <g transform=\"translate(1011.212724 990.316562)scale(0.1 -0.1)\">\n       <use xlink:href=\"#DejaVuSans-52\"/>\n       <use x=\"63.623047\" xlink:href=\"#DejaVuSans-51\"/>\n      </g>\n     </g>\n    </g>\n    <g id=\"xtick_45\">\n     <g id=\"line2d_45\">\n      <g>\n       <use style=\"stroke:#000000;stroke-width:0.8;\" x=\"1038.660194\" xlink:href=\"#m62b228ac97\" y=\"975.718125\"/>\n      </g>\n     </g>\n     <g id=\"text_45\">\n      <!-- 44 -->\n      <g transform=\"translate(1032.297694 990.316562)scale(0.1 -0.1)\">\n       <use xlink:href=\"#DejaVuSans-52\"/>\n       <use x=\"63.623047\" xlink:href=\"#DejaVuSans-52\"/>\n      </g>\n     </g>\n    </g>\n    <g id=\"xtick_46\">\n     <g id=\"line2d_46\">\n      <g>\n       <use style=\"stroke:#000000;stroke-width:0.8;\" x=\"1059.745165\" xlink:href=\"#m62b228ac97\" y=\"975.718125\"/>\n      </g>\n     </g>\n     <g id=\"text_46\">\n      <!-- 45 -->\n      <g transform=\"translate(1053.382665 990.316562)scale(0.1 -0.1)\">\n       <use xlink:href=\"#DejaVuSans-52\"/>\n       <use x=\"63.623047\" xlink:href=\"#DejaVuSans-53\"/>\n      </g>\n     </g>\n    </g>\n    <g id=\"xtick_47\">\n     <g id=\"line2d_47\">\n      <g>\n       <use style=\"stroke:#000000;stroke-width:0.8;\" x=\"1080.830135\" xlink:href=\"#m62b228ac97\" y=\"975.718125\"/>\n      </g>\n     </g>\n     <g id=\"text_47\">\n      <!-- 46 -->\n      <g transform=\"translate(1074.467635 990.316562)scale(0.1 -0.1)\">\n       <use xlink:href=\"#DejaVuSans-52\"/>\n       <use x=\"63.623047\" xlink:href=\"#DejaVuSans-54\"/>\n      </g>\n     </g>\n    </g>\n    <g id=\"xtick_48\">\n     <g id=\"line2d_48\">\n      <g>\n       <use style=\"stroke:#000000;stroke-width:0.8;\" x=\"1101.915105\" xlink:href=\"#m62b228ac97\" y=\"975.718125\"/>\n      </g>\n     </g>\n     <g id=\"text_48\">\n      <!-- 47 -->\n      <g transform=\"translate(1095.552605 990.316562)scale(0.1 -0.1)\">\n       <use xlink:href=\"#DejaVuSans-52\"/>\n       <use x=\"63.623047\" xlink:href=\"#DejaVuSans-55\"/>\n      </g>\n     </g>\n    </g>\n    <g id=\"xtick_49\">\n     <g id=\"line2d_49\">\n      <g>\n       <use style=\"stroke:#000000;stroke-width:0.8;\" x=\"1123.000076\" xlink:href=\"#m62b228ac97\" y=\"975.718125\"/>\n      </g>\n     </g>\n     <g id=\"text_49\">\n      <!-- 48 -->\n      <g transform=\"translate(1116.637576 990.316562)scale(0.1 -0.1)\">\n       <use xlink:href=\"#DejaVuSans-52\"/>\n       <use x=\"63.623047\" xlink:href=\"#DejaVuSans-56\"/>\n      </g>\n     </g>\n    </g>\n    <g id=\"xtick_50\">\n     <g id=\"line2d_50\">\n      <g>\n       <use style=\"stroke:#000000;stroke-width:0.8;\" x=\"1144.085046\" xlink:href=\"#m62b228ac97\" y=\"975.718125\"/>\n      </g>\n     </g>\n     <g id=\"text_50\">\n      <!-- 49 -->\n      <g transform=\"translate(1137.722546 990.316562)scale(0.1 -0.1)\">\n       <use xlink:href=\"#DejaVuSans-52\"/>\n       <use x=\"63.623047\" xlink:href=\"#DejaVuSans-57\"/>\n      </g>\n     </g>\n    </g>\n    <g id=\"xtick_51\">\n     <g id=\"line2d_51\">\n      <g>\n       <use style=\"stroke:#000000;stroke-width:0.8;\" x=\"1165.170016\" xlink:href=\"#m62b228ac97\" y=\"975.718125\"/>\n      </g>\n     </g>\n     <g id=\"text_51\">\n      <!-- 50 -->\n      <g transform=\"translate(1158.807516 990.316562)scale(0.1 -0.1)\">\n       <use xlink:href=\"#DejaVuSans-53\"/>\n       <use x=\"63.623047\" xlink:href=\"#DejaVuSans-48\"/>\n      </g>\n     </g>\n    </g>\n    <g id=\"xtick_52\">\n     <g id=\"line2d_52\">\n      <g>\n       <use style=\"stroke:#000000;stroke-width:0.8;\" x=\"1186.254987\" xlink:href=\"#m62b228ac97\" y=\"975.718125\"/>\n      </g>\n     </g>\n     <g id=\"text_52\">\n      <!-- 51 -->\n      <g transform=\"translate(1179.892487 990.316562)scale(0.1 -0.1)\">\n       <use xlink:href=\"#DejaVuSans-53\"/>\n       <use x=\"63.623047\" xlink:href=\"#DejaVuSans-49\"/>\n      </g>\n     </g>\n    </g>\n    <g id=\"xtick_53\">\n     <g id=\"line2d_53\">\n      <g>\n       <use style=\"stroke:#000000;stroke-width:0.8;\" x=\"1207.339957\" xlink:href=\"#m62b228ac97\" y=\"975.718125\"/>\n      </g>\n     </g>\n     <g id=\"text_53\">\n      <!-- 52 -->\n      <g transform=\"translate(1200.977457 990.316562)scale(0.1 -0.1)\">\n       <use xlink:href=\"#DejaVuSans-53\"/>\n       <use x=\"63.623047\" xlink:href=\"#DejaVuSans-50\"/>\n      </g>\n     </g>\n    </g>\n    <g id=\"xtick_54\">\n     <g id=\"line2d_54\">\n      <g>\n       <use style=\"stroke:#000000;stroke-width:0.8;\" x=\"1228.424927\" xlink:href=\"#m62b228ac97\" y=\"975.718125\"/>\n      </g>\n     </g>\n     <g id=\"text_54\">\n      <!-- 53 -->\n      <g transform=\"translate(1222.062427 990.316562)scale(0.1 -0.1)\">\n       <use xlink:href=\"#DejaVuSans-53\"/>\n       <use x=\"63.623047\" xlink:href=\"#DejaVuSans-51\"/>\n      </g>\n     </g>\n    </g>\n    <g id=\"xtick_55\">\n     <g id=\"line2d_55\">\n      <g>\n       <use style=\"stroke:#000000;stroke-width:0.8;\" x=\"1249.509897\" xlink:href=\"#m62b228ac97\" y=\"975.718125\"/>\n      </g>\n     </g>\n     <g id=\"text_55\">\n      <!-- 54 -->\n      <g transform=\"translate(1243.147397 990.316562)scale(0.1 -0.1)\">\n       <use xlink:href=\"#DejaVuSans-53\"/>\n       <use x=\"63.623047\" xlink:href=\"#DejaVuSans-52\"/>\n      </g>\n     </g>\n    </g>\n    <g id=\"xtick_56\">\n     <g id=\"line2d_56\">\n      <g>\n       <use style=\"stroke:#000000;stroke-width:0.8;\" x=\"1270.594868\" xlink:href=\"#m62b228ac97\" y=\"975.718125\"/>\n      </g>\n     </g>\n     <g id=\"text_56\">\n      <!-- 55 -->\n      <g transform=\"translate(1264.232368 990.316562)scale(0.1 -0.1)\">\n       <use xlink:href=\"#DejaVuSans-53\"/>\n       <use x=\"63.623047\" xlink:href=\"#DejaVuSans-53\"/>\n      </g>\n     </g>\n    </g>\n    <g id=\"xtick_57\">\n     <g id=\"line2d_57\">\n      <g>\n       <use style=\"stroke:#000000;stroke-width:0.8;\" x=\"1291.679838\" xlink:href=\"#m62b228ac97\" y=\"975.718125\"/>\n      </g>\n     </g>\n     <g id=\"text_57\">\n      <!-- 56 -->\n      <g transform=\"translate(1285.317338 990.316562)scale(0.1 -0.1)\">\n       <use xlink:href=\"#DejaVuSans-53\"/>\n       <use x=\"63.623047\" xlink:href=\"#DejaVuSans-54\"/>\n      </g>\n     </g>\n    </g>\n    <g id=\"xtick_58\">\n     <g id=\"line2d_58\">\n      <g>\n       <use style=\"stroke:#000000;stroke-width:0.8;\" x=\"1312.764808\" xlink:href=\"#m62b228ac97\" y=\"975.718125\"/>\n      </g>\n     </g>\n     <g id=\"text_58\">\n      <!-- 57 -->\n      <g transform=\"translate(1306.402308 990.316562)scale(0.1 -0.1)\">\n       <use xlink:href=\"#DejaVuSans-53\"/>\n       <use x=\"63.623047\" xlink:href=\"#DejaVuSans-55\"/>\n      </g>\n     </g>\n    </g>\n    <g id=\"xtick_59\">\n     <g id=\"line2d_59\">\n      <g>\n       <use style=\"stroke:#000000;stroke-width:0.8;\" x=\"1333.849779\" xlink:href=\"#m62b228ac97\" y=\"975.718125\"/>\n      </g>\n     </g>\n     <g id=\"text_59\">\n      <!-- 58 -->\n      <g transform=\"translate(1327.487279 990.316562)scale(0.1 -0.1)\">\n       <use xlink:href=\"#DejaVuSans-53\"/>\n       <use x=\"63.623047\" xlink:href=\"#DejaVuSans-56\"/>\n      </g>\n     </g>\n    </g>\n    <g id=\"xtick_60\">\n     <g id=\"line2d_60\">\n      <g>\n       <use style=\"stroke:#000000;stroke-width:0.8;\" x=\"1354.934749\" xlink:href=\"#m62b228ac97\" y=\"975.718125\"/>\n      </g>\n     </g>\n     <g id=\"text_60\">\n      <!-- 59 -->\n      <g transform=\"translate(1348.572249 990.316562)scale(0.1 -0.1)\">\n       <use xlink:href=\"#DejaVuSans-53\"/>\n       <use x=\"63.623047\" xlink:href=\"#DejaVuSans-57\"/>\n      </g>\n     </g>\n    </g>\n   </g>\n   <g id=\"matplotlib.axis_2\">\n    <g id=\"ytick_1\">\n     <g id=\"line2d_61\">\n      <defs>\n       <path d=\"M 0 0 \nL -3.5 0 \n\" id=\"me5cbfe533a\" style=\"stroke:#000000;stroke-width:0.8;\"/>\n      </defs>\n      <g>\n       <use style=\"stroke:#000000;stroke-width:0.8;\" x=\"40.603125\" xlink:href=\"#me5cbfe533a\" y=\"975.718125\"/>\n      </g>\n     </g>\n     <g id=\"text_61\">\n      <!-- 0 -->\n      <g transform=\"translate(27.240625 979.517344)scale(0.1 -0.1)\">\n       <use xlink:href=\"#DejaVuSans-48\"/>\n      </g>\n     </g>\n    </g>\n    <g id=\"ytick_2\">\n     <g id=\"line2d_62\">\n      <g>\n       <use style=\"stroke:#000000;stroke-width:0.8;\" x=\"40.603125\" xlink:href=\"#me5cbfe533a\" y=\"816.534659\"/>\n      </g>\n     </g>\n     <g id=\"text_62\">\n      <!-- 5 -->\n      <g transform=\"translate(27.240625 820.333878)scale(0.1 -0.1)\">\n       <use xlink:href=\"#DejaVuSans-53\"/>\n      </g>\n     </g>\n    </g>\n    <g id=\"ytick_3\">\n     <g id=\"line2d_63\">\n      <g>\n       <use style=\"stroke:#000000;stroke-width:0.8;\" x=\"40.603125\" xlink:href=\"#me5cbfe533a\" y=\"657.351193\"/>\n      </g>\n     </g>\n     <g id=\"text_63\">\n      <!-- 10 -->\n      <g transform=\"translate(20.878125 661.150412)scale(0.1 -0.1)\">\n       <use xlink:href=\"#DejaVuSans-49\"/>\n       <use x=\"63.623047\" xlink:href=\"#DejaVuSans-48\"/>\n      </g>\n     </g>\n    </g>\n    <g id=\"ytick_4\">\n     <g id=\"line2d_64\">\n      <g>\n       <use style=\"stroke:#000000;stroke-width:0.8;\" x=\"40.603125\" xlink:href=\"#me5cbfe533a\" y=\"498.167727\"/>\n      </g>\n     </g>\n     <g id=\"text_64\">\n      <!-- 15 -->\n      <g transform=\"translate(20.878125 501.966946)scale(0.1 -0.1)\">\n       <use xlink:href=\"#DejaVuSans-49\"/>\n       <use x=\"63.623047\" xlink:href=\"#DejaVuSans-53\"/>\n      </g>\n     </g>\n    </g>\n    <g id=\"ytick_5\">\n     <g id=\"line2d_65\">\n      <g>\n       <use style=\"stroke:#000000;stroke-width:0.8;\" x=\"40.603125\" xlink:href=\"#me5cbfe533a\" y=\"338.984261\"/>\n      </g>\n     </g>\n     <g id=\"text_65\">\n      <!-- 20 -->\n      <g transform=\"translate(20.878125 342.78348)scale(0.1 -0.1)\">\n       <use xlink:href=\"#DejaVuSans-50\"/>\n       <use x=\"63.623047\" xlink:href=\"#DejaVuSans-48\"/>\n      </g>\n     </g>\n    </g>\n    <g id=\"ytick_6\">\n     <g id=\"line2d_66\">\n      <g>\n       <use style=\"stroke:#000000;stroke-width:0.8;\" x=\"40.603125\" xlink:href=\"#me5cbfe533a\" y=\"179.800795\"/>\n      </g>\n     </g>\n     <g id=\"text_66\">\n      <!-- 25 -->\n      <g transform=\"translate(20.878125 183.600014)scale(0.1 -0.1)\">\n       <use xlink:href=\"#DejaVuSans-50\"/>\n       <use x=\"63.623047\" xlink:href=\"#DejaVuSans-53\"/>\n      </g>\n     </g>\n    </g>\n    <g id=\"text_67\">\n     <!-- Scores -->\n     <defs>\n      <path d=\"M 53.515625 70.515625 \nL 53.515625 60.890625 \nQ 47.90625 63.578125 42.921875 64.890625 \nQ 37.9375 66.21875 33.296875 66.21875 \nQ 25.25 66.21875 20.875 63.09375 \nQ 16.5 59.96875 16.5 54.203125 \nQ 16.5 49.359375 19.40625 46.890625 \nQ 22.3125 44.4375 30.421875 42.921875 \nL 36.375 41.703125 \nQ 47.40625 39.59375 52.65625 34.296875 \nQ 57.90625 29 57.90625 20.125 \nQ 57.90625 9.515625 50.796875 4.046875 \nQ 43.703125 -1.421875 29.984375 -1.421875 \nQ 24.8125 -1.421875 18.96875 -0.25 \nQ 13.140625 0.921875 6.890625 3.21875 \nL 6.890625 13.375 \nQ 12.890625 10.015625 18.65625 8.296875 \nQ 24.421875 6.59375 29.984375 6.59375 \nQ 38.421875 6.59375 43.015625 9.90625 \nQ 47.609375 13.234375 47.609375 19.390625 \nQ 47.609375 24.75 44.3125 27.78125 \nQ 41.015625 30.8125 33.5 32.328125 \nL 27.484375 33.5 \nQ 16.453125 35.6875 11.515625 40.375 \nQ 6.59375 45.0625 6.59375 53.421875 \nQ 6.59375 63.09375 13.40625 68.65625 \nQ 20.21875 74.21875 32.171875 74.21875 \nQ 37.3125 74.21875 42.625 73.28125 \nQ 47.953125 72.359375 53.515625 70.515625 \nz\n\" id=\"DejaVuSans-83\"/>\n      <path d=\"M 48.78125 52.59375 \nL 48.78125 44.1875 \nQ 44.96875 46.296875 41.140625 47.34375 \nQ 37.3125 48.390625 33.40625 48.390625 \nQ 24.65625 48.390625 19.8125 42.84375 \nQ 14.984375 37.3125 14.984375 27.296875 \nQ 14.984375 17.28125 19.8125 11.734375 \nQ 24.65625 6.203125 33.40625 6.203125 \nQ 37.3125 6.203125 41.140625 7.25 \nQ 44.96875 8.296875 48.78125 10.40625 \nL 48.78125 2.09375 \nQ 45.015625 0.34375 40.984375 -0.53125 \nQ 36.96875 -1.421875 32.421875 -1.421875 \nQ 20.0625 -1.421875 12.78125 6.34375 \nQ 5.515625 14.109375 5.515625 27.296875 \nQ 5.515625 40.671875 12.859375 48.328125 \nQ 20.21875 56 33.015625 56 \nQ 37.15625 56 41.109375 55.140625 \nQ 45.0625 54.296875 48.78125 52.59375 \nz\n\" id=\"DejaVuSans-99\"/>\n      <path d=\"M 30.609375 48.390625 \nQ 23.390625 48.390625 19.1875 42.75 \nQ 14.984375 37.109375 14.984375 27.296875 \nQ 14.984375 17.484375 19.15625 11.84375 \nQ 23.34375 6.203125 30.609375 6.203125 \nQ 37.796875 6.203125 41.984375 11.859375 \nQ 46.1875 17.53125 46.1875 27.296875 \nQ 46.1875 37.015625 41.984375 42.703125 \nQ 37.796875 48.390625 30.609375 48.390625 \nz\nM 30.609375 56 \nQ 42.328125 56 49.015625 48.375 \nQ 55.71875 40.765625 55.71875 27.296875 \nQ 55.71875 13.875 49.015625 6.21875 \nQ 42.328125 -1.421875 30.609375 -1.421875 \nQ 18.84375 -1.421875 12.171875 6.21875 \nQ 5.515625 13.875 5.515625 27.296875 \nQ 5.515625 40.765625 12.171875 48.375 \nQ 18.84375 56 30.609375 56 \nz\n\" id=\"DejaVuSans-111\"/>\n      <path d=\"M 41.109375 46.296875 \nQ 39.59375 47.171875 37.8125 47.578125 \nQ 36.03125 48 33.890625 48 \nQ 26.265625 48 22.1875 43.046875 \nQ 18.109375 38.09375 18.109375 28.8125 \nL 18.109375 0 \nL 9.078125 0 \nL 9.078125 54.6875 \nL 18.109375 54.6875 \nL 18.109375 46.1875 \nQ 20.953125 51.171875 25.484375 53.578125 \nQ 30.03125 56 36.53125 56 \nQ 37.453125 56 38.578125 55.875 \nQ 39.703125 55.765625 41.0625 55.515625 \nz\n\" id=\"DejaVuSans-114\"/>\n      <path d=\"M 56.203125 29.59375 \nL 56.203125 25.203125 \nL 14.890625 25.203125 \nQ 15.484375 15.921875 20.484375 11.0625 \nQ 25.484375 6.203125 34.421875 6.203125 \nQ 39.59375 6.203125 44.453125 7.46875 \nQ 49.3125 8.734375 54.109375 11.28125 \nL 54.109375 2.78125 \nQ 49.265625 0.734375 44.1875 -0.34375 \nQ 39.109375 -1.421875 33.890625 -1.421875 \nQ 20.796875 -1.421875 13.15625 6.1875 \nQ 5.515625 13.8125 5.515625 26.8125 \nQ 5.515625 40.234375 12.765625 48.109375 \nQ 20.015625 56 32.328125 56 \nQ 43.359375 56 49.78125 48.890625 \nQ 56.203125 41.796875 56.203125 29.59375 \nz\nM 47.21875 32.234375 \nQ 47.125 39.59375 43.09375 43.984375 \nQ 39.0625 48.390625 32.421875 48.390625 \nQ 24.90625 48.390625 20.390625 44.140625 \nQ 15.875 39.890625 15.1875 32.171875 \nz\n\" id=\"DejaVuSans-101\"/>\n      <path d=\"M 44.28125 53.078125 \nL 44.28125 44.578125 \nQ 40.484375 46.53125 36.375 47.5 \nQ 32.28125 48.484375 27.875 48.484375 \nQ 21.1875 48.484375 17.84375 46.4375 \nQ 14.5 44.390625 14.5 40.28125 \nQ 14.5 37.15625 16.890625 35.375 \nQ 19.28125 33.59375 26.515625 31.984375 \nL 29.59375 31.296875 \nQ 39.15625 29.25 43.1875 25.515625 \nQ 47.21875 21.78125 47.21875 15.09375 \nQ 47.21875 7.46875 41.1875 3.015625 \nQ 35.15625 -1.421875 24.609375 -1.421875 \nQ 20.21875 -1.421875 15.453125 -0.5625 \nQ 10.6875 0.296875 5.421875 2 \nL 5.421875 11.28125 \nQ 10.40625 8.6875 15.234375 7.390625 \nQ 20.0625 6.109375 24.8125 6.109375 \nQ 31.15625 6.109375 34.5625 8.28125 \nQ 37.984375 10.453125 37.984375 14.40625 \nQ 37.984375 18.0625 35.515625 20.015625 \nQ 33.0625 21.96875 24.703125 23.78125 \nL 21.578125 24.515625 \nQ 13.234375 26.265625 9.515625 29.90625 \nQ 5.8125 33.546875 5.8125 39.890625 \nQ 5.8125 47.609375 11.28125 51.796875 \nQ 16.75 56 26.8125 56 \nQ 31.78125 56 36.171875 55.265625 \nQ 40.578125 54.546875 44.28125 53.078125 \nz\n\" id=\"DejaVuSans-115\"/>\n     </defs>\n     <g transform=\"translate(14.798438 515.625156)rotate(-90)scale(0.1 -0.1)\">\n      <use xlink:href=\"#DejaVuSans-83\"/>\n      <use x=\"63.476562\" xlink:href=\"#DejaVuSans-99\"/>\n      <use x=\"118.457031\" xlink:href=\"#DejaVuSans-111\"/>\n      <use x=\"179.638672\" xlink:href=\"#DejaVuSans-114\"/>\n      <use x=\"218.501953\" xlink:href=\"#DejaVuSans-101\"/>\n      <use x=\"280.025391\" xlink:href=\"#DejaVuSans-115\"/>\n     </g>\n    </g>\n   </g>\n   <g id=\"patch_123\">\n    <path d=\"M 40.603125 975.718125 \nL 40.603125 22.318125 \n\" style=\"fill:none;stroke:#000000;stroke-linecap:square;stroke-linejoin:miter;stroke-width:0.8;\"/>\n   </g>\n   <g id=\"patch_124\">\n    <path d=\"M 1425.253125 975.718125 \nL 1425.253125 22.318125 \n\" style=\"fill:none;stroke:#000000;stroke-linecap:square;stroke-linejoin:miter;stroke-width:0.8;\"/>\n   </g>\n   <g id=\"patch_125\">\n    <path d=\"M 40.603125 975.718125 \nL 1425.253125 975.718125 \n\" style=\"fill:none;stroke:#000000;stroke-linecap:square;stroke-linejoin:miter;stroke-width:0.8;\"/>\n   </g>\n   <g id=\"patch_126\">\n    <path d=\"M 40.603125 22.318125 \nL 1425.253125 22.318125 \n\" style=\"fill:none;stroke:#000000;stroke-linecap:square;stroke-linejoin:miter;stroke-width:0.8;\"/>\n   </g>\n   <g id=\"text_68\">\n    <!-- History of scores -->\n    <defs>\n     <path d=\"M 9.8125 72.90625 \nL 19.671875 72.90625 \nL 19.671875 43.015625 \nL 55.515625 43.015625 \nL 55.515625 72.90625 \nL 65.375 72.90625 \nL 65.375 0 \nL 55.515625 0 \nL 55.515625 34.71875 \nL 19.671875 34.71875 \nL 19.671875 0 \nL 9.8125 0 \nz\n\" id=\"DejaVuSans-72\"/>\n     <path d=\"M 9.421875 54.6875 \nL 18.40625 54.6875 \nL 18.40625 0 \nL 9.421875 0 \nz\nM 9.421875 75.984375 \nL 18.40625 75.984375 \nL 18.40625 64.59375 \nL 9.421875 64.59375 \nz\n\" id=\"DejaVuSans-105\"/>\n     <path d=\"M 18.3125 70.21875 \nL 18.3125 54.6875 \nL 36.8125 54.6875 \nL 36.8125 47.703125 \nL 18.3125 47.703125 \nL 18.3125 18.015625 \nQ 18.3125 11.328125 20.140625 9.421875 \nQ 21.96875 7.515625 27.59375 7.515625 \nL 36.8125 7.515625 \nL 36.8125 0 \nL 27.59375 0 \nQ 17.1875 0 13.234375 3.875 \nQ 9.28125 7.765625 9.28125 18.015625 \nL 9.28125 47.703125 \nL 2.6875 47.703125 \nL 2.6875 54.6875 \nL 9.28125 54.6875 \nL 9.28125 70.21875 \nz\n\" id=\"DejaVuSans-116\"/>\n     <path d=\"M 32.171875 -5.078125 \nQ 28.375 -14.84375 24.75 -17.8125 \nQ 21.140625 -20.796875 15.09375 -20.796875 \nL 7.90625 -20.796875 \nL 7.90625 -13.28125 \nL 13.1875 -13.28125 \nQ 16.890625 -13.28125 18.9375 -11.515625 \nQ 21 -9.765625 23.484375 -3.21875 \nL 25.09375 0.875 \nL 2.984375 54.6875 \nL 12.5 54.6875 \nL 29.59375 11.921875 \nL 46.6875 54.6875 \nL 56.203125 54.6875 \nz\n\" id=\"DejaVuSans-121\"/>\n     <path id=\"DejaVuSans-32\"/>\n     <path d=\"M 37.109375 75.984375 \nL 37.109375 68.5 \nL 28.515625 68.5 \nQ 23.6875 68.5 21.796875 66.546875 \nQ 19.921875 64.59375 19.921875 59.515625 \nL 19.921875 54.6875 \nL 34.71875 54.6875 \nL 34.71875 47.703125 \nL 19.921875 47.703125 \nL 19.921875 0 \nL 10.890625 0 \nL 10.890625 47.703125 \nL 2.296875 47.703125 \nL 2.296875 54.6875 \nL 10.890625 54.6875 \nL 10.890625 58.5 \nQ 10.890625 67.625 15.140625 71.796875 \nQ 19.390625 75.984375 28.609375 75.984375 \nz\n\" id=\"DejaVuSans-102\"/>\n    </defs>\n    <g transform=\"translate(682.74 16.318125)scale(0.12 -0.12)\">\n     <use xlink:href=\"#DejaVuSans-72\"/>\n     <use x=\"75.195312\" xlink:href=\"#DejaVuSans-105\"/>\n     <use x=\"102.978516\" xlink:href=\"#DejaVuSans-115\"/>\n     <use x=\"155.078125\" xlink:href=\"#DejaVuSans-116\"/>\n     <use x=\"194.287109\" xlink:href=\"#DejaVuSans-111\"/>\n     <use x=\"255.46875\" xlink:href=\"#DejaVuSans-114\"/>\n     <use x=\"296.582031\" xlink:href=\"#DejaVuSans-121\"/>\n     <use x=\"355.761719\" xlink:href=\"#DejaVuSans-32\"/>\n     <use x=\"387.548828\" xlink:href=\"#DejaVuSans-111\"/>\n     <use x=\"448.730469\" xlink:href=\"#DejaVuSans-102\"/>\n     <use x=\"483.935547\" xlink:href=\"#DejaVuSans-32\"/>\n     <use x=\"515.722656\" xlink:href=\"#DejaVuSans-115\"/>\n     <use x=\"567.822266\" xlink:href=\"#DejaVuSans-99\"/>\n     <use x=\"622.802734\" xlink:href=\"#DejaVuSans-111\"/>\n     <use x=\"683.984375\" xlink:href=\"#DejaVuSans-114\"/>\n     <use x=\"722.847656\" xlink:href=\"#DejaVuSans-101\"/>\n     <use x=\"784.371094\" xlink:href=\"#DejaVuSans-115\"/>\n    </g>\n   </g>\n   <g id=\"legend_1\">\n    <g id=\"patch_127\">\n     <path d=\"M 1322.890625 59.674375 \nL 1418.253125 59.674375 \nQ 1420.253125 59.674375 1420.253125 57.674375 \nL 1420.253125 29.318125 \nQ 1420.253125 27.318125 1418.253125 27.318125 \nL 1322.890625 27.318125 \nQ 1320.890625 27.318125 1320.890625 29.318125 \nL 1320.890625 57.674375 \nQ 1320.890625 59.674375 1322.890625 59.674375 \nz\n\" style=\"fill:#ffffff;opacity:0.8;stroke:#cccccc;stroke-linejoin:miter;\"/>\n    </g>\n    <g id=\"patch_128\">\n     <path d=\"M 1324.890625 38.916562 \nL 1344.890625 38.916562 \nL 1344.890625 31.916562 \nL 1324.890625 31.916562 \nz\n\" style=\"fill:#1f77b4;\"/>\n    </g>\n    <g id=\"text_69\">\n     <!-- publicScore -->\n     <defs>\n      <path d=\"M 18.109375 8.203125 \nL 18.109375 -20.796875 \nL 9.078125 -20.796875 \nL 9.078125 54.6875 \nL 18.109375 54.6875 \nL 18.109375 46.390625 \nQ 20.953125 51.265625 25.265625 53.625 \nQ 29.59375 56 35.59375 56 \nQ 45.5625 56 51.78125 48.09375 \nQ 58.015625 40.1875 58.015625 27.296875 \nQ 58.015625 14.40625 51.78125 6.484375 \nQ 45.5625 -1.421875 35.59375 -1.421875 \nQ 29.59375 -1.421875 25.265625 0.953125 \nQ 20.953125 3.328125 18.109375 8.203125 \nz\nM 48.6875 27.296875 \nQ 48.6875 37.203125 44.609375 42.84375 \nQ 40.53125 48.484375 33.40625 48.484375 \nQ 26.265625 48.484375 22.1875 42.84375 \nQ 18.109375 37.203125 18.109375 27.296875 \nQ 18.109375 17.390625 22.1875 11.75 \nQ 26.265625 6.109375 33.40625 6.109375 \nQ 40.53125 6.109375 44.609375 11.75 \nQ 48.6875 17.390625 48.6875 27.296875 \nz\n\" id=\"DejaVuSans-112\"/>\n      <path d=\"M 8.5 21.578125 \nL 8.5 54.6875 \nL 17.484375 54.6875 \nL 17.484375 21.921875 \nQ 17.484375 14.15625 20.5 10.265625 \nQ 23.53125 6.390625 29.59375 6.390625 \nQ 36.859375 6.390625 41.078125 11.03125 \nQ 45.3125 15.671875 45.3125 23.6875 \nL 45.3125 54.6875 \nL 54.296875 54.6875 \nL 54.296875 0 \nL 45.3125 0 \nL 45.3125 8.40625 \nQ 42.046875 3.421875 37.71875 1 \nQ 33.40625 -1.421875 27.6875 -1.421875 \nQ 18.265625 -1.421875 13.375 4.4375 \nQ 8.5 10.296875 8.5 21.578125 \nz\nM 31.109375 56 \nz\n\" id=\"DejaVuSans-117\"/>\n      <path d=\"M 48.6875 27.296875 \nQ 48.6875 37.203125 44.609375 42.84375 \nQ 40.53125 48.484375 33.40625 48.484375 \nQ 26.265625 48.484375 22.1875 42.84375 \nQ 18.109375 37.203125 18.109375 27.296875 \nQ 18.109375 17.390625 22.1875 11.75 \nQ 26.265625 6.109375 33.40625 6.109375 \nQ 40.53125 6.109375 44.609375 11.75 \nQ 48.6875 17.390625 48.6875 27.296875 \nz\nM 18.109375 46.390625 \nQ 20.953125 51.265625 25.265625 53.625 \nQ 29.59375 56 35.59375 56 \nQ 45.5625 56 51.78125 48.09375 \nQ 58.015625 40.1875 58.015625 27.296875 \nQ 58.015625 14.40625 51.78125 6.484375 \nQ 45.5625 -1.421875 35.59375 -1.421875 \nQ 29.59375 -1.421875 25.265625 0.953125 \nQ 20.953125 3.328125 18.109375 8.203125 \nL 18.109375 0 \nL 9.078125 0 \nL 9.078125 75.984375 \nL 18.109375 75.984375 \nz\n\" id=\"DejaVuSans-98\"/>\n      <path d=\"M 9.421875 75.984375 \nL 18.40625 75.984375 \nL 18.40625 0 \nL 9.421875 0 \nz\n\" id=\"DejaVuSans-108\"/>\n     </defs>\n     <g transform=\"translate(1352.890625 38.916562)scale(0.1 -0.1)\">\n      <use xlink:href=\"#DejaVuSans-112\"/>\n      <use x=\"63.476562\" xlink:href=\"#DejaVuSans-117\"/>\n      <use x=\"126.855469\" xlink:href=\"#DejaVuSans-98\"/>\n      <use x=\"190.332031\" xlink:href=\"#DejaVuSans-108\"/>\n      <use x=\"218.115234\" xlink:href=\"#DejaVuSans-105\"/>\n      <use x=\"245.898438\" xlink:href=\"#DejaVuSans-99\"/>\n      <use x=\"300.878906\" xlink:href=\"#DejaVuSans-83\"/>\n      <use x=\"364.355469\" xlink:href=\"#DejaVuSans-99\"/>\n      <use x=\"419.335938\" xlink:href=\"#DejaVuSans-111\"/>\n      <use x=\"480.517578\" xlink:href=\"#DejaVuSans-114\"/>\n      <use x=\"519.380859\" xlink:href=\"#DejaVuSans-101\"/>\n     </g>\n    </g>\n    <g id=\"patch_129\">\n     <path d=\"M 1324.890625 53.594687 \nL 1344.890625 53.594687 \nL 1344.890625 46.594687 \nL 1324.890625 46.594687 \nz\n\" style=\"fill:#ff7f0e;\"/>\n    </g>\n    <g id=\"text_70\">\n     <!-- privateScore -->\n     <defs>\n      <path d=\"M 2.984375 54.6875 \nL 12.5 54.6875 \nL 29.59375 8.796875 \nL 46.6875 54.6875 \nL 56.203125 54.6875 \nL 35.6875 0 \nL 23.484375 0 \nz\n\" id=\"DejaVuSans-118\"/>\n      <path d=\"M 34.28125 27.484375 \nQ 23.390625 27.484375 19.1875 25 \nQ 14.984375 22.515625 14.984375 16.5 \nQ 14.984375 11.71875 18.140625 8.90625 \nQ 21.296875 6.109375 26.703125 6.109375 \nQ 34.1875 6.109375 38.703125 11.40625 \nQ 43.21875 16.703125 43.21875 25.484375 \nL 43.21875 27.484375 \nz\nM 52.203125 31.203125 \nL 52.203125 0 \nL 43.21875 0 \nL 43.21875 8.296875 \nQ 40.140625 3.328125 35.546875 0.953125 \nQ 30.953125 -1.421875 24.3125 -1.421875 \nQ 15.921875 -1.421875 10.953125 3.296875 \nQ 6 8.015625 6 15.921875 \nQ 6 25.140625 12.171875 29.828125 \nQ 18.359375 34.515625 30.609375 34.515625 \nL 43.21875 34.515625 \nL 43.21875 35.40625 \nQ 43.21875 41.609375 39.140625 45 \nQ 35.0625 48.390625 27.6875 48.390625 \nQ 23 48.390625 18.546875 47.265625 \nQ 14.109375 46.140625 10.015625 43.890625 \nL 10.015625 52.203125 \nQ 14.9375 54.109375 19.578125 55.046875 \nQ 24.21875 56 28.609375 56 \nQ 40.484375 56 46.34375 49.84375 \nQ 52.203125 43.703125 52.203125 31.203125 \nz\n\" id=\"DejaVuSans-97\"/>\n     </defs>\n     <g transform=\"translate(1352.890625 53.594687)scale(0.1 -0.1)\">\n      <use xlink:href=\"#DejaVuSans-112\"/>\n      <use x=\"63.476562\" xlink:href=\"#DejaVuSans-114\"/>\n      <use x=\"104.589844\" xlink:href=\"#DejaVuSans-105\"/>\n      <use x=\"132.373047\" xlink:href=\"#DejaVuSans-118\"/>\n      <use x=\"191.552734\" xlink:href=\"#DejaVuSans-97\"/>\n      <use x=\"252.832031\" xlink:href=\"#DejaVuSans-116\"/>\n      <use x=\"292.041016\" xlink:href=\"#DejaVuSans-101\"/>\n      <use x=\"353.564453\" xlink:href=\"#DejaVuSans-83\"/>\n      <use x=\"417.041016\" xlink:href=\"#DejaVuSans-99\"/>\n      <use x=\"472.021484\" xlink:href=\"#DejaVuSans-111\"/>\n      <use x=\"533.203125\" xlink:href=\"#DejaVuSans-114\"/>\n      <use x=\"572.066406\" xlink:href=\"#DejaVuSans-101\"/>\n     </g>\n    </g>\n   </g>\n  </g>\n </g>\n <defs>\n  <clipPath id=\"p64fbceeeff\">\n   <rect height=\"953.4\" width=\"1384.65\" x=\"40.603125\" y=\"22.318125\"/>\n  </clipPath>\n </defs>\n</svg>\n",
      "image/png": "[encoded data removed]"
     },
     "metadata": {
      "needs_background": "light"
     }
    }
   ],
   "source": [
    "def display_submissions(dataframe):\n",
    "    print_section( 'Show history of submissions')\n",
    "    for name in ['publicScore']: #all_numeric_columns(dataframe):\n",
    "        yield\n",
    "        display_submission(dataframe)\n",
    "    print_done('Done')\n",
    "\n",
    "def display_submissions_in_grid(dataframe,nb_columns=2):\n",
    "    multiplot_from_generator(display_submissions(dataframe), nb_columns)\n",
    "\n",
    "def auto_label(rects):\n",
    "    for rect in rects:\n",
    "        height = rect.get_height()\n",
    "        plot.annotate('{}'.format(height),xy=(rect.get_x()+rect.get_width()/2,height),xytext=(0,3),textcoords='offset points',ha='center',va='bottom')\n",
    "\n",
    "\n",
    "# Only useful to show private/public is almost the same\n",
    "# at least now\n",
    "def display_submission_private_public(dataframe):\n",
    "    #dataframe = dataframe[dataframe['publicScore']>0.4][dataframe['publicScore']<1]\n",
    "    dataframe = dataframe.sort_values('date')\n",
    "    labels = dataframe['description']\n",
    "    public_scores = dataframe['publicScore']\n",
    "    private_scores = dataframe['privateScore']\n",
    "    x = numpy.arange(len(labels))\n",
    "    width = 0.35\n",
    "    fig = plot.figure(figsize=(20, 14))\n",
    "    #ax = plot\n",
    "    # fig,ax = plot.subplots()\n",
    "    rects_public_score = plot.bar(x-width/2,public_scores,width,label = 'publicScore')\n",
    "    rects_private_score = plot.bar(x+width/2,private_scores,width,label = 'privateScore')\n",
    "    plot.ylabel('Scores')\n",
    "    plot.title('History of scores')\n",
    "    plot.xticks(x)\n",
    "    #ax.set_xticklabels(labels)\n",
    "    plot.legend()\n",
    "    #auto_label(rects_public_score)\n",
    "    fig.tight_layout()\n",
    "    plot.show()\n",
    "\n",
    "def find_description_test_and_full(dataframe):\n",
    "    list_test = list()\n",
    "    list_full = list()\n",
    "    for i,d in dataframe.iterrows():\n",
    "        #print(d)\n",
    "        if d.description.find('!test!')>=0:\n",
    "            list_test.append(d.description.replace('!test!','!x!'))\n",
    "        if d.description.find('!full!')>=0:\n",
    "            list_full.append(d.description.replace('!full!','!x!'))\n",
    "    list_test_and_full = list(set(list_test)&set(list_full))\n",
    "    list_test = [i.replace('!x!','test') for i in list_test_and_full]\n",
    "    list_full = [i.replace('!x!','full') for i in list_test_and_full]\n",
    "    return [i.replace('!x!','!test!') for i in list_test_and_full]+[i.replace('!x!','!full!') for i in list_test_and_full]\n",
    "    \n",
    "        \n",
    "\n",
    "def display_submission_full_test_public(dataframe):\n",
    "    #dataframe = dataframe[dataframe['publicScore']>0.4][dataframe['publicScore']<1]\n",
    "    dataframe = dataframe.sort_values('date')\n",
    "    test_and_full = find_description_test_and_full(dataframe)\n",
    "    test_and_full_scores = dataframe[dataframe['description'].isin(test_and_full)]\n",
    "    test_scores = test_and_full_scores[test_and_full_scores['description'].str.find('!test!')>=0]['publicScore']\n",
    "    full_scores = test_and_full_scores[test_and_full_scores['description'].str.find('!full!')>=0]['publicScore']\n",
    "    width = 0.35\n",
    "    fig = plot.figure(figsize=(15, 10))\n",
    "    #ax = plot\n",
    "    # fig,ax = plot.subplots()\n",
    "    x = numpy.arange(len(test_scores))\n",
    "    rects_test_score = plot.bar(x-width/2,test_scores,width,label = 'Score on test')\n",
    "    x = numpy.arange(len(full_scores))\n",
    "    rects_full_score = plot.bar(x+width/2,full_scores,width,label = 'Score on full')\n",
    "    plot.ylabel('Scores')\n",
    "    plot.title('History of scores')\n",
    "    plot.xticks(x)\n",
    "    #ax.set_xticklabels(labels)\n",
    "    plot.legend()\n",
    "    #auto_label(rects_public_score)\n",
    "    fig.tight_layout()\n",
    "    plot.show()\n",
    "\n",
    "\n",
    "\n",
    "#all_submissions['description']\n",
    "res = find_description_test_and_full(all_submissions)\n",
    "display_submission_private_public(all_submissions)\n",
    "#display_submission_private_public(all_submissions)\n"
   ]
  }
 ]
}