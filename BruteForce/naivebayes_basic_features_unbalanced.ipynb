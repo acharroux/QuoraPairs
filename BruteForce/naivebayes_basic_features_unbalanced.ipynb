{
 "metadata": {
  "language_info": {
   "codemirror_mode": {
    "name": "ipython",
    "version": 3
   },
   "file_extension": ".py",
   "mimetype": "text/x-python",
   "name": "python",
   "nbconvert_exporter": "python",
   "pygments_lexer": "ipython3",
   "version": "3.8.3-final"
  },
  "orig_nbformat": 2,
  "kernelspec": {
   "name": "python_defaultSpec_1599483204264",
   "display_name": "Python 3.8.3 64-bit"
  }
 },
 "nbformat": 4,
 "nbformat_minor": 2,
 "cells": [
  {
   "cell_type": "markdown",
   "metadata": {},
   "source": [
    "## Some setup and os tools"
   ]
  },
  {
   "cell_type": "code",
   "execution_count": 21,
   "metadata": {
    "tags": []
   },
   "outputs": [],
   "source": [
    "import numpy\n",
    "import pandas\n",
    "import os\n",
    "import matplotlib.pyplot as plot\n",
    "import seaborn as sns\n",
    "from shutil import copyfile\n",
    "from IPython.display import IFrame, display, HTML\n",
    "%matplotlib inline\n",
    "\n",
    "# This is supposed to enhance default pandas display\n",
    "pandas.set_option('display.width',200)\n",
    "pandas.set_option('display.max_colwidth',200)\n",
    "\n",
    "# the folder where this experiment will be stored\n",
    "EXPERIMENT = 'multinomial_naivebayes_unbalanced'\n",
    "\n",
    "# The name of the docker image (used to display docker command to copy apply files to windows host)\n",
    "DOCKER_IMAGE_NAME = 'dev_ds_1'\n",
    "\n",
    "# Some common resources\n",
    "PANDAS_STORE = '../PandasStore'\n",
    "PICKLE_EXTENSION = '.pkl'\n",
    "CLEAN_TRAINING_DATA = 'clean_training'\n",
    "CLEAN_CHALLENGE_DATA = 'clean_challenge'\n",
    "\n",
    "# Other useful constants\n",
    "ZIP_EXTENSION = '.zip'\n",
    "SEP_IN_FILE_NAME = '$'\n",
    "\n",
    "# Try to have a minimal decoration in notebook output\n",
    "def print_html(s):\n",
    "    display(HTML(s, metadata=dict(isolated=True)))\n",
    "\n",
    "def start_small():\n",
    "    display(HTML('<span><small>', metadata=dict(isolated=True)))\n",
    "\n",
    "def print_small(s):\n",
    "    print_html('<small>',s,'</small>')\n",
    "\n",
    "def end_small():\n",
    "    display(HTML('</small></span>', metadata=dict(isolated=True)))\n",
    "\n",
    "def start_italic():\n",
    "    display(HTML('<i>', metadata=dict(isolated=True)))\n",
    "\n",
    "def print_italic(s):\n",
    "    print_html('<i>'+s+'</i>')\n",
    "\n",
    "def end_italic():\n",
    "    display(HTML('</i>', metadata=dict(isolated=True)))\n",
    "\n",
    "def start_bold():\n",
    "    display(HTML('<b>', metadata=dict(isolated=True)))\n",
    "\n",
    "def print_bold(s):\n",
    "    print_html('<b>'+s+'</b>')\n",
    "\n",
    "def end_bold():\n",
    "    display(HTML('</b>', metadata=dict(isolated=True)))\n",
    "\n",
    "def print_bullet(s):\n",
    "    print_html('<li>'+s)\n",
    "\n",
    "def print_section(s):\n",
    "    print_bold(s)\n",
    "    print_html('<HR>')\n",
    "\n",
    "def print_done(s):\n",
    "    print_html('<span style=\"color:LIMEGREEN\"><small><b><i>'+s+'</i></b><p></p></small></span>')\n",
    "\n",
    "def print_info(s):\n",
    "    print_html('<span style=\"color:LIMEGREEN\"><small>'+s+'</small></span>')\n",
    "\n",
    "def print_warning(s):\n",
    "    print_html('<span style=\"color:LIGHTSALMON\"><small>'+s+'</small></span>')\n",
    "\n",
    "## Plenty of small tools to help not creating a huge mess\n",
    "\n",
    "def global_pandas_store_file_name(file_name,ext='.pkl'):\n",
    "    return PANDAS_STORE +'/'+file_name+ext\n",
    "\n",
    "def local_pandas_store_file_name(file_name):\n",
    "    return env_file_name(file_name,PICKLE_EXTENSION)\n",
    "\n",
    "def env_path():\n",
    "    return '../'+EXPERIMENT\n",
    "\n",
    "def env_file_name(file_name,ext=''):\n",
    "    return env_path()+'/'+file_name+ext\n",
    "\n",
    "def copy_from_pandas_store_if_missing(file_name):\n",
    "    if not os.path.exists(env_file_name(file_name)):\n",
    "        print_info('Make local copy of %s' % global_pandas_store_file_name(file_name))\n",
    "        copyfile(global_pandas_store_file_name(file_name),local_pandas_store_file_name(file_name))\n",
    "\n",
    "def prepare_environnement():\n",
    "    print_section('Prepare %s environment' % EXPERIMENT)\n",
    "    if not os.path.exists(env_path()):\n",
    "        os.mkdir(env_path())\n",
    "    copy_from_pandas_store_if_missing(CLEAN_TRAINING_DATA)\n",
    "    copy_from_pandas_store_if_missing(CLEAN_CHALLENGE_DATA)\n",
    "    print_done('Done')\n",
    "    print\n",
    "\n",
    "## Tools to cache important and costly data\n",
    "\n",
    "def load_dataframe(file_name):\n",
    "    df = pandas.read_pickle(local_pandas_store_file_name(file_name))\n",
    "    return df\n",
    "\n",
    "def save_dataframe(df,file_name):\n",
    "    print_info('Save %s' % file_name )\n",
    "    df.to_pickle(local_pandas_store_file_name(file_name))\n",
    "\n",
    "def load_or_build_dataframe(dataframe_name,file_name,builder,dataframe):\n",
    "    print_section('%s: Load or rebuild %s' % (dataframe_name,file_name))\n",
    "    if os.path.exists(local_pandas_store_file_name(file_name)):\n",
    "        print_info(\"!!!!! %s is cached!!!\" % local_pandas_store_file_name(file_name))\n",
    "        df = load_dataframe(file_name)\n",
    "    else:\n",
    "        print_warning(\"!!!!! %s does not exists!!!\" % local_pandas_store_file_name(file_name))\n",
    "        print_warning('Rebuild and save it')\n",
    "        df = builder(dataframe)\n",
    "        save_dataframe(df,file_name)\n",
    "    print_done('Done:%s contains %d lines' % (file_name,len(df)))\n",
    "    return df\n",
    "\n",
    "# Code to generate all combination of numeric features\n",
    "from itertools import compress, product\n",
    "from itertools import chain, combinations\n",
    "\n",
    "def all_numeric_columns(dataframe):\n",
    "    l = list()\n",
    "    for name in dataframe.columns:\n",
    "        if dataframe.dtypes[name] in ['int64','float64'] and name not in ['test_id','id','qid1','qid2','is_duplicate']:\n",
    "            l.append( name)\n",
    "    return l\n",
    "\n",
    "def all_subsets(ss):\n",
    "    return list(chain(*map(lambda x: combinations(ss, x), range(0, len(ss)+1))))\n",
    "\n",
    "def clean_combination_name(c):\n",
    "    return str(numpy.asarray(c)).replace(\"' '\",\"+\").replace(\"['\",\"\").replace(\"']\",\"\").replace(\"'\",\"\").replace(\" \",\"\").replace('\\n','+')\n",
    "\n",
    "def clean_all_combination_names(dataframe):\n",
    "    for c in all_subsets(all_numeric_columns(dataframe)):\n",
    "        if len(c)>0:\n",
    "            print('|%s|'% clean_combination_name(c))\n",
    "\n",
    "#print( 'All numeric columns\\n%s' % all_numeric_columns(train_dataframe))\n",
    "#print('All combinations of numeric columns\\n %d combinations\\n' % len(all_subsets(all_numeric_columns(train_dataframe))))\n",
    "#for c in all_subsets(all_numeric_columns(train_dataframe)):\n",
    "#    print(c)\n",
    "#clean_all_combination_names(train_dataframe)\n",
    "#print( '%d combination of features will be studied' % (len(list(all_subsets(all_numeric_columns(train_dataframe))))-1))\n",
    "\n",
    "# code to put plots in a grid\n",
    "\n",
    "def multiplot_from_generator(g, num_columns, figsize_for_one_row=None):\n",
    "    # call 'next(g)' to get past the first 'yield'\n",
    "    next(g)\n",
    "    # default to 15-inch rows, with square subplots\n",
    "    if figsize_for_one_row is None:\n",
    "        figsize_for_one_row = (15, 15/num_columns)\n",
    "    try:\n",
    "        while True:\n",
    "            # call plt.figure once per row\n",
    "            plot.figure(figsize=figsize_for_one_row)\n",
    "            for col in range(num_columns):\n",
    "                ax = plot.subplot(1, num_columns, col+1)\n",
    "                next(g)\n",
    "    except StopIteration:\n",
    "        pass\n",
    "\n",
    "# apply tools\n",
    "def apply_file_name(criteria,kind,model_key,ext='.csv'):\n",
    "    return env_file_name(SEP_IN_FILE_NAME.join((EXPERIMENT,criteria,kind,clean_combination_name(model_key).replace('/','_div_')))+ext)\n",
    "\n",
    "def apply_absolute_file_name(criteria,kind,model_key,ext='.csv'):\n",
    "    return str(os.path.abspath(apply_file_name(criteria,kind,model_key,ext=ext)))\n",
    "\n",
    "# Zip tools\n",
    "from zipfile import ZipFile,ZIP_DEFLATED \n",
    "import zlib\n",
    "import os\n",
    "from pathlib import Path\n",
    "\n",
    "def zip_file_name(original_file_name):\n",
    "    return str(Path(original_file_name).with_suffix('.zip'))\n",
    "\n",
    "def zip_file_and_delete(original_file_name):\n",
    "    zip_name = zip_file_name(original_file_name) \n",
    "    zip = ZipFile(str(zip_name), 'w',compression=ZIP_DEFLATED)\n",
    "    zip.write(original_file_name)\n",
    "    zip.close()\n",
    "    os.unlink(original_file_name)\n",
    "    return zip_name\n",
    "\n",
    "# Excel tools\n",
    "def excel_file_name(file_name):\n",
    "    return env_file_name(file_name+'.xlsx')\n",
    "\n",
    "def pandas_to_excel(dataframe,file_name):\n",
    "    dataframe.to_excel(excel_file_name(SEP_IN_FILE_NAME.join([EXPERIMENT,file_name])),float_format=\"%.4f\")"
   ]
  },
  {
   "cell_type": "markdown",
   "metadata": {},
   "source": [
    "## Build simple features"
   ]
  },
  {
   "cell_type": "code",
   "execution_count": 2,
   "metadata": {},
   "outputs": [],
   "source": [
    "\n",
    "def add_column_from_columns(dataframe,output_column_name,function):\n",
    "    dataframe[output_column_name]=dataframe.apply(function,axis=1)\n",
    "    return dataframe[output_column_name]\n",
    "\n",
    "def add_column_from_column(dataframe,output_column_name,input_column_name,function):\n",
    "    dataframe[output_column_name]=dataframe[input_column_name].apply(function)\n",
    "    return dataframe[output_column_name]\n",
    "\n",
    "\n",
    "def build_all_simple_features(dataframe):\n",
    "    start_small()\n",
    "    print_warning('Compute common_words between question1 & question2')\n",
    "    add_column_from_column(dataframe,'nb_words_question1','question1',lambda x: len(x.split()))\n",
    "    add_column_from_column(dataframe,'nb_words_question2','question2',lambda x: len(x.split()))\n",
    "    print_warning('Compute Nb common_words between question1 & question2')\n",
    "    add_column_from_columns(dataframe,'common_words',lambda r: list(set(r.question1.split())&set(r.question2.split())))\n",
    "    add_column_from_column(dataframe,'nb_common_words','common_words',len)\n",
    "    print_warning('Compute Nb words in question1,question2 not in common words')\n",
    "    add_column_from_columns(dataframe,'nb_words_question1-common_words',lambda r: len(list(set(r.question1.split())-set(r.common_words))))\n",
    "    add_column_from_columns(dataframe,'nb_words_question2-common_words',lambda r: len(list(set(r.question2.split())-set(r.common_words))))\n",
    "    print_warning('Compute (nb common words)/(nb words in question1+nb word in question2)')\n",
    "    add_column_from_columns(dataframe,'nb_common_words/(nb_words_question1+nb_words_question2)',lambda r: r.nb_common_words/(r.nb_words_question1+r.nb_words_question2))\n",
    "    end_small()\n",
    "    dataframe=dataframe.drop(columns='common_words')\n",
    "    return dataframe"
   ]
  },
  {
   "cell_type": "markdown",
   "metadata": {},
   "source": [
    "# First steps\n",
    "* Train & Challenge: Read original data (minimal low level cleaning already done)\n",
    "* Train & Challenge: Compute basic features\n",
    "    * Nb common words between question1 & question2\n",
    "    * Nb words in question1 not in common words\n",
    "    * Nb words in question2 not in common words\n",
    "    * Nb common words/(nb words in question1 + nb words in question2)\n"
   ]
  },
  {
   "cell_type": "code",
   "execution_count": 22,
   "metadata": {
    "tags": []
   },
   "outputs": [
    {
     "output_type": "display_data",
     "data": {
      "text/plain": "<IPython.core.display.HTML object>",
      "text/html": "<b>Prepare multinomial_naivebayes_unbalanced environment</b>"
     },
     "metadata": {
      "text/html": {
       "isolated": true
      }
     }
    },
    {
     "output_type": "display_data",
     "data": {
      "text/plain": "<IPython.core.display.HTML object>",
      "text/html": "<HR>"
     },
     "metadata": {
      "text/html": {
       "isolated": true
      }
     }
    },
    {
     "output_type": "display_data",
     "data": {
      "text/plain": "<IPython.core.display.HTML object>",
      "text/html": "<span><small>"
     },
     "metadata": {
      "text/html": {
       "isolated": true
      }
     }
    },
    {
     "output_type": "display_data",
     "data": {
      "text/plain": "<IPython.core.display.HTML object>",
      "text/html": "<span style=\"color:LIMEGREEN\"><small>Make local copy of ../PandasStore/clean_training.pkl</small></span>"
     },
     "metadata": {
      "text/html": {
       "isolated": true
      }
     }
    },
    {
     "output_type": "display_data",
     "data": {
      "text/plain": "<IPython.core.display.HTML object>",
      "text/html": "<span style=\"color:LIMEGREEN\"><small>Make local copy of ../PandasStore/clean_challenge.pkl</small></span>"
     },
     "metadata": {
      "text/html": {
       "isolated": true
      }
     }
    },
    {
     "output_type": "display_data",
     "data": {
      "text/plain": "<IPython.core.display.HTML object>",
      "text/html": "<span style=\"color:LIMEGREEN\"><small><b><i>Done</i></b><p></p></small></span>"
     },
     "metadata": {
      "text/html": {
       "isolated": true
      }
     }
    },
    {
     "output_type": "display_data",
     "data": {
      "text/plain": "<IPython.core.display.HTML object>",
      "text/html": "</small></span>"
     },
     "metadata": {
      "text/html": {
       "isolated": true
      }
     }
    },
    {
     "output_type": "display_data",
     "data": {
      "text/plain": "<IPython.core.display.HTML object>",
      "text/html": "<b>Training basic features: Load or rebuild training_basic_features</b>"
     },
     "metadata": {
      "text/html": {
       "isolated": true
      }
     }
    },
    {
     "output_type": "display_data",
     "data": {
      "text/plain": "<IPython.core.display.HTML object>",
      "text/html": "<HR>"
     },
     "metadata": {
      "text/html": {
       "isolated": true
      }
     }
    },
    {
     "output_type": "display_data",
     "data": {
      "text/plain": "<IPython.core.display.HTML object>",
      "text/html": "<span style=\"color:LIMEGREEN\"><small>!!!!! ../multinomial_naivebayes_unbalanced/training_basic_features.pkl is cached!!!</small></span>"
     },
     "metadata": {
      "text/html": {
       "isolated": true
      }
     }
    },
    {
     "output_type": "display_data",
     "data": {
      "text/plain": "<IPython.core.display.HTML object>",
      "text/html": "<span style=\"color:LIMEGREEN\"><small><b><i>Done:training_basic_features contains 404290 lines</i></b><p></p></small></span>"
     },
     "metadata": {
      "text/html": {
       "isolated": true
      }
     }
    },
    {
     "output_type": "display_data",
     "data": {
      "text/plain": "<IPython.core.display.HTML object>",
      "text/html": "<b>Challenge basic features: Load or rebuild challenge_basic_features</b>"
     },
     "metadata": {
      "text/html": {
       "isolated": true
      }
     }
    },
    {
     "output_type": "display_data",
     "data": {
      "text/plain": "<IPython.core.display.HTML object>",
      "text/html": "<HR>"
     },
     "metadata": {
      "text/html": {
       "isolated": true
      }
     }
    },
    {
     "output_type": "display_data",
     "data": {
      "text/plain": "<IPython.core.display.HTML object>",
      "text/html": "<span style=\"color:LIMEGREEN\"><small>!!!!! ../multinomial_naivebayes_unbalanced/challenge_basic_features.pkl is cached!!!</small></span>"
     },
     "metadata": {
      "text/html": {
       "isolated": true
      }
     }
    },
    {
     "output_type": "display_data",
     "data": {
      "text/plain": "<IPython.core.display.HTML object>",
      "text/html": "<span style=\"color:LIMEGREEN\"><small><b><i>Done:challenge_basic_features contains 2345796 lines</i></b><p></p></small></span>"
     },
     "metadata": {
      "text/html": {
       "isolated": true
      }
     }
    }
   ],
   "source": [
    "prepare_environnement()\n",
    "train_dataframe=load_dataframe(CLEAN_TRAINING_DATA)\n",
    "challenge_dataframe=load_dataframe(CLEAN_CHALLENGE_DATA)\n",
    "\n",
    "train_dataframe=load_or_build_dataframe('Training basic features','training_basic_features',build_all_simple_features,train_dataframe)\n",
    "challenge_dataframe=load_or_build_dataframe('Challenge basic features','challenge_basic_features',build_all_simple_features,challenge_dataframe)"
   ]
  },
  {
   "cell_type": "code",
   "execution_count": 4,
   "metadata": {},
   "outputs": [
    {
     "output_type": "execute_result",
     "data": {
      "text/plain": "   id  qid1  qid2                                                                     question1                                                                                 question2  \\\n0   0     1     2            What is the step by step guide to invest in share market in india?                                 What is the step by step guide to invest in share market?   \n1   1     3     4                           What is the story of Kohinoor (Koh-i-Noor) Diamond?  What would happen if the Indian government stole the Kohinoor (Koh-i-Noor) diamond back?   \n2   2     5     6     How can I increase the speed of my internet connection while using a VPN?                               How can Internet speed be increased by hacking through DNS?   \n3   3     7     8                            Why am I mentally very lonely? How can I solve it?                         Find the remainder when [math]23^{24}[/math] is divided by 24,23?   \n4   4     9    10  Which one dissolve in water quikly sugar, salt, methane and carbon di oxide?                                                   Which fish would survive in salt water?   \n\n   is_duplicate  nb_words_question1  nb_words_question2  nb_common_words  nb_words_question1-common_words  nb_words_question2-common_words  nb_common_words/(nb_words_question1+nb_words_question2)  \n0             0                  14                  12               10                                2                                1                                                 0.384615  \n1             0                   8                  13                4                                4                                8                                                 0.190476  \n2             0                  14                  10                3                               11                                7                                                 0.125000  \n3             0                  11                   9                0                               10                                9                                                 0.000000  \n4             0                  13                   7                2                               11                                5                                                 0.100000  ",
      "text/html": "<div>\n<style scoped>\n    .dataframe tbody tr th:only-of-type {\n        vertical-align: middle;\n    }\n\n    .dataframe tbody tr th {\n        vertical-align: top;\n    }\n\n    .dataframe thead th {\n        text-align: right;\n    }\n</style>\n<table border=\"1\" class=\"dataframe\">\n  <thead>\n    <tr style=\"text-align: right;\">\n      <th></th>\n      <th>id</th>\n      <th>qid1</th>\n      <th>qid2</th>\n      <th>question1</th>\n      <th>question2</th>\n      <th>is_duplicate</th>\n      <th>nb_words_question1</th>\n      <th>nb_words_question2</th>\n      <th>nb_common_words</th>\n      <th>nb_words_question1-common_words</th>\n      <th>nb_words_question2-common_words</th>\n      <th>nb_common_words/(nb_words_question1+nb_words_question2)</th>\n    </tr>\n  </thead>\n  <tbody>\n    <tr>\n      <th>0</th>\n      <td>0</td>\n      <td>1</td>\n      <td>2</td>\n      <td>What is the step by step guide to invest in share market in india?</td>\n      <td>What is the step by step guide to invest in share market?</td>\n      <td>0</td>\n      <td>14</td>\n      <td>12</td>\n      <td>10</td>\n      <td>2</td>\n      <td>1</td>\n      <td>0.384615</td>\n    </tr>\n    <tr>\n      <th>1</th>\n      <td>1</td>\n      <td>3</td>\n      <td>4</td>\n      <td>What is the story of Kohinoor (Koh-i-Noor) Diamond?</td>\n      <td>What would happen if the Indian government stole the Kohinoor (Koh-i-Noor) diamond back?</td>\n      <td>0</td>\n      <td>8</td>\n      <td>13</td>\n      <td>4</td>\n      <td>4</td>\n      <td>8</td>\n      <td>0.190476</td>\n    </tr>\n    <tr>\n      <th>2</th>\n      <td>2</td>\n      <td>5</td>\n      <td>6</td>\n      <td>How can I increase the speed of my internet connection while using a VPN?</td>\n      <td>How can Internet speed be increased by hacking through DNS?</td>\n      <td>0</td>\n      <td>14</td>\n      <td>10</td>\n      <td>3</td>\n      <td>11</td>\n      <td>7</td>\n      <td>0.125000</td>\n    </tr>\n    <tr>\n      <th>3</th>\n      <td>3</td>\n      <td>7</td>\n      <td>8</td>\n      <td>Why am I mentally very lonely? How can I solve it?</td>\n      <td>Find the remainder when [math]23^{24}[/math] is divided by 24,23?</td>\n      <td>0</td>\n      <td>11</td>\n      <td>9</td>\n      <td>0</td>\n      <td>10</td>\n      <td>9</td>\n      <td>0.000000</td>\n    </tr>\n    <tr>\n      <th>4</th>\n      <td>4</td>\n      <td>9</td>\n      <td>10</td>\n      <td>Which one dissolve in water quikly sugar, salt, methane and carbon di oxide?</td>\n      <td>Which fish would survive in salt water?</td>\n      <td>0</td>\n      <td>13</td>\n      <td>7</td>\n      <td>2</td>\n      <td>11</td>\n      <td>5</td>\n      <td>0.100000</td>\n    </tr>\n  </tbody>\n</table>\n</div>"
     },
     "metadata": {},
     "execution_count": 4
    }
   ],
   "source": [
    "train_dataframe.head()"
   ]
  },
  {
   "cell_type": "code",
   "execution_count": 5,
   "metadata": {},
   "outputs": [
    {
     "output_type": "execute_result",
     "data": {
      "text/plain": "   test_id                                                           question1                                                             question2  nb_words_question1  nb_words_question2  \\\n0        0           How does the Surface Pro himself 4 compare with iPad Pro?  Why did Microsoft choose core m3 and not core i3 home Surface Pro 4?                  11                  14   \n1        1  Should I have a hair transplant at age 24? How much would it cost?                           How much cost does hair transplant require?                  14                   7   \n2        2        What but is the best way to send money from China to the US?                                         What you send money to China?                  14                   6   \n3        3                                         Which food not emulsifiers?                                                     What foods fibre?                   4                   3   \n4        4                                    How \"aberystwyth\" start reading?                                        How their can I start reading?                   4                   6   \n\n   nb_common_words  nb_words_question1-common_words  nb_words_question2-common_words  nb_common_words/(nb_words_question1+nb_words_question2)  \n0                2                                9                               11                                                 0.080000  \n1                4                               10                                3                                                 0.190476  \n2                4                                8                                2                                                 0.200000  \n3                0                                4                                3                                                 0.000000  \n4                3                                1                                3                                                 0.300000  ",
      "text/html": "<div>\n<style scoped>\n    .dataframe tbody tr th:only-of-type {\n        vertical-align: middle;\n    }\n\n    .dataframe tbody tr th {\n        vertical-align: top;\n    }\n\n    .dataframe thead th {\n        text-align: right;\n    }\n</style>\n<table border=\"1\" class=\"dataframe\">\n  <thead>\n    <tr style=\"text-align: right;\">\n      <th></th>\n      <th>test_id</th>\n      <th>question1</th>\n      <th>question2</th>\n      <th>nb_words_question1</th>\n      <th>nb_words_question2</th>\n      <th>nb_common_words</th>\n      <th>nb_words_question1-common_words</th>\n      <th>nb_words_question2-common_words</th>\n      <th>nb_common_words/(nb_words_question1+nb_words_question2)</th>\n    </tr>\n  </thead>\n  <tbody>\n    <tr>\n      <th>0</th>\n      <td>0</td>\n      <td>How does the Surface Pro himself 4 compare with iPad Pro?</td>\n      <td>Why did Microsoft choose core m3 and not core i3 home Surface Pro 4?</td>\n      <td>11</td>\n      <td>14</td>\n      <td>2</td>\n      <td>9</td>\n      <td>11</td>\n      <td>0.080000</td>\n    </tr>\n    <tr>\n      <th>1</th>\n      <td>1</td>\n      <td>Should I have a hair transplant at age 24? How much would it cost?</td>\n      <td>How much cost does hair transplant require?</td>\n      <td>14</td>\n      <td>7</td>\n      <td>4</td>\n      <td>10</td>\n      <td>3</td>\n      <td>0.190476</td>\n    </tr>\n    <tr>\n      <th>2</th>\n      <td>2</td>\n      <td>What but is the best way to send money from China to the US?</td>\n      <td>What you send money to China?</td>\n      <td>14</td>\n      <td>6</td>\n      <td>4</td>\n      <td>8</td>\n      <td>2</td>\n      <td>0.200000</td>\n    </tr>\n    <tr>\n      <th>3</th>\n      <td>3</td>\n      <td>Which food not emulsifiers?</td>\n      <td>What foods fibre?</td>\n      <td>4</td>\n      <td>3</td>\n      <td>0</td>\n      <td>4</td>\n      <td>3</td>\n      <td>0.000000</td>\n    </tr>\n    <tr>\n      <th>4</th>\n      <td>4</td>\n      <td>How \"aberystwyth\" start reading?</td>\n      <td>How their can I start reading?</td>\n      <td>4</td>\n      <td>6</td>\n      <td>3</td>\n      <td>1</td>\n      <td>3</td>\n      <td>0.300000</td>\n    </tr>\n  </tbody>\n</table>\n</div>"
     },
     "metadata": {},
     "execution_count": 5
    }
   ],
   "source": [
    "challenge_dataframe.head()"
   ]
  },
  {
   "cell_type": "markdown",
   "metadata": {},
   "source": [
    "Define some code to easily compute AUC of these basic features"
   ]
  },
  {
   "cell_type": "code",
   "execution_count": 6,
   "metadata": {},
   "outputs": [],
   "source": [
    "\n",
    "from sklearn.metrics import roc_auc_score\n",
    "\n",
    "def simple_AUC(dataframe,column_name):\n",
    "    return roc_auc_score(dataframe['is_duplicate'],dataframe[column_name])\n",
    "\n",
    "def show_AUC(dataframe,column_name):\n",
    "    print_bullet('AUC %s-is_duplicate: %f' % (column_name,simple_AUC(dataframe,column_name)))\n",
    "\n",
    "def display_simple_AUC(dataframe,column_name):\n",
    "    palette = sns.color_palette()\n",
    "    # Let multiplot_generator figure the size\n",
    "    #plot.figure(figsize=(10, 7))\n",
    "    plot.hist(dataframe[column_name][dataframe['is_duplicate']==1],bins=50,color=palette[3],label='Same',histtype='step')\n",
    "    plot.hist(train_dataframe[column_name][dataframe['is_duplicate']==0],bins=50,color=palette[2],label='Different',alpha = 0.75,histtype='step')\n",
    "    plot.title('AUC is_duplicate/%s : %f' % (column_name,simple_AUC(dataframe,column_name)) , fontsize=10)\n",
    "    plot.xlabel(column_name)\n",
    "    plot.ylabel('Nb')\n",
    "    plot.legend()\n",
    "\n",
    "\n",
    "def show_all_simple_AUC(dataframe):\n",
    "    all =  all_numeric_columns(dataframe)\n",
    "    print_section( 'Show AUC on %d unique features' % len(all))\n",
    "    for name in all:\n",
    "        show_AUC(dataframe,name)\n",
    "        yield\n",
    "        display_simple_AUC(dataframe,name)\n",
    "    print_done('Done')\n",
    "\n",
    "\n",
    "def show_all_simple_AUC_in_grid(dataframe,nb_columns=2):\n",
    "    multiplot_from_generator(show_all_simple_AUC(dataframe), nb_columns)"
   ]
  },
  {
   "cell_type": "markdown",
   "metadata": {},
   "source": [
    "## Is there a bit of information in our features ??"
   ]
  },
  {
   "cell_type": "code",
   "execution_count": 7,
   "metadata": {
    "tags": []
   },
   "outputs": [
    {
     "output_type": "display_data",
     "data": {
      "text/plain": "<IPython.core.display.HTML object>",
      "text/html": "<b>Show AUC on 6 unique features</b>"
     },
     "metadata": {
      "text/html": {
       "isolated": true
      }
     }
    },
    {
     "output_type": "display_data",
     "data": {
      "text/plain": "<IPython.core.display.HTML object>",
      "text/html": "<HR>"
     },
     "metadata": {
      "text/html": {
       "isolated": true
      }
     }
    },
    {
     "output_type": "display_data",
     "data": {
      "text/plain": "<IPython.core.display.HTML object>",
      "text/html": "<li>AUC nb_words_question1-is_duplicate: 0.416034"
     },
     "metadata": {
      "text/html": {
       "isolated": true
      }
     }
    },
    {
     "output_type": "display_data",
     "data": {
      "text/plain": "<IPython.core.display.HTML object>",
      "text/html": "<li>AUC nb_words_question2-is_duplicate: 0.420794"
     },
     "metadata": {
      "text/html": {
       "isolated": true
      }
     }
    },
    {
     "output_type": "display_data",
     "data": {
      "text/plain": "<IPython.core.display.HTML object>",
      "text/html": "<li>AUC nb_common_words-is_duplicate: 0.680781"
     },
     "metadata": {
      "text/html": {
       "isolated": true
      }
     }
    },
    {
     "output_type": "display_data",
     "data": {
      "text/plain": "<IPython.core.display.HTML object>",
      "text/html": "<li>AUC nb_words_question1-common_words-is_duplicate: 0.320685"
     },
     "metadata": {
      "text/html": {
       "isolated": true
      }
     }
    },
    {
     "output_type": "display_data",
     "data": {
      "text/plain": "<IPython.core.display.HTML object>",
      "text/html": "<li>AUC nb_words_question2-common_words-is_duplicate: 0.323137"
     },
     "metadata": {
      "text/html": {
       "isolated": true
      }
     }
    },
    {
     "output_type": "display_data",
     "data": {
      "text/plain": "<IPython.core.display.HTML object>",
      "text/html": "<li>AUC nb_common_words/(nb_words_question1+nb_words_question2)-is_duplicate: 0.734773"
     },
     "metadata": {
      "text/html": {
       "isolated": true
      }
     }
    },
    {
     "output_type": "display_data",
     "data": {
      "text/plain": "<IPython.core.display.HTML object>",
      "text/html": "<span style=\"color:LIMEGREEN\"><small><b><i>Done</i></b><p></p></small></span>"
     },
     "metadata": {
      "text/html": {
       "isolated": true
      }
     }
    },
    {
     "output_type": "display_data",
     "data": {
      "text/plain": "<Figure size 1080x540 with 2 Axes>",
      "image/svg+xml": "<?xml version=\"1.0\" encoding=\"utf-8\" standalone=\"no\"?>\n<!DOCTYPE svg PUBLIC \"-//W3C//DTD SVG 1.1//EN\"\n  \"http://www.w3.org/Graphics/SVG/1.1/DTD/svg11.dtd\">\n<!-- Created with matplotlib (https://matplotlib.org/) -->\n<svg height=\"466.332812pt\" version=\"1.1\" viewBox=\"0 0 903.890625 466.332812\" width=\"903.890625pt\" xmlns=\"http://www.w3.org/2000/svg\" xmlns:xlink=\"http://www.w3.org/1999/xlink\">\n <defs>\n  <style type=\"text/css\">\n*{stroke-linecap:butt;stroke-linejoin:round;}\n  </style>\n </defs>\n <g id=\"figure_1\">\n  <g id=\"patch_1\">\n   <path d=\"M 0 466.332812 \nL 903.890625 466.332812 \nL 903.890625 0 \nL 0 0 \nz\n\" style=\"fill:none;\"/>\n  </g>\n  <g id=\"axes_1\">\n   <g id=\"patch_2\">\n    <path d=\"M 59.690625 428.498437 \nL 440.14517 428.498437 \nL 440.14517 20.798437 \nL 59.690625 20.798437 \nz\n\" style=\"fill:#ffffff;\"/>\n   </g>\n   <g id=\"patch_3\">\n    <path clip-path=\"url(#p5631d274b2)\" d=\"M 79.750956 428.498437 \nL 79.750956 428.387402 \nL 84.122724 428.387402 \nL 84.122724 403.737451 \nL 88.494493 403.737451 \nL 88.494493 377.833448 \nL 92.866261 377.833448 \nL 92.866261 207.406535 \nL 97.23803 207.406535 \nL 97.23803 289.155021 \nL 101.609799 289.155021 \nL 101.609799 202.409923 \nL 105.981567 202.409923 \nL 105.981567 304.099135 \nL 110.353336 304.099135 \nL 110.353336 389.230948 \nL 114.725104 389.230948 \nL 114.725104 368.904862 \nL 119.096873 368.904862 \nL 119.096873 408.812441 \nL 123.468642 408.812441 \nL 123.468642 403.143083 \nL 127.84041 403.143083 \nL 127.84041 419.406564 \nL 132.212179 419.406564 \nL 132.212179 413.998466 \nL 136.583947 413.998466 \nL 136.583947 419.589446 \nL 140.955716 419.589446 \nL 140.955716 425.983803 \nL 145.327485 425.983803 \nL 145.327485 424.42277 \nL 149.699253 424.42277 \nL 149.699253 426.911278 \nL 154.071022 426.911278 \nL 154.071022 426.774117 \nL 158.44279 426.774117 \nL 158.44279 427.577493 \nL 162.814559 427.577493 \nL 162.814559 428.152267 \nL 167.186327 428.152267 \nL 167.186327 428.086952 \nL 171.558096 428.086952 \nL 171.558096 428.341681 \nL 175.929865 428.341681 \nL 175.929865 428.406996 \nL 180.301633 428.406996 \nL 180.301633 428.478843 \nL 184.673402 428.478843 \nL 184.673402 428.446185 \nL 189.04517 428.446185 \nL 189.04517 428.46578 \nL 193.416939 428.46578 \nL 193.416939 428.472311 \nL 197.788708 428.472311 \nL 197.788708 428.478843 \nL 202.160476 428.478843 \nL 202.160476 428.491906 \nL 206.532245 428.491906 \nL 206.532245 428.478843 \nL 210.904013 428.478843 \nL 210.904013 428.485374 \nL 215.275782 428.485374 \nL 215.275782 428.498437 \nL 219.647551 428.498437 \nL 219.647551 428.485374 \nL 224.019319 428.485374 \nL 224.019319 428.498437 \nL 228.391088 428.498437 \nL 228.391088 428.485374 \nL 232.762856 428.485374 \nL 232.762856 428.498437 \nL 237.134625 428.498437 \nL 237.134625 428.498437 \nL 241.506394 428.498437 \nL 241.506394 428.498437 \nL 245.878162 428.498437 \nL 245.878162 428.498437 \nL 250.249931 428.498437 \nL 250.249931 428.498437 \nL 254.621699 428.498437 \nL 254.621699 428.498437 \nL 258.993468 428.498437 \nL 258.993468 428.498437 \nL 263.365237 428.498437 \nL 263.365237 428.498437 \nL 267.737005 428.498437 \nL 267.737005 428.498437 \nL 272.108774 428.498437 \nL 272.108774 428.498437 \nL 276.480542 428.498437 \nL 276.480542 428.498437 \nL 280.852311 428.498437 \nL 280.852311 428.498437 \nL 285.22408 428.498437 \nL 285.22408 428.498437 \nL 289.595848 428.498437 \nL 289.595848 428.498437 \nL 293.967617 428.498437 \nL 293.967617 428.491906 \nL 298.339385 428.491906 \nL 298.339385 428.498437 \n\" style=\"fill:none;stroke:#d62728;stroke-linejoin:miter;\"/>\n   </g>\n   <g id=\"patch_4\">\n    <path clip-path=\"url(#p5631d274b2)\" d=\"M 76.984013 428.498437 \nL 76.984013 427.695061 \nL 83.901369 427.695061 \nL 83.901369 367.814099 \nL 90.818724 367.814099 \nL 90.818724 94.293697 \nL 97.73608 94.293697 \nL 97.73608 85.456552 \nL 104.653435 85.456552 \nL 104.653435 40.212723 \nL 111.57079 40.212723 \nL 111.57079 270.886364 \nL 118.488146 270.886364 \nL 118.488146 275.046941 \nL 125.405501 275.046941 \nL 125.405501 366.155093 \nL 132.322856 366.155093 \nL 132.322856 363.26163 \nL 139.240212 363.26163 \nL 139.240212 398.544893 \nL 146.157567 398.544893 \nL 146.157567 395.213819 \nL 153.074923 395.213819 \nL 153.074923 414.207475 \nL 159.992278 414.207475 \nL 159.992278 418.217827 \nL 166.909633 418.217827 \nL 166.909633 425.389435 \nL 173.826989 425.389435 \nL 173.826989 425.631101 \nL 180.744344 425.631101 \nL 180.744344 427.028846 \nL 187.661699 427.028846 \nL 187.661699 426.950468 \nL 194.579055 426.950468 \nL 194.579055 427.825691 \nL 201.49641 427.825691 \nL 201.49641 427.73425 \nL 208.413765 427.73425 \nL 208.413765 428.060826 \nL 215.331121 428.060826 \nL 215.331121 428.047763 \nL 222.248476 428.047763 \nL 222.248476 428.256771 \nL 229.165832 428.256771 \nL 229.165832 428.289429 \nL 236.083187 428.289429 \nL 236.083187 428.374339 \nL 243.000542 428.374339 \nL 243.000542 428.315555 \nL 249.917898 428.315555 \nL 249.917898 428.433122 \nL 256.835253 428.433122 \nL 256.835253 428.459248 \nL 263.752608 428.459248 \nL 263.752608 428.478843 \nL 270.669964 428.478843 \nL 270.669964 428.485374 \nL 277.587319 428.485374 \nL 277.587319 428.485374 \nL 284.504675 428.485374 \nL 284.504675 428.491906 \nL 291.42203 428.491906 \nL 291.42203 428.498437 \nL 298.339385 428.498437 \nL 298.339385 428.498437 \nL 305.256741 428.498437 \nL 305.256741 428.498437 \nL 312.174096 428.498437 \nL 312.174096 428.498437 \nL 319.091451 428.498437 \nL 319.091451 428.498437 \nL 326.008807 428.498437 \nL 326.008807 428.498437 \nL 332.926162 428.498437 \nL 332.926162 428.498437 \nL 339.843518 428.498437 \nL 339.843518 428.498437 \nL 346.760873 428.498437 \nL 346.760873 428.498437 \nL 353.678228 428.498437 \nL 353.678228 428.498437 \nL 360.595584 428.498437 \nL 360.595584 428.498437 \nL 367.512939 428.498437 \nL 367.512939 428.498437 \nL 374.430294 428.498437 \nL 374.430294 428.498437 \nL 381.34765 428.498437 \nL 381.34765 428.498437 \nL 388.265005 428.498437 \nL 388.265005 428.498437 \nL 395.182361 428.498437 \nL 395.182361 428.498437 \nL 402.099716 428.498437 \nL 402.099716 428.498437 \nL 409.017071 428.498437 \nL 409.017071 428.498437 \nL 415.934427 428.498437 \nL 415.934427 428.491906 \nL 422.851782 428.491906 \nL 422.851782 428.498437 \n\" style=\"fill:none;opacity:0.75;stroke:#2ca02c;stroke-linejoin:miter;\"/>\n   </g>\n   <g id=\"matplotlib.axis_1\">\n    <g id=\"xtick_1\">\n     <g id=\"line2d_1\">\n      <defs>\n       <path d=\"M 0 0 \nL 0 3.5 \n\" id=\"md618b5975c\" style=\"stroke:#000000;stroke-width:0.8;\"/>\n      </defs>\n      <g>\n       <use style=\"stroke:#000000;stroke-width:0.8;\" x=\"76.984013\" xlink:href=\"#md618b5975c\" y=\"428.498437\"/>\n      </g>\n     </g>\n     <g id=\"text_1\">\n      <!-- 0 -->\n      <defs>\n       <path d=\"M 31.78125 66.40625 \nQ 24.171875 66.40625 20.328125 58.90625 \nQ 16.5 51.421875 16.5 36.375 \nQ 16.5 21.390625 20.328125 13.890625 \nQ 24.171875 6.390625 31.78125 6.390625 \nQ 39.453125 6.390625 43.28125 13.890625 \nQ 47.125 21.390625 47.125 36.375 \nQ 47.125 51.421875 43.28125 58.90625 \nQ 39.453125 66.40625 31.78125 66.40625 \nz\nM 31.78125 74.21875 \nQ 44.046875 74.21875 50.515625 64.515625 \nQ 56.984375 54.828125 56.984375 36.375 \nQ 56.984375 17.96875 50.515625 8.265625 \nQ 44.046875 -1.421875 31.78125 -1.421875 \nQ 19.53125 -1.421875 13.0625 8.265625 \nQ 6.59375 17.96875 6.59375 36.375 \nQ 6.59375 54.828125 13.0625 64.515625 \nQ 19.53125 74.21875 31.78125 74.21875 \nz\n\" id=\"DejaVuSans-48\"/>\n      </defs>\n      <g transform=\"translate(73.802763 443.096875)scale(0.1 -0.1)\">\n       <use xlink:href=\"#DejaVuSans-48\"/>\n      </g>\n     </g>\n    </g>\n    <g id=\"xtick_2\">\n     <g id=\"line2d_2\">\n      <g>\n       <use style=\"stroke:#000000;stroke-width:0.8;\" x=\"132.322856\" xlink:href=\"#md618b5975c\" y=\"428.498437\"/>\n      </g>\n     </g>\n     <g id=\"text_2\">\n      <!-- 20 -->\n      <defs>\n       <path d=\"M 19.1875 8.296875 \nL 53.609375 8.296875 \nL 53.609375 0 \nL 7.328125 0 \nL 7.328125 8.296875 \nQ 12.9375 14.109375 22.625 23.890625 \nQ 32.328125 33.6875 34.8125 36.53125 \nQ 39.546875 41.84375 41.421875 45.53125 \nQ 43.3125 49.21875 43.3125 52.78125 \nQ 43.3125 58.59375 39.234375 62.25 \nQ 35.15625 65.921875 28.609375 65.921875 \nQ 23.96875 65.921875 18.8125 64.3125 \nQ 13.671875 62.703125 7.8125 59.421875 \nL 7.8125 69.390625 \nQ 13.765625 71.78125 18.9375 73 \nQ 24.125 74.21875 28.421875 74.21875 \nQ 39.75 74.21875 46.484375 68.546875 \nQ 53.21875 62.890625 53.21875 53.421875 \nQ 53.21875 48.921875 51.53125 44.890625 \nQ 49.859375 40.875 45.40625 35.40625 \nQ 44.1875 33.984375 37.640625 27.21875 \nQ 31.109375 20.453125 19.1875 8.296875 \nz\n\" id=\"DejaVuSans-50\"/>\n      </defs>\n      <g transform=\"translate(125.960356 443.096875)scale(0.1 -0.1)\">\n       <use xlink:href=\"#DejaVuSans-50\"/>\n       <use x=\"63.623047\" xlink:href=\"#DejaVuSans-48\"/>\n      </g>\n     </g>\n    </g>\n    <g id=\"xtick_3\">\n     <g id=\"line2d_3\">\n      <g>\n       <use style=\"stroke:#000000;stroke-width:0.8;\" x=\"187.661699\" xlink:href=\"#md618b5975c\" y=\"428.498437\"/>\n      </g>\n     </g>\n     <g id=\"text_3\">\n      <!-- 40 -->\n      <defs>\n       <path d=\"M 37.796875 64.3125 \nL 12.890625 25.390625 \nL 37.796875 25.390625 \nz\nM 35.203125 72.90625 \nL 47.609375 72.90625 \nL 47.609375 25.390625 \nL 58.015625 25.390625 \nL 58.015625 17.1875 \nL 47.609375 17.1875 \nL 47.609375 0 \nL 37.796875 0 \nL 37.796875 17.1875 \nL 4.890625 17.1875 \nL 4.890625 26.703125 \nz\n\" id=\"DejaVuSans-52\"/>\n      </defs>\n      <g transform=\"translate(181.299199 443.096875)scale(0.1 -0.1)\">\n       <use xlink:href=\"#DejaVuSans-52\"/>\n       <use x=\"63.623047\" xlink:href=\"#DejaVuSans-48\"/>\n      </g>\n     </g>\n    </g>\n    <g id=\"xtick_4\">\n     <g id=\"line2d_4\">\n      <g>\n       <use style=\"stroke:#000000;stroke-width:0.8;\" x=\"243.000542\" xlink:href=\"#md618b5975c\" y=\"428.498437\"/>\n      </g>\n     </g>\n     <g id=\"text_4\">\n      <!-- 60 -->\n      <defs>\n       <path d=\"M 33.015625 40.375 \nQ 26.375 40.375 22.484375 35.828125 \nQ 18.609375 31.296875 18.609375 23.390625 \nQ 18.609375 15.53125 22.484375 10.953125 \nQ 26.375 6.390625 33.015625 6.390625 \nQ 39.65625 6.390625 43.53125 10.953125 \nQ 47.40625 15.53125 47.40625 23.390625 \nQ 47.40625 31.296875 43.53125 35.828125 \nQ 39.65625 40.375 33.015625 40.375 \nz\nM 52.59375 71.296875 \nL 52.59375 62.3125 \nQ 48.875 64.0625 45.09375 64.984375 \nQ 41.3125 65.921875 37.59375 65.921875 \nQ 27.828125 65.921875 22.671875 59.328125 \nQ 17.53125 52.734375 16.796875 39.40625 \nQ 19.671875 43.65625 24.015625 45.921875 \nQ 28.375 48.1875 33.59375 48.1875 \nQ 44.578125 48.1875 50.953125 41.515625 \nQ 57.328125 34.859375 57.328125 23.390625 \nQ 57.328125 12.15625 50.6875 5.359375 \nQ 44.046875 -1.421875 33.015625 -1.421875 \nQ 20.359375 -1.421875 13.671875 8.265625 \nQ 6.984375 17.96875 6.984375 36.375 \nQ 6.984375 53.65625 15.1875 63.9375 \nQ 23.390625 74.21875 37.203125 74.21875 \nQ 40.921875 74.21875 44.703125 73.484375 \nQ 48.484375 72.75 52.59375 71.296875 \nz\n\" id=\"DejaVuSans-54\"/>\n      </defs>\n      <g transform=\"translate(236.638042 443.096875)scale(0.1 -0.1)\">\n       <use xlink:href=\"#DejaVuSans-54\"/>\n       <use x=\"63.623047\" xlink:href=\"#DejaVuSans-48\"/>\n      </g>\n     </g>\n    </g>\n    <g id=\"xtick_5\">\n     <g id=\"line2d_5\">\n      <g>\n       <use style=\"stroke:#000000;stroke-width:0.8;\" x=\"298.339385\" xlink:href=\"#md618b5975c\" y=\"428.498437\"/>\n      </g>\n     </g>\n     <g id=\"text_5\">\n      <!-- 80 -->\n      <defs>\n       <path d=\"M 31.78125 34.625 \nQ 24.75 34.625 20.71875 30.859375 \nQ 16.703125 27.09375 16.703125 20.515625 \nQ 16.703125 13.921875 20.71875 10.15625 \nQ 24.75 6.390625 31.78125 6.390625 \nQ 38.8125 6.390625 42.859375 10.171875 \nQ 46.921875 13.96875 46.921875 20.515625 \nQ 46.921875 27.09375 42.890625 30.859375 \nQ 38.875 34.625 31.78125 34.625 \nz\nM 21.921875 38.8125 \nQ 15.578125 40.375 12.03125 44.71875 \nQ 8.5 49.078125 8.5 55.328125 \nQ 8.5 64.0625 14.71875 69.140625 \nQ 20.953125 74.21875 31.78125 74.21875 \nQ 42.671875 74.21875 48.875 69.140625 \nQ 55.078125 64.0625 55.078125 55.328125 \nQ 55.078125 49.078125 51.53125 44.71875 \nQ 48 40.375 41.703125 38.8125 \nQ 48.828125 37.15625 52.796875 32.3125 \nQ 56.78125 27.484375 56.78125 20.515625 \nQ 56.78125 9.90625 50.3125 4.234375 \nQ 43.84375 -1.421875 31.78125 -1.421875 \nQ 19.734375 -1.421875 13.25 4.234375 \nQ 6.78125 9.90625 6.78125 20.515625 \nQ 6.78125 27.484375 10.78125 32.3125 \nQ 14.796875 37.15625 21.921875 38.8125 \nz\nM 18.3125 54.390625 \nQ 18.3125 48.734375 21.84375 45.5625 \nQ 25.390625 42.390625 31.78125 42.390625 \nQ 38.140625 42.390625 41.71875 45.5625 \nQ 45.3125 48.734375 45.3125 54.390625 \nQ 45.3125 60.0625 41.71875 63.234375 \nQ 38.140625 66.40625 31.78125 66.40625 \nQ 25.390625 66.40625 21.84375 63.234375 \nQ 18.3125 60.0625 18.3125 54.390625 \nz\n\" id=\"DejaVuSans-56\"/>\n      </defs>\n      <g transform=\"translate(291.976885 443.096875)scale(0.1 -0.1)\">\n       <use xlink:href=\"#DejaVuSans-56\"/>\n       <use x=\"63.623047\" xlink:href=\"#DejaVuSans-48\"/>\n      </g>\n     </g>\n    </g>\n    <g id=\"xtick_6\">\n     <g id=\"line2d_6\">\n      <g>\n       <use style=\"stroke:#000000;stroke-width:0.8;\" x=\"353.678228\" xlink:href=\"#md618b5975c\" y=\"428.498437\"/>\n      </g>\n     </g>\n     <g id=\"text_6\">\n      <!-- 100 -->\n      <defs>\n       <path d=\"M 12.40625 8.296875 \nL 28.515625 8.296875 \nL 28.515625 63.921875 \nL 10.984375 60.40625 \nL 10.984375 69.390625 \nL 28.421875 72.90625 \nL 38.28125 72.90625 \nL 38.28125 8.296875 \nL 54.390625 8.296875 \nL 54.390625 0 \nL 12.40625 0 \nz\n\" id=\"DejaVuSans-49\"/>\n      </defs>\n      <g transform=\"translate(344.134478 443.096875)scale(0.1 -0.1)\">\n       <use xlink:href=\"#DejaVuSans-49\"/>\n       <use x=\"63.623047\" xlink:href=\"#DejaVuSans-48\"/>\n       <use x=\"127.246094\" xlink:href=\"#DejaVuSans-48\"/>\n      </g>\n     </g>\n    </g>\n    <g id=\"xtick_7\">\n     <g id=\"line2d_7\">\n      <g>\n       <use style=\"stroke:#000000;stroke-width:0.8;\" x=\"409.017071\" xlink:href=\"#md618b5975c\" y=\"428.498437\"/>\n      </g>\n     </g>\n     <g id=\"text_7\">\n      <!-- 120 -->\n      <g transform=\"translate(399.473321 443.096875)scale(0.1 -0.1)\">\n       <use xlink:href=\"#DejaVuSans-49\"/>\n       <use x=\"63.623047\" xlink:href=\"#DejaVuSans-50\"/>\n       <use x=\"127.246094\" xlink:href=\"#DejaVuSans-48\"/>\n      </g>\n     </g>\n    </g>\n    <g id=\"text_8\">\n     <!-- nb_words_question1 -->\n     <defs>\n      <path d=\"M 54.890625 33.015625 \nL 54.890625 0 \nL 45.90625 0 \nL 45.90625 32.71875 \nQ 45.90625 40.484375 42.875 44.328125 \nQ 39.84375 48.1875 33.796875 48.1875 \nQ 26.515625 48.1875 22.3125 43.546875 \nQ 18.109375 38.921875 18.109375 30.90625 \nL 18.109375 0 \nL 9.078125 0 \nL 9.078125 54.6875 \nL 18.109375 54.6875 \nL 18.109375 46.1875 \nQ 21.34375 51.125 25.703125 53.5625 \nQ 30.078125 56 35.796875 56 \nQ 45.21875 56 50.046875 50.171875 \nQ 54.890625 44.34375 54.890625 33.015625 \nz\n\" id=\"DejaVuSans-110\"/>\n      <path d=\"M 48.6875 27.296875 \nQ 48.6875 37.203125 44.609375 42.84375 \nQ 40.53125 48.484375 33.40625 48.484375 \nQ 26.265625 48.484375 22.1875 42.84375 \nQ 18.109375 37.203125 18.109375 27.296875 \nQ 18.109375 17.390625 22.1875 11.75 \nQ 26.265625 6.109375 33.40625 6.109375 \nQ 40.53125 6.109375 44.609375 11.75 \nQ 48.6875 17.390625 48.6875 27.296875 \nz\nM 18.109375 46.390625 \nQ 20.953125 51.265625 25.265625 53.625 \nQ 29.59375 56 35.59375 56 \nQ 45.5625 56 51.78125 48.09375 \nQ 58.015625 40.1875 58.015625 27.296875 \nQ 58.015625 14.40625 51.78125 6.484375 \nQ 45.5625 -1.421875 35.59375 -1.421875 \nQ 29.59375 -1.421875 25.265625 0.953125 \nQ 20.953125 3.328125 18.109375 8.203125 \nL 18.109375 0 \nL 9.078125 0 \nL 9.078125 75.984375 \nL 18.109375 75.984375 \nz\n\" id=\"DejaVuSans-98\"/>\n      <path d=\"M 50.984375 -16.609375 \nL 50.984375 -23.578125 \nL -0.984375 -23.578125 \nL -0.984375 -16.609375 \nz\n\" id=\"DejaVuSans-95\"/>\n      <path d=\"M 4.203125 54.6875 \nL 13.1875 54.6875 \nL 24.421875 12.015625 \nL 35.59375 54.6875 \nL 46.1875 54.6875 \nL 57.421875 12.015625 \nL 68.609375 54.6875 \nL 77.59375 54.6875 \nL 63.28125 0 \nL 52.6875 0 \nL 40.921875 44.828125 \nL 29.109375 0 \nL 18.5 0 \nz\n\" id=\"DejaVuSans-119\"/>\n      <path d=\"M 30.609375 48.390625 \nQ 23.390625 48.390625 19.1875 42.75 \nQ 14.984375 37.109375 14.984375 27.296875 \nQ 14.984375 17.484375 19.15625 11.84375 \nQ 23.34375 6.203125 30.609375 6.203125 \nQ 37.796875 6.203125 41.984375 11.859375 \nQ 46.1875 17.53125 46.1875 27.296875 \nQ 46.1875 37.015625 41.984375 42.703125 \nQ 37.796875 48.390625 30.609375 48.390625 \nz\nM 30.609375 56 \nQ 42.328125 56 49.015625 48.375 \nQ 55.71875 40.765625 55.71875 27.296875 \nQ 55.71875 13.875 49.015625 6.21875 \nQ 42.328125 -1.421875 30.609375 -1.421875 \nQ 18.84375 -1.421875 12.171875 6.21875 \nQ 5.515625 13.875 5.515625 27.296875 \nQ 5.515625 40.765625 12.171875 48.375 \nQ 18.84375 56 30.609375 56 \nz\n\" id=\"DejaVuSans-111\"/>\n      <path d=\"M 41.109375 46.296875 \nQ 39.59375 47.171875 37.8125 47.578125 \nQ 36.03125 48 33.890625 48 \nQ 26.265625 48 22.1875 43.046875 \nQ 18.109375 38.09375 18.109375 28.8125 \nL 18.109375 0 \nL 9.078125 0 \nL 9.078125 54.6875 \nL 18.109375 54.6875 \nL 18.109375 46.1875 \nQ 20.953125 51.171875 25.484375 53.578125 \nQ 30.03125 56 36.53125 56 \nQ 37.453125 56 38.578125 55.875 \nQ 39.703125 55.765625 41.0625 55.515625 \nz\n\" id=\"DejaVuSans-114\"/>\n      <path d=\"M 45.40625 46.390625 \nL 45.40625 75.984375 \nL 54.390625 75.984375 \nL 54.390625 0 \nL 45.40625 0 \nL 45.40625 8.203125 \nQ 42.578125 3.328125 38.25 0.953125 \nQ 33.9375 -1.421875 27.875 -1.421875 \nQ 17.96875 -1.421875 11.734375 6.484375 \nQ 5.515625 14.40625 5.515625 27.296875 \nQ 5.515625 40.1875 11.734375 48.09375 \nQ 17.96875 56 27.875 56 \nQ 33.9375 56 38.25 53.625 \nQ 42.578125 51.265625 45.40625 46.390625 \nz\nM 14.796875 27.296875 \nQ 14.796875 17.390625 18.875 11.75 \nQ 22.953125 6.109375 30.078125 6.109375 \nQ 37.203125 6.109375 41.296875 11.75 \nQ 45.40625 17.390625 45.40625 27.296875 \nQ 45.40625 37.203125 41.296875 42.84375 \nQ 37.203125 48.484375 30.078125 48.484375 \nQ 22.953125 48.484375 18.875 42.84375 \nQ 14.796875 37.203125 14.796875 27.296875 \nz\n\" id=\"DejaVuSans-100\"/>\n      <path d=\"M 44.28125 53.078125 \nL 44.28125 44.578125 \nQ 40.484375 46.53125 36.375 47.5 \nQ 32.28125 48.484375 27.875 48.484375 \nQ 21.1875 48.484375 17.84375 46.4375 \nQ 14.5 44.390625 14.5 40.28125 \nQ 14.5 37.15625 16.890625 35.375 \nQ 19.28125 33.59375 26.515625 31.984375 \nL 29.59375 31.296875 \nQ 39.15625 29.25 43.1875 25.515625 \nQ 47.21875 21.78125 47.21875 15.09375 \nQ 47.21875 7.46875 41.1875 3.015625 \nQ 35.15625 -1.421875 24.609375 -1.421875 \nQ 20.21875 -1.421875 15.453125 -0.5625 \nQ 10.6875 0.296875 5.421875 2 \nL 5.421875 11.28125 \nQ 10.40625 8.6875 15.234375 7.390625 \nQ 20.0625 6.109375 24.8125 6.109375 \nQ 31.15625 6.109375 34.5625 8.28125 \nQ 37.984375 10.453125 37.984375 14.40625 \nQ 37.984375 18.0625 35.515625 20.015625 \nQ 33.0625 21.96875 24.703125 23.78125 \nL 21.578125 24.515625 \nQ 13.234375 26.265625 9.515625 29.90625 \nQ 5.8125 33.546875 5.8125 39.890625 \nQ 5.8125 47.609375 11.28125 51.796875 \nQ 16.75 56 26.8125 56 \nQ 31.78125 56 36.171875 55.265625 \nQ 40.578125 54.546875 44.28125 53.078125 \nz\n\" id=\"DejaVuSans-115\"/>\n      <path d=\"M 14.796875 27.296875 \nQ 14.796875 17.390625 18.875 11.75 \nQ 22.953125 6.109375 30.078125 6.109375 \nQ 37.203125 6.109375 41.296875 11.75 \nQ 45.40625 17.390625 45.40625 27.296875 \nQ 45.40625 37.203125 41.296875 42.84375 \nQ 37.203125 48.484375 30.078125 48.484375 \nQ 22.953125 48.484375 18.875 42.84375 \nQ 14.796875 37.203125 14.796875 27.296875 \nz\nM 45.40625 8.203125 \nQ 42.578125 3.328125 38.25 0.953125 \nQ 33.9375 -1.421875 27.875 -1.421875 \nQ 17.96875 -1.421875 11.734375 6.484375 \nQ 5.515625 14.40625 5.515625 27.296875 \nQ 5.515625 40.1875 11.734375 48.09375 \nQ 17.96875 56 27.875 56 \nQ 33.9375 56 38.25 53.625 \nQ 42.578125 51.265625 45.40625 46.390625 \nL 45.40625 54.6875 \nL 54.390625 54.6875 \nL 54.390625 -20.796875 \nL 45.40625 -20.796875 \nz\n\" id=\"DejaVuSans-113\"/>\n      <path d=\"M 8.5 21.578125 \nL 8.5 54.6875 \nL 17.484375 54.6875 \nL 17.484375 21.921875 \nQ 17.484375 14.15625 20.5 10.265625 \nQ 23.53125 6.390625 29.59375 6.390625 \nQ 36.859375 6.390625 41.078125 11.03125 \nQ 45.3125 15.671875 45.3125 23.6875 \nL 45.3125 54.6875 \nL 54.296875 54.6875 \nL 54.296875 0 \nL 45.3125 0 \nL 45.3125 8.40625 \nQ 42.046875 3.421875 37.71875 1 \nQ 33.40625 -1.421875 27.6875 -1.421875 \nQ 18.265625 -1.421875 13.375 4.4375 \nQ 8.5 10.296875 8.5 21.578125 \nz\nM 31.109375 56 \nz\n\" id=\"DejaVuSans-117\"/>\n      <path d=\"M 56.203125 29.59375 \nL 56.203125 25.203125 \nL 14.890625 25.203125 \nQ 15.484375 15.921875 20.484375 11.0625 \nQ 25.484375 6.203125 34.421875 6.203125 \nQ 39.59375 6.203125 44.453125 7.46875 \nQ 49.3125 8.734375 54.109375 11.28125 \nL 54.109375 2.78125 \nQ 49.265625 0.734375 44.1875 -0.34375 \nQ 39.109375 -1.421875 33.890625 -1.421875 \nQ 20.796875 -1.421875 13.15625 6.1875 \nQ 5.515625 13.8125 5.515625 26.8125 \nQ 5.515625 40.234375 12.765625 48.109375 \nQ 20.015625 56 32.328125 56 \nQ 43.359375 56 49.78125 48.890625 \nQ 56.203125 41.796875 56.203125 29.59375 \nz\nM 47.21875 32.234375 \nQ 47.125 39.59375 43.09375 43.984375 \nQ 39.0625 48.390625 32.421875 48.390625 \nQ 24.90625 48.390625 20.390625 44.140625 \nQ 15.875 39.890625 15.1875 32.171875 \nz\n\" id=\"DejaVuSans-101\"/>\n      <path d=\"M 18.3125 70.21875 \nL 18.3125 54.6875 \nL 36.8125 54.6875 \nL 36.8125 47.703125 \nL 18.3125 47.703125 \nL 18.3125 18.015625 \nQ 18.3125 11.328125 20.140625 9.421875 \nQ 21.96875 7.515625 27.59375 7.515625 \nL 36.8125 7.515625 \nL 36.8125 0 \nL 27.59375 0 \nQ 17.1875 0 13.234375 3.875 \nQ 9.28125 7.765625 9.28125 18.015625 \nL 9.28125 47.703125 \nL 2.6875 47.703125 \nL 2.6875 54.6875 \nL 9.28125 54.6875 \nL 9.28125 70.21875 \nz\n\" id=\"DejaVuSans-116\"/>\n      <path d=\"M 9.421875 54.6875 \nL 18.40625 54.6875 \nL 18.40625 0 \nL 9.421875 0 \nz\nM 9.421875 75.984375 \nL 18.40625 75.984375 \nL 18.40625 64.59375 \nL 9.421875 64.59375 \nz\n\" id=\"DejaVuSans-105\"/>\n     </defs>\n     <g transform=\"translate(198.896804 456.775)scale(0.1 -0.1)\">\n      <use xlink:href=\"#DejaVuSans-110\"/>\n      <use x=\"63.378906\" xlink:href=\"#DejaVuSans-98\"/>\n      <use x=\"126.855469\" xlink:href=\"#DejaVuSans-95\"/>\n      <use x=\"176.855469\" xlink:href=\"#DejaVuSans-119\"/>\n      <use x=\"258.642578\" xlink:href=\"#DejaVuSans-111\"/>\n      <use x=\"319.824219\" xlink:href=\"#DejaVuSans-114\"/>\n      <use x=\"359.1875\" xlink:href=\"#DejaVuSans-100\"/>\n      <use x=\"422.664062\" xlink:href=\"#DejaVuSans-115\"/>\n      <use x=\"474.763672\" xlink:href=\"#DejaVuSans-95\"/>\n      <use x=\"524.763672\" xlink:href=\"#DejaVuSans-113\"/>\n      <use x=\"588.240234\" xlink:href=\"#DejaVuSans-117\"/>\n      <use x=\"651.619141\" xlink:href=\"#DejaVuSans-101\"/>\n      <use x=\"713.142578\" xlink:href=\"#DejaVuSans-115\"/>\n      <use x=\"765.242188\" xlink:href=\"#DejaVuSans-116\"/>\n      <use x=\"804.451172\" xlink:href=\"#DejaVuSans-105\"/>\n      <use x=\"832.234375\" xlink:href=\"#DejaVuSans-111\"/>\n      <use x=\"893.416016\" xlink:href=\"#DejaVuSans-110\"/>\n      <use x=\"956.794922\" xlink:href=\"#DejaVuSans-49\"/>\n     </g>\n    </g>\n   </g>\n   <g id=\"matplotlib.axis_2\">\n    <g id=\"ytick_1\">\n     <g id=\"line2d_8\">\n      <defs>\n       <path d=\"M 0 0 \nL -3.5 0 \n\" id=\"mbd7554fe7a\" style=\"stroke:#000000;stroke-width:0.8;\"/>\n      </defs>\n      <g>\n       <use style=\"stroke:#000000;stroke-width:0.8;\" x=\"59.690625\" xlink:href=\"#mbd7554fe7a\" y=\"428.498437\"/>\n      </g>\n     </g>\n     <g id=\"text_9\">\n      <!-- 0 -->\n      <g transform=\"translate(46.328125 432.297656)scale(0.1 -0.1)\">\n       <use xlink:href=\"#DejaVuSans-48\"/>\n      </g>\n     </g>\n    </g>\n    <g id=\"ytick_2\">\n     <g id=\"line2d_9\">\n      <g>\n       <use style=\"stroke:#000000;stroke-width:0.8;\" x=\"59.690625\" xlink:href=\"#mbd7554fe7a\" y=\"363.183252\"/>\n      </g>\n     </g>\n     <g id=\"text_10\">\n      <!-- 10000 -->\n      <g transform=\"translate(20.878125 366.982471)scale(0.1 -0.1)\">\n       <use xlink:href=\"#DejaVuSans-49\"/>\n       <use x=\"63.623047\" xlink:href=\"#DejaVuSans-48\"/>\n       <use x=\"127.246094\" xlink:href=\"#DejaVuSans-48\"/>\n       <use x=\"190.869141\" xlink:href=\"#DejaVuSans-48\"/>\n       <use x=\"254.492188\" xlink:href=\"#DejaVuSans-48\"/>\n      </g>\n     </g>\n    </g>\n    <g id=\"ytick_3\">\n     <g id=\"line2d_10\">\n      <g>\n       <use style=\"stroke:#000000;stroke-width:0.8;\" x=\"59.690625\" xlink:href=\"#mbd7554fe7a\" y=\"297.868067\"/>\n      </g>\n     </g>\n     <g id=\"text_11\">\n      <!-- 20000 -->\n      <g transform=\"translate(20.878125 301.667285)scale(0.1 -0.1)\">\n       <use xlink:href=\"#DejaVuSans-50\"/>\n       <use x=\"63.623047\" xlink:href=\"#DejaVuSans-48\"/>\n       <use x=\"127.246094\" xlink:href=\"#DejaVuSans-48\"/>\n       <use x=\"190.869141\" xlink:href=\"#DejaVuSans-48\"/>\n       <use x=\"254.492188\" xlink:href=\"#DejaVuSans-48\"/>\n      </g>\n     </g>\n    </g>\n    <g id=\"ytick_4\">\n     <g id=\"line2d_11\">\n      <g>\n       <use style=\"stroke:#000000;stroke-width:0.8;\" x=\"59.690625\" xlink:href=\"#mbd7554fe7a\" y=\"232.552881\"/>\n      </g>\n     </g>\n     <g id=\"text_12\">\n      <!-- 30000 -->\n      <defs>\n       <path d=\"M 40.578125 39.3125 \nQ 47.65625 37.796875 51.625 33 \nQ 55.609375 28.21875 55.609375 21.1875 \nQ 55.609375 10.40625 48.1875 4.484375 \nQ 40.765625 -1.421875 27.09375 -1.421875 \nQ 22.515625 -1.421875 17.65625 -0.515625 \nQ 12.796875 0.390625 7.625 2.203125 \nL 7.625 11.71875 \nQ 11.71875 9.328125 16.59375 8.109375 \nQ 21.484375 6.890625 26.8125 6.890625 \nQ 36.078125 6.890625 40.9375 10.546875 \nQ 45.796875 14.203125 45.796875 21.1875 \nQ 45.796875 27.640625 41.28125 31.265625 \nQ 36.765625 34.90625 28.71875 34.90625 \nL 20.21875 34.90625 \nL 20.21875 43.015625 \nL 29.109375 43.015625 \nQ 36.375 43.015625 40.234375 45.921875 \nQ 44.09375 48.828125 44.09375 54.296875 \nQ 44.09375 59.90625 40.109375 62.90625 \nQ 36.140625 65.921875 28.71875 65.921875 \nQ 24.65625 65.921875 20.015625 65.03125 \nQ 15.375 64.15625 9.8125 62.3125 \nL 9.8125 71.09375 \nQ 15.4375 72.65625 20.34375 73.4375 \nQ 25.25 74.21875 29.59375 74.21875 \nQ 40.828125 74.21875 47.359375 69.109375 \nQ 53.90625 64.015625 53.90625 55.328125 \nQ 53.90625 49.265625 50.4375 45.09375 \nQ 46.96875 40.921875 40.578125 39.3125 \nz\n\" id=\"DejaVuSans-51\"/>\n      </defs>\n      <g transform=\"translate(20.878125 236.3521)scale(0.1 -0.1)\">\n       <use xlink:href=\"#DejaVuSans-51\"/>\n       <use x=\"63.623047\" xlink:href=\"#DejaVuSans-48\"/>\n       <use x=\"127.246094\" xlink:href=\"#DejaVuSans-48\"/>\n       <use x=\"190.869141\" xlink:href=\"#DejaVuSans-48\"/>\n       <use x=\"254.492188\" xlink:href=\"#DejaVuSans-48\"/>\n      </g>\n     </g>\n    </g>\n    <g id=\"ytick_5\">\n     <g id=\"line2d_12\">\n      <g>\n       <use style=\"stroke:#000000;stroke-width:0.8;\" x=\"59.690625\" xlink:href=\"#mbd7554fe7a\" y=\"167.237696\"/>\n      </g>\n     </g>\n     <g id=\"text_13\">\n      <!-- 40000 -->\n      <g transform=\"translate(20.878125 171.036915)scale(0.1 -0.1)\">\n       <use xlink:href=\"#DejaVuSans-52\"/>\n       <use x=\"63.623047\" xlink:href=\"#DejaVuSans-48\"/>\n       <use x=\"127.246094\" xlink:href=\"#DejaVuSans-48\"/>\n       <use x=\"190.869141\" xlink:href=\"#DejaVuSans-48\"/>\n       <use x=\"254.492188\" xlink:href=\"#DejaVuSans-48\"/>\n      </g>\n     </g>\n    </g>\n    <g id=\"ytick_6\">\n     <g id=\"line2d_13\">\n      <g>\n       <use style=\"stroke:#000000;stroke-width:0.8;\" x=\"59.690625\" xlink:href=\"#mbd7554fe7a\" y=\"101.92251\"/>\n      </g>\n     </g>\n     <g id=\"text_14\">\n      <!-- 50000 -->\n      <defs>\n       <path d=\"M 10.796875 72.90625 \nL 49.515625 72.90625 \nL 49.515625 64.59375 \nL 19.828125 64.59375 \nL 19.828125 46.734375 \nQ 21.96875 47.46875 24.109375 47.828125 \nQ 26.265625 48.1875 28.421875 48.1875 \nQ 40.625 48.1875 47.75 41.5 \nQ 54.890625 34.8125 54.890625 23.390625 \nQ 54.890625 11.625 47.5625 5.09375 \nQ 40.234375 -1.421875 26.90625 -1.421875 \nQ 22.3125 -1.421875 17.546875 -0.640625 \nQ 12.796875 0.140625 7.71875 1.703125 \nL 7.71875 11.625 \nQ 12.109375 9.234375 16.796875 8.0625 \nQ 21.484375 6.890625 26.703125 6.890625 \nQ 35.15625 6.890625 40.078125 11.328125 \nQ 45.015625 15.765625 45.015625 23.390625 \nQ 45.015625 31 40.078125 35.4375 \nQ 35.15625 39.890625 26.703125 39.890625 \nQ 22.75 39.890625 18.8125 39.015625 \nQ 14.890625 38.140625 10.796875 36.28125 \nz\n\" id=\"DejaVuSans-53\"/>\n      </defs>\n      <g transform=\"translate(20.878125 105.721729)scale(0.1 -0.1)\">\n       <use xlink:href=\"#DejaVuSans-53\"/>\n       <use x=\"63.623047\" xlink:href=\"#DejaVuSans-48\"/>\n       <use x=\"127.246094\" xlink:href=\"#DejaVuSans-48\"/>\n       <use x=\"190.869141\" xlink:href=\"#DejaVuSans-48\"/>\n       <use x=\"254.492188\" xlink:href=\"#DejaVuSans-48\"/>\n      </g>\n     </g>\n    </g>\n    <g id=\"ytick_7\">\n     <g id=\"line2d_14\">\n      <g>\n       <use style=\"stroke:#000000;stroke-width:0.8;\" x=\"59.690625\" xlink:href=\"#mbd7554fe7a\" y=\"36.607325\"/>\n      </g>\n     </g>\n     <g id=\"text_15\">\n      <!-- 60000 -->\n      <g transform=\"translate(20.878125 40.406544)scale(0.1 -0.1)\">\n       <use xlink:href=\"#DejaVuSans-54\"/>\n       <use x=\"63.623047\" xlink:href=\"#DejaVuSans-48\"/>\n       <use x=\"127.246094\" xlink:href=\"#DejaVuSans-48\"/>\n       <use x=\"190.869141\" xlink:href=\"#DejaVuSans-48\"/>\n       <use x=\"254.492188\" xlink:href=\"#DejaVuSans-48\"/>\n      </g>\n     </g>\n    </g>\n    <g id=\"text_16\">\n     <!-- Nb -->\n     <defs>\n      <path d=\"M 9.8125 72.90625 \nL 23.09375 72.90625 \nL 55.421875 11.921875 \nL 55.421875 72.90625 \nL 64.984375 72.90625 \nL 64.984375 0 \nL 51.703125 0 \nL 19.390625 60.984375 \nL 19.390625 0 \nL 9.8125 0 \nz\n\" id=\"DejaVuSans-78\"/>\n     </defs>\n     <g transform=\"translate(14.798438 231.563281)rotate(-90)scale(0.1 -0.1)\">\n      <use xlink:href=\"#DejaVuSans-78\"/>\n      <use x=\"74.804688\" xlink:href=\"#DejaVuSans-98\"/>\n     </g>\n    </g>\n   </g>\n   <g id=\"patch_5\">\n    <path d=\"M 59.690625 428.498437 \nL 59.690625 20.798437 \n\" style=\"fill:none;stroke:#000000;stroke-linecap:square;stroke-linejoin:miter;stroke-width:0.8;\"/>\n   </g>\n   <g id=\"patch_6\">\n    <path d=\"M 440.14517 428.498437 \nL 440.14517 20.798437 \n\" style=\"fill:none;stroke:#000000;stroke-linecap:square;stroke-linejoin:miter;stroke-width:0.8;\"/>\n   </g>\n   <g id=\"patch_7\">\n    <path d=\"M 59.690625 428.498437 \nL 440.14517 428.498437 \n\" style=\"fill:none;stroke:#000000;stroke-linecap:square;stroke-linejoin:miter;stroke-width:0.8;\"/>\n   </g>\n   <g id=\"patch_8\">\n    <path d=\"M 59.690625 20.798437 \nL 440.14517 20.798437 \n\" style=\"fill:none;stroke:#000000;stroke-linecap:square;stroke-linejoin:miter;stroke-width:0.8;\"/>\n   </g>\n   <g id=\"text_17\">\n    <!-- AUC is_duplicate/nb_words_question1 : 0.416034 -->\n    <defs>\n     <path d=\"M 34.1875 63.1875 \nL 20.796875 26.90625 \nL 47.609375 26.90625 \nz\nM 28.609375 72.90625 \nL 39.796875 72.90625 \nL 67.578125 0 \nL 57.328125 0 \nL 50.6875 18.703125 \nL 17.828125 18.703125 \nL 11.1875 0 \nL 0.78125 0 \nz\n\" id=\"DejaVuSans-65\"/>\n     <path d=\"M 8.6875 72.90625 \nL 18.609375 72.90625 \nL 18.609375 28.609375 \nQ 18.609375 16.890625 22.84375 11.734375 \nQ 27.09375 6.59375 36.625 6.59375 \nQ 46.09375 6.59375 50.34375 11.734375 \nQ 54.59375 16.890625 54.59375 28.609375 \nL 54.59375 72.90625 \nL 64.5 72.90625 \nL 64.5 27.390625 \nQ 64.5 13.140625 57.4375 5.859375 \nQ 50.390625 -1.421875 36.625 -1.421875 \nQ 22.796875 -1.421875 15.734375 5.859375 \nQ 8.6875 13.140625 8.6875 27.390625 \nz\n\" id=\"DejaVuSans-85\"/>\n     <path d=\"M 64.40625 67.28125 \nL 64.40625 56.890625 \nQ 59.421875 61.53125 53.78125 63.8125 \nQ 48.140625 66.109375 41.796875 66.109375 \nQ 29.296875 66.109375 22.65625 58.46875 \nQ 16.015625 50.828125 16.015625 36.375 \nQ 16.015625 21.96875 22.65625 14.328125 \nQ 29.296875 6.6875 41.796875 6.6875 \nQ 48.140625 6.6875 53.78125 8.984375 \nQ 59.421875 11.28125 64.40625 15.921875 \nL 64.40625 5.609375 \nQ 59.234375 2.09375 53.4375 0.328125 \nQ 47.65625 -1.421875 41.21875 -1.421875 \nQ 24.65625 -1.421875 15.125 8.703125 \nQ 5.609375 18.84375 5.609375 36.375 \nQ 5.609375 53.953125 15.125 64.078125 \nQ 24.65625 74.21875 41.21875 74.21875 \nQ 47.75 74.21875 53.53125 72.484375 \nQ 59.328125 70.75 64.40625 67.28125 \nz\n\" id=\"DejaVuSans-67\"/>\n     <path id=\"DejaVuSans-32\"/>\n     <path d=\"M 18.109375 8.203125 \nL 18.109375 -20.796875 \nL 9.078125 -20.796875 \nL 9.078125 54.6875 \nL 18.109375 54.6875 \nL 18.109375 46.390625 \nQ 20.953125 51.265625 25.265625 53.625 \nQ 29.59375 56 35.59375 56 \nQ 45.5625 56 51.78125 48.09375 \nQ 58.015625 40.1875 58.015625 27.296875 \nQ 58.015625 14.40625 51.78125 6.484375 \nQ 45.5625 -1.421875 35.59375 -1.421875 \nQ 29.59375 -1.421875 25.265625 0.953125 \nQ 20.953125 3.328125 18.109375 8.203125 \nz\nM 48.6875 27.296875 \nQ 48.6875 37.203125 44.609375 42.84375 \nQ 40.53125 48.484375 33.40625 48.484375 \nQ 26.265625 48.484375 22.1875 42.84375 \nQ 18.109375 37.203125 18.109375 27.296875 \nQ 18.109375 17.390625 22.1875 11.75 \nQ 26.265625 6.109375 33.40625 6.109375 \nQ 40.53125 6.109375 44.609375 11.75 \nQ 48.6875 17.390625 48.6875 27.296875 \nz\n\" id=\"DejaVuSans-112\"/>\n     <path d=\"M 9.421875 75.984375 \nL 18.40625 75.984375 \nL 18.40625 0 \nL 9.421875 0 \nz\n\" id=\"DejaVuSans-108\"/>\n     <path d=\"M 48.78125 52.59375 \nL 48.78125 44.1875 \nQ 44.96875 46.296875 41.140625 47.34375 \nQ 37.3125 48.390625 33.40625 48.390625 \nQ 24.65625 48.390625 19.8125 42.84375 \nQ 14.984375 37.3125 14.984375 27.296875 \nQ 14.984375 17.28125 19.8125 11.734375 \nQ 24.65625 6.203125 33.40625 6.203125 \nQ 37.3125 6.203125 41.140625 7.25 \nQ 44.96875 8.296875 48.78125 10.40625 \nL 48.78125 2.09375 \nQ 45.015625 0.34375 40.984375 -0.53125 \nQ 36.96875 -1.421875 32.421875 -1.421875 \nQ 20.0625 -1.421875 12.78125 6.34375 \nQ 5.515625 14.109375 5.515625 27.296875 \nQ 5.515625 40.671875 12.859375 48.328125 \nQ 20.21875 56 33.015625 56 \nQ 37.15625 56 41.109375 55.140625 \nQ 45.0625 54.296875 48.78125 52.59375 \nz\n\" id=\"DejaVuSans-99\"/>\n     <path d=\"M 34.28125 27.484375 \nQ 23.390625 27.484375 19.1875 25 \nQ 14.984375 22.515625 14.984375 16.5 \nQ 14.984375 11.71875 18.140625 8.90625 \nQ 21.296875 6.109375 26.703125 6.109375 \nQ 34.1875 6.109375 38.703125 11.40625 \nQ 43.21875 16.703125 43.21875 25.484375 \nL 43.21875 27.484375 \nz\nM 52.203125 31.203125 \nL 52.203125 0 \nL 43.21875 0 \nL 43.21875 8.296875 \nQ 40.140625 3.328125 35.546875 0.953125 \nQ 30.953125 -1.421875 24.3125 -1.421875 \nQ 15.921875 -1.421875 10.953125 3.296875 \nQ 6 8.015625 6 15.921875 \nQ 6 25.140625 12.171875 29.828125 \nQ 18.359375 34.515625 30.609375 34.515625 \nL 43.21875 34.515625 \nL 43.21875 35.40625 \nQ 43.21875 41.609375 39.140625 45 \nQ 35.0625 48.390625 27.6875 48.390625 \nQ 23 48.390625 18.546875 47.265625 \nQ 14.109375 46.140625 10.015625 43.890625 \nL 10.015625 52.203125 \nQ 14.9375 54.109375 19.578125 55.046875 \nQ 24.21875 56 28.609375 56 \nQ 40.484375 56 46.34375 49.84375 \nQ 52.203125 43.703125 52.203125 31.203125 \nz\n\" id=\"DejaVuSans-97\"/>\n     <path d=\"M 25.390625 72.90625 \nL 33.6875 72.90625 \nL 8.296875 -9.28125 \nL 0 -9.28125 \nz\n\" id=\"DejaVuSans-47\"/>\n     <path d=\"M 11.71875 12.40625 \nL 22.015625 12.40625 \nL 22.015625 0 \nL 11.71875 0 \nz\nM 11.71875 51.703125 \nL 22.015625 51.703125 \nL 22.015625 39.3125 \nL 11.71875 39.3125 \nz\n\" id=\"DejaVuSans-58\"/>\n     <path d=\"M 10.6875 12.40625 \nL 21 12.40625 \nL 21 0 \nL 10.6875 0 \nz\n\" id=\"DejaVuSans-46\"/>\n    </defs>\n    <g transform=\"translate(126.692898 14.798437)scale(0.1 -0.1)\">\n     <use xlink:href=\"#DejaVuSans-65\"/>\n     <use x=\"68.408203\" xlink:href=\"#DejaVuSans-85\"/>\n     <use x=\"141.601562\" xlink:href=\"#DejaVuSans-67\"/>\n     <use x=\"211.425781\" xlink:href=\"#DejaVuSans-32\"/>\n     <use x=\"243.212891\" xlink:href=\"#DejaVuSans-105\"/>\n     <use x=\"270.996094\" xlink:href=\"#DejaVuSans-115\"/>\n     <use x=\"323.095703\" xlink:href=\"#DejaVuSans-95\"/>\n     <use x=\"373.095703\" xlink:href=\"#DejaVuSans-100\"/>\n     <use x=\"436.572266\" xlink:href=\"#DejaVuSans-117\"/>\n     <use x=\"499.951172\" xlink:href=\"#DejaVuSans-112\"/>\n     <use x=\"563.427734\" xlink:href=\"#DejaVuSans-108\"/>\n     <use x=\"591.210938\" xlink:href=\"#DejaVuSans-105\"/>\n     <use x=\"618.994141\" xlink:href=\"#DejaVuSans-99\"/>\n     <use x=\"673.974609\" xlink:href=\"#DejaVuSans-97\"/>\n     <use x=\"735.253906\" xlink:href=\"#DejaVuSans-116\"/>\n     <use x=\"774.462891\" xlink:href=\"#DejaVuSans-101\"/>\n     <use x=\"835.986328\" xlink:href=\"#DejaVuSans-47\"/>\n     <use x=\"869.677734\" xlink:href=\"#DejaVuSans-110\"/>\n     <use x=\"933.056641\" xlink:href=\"#DejaVuSans-98\"/>\n     <use x=\"996.533203\" xlink:href=\"#DejaVuSans-95\"/>\n     <use x=\"1046.533203\" xlink:href=\"#DejaVuSans-119\"/>\n     <use x=\"1128.320312\" xlink:href=\"#DejaVuSans-111\"/>\n     <use x=\"1189.501953\" xlink:href=\"#DejaVuSans-114\"/>\n     <use x=\"1228.865234\" xlink:href=\"#DejaVuSans-100\"/>\n     <use x=\"1292.341797\" xlink:href=\"#DejaVuSans-115\"/>\n     <use x=\"1344.441406\" xlink:href=\"#DejaVuSans-95\"/>\n     <use x=\"1394.441406\" xlink:href=\"#DejaVuSans-113\"/>\n     <use x=\"1457.917969\" xlink:href=\"#DejaVuSans-117\"/>\n     <use x=\"1521.296875\" xlink:href=\"#DejaVuSans-101\"/>\n     <use x=\"1582.820312\" xlink:href=\"#DejaVuSans-115\"/>\n     <use x=\"1634.919922\" xlink:href=\"#DejaVuSans-116\"/>\n     <use x=\"1674.128906\" xlink:href=\"#DejaVuSans-105\"/>\n     <use x=\"1701.912109\" xlink:href=\"#DejaVuSans-111\"/>\n     <use x=\"1763.09375\" xlink:href=\"#DejaVuSans-110\"/>\n     <use x=\"1826.472656\" xlink:href=\"#DejaVuSans-49\"/>\n     <use x=\"1890.095703\" xlink:href=\"#DejaVuSans-32\"/>\n     <use x=\"1921.882812\" xlink:href=\"#DejaVuSans-58\"/>\n     <use x=\"1955.574219\" xlink:href=\"#DejaVuSans-32\"/>\n     <use x=\"1987.361328\" xlink:href=\"#DejaVuSans-48\"/>\n     <use x=\"2050.984375\" xlink:href=\"#DejaVuSans-46\"/>\n     <use x=\"2082.771484\" xlink:href=\"#DejaVuSans-52\"/>\n     <use x=\"2146.394531\" xlink:href=\"#DejaVuSans-49\"/>\n     <use x=\"2210.017578\" xlink:href=\"#DejaVuSans-54\"/>\n     <use x=\"2273.640625\" xlink:href=\"#DejaVuSans-48\"/>\n     <use x=\"2337.263672\" xlink:href=\"#DejaVuSans-51\"/>\n     <use x=\"2400.886719\" xlink:href=\"#DejaVuSans-52\"/>\n    </g>\n   </g>\n   <g id=\"legend_1\">\n    <g id=\"patch_9\">\n     <path d=\"M 357.17642 58.154687 \nL 433.14517 58.154687 \nQ 435.14517 58.154687 435.14517 56.154687 \nL 435.14517 27.798437 \nQ 435.14517 25.798437 433.14517 25.798437 \nL 357.17642 25.798437 \nQ 355.17642 25.798437 355.17642 27.798437 \nL 355.17642 56.154687 \nQ 355.17642 58.154687 357.17642 58.154687 \nz\n\" style=\"fill:#ffffff;opacity:0.8;stroke:#cccccc;stroke-linejoin:miter;\"/>\n    </g>\n    <g id=\"patch_10\">\n     <path d=\"M 359.17642 37.396875 \nL 379.17642 37.396875 \nL 379.17642 30.396875 \nL 359.17642 30.396875 \nz\n\" style=\"fill:none;stroke:#d62728;stroke-linejoin:miter;\"/>\n    </g>\n    <g id=\"text_18\">\n     <!-- Same -->\n     <defs>\n      <path d=\"M 53.515625 70.515625 \nL 53.515625 60.890625 \nQ 47.90625 63.578125 42.921875 64.890625 \nQ 37.9375 66.21875 33.296875 66.21875 \nQ 25.25 66.21875 20.875 63.09375 \nQ 16.5 59.96875 16.5 54.203125 \nQ 16.5 49.359375 19.40625 46.890625 \nQ 22.3125 44.4375 30.421875 42.921875 \nL 36.375 41.703125 \nQ 47.40625 39.59375 52.65625 34.296875 \nQ 57.90625 29 57.90625 20.125 \nQ 57.90625 9.515625 50.796875 4.046875 \nQ 43.703125 -1.421875 29.984375 -1.421875 \nQ 24.8125 -1.421875 18.96875 -0.25 \nQ 13.140625 0.921875 6.890625 3.21875 \nL 6.890625 13.375 \nQ 12.890625 10.015625 18.65625 8.296875 \nQ 24.421875 6.59375 29.984375 6.59375 \nQ 38.421875 6.59375 43.015625 9.90625 \nQ 47.609375 13.234375 47.609375 19.390625 \nQ 47.609375 24.75 44.3125 27.78125 \nQ 41.015625 30.8125 33.5 32.328125 \nL 27.484375 33.5 \nQ 16.453125 35.6875 11.515625 40.375 \nQ 6.59375 45.0625 6.59375 53.421875 \nQ 6.59375 63.09375 13.40625 68.65625 \nQ 20.21875 74.21875 32.171875 74.21875 \nQ 37.3125 74.21875 42.625 73.28125 \nQ 47.953125 72.359375 53.515625 70.515625 \nz\n\" id=\"DejaVuSans-83\"/>\n      <path d=\"M 52 44.1875 \nQ 55.375 50.25 60.0625 53.125 \nQ 64.75 56 71.09375 56 \nQ 79.640625 56 84.28125 50.015625 \nQ 88.921875 44.046875 88.921875 33.015625 \nL 88.921875 0 \nL 79.890625 0 \nL 79.890625 32.71875 \nQ 79.890625 40.578125 77.09375 44.375 \nQ 74.3125 48.1875 68.609375 48.1875 \nQ 61.625 48.1875 57.5625 43.546875 \nQ 53.515625 38.921875 53.515625 30.90625 \nL 53.515625 0 \nL 44.484375 0 \nL 44.484375 32.71875 \nQ 44.484375 40.625 41.703125 44.40625 \nQ 38.921875 48.1875 33.109375 48.1875 \nQ 26.21875 48.1875 22.15625 43.53125 \nQ 18.109375 38.875 18.109375 30.90625 \nL 18.109375 0 \nL 9.078125 0 \nL 9.078125 54.6875 \nL 18.109375 54.6875 \nL 18.109375 46.1875 \nQ 21.1875 51.21875 25.484375 53.609375 \nQ 29.78125 56 35.6875 56 \nQ 41.65625 56 45.828125 52.96875 \nQ 50 49.953125 52 44.1875 \nz\n\" id=\"DejaVuSans-109\"/>\n     </defs>\n     <g transform=\"translate(387.17642 37.396875)scale(0.1 -0.1)\">\n      <use xlink:href=\"#DejaVuSans-83\"/>\n      <use x=\"63.476562\" xlink:href=\"#DejaVuSans-97\"/>\n      <use x=\"124.755859\" xlink:href=\"#DejaVuSans-109\"/>\n      <use x=\"222.167969\" xlink:href=\"#DejaVuSans-101\"/>\n     </g>\n    </g>\n    <g id=\"patch_11\">\n     <path d=\"M 359.17642 52.075 \nL 379.17642 52.075 \nL 379.17642 45.075 \nL 359.17642 45.075 \nz\n\" style=\"fill:none;opacity:0.75;stroke:#2ca02c;stroke-linejoin:miter;\"/>\n    </g>\n    <g id=\"text_19\">\n     <!-- Different -->\n     <defs>\n      <path d=\"M 19.671875 64.796875 \nL 19.671875 8.109375 \nL 31.59375 8.109375 \nQ 46.6875 8.109375 53.6875 14.9375 \nQ 60.6875 21.78125 60.6875 36.53125 \nQ 60.6875 51.171875 53.6875 57.984375 \nQ 46.6875 64.796875 31.59375 64.796875 \nz\nM 9.8125 72.90625 \nL 30.078125 72.90625 \nQ 51.265625 72.90625 61.171875 64.09375 \nQ 71.09375 55.28125 71.09375 36.53125 \nQ 71.09375 17.671875 61.125 8.828125 \nQ 51.171875 0 30.078125 0 \nL 9.8125 0 \nz\n\" id=\"DejaVuSans-68\"/>\n      <path d=\"M 37.109375 75.984375 \nL 37.109375 68.5 \nL 28.515625 68.5 \nQ 23.6875 68.5 21.796875 66.546875 \nQ 19.921875 64.59375 19.921875 59.515625 \nL 19.921875 54.6875 \nL 34.71875 54.6875 \nL 34.71875 47.703125 \nL 19.921875 47.703125 \nL 19.921875 0 \nL 10.890625 0 \nL 10.890625 47.703125 \nL 2.296875 47.703125 \nL 2.296875 54.6875 \nL 10.890625 54.6875 \nL 10.890625 58.5 \nQ 10.890625 67.625 15.140625 71.796875 \nQ 19.390625 75.984375 28.609375 75.984375 \nz\n\" id=\"DejaVuSans-102\"/>\n     </defs>\n     <g transform=\"translate(387.17642 52.075)scale(0.1 -0.1)\">\n      <use xlink:href=\"#DejaVuSans-68\"/>\n      <use x=\"77.001953\" xlink:href=\"#DejaVuSans-105\"/>\n      <use x=\"104.785156\" xlink:href=\"#DejaVuSans-102\"/>\n      <use x=\"139.990234\" xlink:href=\"#DejaVuSans-102\"/>\n      <use x=\"175.195312\" xlink:href=\"#DejaVuSans-101\"/>\n      <use x=\"236.71875\" xlink:href=\"#DejaVuSans-114\"/>\n      <use x=\"275.582031\" xlink:href=\"#DejaVuSans-101\"/>\n      <use x=\"337.105469\" xlink:href=\"#DejaVuSans-110\"/>\n      <use x=\"400.484375\" xlink:href=\"#DejaVuSans-116\"/>\n     </g>\n    </g>\n   </g>\n  </g>\n  <g id=\"axes_2\">\n   <g id=\"patch_12\">\n    <path d=\"M 516.23608 428.498437 \nL 896.690625 428.498437 \nL 896.690625 20.798437 \nL 516.23608 20.798437 \nz\n\" style=\"fill:#ffffff;\"/>\n   </g>\n   <g id=\"patch_13\">\n    <path clip-path=\"url(#p64c57facdb)\" d=\"M 534.988826 428.498437 \nL 534.988826 428.439621 \nL 536.710868 428.439621 \nL 536.710868 425.825954 \nL 538.43291 425.825954 \nL 538.43291 416.852733 \nL 540.154952 416.852733 \nL 540.154952 400.384061 \nL 541.876994 400.384061 \nL 541.876994 376.930907 \nL 543.599036 376.930907 \nL 543.599036 280.151724 \nL 545.321078 280.151724 \nL 545.321078 356.731051 \nL 547.04312 356.731051 \nL 547.04312 371.089675 \nL 548.765162 371.089675 \nL 548.765162 387.477474 \nL 550.487204 387.477474 \nL 550.487204 398.44311 \nL 552.209246 398.44311 \nL 552.209246 406.47894 \nL 553.931288 406.47894 \nL 553.931288 394.722955 \nL 555.65333 394.722955 \nL 555.65333 417.334295 \nL 557.375372 417.334295 \nL 557.375372 420.668466 \nL 559.097414 420.668466 \nL 559.097414 422.359446 \nL 560.819456 422.359446 \nL 560.819456 423.179203 \nL 562.541499 423.179203 \nL 562.541499 420.344974 \nL 564.263541 420.344974 \nL 564.263541 425.726701 \nL 565.985583 425.726701 \nL 565.985583 426.63836 \nL 567.707625 426.63836 \nL 567.707625 426.86995 \nL 569.429667 426.86995 \nL 569.429667 427.083161 \nL 571.151709 427.083161 \nL 571.151709 427.340484 \nL 572.873751 427.340484 \nL 572.873751 427.289019 \nL 574.595793 427.289019 \nL 574.595793 428.152889 \nL 576.317835 428.152889 \nL 576.317835 428.219058 \nL 578.039877 428.219058 \nL 578.039877 428.149213 \nL 579.761919 428.149213 \nL 579.761919 428.351396 \nL 581.483961 428.351396 \nL 581.483961 428.318311 \nL 583.206003 428.318311 \nL 583.206003 428.388156 \nL 584.928045 428.388156 \nL 584.928045 428.472705 \nL 586.650087 428.472705 \nL 586.650087 428.461677 \nL 588.372129 428.461677 \nL 588.372129 428.483733 \nL 590.094171 428.483733 \nL 590.094171 428.472705 \nL 591.816213 428.472705 \nL 591.816213 428.487409 \nL 593.538256 428.487409 \nL 593.538256 428.498437 \nL 595.260298 428.498437 \nL 595.260298 428.480057 \nL 596.98234 428.480057 \nL 596.98234 428.480057 \nL 598.704382 428.480057 \nL 598.704382 428.494761 \nL 600.426424 428.494761 \nL 600.426424 428.494761 \nL 602.148466 428.494761 \nL 602.148466 428.494761 \nL 603.870508 428.494761 \nL 603.870508 428.494761 \nL 605.59255 428.494761 \nL 605.59255 428.498437 \nL 607.314592 428.498437 \nL 607.314592 428.498437 \nL 609.036634 428.498437 \nL 609.036634 428.498437 \nL 610.758676 428.498437 \nL 610.758676 428.494761 \nL 612.480718 428.494761 \nL 612.480718 428.491085 \nL 614.20276 428.491085 \nL 614.20276 428.498437 \nL 615.924802 428.498437 \nL 615.924802 428.498437 \nL 617.646844 428.498437 \nL 617.646844 428.494761 \nL 619.368886 428.494761 \nL 619.368886 428.494761 \nL 621.090928 428.494761 \nL 621.090928 428.498437 \n\" style=\"fill:none;stroke:#d62728;stroke-linejoin:miter;\"/>\n   </g>\n   <g id=\"patch_14\">\n    <path clip-path=\"url(#p64c57facdb)\" d=\"M 533.529468 428.498437 \nL 533.529468 392.226922 \nL 540.446823 392.226922 \nL 540.446823 40.212723 \nL 547.364179 40.212723 \nL 547.364179 143.851403 \nL 554.281534 143.851403 \nL 554.281534 328.99163 \nL 561.198889 328.99163 \nL 561.198889 368.090023 \nL 568.116245 368.090023 \nL 568.116245 385.900452 \nL 575.0336 385.900452 \nL 575.0336 415.643315 \nL 581.950956 415.643315 \nL 581.950956 423.726934 \nL 588.868311 423.726934 \nL 588.868311 425.138534 \nL 595.785666 425.138534 \nL 595.785666 427.097865 \nL 602.703022 427.097865 \nL 602.703022 427.34416 \nL 609.620377 427.34416 \nL 609.620377 427.667652 \nL 616.537732 427.667652 \nL 616.537732 427.667652 \nL 623.455088 427.667652 \nL 623.455088 428.211706 \nL 630.372443 428.211706 \nL 630.372443 428.421241 \nL 637.289799 428.421241 \nL 637.289799 428.465353 \nL 644.207154 428.465353 \nL 644.207154 428.469029 \nL 651.124509 428.469029 \nL 651.124509 428.487409 \nL 658.041865 428.487409 \nL 658.041865 428.494761 \nL 664.95922 428.494761 \nL 664.95922 428.483733 \nL 671.876575 428.483733 \nL 671.876575 428.491085 \nL 678.793931 428.491085 \nL 678.793931 428.494761 \nL 685.711286 428.494761 \nL 685.711286 428.487409 \nL 692.628642 428.487409 \nL 692.628642 428.487409 \nL 699.545997 428.487409 \nL 699.545997 428.494761 \nL 706.463352 428.494761 \nL 706.463352 428.498437 \nL 713.380708 428.498437 \nL 713.380708 428.487409 \nL 720.298063 428.487409 \nL 720.298063 428.498437 \nL 727.215418 428.498437 \nL 727.215418 428.494761 \nL 734.132774 428.494761 \nL 734.132774 428.498437 \nL 741.050129 428.498437 \nL 741.050129 428.498437 \nL 747.967485 428.498437 \nL 747.967485 428.494761 \nL 754.88484 428.494761 \nL 754.88484 428.498437 \nL 761.802195 428.498437 \nL 761.802195 428.498437 \nL 768.719551 428.498437 \nL 768.719551 428.498437 \nL 775.636906 428.498437 \nL 775.636906 428.498437 \nL 782.554261 428.498437 \nL 782.554261 428.498437 \nL 789.471617 428.498437 \nL 789.471617 428.498437 \nL 796.388972 428.498437 \nL 796.388972 428.498437 \nL 803.306327 428.498437 \nL 803.306327 428.498437 \nL 810.223683 428.498437 \nL 810.223683 428.498437 \nL 817.141038 428.498437 \nL 817.141038 428.498437 \nL 824.058394 428.498437 \nL 824.058394 428.498437 \nL 830.975749 428.498437 \nL 830.975749 428.498437 \nL 837.893104 428.498437 \nL 837.893104 428.498437 \nL 844.81046 428.498437 \nL 844.81046 428.498437 \nL 851.727815 428.498437 \nL 851.727815 428.498437 \nL 858.64517 428.498437 \nL 858.64517 428.498437 \nL 865.562526 428.498437 \nL 865.562526 428.487409 \nL 872.479881 428.487409 \nL 872.479881 428.450649 \nL 879.397237 428.450649 \nL 879.397237 428.498437 \n\" style=\"fill:none;opacity:0.75;stroke:#2ca02c;stroke-linejoin:miter;\"/>\n   </g>\n   <g id=\"matplotlib.axis_3\">\n    <g id=\"xtick_8\">\n     <g id=\"line2d_15\">\n      <g>\n       <use style=\"stroke:#000000;stroke-width:0.8;\" x=\"533.529468\" xlink:href=\"#md618b5975c\" y=\"428.498437\"/>\n      </g>\n     </g>\n     <g id=\"text_20\">\n      <!-- 0 -->\n      <g transform=\"translate(530.348218 443.096875)scale(0.1 -0.1)\">\n       <use xlink:href=\"#DejaVuSans-48\"/>\n      </g>\n     </g>\n    </g>\n    <g id=\"xtick_9\">\n     <g id=\"line2d_16\">\n      <g>\n       <use style=\"stroke:#000000;stroke-width:0.8;\" x=\"606.497352\" xlink:href=\"#md618b5975c\" y=\"428.498437\"/>\n      </g>\n     </g>\n     <g id=\"text_21\">\n      <!-- 50 -->\n      <g transform=\"translate(600.134852 443.096875)scale(0.1 -0.1)\">\n       <use xlink:href=\"#DejaVuSans-53\"/>\n       <use x=\"63.623047\" xlink:href=\"#DejaVuSans-48\"/>\n      </g>\n     </g>\n    </g>\n    <g id=\"xtick_10\">\n     <g id=\"line2d_17\">\n      <g>\n       <use style=\"stroke:#000000;stroke-width:0.8;\" x=\"679.465235\" xlink:href=\"#md618b5975c\" y=\"428.498437\"/>\n      </g>\n     </g>\n     <g id=\"text_22\">\n      <!-- 100 -->\n      <g transform=\"translate(669.921485 443.096875)scale(0.1 -0.1)\">\n       <use xlink:href=\"#DejaVuSans-49\"/>\n       <use x=\"63.623047\" xlink:href=\"#DejaVuSans-48\"/>\n       <use x=\"127.246094\" xlink:href=\"#DejaVuSans-48\"/>\n      </g>\n     </g>\n    </g>\n    <g id=\"xtick_11\">\n     <g id=\"line2d_18\">\n      <g>\n       <use style=\"stroke:#000000;stroke-width:0.8;\" x=\"752.433119\" xlink:href=\"#md618b5975c\" y=\"428.498437\"/>\n      </g>\n     </g>\n     <g id=\"text_23\">\n      <!-- 150 -->\n      <g transform=\"translate(742.889369 443.096875)scale(0.1 -0.1)\">\n       <use xlink:href=\"#DejaVuSans-49\"/>\n       <use x=\"63.623047\" xlink:href=\"#DejaVuSans-53\"/>\n       <use x=\"127.246094\" xlink:href=\"#DejaVuSans-48\"/>\n      </g>\n     </g>\n    </g>\n    <g id=\"xtick_12\">\n     <g id=\"line2d_19\">\n      <g>\n       <use style=\"stroke:#000000;stroke-width:0.8;\" x=\"825.401003\" xlink:href=\"#md618b5975c\" y=\"428.498437\"/>\n      </g>\n     </g>\n     <g id=\"text_24\">\n      <!-- 200 -->\n      <g transform=\"translate(815.857253 443.096875)scale(0.1 -0.1)\">\n       <use xlink:href=\"#DejaVuSans-50\"/>\n       <use x=\"63.623047\" xlink:href=\"#DejaVuSans-48\"/>\n       <use x=\"127.246094\" xlink:href=\"#DejaVuSans-48\"/>\n      </g>\n     </g>\n    </g>\n    <g id=\"text_25\">\n     <!-- nb_words_question2 -->\n     <g transform=\"translate(655.442259 456.775)scale(0.1 -0.1)\">\n      <use xlink:href=\"#DejaVuSans-110\"/>\n      <use x=\"63.378906\" xlink:href=\"#DejaVuSans-98\"/>\n      <use x=\"126.855469\" xlink:href=\"#DejaVuSans-95\"/>\n      <use x=\"176.855469\" xlink:href=\"#DejaVuSans-119\"/>\n      <use x=\"258.642578\" xlink:href=\"#DejaVuSans-111\"/>\n      <use x=\"319.824219\" xlink:href=\"#DejaVuSans-114\"/>\n      <use x=\"359.1875\" xlink:href=\"#DejaVuSans-100\"/>\n      <use x=\"422.664062\" xlink:href=\"#DejaVuSans-115\"/>\n      <use x=\"474.763672\" xlink:href=\"#DejaVuSans-95\"/>\n      <use x=\"524.763672\" xlink:href=\"#DejaVuSans-113\"/>\n      <use x=\"588.240234\" xlink:href=\"#DejaVuSans-117\"/>\n      <use x=\"651.619141\" xlink:href=\"#DejaVuSans-101\"/>\n      <use x=\"713.142578\" xlink:href=\"#DejaVuSans-115\"/>\n      <use x=\"765.242188\" xlink:href=\"#DejaVuSans-116\"/>\n      <use x=\"804.451172\" xlink:href=\"#DejaVuSans-105\"/>\n      <use x=\"832.234375\" xlink:href=\"#DejaVuSans-111\"/>\n      <use x=\"893.416016\" xlink:href=\"#DejaVuSans-110\"/>\n      <use x=\"956.794922\" xlink:href=\"#DejaVuSans-50\"/>\n     </g>\n    </g>\n   </g>\n   <g id=\"matplotlib.axis_4\">\n    <g id=\"ytick_8\">\n     <g id=\"line2d_20\">\n      <g>\n       <use style=\"stroke:#000000;stroke-width:0.8;\" x=\"516.23608\" xlink:href=\"#mbd7554fe7a\" y=\"428.498437\"/>\n      </g>\n     </g>\n     <g id=\"text_26\">\n      <!-- 0 -->\n      <g transform=\"translate(502.87358 432.297656)scale(0.1 -0.1)\">\n       <use xlink:href=\"#DejaVuSans-48\"/>\n      </g>\n     </g>\n    </g>\n    <g id=\"ytick_9\">\n     <g id=\"line2d_21\">\n      <g>\n       <use style=\"stroke:#000000;stroke-width:0.8;\" x=\"516.23608\" xlink:href=\"#mbd7554fe7a\" y=\"354.977578\"/>\n      </g>\n     </g>\n     <g id=\"text_27\">\n      <!-- 20000 -->\n      <g transform=\"translate(477.42358 358.776797)scale(0.1 -0.1)\">\n       <use xlink:href=\"#DejaVuSans-50\"/>\n       <use x=\"63.623047\" xlink:href=\"#DejaVuSans-48\"/>\n       <use x=\"127.246094\" xlink:href=\"#DejaVuSans-48\"/>\n       <use x=\"190.869141\" xlink:href=\"#DejaVuSans-48\"/>\n       <use x=\"254.492188\" xlink:href=\"#DejaVuSans-48\"/>\n      </g>\n     </g>\n    </g>\n    <g id=\"ytick_10\">\n     <g id=\"line2d_22\">\n      <g>\n       <use style=\"stroke:#000000;stroke-width:0.8;\" x=\"516.23608\" xlink:href=\"#mbd7554fe7a\" y=\"281.456719\"/>\n      </g>\n     </g>\n     <g id=\"text_28\">\n      <!-- 40000 -->\n      <g transform=\"translate(477.42358 285.255938)scale(0.1 -0.1)\">\n       <use xlink:href=\"#DejaVuSans-52\"/>\n       <use x=\"63.623047\" xlink:href=\"#DejaVuSans-48\"/>\n       <use x=\"127.246094\" xlink:href=\"#DejaVuSans-48\"/>\n       <use x=\"190.869141\" xlink:href=\"#DejaVuSans-48\"/>\n       <use x=\"254.492188\" xlink:href=\"#DejaVuSans-48\"/>\n      </g>\n     </g>\n    </g>\n    <g id=\"ytick_11\">\n     <g id=\"line2d_23\">\n      <g>\n       <use style=\"stroke:#000000;stroke-width:0.8;\" x=\"516.23608\" xlink:href=\"#mbd7554fe7a\" y=\"207.93586\"/>\n      </g>\n     </g>\n     <g id=\"text_29\">\n      <!-- 60000 -->\n      <g transform=\"translate(477.42358 211.735078)scale(0.1 -0.1)\">\n       <use xlink:href=\"#DejaVuSans-54\"/>\n       <use x=\"63.623047\" xlink:href=\"#DejaVuSans-48\"/>\n       <use x=\"127.246094\" xlink:href=\"#DejaVuSans-48\"/>\n       <use x=\"190.869141\" xlink:href=\"#DejaVuSans-48\"/>\n       <use x=\"254.492188\" xlink:href=\"#DejaVuSans-48\"/>\n      </g>\n     </g>\n    </g>\n    <g id=\"ytick_12\">\n     <g id=\"line2d_24\">\n      <g>\n       <use style=\"stroke:#000000;stroke-width:0.8;\" x=\"516.23608\" xlink:href=\"#mbd7554fe7a\" y=\"134.415\"/>\n      </g>\n     </g>\n     <g id=\"text_30\">\n      <!-- 80000 -->\n      <g transform=\"translate(477.42358 138.214219)scale(0.1 -0.1)\">\n       <use xlink:href=\"#DejaVuSans-56\"/>\n       <use x=\"63.623047\" xlink:href=\"#DejaVuSans-48\"/>\n       <use x=\"127.246094\" xlink:href=\"#DejaVuSans-48\"/>\n       <use x=\"190.869141\" xlink:href=\"#DejaVuSans-48\"/>\n       <use x=\"254.492188\" xlink:href=\"#DejaVuSans-48\"/>\n      </g>\n     </g>\n    </g>\n    <g id=\"ytick_13\">\n     <g id=\"line2d_25\">\n      <g>\n       <use style=\"stroke:#000000;stroke-width:0.8;\" x=\"516.23608\" xlink:href=\"#mbd7554fe7a\" y=\"60.894141\"/>\n      </g>\n     </g>\n     <g id=\"text_31\">\n      <!-- 100000 -->\n      <g transform=\"translate(471.06108 64.69336)scale(0.1 -0.1)\">\n       <use xlink:href=\"#DejaVuSans-49\"/>\n       <use x=\"63.623047\" xlink:href=\"#DejaVuSans-48\"/>\n       <use x=\"127.246094\" xlink:href=\"#DejaVuSans-48\"/>\n       <use x=\"190.869141\" xlink:href=\"#DejaVuSans-48\"/>\n       <use x=\"254.492188\" xlink:href=\"#DejaVuSans-48\"/>\n       <use x=\"318.115234\" xlink:href=\"#DejaVuSans-48\"/>\n      </g>\n     </g>\n    </g>\n    <g id=\"text_32\">\n     <!-- Nb -->\n     <g transform=\"translate(464.981392 231.563281)rotate(-90)scale(0.1 -0.1)\">\n      <use xlink:href=\"#DejaVuSans-78\"/>\n      <use x=\"74.804688\" xlink:href=\"#DejaVuSans-98\"/>\n     </g>\n    </g>\n   </g>\n   <g id=\"patch_15\">\n    <path d=\"M 516.23608 428.498437 \nL 516.23608 20.798437 \n\" style=\"fill:none;stroke:#000000;stroke-linecap:square;stroke-linejoin:miter;stroke-width:0.8;\"/>\n   </g>\n   <g id=\"patch_16\">\n    <path d=\"M 896.690625 428.498437 \nL 896.690625 20.798437 \n\" style=\"fill:none;stroke:#000000;stroke-linecap:square;stroke-linejoin:miter;stroke-width:0.8;\"/>\n   </g>\n   <g id=\"patch_17\">\n    <path d=\"M 516.23608 428.498437 \nL 896.690625 428.498437 \n\" style=\"fill:none;stroke:#000000;stroke-linecap:square;stroke-linejoin:miter;stroke-width:0.8;\"/>\n   </g>\n   <g id=\"patch_18\">\n    <path d=\"M 516.23608 20.798437 \nL 896.690625 20.798437 \n\" style=\"fill:none;stroke:#000000;stroke-linecap:square;stroke-linejoin:miter;stroke-width:0.8;\"/>\n   </g>\n   <g id=\"text_33\">\n    <!-- AUC is_duplicate/nb_words_question2 : 0.420794 -->\n    <defs>\n     <path d=\"M 8.203125 72.90625 \nL 55.078125 72.90625 \nL 55.078125 68.703125 \nL 28.609375 0 \nL 18.3125 0 \nL 43.21875 64.59375 \nL 8.203125 64.59375 \nz\n\" id=\"DejaVuSans-55\"/>\n     <path d=\"M 10.984375 1.515625 \nL 10.984375 10.5 \nQ 14.703125 8.734375 18.5 7.8125 \nQ 22.3125 6.890625 25.984375 6.890625 \nQ 35.75 6.890625 40.890625 13.453125 \nQ 46.046875 20.015625 46.78125 33.40625 \nQ 43.953125 29.203125 39.59375 26.953125 \nQ 35.25 24.703125 29.984375 24.703125 \nQ 19.046875 24.703125 12.671875 31.3125 \nQ 6.296875 37.9375 6.296875 49.421875 \nQ 6.296875 60.640625 12.9375 67.421875 \nQ 19.578125 74.21875 30.609375 74.21875 \nQ 43.265625 74.21875 49.921875 64.515625 \nQ 56.59375 54.828125 56.59375 36.375 \nQ 56.59375 19.140625 48.40625 8.859375 \nQ 40.234375 -1.421875 26.421875 -1.421875 \nQ 22.703125 -1.421875 18.890625 -0.6875 \nQ 15.09375 0.046875 10.984375 1.515625 \nz\nM 30.609375 32.421875 \nQ 37.25 32.421875 41.125 36.953125 \nQ 45.015625 41.5 45.015625 49.421875 \nQ 45.015625 57.28125 41.125 61.84375 \nQ 37.25 66.40625 30.609375 66.40625 \nQ 23.96875 66.40625 20.09375 61.84375 \nQ 16.21875 57.28125 16.21875 49.421875 \nQ 16.21875 41.5 20.09375 36.953125 \nQ 23.96875 32.421875 30.609375 32.421875 \nz\n\" id=\"DejaVuSans-57\"/>\n    </defs>\n    <g transform=\"translate(583.238352 14.798437)scale(0.1 -0.1)\">\n     <use xlink:href=\"#DejaVuSans-65\"/>\n     <use x=\"68.408203\" xlink:href=\"#DejaVuSans-85\"/>\n     <use x=\"141.601562\" xlink:href=\"#DejaVuSans-67\"/>\n     <use x=\"211.425781\" xlink:href=\"#DejaVuSans-32\"/>\n     <use x=\"243.212891\" xlink:href=\"#DejaVuSans-105\"/>\n     <use x=\"270.996094\" xlink:href=\"#DejaVuSans-115\"/>\n     <use x=\"323.095703\" xlink:href=\"#DejaVuSans-95\"/>\n     <use x=\"373.095703\" xlink:href=\"#DejaVuSans-100\"/>\n     <use x=\"436.572266\" xlink:href=\"#DejaVuSans-117\"/>\n     <use x=\"499.951172\" xlink:href=\"#DejaVuSans-112\"/>\n     <use x=\"563.427734\" xlink:href=\"#DejaVuSans-108\"/>\n     <use x=\"591.210938\" xlink:href=\"#DejaVuSans-105\"/>\n     <use x=\"618.994141\" xlink:href=\"#DejaVuSans-99\"/>\n     <use x=\"673.974609\" xlink:href=\"#DejaVuSans-97\"/>\n     <use x=\"735.253906\" xlink:href=\"#DejaVuSans-116\"/>\n     <use x=\"774.462891\" xlink:href=\"#DejaVuSans-101\"/>\n     <use x=\"835.986328\" xlink:href=\"#DejaVuSans-47\"/>\n     <use x=\"869.677734\" xlink:href=\"#DejaVuSans-110\"/>\n     <use x=\"933.056641\" xlink:href=\"#DejaVuSans-98\"/>\n     <use x=\"996.533203\" xlink:href=\"#DejaVuSans-95\"/>\n     <use x=\"1046.533203\" xlink:href=\"#DejaVuSans-119\"/>\n     <use x=\"1128.320312\" xlink:href=\"#DejaVuSans-111\"/>\n     <use x=\"1189.501953\" xlink:href=\"#DejaVuSans-114\"/>\n     <use x=\"1228.865234\" xlink:href=\"#DejaVuSans-100\"/>\n     <use x=\"1292.341797\" xlink:href=\"#DejaVuSans-115\"/>\n     <use x=\"1344.441406\" xlink:href=\"#DejaVuSans-95\"/>\n     <use x=\"1394.441406\" xlink:href=\"#DejaVuSans-113\"/>\n     <use x=\"1457.917969\" xlink:href=\"#DejaVuSans-117\"/>\n     <use x=\"1521.296875\" xlink:href=\"#DejaVuSans-101\"/>\n     <use x=\"1582.820312\" xlink:href=\"#DejaVuSans-115\"/>\n     <use x=\"1634.919922\" xlink:href=\"#DejaVuSans-116\"/>\n     <use x=\"1674.128906\" xlink:href=\"#DejaVuSans-105\"/>\n     <use x=\"1701.912109\" xlink:href=\"#DejaVuSans-111\"/>\n     <use x=\"1763.09375\" xlink:href=\"#DejaVuSans-110\"/>\n     <use x=\"1826.472656\" xlink:href=\"#DejaVuSans-50\"/>\n     <use x=\"1890.095703\" xlink:href=\"#DejaVuSans-32\"/>\n     <use x=\"1921.882812\" xlink:href=\"#DejaVuSans-58\"/>\n     <use x=\"1955.574219\" xlink:href=\"#DejaVuSans-32\"/>\n     <use x=\"1987.361328\" xlink:href=\"#DejaVuSans-48\"/>\n     <use x=\"2050.984375\" xlink:href=\"#DejaVuSans-46\"/>\n     <use x=\"2082.771484\" xlink:href=\"#DejaVuSans-52\"/>\n     <use x=\"2146.394531\" xlink:href=\"#DejaVuSans-50\"/>\n     <use x=\"2210.017578\" xlink:href=\"#DejaVuSans-48\"/>\n     <use x=\"2273.640625\" xlink:href=\"#DejaVuSans-55\"/>\n     <use x=\"2337.263672\" xlink:href=\"#DejaVuSans-57\"/>\n     <use x=\"2400.886719\" xlink:href=\"#DejaVuSans-52\"/>\n    </g>\n   </g>\n   <g id=\"legend_2\">\n    <g id=\"patch_19\">\n     <path d=\"M 813.721875 58.154687 \nL 889.690625 58.154687 \nQ 891.690625 58.154687 891.690625 56.154687 \nL 891.690625 27.798437 \nQ 891.690625 25.798437 889.690625 25.798437 \nL 813.721875 25.798437 \nQ 811.721875 25.798437 811.721875 27.798437 \nL 811.721875 56.154687 \nQ 811.721875 58.154687 813.721875 58.154687 \nz\n\" style=\"fill:#ffffff;opacity:0.8;stroke:#cccccc;stroke-linejoin:miter;\"/>\n    </g>\n    <g id=\"patch_20\">\n     <path d=\"M 815.721875 37.396875 \nL 835.721875 37.396875 \nL 835.721875 30.396875 \nL 815.721875 30.396875 \nz\n\" style=\"fill:none;stroke:#d62728;stroke-linejoin:miter;\"/>\n    </g>\n    <g id=\"text_34\">\n     <!-- Same -->\n     <g transform=\"translate(843.721875 37.396875)scale(0.1 -0.1)\">\n      <use xlink:href=\"#DejaVuSans-83\"/>\n      <use x=\"63.476562\" xlink:href=\"#DejaVuSans-97\"/>\n      <use x=\"124.755859\" xlink:href=\"#DejaVuSans-109\"/>\n      <use x=\"222.167969\" xlink:href=\"#DejaVuSans-101\"/>\n     </g>\n    </g>\n    <g id=\"patch_21\">\n     <path d=\"M 815.721875 52.075 \nL 835.721875 52.075 \nL 835.721875 45.075 \nL 815.721875 45.075 \nz\n\" style=\"fill:none;opacity:0.75;stroke:#2ca02c;stroke-linejoin:miter;\"/>\n    </g>\n    <g id=\"text_35\">\n     <!-- Different -->\n     <g transform=\"translate(843.721875 52.075)scale(0.1 -0.1)\">\n      <use xlink:href=\"#DejaVuSans-68\"/>\n      <use x=\"77.001953\" xlink:href=\"#DejaVuSans-105\"/>\n      <use x=\"104.785156\" xlink:href=\"#DejaVuSans-102\"/>\n      <use x=\"139.990234\" xlink:href=\"#DejaVuSans-102\"/>\n      <use x=\"175.195312\" xlink:href=\"#DejaVuSans-101\"/>\n      <use x=\"236.71875\" xlink:href=\"#DejaVuSans-114\"/>\n      <use x=\"275.582031\" xlink:href=\"#DejaVuSans-101\"/>\n      <use x=\"337.105469\" xlink:href=\"#DejaVuSans-110\"/>\n      <use x=\"400.484375\" xlink:href=\"#DejaVuSans-116\"/>\n     </g>\n    </g>\n   </g>\n  </g>\n </g>\n <defs>\n  <clipPath id=\"p5631d274b2\">\n   <rect height=\"407.7\" width=\"380.454545\" x=\"59.690625\" y=\"20.798437\"/>\n  </clipPath>\n  <clipPath id=\"p64c57facdb\">\n   <rect height=\"407.7\" width=\"380.454545\" x=\"516.23608\" y=\"20.798437\"/>\n  </clipPath>\n </defs>\n</svg>\n",
      "image/png": "[encoded data removed]"
     },
     "metadata": {
      "needs_background": "light"
     }
    },
    {
     "output_type": "display_data",
     "data": {
      "text/plain": "<Figure size 1080x540 with 2 Axes>",
      "image/svg+xml": "<?xml version=\"1.0\" encoding=\"utf-8\" standalone=\"no\"?>\n<!DOCTYPE svg PUBLIC \"-//W3C//DTD SVG 1.1//EN\"\n  \"http://www.w3.org/Graphics/SVG/1.1/DTD/svg11.dtd\">\n<!-- Created with matplotlib (https://matplotlib.org/) -->\n<svg height=\"466.332812pt\" version=\"1.1\" viewBox=\"0 0 903.890625 466.332812\" width=\"903.890625pt\" xmlns=\"http://www.w3.org/2000/svg\" xmlns:xlink=\"http://www.w3.org/1999/xlink\">\n <defs>\n  <style type=\"text/css\">\n*{stroke-linecap:butt;stroke-linejoin:round;}\n  </style>\n </defs>\n <g id=\"figure_1\">\n  <g id=\"patch_1\">\n   <path d=\"M 0 466.332812 \nL 903.890625 466.332812 \nL 903.890625 0 \nL 0 0 \nz\n\" style=\"fill:none;\"/>\n  </g>\n  <g id=\"axes_1\">\n   <g id=\"patch_2\">\n    <path d=\"M 59.690625 428.498437 \nL 440.14517 428.498437 \nL 440.14517 20.798437 \nL 59.690625 20.798437 \nz\n\" style=\"fill:#ffffff;\"/>\n   </g>\n   <g id=\"patch_3\">\n    <path clip-path=\"url(#pcdd55506e4)\" d=\"M 76.984013 428.498437 \nL 76.984013 423.396408 \nL 83.901369 423.396408 \nL 83.901369 398.321092 \nL 90.818724 398.321092 \nL 90.818724 306.697143 \nL 97.73608 306.697143 \nL 97.73608 214.029597 \nL 104.653435 214.029597 \nL 104.653435 161.704804 \nL 111.57079 161.704804 \nL 111.57079 170.072906 \nL 118.488146 170.072906 \nL 118.488146 428.498437 \nL 125.405501 428.498437 \nL 125.405501 226.398153 \nL 132.322856 226.398153 \nL 132.322856 291.874201 \nL 139.240212 291.874201 \nL 139.240212 347.532706 \nL 146.157567 347.532706 \nL 146.157567 383.875004 \nL 153.074923 383.875004 \nL 153.074923 404.66964 \nL 159.992278 404.66964 \nL 159.992278 428.498437 \nL 166.909633 428.498437 \nL 166.909633 414.661115 \nL 173.826989 414.661115 \nL 173.826989 415.772352 \nL 180.744344 415.772352 \nL 180.744344 423.483374 \nL 187.661699 423.483374 \nL 187.661699 423.386745 \nL 194.579055 423.386745 \nL 194.579055 421.454158 \nL 201.49641 421.454158 \nL 201.49641 428.498437 \nL 208.413765 428.498437 \nL 208.413765 424.497982 \nL 215.331121 424.497982 \nL 215.331121 426.507873 \nL 222.248476 426.507873 \nL 222.248476 426.256637 \nL 229.165832 426.256637 \nL 229.165832 426.604502 \nL 236.083187 426.604502 \nL 236.083187 427.503155 \nL 243.000542 427.503155 \nL 243.000542 428.498437 \nL 249.917898 428.498437 \nL 249.917898 428.005628 \nL 256.835253 428.005628 \nL 256.835253 427.802706 \nL 263.752608 427.802706 \nL 263.752608 427.957313 \nL 270.669964 427.957313 \nL 270.669964 428.237538 \nL 277.587319 428.237538 \nL 277.587319 428.305179 \nL 284.504675 428.305179 \nL 284.504675 428.353493 \nL 291.42203 428.353493 \nL 291.42203 428.498437 \nL 298.339385 428.498437 \nL 298.339385 428.392145 \nL 305.256741 428.392145 \nL 305.256741 428.459786 \nL 312.174096 428.459786 \nL 312.174096 428.488775 \nL 319.091451 428.488775 \nL 319.091451 428.498437 \nL 326.008807 428.498437 \nL 326.008807 428.479112 \nL 332.926162 428.479112 \nL 332.926162 428.498437 \nL 339.843518 428.498437 \nL 339.843518 428.498437 \nL 346.760873 428.498437 \nL 346.760873 428.488775 \nL 353.678228 428.488775 \nL 353.678228 428.498437 \nL 360.595584 428.498437 \nL 360.595584 428.498437 \nL 367.512939 428.498437 \nL 367.512939 428.488775 \nL 374.430294 428.488775 \nL 374.430294 428.498437 \nL 381.34765 428.498437 \nL 381.34765 428.498437 \nL 388.265005 428.498437 \nL 388.265005 428.498437 \nL 395.182361 428.498437 \nL 395.182361 428.479112 \nL 402.099716 428.479112 \nL 402.099716 428.498437 \nL 409.017071 428.498437 \nL 409.017071 428.498437 \nL 415.934427 428.498437 \nL 415.934427 428.488775 \nL 422.851782 428.488775 \nL 422.851782 428.498437 \n\" style=\"fill:none;stroke:#d62728;stroke-linejoin:miter;\"/>\n   </g>\n   <g id=\"patch_4\">\n    <path clip-path=\"url(#pcdd55506e4)\" d=\"M 76.984013 428.498437 \nL 76.984013 164.980539 \nL 82.913175 164.980539 \nL 82.913175 79.676149 \nL 88.842337 79.676149 \nL 88.842337 40.212723 \nL 94.771499 40.212723 \nL 94.771499 428.498437 \nL 100.70066 428.498437 \nL 100.70066 65.945119 \nL 106.629822 65.945119 \nL 106.629822 114.733277 \nL 112.558984 114.733277 \nL 112.558984 179.745504 \nL 118.488146 179.745504 \nL 118.488146 428.498437 \nL 124.417307 428.498437 \nL 124.417307 248.275038 \nL 130.346469 248.275038 \nL 130.346469 313.296927 \nL 136.275631 313.296927 \nL 136.275631 428.498437 \nL 142.204793 428.498437 \nL 142.204793 356.770472 \nL 148.133954 356.770472 \nL 148.133954 388.261976 \nL 154.063116 388.261976 \nL 154.063116 403.084919 \nL 159.992278 403.084919 \nL 159.992278 428.498437 \nL 165.92144 428.498437 \nL 165.92144 409.646051 \nL 171.850601 409.646051 \nL 171.850601 411.501335 \nL 177.779763 411.501335 \nL 177.779763 428.498437 \nL 183.708925 428.498437 \nL 183.708925 410.795941 \nL 189.638087 410.795941 \nL 189.638087 414.062013 \nL 195.567248 414.062013 \nL 195.567248 416.487409 \nL 201.49641 416.487409 \nL 201.49641 428.498437 \nL 207.425572 428.498437 \nL 207.425572 418.932132 \nL 213.354734 418.932132 \nL 213.354734 424.285398 \nL 219.283895 424.285398 \nL 219.283895 428.498437 \nL 225.213057 428.498437 \nL 225.213057 424.565623 \nL 231.142219 424.565623 \nL 231.142219 422.94225 \nL 237.071381 422.94225 \nL 237.071381 427.61911 \nL 243.000542 427.61911 \nL 243.000542 428.498437 \nL 248.929704 428.498437 \nL 248.929704 427.94765 \nL 254.858866 427.94765 \nL 254.858866 427.976639 \nL 260.788028 427.976639 \nL 260.788028 428.237538 \nL 266.717189 428.237538 \nL 266.717189 428.498437 \nL 272.646351 428.498437 \nL 272.646351 428.382482 \nL 278.575513 428.382482 \nL 278.575513 428.469449 \nL 284.504675 428.469449 \nL 284.504675 428.498437 \nL 290.433836 428.498437 \nL 290.433836 428.459786 \nL 296.362998 428.459786 \nL 296.362998 428.459786 \nL 302.29216 428.459786 \nL 302.29216 428.479112 \nL 308.221322 428.479112 \nL 308.221322 428.498437 \nL 314.150483 428.498437 \nL 314.150483 428.469449 \nL 320.079645 428.469449 \nL 320.079645 428.459786 \nL 326.008807 428.459786 \nL 326.008807 428.498437 \nL 331.937969 428.498437 \nL 331.937969 428.498437 \nL 337.86713 428.498437 \nL 337.86713 428.498437 \nL 343.796292 428.498437 \nL 343.796292 428.498437 \nL 349.725454 428.498437 \nL 349.725454 428.498437 \nL 355.654616 428.498437 \nL 355.654616 428.488775 \nL 361.583777 428.488775 \nL 361.583777 428.498437 \nL 367.512939 428.498437 \nL 367.512939 428.488775 \nL 373.442101 428.488775 \nL 373.442101 428.498437 \n\" style=\"fill:none;opacity:0.75;stroke:#2ca02c;stroke-linejoin:miter;\"/>\n   </g>\n   <g id=\"matplotlib.axis_1\">\n    <g id=\"xtick_1\">\n     <g id=\"line2d_1\">\n      <defs>\n       <path d=\"M 0 0 \nL 0 3.5 \n\" id=\"me8bc8f83b5\" style=\"stroke:#000000;stroke-width:0.8;\"/>\n      </defs>\n      <g>\n       <use style=\"stroke:#000000;stroke-width:0.8;\" x=\"76.984013\" xlink:href=\"#me8bc8f83b5\" y=\"428.498437\"/>\n      </g>\n     </g>\n     <g id=\"text_1\">\n      <!-- 0 -->\n      <defs>\n       <path d=\"M 31.78125 66.40625 \nQ 24.171875 66.40625 20.328125 58.90625 \nQ 16.5 51.421875 16.5 36.375 \nQ 16.5 21.390625 20.328125 13.890625 \nQ 24.171875 6.390625 31.78125 6.390625 \nQ 39.453125 6.390625 43.28125 13.890625 \nQ 47.125 21.390625 47.125 36.375 \nQ 47.125 51.421875 43.28125 58.90625 \nQ 39.453125 66.40625 31.78125 66.40625 \nz\nM 31.78125 74.21875 \nQ 44.046875 74.21875 50.515625 64.515625 \nQ 56.984375 54.828125 56.984375 36.375 \nQ 56.984375 17.96875 50.515625 8.265625 \nQ 44.046875 -1.421875 31.78125 -1.421875 \nQ 19.53125 -1.421875 13.0625 8.265625 \nQ 6.59375 17.96875 6.59375 36.375 \nQ 6.59375 54.828125 13.0625 64.515625 \nQ 19.53125 74.21875 31.78125 74.21875 \nz\n\" id=\"DejaVuSans-48\"/>\n      </defs>\n      <g transform=\"translate(73.802763 443.096875)scale(0.1 -0.1)\">\n       <use xlink:href=\"#DejaVuSans-48\"/>\n      </g>\n     </g>\n    </g>\n    <g id=\"xtick_2\">\n     <g id=\"line2d_2\">\n      <g>\n       <use style=\"stroke:#000000;stroke-width:0.8;\" x=\"159.333482\" xlink:href=\"#me8bc8f83b5\" y=\"428.498437\"/>\n      </g>\n     </g>\n     <g id=\"text_2\">\n      <!-- 10 -->\n      <defs>\n       <path d=\"M 12.40625 8.296875 \nL 28.515625 8.296875 \nL 28.515625 63.921875 \nL 10.984375 60.40625 \nL 10.984375 69.390625 \nL 28.421875 72.90625 \nL 38.28125 72.90625 \nL 38.28125 8.296875 \nL 54.390625 8.296875 \nL 54.390625 0 \nL 12.40625 0 \nz\n\" id=\"DejaVuSans-49\"/>\n      </defs>\n      <g transform=\"translate(152.970982 443.096875)scale(0.1 -0.1)\">\n       <use xlink:href=\"#DejaVuSans-49\"/>\n       <use x=\"63.623047\" xlink:href=\"#DejaVuSans-48\"/>\n      </g>\n     </g>\n    </g>\n    <g id=\"xtick_3\">\n     <g id=\"line2d_3\">\n      <g>\n       <use style=\"stroke:#000000;stroke-width:0.8;\" x=\"241.682951\" xlink:href=\"#me8bc8f83b5\" y=\"428.498437\"/>\n      </g>\n     </g>\n     <g id=\"text_3\">\n      <!-- 20 -->\n      <defs>\n       <path d=\"M 19.1875 8.296875 \nL 53.609375 8.296875 \nL 53.609375 0 \nL 7.328125 0 \nL 7.328125 8.296875 \nQ 12.9375 14.109375 22.625 23.890625 \nQ 32.328125 33.6875 34.8125 36.53125 \nQ 39.546875 41.84375 41.421875 45.53125 \nQ 43.3125 49.21875 43.3125 52.78125 \nQ 43.3125 58.59375 39.234375 62.25 \nQ 35.15625 65.921875 28.609375 65.921875 \nQ 23.96875 65.921875 18.8125 64.3125 \nQ 13.671875 62.703125 7.8125 59.421875 \nL 7.8125 69.390625 \nQ 13.765625 71.78125 18.9375 73 \nQ 24.125 74.21875 28.421875 74.21875 \nQ 39.75 74.21875 46.484375 68.546875 \nQ 53.21875 62.890625 53.21875 53.421875 \nQ 53.21875 48.921875 51.53125 44.890625 \nQ 49.859375 40.875 45.40625 35.40625 \nQ 44.1875 33.984375 37.640625 27.21875 \nQ 31.109375 20.453125 19.1875 8.296875 \nz\n\" id=\"DejaVuSans-50\"/>\n      </defs>\n      <g transform=\"translate(235.320451 443.096875)scale(0.1 -0.1)\">\n       <use xlink:href=\"#DejaVuSans-50\"/>\n       <use x=\"63.623047\" xlink:href=\"#DejaVuSans-48\"/>\n      </g>\n     </g>\n    </g>\n    <g id=\"xtick_4\">\n     <g id=\"line2d_4\">\n      <g>\n       <use style=\"stroke:#000000;stroke-width:0.8;\" x=\"324.03242\" xlink:href=\"#me8bc8f83b5\" y=\"428.498437\"/>\n      </g>\n     </g>\n     <g id=\"text_4\">\n      <!-- 30 -->\n      <defs>\n       <path d=\"M 40.578125 39.3125 \nQ 47.65625 37.796875 51.625 33 \nQ 55.609375 28.21875 55.609375 21.1875 \nQ 55.609375 10.40625 48.1875 4.484375 \nQ 40.765625 -1.421875 27.09375 -1.421875 \nQ 22.515625 -1.421875 17.65625 -0.515625 \nQ 12.796875 0.390625 7.625 2.203125 \nL 7.625 11.71875 \nQ 11.71875 9.328125 16.59375 8.109375 \nQ 21.484375 6.890625 26.8125 6.890625 \nQ 36.078125 6.890625 40.9375 10.546875 \nQ 45.796875 14.203125 45.796875 21.1875 \nQ 45.796875 27.640625 41.28125 31.265625 \nQ 36.765625 34.90625 28.71875 34.90625 \nL 20.21875 34.90625 \nL 20.21875 43.015625 \nL 29.109375 43.015625 \nQ 36.375 43.015625 40.234375 45.921875 \nQ 44.09375 48.828125 44.09375 54.296875 \nQ 44.09375 59.90625 40.109375 62.90625 \nQ 36.140625 65.921875 28.71875 65.921875 \nQ 24.65625 65.921875 20.015625 65.03125 \nQ 15.375 64.15625 9.8125 62.3125 \nL 9.8125 71.09375 \nQ 15.4375 72.65625 20.34375 73.4375 \nQ 25.25 74.21875 29.59375 74.21875 \nQ 40.828125 74.21875 47.359375 69.109375 \nQ 53.90625 64.015625 53.90625 55.328125 \nQ 53.90625 49.265625 50.4375 45.09375 \nQ 46.96875 40.921875 40.578125 39.3125 \nz\n\" id=\"DejaVuSans-51\"/>\n      </defs>\n      <g transform=\"translate(317.66992 443.096875)scale(0.1 -0.1)\">\n       <use xlink:href=\"#DejaVuSans-51\"/>\n       <use x=\"63.623047\" xlink:href=\"#DejaVuSans-48\"/>\n      </g>\n     </g>\n    </g>\n    <g id=\"xtick_5\">\n     <g id=\"line2d_5\">\n      <g>\n       <use style=\"stroke:#000000;stroke-width:0.8;\" x=\"406.381888\" xlink:href=\"#me8bc8f83b5\" y=\"428.498437\"/>\n      </g>\n     </g>\n     <g id=\"text_5\">\n      <!-- 40 -->\n      <defs>\n       <path d=\"M 37.796875 64.3125 \nL 12.890625 25.390625 \nL 37.796875 25.390625 \nz\nM 35.203125 72.90625 \nL 47.609375 72.90625 \nL 47.609375 25.390625 \nL 58.015625 25.390625 \nL 58.015625 17.1875 \nL 47.609375 17.1875 \nL 47.609375 0 \nL 37.796875 0 \nL 37.796875 17.1875 \nL 4.890625 17.1875 \nL 4.890625 26.703125 \nz\n\" id=\"DejaVuSans-52\"/>\n      </defs>\n      <g transform=\"translate(400.019388 443.096875)scale(0.1 -0.1)\">\n       <use xlink:href=\"#DejaVuSans-52\"/>\n       <use x=\"63.623047\" xlink:href=\"#DejaVuSans-48\"/>\n      </g>\n     </g>\n    </g>\n    <g id=\"text_6\">\n     <!-- nb_common_words -->\n     <defs>\n      <path d=\"M 54.890625 33.015625 \nL 54.890625 0 \nL 45.90625 0 \nL 45.90625 32.71875 \nQ 45.90625 40.484375 42.875 44.328125 \nQ 39.84375 48.1875 33.796875 48.1875 \nQ 26.515625 48.1875 22.3125 43.546875 \nQ 18.109375 38.921875 18.109375 30.90625 \nL 18.109375 0 \nL 9.078125 0 \nL 9.078125 54.6875 \nL 18.109375 54.6875 \nL 18.109375 46.1875 \nQ 21.34375 51.125 25.703125 53.5625 \nQ 30.078125 56 35.796875 56 \nQ 45.21875 56 50.046875 50.171875 \nQ 54.890625 44.34375 54.890625 33.015625 \nz\n\" id=\"DejaVuSans-110\"/>\n      <path d=\"M 48.6875 27.296875 \nQ 48.6875 37.203125 44.609375 42.84375 \nQ 40.53125 48.484375 33.40625 48.484375 \nQ 26.265625 48.484375 22.1875 42.84375 \nQ 18.109375 37.203125 18.109375 27.296875 \nQ 18.109375 17.390625 22.1875 11.75 \nQ 26.265625 6.109375 33.40625 6.109375 \nQ 40.53125 6.109375 44.609375 11.75 \nQ 48.6875 17.390625 48.6875 27.296875 \nz\nM 18.109375 46.390625 \nQ 20.953125 51.265625 25.265625 53.625 \nQ 29.59375 56 35.59375 56 \nQ 45.5625 56 51.78125 48.09375 \nQ 58.015625 40.1875 58.015625 27.296875 \nQ 58.015625 14.40625 51.78125 6.484375 \nQ 45.5625 -1.421875 35.59375 -1.421875 \nQ 29.59375 -1.421875 25.265625 0.953125 \nQ 20.953125 3.328125 18.109375 8.203125 \nL 18.109375 0 \nL 9.078125 0 \nL 9.078125 75.984375 \nL 18.109375 75.984375 \nz\n\" id=\"DejaVuSans-98\"/>\n      <path d=\"M 50.984375 -16.609375 \nL 50.984375 -23.578125 \nL -0.984375 -23.578125 \nL -0.984375 -16.609375 \nz\n\" id=\"DejaVuSans-95\"/>\n      <path d=\"M 48.78125 52.59375 \nL 48.78125 44.1875 \nQ 44.96875 46.296875 41.140625 47.34375 \nQ 37.3125 48.390625 33.40625 48.390625 \nQ 24.65625 48.390625 19.8125 42.84375 \nQ 14.984375 37.3125 14.984375 27.296875 \nQ 14.984375 17.28125 19.8125 11.734375 \nQ 24.65625 6.203125 33.40625 6.203125 \nQ 37.3125 6.203125 41.140625 7.25 \nQ 44.96875 8.296875 48.78125 10.40625 \nL 48.78125 2.09375 \nQ 45.015625 0.34375 40.984375 -0.53125 \nQ 36.96875 -1.421875 32.421875 -1.421875 \nQ 20.0625 -1.421875 12.78125 6.34375 \nQ 5.515625 14.109375 5.515625 27.296875 \nQ 5.515625 40.671875 12.859375 48.328125 \nQ 20.21875 56 33.015625 56 \nQ 37.15625 56 41.109375 55.140625 \nQ 45.0625 54.296875 48.78125 52.59375 \nz\n\" id=\"DejaVuSans-99\"/>\n      <path d=\"M 30.609375 48.390625 \nQ 23.390625 48.390625 19.1875 42.75 \nQ 14.984375 37.109375 14.984375 27.296875 \nQ 14.984375 17.484375 19.15625 11.84375 \nQ 23.34375 6.203125 30.609375 6.203125 \nQ 37.796875 6.203125 41.984375 11.859375 \nQ 46.1875 17.53125 46.1875 27.296875 \nQ 46.1875 37.015625 41.984375 42.703125 \nQ 37.796875 48.390625 30.609375 48.390625 \nz\nM 30.609375 56 \nQ 42.328125 56 49.015625 48.375 \nQ 55.71875 40.765625 55.71875 27.296875 \nQ 55.71875 13.875 49.015625 6.21875 \nQ 42.328125 -1.421875 30.609375 -1.421875 \nQ 18.84375 -1.421875 12.171875 6.21875 \nQ 5.515625 13.875 5.515625 27.296875 \nQ 5.515625 40.765625 12.171875 48.375 \nQ 18.84375 56 30.609375 56 \nz\n\" id=\"DejaVuSans-111\"/>\n      <path d=\"M 52 44.1875 \nQ 55.375 50.25 60.0625 53.125 \nQ 64.75 56 71.09375 56 \nQ 79.640625 56 84.28125 50.015625 \nQ 88.921875 44.046875 88.921875 33.015625 \nL 88.921875 0 \nL 79.890625 0 \nL 79.890625 32.71875 \nQ 79.890625 40.578125 77.09375 44.375 \nQ 74.3125 48.1875 68.609375 48.1875 \nQ 61.625 48.1875 57.5625 43.546875 \nQ 53.515625 38.921875 53.515625 30.90625 \nL 53.515625 0 \nL 44.484375 0 \nL 44.484375 32.71875 \nQ 44.484375 40.625 41.703125 44.40625 \nQ 38.921875 48.1875 33.109375 48.1875 \nQ 26.21875 48.1875 22.15625 43.53125 \nQ 18.109375 38.875 18.109375 30.90625 \nL 18.109375 0 \nL 9.078125 0 \nL 9.078125 54.6875 \nL 18.109375 54.6875 \nL 18.109375 46.1875 \nQ 21.1875 51.21875 25.484375 53.609375 \nQ 29.78125 56 35.6875 56 \nQ 41.65625 56 45.828125 52.96875 \nQ 50 49.953125 52 44.1875 \nz\n\" id=\"DejaVuSans-109\"/>\n      <path d=\"M 4.203125 54.6875 \nL 13.1875 54.6875 \nL 24.421875 12.015625 \nL 35.59375 54.6875 \nL 46.1875 54.6875 \nL 57.421875 12.015625 \nL 68.609375 54.6875 \nL 77.59375 54.6875 \nL 63.28125 0 \nL 52.6875 0 \nL 40.921875 44.828125 \nL 29.109375 0 \nL 18.5 0 \nz\n\" id=\"DejaVuSans-119\"/>\n      <path d=\"M 41.109375 46.296875 \nQ 39.59375 47.171875 37.8125 47.578125 \nQ 36.03125 48 33.890625 48 \nQ 26.265625 48 22.1875 43.046875 \nQ 18.109375 38.09375 18.109375 28.8125 \nL 18.109375 0 \nL 9.078125 0 \nL 9.078125 54.6875 \nL 18.109375 54.6875 \nL 18.109375 46.1875 \nQ 20.953125 51.171875 25.484375 53.578125 \nQ 30.03125 56 36.53125 56 \nQ 37.453125 56 38.578125 55.875 \nQ 39.703125 55.765625 41.0625 55.515625 \nz\n\" id=\"DejaVuSans-114\"/>\n      <path d=\"M 45.40625 46.390625 \nL 45.40625 75.984375 \nL 54.390625 75.984375 \nL 54.390625 0 \nL 45.40625 0 \nL 45.40625 8.203125 \nQ 42.578125 3.328125 38.25 0.953125 \nQ 33.9375 -1.421875 27.875 -1.421875 \nQ 17.96875 -1.421875 11.734375 6.484375 \nQ 5.515625 14.40625 5.515625 27.296875 \nQ 5.515625 40.1875 11.734375 48.09375 \nQ 17.96875 56 27.875 56 \nQ 33.9375 56 38.25 53.625 \nQ 42.578125 51.265625 45.40625 46.390625 \nz\nM 14.796875 27.296875 \nQ 14.796875 17.390625 18.875 11.75 \nQ 22.953125 6.109375 30.078125 6.109375 \nQ 37.203125 6.109375 41.296875 11.75 \nQ 45.40625 17.390625 45.40625 27.296875 \nQ 45.40625 37.203125 41.296875 42.84375 \nQ 37.203125 48.484375 30.078125 48.484375 \nQ 22.953125 48.484375 18.875 42.84375 \nQ 14.796875 37.203125 14.796875 27.296875 \nz\n\" id=\"DejaVuSans-100\"/>\n      <path d=\"M 44.28125 53.078125 \nL 44.28125 44.578125 \nQ 40.484375 46.53125 36.375 47.5 \nQ 32.28125 48.484375 27.875 48.484375 \nQ 21.1875 48.484375 17.84375 46.4375 \nQ 14.5 44.390625 14.5 40.28125 \nQ 14.5 37.15625 16.890625 35.375 \nQ 19.28125 33.59375 26.515625 31.984375 \nL 29.59375 31.296875 \nQ 39.15625 29.25 43.1875 25.515625 \nQ 47.21875 21.78125 47.21875 15.09375 \nQ 47.21875 7.46875 41.1875 3.015625 \nQ 35.15625 -1.421875 24.609375 -1.421875 \nQ 20.21875 -1.421875 15.453125 -0.5625 \nQ 10.6875 0.296875 5.421875 2 \nL 5.421875 11.28125 \nQ 10.40625 8.6875 15.234375 7.390625 \nQ 20.0625 6.109375 24.8125 6.109375 \nQ 31.15625 6.109375 34.5625 8.28125 \nQ 37.984375 10.453125 37.984375 14.40625 \nQ 37.984375 18.0625 35.515625 20.015625 \nQ 33.0625 21.96875 24.703125 23.78125 \nL 21.578125 24.515625 \nQ 13.234375 26.265625 9.515625 29.90625 \nQ 5.8125 33.546875 5.8125 39.890625 \nQ 5.8125 47.609375 11.28125 51.796875 \nQ 16.75 56 26.8125 56 \nQ 31.78125 56 36.171875 55.265625 \nQ 40.578125 54.546875 44.28125 53.078125 \nz\n\" id=\"DejaVuSans-115\"/>\n     </defs>\n     <g transform=\"translate(201.902273 456.775)scale(0.1 -0.1)\">\n      <use xlink:href=\"#DejaVuSans-110\"/>\n      <use x=\"63.378906\" xlink:href=\"#DejaVuSans-98\"/>\n      <use x=\"126.855469\" xlink:href=\"#DejaVuSans-95\"/>\n      <use x=\"176.855469\" xlink:href=\"#DejaVuSans-99\"/>\n      <use x=\"231.835938\" xlink:href=\"#DejaVuSans-111\"/>\n      <use x=\"293.017578\" xlink:href=\"#DejaVuSans-109\"/>\n      <use x=\"390.429688\" xlink:href=\"#DejaVuSans-109\"/>\n      <use x=\"487.841797\" xlink:href=\"#DejaVuSans-111\"/>\n      <use x=\"549.023438\" xlink:href=\"#DejaVuSans-110\"/>\n      <use x=\"612.402344\" xlink:href=\"#DejaVuSans-95\"/>\n      <use x=\"662.402344\" xlink:href=\"#DejaVuSans-119\"/>\n      <use x=\"744.189453\" xlink:href=\"#DejaVuSans-111\"/>\n      <use x=\"805.371094\" xlink:href=\"#DejaVuSans-114\"/>\n      <use x=\"844.734375\" xlink:href=\"#DejaVuSans-100\"/>\n      <use x=\"908.210938\" xlink:href=\"#DejaVuSans-115\"/>\n     </g>\n    </g>\n   </g>\n   <g id=\"matplotlib.axis_2\">\n    <g id=\"ytick_1\">\n     <g id=\"line2d_6\">\n      <defs>\n       <path d=\"M 0 0 \nL -3.5 0 \n\" id=\"m8b04779ef3\" style=\"stroke:#000000;stroke-width:0.8;\"/>\n      </defs>\n      <g>\n       <use style=\"stroke:#000000;stroke-width:0.8;\" x=\"59.690625\" xlink:href=\"#m8b04779ef3\" y=\"428.498437\"/>\n      </g>\n     </g>\n     <g id=\"text_7\">\n      <!-- 0 -->\n      <g transform=\"translate(46.328125 432.297656)scale(0.1 -0.1)\">\n       <use xlink:href=\"#DejaVuSans-48\"/>\n      </g>\n     </g>\n    </g>\n    <g id=\"ytick_2\">\n     <g id=\"line2d_7\">\n      <g>\n       <use style=\"stroke:#000000;stroke-width:0.8;\" x=\"59.690625\" xlink:href=\"#m8b04779ef3\" y=\"380.183763\"/>\n      </g>\n     </g>\n     <g id=\"text_8\">\n      <!-- 5000 -->\n      <defs>\n       <path d=\"M 10.796875 72.90625 \nL 49.515625 72.90625 \nL 49.515625 64.59375 \nL 19.828125 64.59375 \nL 19.828125 46.734375 \nQ 21.96875 47.46875 24.109375 47.828125 \nQ 26.265625 48.1875 28.421875 48.1875 \nQ 40.625 48.1875 47.75 41.5 \nQ 54.890625 34.8125 54.890625 23.390625 \nQ 54.890625 11.625 47.5625 5.09375 \nQ 40.234375 -1.421875 26.90625 -1.421875 \nQ 22.3125 -1.421875 17.546875 -0.640625 \nQ 12.796875 0.140625 7.71875 1.703125 \nL 7.71875 11.625 \nQ 12.109375 9.234375 16.796875 8.0625 \nQ 21.484375 6.890625 26.703125 6.890625 \nQ 35.15625 6.890625 40.078125 11.328125 \nQ 45.015625 15.765625 45.015625 23.390625 \nQ 45.015625 31 40.078125 35.4375 \nQ 35.15625 39.890625 26.703125 39.890625 \nQ 22.75 39.890625 18.8125 39.015625 \nQ 14.890625 38.140625 10.796875 36.28125 \nz\n\" id=\"DejaVuSans-53\"/>\n      </defs>\n      <g transform=\"translate(27.240625 383.982982)scale(0.1 -0.1)\">\n       <use xlink:href=\"#DejaVuSans-53\"/>\n       <use x=\"63.623047\" xlink:href=\"#DejaVuSans-48\"/>\n       <use x=\"127.246094\" xlink:href=\"#DejaVuSans-48\"/>\n       <use x=\"190.869141\" xlink:href=\"#DejaVuSans-48\"/>\n      </g>\n     </g>\n    </g>\n    <g id=\"ytick_3\">\n     <g id=\"line2d_8\">\n      <g>\n       <use style=\"stroke:#000000;stroke-width:0.8;\" x=\"59.690625\" xlink:href=\"#m8b04779ef3\" y=\"331.869088\"/>\n      </g>\n     </g>\n     <g id=\"text_9\">\n      <!-- 10000 -->\n      <g transform=\"translate(20.878125 335.668307)scale(0.1 -0.1)\">\n       <use xlink:href=\"#DejaVuSans-49\"/>\n       <use x=\"63.623047\" xlink:href=\"#DejaVuSans-48\"/>\n       <use x=\"127.246094\" xlink:href=\"#DejaVuSans-48\"/>\n       <use x=\"190.869141\" xlink:href=\"#DejaVuSans-48\"/>\n       <use x=\"254.492188\" xlink:href=\"#DejaVuSans-48\"/>\n      </g>\n     </g>\n    </g>\n    <g id=\"ytick_4\">\n     <g id=\"line2d_9\">\n      <g>\n       <use style=\"stroke:#000000;stroke-width:0.8;\" x=\"59.690625\" xlink:href=\"#m8b04779ef3\" y=\"283.554414\"/>\n      </g>\n     </g>\n     <g id=\"text_10\">\n      <!-- 15000 -->\n      <g transform=\"translate(20.878125 287.353632)scale(0.1 -0.1)\">\n       <use xlink:href=\"#DejaVuSans-49\"/>\n       <use x=\"63.623047\" xlink:href=\"#DejaVuSans-53\"/>\n       <use x=\"127.246094\" xlink:href=\"#DejaVuSans-48\"/>\n       <use x=\"190.869141\" xlink:href=\"#DejaVuSans-48\"/>\n       <use x=\"254.492188\" xlink:href=\"#DejaVuSans-48\"/>\n      </g>\n     </g>\n    </g>\n    <g id=\"ytick_5\">\n     <g id=\"line2d_10\">\n      <g>\n       <use style=\"stroke:#000000;stroke-width:0.8;\" x=\"59.690625\" xlink:href=\"#m8b04779ef3\" y=\"235.239739\"/>\n      </g>\n     </g>\n     <g id=\"text_11\">\n      <!-- 20000 -->\n      <g transform=\"translate(20.878125 239.038958)scale(0.1 -0.1)\">\n       <use xlink:href=\"#DejaVuSans-50\"/>\n       <use x=\"63.623047\" xlink:href=\"#DejaVuSans-48\"/>\n       <use x=\"127.246094\" xlink:href=\"#DejaVuSans-48\"/>\n       <use x=\"190.869141\" xlink:href=\"#DejaVuSans-48\"/>\n       <use x=\"254.492188\" xlink:href=\"#DejaVuSans-48\"/>\n      </g>\n     </g>\n    </g>\n    <g id=\"ytick_6\">\n     <g id=\"line2d_11\">\n      <g>\n       <use style=\"stroke:#000000;stroke-width:0.8;\" x=\"59.690625\" xlink:href=\"#m8b04779ef3\" y=\"186.925064\"/>\n      </g>\n     </g>\n     <g id=\"text_12\">\n      <!-- 25000 -->\n      <g transform=\"translate(20.878125 190.724283)scale(0.1 -0.1)\">\n       <use xlink:href=\"#DejaVuSans-50\"/>\n       <use x=\"63.623047\" xlink:href=\"#DejaVuSans-53\"/>\n       <use x=\"127.246094\" xlink:href=\"#DejaVuSans-48\"/>\n       <use x=\"190.869141\" xlink:href=\"#DejaVuSans-48\"/>\n       <use x=\"254.492188\" xlink:href=\"#DejaVuSans-48\"/>\n      </g>\n     </g>\n    </g>\n    <g id=\"ytick_7\">\n     <g id=\"line2d_12\">\n      <g>\n       <use style=\"stroke:#000000;stroke-width:0.8;\" x=\"59.690625\" xlink:href=\"#m8b04779ef3\" y=\"138.61039\"/>\n      </g>\n     </g>\n     <g id=\"text_13\">\n      <!-- 30000 -->\n      <g transform=\"translate(20.878125 142.409608)scale(0.1 -0.1)\">\n       <use xlink:href=\"#DejaVuSans-51\"/>\n       <use x=\"63.623047\" xlink:href=\"#DejaVuSans-48\"/>\n       <use x=\"127.246094\" xlink:href=\"#DejaVuSans-48\"/>\n       <use x=\"190.869141\" xlink:href=\"#DejaVuSans-48\"/>\n       <use x=\"254.492188\" xlink:href=\"#DejaVuSans-48\"/>\n      </g>\n     </g>\n    </g>\n    <g id=\"ytick_8\">\n     <g id=\"line2d_13\">\n      <g>\n       <use style=\"stroke:#000000;stroke-width:0.8;\" x=\"59.690625\" xlink:href=\"#m8b04779ef3\" y=\"90.295715\"/>\n      </g>\n     </g>\n     <g id=\"text_14\">\n      <!-- 35000 -->\n      <g transform=\"translate(20.878125 94.094934)scale(0.1 -0.1)\">\n       <use xlink:href=\"#DejaVuSans-51\"/>\n       <use x=\"63.623047\" xlink:href=\"#DejaVuSans-53\"/>\n       <use x=\"127.246094\" xlink:href=\"#DejaVuSans-48\"/>\n       <use x=\"190.869141\" xlink:href=\"#DejaVuSans-48\"/>\n       <use x=\"254.492188\" xlink:href=\"#DejaVuSans-48\"/>\n      </g>\n     </g>\n    </g>\n    <g id=\"ytick_9\">\n     <g id=\"line2d_14\">\n      <g>\n       <use style=\"stroke:#000000;stroke-width:0.8;\" x=\"59.690625\" xlink:href=\"#m8b04779ef3\" y=\"41.98104\"/>\n      </g>\n     </g>\n     <g id=\"text_15\">\n      <!-- 40000 -->\n      <g transform=\"translate(20.878125 45.780259)scale(0.1 -0.1)\">\n       <use xlink:href=\"#DejaVuSans-52\"/>\n       <use x=\"63.623047\" xlink:href=\"#DejaVuSans-48\"/>\n       <use x=\"127.246094\" xlink:href=\"#DejaVuSans-48\"/>\n       <use x=\"190.869141\" xlink:href=\"#DejaVuSans-48\"/>\n       <use x=\"254.492188\" xlink:href=\"#DejaVuSans-48\"/>\n      </g>\n     </g>\n    </g>\n    <g id=\"text_16\">\n     <!-- Nb -->\n     <defs>\n      <path d=\"M 9.8125 72.90625 \nL 23.09375 72.90625 \nL 55.421875 11.921875 \nL 55.421875 72.90625 \nL 64.984375 72.90625 \nL 64.984375 0 \nL 51.703125 0 \nL 19.390625 60.984375 \nL 19.390625 0 \nL 9.8125 0 \nz\n\" id=\"DejaVuSans-78\"/>\n     </defs>\n     <g transform=\"translate(14.798438 231.563281)rotate(-90)scale(0.1 -0.1)\">\n      <use xlink:href=\"#DejaVuSans-78\"/>\n      <use x=\"74.804688\" xlink:href=\"#DejaVuSans-98\"/>\n     </g>\n    </g>\n   </g>\n   <g id=\"patch_5\">\n    <path d=\"M 59.690625 428.498437 \nL 59.690625 20.798437 \n\" style=\"fill:none;stroke:#000000;stroke-linecap:square;stroke-linejoin:miter;stroke-width:0.8;\"/>\n   </g>\n   <g id=\"patch_6\">\n    <path d=\"M 440.14517 428.498437 \nL 440.14517 20.798437 \n\" style=\"fill:none;stroke:#000000;stroke-linecap:square;stroke-linejoin:miter;stroke-width:0.8;\"/>\n   </g>\n   <g id=\"patch_7\">\n    <path d=\"M 59.690625 428.498437 \nL 440.14517 428.498437 \n\" style=\"fill:none;stroke:#000000;stroke-linecap:square;stroke-linejoin:miter;stroke-width:0.8;\"/>\n   </g>\n   <g id=\"patch_8\">\n    <path d=\"M 59.690625 20.798437 \nL 440.14517 20.798437 \n\" style=\"fill:none;stroke:#000000;stroke-linecap:square;stroke-linejoin:miter;stroke-width:0.8;\"/>\n   </g>\n   <g id=\"text_17\">\n    <!-- AUC is_duplicate/nb_common_words : 0.680781 -->\n    <defs>\n     <path d=\"M 34.1875 63.1875 \nL 20.796875 26.90625 \nL 47.609375 26.90625 \nz\nM 28.609375 72.90625 \nL 39.796875 72.90625 \nL 67.578125 0 \nL 57.328125 0 \nL 50.6875 18.703125 \nL 17.828125 18.703125 \nL 11.1875 0 \nL 0.78125 0 \nz\n\" id=\"DejaVuSans-65\"/>\n     <path d=\"M 8.6875 72.90625 \nL 18.609375 72.90625 \nL 18.609375 28.609375 \nQ 18.609375 16.890625 22.84375 11.734375 \nQ 27.09375 6.59375 36.625 6.59375 \nQ 46.09375 6.59375 50.34375 11.734375 \nQ 54.59375 16.890625 54.59375 28.609375 \nL 54.59375 72.90625 \nL 64.5 72.90625 \nL 64.5 27.390625 \nQ 64.5 13.140625 57.4375 5.859375 \nQ 50.390625 -1.421875 36.625 -1.421875 \nQ 22.796875 -1.421875 15.734375 5.859375 \nQ 8.6875 13.140625 8.6875 27.390625 \nz\n\" id=\"DejaVuSans-85\"/>\n     <path d=\"M 64.40625 67.28125 \nL 64.40625 56.890625 \nQ 59.421875 61.53125 53.78125 63.8125 \nQ 48.140625 66.109375 41.796875 66.109375 \nQ 29.296875 66.109375 22.65625 58.46875 \nQ 16.015625 50.828125 16.015625 36.375 \nQ 16.015625 21.96875 22.65625 14.328125 \nQ 29.296875 6.6875 41.796875 6.6875 \nQ 48.140625 6.6875 53.78125 8.984375 \nQ 59.421875 11.28125 64.40625 15.921875 \nL 64.40625 5.609375 \nQ 59.234375 2.09375 53.4375 0.328125 \nQ 47.65625 -1.421875 41.21875 -1.421875 \nQ 24.65625 -1.421875 15.125 8.703125 \nQ 5.609375 18.84375 5.609375 36.375 \nQ 5.609375 53.953125 15.125 64.078125 \nQ 24.65625 74.21875 41.21875 74.21875 \nQ 47.75 74.21875 53.53125 72.484375 \nQ 59.328125 70.75 64.40625 67.28125 \nz\n\" id=\"DejaVuSans-67\"/>\n     <path id=\"DejaVuSans-32\"/>\n     <path d=\"M 9.421875 54.6875 \nL 18.40625 54.6875 \nL 18.40625 0 \nL 9.421875 0 \nz\nM 9.421875 75.984375 \nL 18.40625 75.984375 \nL 18.40625 64.59375 \nL 9.421875 64.59375 \nz\n\" id=\"DejaVuSans-105\"/>\n     <path d=\"M 8.5 21.578125 \nL 8.5 54.6875 \nL 17.484375 54.6875 \nL 17.484375 21.921875 \nQ 17.484375 14.15625 20.5 10.265625 \nQ 23.53125 6.390625 29.59375 6.390625 \nQ 36.859375 6.390625 41.078125 11.03125 \nQ 45.3125 15.671875 45.3125 23.6875 \nL 45.3125 54.6875 \nL 54.296875 54.6875 \nL 54.296875 0 \nL 45.3125 0 \nL 45.3125 8.40625 \nQ 42.046875 3.421875 37.71875 1 \nQ 33.40625 -1.421875 27.6875 -1.421875 \nQ 18.265625 -1.421875 13.375 4.4375 \nQ 8.5 10.296875 8.5 21.578125 \nz\nM 31.109375 56 \nz\n\" id=\"DejaVuSans-117\"/>\n     <path d=\"M 18.109375 8.203125 \nL 18.109375 -20.796875 \nL 9.078125 -20.796875 \nL 9.078125 54.6875 \nL 18.109375 54.6875 \nL 18.109375 46.390625 \nQ 20.953125 51.265625 25.265625 53.625 \nQ 29.59375 56 35.59375 56 \nQ 45.5625 56 51.78125 48.09375 \nQ 58.015625 40.1875 58.015625 27.296875 \nQ 58.015625 14.40625 51.78125 6.484375 \nQ 45.5625 -1.421875 35.59375 -1.421875 \nQ 29.59375 -1.421875 25.265625 0.953125 \nQ 20.953125 3.328125 18.109375 8.203125 \nz\nM 48.6875 27.296875 \nQ 48.6875 37.203125 44.609375 42.84375 \nQ 40.53125 48.484375 33.40625 48.484375 \nQ 26.265625 48.484375 22.1875 42.84375 \nQ 18.109375 37.203125 18.109375 27.296875 \nQ 18.109375 17.390625 22.1875 11.75 \nQ 26.265625 6.109375 33.40625 6.109375 \nQ 40.53125 6.109375 44.609375 11.75 \nQ 48.6875 17.390625 48.6875 27.296875 \nz\n\" id=\"DejaVuSans-112\"/>\n     <path d=\"M 9.421875 75.984375 \nL 18.40625 75.984375 \nL 18.40625 0 \nL 9.421875 0 \nz\n\" id=\"DejaVuSans-108\"/>\n     <path d=\"M 34.28125 27.484375 \nQ 23.390625 27.484375 19.1875 25 \nQ 14.984375 22.515625 14.984375 16.5 \nQ 14.984375 11.71875 18.140625 8.90625 \nQ 21.296875 6.109375 26.703125 6.109375 \nQ 34.1875 6.109375 38.703125 11.40625 \nQ 43.21875 16.703125 43.21875 25.484375 \nL 43.21875 27.484375 \nz\nM 52.203125 31.203125 \nL 52.203125 0 \nL 43.21875 0 \nL 43.21875 8.296875 \nQ 40.140625 3.328125 35.546875 0.953125 \nQ 30.953125 -1.421875 24.3125 -1.421875 \nQ 15.921875 -1.421875 10.953125 3.296875 \nQ 6 8.015625 6 15.921875 \nQ 6 25.140625 12.171875 29.828125 \nQ 18.359375 34.515625 30.609375 34.515625 \nL 43.21875 34.515625 \nL 43.21875 35.40625 \nQ 43.21875 41.609375 39.140625 45 \nQ 35.0625 48.390625 27.6875 48.390625 \nQ 23 48.390625 18.546875 47.265625 \nQ 14.109375 46.140625 10.015625 43.890625 \nL 10.015625 52.203125 \nQ 14.9375 54.109375 19.578125 55.046875 \nQ 24.21875 56 28.609375 56 \nQ 40.484375 56 46.34375 49.84375 \nQ 52.203125 43.703125 52.203125 31.203125 \nz\n\" id=\"DejaVuSans-97\"/>\n     <path d=\"M 18.3125 70.21875 \nL 18.3125 54.6875 \nL 36.8125 54.6875 \nL 36.8125 47.703125 \nL 18.3125 47.703125 \nL 18.3125 18.015625 \nQ 18.3125 11.328125 20.140625 9.421875 \nQ 21.96875 7.515625 27.59375 7.515625 \nL 36.8125 7.515625 \nL 36.8125 0 \nL 27.59375 0 \nQ 17.1875 0 13.234375 3.875 \nQ 9.28125 7.765625 9.28125 18.015625 \nL 9.28125 47.703125 \nL 2.6875 47.703125 \nL 2.6875 54.6875 \nL 9.28125 54.6875 \nL 9.28125 70.21875 \nz\n\" id=\"DejaVuSans-116\"/>\n     <path d=\"M 56.203125 29.59375 \nL 56.203125 25.203125 \nL 14.890625 25.203125 \nQ 15.484375 15.921875 20.484375 11.0625 \nQ 25.484375 6.203125 34.421875 6.203125 \nQ 39.59375 6.203125 44.453125 7.46875 \nQ 49.3125 8.734375 54.109375 11.28125 \nL 54.109375 2.78125 \nQ 49.265625 0.734375 44.1875 -0.34375 \nQ 39.109375 -1.421875 33.890625 -1.421875 \nQ 20.796875 -1.421875 13.15625 6.1875 \nQ 5.515625 13.8125 5.515625 26.8125 \nQ 5.515625 40.234375 12.765625 48.109375 \nQ 20.015625 56 32.328125 56 \nQ 43.359375 56 49.78125 48.890625 \nQ 56.203125 41.796875 56.203125 29.59375 \nz\nM 47.21875 32.234375 \nQ 47.125 39.59375 43.09375 43.984375 \nQ 39.0625 48.390625 32.421875 48.390625 \nQ 24.90625 48.390625 20.390625 44.140625 \nQ 15.875 39.890625 15.1875 32.171875 \nz\n\" id=\"DejaVuSans-101\"/>\n     <path d=\"M 25.390625 72.90625 \nL 33.6875 72.90625 \nL 8.296875 -9.28125 \nL 0 -9.28125 \nz\n\" id=\"DejaVuSans-47\"/>\n     <path d=\"M 11.71875 12.40625 \nL 22.015625 12.40625 \nL 22.015625 0 \nL 11.71875 0 \nz\nM 11.71875 51.703125 \nL 22.015625 51.703125 \nL 22.015625 39.3125 \nL 11.71875 39.3125 \nz\n\" id=\"DejaVuSans-58\"/>\n     <path d=\"M 10.6875 12.40625 \nL 21 12.40625 \nL 21 0 \nL 10.6875 0 \nz\n\" id=\"DejaVuSans-46\"/>\n     <path d=\"M 33.015625 40.375 \nQ 26.375 40.375 22.484375 35.828125 \nQ 18.609375 31.296875 18.609375 23.390625 \nQ 18.609375 15.53125 22.484375 10.953125 \nQ 26.375 6.390625 33.015625 6.390625 \nQ 39.65625 6.390625 43.53125 10.953125 \nQ 47.40625 15.53125 47.40625 23.390625 \nQ 47.40625 31.296875 43.53125 35.828125 \nQ 39.65625 40.375 33.015625 40.375 \nz\nM 52.59375 71.296875 \nL 52.59375 62.3125 \nQ 48.875 64.0625 45.09375 64.984375 \nQ 41.3125 65.921875 37.59375 65.921875 \nQ 27.828125 65.921875 22.671875 59.328125 \nQ 17.53125 52.734375 16.796875 39.40625 \nQ 19.671875 43.65625 24.015625 45.921875 \nQ 28.375 48.1875 33.59375 48.1875 \nQ 44.578125 48.1875 50.953125 41.515625 \nQ 57.328125 34.859375 57.328125 23.390625 \nQ 57.328125 12.15625 50.6875 5.359375 \nQ 44.046875 -1.421875 33.015625 -1.421875 \nQ 20.359375 -1.421875 13.671875 8.265625 \nQ 6.984375 17.96875 6.984375 36.375 \nQ 6.984375 53.65625 15.1875 63.9375 \nQ 23.390625 74.21875 37.203125 74.21875 \nQ 40.921875 74.21875 44.703125 73.484375 \nQ 48.484375 72.75 52.59375 71.296875 \nz\n\" id=\"DejaVuSans-54\"/>\n     <path d=\"M 31.78125 34.625 \nQ 24.75 34.625 20.71875 30.859375 \nQ 16.703125 27.09375 16.703125 20.515625 \nQ 16.703125 13.921875 20.71875 10.15625 \nQ 24.75 6.390625 31.78125 6.390625 \nQ 38.8125 6.390625 42.859375 10.171875 \nQ 46.921875 13.96875 46.921875 20.515625 \nQ 46.921875 27.09375 42.890625 30.859375 \nQ 38.875 34.625 31.78125 34.625 \nz\nM 21.921875 38.8125 \nQ 15.578125 40.375 12.03125 44.71875 \nQ 8.5 49.078125 8.5 55.328125 \nQ 8.5 64.0625 14.71875 69.140625 \nQ 20.953125 74.21875 31.78125 74.21875 \nQ 42.671875 74.21875 48.875 69.140625 \nQ 55.078125 64.0625 55.078125 55.328125 \nQ 55.078125 49.078125 51.53125 44.71875 \nQ 48 40.375 41.703125 38.8125 \nQ 48.828125 37.15625 52.796875 32.3125 \nQ 56.78125 27.484375 56.78125 20.515625 \nQ 56.78125 9.90625 50.3125 4.234375 \nQ 43.84375 -1.421875 31.78125 -1.421875 \nQ 19.734375 -1.421875 13.25 4.234375 \nQ 6.78125 9.90625 6.78125 20.515625 \nQ 6.78125 27.484375 10.78125 32.3125 \nQ 14.796875 37.15625 21.921875 38.8125 \nz\nM 18.3125 54.390625 \nQ 18.3125 48.734375 21.84375 45.5625 \nQ 25.390625 42.390625 31.78125 42.390625 \nQ 38.140625 42.390625 41.71875 45.5625 \nQ 45.3125 48.734375 45.3125 54.390625 \nQ 45.3125 60.0625 41.71875 63.234375 \nQ 38.140625 66.40625 31.78125 66.40625 \nQ 25.390625 66.40625 21.84375 63.234375 \nQ 18.3125 60.0625 18.3125 54.390625 \nz\n\" id=\"DejaVuSans-56\"/>\n     <path d=\"M 8.203125 72.90625 \nL 55.078125 72.90625 \nL 55.078125 68.703125 \nL 28.609375 0 \nL 18.3125 0 \nL 43.21875 64.59375 \nL 8.203125 64.59375 \nz\n\" id=\"DejaVuSans-55\"/>\n    </defs>\n    <g transform=\"translate(129.698366 14.798437)scale(0.1 -0.1)\">\n     <use xlink:href=\"#DejaVuSans-65\"/>\n     <use x=\"68.408203\" xlink:href=\"#DejaVuSans-85\"/>\n     <use x=\"141.601562\" xlink:href=\"#DejaVuSans-67\"/>\n     <use x=\"211.425781\" xlink:href=\"#DejaVuSans-32\"/>\n     <use x=\"243.212891\" xlink:href=\"#DejaVuSans-105\"/>\n     <use x=\"270.996094\" xlink:href=\"#DejaVuSans-115\"/>\n     <use x=\"323.095703\" xlink:href=\"#DejaVuSans-95\"/>\n     <use x=\"373.095703\" xlink:href=\"#DejaVuSans-100\"/>\n     <use x=\"436.572266\" xlink:href=\"#DejaVuSans-117\"/>\n     <use x=\"499.951172\" xlink:href=\"#DejaVuSans-112\"/>\n     <use x=\"563.427734\" xlink:href=\"#DejaVuSans-108\"/>\n     <use x=\"591.210938\" xlink:href=\"#DejaVuSans-105\"/>\n     <use x=\"618.994141\" xlink:href=\"#DejaVuSans-99\"/>\n     <use x=\"673.974609\" xlink:href=\"#DejaVuSans-97\"/>\n     <use x=\"735.253906\" xlink:href=\"#DejaVuSans-116\"/>\n     <use x=\"774.462891\" xlink:href=\"#DejaVuSans-101\"/>\n     <use x=\"835.986328\" xlink:href=\"#DejaVuSans-47\"/>\n     <use x=\"869.677734\" xlink:href=\"#DejaVuSans-110\"/>\n     <use x=\"933.056641\" xlink:href=\"#DejaVuSans-98\"/>\n     <use x=\"996.533203\" xlink:href=\"#DejaVuSans-95\"/>\n     <use x=\"1046.533203\" xlink:href=\"#DejaVuSans-99\"/>\n     <use x=\"1101.513672\" xlink:href=\"#DejaVuSans-111\"/>\n     <use x=\"1162.695312\" xlink:href=\"#DejaVuSans-109\"/>\n     <use x=\"1260.107422\" xlink:href=\"#DejaVuSans-109\"/>\n     <use x=\"1357.519531\" xlink:href=\"#DejaVuSans-111\"/>\n     <use x=\"1418.701172\" xlink:href=\"#DejaVuSans-110\"/>\n     <use x=\"1482.080078\" xlink:href=\"#DejaVuSans-95\"/>\n     <use x=\"1532.080078\" xlink:href=\"#DejaVuSans-119\"/>\n     <use x=\"1613.867188\" xlink:href=\"#DejaVuSans-111\"/>\n     <use x=\"1675.048828\" xlink:href=\"#DejaVuSans-114\"/>\n     <use x=\"1714.412109\" xlink:href=\"#DejaVuSans-100\"/>\n     <use x=\"1777.888672\" xlink:href=\"#DejaVuSans-115\"/>\n     <use x=\"1829.988281\" xlink:href=\"#DejaVuSans-32\"/>\n     <use x=\"1861.775391\" xlink:href=\"#DejaVuSans-58\"/>\n     <use x=\"1895.466797\" xlink:href=\"#DejaVuSans-32\"/>\n     <use x=\"1927.253906\" xlink:href=\"#DejaVuSans-48\"/>\n     <use x=\"1990.876953\" xlink:href=\"#DejaVuSans-46\"/>\n     <use x=\"2022.664062\" xlink:href=\"#DejaVuSans-54\"/>\n     <use x=\"2086.287109\" xlink:href=\"#DejaVuSans-56\"/>\n     <use x=\"2149.910156\" xlink:href=\"#DejaVuSans-48\"/>\n     <use x=\"2213.533203\" xlink:href=\"#DejaVuSans-55\"/>\n     <use x=\"2277.15625\" xlink:href=\"#DejaVuSans-56\"/>\n     <use x=\"2340.779297\" xlink:href=\"#DejaVuSans-49\"/>\n    </g>\n   </g>\n   <g id=\"legend_1\">\n    <g id=\"patch_9\">\n     <path d=\"M 357.17642 58.154687 \nL 433.14517 58.154687 \nQ 435.14517 58.154687 435.14517 56.154687 \nL 435.14517 27.798437 \nQ 435.14517 25.798437 433.14517 25.798437 \nL 357.17642 25.798437 \nQ 355.17642 25.798437 355.17642 27.798437 \nL 355.17642 56.154687 \nQ 355.17642 58.154687 357.17642 58.154687 \nz\n\" style=\"fill:#ffffff;opacity:0.8;stroke:#cccccc;stroke-linejoin:miter;\"/>\n    </g>\n    <g id=\"patch_10\">\n     <path d=\"M 359.17642 37.396875 \nL 379.17642 37.396875 \nL 379.17642 30.396875 \nL 359.17642 30.396875 \nz\n\" style=\"fill:none;stroke:#d62728;stroke-linejoin:miter;\"/>\n    </g>\n    <g id=\"text_18\">\n     <!-- Same -->\n     <defs>\n      <path d=\"M 53.515625 70.515625 \nL 53.515625 60.890625 \nQ 47.90625 63.578125 42.921875 64.890625 \nQ 37.9375 66.21875 33.296875 66.21875 \nQ 25.25 66.21875 20.875 63.09375 \nQ 16.5 59.96875 16.5 54.203125 \nQ 16.5 49.359375 19.40625 46.890625 \nQ 22.3125 44.4375 30.421875 42.921875 \nL 36.375 41.703125 \nQ 47.40625 39.59375 52.65625 34.296875 \nQ 57.90625 29 57.90625 20.125 \nQ 57.90625 9.515625 50.796875 4.046875 \nQ 43.703125 -1.421875 29.984375 -1.421875 \nQ 24.8125 -1.421875 18.96875 -0.25 \nQ 13.140625 0.921875 6.890625 3.21875 \nL 6.890625 13.375 \nQ 12.890625 10.015625 18.65625 8.296875 \nQ 24.421875 6.59375 29.984375 6.59375 \nQ 38.421875 6.59375 43.015625 9.90625 \nQ 47.609375 13.234375 47.609375 19.390625 \nQ 47.609375 24.75 44.3125 27.78125 \nQ 41.015625 30.8125 33.5 32.328125 \nL 27.484375 33.5 \nQ 16.453125 35.6875 11.515625 40.375 \nQ 6.59375 45.0625 6.59375 53.421875 \nQ 6.59375 63.09375 13.40625 68.65625 \nQ 20.21875 74.21875 32.171875 74.21875 \nQ 37.3125 74.21875 42.625 73.28125 \nQ 47.953125 72.359375 53.515625 70.515625 \nz\n\" id=\"DejaVuSans-83\"/>\n     </defs>\n     <g transform=\"translate(387.17642 37.396875)scale(0.1 -0.1)\">\n      <use xlink:href=\"#DejaVuSans-83\"/>\n      <use x=\"63.476562\" xlink:href=\"#DejaVuSans-97\"/>\n      <use x=\"124.755859\" xlink:href=\"#DejaVuSans-109\"/>\n      <use x=\"222.167969\" xlink:href=\"#DejaVuSans-101\"/>\n     </g>\n    </g>\n    <g id=\"patch_11\">\n     <path d=\"M 359.17642 52.075 \nL 379.17642 52.075 \nL 379.17642 45.075 \nL 359.17642 45.075 \nz\n\" style=\"fill:none;opacity:0.75;stroke:#2ca02c;stroke-linejoin:miter;\"/>\n    </g>\n    <g id=\"text_19\">\n     <!-- Different -->\n     <defs>\n      <path d=\"M 19.671875 64.796875 \nL 19.671875 8.109375 \nL 31.59375 8.109375 \nQ 46.6875 8.109375 53.6875 14.9375 \nQ 60.6875 21.78125 60.6875 36.53125 \nQ 60.6875 51.171875 53.6875 57.984375 \nQ 46.6875 64.796875 31.59375 64.796875 \nz\nM 9.8125 72.90625 \nL 30.078125 72.90625 \nQ 51.265625 72.90625 61.171875 64.09375 \nQ 71.09375 55.28125 71.09375 36.53125 \nQ 71.09375 17.671875 61.125 8.828125 \nQ 51.171875 0 30.078125 0 \nL 9.8125 0 \nz\n\" id=\"DejaVuSans-68\"/>\n      <path d=\"M 37.109375 75.984375 \nL 37.109375 68.5 \nL 28.515625 68.5 \nQ 23.6875 68.5 21.796875 66.546875 \nQ 19.921875 64.59375 19.921875 59.515625 \nL 19.921875 54.6875 \nL 34.71875 54.6875 \nL 34.71875 47.703125 \nL 19.921875 47.703125 \nL 19.921875 0 \nL 10.890625 0 \nL 10.890625 47.703125 \nL 2.296875 47.703125 \nL 2.296875 54.6875 \nL 10.890625 54.6875 \nL 10.890625 58.5 \nQ 10.890625 67.625 15.140625 71.796875 \nQ 19.390625 75.984375 28.609375 75.984375 \nz\n\" id=\"DejaVuSans-102\"/>\n     </defs>\n     <g transform=\"translate(387.17642 52.075)scale(0.1 -0.1)\">\n      <use xlink:href=\"#DejaVuSans-68\"/>\n      <use x=\"77.001953\" xlink:href=\"#DejaVuSans-105\"/>\n      <use x=\"104.785156\" xlink:href=\"#DejaVuSans-102\"/>\n      <use x=\"139.990234\" xlink:href=\"#DejaVuSans-102\"/>\n      <use x=\"175.195312\" xlink:href=\"#DejaVuSans-101\"/>\n      <use x=\"236.71875\" xlink:href=\"#DejaVuSans-114\"/>\n      <use x=\"275.582031\" xlink:href=\"#DejaVuSans-101\"/>\n      <use x=\"337.105469\" xlink:href=\"#DejaVuSans-110\"/>\n      <use x=\"400.484375\" xlink:href=\"#DejaVuSans-116\"/>\n     </g>\n    </g>\n   </g>\n  </g>\n  <g id=\"axes_2\">\n   <g id=\"patch_12\">\n    <path d=\"M 516.23608 428.498437 \nL 896.690625 428.498437 \nL 896.690625 20.798437 \nL 516.23608 20.798437 \nz\n\" style=\"fill:#ffffff;\"/>\n   </g>\n   <g id=\"patch_13\">\n    <path clip-path=\"url(#pf5e5729548)\" d=\"M 533.529468 428.498437 \nL 533.529468 393.961607 \nL 536.988146 393.961607 \nL 536.988146 269.276059 \nL 540.446823 269.276059 \nL 540.446823 230.348592 \nL 543.905501 230.348592 \nL 543.905501 224.883742 \nL 547.364179 224.883742 \nL 547.364179 248.951249 \nL 550.822856 248.951249 \nL 550.822856 287.469492 \nL 554.281534 287.469492 \nL 554.281534 428.498437 \nL 557.740212 428.498437 \nL 557.740212 320.85538 \nL 561.198889 320.85538 \nL 561.198889 348.981029 \nL 564.657567 348.981029 \nL 564.657567 374.770689 \nL 568.116245 374.770689 \nL 568.116245 392.699831 \nL 571.574923 392.699831 \nL 571.574923 402.768456 \nL 575.0336 402.768456 \nL 575.0336 428.498437 \nL 578.492278 428.498437 \nL 578.492278 410.347632 \nL 581.950956 410.347632 \nL 581.950956 416.673559 \nL 585.409633 416.673559 \nL 585.409633 420.296899 \nL 588.868311 420.296899 \nL 588.868311 423.647424 \nL 592.326989 423.647424 \nL 592.326989 425.088234 \nL 595.785666 425.088234 \nL 595.785666 428.498437 \nL 599.244344 428.498437 \nL 599.244344 425.906683 \nL 602.703022 425.906683 \nL 602.703022 426.776285 \nL 606.161699 426.776285 \nL 606.161699 427.211086 \nL 609.620377 427.211086 \nL 609.620377 427.543581 \nL 613.079055 427.543581 \nL 613.079055 428.072162 \nL 616.537732 428.072162 \nL 616.537732 428.498437 \nL 619.99641 428.498437 \nL 619.99641 428.276774 \nL 623.455088 428.276774 \nL 623.455088 428.362029 \nL 626.913765 428.362029 \nL 626.913765 428.370555 \nL 630.372443 428.370555 \nL 630.372443 428.447284 \nL 633.831121 428.447284 \nL 633.831121 428.489912 \nL 637.289799 428.489912 \nL 637.289799 428.498437 \nL 640.748476 428.498437 \nL 640.748476 428.498437 \nL 644.207154 428.498437 \nL 644.207154 428.489912 \nL 647.665832 428.489912 \nL 647.665832 428.489912 \nL 651.124509 428.489912 \nL 651.124509 428.489912 \nL 654.583187 428.489912 \nL 654.583187 428.489912 \nL 658.041865 428.489912 \nL 658.041865 428.498437 \nL 661.500542 428.498437 \nL 661.500542 428.498437 \nL 664.95922 428.498437 \nL 664.95922 428.498437 \nL 668.417898 428.498437 \nL 668.417898 428.498437 \nL 671.876575 428.498437 \nL 671.876575 428.498437 \nL 675.335253 428.498437 \nL 675.335253 428.481386 \nL 678.793931 428.481386 \nL 678.793931 428.498437 \nL 682.252608 428.498437 \nL 682.252608 428.498437 \nL 685.711286 428.498437 \nL 685.711286 428.498437 \nL 689.169964 428.498437 \nL 689.169964 428.498437 \nL 692.628642 428.498437 \nL 692.628642 428.498437 \nL 696.087319 428.498437 \nL 696.087319 428.498437 \nL 699.545997 428.498437 \nL 699.545997 428.498437 \nL 703.004675 428.498437 \nL 703.004675 428.489912 \nL 706.463352 428.489912 \nL 706.463352 428.498437 \n\" style=\"fill:none;stroke:#d62728;stroke-linejoin:miter;\"/>\n   </g>\n   <g id=\"patch_14\">\n    <path clip-path=\"url(#pf5e5729548)\" d=\"M 533.529468 428.498437 \nL 533.529468 222.914349 \nL 540.446823 222.914349 \nL 540.446823 75.68736 \nL 547.364179 75.68736 \nL 547.364179 40.212723 \nL 554.281534 40.212723 \nL 554.281534 241.66194 \nL 561.198889 241.66194 \nL 561.198889 99.320067 \nL 568.116245 99.320067 \nL 568.116245 193.458721 \nL 575.0336 193.458721 \nL 575.0336 341.120511 \nL 581.950956 341.120511 \nL 581.950956 300.155447 \nL 588.868311 300.155447 \nL 588.868311 341.060832 \nL 595.785666 341.060832 \nL 595.785666 396.374325 \nL 602.703022 396.374325 \nL 602.703022 377.106678 \nL 609.620377 377.106678 \nL 609.620377 393.51828 \nL 616.537732 393.51828 \nL 616.537732 415.667549 \nL 623.455088 415.667549 \nL 623.455088 410.023663 \nL 630.372443 410.023663 \nL 630.372443 418.259303 \nL 637.289799 418.259303 \nL 637.289799 425.037081 \nL 644.207154 425.037081 \nL 644.207154 424.610806 \nL 651.124509 424.610806 \nL 651.124509 426.529045 \nL 658.041865 426.529045 \nL 658.041865 427.688514 \nL 664.95922 427.688514 \nL 664.95922 427.543581 \nL 671.876575 427.543581 \nL 671.876575 427.679989 \nL 678.793931 427.679989 \nL 678.793931 428.182994 \nL 685.711286 428.182994 \nL 685.711286 428.080688 \nL 692.628642 428.080688 \nL 692.628642 428.217096 \nL 699.545997 428.217096 \nL 699.545997 428.404657 \nL 706.463352 428.404657 \nL 706.463352 428.413182 \nL 713.380708 428.413182 \nL 713.380708 428.387606 \nL 720.298063 428.387606 \nL 720.298063 428.438759 \nL 727.215418 428.438759 \nL 727.215418 428.489912 \nL 734.132774 428.489912 \nL 734.132774 428.489912 \nL 741.050129 428.489912 \nL 741.050129 428.498437 \nL 747.967485 428.498437 \nL 747.967485 428.489912 \nL 754.88484 428.489912 \nL 754.88484 428.498437 \nL 761.802195 428.498437 \nL 761.802195 428.498437 \nL 768.719551 428.498437 \nL 768.719551 428.498437 \nL 775.636906 428.498437 \nL 775.636906 428.498437 \nL 782.554261 428.498437 \nL 782.554261 428.498437 \nL 789.471617 428.498437 \nL 789.471617 428.498437 \nL 796.388972 428.498437 \nL 796.388972 428.498437 \nL 803.306327 428.498437 \nL 803.306327 428.498437 \nL 810.223683 428.498437 \nL 810.223683 428.498437 \nL 817.141038 428.498437 \nL 817.141038 428.498437 \nL 824.058394 428.498437 \nL 824.058394 428.498437 \nL 830.975749 428.498437 \nL 830.975749 428.498437 \nL 837.893104 428.498437 \nL 837.893104 428.498437 \nL 844.81046 428.498437 \nL 844.81046 428.498437 \nL 851.727815 428.498437 \nL 851.727815 428.498437 \nL 858.64517 428.498437 \nL 858.64517 428.498437 \nL 865.562526 428.498437 \nL 865.562526 428.498437 \nL 872.479881 428.498437 \nL 872.479881 428.489912 \nL 879.397237 428.489912 \nL 879.397237 428.498437 \n\" style=\"fill:none;opacity:0.75;stroke:#2ca02c;stroke-linejoin:miter;\"/>\n   </g>\n   <g id=\"matplotlib.axis_3\">\n    <g id=\"xtick_6\">\n     <g id=\"line2d_15\">\n      <g>\n       <use style=\"stroke:#000000;stroke-width:0.8;\" x=\"533.529468\" xlink:href=\"#me8bc8f83b5\" y=\"428.498437\"/>\n      </g>\n     </g>\n     <g id=\"text_20\">\n      <!-- 0 -->\n      <g transform=\"translate(530.348218 443.096875)scale(0.1 -0.1)\">\n       <use xlink:href=\"#DejaVuSans-48\"/>\n      </g>\n     </g>\n    </g>\n    <g id=\"xtick_7\">\n     <g id=\"line2d_16\">\n      <g>\n       <use style=\"stroke:#000000;stroke-width:0.8;\" x=\"615.878937\" xlink:href=\"#me8bc8f83b5\" y=\"428.498437\"/>\n      </g>\n     </g>\n     <g id=\"text_21\">\n      <!-- 20 -->\n      <g transform=\"translate(609.516437 443.096875)scale(0.1 -0.1)\">\n       <use xlink:href=\"#DejaVuSans-50\"/>\n       <use x=\"63.623047\" xlink:href=\"#DejaVuSans-48\"/>\n      </g>\n     </g>\n    </g>\n    <g id=\"xtick_8\">\n     <g id=\"line2d_17\">\n      <g>\n       <use style=\"stroke:#000000;stroke-width:0.8;\" x=\"698.228405\" xlink:href=\"#me8bc8f83b5\" y=\"428.498437\"/>\n      </g>\n     </g>\n     <g id=\"text_22\">\n      <!-- 40 -->\n      <g transform=\"translate(691.865905 443.096875)scale(0.1 -0.1)\">\n       <use xlink:href=\"#DejaVuSans-52\"/>\n       <use x=\"63.623047\" xlink:href=\"#DejaVuSans-48\"/>\n      </g>\n     </g>\n    </g>\n    <g id=\"xtick_9\">\n     <g id=\"line2d_18\">\n      <g>\n       <use style=\"stroke:#000000;stroke-width:0.8;\" x=\"780.577874\" xlink:href=\"#me8bc8f83b5\" y=\"428.498437\"/>\n      </g>\n     </g>\n     <g id=\"text_23\">\n      <!-- 60 -->\n      <g transform=\"translate(774.215374 443.096875)scale(0.1 -0.1)\">\n       <use xlink:href=\"#DejaVuSans-54\"/>\n       <use x=\"63.623047\" xlink:href=\"#DejaVuSans-48\"/>\n      </g>\n     </g>\n    </g>\n    <g id=\"xtick_10\">\n     <g id=\"line2d_19\">\n      <g>\n       <use style=\"stroke:#000000;stroke-width:0.8;\" x=\"862.927343\" xlink:href=\"#me8bc8f83b5\" y=\"428.498437\"/>\n      </g>\n     </g>\n     <g id=\"text_24\">\n      <!-- 80 -->\n      <g transform=\"translate(856.564843 443.096875)scale(0.1 -0.1)\">\n       <use xlink:href=\"#DejaVuSans-56\"/>\n       <use x=\"63.623047\" xlink:href=\"#DejaVuSans-48\"/>\n      </g>\n     </g>\n    </g>\n    <g id=\"text_25\">\n     <!-- nb_words_question1-common_words -->\n     <defs>\n      <path d=\"M 14.796875 27.296875 \nQ 14.796875 17.390625 18.875 11.75 \nQ 22.953125 6.109375 30.078125 6.109375 \nQ 37.203125 6.109375 41.296875 11.75 \nQ 45.40625 17.390625 45.40625 27.296875 \nQ 45.40625 37.203125 41.296875 42.84375 \nQ 37.203125 48.484375 30.078125 48.484375 \nQ 22.953125 48.484375 18.875 42.84375 \nQ 14.796875 37.203125 14.796875 27.296875 \nz\nM 45.40625 8.203125 \nQ 42.578125 3.328125 38.25 0.953125 \nQ 33.9375 -1.421875 27.875 -1.421875 \nQ 17.96875 -1.421875 11.734375 6.484375 \nQ 5.515625 14.40625 5.515625 27.296875 \nQ 5.515625 40.1875 11.734375 48.09375 \nQ 17.96875 56 27.875 56 \nQ 33.9375 56 38.25 53.625 \nQ 42.578125 51.265625 45.40625 46.390625 \nL 45.40625 54.6875 \nL 54.390625 54.6875 \nL 54.390625 -20.796875 \nL 45.40625 -20.796875 \nz\n\" id=\"DejaVuSans-113\"/>\n      <path d=\"M 4.890625 31.390625 \nL 31.203125 31.390625 \nL 31.203125 23.390625 \nL 4.890625 23.390625 \nz\n\" id=\"DejaVuSans-45\"/>\n     </defs>\n     <g transform=\"translate(614.465696 456.775)scale(0.1 -0.1)\">\n      <use xlink:href=\"#DejaVuSans-110\"/>\n      <use x=\"63.378906\" xlink:href=\"#DejaVuSans-98\"/>\n      <use x=\"126.855469\" xlink:href=\"#DejaVuSans-95\"/>\n      <use x=\"176.855469\" xlink:href=\"#DejaVuSans-119\"/>\n      <use x=\"258.642578\" xlink:href=\"#DejaVuSans-111\"/>\n      <use x=\"319.824219\" xlink:href=\"#DejaVuSans-114\"/>\n      <use x=\"359.1875\" xlink:href=\"#DejaVuSans-100\"/>\n      <use x=\"422.664062\" xlink:href=\"#DejaVuSans-115\"/>\n      <use x=\"474.763672\" xlink:href=\"#DejaVuSans-95\"/>\n      <use x=\"524.763672\" xlink:href=\"#DejaVuSans-113\"/>\n      <use x=\"588.240234\" xlink:href=\"#DejaVuSans-117\"/>\n      <use x=\"651.619141\" xlink:href=\"#DejaVuSans-101\"/>\n      <use x=\"713.142578\" xlink:href=\"#DejaVuSans-115\"/>\n      <use x=\"765.242188\" xlink:href=\"#DejaVuSans-116\"/>\n      <use x=\"804.451172\" xlink:href=\"#DejaVuSans-105\"/>\n      <use x=\"832.234375\" xlink:href=\"#DejaVuSans-111\"/>\n      <use x=\"893.416016\" xlink:href=\"#DejaVuSans-110\"/>\n      <use x=\"956.794922\" xlink:href=\"#DejaVuSans-49\"/>\n      <use x=\"1020.417969\" xlink:href=\"#DejaVuSans-45\"/>\n      <use x=\"1056.501953\" xlink:href=\"#DejaVuSans-99\"/>\n      <use x=\"1111.482422\" xlink:href=\"#DejaVuSans-111\"/>\n      <use x=\"1172.664062\" xlink:href=\"#DejaVuSans-109\"/>\n      <use x=\"1270.076172\" xlink:href=\"#DejaVuSans-109\"/>\n      <use x=\"1367.488281\" xlink:href=\"#DejaVuSans-111\"/>\n      <use x=\"1428.669922\" xlink:href=\"#DejaVuSans-110\"/>\n      <use x=\"1492.048828\" xlink:href=\"#DejaVuSans-95\"/>\n      <use x=\"1542.048828\" xlink:href=\"#DejaVuSans-119\"/>\n      <use x=\"1623.835938\" xlink:href=\"#DejaVuSans-111\"/>\n      <use x=\"1685.017578\" xlink:href=\"#DejaVuSans-114\"/>\n      <use x=\"1724.380859\" xlink:href=\"#DejaVuSans-100\"/>\n      <use x=\"1787.857422\" xlink:href=\"#DejaVuSans-115\"/>\n     </g>\n    </g>\n   </g>\n   <g id=\"matplotlib.axis_4\">\n    <g id=\"ytick_10\">\n     <g id=\"line2d_20\">\n      <g>\n       <use style=\"stroke:#000000;stroke-width:0.8;\" x=\"516.23608\" xlink:href=\"#m8b04779ef3\" y=\"428.498437\"/>\n      </g>\n     </g>\n     <g id=\"text_26\">\n      <!-- 0 -->\n      <g transform=\"translate(502.87358 432.297656)scale(0.1 -0.1)\">\n       <use xlink:href=\"#DejaVuSans-48\"/>\n      </g>\n     </g>\n    </g>\n    <g id=\"ytick_11\">\n     <g id=\"line2d_21\">\n      <g>\n       <use style=\"stroke:#000000;stroke-width:0.8;\" x=\"516.23608\" xlink:href=\"#m8b04779ef3\" y=\"343.243362\"/>\n      </g>\n     </g>\n     <g id=\"text_27\">\n      <!-- 10000 -->\n      <g transform=\"translate(477.42358 347.042581)scale(0.1 -0.1)\">\n       <use xlink:href=\"#DejaVuSans-49\"/>\n       <use x=\"63.623047\" xlink:href=\"#DejaVuSans-48\"/>\n       <use x=\"127.246094\" xlink:href=\"#DejaVuSans-48\"/>\n       <use x=\"190.869141\" xlink:href=\"#DejaVuSans-48\"/>\n       <use x=\"254.492188\" xlink:href=\"#DejaVuSans-48\"/>\n      </g>\n     </g>\n    </g>\n    <g id=\"ytick_12\">\n     <g id=\"line2d_22\">\n      <g>\n       <use style=\"stroke:#000000;stroke-width:0.8;\" x=\"516.23608\" xlink:href=\"#m8b04779ef3\" y=\"257.988287\"/>\n      </g>\n     </g>\n     <g id=\"text_28\">\n      <!-- 20000 -->\n      <g transform=\"translate(477.42358 261.787506)scale(0.1 -0.1)\">\n       <use xlink:href=\"#DejaVuSans-50\"/>\n       <use x=\"63.623047\" xlink:href=\"#DejaVuSans-48\"/>\n       <use x=\"127.246094\" xlink:href=\"#DejaVuSans-48\"/>\n       <use x=\"190.869141\" xlink:href=\"#DejaVuSans-48\"/>\n       <use x=\"254.492188\" xlink:href=\"#DejaVuSans-48\"/>\n      </g>\n     </g>\n    </g>\n    <g id=\"ytick_13\">\n     <g id=\"line2d_23\">\n      <g>\n       <use style=\"stroke:#000000;stroke-width:0.8;\" x=\"516.23608\" xlink:href=\"#m8b04779ef3\" y=\"172.733212\"/>\n      </g>\n     </g>\n     <g id=\"text_29\">\n      <!-- 30000 -->\n      <g transform=\"translate(477.42358 176.532431)scale(0.1 -0.1)\">\n       <use xlink:href=\"#DejaVuSans-51\"/>\n       <use x=\"63.623047\" xlink:href=\"#DejaVuSans-48\"/>\n       <use x=\"127.246094\" xlink:href=\"#DejaVuSans-48\"/>\n       <use x=\"190.869141\" xlink:href=\"#DejaVuSans-48\"/>\n       <use x=\"254.492188\" xlink:href=\"#DejaVuSans-48\"/>\n      </g>\n     </g>\n    </g>\n    <g id=\"ytick_14\">\n     <g id=\"line2d_24\">\n      <g>\n       <use style=\"stroke:#000000;stroke-width:0.8;\" x=\"516.23608\" xlink:href=\"#m8b04779ef3\" y=\"87.478137\"/>\n      </g>\n     </g>\n     <g id=\"text_30\">\n      <!-- 40000 -->\n      <g transform=\"translate(477.42358 91.277356)scale(0.1 -0.1)\">\n       <use xlink:href=\"#DejaVuSans-52\"/>\n       <use x=\"63.623047\" xlink:href=\"#DejaVuSans-48\"/>\n       <use x=\"127.246094\" xlink:href=\"#DejaVuSans-48\"/>\n       <use x=\"190.869141\" xlink:href=\"#DejaVuSans-48\"/>\n       <use x=\"254.492188\" xlink:href=\"#DejaVuSans-48\"/>\n      </g>\n     </g>\n    </g>\n    <g id=\"text_31\">\n     <!-- Nb -->\n     <g transform=\"translate(471.343892 231.563281)rotate(-90)scale(0.1 -0.1)\">\n      <use xlink:href=\"#DejaVuSans-78\"/>\n      <use x=\"74.804688\" xlink:href=\"#DejaVuSans-98\"/>\n     </g>\n    </g>\n   </g>\n   <g id=\"patch_15\">\n    <path d=\"M 516.23608 428.498437 \nL 516.23608 20.798437 \n\" style=\"fill:none;stroke:#000000;stroke-linecap:square;stroke-linejoin:miter;stroke-width:0.8;\"/>\n   </g>\n   <g id=\"patch_16\">\n    <path d=\"M 896.690625 428.498437 \nL 896.690625 20.798437 \n\" style=\"fill:none;stroke:#000000;stroke-linecap:square;stroke-linejoin:miter;stroke-width:0.8;\"/>\n   </g>\n   <g id=\"patch_17\">\n    <path d=\"M 516.23608 428.498437 \nL 896.690625 428.498437 \n\" style=\"fill:none;stroke:#000000;stroke-linecap:square;stroke-linejoin:miter;stroke-width:0.8;\"/>\n   </g>\n   <g id=\"patch_18\">\n    <path d=\"M 516.23608 20.798437 \nL 896.690625 20.798437 \n\" style=\"fill:none;stroke:#000000;stroke-linecap:square;stroke-linejoin:miter;stroke-width:0.8;\"/>\n   </g>\n   <g id=\"text_32\">\n    <!-- AUC is_duplicate/nb_words_question1-common_words : 0.320685 -->\n    <g transform=\"translate(542.26179 14.798437)scale(0.1 -0.1)\">\n     <use xlink:href=\"#DejaVuSans-65\"/>\n     <use x=\"68.408203\" xlink:href=\"#DejaVuSans-85\"/>\n     <use x=\"141.601562\" xlink:href=\"#DejaVuSans-67\"/>\n     <use x=\"211.425781\" xlink:href=\"#DejaVuSans-32\"/>\n     <use x=\"243.212891\" xlink:href=\"#DejaVuSans-105\"/>\n     <use x=\"270.996094\" xlink:href=\"#DejaVuSans-115\"/>\n     <use x=\"323.095703\" xlink:href=\"#DejaVuSans-95\"/>\n     <use x=\"373.095703\" xlink:href=\"#DejaVuSans-100\"/>\n     <use x=\"436.572266\" xlink:href=\"#DejaVuSans-117\"/>\n     <use x=\"499.951172\" xlink:href=\"#DejaVuSans-112\"/>\n     <use x=\"563.427734\" xlink:href=\"#DejaVuSans-108\"/>\n     <use x=\"591.210938\" xlink:href=\"#DejaVuSans-105\"/>\n     <use x=\"618.994141\" xlink:href=\"#DejaVuSans-99\"/>\n     <use x=\"673.974609\" xlink:href=\"#DejaVuSans-97\"/>\n     <use x=\"735.253906\" xlink:href=\"#DejaVuSans-116\"/>\n     <use x=\"774.462891\" xlink:href=\"#DejaVuSans-101\"/>\n     <use x=\"835.986328\" xlink:href=\"#DejaVuSans-47\"/>\n     <use x=\"869.677734\" xlink:href=\"#DejaVuSans-110\"/>\n     <use x=\"933.056641\" xlink:href=\"#DejaVuSans-98\"/>\n     <use x=\"996.533203\" xlink:href=\"#DejaVuSans-95\"/>\n     <use x=\"1046.533203\" xlink:href=\"#DejaVuSans-119\"/>\n     <use x=\"1128.320312\" xlink:href=\"#DejaVuSans-111\"/>\n     <use x=\"1189.501953\" xlink:href=\"#DejaVuSans-114\"/>\n     <use x=\"1228.865234\" xlink:href=\"#DejaVuSans-100\"/>\n     <use x=\"1292.341797\" xlink:href=\"#DejaVuSans-115\"/>\n     <use x=\"1344.441406\" xlink:href=\"#DejaVuSans-95\"/>\n     <use x=\"1394.441406\" xlink:href=\"#DejaVuSans-113\"/>\n     <use x=\"1457.917969\" xlink:href=\"#DejaVuSans-117\"/>\n     <use x=\"1521.296875\" xlink:href=\"#DejaVuSans-101\"/>\n     <use x=\"1582.820312\" xlink:href=\"#DejaVuSans-115\"/>\n     <use x=\"1634.919922\" xlink:href=\"#DejaVuSans-116\"/>\n     <use x=\"1674.128906\" xlink:href=\"#DejaVuSans-105\"/>\n     <use x=\"1701.912109\" xlink:href=\"#DejaVuSans-111\"/>\n     <use x=\"1763.09375\" xlink:href=\"#DejaVuSans-110\"/>\n     <use x=\"1826.472656\" xlink:href=\"#DejaVuSans-49\"/>\n     <use x=\"1890.095703\" xlink:href=\"#DejaVuSans-45\"/>\n     <use x=\"1926.179688\" xlink:href=\"#DejaVuSans-99\"/>\n     <use x=\"1981.160156\" xlink:href=\"#DejaVuSans-111\"/>\n     <use x=\"2042.341797\" xlink:href=\"#DejaVuSans-109\"/>\n     <use x=\"2139.753906\" xlink:href=\"#DejaVuSans-109\"/>\n     <use x=\"2237.166016\" xlink:href=\"#DejaVuSans-111\"/>\n     <use x=\"2298.347656\" xlink:href=\"#DejaVuSans-110\"/>\n     <use x=\"2361.726562\" xlink:href=\"#DejaVuSans-95\"/>\n     <use x=\"2411.726562\" xlink:href=\"#DejaVuSans-119\"/>\n     <use x=\"2493.513672\" xlink:href=\"#DejaVuSans-111\"/>\n     <use x=\"2554.695312\" xlink:href=\"#DejaVuSans-114\"/>\n     <use x=\"2594.058594\" xlink:href=\"#DejaVuSans-100\"/>\n     <use x=\"2657.535156\" xlink:href=\"#DejaVuSans-115\"/>\n     <use x=\"2709.634766\" xlink:href=\"#DejaVuSans-32\"/>\n     <use x=\"2741.421875\" xlink:href=\"#DejaVuSans-58\"/>\n     <use x=\"2775.113281\" xlink:href=\"#DejaVuSans-32\"/>\n     <use x=\"2806.900391\" xlink:href=\"#DejaVuSans-48\"/>\n     <use x=\"2870.523438\" xlink:href=\"#DejaVuSans-46\"/>\n     <use x=\"2902.310547\" xlink:href=\"#DejaVuSans-51\"/>\n     <use x=\"2965.933594\" xlink:href=\"#DejaVuSans-50\"/>\n     <use x=\"3029.556641\" xlink:href=\"#DejaVuSans-48\"/>\n     <use x=\"3093.179688\" xlink:href=\"#DejaVuSans-54\"/>\n     <use x=\"3156.802734\" xlink:href=\"#DejaVuSans-56\"/>\n     <use x=\"3220.425781\" xlink:href=\"#DejaVuSans-53\"/>\n    </g>\n   </g>\n   <g id=\"legend_2\">\n    <g id=\"patch_19\">\n     <path d=\"M 813.721875 58.154687 \nL 889.690625 58.154687 \nQ 891.690625 58.154687 891.690625 56.154687 \nL 891.690625 27.798437 \nQ 891.690625 25.798437 889.690625 25.798437 \nL 813.721875 25.798437 \nQ 811.721875 25.798437 811.721875 27.798437 \nL 811.721875 56.154687 \nQ 811.721875 58.154687 813.721875 58.154687 \nz\n\" style=\"fill:#ffffff;opacity:0.8;stroke:#cccccc;stroke-linejoin:miter;\"/>\n    </g>\n    <g id=\"patch_20\">\n     <path d=\"M 815.721875 37.396875 \nL 835.721875 37.396875 \nL 835.721875 30.396875 \nL 815.721875 30.396875 \nz\n\" style=\"fill:none;stroke:#d62728;stroke-linejoin:miter;\"/>\n    </g>\n    <g id=\"text_33\">\n     <!-- Same -->\n     <g transform=\"translate(843.721875 37.396875)scale(0.1 -0.1)\">\n      <use xlink:href=\"#DejaVuSans-83\"/>\n      <use x=\"63.476562\" xlink:href=\"#DejaVuSans-97\"/>\n      <use x=\"124.755859\" xlink:href=\"#DejaVuSans-109\"/>\n      <use x=\"222.167969\" xlink:href=\"#DejaVuSans-101\"/>\n     </g>\n    </g>\n    <g id=\"patch_21\">\n     <path d=\"M 815.721875 52.075 \nL 835.721875 52.075 \nL 835.721875 45.075 \nL 815.721875 45.075 \nz\n\" style=\"fill:none;opacity:0.75;stroke:#2ca02c;stroke-linejoin:miter;\"/>\n    </g>\n    <g id=\"text_34\">\n     <!-- Different -->\n     <g transform=\"translate(843.721875 52.075)scale(0.1 -0.1)\">\n      <use xlink:href=\"#DejaVuSans-68\"/>\n      <use x=\"77.001953\" xlink:href=\"#DejaVuSans-105\"/>\n      <use x=\"104.785156\" xlink:href=\"#DejaVuSans-102\"/>\n      <use x=\"139.990234\" xlink:href=\"#DejaVuSans-102\"/>\n      <use x=\"175.195312\" xlink:href=\"#DejaVuSans-101\"/>\n      <use x=\"236.71875\" xlink:href=\"#DejaVuSans-114\"/>\n      <use x=\"275.582031\" xlink:href=\"#DejaVuSans-101\"/>\n      <use x=\"337.105469\" xlink:href=\"#DejaVuSans-110\"/>\n      <use x=\"400.484375\" xlink:href=\"#DejaVuSans-116\"/>\n     </g>\n    </g>\n   </g>\n  </g>\n </g>\n <defs>\n  <clipPath id=\"pcdd55506e4\">\n   <rect height=\"407.7\" width=\"380.454545\" x=\"59.690625\" y=\"20.798437\"/>\n  </clipPath>\n  <clipPath id=\"pf5e5729548\">\n   <rect height=\"407.7\" width=\"380.454545\" x=\"516.23608\" y=\"20.798437\"/>\n  </clipPath>\n </defs>\n</svg>\n",
      "image/png": "[encoded data removed]"
     },
     "metadata": {
      "needs_background": "light"
     }
    },
    {
     "output_type": "display_data",
     "data": {
      "text/plain": "<Figure size 1080x540 with 2 Axes>",
      "image/svg+xml": "<?xml version=\"1.0\" encoding=\"utf-8\" standalone=\"no\"?>\n<!DOCTYPE svg PUBLIC \"-//W3C//DTD SVG 1.1//EN\"\n  \"http://www.w3.org/Graphics/SVG/1.1/DTD/svg11.dtd\">\n<!-- Created with matplotlib (https://matplotlib.org/) -->\n<svg height=\"466.332812pt\" version=\"1.1\" viewBox=\"0 0 945.700852 466.332812\" width=\"945.700852pt\" xmlns=\"http://www.w3.org/2000/svg\" xmlns:xlink=\"http://www.w3.org/1999/xlink\">\n <defs>\n  <style type=\"text/css\">\n*{stroke-linecap:butt;stroke-linejoin:round;}\n  </style>\n </defs>\n <g id=\"figure_1\">\n  <g id=\"patch_1\">\n   <path d=\"M 0 466.332812 \nL 945.700852 466.332812 \nL 945.700852 0 \nL 0 0 \nz\n\" style=\"fill:none;\"/>\n  </g>\n  <g id=\"axes_1\">\n   <g id=\"patch_2\">\n    <path d=\"M 59.690625 428.498437 \nL 440.14517 428.498437 \nL 440.14517 20.798437 \nL 59.690625 20.798437 \nz\n\" style=\"fill:#ffffff;\"/>\n   </g>\n   <g id=\"patch_3\">\n    <path clip-path=\"url(#p8dee70dca7)\" d=\"M 76.984013 428.498437 \nL 76.984013 404.548865 \nL 78.572443 404.548865 \nL 78.572443 317.748398 \nL 80.160873 317.748398 \nL 80.160873 428.498437 \nL 81.749303 428.498437 \nL 81.749303 294.718397 \nL 83.337732 294.718397 \nL 83.337732 290.848053 \nL 84.926162 290.848053 \nL 84.926162 428.498437 \nL 86.514592 428.498437 \nL 86.514592 307.394501 \nL 88.103022 307.394501 \nL 88.103022 428.498437 \nL 89.691451 428.498437 \nL 89.691451 332.269464 \nL 91.279881 332.269464 \nL 91.279881 354.8164 \nL 92.868311 354.8164 \nL 92.868311 428.498437 \nL 94.456741 428.498437 \nL 94.456741 374.587165 \nL 96.04517 374.587165 \nL 96.04517 390.87753 \nL 97.6336 390.87753 \nL 97.6336 428.498437 \nL 99.22203 428.498437 \nL 99.22203 403.623475 \nL 100.81046 403.623475 \nL 100.81046 428.498437 \nL 102.398889 428.498437 \nL 102.398889 411.323422 \nL 103.987319 411.323422 \nL 103.987319 416.258838 \nL 105.575749 416.258838 \nL 105.575749 428.498437 \nL 107.164179 428.498437 \nL 107.164179 419.94876 \nL 108.752608 419.94876 \nL 108.752608 423.155617 \nL 110.341038 423.155617 \nL 110.341038 428.498437 \nL 111.929468 428.498437 \nL 111.929468 424.680474 \nL 113.517898 424.680474 \nL 113.517898 428.498437 \nL 115.106327 428.498437 \nL 115.106327 425.978349 \nL 116.694757 425.978349 \nL 116.694757 426.589456 \nL 118.283187 426.589456 \nL 118.283187 428.498437 \nL 119.871617 428.498437 \nL 119.871617 427.159822 \nL 121.460046 427.159822 \nL 121.460046 428.498437 \nL 123.048476 428.498437 \nL 123.048476 427.567227 \nL 124.636906 427.567227 \nL 124.636906 428.027012 \nL 126.225336 428.027012 \nL 126.225336 428.498437 \nL 127.813765 428.498437 \nL 127.813765 428.201614 \nL 129.402195 428.201614 \nL 129.402195 428.201614 \nL 130.990625 428.201614 \nL 130.990625 428.498437 \nL 132.579055 428.498437 \nL 132.579055 428.405316 \nL 134.167485 428.405316 \nL 134.167485 428.498437 \nL 135.755914 428.498437 \nL 135.755914 428.440237 \nL 137.344344 428.440237 \nL 137.344344 428.475157 \nL 138.932774 428.475157 \nL 138.932774 428.498437 \nL 140.521204 428.498437 \nL 140.521204 428.475157 \nL 142.109633 428.475157 \nL 142.109633 428.463517 \nL 143.698063 428.463517 \nL 143.698063 428.498437 \nL 145.286493 428.498437 \nL 145.286493 428.480977 \nL 146.874923 428.480977 \nL 146.874923 428.498437 \nL 148.463352 428.498437 \nL 148.463352 428.486797 \nL 150.051782 428.486797 \nL 150.051782 428.492617 \nL 151.640212 428.492617 \nL 151.640212 428.498437 \nL 153.228642 428.498437 \nL 153.228642 428.492617 \nL 154.817071 428.492617 \nL 154.817071 428.492617 \nL 156.405501 428.492617 \nL 156.405501 428.498437 \n\" style=\"fill:none;stroke:#d62728;stroke-linejoin:miter;\"/>\n   </g>\n   <g id=\"patch_4\">\n    <path clip-path=\"url(#p8dee70dca7)\" d=\"M 76.984013 428.498437 \nL 76.984013 167.875875 \nL 83.901369 167.875875 \nL 83.901369 40.212723 \nL 90.818724 40.212723 \nL 90.818724 84.055282 \nL 97.73608 84.055282 \nL 97.73608 279.690986 \nL 104.653435 279.690986 \nL 104.653435 292.693014 \nL 111.57079 292.693014 \nL 111.57079 349.723842 \nL 118.488146 349.723842 \nL 118.488146 390.609807 \nL 125.405501 390.609807 \nL 125.405501 385.313547 \nL 132.322856 385.313547 \nL 132.322856 404.001779 \nL 139.240212 404.001779 \nL 139.240212 420.594788 \nL 146.157567 420.594788 \nL 146.157567 422.730752 \nL 153.074923 422.730752 \nL 153.074923 425.640785 \nL 159.992278 425.640785 \nL 159.992278 426.368293 \nL 166.909633 426.368293 \nL 166.909633 427.415905 \nL 173.826989 427.415905 \nL 173.826989 427.427545 \nL 180.744344 427.427545 \nL 180.744344 427.945531 \nL 187.661699 427.945531 \nL 187.661699 428.370396 \nL 194.579055 428.370396 \nL 194.579055 428.341296 \nL 201.49641 428.341296 \nL 201.49641 428.457697 \nL 208.413765 428.457697 \nL 208.413765 428.480977 \nL 215.331121 428.480977 \nL 215.331121 428.457697 \nL 222.248476 428.457697 \nL 222.248476 428.475157 \nL 229.165832 428.475157 \nL 229.165832 428.475157 \nL 236.083187 428.475157 \nL 236.083187 428.492617 \nL 243.000542 428.492617 \nL 243.000542 428.475157 \nL 249.917898 428.475157 \nL 249.917898 428.486797 \nL 256.835253 428.486797 \nL 256.835253 428.492617 \nL 263.752608 428.492617 \nL 263.752608 428.498437 \nL 270.669964 428.498437 \nL 270.669964 428.498437 \nL 277.587319 428.498437 \nL 277.587319 428.498437 \nL 284.504675 428.498437 \nL 284.504675 428.492617 \nL 291.42203 428.492617 \nL 291.42203 428.492617 \nL 298.339385 428.492617 \nL 298.339385 428.492617 \nL 305.256741 428.492617 \nL 305.256741 428.492617 \nL 312.174096 428.492617 \nL 312.174096 428.492617 \nL 319.091451 428.492617 \nL 319.091451 428.498437 \nL 326.008807 428.498437 \nL 326.008807 428.498437 \nL 332.926162 428.498437 \nL 332.926162 428.498437 \nL 339.843518 428.498437 \nL 339.843518 428.498437 \nL 346.760873 428.498437 \nL 346.760873 428.498437 \nL 353.678228 428.498437 \nL 353.678228 428.498437 \nL 360.595584 428.498437 \nL 360.595584 428.498437 \nL 367.512939 428.498437 \nL 367.512939 428.486797 \nL 374.430294 428.486797 \nL 374.430294 428.486797 \nL 381.34765 428.486797 \nL 381.34765 428.463517 \nL 388.265005 428.463517 \nL 388.265005 428.480977 \nL 395.182361 428.480977 \nL 395.182361 428.498437 \nL 402.099716 428.498437 \nL 402.099716 428.498437 \nL 409.017071 428.498437 \nL 409.017071 428.498437 \nL 415.934427 428.498437 \nL 415.934427 428.480977 \nL 422.851782 428.480977 \nL 422.851782 428.498437 \n\" style=\"fill:none;opacity:0.75;stroke:#2ca02c;stroke-linejoin:miter;\"/>\n   </g>\n   <g id=\"matplotlib.axis_1\">\n    <g id=\"xtick_1\">\n     <g id=\"line2d_1\">\n      <defs>\n       <path d=\"M 0 0 \nL 0 3.5 \n\" id=\"mac19701e32\" style=\"stroke:#000000;stroke-width:0.8;\"/>\n      </defs>\n      <g>\n       <use style=\"stroke:#000000;stroke-width:0.8;\" x=\"76.984013\" xlink:href=\"#mac19701e32\" y=\"428.498437\"/>\n      </g>\n     </g>\n     <g id=\"text_1\">\n      <!-- 0 -->\n      <defs>\n       <path d=\"M 31.78125 66.40625 \nQ 24.171875 66.40625 20.328125 58.90625 \nQ 16.5 51.421875 16.5 36.375 \nQ 16.5 21.390625 20.328125 13.890625 \nQ 24.171875 6.390625 31.78125 6.390625 \nQ 39.453125 6.390625 43.28125 13.890625 \nQ 47.125 21.390625 47.125 36.375 \nQ 47.125 51.421875 43.28125 58.90625 \nQ 39.453125 66.40625 31.78125 66.40625 \nz\nM 31.78125 74.21875 \nQ 44.046875 74.21875 50.515625 64.515625 \nQ 56.984375 54.828125 56.984375 36.375 \nQ 56.984375 17.96875 50.515625 8.265625 \nQ 44.046875 -1.421875 31.78125 -1.421875 \nQ 19.53125 -1.421875 13.0625 8.265625 \nQ 6.59375 17.96875 6.59375 36.375 \nQ 6.59375 54.828125 13.0625 64.515625 \nQ 19.53125 74.21875 31.78125 74.21875 \nz\n\" id=\"DejaVuSans-48\"/>\n      </defs>\n      <g transform=\"translate(73.802763 443.096875)scale(0.1 -0.1)\">\n       <use xlink:href=\"#DejaVuSans-48\"/>\n      </g>\n     </g>\n    </g>\n    <g id=\"xtick_2\">\n     <g id=\"line2d_2\">\n      <g>\n       <use style=\"stroke:#000000;stroke-width:0.8;\" x=\"128.223683\" xlink:href=\"#mac19701e32\" y=\"428.498437\"/>\n      </g>\n     </g>\n     <g id=\"text_2\">\n      <!-- 20 -->\n      <defs>\n       <path d=\"M 19.1875 8.296875 \nL 53.609375 8.296875 \nL 53.609375 0 \nL 7.328125 0 \nL 7.328125 8.296875 \nQ 12.9375 14.109375 22.625 23.890625 \nQ 32.328125 33.6875 34.8125 36.53125 \nQ 39.546875 41.84375 41.421875 45.53125 \nQ 43.3125 49.21875 43.3125 52.78125 \nQ 43.3125 58.59375 39.234375 62.25 \nQ 35.15625 65.921875 28.609375 65.921875 \nQ 23.96875 65.921875 18.8125 64.3125 \nQ 13.671875 62.703125 7.8125 59.421875 \nL 7.8125 69.390625 \nQ 13.765625 71.78125 18.9375 73 \nQ 24.125 74.21875 28.421875 74.21875 \nQ 39.75 74.21875 46.484375 68.546875 \nQ 53.21875 62.890625 53.21875 53.421875 \nQ 53.21875 48.921875 51.53125 44.890625 \nQ 49.859375 40.875 45.40625 35.40625 \nQ 44.1875 33.984375 37.640625 27.21875 \nQ 31.109375 20.453125 19.1875 8.296875 \nz\n\" id=\"DejaVuSans-50\"/>\n      </defs>\n      <g transform=\"translate(121.861183 443.096875)scale(0.1 -0.1)\">\n       <use xlink:href=\"#DejaVuSans-50\"/>\n       <use x=\"63.623047\" xlink:href=\"#DejaVuSans-48\"/>\n      </g>\n     </g>\n    </g>\n    <g id=\"xtick_3\">\n     <g id=\"line2d_3\">\n      <g>\n       <use style=\"stroke:#000000;stroke-width:0.8;\" x=\"179.463352\" xlink:href=\"#mac19701e32\" y=\"428.498437\"/>\n      </g>\n     </g>\n     <g id=\"text_3\">\n      <!-- 40 -->\n      <defs>\n       <path d=\"M 37.796875 64.3125 \nL 12.890625 25.390625 \nL 37.796875 25.390625 \nz\nM 35.203125 72.90625 \nL 47.609375 72.90625 \nL 47.609375 25.390625 \nL 58.015625 25.390625 \nL 58.015625 17.1875 \nL 47.609375 17.1875 \nL 47.609375 0 \nL 37.796875 0 \nL 37.796875 17.1875 \nL 4.890625 17.1875 \nL 4.890625 26.703125 \nz\n\" id=\"DejaVuSans-52\"/>\n      </defs>\n      <g transform=\"translate(173.100852 443.096875)scale(0.1 -0.1)\">\n       <use xlink:href=\"#DejaVuSans-52\"/>\n       <use x=\"63.623047\" xlink:href=\"#DejaVuSans-48\"/>\n      </g>\n     </g>\n    </g>\n    <g id=\"xtick_4\">\n     <g id=\"line2d_4\">\n      <g>\n       <use style=\"stroke:#000000;stroke-width:0.8;\" x=\"230.703022\" xlink:href=\"#mac19701e32\" y=\"428.498437\"/>\n      </g>\n     </g>\n     <g id=\"text_4\">\n      <!-- 60 -->\n      <defs>\n       <path d=\"M 33.015625 40.375 \nQ 26.375 40.375 22.484375 35.828125 \nQ 18.609375 31.296875 18.609375 23.390625 \nQ 18.609375 15.53125 22.484375 10.953125 \nQ 26.375 6.390625 33.015625 6.390625 \nQ 39.65625 6.390625 43.53125 10.953125 \nQ 47.40625 15.53125 47.40625 23.390625 \nQ 47.40625 31.296875 43.53125 35.828125 \nQ 39.65625 40.375 33.015625 40.375 \nz\nM 52.59375 71.296875 \nL 52.59375 62.3125 \nQ 48.875 64.0625 45.09375 64.984375 \nQ 41.3125 65.921875 37.59375 65.921875 \nQ 27.828125 65.921875 22.671875 59.328125 \nQ 17.53125 52.734375 16.796875 39.40625 \nQ 19.671875 43.65625 24.015625 45.921875 \nQ 28.375 48.1875 33.59375 48.1875 \nQ 44.578125 48.1875 50.953125 41.515625 \nQ 57.328125 34.859375 57.328125 23.390625 \nQ 57.328125 12.15625 50.6875 5.359375 \nQ 44.046875 -1.421875 33.015625 -1.421875 \nQ 20.359375 -1.421875 13.671875 8.265625 \nQ 6.984375 17.96875 6.984375 36.375 \nQ 6.984375 53.65625 15.1875 63.9375 \nQ 23.390625 74.21875 37.203125 74.21875 \nQ 40.921875 74.21875 44.703125 73.484375 \nQ 48.484375 72.75 52.59375 71.296875 \nz\n\" id=\"DejaVuSans-54\"/>\n      </defs>\n      <g transform=\"translate(224.340522 443.096875)scale(0.1 -0.1)\">\n       <use xlink:href=\"#DejaVuSans-54\"/>\n       <use x=\"63.623047\" xlink:href=\"#DejaVuSans-48\"/>\n      </g>\n     </g>\n    </g>\n    <g id=\"xtick_5\">\n     <g id=\"line2d_5\">\n      <g>\n       <use style=\"stroke:#000000;stroke-width:0.8;\" x=\"281.942691\" xlink:href=\"#mac19701e32\" y=\"428.498437\"/>\n      </g>\n     </g>\n     <g id=\"text_5\">\n      <!-- 80 -->\n      <defs>\n       <path d=\"M 31.78125 34.625 \nQ 24.75 34.625 20.71875 30.859375 \nQ 16.703125 27.09375 16.703125 20.515625 \nQ 16.703125 13.921875 20.71875 10.15625 \nQ 24.75 6.390625 31.78125 6.390625 \nQ 38.8125 6.390625 42.859375 10.171875 \nQ 46.921875 13.96875 46.921875 20.515625 \nQ 46.921875 27.09375 42.890625 30.859375 \nQ 38.875 34.625 31.78125 34.625 \nz\nM 21.921875 38.8125 \nQ 15.578125 40.375 12.03125 44.71875 \nQ 8.5 49.078125 8.5 55.328125 \nQ 8.5 64.0625 14.71875 69.140625 \nQ 20.953125 74.21875 31.78125 74.21875 \nQ 42.671875 74.21875 48.875 69.140625 \nQ 55.078125 64.0625 55.078125 55.328125 \nQ 55.078125 49.078125 51.53125 44.71875 \nQ 48 40.375 41.703125 38.8125 \nQ 48.828125 37.15625 52.796875 32.3125 \nQ 56.78125 27.484375 56.78125 20.515625 \nQ 56.78125 9.90625 50.3125 4.234375 \nQ 43.84375 -1.421875 31.78125 -1.421875 \nQ 19.734375 -1.421875 13.25 4.234375 \nQ 6.78125 9.90625 6.78125 20.515625 \nQ 6.78125 27.484375 10.78125 32.3125 \nQ 14.796875 37.15625 21.921875 38.8125 \nz\nM 18.3125 54.390625 \nQ 18.3125 48.734375 21.84375 45.5625 \nQ 25.390625 42.390625 31.78125 42.390625 \nQ 38.140625 42.390625 41.71875 45.5625 \nQ 45.3125 48.734375 45.3125 54.390625 \nQ 45.3125 60.0625 41.71875 63.234375 \nQ 38.140625 66.40625 31.78125 66.40625 \nQ 25.390625 66.40625 21.84375 63.234375 \nQ 18.3125 60.0625 18.3125 54.390625 \nz\n\" id=\"DejaVuSans-56\"/>\n      </defs>\n      <g transform=\"translate(275.580191 443.096875)scale(0.1 -0.1)\">\n       <use xlink:href=\"#DejaVuSans-56\"/>\n       <use x=\"63.623047\" xlink:href=\"#DejaVuSans-48\"/>\n      </g>\n     </g>\n    </g>\n    <g id=\"xtick_6\">\n     <g id=\"line2d_6\">\n      <g>\n       <use style=\"stroke:#000000;stroke-width:0.8;\" x=\"333.182361\" xlink:href=\"#mac19701e32\" y=\"428.498437\"/>\n      </g>\n     </g>\n     <g id=\"text_6\">\n      <!-- 100 -->\n      <defs>\n       <path d=\"M 12.40625 8.296875 \nL 28.515625 8.296875 \nL 28.515625 63.921875 \nL 10.984375 60.40625 \nL 10.984375 69.390625 \nL 28.421875 72.90625 \nL 38.28125 72.90625 \nL 38.28125 8.296875 \nL 54.390625 8.296875 \nL 54.390625 0 \nL 12.40625 0 \nz\n\" id=\"DejaVuSans-49\"/>\n      </defs>\n      <g transform=\"translate(323.638611 443.096875)scale(0.1 -0.1)\">\n       <use xlink:href=\"#DejaVuSans-49\"/>\n       <use x=\"63.623047\" xlink:href=\"#DejaVuSans-48\"/>\n       <use x=\"127.246094\" xlink:href=\"#DejaVuSans-48\"/>\n      </g>\n     </g>\n    </g>\n    <g id=\"xtick_7\">\n     <g id=\"line2d_7\">\n      <g>\n       <use style=\"stroke:#000000;stroke-width:0.8;\" x=\"384.42203\" xlink:href=\"#mac19701e32\" y=\"428.498437\"/>\n      </g>\n     </g>\n     <g id=\"text_7\">\n      <!-- 120 -->\n      <g transform=\"translate(374.87828 443.096875)scale(0.1 -0.1)\">\n       <use xlink:href=\"#DejaVuSans-49\"/>\n       <use x=\"63.623047\" xlink:href=\"#DejaVuSans-50\"/>\n       <use x=\"127.246094\" xlink:href=\"#DejaVuSans-48\"/>\n      </g>\n     </g>\n    </g>\n    <g id=\"xtick_8\">\n     <g id=\"line2d_8\">\n      <g>\n       <use style=\"stroke:#000000;stroke-width:0.8;\" x=\"435.661699\" xlink:href=\"#mac19701e32\" y=\"428.498437\"/>\n      </g>\n     </g>\n     <g id=\"text_8\">\n      <!-- 140 -->\n      <g transform=\"translate(426.117949 443.096875)scale(0.1 -0.1)\">\n       <use xlink:href=\"#DejaVuSans-49\"/>\n       <use x=\"63.623047\" xlink:href=\"#DejaVuSans-52\"/>\n       <use x=\"127.246094\" xlink:href=\"#DejaVuSans-48\"/>\n      </g>\n     </g>\n    </g>\n    <g id=\"text_9\">\n     <!-- nb_words_question2-common_words -->\n     <defs>\n      <path d=\"M 54.890625 33.015625 \nL 54.890625 0 \nL 45.90625 0 \nL 45.90625 32.71875 \nQ 45.90625 40.484375 42.875 44.328125 \nQ 39.84375 48.1875 33.796875 48.1875 \nQ 26.515625 48.1875 22.3125 43.546875 \nQ 18.109375 38.921875 18.109375 30.90625 \nL 18.109375 0 \nL 9.078125 0 \nL 9.078125 54.6875 \nL 18.109375 54.6875 \nL 18.109375 46.1875 \nQ 21.34375 51.125 25.703125 53.5625 \nQ 30.078125 56 35.796875 56 \nQ 45.21875 56 50.046875 50.171875 \nQ 54.890625 44.34375 54.890625 33.015625 \nz\n\" id=\"DejaVuSans-110\"/>\n      <path d=\"M 48.6875 27.296875 \nQ 48.6875 37.203125 44.609375 42.84375 \nQ 40.53125 48.484375 33.40625 48.484375 \nQ 26.265625 48.484375 22.1875 42.84375 \nQ 18.109375 37.203125 18.109375 27.296875 \nQ 18.109375 17.390625 22.1875 11.75 \nQ 26.265625 6.109375 33.40625 6.109375 \nQ 40.53125 6.109375 44.609375 11.75 \nQ 48.6875 17.390625 48.6875 27.296875 \nz\nM 18.109375 46.390625 \nQ 20.953125 51.265625 25.265625 53.625 \nQ 29.59375 56 35.59375 56 \nQ 45.5625 56 51.78125 48.09375 \nQ 58.015625 40.1875 58.015625 27.296875 \nQ 58.015625 14.40625 51.78125 6.484375 \nQ 45.5625 -1.421875 35.59375 -1.421875 \nQ 29.59375 -1.421875 25.265625 0.953125 \nQ 20.953125 3.328125 18.109375 8.203125 \nL 18.109375 0 \nL 9.078125 0 \nL 9.078125 75.984375 \nL 18.109375 75.984375 \nz\n\" id=\"DejaVuSans-98\"/>\n      <path d=\"M 50.984375 -16.609375 \nL 50.984375 -23.578125 \nL -0.984375 -23.578125 \nL -0.984375 -16.609375 \nz\n\" id=\"DejaVuSans-95\"/>\n      <path d=\"M 4.203125 54.6875 \nL 13.1875 54.6875 \nL 24.421875 12.015625 \nL 35.59375 54.6875 \nL 46.1875 54.6875 \nL 57.421875 12.015625 \nL 68.609375 54.6875 \nL 77.59375 54.6875 \nL 63.28125 0 \nL 52.6875 0 \nL 40.921875 44.828125 \nL 29.109375 0 \nL 18.5 0 \nz\n\" id=\"DejaVuSans-119\"/>\n      <path d=\"M 30.609375 48.390625 \nQ 23.390625 48.390625 19.1875 42.75 \nQ 14.984375 37.109375 14.984375 27.296875 \nQ 14.984375 17.484375 19.15625 11.84375 \nQ 23.34375 6.203125 30.609375 6.203125 \nQ 37.796875 6.203125 41.984375 11.859375 \nQ 46.1875 17.53125 46.1875 27.296875 \nQ 46.1875 37.015625 41.984375 42.703125 \nQ 37.796875 48.390625 30.609375 48.390625 \nz\nM 30.609375 56 \nQ 42.328125 56 49.015625 48.375 \nQ 55.71875 40.765625 55.71875 27.296875 \nQ 55.71875 13.875 49.015625 6.21875 \nQ 42.328125 -1.421875 30.609375 -1.421875 \nQ 18.84375 -1.421875 12.171875 6.21875 \nQ 5.515625 13.875 5.515625 27.296875 \nQ 5.515625 40.765625 12.171875 48.375 \nQ 18.84375 56 30.609375 56 \nz\n\" id=\"DejaVuSans-111\"/>\n      <path d=\"M 41.109375 46.296875 \nQ 39.59375 47.171875 37.8125 47.578125 \nQ 36.03125 48 33.890625 48 \nQ 26.265625 48 22.1875 43.046875 \nQ 18.109375 38.09375 18.109375 28.8125 \nL 18.109375 0 \nL 9.078125 0 \nL 9.078125 54.6875 \nL 18.109375 54.6875 \nL 18.109375 46.1875 \nQ 20.953125 51.171875 25.484375 53.578125 \nQ 30.03125 56 36.53125 56 \nQ 37.453125 56 38.578125 55.875 \nQ 39.703125 55.765625 41.0625 55.515625 \nz\n\" id=\"DejaVuSans-114\"/>\n      <path d=\"M 45.40625 46.390625 \nL 45.40625 75.984375 \nL 54.390625 75.984375 \nL 54.390625 0 \nL 45.40625 0 \nL 45.40625 8.203125 \nQ 42.578125 3.328125 38.25 0.953125 \nQ 33.9375 -1.421875 27.875 -1.421875 \nQ 17.96875 -1.421875 11.734375 6.484375 \nQ 5.515625 14.40625 5.515625 27.296875 \nQ 5.515625 40.1875 11.734375 48.09375 \nQ 17.96875 56 27.875 56 \nQ 33.9375 56 38.25 53.625 \nQ 42.578125 51.265625 45.40625 46.390625 \nz\nM 14.796875 27.296875 \nQ 14.796875 17.390625 18.875 11.75 \nQ 22.953125 6.109375 30.078125 6.109375 \nQ 37.203125 6.109375 41.296875 11.75 \nQ 45.40625 17.390625 45.40625 27.296875 \nQ 45.40625 37.203125 41.296875 42.84375 \nQ 37.203125 48.484375 30.078125 48.484375 \nQ 22.953125 48.484375 18.875 42.84375 \nQ 14.796875 37.203125 14.796875 27.296875 \nz\n\" id=\"DejaVuSans-100\"/>\n      <path d=\"M 44.28125 53.078125 \nL 44.28125 44.578125 \nQ 40.484375 46.53125 36.375 47.5 \nQ 32.28125 48.484375 27.875 48.484375 \nQ 21.1875 48.484375 17.84375 46.4375 \nQ 14.5 44.390625 14.5 40.28125 \nQ 14.5 37.15625 16.890625 35.375 \nQ 19.28125 33.59375 26.515625 31.984375 \nL 29.59375 31.296875 \nQ 39.15625 29.25 43.1875 25.515625 \nQ 47.21875 21.78125 47.21875 15.09375 \nQ 47.21875 7.46875 41.1875 3.015625 \nQ 35.15625 -1.421875 24.609375 -1.421875 \nQ 20.21875 -1.421875 15.453125 -0.5625 \nQ 10.6875 0.296875 5.421875 2 \nL 5.421875 11.28125 \nQ 10.40625 8.6875 15.234375 7.390625 \nQ 20.0625 6.109375 24.8125 6.109375 \nQ 31.15625 6.109375 34.5625 8.28125 \nQ 37.984375 10.453125 37.984375 14.40625 \nQ 37.984375 18.0625 35.515625 20.015625 \nQ 33.0625 21.96875 24.703125 23.78125 \nL 21.578125 24.515625 \nQ 13.234375 26.265625 9.515625 29.90625 \nQ 5.8125 33.546875 5.8125 39.890625 \nQ 5.8125 47.609375 11.28125 51.796875 \nQ 16.75 56 26.8125 56 \nQ 31.78125 56 36.171875 55.265625 \nQ 40.578125 54.546875 44.28125 53.078125 \nz\n\" id=\"DejaVuSans-115\"/>\n      <path d=\"M 14.796875 27.296875 \nQ 14.796875 17.390625 18.875 11.75 \nQ 22.953125 6.109375 30.078125 6.109375 \nQ 37.203125 6.109375 41.296875 11.75 \nQ 45.40625 17.390625 45.40625 27.296875 \nQ 45.40625 37.203125 41.296875 42.84375 \nQ 37.203125 48.484375 30.078125 48.484375 \nQ 22.953125 48.484375 18.875 42.84375 \nQ 14.796875 37.203125 14.796875 27.296875 \nz\nM 45.40625 8.203125 \nQ 42.578125 3.328125 38.25 0.953125 \nQ 33.9375 -1.421875 27.875 -1.421875 \nQ 17.96875 -1.421875 11.734375 6.484375 \nQ 5.515625 14.40625 5.515625 27.296875 \nQ 5.515625 40.1875 11.734375 48.09375 \nQ 17.96875 56 27.875 56 \nQ 33.9375 56 38.25 53.625 \nQ 42.578125 51.265625 45.40625 46.390625 \nL 45.40625 54.6875 \nL 54.390625 54.6875 \nL 54.390625 -20.796875 \nL 45.40625 -20.796875 \nz\n\" id=\"DejaVuSans-113\"/>\n      <path d=\"M 8.5 21.578125 \nL 8.5 54.6875 \nL 17.484375 54.6875 \nL 17.484375 21.921875 \nQ 17.484375 14.15625 20.5 10.265625 \nQ 23.53125 6.390625 29.59375 6.390625 \nQ 36.859375 6.390625 41.078125 11.03125 \nQ 45.3125 15.671875 45.3125 23.6875 \nL 45.3125 54.6875 \nL 54.296875 54.6875 \nL 54.296875 0 \nL 45.3125 0 \nL 45.3125 8.40625 \nQ 42.046875 3.421875 37.71875 1 \nQ 33.40625 -1.421875 27.6875 -1.421875 \nQ 18.265625 -1.421875 13.375 4.4375 \nQ 8.5 10.296875 8.5 21.578125 \nz\nM 31.109375 56 \nz\n\" id=\"DejaVuSans-117\"/>\n      <path d=\"M 56.203125 29.59375 \nL 56.203125 25.203125 \nL 14.890625 25.203125 \nQ 15.484375 15.921875 20.484375 11.0625 \nQ 25.484375 6.203125 34.421875 6.203125 \nQ 39.59375 6.203125 44.453125 7.46875 \nQ 49.3125 8.734375 54.109375 11.28125 \nL 54.109375 2.78125 \nQ 49.265625 0.734375 44.1875 -0.34375 \nQ 39.109375 -1.421875 33.890625 -1.421875 \nQ 20.796875 -1.421875 13.15625 6.1875 \nQ 5.515625 13.8125 5.515625 26.8125 \nQ 5.515625 40.234375 12.765625 48.109375 \nQ 20.015625 56 32.328125 56 \nQ 43.359375 56 49.78125 48.890625 \nQ 56.203125 41.796875 56.203125 29.59375 \nz\nM 47.21875 32.234375 \nQ 47.125 39.59375 43.09375 43.984375 \nQ 39.0625 48.390625 32.421875 48.390625 \nQ 24.90625 48.390625 20.390625 44.140625 \nQ 15.875 39.890625 15.1875 32.171875 \nz\n\" id=\"DejaVuSans-101\"/>\n      <path d=\"M 18.3125 70.21875 \nL 18.3125 54.6875 \nL 36.8125 54.6875 \nL 36.8125 47.703125 \nL 18.3125 47.703125 \nL 18.3125 18.015625 \nQ 18.3125 11.328125 20.140625 9.421875 \nQ 21.96875 7.515625 27.59375 7.515625 \nL 36.8125 7.515625 \nL 36.8125 0 \nL 27.59375 0 \nQ 17.1875 0 13.234375 3.875 \nQ 9.28125 7.765625 9.28125 18.015625 \nL 9.28125 47.703125 \nL 2.6875 47.703125 \nL 2.6875 54.6875 \nL 9.28125 54.6875 \nL 9.28125 70.21875 \nz\n\" id=\"DejaVuSans-116\"/>\n      <path d=\"M 9.421875 54.6875 \nL 18.40625 54.6875 \nL 18.40625 0 \nL 9.421875 0 \nz\nM 9.421875 75.984375 \nL 18.40625 75.984375 \nL 18.40625 64.59375 \nL 9.421875 64.59375 \nz\n\" id=\"DejaVuSans-105\"/>\n      <path d=\"M 4.890625 31.390625 \nL 31.203125 31.390625 \nL 31.203125 23.390625 \nL 4.890625 23.390625 \nz\n\" id=\"DejaVuSans-45\"/>\n      <path d=\"M 48.78125 52.59375 \nL 48.78125 44.1875 \nQ 44.96875 46.296875 41.140625 47.34375 \nQ 37.3125 48.390625 33.40625 48.390625 \nQ 24.65625 48.390625 19.8125 42.84375 \nQ 14.984375 37.3125 14.984375 27.296875 \nQ 14.984375 17.28125 19.8125 11.734375 \nQ 24.65625 6.203125 33.40625 6.203125 \nQ 37.3125 6.203125 41.140625 7.25 \nQ 44.96875 8.296875 48.78125 10.40625 \nL 48.78125 2.09375 \nQ 45.015625 0.34375 40.984375 -0.53125 \nQ 36.96875 -1.421875 32.421875 -1.421875 \nQ 20.0625 -1.421875 12.78125 6.34375 \nQ 5.515625 14.109375 5.515625 27.296875 \nQ 5.515625 40.671875 12.859375 48.328125 \nQ 20.21875 56 33.015625 56 \nQ 37.15625 56 41.109375 55.140625 \nQ 45.0625 54.296875 48.78125 52.59375 \nz\n\" id=\"DejaVuSans-99\"/>\n      <path d=\"M 52 44.1875 \nQ 55.375 50.25 60.0625 53.125 \nQ 64.75 56 71.09375 56 \nQ 79.640625 56 84.28125 50.015625 \nQ 88.921875 44.046875 88.921875 33.015625 \nL 88.921875 0 \nL 79.890625 0 \nL 79.890625 32.71875 \nQ 79.890625 40.578125 77.09375 44.375 \nQ 74.3125 48.1875 68.609375 48.1875 \nQ 61.625 48.1875 57.5625 43.546875 \nQ 53.515625 38.921875 53.515625 30.90625 \nL 53.515625 0 \nL 44.484375 0 \nL 44.484375 32.71875 \nQ 44.484375 40.625 41.703125 44.40625 \nQ 38.921875 48.1875 33.109375 48.1875 \nQ 26.21875 48.1875 22.15625 43.53125 \nQ 18.109375 38.875 18.109375 30.90625 \nL 18.109375 0 \nL 9.078125 0 \nL 9.078125 54.6875 \nL 18.109375 54.6875 \nL 18.109375 46.1875 \nQ 21.1875 51.21875 25.484375 53.609375 \nQ 29.78125 56 35.6875 56 \nQ 41.65625 56 45.828125 52.96875 \nQ 50 49.953125 52 44.1875 \nz\n\" id=\"DejaVuSans-109\"/>\n     </defs>\n     <g transform=\"translate(157.920241 456.775)scale(0.1 -0.1)\">\n      <use xlink:href=\"#DejaVuSans-110\"/>\n      <use x=\"63.378906\" xlink:href=\"#DejaVuSans-98\"/>\n      <use x=\"126.855469\" xlink:href=\"#DejaVuSans-95\"/>\n      <use x=\"176.855469\" xlink:href=\"#DejaVuSans-119\"/>\n      <use x=\"258.642578\" xlink:href=\"#DejaVuSans-111\"/>\n      <use x=\"319.824219\" xlink:href=\"#DejaVuSans-114\"/>\n      <use x=\"359.1875\" xlink:href=\"#DejaVuSans-100\"/>\n      <use x=\"422.664062\" xlink:href=\"#DejaVuSans-115\"/>\n      <use x=\"474.763672\" xlink:href=\"#DejaVuSans-95\"/>\n      <use x=\"524.763672\" xlink:href=\"#DejaVuSans-113\"/>\n      <use x=\"588.240234\" xlink:href=\"#DejaVuSans-117\"/>\n      <use x=\"651.619141\" xlink:href=\"#DejaVuSans-101\"/>\n      <use x=\"713.142578\" xlink:href=\"#DejaVuSans-115\"/>\n      <use x=\"765.242188\" xlink:href=\"#DejaVuSans-116\"/>\n      <use x=\"804.451172\" xlink:href=\"#DejaVuSans-105\"/>\n      <use x=\"832.234375\" xlink:href=\"#DejaVuSans-111\"/>\n      <use x=\"893.416016\" xlink:href=\"#DejaVuSans-110\"/>\n      <use x=\"956.794922\" xlink:href=\"#DejaVuSans-50\"/>\n      <use x=\"1020.417969\" xlink:href=\"#DejaVuSans-45\"/>\n      <use x=\"1056.501953\" xlink:href=\"#DejaVuSans-99\"/>\n      <use x=\"1111.482422\" xlink:href=\"#DejaVuSans-111\"/>\n      <use x=\"1172.664062\" xlink:href=\"#DejaVuSans-109\"/>\n      <use x=\"1270.076172\" xlink:href=\"#DejaVuSans-109\"/>\n      <use x=\"1367.488281\" xlink:href=\"#DejaVuSans-111\"/>\n      <use x=\"1428.669922\" xlink:href=\"#DejaVuSans-110\"/>\n      <use x=\"1492.048828\" xlink:href=\"#DejaVuSans-95\"/>\n      <use x=\"1542.048828\" xlink:href=\"#DejaVuSans-119\"/>\n      <use x=\"1623.835938\" xlink:href=\"#DejaVuSans-111\"/>\n      <use x=\"1685.017578\" xlink:href=\"#DejaVuSans-114\"/>\n      <use x=\"1724.380859\" xlink:href=\"#DejaVuSans-100\"/>\n      <use x=\"1787.857422\" xlink:href=\"#DejaVuSans-115\"/>\n     </g>\n    </g>\n   </g>\n   <g id=\"matplotlib.axis_2\">\n    <g id=\"ytick_1\">\n     <g id=\"line2d_9\">\n      <defs>\n       <path d=\"M 0 0 \nL -3.5 0 \n\" id=\"m275be9786f\" style=\"stroke:#000000;stroke-width:0.8;\"/>\n      </defs>\n      <g>\n       <use style=\"stroke:#000000;stroke-width:0.8;\" x=\"59.690625\" xlink:href=\"#m275be9786f\" y=\"428.498437\"/>\n      </g>\n     </g>\n     <g id=\"text_10\">\n      <!-- 0 -->\n      <g transform=\"translate(46.328125 432.297656)scale(0.1 -0.1)\">\n       <use xlink:href=\"#DejaVuSans-48\"/>\n      </g>\n     </g>\n    </g>\n    <g id=\"ytick_2\">\n     <g id=\"line2d_10\">\n      <g>\n       <use style=\"stroke:#000000;stroke-width:0.8;\" x=\"59.690625\" xlink:href=\"#m275be9786f\" y=\"370.297776\"/>\n      </g>\n     </g>\n     <g id=\"text_11\">\n      <!-- 10000 -->\n      <g transform=\"translate(20.878125 374.096995)scale(0.1 -0.1)\">\n       <use xlink:href=\"#DejaVuSans-49\"/>\n       <use x=\"63.623047\" xlink:href=\"#DejaVuSans-48\"/>\n       <use x=\"127.246094\" xlink:href=\"#DejaVuSans-48\"/>\n       <use x=\"190.869141\" xlink:href=\"#DejaVuSans-48\"/>\n       <use x=\"254.492188\" xlink:href=\"#DejaVuSans-48\"/>\n      </g>\n     </g>\n    </g>\n    <g id=\"ytick_3\">\n     <g id=\"line2d_11\">\n      <g>\n       <use style=\"stroke:#000000;stroke-width:0.8;\" x=\"59.690625\" xlink:href=\"#m275be9786f\" y=\"312.097114\"/>\n      </g>\n     </g>\n     <g id=\"text_12\">\n      <!-- 20000 -->\n      <g transform=\"translate(20.878125 315.896333)scale(0.1 -0.1)\">\n       <use xlink:href=\"#DejaVuSans-50\"/>\n       <use x=\"63.623047\" xlink:href=\"#DejaVuSans-48\"/>\n       <use x=\"127.246094\" xlink:href=\"#DejaVuSans-48\"/>\n       <use x=\"190.869141\" xlink:href=\"#DejaVuSans-48\"/>\n       <use x=\"254.492188\" xlink:href=\"#DejaVuSans-48\"/>\n      </g>\n     </g>\n    </g>\n    <g id=\"ytick_4\">\n     <g id=\"line2d_12\">\n      <g>\n       <use style=\"stroke:#000000;stroke-width:0.8;\" x=\"59.690625\" xlink:href=\"#m275be9786f\" y=\"253.896453\"/>\n      </g>\n     </g>\n     <g id=\"text_13\">\n      <!-- 30000 -->\n      <defs>\n       <path d=\"M 40.578125 39.3125 \nQ 47.65625 37.796875 51.625 33 \nQ 55.609375 28.21875 55.609375 21.1875 \nQ 55.609375 10.40625 48.1875 4.484375 \nQ 40.765625 -1.421875 27.09375 -1.421875 \nQ 22.515625 -1.421875 17.65625 -0.515625 \nQ 12.796875 0.390625 7.625 2.203125 \nL 7.625 11.71875 \nQ 11.71875 9.328125 16.59375 8.109375 \nQ 21.484375 6.890625 26.8125 6.890625 \nQ 36.078125 6.890625 40.9375 10.546875 \nQ 45.796875 14.203125 45.796875 21.1875 \nQ 45.796875 27.640625 41.28125 31.265625 \nQ 36.765625 34.90625 28.71875 34.90625 \nL 20.21875 34.90625 \nL 20.21875 43.015625 \nL 29.109375 43.015625 \nQ 36.375 43.015625 40.234375 45.921875 \nQ 44.09375 48.828125 44.09375 54.296875 \nQ 44.09375 59.90625 40.109375 62.90625 \nQ 36.140625 65.921875 28.71875 65.921875 \nQ 24.65625 65.921875 20.015625 65.03125 \nQ 15.375 64.15625 9.8125 62.3125 \nL 9.8125 71.09375 \nQ 15.4375 72.65625 20.34375 73.4375 \nQ 25.25 74.21875 29.59375 74.21875 \nQ 40.828125 74.21875 47.359375 69.109375 \nQ 53.90625 64.015625 53.90625 55.328125 \nQ 53.90625 49.265625 50.4375 45.09375 \nQ 46.96875 40.921875 40.578125 39.3125 \nz\n\" id=\"DejaVuSans-51\"/>\n      </defs>\n      <g transform=\"translate(20.878125 257.695671)scale(0.1 -0.1)\">\n       <use xlink:href=\"#DejaVuSans-51\"/>\n       <use x=\"63.623047\" xlink:href=\"#DejaVuSans-48\"/>\n       <use x=\"127.246094\" xlink:href=\"#DejaVuSans-48\"/>\n       <use x=\"190.869141\" xlink:href=\"#DejaVuSans-48\"/>\n       <use x=\"254.492188\" xlink:href=\"#DejaVuSans-48\"/>\n      </g>\n     </g>\n    </g>\n    <g id=\"ytick_5\">\n     <g id=\"line2d_13\">\n      <g>\n       <use style=\"stroke:#000000;stroke-width:0.8;\" x=\"59.690625\" xlink:href=\"#m275be9786f\" y=\"195.695791\"/>\n      </g>\n     </g>\n     <g id=\"text_14\">\n      <!-- 40000 -->\n      <g transform=\"translate(20.878125 199.49501)scale(0.1 -0.1)\">\n       <use xlink:href=\"#DejaVuSans-52\"/>\n       <use x=\"63.623047\" xlink:href=\"#DejaVuSans-48\"/>\n       <use x=\"127.246094\" xlink:href=\"#DejaVuSans-48\"/>\n       <use x=\"190.869141\" xlink:href=\"#DejaVuSans-48\"/>\n       <use x=\"254.492188\" xlink:href=\"#DejaVuSans-48\"/>\n      </g>\n     </g>\n    </g>\n    <g id=\"ytick_6\">\n     <g id=\"line2d_14\">\n      <g>\n       <use style=\"stroke:#000000;stroke-width:0.8;\" x=\"59.690625\" xlink:href=\"#m275be9786f\" y=\"137.495129\"/>\n      </g>\n     </g>\n     <g id=\"text_15\">\n      <!-- 50000 -->\n      <defs>\n       <path d=\"M 10.796875 72.90625 \nL 49.515625 72.90625 \nL 49.515625 64.59375 \nL 19.828125 64.59375 \nL 19.828125 46.734375 \nQ 21.96875 47.46875 24.109375 47.828125 \nQ 26.265625 48.1875 28.421875 48.1875 \nQ 40.625 48.1875 47.75 41.5 \nQ 54.890625 34.8125 54.890625 23.390625 \nQ 54.890625 11.625 47.5625 5.09375 \nQ 40.234375 -1.421875 26.90625 -1.421875 \nQ 22.3125 -1.421875 17.546875 -0.640625 \nQ 12.796875 0.140625 7.71875 1.703125 \nL 7.71875 11.625 \nQ 12.109375 9.234375 16.796875 8.0625 \nQ 21.484375 6.890625 26.703125 6.890625 \nQ 35.15625 6.890625 40.078125 11.328125 \nQ 45.015625 15.765625 45.015625 23.390625 \nQ 45.015625 31 40.078125 35.4375 \nQ 35.15625 39.890625 26.703125 39.890625 \nQ 22.75 39.890625 18.8125 39.015625 \nQ 14.890625 38.140625 10.796875 36.28125 \nz\n\" id=\"DejaVuSans-53\"/>\n      </defs>\n      <g transform=\"translate(20.878125 141.294348)scale(0.1 -0.1)\">\n       <use xlink:href=\"#DejaVuSans-53\"/>\n       <use x=\"63.623047\" xlink:href=\"#DejaVuSans-48\"/>\n       <use x=\"127.246094\" xlink:href=\"#DejaVuSans-48\"/>\n       <use x=\"190.869141\" xlink:href=\"#DejaVuSans-48\"/>\n       <use x=\"254.492188\" xlink:href=\"#DejaVuSans-48\"/>\n      </g>\n     </g>\n    </g>\n    <g id=\"ytick_7\">\n     <g id=\"line2d_15\">\n      <g>\n       <use style=\"stroke:#000000;stroke-width:0.8;\" x=\"59.690625\" xlink:href=\"#m275be9786f\" y=\"79.294468\"/>\n      </g>\n     </g>\n     <g id=\"text_16\">\n      <!-- 60000 -->\n      <g transform=\"translate(20.878125 83.093686)scale(0.1 -0.1)\">\n       <use xlink:href=\"#DejaVuSans-54\"/>\n       <use x=\"63.623047\" xlink:href=\"#DejaVuSans-48\"/>\n       <use x=\"127.246094\" xlink:href=\"#DejaVuSans-48\"/>\n       <use x=\"190.869141\" xlink:href=\"#DejaVuSans-48\"/>\n       <use x=\"254.492188\" xlink:href=\"#DejaVuSans-48\"/>\n      </g>\n     </g>\n    </g>\n    <g id=\"ytick_8\">\n     <g id=\"line2d_16\">\n      <g>\n       <use style=\"stroke:#000000;stroke-width:0.8;\" x=\"59.690625\" xlink:href=\"#m275be9786f\" y=\"21.093806\"/>\n      </g>\n     </g>\n     <g id=\"text_17\">\n      <!-- 70000 -->\n      <defs>\n       <path d=\"M 8.203125 72.90625 \nL 55.078125 72.90625 \nL 55.078125 68.703125 \nL 28.609375 0 \nL 18.3125 0 \nL 43.21875 64.59375 \nL 8.203125 64.59375 \nz\n\" id=\"DejaVuSans-55\"/>\n      </defs>\n      <g transform=\"translate(20.878125 24.893025)scale(0.1 -0.1)\">\n       <use xlink:href=\"#DejaVuSans-55\"/>\n       <use x=\"63.623047\" xlink:href=\"#DejaVuSans-48\"/>\n       <use x=\"127.246094\" xlink:href=\"#DejaVuSans-48\"/>\n       <use x=\"190.869141\" xlink:href=\"#DejaVuSans-48\"/>\n       <use x=\"254.492188\" xlink:href=\"#DejaVuSans-48\"/>\n      </g>\n     </g>\n    </g>\n    <g id=\"text_18\">\n     <!-- Nb -->\n     <defs>\n      <path d=\"M 9.8125 72.90625 \nL 23.09375 72.90625 \nL 55.421875 11.921875 \nL 55.421875 72.90625 \nL 64.984375 72.90625 \nL 64.984375 0 \nL 51.703125 0 \nL 19.390625 60.984375 \nL 19.390625 0 \nL 9.8125 0 \nz\n\" id=\"DejaVuSans-78\"/>\n     </defs>\n     <g transform=\"translate(14.798438 231.563281)rotate(-90)scale(0.1 -0.1)\">\n      <use xlink:href=\"#DejaVuSans-78\"/>\n      <use x=\"74.804688\" xlink:href=\"#DejaVuSans-98\"/>\n     </g>\n    </g>\n   </g>\n   <g id=\"patch_5\">\n    <path d=\"M 59.690625 428.498437 \nL 59.690625 20.798437 \n\" style=\"fill:none;stroke:#000000;stroke-linecap:square;stroke-linejoin:miter;stroke-width:0.8;\"/>\n   </g>\n   <g id=\"patch_6\">\n    <path d=\"M 440.14517 428.498437 \nL 440.14517 20.798437 \n\" style=\"fill:none;stroke:#000000;stroke-linecap:square;stroke-linejoin:miter;stroke-width:0.8;\"/>\n   </g>\n   <g id=\"patch_7\">\n    <path d=\"M 59.690625 428.498437 \nL 440.14517 428.498437 \n\" style=\"fill:none;stroke:#000000;stroke-linecap:square;stroke-linejoin:miter;stroke-width:0.8;\"/>\n   </g>\n   <g id=\"patch_8\">\n    <path d=\"M 59.690625 20.798437 \nL 440.14517 20.798437 \n\" style=\"fill:none;stroke:#000000;stroke-linecap:square;stroke-linejoin:miter;stroke-width:0.8;\"/>\n   </g>\n   <g id=\"text_19\">\n    <!-- AUC is_duplicate/nb_words_question2-common_words : 0.323137 -->\n    <defs>\n     <path d=\"M 34.1875 63.1875 \nL 20.796875 26.90625 \nL 47.609375 26.90625 \nz\nM 28.609375 72.90625 \nL 39.796875 72.90625 \nL 67.578125 0 \nL 57.328125 0 \nL 50.6875 18.703125 \nL 17.828125 18.703125 \nL 11.1875 0 \nL 0.78125 0 \nz\n\" id=\"DejaVuSans-65\"/>\n     <path d=\"M 8.6875 72.90625 \nL 18.609375 72.90625 \nL 18.609375 28.609375 \nQ 18.609375 16.890625 22.84375 11.734375 \nQ 27.09375 6.59375 36.625 6.59375 \nQ 46.09375 6.59375 50.34375 11.734375 \nQ 54.59375 16.890625 54.59375 28.609375 \nL 54.59375 72.90625 \nL 64.5 72.90625 \nL 64.5 27.390625 \nQ 64.5 13.140625 57.4375 5.859375 \nQ 50.390625 -1.421875 36.625 -1.421875 \nQ 22.796875 -1.421875 15.734375 5.859375 \nQ 8.6875 13.140625 8.6875 27.390625 \nz\n\" id=\"DejaVuSans-85\"/>\n     <path d=\"M 64.40625 67.28125 \nL 64.40625 56.890625 \nQ 59.421875 61.53125 53.78125 63.8125 \nQ 48.140625 66.109375 41.796875 66.109375 \nQ 29.296875 66.109375 22.65625 58.46875 \nQ 16.015625 50.828125 16.015625 36.375 \nQ 16.015625 21.96875 22.65625 14.328125 \nQ 29.296875 6.6875 41.796875 6.6875 \nQ 48.140625 6.6875 53.78125 8.984375 \nQ 59.421875 11.28125 64.40625 15.921875 \nL 64.40625 5.609375 \nQ 59.234375 2.09375 53.4375 0.328125 \nQ 47.65625 -1.421875 41.21875 -1.421875 \nQ 24.65625 -1.421875 15.125 8.703125 \nQ 5.609375 18.84375 5.609375 36.375 \nQ 5.609375 53.953125 15.125 64.078125 \nQ 24.65625 74.21875 41.21875 74.21875 \nQ 47.75 74.21875 53.53125 72.484375 \nQ 59.328125 70.75 64.40625 67.28125 \nz\n\" id=\"DejaVuSans-67\"/>\n     <path id=\"DejaVuSans-32\"/>\n     <path d=\"M 18.109375 8.203125 \nL 18.109375 -20.796875 \nL 9.078125 -20.796875 \nL 9.078125 54.6875 \nL 18.109375 54.6875 \nL 18.109375 46.390625 \nQ 20.953125 51.265625 25.265625 53.625 \nQ 29.59375 56 35.59375 56 \nQ 45.5625 56 51.78125 48.09375 \nQ 58.015625 40.1875 58.015625 27.296875 \nQ 58.015625 14.40625 51.78125 6.484375 \nQ 45.5625 -1.421875 35.59375 -1.421875 \nQ 29.59375 -1.421875 25.265625 0.953125 \nQ 20.953125 3.328125 18.109375 8.203125 \nz\nM 48.6875 27.296875 \nQ 48.6875 37.203125 44.609375 42.84375 \nQ 40.53125 48.484375 33.40625 48.484375 \nQ 26.265625 48.484375 22.1875 42.84375 \nQ 18.109375 37.203125 18.109375 27.296875 \nQ 18.109375 17.390625 22.1875 11.75 \nQ 26.265625 6.109375 33.40625 6.109375 \nQ 40.53125 6.109375 44.609375 11.75 \nQ 48.6875 17.390625 48.6875 27.296875 \nz\n\" id=\"DejaVuSans-112\"/>\n     <path d=\"M 9.421875 75.984375 \nL 18.40625 75.984375 \nL 18.40625 0 \nL 9.421875 0 \nz\n\" id=\"DejaVuSans-108\"/>\n     <path d=\"M 34.28125 27.484375 \nQ 23.390625 27.484375 19.1875 25 \nQ 14.984375 22.515625 14.984375 16.5 \nQ 14.984375 11.71875 18.140625 8.90625 \nQ 21.296875 6.109375 26.703125 6.109375 \nQ 34.1875 6.109375 38.703125 11.40625 \nQ 43.21875 16.703125 43.21875 25.484375 \nL 43.21875 27.484375 \nz\nM 52.203125 31.203125 \nL 52.203125 0 \nL 43.21875 0 \nL 43.21875 8.296875 \nQ 40.140625 3.328125 35.546875 0.953125 \nQ 30.953125 -1.421875 24.3125 -1.421875 \nQ 15.921875 -1.421875 10.953125 3.296875 \nQ 6 8.015625 6 15.921875 \nQ 6 25.140625 12.171875 29.828125 \nQ 18.359375 34.515625 30.609375 34.515625 \nL 43.21875 34.515625 \nL 43.21875 35.40625 \nQ 43.21875 41.609375 39.140625 45 \nQ 35.0625 48.390625 27.6875 48.390625 \nQ 23 48.390625 18.546875 47.265625 \nQ 14.109375 46.140625 10.015625 43.890625 \nL 10.015625 52.203125 \nQ 14.9375 54.109375 19.578125 55.046875 \nQ 24.21875 56 28.609375 56 \nQ 40.484375 56 46.34375 49.84375 \nQ 52.203125 43.703125 52.203125 31.203125 \nz\n\" id=\"DejaVuSans-97\"/>\n     <path d=\"M 25.390625 72.90625 \nL 33.6875 72.90625 \nL 8.296875 -9.28125 \nL 0 -9.28125 \nz\n\" id=\"DejaVuSans-47\"/>\n     <path d=\"M 11.71875 12.40625 \nL 22.015625 12.40625 \nL 22.015625 0 \nL 11.71875 0 \nz\nM 11.71875 51.703125 \nL 22.015625 51.703125 \nL 22.015625 39.3125 \nL 11.71875 39.3125 \nz\n\" id=\"DejaVuSans-58\"/>\n     <path d=\"M 10.6875 12.40625 \nL 21 12.40625 \nL 21 0 \nL 10.6875 0 \nz\n\" id=\"DejaVuSans-46\"/>\n    </defs>\n    <g transform=\"translate(85.716335 14.798437)scale(0.1 -0.1)\">\n     <use xlink:href=\"#DejaVuSans-65\"/>\n     <use x=\"68.408203\" xlink:href=\"#DejaVuSans-85\"/>\n     <use x=\"141.601562\" xlink:href=\"#DejaVuSans-67\"/>\n     <use x=\"211.425781\" xlink:href=\"#DejaVuSans-32\"/>\n     <use x=\"243.212891\" xlink:href=\"#DejaVuSans-105\"/>\n     <use x=\"270.996094\" xlink:href=\"#DejaVuSans-115\"/>\n     <use x=\"323.095703\" xlink:href=\"#DejaVuSans-95\"/>\n     <use x=\"373.095703\" xlink:href=\"#DejaVuSans-100\"/>\n     <use x=\"436.572266\" xlink:href=\"#DejaVuSans-117\"/>\n     <use x=\"499.951172\" xlink:href=\"#DejaVuSans-112\"/>\n     <use x=\"563.427734\" xlink:href=\"#DejaVuSans-108\"/>\n     <use x=\"591.210938\" xlink:href=\"#DejaVuSans-105\"/>\n     <use x=\"618.994141\" xlink:href=\"#DejaVuSans-99\"/>\n     <use x=\"673.974609\" xlink:href=\"#DejaVuSans-97\"/>\n     <use x=\"735.253906\" xlink:href=\"#DejaVuSans-116\"/>\n     <use x=\"774.462891\" xlink:href=\"#DejaVuSans-101\"/>\n     <use x=\"835.986328\" xlink:href=\"#DejaVuSans-47\"/>\n     <use x=\"869.677734\" xlink:href=\"#DejaVuSans-110\"/>\n     <use x=\"933.056641\" xlink:href=\"#DejaVuSans-98\"/>\n     <use x=\"996.533203\" xlink:href=\"#DejaVuSans-95\"/>\n     <use x=\"1046.533203\" xlink:href=\"#DejaVuSans-119\"/>\n     <use x=\"1128.320312\" xlink:href=\"#DejaVuSans-111\"/>\n     <use x=\"1189.501953\" xlink:href=\"#DejaVuSans-114\"/>\n     <use x=\"1228.865234\" xlink:href=\"#DejaVuSans-100\"/>\n     <use x=\"1292.341797\" xlink:href=\"#DejaVuSans-115\"/>\n     <use x=\"1344.441406\" xlink:href=\"#DejaVuSans-95\"/>\n     <use x=\"1394.441406\" xlink:href=\"#DejaVuSans-113\"/>\n     <use x=\"1457.917969\" xlink:href=\"#DejaVuSans-117\"/>\n     <use x=\"1521.296875\" xlink:href=\"#DejaVuSans-101\"/>\n     <use x=\"1582.820312\" xlink:href=\"#DejaVuSans-115\"/>\n     <use x=\"1634.919922\" xlink:href=\"#DejaVuSans-116\"/>\n     <use x=\"1674.128906\" xlink:href=\"#DejaVuSans-105\"/>\n     <use x=\"1701.912109\" xlink:href=\"#DejaVuSans-111\"/>\n     <use x=\"1763.09375\" xlink:href=\"#DejaVuSans-110\"/>\n     <use x=\"1826.472656\" xlink:href=\"#DejaVuSans-50\"/>\n     <use x=\"1890.095703\" xlink:href=\"#DejaVuSans-45\"/>\n     <use x=\"1926.179688\" xlink:href=\"#DejaVuSans-99\"/>\n     <use x=\"1981.160156\" xlink:href=\"#DejaVuSans-111\"/>\n     <use x=\"2042.341797\" xlink:href=\"#DejaVuSans-109\"/>\n     <use x=\"2139.753906\" xlink:href=\"#DejaVuSans-109\"/>\n     <use x=\"2237.166016\" xlink:href=\"#DejaVuSans-111\"/>\n     <use x=\"2298.347656\" xlink:href=\"#DejaVuSans-110\"/>\n     <use x=\"2361.726562\" xlink:href=\"#DejaVuSans-95\"/>\n     <use x=\"2411.726562\" xlink:href=\"#DejaVuSans-119\"/>\n     <use x=\"2493.513672\" xlink:href=\"#DejaVuSans-111\"/>\n     <use x=\"2554.695312\" xlink:href=\"#DejaVuSans-114\"/>\n     <use x=\"2594.058594\" xlink:href=\"#DejaVuSans-100\"/>\n     <use x=\"2657.535156\" xlink:href=\"#DejaVuSans-115\"/>\n     <use x=\"2709.634766\" xlink:href=\"#DejaVuSans-32\"/>\n     <use x=\"2741.421875\" xlink:href=\"#DejaVuSans-58\"/>\n     <use x=\"2775.113281\" xlink:href=\"#DejaVuSans-32\"/>\n     <use x=\"2806.900391\" xlink:href=\"#DejaVuSans-48\"/>\n     <use x=\"2870.523438\" xlink:href=\"#DejaVuSans-46\"/>\n     <use x=\"2902.310547\" xlink:href=\"#DejaVuSans-51\"/>\n     <use x=\"2965.933594\" xlink:href=\"#DejaVuSans-50\"/>\n     <use x=\"3029.556641\" xlink:href=\"#DejaVuSans-51\"/>\n     <use x=\"3093.179688\" xlink:href=\"#DejaVuSans-49\"/>\n     <use x=\"3156.802734\" xlink:href=\"#DejaVuSans-51\"/>\n     <use x=\"3220.425781\" xlink:href=\"#DejaVuSans-55\"/>\n    </g>\n   </g>\n   <g id=\"legend_1\">\n    <g id=\"patch_9\">\n     <path d=\"M 357.17642 58.154687 \nL 433.14517 58.154687 \nQ 435.14517 58.154687 435.14517 56.154687 \nL 435.14517 27.798437 \nQ 435.14517 25.798437 433.14517 25.798437 \nL 357.17642 25.798437 \nQ 355.17642 25.798437 355.17642 27.798437 \nL 355.17642 56.154687 \nQ 355.17642 58.154687 357.17642 58.154687 \nz\n\" style=\"fill:#ffffff;opacity:0.8;stroke:#cccccc;stroke-linejoin:miter;\"/>\n    </g>\n    <g id=\"patch_10\">\n     <path d=\"M 359.17642 37.396875 \nL 379.17642 37.396875 \nL 379.17642 30.396875 \nL 359.17642 30.396875 \nz\n\" style=\"fill:none;stroke:#d62728;stroke-linejoin:miter;\"/>\n    </g>\n    <g id=\"text_20\">\n     <!-- Same -->\n     <defs>\n      <path d=\"M 53.515625 70.515625 \nL 53.515625 60.890625 \nQ 47.90625 63.578125 42.921875 64.890625 \nQ 37.9375 66.21875 33.296875 66.21875 \nQ 25.25 66.21875 20.875 63.09375 \nQ 16.5 59.96875 16.5 54.203125 \nQ 16.5 49.359375 19.40625 46.890625 \nQ 22.3125 44.4375 30.421875 42.921875 \nL 36.375 41.703125 \nQ 47.40625 39.59375 52.65625 34.296875 \nQ 57.90625 29 57.90625 20.125 \nQ 57.90625 9.515625 50.796875 4.046875 \nQ 43.703125 -1.421875 29.984375 -1.421875 \nQ 24.8125 -1.421875 18.96875 -0.25 \nQ 13.140625 0.921875 6.890625 3.21875 \nL 6.890625 13.375 \nQ 12.890625 10.015625 18.65625 8.296875 \nQ 24.421875 6.59375 29.984375 6.59375 \nQ 38.421875 6.59375 43.015625 9.90625 \nQ 47.609375 13.234375 47.609375 19.390625 \nQ 47.609375 24.75 44.3125 27.78125 \nQ 41.015625 30.8125 33.5 32.328125 \nL 27.484375 33.5 \nQ 16.453125 35.6875 11.515625 40.375 \nQ 6.59375 45.0625 6.59375 53.421875 \nQ 6.59375 63.09375 13.40625 68.65625 \nQ 20.21875 74.21875 32.171875 74.21875 \nQ 37.3125 74.21875 42.625 73.28125 \nQ 47.953125 72.359375 53.515625 70.515625 \nz\n\" id=\"DejaVuSans-83\"/>\n     </defs>\n     <g transform=\"translate(387.17642 37.396875)scale(0.1 -0.1)\">\n      <use xlink:href=\"#DejaVuSans-83\"/>\n      <use x=\"63.476562\" xlink:href=\"#DejaVuSans-97\"/>\n      <use x=\"124.755859\" xlink:href=\"#DejaVuSans-109\"/>\n      <use x=\"222.167969\" xlink:href=\"#DejaVuSans-101\"/>\n     </g>\n    </g>\n    <g id=\"patch_11\">\n     <path d=\"M 359.17642 52.075 \nL 379.17642 52.075 \nL 379.17642 45.075 \nL 359.17642 45.075 \nz\n\" style=\"fill:none;opacity:0.75;stroke:#2ca02c;stroke-linejoin:miter;\"/>\n    </g>\n    <g id=\"text_21\">\n     <!-- Different -->\n     <defs>\n      <path d=\"M 19.671875 64.796875 \nL 19.671875 8.109375 \nL 31.59375 8.109375 \nQ 46.6875 8.109375 53.6875 14.9375 \nQ 60.6875 21.78125 60.6875 36.53125 \nQ 60.6875 51.171875 53.6875 57.984375 \nQ 46.6875 64.796875 31.59375 64.796875 \nz\nM 9.8125 72.90625 \nL 30.078125 72.90625 \nQ 51.265625 72.90625 61.171875 64.09375 \nQ 71.09375 55.28125 71.09375 36.53125 \nQ 71.09375 17.671875 61.125 8.828125 \nQ 51.171875 0 30.078125 0 \nL 9.8125 0 \nz\n\" id=\"DejaVuSans-68\"/>\n      <path d=\"M 37.109375 75.984375 \nL 37.109375 68.5 \nL 28.515625 68.5 \nQ 23.6875 68.5 21.796875 66.546875 \nQ 19.921875 64.59375 19.921875 59.515625 \nL 19.921875 54.6875 \nL 34.71875 54.6875 \nL 34.71875 47.703125 \nL 19.921875 47.703125 \nL 19.921875 0 \nL 10.890625 0 \nL 10.890625 47.703125 \nL 2.296875 47.703125 \nL 2.296875 54.6875 \nL 10.890625 54.6875 \nL 10.890625 58.5 \nQ 10.890625 67.625 15.140625 71.796875 \nQ 19.390625 75.984375 28.609375 75.984375 \nz\n\" id=\"DejaVuSans-102\"/>\n     </defs>\n     <g transform=\"translate(387.17642 52.075)scale(0.1 -0.1)\">\n      <use xlink:href=\"#DejaVuSans-68\"/>\n      <use x=\"77.001953\" xlink:href=\"#DejaVuSans-105\"/>\n      <use x=\"104.785156\" xlink:href=\"#DejaVuSans-102\"/>\n      <use x=\"139.990234\" xlink:href=\"#DejaVuSans-102\"/>\n      <use x=\"175.195312\" xlink:href=\"#DejaVuSans-101\"/>\n      <use x=\"236.71875\" xlink:href=\"#DejaVuSans-114\"/>\n      <use x=\"275.582031\" xlink:href=\"#DejaVuSans-101\"/>\n      <use x=\"337.105469\" xlink:href=\"#DejaVuSans-110\"/>\n      <use x=\"400.484375\" xlink:href=\"#DejaVuSans-116\"/>\n     </g>\n    </g>\n   </g>\n  </g>\n  <g id=\"axes_2\">\n   <g id=\"patch_12\">\n    <path d=\"M 516.23608 428.498437 \nL 896.690625 428.498437 \nL 896.690625 20.798437 \nL 516.23608 20.798437 \nz\n\" style=\"fill:#ffffff;\"/>\n   </g>\n   <g id=\"patch_13\">\n    <path clip-path=\"url(#p230aab75dd)\" d=\"M 533.529468 428.498437 \nL 533.529468 420.98075 \nL 540.446823 420.98075 \nL 540.446823 428.484199 \nL 547.364179 428.484199 \nL 547.364179 428.469961 \nL 554.281534 428.469961 \nL 554.281534 428.071296 \nL 561.198889 428.071296 \nL 561.198889 426.462397 \nL 568.116245 426.462397 \nL 568.116245 422.746267 \nL 575.0336 422.746267 \nL 575.0336 422.461507 \nL 581.950956 422.461507 \nL 581.950956 415.840816 \nL 588.868311 415.840816 \nL 588.868311 418.318236 \nL 595.785666 418.318236 \nL 595.785666 415.171628 \nL 602.703022 415.171628 \nL 602.703022 405.54671 \nL 609.620377 405.54671 \nL 609.620377 391.878187 \nL 616.537732 391.878187 \nL 616.537732 395.637031 \nL 623.455088 395.637031 \nL 623.455088 384.787641 \nL 630.372443 384.787641 \nL 630.372443 385.499543 \nL 637.289799 385.499543 \nL 637.289799 361.722008 \nL 644.207154 361.722008 \nL 644.207154 361.294867 \nL 651.124509 361.294867 \nL 651.124509 374.23725 \nL 658.041865 374.23725 \nL 658.041865 356.809883 \nL 664.95922 356.809883 \nL 664.95922 394.270178 \nL 671.876575 394.270178 \nL 671.876575 328.590079 \nL 678.793931 328.590079 \nL 678.793931 343.226788 \nL 685.711286 343.226788 \nL 685.711286 359.031018 \nL 692.628642 359.031018 \nL 692.628642 330.98207 \nL 699.545997 330.98207 \nL 699.545997 410.145598 \nL 706.463352 410.145598 \nL 706.463352 307.930676 \nL 713.380708 307.930676 \nL 713.380708 339.510659 \nL 720.298063 339.510659 \nL 720.298063 356.126457 \nL 727.215418 356.126457 \nL 727.215418 354.702652 \nL 734.132774 354.702652 \nL 734.132774 376.586527 \nL 741.050129 376.586527 \nL 741.050129 345.148924 \nL 747.967485 345.148924 \nL 747.967485 352.367613 \nL 754.88484 352.367613 \nL 754.88484 417.805666 \nL 761.802195 417.805666 \nL 761.802195 304.285736 \nL 768.719551 304.285736 \nL 768.719551 396.291981 \nL 775.636906 396.291981 \nL 775.636906 363.160051 \nL 782.554261 363.160051 \nL 782.554261 381.313558 \nL 789.471617 381.313558 \nL 789.471617 382.808552 \nL 796.388972 382.808552 \nL 796.388972 371.446593 \nL 803.306327 371.446593 \nL 803.306327 418.901995 \nL 810.223683 418.901995 \nL 810.223683 371.560497 \nL 817.141038 371.560497 \nL 817.141038 384.873069 \nL 824.058394 384.873069 \nL 824.058394 377.170287 \nL 830.975749 377.170287 \nL 830.975749 404.606999 \nL 837.893104 404.606999 \nL 837.893104 403.311337 \nL 844.81046 403.311337 \nL 844.81046 405.560948 \nL 851.727815 405.560948 \nL 851.727815 407.910225 \nL 858.64517 407.910225 \nL 858.64517 413.292206 \nL 865.562526 413.292206 \nL 865.562526 426.063732 \nL 872.479881 426.063732 \nL 872.479881 426.305779 \nL 879.397237 426.305779 \nL 879.397237 428.498437 \n\" style=\"fill:none;stroke:#d62728;stroke-linejoin:miter;\"/>\n   </g>\n   <g id=\"patch_14\">\n    <path clip-path=\"url(#p230aab75dd)\" d=\"M 533.529468 428.498437 \nL 533.529468 40.212723 \nL 540.446823 40.212723 \nL 540.446823 426.704444 \nL 547.364179 426.704444 \nL 547.364179 382.466839 \nL 554.281534 382.466839 \nL 554.281534 339.838134 \nL 561.198889 339.838134 \nL 561.198889 310.635904 \nL 568.116245 310.635904 \nL 568.116245 274.001416 \nL 575.0336 274.001416 \nL 575.0336 303.645024 \nL 581.950956 303.645024 \nL 581.950956 310.963379 \nL 588.868311 310.963379 \nL 588.868311 306.777394 \nL 595.785666 306.777394 \nL 595.785666 316.174504 \nL 602.703022 316.174504 \nL 602.703022 288.040128 \nL 609.620377 288.040128 \nL 609.620377 289.378504 \nL 616.537732 289.378504 \nL 616.537732 309.311766 \nL 623.455088 309.311766 \nL 623.455088 311.518663 \nL 630.372443 311.518663 \nL 630.372443 329.843026 \nL 637.289799 329.843026 \nL 637.289799 313.58318 \nL 644.207154 313.58318 \nL 644.207154 323.777619 \nL 651.124509 323.777619 \nL 651.124509 353.962274 \nL 658.041865 353.962274 \nL 658.041865 341.660603 \nL 664.95922 341.660603 \nL 664.95922 390.212336 \nL 671.876575 390.212336 \nL 671.876575 328.091747 \nL 678.793931 328.091747 \nL 678.793931 352.16828 \nL 685.711286 352.16828 \nL 685.711286 365.253043 \nL 692.628642 365.253043 \nL 692.628642 351.612997 \nL 699.545997 351.612997 \nL 699.545997 415.613007 \nL 706.463352 415.613007 \nL 706.463352 331.693972 \nL 713.380708 331.693972 \nL 713.380708 365.623233 \nL 720.298063 365.623233 \nL 720.298063 376.031243 \nL 727.215418 376.031243 \nL 727.215418 372.799207 \nL 734.132774 372.799207 \nL 734.132774 396.363171 \nL 741.050129 396.363171 \nL 741.050129 367.346036 \nL 747.967485 367.346036 \nL 747.967485 377.141811 \nL 754.88484 377.141811 \nL 754.88484 421.920461 \nL 761.802195 421.920461 \nL 761.802195 337.716665 \nL 768.719551 337.716665 \nL 768.719551 406.842372 \nL 775.636906 406.842372 \nL 775.636906 383.677073 \nL 782.554261 383.677073 \nL 782.554261 394.384083 \nL 789.471617 394.384083 \nL 789.471617 388.162057 \nL 796.388972 388.162057 \nL 796.388972 387.806106 \nL 803.306327 387.806106 \nL 803.306327 418.716901 \nL 810.223683 418.716901 \nL 810.223683 381.285082 \nL 817.141038 381.285082 \nL 817.141038 389.941813 \nL 824.058394 389.941813 \nL 824.058394 385.442591 \nL 830.975749 385.442591 \nL 830.975749 393.045706 \nL 837.893104 393.045706 \nL 837.893104 398.057498 \nL 844.81046 398.057498 \nL 844.81046 383.036361 \nL 851.727815 383.036361 \nL 851.727815 390.739143 \nL 858.64517 390.739143 \nL 858.64517 415.257056 \nL 865.562526 415.257056 \nL 865.562526 427.373632 \nL 872.479881 427.373632 \nL 872.479881 427.985868 \nL 879.397237 427.985868 \nL 879.397237 428.498437 \n\" style=\"fill:none;opacity:0.75;stroke:#2ca02c;stroke-linejoin:miter;\"/>\n   </g>\n   <g id=\"matplotlib.axis_3\">\n    <g id=\"xtick_9\">\n     <g id=\"line2d_17\">\n      <g>\n       <use style=\"stroke:#000000;stroke-width:0.8;\" x=\"533.529468\" xlink:href=\"#mac19701e32\" y=\"428.498437\"/>\n      </g>\n     </g>\n     <g id=\"text_22\">\n      <!-- 0.0 -->\n      <g transform=\"translate(525.577905 443.096875)scale(0.1 -0.1)\">\n       <use xlink:href=\"#DejaVuSans-48\"/>\n       <use x=\"63.623047\" xlink:href=\"#DejaVuSans-46\"/>\n       <use x=\"95.410156\" xlink:href=\"#DejaVuSans-48\"/>\n      </g>\n     </g>\n    </g>\n    <g id=\"xtick_10\">\n     <g id=\"line2d_18\">\n      <g>\n       <use style=\"stroke:#000000;stroke-width:0.8;\" x=\"602.703022\" xlink:href=\"#mac19701e32\" y=\"428.498437\"/>\n      </g>\n     </g>\n     <g id=\"text_23\">\n      <!-- 0.1 -->\n      <g transform=\"translate(594.751459 443.096875)scale(0.1 -0.1)\">\n       <use xlink:href=\"#DejaVuSans-48\"/>\n       <use x=\"63.623047\" xlink:href=\"#DejaVuSans-46\"/>\n       <use x=\"95.410156\" xlink:href=\"#DejaVuSans-49\"/>\n      </g>\n     </g>\n    </g>\n    <g id=\"xtick_11\">\n     <g id=\"line2d_19\">\n      <g>\n       <use style=\"stroke:#000000;stroke-width:0.8;\" x=\"671.876575\" xlink:href=\"#mac19701e32\" y=\"428.498437\"/>\n      </g>\n     </g>\n     <g id=\"text_24\">\n      <!-- 0.2 -->\n      <g transform=\"translate(663.925013 443.096875)scale(0.1 -0.1)\">\n       <use xlink:href=\"#DejaVuSans-48\"/>\n       <use x=\"63.623047\" xlink:href=\"#DejaVuSans-46\"/>\n       <use x=\"95.410156\" xlink:href=\"#DejaVuSans-50\"/>\n      </g>\n     </g>\n    </g>\n    <g id=\"xtick_12\">\n     <g id=\"line2d_20\">\n      <g>\n       <use style=\"stroke:#000000;stroke-width:0.8;\" x=\"741.050129\" xlink:href=\"#mac19701e32\" y=\"428.498437\"/>\n      </g>\n     </g>\n     <g id=\"text_25\">\n      <!-- 0.3 -->\n      <g transform=\"translate(733.098567 443.096875)scale(0.1 -0.1)\">\n       <use xlink:href=\"#DejaVuSans-48\"/>\n       <use x=\"63.623047\" xlink:href=\"#DejaVuSans-46\"/>\n       <use x=\"95.410156\" xlink:href=\"#DejaVuSans-51\"/>\n      </g>\n     </g>\n    </g>\n    <g id=\"xtick_13\">\n     <g id=\"line2d_21\">\n      <g>\n       <use style=\"stroke:#000000;stroke-width:0.8;\" x=\"810.223683\" xlink:href=\"#mac19701e32\" y=\"428.498437\"/>\n      </g>\n     </g>\n     <g id=\"text_26\">\n      <!-- 0.4 -->\n      <g transform=\"translate(802.27212 443.096875)scale(0.1 -0.1)\">\n       <use xlink:href=\"#DejaVuSans-48\"/>\n       <use x=\"63.623047\" xlink:href=\"#DejaVuSans-46\"/>\n       <use x=\"95.410156\" xlink:href=\"#DejaVuSans-52\"/>\n      </g>\n     </g>\n    </g>\n    <g id=\"xtick_14\">\n     <g id=\"line2d_22\">\n      <g>\n       <use style=\"stroke:#000000;stroke-width:0.8;\" x=\"879.397237\" xlink:href=\"#mac19701e32\" y=\"428.498437\"/>\n      </g>\n     </g>\n     <g id=\"text_27\">\n      <!-- 0.5 -->\n      <g transform=\"translate(871.445674 443.096875)scale(0.1 -0.1)\">\n       <use xlink:href=\"#DejaVuSans-48\"/>\n       <use x=\"63.623047\" xlink:href=\"#DejaVuSans-46\"/>\n       <use x=\"95.410156\" xlink:href=\"#DejaVuSans-53\"/>\n      </g>\n     </g>\n    </g>\n    <g id=\"text_28\">\n     <!-- nb_common_words/(nb_words_question1+nb_words_question2) -->\n     <defs>\n      <path d=\"M 31 75.875 \nQ 24.46875 64.65625 21.28125 53.65625 \nQ 18.109375 42.671875 18.109375 31.390625 \nQ 18.109375 20.125 21.3125 9.0625 \nQ 24.515625 -2 31 -13.1875 \nL 23.1875 -13.1875 \nQ 15.875 -1.703125 12.234375 9.375 \nQ 8.59375 20.453125 8.59375 31.390625 \nQ 8.59375 42.28125 12.203125 53.3125 \nQ 15.828125 64.359375 23.1875 75.875 \nz\n\" id=\"DejaVuSans-40\"/>\n      <path d=\"M 46 62.703125 \nL 46 35.5 \nL 73.1875 35.5 \nL 73.1875 27.203125 \nL 46 27.203125 \nL 46 0 \nL 37.796875 0 \nL 37.796875 27.203125 \nL 10.59375 27.203125 \nL 10.59375 35.5 \nL 37.796875 35.5 \nL 37.796875 62.703125 \nz\n\" id=\"DejaVuSans-43\"/>\n      <path d=\"M 8.015625 75.875 \nL 15.828125 75.875 \nQ 23.140625 64.359375 26.78125 53.3125 \nQ 30.421875 42.28125 30.421875 31.390625 \nQ 30.421875 20.453125 26.78125 9.375 \nQ 23.140625 -1.703125 15.828125 -13.1875 \nL 8.015625 -13.1875 \nQ 14.5 -2 17.703125 9.0625 \nQ 20.90625 20.125 20.90625 31.390625 \nQ 20.90625 42.671875 17.703125 53.65625 \nQ 14.5 64.65625 8.015625 75.875 \nz\n\" id=\"DejaVuSans-41\"/>\n     </defs>\n     <g transform=\"translate(546.629759 456.775)scale(0.1 -0.1)\">\n      <use xlink:href=\"#DejaVuSans-110\"/>\n      <use x=\"63.378906\" xlink:href=\"#DejaVuSans-98\"/>\n      <use x=\"126.855469\" xlink:href=\"#DejaVuSans-95\"/>\n      <use x=\"176.855469\" xlink:href=\"#DejaVuSans-99\"/>\n      <use x=\"231.835938\" xlink:href=\"#DejaVuSans-111\"/>\n      <use x=\"293.017578\" xlink:href=\"#DejaVuSans-109\"/>\n      <use x=\"390.429688\" xlink:href=\"#DejaVuSans-109\"/>\n      <use x=\"487.841797\" xlink:href=\"#DejaVuSans-111\"/>\n      <use x=\"549.023438\" xlink:href=\"#DejaVuSans-110\"/>\n      <use x=\"612.402344\" xlink:href=\"#DejaVuSans-95\"/>\n      <use x=\"662.402344\" xlink:href=\"#DejaVuSans-119\"/>\n      <use x=\"744.189453\" xlink:href=\"#DejaVuSans-111\"/>\n      <use x=\"805.371094\" xlink:href=\"#DejaVuSans-114\"/>\n      <use x=\"844.734375\" xlink:href=\"#DejaVuSans-100\"/>\n      <use x=\"908.210938\" xlink:href=\"#DejaVuSans-115\"/>\n      <use x=\"960.310547\" xlink:href=\"#DejaVuSans-47\"/>\n      <use x=\"994.001953\" xlink:href=\"#DejaVuSans-40\"/>\n      <use x=\"1033.015625\" xlink:href=\"#DejaVuSans-110\"/>\n      <use x=\"1096.394531\" xlink:href=\"#DejaVuSans-98\"/>\n      <use x=\"1159.871094\" xlink:href=\"#DejaVuSans-95\"/>\n      <use x=\"1209.871094\" xlink:href=\"#DejaVuSans-119\"/>\n      <use x=\"1291.658203\" xlink:href=\"#DejaVuSans-111\"/>\n      <use x=\"1352.839844\" xlink:href=\"#DejaVuSans-114\"/>\n      <use x=\"1392.203125\" xlink:href=\"#DejaVuSans-100\"/>\n      <use x=\"1455.679688\" xlink:href=\"#DejaVuSans-115\"/>\n      <use x=\"1507.779297\" xlink:href=\"#DejaVuSans-95\"/>\n      <use x=\"1557.779297\" xlink:href=\"#DejaVuSans-113\"/>\n      <use x=\"1621.255859\" xlink:href=\"#DejaVuSans-117\"/>\n      <use x=\"1684.634766\" xlink:href=\"#DejaVuSans-101\"/>\n      <use x=\"1746.158203\" xlink:href=\"#DejaVuSans-115\"/>\n      <use x=\"1798.257812\" xlink:href=\"#DejaVuSans-116\"/>\n      <use x=\"1837.466797\" xlink:href=\"#DejaVuSans-105\"/>\n      <use x=\"1865.25\" xlink:href=\"#DejaVuSans-111\"/>\n      <use x=\"1926.431641\" xlink:href=\"#DejaVuSans-110\"/>\n      <use x=\"1989.810547\" xlink:href=\"#DejaVuSans-49\"/>\n      <use x=\"2053.433594\" xlink:href=\"#DejaVuSans-43\"/>\n      <use x=\"2137.222656\" xlink:href=\"#DejaVuSans-110\"/>\n      <use x=\"2200.601562\" xlink:href=\"#DejaVuSans-98\"/>\n      <use x=\"2264.078125\" xlink:href=\"#DejaVuSans-95\"/>\n      <use x=\"2314.078125\" xlink:href=\"#DejaVuSans-119\"/>\n      <use x=\"2395.865234\" xlink:href=\"#DejaVuSans-111\"/>\n      <use x=\"2457.046875\" xlink:href=\"#DejaVuSans-114\"/>\n      <use x=\"2496.410156\" xlink:href=\"#DejaVuSans-100\"/>\n      <use x=\"2559.886719\" xlink:href=\"#DejaVuSans-115\"/>\n      <use x=\"2611.986328\" xlink:href=\"#DejaVuSans-95\"/>\n      <use x=\"2661.986328\" xlink:href=\"#DejaVuSans-113\"/>\n      <use x=\"2725.462891\" xlink:href=\"#DejaVuSans-117\"/>\n      <use x=\"2788.841797\" xlink:href=\"#DejaVuSans-101\"/>\n      <use x=\"2850.365234\" xlink:href=\"#DejaVuSans-115\"/>\n      <use x=\"2902.464844\" xlink:href=\"#DejaVuSans-116\"/>\n      <use x=\"2941.673828\" xlink:href=\"#DejaVuSans-105\"/>\n      <use x=\"2969.457031\" xlink:href=\"#DejaVuSans-111\"/>\n      <use x=\"3030.638672\" xlink:href=\"#DejaVuSans-110\"/>\n      <use x=\"3094.017578\" xlink:href=\"#DejaVuSans-50\"/>\n      <use x=\"3157.640625\" xlink:href=\"#DejaVuSans-41\"/>\n     </g>\n    </g>\n   </g>\n   <g id=\"matplotlib.axis_4\">\n    <g id=\"ytick_9\">\n     <g id=\"line2d_23\">\n      <g>\n       <use style=\"stroke:#000000;stroke-width:0.8;\" x=\"516.23608\" xlink:href=\"#m275be9786f\" y=\"428.498437\"/>\n      </g>\n     </g>\n     <g id=\"text_29\">\n      <!-- 0 -->\n      <g transform=\"translate(502.87358 432.297656)scale(0.1 -0.1)\">\n       <use xlink:href=\"#DejaVuSans-48\"/>\n      </g>\n     </g>\n    </g>\n    <g id=\"ytick_10\">\n     <g id=\"line2d_24\">\n      <g>\n       <use style=\"stroke:#000000;stroke-width:0.8;\" x=\"516.23608\" xlink:href=\"#m275be9786f\" y=\"357.308215\"/>\n      </g>\n     </g>\n     <g id=\"text_30\">\n      <!-- 5000 -->\n      <g transform=\"translate(483.78608 361.107433)scale(0.1 -0.1)\">\n       <use xlink:href=\"#DejaVuSans-53\"/>\n       <use x=\"63.623047\" xlink:href=\"#DejaVuSans-48\"/>\n       <use x=\"127.246094\" xlink:href=\"#DejaVuSans-48\"/>\n       <use x=\"190.869141\" xlink:href=\"#DejaVuSans-48\"/>\n      </g>\n     </g>\n    </g>\n    <g id=\"ytick_11\">\n     <g id=\"line2d_25\">\n      <g>\n       <use style=\"stroke:#000000;stroke-width:0.8;\" x=\"516.23608\" xlink:href=\"#m275be9786f\" y=\"286.117992\"/>\n      </g>\n     </g>\n     <g id=\"text_31\">\n      <!-- 10000 -->\n      <g transform=\"translate(477.42358 289.91721)scale(0.1 -0.1)\">\n       <use xlink:href=\"#DejaVuSans-49\"/>\n       <use x=\"63.623047\" xlink:href=\"#DejaVuSans-48\"/>\n       <use x=\"127.246094\" xlink:href=\"#DejaVuSans-48\"/>\n       <use x=\"190.869141\" xlink:href=\"#DejaVuSans-48\"/>\n       <use x=\"254.492188\" xlink:href=\"#DejaVuSans-48\"/>\n      </g>\n     </g>\n    </g>\n    <g id=\"ytick_12\">\n     <g id=\"line2d_26\">\n      <g>\n       <use style=\"stroke:#000000;stroke-width:0.8;\" x=\"516.23608\" xlink:href=\"#m275be9786f\" y=\"214.927769\"/>\n      </g>\n     </g>\n     <g id=\"text_32\">\n      <!-- 15000 -->\n      <g transform=\"translate(477.42358 218.726987)scale(0.1 -0.1)\">\n       <use xlink:href=\"#DejaVuSans-49\"/>\n       <use x=\"63.623047\" xlink:href=\"#DejaVuSans-53\"/>\n       <use x=\"127.246094\" xlink:href=\"#DejaVuSans-48\"/>\n       <use x=\"190.869141\" xlink:href=\"#DejaVuSans-48\"/>\n       <use x=\"254.492188\" xlink:href=\"#DejaVuSans-48\"/>\n      </g>\n     </g>\n    </g>\n    <g id=\"ytick_13\">\n     <g id=\"line2d_27\">\n      <g>\n       <use style=\"stroke:#000000;stroke-width:0.8;\" x=\"516.23608\" xlink:href=\"#m275be9786f\" y=\"143.737546\"/>\n      </g>\n     </g>\n     <g id=\"text_33\">\n      <!-- 20000 -->\n      <g transform=\"translate(477.42358 147.536764)scale(0.1 -0.1)\">\n       <use xlink:href=\"#DejaVuSans-50\"/>\n       <use x=\"63.623047\" xlink:href=\"#DejaVuSans-48\"/>\n       <use x=\"127.246094\" xlink:href=\"#DejaVuSans-48\"/>\n       <use x=\"190.869141\" xlink:href=\"#DejaVuSans-48\"/>\n       <use x=\"254.492188\" xlink:href=\"#DejaVuSans-48\"/>\n      </g>\n     </g>\n    </g>\n    <g id=\"ytick_14\">\n     <g id=\"line2d_28\">\n      <g>\n       <use style=\"stroke:#000000;stroke-width:0.8;\" x=\"516.23608\" xlink:href=\"#m275be9786f\" y=\"72.547323\"/>\n      </g>\n     </g>\n     <g id=\"text_34\">\n      <!-- 25000 -->\n      <g transform=\"translate(477.42358 76.346541)scale(0.1 -0.1)\">\n       <use xlink:href=\"#DejaVuSans-50\"/>\n       <use x=\"63.623047\" xlink:href=\"#DejaVuSans-53\"/>\n       <use x=\"127.246094\" xlink:href=\"#DejaVuSans-48\"/>\n       <use x=\"190.869141\" xlink:href=\"#DejaVuSans-48\"/>\n       <use x=\"254.492188\" xlink:href=\"#DejaVuSans-48\"/>\n      </g>\n     </g>\n    </g>\n    <g id=\"text_35\">\n     <!-- Nb -->\n     <g transform=\"translate(471.343892 231.563281)rotate(-90)scale(0.1 -0.1)\">\n      <use xlink:href=\"#DejaVuSans-78\"/>\n      <use x=\"74.804688\" xlink:href=\"#DejaVuSans-98\"/>\n     </g>\n    </g>\n   </g>\n   <g id=\"patch_15\">\n    <path d=\"M 516.23608 428.498437 \nL 516.23608 20.798437 \n\" style=\"fill:none;stroke:#000000;stroke-linecap:square;stroke-linejoin:miter;stroke-width:0.8;\"/>\n   </g>\n   <g id=\"patch_16\">\n    <path d=\"M 896.690625 428.498437 \nL 896.690625 20.798437 \n\" style=\"fill:none;stroke:#000000;stroke-linecap:square;stroke-linejoin:miter;stroke-width:0.8;\"/>\n   </g>\n   <g id=\"patch_17\">\n    <path d=\"M 516.23608 428.498437 \nL 896.690625 428.498437 \n\" style=\"fill:none;stroke:#000000;stroke-linecap:square;stroke-linejoin:miter;stroke-width:0.8;\"/>\n   </g>\n   <g id=\"patch_18\">\n    <path d=\"M 516.23608 20.798437 \nL 896.690625 20.798437 \n\" style=\"fill:none;stroke:#000000;stroke-linecap:square;stroke-linejoin:miter;stroke-width:0.8;\"/>\n   </g>\n   <g id=\"text_36\">\n    <!-- AUC is_duplicate/nb_common_words/(nb_words_question1+nb_words_question2) : 0.734773 -->\n    <g transform=\"translate(474.425852 14.798437)scale(0.1 -0.1)\">\n     <use xlink:href=\"#DejaVuSans-65\"/>\n     <use x=\"68.408203\" xlink:href=\"#DejaVuSans-85\"/>\n     <use x=\"141.601562\" xlink:href=\"#DejaVuSans-67\"/>\n     <use x=\"211.425781\" xlink:href=\"#DejaVuSans-32\"/>\n     <use x=\"243.212891\" xlink:href=\"#DejaVuSans-105\"/>\n     <use x=\"270.996094\" xlink:href=\"#DejaVuSans-115\"/>\n     <use x=\"323.095703\" xlink:href=\"#DejaVuSans-95\"/>\n     <use x=\"373.095703\" xlink:href=\"#DejaVuSans-100\"/>\n     <use x=\"436.572266\" xlink:href=\"#DejaVuSans-117\"/>\n     <use x=\"499.951172\" xlink:href=\"#DejaVuSans-112\"/>\n     <use x=\"563.427734\" xlink:href=\"#DejaVuSans-108\"/>\n     <use x=\"591.210938\" xlink:href=\"#DejaVuSans-105\"/>\n     <use x=\"618.994141\" xlink:href=\"#DejaVuSans-99\"/>\n     <use x=\"673.974609\" xlink:href=\"#DejaVuSans-97\"/>\n     <use x=\"735.253906\" xlink:href=\"#DejaVuSans-116\"/>\n     <use x=\"774.462891\" xlink:href=\"#DejaVuSans-101\"/>\n     <use x=\"835.986328\" xlink:href=\"#DejaVuSans-47\"/>\n     <use x=\"869.677734\" xlink:href=\"#DejaVuSans-110\"/>\n     <use x=\"933.056641\" xlink:href=\"#DejaVuSans-98\"/>\n     <use x=\"996.533203\" xlink:href=\"#DejaVuSans-95\"/>\n     <use x=\"1046.533203\" xlink:href=\"#DejaVuSans-99\"/>\n     <use x=\"1101.513672\" xlink:href=\"#DejaVuSans-111\"/>\n     <use x=\"1162.695312\" xlink:href=\"#DejaVuSans-109\"/>\n     <use x=\"1260.107422\" xlink:href=\"#DejaVuSans-109\"/>\n     <use x=\"1357.519531\" xlink:href=\"#DejaVuSans-111\"/>\n     <use x=\"1418.701172\" xlink:href=\"#DejaVuSans-110\"/>\n     <use x=\"1482.080078\" xlink:href=\"#DejaVuSans-95\"/>\n     <use x=\"1532.080078\" xlink:href=\"#DejaVuSans-119\"/>\n     <use x=\"1613.867188\" xlink:href=\"#DejaVuSans-111\"/>\n     <use x=\"1675.048828\" xlink:href=\"#DejaVuSans-114\"/>\n     <use x=\"1714.412109\" xlink:href=\"#DejaVuSans-100\"/>\n     <use x=\"1777.888672\" xlink:href=\"#DejaVuSans-115\"/>\n     <use x=\"1829.988281\" xlink:href=\"#DejaVuSans-47\"/>\n     <use x=\"1863.679688\" xlink:href=\"#DejaVuSans-40\"/>\n     <use x=\"1902.693359\" xlink:href=\"#DejaVuSans-110\"/>\n     <use x=\"1966.072266\" xlink:href=\"#DejaVuSans-98\"/>\n     <use x=\"2029.548828\" xlink:href=\"#DejaVuSans-95\"/>\n     <use x=\"2079.548828\" xlink:href=\"#DejaVuSans-119\"/>\n     <use x=\"2161.335938\" xlink:href=\"#DejaVuSans-111\"/>\n     <use x=\"2222.517578\" xlink:href=\"#DejaVuSans-114\"/>\n     <use x=\"2261.880859\" xlink:href=\"#DejaVuSans-100\"/>\n     <use x=\"2325.357422\" xlink:href=\"#DejaVuSans-115\"/>\n     <use x=\"2377.457031\" xlink:href=\"#DejaVuSans-95\"/>\n     <use x=\"2427.457031\" xlink:href=\"#DejaVuSans-113\"/>\n     <use x=\"2490.933594\" xlink:href=\"#DejaVuSans-117\"/>\n     <use x=\"2554.3125\" xlink:href=\"#DejaVuSans-101\"/>\n     <use x=\"2615.835938\" xlink:href=\"#DejaVuSans-115\"/>\n     <use x=\"2667.935547\" xlink:href=\"#DejaVuSans-116\"/>\n     <use x=\"2707.144531\" xlink:href=\"#DejaVuSans-105\"/>\n     <use x=\"2734.927734\" xlink:href=\"#DejaVuSans-111\"/>\n     <use x=\"2796.109375\" xlink:href=\"#DejaVuSans-110\"/>\n     <use x=\"2859.488281\" xlink:href=\"#DejaVuSans-49\"/>\n     <use x=\"2923.111328\" xlink:href=\"#DejaVuSans-43\"/>\n     <use x=\"3006.900391\" xlink:href=\"#DejaVuSans-110\"/>\n     <use x=\"3070.279297\" xlink:href=\"#DejaVuSans-98\"/>\n     <use x=\"3133.755859\" xlink:href=\"#DejaVuSans-95\"/>\n     <use x=\"3183.755859\" xlink:href=\"#DejaVuSans-119\"/>\n     <use x=\"3265.542969\" xlink:href=\"#DejaVuSans-111\"/>\n     <use x=\"3326.724609\" xlink:href=\"#DejaVuSans-114\"/>\n     <use x=\"3366.087891\" xlink:href=\"#DejaVuSans-100\"/>\n     <use x=\"3429.564453\" xlink:href=\"#DejaVuSans-115\"/>\n     <use x=\"3481.664062\" xlink:href=\"#DejaVuSans-95\"/>\n     <use x=\"3531.664062\" xlink:href=\"#DejaVuSans-113\"/>\n     <use x=\"3595.140625\" xlink:href=\"#DejaVuSans-117\"/>\n     <use x=\"3658.519531\" xlink:href=\"#DejaVuSans-101\"/>\n     <use x=\"3720.042969\" xlink:href=\"#DejaVuSans-115\"/>\n     <use x=\"3772.142578\" xlink:href=\"#DejaVuSans-116\"/>\n     <use x=\"3811.351562\" xlink:href=\"#DejaVuSans-105\"/>\n     <use x=\"3839.134766\" xlink:href=\"#DejaVuSans-111\"/>\n     <use x=\"3900.316406\" xlink:href=\"#DejaVuSans-110\"/>\n     <use x=\"3963.695312\" xlink:href=\"#DejaVuSans-50\"/>\n     <use x=\"4027.318359\" xlink:href=\"#DejaVuSans-41\"/>\n     <use x=\"4066.332031\" xlink:href=\"#DejaVuSans-32\"/>\n     <use x=\"4098.119141\" xlink:href=\"#DejaVuSans-58\"/>\n     <use x=\"4131.810547\" xlink:href=\"#DejaVuSans-32\"/>\n     <use x=\"4163.597656\" xlink:href=\"#DejaVuSans-48\"/>\n     <use x=\"4227.220703\" xlink:href=\"#DejaVuSans-46\"/>\n     <use x=\"4259.007812\" xlink:href=\"#DejaVuSans-55\"/>\n     <use x=\"4322.630859\" xlink:href=\"#DejaVuSans-51\"/>\n     <use x=\"4386.253906\" xlink:href=\"#DejaVuSans-52\"/>\n     <use x=\"4449.876953\" xlink:href=\"#DejaVuSans-55\"/>\n     <use x=\"4513.5\" xlink:href=\"#DejaVuSans-55\"/>\n     <use x=\"4577.123047\" xlink:href=\"#DejaVuSans-51\"/>\n    </g>\n   </g>\n   <g id=\"legend_2\">\n    <g id=\"patch_19\">\n     <path d=\"M 813.721875 58.154687 \nL 889.690625 58.154687 \nQ 891.690625 58.154687 891.690625 56.154687 \nL 891.690625 27.798437 \nQ 891.690625 25.798437 889.690625 25.798437 \nL 813.721875 25.798437 \nQ 811.721875 25.798437 811.721875 27.798437 \nL 811.721875 56.154687 \nQ 811.721875 58.154687 813.721875 58.154687 \nz\n\" style=\"fill:#ffffff;opacity:0.8;stroke:#cccccc;stroke-linejoin:miter;\"/>\n    </g>\n    <g id=\"patch_20\">\n     <path d=\"M 815.721875 37.396875 \nL 835.721875 37.396875 \nL 835.721875 30.396875 \nL 815.721875 30.396875 \nz\n\" style=\"fill:none;stroke:#d62728;stroke-linejoin:miter;\"/>\n    </g>\n    <g id=\"text_37\">\n     <!-- Same -->\n     <g transform=\"translate(843.721875 37.396875)scale(0.1 -0.1)\">\n      <use xlink:href=\"#DejaVuSans-83\"/>\n      <use x=\"63.476562\" xlink:href=\"#DejaVuSans-97\"/>\n      <use x=\"124.755859\" xlink:href=\"#DejaVuSans-109\"/>\n      <use x=\"222.167969\" xlink:href=\"#DejaVuSans-101\"/>\n     </g>\n    </g>\n    <g id=\"patch_21\">\n     <path d=\"M 815.721875 52.075 \nL 835.721875 52.075 \nL 835.721875 45.075 \nL 815.721875 45.075 \nz\n\" style=\"fill:none;opacity:0.75;stroke:#2ca02c;stroke-linejoin:miter;\"/>\n    </g>\n    <g id=\"text_38\">\n     <!-- Different -->\n     <g transform=\"translate(843.721875 52.075)scale(0.1 -0.1)\">\n      <use xlink:href=\"#DejaVuSans-68\"/>\n      <use x=\"77.001953\" xlink:href=\"#DejaVuSans-105\"/>\n      <use x=\"104.785156\" xlink:href=\"#DejaVuSans-102\"/>\n      <use x=\"139.990234\" xlink:href=\"#DejaVuSans-102\"/>\n      <use x=\"175.195312\" xlink:href=\"#DejaVuSans-101\"/>\n      <use x=\"236.71875\" xlink:href=\"#DejaVuSans-114\"/>\n      <use x=\"275.582031\" xlink:href=\"#DejaVuSans-101\"/>\n      <use x=\"337.105469\" xlink:href=\"#DejaVuSans-110\"/>\n      <use x=\"400.484375\" xlink:href=\"#DejaVuSans-116\"/>\n     </g>\n    </g>\n   </g>\n  </g>\n </g>\n <defs>\n  <clipPath id=\"p8dee70dca7\">\n   <rect height=\"407.7\" width=\"380.454545\" x=\"59.690625\" y=\"20.798437\"/>\n  </clipPath>\n  <clipPath id=\"p230aab75dd\">\n   <rect height=\"407.7\" width=\"380.454545\" x=\"516.23608\" y=\"20.798437\"/>\n  </clipPath>\n </defs>\n</svg>\n",
      "image/png": "[encoded data removed]"
     },
     "metadata": {
      "needs_background": "light"
     }
    }
   ],
   "source": [
    "show_all_simple_AUC_in_grid(train_dataframe,nb_columns=2)"
   ]
  },
  {
   "cell_type": "code",
   "execution_count": null,
   "metadata": {
    "tags": []
   },
   "outputs": [],
   "source": []
  },
  {
   "cell_type": "markdown",
   "metadata": {},
   "source": [
    "## Code to build simple naive bayes model on these features"
   ]
  },
  {
   "cell_type": "code",
   "execution_count": 8,
   "metadata": {
    "tags": []
   },
   "outputs": [],
   "source": [
    "\n",
    "from sklearn.model_selection import train_test_split\n",
    "from sklearn.naive_bayes import GaussianNB\n",
    "from sklearn.naive_bayes import MultinomialNB\n",
    "from sklearn import metrics\n",
    "\n",
    "def build_naivebayes_model_with_test(input,column_names,target,show=True):\n",
    "    # print_bullet('Multinomial Naive Bayes with test on %s' % clean_combination_name(column_names))\n",
    "    input_train = pandas.DataFrame()\n",
    "    for column_name in column_names:\n",
    "        input_train[column_name]=input[column_name]\n",
    "    target_train = target\n",
    "    input_train,input_test,target_train,target_test = train_test_split(input_train,target_train,random_state=42,test_size=0.2)\n",
    "    if show:\n",
    "        print_info( 'Validation %d Test %d' % (len(input_train),len(input_test)))\n",
    "    model = MultinomialNB()\n",
    "    #naive_bayes_classifier_with_test=ComplementNB()\n",
    "    model.fit(input_train,target_train)\n",
    "    prediction=model.predict(input_test)\n",
    "    prediction_proba=model.predict_proba(input_test)\n",
    "    res = metrics.classification_report(target_test,prediction,output_dict=True)\n",
    "    accuracy = res['accuracy']\n",
    "    score = res['0']['f1-score']*(1-0.17)+res['1']['f1-score']*.17\n",
    "    logloss_classif = metrics.log_loss(target_test,prediction)\n",
    "    logloss_proba = metrics.log_loss(target_test,prediction_proba)\n",
    "    if show:\n",
    "        print(metrics.classification_report(target_test,prediction))\n",
    "        print_info( 'Test logloss %.4f accuracy %.4f score %.4f %s' % (logloss_proba,accuracy,score,clean_combination_name(column_names)))\n",
    "    #print(metrics.accuracy_score(target_test,prediction))\n",
    "    #print(metrics.confusion_matrix(target_test,prediction))\n",
    "    return model,accuracy,score,logloss_classif,logloss_proba\n",
    "\n",
    "def build_naivebayes_model_full(input,column_names,target,show=True):\n",
    "    #print_bullet('Multinomial Naive Bayes full on %s' % clean_combination_name(column_names))\n",
    "    input_train = pandas.DataFrame()\n",
    "    for column_name in column_names:\n",
    "        input_train[column_name]=input[column_name]\n",
    "    target_train = target\n",
    "    model=MultinomialNB()\n",
    "    model.fit(input_train,target_train)\n",
    "    prediction=model.predict(input_train)\n",
    "    prediction_proba=model.predict_proba(input_train)\n",
    "    res = metrics.classification_report(target,prediction,output_dict=True)\n",
    "    accuracy = res['accuracy']\n",
    "    score = res['0']['f1-score']*(1-0.17)+res['1']['f1-score']*.17\n",
    "    logloss_classif = metrics.log_loss(target,prediction)\n",
    "    logloss_proba = metrics.log_loss(target,prediction_proba)\n",
    "    if show:\n",
    "        print_info( 'Full logloss %.4f accuracy %.4f score %.4f %s' % (logloss_proba,accuracy,score,clean_combination_name(column_names)))\n",
    "        print(metrics.classification_report(target,prediction))\n",
    "    return model,accuracy,score,logloss_classif,logloss_proba\n",
    "\n",
    "# just in case model_results has been lost in action\n",
    "def build_model_results(models_dict):\n",
    "    results = pandas.DataFrame(models_dict).transpose()\n",
    "    results = results.drop(columns=['model_test','model_full','column_names'])\n",
    "    results['accuracy_test'] = results['accuracy_test'].astype('float64')\n",
    "    results['score_test'] = results['score_test'].astype('float64')\n",
    "    results['accuracy_full'] = results['accuracy_full'].astype('float64')\n",
    "    results['score_full'] = results['score_full'].astype('float64')\n",
    "    results['logloss_classif_test'] = results['logloss_classif_test'].astype('float64')\n",
    "    results['logloss_proba_test'] = results['logloss_proba_test'].astype('float64')\n",
    "    results['logloss_classif_full'] = results['logloss_classif_full'].astype('float64')\n",
    "    results['logloss_proba_full'] = results['logloss_proba_full'].astype('float64')\n",
    "    return results\n",
    "\n",
    "# bad design choice : a DataFrame can be more convenient than a dict\n",
    "# But then, it is convenient to suppress all non numeric/string columns\n",
    "def models_dict_to_models_results(models_dict):\n",
    "    results = pandas.DataFrame(models_dict).transpose()\n",
    "    results = results.drop(columns=['model_test','model_full','column_names'])\n",
    "    results['accuracy_test'] = results['accuracy_test'].astype('float64')\n",
    "    results['score_test'] = results['score_test'].astype('float64')\n",
    "    results['accuracy_full'] = results['accuracy_full'].astype('float64')\n",
    "    results['score_full'] = results['score_full'].astype('float64')\n",
    "    results['logloss_classif_test'] = results['logloss_classif_test'].astype('float64')\n",
    "    results['logloss_proba_test'] = results['logloss_proba_test'].astype('float64')\n",
    "    results['logloss_classif_full'] = results['logloss_classif_full'].astype('float64')\n",
    "    results['logloss_proba_full'] = results['logloss_proba_full'].astype('float64')\n",
    "    return results\n",
    "\n",
    "from tqdm.notebook import tqdm\n",
    "\n",
    "def build_model(train_dataframe,column_names,target,show=True):\n",
    "    m_t,a_t,s_t,l_c_t,l_p_t = build_naivebayes_model_with_test(train_dataframe,column_names,target,show=show)\n",
    "    m_f,a_f,s_f,l_c_f,l_p_f = build_naivebayes_model_full(train_dataframe,column_names,target,show=show)\n",
    "    print_info( '%.4f %.4f|%.4f %.4f|%.4f %.4f|%s' % (l_p_t,l_p_f,a_t,a_f,s_t,s_f,clean_combination_name(column_names)))\n",
    "    return {'column_names':column_names,'model_test':m_t,'accuracy_test':a_t,'score_test':s_t,'logloss_classif_test':l_c_t,'logloss_proba_test':l_p_t,'model_full':m_f,'accuracy_full':a_f,'score_full':s_f,'logloss_classif_full':l_c_f,'logloss_proba_full':l_p_f}\n",
    "\n",
    "def build_model_on_all_subset_of_simple_features(dataframe,target):\n",
    "    print_section('%s : Build all models (with test+full) on every combination of simple features' % EXPERIMENT)\n",
    "    models_dict = dict()\n",
    "    print_info('logloss&nbsp;&nbsp;&nbsp;&nbsp;&nbsp;&nbsp;&nbsp;accuracy&nbsp;&nbsp&nbsp;&nbsp;&nbsp;&nbsp;score&nbsp;&nbsp;&nbsp;&nbsp;&nbsp;&nbsp;&nbsp;&nbsp;&nbsp;features')\n",
    "    print_info('test&nbsp;&nbsp;&nbsp;full&nbsp;&nbsp;|test&nbsp;&nbsp;&nbsp;full&nbsp;&nbsp;|test&nbsp;&nbsp;&nbsp;full&nbsp;&nbsp;|')\n",
    "    for c in tqdm(all_subsets(all_numeric_columns(dataframe))):\n",
    "        if (len(c)) >0:\n",
    "            models_dict[clean_combination_name(c)] = build_model(dataframe,c,target,show=False)\n",
    "    print_done('Done')\n",
    "    # Design mistake : need to convert dict to dataframe :(\n",
    "    return models_dict,models_dict_to_models_results(models_dict)\n"
   ]
  },
  {
   "cell_type": "code",
   "execution_count": 9,
   "metadata": {
    "tags": []
   },
   "outputs": [
    {
     "output_type": "display_data",
     "data": {
      "text/plain": "<IPython.core.display.HTML object>",
      "text/html": "<span style=\"color:LIMEGREEN\"><small>Validation 323432 Test 80858</small></span>"
     },
     "metadata": {
      "text/html": {
       "isolated": true
      }
     }
    },
    {
     "output_type": "stream",
     "name": "stdout",
     "text": "precision    recall  f1-score   support\n\n           0       0.63      1.00      0.77     50803\n           1       0.00      0.00      0.00     30055\n\n    accuracy                           0.63     80858\n   macro avg       0.31      0.50      0.39     80858\nweighted avg       0.39      0.63      0.48     80858\n\n"
    },
    {
     "output_type": "display_data",
     "data": {
      "text/plain": "<IPython.core.display.HTML object>",
      "text/html": "<span style=\"color:LIMEGREEN\"><small>Test logloss 0.6599 accuracy 0.6283 score 0.6405 nb_words_question1</small></span>"
     },
     "metadata": {
      "text/html": {
       "isolated": true
      }
     }
    },
    {
     "output_type": "display_data",
     "data": {
      "text/plain": "<IPython.core.display.HTML object>",
      "text/html": "<span style=\"color:LIMEGREEN\"><small>Full logloss 0.6585 accuracy 0.6308 score 0.6421 nb_words_question1</small></span>"
     },
     "metadata": {
      "text/html": {
       "isolated": true
      }
     }
    },
    {
     "output_type": "stream",
     "name": "stdout",
     "text": "precision    recall  f1-score   support\n\n           0       0.63      1.00      0.77    255027\n           1       0.00      0.00      0.00    149263\n\n    accuracy                           0.63    404290\n   macro avg       0.32      0.50      0.39    404290\nweighted avg       0.40      0.63      0.49    404290\n\n"
    },
    {
     "output_type": "display_data",
     "data": {
      "text/plain": "<IPython.core.display.HTML object>",
      "text/html": "<span style=\"color:LIMEGREEN\"><small>0.6599 0.6585|0.6283 0.6308|0.6405 0.6421|nb_words_question1</small></span>"
     },
     "metadata": {
      "text/html": {
       "isolated": true
      }
     }
    },
    {
     "output_type": "display_data",
     "data": {
      "text/plain": "<IPython.core.display.HTML object>",
      "text/html": "<b>multinomial_naivebayes_unbalanced : Build all models (with test+full) on every combination of simple features</b>"
     },
     "metadata": {
      "text/html": {
       "isolated": true
      }
     }
    },
    {
     "output_type": "display_data",
     "data": {
      "text/plain": "<IPython.core.display.HTML object>",
      "text/html": "<HR>"
     },
     "metadata": {
      "text/html": {
       "isolated": true
      }
     }
    },
    {
     "output_type": "display_data",
     "data": {
      "text/plain": "<IPython.core.display.HTML object>",
      "text/html": "<span style=\"color:LIMEGREEN\"><small>logloss&nbsp;&nbsp;&nbsp;&nbsp;&nbsp;&nbsp;&nbsp;accuracy&nbsp;&nbsp&nbsp;&nbsp;&nbsp;&nbsp;score&nbsp;&nbsp;&nbsp;&nbsp;&nbsp;&nbsp;&nbsp;&nbsp;&nbsp;features</small></span>"
     },
     "metadata": {
      "text/html": {
       "isolated": true
      }
     }
    },
    {
     "output_type": "display_data",
     "data": {
      "text/plain": "<IPython.core.display.HTML object>",
      "text/html": "<span style=\"color:LIMEGREEN\"><small>test&nbsp;&nbsp;&nbsp;full&nbsp;&nbsp;|test&nbsp;&nbsp;&nbsp;full&nbsp;&nbsp;|test&nbsp;&nbsp;&nbsp;full&nbsp;&nbsp;|</small></span>"
     },
     "metadata": {
      "text/html": {
       "isolated": true
      }
     }
    },
    {
     "output_type": "display_data",
     "data": {
      "text/plain": "HBox(children=(FloatProgress(value=0.0, max=64.0), HTML(value='')))",
      "application/vnd.jupyter.widget-view+json": {
       "version_major": 2,
       "version_minor": 0,
       "model_id": "3a6313791d3f446abba55a3608be8fe6"
      }
     },
     "metadata": {}
    },
    {
     "output_type": "display_data",
     "data": {
      "text/plain": "<IPython.core.display.HTML object>",
      "text/html": "<span style=\"color:LIMEGREEN\"><small>0.6599 0.6585|0.6283 0.6308|0.6405 0.6421|nb_words_question1</small></span>"
     },
     "metadata": {
      "text/html": {
       "isolated": true
      }
     }
    },
    {
     "output_type": "display_data",
     "data": {
      "text/plain": "<IPython.core.display.HTML object>",
      "text/html": "<span style=\"color:LIMEGREEN\"><small>0.6599 0.6585|0.6283 0.6308|0.6405 0.6421|nb_words_question2</small></span>"
     },
     "metadata": {
      "text/html": {
       "isolated": true
      }
     }
    },
    {
     "output_type": "display_data",
     "data": {
      "text/plain": "<IPython.core.display.HTML object>",
      "text/html": "<span style=\"color:LIMEGREEN\"><small>0.6599 0.6585|0.6283 0.6308|0.6405 0.6421|nb_common_words</small></span>"
     },
     "metadata": {
      "text/html": {
       "isolated": true
      }
     }
    },
    {
     "output_type": "display_data",
     "data": {
      "text/plain": "<IPython.core.display.HTML object>",
      "text/html": "<span style=\"color:LIMEGREEN\"><small>0.6599 0.6585|0.6283 0.6308|0.6405 0.6421|nb_words_question1-common_words</small></span>"
     },
     "metadata": {
      "text/html": {
       "isolated": true
      }
     }
    },
    {
     "output_type": "display_data",
     "data": {
      "text/plain": "<IPython.core.display.HTML object>",
      "text/html": "<span style=\"color:LIMEGREEN\"><small>0.6599 0.6585|0.6283 0.6308|0.6405 0.6421|nb_words_question2-common_words</small></span>"
     },
     "metadata": {
      "text/html": {
       "isolated": true
      }
     }
    },
    {
     "output_type": "display_data",
     "data": {
      "text/plain": "<IPython.core.display.HTML object>",
      "text/html": "<span style=\"color:LIMEGREEN\"><small>0.6599 0.6585|0.6283 0.6308|0.6405 0.6421|nb_common_words/(nb_words_question1+nb_words_question2)</small></span>"
     },
     "metadata": {
      "text/html": {
       "isolated": true
      }
     }
    },
    {
     "output_type": "display_data",
     "data": {
      "text/plain": "<IPython.core.display.HTML object>",
      "text/html": "<span style=\"color:LIMEGREEN\"><small>0.6600 0.6583|0.6277 0.6304|0.6402 0.6418|nb_words_question1+nb_words_question2</small></span>"
     },
     "metadata": {
      "text/html": {
       "isolated": true
      }
     }
    },
    {
     "output_type": "display_data",
     "data": {
      "text/plain": "<IPython.core.display.HTML object>",
      "text/html": "<span style=\"color:LIMEGREEN\"><small>0.6069 0.6064|0.6549 0.6561|0.6977 0.6988|nb_words_question1+nb_common_words</small></span>"
     },
     "metadata": {
      "text/html": {
       "isolated": true
      }
     }
    },
    {
     "output_type": "display_data",
     "data": {
      "text/plain": "<IPython.core.display.HTML object>",
      "text/html": "<span style=\"color:LIMEGREEN\"><small>0.6054 0.6043|0.6313 0.6335|0.6724 0.6750|nb_words_question1+nb_words_question1-common_words</small></span>"
     },
     "metadata": {
      "text/html": {
       "isolated": true
      }
     }
    },
    {
     "output_type": "display_data",
     "data": {
      "text/plain": "<IPython.core.display.HTML object>",
      "text/html": "<span style=\"color:LIMEGREEN\"><small>0.6778 0.6737|0.5986 0.6004|0.6477 0.6494|nb_words_question1+nb_words_question2-common_words</small></span>"
     },
     "metadata": {
      "text/html": {
       "isolated": true
      }
     }
    },
    {
     "output_type": "display_data",
     "data": {
      "text/plain": "<IPython.core.display.HTML object>",
      "text/html": "<span style=\"color:LIMEGREEN\"><small>0.6425 0.6412|0.6283 0.6308|0.6405 0.6421|nb_words_question1+nb_common_words/(nb_words_question1+nb_words_question2)</small></span>"
     },
     "metadata": {
      "text/html": {
       "isolated": true
      }
     }
    },
    {
     "output_type": "display_data",
     "data": {
      "text/plain": "<IPython.core.display.HTML object>",
      "text/html": "<span style=\"color:LIMEGREEN\"><small>0.6093 0.6074|0.6597 0.6604|0.7015 0.7022|nb_words_question2+nb_common_words</small></span>"
     },
     "metadata": {
      "text/html": {
       "isolated": true
      }
     }
    },
    {
     "output_type": "display_data",
     "data": {
      "text/plain": "<IPython.core.display.HTML object>",
      "text/html": "<span style=\"color:LIMEGREEN\"><small>0.6699 0.6709|0.5924 0.5924|0.6431 0.6431|nb_words_question2+nb_words_question1-common_words</small></span>"
     },
     "metadata": {
      "text/html": {
       "isolated": true
      }
     }
    },
    {
     "output_type": "display_data",
     "data": {
      "text/plain": "<IPython.core.display.HTML object>",
      "text/html": "<span style=\"color:LIMEGREEN\"><small>0.6047 0.6029|0.6318 0.6340|0.6738 0.6754|nb_words_question2+nb_words_question2-common_words</small></span>"
     },
     "metadata": {
      "text/html": {
       "isolated": true
      }
     }
    },
    {
     "output_type": "display_data",
     "data": {
      "text/plain": "<IPython.core.display.HTML object>",
      "text/html": "<span style=\"color:LIMEGREEN\"><small>0.6410 0.6396|0.6283 0.6308|0.6405 0.6421|nb_words_question2+nb_common_words/(nb_words_question1+nb_words_question2)</small></span>"
     },
     "metadata": {
      "text/html": {
       "isolated": true
      }
     }
    },
    {
     "output_type": "display_data",
     "data": {
      "text/plain": "<IPython.core.display.HTML object>",
      "text/html": "<span style=\"color:LIMEGREEN\"><small>0.7654 0.7658|0.6633 0.6641|0.7003 0.7012|nb_common_words+nb_words_question1-common_words</small></span>"
     },
     "metadata": {
      "text/html": {
       "isolated": true
      }
     }
    },
    {
     "output_type": "display_data",
     "data": {
      "text/plain": "<IPython.core.display.HTML object>",
      "text/html": "<span style=\"color:LIMEGREEN\"><small>0.7853 0.7820|0.6659 0.6672|0.7017 0.7031|nb_common_words+nb_words_question2-common_words</small></span>"
     },
     "metadata": {
      "text/html": {
       "isolated": true
      }
     }
    },
    {
     "output_type": "display_data",
     "data": {
      "text/plain": "<IPython.core.display.HTML object>",
      "text/html": "<span style=\"color:LIMEGREEN\"><small>0.6591 0.6578|0.6283 0.6308|0.6405 0.6421|nb_common_words+nb_common_words/(nb_words_question1+nb_words_question2)</small></span>"
     },
     "metadata": {
      "text/html": {
       "isolated": true
      }
     }
    },
    {
     "output_type": "display_data",
     "data": {
      "text/plain": "<IPython.core.display.HTML object>",
      "text/html": "<span style=\"color:LIMEGREEN\"><small>0.6602 0.6586|0.6281 0.6307|0.6404 0.6420|nb_words_question1-common_words+nb_words_question2-common_words</small></span>"
     },
     "metadata": {
      "text/html": {
       "isolated": true
      }
     }
    },
    {
     "output_type": "display_data",
     "data": {
      "text/plain": "<IPython.core.display.HTML object>",
      "text/html": "<span style=\"color:LIMEGREEN\"><small>0.6211 0.6198|0.6283 0.6308|0.6405 0.6421|nb_words_question1-common_words+nb_common_words/(nb_words_question1+nb_words_question2)</small></span>"
     },
     "metadata": {
      "text/html": {
       "isolated": true
      }
     }
    },
    {
     "output_type": "display_data",
     "data": {
      "text/plain": "<IPython.core.display.HTML object>",
      "text/html": "<span style=\"color:LIMEGREEN\"><small>0.6192 0.6176|0.6283 0.6308|0.6405 0.6421|nb_words_question2-common_words+nb_common_words/(nb_words_question1+nb_words_question2)</small></span>"
     },
     "metadata": {
      "text/html": {
       "isolated": true
      }
     }
    },
    {
     "output_type": "display_data",
     "data": {
      "text/plain": "<IPython.core.display.HTML object>",
      "text/html": "<span style=\"color:LIMEGREEN\"><small>0.6051 0.6038|0.6626 0.6626|0.7039 0.7040|nb_words_question1+nb_words_question2+nb_common_words</small></span>"
     },
     "metadata": {
      "text/html": {
       "isolated": true
      }
     }
    },
    {
     "output_type": "display_data",
     "data": {
      "text/plain": "<IPython.core.display.HTML object>",
      "text/html": "<span style=\"color:LIMEGREEN\"><small>0.6294 0.6297|0.6257 0.6262|0.6720 0.6725|nb_words_question1+nb_words_question2+nb_words_question1-common_words</small></span>"
     },
     "metadata": {
      "text/html": {
       "isolated": true
      }
     }
    },
    {
     "output_type": "display_data",
     "data": {
      "text/plain": "<IPython.core.display.HTML object>",
      "text/html": "<span style=\"color:LIMEGREEN\"><small>0.6494 0.6457|0.6209 0.6227|0.6678 0.6694|nb_words_question1+nb_words_question2+nb_words_question2-common_words</small></span>"
     },
     "metadata": {
      "text/html": {
       "isolated": true
      }
     }
    },
    {
     "output_type": "display_data",
     "data": {
      "text/plain": "<IPython.core.display.HTML object>",
      "text/html": "<span style=\"color:LIMEGREEN\"><small>0.6417 0.6400|0.6283 0.6308|0.6405 0.6421|nb_words_question1+nb_words_question2+nb_common_words/(nb_words_question1+nb_words_question2)</small></span>"
     },
     "metadata": {
      "text/html": {
       "isolated": true
      }
     }
    },
    {
     "output_type": "display_data",
     "data": {
      "text/plain": "<IPython.core.display.HTML object>",
      "text/html": "<span style=\"color:LIMEGREEN\"><small>0.7654 0.7658|0.6633 0.6641|0.7002 0.7012|nb_words_question1+nb_common_words+nb_words_question1-common_words</small></span>"
     },
     "metadata": {
      "text/html": {
       "isolated": true
      }
     }
    },
    {
     "output_type": "display_data",
     "data": {
      "text/plain": "<IPython.core.display.HTML object>",
      "text/html": "<span style=\"color:LIMEGREEN\"><small>0.7870 0.7834|0.6658 0.6671|0.7017 0.7030|nb_words_question1+nb_common_words+nb_words_question2-common_words</small></span>"
     },
     "metadata": {
      "text/html": {
       "isolated": true
      }
     }
    },
    {
     "output_type": "display_data",
     "data": {
      "text/plain": "<IPython.core.display.HTML object>",
      "text/html": "<span style=\"color:LIMEGREEN\"><small>0.6059 0.6055|0.6576 0.6590|0.6997 0.7010|nb_words_question1+nb_common_words+nb_common_words/(nb_words_question1+nb_words_question2)</small></span>"
     },
     "metadata": {
      "text/html": {
       "isolated": true
      }
     }
    },
    {
     "output_type": "display_data",
     "data": {
      "text/plain": "<IPython.core.display.HTML object>",
      "text/html": "<span style=\"color:LIMEGREEN\"><small>0.6323 0.6292|0.6426 0.6437|0.6869 0.6880|nb_words_question1+nb_words_question1-common_words+nb_words_question2-common_words</small></span>"
     },
     "metadata": {
      "text/html": {
       "isolated": true
      }
     }
    },
    {
     "output_type": "display_data",
     "data": {
      "text/plain": "<IPython.core.display.HTML object>",
      "text/html": "<span style=\"color:LIMEGREEN\"><small>0.5996 0.5986|0.6458 0.6470|0.6893 0.6903|nb_words_question1+nb_words_question1-common_words+nb_common_words/(nb_words_question1+nb_words_question2)</small></span>"
     },
     "metadata": {
      "text/html": {
       "isolated": true
      }
     }
    },
    {
     "output_type": "display_data",
     "data": {
      "text/plain": "<IPython.core.display.HTML object>",
      "text/html": "<span style=\"color:LIMEGREEN\"><small>0.6669 0.6628|0.6117 0.6137|0.6580 0.6599|nb_words_question1+nb_words_question2-common_words+nb_common_words/(nb_words_question1+nb_words_question2)</small></span>"
     },
     "metadata": {
      "text/html": {
       "isolated": true
      }
     }
    },
    {
     "output_type": "display_data",
     "data": {
      "text/plain": "<IPython.core.display.HTML object>",
      "text/html": "<span style=\"color:LIMEGREEN\"><small>0.7575 0.7579|0.6667 0.6670|0.7033 0.7037|nb_words_question2+nb_common_words+nb_words_question1-common_words</small></span>"
     },
     "metadata": {
      "text/html": {
       "isolated": true
      }
     }
    },
    {
     "output_type": "display_data",
     "data": {
      "text/plain": "<IPython.core.display.HTML object>",
      "text/html": "<span style=\"color:LIMEGREEN\"><small>0.7852 0.7819|0.6658 0.6672|0.7017 0.7031|nb_words_question2+nb_common_words+nb_words_question2-common_words</small></span>"
     },
     "metadata": {
      "text/html": {
       "isolated": true
      }
     }
    },
    {
     "output_type": "display_data",
     "data": {
      "text/plain": "<IPython.core.display.HTML object>",
      "text/html": "<span style=\"color:LIMEGREEN\"><small>0.6092 0.6072|0.6597 0.6606|0.7012 0.7020|nb_words_question2+nb_common_words+nb_common_words/(nb_words_question1+nb_words_question2)</small></span>"
     },
     "metadata": {
      "text/html": {
       "isolated": true
      }
     }
    },
    {
     "output_type": "display_data",
     "data": {
      "text/plain": "<IPython.core.display.HTML object>",
      "text/html": "<span style=\"color:LIMEGREEN\"><small>0.6185 0.6181|0.6425 0.6442|0.6869 0.6884|nb_words_question2+nb_words_question1-common_words+nb_words_question2-common_words</small></span>"
     },
     "metadata": {
      "text/html": {
       "isolated": true
      }
     }
    },
    {
     "output_type": "display_data",
     "data": {
      "text/plain": "<IPython.core.display.HTML object>",
      "text/html": "<span style=\"color:LIMEGREEN\"><small>0.6544 0.6554|0.6071 0.6083|0.6557 0.6568|nb_words_question2+nb_words_question1-common_words+nb_common_words/(nb_words_question1+nb_words_question2)</small></span>"
     },
     "metadata": {
      "text/html": {
       "isolated": true
      }
     }
    },
    {
     "output_type": "display_data",
     "data": {
      "text/plain": "<IPython.core.display.HTML object>",
      "text/html": "<span style=\"color:LIMEGREEN\"><small>0.5992 0.5973|0.6464 0.6477|0.6901 0.6911|nb_words_question2+nb_words_question2-common_words+nb_common_words/(nb_words_question1+nb_words_question2)</small></span>"
     },
     "metadata": {
      "text/html": {
       "isolated": true
      }
     }
    },
    {
     "output_type": "display_data",
     "data": {
      "text/plain": "<IPython.core.display.HTML object>",
      "text/html": "<span style=\"color:LIMEGREEN\"><small>0.8548 0.8531|0.6734 0.6734|0.7086 0.7089|nb_common_words+nb_words_question1-common_words+nb_words_question2-common_words</small></span>"
     },
     "metadata": {
      "text/html": {
       "isolated": true
      }
     }
    },
    {
     "output_type": "display_data",
     "data": {
      "text/plain": "<IPython.core.display.HTML object>",
      "text/html": "<span style=\"color:LIMEGREEN\"><small>0.7752 0.7757|0.6640 0.6646|0.7008 0.7015|nb_common_words+nb_words_question1-common_words+nb_common_words/(nb_words_question1+nb_words_question2)</small></span>"
     },
     "metadata": {
      "text/html": {
       "isolated": true
      }
     }
    },
    {
     "output_type": "display_data",
     "data": {
      "text/plain": "<IPython.core.display.HTML object>",
      "text/html": "<span style=\"color:LIMEGREEN\"><small>0.7966 0.7933|0.6662 0.6676|0.7021 0.7035|nb_common_words+nb_words_question2-common_words+nb_common_words/(nb_words_question1+nb_words_question2)</small></span>"
     },
     "metadata": {
      "text/html": {
       "isolated": true
      }
     }
    },
    {
     "output_type": "display_data",
     "data": {
      "text/plain": "<IPython.core.display.HTML object>",
      "text/html": "<span style=\"color:LIMEGREEN\"><small>0.6191 0.6174|0.6283 0.6308|0.6405 0.6421|nb_words_question1-common_words+nb_words_question2-common_words+nb_common_words/(nb_words_question1+nb_words_question2)</small></span>"
     },
     "metadata": {
      "text/html": {
       "isolated": true
      }
     }
    },
    {
     "output_type": "display_data",
     "data": {
      "text/plain": "<IPython.core.display.HTML object>",
      "text/html": "<span style=\"color:LIMEGREEN\"><small>0.7565 0.7571|0.6668 0.6672|0.7035 0.7039|nb_words_question1+nb_words_question2+nb_common_words+nb_words_question1-common_words</small></span>"
     },
     "metadata": {
      "text/html": {
       "isolated": true
      }
     }
    },
    {
     "output_type": "display_data",
     "data": {
      "text/plain": "<IPython.core.display.HTML object>",
      "text/html": "<span style=\"color:LIMEGREEN\"><small>0.7906 0.7868|0.6642 0.6660|0.7005 0.7021|nb_words_question1+nb_words_question2+nb_common_words+nb_words_question2-common_words</small></span>"
     },
     "metadata": {
      "text/html": {
       "isolated": true
      }
     }
    },
    {
     "output_type": "display_data",
     "data": {
      "text/plain": "<IPython.core.display.HTML object>",
      "text/html": "<span style=\"color:LIMEGREEN\"><small>0.6058 0.6045|0.6642 0.6658|0.7049 0.7062|nb_words_question1+nb_words_question2+nb_common_words+nb_common_words/(nb_words_question1+nb_words_question2)</small></span>"
     },
     "metadata": {
      "text/html": {
       "isolated": true
      }
     }
    },
    {
     "output_type": "display_data",
     "data": {
      "text/plain": "<IPython.core.display.HTML object>",
      "text/html": "<span style=\"color:LIMEGREEN\"><small>0.6256 0.6237|0.6582 0.6584|0.7004 0.7007|nb_words_question1+nb_words_question2+nb_words_question1-common_words+nb_words_question2-common_words</small></span>"
     },
     "metadata": {
      "text/html": {
       "isolated": true
      }
     }
    },
    {
     "output_type": "display_data",
     "data": {
      "text/plain": "<IPython.core.display.HTML object>",
      "text/html": "<span style=\"color:LIMEGREEN\"><small>0.6225 0.6228|0.6376 0.6385|0.6826 0.6834|nb_words_question1+nb_words_question2+nb_words_question1-common_words+nb_common_words/(nb_words_question1+nb_words_question2)</small></span>"
     },
     "metadata": {
      "text/html": {
       "isolated": true
      }
     }
    },
    {
     "output_type": "display_data",
     "data": {
      "text/plain": "<IPython.core.display.HTML object>",
      "text/html": "<span style=\"color:LIMEGREEN\"><small>0.6444 0.6407|0.6310 0.6322|0.6757 0.6769|nb_words_question1+nb_words_question2+nb_words_question2-common_words+nb_common_words/(nb_words_question1+nb_words_question2)</small></span>"
     },
     "metadata": {
      "text/html": {
       "isolated": true
      }
     }
    },
    {
     "output_type": "display_data",
     "data": {
      "text/plain": "<IPython.core.display.HTML object>",
      "text/html": "<span style=\"color:LIMEGREEN\"><small>0.8838 0.8814|0.6730 0.6732|0.7081 0.7084|nb_words_question1+nb_common_words+nb_words_question1-common_words+nb_words_question2-common_words</small></span>"
     },
     "metadata": {
      "text/html": {
       "isolated": true
      }
     }
    },
    {
     "output_type": "display_data",
     "data": {
      "text/plain": "<IPython.core.display.HTML object>",
      "text/html": "<span style=\"color:LIMEGREEN\"><small>0.7754 0.7759|0.6645 0.6650|0.7011 0.7017|nb_words_question1+nb_common_words+nb_words_question1-common_words+nb_common_words/(nb_words_question1+nb_words_question2)</small></span>"
     },
     "metadata": {
      "text/html": {
       "isolated": true
      }
     }
    },
    {
     "output_type": "display_data",
     "data": {
      "text/plain": "<IPython.core.display.HTML object>",
      "text/html": "<span style=\"color:LIMEGREEN\"><small>0.7961 0.7925|0.6664 0.6676|0.7023 0.7035|nb_words_question1+nb_common_words+nb_words_question2-common_words+nb_common_words/(nb_words_question1+nb_words_question2)</small></span>"
     },
     "metadata": {
      "text/html": {
       "isolated": true
      }
     }
    },
    {
     "output_type": "display_data",
     "data": {
      "text/plain": "<IPython.core.display.HTML object>",
      "text/html": "<span style=\"color:LIMEGREEN\"><small>0.6293 0.6263|0.6525 0.6545|0.6946 0.6964|nb_words_question1+nb_words_question1-common_words+nb_words_question2-common_words+nb_common_words/(nb_words_question1+nb_words_question2)</small></span>"
     },
     "metadata": {
      "text/html": {
       "isolated": true
      }
     }
    },
    {
     "output_type": "display_data",
     "data": {
      "text/plain": "<IPython.core.display.HTML object>",
      "text/html": "<span style=\"color:LIMEGREEN\"><small>0.8742 0.8728|0.6735 0.6735|0.7086 0.7089|nb_words_question2+nb_common_words+nb_words_question1-common_words+nb_words_question2-common_words</small></span>"
     },
     "metadata": {
      "text/html": {
       "isolated": true
      }
     }
    },
    {
     "output_type": "display_data",
     "data": {
      "text/plain": "<IPython.core.display.HTML object>",
      "text/html": "<span style=\"color:LIMEGREEN\"><small>0.7660 0.7665|0.6677 0.6677|0.7038 0.7040|nb_words_question2+nb_common_words+nb_words_question1-common_words+nb_common_words/(nb_words_question1+nb_words_question2)</small></span>"
     },
     "metadata": {
      "text/html": {
       "isolated": true
      }
     }
    },
    {
     "output_type": "display_data",
     "data": {
      "text/plain": "<IPython.core.display.HTML object>",
      "text/html": "<span style=\"color:LIMEGREEN\"><small>0.7970 0.7936|0.6662 0.6675|0.7020 0.7034|nb_words_question2+nb_common_words+nb_words_question2-common_words+nb_common_words/(nb_words_question1+nb_words_question2)</small></span>"
     },
     "metadata": {
      "text/html": {
       "isolated": true
      }
     }
    },
    {
     "output_type": "display_data",
     "data": {
      "text/plain": "<IPython.core.display.HTML object>",
      "text/html": "<span style=\"color:LIMEGREEN\"><small>0.6139 0.6135|0.6519 0.6526|0.6950 0.6957|nb_words_question2+nb_words_question1-common_words+nb_words_question2-common_words+nb_common_words/(nb_words_question1+nb_words_question2)</small></span>"
     },
     "metadata": {
      "text/html": {
       "isolated": true
      }
     }
    },
    {
     "output_type": "display_data",
     "data": {
      "text/plain": "<IPython.core.display.HTML object>",
      "text/html": "<span style=\"color:LIMEGREEN\"><small>0.8747 0.8730|0.6737 0.6735|0.7083 0.7084|nb_common_words+nb_words_question1-common_words+nb_words_question2-common_words+nb_common_words/(nb_words_question1+nb_words_question2)</small></span>"
     },
     "metadata": {
      "text/html": {
       "isolated": true
      }
     }
    },
    {
     "output_type": "display_data",
     "data": {
      "text/plain": "<IPython.core.display.HTML object>",
      "text/html": "<span style=\"color:LIMEGREEN\"><small>0.8887 0.8866|0.6728 0.6730|0.7079 0.7083|nb_words_question1+nb_words_question2+nb_common_words+nb_words_question1-common_words+nb_words_question2-common_words</small></span>"
     },
     "metadata": {
      "text/html": {
       "isolated": true
      }
     }
    },
    {
     "output_type": "display_data",
     "data": {
      "text/plain": "<IPython.core.display.HTML object>",
      "text/html": "<span style=\"color:LIMEGREEN\"><small>0.7657 0.7663|0.6677 0.6678|0.7038 0.7041|nb_words_question1+nb_words_question2+nb_common_words+nb_words_question1-common_words+nb_common_words/(nb_words_question1+nb_words_question2)</small></span>"
     },
     "metadata": {
      "text/html": {
       "isolated": true
      }
     }
    },
    {
     "output_type": "display_data",
     "data": {
      "text/plain": "<IPython.core.display.HTML object>",
      "text/html": "<span style=\"color:LIMEGREEN\"><small>0.8005 0.7968|0.6653 0.6669|0.7013 0.7028|nb_words_question1+nb_words_question2+nb_common_words+nb_words_question2-common_words+nb_common_words/(nb_words_question1+nb_words_question2)</small></span>"
     },
     "metadata": {
      "text/html": {
       "isolated": true
      }
     }
    },
    {
     "output_type": "display_data",
     "data": {
      "text/plain": "<IPython.core.display.HTML object>",
      "text/html": "<span style=\"color:LIMEGREEN\"><small>0.6302 0.6282|0.6618 0.6622|0.7030 0.7034|nb_words_question1+nb_words_question2+nb_words_question1-common_words+nb_words_question2-common_words+nb_common_words/(nb_words_question1+nb_words_question2)</small></span>"
     },
     "metadata": {
      "text/html": {
       "isolated": true
      }
     }
    },
    {
     "output_type": "display_data",
     "data": {
      "text/plain": "<IPython.core.display.HTML object>",
      "text/html": "<span style=\"color:LIMEGREEN\"><small>0.9005 0.8982|0.6731 0.6732|0.7076 0.7080|nb_words_question1+nb_common_words+nb_words_question1-common_words+nb_words_question2-common_words+nb_common_words/(nb_words_question1+nb_words_question2)</small></span>"
     },
     "metadata": {
      "text/html": {
       "isolated": true
      }
     }
    },
    {
     "output_type": "display_data",
     "data": {
      "text/plain": "<IPython.core.display.HTML object>",
      "text/html": "<span style=\"color:LIMEGREEN\"><small>0.8914 0.8900|0.6736 0.6735|0.7081 0.7083|nb_words_question2+nb_common_words+nb_words_question1-common_words+nb_words_question2-common_words+nb_common_words/(nb_words_question1+nb_words_question2)</small></span>"
     },
     "metadata": {
      "text/html": {
       "isolated": true
      }
     }
    },
    {
     "output_type": "display_data",
     "data": {
      "text/plain": "<IPython.core.display.HTML object>",
      "text/html": "<span style=\"color:LIMEGREEN\"><small>0.9047 0.9026|0.6731 0.6730|0.7076 0.7078|nb_words_question1+nb_words_question2+nb_common_words+nb_words_question1-common_words+nb_words_question2-common_words+nb_common_words/(nb_words_question1+nb_words_question2)</small></span>"
     },
     "metadata": {
      "text/html": {
       "isolated": true
      }
     }
    },
    {
     "output_type": "stream",
     "name": "stdout",
     "text": "\n"
    },
    {
     "output_type": "display_data",
     "data": {
      "text/plain": "<IPython.core.display.HTML object>",
      "text/html": "<span style=\"color:LIMEGREEN\"><small><b><i>Done</i></b><p></p></small></span>"
     },
     "metadata": {
      "text/html": {
       "isolated": true
      }
     }
    }
   ],
   "source": [
    "\n",
    "# build one model \n",
    "model = build_model(train_dataframe,['nb_words_question1'],train_dataframe['is_duplicate'])\n",
    "# build ALL models\n",
    "# 2 very important global variables: all_models_dict & model_results\n",
    "all_models_dict,model_results = build_model_on_all_subset_of_simple_features(train_dataframe,train_dataframe['is_duplicate'])\n"
   ]
  },
  {
   "cell_type": "markdown",
   "metadata": {},
   "source": [
    "Some code for an easy apply (display kaggle command for subscription)"
   ]
  },
  {
   "cell_type": "code",
   "execution_count": 10,
   "metadata": {
    "tags": []
   },
   "outputs": [],
   "source": [
    "# Suppose global variable all_models_dict is available !\n",
    "\n",
    "# kind is 'test or 'full'\n",
    "def retrieve_model(model_key,kind):\n",
    "    combination_results = all_models_dict[model_key]\n",
    "    column_names = combination_results['column_names']\n",
    "    model = combination_results['model_'+kind]\n",
    "    return model,numpy.asarray(column_names)\n",
    "    \n",
    "# return a dataframe fully ready to be converted in csv and published into kaggle\n",
    "def simple_apply(model_key,input_dataframe,kind,proba=True):\n",
    "    model,column_names=retrieve_model(model_key,kind)\n",
    "    input_for_prediction=input_dataframe[column_names]\n",
    "    res = pandas.DataFrame()\n",
    "    if 'test_id' in input_dataframe.columns:\n",
    "        res['test_id']=input_dataframe['test_id']\n",
    "    if proba:\n",
    "        res['is_duplicate']=pandas.Series(model.predict_proba(input_for_prediction)[:,1],name='is_duplicate')\n",
    "    else:\n",
    "        res['is_duplicate']=pandas.Series(model.predict(input_for_prediction),name='is_duplicate')\n",
    "    return res\n",
    "\n",
    "\n",
    "def show_docker_cp_command(absolute_file_name):\n",
    "    return 'docker cp '+ DOCKER_IMAGE_NAME+':'+zip_file_name(absolute_file_name)+ ' c:\\\\temp\\\\outputs'\n",
    "\n",
    "def show_kaggle_command(absolute_file_name):\n",
    "    return 'kaggle competitions submit quora-question-pairs -f \"' + zip_file_name(absolute_file_name) +'\" -m \"' + absolute_file_name +'\"'\n",
    "\n",
    "def show_docker_cp_commands(best_results):\n",
    "    print_section('Use these commands to transfer apply results to windows host')\n",
    "    for c in best_results['file_name'].apply(show_docker_cp_command):\n",
    "        print_warning(c)\n",
    "    print_done(\"\")\n",
    "\n",
    "def show_kaggle_commands(best_results):\n",
    "    print_section('Use these commands to submit apply results to kaggle')\n",
    "    for c in best_results['file_name'].apply(show_kaggle_command):\n",
    "        print_warning(c)\n",
    "    print_done(\"\")\n",
    "   \n",
    "\n",
    "def submit_model(criteria,kind,input_dataframe,model_key,proba=True,show_how_to_publish=True,kaggle=False):\n",
    "    absolute_file_name_csv = apply_absolute_file_name(criteria,kind,model_key)\n",
    "    print_info('Doing apply')\n",
    "    prediction = simple_apply(model_key,input_dataframe,kind,proba)\n",
    "    print_info('Generating CSV file')\n",
    "    prediction.to_csv(absolute_file_name_csv,index=False)\n",
    "    print_info('Zipping file')\n",
    "    absolute_file_name_zip = zip_file_and_delete(absolute_file_name_csv)\n",
    "    print_info('%s is ready' % absolute_file_name_csv)\n",
    "    if show_how_to_publish:\n",
    "        if kaggle:\n",
    "            print_warning('Use this commands to submit apply results to kaggle')\n",
    "            print_warning(show_kaggle_command(absolute_file_name_zip))\n",
    "        else:\n",
    "            print_warning('Use this command to transfer apply _results to Windows host')\n",
    "            print_warning(show_docker_cp_command(absolute_file_name_csv))\n",
    "\n",
    "# suppose global variable model_results is available\n",
    "def find_best_models(top,criteria,kind):\n",
    "    if 'logloss' in criteria:\n",
    "        return model_results.nsmallest(top,criteria+'_'+kind)\n",
    "    else:\n",
    "        return model_results.nlargest(top,criteria+'_'+kind)\n",
    "\n",
    "def submit_best_models(top,criteria,kind,input_dataframe,proba=True,kaggle=False):\n",
    "    print_section('Submit best %d %s models by %s' % (top,kind,criteria))\n",
    "    best_models = find_best_models(top,criteria,kind)\n",
    "    best_models['model_key']=numpy.asarray(best_models.index)\n",
    "    #best_models['file_name']=numpy.array([apply_file_name(criteria,kind,n) for n in best_models.index])\n",
    "    best_models['file_name']=best_models['model_key'].apply(lambda mk: apply_absolute_file_name(criteria,kind,mk))\n",
    "    best_models['model_key'].apply(lambda mk: submit_model(criteria,kind,input_dataframe,mk,proba=proba,show_how_to_publish=False,kaggle=kaggle))\n",
    "    best_models['docker']=best_models['file_name'].apply(show_docker_cp_command)\n",
    "    best_models['kaggle']=best_models['file_name'].apply(show_kaggle_command)\n",
    "    print_done('Done')\n",
    "    if kaggle:\n",
    "        show_kaggle_commands(best_models)\n",
    "    else:\n",
    "        show_docker_cp_commands(best_models)\n",
    "    return best_models\n",
    "\n"
   ]
  },
  {
   "cell_type": "code",
   "execution_count": 11,
   "metadata": {},
   "outputs": [
    {
     "output_type": "execute_result",
     "data": {
      "text/plain": "                                                                                                            accuracy_test  score_test  logloss_classif_test  logloss_proba_test  accuracy_full  \\\nnb_words_question2+nb_words_question2-common_words+nb_common_words/(nb_words_question1+nb_words_question2)       0.646392    0.690074             12.213254            0.599169       0.647656   \nnb_words_question1+nb_words_question1-common_words+nb_common_words/(nb_words_question1+nb_words_question2)       0.645762    0.689335             12.235036            0.599585       0.646956   \n\n                                                                                                            score_full  logloss_classif_full  logloss_proba_full  \nnb_words_question2+nb_words_question2-common_words+nb_common_words/(nb_words_question1+nb_words_question2)    0.691144             12.169600            0.597289  \nnb_words_question1+nb_words_question1-common_words+nb_common_words/(nb_words_question1+nb_words_question2)    0.690319             12.193774            0.598615  ",
      "text/html": "<div>\n<style scoped>\n    .dataframe tbody tr th:only-of-type {\n        vertical-align: middle;\n    }\n\n    .dataframe tbody tr th {\n        vertical-align: top;\n    }\n\n    .dataframe thead th {\n        text-align: right;\n    }\n</style>\n<table border=\"1\" class=\"dataframe\">\n  <thead>\n    <tr style=\"text-align: right;\">\n      <th></th>\n      <th>accuracy_test</th>\n      <th>score_test</th>\n      <th>logloss_classif_test</th>\n      <th>logloss_proba_test</th>\n      <th>accuracy_full</th>\n      <th>score_full</th>\n      <th>logloss_classif_full</th>\n      <th>logloss_proba_full</th>\n    </tr>\n  </thead>\n  <tbody>\n    <tr>\n      <th>nb_words_question2+nb_words_question2-common_words+nb_common_words/(nb_words_question1+nb_words_question2)</th>\n      <td>0.646392</td>\n      <td>0.690074</td>\n      <td>12.213254</td>\n      <td>0.599169</td>\n      <td>0.647656</td>\n      <td>0.691144</td>\n      <td>12.169600</td>\n      <td>0.597289</td>\n    </tr>\n    <tr>\n      <th>nb_words_question1+nb_words_question1-common_words+nb_common_words/(nb_words_question1+nb_words_question2)</th>\n      <td>0.645762</td>\n      <td>0.689335</td>\n      <td>12.235036</td>\n      <td>0.599585</td>\n      <td>0.646956</td>\n      <td>0.690319</td>\n      <td>12.193774</td>\n      <td>0.598615</td>\n    </tr>\n  </tbody>\n</table>\n</div>"
     },
     "metadata": {},
     "execution_count": 11
    }
   ],
   "source": [
    "retrieve_model('nb_common_words+nb_common_words/(nb_words_question1+nb_words_question2)','full')\n",
    "simple_apply('nb_common_words+nb_common_words/(nb_words_question1+nb_words_question2)',challenge_dataframe,'full')\n",
    "find_best_models(2,'logloss_proba','full')\n",
    "#submit_best_models('accuracy','full',train_dataframe)\n",
    "#submit_best_models('score','full',challenge_dataframe)\n",
    "# best_accuracy_full_models = submit_best_models(3,'accuracy','full',challenge_dataframe)\n",
    "# show_docker_cp_commands(best_accuracy_full_models)\n"
   ]
  },
  {
   "cell_type": "markdown",
   "metadata": {},
   "source": [
    "## Find the best models for all metrics"
   ]
  },
  {
   "cell_type": "code",
   "execution_count": 12,
   "metadata": {
    "tags": []
   },
   "outputs": [
    {
     "output_type": "stream",
     "name": "stdout",
     "text": "63 models have been trained\n\nmax metrix\n accuracy_test                                                 nb_common_words+nb_words_question1-common_words+nb_words_question2-common_words+nb_common_words/(nb_words_question1+nb_words_question2)\nscore_test                                                                                                            nb_common_words+nb_words_question1-common_words+nb_words_question2-common_words\nlogloss_classif_test                                                                                                                               nb_words_question2+nb_words_question1-common_words\nlogloss_proba_test      nb_words_question1+nb_words_question2+nb_common_words+nb_words_question1-common_words+nb_words_question2-common_words+nb_common_words/(nb_words_question1+nb_words_question2)\naccuracy_full                                                                                      nb_words_question2+nb_common_words+nb_words_question1-common_words+nb_words_question2-common_words\nscore_full                                                                                                            nb_common_words+nb_words_question1-common_words+nb_words_question2-common_words\nlogloss_classif_full                                                                                                                               nb_words_question2+nb_words_question1-common_words\nlogloss_proba_full      nb_words_question1+nb_words_question2+nb_common_words+nb_words_question1-common_words+nb_words_question2-common_words+nb_common_words/(nb_words_question1+nb_words_question2)\ndtype: object\n\nmin metrix\n accuracy_test                                                                                                nb_words_question2+nb_words_question1-common_words\nscore_test                                                                                                                nb_words_question1+nb_words_question2\nlogloss_classif_test    nb_common_words+nb_words_question1-common_words+nb_words_question2-common_words+nb_common_words/(nb_words_question1+nb_words_question2)\nlogloss_proba_test                                   nb_words_question2+nb_words_question2-common_words+nb_common_words/(nb_words_question1+nb_words_question2)\naccuracy_full                                                                                                nb_words_question2+nb_words_question1-common_words\nscore_full                                                                                                                nb_words_question1+nb_words_question2\nlogloss_classif_full                                         nb_words_question2+nb_common_words+nb_words_question1-common_words+nb_words_question2-common_words\nlogloss_proba_full                                   nb_words_question2+nb_words_question2-common_words+nb_common_words/(nb_words_question1+nb_words_question2)\ndtype: object\n"
    }
   ],
   "source": [
    "print('%d models have been trained' %len(all_models_dict))\n",
    "print('\\nmax metrix\\n',model_results.idxmax())\n",
    "print('\\nmin metrix\\n',model_results.idxmin())"
   ]
  },
  {
   "cell_type": "markdown",
   "metadata": {},
   "source": [
    "## Apply full models with best logloss \n"
   ]
  },
  {
   "cell_type": "code",
   "execution_count": 13,
   "metadata": {
    "tags": []
   },
   "outputs": [
    {
     "output_type": "display_data",
     "data": {
      "text/plain": "<IPython.core.display.HTML object>",
      "text/html": "<b>Submit best 3 test models by logloss_proba</b>"
     },
     "metadata": {
      "text/html": {
       "isolated": true
      }
     }
    },
    {
     "output_type": "display_data",
     "data": {
      "text/plain": "<IPython.core.display.HTML object>",
      "text/html": "<HR>"
     },
     "metadata": {
      "text/html": {
       "isolated": true
      }
     }
    },
    {
     "output_type": "display_data",
     "data": {
      "text/plain": "<IPython.core.display.HTML object>",
      "text/html": "<span style=\"color:LIMEGREEN\"><small>Doing apply</small></span>"
     },
     "metadata": {
      "text/html": {
       "isolated": true
      }
     }
    },
    {
     "output_type": "display_data",
     "data": {
      "text/plain": "<IPython.core.display.HTML object>",
      "text/html": "<span style=\"color:LIMEGREEN\"><small>Generating CSV file</small></span>"
     },
     "metadata": {
      "text/html": {
       "isolated": true
      }
     }
    },
    {
     "output_type": "display_data",
     "data": {
      "text/plain": "<IPython.core.display.HTML object>",
      "text/html": "<span style=\"color:LIMEGREEN\"><small>Zipping file</small></span>"
     },
     "metadata": {
      "text/html": {
       "isolated": true
      }
     }
    },
    {
     "output_type": "display_data",
     "data": {
      "text/plain": "<IPython.core.display.HTML object>",
      "text/html": "<span style=\"color:LIMEGREEN\"><small>/SAPDevelop/QuoraPairs/multinomial_naivebayes_unbalanced/multinomial_naivebayes_unbalanced$logloss_proba$test$nb_words_question2+nb_words_question2-common_words+nb_common_words_div_(nb_words_question1+nb_words_question2).csv is ready</small></span>"
     },
     "metadata": {
      "text/html": {
       "isolated": true
      }
     }
    },
    {
     "output_type": "display_data",
     "data": {
      "text/plain": "<IPython.core.display.HTML object>",
      "text/html": "<span style=\"color:LIMEGREEN\"><small>Doing apply</small></span>"
     },
     "metadata": {
      "text/html": {
       "isolated": true
      }
     }
    },
    {
     "output_type": "display_data",
     "data": {
      "text/plain": "<IPython.core.display.HTML object>",
      "text/html": "<span style=\"color:LIMEGREEN\"><small>Generating CSV file</small></span>"
     },
     "metadata": {
      "text/html": {
       "isolated": true
      }
     }
    },
    {
     "output_type": "display_data",
     "data": {
      "text/plain": "<IPython.core.display.HTML object>",
      "text/html": "<span style=\"color:LIMEGREEN\"><small>Zipping file</small></span>"
     },
     "metadata": {
      "text/html": {
       "isolated": true
      }
     }
    },
    {
     "output_type": "display_data",
     "data": {
      "text/plain": "<IPython.core.display.HTML object>",
      "text/html": "<span style=\"color:LIMEGREEN\"><small>/SAPDevelop/QuoraPairs/multinomial_naivebayes_unbalanced/multinomial_naivebayes_unbalanced$logloss_proba$test$nb_words_question1+nb_words_question1-common_words+nb_common_words_div_(nb_words_question1+nb_words_question2).csv is ready</small></span>"
     },
     "metadata": {
      "text/html": {
       "isolated": true
      }
     }
    },
    {
     "output_type": "display_data",
     "data": {
      "text/plain": "<IPython.core.display.HTML object>",
      "text/html": "<span style=\"color:LIMEGREEN\"><small>Doing apply</small></span>"
     },
     "metadata": {
      "text/html": {
       "isolated": true
      }
     }
    },
    {
     "output_type": "display_data",
     "data": {
      "text/plain": "<IPython.core.display.HTML object>",
      "text/html": "<span style=\"color:LIMEGREEN\"><small>Generating CSV file</small></span>"
     },
     "metadata": {
      "text/html": {
       "isolated": true
      }
     }
    },
    {
     "output_type": "display_data",
     "data": {
      "text/plain": "<IPython.core.display.HTML object>",
      "text/html": "<span style=\"color:LIMEGREEN\"><small>Zipping file</small></span>"
     },
     "metadata": {
      "text/html": {
       "isolated": true
      }
     }
    },
    {
     "output_type": "display_data",
     "data": {
      "text/plain": "<IPython.core.display.HTML object>",
      "text/html": "<span style=\"color:LIMEGREEN\"><small>/SAPDevelop/QuoraPairs/multinomial_naivebayes_unbalanced/multinomial_naivebayes_unbalanced$logloss_proba$test$nb_words_question2+nb_words_question2-common_words.csv is ready</small></span>"
     },
     "metadata": {
      "text/html": {
       "isolated": true
      }
     }
    },
    {
     "output_type": "display_data",
     "data": {
      "text/plain": "<IPython.core.display.HTML object>",
      "text/html": "<span style=\"color:LIMEGREEN\"><small><b><i>Done</i></b><p></p></small></span>"
     },
     "metadata": {
      "text/html": {
       "isolated": true
      }
     }
    },
    {
     "output_type": "display_data",
     "data": {
      "text/plain": "<IPython.core.display.HTML object>",
      "text/html": "<b>Use these commands to submit apply results to kaggle</b>"
     },
     "metadata": {
      "text/html": {
       "isolated": true
      }
     }
    },
    {
     "output_type": "display_data",
     "data": {
      "text/plain": "<IPython.core.display.HTML object>",
      "text/html": "<HR>"
     },
     "metadata": {
      "text/html": {
       "isolated": true
      }
     }
    },
    {
     "output_type": "display_data",
     "data": {
      "text/plain": "<IPython.core.display.HTML object>",
      "text/html": "<span style=\"color:LIGHTSALMON\"><small>kaggle competitions submit quora-question-pairs -f \"/SAPDevelop/QuoraPairs/multinomial_naivebayes_unbalanced/multinomial_naivebayes_unbalanced$logloss_proba$test$nb_words_question2+nb_words_question2-common_words+nb_common_words_div_(nb_words_question1+nb_words_question2).zip\" -m \"/SAPDevelop/QuoraPairs/multinomial_naivebayes_unbalanced/multinomial_naivebayes_unbalanced$logloss_proba$test$nb_words_question2+nb_words_question2-common_words+nb_common_words_div_(nb_words_question1+nb_words_question2).csv\"</small></span>"
     },
     "metadata": {
      "text/html": {
       "isolated": true
      }
     }
    },
    {
     "output_type": "display_data",
     "data": {
      "text/plain": "<IPython.core.display.HTML object>",
      "text/html": "<span style=\"color:LIGHTSALMON\"><small>kaggle competitions submit quora-question-pairs -f \"/SAPDevelop/QuoraPairs/multinomial_naivebayes_unbalanced/multinomial_naivebayes_unbalanced$logloss_proba$test$nb_words_question1+nb_words_question1-common_words+nb_common_words_div_(nb_words_question1+nb_words_question2).zip\" -m \"/SAPDevelop/QuoraPairs/multinomial_naivebayes_unbalanced/multinomial_naivebayes_unbalanced$logloss_proba$test$nb_words_question1+nb_words_question1-common_words+nb_common_words_div_(nb_words_question1+nb_words_question2).csv\"</small></span>"
     },
     "metadata": {
      "text/html": {
       "isolated": true
      }
     }
    },
    {
     "output_type": "display_data",
     "data": {
      "text/plain": "<IPython.core.display.HTML object>",
      "text/html": "<span style=\"color:LIGHTSALMON\"><small>kaggle competitions submit quora-question-pairs -f \"/SAPDevelop/QuoraPairs/multinomial_naivebayes_unbalanced/multinomial_naivebayes_unbalanced$logloss_proba$test$nb_words_question2+nb_words_question2-common_words.zip\" -m \"/SAPDevelop/QuoraPairs/multinomial_naivebayes_unbalanced/multinomial_naivebayes_unbalanced$logloss_proba$test$nb_words_question2+nb_words_question2-common_words.csv\"</small></span>"
     },
     "metadata": {
      "text/html": {
       "isolated": true
      }
     }
    },
    {
     "output_type": "display_data",
     "data": {
      "text/plain": "<IPython.core.display.HTML object>",
      "text/html": "<span style=\"color:LIMEGREEN\"><small><b><i></i></b><p></p></small></span>"
     },
     "metadata": {
      "text/html": {
       "isolated": true
      }
     }
    },
    {
     "output_type": "display_data",
     "data": {
      "text/plain": "<IPython.core.display.HTML object>",
      "text/html": "<b>Submit best 3 full models by logloss_proba</b>"
     },
     "metadata": {
      "text/html": {
       "isolated": true
      }
     }
    },
    {
     "output_type": "display_data",
     "data": {
      "text/plain": "<IPython.core.display.HTML object>",
      "text/html": "<HR>"
     },
     "metadata": {
      "text/html": {
       "isolated": true
      }
     }
    },
    {
     "output_type": "display_data",
     "data": {
      "text/plain": "<IPython.core.display.HTML object>",
      "text/html": "<span style=\"color:LIMEGREEN\"><small>Doing apply</small></span>"
     },
     "metadata": {
      "text/html": {
       "isolated": true
      }
     }
    },
    {
     "output_type": "display_data",
     "data": {
      "text/plain": "<IPython.core.display.HTML object>",
      "text/html": "<span style=\"color:LIMEGREEN\"><small>Generating CSV file</small></span>"
     },
     "metadata": {
      "text/html": {
       "isolated": true
      }
     }
    },
    {
     "output_type": "display_data",
     "data": {
      "text/plain": "<IPython.core.display.HTML object>",
      "text/html": "<span style=\"color:LIMEGREEN\"><small>Zipping file</small></span>"
     },
     "metadata": {
      "text/html": {
       "isolated": true
      }
     }
    },
    {
     "output_type": "display_data",
     "data": {
      "text/plain": "<IPython.core.display.HTML object>",
      "text/html": "<span style=\"color:LIMEGREEN\"><small>/SAPDevelop/QuoraPairs/multinomial_naivebayes_unbalanced/multinomial_naivebayes_unbalanced$logloss_proba$full$nb_words_question2+nb_words_question2-common_words+nb_common_words_div_(nb_words_question1+nb_words_question2).csv is ready</small></span>"
     },
     "metadata": {
      "text/html": {
       "isolated": true
      }
     }
    },
    {
     "output_type": "display_data",
     "data": {
      "text/plain": "<IPython.core.display.HTML object>",
      "text/html": "<span style=\"color:LIMEGREEN\"><small>Doing apply</small></span>"
     },
     "metadata": {
      "text/html": {
       "isolated": true
      }
     }
    },
    {
     "output_type": "display_data",
     "data": {
      "text/plain": "<IPython.core.display.HTML object>",
      "text/html": "<span style=\"color:LIMEGREEN\"><small>Generating CSV file</small></span>"
     },
     "metadata": {
      "text/html": {
       "isolated": true
      }
     }
    },
    {
     "output_type": "display_data",
     "data": {
      "text/plain": "<IPython.core.display.HTML object>",
      "text/html": "<span style=\"color:LIMEGREEN\"><small>Zipping file</small></span>"
     },
     "metadata": {
      "text/html": {
       "isolated": true
      }
     }
    },
    {
     "output_type": "display_data",
     "data": {
      "text/plain": "<IPython.core.display.HTML object>",
      "text/html": "<span style=\"color:LIMEGREEN\"><small>/SAPDevelop/QuoraPairs/multinomial_naivebayes_unbalanced/multinomial_naivebayes_unbalanced$logloss_proba$full$nb_words_question1+nb_words_question1-common_words+nb_common_words_div_(nb_words_question1+nb_words_question2).csv is ready</small></span>"
     },
     "metadata": {
      "text/html": {
       "isolated": true
      }
     }
    },
    {
     "output_type": "display_data",
     "data": {
      "text/plain": "<IPython.core.display.HTML object>",
      "text/html": "<span style=\"color:LIMEGREEN\"><small>Doing apply</small></span>"
     },
     "metadata": {
      "text/html": {
       "isolated": true
      }
     }
    },
    {
     "output_type": "display_data",
     "data": {
      "text/plain": "<IPython.core.display.HTML object>",
      "text/html": "<span style=\"color:LIMEGREEN\"><small>Generating CSV file</small></span>"
     },
     "metadata": {
      "text/html": {
       "isolated": true
      }
     }
    },
    {
     "output_type": "display_data",
     "data": {
      "text/plain": "<IPython.core.display.HTML object>",
      "text/html": "<span style=\"color:LIMEGREEN\"><small>Zipping file</small></span>"
     },
     "metadata": {
      "text/html": {
       "isolated": true
      }
     }
    },
    {
     "output_type": "display_data",
     "data": {
      "text/plain": "<IPython.core.display.HTML object>",
      "text/html": "<span style=\"color:LIMEGREEN\"><small>/SAPDevelop/QuoraPairs/multinomial_naivebayes_unbalanced/multinomial_naivebayes_unbalanced$logloss_proba$full$nb_words_question2+nb_words_question2-common_words.csv is ready</small></span>"
     },
     "metadata": {
      "text/html": {
       "isolated": true
      }
     }
    },
    {
     "output_type": "display_data",
     "data": {
      "text/plain": "<IPython.core.display.HTML object>",
      "text/html": "<span style=\"color:LIMEGREEN\"><small><b><i>Done</i></b><p></p></small></span>"
     },
     "metadata": {
      "text/html": {
       "isolated": true
      }
     }
    },
    {
     "output_type": "display_data",
     "data": {
      "text/plain": "<IPython.core.display.HTML object>",
      "text/html": "<b>Use these commands to submit apply results to kaggle</b>"
     },
     "metadata": {
      "text/html": {
       "isolated": true
      }
     }
    },
    {
     "output_type": "display_data",
     "data": {
      "text/plain": "<IPython.core.display.HTML object>",
      "text/html": "<HR>"
     },
     "metadata": {
      "text/html": {
       "isolated": true
      }
     }
    },
    {
     "output_type": "display_data",
     "data": {
      "text/plain": "<IPython.core.display.HTML object>",
      "text/html": "<span style=\"color:LIGHTSALMON\"><small>kaggle competitions submit quora-question-pairs -f \"/SAPDevelop/QuoraPairs/multinomial_naivebayes_unbalanced/multinomial_naivebayes_unbalanced$logloss_proba$full$nb_words_question2+nb_words_question2-common_words+nb_common_words_div_(nb_words_question1+nb_words_question2).zip\" -m \"/SAPDevelop/QuoraPairs/multinomial_naivebayes_unbalanced/multinomial_naivebayes_unbalanced$logloss_proba$full$nb_words_question2+nb_words_question2-common_words+nb_common_words_div_(nb_words_question1+nb_words_question2).csv\"</small></span>"
     },
     "metadata": {
      "text/html": {
       "isolated": true
      }
     }
    },
    {
     "output_type": "display_data",
     "data": {
      "text/plain": "<IPython.core.display.HTML object>",
      "text/html": "<span style=\"color:LIGHTSALMON\"><small>kaggle competitions submit quora-question-pairs -f \"/SAPDevelop/QuoraPairs/multinomial_naivebayes_unbalanced/multinomial_naivebayes_unbalanced$logloss_proba$full$nb_words_question1+nb_words_question1-common_words+nb_common_words_div_(nb_words_question1+nb_words_question2).zip\" -m \"/SAPDevelop/QuoraPairs/multinomial_naivebayes_unbalanced/multinomial_naivebayes_unbalanced$logloss_proba$full$nb_words_question1+nb_words_question1-common_words+nb_common_words_div_(nb_words_question1+nb_words_question2).csv\"</small></span>"
     },
     "metadata": {
      "text/html": {
       "isolated": true
      }
     }
    },
    {
     "output_type": "display_data",
     "data": {
      "text/plain": "<IPython.core.display.HTML object>",
      "text/html": "<span style=\"color:LIGHTSALMON\"><small>kaggle competitions submit quora-question-pairs -f \"/SAPDevelop/QuoraPairs/multinomial_naivebayes_unbalanced/multinomial_naivebayes_unbalanced$logloss_proba$full$nb_words_question2+nb_words_question2-common_words.zip\" -m \"/SAPDevelop/QuoraPairs/multinomial_naivebayes_unbalanced/multinomial_naivebayes_unbalanced$logloss_proba$full$nb_words_question2+nb_words_question2-common_words.csv\"</small></span>"
     },
     "metadata": {
      "text/html": {
       "isolated": true
      }
     }
    },
    {
     "output_type": "display_data",
     "data": {
      "text/plain": "<IPython.core.display.HTML object>",
      "text/html": "<span style=\"color:LIMEGREEN\"><small><b><i></i></b><p></p></small></span>"
     },
     "metadata": {
      "text/html": {
       "isolated": true
      }
     }
    }
   ],
   "source": [
    "#best_accuracy_full_models = submit_best_models(3,'accuracy','full',challenge_dataframe)\n",
    "#show_docker_cp_commands(best_accuracy_full_models)\n",
    "#best_score_full_models = submit_best_models(3,'score','full',challenge_dataframe)\n",
    "#show_docker_cp_commands(best_score_full_models)\n",
    "#best_accuracy_test_models = submit_best_models(3,'accuracy','test',challenge_dataframe)\n",
    "#show_docker_cp_commands(best_accuracy_test_models)\n",
    "#best_score_test_models = submit_best_models(3,'score','test',challenge_dataframe)\n",
    "#show_docker_cp_commands(best_score_test_models)\n",
    "best_logloss_proba_test = submit_best_models(3,'logloss_proba','test',challenge_dataframe,kaggle=True)\n",
    "best_logloss_proba_full = submit_best_models(3,'logloss_proba','full',challenge_dataframe,kaggle=True)\n",
    "\n"
   ]
  },
  {
   "cell_type": "code",
   "execution_count": 14,
   "metadata": {
    "tags": []
   },
   "outputs": [
    {
     "output_type": "display_data",
     "data": {
      "text/plain": "<IPython.core.display.HTML object>",
      "text/html": "<b>Use these commands to transfer apply results to windows host</b>"
     },
     "metadata": {
      "text/html": {
       "isolated": true
      }
     }
    },
    {
     "output_type": "display_data",
     "data": {
      "text/plain": "<IPython.core.display.HTML object>",
      "text/html": "<HR>"
     },
     "metadata": {
      "text/html": {
       "isolated": true
      }
     }
    },
    {
     "output_type": "display_data",
     "data": {
      "text/plain": "<IPython.core.display.HTML object>",
      "text/html": "<span style=\"color:LIGHTSALMON\"><small>docker cp dev_ds_1:/SAPDevelop/QuoraPairs/multinomial_naivebayes_unbalanced/multinomial_naivebayes_unbalanced$logloss_proba$full$nb_words_question2+nb_words_question2-common_words+nb_common_words_div_(nb_words_question1+nb_words_question2).zip c:\\temp\\outputs</small></span>"
     },
     "metadata": {
      "text/html": {
       "isolated": true
      }
     }
    },
    {
     "output_type": "display_data",
     "data": {
      "text/plain": "<IPython.core.display.HTML object>",
      "text/html": "<span style=\"color:LIGHTSALMON\"><small>docker cp dev_ds_1:/SAPDevelop/QuoraPairs/multinomial_naivebayes_unbalanced/multinomial_naivebayes_unbalanced$logloss_proba$full$nb_words_question1+nb_words_question1-common_words+nb_common_words_div_(nb_words_question1+nb_words_question2).zip c:\\temp\\outputs</small></span>"
     },
     "metadata": {
      "text/html": {
       "isolated": true
      }
     }
    },
    {
     "output_type": "display_data",
     "data": {
      "text/plain": "<IPython.core.display.HTML object>",
      "text/html": "<span style=\"color:LIGHTSALMON\"><small>docker cp dev_ds_1:/SAPDevelop/QuoraPairs/multinomial_naivebayes_unbalanced/multinomial_naivebayes_unbalanced$logloss_proba$full$nb_words_question2+nb_words_question2-common_words.zip c:\\temp\\outputs</small></span>"
     },
     "metadata": {
      "text/html": {
       "isolated": true
      }
     }
    },
    {
     "output_type": "display_data",
     "data": {
      "text/plain": "<IPython.core.display.HTML object>",
      "text/html": "<span style=\"color:LIMEGREEN\"><small><b><i></i></b><p></p></small></span>"
     },
     "metadata": {
      "text/html": {
       "isolated": true
      }
     }
    },
    {
     "output_type": "display_data",
     "data": {
      "text/plain": "<IPython.core.display.HTML object>",
      "text/html": "<b>Use these commands to submit apply results to kaggle</b>"
     },
     "metadata": {
      "text/html": {
       "isolated": true
      }
     }
    },
    {
     "output_type": "display_data",
     "data": {
      "text/plain": "<IPython.core.display.HTML object>",
      "text/html": "<HR>"
     },
     "metadata": {
      "text/html": {
       "isolated": true
      }
     }
    },
    {
     "output_type": "display_data",
     "data": {
      "text/plain": "<IPython.core.display.HTML object>",
      "text/html": "<span style=\"color:LIGHTSALMON\"><small>kaggle competitions submit quora-question-pairs -f \"/SAPDevelop/QuoraPairs/multinomial_naivebayes_unbalanced/multinomial_naivebayes_unbalanced$logloss_proba$full$nb_words_question2+nb_words_question2-common_words+nb_common_words_div_(nb_words_question1+nb_words_question2).zip\" -m \"/SAPDevelop/QuoraPairs/multinomial_naivebayes_unbalanced/multinomial_naivebayes_unbalanced$logloss_proba$full$nb_words_question2+nb_words_question2-common_words+nb_common_words_div_(nb_words_question1+nb_words_question2).csv\"</small></span>"
     },
     "metadata": {
      "text/html": {
       "isolated": true
      }
     }
    },
    {
     "output_type": "display_data",
     "data": {
      "text/plain": "<IPython.core.display.HTML object>",
      "text/html": "<span style=\"color:LIGHTSALMON\"><small>kaggle competitions submit quora-question-pairs -f \"/SAPDevelop/QuoraPairs/multinomial_naivebayes_unbalanced/multinomial_naivebayes_unbalanced$logloss_proba$full$nb_words_question1+nb_words_question1-common_words+nb_common_words_div_(nb_words_question1+nb_words_question2).zip\" -m \"/SAPDevelop/QuoraPairs/multinomial_naivebayes_unbalanced/multinomial_naivebayes_unbalanced$logloss_proba$full$nb_words_question1+nb_words_question1-common_words+nb_common_words_div_(nb_words_question1+nb_words_question2).csv\"</small></span>"
     },
     "metadata": {
      "text/html": {
       "isolated": true
      }
     }
    },
    {
     "output_type": "display_data",
     "data": {
      "text/plain": "<IPython.core.display.HTML object>",
      "text/html": "<span style=\"color:LIGHTSALMON\"><small>kaggle competitions submit quora-question-pairs -f \"/SAPDevelop/QuoraPairs/multinomial_naivebayes_unbalanced/multinomial_naivebayes_unbalanced$logloss_proba$full$nb_words_question2+nb_words_question2-common_words.zip\" -m \"/SAPDevelop/QuoraPairs/multinomial_naivebayes_unbalanced/multinomial_naivebayes_unbalanced$logloss_proba$full$nb_words_question2+nb_words_question2-common_words.csv\"</small></span>"
     },
     "metadata": {
      "text/html": {
       "isolated": true
      }
     }
    },
    {
     "output_type": "display_data",
     "data": {
      "text/plain": "<IPython.core.display.HTML object>",
      "text/html": "<span style=\"color:LIMEGREEN\"><small><b><i></i></b><p></p></small></span>"
     },
     "metadata": {
      "text/html": {
       "isolated": true
      }
     }
    }
   ],
   "source": [
    "show_docker_cp_commands(best_logloss_proba_full)\n",
    "show_kaggle_commands(best_logloss_proba_full)"
   ]
  },
  {
   "cell_type": "markdown",
   "metadata": {},
   "source": [
    "## Manual submission"
   ]
  },
  {
   "cell_type": "code",
   "execution_count": 15,
   "metadata": {
    "tags": []
   },
   "outputs": [
    {
     "output_type": "display_data",
     "data": {
      "text/plain": "<IPython.core.display.HTML object>",
      "text/html": "<span style=\"color:LIMEGREEN\"><small>Doing apply</small></span>"
     },
     "metadata": {
      "text/html": {
       "isolated": true
      }
     }
    },
    {
     "output_type": "display_data",
     "data": {
      "text/plain": "<IPython.core.display.HTML object>",
      "text/html": "<span style=\"color:LIMEGREEN\"><small>Generating CSV file</small></span>"
     },
     "metadata": {
      "text/html": {
       "isolated": true
      }
     }
    },
    {
     "output_type": "display_data",
     "data": {
      "text/plain": "<IPython.core.display.HTML object>",
      "text/html": "<span style=\"color:LIMEGREEN\"><small>Zipping file</small></span>"
     },
     "metadata": {
      "text/html": {
       "isolated": true
      }
     }
    },
    {
     "output_type": "display_data",
     "data": {
      "text/plain": "<IPython.core.display.HTML object>",
      "text/html": "<span style=\"color:LIMEGREEN\"><small>/SAPDevelop/QuoraPairs/multinomial_naivebayes_unbalanced/multinomial_naivebayes_unbalanced$score$full$nb_common_words_div_(nb_words_question1+nb_words_question2).csv is ready</small></span>"
     },
     "metadata": {
      "text/html": {
       "isolated": true
      }
     }
    },
    {
     "output_type": "display_data",
     "data": {
      "text/plain": "<IPython.core.display.HTML object>",
      "text/html": "<span style=\"color:LIGHTSALMON\"><small>Use this command to transfer apply _results to Windows host</small></span>"
     },
     "metadata": {
      "text/html": {
       "isolated": true
      }
     }
    },
    {
     "output_type": "display_data",
     "data": {
      "text/plain": "<IPython.core.display.HTML object>",
      "text/html": "<span style=\"color:LIGHTSALMON\"><small>docker cp dev_ds_1:/SAPDevelop/QuoraPairs/multinomial_naivebayes_unbalanced/multinomial_naivebayes_unbalanced$score$full$nb_common_words_div_(nb_words_question1+nb_words_question2).zip c:\\temp\\outputs</small></span>"
     },
     "metadata": {
      "text/html": {
       "isolated": true
      }
     }
    }
   ],
   "source": [
    "submit_model('score','full',challenge_dataframe,'nb_common_words/(nb_words_question1+nb_words_question2)',kaggle=true)"
   ]
  },
  {
   "cell_type": "code",
   "execution_count": 16,
   "metadata": {
    "tags": []
   },
   "outputs": [
    {
     "output_type": "display_data",
     "data": {
      "text/plain": "<IPython.core.display.HTML object>",
      "text/html": "<b>Submit best models by ['accuracy', 'score', 'logloss_classif', 'logloss_proba']x['full', 'test']</b>"
     },
     "metadata": {
      "text/html": {
       "isolated": true
      }
     }
    },
    {
     "output_type": "display_data",
     "data": {
      "text/plain": "<IPython.core.display.HTML object>",
      "text/html": "<HR>"
     },
     "metadata": {
      "text/html": {
       "isolated": true
      }
     }
    },
    {
     "output_type": "display_data",
     "data": {
      "text/plain": "HBox(children=(FloatProgress(value=0.0, max=4.0), HTML(value='')))",
      "application/vnd.jupyter.widget-view+json": {
       "version_major": 2,
       "version_minor": 0,
       "model_id": "59b22ecee3244cf98ac08b054f7467e1"
      }
     },
     "metadata": {}
    },
    {
     "output_type": "display_data",
     "data": {
      "text/plain": "<IPython.core.display.HTML object>",
      "text/html": "<span style=\"color:LIMEGREEN\"><small>Best accuracy_full</small></span>"
     },
     "metadata": {
      "text/html": {
       "isolated": true
      }
     }
    },
    {
     "output_type": "display_data",
     "data": {
      "text/plain": "<IPython.core.display.HTML object>",
      "text/html": "<span style=\"color:LIMEGREEN\"><small>Doing apply</small></span>"
     },
     "metadata": {
      "text/html": {
       "isolated": true
      }
     }
    },
    {
     "output_type": "display_data",
     "data": {
      "text/plain": "<IPython.core.display.HTML object>",
      "text/html": "<span style=\"color:LIMEGREEN\"><small>Generating CSV file</small></span>"
     },
     "metadata": {
      "text/html": {
       "isolated": true
      }
     }
    },
    {
     "output_type": "display_data",
     "data": {
      "text/plain": "<IPython.core.display.HTML object>",
      "text/html": "<span style=\"color:LIMEGREEN\"><small>Zipping file</small></span>"
     },
     "metadata": {
      "text/html": {
       "isolated": true
      }
     }
    },
    {
     "output_type": "display_data",
     "data": {
      "text/plain": "<IPython.core.display.HTML object>",
      "text/html": "<span style=\"color:LIMEGREEN\"><small>/SAPDevelop/QuoraPairs/multinomial_naivebayes_unbalanced/multinomial_naivebayes_unbalanced$accuracy$full$nb_words_question2+nb_common_words+nb_words_question1-common_words+nb_words_question2-common_words.csv is ready</small></span>"
     },
     "metadata": {
      "text/html": {
       "isolated": true
      }
     }
    },
    {
     "output_type": "display_data",
     "data": {
      "text/plain": "<IPython.core.display.HTML object>",
      "text/html": "<span style=\"color:LIMEGREEN\"><small>Best accuracy_test</small></span>"
     },
     "metadata": {
      "text/html": {
       "isolated": true
      }
     }
    },
    {
     "output_type": "display_data",
     "data": {
      "text/plain": "<IPython.core.display.HTML object>",
      "text/html": "<span style=\"color:LIMEGREEN\"><small>Doing apply</small></span>"
     },
     "metadata": {
      "text/html": {
       "isolated": true
      }
     }
    },
    {
     "output_type": "display_data",
     "data": {
      "text/plain": "<IPython.core.display.HTML object>",
      "text/html": "<span style=\"color:LIMEGREEN\"><small>Generating CSV file</small></span>"
     },
     "metadata": {
      "text/html": {
       "isolated": true
      }
     }
    },
    {
     "output_type": "display_data",
     "data": {
      "text/plain": "<IPython.core.display.HTML object>",
      "text/html": "<span style=\"color:LIMEGREEN\"><small>Zipping file</small></span>"
     },
     "metadata": {
      "text/html": {
       "isolated": true
      }
     }
    },
    {
     "output_type": "display_data",
     "data": {
      "text/plain": "<IPython.core.display.HTML object>",
      "text/html": "<span style=\"color:LIMEGREEN\"><small>/SAPDevelop/QuoraPairs/multinomial_naivebayes_unbalanced/multinomial_naivebayes_unbalanced$accuracy$test$nb_common_words+nb_words_question1-common_words+nb_words_question2-common_words+nb_common_words_div_(nb_words_question1+nb_words_question2).csv is ready</small></span>"
     },
     "metadata": {
      "text/html": {
       "isolated": true
      }
     }
    },
    {
     "output_type": "display_data",
     "data": {
      "text/plain": "<IPython.core.display.HTML object>",
      "text/html": "<span style=\"color:LIMEGREEN\"><small>Best score_full</small></span>"
     },
     "metadata": {
      "text/html": {
       "isolated": true
      }
     }
    },
    {
     "output_type": "display_data",
     "data": {
      "text/plain": "<IPython.core.display.HTML object>",
      "text/html": "<span style=\"color:LIMEGREEN\"><small>Doing apply</small></span>"
     },
     "metadata": {
      "text/html": {
       "isolated": true
      }
     }
    },
    {
     "output_type": "display_data",
     "data": {
      "text/plain": "<IPython.core.display.HTML object>",
      "text/html": "<span style=\"color:LIMEGREEN\"><small>Generating CSV file</small></span>"
     },
     "metadata": {
      "text/html": {
       "isolated": true
      }
     }
    },
    {
     "output_type": "display_data",
     "data": {
      "text/plain": "<IPython.core.display.HTML object>",
      "text/html": "<span style=\"color:LIMEGREEN\"><small>Zipping file</small></span>"
     },
     "metadata": {
      "text/html": {
       "isolated": true
      }
     }
    },
    {
     "output_type": "display_data",
     "data": {
      "text/plain": "<IPython.core.display.HTML object>",
      "text/html": "<span style=\"color:LIMEGREEN\"><small>/SAPDevelop/QuoraPairs/multinomial_naivebayes_unbalanced/multinomial_naivebayes_unbalanced$score$full$nb_common_words+nb_words_question1-common_words+nb_words_question2-common_words.csv is ready</small></span>"
     },
     "metadata": {
      "text/html": {
       "isolated": true
      }
     }
    },
    {
     "output_type": "display_data",
     "data": {
      "text/plain": "<IPython.core.display.HTML object>",
      "text/html": "<span style=\"color:LIMEGREEN\"><small>Best score_test</small></span>"
     },
     "metadata": {
      "text/html": {
       "isolated": true
      }
     }
    },
    {
     "output_type": "display_data",
     "data": {
      "text/plain": "<IPython.core.display.HTML object>",
      "text/html": "<span style=\"color:LIMEGREEN\"><small>Doing apply</small></span>"
     },
     "metadata": {
      "text/html": {
       "isolated": true
      }
     }
    },
    {
     "output_type": "display_data",
     "data": {
      "text/plain": "<IPython.core.display.HTML object>",
      "text/html": "<span style=\"color:LIMEGREEN\"><small>Generating CSV file</small></span>"
     },
     "metadata": {
      "text/html": {
       "isolated": true
      }
     }
    },
    {
     "output_type": "display_data",
     "data": {
      "text/plain": "<IPython.core.display.HTML object>",
      "text/html": "<span style=\"color:LIMEGREEN\"><small>Zipping file</small></span>"
     },
     "metadata": {
      "text/html": {
       "isolated": true
      }
     }
    },
    {
     "output_type": "display_data",
     "data": {
      "text/plain": "<IPython.core.display.HTML object>",
      "text/html": "<span style=\"color:LIMEGREEN\"><small>/SAPDevelop/QuoraPairs/multinomial_naivebayes_unbalanced/multinomial_naivebayes_unbalanced$score$test$nb_common_words+nb_words_question1-common_words+nb_words_question2-common_words.csv is ready</small></span>"
     },
     "metadata": {
      "text/html": {
       "isolated": true
      }
     }
    },
    {
     "output_type": "display_data",
     "data": {
      "text/plain": "<IPython.core.display.HTML object>",
      "text/html": "<span style=\"color:LIMEGREEN\"><small>Best logloss_classif_full</small></span>"
     },
     "metadata": {
      "text/html": {
       "isolated": true
      }
     }
    },
    {
     "output_type": "display_data",
     "data": {
      "text/plain": "<IPython.core.display.HTML object>",
      "text/html": "<span style=\"color:LIMEGREEN\"><small>Doing apply</small></span>"
     },
     "metadata": {
      "text/html": {
       "isolated": true
      }
     }
    },
    {
     "output_type": "display_data",
     "data": {
      "text/plain": "<IPython.core.display.HTML object>",
      "text/html": "<span style=\"color:LIMEGREEN\"><small>Generating CSV file</small></span>"
     },
     "metadata": {
      "text/html": {
       "isolated": true
      }
     }
    },
    {
     "output_type": "display_data",
     "data": {
      "text/plain": "<IPython.core.display.HTML object>",
      "text/html": "<span style=\"color:LIMEGREEN\"><small>Zipping file</small></span>"
     },
     "metadata": {
      "text/html": {
       "isolated": true
      }
     }
    },
    {
     "output_type": "display_data",
     "data": {
      "text/plain": "<IPython.core.display.HTML object>",
      "text/html": "<span style=\"color:LIMEGREEN\"><small>/SAPDevelop/QuoraPairs/multinomial_naivebayes_unbalanced/multinomial_naivebayes_unbalanced$logloss_classif$full$nb_words_question2+nb_common_words+nb_words_question1-common_words+nb_words_question2-common_words.csv is ready</small></span>"
     },
     "metadata": {
      "text/html": {
       "isolated": true
      }
     }
    },
    {
     "output_type": "display_data",
     "data": {
      "text/plain": "<IPython.core.display.HTML object>",
      "text/html": "<span style=\"color:LIMEGREEN\"><small>Best logloss_classif_test</small></span>"
     },
     "metadata": {
      "text/html": {
       "isolated": true
      }
     }
    },
    {
     "output_type": "display_data",
     "data": {
      "text/plain": "<IPython.core.display.HTML object>",
      "text/html": "<span style=\"color:LIMEGREEN\"><small>Doing apply</small></span>"
     },
     "metadata": {
      "text/html": {
       "isolated": true
      }
     }
    },
    {
     "output_type": "display_data",
     "data": {
      "text/plain": "<IPython.core.display.HTML object>",
      "text/html": "<span style=\"color:LIMEGREEN\"><small>Generating CSV file</small></span>"
     },
     "metadata": {
      "text/html": {
       "isolated": true
      }
     }
    },
    {
     "output_type": "display_data",
     "data": {
      "text/plain": "<IPython.core.display.HTML object>",
      "text/html": "<span style=\"color:LIMEGREEN\"><small>Zipping file</small></span>"
     },
     "metadata": {
      "text/html": {
       "isolated": true
      }
     }
    },
    {
     "output_type": "display_data",
     "data": {
      "text/plain": "<IPython.core.display.HTML object>",
      "text/html": "<span style=\"color:LIMEGREEN\"><small>/SAPDevelop/QuoraPairs/multinomial_naivebayes_unbalanced/multinomial_naivebayes_unbalanced$logloss_classif$test$nb_common_words+nb_words_question1-common_words+nb_words_question2-common_words+nb_common_words_div_(nb_words_question1+nb_words_question2).csv is ready</small></span>"
     },
     "metadata": {
      "text/html": {
       "isolated": true
      }
     }
    },
    {
     "output_type": "display_data",
     "data": {
      "text/plain": "<IPython.core.display.HTML object>",
      "text/html": "<span style=\"color:LIMEGREEN\"><small>Best logloss_proba_full</small></span>"
     },
     "metadata": {
      "text/html": {
       "isolated": true
      }
     }
    },
    {
     "output_type": "display_data",
     "data": {
      "text/plain": "<IPython.core.display.HTML object>",
      "text/html": "<span style=\"color:LIMEGREEN\"><small>Doing apply</small></span>"
     },
     "metadata": {
      "text/html": {
       "isolated": true
      }
     }
    },
    {
     "output_type": "display_data",
     "data": {
      "text/plain": "<IPython.core.display.HTML object>",
      "text/html": "<span style=\"color:LIMEGREEN\"><small>Generating CSV file</small></span>"
     },
     "metadata": {
      "text/html": {
       "isolated": true
      }
     }
    },
    {
     "output_type": "display_data",
     "data": {
      "text/plain": "<IPython.core.display.HTML object>",
      "text/html": "<span style=\"color:LIMEGREEN\"><small>Zipping file</small></span>"
     },
     "metadata": {
      "text/html": {
       "isolated": true
      }
     }
    },
    {
     "output_type": "display_data",
     "data": {
      "text/plain": "<IPython.core.display.HTML object>",
      "text/html": "<span style=\"color:LIMEGREEN\"><small>/SAPDevelop/QuoraPairs/multinomial_naivebayes_unbalanced/multinomial_naivebayes_unbalanced$logloss_proba$full$nb_words_question2+nb_words_question2-common_words+nb_common_words_div_(nb_words_question1+nb_words_question2).csv is ready</small></span>"
     },
     "metadata": {
      "text/html": {
       "isolated": true
      }
     }
    },
    {
     "output_type": "display_data",
     "data": {
      "text/plain": "<IPython.core.display.HTML object>",
      "text/html": "<span style=\"color:LIMEGREEN\"><small>Best logloss_proba_test</small></span>"
     },
     "metadata": {
      "text/html": {
       "isolated": true
      }
     }
    },
    {
     "output_type": "display_data",
     "data": {
      "text/plain": "<IPython.core.display.HTML object>",
      "text/html": "<span style=\"color:LIMEGREEN\"><small>Doing apply</small></span>"
     },
     "metadata": {
      "text/html": {
       "isolated": true
      }
     }
    },
    {
     "output_type": "display_data",
     "data": {
      "text/plain": "<IPython.core.display.HTML object>",
      "text/html": "<span style=\"color:LIMEGREEN\"><small>Generating CSV file</small></span>"
     },
     "metadata": {
      "text/html": {
       "isolated": true
      }
     }
    },
    {
     "output_type": "display_data",
     "data": {
      "text/plain": "<IPython.core.display.HTML object>",
      "text/html": "<span style=\"color:LIMEGREEN\"><small>Zipping file</small></span>"
     },
     "metadata": {
      "text/html": {
       "isolated": true
      }
     }
    },
    {
     "output_type": "display_data",
     "data": {
      "text/plain": "<IPython.core.display.HTML object>",
      "text/html": "<span style=\"color:LIMEGREEN\"><small>/SAPDevelop/QuoraPairs/multinomial_naivebayes_unbalanced/multinomial_naivebayes_unbalanced$logloss_proba$test$nb_words_question2+nb_words_question2-common_words+nb_common_words_div_(nb_words_question1+nb_words_question2).csv is ready</small></span>"
     },
     "metadata": {
      "text/html": {
       "isolated": true
      }
     }
    },
    {
     "output_type": "stream",
     "name": "stdout",
     "text": "\n"
    },
    {
     "output_type": "display_data",
     "data": {
      "text/plain": "<IPython.core.display.HTML object>",
      "text/html": "<span style=\"color:LIMEGREEN\"><small><b><i>Done</i></b><p></p></small></span>"
     },
     "metadata": {
      "text/html": {
       "isolated": true
      }
     }
    },
    {
     "output_type": "display_data",
     "data": {
      "text/plain": "<IPython.core.display.HTML object>",
      "text/html": "<b>Use these commands to submit apply results to kaggle</b>"
     },
     "metadata": {
      "text/html": {
       "isolated": true
      }
     }
    },
    {
     "output_type": "display_data",
     "data": {
      "text/plain": "<IPython.core.display.HTML object>",
      "text/html": "<HR>"
     },
     "metadata": {
      "text/html": {
       "isolated": true
      }
     }
    },
    {
     "output_type": "display_data",
     "data": {
      "text/plain": "<IPython.core.display.HTML object>",
      "text/html": "<span style=\"color:LIGHTSALMON\"><small>kaggle competitions submit quora-question-pairs -f \"/SAPDevelop/QuoraPairs/multinomial_naivebayes_unbalanced/multinomial_naivebayes_unbalanced$accuracy$full$nb_words_question2+nb_common_words+nb_words_question1-common_words+nb_words_question2-common_words.zip\" -m \"/SAPDevelop/QuoraPairs/multinomial_naivebayes_unbalanced/multinomial_naivebayes_unbalanced$accuracy$full$nb_words_question2+nb_common_words+nb_words_question1-common_words+nb_words_question2-common_words.csv\"</small></span>"
     },
     "metadata": {
      "text/html": {
       "isolated": true
      }
     }
    },
    {
     "output_type": "display_data",
     "data": {
      "text/plain": "<IPython.core.display.HTML object>",
      "text/html": "<span style=\"color:LIGHTSALMON\"><small>kaggle competitions submit quora-question-pairs -f \"/SAPDevelop/QuoraPairs/multinomial_naivebayes_unbalanced/multinomial_naivebayes_unbalanced$accuracy$test$nb_common_words+nb_words_question1-common_words+nb_words_question2-common_words+nb_common_words_div_(nb_words_question1+nb_words_question2).zip\" -m \"/SAPDevelop/QuoraPairs/multinomial_naivebayes_unbalanced/multinomial_naivebayes_unbalanced$accuracy$test$nb_common_words+nb_words_question1-common_words+nb_words_question2-common_words+nb_common_words_div_(nb_words_question1+nb_words_question2).csv\"</small></span>"
     },
     "metadata": {
      "text/html": {
       "isolated": true
      }
     }
    },
    {
     "output_type": "display_data",
     "data": {
      "text/plain": "<IPython.core.display.HTML object>",
      "text/html": "<span style=\"color:LIGHTSALMON\"><small>kaggle competitions submit quora-question-pairs -f \"/SAPDevelop/QuoraPairs/multinomial_naivebayes_unbalanced/multinomial_naivebayes_unbalanced$score$full$nb_common_words+nb_words_question1-common_words+nb_words_question2-common_words.zip\" -m \"/SAPDevelop/QuoraPairs/multinomial_naivebayes_unbalanced/multinomial_naivebayes_unbalanced$score$full$nb_common_words+nb_words_question1-common_words+nb_words_question2-common_words.csv\"</small></span>"
     },
     "metadata": {
      "text/html": {
       "isolated": true
      }
     }
    },
    {
     "output_type": "display_data",
     "data": {
      "text/plain": "<IPython.core.display.HTML object>",
      "text/html": "<span style=\"color:LIGHTSALMON\"><small>kaggle competitions submit quora-question-pairs -f \"/SAPDevelop/QuoraPairs/multinomial_naivebayes_unbalanced/multinomial_naivebayes_unbalanced$score$test$nb_common_words+nb_words_question1-common_words+nb_words_question2-common_words.zip\" -m \"/SAPDevelop/QuoraPairs/multinomial_naivebayes_unbalanced/multinomial_naivebayes_unbalanced$score$test$nb_common_words+nb_words_question1-common_words+nb_words_question2-common_words.csv\"</small></span>"
     },
     "metadata": {
      "text/html": {
       "isolated": true
      }
     }
    },
    {
     "output_type": "display_data",
     "data": {
      "text/plain": "<IPython.core.display.HTML object>",
      "text/html": "<span style=\"color:LIGHTSALMON\"><small>kaggle competitions submit quora-question-pairs -f \"/SAPDevelop/QuoraPairs/multinomial_naivebayes_unbalanced/multinomial_naivebayes_unbalanced$logloss_classif$full$nb_words_question2+nb_common_words+nb_words_question1-common_words+nb_words_question2-common_words.zip\" -m \"/SAPDevelop/QuoraPairs/multinomial_naivebayes_unbalanced/multinomial_naivebayes_unbalanced$logloss_classif$full$nb_words_question2+nb_common_words+nb_words_question1-common_words+nb_words_question2-common_words.csv\"</small></span>"
     },
     "metadata": {
      "text/html": {
       "isolated": true
      }
     }
    },
    {
     "output_type": "display_data",
     "data": {
      "text/plain": "<IPython.core.display.HTML object>",
      "text/html": "<span style=\"color:LIGHTSALMON\"><small>kaggle competitions submit quora-question-pairs -f \"/SAPDevelop/QuoraPairs/multinomial_naivebayes_unbalanced/multinomial_naivebayes_unbalanced$logloss_classif$test$nb_common_words+nb_words_question1-common_words+nb_words_question2-common_words+nb_common_words_div_(nb_words_question1+nb_words_question2).zip\" -m \"/SAPDevelop/QuoraPairs/multinomial_naivebayes_unbalanced/multinomial_naivebayes_unbalanced$logloss_classif$test$nb_common_words+nb_words_question1-common_words+nb_words_question2-common_words+nb_common_words_div_(nb_words_question1+nb_words_question2).csv\"</small></span>"
     },
     "metadata": {
      "text/html": {
       "isolated": true
      }
     }
    },
    {
     "output_type": "display_data",
     "data": {
      "text/plain": "<IPython.core.display.HTML object>",
      "text/html": "<span style=\"color:LIGHTSALMON\"><small>kaggle competitions submit quora-question-pairs -f \"/SAPDevelop/QuoraPairs/multinomial_naivebayes_unbalanced/multinomial_naivebayes_unbalanced$logloss_proba$full$nb_words_question2+nb_words_question2-common_words+nb_common_words_div_(nb_words_question1+nb_words_question2).zip\" -m \"/SAPDevelop/QuoraPairs/multinomial_naivebayes_unbalanced/multinomial_naivebayes_unbalanced$logloss_proba$full$nb_words_question2+nb_words_question2-common_words+nb_common_words_div_(nb_words_question1+nb_words_question2).csv\"</small></span>"
     },
     "metadata": {
      "text/html": {
       "isolated": true
      }
     }
    },
    {
     "output_type": "display_data",
     "data": {
      "text/plain": "<IPython.core.display.HTML object>",
      "text/html": "<span style=\"color:LIGHTSALMON\"><small>kaggle competitions submit quora-question-pairs -f \"/SAPDevelop/QuoraPairs/multinomial_naivebayes_unbalanced/multinomial_naivebayes_unbalanced$logloss_proba$test$nb_words_question2+nb_words_question2-common_words+nb_common_words_div_(nb_words_question1+nb_words_question2).zip\" -m \"/SAPDevelop/QuoraPairs/multinomial_naivebayes_unbalanced/multinomial_naivebayes_unbalanced$logloss_proba$test$nb_words_question2+nb_words_question2-common_words+nb_common_words_div_(nb_words_question1+nb_words_question2).csv\"</small></span>"
     },
     "metadata": {
      "text/html": {
       "isolated": true
      }
     }
    },
    {
     "output_type": "display_data",
     "data": {
      "text/plain": "<IPython.core.display.HTML object>",
      "text/html": "<span style=\"color:LIMEGREEN\"><small><b><i></i></b><p></p></small></span>"
     },
     "metadata": {
      "text/html": {
       "isolated": true
      }
     }
    },
    {
     "output_type": "execute_result",
     "data": {
      "text/plain": "                                                                                                                                                                                                 file_name  \\\n0  /SAPDevelop/QuoraPairs/multinomial_naivebayes_unbalanced/multinomial_naivebayes_unbalanced$accuracy$full$nb_words_question2+nb_common_words+nb_words_question1-common_words+nb_words_question2-commo...   \n1  /SAPDevelop/QuoraPairs/multinomial_naivebayes_unbalanced/multinomial_naivebayes_unbalanced$accuracy$test$nb_common_words+nb_words_question1-common_words+nb_words_question2-common_words+nb_common_w...   \n2                /SAPDevelop/QuoraPairs/multinomial_naivebayes_unbalanced/multinomial_naivebayes_unbalanced$score$full$nb_common_words+nb_words_question1-common_words+nb_words_question2-common_words.csv   \n3                /SAPDevelop/QuoraPairs/multinomial_naivebayes_unbalanced/multinomial_naivebayes_unbalanced$score$test$nb_common_words+nb_words_question1-common_words+nb_words_question2-common_words.csv   \n4  /SAPDevelop/QuoraPairs/multinomial_naivebayes_unbalanced/multinomial_naivebayes_unbalanced$logloss_classif$full$nb_words_question2+nb_common_words+nb_words_question1-common_words+nb_words_question...   \n5  /SAPDevelop/QuoraPairs/multinomial_naivebayes_unbalanced/multinomial_naivebayes_unbalanced$logloss_classif$test$nb_common_words+nb_words_question1-common_words+nb_words_question2-common_words+nb_c...   \n6  /SAPDevelop/QuoraPairs/multinomial_naivebayes_unbalanced/multinomial_naivebayes_unbalanced$logloss_proba$full$nb_words_question2+nb_words_question2-common_words+nb_common_words_div_(nb_words_quest...   \n7  /SAPDevelop/QuoraPairs/multinomial_naivebayes_unbalanced/multinomial_naivebayes_unbalanced$logloss_proba$test$nb_words_question2+nb_words_question2-common_words+nb_common_words_div_(nb_words_quest...   \n\n                                                                                                                                                                                                    kaggle  \n0  kaggle competitions submit quora-question-pairs -f \"/SAPDevelop/QuoraPairs/multinomial_naivebayes_unbalanced/multinomial_naivebayes_unbalanced$accuracy$full$nb_words_question2+nb_common_words+nb_w...  \n1  kaggle competitions submit quora-question-pairs -f \"/SAPDevelop/QuoraPairs/multinomial_naivebayes_unbalanced/multinomial_naivebayes_unbalanced$accuracy$test$nb_common_words+nb_words_question1-comm...  \n2  kaggle competitions submit quora-question-pairs -f \"/SAPDevelop/QuoraPairs/multinomial_naivebayes_unbalanced/multinomial_naivebayes_unbalanced$score$full$nb_common_words+nb_words_question1-common_...  \n3  kaggle competitions submit quora-question-pairs -f \"/SAPDevelop/QuoraPairs/multinomial_naivebayes_unbalanced/multinomial_naivebayes_unbalanced$score$test$nb_common_words+nb_words_question1-common_...  \n4  kaggle competitions submit quora-question-pairs -f \"/SAPDevelop/QuoraPairs/multinomial_naivebayes_unbalanced/multinomial_naivebayes_unbalanced$logloss_classif$full$nb_words_question2+nb_common_wor...  \n5  kaggle competitions submit quora-question-pairs -f \"/SAPDevelop/QuoraPairs/multinomial_naivebayes_unbalanced/multinomial_naivebayes_unbalanced$logloss_classif$test$nb_common_words+nb_words_questio...  \n6  kaggle competitions submit quora-question-pairs -f \"/SAPDevelop/QuoraPairs/multinomial_naivebayes_unbalanced/multinomial_naivebayes_unbalanced$logloss_proba$full$nb_words_question2+nb_words_questi...  \n7  kaggle competitions submit quora-question-pairs -f \"/SAPDevelop/QuoraPairs/multinomial_naivebayes_unbalanced/multinomial_naivebayes_unbalanced$logloss_proba$test$nb_words_question2+nb_words_questi...  ",
      "text/html": "<div>\n<style scoped>\n    .dataframe tbody tr th:only-of-type {\n        vertical-align: middle;\n    }\n\n    .dataframe tbody tr th {\n        vertical-align: top;\n    }\n\n    .dataframe thead th {\n        text-align: right;\n    }\n</style>\n<table border=\"1\" class=\"dataframe\">\n  <thead>\n    <tr style=\"text-align: right;\">\n      <th></th>\n      <th>file_name</th>\n      <th>kaggle</th>\n    </tr>\n  </thead>\n  <tbody>\n    <tr>\n      <th>0</th>\n      <td>/SAPDevelop/QuoraPairs/multinomial_naivebayes_unbalanced/multinomial_naivebayes_unbalanced$accuracy$full$nb_words_question2+nb_common_words+nb_words_question1-common_words+nb_words_question2-commo...</td>\n      <td>kaggle competitions submit quora-question-pairs -f \"/SAPDevelop/QuoraPairs/multinomial_naivebayes_unbalanced/multinomial_naivebayes_unbalanced$accuracy$full$nb_words_question2+nb_common_words+nb_w...</td>\n    </tr>\n    <tr>\n      <th>1</th>\n      <td>/SAPDevelop/QuoraPairs/multinomial_naivebayes_unbalanced/multinomial_naivebayes_unbalanced$accuracy$test$nb_common_words+nb_words_question1-common_words+nb_words_question2-common_words+nb_common_w...</td>\n      <td>kaggle competitions submit quora-question-pairs -f \"/SAPDevelop/QuoraPairs/multinomial_naivebayes_unbalanced/multinomial_naivebayes_unbalanced$accuracy$test$nb_common_words+nb_words_question1-comm...</td>\n    </tr>\n    <tr>\n      <th>2</th>\n      <td>/SAPDevelop/QuoraPairs/multinomial_naivebayes_unbalanced/multinomial_naivebayes_unbalanced$score$full$nb_common_words+nb_words_question1-common_words+nb_words_question2-common_words.csv</td>\n      <td>kaggle competitions submit quora-question-pairs -f \"/SAPDevelop/QuoraPairs/multinomial_naivebayes_unbalanced/multinomial_naivebayes_unbalanced$score$full$nb_common_words+nb_words_question1-common_...</td>\n    </tr>\n    <tr>\n      <th>3</th>\n      <td>/SAPDevelop/QuoraPairs/multinomial_naivebayes_unbalanced/multinomial_naivebayes_unbalanced$score$test$nb_common_words+nb_words_question1-common_words+nb_words_question2-common_words.csv</td>\n      <td>kaggle competitions submit quora-question-pairs -f \"/SAPDevelop/QuoraPairs/multinomial_naivebayes_unbalanced/multinomial_naivebayes_unbalanced$score$test$nb_common_words+nb_words_question1-common_...</td>\n    </tr>\n    <tr>\n      <th>4</th>\n      <td>/SAPDevelop/QuoraPairs/multinomial_naivebayes_unbalanced/multinomial_naivebayes_unbalanced$logloss_classif$full$nb_words_question2+nb_common_words+nb_words_question1-common_words+nb_words_question...</td>\n      <td>kaggle competitions submit quora-question-pairs -f \"/SAPDevelop/QuoraPairs/multinomial_naivebayes_unbalanced/multinomial_naivebayes_unbalanced$logloss_classif$full$nb_words_question2+nb_common_wor...</td>\n    </tr>\n    <tr>\n      <th>5</th>\n      <td>/SAPDevelop/QuoraPairs/multinomial_naivebayes_unbalanced/multinomial_naivebayes_unbalanced$logloss_classif$test$nb_common_words+nb_words_question1-common_words+nb_words_question2-common_words+nb_c...</td>\n      <td>kaggle competitions submit quora-question-pairs -f \"/SAPDevelop/QuoraPairs/multinomial_naivebayes_unbalanced/multinomial_naivebayes_unbalanced$logloss_classif$test$nb_common_words+nb_words_questio...</td>\n    </tr>\n    <tr>\n      <th>6</th>\n      <td>/SAPDevelop/QuoraPairs/multinomial_naivebayes_unbalanced/multinomial_naivebayes_unbalanced$logloss_proba$full$nb_words_question2+nb_words_question2-common_words+nb_common_words_div_(nb_words_quest...</td>\n      <td>kaggle competitions submit quora-question-pairs -f \"/SAPDevelop/QuoraPairs/multinomial_naivebayes_unbalanced/multinomial_naivebayes_unbalanced$logloss_proba$full$nb_words_question2+nb_words_questi...</td>\n    </tr>\n    <tr>\n      <th>7</th>\n      <td>/SAPDevelop/QuoraPairs/multinomial_naivebayes_unbalanced/multinomial_naivebayes_unbalanced$logloss_proba$test$nb_words_question2+nb_words_question2-common_words+nb_common_words_div_(nb_words_quest...</td>\n      <td>kaggle competitions submit quora-question-pairs -f \"/SAPDevelop/QuoraPairs/multinomial_naivebayes_unbalanced/multinomial_naivebayes_unbalanced$logloss_proba$test$nb_words_question2+nb_words_questi...</td>\n    </tr>\n  </tbody>\n</table>\n</div>"
     },
     "metadata": {},
     "execution_count": 16
    }
   ],
   "source": [
    "\n",
    "def submit_all_bests(criterias,input_dataframe,kaggle=False):\n",
    "    kinds = ['full','test']\n",
    "    print_section('Submit best models by %sx%s' % (criterias,kinds))\n",
    "    all_file_names = list()\n",
    "    for c in tqdm(criterias):\n",
    "        for k in kinds:\n",
    "            print_info('Best %s_%s' %(c,k))\n",
    "            best_model = find_best_models(1,c,k)\n",
    "            generated_file = apply_absolute_file_name(c,k,best_model.index)\n",
    "            best_model['model_key']=numpy.asarray(best_model.index)\n",
    "            best_model['model_key'].apply(lambda mk: submit_model(c,k,input_dataframe,mk,proba=True,show_how_to_publish=False,kaggle=kaggle))\n",
    "            all_file_names.append(generated_file)\n",
    "    print_done('Done')\n",
    "    commands = pandas.DataFrame()\n",
    "    commands['file_name']=all_file_names\n",
    "    if kaggle:\n",
    "        commands['kaggle'] = commands['file_name'].apply(show_kaggle_command)\n",
    "        show_kaggle_commands(commands)\n",
    "    else:\n",
    "        commands['docker'] = commands['file_name'].apply(show_docker_cp_command)\n",
    "        show_docker_cp_commands(commands)\n",
    "    return commands\n",
    "\n",
    "\n",
    "  \n",
    "\n",
    "submit_all_bests(['accuracy','score','logloss_classif','logloss_proba'],challenge_dataframe,kaggle=True)\n"
   ]
  },
  {
   "cell_type": "code",
   "execution_count": 17,
   "metadata": {},
   "outputs": [
    {
     "output_type": "execute_result",
     "data": {
      "text/plain": "                                                                                                                                                                               accuracy_test  \\\nnb_words_question1                                                                                                                                                                  0.628299   \nnb_words_question2                                                                                                                                                                  0.628299   \nnb_common_words                                                                                                                                                                     0.628299   \nnb_words_question1-common_words                                                                                                                                                     0.628299   \nnb_words_question2-common_words                                                                                                                                                     0.628299   \n...                                                                                                                                                                                      ...   \nnb_words_question1+nb_words_question2+nb_common_words+nb_words_question2-common_words+nb_common_words/(nb_words_question1+nb_words_question2)                                       0.665339   \nnb_words_question1+nb_words_question2+nb_words_question1-common_words+nb_words_question2-common_words+nb_common_words/(nb_words_question1+nb_words_question2)                       0.661827   \nnb_words_question1+nb_common_words+nb_words_question1-common_words+nb_words_question2-common_words+nb_common_words/(nb_words_question1+nb_words_question2)                          0.673143   \nnb_words_question2+nb_common_words+nb_words_question1-common_words+nb_words_question2-common_words+nb_common_words/(nb_words_question1+nb_words_question2)                          0.673588   \nnb_words_question1+nb_words_question2+nb_common_words+nb_words_question1-common_words+nb_words_question2-common_words+nb_common_words/(nb_words_question1+nb_words_question2)       0.673069   \n\n                                                                                                                                                                               score_test  \\\nnb_words_question1                                                                                                                                                               0.640531   \nnb_words_question2                                                                                                                                                               0.640531   \nnb_common_words                                                                                                                                                                  0.640531   \nnb_words_question1-common_words                                                                                                                                                  0.640531   \nnb_words_question2-common_words                                                                                                                                                  0.640531   \n...                                                                                                                                                                                   ...   \nnb_words_question1+nb_words_question2+nb_common_words+nb_words_question2-common_words+nb_common_words/(nb_words_question1+nb_words_question2)                                    0.701264   \nnb_words_question1+nb_words_question2+nb_words_question1-common_words+nb_words_question2-common_words+nb_common_words/(nb_words_question1+nb_words_question2)                    0.703018   \nnb_words_question1+nb_common_words+nb_words_question1-common_words+nb_words_question2-common_words+nb_common_words/(nb_words_question1+nb_words_question2)                       0.707642   \nnb_words_question2+nb_common_words+nb_words_question1-common_words+nb_words_question2-common_words+nb_common_words/(nb_words_question1+nb_words_question2)                       0.708096   \nnb_words_question1+nb_words_question2+nb_common_words+nb_words_question1-common_words+nb_words_question2-common_words+nb_common_words/(nb_words_question1+nb_words_question2)    0.707615   \n\n                                                                                                                                                                               logloss_classif_test  \\\nnb_words_question1                                                                                                                                                                        12.838098   \nnb_words_question2                                                                                                                                                                        12.838098   \nnb_common_words                                                                                                                                                                           12.838098   \nnb_words_question1-common_words                                                                                                                                                           12.838098   \nnb_words_question2-common_words                                                                                                                                                           12.838098   \n...                                                                                                                                                                                             ...   \nnb_words_question1+nb_words_question2+nb_common_words+nb_words_question2-common_words+nb_common_words/(nb_words_question1+nb_words_question2)                                             11.558913   \nnb_words_question1+nb_words_question2+nb_words_question1-common_words+nb_words_question2-common_words+nb_common_words/(nb_words_question1+nb_words_question2)                             11.680192   \nnb_words_question1+nb_common_words+nb_words_question1-common_words+nb_words_question2-common_words+nb_common_words/(nb_words_question1+nb_words_question2)                                11.289379   \nnb_words_question2+nb_common_words+nb_words_question1-common_words+nb_words_question2-common_words+nb_common_words/(nb_words_question1+nb_words_question2)                                11.274001   \nnb_words_question1+nb_words_question2+nb_common_words+nb_words_question1-common_words+nb_words_question2-common_words+nb_common_words/(nb_words_question1+nb_words_question2)             11.291942   \n\n                                                                                                                                                                               logloss_proba_test  \\\nnb_words_question1                                                                                                                                                                       0.659876   \nnb_words_question2                                                                                                                                                                       0.659876   \nnb_common_words                                                                                                                                                                          0.659876   \nnb_words_question1-common_words                                                                                                                                                          0.659876   \nnb_words_question2-common_words                                                                                                                                                          0.659876   \n...                                                                                                                                                                                           ...   \nnb_words_question1+nb_words_question2+nb_common_words+nb_words_question2-common_words+nb_common_words/(nb_words_question1+nb_words_question2)                                            0.800547   \nnb_words_question1+nb_words_question2+nb_words_question1-common_words+nb_words_question2-common_words+nb_common_words/(nb_words_question1+nb_words_question2)                            0.630167   \nnb_words_question1+nb_common_words+nb_words_question1-common_words+nb_words_question2-common_words+nb_common_words/(nb_words_question1+nb_words_question2)                               0.900531   \nnb_words_question2+nb_common_words+nb_words_question1-common_words+nb_words_question2-common_words+nb_common_words/(nb_words_question1+nb_words_question2)                               0.891399   \nnb_words_question1+nb_words_question2+nb_common_words+nb_words_question1-common_words+nb_words_question2-common_words+nb_common_words/(nb_words_question1+nb_words_question2)            0.904677   \n\n                                                                                                                                                                               accuracy_full  \\\nnb_words_question1                                                                                                                                                                  0.630802   \nnb_words_question2                                                                                                                                                                  0.630802   \nnb_common_words                                                                                                                                                                     0.630802   \nnb_words_question1-common_words                                                                                                                                                     0.630802   \nnb_words_question2-common_words                                                                                                                                                     0.630802   \n...                                                                                                                                                                                      ...   \nnb_words_question1+nb_words_question2+nb_common_words+nb_words_question2-common_words+nb_common_words/(nb_words_question1+nb_words_question2)                                       0.666888   \nnb_words_question1+nb_words_question2+nb_words_question1-common_words+nb_words_question2-common_words+nb_common_words/(nb_words_question1+nb_words_question2)                       0.662210   \nnb_words_question1+nb_common_words+nb_words_question1-common_words+nb_words_question2-common_words+nb_common_words/(nb_words_question1+nb_words_question2)                          0.673237   \nnb_words_question2+nb_common_words+nb_words_question1-common_words+nb_words_question2-common_words+nb_common_words/(nb_words_question1+nb_words_question2)                          0.673507   \nnb_words_question1+nb_words_question2+nb_common_words+nb_words_question1-common_words+nb_words_question2-common_words+nb_common_words/(nb_words_question1+nb_words_question2)       0.673034   \n\n                                                                                                                                                                               score_full  \\\nnb_words_question1                                                                                                                                                               0.642096   \nnb_words_question2                                                                                                                                                               0.642096   \nnb_common_words                                                                                                                                                                  0.642096   \nnb_words_question1-common_words                                                                                                                                                  0.642096   \nnb_words_question2-common_words                                                                                                                                                  0.642096   \n...                                                                                                                                                                                   ...   \nnb_words_question1+nb_words_question2+nb_common_words+nb_words_question2-common_words+nb_common_words/(nb_words_question1+nb_words_question2)                                    0.702817   \nnb_words_question1+nb_words_question2+nb_words_question1-common_words+nb_words_question2-common_words+nb_common_words/(nb_words_question1+nb_words_question2)                    0.703442   \nnb_words_question1+nb_common_words+nb_words_question1-common_words+nb_words_question2-common_words+nb_common_words/(nb_words_question1+nb_words_question2)                       0.707955   \nnb_words_question2+nb_common_words+nb_words_question1-common_words+nb_words_question2-common_words+nb_common_words/(nb_words_question1+nb_words_question2)                       0.708318   \nnb_words_question1+nb_words_question2+nb_common_words+nb_words_question1-common_words+nb_words_question2-common_words+nb_common_words/(nb_words_question1+nb_words_question2)    0.707788   \n\n                                                                                                                                                                               logloss_classif_full  \\\nnb_words_question1                                                                                                                                                                        12.751642   \nnb_words_question2                                                                                                                                                                        12.751642   \nnb_common_words                                                                                                                                                                           12.751642   \nnb_words_question1-common_words                                                                                                                                                           12.751642   \nnb_words_question2-common_words                                                                                                                                                           12.751642   \n...                                                                                                                                                                                             ...   \nnb_words_question1+nb_words_question2+nb_common_words+nb_words_question2-common_words+nb_common_words/(nb_words_question1+nb_words_question2)                                             11.505434   \nnb_words_question1+nb_words_question2+nb_words_question1-common_words+nb_words_question2-common_words+nb_common_words/(nb_words_question1+nb_words_question2)                             11.666951   \nnb_words_question1+nb_common_words+nb_words_question1-common_words+nb_words_question2-common_words+nb_common_words/(nb_words_question1+nb_words_question2)                                11.286133   \nnb_words_question2+nb_common_words+nb_words_question1-common_words+nb_words_question2-common_words+nb_common_words/(nb_words_question1+nb_words_question2)                                11.276821   \nnb_words_question1+nb_words_question2+nb_common_words+nb_words_question1-common_words+nb_words_question2-common_words+nb_common_words/(nb_words_question1+nb_words_question2)             11.293139   \n\n                                                                                                                                                                               logloss_proba_full  \nnb_words_question1                                                                                                                                                                       0.658527  \nnb_words_question2                                                                                                                                                                       0.658527  \nnb_common_words                                                                                                                                                                          0.658527  \nnb_words_question1-common_words                                                                                                                                                          0.658527  \nnb_words_question2-common_words                                                                                                                                                          0.658527  \n...                                                                                                                                                                                           ...  \nnb_words_question1+nb_words_question2+nb_common_words+nb_words_question2-common_words+nb_common_words/(nb_words_question1+nb_words_question2)                                            0.796767  \nnb_words_question1+nb_words_question2+nb_words_question1-common_words+nb_words_question2-common_words+nb_common_words/(nb_words_question1+nb_words_question2)                            0.628233  \nnb_words_question1+nb_common_words+nb_words_question1-common_words+nb_words_question2-common_words+nb_common_words/(nb_words_question1+nb_words_question2)                               0.898209  \nnb_words_question2+nb_common_words+nb_words_question1-common_words+nb_words_question2-common_words+nb_common_words/(nb_words_question1+nb_words_question2)                               0.889994  \nnb_words_question1+nb_words_question2+nb_common_words+nb_words_question1-common_words+nb_words_question2-common_words+nb_common_words/(nb_words_question1+nb_words_question2)            0.902647  \n\n[63 rows x 8 columns]",
      "text/html": "<div>\n<style scoped>\n    .dataframe tbody tr th:only-of-type {\n        vertical-align: middle;\n    }\n\n    .dataframe tbody tr th {\n        vertical-align: top;\n    }\n\n    .dataframe thead th {\n        text-align: right;\n    }\n</style>\n<table border=\"1\" class=\"dataframe\">\n  <thead>\n    <tr style=\"text-align: right;\">\n      <th></th>\n      <th>accuracy_test</th>\n      <th>score_test</th>\n      <th>logloss_classif_test</th>\n      <th>logloss_proba_test</th>\n      <th>accuracy_full</th>\n      <th>score_full</th>\n      <th>logloss_classif_full</th>\n      <th>logloss_proba_full</th>\n    </tr>\n  </thead>\n  <tbody>\n    <tr>\n      <th>nb_words_question1</th>\n      <td>0.628299</td>\n      <td>0.640531</td>\n      <td>12.838098</td>\n      <td>0.659876</td>\n      <td>0.630802</td>\n      <td>0.642096</td>\n      <td>12.751642</td>\n      <td>0.658527</td>\n    </tr>\n    <tr>\n      <th>nb_words_question2</th>\n      <td>0.628299</td>\n      <td>0.640531</td>\n      <td>12.838098</td>\n      <td>0.659876</td>\n      <td>0.630802</td>\n      <td>0.642096</td>\n      <td>12.751642</td>\n      <td>0.658527</td>\n    </tr>\n    <tr>\n      <th>nb_common_words</th>\n      <td>0.628299</td>\n      <td>0.640531</td>\n      <td>12.838098</td>\n      <td>0.659876</td>\n      <td>0.630802</td>\n      <td>0.642096</td>\n      <td>12.751642</td>\n      <td>0.658527</td>\n    </tr>\n    <tr>\n      <th>nb_words_question1-common_words</th>\n      <td>0.628299</td>\n      <td>0.640531</td>\n      <td>12.838098</td>\n      <td>0.659876</td>\n      <td>0.630802</td>\n      <td>0.642096</td>\n      <td>12.751642</td>\n      <td>0.658527</td>\n    </tr>\n    <tr>\n      <th>nb_words_question2-common_words</th>\n      <td>0.628299</td>\n      <td>0.640531</td>\n      <td>12.838098</td>\n      <td>0.659876</td>\n      <td>0.630802</td>\n      <td>0.642096</td>\n      <td>12.751642</td>\n      <td>0.658527</td>\n    </tr>\n    <tr>\n      <th>...</th>\n      <td>...</td>\n      <td>...</td>\n      <td>...</td>\n      <td>...</td>\n      <td>...</td>\n      <td>...</td>\n      <td>...</td>\n      <td>...</td>\n    </tr>\n    <tr>\n      <th>nb_words_question1+nb_words_question2+nb_common_words+nb_words_question2-common_words+nb_common_words/(nb_words_question1+nb_words_question2)</th>\n      <td>0.665339</td>\n      <td>0.701264</td>\n      <td>11.558913</td>\n      <td>0.800547</td>\n      <td>0.666888</td>\n      <td>0.702817</td>\n      <td>11.505434</td>\n      <td>0.796767</td>\n    </tr>\n    <tr>\n      <th>nb_words_question1+nb_words_question2+nb_words_question1-common_words+nb_words_question2-common_words+nb_common_words/(nb_words_question1+nb_words_question2)</th>\n      <td>0.661827</td>\n      <td>0.703018</td>\n      <td>11.680192</td>\n      <td>0.630167</td>\n      <td>0.662210</td>\n      <td>0.703442</td>\n      <td>11.666951</td>\n      <td>0.628233</td>\n    </tr>\n    <tr>\n      <th>nb_words_question1+nb_common_words+nb_words_question1-common_words+nb_words_question2-common_words+nb_common_words/(nb_words_question1+nb_words_question2)</th>\n      <td>0.673143</td>\n      <td>0.707642</td>\n      <td>11.289379</td>\n      <td>0.900531</td>\n      <td>0.673237</td>\n      <td>0.707955</td>\n      <td>11.286133</td>\n      <td>0.898209</td>\n    </tr>\n    <tr>\n      <th>nb_words_question2+nb_common_words+nb_words_question1-common_words+nb_words_question2-common_words+nb_common_words/(nb_words_question1+nb_words_question2)</th>\n      <td>0.673588</td>\n      <td>0.708096</td>\n      <td>11.274001</td>\n      <td>0.891399</td>\n      <td>0.673507</td>\n      <td>0.708318</td>\n      <td>11.276821</td>\n      <td>0.889994</td>\n    </tr>\n    <tr>\n      <th>nb_words_question1+nb_words_question2+nb_common_words+nb_words_question1-common_words+nb_words_question2-common_words+nb_common_words/(nb_words_question1+nb_words_question2)</th>\n      <td>0.673069</td>\n      <td>0.707615</td>\n      <td>11.291942</td>\n      <td>0.904677</td>\n      <td>0.673034</td>\n      <td>0.707788</td>\n      <td>11.293139</td>\n      <td>0.902647</td>\n    </tr>\n  </tbody>\n</table>\n<p>63 rows × 8 columns</p>\n</div>"
     },
     "metadata": {},
     "execution_count": 17
    }
   ],
   "source": [
    "model_results"
   ]
  },
  {
   "cell_type": "code",
   "execution_count": 20,
   "metadata": {},
   "outputs": [],
   "source": [
    "def save_models_dict_to_excel(models_dict,file_name):\n",
    "    results = models_dict_to_models_results(models_dict)\n",
    "    results.to_excel(excel_file_name(SEP_IN_FILE_NAME.join([EXPERIMENT,file_name])),float_format=\"%.4f\")\n",
    "\n",
    "save_models_dict_to_excel(all_models_dict,'all_models')\n",
    "\n"
   ]
  }
 ]
}