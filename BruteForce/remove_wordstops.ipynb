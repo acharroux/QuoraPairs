{
 "metadata": {
  "language_info": {
   "codemirror_mode": {
    "name": "ipython",
    "version": 3
   },
   "file_extension": ".py",
   "mimetype": "text/x-python",
   "name": "python",
   "nbconvert_exporter": "python",
   "pygments_lexer": "ipython3",
   "version": "3.8.3-final"
  },
  "orig_nbformat": 2,
  "kernelspec": {
   "name": "Python 3.8.3 64-bit",
   "display_name": "Python 3.8.3 64-bit",
   "metadata": {
    "interpreter": {
     "hash": "31f2aee4e71d21fbe5cf8b01ff0e069b9275f58929596ceb00d14d90e3e16cd6"
    }
   }
  }
 },
 "nbformat": 4,
 "nbformat_minor": 2,
 "cells": [
  {
   "source": [
    "# Playing with stop words\n",
    "\n",
    "Nb common words seems to be an interesting feature.\n",
    "But isn'it disturbed by common words like do, not, and which may precisely be common to many pairs this without any significance ?\n",
    "So if remove stop words, nb common feature may have more signficance "
   ],
   "cell_type": "markdown",
   "metadata": {}
  },
  {
   "cell_type": "code",
   "execution_count": 1,
   "metadata": {},
   "outputs": [
    {
     "output_type": "display_data",
     "data": {
      "text/plain": "<IPython.core.display.HTML object>",
      "text/html": "<span style=\"color:RED\">You will use environment remove_stopwords </span>"
     },
     "metadata": {
      "text/html": {
       "isolated": true
      }
     }
    }
   ],
   "source": [
    "# Ugly incantation to make our 'framework' working\n",
    "import sys\n",
    "sys.path.insert(0, r'/SAPDevelop/QuoraPairs/BruteForce/Tools')\n",
    "\n",
    "#import all our small tools (paths, cache, print,zip,excel, pandas, progress,..)\n",
    "from Tools.all import *\n",
    "\n",
    "# setup the name of our experiment\n",
    "# it will be used to store every result in a unique place\n",
    "EXPERIMENT='remove_stopwords'\n",
    "# Do a bit of checks before actually running code\n",
    "UNITARY_TEST = True\n",
    "print_alert('You will use environment %s' % EXPERIMENT)"
   ]
  },
  {
   "source": [
    "## Build our initial features\n",
    "* Nb words in question 1\n",
    "* Nb words in question 2\n",
    "* **abs(Nb words in question 1 - Nb words in question 2)** suppressed\n",
    "* Nb common words\n",
    "* Nb common words/nb words in question 1\n",
    "* Nb common words/nb words in question 2\n",
    "* Nb non common words in question 1\n",
    "* Nb non common words in question 2\n",
    "* Nb common words/(Nb words in question1 + Nb words in question2)\n",
    "\n",
    "**Notes**\n",
    "* Input data is not processed except for basic unicode clean\n",
    "* Heavy to generate so result is cached\n",
    "* This may be overkill as features will be eliminated but features are also generated for challenge data"
   ],
   "cell_type": "markdown",
   "metadata": {}
  },
  {
   "cell_type": "code",
   "execution_count": 2,
   "metadata": {},
   "outputs": [],
   "source": [
    "def add_column_from_columns(dataframe,output_column_name,function):\n",
    "    dataframe[output_column_name]=dataframe.progress_apply(function,axis=1)\n",
    "    return dataframe[output_column_name]\n",
    "\n",
    "def add_column_from_column(dataframe,output_column_name,input_column_name,function):\n",
    "    dataframe[output_column_name]=dataframe[input_column_name].progress_apply(function)\n",
    "    return dataframe[output_column_name]\n",
    "\n",
    "def build_all_simple_features(dataframe):\n",
    "    print_warning('Compute common_words between question1 & question2')\n",
    "    add_column_from_column(dataframe,'nb_words_question1','question1',lambda x: len(x.split()))\n",
    "    add_column_from_column(dataframe,'nb_words_question2','question2',lambda x: len(x.split()))\n",
    "\n",
    "    #print_warning('Compute abs(Nb words in question 1 - Nb words in question 2)')\n",
    "    #add_column_from_columns(dataframe,'abs(nb1-nb2)',lambda r: abs(r.nb_words_question1-r.nb_words_question2))\n",
    "\n",
    "    print_warning('Compute Nb common_words between question1 & question2')\n",
    "    add_column_from_columns(dataframe,'common_words',lambda r: list(set(r.question1.split())&set(r.question2.split())))\n",
    "    add_column_from_column(dataframe,'nb_common_words','common_words',len)\n",
    "\n",
    "    print_warning('Compute Nb common words/nb words in question1')\n",
    "    add_column_from_columns(dataframe,'nb_common_words/nb_words_question1',lambda r: r.nb_common_words/max(1,r.nb_words_question1))\n",
    "    print_warning('Compute Nb common words/nb words in question2')\n",
    "    add_column_from_columns(dataframe,'nb_common_words/nb_words_question2',lambda r: r.nb_common_words/max(1,r.nb_words_question2))\n",
    "\n",
    "    print_warning('Compute Nb words in question1,question2 not in common words')\n",
    "    add_column_from_columns(dataframe,'nb_words_question1-common_words',lambda r: len(list(set(r.question1.split())-set(r.common_words))))\n",
    "    add_column_from_columns(dataframe,'nb_words_question2-common_words',lambda r: len(list(set(r.question2.split())-set(r.common_words))))\n",
    "    print_warning('Compute (nb common words)/(nb words in question1+nb word in question2)')\n",
    "    add_column_from_columns(dataframe,'nb_common_words/(nb_words_question1+nb_words_question2)',lambda r: r.nb_common_words/(r.nb_words_question1+r.nb_words_question2))\n",
    "    dataframe=dataframe.drop(columns='common_words')\n",
    "    return dataframe"
   ]
  },
  {
   "cell_type": "code",
   "execution_count": 3,
   "metadata": {
    "tags": []
   },
   "outputs": [
    {
     "output_type": "display_data",
     "data": {
      "text/plain": "<IPython.core.display.HTML object>",
      "text/html": "<b>Prepare remove_stopwords environment in ../remove_stopwords</b>"
     },
     "metadata": {
      "text/html": {
       "isolated": true
      }
     }
    },
    {
     "output_type": "display_data",
     "data": {
      "text/plain": "<IPython.core.display.HTML object>",
      "text/html": "<HR>"
     },
     "metadata": {
      "text/html": {
       "isolated": true
      }
     }
    },
    {
     "output_type": "display_data",
     "data": {
      "text/plain": "<IPython.core.display.HTML object>",
      "text/html": "<span style=\"color:LIMEGREEN\"><small><b><i>Done</i></b><p></p></small></span>"
     },
     "metadata": {
      "text/html": {
       "isolated": true
      }
     }
    },
    {
     "output_type": "display_data",
     "data": {
      "text/plain": "<IPython.core.display.HTML object>",
      "text/html": "<b>Untouched input data has been loaded. Training: 404290 lines Challenge: 2345796 lines</b>"
     },
     "metadata": {
      "text/html": {
       "isolated": true
      }
     }
    },
    {
     "output_type": "display_data",
     "data": {
      "text/plain": "<IPython.core.display.HTML object>",
      "text/html": "<HR>"
     },
     "metadata": {
      "text/html": {
       "isolated": true
      }
     }
    },
    {
     "output_type": "display_data",
     "data": {
      "text/plain": "<IPython.core.display.HTML object>",
      "text/html": "<b>Training data + basic features: Load or rebuild training_basic_features</b>"
     },
     "metadata": {
      "text/html": {
       "isolated": true
      }
     }
    },
    {
     "output_type": "display_data",
     "data": {
      "text/plain": "<IPython.core.display.HTML object>",
      "text/html": "<HR>"
     },
     "metadata": {
      "text/html": {
       "isolated": true
      }
     }
    },
    {
     "output_type": "display_data",
     "data": {
      "text/plain": "<IPython.core.display.HTML object>",
      "text/html": "<span style=\"color:LIMEGREEN\"><small>!!!!! ../remove_stopwords/training_basic_features.pkl is cached!!!</small></span>"
     },
     "metadata": {
      "text/html": {
       "isolated": true
      }
     }
    },
    {
     "output_type": "display_data",
     "data": {
      "text/plain": "<IPython.core.display.HTML object>",
      "text/html": "<span style=\"color:LIMEGREEN\"><small><b><i>Done:training_basic_features contains 404290 lines in 0.2 s</i></b><p></p></small></span>"
     },
     "metadata": {
      "text/html": {
       "isolated": true
      }
     }
    },
    {
     "output_type": "display_data",
     "data": {
      "text/plain": "<IPython.core.display.HTML object>",
      "text/html": "<b>Challenge data + basic features: Load or rebuild challenge_basic_features</b>"
     },
     "metadata": {
      "text/html": {
       "isolated": true
      }
     }
    },
    {
     "output_type": "display_data",
     "data": {
      "text/plain": "<IPython.core.display.HTML object>",
      "text/html": "<HR>"
     },
     "metadata": {
      "text/html": {
       "isolated": true
      }
     }
    },
    {
     "output_type": "display_data",
     "data": {
      "text/plain": "<IPython.core.display.HTML object>",
      "text/html": "<span style=\"color:LIMEGREEN\"><small>!!!!! ../remove_stopwords/challenge_basic_features.pkl is cached!!!</small></span>"
     },
     "metadata": {
      "text/html": {
       "isolated": true
      }
     }
    },
    {
     "output_type": "display_data",
     "data": {
      "text/plain": "<IPython.core.display.HTML object>",
      "text/html": "<span style=\"color:LIMEGREEN\"><small><b><i>Done:challenge_basic_features contains 2345796 lines in 1.3 s</i></b><p></p></small></span>"
     },
     "metadata": {
      "text/html": {
       "isolated": true
      }
     }
    }
   ],
   "source": [
    "prepare_environnement(EXPERIMENT)\n",
    "train_dataframe=load_dataframe(CLEAN_TRAINING_DATA)\n",
    "challenge_dataframe=load_dataframe(CLEAN_CHALLENGE_DATA)\n",
    "print_section('Untouched input data has been loaded. Training: %d lines Challenge: %d lines' % (len(train_dataframe),len(challenge_dataframe)))\n",
    "\n",
    "train_dataframe=load_or_build_dataframe('Training data + basic features','training_basic_features',build_all_simple_features,train_dataframe)\n",
    "challenge_dataframe=load_or_build_dataframe('Challenge data + basic features','challenge_basic_features',build_all_simple_features,challenge_dataframe)"
   ]
  },
  {
   "source": [
    "## We fix a mistake we did early : put everything in lower case !\n",
    "So, we build a fresh new input data with basic features from scratch"
   ],
   "cell_type": "markdown",
   "metadata": {}
  },
  {
   "cell_type": "code",
   "execution_count": 4,
   "metadata": {
    "tags": []
   },
   "outputs": [
    {
     "output_type": "display_data",
     "data": {
      "text/plain": "<IPython.core.display.HTML object>",
      "text/html": "<b>Training data in lower case + basic features: Load or rebuild training_lower_basic_features</b>"
     },
     "metadata": {
      "text/html": {
       "isolated": true
      }
     }
    },
    {
     "output_type": "display_data",
     "data": {
      "text/plain": "<IPython.core.display.HTML object>",
      "text/html": "<HR>"
     },
     "metadata": {
      "text/html": {
       "isolated": true
      }
     }
    },
    {
     "output_type": "display_data",
     "data": {
      "text/plain": "<IPython.core.display.HTML object>",
      "text/html": "<span style=\"color:LIGHTSALMON\"><small>!!!!! ../remove_stopwords/training_lower_basic_features.pkl does not exists!!!</small></span>"
     },
     "metadata": {
      "text/html": {
       "isolated": true
      }
     }
    },
    {
     "output_type": "display_data",
     "data": {
      "text/plain": "<IPython.core.display.HTML object>",
      "text/html": "<span style=\"color:LIGHTSALMON\"><small>Rebuild and save it</small></span>"
     },
     "metadata": {
      "text/html": {
       "isolated": true
      }
     }
    },
    {
     "output_type": "display_data",
     "data": {
      "text/plain": "<IPython.core.display.HTML object>",
      "text/html": "<span style=\"color:LIMEGREEN\"><small>lower case everything</small></span>"
     },
     "metadata": {
      "text/html": {
       "isolated": true
      }
     }
    },
    {
     "output_type": "display_data",
     "data": {
      "text/plain": "<IPython.core.display.HTML object>",
      "text/html": "<span style=\"color:LIGHTSALMON\"><small>Compute common_words between question1 & question2</small></span>"
     },
     "metadata": {
      "text/html": {
       "isolated": true
      }
     }
    },
    {
     "output_type": "display_data",
     "data": {
      "text/plain": "<IPython.core.display.HTML object>",
      "text/html": "<span style=\"color:LIGHTSALMON\"><small>Compute Nb common_words between question1 & question2</small></span>"
     },
     "metadata": {
      "text/html": {
       "isolated": true
      }
     }
    },
    {
     "output_type": "display_data",
     "data": {
      "text/plain": "HBox(children=(FloatProgress(value=0.0, max=404290.0), HTML(value='')))",
      "application/vnd.jupyter.widget-view+json": {
       "version_major": 2,
       "version_minor": 0,
       "model_id": "6bd922145c004838b76379d901c2c5c5"
      }
     },
     "metadata": {}
    },
    {
     "output_type": "stream",
     "name": "stdout",
     "text": "\n"
    },
    {
     "output_type": "display_data",
     "data": {
      "text/plain": "HBox(children=(FloatProgress(value=0.0, max=404290.0), HTML(value='')))",
      "application/vnd.jupyter.widget-view+json": {
       "version_major": 2,
       "version_minor": 0,
       "model_id": "b0d77311d00f45b3b6c45da86a0c6668"
      }
     },
     "metadata": {}
    },
    {
     "output_type": "stream",
     "name": "stdout",
     "text": "\n"
    },
    {
     "output_type": "display_data",
     "data": {
      "text/plain": "<IPython.core.display.HTML object>",
      "text/html": "<span style=\"color:LIGHTSALMON\"><small>Compute Nb common words/nb words in question1</small></span>"
     },
     "metadata": {
      "text/html": {
       "isolated": true
      }
     }
    },
    {
     "output_type": "display_data",
     "data": {
      "text/plain": "HBox(children=(FloatProgress(value=0.0, max=404290.0), HTML(value='')))",
      "application/vnd.jupyter.widget-view+json": {
       "version_major": 2,
       "version_minor": 0,
       "model_id": "3bc0f03573de410c82ff6c7cc9d938fe"
      }
     },
     "metadata": {}
    },
    {
     "output_type": "stream",
     "name": "stdout",
     "text": "\n"
    },
    {
     "output_type": "display_data",
     "data": {
      "text/plain": "<IPython.core.display.HTML object>",
      "text/html": "<span style=\"color:LIGHTSALMON\"><small>Compute Nb common words/nb words in question2</small></span>"
     },
     "metadata": {
      "text/html": {
       "isolated": true
      }
     }
    },
    {
     "output_type": "display_data",
     "data": {
      "text/plain": "HBox(children=(FloatProgress(value=0.0, max=404290.0), HTML(value='')))",
      "application/vnd.jupyter.widget-view+json": {
       "version_major": 2,
       "version_minor": 0,
       "model_id": "dfbeb9329a3c408097dc130b4986d6cc"
      }
     },
     "metadata": {}
    },
    {
     "output_type": "stream",
     "name": "stdout",
     "text": "\n"
    },
    {
     "output_type": "display_data",
     "data": {
      "text/plain": "<IPython.core.display.HTML object>",
      "text/html": "<span style=\"color:LIGHTSALMON\"><small>Compute Nb words in question1,question2 not in common words</small></span>"
     },
     "metadata": {
      "text/html": {
       "isolated": true
      }
     }
    },
    {
     "output_type": "display_data",
     "data": {
      "text/plain": "HBox(children=(FloatProgress(value=0.0, max=404290.0), HTML(value='')))",
      "application/vnd.jupyter.widget-view+json": {
       "version_major": 2,
       "version_minor": 0,
       "model_id": "ad0b468bdabf4aee933f40ea407cf0dd"
      }
     },
     "metadata": {}
    },
    {
     "output_type": "stream",
     "name": "stdout",
     "text": "\n"
    },
    {
     "output_type": "display_data",
     "data": {
      "text/plain": "HBox(children=(FloatProgress(value=0.0, max=404290.0), HTML(value='')))",
      "application/vnd.jupyter.widget-view+json": {
       "version_major": 2,
       "version_minor": 0,
       "model_id": "26e2977f398a4b3eb6b5854e989503ec"
      }
     },
     "metadata": {}
    },
    {
     "output_type": "stream",
     "name": "stdout",
     "text": "\n"
    },
    {
     "output_type": "display_data",
     "data": {
      "text/plain": "<IPython.core.display.HTML object>",
      "text/html": "<span style=\"color:LIGHTSALMON\"><small>Compute (nb common words)/(nb words in question1+nb word in question2)</small></span>"
     },
     "metadata": {
      "text/html": {
       "isolated": true
      }
     }
    },
    {
     "output_type": "display_data",
     "data": {
      "text/plain": "HBox(children=(FloatProgress(value=0.0, max=404290.0), HTML(value='')))",
      "application/vnd.jupyter.widget-view+json": {
       "version_major": 2,
       "version_minor": 0,
       "model_id": "8ebded7735704dc59609b4c85f8a1ec6"
      }
     },
     "metadata": {}
    },
    {
     "output_type": "stream",
     "name": "stdout",
     "text": "\n"
    },
    {
     "output_type": "display_data",
     "data": {
      "text/plain": "<IPython.core.display.HTML object>",
      "text/html": "<span style=\"color:LIMEGREEN\"><small>Save training_lower_basic_features</small></span>"
     },
     "metadata": {
      "text/html": {
       "isolated": true
      }
     }
    },
    {
     "output_type": "display_data",
     "data": {
      "text/plain": "<IPython.core.display.HTML object>",
      "text/html": "<span style=\"color:LIMEGREEN\"><small><b><i>Done:training_lower_basic_features contains 404290 lines in 210.5 s</i></b><p></p></small></span>"
     },
     "metadata": {
      "text/html": {
       "isolated": true
      }
     }
    }
   ],
   "source": [
    "def build_lower_all_simple_features(dataframe):\n",
    "    print_info('lower case everything')\n",
    "    dataframe['lower_question1'] = dataframe['question1'].str.lower()\n",
    "    dataframe['lower_question2'] = dataframe['question2'].str.lower()\n",
    "    print_warning('Compute common_words between question1 & question2')\n",
    "    # Useless but More clear\n",
    "    dataframe['lower_nb_words_question1'] = dataframe['nb_words_question1'].copy()\n",
    "    dataframe['lower_nb_words_question2'] = dataframe['nb_words_question2'].copy()\n",
    "\n",
    "    print_warning('Compute Nb common_words between question1 & question2')\n",
    "    add_column_from_columns(dataframe,'lower_common_words',lambda r: list(set(r.lower_question1.split())&set(r.lower_question2.split())))\n",
    "    add_column_from_column(dataframe,'lower_nb_common_words','lower_common_words',len)\n",
    "\n",
    "    print_warning('Compute Nb common words/nb words in question1')\n",
    "    add_column_from_columns(dataframe,'lower_nb_common_words/lower_nb_words_question1',lambda r: r.lower_nb_common_words/max(1,r.lower_nb_words_question1))\n",
    "    print_warning('Compute Nb common words/nb words in question2')\n",
    "    add_column_from_columns(dataframe,'lower_nb_common_words/lower_nb_words_question2',lambda r: r.lower_nb_common_words/max(1,r.lower_nb_words_question2))\n",
    "\n",
    "    print_warning('Compute Nb words in question1,question2 not in common words')\n",
    "    add_column_from_columns(dataframe,'lower_nb_words_question1-common_words',lambda r: len(list(set(r.lower_question1.split())-set(r.lower_common_words))))\n",
    "    add_column_from_columns(dataframe,'lower_nb_words_question2-common_words',lambda r: len(list(set(r.lower_question2.split())-set(r.lower_common_words))))\n",
    "    print_warning('Compute (nb common words)/(nb words in question1+nb word in question2)')\n",
    "    add_column_from_columns(dataframe,'lower_nb_common_words/(lower_nb_words_question1+lower_nb_words_question2)',lambda r: r.lower_nb_common_words/(r.lower_nb_words_question1+r.lower_nb_words_question2))\n",
    "    dataframe=dataframe.drop(columns='lower_common_words')\n",
    "    return dataframe\n",
    "\n",
    "lower_train_dataframe = load_or_build_dataframe('Training data in lower case + basic features','training_lower_basic_features',build_lower_all_simple_features,train_dataframe)\n",
    "\n",
    "if UNITARY_TEST:\n",
    "    assert 'question1' in lower_train_dataframe.columns and 'lower_question1' in lower_train_dataframe.columns\n"
   ]
  },
  {
   "source": [
    "### Did it change something ?\n"
   ],
   "cell_type": "markdown",
   "metadata": {}
  },
  {
   "cell_type": "code",
   "execution_count": 5,
   "metadata": {},
   "outputs": [
    {
     "output_type": "display_data",
     "data": {
      "text/plain": "<IPython.core.display.HTML object>",
      "text/html": "<span style=\"color:LIMEGREEN\"><small>We have changed 18.09 % of nb common_words !!</small></span>"
     },
     "metadata": {
      "text/html": {
       "isolated": true
      }
     }
    },
    {
     "output_type": "execute_result",
     "data": {
      "text/plain": "<matplotlib.legend.Legend at 0x7f0300090070>"
     },
     "metadata": {},
     "execution_count": 5
    },
    {
     "output_type": "display_data",
     "data": {
      "text/plain": "<Figure size 1080x720 with 1 Axes>",
      "image/svg+xml": "<?xml version=\"1.0\" encoding=\"utf-8\" standalone=\"no\"?>\n<!DOCTYPE svg PUBLIC \"-//W3C//DTD SVG 1.1//EN\"\n  \"http://www.w3.org/Graphics/SVG/1.1/DTD/svg11.dtd\">\n<!-- Created with matplotlib (https://matplotlib.org/) -->\n<svg height=\"605.753906pt\" version=\"1.1\" viewBox=\"0 0 903.890625 605.753906\" width=\"903.890625pt\" xmlns=\"http://www.w3.org/2000/svg\" xmlns:xlink=\"http://www.w3.org/1999/xlink\">\n <defs>\n  <style type=\"text/css\">\n*{stroke-linecap:butt;stroke-linejoin:round;}\n  </style>\n </defs>\n <g id=\"figure_1\">\n  <g id=\"patch_1\">\n   <path d=\"M 0 605.753906 \nL 903.890625 605.753906 \nL 903.890625 0 \nL 0 0 \nz\n\" style=\"fill:none;\"/>\n  </g>\n  <g id=\"axes_1\">\n   <g id=\"patch_2\">\n    <path d=\"M 59.690625 568.197656 \nL 896.690625 568.197656 \nL 896.690625 24.597656 \nL 59.690625 24.597656 \nz\n\" style=\"fill:#ffffff;\"/>\n   </g>\n   <g id=\"patch_3\">\n    <path clip-path=\"url(#pc0eef98bdb)\" d=\"M 97.73608 568.197656 \nL 135.781534 568.197656 \nL 135.781534 379.9295 \nL 97.73608 379.9295 \nz\n\" style=\"fill:#ff0000;opacity:0.75;\"/>\n   </g>\n   <g id=\"patch_4\">\n    <path clip-path=\"url(#pc0eef98bdb)\" d=\"M 135.781534 568.197656 \nL 173.826989 568.197656 \nL 173.826989 279.192696 \nL 135.781534 279.192696 \nz\n\" style=\"fill:#ff0000;opacity:0.75;\"/>\n   </g>\n   <g id=\"patch_5\">\n    <path clip-path=\"url(#pc0eef98bdb)\" d=\"M 173.826989 568.197656 \nL 211.872443 568.197656 \nL 211.872443 155.84082 \nL 173.826989 155.84082 \nz\n\" style=\"fill:#ff0000;opacity:0.75;\"/>\n   </g>\n   <g id=\"patch_6\">\n    <path clip-path=\"url(#pc0eef98bdb)\" d=\"M 211.872443 568.197656 \nL 249.917898 568.197656 \nL 249.917898 72.972195 \nL 211.872443 72.972195 \nz\n\" style=\"fill:#ff0000;opacity:0.75;\"/>\n   </g>\n   <g id=\"patch_7\">\n    <path clip-path=\"url(#pc0eef98bdb)\" d=\"M 249.917898 568.197656 \nL 287.963352 568.197656 \nL 287.963352 50.483371 \nL 249.917898 50.483371 \nz\n\" style=\"fill:#ff0000;opacity:0.75;\"/>\n   </g>\n   <g id=\"patch_8\">\n    <path clip-path=\"url(#pc0eef98bdb)\" d=\"M 287.963352 568.197656 \nL 326.008807 568.197656 \nL 326.008807 102.034287 \nL 287.963352 102.034287 \nz\n\" style=\"fill:#ff0000;opacity:0.75;\"/>\n   </g>\n   <g id=\"patch_9\">\n    <path clip-path=\"url(#pc0eef98bdb)\" d=\"M 326.008807 568.197656 \nL 364.054261 568.197656 \nL 364.054261 206.701586 \nL 326.008807 206.701586 \nz\n\" style=\"fill:#ff0000;opacity:0.75;\"/>\n   </g>\n   <g id=\"patch_10\">\n    <path clip-path=\"url(#pc0eef98bdb)\" d=\"M 364.054261 568.197656 \nL 402.099716 568.197656 \nL 402.099716 323.581191 \nL 364.054261 323.581191 \nz\n\" style=\"fill:#ff0000;opacity:0.75;\"/>\n   </g>\n   <g id=\"patch_11\">\n    <path clip-path=\"url(#pc0eef98bdb)\" d=\"M 402.099716 568.197656 \nL 440.14517 568.197656 \nL 440.14517 420.12659 \nL 402.099716 420.12659 \nz\n\" style=\"fill:#ff0000;opacity:0.75;\"/>\n   </g>\n   <g id=\"patch_12\">\n    <path clip-path=\"url(#pc0eef98bdb)\" d=\"M 440.14517 568.197656 \nL 478.190625 568.197656 \nL 478.190625 485.463695 \nL 440.14517 485.463695 \nz\n\" style=\"fill:#ff0000;opacity:0.75;\"/>\n   </g>\n   <g id=\"patch_13\">\n    <path clip-path=\"url(#pc0eef98bdb)\" d=\"M 478.190625 568.197656 \nL 516.23608 568.197656 \nL 516.23608 519.861833 \nL 478.190625 519.861833 \nz\n\" style=\"fill:#ff0000;opacity:0.75;\"/>\n   </g>\n   <g id=\"patch_14\">\n    <path clip-path=\"url(#pc0eef98bdb)\" d=\"M 516.23608 568.197656 \nL 554.281534 568.197656 \nL 554.281534 536.223463 \nL 516.23608 536.223463 \nz\n\" style=\"fill:#ff0000;opacity:0.75;\"/>\n   </g>\n   <g id=\"patch_15\">\n    <path clip-path=\"url(#pc0eef98bdb)\" d=\"M 554.281534 568.197656 \nL 592.326989 568.197656 \nL 592.326989 540.759944 \nL 554.281534 540.759944 \nz\n\" style=\"fill:#ff0000;opacity:0.75;\"/>\n   </g>\n   <g id=\"patch_16\">\n    <path clip-path=\"url(#pc0eef98bdb)\" d=\"M 592.326989 568.197656 \nL 630.372443 568.197656 \nL 630.372443 546.180154 \nL 592.326989 546.180154 \nz\n\" style=\"fill:#ff0000;opacity:0.75;\"/>\n   </g>\n   <g id=\"patch_17\">\n    <path clip-path=\"url(#pc0eef98bdb)\" d=\"M 630.372443 568.197656 \nL 668.417898 568.197656 \nL 668.417898 548.932342 \nL 630.372443 548.932342 \nz\n\" style=\"fill:#ff0000;opacity:0.75;\"/>\n   </g>\n   <g id=\"patch_18\">\n    <path clip-path=\"url(#pc0eef98bdb)\" d=\"M 668.417898 568.197656 \nL 706.463352 568.197656 \nL 706.463352 553.973811 \nL 668.417898 553.973811 \nz\n\" style=\"fill:#ff0000;opacity:0.75;\"/>\n   </g>\n   <g id=\"patch_19\">\n    <path clip-path=\"url(#pc0eef98bdb)\" d=\"M 706.463352 568.197656 \nL 744.508807 568.197656 \nL 744.508807 556.431422 \nL 706.463352 556.431422 \nz\n\" style=\"fill:#ff0000;opacity:0.75;\"/>\n   </g>\n   <g id=\"patch_20\">\n    <path clip-path=\"url(#pc0eef98bdb)\" d=\"M 744.508807 568.197656 \nL 782.554261 568.197656 \nL 782.554261 562.508118 \nL 744.508807 562.508118 \nz\n\" style=\"fill:#ff0000;opacity:0.75;\"/>\n   </g>\n   <g id=\"patch_21\">\n    <path clip-path=\"url(#pc0eef98bdb)\" d=\"M 782.554261 568.197656 \nL 820.599716 568.197656 \nL 820.599716 562.819528 \nL 782.554261 562.819528 \nz\n\" style=\"fill:#ff0000;opacity:0.75;\"/>\n   </g>\n   <g id=\"patch_22\">\n    <path clip-path=\"url(#pc0eef98bdb)\" d=\"M 820.599716 568.197656 \nL 858.64517 568.197656 \nL 858.64517 560.934237 \nL 820.599716 560.934237 \nz\n\" style=\"fill:#ff0000;opacity:0.75;\"/>\n   </g>\n   <g id=\"patch_23\">\n    <path clip-path=\"url(#pc0eef98bdb)\" d=\"M 97.73608 568.197656 \nL 135.781534 568.197656 \nL 135.781534 334.228034 \nL 97.73608 334.228034 \nz\n\" style=\"fill:#008000;opacity:0.5;\"/>\n   </g>\n   <g id=\"patch_24\">\n    <path clip-path=\"url(#pc0eef98bdb)\" d=\"M 135.781534 568.197656 \nL 173.826989 568.197656 \nL 173.826989 238.086626 \nL 135.781534 238.086626 \nz\n\" style=\"fill:#008000;opacity:0.5;\"/>\n   </g>\n   <g id=\"patch_25\">\n    <path clip-path=\"url(#pc0eef98bdb)\" d=\"M 173.826989 568.197656 \nL 211.872443 568.197656 \nL 211.872443 123.908709 \nL 173.826989 123.908709 \nz\n\" style=\"fill:#008000;opacity:0.5;\"/>\n   </g>\n   <g id=\"patch_26\">\n    <path clip-path=\"url(#pc0eef98bdb)\" d=\"M 211.872443 568.197656 \nL 249.917898 568.197656 \nL 249.917898 65.607778 \nL 211.872443 65.607778 \nz\n\" style=\"fill:#008000;opacity:0.5;\"/>\n   </g>\n   <g id=\"patch_27\">\n    <path clip-path=\"url(#pc0eef98bdb)\" d=\"M 249.917898 568.197656 \nL 287.963352 568.197656 \nL 287.963352 62.527348 \nL 249.917898 62.527348 \nz\n\" style=\"fill:#008000;opacity:0.5;\"/>\n   </g>\n   <g id=\"patch_28\">\n    <path clip-path=\"url(#pc0eef98bdb)\" d=\"M 287.963352 568.197656 \nL 326.008807 568.197656 \nL 326.008807 126.442068 \nL 287.963352 126.442068 \nz\n\" style=\"fill:#008000;opacity:0.5;\"/>\n   </g>\n   <g id=\"patch_29\">\n    <path clip-path=\"url(#pc0eef98bdb)\" d=\"M 326.008807 568.197656 \nL 364.054261 568.197656 \nL 364.054261 235.191358 \nL 326.008807 235.191358 \nz\n\" style=\"fill:#008000;opacity:0.5;\"/>\n   </g>\n   <g id=\"patch_30\">\n    <path clip-path=\"url(#pc0eef98bdb)\" d=\"M 364.054261 568.197656 \nL 402.099716 568.197656 \nL 402.099716 348.855869 \nL 364.054261 348.855869 \nz\n\" style=\"fill:#008000;opacity:0.5;\"/>\n   </g>\n   <g id=\"patch_31\">\n    <path clip-path=\"url(#pc0eef98bdb)\" d=\"M 402.099716 568.197656 \nL 440.14517 568.197656 \nL 440.14517 435.200499 \nL 402.099716 435.200499 \nz\n\" style=\"fill:#008000;opacity:0.5;\"/>\n   </g>\n   <g id=\"patch_32\">\n    <path clip-path=\"url(#pc0eef98bdb)\" d=\"M 440.14517 568.197656 \nL 478.190625 568.197656 \nL 478.190625 494.284162 \nL 440.14517 494.284162 \nz\n\" style=\"fill:#008000;opacity:0.5;\"/>\n   </g>\n   <g id=\"patch_33\">\n    <path clip-path=\"url(#pc0eef98bdb)\" d=\"M 478.190625 568.197656 \nL 516.23608 568.197656 \nL 516.23608 525.307293 \nL 478.190625 525.307293 \nz\n\" style=\"fill:#008000;opacity:0.5;\"/>\n   </g>\n   <g id=\"patch_34\">\n    <path clip-path=\"url(#pc0eef98bdb)\" d=\"M 516.23608 568.197656 \nL 554.281534 568.197656 \nL 554.281534 539.724717 \nL 516.23608 539.724717 \nz\n\" style=\"fill:#008000;opacity:0.5;\"/>\n   </g>\n   <g id=\"patch_35\">\n    <path clip-path=\"url(#pc0eef98bdb)\" d=\"M 554.281534 568.197656 \nL 592.326989 568.197656 \nL 592.326989 542.308575 \nL 554.281534 542.308575 \nz\n\" style=\"fill:#008000;opacity:0.5;\"/>\n   </g>\n   <g id=\"patch_36\">\n    <path clip-path=\"url(#pc0eef98bdb)\" d=\"M 592.326989 568.197656 \nL 630.372443 568.197656 \nL 630.372443 548.410521 \nL 592.326989 548.410521 \nz\n\" style=\"fill:#008000;opacity:0.5;\"/>\n   </g>\n   <g id=\"patch_37\">\n    <path clip-path=\"url(#pc0eef98bdb)\" d=\"M 630.372443 568.197656 \nL 668.417898 568.197656 \nL 668.417898 551.171125 \nL 630.372443 551.171125 \nz\n\" style=\"fill:#008000;opacity:0.5;\"/>\n   </g>\n   <g id=\"patch_38\">\n    <path clip-path=\"url(#pc0eef98bdb)\" d=\"M 668.417898 568.197656 \nL 706.463352 568.197656 \nL 706.463352 551.600365 \nL 668.417898 551.600365 \nz\n\" style=\"fill:#008000;opacity:0.5;\"/>\n   </g>\n   <g id=\"patch_39\">\n    <path clip-path=\"url(#pc0eef98bdb)\" d=\"M 706.463352 568.197656 \nL 744.508807 568.197656 \nL 744.508807 556.380924 \nL 706.463352 556.380924 \nz\n\" style=\"fill:#008000;opacity:0.5;\"/>\n   </g>\n   <g id=\"patch_40\">\n    <path clip-path=\"url(#pc0eef98bdb)\" d=\"M 744.508807 568.197656 \nL 782.554261 568.197656 \nL 782.554261 562.794279 \nL 744.508807 562.794279 \nz\n\" style=\"fill:#008000;opacity:0.5;\"/>\n   </g>\n   <g id=\"patch_41\">\n    <path clip-path=\"url(#pc0eef98bdb)\" d=\"M 782.554261 568.197656 \nL 820.599716 568.197656 \nL 820.599716 562.819528 \nL 782.554261 562.819528 \nz\n\" style=\"fill:#008000;opacity:0.5;\"/>\n   </g>\n   <g id=\"patch_42\">\n    <path clip-path=\"url(#pc0eef98bdb)\" d=\"M 820.599716 568.197656 \nL 858.64517 568.197656 \nL 858.64517 560.075757 \nL 820.599716 560.075757 \nz\n\" style=\"fill:#008000;opacity:0.5;\"/>\n   </g>\n   <g id=\"matplotlib.axis_1\">\n    <g id=\"xtick_1\">\n     <g id=\"line2d_1\">\n      <defs>\n       <path d=\"M 0 0 \nL 0 3.5 \n\" id=\"m1b8938bbb9\" style=\"stroke:#000000;stroke-width:0.8;\"/>\n      </defs>\n      <g>\n       <use style=\"stroke:#000000;stroke-width:0.8;\" x=\"97.73608\" xlink:href=\"#m1b8938bbb9\" y=\"568.197656\"/>\n      </g>\n     </g>\n     <g id=\"text_1\">\n      <!-- 0.0 -->\n      <defs>\n       <path d=\"M 31.78125 66.40625 \nQ 24.171875 66.40625 20.328125 58.90625 \nQ 16.5 51.421875 16.5 36.375 \nQ 16.5 21.390625 20.328125 13.890625 \nQ 24.171875 6.390625 31.78125 6.390625 \nQ 39.453125 6.390625 43.28125 13.890625 \nQ 47.125 21.390625 47.125 36.375 \nQ 47.125 51.421875 43.28125 58.90625 \nQ 39.453125 66.40625 31.78125 66.40625 \nz\nM 31.78125 74.21875 \nQ 44.046875 74.21875 50.515625 64.515625 \nQ 56.984375 54.828125 56.984375 36.375 \nQ 56.984375 17.96875 50.515625 8.265625 \nQ 44.046875 -1.421875 31.78125 -1.421875 \nQ 19.53125 -1.421875 13.0625 8.265625 \nQ 6.59375 17.96875 6.59375 36.375 \nQ 6.59375 54.828125 13.0625 64.515625 \nQ 19.53125 74.21875 31.78125 74.21875 \nz\n\" id=\"DejaVuSans-48\"/>\n       <path d=\"M 10.6875 12.40625 \nL 21 12.40625 \nL 21 0 \nL 10.6875 0 \nz\n\" id=\"DejaVuSans-46\"/>\n      </defs>\n      <g transform=\"translate(89.784517 582.796094)scale(0.1 -0.1)\">\n       <use xlink:href=\"#DejaVuSans-48\"/>\n       <use x=\"63.623047\" xlink:href=\"#DejaVuSans-46\"/>\n       <use x=\"95.410156\" xlink:href=\"#DejaVuSans-48\"/>\n      </g>\n     </g>\n    </g>\n    <g id=\"xtick_2\">\n     <g id=\"line2d_2\">\n      <g>\n       <use style=\"stroke:#000000;stroke-width:0.8;\" x=\"192.849716\" xlink:href=\"#m1b8938bbb9\" y=\"568.197656\"/>\n      </g>\n     </g>\n     <g id=\"text_2\">\n      <!-- 2.5 -->\n      <defs>\n       <path d=\"M 19.1875 8.296875 \nL 53.609375 8.296875 \nL 53.609375 0 \nL 7.328125 0 \nL 7.328125 8.296875 \nQ 12.9375 14.109375 22.625 23.890625 \nQ 32.328125 33.6875 34.8125 36.53125 \nQ 39.546875 41.84375 41.421875 45.53125 \nQ 43.3125 49.21875 43.3125 52.78125 \nQ 43.3125 58.59375 39.234375 62.25 \nQ 35.15625 65.921875 28.609375 65.921875 \nQ 23.96875 65.921875 18.8125 64.3125 \nQ 13.671875 62.703125 7.8125 59.421875 \nL 7.8125 69.390625 \nQ 13.765625 71.78125 18.9375 73 \nQ 24.125 74.21875 28.421875 74.21875 \nQ 39.75 74.21875 46.484375 68.546875 \nQ 53.21875 62.890625 53.21875 53.421875 \nQ 53.21875 48.921875 51.53125 44.890625 \nQ 49.859375 40.875 45.40625 35.40625 \nQ 44.1875 33.984375 37.640625 27.21875 \nQ 31.109375 20.453125 19.1875 8.296875 \nz\n\" id=\"DejaVuSans-50\"/>\n       <path d=\"M 10.796875 72.90625 \nL 49.515625 72.90625 \nL 49.515625 64.59375 \nL 19.828125 64.59375 \nL 19.828125 46.734375 \nQ 21.96875 47.46875 24.109375 47.828125 \nQ 26.265625 48.1875 28.421875 48.1875 \nQ 40.625 48.1875 47.75 41.5 \nQ 54.890625 34.8125 54.890625 23.390625 \nQ 54.890625 11.625 47.5625 5.09375 \nQ 40.234375 -1.421875 26.90625 -1.421875 \nQ 22.3125 -1.421875 17.546875 -0.640625 \nQ 12.796875 0.140625 7.71875 1.703125 \nL 7.71875 11.625 \nQ 12.109375 9.234375 16.796875 8.0625 \nQ 21.484375 6.890625 26.703125 6.890625 \nQ 35.15625 6.890625 40.078125 11.328125 \nQ 45.015625 15.765625 45.015625 23.390625 \nQ 45.015625 31 40.078125 35.4375 \nQ 35.15625 39.890625 26.703125 39.890625 \nQ 22.75 39.890625 18.8125 39.015625 \nQ 14.890625 38.140625 10.796875 36.28125 \nz\n\" id=\"DejaVuSans-53\"/>\n      </defs>\n      <g transform=\"translate(184.898153 582.796094)scale(0.1 -0.1)\">\n       <use xlink:href=\"#DejaVuSans-50\"/>\n       <use x=\"63.623047\" xlink:href=\"#DejaVuSans-46\"/>\n       <use x=\"95.410156\" xlink:href=\"#DejaVuSans-53\"/>\n      </g>\n     </g>\n    </g>\n    <g id=\"xtick_3\">\n     <g id=\"line2d_3\">\n      <g>\n       <use style=\"stroke:#000000;stroke-width:0.8;\" x=\"287.963352\" xlink:href=\"#m1b8938bbb9\" y=\"568.197656\"/>\n      </g>\n     </g>\n     <g id=\"text_3\">\n      <!-- 5.0 -->\n      <g transform=\"translate(280.01179 582.796094)scale(0.1 -0.1)\">\n       <use xlink:href=\"#DejaVuSans-53\"/>\n       <use x=\"63.623047\" xlink:href=\"#DejaVuSans-46\"/>\n       <use x=\"95.410156\" xlink:href=\"#DejaVuSans-48\"/>\n      </g>\n     </g>\n    </g>\n    <g id=\"xtick_4\">\n     <g id=\"line2d_4\">\n      <g>\n       <use style=\"stroke:#000000;stroke-width:0.8;\" x=\"383.076989\" xlink:href=\"#m1b8938bbb9\" y=\"568.197656\"/>\n      </g>\n     </g>\n     <g id=\"text_4\">\n      <!-- 7.5 -->\n      <defs>\n       <path d=\"M 8.203125 72.90625 \nL 55.078125 72.90625 \nL 55.078125 68.703125 \nL 28.609375 0 \nL 18.3125 0 \nL 43.21875 64.59375 \nL 8.203125 64.59375 \nz\n\" id=\"DejaVuSans-55\"/>\n      </defs>\n      <g transform=\"translate(375.125426 582.796094)scale(0.1 -0.1)\">\n       <use xlink:href=\"#DejaVuSans-55\"/>\n       <use x=\"63.623047\" xlink:href=\"#DejaVuSans-46\"/>\n       <use x=\"95.410156\" xlink:href=\"#DejaVuSans-53\"/>\n      </g>\n     </g>\n    </g>\n    <g id=\"xtick_5\">\n     <g id=\"line2d_5\">\n      <g>\n       <use style=\"stroke:#000000;stroke-width:0.8;\" x=\"478.190625\" xlink:href=\"#m1b8938bbb9\" y=\"568.197656\"/>\n      </g>\n     </g>\n     <g id=\"text_5\">\n      <!-- 10.0 -->\n      <defs>\n       <path d=\"M 12.40625 8.296875 \nL 28.515625 8.296875 \nL 28.515625 63.921875 \nL 10.984375 60.40625 \nL 10.984375 69.390625 \nL 28.421875 72.90625 \nL 38.28125 72.90625 \nL 38.28125 8.296875 \nL 54.390625 8.296875 \nL 54.390625 0 \nL 12.40625 0 \nz\n\" id=\"DejaVuSans-49\"/>\n      </defs>\n      <g transform=\"translate(467.057813 582.796094)scale(0.1 -0.1)\">\n       <use xlink:href=\"#DejaVuSans-49\"/>\n       <use x=\"63.623047\" xlink:href=\"#DejaVuSans-48\"/>\n       <use x=\"127.246094\" xlink:href=\"#DejaVuSans-46\"/>\n       <use x=\"159.033203\" xlink:href=\"#DejaVuSans-48\"/>\n      </g>\n     </g>\n    </g>\n    <g id=\"xtick_6\">\n     <g id=\"line2d_6\">\n      <g>\n       <use style=\"stroke:#000000;stroke-width:0.8;\" x=\"573.304261\" xlink:href=\"#m1b8938bbb9\" y=\"568.197656\"/>\n      </g>\n     </g>\n     <g id=\"text_6\">\n      <!-- 12.5 -->\n      <g transform=\"translate(562.171449 582.796094)scale(0.1 -0.1)\">\n       <use xlink:href=\"#DejaVuSans-49\"/>\n       <use x=\"63.623047\" xlink:href=\"#DejaVuSans-50\"/>\n       <use x=\"127.246094\" xlink:href=\"#DejaVuSans-46\"/>\n       <use x=\"159.033203\" xlink:href=\"#DejaVuSans-53\"/>\n      </g>\n     </g>\n    </g>\n    <g id=\"xtick_7\">\n     <g id=\"line2d_7\">\n      <g>\n       <use style=\"stroke:#000000;stroke-width:0.8;\" x=\"668.417898\" xlink:href=\"#m1b8938bbb9\" y=\"568.197656\"/>\n      </g>\n     </g>\n     <g id=\"text_7\">\n      <!-- 15.0 -->\n      <g transform=\"translate(657.285085 582.796094)scale(0.1 -0.1)\">\n       <use xlink:href=\"#DejaVuSans-49\"/>\n       <use x=\"63.623047\" xlink:href=\"#DejaVuSans-53\"/>\n       <use x=\"127.246094\" xlink:href=\"#DejaVuSans-46\"/>\n       <use x=\"159.033203\" xlink:href=\"#DejaVuSans-48\"/>\n      </g>\n     </g>\n    </g>\n    <g id=\"xtick_8\">\n     <g id=\"line2d_8\">\n      <g>\n       <use style=\"stroke:#000000;stroke-width:0.8;\" x=\"763.531534\" xlink:href=\"#m1b8938bbb9\" y=\"568.197656\"/>\n      </g>\n     </g>\n     <g id=\"text_8\">\n      <!-- 17.5 -->\n      <g transform=\"translate(752.398722 582.796094)scale(0.1 -0.1)\">\n       <use xlink:href=\"#DejaVuSans-49\"/>\n       <use x=\"63.623047\" xlink:href=\"#DejaVuSans-55\"/>\n       <use x=\"127.246094\" xlink:href=\"#DejaVuSans-46\"/>\n       <use x=\"159.033203\" xlink:href=\"#DejaVuSans-53\"/>\n      </g>\n     </g>\n    </g>\n    <g id=\"xtick_9\">\n     <g id=\"line2d_9\">\n      <g>\n       <use style=\"stroke:#000000;stroke-width:0.8;\" x=\"858.64517\" xlink:href=\"#m1b8938bbb9\" y=\"568.197656\"/>\n      </g>\n     </g>\n     <g id=\"text_9\">\n      <!-- 20.0 -->\n      <g transform=\"translate(847.512358 582.796094)scale(0.1 -0.1)\">\n       <use xlink:href=\"#DejaVuSans-50\"/>\n       <use x=\"63.623047\" xlink:href=\"#DejaVuSans-48\"/>\n       <use x=\"127.246094\" xlink:href=\"#DejaVuSans-46\"/>\n       <use x=\"159.033203\" xlink:href=\"#DejaVuSans-48\"/>\n      </g>\n     </g>\n    </g>\n    <g id=\"text_10\">\n     <!-- Nb common words -->\n     <defs>\n      <path d=\"M 9.8125 72.90625 \nL 23.09375 72.90625 \nL 55.421875 11.921875 \nL 55.421875 72.90625 \nL 64.984375 72.90625 \nL 64.984375 0 \nL 51.703125 0 \nL 19.390625 60.984375 \nL 19.390625 0 \nL 9.8125 0 \nz\n\" id=\"DejaVuSans-78\"/>\n      <path d=\"M 48.6875 27.296875 \nQ 48.6875 37.203125 44.609375 42.84375 \nQ 40.53125 48.484375 33.40625 48.484375 \nQ 26.265625 48.484375 22.1875 42.84375 \nQ 18.109375 37.203125 18.109375 27.296875 \nQ 18.109375 17.390625 22.1875 11.75 \nQ 26.265625 6.109375 33.40625 6.109375 \nQ 40.53125 6.109375 44.609375 11.75 \nQ 48.6875 17.390625 48.6875 27.296875 \nz\nM 18.109375 46.390625 \nQ 20.953125 51.265625 25.265625 53.625 \nQ 29.59375 56 35.59375 56 \nQ 45.5625 56 51.78125 48.09375 \nQ 58.015625 40.1875 58.015625 27.296875 \nQ 58.015625 14.40625 51.78125 6.484375 \nQ 45.5625 -1.421875 35.59375 -1.421875 \nQ 29.59375 -1.421875 25.265625 0.953125 \nQ 20.953125 3.328125 18.109375 8.203125 \nL 18.109375 0 \nL 9.078125 0 \nL 9.078125 75.984375 \nL 18.109375 75.984375 \nz\n\" id=\"DejaVuSans-98\"/>\n      <path id=\"DejaVuSans-32\"/>\n      <path d=\"M 48.78125 52.59375 \nL 48.78125 44.1875 \nQ 44.96875 46.296875 41.140625 47.34375 \nQ 37.3125 48.390625 33.40625 48.390625 \nQ 24.65625 48.390625 19.8125 42.84375 \nQ 14.984375 37.3125 14.984375 27.296875 \nQ 14.984375 17.28125 19.8125 11.734375 \nQ 24.65625 6.203125 33.40625 6.203125 \nQ 37.3125 6.203125 41.140625 7.25 \nQ 44.96875 8.296875 48.78125 10.40625 \nL 48.78125 2.09375 \nQ 45.015625 0.34375 40.984375 -0.53125 \nQ 36.96875 -1.421875 32.421875 -1.421875 \nQ 20.0625 -1.421875 12.78125 6.34375 \nQ 5.515625 14.109375 5.515625 27.296875 \nQ 5.515625 40.671875 12.859375 48.328125 \nQ 20.21875 56 33.015625 56 \nQ 37.15625 56 41.109375 55.140625 \nQ 45.0625 54.296875 48.78125 52.59375 \nz\n\" id=\"DejaVuSans-99\"/>\n      <path d=\"M 30.609375 48.390625 \nQ 23.390625 48.390625 19.1875 42.75 \nQ 14.984375 37.109375 14.984375 27.296875 \nQ 14.984375 17.484375 19.15625 11.84375 \nQ 23.34375 6.203125 30.609375 6.203125 \nQ 37.796875 6.203125 41.984375 11.859375 \nQ 46.1875 17.53125 46.1875 27.296875 \nQ 46.1875 37.015625 41.984375 42.703125 \nQ 37.796875 48.390625 30.609375 48.390625 \nz\nM 30.609375 56 \nQ 42.328125 56 49.015625 48.375 \nQ 55.71875 40.765625 55.71875 27.296875 \nQ 55.71875 13.875 49.015625 6.21875 \nQ 42.328125 -1.421875 30.609375 -1.421875 \nQ 18.84375 -1.421875 12.171875 6.21875 \nQ 5.515625 13.875 5.515625 27.296875 \nQ 5.515625 40.765625 12.171875 48.375 \nQ 18.84375 56 30.609375 56 \nz\n\" id=\"DejaVuSans-111\"/>\n      <path d=\"M 52 44.1875 \nQ 55.375 50.25 60.0625 53.125 \nQ 64.75 56 71.09375 56 \nQ 79.640625 56 84.28125 50.015625 \nQ 88.921875 44.046875 88.921875 33.015625 \nL 88.921875 0 \nL 79.890625 0 \nL 79.890625 32.71875 \nQ 79.890625 40.578125 77.09375 44.375 \nQ 74.3125 48.1875 68.609375 48.1875 \nQ 61.625 48.1875 57.5625 43.546875 \nQ 53.515625 38.921875 53.515625 30.90625 \nL 53.515625 0 \nL 44.484375 0 \nL 44.484375 32.71875 \nQ 44.484375 40.625 41.703125 44.40625 \nQ 38.921875 48.1875 33.109375 48.1875 \nQ 26.21875 48.1875 22.15625 43.53125 \nQ 18.109375 38.875 18.109375 30.90625 \nL 18.109375 0 \nL 9.078125 0 \nL 9.078125 54.6875 \nL 18.109375 54.6875 \nL 18.109375 46.1875 \nQ 21.1875 51.21875 25.484375 53.609375 \nQ 29.78125 56 35.6875 56 \nQ 41.65625 56 45.828125 52.96875 \nQ 50 49.953125 52 44.1875 \nz\n\" id=\"DejaVuSans-109\"/>\n      <path d=\"M 54.890625 33.015625 \nL 54.890625 0 \nL 45.90625 0 \nL 45.90625 32.71875 \nQ 45.90625 40.484375 42.875 44.328125 \nQ 39.84375 48.1875 33.796875 48.1875 \nQ 26.515625 48.1875 22.3125 43.546875 \nQ 18.109375 38.921875 18.109375 30.90625 \nL 18.109375 0 \nL 9.078125 0 \nL 9.078125 54.6875 \nL 18.109375 54.6875 \nL 18.109375 46.1875 \nQ 21.34375 51.125 25.703125 53.5625 \nQ 30.078125 56 35.796875 56 \nQ 45.21875 56 50.046875 50.171875 \nQ 54.890625 44.34375 54.890625 33.015625 \nz\n\" id=\"DejaVuSans-110\"/>\n      <path d=\"M 4.203125 54.6875 \nL 13.1875 54.6875 \nL 24.421875 12.015625 \nL 35.59375 54.6875 \nL 46.1875 54.6875 \nL 57.421875 12.015625 \nL 68.609375 54.6875 \nL 77.59375 54.6875 \nL 63.28125 0 \nL 52.6875 0 \nL 40.921875 44.828125 \nL 29.109375 0 \nL 18.5 0 \nz\n\" id=\"DejaVuSans-119\"/>\n      <path d=\"M 41.109375 46.296875 \nQ 39.59375 47.171875 37.8125 47.578125 \nQ 36.03125 48 33.890625 48 \nQ 26.265625 48 22.1875 43.046875 \nQ 18.109375 38.09375 18.109375 28.8125 \nL 18.109375 0 \nL 9.078125 0 \nL 9.078125 54.6875 \nL 18.109375 54.6875 \nL 18.109375 46.1875 \nQ 20.953125 51.171875 25.484375 53.578125 \nQ 30.03125 56 36.53125 56 \nQ 37.453125 56 38.578125 55.875 \nQ 39.703125 55.765625 41.0625 55.515625 \nz\n\" id=\"DejaVuSans-114\"/>\n      <path d=\"M 45.40625 46.390625 \nL 45.40625 75.984375 \nL 54.390625 75.984375 \nL 54.390625 0 \nL 45.40625 0 \nL 45.40625 8.203125 \nQ 42.578125 3.328125 38.25 0.953125 \nQ 33.9375 -1.421875 27.875 -1.421875 \nQ 17.96875 -1.421875 11.734375 6.484375 \nQ 5.515625 14.40625 5.515625 27.296875 \nQ 5.515625 40.1875 11.734375 48.09375 \nQ 17.96875 56 27.875 56 \nQ 33.9375 56 38.25 53.625 \nQ 42.578125 51.265625 45.40625 46.390625 \nz\nM 14.796875 27.296875 \nQ 14.796875 17.390625 18.875 11.75 \nQ 22.953125 6.109375 30.078125 6.109375 \nQ 37.203125 6.109375 41.296875 11.75 \nQ 45.40625 17.390625 45.40625 27.296875 \nQ 45.40625 37.203125 41.296875 42.84375 \nQ 37.203125 48.484375 30.078125 48.484375 \nQ 22.953125 48.484375 18.875 42.84375 \nQ 14.796875 37.203125 14.796875 27.296875 \nz\n\" id=\"DejaVuSans-100\"/>\n      <path d=\"M 44.28125 53.078125 \nL 44.28125 44.578125 \nQ 40.484375 46.53125 36.375 47.5 \nQ 32.28125 48.484375 27.875 48.484375 \nQ 21.1875 48.484375 17.84375 46.4375 \nQ 14.5 44.390625 14.5 40.28125 \nQ 14.5 37.15625 16.890625 35.375 \nQ 19.28125 33.59375 26.515625 31.984375 \nL 29.59375 31.296875 \nQ 39.15625 29.25 43.1875 25.515625 \nQ 47.21875 21.78125 47.21875 15.09375 \nQ 47.21875 7.46875 41.1875 3.015625 \nQ 35.15625 -1.421875 24.609375 -1.421875 \nQ 20.21875 -1.421875 15.453125 -0.5625 \nQ 10.6875 0.296875 5.421875 2 \nL 5.421875 11.28125 \nQ 10.40625 8.6875 15.234375 7.390625 \nQ 20.0625 6.109375 24.8125 6.109375 \nQ 31.15625 6.109375 34.5625 8.28125 \nQ 37.984375 10.453125 37.984375 14.40625 \nQ 37.984375 18.0625 35.515625 20.015625 \nQ 33.0625 21.96875 24.703125 23.78125 \nL 21.578125 24.515625 \nQ 13.234375 26.265625 9.515625 29.90625 \nQ 5.8125 33.546875 5.8125 39.890625 \nQ 5.8125 47.609375 11.28125 51.796875 \nQ 16.75 56 26.8125 56 \nQ 31.78125 56 36.171875 55.265625 \nQ 40.578125 54.546875 44.28125 53.078125 \nz\n\" id=\"DejaVuSans-115\"/>\n     </defs>\n     <g transform=\"translate(431.425 596.474219)scale(0.1 -0.1)\">\n      <use xlink:href=\"#DejaVuSans-78\"/>\n      <use x=\"74.804688\" xlink:href=\"#DejaVuSans-98\"/>\n      <use x=\"138.28125\" xlink:href=\"#DejaVuSans-32\"/>\n      <use x=\"170.068359\" xlink:href=\"#DejaVuSans-99\"/>\n      <use x=\"225.048828\" xlink:href=\"#DejaVuSans-111\"/>\n      <use x=\"286.230469\" xlink:href=\"#DejaVuSans-109\"/>\n      <use x=\"383.642578\" xlink:href=\"#DejaVuSans-109\"/>\n      <use x=\"481.054688\" xlink:href=\"#DejaVuSans-111\"/>\n      <use x=\"542.236328\" xlink:href=\"#DejaVuSans-110\"/>\n      <use x=\"605.615234\" xlink:href=\"#DejaVuSans-32\"/>\n      <use x=\"637.402344\" xlink:href=\"#DejaVuSans-119\"/>\n      <use x=\"719.189453\" xlink:href=\"#DejaVuSans-111\"/>\n      <use x=\"780.371094\" xlink:href=\"#DejaVuSans-114\"/>\n      <use x=\"819.734375\" xlink:href=\"#DejaVuSans-100\"/>\n      <use x=\"883.210938\" xlink:href=\"#DejaVuSans-115\"/>\n     </g>\n    </g>\n   </g>\n   <g id=\"matplotlib.axis_2\">\n    <g id=\"ytick_1\">\n     <g id=\"line2d_10\">\n      <defs>\n       <path d=\"M 0 0 \nL -3.5 0 \n\" id=\"m193c4cdb01\" style=\"stroke:#000000;stroke-width:0.8;\"/>\n      </defs>\n      <g>\n       <use style=\"stroke:#000000;stroke-width:0.8;\" x=\"59.690625\" xlink:href=\"#m193c4cdb01\" y=\"568.197656\"/>\n      </g>\n     </g>\n     <g id=\"text_11\">\n      <!-- 0 -->\n      <g transform=\"translate(46.328125 571.996875)scale(0.1 -0.1)\">\n       <use xlink:href=\"#DejaVuSans-48\"/>\n      </g>\n     </g>\n    </g>\n    <g id=\"ytick_2\">\n     <g id=\"line2d_11\">\n      <g>\n       <use style=\"stroke:#000000;stroke-width:0.8;\" x=\"59.690625\" xlink:href=\"#m193c4cdb01\" y=\"484.032894\"/>\n      </g>\n     </g>\n     <g id=\"text_12\">\n      <!-- 10000 -->\n      <g transform=\"translate(20.878125 487.832113)scale(0.1 -0.1)\">\n       <use xlink:href=\"#DejaVuSans-49\"/>\n       <use x=\"63.623047\" xlink:href=\"#DejaVuSans-48\"/>\n       <use x=\"127.246094\" xlink:href=\"#DejaVuSans-48\"/>\n       <use x=\"190.869141\" xlink:href=\"#DejaVuSans-48\"/>\n       <use x=\"254.492188\" xlink:href=\"#DejaVuSans-48\"/>\n      </g>\n     </g>\n    </g>\n    <g id=\"ytick_3\">\n     <g id=\"line2d_12\">\n      <g>\n       <use style=\"stroke:#000000;stroke-width:0.8;\" x=\"59.690625\" xlink:href=\"#m193c4cdb01\" y=\"399.868132\"/>\n      </g>\n     </g>\n     <g id=\"text_13\">\n      <!-- 20000 -->\n      <g transform=\"translate(20.878125 403.66735)scale(0.1 -0.1)\">\n       <use xlink:href=\"#DejaVuSans-50\"/>\n       <use x=\"63.623047\" xlink:href=\"#DejaVuSans-48\"/>\n       <use x=\"127.246094\" xlink:href=\"#DejaVuSans-48\"/>\n       <use x=\"190.869141\" xlink:href=\"#DejaVuSans-48\"/>\n       <use x=\"254.492188\" xlink:href=\"#DejaVuSans-48\"/>\n      </g>\n     </g>\n    </g>\n    <g id=\"ytick_4\">\n     <g id=\"line2d_13\">\n      <g>\n       <use style=\"stroke:#000000;stroke-width:0.8;\" x=\"59.690625\" xlink:href=\"#m193c4cdb01\" y=\"315.703369\"/>\n      </g>\n     </g>\n     <g id=\"text_14\">\n      <!-- 30000 -->\n      <defs>\n       <path d=\"M 40.578125 39.3125 \nQ 47.65625 37.796875 51.625 33 \nQ 55.609375 28.21875 55.609375 21.1875 \nQ 55.609375 10.40625 48.1875 4.484375 \nQ 40.765625 -1.421875 27.09375 -1.421875 \nQ 22.515625 -1.421875 17.65625 -0.515625 \nQ 12.796875 0.390625 7.625 2.203125 \nL 7.625 11.71875 \nQ 11.71875 9.328125 16.59375 8.109375 \nQ 21.484375 6.890625 26.8125 6.890625 \nQ 36.078125 6.890625 40.9375 10.546875 \nQ 45.796875 14.203125 45.796875 21.1875 \nQ 45.796875 27.640625 41.28125 31.265625 \nQ 36.765625 34.90625 28.71875 34.90625 \nL 20.21875 34.90625 \nL 20.21875 43.015625 \nL 29.109375 43.015625 \nQ 36.375 43.015625 40.234375 45.921875 \nQ 44.09375 48.828125 44.09375 54.296875 \nQ 44.09375 59.90625 40.109375 62.90625 \nQ 36.140625 65.921875 28.71875 65.921875 \nQ 24.65625 65.921875 20.015625 65.03125 \nQ 15.375 64.15625 9.8125 62.3125 \nL 9.8125 71.09375 \nQ 15.4375 72.65625 20.34375 73.4375 \nQ 25.25 74.21875 29.59375 74.21875 \nQ 40.828125 74.21875 47.359375 69.109375 \nQ 53.90625 64.015625 53.90625 55.328125 \nQ 53.90625 49.265625 50.4375 45.09375 \nQ 46.96875 40.921875 40.578125 39.3125 \nz\n\" id=\"DejaVuSans-51\"/>\n      </defs>\n      <g transform=\"translate(20.878125 319.502588)scale(0.1 -0.1)\">\n       <use xlink:href=\"#DejaVuSans-51\"/>\n       <use x=\"63.623047\" xlink:href=\"#DejaVuSans-48\"/>\n       <use x=\"127.246094\" xlink:href=\"#DejaVuSans-48\"/>\n       <use x=\"190.869141\" xlink:href=\"#DejaVuSans-48\"/>\n       <use x=\"254.492188\" xlink:href=\"#DejaVuSans-48\"/>\n      </g>\n     </g>\n    </g>\n    <g id=\"ytick_5\">\n     <g id=\"line2d_14\">\n      <g>\n       <use style=\"stroke:#000000;stroke-width:0.8;\" x=\"59.690625\" xlink:href=\"#m193c4cdb01\" y=\"231.538607\"/>\n      </g>\n     </g>\n     <g id=\"text_15\">\n      <!-- 40000 -->\n      <defs>\n       <path d=\"M 37.796875 64.3125 \nL 12.890625 25.390625 \nL 37.796875 25.390625 \nz\nM 35.203125 72.90625 \nL 47.609375 72.90625 \nL 47.609375 25.390625 \nL 58.015625 25.390625 \nL 58.015625 17.1875 \nL 47.609375 17.1875 \nL 47.609375 0 \nL 37.796875 0 \nL 37.796875 17.1875 \nL 4.890625 17.1875 \nL 4.890625 26.703125 \nz\n\" id=\"DejaVuSans-52\"/>\n      </defs>\n      <g transform=\"translate(20.878125 235.337826)scale(0.1 -0.1)\">\n       <use xlink:href=\"#DejaVuSans-52\"/>\n       <use x=\"63.623047\" xlink:href=\"#DejaVuSans-48\"/>\n       <use x=\"127.246094\" xlink:href=\"#DejaVuSans-48\"/>\n       <use x=\"190.869141\" xlink:href=\"#DejaVuSans-48\"/>\n       <use x=\"254.492188\" xlink:href=\"#DejaVuSans-48\"/>\n      </g>\n     </g>\n    </g>\n    <g id=\"ytick_6\">\n     <g id=\"line2d_15\">\n      <g>\n       <use style=\"stroke:#000000;stroke-width:0.8;\" x=\"59.690625\" xlink:href=\"#m193c4cdb01\" y=\"147.373845\"/>\n      </g>\n     </g>\n     <g id=\"text_16\">\n      <!-- 50000 -->\n      <g transform=\"translate(20.878125 151.173064)scale(0.1 -0.1)\">\n       <use xlink:href=\"#DejaVuSans-53\"/>\n       <use x=\"63.623047\" xlink:href=\"#DejaVuSans-48\"/>\n       <use x=\"127.246094\" xlink:href=\"#DejaVuSans-48\"/>\n       <use x=\"190.869141\" xlink:href=\"#DejaVuSans-48\"/>\n       <use x=\"254.492188\" xlink:href=\"#DejaVuSans-48\"/>\n      </g>\n     </g>\n    </g>\n    <g id=\"ytick_7\">\n     <g id=\"line2d_16\">\n      <g>\n       <use style=\"stroke:#000000;stroke-width:0.8;\" x=\"59.690625\" xlink:href=\"#m193c4cdb01\" y=\"63.209083\"/>\n      </g>\n     </g>\n     <g id=\"text_17\">\n      <!-- 60000 -->\n      <defs>\n       <path d=\"M 33.015625 40.375 \nQ 26.375 40.375 22.484375 35.828125 \nQ 18.609375 31.296875 18.609375 23.390625 \nQ 18.609375 15.53125 22.484375 10.953125 \nQ 26.375 6.390625 33.015625 6.390625 \nQ 39.65625 6.390625 43.53125 10.953125 \nQ 47.40625 15.53125 47.40625 23.390625 \nQ 47.40625 31.296875 43.53125 35.828125 \nQ 39.65625 40.375 33.015625 40.375 \nz\nM 52.59375 71.296875 \nL 52.59375 62.3125 \nQ 48.875 64.0625 45.09375 64.984375 \nQ 41.3125 65.921875 37.59375 65.921875 \nQ 27.828125 65.921875 22.671875 59.328125 \nQ 17.53125 52.734375 16.796875 39.40625 \nQ 19.671875 43.65625 24.015625 45.921875 \nQ 28.375 48.1875 33.59375 48.1875 \nQ 44.578125 48.1875 50.953125 41.515625 \nQ 57.328125 34.859375 57.328125 23.390625 \nQ 57.328125 12.15625 50.6875 5.359375 \nQ 44.046875 -1.421875 33.015625 -1.421875 \nQ 20.359375 -1.421875 13.671875 8.265625 \nQ 6.984375 17.96875 6.984375 36.375 \nQ 6.984375 53.65625 15.1875 63.9375 \nQ 23.390625 74.21875 37.203125 74.21875 \nQ 40.921875 74.21875 44.703125 73.484375 \nQ 48.484375 72.75 52.59375 71.296875 \nz\n\" id=\"DejaVuSans-54\"/>\n      </defs>\n      <g transform=\"translate(20.878125 67.008301)scale(0.1 -0.1)\">\n       <use xlink:href=\"#DejaVuSans-54\"/>\n       <use x=\"63.623047\" xlink:href=\"#DejaVuSans-48\"/>\n       <use x=\"127.246094\" xlink:href=\"#DejaVuSans-48\"/>\n       <use x=\"190.869141\" xlink:href=\"#DejaVuSans-48\"/>\n       <use x=\"254.492188\" xlink:href=\"#DejaVuSans-48\"/>\n      </g>\n     </g>\n    </g>\n    <g id=\"text_18\">\n     <!-- Prob -->\n     <defs>\n      <path d=\"M 19.671875 64.796875 \nL 19.671875 37.40625 \nL 32.078125 37.40625 \nQ 38.96875 37.40625 42.71875 40.96875 \nQ 46.484375 44.53125 46.484375 51.125 \nQ 46.484375 57.671875 42.71875 61.234375 \nQ 38.96875 64.796875 32.078125 64.796875 \nz\nM 9.8125 72.90625 \nL 32.078125 72.90625 \nQ 44.34375 72.90625 50.609375 67.359375 \nQ 56.890625 61.8125 56.890625 51.125 \nQ 56.890625 40.328125 50.609375 34.8125 \nQ 44.34375 29.296875 32.078125 29.296875 \nL 19.671875 29.296875 \nL 19.671875 0 \nL 9.8125 0 \nz\n\" id=\"DejaVuSans-80\"/>\n     </defs>\n     <g transform=\"translate(14.798438 307.501563)rotate(-90)scale(0.1 -0.1)\">\n      <use xlink:href=\"#DejaVuSans-80\"/>\n      <use x=\"58.552734\" xlink:href=\"#DejaVuSans-114\"/>\n      <use x=\"97.416016\" xlink:href=\"#DejaVuSans-111\"/>\n      <use x=\"158.597656\" xlink:href=\"#DejaVuSans-98\"/>\n     </g>\n    </g>\n   </g>\n   <g id=\"patch_43\">\n    <path d=\"M 59.690625 568.197656 \nL 59.690625 24.597656 \n\" style=\"fill:none;stroke:#000000;stroke-linecap:square;stroke-linejoin:miter;stroke-width:0.8;\"/>\n   </g>\n   <g id=\"patch_44\">\n    <path d=\"M 896.690625 568.197656 \nL 896.690625 24.597656 \n\" style=\"fill:none;stroke:#000000;stroke-linecap:square;stroke-linejoin:miter;stroke-width:0.8;\"/>\n   </g>\n   <g id=\"patch_45\">\n    <path d=\"M 59.690625 568.197656 \nL 896.690625 568.197656 \n\" style=\"fill:none;stroke:#000000;stroke-linecap:square;stroke-linejoin:miter;stroke-width:0.8;\"/>\n   </g>\n   <g id=\"patch_46\">\n    <path d=\"M 59.690625 24.597656 \nL 896.690625 24.597656 \n\" style=\"fill:none;stroke:#000000;stroke-linecap:square;stroke-linejoin:miter;stroke-width:0.8;\"/>\n   </g>\n   <g id=\"text_19\">\n    <!-- Distribution of Nb lower common words+Nb common words -->\n    <defs>\n     <path d=\"M 19.671875 64.796875 \nL 19.671875 8.109375 \nL 31.59375 8.109375 \nQ 46.6875 8.109375 53.6875 14.9375 \nQ 60.6875 21.78125 60.6875 36.53125 \nQ 60.6875 51.171875 53.6875 57.984375 \nQ 46.6875 64.796875 31.59375 64.796875 \nz\nM 9.8125 72.90625 \nL 30.078125 72.90625 \nQ 51.265625 72.90625 61.171875 64.09375 \nQ 71.09375 55.28125 71.09375 36.53125 \nQ 71.09375 17.671875 61.125 8.828125 \nQ 51.171875 0 30.078125 0 \nL 9.8125 0 \nz\n\" id=\"DejaVuSans-68\"/>\n     <path d=\"M 9.421875 54.6875 \nL 18.40625 54.6875 \nL 18.40625 0 \nL 9.421875 0 \nz\nM 9.421875 75.984375 \nL 18.40625 75.984375 \nL 18.40625 64.59375 \nL 9.421875 64.59375 \nz\n\" id=\"DejaVuSans-105\"/>\n     <path d=\"M 18.3125 70.21875 \nL 18.3125 54.6875 \nL 36.8125 54.6875 \nL 36.8125 47.703125 \nL 18.3125 47.703125 \nL 18.3125 18.015625 \nQ 18.3125 11.328125 20.140625 9.421875 \nQ 21.96875 7.515625 27.59375 7.515625 \nL 36.8125 7.515625 \nL 36.8125 0 \nL 27.59375 0 \nQ 17.1875 0 13.234375 3.875 \nQ 9.28125 7.765625 9.28125 18.015625 \nL 9.28125 47.703125 \nL 2.6875 47.703125 \nL 2.6875 54.6875 \nL 9.28125 54.6875 \nL 9.28125 70.21875 \nz\n\" id=\"DejaVuSans-116\"/>\n     <path d=\"M 8.5 21.578125 \nL 8.5 54.6875 \nL 17.484375 54.6875 \nL 17.484375 21.921875 \nQ 17.484375 14.15625 20.5 10.265625 \nQ 23.53125 6.390625 29.59375 6.390625 \nQ 36.859375 6.390625 41.078125 11.03125 \nQ 45.3125 15.671875 45.3125 23.6875 \nL 45.3125 54.6875 \nL 54.296875 54.6875 \nL 54.296875 0 \nL 45.3125 0 \nL 45.3125 8.40625 \nQ 42.046875 3.421875 37.71875 1 \nQ 33.40625 -1.421875 27.6875 -1.421875 \nQ 18.265625 -1.421875 13.375 4.4375 \nQ 8.5 10.296875 8.5 21.578125 \nz\nM 31.109375 56 \nz\n\" id=\"DejaVuSans-117\"/>\n     <path d=\"M 37.109375 75.984375 \nL 37.109375 68.5 \nL 28.515625 68.5 \nQ 23.6875 68.5 21.796875 66.546875 \nQ 19.921875 64.59375 19.921875 59.515625 \nL 19.921875 54.6875 \nL 34.71875 54.6875 \nL 34.71875 47.703125 \nL 19.921875 47.703125 \nL 19.921875 0 \nL 10.890625 0 \nL 10.890625 47.703125 \nL 2.296875 47.703125 \nL 2.296875 54.6875 \nL 10.890625 54.6875 \nL 10.890625 58.5 \nQ 10.890625 67.625 15.140625 71.796875 \nQ 19.390625 75.984375 28.609375 75.984375 \nz\n\" id=\"DejaVuSans-102\"/>\n     <path d=\"M 9.421875 75.984375 \nL 18.40625 75.984375 \nL 18.40625 0 \nL 9.421875 0 \nz\n\" id=\"DejaVuSans-108\"/>\n     <path d=\"M 56.203125 29.59375 \nL 56.203125 25.203125 \nL 14.890625 25.203125 \nQ 15.484375 15.921875 20.484375 11.0625 \nQ 25.484375 6.203125 34.421875 6.203125 \nQ 39.59375 6.203125 44.453125 7.46875 \nQ 49.3125 8.734375 54.109375 11.28125 \nL 54.109375 2.78125 \nQ 49.265625 0.734375 44.1875 -0.34375 \nQ 39.109375 -1.421875 33.890625 -1.421875 \nQ 20.796875 -1.421875 13.15625 6.1875 \nQ 5.515625 13.8125 5.515625 26.8125 \nQ 5.515625 40.234375 12.765625 48.109375 \nQ 20.015625 56 32.328125 56 \nQ 43.359375 56 49.78125 48.890625 \nQ 56.203125 41.796875 56.203125 29.59375 \nz\nM 47.21875 32.234375 \nQ 47.125 39.59375 43.09375 43.984375 \nQ 39.0625 48.390625 32.421875 48.390625 \nQ 24.90625 48.390625 20.390625 44.140625 \nQ 15.875 39.890625 15.1875 32.171875 \nz\n\" id=\"DejaVuSans-101\"/>\n     <path d=\"M 46 62.703125 \nL 46 35.5 \nL 73.1875 35.5 \nL 73.1875 27.203125 \nL 46 27.203125 \nL 46 0 \nL 37.796875 0 \nL 37.796875 27.203125 \nL 10.59375 27.203125 \nL 10.59375 35.5 \nL 37.796875 35.5 \nL 37.796875 62.703125 \nz\n\" id=\"DejaVuSans-43\"/>\n    </defs>\n    <g transform=\"translate(252.971484 18.597656)scale(0.15 -0.15)\">\n     <use xlink:href=\"#DejaVuSans-68\"/>\n     <use x=\"77.001953\" xlink:href=\"#DejaVuSans-105\"/>\n     <use x=\"104.785156\" xlink:href=\"#DejaVuSans-115\"/>\n     <use x=\"156.884766\" xlink:href=\"#DejaVuSans-116\"/>\n     <use x=\"196.09375\" xlink:href=\"#DejaVuSans-114\"/>\n     <use x=\"237.207031\" xlink:href=\"#DejaVuSans-105\"/>\n     <use x=\"264.990234\" xlink:href=\"#DejaVuSans-98\"/>\n     <use x=\"328.466797\" xlink:href=\"#DejaVuSans-117\"/>\n     <use x=\"391.845703\" xlink:href=\"#DejaVuSans-116\"/>\n     <use x=\"431.054688\" xlink:href=\"#DejaVuSans-105\"/>\n     <use x=\"458.837891\" xlink:href=\"#DejaVuSans-111\"/>\n     <use x=\"520.019531\" xlink:href=\"#DejaVuSans-110\"/>\n     <use x=\"583.398438\" xlink:href=\"#DejaVuSans-32\"/>\n     <use x=\"615.185547\" xlink:href=\"#DejaVuSans-111\"/>\n     <use x=\"676.367188\" xlink:href=\"#DejaVuSans-102\"/>\n     <use x=\"711.572266\" xlink:href=\"#DejaVuSans-32\"/>\n     <use x=\"743.359375\" xlink:href=\"#DejaVuSans-78\"/>\n     <use x=\"818.164062\" xlink:href=\"#DejaVuSans-98\"/>\n     <use x=\"881.640625\" xlink:href=\"#DejaVuSans-32\"/>\n     <use x=\"913.427734\" xlink:href=\"#DejaVuSans-108\"/>\n     <use x=\"941.210938\" xlink:href=\"#DejaVuSans-111\"/>\n     <use x=\"1002.392578\" xlink:href=\"#DejaVuSans-119\"/>\n     <use x=\"1084.179688\" xlink:href=\"#DejaVuSans-101\"/>\n     <use x=\"1145.703125\" xlink:href=\"#DejaVuSans-114\"/>\n     <use x=\"1186.816406\" xlink:href=\"#DejaVuSans-32\"/>\n     <use x=\"1218.603516\" xlink:href=\"#DejaVuSans-99\"/>\n     <use x=\"1273.583984\" xlink:href=\"#DejaVuSans-111\"/>\n     <use x=\"1334.765625\" xlink:href=\"#DejaVuSans-109\"/>\n     <use x=\"1432.177734\" xlink:href=\"#DejaVuSans-109\"/>\n     <use x=\"1529.589844\" xlink:href=\"#DejaVuSans-111\"/>\n     <use x=\"1590.771484\" xlink:href=\"#DejaVuSans-110\"/>\n     <use x=\"1654.150391\" xlink:href=\"#DejaVuSans-32\"/>\n     <use x=\"1685.9375\" xlink:href=\"#DejaVuSans-119\"/>\n     <use x=\"1767.724609\" xlink:href=\"#DejaVuSans-111\"/>\n     <use x=\"1828.90625\" xlink:href=\"#DejaVuSans-114\"/>\n     <use x=\"1868.269531\" xlink:href=\"#DejaVuSans-100\"/>\n     <use x=\"1931.746094\" xlink:href=\"#DejaVuSans-115\"/>\n     <use x=\"1983.845703\" xlink:href=\"#DejaVuSans-43\"/>\n     <use x=\"2067.634766\" xlink:href=\"#DejaVuSans-78\"/>\n     <use x=\"2142.439453\" xlink:href=\"#DejaVuSans-98\"/>\n     <use x=\"2205.916016\" xlink:href=\"#DejaVuSans-32\"/>\n     <use x=\"2237.703125\" xlink:href=\"#DejaVuSans-99\"/>\n     <use x=\"2292.683594\" xlink:href=\"#DejaVuSans-111\"/>\n     <use x=\"2353.865234\" xlink:href=\"#DejaVuSans-109\"/>\n     <use x=\"2451.277344\" xlink:href=\"#DejaVuSans-109\"/>\n     <use x=\"2548.689453\" xlink:href=\"#DejaVuSans-111\"/>\n     <use x=\"2609.871094\" xlink:href=\"#DejaVuSans-110\"/>\n     <use x=\"2673.25\" xlink:href=\"#DejaVuSans-32\"/>\n     <use x=\"2705.037109\" xlink:href=\"#DejaVuSans-119\"/>\n     <use x=\"2786.824219\" xlink:href=\"#DejaVuSans-111\"/>\n     <use x=\"2848.005859\" xlink:href=\"#DejaVuSans-114\"/>\n     <use x=\"2887.369141\" xlink:href=\"#DejaVuSans-100\"/>\n     <use x=\"2950.845703\" xlink:href=\"#DejaVuSans-115\"/>\n    </g>\n   </g>\n   <g id=\"legend_1\">\n    <g id=\"patch_47\">\n     <path d=\"M 679.43125 61.953906 \nL 889.690625 61.953906 \nQ 891.690625 61.953906 891.690625 59.953906 \nL 891.690625 31.597656 \nQ 891.690625 29.597656 889.690625 29.597656 \nL 679.43125 29.597656 \nQ 677.43125 29.597656 677.43125 31.597656 \nL 677.43125 59.953906 \nQ 677.43125 61.953906 679.43125 61.953906 \nz\n\" style=\"fill:#ffffff;opacity:0.8;stroke:#cccccc;stroke-linejoin:miter;\"/>\n    </g>\n    <g id=\"patch_48\">\n     <path d=\"M 681.43125 41.196094 \nL 701.43125 41.196094 \nL 701.43125 34.196094 \nL 681.43125 34.196094 \nz\n\" style=\"fill:#ff0000;opacity:0.75;\"/>\n    </g>\n    <g id=\"text_20\">\n     <!-- Nb lower common words in training -->\n     <defs>\n      <path d=\"M 34.28125 27.484375 \nQ 23.390625 27.484375 19.1875 25 \nQ 14.984375 22.515625 14.984375 16.5 \nQ 14.984375 11.71875 18.140625 8.90625 \nQ 21.296875 6.109375 26.703125 6.109375 \nQ 34.1875 6.109375 38.703125 11.40625 \nQ 43.21875 16.703125 43.21875 25.484375 \nL 43.21875 27.484375 \nz\nM 52.203125 31.203125 \nL 52.203125 0 \nL 43.21875 0 \nL 43.21875 8.296875 \nQ 40.140625 3.328125 35.546875 0.953125 \nQ 30.953125 -1.421875 24.3125 -1.421875 \nQ 15.921875 -1.421875 10.953125 3.296875 \nQ 6 8.015625 6 15.921875 \nQ 6 25.140625 12.171875 29.828125 \nQ 18.359375 34.515625 30.609375 34.515625 \nL 43.21875 34.515625 \nL 43.21875 35.40625 \nQ 43.21875 41.609375 39.140625 45 \nQ 35.0625 48.390625 27.6875 48.390625 \nQ 23 48.390625 18.546875 47.265625 \nQ 14.109375 46.140625 10.015625 43.890625 \nL 10.015625 52.203125 \nQ 14.9375 54.109375 19.578125 55.046875 \nQ 24.21875 56 28.609375 56 \nQ 40.484375 56 46.34375 49.84375 \nQ 52.203125 43.703125 52.203125 31.203125 \nz\n\" id=\"DejaVuSans-97\"/>\n      <path d=\"M 45.40625 27.984375 \nQ 45.40625 37.75 41.375 43.109375 \nQ 37.359375 48.484375 30.078125 48.484375 \nQ 22.859375 48.484375 18.828125 43.109375 \nQ 14.796875 37.75 14.796875 27.984375 \nQ 14.796875 18.265625 18.828125 12.890625 \nQ 22.859375 7.515625 30.078125 7.515625 \nQ 37.359375 7.515625 41.375 12.890625 \nQ 45.40625 18.265625 45.40625 27.984375 \nz\nM 54.390625 6.78125 \nQ 54.390625 -7.171875 48.1875 -13.984375 \nQ 42 -20.796875 29.203125 -20.796875 \nQ 24.46875 -20.796875 20.265625 -20.09375 \nQ 16.0625 -19.390625 12.109375 -17.921875 \nL 12.109375 -9.1875 \nQ 16.0625 -11.328125 19.921875 -12.34375 \nQ 23.78125 -13.375 27.78125 -13.375 \nQ 36.625 -13.375 41.015625 -8.765625 \nQ 45.40625 -4.15625 45.40625 5.171875 \nL 45.40625 9.625 \nQ 42.625 4.78125 38.28125 2.390625 \nQ 33.9375 0 27.875 0 \nQ 17.828125 0 11.671875 7.65625 \nQ 5.515625 15.328125 5.515625 27.984375 \nQ 5.515625 40.671875 11.671875 48.328125 \nQ 17.828125 56 27.875 56 \nQ 33.9375 56 38.28125 53.609375 \nQ 42.625 51.21875 45.40625 46.390625 \nL 45.40625 54.6875 \nL 54.390625 54.6875 \nz\n\" id=\"DejaVuSans-103\"/>\n     </defs>\n     <g transform=\"translate(709.43125 41.196094)scale(0.1 -0.1)\">\n      <use xlink:href=\"#DejaVuSans-78\"/>\n      <use x=\"74.804688\" xlink:href=\"#DejaVuSans-98\"/>\n      <use x=\"138.28125\" xlink:href=\"#DejaVuSans-32\"/>\n      <use x=\"170.068359\" xlink:href=\"#DejaVuSans-108\"/>\n      <use x=\"197.851562\" xlink:href=\"#DejaVuSans-111\"/>\n      <use x=\"259.033203\" xlink:href=\"#DejaVuSans-119\"/>\n      <use x=\"340.820312\" xlink:href=\"#DejaVuSans-101\"/>\n      <use x=\"402.34375\" xlink:href=\"#DejaVuSans-114\"/>\n      <use x=\"443.457031\" xlink:href=\"#DejaVuSans-32\"/>\n      <use x=\"475.244141\" xlink:href=\"#DejaVuSans-99\"/>\n      <use x=\"530.224609\" xlink:href=\"#DejaVuSans-111\"/>\n      <use x=\"591.40625\" xlink:href=\"#DejaVuSans-109\"/>\n      <use x=\"688.818359\" xlink:href=\"#DejaVuSans-109\"/>\n      <use x=\"786.230469\" xlink:href=\"#DejaVuSans-111\"/>\n      <use x=\"847.412109\" xlink:href=\"#DejaVuSans-110\"/>\n      <use x=\"910.791016\" xlink:href=\"#DejaVuSans-32\"/>\n      <use x=\"942.578125\" xlink:href=\"#DejaVuSans-119\"/>\n      <use x=\"1024.365234\" xlink:href=\"#DejaVuSans-111\"/>\n      <use x=\"1085.546875\" xlink:href=\"#DejaVuSans-114\"/>\n      <use x=\"1124.910156\" xlink:href=\"#DejaVuSans-100\"/>\n      <use x=\"1188.386719\" xlink:href=\"#DejaVuSans-115\"/>\n      <use x=\"1240.486328\" xlink:href=\"#DejaVuSans-32\"/>\n      <use x=\"1272.273438\" xlink:href=\"#DejaVuSans-105\"/>\n      <use x=\"1300.056641\" xlink:href=\"#DejaVuSans-110\"/>\n      <use x=\"1363.435547\" xlink:href=\"#DejaVuSans-32\"/>\n      <use x=\"1395.222656\" xlink:href=\"#DejaVuSans-116\"/>\n      <use x=\"1434.431641\" xlink:href=\"#DejaVuSans-114\"/>\n      <use x=\"1475.544922\" xlink:href=\"#DejaVuSans-97\"/>\n      <use x=\"1536.824219\" xlink:href=\"#DejaVuSans-105\"/>\n      <use x=\"1564.607422\" xlink:href=\"#DejaVuSans-110\"/>\n      <use x=\"1627.986328\" xlink:href=\"#DejaVuSans-105\"/>\n      <use x=\"1655.769531\" xlink:href=\"#DejaVuSans-110\"/>\n      <use x=\"1719.148438\" xlink:href=\"#DejaVuSans-103\"/>\n     </g>\n    </g>\n    <g id=\"patch_49\">\n     <path d=\"M 681.43125 55.874219 \nL 701.43125 55.874219 \nL 701.43125 48.874219 \nL 681.43125 48.874219 \nz\n\" style=\"fill:#008000;opacity:0.5;\"/>\n    </g>\n    <g id=\"text_21\">\n     <!-- Nb common words in training -->\n     <g transform=\"translate(709.43125 55.874219)scale(0.1 -0.1)\">\n      <use xlink:href=\"#DejaVuSans-78\"/>\n      <use x=\"74.804688\" xlink:href=\"#DejaVuSans-98\"/>\n      <use x=\"138.28125\" xlink:href=\"#DejaVuSans-32\"/>\n      <use x=\"170.068359\" xlink:href=\"#DejaVuSans-99\"/>\n      <use x=\"225.048828\" xlink:href=\"#DejaVuSans-111\"/>\n      <use x=\"286.230469\" xlink:href=\"#DejaVuSans-109\"/>\n      <use x=\"383.642578\" xlink:href=\"#DejaVuSans-109\"/>\n      <use x=\"481.054688\" xlink:href=\"#DejaVuSans-111\"/>\n      <use x=\"542.236328\" xlink:href=\"#DejaVuSans-110\"/>\n      <use x=\"605.615234\" xlink:href=\"#DejaVuSans-32\"/>\n      <use x=\"637.402344\" xlink:href=\"#DejaVuSans-119\"/>\n      <use x=\"719.189453\" xlink:href=\"#DejaVuSans-111\"/>\n      <use x=\"780.371094\" xlink:href=\"#DejaVuSans-114\"/>\n      <use x=\"819.734375\" xlink:href=\"#DejaVuSans-100\"/>\n      <use x=\"883.210938\" xlink:href=\"#DejaVuSans-115\"/>\n      <use x=\"935.310547\" xlink:href=\"#DejaVuSans-32\"/>\n      <use x=\"967.097656\" xlink:href=\"#DejaVuSans-105\"/>\n      <use x=\"994.880859\" xlink:href=\"#DejaVuSans-110\"/>\n      <use x=\"1058.259766\" xlink:href=\"#DejaVuSans-32\"/>\n      <use x=\"1090.046875\" xlink:href=\"#DejaVuSans-116\"/>\n      <use x=\"1129.255859\" xlink:href=\"#DejaVuSans-114\"/>\n      <use x=\"1170.369141\" xlink:href=\"#DejaVuSans-97\"/>\n      <use x=\"1231.648438\" xlink:href=\"#DejaVuSans-105\"/>\n      <use x=\"1259.431641\" xlink:href=\"#DejaVuSans-110\"/>\n      <use x=\"1322.810547\" xlink:href=\"#DejaVuSans-105\"/>\n      <use x=\"1350.59375\" xlink:href=\"#DejaVuSans-110\"/>\n      <use x=\"1413.972656\" xlink:href=\"#DejaVuSans-103\"/>\n     </g>\n    </g>\n   </g>\n  </g>\n </g>\n <defs>\n  <clipPath id=\"pc0eef98bdb\">\n   <rect height=\"543.6\" width=\"837\" x=\"59.690625\" y=\"24.597656\"/>\n  </clipPath>\n </defs>\n</svg>\n",
      "image/png": "[encoded data removed]"
     },
     "metadata": {
      "needs_background": "light"
     }
    }
   ],
   "source": [
    "nb_changed = int(numpy.where(lower_train_dataframe['lower_nb_common_words']!=lower_train_dataframe['nb_common_words'],1,0).sum())\n",
    "print_info('We have changed %.2f %% of nb common_words !!' % (nb_changed*100./len(lower_train_dataframe)))\n",
    "\n",
    "from astropy.visualization import hist\n",
    "\n",
    "#sns.histplot(lower_training_dataframe['lower_nb_common_words'],stat='count',bins=50)\n",
    "#sns.histplot(lower_training_dataframe['nb_common_words'],color=\"g\",alpha=0.5,bins=50,legend=True)\n",
    "#sns.histplot(lower_training_dataframe['lower_nb_common_words'],color=\"r\",alpha=0.5,bins=50,legend=True)\n",
    "\n",
    "plot.figure(figsize=(15, 10))\n",
    "plot.hist(lower_train_dataframe['lower_nb_common_words'],bins=20,range=[0,20],density=False,color='r',label=\"Nb lower common words in training\",alpha=0.75,histtype='bar')\n",
    "plot.hist(lower_train_dataframe['nb_common_words'],bins=20,range=[0,20],density=False,color='g',label=\"Nb common words in training\",alpha=0.5,histtype='bar')\n",
    "plot.title('Distribution of Nb lower common words+Nb common words', fontsize=15)\n",
    "plot.xlabel('Nb common words')\n",
    "plot.ylabel('Prob')\n",
    "plot.legend()"
   ]
  },
  {
   "cell_type": "code",
   "execution_count": 6,
   "metadata": {
    "tags": []
   },
   "outputs": [
    {
     "output_type": "execute_result",
     "data": {
      "text/plain": "<matplotlib.legend.Legend at 0x7f02fbdd8190>"
     },
     "metadata": {},
     "execution_count": 6
    },
    {
     "output_type": "display_data",
     "data": {
      "text/plain": "<Figure size 1080x720 with 1 Axes>",
      "image/svg+xml": "<?xml version=\"1.0\" encoding=\"utf-8\" standalone=\"no\"?>\n<!DOCTYPE svg PUBLIC \"-//W3C//DTD SVG 1.1//EN\"\n  \"http://www.w3.org/Graphics/SVG/1.1/DTD/svg11.dtd\">\n<!-- Created with matplotlib (https://matplotlib.org/) -->\n<svg height=\"605.753906pt\" version=\"1.1\" viewBox=\"0 0 894.34375 605.753906\" width=\"894.34375pt\" xmlns=\"http://www.w3.org/2000/svg\" xmlns:xlink=\"http://www.w3.org/1999/xlink\">\n <defs>\n  <style type=\"text/css\">\n*{stroke-linecap:butt;stroke-linejoin:round;}\n  </style>\n </defs>\n <g id=\"figure_1\">\n  <g id=\"patch_1\">\n   <path d=\"M 0 605.753906 \nL 894.34375 605.753906 \nL 894.34375 0 \nL 0 0 \nz\n\" style=\"fill:none;\"/>\n  </g>\n  <g id=\"axes_1\">\n   <g id=\"patch_2\">\n    <path d=\"M 50.14375 568.197656 \nL 887.14375 568.197656 \nL 887.14375 24.597656 \nL 50.14375 24.597656 \nz\n\" style=\"fill:#ffffff;\"/>\n   </g>\n   <g id=\"patch_3\">\n    <path clip-path=\"url(#pd40c9d5d5d)\" d=\"M 88.189205 568.197656 \nL 88.189205 191.661343 \nL 97.247646 191.661343 \nL 97.247646 279.192696 \nL 115.364529 279.192696 \nL 115.364529 155.84082 \nL 133.481412 155.84082 \nL 133.481412 72.972195 \nL 151.598295 72.972195 \nL 151.598295 50.483371 \nL 169.715179 50.483371 \nL 169.715179 102.034287 \nL 187.832062 102.034287 \nL 187.832062 206.701586 \nL 205.948945 206.701586 \nL 205.948945 323.581191 \nL 224.065828 323.581191 \nL 224.065828 420.12659 \nL 242.182711 420.12659 \nL 242.182711 485.463695 \nL 260.299594 485.463695 \nL 260.299594 519.861833 \nL 278.416477 519.861833 \nL 278.416477 536.223463 \nL 296.53336 536.223463 \nL 296.53336 540.759944 \nL 314.650244 540.759944 \nL 314.650244 546.180154 \nL 332.767127 546.180154 \nL 332.767127 548.932342 \nL 350.88401 548.932342 \nL 350.88401 553.973811 \nL 369.000893 553.973811 \nL 369.000893 556.431422 \nL 387.117776 556.431422 \nL 387.117776 562.66242 \nL 441.468425 562.66242 \nL 441.468425 566.472279 \nL 459.585308 566.472279 \nL 459.585308 567.141388 \nL 495.819075 567.141388 \nL 495.819075 567.574837 \nL 513.935958 567.574837 \nL 513.935958 567.860997 \nL 532.052841 567.860997 \nL 532.052841 568.04616 \nL 586.40349 568.04616 \nL 586.40349 568.166796 \nL 640.75414 568.166796 \nL 640.75414 568.190442 \nL 830.981412 568.190442 \nL 830.981412 568.197656 \nL 640.75414 568.197656 \nL 640.75414 568.197656 \nL 586.40349 568.197656 \nL 586.40349 568.197656 \nL 532.052841 568.197656 \nL 532.052841 568.197656 \nL 513.935958 568.197656 \nL 513.935958 568.197656 \nL 495.819075 568.197656 \nL 495.819075 568.197656 \nL 459.585308 568.197656 \nL 459.585308 568.197656 \nL 441.468425 568.197656 \nL 441.468425 568.197656 \nL 387.117776 568.197656 \nL 387.117776 568.197656 \nL 369.000893 568.197656 \nL 369.000893 568.197656 \nL 350.88401 568.197656 \nL 350.88401 568.197656 \nL 332.767127 568.197656 \nL 332.767127 568.197656 \nL 314.650244 568.197656 \nL 314.650244 568.197656 \nL 296.53336 568.197656 \nL 296.53336 568.197656 \nL 278.416477 568.197656 \nL 278.416477 568.197656 \nL 260.299594 568.197656 \nL 260.299594 568.197656 \nL 242.182711 568.197656 \nL 242.182711 568.197656 \nL 224.065828 568.197656 \nL 224.065828 568.197656 \nL 205.948945 568.197656 \nL 205.948945 568.197656 \nL 187.832062 568.197656 \nL 187.832062 568.197656 \nL 169.715179 568.197656 \nL 169.715179 568.197656 \nL 151.598295 568.197656 \nL 151.598295 568.197656 \nL 133.481412 568.197656 \nL 133.481412 568.197656 \nL 115.364529 568.197656 \nL 115.364529 568.197656 \nL 97.247646 568.197656 \nL 97.247646 568.197656 \nz\n\" style=\"fill:#1f77b4;\"/>\n   </g>\n   <g id=\"patch_4\">\n    <path clip-path=\"url(#pd40c9d5d5d)\" d=\"M 88.189205 568.197656 \nL 88.189205 100.258411 \nL 97.247646 100.258411 \nL 97.247646 238.086626 \nL 115.364529 238.086626 \nL 115.364529 123.908709 \nL 133.481412 123.908709 \nL 133.481412 64.067563 \nL 169.715179 64.067563 \nL 169.715179 126.442068 \nL 187.832062 126.442068 \nL 187.832062 235.191358 \nL 205.948945 235.191358 \nL 205.948945 348.855869 \nL 224.065828 348.855869 \nL 224.065828 435.200499 \nL 242.182711 435.200499 \nL 242.182711 494.284162 \nL 260.299594 494.284162 \nL 260.299594 525.307293 \nL 278.416477 525.307293 \nL 278.416477 539.724717 \nL 296.53336 539.724717 \nL 296.53336 542.308575 \nL 314.650244 542.308575 \nL 314.650244 548.410521 \nL 332.767127 548.410521 \nL 332.767127 551.385745 \nL 369.000893 551.385745 \nL 369.000893 556.380924 \nL 387.117776 556.380924 \nL 387.117776 562.806903 \nL 423.351542 562.806903 \nL 423.351542 561.708553 \nL 441.468425 561.708553 \nL 441.468425 566.56486 \nL 459.585308 566.56486 \nL 459.585308 567.308315 \nL 513.935958 567.308315 \nL 513.935958 567.869414 \nL 532.052841 567.869414 \nL 532.052841 568.037743 \nL 586.40349 568.037743 \nL 586.40349 568.158379 \nL 640.75414 568.158379 \nL 640.75414 568.191069 \nL 849.098295 568.191069 \nL 849.098295 568.197656 \n\" style=\"fill:none;opacity:0.5;stroke:#ff7f0e;stroke-linejoin:miter;stroke-width:5;\"/>\n   </g>\n   <g id=\"matplotlib.axis_1\">\n    <g id=\"xtick_1\">\n     <g id=\"line2d_1\">\n      <defs>\n       <path d=\"M 0 0 \nL 0 3.5 \n\" id=\"m3d5313e1d5\" style=\"stroke:#000000;stroke-width:0.8;\"/>\n      </defs>\n      <g>\n       <use style=\"stroke:#000000;stroke-width:0.8;\" x=\"88.189205\" xlink:href=\"#m3d5313e1d5\" y=\"568.197656\"/>\n      </g>\n     </g>\n     <g id=\"text_1\">\n      <!-- 0 -->\n      <defs>\n       <path d=\"M 31.78125 66.40625 \nQ 24.171875 66.40625 20.328125 58.90625 \nQ 16.5 51.421875 16.5 36.375 \nQ 16.5 21.390625 20.328125 13.890625 \nQ 24.171875 6.390625 31.78125 6.390625 \nQ 39.453125 6.390625 43.28125 13.890625 \nQ 47.125 21.390625 47.125 36.375 \nQ 47.125 51.421875 43.28125 58.90625 \nQ 39.453125 66.40625 31.78125 66.40625 \nz\nM 31.78125 74.21875 \nQ 44.046875 74.21875 50.515625 64.515625 \nQ 56.984375 54.828125 56.984375 36.375 \nQ 56.984375 17.96875 50.515625 8.265625 \nQ 44.046875 -1.421875 31.78125 -1.421875 \nQ 19.53125 -1.421875 13.0625 8.265625 \nQ 6.59375 17.96875 6.59375 36.375 \nQ 6.59375 54.828125 13.0625 64.515625 \nQ 19.53125 74.21875 31.78125 74.21875 \nz\n\" id=\"DejaVuSans-48\"/>\n      </defs>\n      <g transform=\"translate(85.007955 582.796094)scale(0.1 -0.1)\">\n       <use xlink:href=\"#DejaVuSans-48\"/>\n      </g>\n     </g>\n    </g>\n    <g id=\"xtick_2\">\n     <g id=\"line2d_2\">\n      <g>\n       <use style=\"stroke:#000000;stroke-width:0.8;\" x=\"269.358036\" xlink:href=\"#m3d5313e1d5\" y=\"568.197656\"/>\n      </g>\n     </g>\n     <g id=\"text_2\">\n      <!-- 10 -->\n      <defs>\n       <path d=\"M 12.40625 8.296875 \nL 28.515625 8.296875 \nL 28.515625 63.921875 \nL 10.984375 60.40625 \nL 10.984375 69.390625 \nL 28.421875 72.90625 \nL 38.28125 72.90625 \nL 38.28125 8.296875 \nL 54.390625 8.296875 \nL 54.390625 0 \nL 12.40625 0 \nz\n\" id=\"DejaVuSans-49\"/>\n      </defs>\n      <g transform=\"translate(262.995536 582.796094)scale(0.1 -0.1)\">\n       <use xlink:href=\"#DejaVuSans-49\"/>\n       <use x=\"63.623047\" xlink:href=\"#DejaVuSans-48\"/>\n      </g>\n     </g>\n    </g>\n    <g id=\"xtick_3\">\n     <g id=\"line2d_3\">\n      <g>\n       <use style=\"stroke:#000000;stroke-width:0.8;\" x=\"450.526867\" xlink:href=\"#m3d5313e1d5\" y=\"568.197656\"/>\n      </g>\n     </g>\n     <g id=\"text_3\">\n      <!-- 20 -->\n      <defs>\n       <path d=\"M 19.1875 8.296875 \nL 53.609375 8.296875 \nL 53.609375 0 \nL 7.328125 0 \nL 7.328125 8.296875 \nQ 12.9375 14.109375 22.625 23.890625 \nQ 32.328125 33.6875 34.8125 36.53125 \nQ 39.546875 41.84375 41.421875 45.53125 \nQ 43.3125 49.21875 43.3125 52.78125 \nQ 43.3125 58.59375 39.234375 62.25 \nQ 35.15625 65.921875 28.609375 65.921875 \nQ 23.96875 65.921875 18.8125 64.3125 \nQ 13.671875 62.703125 7.8125 59.421875 \nL 7.8125 69.390625 \nQ 13.765625 71.78125 18.9375 73 \nQ 24.125 74.21875 28.421875 74.21875 \nQ 39.75 74.21875 46.484375 68.546875 \nQ 53.21875 62.890625 53.21875 53.421875 \nQ 53.21875 48.921875 51.53125 44.890625 \nQ 49.859375 40.875 45.40625 35.40625 \nQ 44.1875 33.984375 37.640625 27.21875 \nQ 31.109375 20.453125 19.1875 8.296875 \nz\n\" id=\"DejaVuSans-50\"/>\n      </defs>\n      <g transform=\"translate(444.164367 582.796094)scale(0.1 -0.1)\">\n       <use xlink:href=\"#DejaVuSans-50\"/>\n       <use x=\"63.623047\" xlink:href=\"#DejaVuSans-48\"/>\n      </g>\n     </g>\n    </g>\n    <g id=\"xtick_4\">\n     <g id=\"line2d_4\">\n      <g>\n       <use style=\"stroke:#000000;stroke-width:0.8;\" x=\"631.695698\" xlink:href=\"#m3d5313e1d5\" y=\"568.197656\"/>\n      </g>\n     </g>\n     <g id=\"text_4\">\n      <!-- 30 -->\n      <defs>\n       <path d=\"M 40.578125 39.3125 \nQ 47.65625 37.796875 51.625 33 \nQ 55.609375 28.21875 55.609375 21.1875 \nQ 55.609375 10.40625 48.1875 4.484375 \nQ 40.765625 -1.421875 27.09375 -1.421875 \nQ 22.515625 -1.421875 17.65625 -0.515625 \nQ 12.796875 0.390625 7.625 2.203125 \nL 7.625 11.71875 \nQ 11.71875 9.328125 16.59375 8.109375 \nQ 21.484375 6.890625 26.8125 6.890625 \nQ 36.078125 6.890625 40.9375 10.546875 \nQ 45.796875 14.203125 45.796875 21.1875 \nQ 45.796875 27.640625 41.28125 31.265625 \nQ 36.765625 34.90625 28.71875 34.90625 \nL 20.21875 34.90625 \nL 20.21875 43.015625 \nL 29.109375 43.015625 \nQ 36.375 43.015625 40.234375 45.921875 \nQ 44.09375 48.828125 44.09375 54.296875 \nQ 44.09375 59.90625 40.109375 62.90625 \nQ 36.140625 65.921875 28.71875 65.921875 \nQ 24.65625 65.921875 20.015625 65.03125 \nQ 15.375 64.15625 9.8125 62.3125 \nL 9.8125 71.09375 \nQ 15.4375 72.65625 20.34375 73.4375 \nQ 25.25 74.21875 29.59375 74.21875 \nQ 40.828125 74.21875 47.359375 69.109375 \nQ 53.90625 64.015625 53.90625 55.328125 \nQ 53.90625 49.265625 50.4375 45.09375 \nQ 46.96875 40.921875 40.578125 39.3125 \nz\n\" id=\"DejaVuSans-51\"/>\n      </defs>\n      <g transform=\"translate(625.333198 582.796094)scale(0.1 -0.1)\">\n       <use xlink:href=\"#DejaVuSans-51\"/>\n       <use x=\"63.623047\" xlink:href=\"#DejaVuSans-48\"/>\n      </g>\n     </g>\n    </g>\n    <g id=\"xtick_5\">\n     <g id=\"line2d_5\">\n      <g>\n       <use style=\"stroke:#000000;stroke-width:0.8;\" x=\"812.864529\" xlink:href=\"#m3d5313e1d5\" y=\"568.197656\"/>\n      </g>\n     </g>\n     <g id=\"text_5\">\n      <!-- 40 -->\n      <defs>\n       <path d=\"M 37.796875 64.3125 \nL 12.890625 25.390625 \nL 37.796875 25.390625 \nz\nM 35.203125 72.90625 \nL 47.609375 72.90625 \nL 47.609375 25.390625 \nL 58.015625 25.390625 \nL 58.015625 17.1875 \nL 47.609375 17.1875 \nL 47.609375 0 \nL 37.796875 0 \nL 37.796875 17.1875 \nL 4.890625 17.1875 \nL 4.890625 26.703125 \nz\n\" id=\"DejaVuSans-52\"/>\n      </defs>\n      <g transform=\"translate(806.502029 582.796094)scale(0.1 -0.1)\">\n       <use xlink:href=\"#DejaVuSans-52\"/>\n       <use x=\"63.623047\" xlink:href=\"#DejaVuSans-48\"/>\n      </g>\n     </g>\n    </g>\n    <g id=\"text_6\">\n     <!-- Nb common words -->\n     <defs>\n      <path d=\"M 9.8125 72.90625 \nL 23.09375 72.90625 \nL 55.421875 11.921875 \nL 55.421875 72.90625 \nL 64.984375 72.90625 \nL 64.984375 0 \nL 51.703125 0 \nL 19.390625 60.984375 \nL 19.390625 0 \nL 9.8125 0 \nz\n\" id=\"DejaVuSans-78\"/>\n      <path d=\"M 48.6875 27.296875 \nQ 48.6875 37.203125 44.609375 42.84375 \nQ 40.53125 48.484375 33.40625 48.484375 \nQ 26.265625 48.484375 22.1875 42.84375 \nQ 18.109375 37.203125 18.109375 27.296875 \nQ 18.109375 17.390625 22.1875 11.75 \nQ 26.265625 6.109375 33.40625 6.109375 \nQ 40.53125 6.109375 44.609375 11.75 \nQ 48.6875 17.390625 48.6875 27.296875 \nz\nM 18.109375 46.390625 \nQ 20.953125 51.265625 25.265625 53.625 \nQ 29.59375 56 35.59375 56 \nQ 45.5625 56 51.78125 48.09375 \nQ 58.015625 40.1875 58.015625 27.296875 \nQ 58.015625 14.40625 51.78125 6.484375 \nQ 45.5625 -1.421875 35.59375 -1.421875 \nQ 29.59375 -1.421875 25.265625 0.953125 \nQ 20.953125 3.328125 18.109375 8.203125 \nL 18.109375 0 \nL 9.078125 0 \nL 9.078125 75.984375 \nL 18.109375 75.984375 \nz\n\" id=\"DejaVuSans-98\"/>\n      <path id=\"DejaVuSans-32\"/>\n      <path d=\"M 48.78125 52.59375 \nL 48.78125 44.1875 \nQ 44.96875 46.296875 41.140625 47.34375 \nQ 37.3125 48.390625 33.40625 48.390625 \nQ 24.65625 48.390625 19.8125 42.84375 \nQ 14.984375 37.3125 14.984375 27.296875 \nQ 14.984375 17.28125 19.8125 11.734375 \nQ 24.65625 6.203125 33.40625 6.203125 \nQ 37.3125 6.203125 41.140625 7.25 \nQ 44.96875 8.296875 48.78125 10.40625 \nL 48.78125 2.09375 \nQ 45.015625 0.34375 40.984375 -0.53125 \nQ 36.96875 -1.421875 32.421875 -1.421875 \nQ 20.0625 -1.421875 12.78125 6.34375 \nQ 5.515625 14.109375 5.515625 27.296875 \nQ 5.515625 40.671875 12.859375 48.328125 \nQ 20.21875 56 33.015625 56 \nQ 37.15625 56 41.109375 55.140625 \nQ 45.0625 54.296875 48.78125 52.59375 \nz\n\" id=\"DejaVuSans-99\"/>\n      <path d=\"M 30.609375 48.390625 \nQ 23.390625 48.390625 19.1875 42.75 \nQ 14.984375 37.109375 14.984375 27.296875 \nQ 14.984375 17.484375 19.15625 11.84375 \nQ 23.34375 6.203125 30.609375 6.203125 \nQ 37.796875 6.203125 41.984375 11.859375 \nQ 46.1875 17.53125 46.1875 27.296875 \nQ 46.1875 37.015625 41.984375 42.703125 \nQ 37.796875 48.390625 30.609375 48.390625 \nz\nM 30.609375 56 \nQ 42.328125 56 49.015625 48.375 \nQ 55.71875 40.765625 55.71875 27.296875 \nQ 55.71875 13.875 49.015625 6.21875 \nQ 42.328125 -1.421875 30.609375 -1.421875 \nQ 18.84375 -1.421875 12.171875 6.21875 \nQ 5.515625 13.875 5.515625 27.296875 \nQ 5.515625 40.765625 12.171875 48.375 \nQ 18.84375 56 30.609375 56 \nz\n\" id=\"DejaVuSans-111\"/>\n      <path d=\"M 52 44.1875 \nQ 55.375 50.25 60.0625 53.125 \nQ 64.75 56 71.09375 56 \nQ 79.640625 56 84.28125 50.015625 \nQ 88.921875 44.046875 88.921875 33.015625 \nL 88.921875 0 \nL 79.890625 0 \nL 79.890625 32.71875 \nQ 79.890625 40.578125 77.09375 44.375 \nQ 74.3125 48.1875 68.609375 48.1875 \nQ 61.625 48.1875 57.5625 43.546875 \nQ 53.515625 38.921875 53.515625 30.90625 \nL 53.515625 0 \nL 44.484375 0 \nL 44.484375 32.71875 \nQ 44.484375 40.625 41.703125 44.40625 \nQ 38.921875 48.1875 33.109375 48.1875 \nQ 26.21875 48.1875 22.15625 43.53125 \nQ 18.109375 38.875 18.109375 30.90625 \nL 18.109375 0 \nL 9.078125 0 \nL 9.078125 54.6875 \nL 18.109375 54.6875 \nL 18.109375 46.1875 \nQ 21.1875 51.21875 25.484375 53.609375 \nQ 29.78125 56 35.6875 56 \nQ 41.65625 56 45.828125 52.96875 \nQ 50 49.953125 52 44.1875 \nz\n\" id=\"DejaVuSans-109\"/>\n      <path d=\"M 54.890625 33.015625 \nL 54.890625 0 \nL 45.90625 0 \nL 45.90625 32.71875 \nQ 45.90625 40.484375 42.875 44.328125 \nQ 39.84375 48.1875 33.796875 48.1875 \nQ 26.515625 48.1875 22.3125 43.546875 \nQ 18.109375 38.921875 18.109375 30.90625 \nL 18.109375 0 \nL 9.078125 0 \nL 9.078125 54.6875 \nL 18.109375 54.6875 \nL 18.109375 46.1875 \nQ 21.34375 51.125 25.703125 53.5625 \nQ 30.078125 56 35.796875 56 \nQ 45.21875 56 50.046875 50.171875 \nQ 54.890625 44.34375 54.890625 33.015625 \nz\n\" id=\"DejaVuSans-110\"/>\n      <path d=\"M 4.203125 54.6875 \nL 13.1875 54.6875 \nL 24.421875 12.015625 \nL 35.59375 54.6875 \nL 46.1875 54.6875 \nL 57.421875 12.015625 \nL 68.609375 54.6875 \nL 77.59375 54.6875 \nL 63.28125 0 \nL 52.6875 0 \nL 40.921875 44.828125 \nL 29.109375 0 \nL 18.5 0 \nz\n\" id=\"DejaVuSans-119\"/>\n      <path d=\"M 41.109375 46.296875 \nQ 39.59375 47.171875 37.8125 47.578125 \nQ 36.03125 48 33.890625 48 \nQ 26.265625 48 22.1875 43.046875 \nQ 18.109375 38.09375 18.109375 28.8125 \nL 18.109375 0 \nL 9.078125 0 \nL 9.078125 54.6875 \nL 18.109375 54.6875 \nL 18.109375 46.1875 \nQ 20.953125 51.171875 25.484375 53.578125 \nQ 30.03125 56 36.53125 56 \nQ 37.453125 56 38.578125 55.875 \nQ 39.703125 55.765625 41.0625 55.515625 \nz\n\" id=\"DejaVuSans-114\"/>\n      <path d=\"M 45.40625 46.390625 \nL 45.40625 75.984375 \nL 54.390625 75.984375 \nL 54.390625 0 \nL 45.40625 0 \nL 45.40625 8.203125 \nQ 42.578125 3.328125 38.25 0.953125 \nQ 33.9375 -1.421875 27.875 -1.421875 \nQ 17.96875 -1.421875 11.734375 6.484375 \nQ 5.515625 14.40625 5.515625 27.296875 \nQ 5.515625 40.1875 11.734375 48.09375 \nQ 17.96875 56 27.875 56 \nQ 33.9375 56 38.25 53.625 \nQ 42.578125 51.265625 45.40625 46.390625 \nz\nM 14.796875 27.296875 \nQ 14.796875 17.390625 18.875 11.75 \nQ 22.953125 6.109375 30.078125 6.109375 \nQ 37.203125 6.109375 41.296875 11.75 \nQ 45.40625 17.390625 45.40625 27.296875 \nQ 45.40625 37.203125 41.296875 42.84375 \nQ 37.203125 48.484375 30.078125 48.484375 \nQ 22.953125 48.484375 18.875 42.84375 \nQ 14.796875 37.203125 14.796875 27.296875 \nz\n\" id=\"DejaVuSans-100\"/>\n      <path d=\"M 44.28125 53.078125 \nL 44.28125 44.578125 \nQ 40.484375 46.53125 36.375 47.5 \nQ 32.28125 48.484375 27.875 48.484375 \nQ 21.1875 48.484375 17.84375 46.4375 \nQ 14.5 44.390625 14.5 40.28125 \nQ 14.5 37.15625 16.890625 35.375 \nQ 19.28125 33.59375 26.515625 31.984375 \nL 29.59375 31.296875 \nQ 39.15625 29.25 43.1875 25.515625 \nQ 47.21875 21.78125 47.21875 15.09375 \nQ 47.21875 7.46875 41.1875 3.015625 \nQ 35.15625 -1.421875 24.609375 -1.421875 \nQ 20.21875 -1.421875 15.453125 -0.5625 \nQ 10.6875 0.296875 5.421875 2 \nL 5.421875 11.28125 \nQ 10.40625 8.6875 15.234375 7.390625 \nQ 20.0625 6.109375 24.8125 6.109375 \nQ 31.15625 6.109375 34.5625 8.28125 \nQ 37.984375 10.453125 37.984375 14.40625 \nQ 37.984375 18.0625 35.515625 20.015625 \nQ 33.0625 21.96875 24.703125 23.78125 \nL 21.578125 24.515625 \nQ 13.234375 26.265625 9.515625 29.90625 \nQ 5.8125 33.546875 5.8125 39.890625 \nQ 5.8125 47.609375 11.28125 51.796875 \nQ 16.75 56 26.8125 56 \nQ 31.78125 56 36.171875 55.265625 \nQ 40.578125 54.546875 44.28125 53.078125 \nz\n\" id=\"DejaVuSans-115\"/>\n     </defs>\n     <g transform=\"translate(421.878125 596.474219)scale(0.1 -0.1)\">\n      <use xlink:href=\"#DejaVuSans-78\"/>\n      <use x=\"74.804688\" xlink:href=\"#DejaVuSans-98\"/>\n      <use x=\"138.28125\" xlink:href=\"#DejaVuSans-32\"/>\n      <use x=\"170.068359\" xlink:href=\"#DejaVuSans-99\"/>\n      <use x=\"225.048828\" xlink:href=\"#DejaVuSans-111\"/>\n      <use x=\"286.230469\" xlink:href=\"#DejaVuSans-109\"/>\n      <use x=\"383.642578\" xlink:href=\"#DejaVuSans-109\"/>\n      <use x=\"481.054688\" xlink:href=\"#DejaVuSans-111\"/>\n      <use x=\"542.236328\" xlink:href=\"#DejaVuSans-110\"/>\n      <use x=\"605.615234\" xlink:href=\"#DejaVuSans-32\"/>\n      <use x=\"637.402344\" xlink:href=\"#DejaVuSans-119\"/>\n      <use x=\"719.189453\" xlink:href=\"#DejaVuSans-111\"/>\n      <use x=\"780.371094\" xlink:href=\"#DejaVuSans-114\"/>\n      <use x=\"819.734375\" xlink:href=\"#DejaVuSans-100\"/>\n      <use x=\"883.210938\" xlink:href=\"#DejaVuSans-115\"/>\n     </g>\n    </g>\n   </g>\n   <g id=\"matplotlib.axis_2\">\n    <g id=\"ytick_1\">\n     <g id=\"line2d_6\">\n      <defs>\n       <path d=\"M 0 0 \nL -3.5 0 \n\" id=\"ma3ee2f2ca1\" style=\"stroke:#000000;stroke-width:0.8;\"/>\n      </defs>\n      <g>\n       <use style=\"stroke:#000000;stroke-width:0.8;\" x=\"50.14375\" xlink:href=\"#ma3ee2f2ca1\" y=\"568.197656\"/>\n      </g>\n     </g>\n     <g id=\"text_7\">\n      <!-- 0.00 -->\n      <defs>\n       <path d=\"M 10.6875 12.40625 \nL 21 12.40625 \nL 21 0 \nL 10.6875 0 \nz\n\" id=\"DejaVuSans-46\"/>\n      </defs>\n      <g transform=\"translate(20.878125 571.996875)scale(0.1 -0.1)\">\n       <use xlink:href=\"#DejaVuSans-48\"/>\n       <use x=\"63.623047\" xlink:href=\"#DejaVuSans-46\"/>\n       <use x=\"95.410156\" xlink:href=\"#DejaVuSans-48\"/>\n       <use x=\"159.033203\" xlink:href=\"#DejaVuSans-48\"/>\n      </g>\n     </g>\n    </g>\n    <g id=\"ytick_2\">\n     <g id=\"line2d_7\">\n      <g>\n       <use style=\"stroke:#000000;stroke-width:0.8;\" x=\"50.14375\" xlink:href=\"#ma3ee2f2ca1\" y=\"500.143713\"/>\n      </g>\n     </g>\n     <g id=\"text_8\">\n      <!-- 0.02 -->\n      <g transform=\"translate(20.878125 503.942932)scale(0.1 -0.1)\">\n       <use xlink:href=\"#DejaVuSans-48\"/>\n       <use x=\"63.623047\" xlink:href=\"#DejaVuSans-46\"/>\n       <use x=\"95.410156\" xlink:href=\"#DejaVuSans-48\"/>\n       <use x=\"159.033203\" xlink:href=\"#DejaVuSans-50\"/>\n      </g>\n     </g>\n    </g>\n    <g id=\"ytick_3\">\n     <g id=\"line2d_8\">\n      <g>\n       <use style=\"stroke:#000000;stroke-width:0.8;\" x=\"50.14375\" xlink:href=\"#ma3ee2f2ca1\" y=\"432.089769\"/>\n      </g>\n     </g>\n     <g id=\"text_9\">\n      <!-- 0.04 -->\n      <g transform=\"translate(20.878125 435.888988)scale(0.1 -0.1)\">\n       <use xlink:href=\"#DejaVuSans-48\"/>\n       <use x=\"63.623047\" xlink:href=\"#DejaVuSans-46\"/>\n       <use x=\"95.410156\" xlink:href=\"#DejaVuSans-48\"/>\n       <use x=\"159.033203\" xlink:href=\"#DejaVuSans-52\"/>\n      </g>\n     </g>\n    </g>\n    <g id=\"ytick_4\">\n     <g id=\"line2d_9\">\n      <g>\n       <use style=\"stroke:#000000;stroke-width:0.8;\" x=\"50.14375\" xlink:href=\"#ma3ee2f2ca1\" y=\"364.035826\"/>\n      </g>\n     </g>\n     <g id=\"text_10\">\n      <!-- 0.06 -->\n      <defs>\n       <path d=\"M 33.015625 40.375 \nQ 26.375 40.375 22.484375 35.828125 \nQ 18.609375 31.296875 18.609375 23.390625 \nQ 18.609375 15.53125 22.484375 10.953125 \nQ 26.375 6.390625 33.015625 6.390625 \nQ 39.65625 6.390625 43.53125 10.953125 \nQ 47.40625 15.53125 47.40625 23.390625 \nQ 47.40625 31.296875 43.53125 35.828125 \nQ 39.65625 40.375 33.015625 40.375 \nz\nM 52.59375 71.296875 \nL 52.59375 62.3125 \nQ 48.875 64.0625 45.09375 64.984375 \nQ 41.3125 65.921875 37.59375 65.921875 \nQ 27.828125 65.921875 22.671875 59.328125 \nQ 17.53125 52.734375 16.796875 39.40625 \nQ 19.671875 43.65625 24.015625 45.921875 \nQ 28.375 48.1875 33.59375 48.1875 \nQ 44.578125 48.1875 50.953125 41.515625 \nQ 57.328125 34.859375 57.328125 23.390625 \nQ 57.328125 12.15625 50.6875 5.359375 \nQ 44.046875 -1.421875 33.015625 -1.421875 \nQ 20.359375 -1.421875 13.671875 8.265625 \nQ 6.984375 17.96875 6.984375 36.375 \nQ 6.984375 53.65625 15.1875 63.9375 \nQ 23.390625 74.21875 37.203125 74.21875 \nQ 40.921875 74.21875 44.703125 73.484375 \nQ 48.484375 72.75 52.59375 71.296875 \nz\n\" id=\"DejaVuSans-54\"/>\n      </defs>\n      <g transform=\"translate(20.878125 367.835045)scale(0.1 -0.1)\">\n       <use xlink:href=\"#DejaVuSans-48\"/>\n       <use x=\"63.623047\" xlink:href=\"#DejaVuSans-46\"/>\n       <use x=\"95.410156\" xlink:href=\"#DejaVuSans-48\"/>\n       <use x=\"159.033203\" xlink:href=\"#DejaVuSans-54\"/>\n      </g>\n     </g>\n    </g>\n    <g id=\"ytick_5\">\n     <g id=\"line2d_10\">\n      <g>\n       <use style=\"stroke:#000000;stroke-width:0.8;\" x=\"50.14375\" xlink:href=\"#ma3ee2f2ca1\" y=\"295.981882\"/>\n      </g>\n     </g>\n     <g id=\"text_11\">\n      <!-- 0.08 -->\n      <defs>\n       <path d=\"M 31.78125 34.625 \nQ 24.75 34.625 20.71875 30.859375 \nQ 16.703125 27.09375 16.703125 20.515625 \nQ 16.703125 13.921875 20.71875 10.15625 \nQ 24.75 6.390625 31.78125 6.390625 \nQ 38.8125 6.390625 42.859375 10.171875 \nQ 46.921875 13.96875 46.921875 20.515625 \nQ 46.921875 27.09375 42.890625 30.859375 \nQ 38.875 34.625 31.78125 34.625 \nz\nM 21.921875 38.8125 \nQ 15.578125 40.375 12.03125 44.71875 \nQ 8.5 49.078125 8.5 55.328125 \nQ 8.5 64.0625 14.71875 69.140625 \nQ 20.953125 74.21875 31.78125 74.21875 \nQ 42.671875 74.21875 48.875 69.140625 \nQ 55.078125 64.0625 55.078125 55.328125 \nQ 55.078125 49.078125 51.53125 44.71875 \nQ 48 40.375 41.703125 38.8125 \nQ 48.828125 37.15625 52.796875 32.3125 \nQ 56.78125 27.484375 56.78125 20.515625 \nQ 56.78125 9.90625 50.3125 4.234375 \nQ 43.84375 -1.421875 31.78125 -1.421875 \nQ 19.734375 -1.421875 13.25 4.234375 \nQ 6.78125 9.90625 6.78125 20.515625 \nQ 6.78125 27.484375 10.78125 32.3125 \nQ 14.796875 37.15625 21.921875 38.8125 \nz\nM 18.3125 54.390625 \nQ 18.3125 48.734375 21.84375 45.5625 \nQ 25.390625 42.390625 31.78125 42.390625 \nQ 38.140625 42.390625 41.71875 45.5625 \nQ 45.3125 48.734375 45.3125 54.390625 \nQ 45.3125 60.0625 41.71875 63.234375 \nQ 38.140625 66.40625 31.78125 66.40625 \nQ 25.390625 66.40625 21.84375 63.234375 \nQ 18.3125 60.0625 18.3125 54.390625 \nz\n\" id=\"DejaVuSans-56\"/>\n      </defs>\n      <g transform=\"translate(20.878125 299.781101)scale(0.1 -0.1)\">\n       <use xlink:href=\"#DejaVuSans-48\"/>\n       <use x=\"63.623047\" xlink:href=\"#DejaVuSans-46\"/>\n       <use x=\"95.410156\" xlink:href=\"#DejaVuSans-48\"/>\n       <use x=\"159.033203\" xlink:href=\"#DejaVuSans-56\"/>\n      </g>\n     </g>\n    </g>\n    <g id=\"ytick_6\">\n     <g id=\"line2d_11\">\n      <g>\n       <use style=\"stroke:#000000;stroke-width:0.8;\" x=\"50.14375\" xlink:href=\"#ma3ee2f2ca1\" y=\"227.927939\"/>\n      </g>\n     </g>\n     <g id=\"text_12\">\n      <!-- 0.10 -->\n      <g transform=\"translate(20.878125 231.727158)scale(0.1 -0.1)\">\n       <use xlink:href=\"#DejaVuSans-48\"/>\n       <use x=\"63.623047\" xlink:href=\"#DejaVuSans-46\"/>\n       <use x=\"95.410156\" xlink:href=\"#DejaVuSans-49\"/>\n       <use x=\"159.033203\" xlink:href=\"#DejaVuSans-48\"/>\n      </g>\n     </g>\n    </g>\n    <g id=\"ytick_7\">\n     <g id=\"line2d_12\">\n      <g>\n       <use style=\"stroke:#000000;stroke-width:0.8;\" x=\"50.14375\" xlink:href=\"#ma3ee2f2ca1\" y=\"159.873995\"/>\n      </g>\n     </g>\n     <g id=\"text_13\">\n      <!-- 0.12 -->\n      <g transform=\"translate(20.878125 163.673214)scale(0.1 -0.1)\">\n       <use xlink:href=\"#DejaVuSans-48\"/>\n       <use x=\"63.623047\" xlink:href=\"#DejaVuSans-46\"/>\n       <use x=\"95.410156\" xlink:href=\"#DejaVuSans-49\"/>\n       <use x=\"159.033203\" xlink:href=\"#DejaVuSans-50\"/>\n      </g>\n     </g>\n    </g>\n    <g id=\"ytick_8\">\n     <g id=\"line2d_13\">\n      <g>\n       <use style=\"stroke:#000000;stroke-width:0.8;\" x=\"50.14375\" xlink:href=\"#ma3ee2f2ca1\" y=\"91.820052\"/>\n      </g>\n     </g>\n     <g id=\"text_14\">\n      <!-- 0.14 -->\n      <g transform=\"translate(20.878125 95.619271)scale(0.1 -0.1)\">\n       <use xlink:href=\"#DejaVuSans-48\"/>\n       <use x=\"63.623047\" xlink:href=\"#DejaVuSans-46\"/>\n       <use x=\"95.410156\" xlink:href=\"#DejaVuSans-49\"/>\n       <use x=\"159.033203\" xlink:href=\"#DejaVuSans-52\"/>\n      </g>\n     </g>\n    </g>\n    <g id=\"text_15\">\n     <!-- Prob -->\n     <defs>\n      <path d=\"M 19.671875 64.796875 \nL 19.671875 37.40625 \nL 32.078125 37.40625 \nQ 38.96875 37.40625 42.71875 40.96875 \nQ 46.484375 44.53125 46.484375 51.125 \nQ 46.484375 57.671875 42.71875 61.234375 \nQ 38.96875 64.796875 32.078125 64.796875 \nz\nM 9.8125 72.90625 \nL 32.078125 72.90625 \nQ 44.34375 72.90625 50.609375 67.359375 \nQ 56.890625 61.8125 56.890625 51.125 \nQ 56.890625 40.328125 50.609375 34.8125 \nQ 44.34375 29.296875 32.078125 29.296875 \nL 19.671875 29.296875 \nL 19.671875 0 \nL 9.8125 0 \nz\n\" id=\"DejaVuSans-80\"/>\n     </defs>\n     <g transform=\"translate(14.798437 307.501563)rotate(-90)scale(0.1 -0.1)\">\n      <use xlink:href=\"#DejaVuSans-80\"/>\n      <use x=\"58.552734\" xlink:href=\"#DejaVuSans-114\"/>\n      <use x=\"97.416016\" xlink:href=\"#DejaVuSans-111\"/>\n      <use x=\"158.597656\" xlink:href=\"#DejaVuSans-98\"/>\n     </g>\n    </g>\n   </g>\n   <g id=\"patch_5\">\n    <path d=\"M 50.14375 568.197656 \nL 50.14375 24.597656 \n\" style=\"fill:none;stroke:#000000;stroke-linecap:square;stroke-linejoin:miter;stroke-width:0.8;\"/>\n   </g>\n   <g id=\"patch_6\">\n    <path d=\"M 887.14375 568.197656 \nL 887.14375 24.597656 \n\" style=\"fill:none;stroke:#000000;stroke-linecap:square;stroke-linejoin:miter;stroke-width:0.8;\"/>\n   </g>\n   <g id=\"patch_7\">\n    <path d=\"M 50.14375 568.197656 \nL 887.14375 568.197656 \n\" style=\"fill:none;stroke:#000000;stroke-linecap:square;stroke-linejoin:miter;stroke-width:0.8;\"/>\n   </g>\n   <g id=\"patch_8\">\n    <path d=\"M 50.14375 24.597656 \nL 887.14375 24.597656 \n\" style=\"fill:none;stroke:#000000;stroke-linecap:square;stroke-linejoin:miter;stroke-width:0.8;\"/>\n   </g>\n   <g id=\"text_16\">\n    <!-- Distribution of Nb lower common words+Nb common words -->\n    <defs>\n     <path d=\"M 19.671875 64.796875 \nL 19.671875 8.109375 \nL 31.59375 8.109375 \nQ 46.6875 8.109375 53.6875 14.9375 \nQ 60.6875 21.78125 60.6875 36.53125 \nQ 60.6875 51.171875 53.6875 57.984375 \nQ 46.6875 64.796875 31.59375 64.796875 \nz\nM 9.8125 72.90625 \nL 30.078125 72.90625 \nQ 51.265625 72.90625 61.171875 64.09375 \nQ 71.09375 55.28125 71.09375 36.53125 \nQ 71.09375 17.671875 61.125 8.828125 \nQ 51.171875 0 30.078125 0 \nL 9.8125 0 \nz\n\" id=\"DejaVuSans-68\"/>\n     <path d=\"M 9.421875 54.6875 \nL 18.40625 54.6875 \nL 18.40625 0 \nL 9.421875 0 \nz\nM 9.421875 75.984375 \nL 18.40625 75.984375 \nL 18.40625 64.59375 \nL 9.421875 64.59375 \nz\n\" id=\"DejaVuSans-105\"/>\n     <path d=\"M 18.3125 70.21875 \nL 18.3125 54.6875 \nL 36.8125 54.6875 \nL 36.8125 47.703125 \nL 18.3125 47.703125 \nL 18.3125 18.015625 \nQ 18.3125 11.328125 20.140625 9.421875 \nQ 21.96875 7.515625 27.59375 7.515625 \nL 36.8125 7.515625 \nL 36.8125 0 \nL 27.59375 0 \nQ 17.1875 0 13.234375 3.875 \nQ 9.28125 7.765625 9.28125 18.015625 \nL 9.28125 47.703125 \nL 2.6875 47.703125 \nL 2.6875 54.6875 \nL 9.28125 54.6875 \nL 9.28125 70.21875 \nz\n\" id=\"DejaVuSans-116\"/>\n     <path d=\"M 8.5 21.578125 \nL 8.5 54.6875 \nL 17.484375 54.6875 \nL 17.484375 21.921875 \nQ 17.484375 14.15625 20.5 10.265625 \nQ 23.53125 6.390625 29.59375 6.390625 \nQ 36.859375 6.390625 41.078125 11.03125 \nQ 45.3125 15.671875 45.3125 23.6875 \nL 45.3125 54.6875 \nL 54.296875 54.6875 \nL 54.296875 0 \nL 45.3125 0 \nL 45.3125 8.40625 \nQ 42.046875 3.421875 37.71875 1 \nQ 33.40625 -1.421875 27.6875 -1.421875 \nQ 18.265625 -1.421875 13.375 4.4375 \nQ 8.5 10.296875 8.5 21.578125 \nz\nM 31.109375 56 \nz\n\" id=\"DejaVuSans-117\"/>\n     <path d=\"M 37.109375 75.984375 \nL 37.109375 68.5 \nL 28.515625 68.5 \nQ 23.6875 68.5 21.796875 66.546875 \nQ 19.921875 64.59375 19.921875 59.515625 \nL 19.921875 54.6875 \nL 34.71875 54.6875 \nL 34.71875 47.703125 \nL 19.921875 47.703125 \nL 19.921875 0 \nL 10.890625 0 \nL 10.890625 47.703125 \nL 2.296875 47.703125 \nL 2.296875 54.6875 \nL 10.890625 54.6875 \nL 10.890625 58.5 \nQ 10.890625 67.625 15.140625 71.796875 \nQ 19.390625 75.984375 28.609375 75.984375 \nz\n\" id=\"DejaVuSans-102\"/>\n     <path d=\"M 9.421875 75.984375 \nL 18.40625 75.984375 \nL 18.40625 0 \nL 9.421875 0 \nz\n\" id=\"DejaVuSans-108\"/>\n     <path d=\"M 56.203125 29.59375 \nL 56.203125 25.203125 \nL 14.890625 25.203125 \nQ 15.484375 15.921875 20.484375 11.0625 \nQ 25.484375 6.203125 34.421875 6.203125 \nQ 39.59375 6.203125 44.453125 7.46875 \nQ 49.3125 8.734375 54.109375 11.28125 \nL 54.109375 2.78125 \nQ 49.265625 0.734375 44.1875 -0.34375 \nQ 39.109375 -1.421875 33.890625 -1.421875 \nQ 20.796875 -1.421875 13.15625 6.1875 \nQ 5.515625 13.8125 5.515625 26.8125 \nQ 5.515625 40.234375 12.765625 48.109375 \nQ 20.015625 56 32.328125 56 \nQ 43.359375 56 49.78125 48.890625 \nQ 56.203125 41.796875 56.203125 29.59375 \nz\nM 47.21875 32.234375 \nQ 47.125 39.59375 43.09375 43.984375 \nQ 39.0625 48.390625 32.421875 48.390625 \nQ 24.90625 48.390625 20.390625 44.140625 \nQ 15.875 39.890625 15.1875 32.171875 \nz\n\" id=\"DejaVuSans-101\"/>\n     <path d=\"M 46 62.703125 \nL 46 35.5 \nL 73.1875 35.5 \nL 73.1875 27.203125 \nL 46 27.203125 \nL 46 0 \nL 37.796875 0 \nL 37.796875 27.203125 \nL 10.59375 27.203125 \nL 10.59375 35.5 \nL 37.796875 35.5 \nL 37.796875 62.703125 \nz\n\" id=\"DejaVuSans-43\"/>\n    </defs>\n    <g transform=\"translate(243.424609 18.597656)scale(0.15 -0.15)\">\n     <use xlink:href=\"#DejaVuSans-68\"/>\n     <use x=\"77.001953\" xlink:href=\"#DejaVuSans-105\"/>\n     <use x=\"104.785156\" xlink:href=\"#DejaVuSans-115\"/>\n     <use x=\"156.884766\" xlink:href=\"#DejaVuSans-116\"/>\n     <use x=\"196.09375\" xlink:href=\"#DejaVuSans-114\"/>\n     <use x=\"237.207031\" xlink:href=\"#DejaVuSans-105\"/>\n     <use x=\"264.990234\" xlink:href=\"#DejaVuSans-98\"/>\n     <use x=\"328.466797\" xlink:href=\"#DejaVuSans-117\"/>\n     <use x=\"391.845703\" xlink:href=\"#DejaVuSans-116\"/>\n     <use x=\"431.054688\" xlink:href=\"#DejaVuSans-105\"/>\n     <use x=\"458.837891\" xlink:href=\"#DejaVuSans-111\"/>\n     <use x=\"520.019531\" xlink:href=\"#DejaVuSans-110\"/>\n     <use x=\"583.398438\" xlink:href=\"#DejaVuSans-32\"/>\n     <use x=\"615.185547\" xlink:href=\"#DejaVuSans-111\"/>\n     <use x=\"676.367188\" xlink:href=\"#DejaVuSans-102\"/>\n     <use x=\"711.572266\" xlink:href=\"#DejaVuSans-32\"/>\n     <use x=\"743.359375\" xlink:href=\"#DejaVuSans-78\"/>\n     <use x=\"818.164062\" xlink:href=\"#DejaVuSans-98\"/>\n     <use x=\"881.640625\" xlink:href=\"#DejaVuSans-32\"/>\n     <use x=\"913.427734\" xlink:href=\"#DejaVuSans-108\"/>\n     <use x=\"941.210938\" xlink:href=\"#DejaVuSans-111\"/>\n     <use x=\"1002.392578\" xlink:href=\"#DejaVuSans-119\"/>\n     <use x=\"1084.179688\" xlink:href=\"#DejaVuSans-101\"/>\n     <use x=\"1145.703125\" xlink:href=\"#DejaVuSans-114\"/>\n     <use x=\"1186.816406\" xlink:href=\"#DejaVuSans-32\"/>\n     <use x=\"1218.603516\" xlink:href=\"#DejaVuSans-99\"/>\n     <use x=\"1273.583984\" xlink:href=\"#DejaVuSans-111\"/>\n     <use x=\"1334.765625\" xlink:href=\"#DejaVuSans-109\"/>\n     <use x=\"1432.177734\" xlink:href=\"#DejaVuSans-109\"/>\n     <use x=\"1529.589844\" xlink:href=\"#DejaVuSans-111\"/>\n     <use x=\"1590.771484\" xlink:href=\"#DejaVuSans-110\"/>\n     <use x=\"1654.150391\" xlink:href=\"#DejaVuSans-32\"/>\n     <use x=\"1685.9375\" xlink:href=\"#DejaVuSans-119\"/>\n     <use x=\"1767.724609\" xlink:href=\"#DejaVuSans-111\"/>\n     <use x=\"1828.90625\" xlink:href=\"#DejaVuSans-114\"/>\n     <use x=\"1868.269531\" xlink:href=\"#DejaVuSans-100\"/>\n     <use x=\"1931.746094\" xlink:href=\"#DejaVuSans-115\"/>\n     <use x=\"1983.845703\" xlink:href=\"#DejaVuSans-43\"/>\n     <use x=\"2067.634766\" xlink:href=\"#DejaVuSans-78\"/>\n     <use x=\"2142.439453\" xlink:href=\"#DejaVuSans-98\"/>\n     <use x=\"2205.916016\" xlink:href=\"#DejaVuSans-32\"/>\n     <use x=\"2237.703125\" xlink:href=\"#DejaVuSans-99\"/>\n     <use x=\"2292.683594\" xlink:href=\"#DejaVuSans-111\"/>\n     <use x=\"2353.865234\" xlink:href=\"#DejaVuSans-109\"/>\n     <use x=\"2451.277344\" xlink:href=\"#DejaVuSans-109\"/>\n     <use x=\"2548.689453\" xlink:href=\"#DejaVuSans-111\"/>\n     <use x=\"2609.871094\" xlink:href=\"#DejaVuSans-110\"/>\n     <use x=\"2673.25\" xlink:href=\"#DejaVuSans-32\"/>\n     <use x=\"2705.037109\" xlink:href=\"#DejaVuSans-119\"/>\n     <use x=\"2786.824219\" xlink:href=\"#DejaVuSans-111\"/>\n     <use x=\"2848.005859\" xlink:href=\"#DejaVuSans-114\"/>\n     <use x=\"2887.369141\" xlink:href=\"#DejaVuSans-100\"/>\n     <use x=\"2950.845703\" xlink:href=\"#DejaVuSans-115\"/>\n    </g>\n   </g>\n   <g id=\"legend_1\">\n    <g id=\"patch_9\">\n     <path d=\"M 669.884375 61.953906 \nL 880.14375 61.953906 \nQ 882.14375 61.953906 882.14375 59.953906 \nL 882.14375 31.597656 \nQ 882.14375 29.597656 880.14375 29.597656 \nL 669.884375 29.597656 \nQ 667.884375 29.597656 667.884375 31.597656 \nL 667.884375 59.953906 \nQ 667.884375 61.953906 669.884375 61.953906 \nz\n\" style=\"fill:#ffffff;opacity:0.8;stroke:#cccccc;stroke-linejoin:miter;\"/>\n    </g>\n    <g id=\"patch_10\">\n     <path d=\"M 671.884375 41.196094 \nL 691.884375 41.196094 \nL 691.884375 34.196094 \nL 671.884375 34.196094 \nz\n\" style=\"fill:#1f77b4;\"/>\n    </g>\n    <g id=\"text_17\">\n     <!-- Nb lower common words in training -->\n     <defs>\n      <path d=\"M 34.28125 27.484375 \nQ 23.390625 27.484375 19.1875 25 \nQ 14.984375 22.515625 14.984375 16.5 \nQ 14.984375 11.71875 18.140625 8.90625 \nQ 21.296875 6.109375 26.703125 6.109375 \nQ 34.1875 6.109375 38.703125 11.40625 \nQ 43.21875 16.703125 43.21875 25.484375 \nL 43.21875 27.484375 \nz\nM 52.203125 31.203125 \nL 52.203125 0 \nL 43.21875 0 \nL 43.21875 8.296875 \nQ 40.140625 3.328125 35.546875 0.953125 \nQ 30.953125 -1.421875 24.3125 -1.421875 \nQ 15.921875 -1.421875 10.953125 3.296875 \nQ 6 8.015625 6 15.921875 \nQ 6 25.140625 12.171875 29.828125 \nQ 18.359375 34.515625 30.609375 34.515625 \nL 43.21875 34.515625 \nL 43.21875 35.40625 \nQ 43.21875 41.609375 39.140625 45 \nQ 35.0625 48.390625 27.6875 48.390625 \nQ 23 48.390625 18.546875 47.265625 \nQ 14.109375 46.140625 10.015625 43.890625 \nL 10.015625 52.203125 \nQ 14.9375 54.109375 19.578125 55.046875 \nQ 24.21875 56 28.609375 56 \nQ 40.484375 56 46.34375 49.84375 \nQ 52.203125 43.703125 52.203125 31.203125 \nz\n\" id=\"DejaVuSans-97\"/>\n      <path d=\"M 45.40625 27.984375 \nQ 45.40625 37.75 41.375 43.109375 \nQ 37.359375 48.484375 30.078125 48.484375 \nQ 22.859375 48.484375 18.828125 43.109375 \nQ 14.796875 37.75 14.796875 27.984375 \nQ 14.796875 18.265625 18.828125 12.890625 \nQ 22.859375 7.515625 30.078125 7.515625 \nQ 37.359375 7.515625 41.375 12.890625 \nQ 45.40625 18.265625 45.40625 27.984375 \nz\nM 54.390625 6.78125 \nQ 54.390625 -7.171875 48.1875 -13.984375 \nQ 42 -20.796875 29.203125 -20.796875 \nQ 24.46875 -20.796875 20.265625 -20.09375 \nQ 16.0625 -19.390625 12.109375 -17.921875 \nL 12.109375 -9.1875 \nQ 16.0625 -11.328125 19.921875 -12.34375 \nQ 23.78125 -13.375 27.78125 -13.375 \nQ 36.625 -13.375 41.015625 -8.765625 \nQ 45.40625 -4.15625 45.40625 5.171875 \nL 45.40625 9.625 \nQ 42.625 4.78125 38.28125 2.390625 \nQ 33.9375 0 27.875 0 \nQ 17.828125 0 11.671875 7.65625 \nQ 5.515625 15.328125 5.515625 27.984375 \nQ 5.515625 40.671875 11.671875 48.328125 \nQ 17.828125 56 27.875 56 \nQ 33.9375 56 38.28125 53.609375 \nQ 42.625 51.21875 45.40625 46.390625 \nL 45.40625 54.6875 \nL 54.390625 54.6875 \nz\n\" id=\"DejaVuSans-103\"/>\n     </defs>\n     <g transform=\"translate(699.884375 41.196094)scale(0.1 -0.1)\">\n      <use xlink:href=\"#DejaVuSans-78\"/>\n      <use x=\"74.804688\" xlink:href=\"#DejaVuSans-98\"/>\n      <use x=\"138.28125\" xlink:href=\"#DejaVuSans-32\"/>\n      <use x=\"170.068359\" xlink:href=\"#DejaVuSans-108\"/>\n      <use x=\"197.851562\" xlink:href=\"#DejaVuSans-111\"/>\n      <use x=\"259.033203\" xlink:href=\"#DejaVuSans-119\"/>\n      <use x=\"340.820312\" xlink:href=\"#DejaVuSans-101\"/>\n      <use x=\"402.34375\" xlink:href=\"#DejaVuSans-114\"/>\n      <use x=\"443.457031\" xlink:href=\"#DejaVuSans-32\"/>\n      <use x=\"475.244141\" xlink:href=\"#DejaVuSans-99\"/>\n      <use x=\"530.224609\" xlink:href=\"#DejaVuSans-111\"/>\n      <use x=\"591.40625\" xlink:href=\"#DejaVuSans-109\"/>\n      <use x=\"688.818359\" xlink:href=\"#DejaVuSans-109\"/>\n      <use x=\"786.230469\" xlink:href=\"#DejaVuSans-111\"/>\n      <use x=\"847.412109\" xlink:href=\"#DejaVuSans-110\"/>\n      <use x=\"910.791016\" xlink:href=\"#DejaVuSans-32\"/>\n      <use x=\"942.578125\" xlink:href=\"#DejaVuSans-119\"/>\n      <use x=\"1024.365234\" xlink:href=\"#DejaVuSans-111\"/>\n      <use x=\"1085.546875\" xlink:href=\"#DejaVuSans-114\"/>\n      <use x=\"1124.910156\" xlink:href=\"#DejaVuSans-100\"/>\n      <use x=\"1188.386719\" xlink:href=\"#DejaVuSans-115\"/>\n      <use x=\"1240.486328\" xlink:href=\"#DejaVuSans-32\"/>\n      <use x=\"1272.273438\" xlink:href=\"#DejaVuSans-105\"/>\n      <use x=\"1300.056641\" xlink:href=\"#DejaVuSans-110\"/>\n      <use x=\"1363.435547\" xlink:href=\"#DejaVuSans-32\"/>\n      <use x=\"1395.222656\" xlink:href=\"#DejaVuSans-116\"/>\n      <use x=\"1434.431641\" xlink:href=\"#DejaVuSans-114\"/>\n      <use x=\"1475.544922\" xlink:href=\"#DejaVuSans-97\"/>\n      <use x=\"1536.824219\" xlink:href=\"#DejaVuSans-105\"/>\n      <use x=\"1564.607422\" xlink:href=\"#DejaVuSans-110\"/>\n      <use x=\"1627.986328\" xlink:href=\"#DejaVuSans-105\"/>\n      <use x=\"1655.769531\" xlink:href=\"#DejaVuSans-110\"/>\n      <use x=\"1719.148438\" xlink:href=\"#DejaVuSans-103\"/>\n     </g>\n    </g>\n    <g id=\"patch_11\">\n     <path d=\"M 671.884375 55.874219 \nL 691.884375 55.874219 \nL 691.884375 48.874219 \nL 671.884375 48.874219 \nz\n\" style=\"fill:none;opacity:0.5;stroke:#ff7f0e;stroke-linejoin:miter;stroke-width:5;\"/>\n    </g>\n    <g id=\"text_18\">\n     <!-- Nb common words in training -->\n     <g transform=\"translate(699.884375 55.874219)scale(0.1 -0.1)\">\n      <use xlink:href=\"#DejaVuSans-78\"/>\n      <use x=\"74.804688\" xlink:href=\"#DejaVuSans-98\"/>\n      <use x=\"138.28125\" xlink:href=\"#DejaVuSans-32\"/>\n      <use x=\"170.068359\" xlink:href=\"#DejaVuSans-99\"/>\n      <use x=\"225.048828\" xlink:href=\"#DejaVuSans-111\"/>\n      <use x=\"286.230469\" xlink:href=\"#DejaVuSans-109\"/>\n      <use x=\"383.642578\" xlink:href=\"#DejaVuSans-109\"/>\n      <use x=\"481.054688\" xlink:href=\"#DejaVuSans-111\"/>\n      <use x=\"542.236328\" xlink:href=\"#DejaVuSans-110\"/>\n      <use x=\"605.615234\" xlink:href=\"#DejaVuSans-32\"/>\n      <use x=\"637.402344\" xlink:href=\"#DejaVuSans-119\"/>\n      <use x=\"719.189453\" xlink:href=\"#DejaVuSans-111\"/>\n      <use x=\"780.371094\" xlink:href=\"#DejaVuSans-114\"/>\n      <use x=\"819.734375\" xlink:href=\"#DejaVuSans-100\"/>\n      <use x=\"883.210938\" xlink:href=\"#DejaVuSans-115\"/>\n      <use x=\"935.310547\" xlink:href=\"#DejaVuSans-32\"/>\n      <use x=\"967.097656\" xlink:href=\"#DejaVuSans-105\"/>\n      <use x=\"994.880859\" xlink:href=\"#DejaVuSans-110\"/>\n      <use x=\"1058.259766\" xlink:href=\"#DejaVuSans-32\"/>\n      <use x=\"1090.046875\" xlink:href=\"#DejaVuSans-116\"/>\n      <use x=\"1129.255859\" xlink:href=\"#DejaVuSans-114\"/>\n      <use x=\"1170.369141\" xlink:href=\"#DejaVuSans-97\"/>\n      <use x=\"1231.648438\" xlink:href=\"#DejaVuSans-105\"/>\n      <use x=\"1259.431641\" xlink:href=\"#DejaVuSans-110\"/>\n      <use x=\"1322.810547\" xlink:href=\"#DejaVuSans-105\"/>\n      <use x=\"1350.59375\" xlink:href=\"#DejaVuSans-110\"/>\n      <use x=\"1413.972656\" xlink:href=\"#DejaVuSans-103\"/>\n     </g>\n    </g>\n   </g>\n  </g>\n </g>\n <defs>\n  <clipPath id=\"pd40c9d5d5d\">\n   <rect height=\"543.6\" width=\"837\" x=\"50.14375\" y=\"24.597656\"/>\n  </clipPath>\n </defs>\n</svg>\n",
      "image/png": "[encoded data removed]"
     },
     "metadata": {
      "needs_background": "light"
     }
    }
   ],
   "source": [
    "from astropy.visualization import hist as as_hist\n",
    "\n",
    "#sns.histplot(lower_training_dataframe['lower_nb_common_words'],stat='count',bins=50)\n",
    "#sns.histplot(lower_training_dataframe['nb_common_words'],color=\"g\",alpha=0.5,bins=50,legend=True)\n",
    "#sns.histplot(lower_training_dataframe['lower_nb_common_words'],color=\"r\",alpha=0.5,bins=50,legend=True)\n",
    "\n",
    "plot.figure(figsize=(15, 10))\n",
    "as_hist(lower_train_dataframe['lower_nb_common_words'],label=\"Nb lower common words in training\",histtype='stepfilled',bins='blocks',density=True)\n",
    "as_hist(lower_train_dataframe['nb_common_words'],label=\"Nb common words in training\",histtype='step',alpha=0.5,lw=5,bins='blocks',density=True)\n",
    "plot.title('Distribution of Nb lower common words+Nb common words', fontsize=15)\n",
    "plot.xlabel('Nb common words')\n",
    "plot.ylabel('Density')\n",
    "plot.legend()\n",
    "\n",
    "\n"
   ]
  },
  {
   "source": [
    "## Remove a first set of stopwords\n",
    "### We start with nltk stopwords"
   ],
   "cell_type": "markdown",
   "metadata": {}
  },
  {
   "cell_type": "code",
   "execution_count": 9,
   "metadata": {
    "tags": []
   },
   "outputs": [
    {
     "output_type": "display_data",
     "data": {
      "text/plain": "<IPython.core.display.HTML object>",
      "text/html": "<span style=\"color:LIMEGREEN\"><small>There is 179 stopwords in nltk</small></span>"
     },
     "metadata": {
      "text/html": {
       "isolated": true
      }
     }
    },
    {
     "output_type": "display_data",
     "data": {
      "text/plain": "<IPython.core.display.HTML object>",
      "text/html": "<b>Removing stopwords: Load or rebuild training_basic_feature_no_stopwords</b>"
     },
     "metadata": {
      "text/html": {
       "isolated": true
      }
     }
    },
    {
     "output_type": "display_data",
     "data": {
      "text/plain": "<IPython.core.display.HTML object>",
      "text/html": "<HR>"
     },
     "metadata": {
      "text/html": {
       "isolated": true
      }
     }
    },
    {
     "output_type": "display_data",
     "data": {
      "text/plain": "<IPython.core.display.HTML object>",
      "text/html": "<span style=\"color:LIMEGREEN\"><small>!!!!! ../remove_stopwords/training_basic_feature_no_stopwords.pkl is cached!!!</small></span>"
     },
     "metadata": {
      "text/html": {
       "isolated": true
      }
     }
    },
    {
     "output_type": "display_data",
     "data": {
      "text/plain": "<IPython.core.display.HTML object>",
      "text/html": "<span style=\"color:LIMEGREEN\"><small><b><i>Done:training_basic_feature_no_stopwords contains 404290 lines in 0.7 s</i></b><p></p></small></span>"
     },
     "metadata": {
      "text/html": {
       "isolated": true
      }
     }
    },
    {
     "output_type": "display_data",
     "data": {
      "text/plain": "<IPython.core.display.HTML object>",
      "text/html": "<span style=\"color:LIMEGREEN\"><small>We have changed 82.51 % of nb common_words !!</small></span>"
     },
     "metadata": {
      "text/html": {
       "isolated": true
      }
     }
    }
   ],
   "source": [
    "from nltk.corpus import stopwords\n",
    "\n",
    "def remove_stop_words(dataframe):\n",
    "    print_warning('Remove stopwords from question 1 & question2')\n",
    "    add_column_from_column(dataframe,'no_stopword_question1','lower_question1',lambda q: ' '.join([word for word in q.split() if word not in nltk_stopwords]))\n",
    "    add_column_from_column(dataframe,'no_stopword_question2','lower_question2',lambda q: ' '.join([word for word in q.split() if word not in nltk_stopwords]))\n",
    "    \n",
    "    add_column_from_column(dataframe,'no_stopword_nb_words_question1','no_stopword_question1',lambda x: len(x.split()))\n",
    "    add_column_from_column(dataframe,'no_stopword_nb_words_question2','no_stopword_question2',lambda x: len(x.split()))\n",
    "\n",
    "    print_warning('Compute Nb common_words between question1 & question2')\n",
    "    add_column_from_columns(dataframe,'no_stopword_common_words',lambda r: list(set(r.no_stopword_question1.split())&set(r.no_stopword_question2.split())))\n",
    "    add_column_from_column(dataframe,'no_stopword_nb_common_words','no_stopword_common_words',len)\n",
    "\n",
    "    print_warning('Compute Nb common words/nb words in question1')\n",
    "    add_column_from_columns(dataframe,'no_stopword_nb_common_words/no_stopword_nb_words_question1',lambda r: r.no_stopword_nb_common_words/max(1,r.no_stopword_nb_words_question1))\n",
    "\n",
    "    print_warning('Compute Nb common words/nb words in question2')\n",
    "    add_column_from_columns(dataframe,'no_stopword_nb_common_words/no_stopword_nb_words_question2',lambda r: r.no_stopword_nb_common_words/max(1,r.no_stopword_nb_words_question2))\n",
    "\n",
    "    print_warning('Compute Nb words in question1,question2 not in common words')\n",
    "    add_column_from_columns(dataframe,'no_stopword_nb_words_question1-no_stopword_common_words',lambda r: len(list(set(r.no_stopword_question1.split())-set(r.no_stopword_common_words))))\n",
    "    add_column_from_columns(dataframe,'no_stopword_nb_words_question2-no_stopword_common_words',lambda r: len(list(set(r.no_stopword_question2.split())-set(r.no_stopword_common_words))))\n",
    "\n",
    "    print_warning('Compute (nb common words)/(nb words in question1+nb word in question2)')\n",
    "    add_column_from_columns(dataframe,'no_stopword_nb_common_words/(no_stopword_nb_words_question1+no_stopword_nb_words_question2)',lambda r: r.no_stopword_nb_common_words/(r.no_stopword_nb_words_question1+r.no_stopword_nb_words_question2))\n",
    "    dataframe=dataframe.drop(columns='no_stopword_common_words')\n",
    "    return dataframe\n",
    "\n",
    "nltk_stopwords = set(stopwords.words('english'))\n",
    "print_info( 'There is %d stopwords in nltk' % len(nltk_stopwords))\n",
    "\n",
    "stopwords_train_dataframe = load_or_build_dataframe('Removing stopwords','training_basic_feature_no_stopwords',remove_stop_words,lower_train_dataframe)\n",
    "\n",
    "nb_changed = int(numpy.where(stopwords_train_dataframe['no_stopword_nb_common_words']!=train_dataframe['nb_common_words'],1,0).sum())\n",
    "print_info('We have changed %.2f %% of nb common_words !!' % (nb_changed*100./len(train_dataframe)))\n"
   ]
  },
  {
   "cell_type": "code",
   "execution_count": 10,
   "metadata": {},
   "outputs": [
    {
     "output_type": "execute_result",
     "data": {
      "text/plain": "<matplotlib.legend.Legend at 0x7f02fbdb0cd0>"
     },
     "metadata": {},
     "execution_count": 10
    },
    {
     "output_type": "display_data",
     "data": {
      "text/plain": "<Figure size 1080x720 with 1 Axes>",
      "image/svg+xml": "<?xml version=\"1.0\" encoding=\"utf-8\" standalone=\"no\"?>\n<!DOCTYPE svg PUBLIC \"-//W3C//DTD SVG 1.1//EN\"\n  \"http://www.w3.org/Graphics/SVG/1.1/DTD/svg11.dtd\">\n<!-- Created with matplotlib (https://matplotlib.org/) -->\n<svg height=\"605.753906pt\" version=\"1.1\" viewBox=\"0 0 894.34375 605.753906\" width=\"894.34375pt\" xmlns=\"http://www.w3.org/2000/svg\" xmlns:xlink=\"http://www.w3.org/1999/xlink\">\n <defs>\n  <style type=\"text/css\">\n*{stroke-linecap:butt;stroke-linejoin:round;}\n  </style>\n </defs>\n <g id=\"figure_1\">\n  <g id=\"patch_1\">\n   <path d=\"M 0 605.753906 \nL 894.34375 605.753906 \nL 894.34375 0 \nL 0 0 \nz\n\" style=\"fill:none;\"/>\n  </g>\n  <g id=\"axes_1\">\n   <g id=\"patch_2\">\n    <path d=\"M 50.14375 568.197656 \nL 887.14375 568.197656 \nL 887.14375 24.597656 \nL 50.14375 24.597656 \nz\n\" style=\"fill:#ffffff;\"/>\n   </g>\n   <g id=\"patch_3\">\n    <path clip-path=\"url(#pdf039901b7)\" d=\"M 88.189205 568.197656 \nL 88.189205 50.483371 \nL 97.247646 50.483371 \nL 97.247646 220.960045 \nL 115.364529 220.960045 \nL 115.364529 92.3651 \nL 133.481412 92.3651 \nL 133.481412 270.228188 \nL 151.598295 270.228188 \nL 151.598295 443.057453 \nL 169.715179 443.057453 \nL 169.715179 518.737137 \nL 187.832062 518.737137 \nL 187.832062 542.479469 \nL 205.948945 542.479469 \nL 205.948945 553.152296 \nL 224.065828 553.152296 \nL 224.065828 558.025807 \nL 242.182711 558.025807 \nL 242.182711 560.963539 \nL 260.299594 560.963539 \nL 260.299594 566.053472 \nL 278.416477 566.053472 \nL 278.416477 565.644674 \nL 296.53336 565.644674 \nL 296.53336 566.454254 \nL 314.650244 566.454254 \nL 314.650244 567.604499 \nL 332.767127 567.604499 \nL 332.767127 567.89707 \nL 350.88401 567.89707 \nL 350.88401 568.087441 \nL 387.117776 568.087441 \nL 387.117776 568.172273 \nL 441.468425 568.172273 \nL 441.468425 568.190786 \nL 504.877516 568.190786 \nL 504.877516 568.197656 \nL 441.468425 568.197656 \nL 441.468425 568.197656 \nL 387.117776 568.197656 \nL 387.117776 568.197656 \nL 350.88401 568.197656 \nL 350.88401 568.197656 \nL 332.767127 568.197656 \nL 332.767127 568.197656 \nL 314.650244 568.197656 \nL 314.650244 568.197656 \nL 296.53336 568.197656 \nL 296.53336 568.197656 \nL 278.416477 568.197656 \nL 278.416477 568.197656 \nL 260.299594 568.197656 \nL 260.299594 568.197656 \nL 242.182711 568.197656 \nL 242.182711 568.197656 \nL 224.065828 568.197656 \nL 224.065828 568.197656 \nL 205.948945 568.197656 \nL 205.948945 568.197656 \nL 187.832062 568.197656 \nL 187.832062 568.197656 \nL 169.715179 568.197656 \nL 169.715179 568.197656 \nL 151.598295 568.197656 \nL 151.598295 568.197656 \nL 133.481412 568.197656 \nL 133.481412 568.197656 \nL 115.364529 568.197656 \nL 115.364529 568.197656 \nL 97.247646 568.197656 \nL 97.247646 568.197656 \nz\n\" style=\"fill:#1f77b4;\"/>\n   </g>\n   <g id=\"patch_4\">\n    <path clip-path=\"url(#pdf039901b7)\" d=\"M 88.189205 568.197656 \nL 88.189205 345.370824 \nL 97.247646 345.370824 \nL 97.247646 411.002901 \nL 115.364529 411.002901 \nL 115.364529 356.632801 \nL 133.481412 356.632801 \nL 133.481412 328.137194 \nL 169.715179 328.137194 \nL 169.715179 357.839155 \nL 187.832062 357.839155 \nL 187.832062 409.62421 \nL 205.948945 409.62421 \nL 205.948945 463.749833 \nL 224.065828 463.749833 \nL 224.065828 504.866069 \nL 242.182711 504.866069 \nL 242.182711 533.000972 \nL 260.299594 533.000972 \nL 260.299594 547.7738 \nL 278.416477 547.7738 \nL 278.416477 554.639198 \nL 296.53336 554.639198 \nL 296.53336 555.869599 \nL 314.650244 555.869599 \nL 314.650244 558.775269 \nL 332.767127 558.775269 \nL 332.767127 560.192034 \nL 369.000893 560.192034 \nL 369.000893 562.570676 \nL 387.117776 562.570676 \nL 387.117776 565.630647 \nL 423.351542 565.630647 \nL 423.351542 565.107626 \nL 441.468425 565.107626 \nL 441.468425 567.420139 \nL 459.585308 567.420139 \nL 459.585308 567.774163 \nL 513.935958 567.774163 \nL 513.935958 568.041351 \nL 532.052841 568.041351 \nL 532.052841 568.121508 \nL 586.40349 568.121508 \nL 586.40349 568.178953 \nL 640.75414 568.178953 \nL 640.75414 568.19452 \nL 849.098295 568.19452 \nL 849.098295 568.197656 \n\" style=\"fill:none;opacity:0.5;stroke:#ff7f0e;stroke-linejoin:miter;stroke-width:5;\"/>\n   </g>\n   <g id=\"matplotlib.axis_1\">\n    <g id=\"xtick_1\">\n     <g id=\"line2d_1\">\n      <defs>\n       <path d=\"M 0 0 \nL 0 3.5 \n\" id=\"md74216a85b\" style=\"stroke:#000000;stroke-width:0.8;\"/>\n      </defs>\n      <g>\n       <use style=\"stroke:#000000;stroke-width:0.8;\" x=\"88.189205\" xlink:href=\"#md74216a85b\" y=\"568.197656\"/>\n      </g>\n     </g>\n     <g id=\"text_1\">\n      <!-- 0 -->\n      <defs>\n       <path d=\"M 31.78125 66.40625 \nQ 24.171875 66.40625 20.328125 58.90625 \nQ 16.5 51.421875 16.5 36.375 \nQ 16.5 21.390625 20.328125 13.890625 \nQ 24.171875 6.390625 31.78125 6.390625 \nQ 39.453125 6.390625 43.28125 13.890625 \nQ 47.125 21.390625 47.125 36.375 \nQ 47.125 51.421875 43.28125 58.90625 \nQ 39.453125 66.40625 31.78125 66.40625 \nz\nM 31.78125 74.21875 \nQ 44.046875 74.21875 50.515625 64.515625 \nQ 56.984375 54.828125 56.984375 36.375 \nQ 56.984375 17.96875 50.515625 8.265625 \nQ 44.046875 -1.421875 31.78125 -1.421875 \nQ 19.53125 -1.421875 13.0625 8.265625 \nQ 6.59375 17.96875 6.59375 36.375 \nQ 6.59375 54.828125 13.0625 64.515625 \nQ 19.53125 74.21875 31.78125 74.21875 \nz\n\" id=\"DejaVuSans-48\"/>\n      </defs>\n      <g transform=\"translate(85.007955 582.796094)scale(0.1 -0.1)\">\n       <use xlink:href=\"#DejaVuSans-48\"/>\n      </g>\n     </g>\n    </g>\n    <g id=\"xtick_2\">\n     <g id=\"line2d_2\">\n      <g>\n       <use style=\"stroke:#000000;stroke-width:0.8;\" x=\"269.358036\" xlink:href=\"#md74216a85b\" y=\"568.197656\"/>\n      </g>\n     </g>\n     <g id=\"text_2\">\n      <!-- 10 -->\n      <defs>\n       <path d=\"M 12.40625 8.296875 \nL 28.515625 8.296875 \nL 28.515625 63.921875 \nL 10.984375 60.40625 \nL 10.984375 69.390625 \nL 28.421875 72.90625 \nL 38.28125 72.90625 \nL 38.28125 8.296875 \nL 54.390625 8.296875 \nL 54.390625 0 \nL 12.40625 0 \nz\n\" id=\"DejaVuSans-49\"/>\n      </defs>\n      <g transform=\"translate(262.995536 582.796094)scale(0.1 -0.1)\">\n       <use xlink:href=\"#DejaVuSans-49\"/>\n       <use x=\"63.623047\" xlink:href=\"#DejaVuSans-48\"/>\n      </g>\n     </g>\n    </g>\n    <g id=\"xtick_3\">\n     <g id=\"line2d_3\">\n      <g>\n       <use style=\"stroke:#000000;stroke-width:0.8;\" x=\"450.526867\" xlink:href=\"#md74216a85b\" y=\"568.197656\"/>\n      </g>\n     </g>\n     <g id=\"text_3\">\n      <!-- 20 -->\n      <defs>\n       <path d=\"M 19.1875 8.296875 \nL 53.609375 8.296875 \nL 53.609375 0 \nL 7.328125 0 \nL 7.328125 8.296875 \nQ 12.9375 14.109375 22.625 23.890625 \nQ 32.328125 33.6875 34.8125 36.53125 \nQ 39.546875 41.84375 41.421875 45.53125 \nQ 43.3125 49.21875 43.3125 52.78125 \nQ 43.3125 58.59375 39.234375 62.25 \nQ 35.15625 65.921875 28.609375 65.921875 \nQ 23.96875 65.921875 18.8125 64.3125 \nQ 13.671875 62.703125 7.8125 59.421875 \nL 7.8125 69.390625 \nQ 13.765625 71.78125 18.9375 73 \nQ 24.125 74.21875 28.421875 74.21875 \nQ 39.75 74.21875 46.484375 68.546875 \nQ 53.21875 62.890625 53.21875 53.421875 \nQ 53.21875 48.921875 51.53125 44.890625 \nQ 49.859375 40.875 45.40625 35.40625 \nQ 44.1875 33.984375 37.640625 27.21875 \nQ 31.109375 20.453125 19.1875 8.296875 \nz\n\" id=\"DejaVuSans-50\"/>\n      </defs>\n      <g transform=\"translate(444.164367 582.796094)scale(0.1 -0.1)\">\n       <use xlink:href=\"#DejaVuSans-50\"/>\n       <use x=\"63.623047\" xlink:href=\"#DejaVuSans-48\"/>\n      </g>\n     </g>\n    </g>\n    <g id=\"xtick_4\">\n     <g id=\"line2d_4\">\n      <g>\n       <use style=\"stroke:#000000;stroke-width:0.8;\" x=\"631.695698\" xlink:href=\"#md74216a85b\" y=\"568.197656\"/>\n      </g>\n     </g>\n     <g id=\"text_4\">\n      <!-- 30 -->\n      <defs>\n       <path d=\"M 40.578125 39.3125 \nQ 47.65625 37.796875 51.625 33 \nQ 55.609375 28.21875 55.609375 21.1875 \nQ 55.609375 10.40625 48.1875 4.484375 \nQ 40.765625 -1.421875 27.09375 -1.421875 \nQ 22.515625 -1.421875 17.65625 -0.515625 \nQ 12.796875 0.390625 7.625 2.203125 \nL 7.625 11.71875 \nQ 11.71875 9.328125 16.59375 8.109375 \nQ 21.484375 6.890625 26.8125 6.890625 \nQ 36.078125 6.890625 40.9375 10.546875 \nQ 45.796875 14.203125 45.796875 21.1875 \nQ 45.796875 27.640625 41.28125 31.265625 \nQ 36.765625 34.90625 28.71875 34.90625 \nL 20.21875 34.90625 \nL 20.21875 43.015625 \nL 29.109375 43.015625 \nQ 36.375 43.015625 40.234375 45.921875 \nQ 44.09375 48.828125 44.09375 54.296875 \nQ 44.09375 59.90625 40.109375 62.90625 \nQ 36.140625 65.921875 28.71875 65.921875 \nQ 24.65625 65.921875 20.015625 65.03125 \nQ 15.375 64.15625 9.8125 62.3125 \nL 9.8125 71.09375 \nQ 15.4375 72.65625 20.34375 73.4375 \nQ 25.25 74.21875 29.59375 74.21875 \nQ 40.828125 74.21875 47.359375 69.109375 \nQ 53.90625 64.015625 53.90625 55.328125 \nQ 53.90625 49.265625 50.4375 45.09375 \nQ 46.96875 40.921875 40.578125 39.3125 \nz\n\" id=\"DejaVuSans-51\"/>\n      </defs>\n      <g transform=\"translate(625.333198 582.796094)scale(0.1 -0.1)\">\n       <use xlink:href=\"#DejaVuSans-51\"/>\n       <use x=\"63.623047\" xlink:href=\"#DejaVuSans-48\"/>\n      </g>\n     </g>\n    </g>\n    <g id=\"xtick_5\">\n     <g id=\"line2d_5\">\n      <g>\n       <use style=\"stroke:#000000;stroke-width:0.8;\" x=\"812.864529\" xlink:href=\"#md74216a85b\" y=\"568.197656\"/>\n      </g>\n     </g>\n     <g id=\"text_5\">\n      <!-- 40 -->\n      <defs>\n       <path d=\"M 37.796875 64.3125 \nL 12.890625 25.390625 \nL 37.796875 25.390625 \nz\nM 35.203125 72.90625 \nL 47.609375 72.90625 \nL 47.609375 25.390625 \nL 58.015625 25.390625 \nL 58.015625 17.1875 \nL 47.609375 17.1875 \nL 47.609375 0 \nL 37.796875 0 \nL 37.796875 17.1875 \nL 4.890625 17.1875 \nL 4.890625 26.703125 \nz\n\" id=\"DejaVuSans-52\"/>\n      </defs>\n      <g transform=\"translate(806.502029 582.796094)scale(0.1 -0.1)\">\n       <use xlink:href=\"#DejaVuSans-52\"/>\n       <use x=\"63.623047\" xlink:href=\"#DejaVuSans-48\"/>\n      </g>\n     </g>\n    </g>\n    <g id=\"text_6\">\n     <!-- Nb common words -->\n     <defs>\n      <path d=\"M 9.8125 72.90625 \nL 23.09375 72.90625 \nL 55.421875 11.921875 \nL 55.421875 72.90625 \nL 64.984375 72.90625 \nL 64.984375 0 \nL 51.703125 0 \nL 19.390625 60.984375 \nL 19.390625 0 \nL 9.8125 0 \nz\n\" id=\"DejaVuSans-78\"/>\n      <path d=\"M 48.6875 27.296875 \nQ 48.6875 37.203125 44.609375 42.84375 \nQ 40.53125 48.484375 33.40625 48.484375 \nQ 26.265625 48.484375 22.1875 42.84375 \nQ 18.109375 37.203125 18.109375 27.296875 \nQ 18.109375 17.390625 22.1875 11.75 \nQ 26.265625 6.109375 33.40625 6.109375 \nQ 40.53125 6.109375 44.609375 11.75 \nQ 48.6875 17.390625 48.6875 27.296875 \nz\nM 18.109375 46.390625 \nQ 20.953125 51.265625 25.265625 53.625 \nQ 29.59375 56 35.59375 56 \nQ 45.5625 56 51.78125 48.09375 \nQ 58.015625 40.1875 58.015625 27.296875 \nQ 58.015625 14.40625 51.78125 6.484375 \nQ 45.5625 -1.421875 35.59375 -1.421875 \nQ 29.59375 -1.421875 25.265625 0.953125 \nQ 20.953125 3.328125 18.109375 8.203125 \nL 18.109375 0 \nL 9.078125 0 \nL 9.078125 75.984375 \nL 18.109375 75.984375 \nz\n\" id=\"DejaVuSans-98\"/>\n      <path id=\"DejaVuSans-32\"/>\n      <path d=\"M 48.78125 52.59375 \nL 48.78125 44.1875 \nQ 44.96875 46.296875 41.140625 47.34375 \nQ 37.3125 48.390625 33.40625 48.390625 \nQ 24.65625 48.390625 19.8125 42.84375 \nQ 14.984375 37.3125 14.984375 27.296875 \nQ 14.984375 17.28125 19.8125 11.734375 \nQ 24.65625 6.203125 33.40625 6.203125 \nQ 37.3125 6.203125 41.140625 7.25 \nQ 44.96875 8.296875 48.78125 10.40625 \nL 48.78125 2.09375 \nQ 45.015625 0.34375 40.984375 -0.53125 \nQ 36.96875 -1.421875 32.421875 -1.421875 \nQ 20.0625 -1.421875 12.78125 6.34375 \nQ 5.515625 14.109375 5.515625 27.296875 \nQ 5.515625 40.671875 12.859375 48.328125 \nQ 20.21875 56 33.015625 56 \nQ 37.15625 56 41.109375 55.140625 \nQ 45.0625 54.296875 48.78125 52.59375 \nz\n\" id=\"DejaVuSans-99\"/>\n      <path d=\"M 30.609375 48.390625 \nQ 23.390625 48.390625 19.1875 42.75 \nQ 14.984375 37.109375 14.984375 27.296875 \nQ 14.984375 17.484375 19.15625 11.84375 \nQ 23.34375 6.203125 30.609375 6.203125 \nQ 37.796875 6.203125 41.984375 11.859375 \nQ 46.1875 17.53125 46.1875 27.296875 \nQ 46.1875 37.015625 41.984375 42.703125 \nQ 37.796875 48.390625 30.609375 48.390625 \nz\nM 30.609375 56 \nQ 42.328125 56 49.015625 48.375 \nQ 55.71875 40.765625 55.71875 27.296875 \nQ 55.71875 13.875 49.015625 6.21875 \nQ 42.328125 -1.421875 30.609375 -1.421875 \nQ 18.84375 -1.421875 12.171875 6.21875 \nQ 5.515625 13.875 5.515625 27.296875 \nQ 5.515625 40.765625 12.171875 48.375 \nQ 18.84375 56 30.609375 56 \nz\n\" id=\"DejaVuSans-111\"/>\n      <path d=\"M 52 44.1875 \nQ 55.375 50.25 60.0625 53.125 \nQ 64.75 56 71.09375 56 \nQ 79.640625 56 84.28125 50.015625 \nQ 88.921875 44.046875 88.921875 33.015625 \nL 88.921875 0 \nL 79.890625 0 \nL 79.890625 32.71875 \nQ 79.890625 40.578125 77.09375 44.375 \nQ 74.3125 48.1875 68.609375 48.1875 \nQ 61.625 48.1875 57.5625 43.546875 \nQ 53.515625 38.921875 53.515625 30.90625 \nL 53.515625 0 \nL 44.484375 0 \nL 44.484375 32.71875 \nQ 44.484375 40.625 41.703125 44.40625 \nQ 38.921875 48.1875 33.109375 48.1875 \nQ 26.21875 48.1875 22.15625 43.53125 \nQ 18.109375 38.875 18.109375 30.90625 \nL 18.109375 0 \nL 9.078125 0 \nL 9.078125 54.6875 \nL 18.109375 54.6875 \nL 18.109375 46.1875 \nQ 21.1875 51.21875 25.484375 53.609375 \nQ 29.78125 56 35.6875 56 \nQ 41.65625 56 45.828125 52.96875 \nQ 50 49.953125 52 44.1875 \nz\n\" id=\"DejaVuSans-109\"/>\n      <path d=\"M 54.890625 33.015625 \nL 54.890625 0 \nL 45.90625 0 \nL 45.90625 32.71875 \nQ 45.90625 40.484375 42.875 44.328125 \nQ 39.84375 48.1875 33.796875 48.1875 \nQ 26.515625 48.1875 22.3125 43.546875 \nQ 18.109375 38.921875 18.109375 30.90625 \nL 18.109375 0 \nL 9.078125 0 \nL 9.078125 54.6875 \nL 18.109375 54.6875 \nL 18.109375 46.1875 \nQ 21.34375 51.125 25.703125 53.5625 \nQ 30.078125 56 35.796875 56 \nQ 45.21875 56 50.046875 50.171875 \nQ 54.890625 44.34375 54.890625 33.015625 \nz\n\" id=\"DejaVuSans-110\"/>\n      <path d=\"M 4.203125 54.6875 \nL 13.1875 54.6875 \nL 24.421875 12.015625 \nL 35.59375 54.6875 \nL 46.1875 54.6875 \nL 57.421875 12.015625 \nL 68.609375 54.6875 \nL 77.59375 54.6875 \nL 63.28125 0 \nL 52.6875 0 \nL 40.921875 44.828125 \nL 29.109375 0 \nL 18.5 0 \nz\n\" id=\"DejaVuSans-119\"/>\n      <path d=\"M 41.109375 46.296875 \nQ 39.59375 47.171875 37.8125 47.578125 \nQ 36.03125 48 33.890625 48 \nQ 26.265625 48 22.1875 43.046875 \nQ 18.109375 38.09375 18.109375 28.8125 \nL 18.109375 0 \nL 9.078125 0 \nL 9.078125 54.6875 \nL 18.109375 54.6875 \nL 18.109375 46.1875 \nQ 20.953125 51.171875 25.484375 53.578125 \nQ 30.03125 56 36.53125 56 \nQ 37.453125 56 38.578125 55.875 \nQ 39.703125 55.765625 41.0625 55.515625 \nz\n\" id=\"DejaVuSans-114\"/>\n      <path d=\"M 45.40625 46.390625 \nL 45.40625 75.984375 \nL 54.390625 75.984375 \nL 54.390625 0 \nL 45.40625 0 \nL 45.40625 8.203125 \nQ 42.578125 3.328125 38.25 0.953125 \nQ 33.9375 -1.421875 27.875 -1.421875 \nQ 17.96875 -1.421875 11.734375 6.484375 \nQ 5.515625 14.40625 5.515625 27.296875 \nQ 5.515625 40.1875 11.734375 48.09375 \nQ 17.96875 56 27.875 56 \nQ 33.9375 56 38.25 53.625 \nQ 42.578125 51.265625 45.40625 46.390625 \nz\nM 14.796875 27.296875 \nQ 14.796875 17.390625 18.875 11.75 \nQ 22.953125 6.109375 30.078125 6.109375 \nQ 37.203125 6.109375 41.296875 11.75 \nQ 45.40625 17.390625 45.40625 27.296875 \nQ 45.40625 37.203125 41.296875 42.84375 \nQ 37.203125 48.484375 30.078125 48.484375 \nQ 22.953125 48.484375 18.875 42.84375 \nQ 14.796875 37.203125 14.796875 27.296875 \nz\n\" id=\"DejaVuSans-100\"/>\n      <path d=\"M 44.28125 53.078125 \nL 44.28125 44.578125 \nQ 40.484375 46.53125 36.375 47.5 \nQ 32.28125 48.484375 27.875 48.484375 \nQ 21.1875 48.484375 17.84375 46.4375 \nQ 14.5 44.390625 14.5 40.28125 \nQ 14.5 37.15625 16.890625 35.375 \nQ 19.28125 33.59375 26.515625 31.984375 \nL 29.59375 31.296875 \nQ 39.15625 29.25 43.1875 25.515625 \nQ 47.21875 21.78125 47.21875 15.09375 \nQ 47.21875 7.46875 41.1875 3.015625 \nQ 35.15625 -1.421875 24.609375 -1.421875 \nQ 20.21875 -1.421875 15.453125 -0.5625 \nQ 10.6875 0.296875 5.421875 2 \nL 5.421875 11.28125 \nQ 10.40625 8.6875 15.234375 7.390625 \nQ 20.0625 6.109375 24.8125 6.109375 \nQ 31.15625 6.109375 34.5625 8.28125 \nQ 37.984375 10.453125 37.984375 14.40625 \nQ 37.984375 18.0625 35.515625 20.015625 \nQ 33.0625 21.96875 24.703125 23.78125 \nL 21.578125 24.515625 \nQ 13.234375 26.265625 9.515625 29.90625 \nQ 5.8125 33.546875 5.8125 39.890625 \nQ 5.8125 47.609375 11.28125 51.796875 \nQ 16.75 56 26.8125 56 \nQ 31.78125 56 36.171875 55.265625 \nQ 40.578125 54.546875 44.28125 53.078125 \nz\n\" id=\"DejaVuSans-115\"/>\n     </defs>\n     <g transform=\"translate(421.878125 596.474219)scale(0.1 -0.1)\">\n      <use xlink:href=\"#DejaVuSans-78\"/>\n      <use x=\"74.804688\" xlink:href=\"#DejaVuSans-98\"/>\n      <use x=\"138.28125\" xlink:href=\"#DejaVuSans-32\"/>\n      <use x=\"170.068359\" xlink:href=\"#DejaVuSans-99\"/>\n      <use x=\"225.048828\" xlink:href=\"#DejaVuSans-111\"/>\n      <use x=\"286.230469\" xlink:href=\"#DejaVuSans-109\"/>\n      <use x=\"383.642578\" xlink:href=\"#DejaVuSans-109\"/>\n      <use x=\"481.054688\" xlink:href=\"#DejaVuSans-111\"/>\n      <use x=\"542.236328\" xlink:href=\"#DejaVuSans-110\"/>\n      <use x=\"605.615234\" xlink:href=\"#DejaVuSans-32\"/>\n      <use x=\"637.402344\" xlink:href=\"#DejaVuSans-119\"/>\n      <use x=\"719.189453\" xlink:href=\"#DejaVuSans-111\"/>\n      <use x=\"780.371094\" xlink:href=\"#DejaVuSans-114\"/>\n      <use x=\"819.734375\" xlink:href=\"#DejaVuSans-100\"/>\n      <use x=\"883.210938\" xlink:href=\"#DejaVuSans-115\"/>\n     </g>\n    </g>\n   </g>\n   <g id=\"matplotlib.axis_2\">\n    <g id=\"ytick_1\">\n     <g id=\"line2d_6\">\n      <defs>\n       <path d=\"M 0 0 \nL -3.5 0 \n\" id=\"me87ede04ac\" style=\"stroke:#000000;stroke-width:0.8;\"/>\n      </defs>\n      <g>\n       <use style=\"stroke:#000000;stroke-width:0.8;\" x=\"50.14375\" xlink:href=\"#me87ede04ac\" y=\"568.197656\"/>\n      </g>\n     </g>\n     <g id=\"text_7\">\n      <!-- 0.00 -->\n      <defs>\n       <path d=\"M 10.6875 12.40625 \nL 21 12.40625 \nL 21 0 \nL 10.6875 0 \nz\n\" id=\"DejaVuSans-46\"/>\n      </defs>\n      <g transform=\"translate(20.878125 571.996875)scale(0.1 -0.1)\">\n       <use xlink:href=\"#DejaVuSans-48\"/>\n       <use x=\"63.623047\" xlink:href=\"#DejaVuSans-46\"/>\n       <use x=\"95.410156\" xlink:href=\"#DejaVuSans-48\"/>\n       <use x=\"159.033203\" xlink:href=\"#DejaVuSans-48\"/>\n      </g>\n     </g>\n    </g>\n    <g id=\"ytick_2\">\n     <g id=\"line2d_7\">\n      <g>\n       <use style=\"stroke:#000000;stroke-width:0.8;\" x=\"50.14375\" xlink:href=\"#me87ede04ac\" y=\"487.181559\"/>\n      </g>\n     </g>\n     <g id=\"text_8\">\n      <!-- 0.05 -->\n      <defs>\n       <path d=\"M 10.796875 72.90625 \nL 49.515625 72.90625 \nL 49.515625 64.59375 \nL 19.828125 64.59375 \nL 19.828125 46.734375 \nQ 21.96875 47.46875 24.109375 47.828125 \nQ 26.265625 48.1875 28.421875 48.1875 \nQ 40.625 48.1875 47.75 41.5 \nQ 54.890625 34.8125 54.890625 23.390625 \nQ 54.890625 11.625 47.5625 5.09375 \nQ 40.234375 -1.421875 26.90625 -1.421875 \nQ 22.3125 -1.421875 17.546875 -0.640625 \nQ 12.796875 0.140625 7.71875 1.703125 \nL 7.71875 11.625 \nQ 12.109375 9.234375 16.796875 8.0625 \nQ 21.484375 6.890625 26.703125 6.890625 \nQ 35.15625 6.890625 40.078125 11.328125 \nQ 45.015625 15.765625 45.015625 23.390625 \nQ 45.015625 31 40.078125 35.4375 \nQ 35.15625 39.890625 26.703125 39.890625 \nQ 22.75 39.890625 18.8125 39.015625 \nQ 14.890625 38.140625 10.796875 36.28125 \nz\n\" id=\"DejaVuSans-53\"/>\n      </defs>\n      <g transform=\"translate(20.878125 490.980777)scale(0.1 -0.1)\">\n       <use xlink:href=\"#DejaVuSans-48\"/>\n       <use x=\"63.623047\" xlink:href=\"#DejaVuSans-46\"/>\n       <use x=\"95.410156\" xlink:href=\"#DejaVuSans-48\"/>\n       <use x=\"159.033203\" xlink:href=\"#DejaVuSans-53\"/>\n      </g>\n     </g>\n    </g>\n    <g id=\"ytick_3\">\n     <g id=\"line2d_8\">\n      <g>\n       <use style=\"stroke:#000000;stroke-width:0.8;\" x=\"50.14375\" xlink:href=\"#me87ede04ac\" y=\"406.165461\"/>\n      </g>\n     </g>\n     <g id=\"text_9\">\n      <!-- 0.10 -->\n      <g transform=\"translate(20.878125 409.96468)scale(0.1 -0.1)\">\n       <use xlink:href=\"#DejaVuSans-48\"/>\n       <use x=\"63.623047\" xlink:href=\"#DejaVuSans-46\"/>\n       <use x=\"95.410156\" xlink:href=\"#DejaVuSans-49\"/>\n       <use x=\"159.033203\" xlink:href=\"#DejaVuSans-48\"/>\n      </g>\n     </g>\n    </g>\n    <g id=\"ytick_4\">\n     <g id=\"line2d_9\">\n      <g>\n       <use style=\"stroke:#000000;stroke-width:0.8;\" x=\"50.14375\" xlink:href=\"#me87ede04ac\" y=\"325.149363\"/>\n      </g>\n     </g>\n     <g id=\"text_10\">\n      <!-- 0.15 -->\n      <g transform=\"translate(20.878125 328.948582)scale(0.1 -0.1)\">\n       <use xlink:href=\"#DejaVuSans-48\"/>\n       <use x=\"63.623047\" xlink:href=\"#DejaVuSans-46\"/>\n       <use x=\"95.410156\" xlink:href=\"#DejaVuSans-49\"/>\n       <use x=\"159.033203\" xlink:href=\"#DejaVuSans-53\"/>\n      </g>\n     </g>\n    </g>\n    <g id=\"ytick_5\">\n     <g id=\"line2d_10\">\n      <g>\n       <use style=\"stroke:#000000;stroke-width:0.8;\" x=\"50.14375\" xlink:href=\"#me87ede04ac\" y=\"244.133266\"/>\n      </g>\n     </g>\n     <g id=\"text_11\">\n      <!-- 0.20 -->\n      <g transform=\"translate(20.878125 247.932484)scale(0.1 -0.1)\">\n       <use xlink:href=\"#DejaVuSans-48\"/>\n       <use x=\"63.623047\" xlink:href=\"#DejaVuSans-46\"/>\n       <use x=\"95.410156\" xlink:href=\"#DejaVuSans-50\"/>\n       <use x=\"159.033203\" xlink:href=\"#DejaVuSans-48\"/>\n      </g>\n     </g>\n    </g>\n    <g id=\"ytick_6\">\n     <g id=\"line2d_11\">\n      <g>\n       <use style=\"stroke:#000000;stroke-width:0.8;\" x=\"50.14375\" xlink:href=\"#me87ede04ac\" y=\"163.117168\"/>\n      </g>\n     </g>\n     <g id=\"text_12\">\n      <!-- 0.25 -->\n      <g transform=\"translate(20.878125 166.916387)scale(0.1 -0.1)\">\n       <use xlink:href=\"#DejaVuSans-48\"/>\n       <use x=\"63.623047\" xlink:href=\"#DejaVuSans-46\"/>\n       <use x=\"95.410156\" xlink:href=\"#DejaVuSans-50\"/>\n       <use x=\"159.033203\" xlink:href=\"#DejaVuSans-53\"/>\n      </g>\n     </g>\n    </g>\n    <g id=\"ytick_7\">\n     <g id=\"line2d_12\">\n      <g>\n       <use style=\"stroke:#000000;stroke-width:0.8;\" x=\"50.14375\" xlink:href=\"#me87ede04ac\" y=\"82.10107\"/>\n      </g>\n     </g>\n     <g id=\"text_13\">\n      <!-- 0.30 -->\n      <g transform=\"translate(20.878125 85.900289)scale(0.1 -0.1)\">\n       <use xlink:href=\"#DejaVuSans-48\"/>\n       <use x=\"63.623047\" xlink:href=\"#DejaVuSans-46\"/>\n       <use x=\"95.410156\" xlink:href=\"#DejaVuSans-51\"/>\n       <use x=\"159.033203\" xlink:href=\"#DejaVuSans-48\"/>\n      </g>\n     </g>\n    </g>\n    <g id=\"text_14\">\n     <!-- Prob -->\n     <defs>\n      <path d=\"M 19.671875 64.796875 \nL 19.671875 37.40625 \nL 32.078125 37.40625 \nQ 38.96875 37.40625 42.71875 40.96875 \nQ 46.484375 44.53125 46.484375 51.125 \nQ 46.484375 57.671875 42.71875 61.234375 \nQ 38.96875 64.796875 32.078125 64.796875 \nz\nM 9.8125 72.90625 \nL 32.078125 72.90625 \nQ 44.34375 72.90625 50.609375 67.359375 \nQ 56.890625 61.8125 56.890625 51.125 \nQ 56.890625 40.328125 50.609375 34.8125 \nQ 44.34375 29.296875 32.078125 29.296875 \nL 19.671875 29.296875 \nL 19.671875 0 \nL 9.8125 0 \nz\n\" id=\"DejaVuSans-80\"/>\n     </defs>\n     <g transform=\"translate(14.798437 307.501563)rotate(-90)scale(0.1 -0.1)\">\n      <use xlink:href=\"#DejaVuSans-80\"/>\n      <use x=\"58.552734\" xlink:href=\"#DejaVuSans-114\"/>\n      <use x=\"97.416016\" xlink:href=\"#DejaVuSans-111\"/>\n      <use x=\"158.597656\" xlink:href=\"#DejaVuSans-98\"/>\n     </g>\n    </g>\n   </g>\n   <g id=\"patch_5\">\n    <path d=\"M 50.14375 568.197656 \nL 50.14375 24.597656 \n\" style=\"fill:none;stroke:#000000;stroke-linecap:square;stroke-linejoin:miter;stroke-width:0.8;\"/>\n   </g>\n   <g id=\"patch_6\">\n    <path d=\"M 887.14375 568.197656 \nL 887.14375 24.597656 \n\" style=\"fill:none;stroke:#000000;stroke-linecap:square;stroke-linejoin:miter;stroke-width:0.8;\"/>\n   </g>\n   <g id=\"patch_7\">\n    <path d=\"M 50.14375 568.197656 \nL 887.14375 568.197656 \n\" style=\"fill:none;stroke:#000000;stroke-linecap:square;stroke-linejoin:miter;stroke-width:0.8;\"/>\n   </g>\n   <g id=\"patch_8\">\n    <path d=\"M 50.14375 24.597656 \nL 887.14375 24.597656 \n\" style=\"fill:none;stroke:#000000;stroke-linecap:square;stroke-linejoin:miter;stroke-width:0.8;\"/>\n   </g>\n   <g id=\"text_15\">\n    <!-- Distribution of Nb no stop word common words+Nb common words -->\n    <defs>\n     <path d=\"M 19.671875 64.796875 \nL 19.671875 8.109375 \nL 31.59375 8.109375 \nQ 46.6875 8.109375 53.6875 14.9375 \nQ 60.6875 21.78125 60.6875 36.53125 \nQ 60.6875 51.171875 53.6875 57.984375 \nQ 46.6875 64.796875 31.59375 64.796875 \nz\nM 9.8125 72.90625 \nL 30.078125 72.90625 \nQ 51.265625 72.90625 61.171875 64.09375 \nQ 71.09375 55.28125 71.09375 36.53125 \nQ 71.09375 17.671875 61.125 8.828125 \nQ 51.171875 0 30.078125 0 \nL 9.8125 0 \nz\n\" id=\"DejaVuSans-68\"/>\n     <path d=\"M 9.421875 54.6875 \nL 18.40625 54.6875 \nL 18.40625 0 \nL 9.421875 0 \nz\nM 9.421875 75.984375 \nL 18.40625 75.984375 \nL 18.40625 64.59375 \nL 9.421875 64.59375 \nz\n\" id=\"DejaVuSans-105\"/>\n     <path d=\"M 18.3125 70.21875 \nL 18.3125 54.6875 \nL 36.8125 54.6875 \nL 36.8125 47.703125 \nL 18.3125 47.703125 \nL 18.3125 18.015625 \nQ 18.3125 11.328125 20.140625 9.421875 \nQ 21.96875 7.515625 27.59375 7.515625 \nL 36.8125 7.515625 \nL 36.8125 0 \nL 27.59375 0 \nQ 17.1875 0 13.234375 3.875 \nQ 9.28125 7.765625 9.28125 18.015625 \nL 9.28125 47.703125 \nL 2.6875 47.703125 \nL 2.6875 54.6875 \nL 9.28125 54.6875 \nL 9.28125 70.21875 \nz\n\" id=\"DejaVuSans-116\"/>\n     <path d=\"M 8.5 21.578125 \nL 8.5 54.6875 \nL 17.484375 54.6875 \nL 17.484375 21.921875 \nQ 17.484375 14.15625 20.5 10.265625 \nQ 23.53125 6.390625 29.59375 6.390625 \nQ 36.859375 6.390625 41.078125 11.03125 \nQ 45.3125 15.671875 45.3125 23.6875 \nL 45.3125 54.6875 \nL 54.296875 54.6875 \nL 54.296875 0 \nL 45.3125 0 \nL 45.3125 8.40625 \nQ 42.046875 3.421875 37.71875 1 \nQ 33.40625 -1.421875 27.6875 -1.421875 \nQ 18.265625 -1.421875 13.375 4.4375 \nQ 8.5 10.296875 8.5 21.578125 \nz\nM 31.109375 56 \nz\n\" id=\"DejaVuSans-117\"/>\n     <path d=\"M 37.109375 75.984375 \nL 37.109375 68.5 \nL 28.515625 68.5 \nQ 23.6875 68.5 21.796875 66.546875 \nQ 19.921875 64.59375 19.921875 59.515625 \nL 19.921875 54.6875 \nL 34.71875 54.6875 \nL 34.71875 47.703125 \nL 19.921875 47.703125 \nL 19.921875 0 \nL 10.890625 0 \nL 10.890625 47.703125 \nL 2.296875 47.703125 \nL 2.296875 54.6875 \nL 10.890625 54.6875 \nL 10.890625 58.5 \nQ 10.890625 67.625 15.140625 71.796875 \nQ 19.390625 75.984375 28.609375 75.984375 \nz\n\" id=\"DejaVuSans-102\"/>\n     <path d=\"M 18.109375 8.203125 \nL 18.109375 -20.796875 \nL 9.078125 -20.796875 \nL 9.078125 54.6875 \nL 18.109375 54.6875 \nL 18.109375 46.390625 \nQ 20.953125 51.265625 25.265625 53.625 \nQ 29.59375 56 35.59375 56 \nQ 45.5625 56 51.78125 48.09375 \nQ 58.015625 40.1875 58.015625 27.296875 \nQ 58.015625 14.40625 51.78125 6.484375 \nQ 45.5625 -1.421875 35.59375 -1.421875 \nQ 29.59375 -1.421875 25.265625 0.953125 \nQ 20.953125 3.328125 18.109375 8.203125 \nz\nM 48.6875 27.296875 \nQ 48.6875 37.203125 44.609375 42.84375 \nQ 40.53125 48.484375 33.40625 48.484375 \nQ 26.265625 48.484375 22.1875 42.84375 \nQ 18.109375 37.203125 18.109375 27.296875 \nQ 18.109375 17.390625 22.1875 11.75 \nQ 26.265625 6.109375 33.40625 6.109375 \nQ 40.53125 6.109375 44.609375 11.75 \nQ 48.6875 17.390625 48.6875 27.296875 \nz\n\" id=\"DejaVuSans-112\"/>\n     <path d=\"M 46 62.703125 \nL 46 35.5 \nL 73.1875 35.5 \nL 73.1875 27.203125 \nL 46 27.203125 \nL 46 0 \nL 37.796875 0 \nL 37.796875 27.203125 \nL 10.59375 27.203125 \nL 10.59375 35.5 \nL 37.796875 35.5 \nL 37.796875 62.703125 \nz\n\" id=\"DejaVuSans-43\"/>\n    </defs>\n    <g transform=\"translate(215.185938 18.597656)scale(0.15 -0.15)\">\n     <use xlink:href=\"#DejaVuSans-68\"/>\n     <use x=\"77.001953\" xlink:href=\"#DejaVuSans-105\"/>\n     <use x=\"104.785156\" xlink:href=\"#DejaVuSans-115\"/>\n     <use x=\"156.884766\" xlink:href=\"#DejaVuSans-116\"/>\n     <use x=\"196.09375\" xlink:href=\"#DejaVuSans-114\"/>\n     <use x=\"237.207031\" xlink:href=\"#DejaVuSans-105\"/>\n     <use x=\"264.990234\" xlink:href=\"#DejaVuSans-98\"/>\n     <use x=\"328.466797\" xlink:href=\"#DejaVuSans-117\"/>\n     <use x=\"391.845703\" xlink:href=\"#DejaVuSans-116\"/>\n     <use x=\"431.054688\" xlink:href=\"#DejaVuSans-105\"/>\n     <use x=\"458.837891\" xlink:href=\"#DejaVuSans-111\"/>\n     <use x=\"520.019531\" xlink:href=\"#DejaVuSans-110\"/>\n     <use x=\"583.398438\" xlink:href=\"#DejaVuSans-32\"/>\n     <use x=\"615.185547\" xlink:href=\"#DejaVuSans-111\"/>\n     <use x=\"676.367188\" xlink:href=\"#DejaVuSans-102\"/>\n     <use x=\"711.572266\" xlink:href=\"#DejaVuSans-32\"/>\n     <use x=\"743.359375\" xlink:href=\"#DejaVuSans-78\"/>\n     <use x=\"818.164062\" xlink:href=\"#DejaVuSans-98\"/>\n     <use x=\"881.640625\" xlink:href=\"#DejaVuSans-32\"/>\n     <use x=\"913.427734\" xlink:href=\"#DejaVuSans-110\"/>\n     <use x=\"976.806641\" xlink:href=\"#DejaVuSans-111\"/>\n     <use x=\"1037.988281\" xlink:href=\"#DejaVuSans-32\"/>\n     <use x=\"1069.775391\" xlink:href=\"#DejaVuSans-115\"/>\n     <use x=\"1121.875\" xlink:href=\"#DejaVuSans-116\"/>\n     <use x=\"1161.083984\" xlink:href=\"#DejaVuSans-111\"/>\n     <use x=\"1222.265625\" xlink:href=\"#DejaVuSans-112\"/>\n     <use x=\"1285.742188\" xlink:href=\"#DejaVuSans-32\"/>\n     <use x=\"1317.529297\" xlink:href=\"#DejaVuSans-119\"/>\n     <use x=\"1399.316406\" xlink:href=\"#DejaVuSans-111\"/>\n     <use x=\"1460.498047\" xlink:href=\"#DejaVuSans-114\"/>\n     <use x=\"1499.861328\" xlink:href=\"#DejaVuSans-100\"/>\n     <use x=\"1563.337891\" xlink:href=\"#DejaVuSans-32\"/>\n     <use x=\"1595.125\" xlink:href=\"#DejaVuSans-99\"/>\n     <use x=\"1650.105469\" xlink:href=\"#DejaVuSans-111\"/>\n     <use x=\"1711.287109\" xlink:href=\"#DejaVuSans-109\"/>\n     <use x=\"1808.699219\" xlink:href=\"#DejaVuSans-109\"/>\n     <use x=\"1906.111328\" xlink:href=\"#DejaVuSans-111\"/>\n     <use x=\"1967.292969\" xlink:href=\"#DejaVuSans-110\"/>\n     <use x=\"2030.671875\" xlink:href=\"#DejaVuSans-32\"/>\n     <use x=\"2062.458984\" xlink:href=\"#DejaVuSans-119\"/>\n     <use x=\"2144.246094\" xlink:href=\"#DejaVuSans-111\"/>\n     <use x=\"2205.427734\" xlink:href=\"#DejaVuSans-114\"/>\n     <use x=\"2244.791016\" xlink:href=\"#DejaVuSans-100\"/>\n     <use x=\"2308.267578\" xlink:href=\"#DejaVuSans-115\"/>\n     <use x=\"2360.367188\" xlink:href=\"#DejaVuSans-43\"/>\n     <use x=\"2444.15625\" xlink:href=\"#DejaVuSans-78\"/>\n     <use x=\"2518.960938\" xlink:href=\"#DejaVuSans-98\"/>\n     <use x=\"2582.4375\" xlink:href=\"#DejaVuSans-32\"/>\n     <use x=\"2614.224609\" xlink:href=\"#DejaVuSans-99\"/>\n     <use x=\"2669.205078\" xlink:href=\"#DejaVuSans-111\"/>\n     <use x=\"2730.386719\" xlink:href=\"#DejaVuSans-109\"/>\n     <use x=\"2827.798828\" xlink:href=\"#DejaVuSans-109\"/>\n     <use x=\"2925.210938\" xlink:href=\"#DejaVuSans-111\"/>\n     <use x=\"2986.392578\" xlink:href=\"#DejaVuSans-110\"/>\n     <use x=\"3049.771484\" xlink:href=\"#DejaVuSans-32\"/>\n     <use x=\"3081.558594\" xlink:href=\"#DejaVuSans-119\"/>\n     <use x=\"3163.345703\" xlink:href=\"#DejaVuSans-111\"/>\n     <use x=\"3224.527344\" xlink:href=\"#DejaVuSans-114\"/>\n     <use x=\"3263.890625\" xlink:href=\"#DejaVuSans-100\"/>\n     <use x=\"3327.367188\" xlink:href=\"#DejaVuSans-115\"/>\n    </g>\n   </g>\n   <g id=\"legend_1\">\n    <g id=\"patch_9\">\n     <path d=\"M 635.410937 61.953906 \nL 880.14375 61.953906 \nQ 882.14375 61.953906 882.14375 59.953906 \nL 882.14375 31.597656 \nQ 882.14375 29.597656 880.14375 29.597656 \nL 635.410937 29.597656 \nQ 633.410937 29.597656 633.410937 31.597656 \nL 633.410937 59.953906 \nQ 633.410937 61.953906 635.410937 61.953906 \nz\n\" style=\"fill:#ffffff;opacity:0.8;stroke:#cccccc;stroke-linejoin:miter;\"/>\n    </g>\n    <g id=\"patch_10\">\n     <path d=\"M 637.410937 41.196094 \nL 657.410937 41.196094 \nL 657.410937 34.196094 \nL 637.410937 34.196094 \nz\n\" style=\"fill:#1f77b4;\"/>\n    </g>\n    <g id=\"text_16\">\n     <!-- Nb no stopword common words in training -->\n     <defs>\n      <path d=\"M 34.28125 27.484375 \nQ 23.390625 27.484375 19.1875 25 \nQ 14.984375 22.515625 14.984375 16.5 \nQ 14.984375 11.71875 18.140625 8.90625 \nQ 21.296875 6.109375 26.703125 6.109375 \nQ 34.1875 6.109375 38.703125 11.40625 \nQ 43.21875 16.703125 43.21875 25.484375 \nL 43.21875 27.484375 \nz\nM 52.203125 31.203125 \nL 52.203125 0 \nL 43.21875 0 \nL 43.21875 8.296875 \nQ 40.140625 3.328125 35.546875 0.953125 \nQ 30.953125 -1.421875 24.3125 -1.421875 \nQ 15.921875 -1.421875 10.953125 3.296875 \nQ 6 8.015625 6 15.921875 \nQ 6 25.140625 12.171875 29.828125 \nQ 18.359375 34.515625 30.609375 34.515625 \nL 43.21875 34.515625 \nL 43.21875 35.40625 \nQ 43.21875 41.609375 39.140625 45 \nQ 35.0625 48.390625 27.6875 48.390625 \nQ 23 48.390625 18.546875 47.265625 \nQ 14.109375 46.140625 10.015625 43.890625 \nL 10.015625 52.203125 \nQ 14.9375 54.109375 19.578125 55.046875 \nQ 24.21875 56 28.609375 56 \nQ 40.484375 56 46.34375 49.84375 \nQ 52.203125 43.703125 52.203125 31.203125 \nz\n\" id=\"DejaVuSans-97\"/>\n      <path d=\"M 45.40625 27.984375 \nQ 45.40625 37.75 41.375 43.109375 \nQ 37.359375 48.484375 30.078125 48.484375 \nQ 22.859375 48.484375 18.828125 43.109375 \nQ 14.796875 37.75 14.796875 27.984375 \nQ 14.796875 18.265625 18.828125 12.890625 \nQ 22.859375 7.515625 30.078125 7.515625 \nQ 37.359375 7.515625 41.375 12.890625 \nQ 45.40625 18.265625 45.40625 27.984375 \nz\nM 54.390625 6.78125 \nQ 54.390625 -7.171875 48.1875 -13.984375 \nQ 42 -20.796875 29.203125 -20.796875 \nQ 24.46875 -20.796875 20.265625 -20.09375 \nQ 16.0625 -19.390625 12.109375 -17.921875 \nL 12.109375 -9.1875 \nQ 16.0625 -11.328125 19.921875 -12.34375 \nQ 23.78125 -13.375 27.78125 -13.375 \nQ 36.625 -13.375 41.015625 -8.765625 \nQ 45.40625 -4.15625 45.40625 5.171875 \nL 45.40625 9.625 \nQ 42.625 4.78125 38.28125 2.390625 \nQ 33.9375 0 27.875 0 \nQ 17.828125 0 11.671875 7.65625 \nQ 5.515625 15.328125 5.515625 27.984375 \nQ 5.515625 40.671875 11.671875 48.328125 \nQ 17.828125 56 27.875 56 \nQ 33.9375 56 38.28125 53.609375 \nQ 42.625 51.21875 45.40625 46.390625 \nL 45.40625 54.6875 \nL 54.390625 54.6875 \nz\n\" id=\"DejaVuSans-103\"/>\n     </defs>\n     <g transform=\"translate(665.410937 41.196094)scale(0.1 -0.1)\">\n      <use xlink:href=\"#DejaVuSans-78\"/>\n      <use x=\"74.804688\" xlink:href=\"#DejaVuSans-98\"/>\n      <use x=\"138.28125\" xlink:href=\"#DejaVuSans-32\"/>\n      <use x=\"170.068359\" xlink:href=\"#DejaVuSans-110\"/>\n      <use x=\"233.447266\" xlink:href=\"#DejaVuSans-111\"/>\n      <use x=\"294.628906\" xlink:href=\"#DejaVuSans-32\"/>\n      <use x=\"326.416016\" xlink:href=\"#DejaVuSans-115\"/>\n      <use x=\"378.515625\" xlink:href=\"#DejaVuSans-116\"/>\n      <use x=\"417.724609\" xlink:href=\"#DejaVuSans-111\"/>\n      <use x=\"478.90625\" xlink:href=\"#DejaVuSans-112\"/>\n      <use x=\"542.382812\" xlink:href=\"#DejaVuSans-119\"/>\n      <use x=\"624.169922\" xlink:href=\"#DejaVuSans-111\"/>\n      <use x=\"685.351562\" xlink:href=\"#DejaVuSans-114\"/>\n      <use x=\"724.714844\" xlink:href=\"#DejaVuSans-100\"/>\n      <use x=\"788.191406\" xlink:href=\"#DejaVuSans-32\"/>\n      <use x=\"819.978516\" xlink:href=\"#DejaVuSans-99\"/>\n      <use x=\"874.958984\" xlink:href=\"#DejaVuSans-111\"/>\n      <use x=\"936.140625\" xlink:href=\"#DejaVuSans-109\"/>\n      <use x=\"1033.552734\" xlink:href=\"#DejaVuSans-109\"/>\n      <use x=\"1130.964844\" xlink:href=\"#DejaVuSans-111\"/>\n      <use x=\"1192.146484\" xlink:href=\"#DejaVuSans-110\"/>\n      <use x=\"1255.525391\" xlink:href=\"#DejaVuSans-32\"/>\n      <use x=\"1287.3125\" xlink:href=\"#DejaVuSans-119\"/>\n      <use x=\"1369.099609\" xlink:href=\"#DejaVuSans-111\"/>\n      <use x=\"1430.28125\" xlink:href=\"#DejaVuSans-114\"/>\n      <use x=\"1469.644531\" xlink:href=\"#DejaVuSans-100\"/>\n      <use x=\"1533.121094\" xlink:href=\"#DejaVuSans-115\"/>\n      <use x=\"1585.220703\" xlink:href=\"#DejaVuSans-32\"/>\n      <use x=\"1617.007812\" xlink:href=\"#DejaVuSans-105\"/>\n      <use x=\"1644.791016\" xlink:href=\"#DejaVuSans-110\"/>\n      <use x=\"1708.169922\" xlink:href=\"#DejaVuSans-32\"/>\n      <use x=\"1739.957031\" xlink:href=\"#DejaVuSans-116\"/>\n      <use x=\"1779.166016\" xlink:href=\"#DejaVuSans-114\"/>\n      <use x=\"1820.279297\" xlink:href=\"#DejaVuSans-97\"/>\n      <use x=\"1881.558594\" xlink:href=\"#DejaVuSans-105\"/>\n      <use x=\"1909.341797\" xlink:href=\"#DejaVuSans-110\"/>\n      <use x=\"1972.720703\" xlink:href=\"#DejaVuSans-105\"/>\n      <use x=\"2000.503906\" xlink:href=\"#DejaVuSans-110\"/>\n      <use x=\"2063.882812\" xlink:href=\"#DejaVuSans-103\"/>\n     </g>\n    </g>\n    <g id=\"patch_11\">\n     <path d=\"M 637.410937 55.874219 \nL 657.410937 55.874219 \nL 657.410937 48.874219 \nL 637.410937 48.874219 \nz\n\" style=\"fill:none;opacity:0.5;stroke:#ff7f0e;stroke-linejoin:miter;stroke-width:5;\"/>\n    </g>\n    <g id=\"text_17\">\n     <!-- Nb common words in training -->\n     <g transform=\"translate(665.410937 55.874219)scale(0.1 -0.1)\">\n      <use xlink:href=\"#DejaVuSans-78\"/>\n      <use x=\"74.804688\" xlink:href=\"#DejaVuSans-98\"/>\n      <use x=\"138.28125\" xlink:href=\"#DejaVuSans-32\"/>\n      <use x=\"170.068359\" xlink:href=\"#DejaVuSans-99\"/>\n      <use x=\"225.048828\" xlink:href=\"#DejaVuSans-111\"/>\n      <use x=\"286.230469\" xlink:href=\"#DejaVuSans-109\"/>\n      <use x=\"383.642578\" xlink:href=\"#DejaVuSans-109\"/>\n      <use x=\"481.054688\" xlink:href=\"#DejaVuSans-111\"/>\n      <use x=\"542.236328\" xlink:href=\"#DejaVuSans-110\"/>\n      <use x=\"605.615234\" xlink:href=\"#DejaVuSans-32\"/>\n      <use x=\"637.402344\" xlink:href=\"#DejaVuSans-119\"/>\n      <use x=\"719.189453\" xlink:href=\"#DejaVuSans-111\"/>\n      <use x=\"780.371094\" xlink:href=\"#DejaVuSans-114\"/>\n      <use x=\"819.734375\" xlink:href=\"#DejaVuSans-100\"/>\n      <use x=\"883.210938\" xlink:href=\"#DejaVuSans-115\"/>\n      <use x=\"935.310547\" xlink:href=\"#DejaVuSans-32\"/>\n      <use x=\"967.097656\" xlink:href=\"#DejaVuSans-105\"/>\n      <use x=\"994.880859\" xlink:href=\"#DejaVuSans-110\"/>\n      <use x=\"1058.259766\" xlink:href=\"#DejaVuSans-32\"/>\n      <use x=\"1090.046875\" xlink:href=\"#DejaVuSans-116\"/>\n      <use x=\"1129.255859\" xlink:href=\"#DejaVuSans-114\"/>\n      <use x=\"1170.369141\" xlink:href=\"#DejaVuSans-97\"/>\n      <use x=\"1231.648438\" xlink:href=\"#DejaVuSans-105\"/>\n      <use x=\"1259.431641\" xlink:href=\"#DejaVuSans-110\"/>\n      <use x=\"1322.810547\" xlink:href=\"#DejaVuSans-105\"/>\n      <use x=\"1350.59375\" xlink:href=\"#DejaVuSans-110\"/>\n      <use x=\"1413.972656\" xlink:href=\"#DejaVuSans-103\"/>\n     </g>\n    </g>\n   </g>\n  </g>\n </g>\n <defs>\n  <clipPath id=\"pdf039901b7\">\n   <rect height=\"543.6\" width=\"837\" x=\"50.14375\" y=\"24.597656\"/>\n  </clipPath>\n </defs>\n</svg>\n",
      "image/png": "[encoded data removed]"
     },
     "metadata": {
      "needs_background": "light"
     }
    }
   ],
   "source": [
    "from astropy.visualization import hist as as_hist\n",
    "\n",
    "#sns.histplot(lower_training_dataframe['lower_nb_common_words'],stat='count',bins=50)\n",
    "#sns.histplot(lower_training_dataframe['nb_common_words'],color=\"g\",alpha=0.5,bins=50,legend=True)\n",
    "#sns.histplot(lower_training_dataframe['lower_nb_common_words'],color=\"r\",alpha=0.5,bins=50,legend=True)\n",
    "\n",
    "plot.figure(figsize=(15, 10))\n",
    "as_hist(lower_train_dataframe['no_stopword_nb_common_words'],label=\"Nb no stopword common words in training\",histtype='stepfilled',bins='blocks',density=True)\n",
    "as_hist(lower_train_dataframe['nb_common_words'],label=\"Nb common words in training\",histtype='step',alpha=0.5,lw=5,bins='blocks',density=True)\n",
    "plot.title('Distribution of Nb no stop word common words+Nb common words', fontsize=15)\n",
    "plot.xlabel('Nb common words')\n",
    "plot.ylabel('Prob')\n",
    "plot.legend()"
   ]
  },
  {
   "source": [
    "## Challenge and training are not equivalent\n",
    "\n",
    "% of duplicate in training is not the same in challenge !\n",
    "We don't have the challenge's answer but by scoring a constant prediction and using logloss definition, we can guess the distribution of duplicates in challenge\n",
    "\n",
    "It's 17.46 %\n",
    "\n",
    "To fix that we can:\n",
    "\n",
    "* duplicate some negative cases in training to match challenge distribution\n",
    "* use weights : each case has a weight !=1 and all algorithms are supposed to be able to deal with that info\n",
    "I choose to use weights (less memory needed ?)"
   ],
   "cell_type": "markdown",
   "metadata": {}
  },
  {
   "cell_type": "code",
   "execution_count": null,
   "metadata": {},
   "outputs": [],
   "source": [
    "# return the weight for 0 and weight for 1 needed to rebalance dataframe like challenge\n",
    "def balanced_weights(dataframe,expected_positive_ratio):\n",
    "    current_positive_ratio = dataframe['is_duplicate'].sum()/len(dataframe)\n",
    "    weight_for_negative = (1-expected_positive_ratio)/(1-current_positive_ratio)\n",
    "    weight_for_positive = expected_positive_ratio/current_positive_ratio\n",
    "    return weight_for_positive,weight_for_negative\n",
    "    return 1,\n",
    "\n",
    "\n",
    "CHALLENGE_DUPLICATE_PERCENT = 0.1746\n",
    "print_warning('OUPS !! %% of duplicates in train is %.3f. In challenge it is %.3f %%' % (train_dataframe['is_duplicate'].sum()/len(train_dataframe),CHALLENGE_DUPLICATE_PERCENT))\n",
    "\n",
    "# create a new 'weight' column to training dataset\n",
    "# Do not forget to remove this column from features !!!\n",
    "weight_for_1,weight_for_0 = balanced_weights(train_dataframe,CHALLENGE_DUPLICATE_PERCENT)\n",
    "print_info('Weight for positive case %.3f' % weight_for_1)\n",
    "print_info('Weight for negative case %.3f' % weight_for_0)\n",
    "train_dataframe['weight'] = train_dataframe['is_duplicate'].map( {0:weight_for_0, 1:weight_for_1})\n",
    "\n",
    "assert int(train_dataframe['weight'].sum()/len(train_dataframe)) == 1, \"training dataset has not been properly rebalanced\"\n",
    "print_info(\"Training data set has been properly rebalanced\")\n",
    "print_info('Weights distribution:')\n",
    "train_dataframe['weight'].describe()"
   ]
  },
  {
   "source": [
    "## Compute AUC of these basic features and try to figure if there is a bit of information inside each one\n",
    "\n",
    "ie is it helping to separate 1 from 0?"
   ],
   "cell_type": "markdown",
   "metadata": {}
  },
  {
   "cell_type": "code",
   "execution_count": null,
   "metadata": {},
   "outputs": [],
   "source": [
    "from sklearn.metrics import roc_auc_score\n",
    "\n",
    "def simple_AUC(dataframe,column_name):\n",
    "    return roc_auc_score(y_true=dataframe['is_duplicate'],y_score=dataframe[column_name])\n",
    "\n",
    "def simple_weighted_AUC(dataframe,column_name):\n",
    "    return roc_auc_score(y_true=dataframe['is_duplicate'],y_score=dataframe[column_name],sample_weight=dataframe['weight'])\n",
    "\n",
    "def show_AUC(dataframe,column_name):\n",
    "    print_bullet('AUC %s: %f' % (column_name,simple_AUC(dataframe,column_name)))\n",
    "    if 'weight' in dataframe.columns:\n",
    "        print_bullet('Weighted AUC %f' % simple_weighted_AUC(dataframe,column_name))\n",
    "    else:\n",
    "        print_bullet('AUC %f' % simple_AUC(dataframe,column_name))\n",
    "        \n",
    "\n",
    "def display_simple_AUC(dataframe,column_name):\n",
    "    palette = sns.color_palette()\n",
    "    # Let multiplot_generator figure the size\n",
    "    #plot.figure(figsize=(10, 7))\n",
    "    plot.hist(dataframe[column_name][dataframe['is_duplicate']==1],bins=50,color=palette[3],label='Same',histtype='step')\n",
    "    plot.hist(train_dataframe[column_name][dataframe['is_duplicate']==0],bins=50,color=palette[2],label='Different',alpha = 0.75,histtype='step')\n",
    "    plot.title('AUC %s : %f' % (column_name,simple_AUC(dataframe,column_name)) , fontsize=10)\n",
    "    plot.xlabel(column_name)\n",
    "    plot.ylabel('Nb')\n",
    "    plot.legend()\n",
    "\n",
    "\n",
    "\n",
    "def show_all_simple_AUC(dataframe):\n",
    "    all =  all_numeric_columns(dataframe)\n",
    "    print_section( 'Show AUC on %d unique features' % len(all))\n",
    "    for name in all:\n",
    "        show_AUC(dataframe,name)\n",
    "        yield\n",
    "        display_simple_AUC(dataframe,name)\n",
    "    print_done('Done')\n",
    "\n",
    "\n",
    "def show_all_simple_AUC_in_grid(dataframe,nb_columns=2):\n",
    "    multiplot_from_generator(show_all_simple_AUC(dataframe), nb_columns)\n",
    "\n",
    "show_all_simple_AUC_in_grid(train_dataframe,nb_columns=2)"
   ]
  },
  {
   "source": [
    "## OK Visualising these AUC is cool\n",
    "Can we have some numbers ?"
   ],
   "cell_type": "markdown",
   "metadata": {}
  },
  {
   "cell_type": "code",
   "execution_count": null,
   "metadata": {
    "tags": []
   },
   "outputs": [],
   "source": [
    "\n",
    "from sklearn import feature_selection\n",
    "from sklearn.feature_selection import SelectKBest,f_classif,RFE\n",
    "from sklearn.linear_model import LogisticRegression\n",
    "from sklearn.ensemble import RandomForestClassifier\n",
    "from sklearn.model_selection import train_test_split, cross_val_score\n",
    "from sklearn.decomposition import PCA\n",
    "\n",
    "def graph_relative_feature_importance(features_importances,columns):\n",
    "    # Make importances relative to max importance.\n",
    "    features_importances = 100.0 * (features_importances / features_importances.max())\n",
    "    sorted_idx = numpy.argsort(features_importances)\n",
    "    sorted_idx = sorted_idx[-20:-1:1]\n",
    "    pos = numpy.arange(sorted_idx.shape[0]) + 0.5\n",
    "    plot.barh(pos, features_importances[sorted_idx], align='center')\n",
    "    plot.yticks(pos, columns)\n",
    "    plot.xlabel('Relative Importance')\n",
    "    plot.title('Relative Feature Importance', fontsize=30)\n",
    "    plot.tick_params(axis='x', which='major', labelsize=15)\n",
    "    sns.despine(left=True, bottom=True)\n",
    "    plot.show()\n",
    "\n",
    "def graph_feature_importance(features_importances,columns):\n",
    "    # Make importances relative to max importance.\n",
    "    sorted_idx = numpy.argsort(features_importances)\n",
    "    sorted_idx = sorted_idx[-20:]\n",
    "    pos = numpy.arange(sorted_idx.shape[0]) + 0.5\n",
    "    plot.barh(pos, features_importances[sorted_idx], align='center')\n",
    "    plot.yticks(pos, columns)\n",
    "    plot.xlabel('Importance')\n",
    "    plot.title('Feature Importance', fontsize=30)\n",
    "    plot.tick_params(axis='x', which='major', labelsize=15)\n",
    "    #sns.despine(left=True, bottom=True)\n",
    "    plot.show()\n",
    "\n",
    "def independant_features_analysis(name_data,input_df,target_df):\n",
    "    train_df = input_df[all_numeric_columns(input_df)]\n",
    "    target_df = target_df\n",
    "    small = int(len(target_df)*0.05)\n",
    "    small_train = train_df.sample(small,random_state=42)\n",
    "    small_target = target_df.sample(small,random_state=42)\n",
    "    small_weights = input_df[WEIGHT].sample(small,random_state=42)\n",
    "\n",
    "    # be careful all_numeric will include also the target soon\n",
    "    all_numeric = all_numeric_columns(input_df)\n",
    "    print_section('Minimal analysis of numeric features of %s' % name_data)\n",
    "    print_info('Nb features: %d' % len(all_numeric))\n",
    "    print_info(str(all_numeric))\n",
    "    print_info('Is there any null value ? %s' % input_df.isnull().any().any())\n",
    "\n",
    "    compute_variances = feature_selection.VarianceThreshold()\n",
    "    all_numeric.append('is_duplicate')\n",
    "    variances = compute_variances.fit_transform(input_df[all_numeric])\n",
    "    print_info('Is there any low variance feature ? %s' % str(variances.shape[1]!=len(all_numeric)))\n",
    "    print_info('Here are the correlations to the target \"is_duplicate\"')\n",
    "    correlation_matrix = input_df[all_numeric].corr().abs()\n",
    "    print(correlation_matrix['is_duplicate'].nlargest(len(all_numeric)))\n",
    "\n",
    "    correlation_matrix_without_is_duplicate = correlation_matrix['is_duplicate'][correlation_matrix['is_duplicate']<1]\n",
    "    highest_correlated_feature = correlation_matrix_without_is_duplicate.nlargest(1).index[0]\n",
    "    highest_correlation = correlation_matrix_without_is_duplicate.nlargest(1)[0]\n",
    "    if highest_correlation >0.2:\n",
    "        if highest_correlation < 0.5:\n",
    "            print_warning('%s is the most correlated but %f is quite weak' % (highest_correlated_feature,highest_correlation))\n",
    "        else:\n",
    "            print_info('%s is the most correlated but %f is very weak' % (highest_correlated_feature,highest_correlation))\n",
    "    else:\n",
    "        print_alert('%s is the most correlated and %f is quite big' % (highest_correlated_feature,highest_correlation))\n",
    "    plot.figure(figsize=(15, 10))\n",
    "    sns.heatmap(correlation_matrix,annot=True,cbar=True,square=True,cmap='coolwarm',mask = numpy.triu(correlation_matrix))\n",
    "    plot.show()\n",
    "\n",
    "    # we remove is_duplicate\n",
    "    all_numeric = all_numeric_columns(input_df)\n",
    "\n",
    "    print_section('Here are the features that would be selected with a simple univariate analysis')\n",
    "    start = time.time()\n",
    "    for r in tqdm(range(1,len(all_numeric))):\n",
    "        k_best = SelectKBest(score_func=f_classif,k=r)\n",
    "        fit = k_best.fit(small_train,small_target)\n",
    "        best_columns = [small_train.columns[c] for c in fit.get_support(indices=True)]\n",
    "        print_info('Nb features to keep %d:%s' %(r,best_columns))\n",
    "        \n",
    "        # Can we graph relative importances\n",
    "        if r>1:\n",
    "            # transform train set so we can compute importances\n",
    "            univariate_features = fit.transform(small_train)\n",
    "            rfc = RandomForestClassifier(n_estimators=100)\n",
    "            rfc_scores = cross_val_score(rfc, univariate_features, small_target, cv=5, scoring='neg_log_loss',n_jobs=os.cpu_count())\n",
    "            features_importance = rfc.fit(univariate_features, small_target).feature_importances_\n",
    "            graph_feature_importance(features_importance,best_columns)\n",
    "    print_done('Done',top=start)\n",
    "    \n",
    "    print_section('Here are the features that would be selected a priori from default Multinomial Naive Bayes')\n",
    "    start = time.time()   \n",
    "    mnb = MultinomialNB()\n",
    "    best_from_model = feature_selection.SelectFromModel(mnb)\n",
    "    fit = best_from_model.fit(small_train,small_target,sample_weight=small_weights)\n",
    "    print(fit.get_support(indices=True))\n",
    "    best_columns = [small_train.columns[c] for c in fit.get_support(indices=True)]\n",
    "    # transform train set so we can compute importances\n",
    "    mnb_features = fit.transform(small_train)\n",
    "    rfc = RandomForestClassifier(n_estimators=100)\n",
    "    rfc_scores = cross_val_score(rfc, mnb_features, small_target, cv=5, scoring='neg_log_loss',n_jobs=os.cpu_count())\n",
    "    features_importance = rfc.fit(mnb_features, small_target).feature_importances_\n",
    "    print(features_importance)\n",
    "    print_info('features to keep :%s logloss %.4f %.4f' %(best_columns,-rfc_scores.mean(),rfc_scores.std()))\n",
    "    graph_feature_importance(features_importance,best_columns)\n",
    "    print_done('Done',top=start)\n",
    "    \n",
    "\n",
    "    print_info('Try to keep x \\% of variance with a PCA')\n",
    "    print_alert('bug ?')\n",
    "    start = time.time()\n",
    "    for r in tqdm([.8,.9,.95]):\n",
    "        acp = PCA(r)\n",
    "        principal_components = acp.fit_transform(small_train)\n",
    "        principal_df = pandas.DataFrame(principal_components).sample(small,random_state=42)\n",
    "        rfc = RandomForestClassifier(n_estimators=100)\n",
    "        rfc_scores = cross_val_score(rfc, principal_df, small_target, cv=5, scoring='neg_log_loss',n_jobs=os.cpu_count())\n",
    "        features_importance = rfc.fit(principal_df, small_target).feature_importances_\n",
    "        print_info('%% of variance %f:%s' %(r,'aie'))\n",
    "        graph_feature_importance(features_importance,small_train.columns)\n",
    "    print_done('Done',top=start)\n",
    "\n",
    "    print_section('Here are the features that would be selected with a recursive feature elimination')\n",
    "    start = time.time()\n",
    "    print_alert('Doomed to fail : RFE does not support to transmit ,sample_weight=small_weights')\n",
    "    print_alert('ix is waiting since 2016 ?')\n",
    "    for r in tqdm(range(1,len(all_numeric))):\n",
    "        mnb = MultinomialNB()\n",
    "        recursive_best= feature_selection.RFE(mnb, n_features_to_select=r)\n",
    "        fit = recursive_best.fit(small_train,small_target)\n",
    "        best_columns = [small_train.columns[c] for c in fit.get_support(indices=True)]\n",
    "        print_info('Nb features to keep %d:%s' %(r,best_columns))\n",
    "        \n",
    "        # Can we graph relative importances\n",
    "        if r>1:\n",
    "            # transform train set so we can compute importances\n",
    "            recursive_features = fit.transform(small_train)\n",
    "            rfc = RandomForestClassifier(n_estimators=100)\n",
    "            rfc_scores = cross_val_score(rfc, recursive_features, small_target, cv=5, scoring='neg_log_loss',n_jobs=os.cpu_count())\n",
    "            features_importance = rfc.fit(recursive_features, small_target).feature_importances_\n",
    "            graph_feature_importance(features_importance,best_columns)\n",
    "    print_done('Done',top=start)\n",
    "   \n",
    "\n",
    "\n",
    "independant_features_analysis('train',train_dataframe,train_dataframe['is_duplicate'])\n",
    "\n"
   ]
  },
  {
   "source": [
    "## Here are the specs of algorithms to try"
   ],
   "cell_type": "markdown",
   "metadata": {}
  },
  {
   "cell_type": "code",
   "execution_count": null,
   "metadata": {
    "tags": []
   },
   "outputs": [],
   "source": [
    "# Here is our algorithm specification\n",
    "import xgboost \n",
    "\n",
    "def learner_xgboost(algo_spec,input_train,target_train,input_test,target_test,weigth_train,weight_test,show=True):\n",
    "    train_dm = xgboost.DMatrix(input_train, label = target_train, weight = weigth_train)\n",
    "    if target_test is None:\n",
    "        watchlist = [(train_dm, 'train')]\n",
    "    else:\n",
    "        validation_dm = xgboost.DMatrix(input_test, label = target_test,weight = weight_test)\n",
    "        watchlist = [(train_dm, 'train'), (validation_dm, 'valid')]\n",
    "\n",
    "    start = time.time()\n",
    "    if show:\n",
    "        verbose = 10\n",
    "    else:\n",
    "        verbose = 0\n",
    "    model = xgboost.train(algo_spec['params'], train_dm, 400, watchlist,early_stopping_rounds=50, verbose_eval=verbose)\n",
    "    duration = time.time()-start\n",
    "    return model\n",
    "\n",
    "\n",
    "def predictor_xgboost(model,input_df,target_df):\n",
    "    final_input = xgboost.DMatrix(input_df)\n",
    "    prediction_proba_df = model.predict(final_input,ntree_limit=model.best_ntree_limit)\n",
    "    prediction_df = numpy.where(prediction_proba_df>0.5,1,0)\n",
    "    return prediction_df,prediction_proba_df\n",
    "\n",
    "\n",
    "\n",
    "HYPER_PARAMETERS_MULTINOMIAL_NAIVE_BAYES_FIRST_TRY = {\n",
    "    'alpha':[1e-10,1e-08,1e-06,1e-04,1e-02,1e-01,1.0]\n",
    "    }\n",
    "\n",
    "HYPER_PARAMETERS_MULTINOMIAL_NAIVE_BAYES_FINE_TUNING = {\n",
    "    'alpha':[0.8e-10,0.9e-10,1.0e-10,1.1e-10,1.2e-10]\n",
    "    }\n",
    "\n",
    "ALGORITHM_SPEC_MULTINOMIAL_NB_RANDOMIZED_SEARCH = {\n",
    "    'algorithm': MultinomialNB,\n",
    "    'searcher': RandomizedSearchCV,\n",
    "    'hyper_parameters': {\n",
    "        'alpha':[1e-10,1e-08,1e-06,1e-04,1e-02,1e-01,1.0]\n",
    "    }\n",
    "}\n",
    "\n",
    "# Not very efficient ....\n",
    "ALGORITHM_SPEC_COMPLEMENT_NB = {\n",
    "    'algorithm': ComplementNB\n",
    "}\n",
    "\n",
    "ALGORITHM_SPEC_XGBOOST = {\n",
    "    'learner': learner_xgboost,\n",
    "    'predicter': predictor_xgboost,\n",
    "    'params': {\n",
    "        'objective': 'binary:logistic',\n",
    "        'eval_metric': 'logloss',\n",
    "        'eta' : 0.02,\n",
    "        'max_depth':3 \n",
    "        }\n",
    "}\n",
    "\n",
    "\n",
    "# Naive Bayes\n",
    "\n",
    "if UNITARY_TEST:\n",
    "    print_section('Unitary test: one default Multinomial Naive Bayes model (80,20) & (100,0) using feature nb_words_question1')\n",
    "    res = build_model_80_20_and_100_0(ALGORITHM_SPEC_COMPLEMENT_NB,train_dataframe,['nb_common_words/nb_words_question1', 'nb_words_question1-common_words', 'nb_words_question2-common_words', 'nb_common_words/(nb_words_question1+nb_words_question2)'],train_dataframe['is_duplicate'])\n",
    "    #print(res)\n",
    "\n",
    "# Unitary test\n",
    "if UNITARY_TEST:\n",
    "    print_section('Unitary test : optimize Multinomial Naive Bayes model with hyper_parameters (80,20) & (100,0) using feature nb_words_question1')\n",
    "    res = build_model_80_20_and_100_0_hyper(ALGORITHM_SPEC_MULTINOMIAL_NB_RANDOMIZED_SEARCH,train_dataframe,['nb_common_words/nb_words_question1', 'nb_words_question1-common_words', 'nb_words_question2-common_words', 'nb_common_words/(nb_words_question1+nb_words_question2)'],train_dataframe['is_duplicate'])\n",
    "    #print(res)\n",
    "\n",
    "if UNITARY_TEST:\n",
    "    print_section('Unitary test : explore all features with default Multinomial Naive Bayes model on (80,20) & (100,0)')\n",
    "    small_train = train_dataframe.sample(100, random_state=42)\n",
    "    res = build_default_model_on_all_subset_of_simple_features(ALGORITHM_SPEC_MULTINOMIAL_NB_RANDOMIZED_SEARCH,small_train,small_train['is_duplicate'])\n",
    "    #print(res)\n",
    "\n",
    "if UNITARY_TEST:\n",
    "    print_section('Unitary test : explore all features with default Multinomial Naive Bayes model on  (80,20) & (100,0) with cross validation')\n",
    "    small_train = train_dataframe.sample(100,random_state=42)\n",
    "    res = build_cross_validation_model_on_all_subset_of_simple_features(ALGORITHM_SPEC_MULTINOMIAL_NB_RANDOMIZED_SEARCH,small_train,small_train['is_duplicate'])\n",
    "    #print(res)\n",
    "\n",
    "if UNITARY_TEST:\n",
    "    print_section('Unitary test : explore all features with Multinomial Naive Bayes model & hyper parameters on (80,20) & (100,0) with hyper parameters')\n",
    "    small_train = train_dataframe.sample(100,random_state=42)\n",
    "    res = build_hyper_model_on_all_subset_of_simple_features(ALGORITHM_SPEC_MULTINOMIAL_NB_RANDOMIZED_SEARCH,small_train,small_train['is_duplicate'])\n",
    "    #print(res)\n",
    "\n",
    "# XGBoost \n",
    "if UNITARY_TEST:\n",
    "    print_section('Unitary test : explore all features with default xgboost model on (80,20) & (100,0)')\n",
    "    small_train = train_dataframe.sample(100,random_state=42)\n",
    "    res = build_default_model_on_all_subset_of_simple_features(ALGORITHM_SPEC_XGBOOST,small_train,small_train['is_duplicate'])\n",
    "    #print(res)\n",
    "\n",
    "if UNITARY_TEST:\n",
    "    print_section('Unitary test : explore all features with xgboost model on  (80,20) & (100,0) with cross validation')\n",
    "    small_train = train_dataframe.sample(100,random_state=42)\n",
    "    res = build_cross_validation_model_on_all_subset_of_simple_features(ALGORITHM_SPEC_XGBOOST,small_train,small_train['is_duplicate'])\n",
    "    #print(res)\n"
   ]
  },
  {
   "cell_type": "code",
   "execution_count": null,
   "metadata": {},
   "outputs": [],
   "source": [
    "res.describe()"
   ]
  },
  {
   "source": [
    "## Everything ready for exploration\n",
    "\n",
    "Algorithms available now are:\n",
    "* Multinomial Naive Bayes : good results facing its simplicity\n",
    "* Complement Naive Bayes (poor results)\n",
    "\n",
    "Strategies available are\n",
    "* explore all combinations with an algorithm using fixed parameters\n",
    "* explore all combinations with an algorithm using fixed parameters and with cross validation\n",
    "* explore all combinations with an algorithm with hyper parameters"
   ],
   "cell_type": "markdown",
   "metadata": {}
  },
  {
   "cell_type": "code",
   "execution_count": null,
   "metadata": {
    "tags": []
   },
   "outputs": [],
   "source": [
    "HYPER_PARAMETERS_MULTINOMIAL_NAIVE_BAYES_FIRST_TRY = [1e-10,1e-08,1e-06,1e-04,1e-02,1e-01,1.0]\n",
    "\n",
    "HYPER_PARAMETERS_MULTINOMIAL_NAIVE_BAYES_FINE_TUNING = [0.9e-10,0.95e-10,1.0e-10,1.05e-10,1.1e-10]\n",
    "\n",
    "ALGORITHM_SPEC_MULTINOMIAL_NB_RANDOMIZED_SEARCH = {\n",
    "    'algorithm': MultinomialNB,\n",
    "    'searcher': RandomizedSearchCV,\n",
    "    'hyper_parameters': {\n",
    "        'alpha':HYPER_PARAMETERS_MULTINOMIAL_NAIVE_BAYES_FINE_TUNING\n",
    "    }\n",
    "}\n",
    "\n",
    "# Explore by building default models\n",
    "default_multinomial_results = build_default_model_on_all_subset_of_simple_features(ALGORITHM_SPEC_MULTINOMIAL_NB_RANDOMIZED_SEARCH,train_dataframe,train_dataframe['is_duplicate'])\n"
   ]
  },
  {
   "cell_type": "code",
   "execution_count": null,
   "metadata": {
    "tags": []
   },
   "outputs": [],
   "source": [
    "cross_validation_multinomial_results = build_cross_validation_model_on_all_subset_of_simple_features(ALGORITHM_SPEC_MULTINOMIAL_NB_RANDOMIZED_SEARCH,train_dataframe,train_dataframe['is_duplicate'])\n"
   ]
  },
  {
   "cell_type": "code",
   "execution_count": null,
   "metadata": {
    "tags": []
   },
   "outputs": [],
   "source": [
    "hyper_multinomial_results = build_hyper_model_on_all_subset_of_simple_features(ALGORITHM_SPEC_MULTINOMIAL_NB_RANDOMIZED_SEARCH,train_dataframe,train_dataframe['is_duplicate'])"
   ]
  },
  {
   "source": [
    "## Explore a little bit our database"
   ],
   "cell_type": "markdown",
   "metadata": {}
  },
  {
   "cell_type": "code",
   "execution_count": null,
   "metadata": {},
   "outputs": [],
   "source": [
    "\n",
    "def retrieve_model(results,model_key,kind):\n",
    "    model = results['model_'+kind][model_key]\n",
    "    column_names = results['columns'][model_key]\n",
    "    return model,numpy.asarray(column_names)\n",
    "    \n",
    "def find_best_models(results,top,criteria,kind):\n",
    "    if 'logloss' in criteria:\n",
    "        return results.nsmallest(top,criteria+'_'+kind)\n",
    "    else:\n",
    "        return results.nlargest(top,criteria+'_'+kind)\n",
    "\n",
    "if UNITARY_TEST:\n",
    "    model,columns = retrieve_model(default_multinomial_results,'nb_common_words/nb_words_question1+nb_words_question1-common_words+nb_words_question2-common_words+nb_common_words/(nb_words_question1+nb_words_question2)','100_0')\n",
    "    assert model is not None and len(columns)==4"
   ]
  },
  {
   "cell_type": "code",
   "execution_count": null,
   "metadata": {},
   "outputs": [],
   "source": [
    "print_section('default Multinomial Naive Bayes')\n",
    "display(default_multinomial_results.head())\n",
    "print_section('Cross Validation Multinomial Naive Bayes')\n",
    "display(cross_validation_multinomial_results.head())\n",
    "print_section('Hyper parameters Multinomial Naive Bayes')\n",
    "display(hyper_multinomial_results.head())\n",
    "\n",
    "\n",
    "\n",
    "\n",
    "\n",
    "#find_best_models()"
   ]
  },
  {
   "cell_type": "code",
   "execution_count": null,
   "metadata": {},
   "outputs": [],
   "source": [
    "print_section('3 Best defaults')\n",
    "display(find_best_models(default_multinomial_results,3,'logloss_proba','80_20'))\n",
    "print_section('3 Best cross validation')\n",
    "display(find_best_models(cross_validation_multinomial_results,3,'logloss_proba','min'))\n",
    "print_section('3 Best hyper parameters')\n",
    "display(find_best_models(hyper_multinomial_results,3,'logloss_proba','80_20'))"
   ]
  },
  {
   "cell_type": "code",
   "execution_count": null,
   "metadata": {},
   "outputs": [],
   "source": [
    "save_models_dict_to_excel(default_multinomial_results,file_name='default')\n",
    "save_models_dict_to_excel(default_multinomial_results,file_name='cross')\n",
    "save_models_dict_to_excel(default_multinomial_results,file_name='hyper')"
   ]
  },
  {
   "cell_type": "code",
   "execution_count": null,
   "metadata": {},
   "outputs": [],
   "source": [
    "def show_docker_cp_command(absolute_file_name):\n",
    "    return 'docker cp '+ DOCKER_IMAGE_NAME+':'+zip_file_name(absolute_file_name)+ ' c:\\\\temp\\\\outputs'\n",
    "\n",
    "def show_kaggle_command(absolute_file_name):\n",
    "    return 'kaggle competitions submit quora-question-pairs -f \"' + zip_file_name(absolute_file_name) +'\" -m \"' + absolute_file_name +'\"'\n",
    "\n",
    "def show_docker_cp_commands(best_results):\n",
    "    print_section('Use these commands to transfer apply results to windows host')\n",
    "    for c in best_results['file_name'].apply(show_docker_cp_command):\n",
    "        print_warning(c)\n",
    "    print_done(\"\")\n",
    "\n",
    "def show_kaggle_commands(best_results):\n",
    "    print_section('Use these commands to submit apply results to kaggle')\n",
    "    for c in best_results['file_name'].apply(show_kaggle_command):\n",
    "        print_warning(c)\n",
    "    print_done(\"\")\n",
    "    \n",
    "# return a dataframe fully ready to be converted in csv and published into kaggle\n",
    "def simple_apply(results,model_key,input_dataframe,kind,proba=True):\n",
    "    model,column_names=retrieve_model(results,model_key,kind)\n",
    "    input_for_prediction=input_dataframe[column_names]\n",
    "    res = pandas.DataFrame()\n",
    "    if 'test_id' in input_dataframe.columns:\n",
    "        res['test_id']=input_dataframe['test_id']\n",
    "    if proba:\n",
    "        res['is_duplicate']=pandas.Series(model.predict_proba(input_for_prediction)[:,1],name='is_duplicate')\n",
    "    else:\n",
    "        res['is_duplicate']=pandas.Series(model.predict(input_for_prediction),name='is_duplicate')\n",
    "    return res  \n",
    "\n",
    "def submit_model(results,criteria,kind,input_dataframe,model_key,label=None,proba=True,show_how_to_publish=True,kaggle=False):\n",
    "    if label is None:\n",
    "        absolute_file_name_csv = apply_absolute_file_name(criteria,kind,model_key)\n",
    "    else:\n",
    "        absolute_file_name_csv = apply_absolute_file_name(label+'_'+criteria,kind,model_key)\n",
    "    print_info('Doing apply')\n",
    "    prediction = simple_apply(results,model_key,input_dataframe,kind,proba)\n",
    "    print_info('Generating CSV file')\n",
    "    prediction.to_csv(absolute_file_name_csv,index=False)\n",
    "    print_info('Zipping file')\n",
    "    absolute_file_name_zip = zip_file_and_delete(absolute_file_name_csv)\n",
    "    print_info('%s is ready' % absolute_file_name_csv)\n",
    "    if show_how_to_publish:\n",
    "        if kaggle:\n",
    "            print_warning('Use this commands to submit apply results to kaggle')\n",
    "            print_warning(show_kaggle_command(absolute_file_name_zip))\n",
    "        else:\n",
    "            print_warning('Use this command to transfer apply _results to Windows host')\n",
    "            print_warning(show_docker_cp_command(absolute_file_name_csv))\n",
    "\n",
    "if UNITARY_TEST:\n",
    "    res = simple_apply(default_multinomial_results,'nb_common_words/nb_words_question1+nb_words_question1-common_words+nb_words_question2-common_words+nb_common_words/(nb_words_question1+nb_words_question2)',challenge_dataframe,'80_20')\n",
    "    assert len(res)==len(challenge_dataframe)\n",
    "    display(res.head())\n",
    "\n",
    "if UNITARY_TEST:\n",
    "    submit_model(\n",
    "        default_multinomial_results,\n",
    "        'logloss_proba',\n",
    "        '80_20',\n",
    "        challenge_dataframe.sample(1000,random_state=42),\n",
    "        'nb_common_words/nb_words_question1+nb_words_question1-common_words+nb_words_question2-common_words+nb_common_words/(nb_words_question1+nb_words_question2)',\n",
    "        label='_TODEL_')\n",
    "    "
   ]
  },
  {
   "source": [
    "### Let's try XGBoost"
   ],
   "cell_type": "markdown",
   "metadata": {}
  },
  {
   "cell_type": "code",
   "execution_count": null,
   "metadata": {},
   "outputs": [],
   "source": []
  },
  {
   "cell_type": "code",
   "execution_count": null,
   "metadata": {
    "tags": []
   },
   "outputs": [],
   "source": [
    "default_xgboost_results = build_default_model_on_all_subset_of_simple_features(ALGORITHM_SPEC_XGBOOST,train_dataframe,train_dataframe['is_duplicate'])"
   ]
  },
  {
   "cell_type": "code",
   "execution_count": null,
   "metadata": {
    "tags": []
   },
   "outputs": [],
   "source": [
    "cross_validation_xgboost_results = build_cross_validation_model_on_all_subset_of_simple_features(ALGORITHM_SPEC_XGBOOST,train_dataframe,train_dataframe['is_duplicate'])"
   ]
  },
  {
   "source": [
    "Manual code for sandboxing before launching big stuff"
   ],
   "cell_type": "markdown",
   "metadata": {}
  },
  {
   "cell_type": "code",
   "execution_count": null,
   "metadata": {},
   "outputs": [],
   "source": [
    "import xgboost \n",
    "\n",
    "params = {\n",
    "    'objective': 'binary:logistic',\n",
    "    'eval_metric': 'logloss',\n",
    "    'eta' : 0.02,\n",
    "    'max_depth':3 \n",
    "    }\n",
    "\n",
    "def build_XGBoost_model_80_20(training,target,column_names,show=True):\n",
    "    suffix='80_20'\n",
    "    input_train,input_test,target_train,target_test = train_test_split(training,target,random_state=42,test_size=0.2)\n",
    "    final_input_train = input_train[list(column_names)]\n",
    "    final_input_test = input_test[list(column_names)]\n",
    "    train_dm = xgboost.DMatrix(final_input_train, label = target_train, weight = input_train[WEIGHT])\n",
    "    validation_dm = xgboost.DMatrix(final_input_test, label = target_test,weight = input_test[WEIGHT])\n",
    "    watchlist = [(train_dm, 'train'), (validation_dm, 'valid')]\n",
    "\n",
    "    start = time.time()\n",
    "    if show:\n",
    "        verbose = 10\n",
    "    else:\n",
    "        verbose = 0\n",
    "    model = xgboost.train(params, train_dm, 400, watchlist,early_stopping_rounds=50, verbose_eval=verbose)\n",
    "    duration = time.time()-start\n",
    "    infos = compute_metrics_model_xgboost(model,final_input_test,target_test,suffix,sample_weight = input_test[WEIGHT],show=show)\n",
    "    infos.update({add_suffix('time',suffix):duration})\n",
    "    if show:      \n",
    "        print_model_infos(suffix,PRINT_INFOS_ON_MODEL,infos,suffix)\n",
    "    return  infos\n",
    "\n",
    "def build_XGBoost_model_100_0(training,target,column_names,show=True):\n",
    "    suffix='100_0'\n",
    "    final_train = training[list(column_names)]\n",
    "    final_target = target\n",
    "    final_weight = training[WEIGHT]\n",
    "\n",
    "    train_dm = xgboost.DMatrix(final_train, label = final_target, weight = final_weight)\n",
    "    watchlist = [(train_dm, 'train')]\n",
    "\n",
    "    start = time.time()\n",
    "    if show:\n",
    "        verbose = 10\n",
    "    else:\n",
    "        verbose = 0\n",
    "    model = xgboost.train(params, train_dm, 400, watchlist,early_stopping_rounds=50, verbose_eval=verbose)\n",
    "    duration = time.time()-start\n",
    "    infos = compute_metrics_model_xgboost(model,final_train,final_target,suffix,sample_weight = final_weight,show=show)\n",
    "    infos.update({add_suffix('time',suffix):duration})\n",
    "    if show:      \n",
    "        print_model_infos(suffix,PRINT_INFOS_ON_MODEL,infos,suffix)\n",
    "    return  infos\n",
    "\n",
    "def compute_metrics_model_xgboost(model,input_df,target_df,suffix,sample_weight = None,show = True):\n",
    "    final_input = xgboost.DMatrix(input_df)\n",
    "    prediction_proba_df = model.predict(final_input,ntree_limit=model.best_ntree_limit)\n",
    "    prediction_df = numpy.where(prediction_proba_df>0.5,1,0)\n",
    "    #prediction_proba_df = model.predict_proba(final_input,ntree_limit=model.best_ntree_limit)\n",
    "    res = metrics.classification_report(target_df,prediction_df,sample_weight = sample_weight,output_dict=True)\n",
    "    accuracy = res['accuracy']\n",
    "    score = res['weighted avg']['f1-score']\n",
    "    logloss_proba = metrics.log_loss(target_df,prediction_proba_df,sample_weight = sample_weight)\n",
    "    if show:\n",
    "        print('Classification report on %s' % suffix)\n",
    "        print(metrics.classification_report(target_df,prediction_df,sample_weight = sample_weight))\n",
    "    return add_suffix_to_keys(\n",
    "            {\n",
    "             'accuracy':accuracy,\n",
    "             'score':score,\n",
    "             'logloss_proba':logloss_proba,\n",
    "             'model':model\n",
    "           },\n",
    "           suffix)\n",
    "\n",
    "if UNITARY_TEST:\n",
    "    print_section('Unitary test : playbox XGBoost 80_20')\n",
    "\n",
    "if UNITARY_TEST:\n",
    "    small_train = train_dataframe.sample(1000,random_state=42)\n",
    "    print_section('Unitary test : playbox XGBoost 100_0')\n",
    "    res = build_XGBoost_model_100_0(small_train,small_train['is_duplicate'],all_numeric_columns(small_train))\n",
    "    print(res)\n",
    "\n",
    "if UNITARY_TEST:\n",
    "    small_train = train_dataframe.sample(1000,random_state=42)\n",
    "    print_section('Unitary test : playbox XGBoost 80_20')\n",
    "    res = build_XGBoost_model_80_20(small_train,small_train['is_duplicate'],all_numeric_columns(small_train))\n",
    "    print(res)\n",
    "    #xgboost.plot_importance(res['model'])\n",
    "    #xgboost.to_graphviz(model,num_trees=2)\n"
   ]
  },
  {
   "cell_type": "code",
   "execution_count": null,
   "metadata": {
    "tags": []
   },
   "outputs": [],
   "source": [
    "import xgboost \n",
    "\n",
    "def learner_xgboost(algo_spec,input_train,target_train,input_test,target_test,weigth_train,weight_test,show=True):\n",
    "    train_dm = xgboost.DMatrix(input_train, label = target_train, weight = weigth_train)\n",
    "    if target_test is None:\n",
    "        watchlist = [(train_dm, 'train')]\n",
    "    else:\n",
    "        validation_dm = xgboost.DMatrix(input_test, label = target_test,weight = weight_test)\n",
    "        watchlist = [(train_dm, 'train'), (validation_dm, 'valid')]\n",
    "\n",
    "    start = time.time()\n",
    "    if show:\n",
    "        verbose = 10\n",
    "    else:\n",
    "        verbose = 0\n",
    "    model = xgboost.train(algo_spec['params'], train_dm, 400, watchlist,early_stopping_rounds=50, verbose_eval=verbose)\n",
    "    duration = time.time()-start\n",
    "    return model\n",
    "\n",
    "\n",
    "def predictor_xgboost(model,input_df,target_df):\n",
    "    final_input = xgboost.DMatrix(input_df)\n",
    "    prediction_proba_df = model.predict(final_input,ntree_limit=model.best_ntree_limit)\n",
    "    prediction_df = numpy.where(prediction_proba_df>0.5,1,0)\n",
    "    return prediction_df,prediction_proba_df\n",
    "\n",
    "\n",
    "ALGORITHM_SPEC_XGBOOST = {\n",
    "    'learner': learner_xgboost,\n",
    "    'predicter': predictor_xgboost,\n",
    "    'params': {\n",
    "        'objective': 'binary:logistic',\n",
    "        'eval_metric': 'logloss',\n",
    "        'eta' : 0.02,\n",
    "        'max_depth':3 \n",
    "        }\n",
    "}\n",
    "\n",
    "if UNITARY_TEST:\n",
    "    print_section('Unitary test : explore all features with default xgboost model on (80,20) & (100,0)')\n",
    "    small_train = train_dataframe.sample(100,random_state=42)\n",
    "    res = build_default_model_on_all_subset_of_simple_features(ALGORITHM_SPEC_XGBOOST,small_train,small_train['is_duplicate'])\n",
    "    res\n",
    "\n",
    "if UNITARY_TEST:\n",
    "    print_section('Unitary test : explore all features with xgboost model on  (80,20) & (100,0) with cross validation')\n",
    "    small_train = train_dataframe.sample(100,random_state=42)\n",
    "    res = build_cross_validation_model_on_all_subset_of_simple_features(ALGORITHM_SPEC_XGBOOST,small_train,small_train['is_duplicate'])\n",
    "    res"
   ]
  }
 ]
}