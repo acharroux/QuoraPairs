{
 "metadata": {
  "language_info": {
   "codemirror_mode": {
    "name": "ipython",
    "version": 3
   },
   "file_extension": ".py",
   "mimetype": "text/x-python",
   "name": "python",
   "nbconvert_exporter": "python",
   "pygments_lexer": "ipython3",
   "version": "3.8.3-final"
  },
  "orig_nbformat": 2,
  "kernelspec": {
   "name": "Python 3.8.3 64-bit ('anaconda3': conda)",
   "display_name": "Python 3.8.3 64-bit ('anaconda3': conda)",
   "metadata": {
    "interpreter": {
     "hash": "7383003b210fdacca9bf7683d9d1d561f4a72c77adad40daede406a89507eb7d"
    }
   }
  }
 },
 "nbformat": 4,
 "nbformat_minor": 2,
 "cells": [
  {
   "source": [
    "# Playing with stop words\n",
    "\n",
    "Nb common words seems to be an interesting feature.\n",
    "\n",
    "But isn'it disturbed by common words like do, not, and which may precisely be common to many pairs, this without any significance ?\n",
    "\n",
    "So, if we remove stop words, nb common feature may have more significance\n"
   ],
   "cell_type": "markdown",
   "metadata": {}
  },
  {
   "cell_type": "code",
   "execution_count": 1,
   "metadata": {},
   "outputs": [
    {
     "output_type": "display_data",
     "data": {
      "text/plain": "<IPython.core.display.HTML object>",
      "text/html": "<span style=\"color:RED\">You will use environment playbox </span>"
     },
     "metadata": {
      "text/html": {
       "isolated": true
      }
     }
    },
    {
     "output_type": "display_data",
     "data": {
      "text/plain": "<IPython.core.display.HTML object>",
      "text/html": "<b>Prepare playbox environment in ../playbox</b>"
     },
     "metadata": {
      "text/html": {
       "isolated": true
      }
     }
    },
    {
     "output_type": "display_data",
     "data": {
      "text/plain": "<IPython.core.display.HTML object>",
      "text/html": "<HR>"
     },
     "metadata": {
      "text/html": {
       "isolated": true
      }
     }
    },
    {
     "output_type": "display_data",
     "data": {
      "text/plain": "<IPython.core.display.HTML object>",
      "text/html": "<span style=\"color:LIMEGREEN\"><small>Make local copy of ../PandasStore/clean_training.pkl</small></span>"
     },
     "metadata": {
      "text/html": {
       "isolated": true
      }
     }
    },
    {
     "output_type": "display_data",
     "data": {
      "text/plain": "<IPython.core.display.HTML object>",
      "text/html": "<span style=\"color:LIMEGREEN\"><small>Make local copy of ../PandasStore/clean_challenge.pkl</small></span>"
     },
     "metadata": {
      "text/html": {
       "isolated": true
      }
     }
    },
    {
     "output_type": "display_data",
     "data": {
      "text/plain": "<IPython.core.display.HTML object>",
      "text/html": "<span style=\"color:LIMEGREEN\"><small><b><i>Done</i></b><p></p></small></span>"
     },
     "metadata": {
      "text/html": {
       "isolated": true
      }
     }
    },
    {
     "output_type": "display_data",
     "data": {
      "text/plain": "<IPython.core.display.HTML object>",
      "text/html": "<b>Untouched input data has been loaded. Training: 404290 lines Challenge: 2345796 lines</b>"
     },
     "metadata": {
      "text/html": {
       "isolated": true
      }
     }
    },
    {
     "output_type": "display_data",
     "data": {
      "text/plain": "<IPython.core.display.HTML object>",
      "text/html": "<HR>"
     },
     "metadata": {
      "text/html": {
       "isolated": true
      }
     }
    }
   ],
   "source": [
    "# Ugly incantation to make our 'framework' working\n",
    "import sys\n",
    "sys.path.insert(0, r'/SAPDevelop/QuoraPairs/BruteForce/Tools')\n",
    "\n",
    "#import all our small tools (paths, cache, print,zip,excel, pandas, progress,..)\n",
    "from Tools.all import *\n",
    "\n",
    "# setup the name of our experiment\n",
    "# it will be used to store every result in a unique place\n",
    "EXPERIMENT='playbox'\n",
    "# Do a bit of checks before actually running code\n",
    "UNITARY_TEST = True\n",
    "print_alert('You will use environment %s' % EXPERIMENT)\n",
    "\n",
    "prepare_environnement(EXPERIMENT)\n",
    "train_dataframe=load_dataframe(CLEAN_TRAINING_DATA)\n",
    "challenge_dataframe=load_dataframe(CLEAN_CHALLENGE_DATA)\n",
    "print_section('Untouched input data has been loaded. Training: %d lines Challenge: %d lines' % (len(train_dataframe),len(challenge_dataframe)))\n"
   ]
  },
  {
   "source": [
    "### Shortcut : we load all domains from global repository\n",
    "\n",
    "* BASIC\n",
    "* NLTK_STOP_WORDS\n",
    "* ALL_STOP_WORDS\n",
    "* UNKNOWN\n",
    "* CLEAN_ALL_STOP_WORDS\n",
    "* LEMMATIZED\n",
    "* ENTIIES\n",
    "* NEWSGROUP\n",
    "* SPACY SIMILARIIES"
   ],
   "cell_type": "markdown",
   "metadata": {}
  },
  {
   "cell_type": "code",
   "execution_count": 2,
   "metadata": {},
   "outputs": [],
   "source": [
    "# our main tool to add feature\n",
    "def add_column_from_columns(dataframe,output_column_name,function):\n",
    "    dataframe[output_column_name]=dataframe.progress_apply(function,axis=1)\n",
    "    return dataframe[output_column_name]\n",
    "\n",
    "def add_column_from_column(dataframe,output_column_name,input_column_name,function):\n",
    "    dataframe[output_column_name]=dataframe[input_column_name].progress_apply(function)\n",
    "    return dataframe[output_column_name]\n",
    "\n",
    "def glue_all_domains(unused,dataset_name):\n",
    "    # Bootstrap with our last full save\n",
    "    #copy_from_pandas_store_if_missing(dataset_name+'_clean_all_stop_words_features')\n",
    "    print_warning('Load baic+nltk_stop_words+all_stop_words+clean_all_stop_words_features')\n",
    "    dataframe = load_global_dataframe(dataset_name+'_clean_all_stop_words_features')\n",
    "    \n",
    "    #copy_from_pandas_store_if_missing(dataset_name+'_final_lemmatized_entities_features')\n",
    "    lemmatized_entities = load_global_dataframe(dataset_name+'_final_lemmatized_entities_features')\n",
    "    print_warning('Glue lemmes & entities')\n",
    "    # The set_index option was specially tricky. Made me mad for a while\n",
    "    dataframe = pandas.concat([dataframe,lemmatized_entities.set_index(dataframe.index)],axis=1)\n",
    "    del lemmatized_entities\n",
    "\n",
    "    #copy_from_pandas_store_if_missing(dataset_name+'_newsgroup_proba')\n",
    "    print_warning('Glue newsgroups')\n",
    "    newsgroup_proba = load_global_dataframe(dataset_name+'_newsgroup_proba')\n",
    "    dataframe = pandas.concat([dataframe,newsgroup_proba.set_index(dataframe.index)],axis=1)\n",
    "    del newsgroup_proba\n",
    "\n",
    "    #copy_from_pandas_store_if_missing(dataset_name+'_spacy_similarity')\n",
    "    print_warning('Glue spacy similarities')\n",
    "    spacy_similarity = load_global_dataframe(dataset_name+'_spacy_similarity')\n",
    "    # Glue similarities to dataframe\n",
    "    # We have only a serie so it is much easier than with a full dataframe\n",
    "    dataframe['spacy_similarity'] = spacy_similarity\n",
    "    del spacy_similarity\n",
    "\n",
    "    return dataframe\n"
   ]
  },
  {
   "cell_type": "code",
   "execution_count": 3,
   "metadata": {},
   "outputs": [
    {
     "output_type": "display_data",
     "data": {
      "text/plain": "<IPython.core.display.HTML object>",
      "text/html": "<b>Glue all features to training: Load or rebuild train_all_features</b>"
     },
     "metadata": {
      "text/html": {
       "isolated": true
      }
     }
    },
    {
     "output_type": "display_data",
     "data": {
      "text/plain": "<IPython.core.display.HTML object>",
      "text/html": "<HR>"
     },
     "metadata": {
      "text/html": {
       "isolated": true
      }
     }
    },
    {
     "output_type": "display_data",
     "data": {
      "text/plain": "<IPython.core.display.HTML object>",
      "text/html": "<span style=\"color:LIGHTSALMON\"><small>!!!!! ../playbox/train_all_features.pkl does not exists!!!</small></span>"
     },
     "metadata": {
      "text/html": {
       "isolated": true
      }
     }
    },
    {
     "output_type": "display_data",
     "data": {
      "text/plain": "<IPython.core.display.HTML object>",
      "text/html": "<span style=\"color:LIGHTSALMON\"><small>Rebuild and save it</small></span>"
     },
     "metadata": {
      "text/html": {
       "isolated": true
      }
     }
    },
    {
     "output_type": "display_data",
     "data": {
      "text/plain": "<IPython.core.display.HTML object>",
      "text/html": "<span style=\"color:LIGHTSALMON\"><small>Load baic+nltk_stop_words+all_stop_words+clean_all_stop_words_features</small></span>"
     },
     "metadata": {
      "text/html": {
       "isolated": true
      }
     }
    },
    {
     "output_type": "display_data",
     "data": {
      "text/plain": "<IPython.core.display.HTML object>",
      "text/html": "<span style=\"color:LIGHTSALMON\"><small>Glue lemmes & entities</small></span>"
     },
     "metadata": {
      "text/html": {
       "isolated": true
      }
     }
    },
    {
     "output_type": "display_data",
     "data": {
      "text/plain": "<IPython.core.display.HTML object>",
      "text/html": "<span style=\"color:LIGHTSALMON\"><small>Glue newsgroups</small></span>"
     },
     "metadata": {
      "text/html": {
       "isolated": true
      }
     }
    },
    {
     "output_type": "display_data",
     "data": {
      "text/plain": "<IPython.core.display.HTML object>",
      "text/html": "<span style=\"color:LIGHTSALMON\"><small>Glue spacy similarities</small></span>"
     },
     "metadata": {
      "text/html": {
       "isolated": true
      }
     }
    },
    {
     "output_type": "display_data",
     "data": {
      "text/plain": "<IPython.core.display.HTML object>",
      "text/html": "<span style=\"color:LIMEGREEN\"><small>Save train_all_features</small></span>"
     },
     "metadata": {
      "text/html": {
       "isolated": true
      }
     }
    },
    {
     "output_type": "display_data",
     "data": {
      "text/plain": "<IPython.core.display.HTML object>",
      "text/html": "<span style=\"color:LIMEGREEN\"><small><b><i>Done:train_all_features contains 404290 lines in 5.5 s</i></b><p></p></small></span>"
     },
     "metadata": {
      "text/html": {
       "isolated": true
      }
     }
    },
    {
     "output_type": "display_data",
     "data": {
      "text/plain": "<IPython.core.display.HTML object>",
      "text/html": "<b>Glue all features to challenge: Load or rebuild challenge_all_features</b>"
     },
     "metadata": {
      "text/html": {
       "isolated": true
      }
     }
    },
    {
     "output_type": "display_data",
     "data": {
      "text/plain": "<IPython.core.display.HTML object>",
      "text/html": "<HR>"
     },
     "metadata": {
      "text/html": {
       "isolated": true
      }
     }
    },
    {
     "output_type": "display_data",
     "data": {
      "text/plain": "<IPython.core.display.HTML object>",
      "text/html": "<span style=\"color:LIGHTSALMON\"><small>!!!!! ../playbox/challenge_all_features.pkl does not exists!!!</small></span>"
     },
     "metadata": {
      "text/html": {
       "isolated": true
      }
     }
    },
    {
     "output_type": "display_data",
     "data": {
      "text/plain": "<IPython.core.display.HTML object>",
      "text/html": "<span style=\"color:LIGHTSALMON\"><small>Rebuild and save it</small></span>"
     },
     "metadata": {
      "text/html": {
       "isolated": true
      }
     }
    },
    {
     "output_type": "display_data",
     "data": {
      "text/plain": "<IPython.core.display.HTML object>",
      "text/html": "<span style=\"color:LIGHTSALMON\"><small>Load baic+nltk_stop_words+all_stop_words+clean_all_stop_words_features</small></span>"
     },
     "metadata": {
      "text/html": {
       "isolated": true
      }
     }
    },
    {
     "output_type": "display_data",
     "data": {
      "text/plain": "<IPython.core.display.HTML object>",
      "text/html": "<span style=\"color:LIGHTSALMON\"><small>Glue lemmes & entities</small></span>"
     },
     "metadata": {
      "text/html": {
       "isolated": true
      }
     }
    },
    {
     "output_type": "display_data",
     "data": {
      "text/plain": "<IPython.core.display.HTML object>",
      "text/html": "<span style=\"color:LIGHTSALMON\"><small>Glue newsgroups</small></span>"
     },
     "metadata": {
      "text/html": {
       "isolated": true
      }
     }
    },
    {
     "output_type": "display_data",
     "data": {
      "text/plain": "<IPython.core.display.HTML object>",
      "text/html": "<span style=\"color:LIGHTSALMON\"><small>Glue spacy similarities</small></span>"
     },
     "metadata": {
      "text/html": {
       "isolated": true
      }
     }
    },
    {
     "output_type": "display_data",
     "data": {
      "text/plain": "<IPython.core.display.HTML object>",
      "text/html": "<span style=\"color:LIMEGREEN\"><small>Save challenge_all_features</small></span>"
     },
     "metadata": {
      "text/html": {
       "isolated": true
      }
     }
    },
    {
     "output_type": "display_data",
     "data": {
      "text/plain": "<IPython.core.display.HTML object>",
      "text/html": "<span style=\"color:LIMEGREEN\"><small><b><i>Done:challenge_all_features contains 2345796 lines in 35.4 s</i></b><p></p></small></span>"
     },
     "metadata": {
      "text/html": {
       "isolated": true
      }
     }
    }
   ],
   "source": [
    "train_dataframe = load_or_build_dataframe('Glue all features to training','train_all_features',glue_all_domains,None,param1='train')\n",
    "challenge_dataframe = load_or_build_dataframe('Glue all features to challenge','challenge_all_features',glue_all_domains,None,param1='challenge')\n"
   ]
  },
  {
   "source": [
    "### Define all domains"
   ],
   "cell_type": "markdown",
   "metadata": {}
  },
  {
   "cell_type": "code",
   "execution_count": 7,
   "metadata": {},
   "outputs": [],
   "source": [
    "# all_numeric_columns filter \n",
    "# * anything not int or fload \n",
    "# * id1,id2,test_id,is_duplicate and weight\n",
    "\n",
    "# To build a model with only features not aware of any stop words\n",
    "DOMAIN_BASIC_FEATURES = [c for c in all_numeric_columns(train_dataframe) if 'nltk' not in c and 'all' not in c and 'unknown' not in c and 'clean' not in c and 'entities' not in c and 'proba' not in c and 'similarity' not in c and 'lemmatized' not in c] \n",
    "\n",
    "# To build a model with only features aware of nltk stop words\n",
    "DOMAIN_NLTK_STOP_WORDS_FEATURES = [c for c in all_numeric_columns(train_dataframe) if 'nltk' in c] \n",
    "\n",
    "DOMAIN_ALL_STOP_WORDS_FEATURES = [c for c in all_numeric_columns(train_dataframe) if 'all' in c and 'clean' not in c] \n",
    "\n",
    "# The 2 nb 'not in english dictionary' features \n",
    "DOMAIN_DICT_FEATURES = [c for c in all_numeric_columns(train_dataframe) if 'unknown' in c] \n",
    "\n",
    "# To build a model with only features aware of all stop words AFTER cleaning\n",
    "DOMAIN_LEMMATIZED_FEATURES = [c for c in all_numeric_columns(train_dataframe) if 'lemmatized' in c] \n",
    "\n",
    "# To build a model with only features aware of all stop words AFTER cleaning\n",
    "DOMAIN_CLEAN_FEATURES = [c for c in all_numeric_columns(train_dataframe) if 'clean' in c] \n",
    "\n",
    "# To build a model with only features aware of all stop words AFTER cleaning\n",
    "DOMAIN_ENTITIES_FEATURES = [c for c in all_numeric_columns(train_dataframe) if 'entities' in c] \n",
    "\n",
    "# To build a model with only features aware of all stop words AFTER cleaning\n",
    "DOMAIN_NEWSGROUP_FEATURES = [c for c in all_numeric_columns(train_dataframe) if 'proba' in c] \n",
    "\n",
    "# To build a model with only spacy similaraties\n",
    "DOMAIN_SPACY_SIMILARITY_FEATURE = [c for c in all_numeric_columns(train_dataframe) if 'similarity' in c] \n",
    "\n",
    "# everything\n",
    "ALL_FEATURES = all_numeric_columns(train_dataframe)"
   ]
  },
  {
   "source": [
    "Check a little bit what we have loaded"
   ],
   "cell_type": "markdown",
   "metadata": {}
  },
  {
   "cell_type": "code",
   "execution_count": 24,
   "metadata": {},
   "outputs": [
    {
     "output_type": "display_data",
     "data": {
      "text/plain": "<IPython.core.display.HTML object>",
      "text/html": "<span style=\"color:LIMEGREEN\"><small>train_dataframe has 115 columns</small></span>"
     },
     "metadata": {
      "text/html": {
       "isolated": true
      }
     }
    },
    {
     "output_type": "display_data",
     "data": {
      "text/plain": "<IPython.core.display.HTML object>",
      "text/html": "<span style=\"color:LIMEGREEN\"><small>train_dataframe has 8 DOMAIN_BASIC_FEATURES</small></span>"
     },
     "metadata": {
      "text/html": {
       "isolated": true
      }
     }
    },
    {
     "output_type": "display_data",
     "data": {
      "text/plain": "<IPython.core.display.HTML object>",
      "text/html": "<span style=\"color:LIMEGREEN\"><small>train_dataframe has 8 DOMAIN_NLTK_STOP_WORDS_FEATURES</small></span>"
     },
     "metadata": {
      "text/html": {
       "isolated": true
      }
     }
    },
    {
     "output_type": "display_data",
     "data": {
      "text/plain": "<IPython.core.display.HTML object>",
      "text/html": "<span style=\"color:LIMEGREEN\"><small>train_dataframe has 8 DOMAIN_ALL_STOP_WORDS_FEATURES</small></span>"
     },
     "metadata": {
      "text/html": {
       "isolated": true
      }
     }
    },
    {
     "output_type": "display_data",
     "data": {
      "text/plain": "<IPython.core.display.HTML object>",
      "text/html": "<span style=\"color:LIMEGREEN\"><small>train_dataframe has 2 DOMAIN_DICT_FEATURES</small></span>"
     },
     "metadata": {
      "text/html": {
       "isolated": true
      }
     }
    },
    {
     "output_type": "display_data",
     "data": {
      "text/plain": "<IPython.core.display.HTML object>",
      "text/html": "<span style=\"color:LIMEGREEN\"><small>train_dataframe has 8 DOMAIN_LEMMATIZED_FEATURES</small></span>"
     },
     "metadata": {
      "text/html": {
       "isolated": true
      }
     }
    },
    {
     "output_type": "display_data",
     "data": {
      "text/plain": "<IPython.core.display.HTML object>",
      "text/html": "<span style=\"color:LIMEGREEN\"><small>train_dataframe has 8 DOMAIN_CLEAN_FEATURES</small></span>"
     },
     "metadata": {
      "text/html": {
       "isolated": true
      }
     }
    },
    {
     "output_type": "display_data",
     "data": {
      "text/plain": "<IPython.core.display.HTML object>",
      "text/html": "<span style=\"color:LIMEGREEN\"><small>train_dataframe has 48 DOMAIN_ENTITIES_FEATURES</small></span>"
     },
     "metadata": {
      "text/html": {
       "isolated": true
      }
     }
    },
    {
     "output_type": "display_data",
     "data": {
      "text/plain": "<IPython.core.display.HTML object>",
      "text/html": "<span style=\"color:LIMEGREEN\"><small>train_dataframe has 14 DOMAIN_NEWSGROUP_FEATURES</small></span>"
     },
     "metadata": {
      "text/html": {
       "isolated": true
      }
     }
    },
    {
     "output_type": "display_data",
     "data": {
      "text/plain": "<IPython.core.display.HTML object>",
      "text/html": "<span style=\"color:LIMEGREEN\"><small>train_dataframe has 1 DOMAIN_SPACY_SIMILARITY_FEATURE</small></span>"
     },
     "metadata": {
      "text/html": {
       "isolated": true
      }
     }
    },
    {
     "output_type": "display_data",
     "data": {
      "text/plain": "<IPython.core.display.HTML object>",
      "text/html": "<span style=\"color:LIMEGREEN\"><small>train_dataframe has 105 ALL_FEATURES</small></span>"
     },
     "metadata": {
      "text/html": {
       "isolated": true
      }
     }
    },
    {
     "output_type": "display_data",
     "data": {
      "text/plain": "<IPython.core.display.HTML object>",
      "text/html": "<span style=\"color:LIMEGREEN\"><small>weight column is OK</small></span>"
     },
     "metadata": {
      "text/html": {
       "isolated": true
      }
     }
    },
    {
     "output_type": "display_data",
     "data": {
      "text/plain": "<IPython.core.display.HTML object>",
      "text/html": "<span style=\"color:LIMEGREEN\"><small>All domains are disjoint</small></span>"
     },
     "metadata": {
      "text/html": {
       "isolated": true
      }
     }
    },
    {
     "output_type": "display_data",
     "data": {
      "text/plain": "<IPython.core.display.HTML object>",
      "text/html": "<span style=\"color:LIMEGREEN\"><small>All columns are used in a domain</small></span>"
     },
     "metadata": {
      "text/html": {
       "isolated": true
      }
     }
    },
    {
     "output_type": "stream",
     "name": "stdout",
     "text": [
      "\n"
     ]
    },
    {
     "output_type": "display_data",
     "data": {
      "text/plain": "<IPython.core.display.HTML object>",
      "text/html": "<span style=\"color:LIMEGREEN\"><small>train_dataframe looks like OK</small></span>"
     },
     "metadata": {
      "text/html": {
       "isolated": true
      }
     }
    },
    {
     "output_type": "display_data",
     "data": {
      "text/plain": "<IPython.core.display.HTML object>",
      "text/html": "<span style=\"color:LIMEGREEN\"><small>challenge_dataframe looks like ok</small></span>"
     },
     "metadata": {
      "text/html": {
       "isolated": true
      }
     }
    }
   ],
   "source": [
    "\n",
    "\n",
    "nb_cols = len(train_dataframe.columns)\n",
    "print_info('train_dataframe has %d columns' % nb_cols)\n",
    "print_info('train_dataframe has %d DOMAIN_BASIC_FEATURES' % len(DOMAIN_BASIC_FEATURES))\n",
    "print_info('train_dataframe has %d DOMAIN_NLTK_STOP_WORDS_FEATURES' % len(DOMAIN_NLTK_STOP_WORDS_FEATURES))\n",
    "print_info('train_dataframe has %d DOMAIN_ALL_STOP_WORDS_FEATURES' % len(DOMAIN_ALL_STOP_WORDS_FEATURES))\n",
    "print_info('train_dataframe has %d DOMAIN_DICT_FEATURES' % len(DOMAIN_DICT_FEATURES))\n",
    "print_info('train_dataframe has %d DOMAIN_LEMMATIZED_FEATURES' % len(DOMAIN_LEMMATIZED_FEATURES))\n",
    "print_info('train_dataframe has %d DOMAIN_CLEAN_FEATURES' % len(DOMAIN_CLEAN_FEATURES))\n",
    "print_info('train_dataframe has %d DOMAIN_ENTITIES_FEATURES' % len(DOMAIN_ENTITIES_FEATURES))\n",
    "print_info('train_dataframe has %d DOMAIN_NEWSGROUP_FEATURES' % len(DOMAIN_NEWSGROUP_FEATURES))\n",
    "print_info('train_dataframe has %d DOMAIN_SPACY_SIMILARITY_FEATURE' % len(DOMAIN_SPACY_SIMILARITY_FEATURE))\n",
    "print_info('train_dataframe has %d ALL_FEATURES' % len(ALL_FEATURES))\n",
    "\n",
    "assert len(DOMAIN_BASIC_FEATURES) == 8,DOMAIN_BASIC_FEATURES\n",
    "assert len(DOMAIN_NLTK_STOP_WORDS_FEATURES) == 8,DOMAIN_NLTK_STOP_WORDS_FEATURES\n",
    "assert len(DOMAIN_ALL_STOP_WORDS_FEATURES) == 8,DOMAIN_ALL_STOP_WORDS_FEATURES\n",
    "assert len(DOMAIN_DICT_FEATURES) == 2,DOMAIN_DICT_FEATURES\n",
    "assert len(DOMAIN_LEMMATIZED_FEATURES) == 8,DOMAIN_LEMMATIZED_FEATURES \n",
    "assert len(DOMAIN_CLEAN_FEATURES) == 8,DOMAIN_CLEAN_FEATURES\n",
    "assert len(DOMAIN_ENTITIES_FEATURES) == 48,DOMAIN_ENTITIES_FEATURES\n",
    "assert len(DOMAIN_NEWSGROUP_FEATURES) == 14,DOMAIN_NEWSGROUP_FEATURES\n",
    "assert len(DOMAIN_SPACY_SIMILARITY_FEATURE) == 1,DOMAIN_SPACY_SIMILARITY_FEATURE\n",
    "assert len(ALL_FEATURES)==105,ALL_FEATURES\n",
    "\n",
    "assert 'weight' in train_dataframe and 'weight' not in ALL_FEATURES\n",
    "assert len(train_dataframe['weight'].unique())==2\n",
    "print_info('weight column is OK')\n",
    "assert 'is_duplicate' in train_dataframe and 'is_duplicate' not in ALL_FEATURES\n",
    "assert len(train_dataframe['is_duplicate'].unique())==2\n",
    "\n",
    "# all domains are disjoint\n",
    "assert len(set(DOMAIN_BASIC_FEATURES) \n",
    "        & set(DOMAIN_NLTK_STOP_WORDS_FEATURES) \n",
    "        & set(DOMAIN_ALL_STOP_WORDS_FEATURES) \n",
    "        & set(DOMAIN_DICT_FEATURES) \n",
    "        & set(DOMAIN_LEMMATIZED_FEATURES) \n",
    "        & set(DOMAIN_CLEAN_FEATURES) \n",
    "        & set(DOMAIN_ENTITIES_FEATURES) \n",
    "        & set(DOMAIN_NEWSGROUP_FEATURES) \n",
    "        & set(DOMAIN_SPACY_SIMILARITY_FEATURE) \n",
    "        ) == 0\n",
    "print_info('All domains are disjoint')\n",
    "assert len(DOMAIN_BASIC_FEATURES) + len(DOMAIN_NLTK_STOP_WORDS_FEATURES) + len(DOMAIN_ALL_STOP_WORDS_FEATURES) + len(DOMAIN_DICT_FEATURES) + len(DOMAIN_LEMMATIZED_FEATURES) + len(DOMAIN_CLEAN_FEATURES) + len(DOMAIN_ENTITIES_FEATURES) + len(DOMAIN_NEWSGROUP_FEATURES) + len(DOMAIN_SPACY_SIMILARITY_FEATURE) == len(ALL_FEATURES)\n",
    "print_info('All columns are used in a domain')\n",
    "\n",
    "assert len(train_dataframe)==404290,len(train_dataframe)\n",
    "print()\n",
    "print_info('train_dataframe looks like OK')\n",
    "\n",
    "for c in ALL_FEATURES:\n",
    "    assert c in challenge_dataframe.columns\n",
    "\n",
    "assert 'is_duplicate' not in challenge_dataframe and 'weight' not in challenge_dataframe\n",
    "assert len(train_dataframe['is_duplicate'].unique())==2\n",
    "\n",
    "assert len(challenge_dataframe)==2345796,len(challenge_dataframe)\n",
    "print_info('challenge_dataframe looks like ok')\n"
   ]
  },
  {
   "source": [
    "OK we have loaded what expected\n",
    "\n",
    "We can go further"
   ],
   "cell_type": "markdown",
   "metadata": {}
  },
  {
   "source": [
    "Define code for a default xgboost model"
   ],
   "cell_type": "markdown",
   "metadata": {}
  },
  {
   "cell_type": "code",
   "execution_count": 25,
   "metadata": {},
   "outputs": [
    {
     "output_type": "display_data",
     "data": {
      "text/plain": "<IPython.core.display.HTML object>",
      "text/html": "<span style=\"color:LIMEGREEN\"><small></small></span>"
     },
     "metadata": {
      "text/html": {
       "isolated": true
      }
     }
    },
    {
     "output_type": "display_data",
     "data": {
      "text/plain": "<IPython.core.display.HTML object>",
      "text/html": "<b>Unitary test : playbox XGBoost 80_20</b>"
     },
     "metadata": {
      "text/html": {
       "isolated": true
      }
     }
    },
    {
     "output_type": "display_data",
     "data": {
      "text/plain": "<IPython.core.display.HTML object>",
      "text/html": "<HR>"
     },
     "metadata": {
      "text/html": {
       "isolated": true
      }
     }
    },
    {
     "output_type": "display_data",
     "data": {
      "text/plain": "<IPython.core.display.HTML object>",
      "text/html": "<b>Unitary test : playbox XGBoost 100_0</b>"
     },
     "metadata": {
      "text/html": {
       "isolated": true
      }
     }
    },
    {
     "output_type": "display_data",
     "data": {
      "text/plain": "<IPython.core.display.HTML object>",
      "text/html": "<HR>"
     },
     "metadata": {
      "text/html": {
       "isolated": true
      }
     }
    },
    {
     "output_type": "stream",
     "name": "stdout",
     "text": [
      "[0]\ttrain-logloss:0.68197\n",
      "Will train until train-logloss hasn't improved in 50 rounds.\n",
      "[10]\ttrain-logloss:0.59052\n",
      "[20]\ttrain-logloss:0.52549\n",
      "[30]\ttrain-logloss:0.47724\n",
      "[40]\ttrain-logloss:0.44029\n",
      "[50]\ttrain-logloss:0.41141\n",
      "[60]\ttrain-logloss:0.38875\n",
      "[70]\ttrain-logloss:0.37040\n",
      "[80]\ttrain-logloss:0.35535\n",
      "[90]\ttrain-logloss:0.34310\n",
      "[100]\ttrain-logloss:0.33268\n",
      "[110]\ttrain-logloss:0.32418\n",
      "[120]\ttrain-logloss:0.31696\n",
      "[130]\ttrain-logloss:0.31114\n",
      "[140]\ttrain-logloss:0.30598\n",
      "[150]\ttrain-logloss:0.30140\n",
      "[160]\ttrain-logloss:0.29727\n",
      "[170]\ttrain-logloss:0.29339\n",
      "[180]\ttrain-logloss:0.28983\n",
      "[190]\ttrain-logloss:0.28629\n",
      "[200]\ttrain-logloss:0.28344\n",
      "[210]\ttrain-logloss:0.28053\n",
      "[220]\ttrain-logloss:0.27800\n",
      "[230]\ttrain-logloss:0.27514\n",
      "[240]\ttrain-logloss:0.27252\n",
      "[250]\ttrain-logloss:0.27009\n",
      "[260]\ttrain-logloss:0.26739\n",
      "[270]\ttrain-logloss:0.26424\n",
      "[280]\ttrain-logloss:0.26162\n",
      "[290]\ttrain-logloss:0.25903\n",
      "[300]\ttrain-logloss:0.25688\n",
      "[310]\ttrain-logloss:0.25462\n",
      "[320]\ttrain-logloss:0.25215\n",
      "[330]\ttrain-logloss:0.24971\n",
      "[340]\ttrain-logloss:0.24751\n",
      "[350]\ttrain-logloss:0.24538\n",
      "[360]\ttrain-logloss:0.24343\n",
      "[370]\ttrain-logloss:0.24170\n",
      "[380]\ttrain-logloss:0.23962\n",
      "[390]\ttrain-logloss:0.23745\n",
      "[399]\ttrain-logloss:0.23584\n"
     ]
    },
    {
     "output_type": "display_data",
     "data": {
      "text/plain": "<IPython.core.display.HTML object>",
      "text/html": "<span style=\"color:LIMEGREEN\"><small>Classification report</small></span>"
     },
     "metadata": {
      "text/html": {
       "isolated": true
      }
     }
    },
    {
     "output_type": "stream",
     "name": "stdout",
     "text": [
      "              precision    recall  f1-score   support\n\n           0       0.90      0.99      0.95 833.5098453967706\n           1       0.94      0.48      0.63 171.66892895091271\n\n    accuracy                           0.91 1005.1787743476833\n   macro avg       0.92      0.74      0.79 1005.1787743476833\nweighted avg       0.91      0.91      0.89 1005.1787743476833\n\n"
     ]
    },
    {
     "output_type": "display_data",
     "data": {
      "text/plain": "<IPython.core.display.HTML object>",
      "text/html": "<span style=\"color:LIMEGREEN\"><small>logloss_proba 0.2358 | score 0.8929 | accuracy 0.9059 | time 1.01</small></span>"
     },
     "metadata": {
      "text/html": {
       "isolated": true
      }
     }
    },
    {
     "output_type": "stream",
     "name": "stdout",
     "text": [
      "{'accuracy': 0.9058721529352717, 'score': 0.8928541591821343, 'logloss_proba': 0.23583724567458317, 'model': <xgboost.core.Booster object at 0x7f7a8d0f2250>, 'time': 1.0135257244110107}\n"
     ]
    },
    {
     "output_type": "display_data",
     "data": {
      "text/plain": "<IPython.core.display.HTML object>",
      "text/html": "<b>Unitary test : playbox XGBoost 80_20</b>"
     },
     "metadata": {
      "text/html": {
       "isolated": true
      }
     }
    },
    {
     "output_type": "display_data",
     "data": {
      "text/plain": "<IPython.core.display.HTML object>",
      "text/html": "<HR>"
     },
     "metadata": {
      "text/html": {
       "isolated": true
      }
     }
    },
    {
     "output_type": "display_data",
     "data": {
      "text/plain": "<IPython.core.display.HTML object>",
      "text/html": "<b>Unitary test : playbox XGBoost 80_20</b>"
     },
     "metadata": {
      "text/html": {
       "isolated": true
      }
     }
    },
    {
     "output_type": "display_data",
     "data": {
      "text/plain": "<IPython.core.display.HTML object>",
      "text/html": "<HR>"
     },
     "metadata": {
      "text/html": {
       "isolated": true
      }
     }
    },
    {
     "output_type": "stream",
     "name": "stdout",
     "text": [
      "[0]\ttrain-logloss:0.68206\tvalid-logloss:0.68148\n",
      "Multiple eval metrics have been passed: 'valid-logloss' will be used for early stopping.\n",
      "\n",
      "Will train until valid-logloss hasn't improved in 50 rounds.\n",
      "[10]\ttrain-logloss:0.59137\tvalid-logloss:0.58652\n",
      "[20]\ttrain-logloss:0.52546\tvalid-logloss:0.52009\n",
      "[30]\ttrain-logloss:0.47733\tvalid-logloss:0.47161\n",
      "[40]\ttrain-logloss:0.44052\tvalid-logloss:0.43465\n",
      "[50]\ttrain-logloss:0.41200\tvalid-logloss:0.40639\n",
      "[60]\ttrain-logloss:0.38931\tvalid-logloss:0.38460\n",
      "[70]\ttrain-logloss:0.37100\tvalid-logloss:0.36765\n",
      "[80]\ttrain-logloss:0.35616\tvalid-logloss:0.35439\n",
      "[90]\ttrain-logloss:0.34454\tvalid-logloss:0.34463\n",
      "[100]\ttrain-logloss:0.33469\tvalid-logloss:0.33717\n",
      "[110]\ttrain-logloss:0.32643\tvalid-logloss:0.33094\n",
      "[120]\ttrain-logloss:0.31933\tvalid-logloss:0.32609\n",
      "[130]\ttrain-logloss:0.31357\tvalid-logloss:0.32240\n",
      "[140]\ttrain-logloss:0.30843\tvalid-logloss:0.31881\n",
      "[150]\ttrain-logloss:0.30402\tvalid-logloss:0.31669\n",
      "[160]\ttrain-logloss:0.29995\tvalid-logloss:0.31457\n",
      "[170]\ttrain-logloss:0.29611\tvalid-logloss:0.31279\n",
      "[180]\ttrain-logloss:0.29241\tvalid-logloss:0.31187\n",
      "[190]\ttrain-logloss:0.28894\tvalid-logloss:0.31122\n",
      "[200]\ttrain-logloss:0.28583\tvalid-logloss:0.31092\n",
      "[210]\ttrain-logloss:0.28253\tvalid-logloss:0.31061\n",
      "[220]\ttrain-logloss:0.27886\tvalid-logloss:0.30909\n",
      "[230]\ttrain-logloss:0.27569\tvalid-logloss:0.30816\n",
      "[240]\ttrain-logloss:0.27211\tvalid-logloss:0.30757\n",
      "[250]\ttrain-logloss:0.26878\tvalid-logloss:0.30699\n",
      "[260]\ttrain-logloss:0.26582\tvalid-logloss:0.30703\n",
      "[270]\ttrain-logloss:0.26268\tvalid-logloss:0.30666\n",
      "[280]\ttrain-logloss:0.26039\tvalid-logloss:0.30779\n",
      "[290]\ttrain-logloss:0.25800\tvalid-logloss:0.30741\n",
      "[300]\ttrain-logloss:0.25505\tvalid-logloss:0.30750\n",
      "[310]\ttrain-logloss:0.25257\tvalid-logloss:0.30785\n",
      "Stopping. Best iteration:\n",
      "[269]\ttrain-logloss:0.26285\tvalid-logloss:0.30659\n",
      "\n"
     ]
    },
    {
     "output_type": "display_data",
     "data": {
      "text/plain": "<IPython.core.display.HTML object>",
      "text/html": "<span style=\"color:LIMEGREEN\"><small>Classification report</small></span>"
     },
     "metadata": {
      "text/html": {
       "isolated": true
      }
     }
    },
    {
     "output_type": "stream",
     "name": "stdout",
     "text": [
      "              precision    recall  f1-score   support\n\n           0       0.85      0.95      0.90 168.7955573880411\n           1       0.38      0.17      0.23 33.5771183347514\n\n    accuracy                           0.82 202.37267572279248\n   macro avg       0.62      0.56      0.57 202.37267572279248\nweighted avg       0.77      0.82      0.79 202.37267572279248\n\n"
     ]
    },
    {
     "output_type": "display_data",
     "data": {
      "text/plain": "<IPython.core.display.HTML object>",
      "text/html": "<span style=\"color:LIMEGREEN\"><small>logloss_proba 0.3066 | score 0.7862 | accuracy 0.8169 | time 0.96</small></span>"
     },
     "metadata": {
      "text/html": {
       "isolated": true
      }
     }
    },
    {
     "output_type": "stream",
     "name": "stdout",
     "text": [
      "{'accuracy': 0.8168647959159321, 'score': 0.7862304951940857, 'logloss_proba': 0.30658844459889373, 'model': <xgboost.core.Booster object at 0x7f7a8d0d4190>, 'time': 0.9639387130737305}\n"
     ]
    }
   ],
   "source": [
    "# Simple XGBoost code\n",
    "# \n",
    "\n",
    "import xgboost \n",
    "\n",
    "params = {\n",
    "    'objective': 'binary:logistic',\n",
    "    'eval_metric': 'logloss',\n",
    "    'eta' : 0.02,\n",
    "    'max_depth':3 \n",
    "    }\n",
    "\n",
    "\n",
    "\n",
    "def print_res_xgboost(infos):\n",
    "    # Glurk\n",
    "    print_info(' | '.join([('%s '+f) % (k,infos[k]) for k,f in INFO_XGBOOST_MODEL.items() if k in infos]))\n",
    "\n",
    "# 80% training 20% validation\n",
    "def build_XGBoost_model_80_20(training,target,column_names,show=True):\n",
    "    input_train,input_test,target_train,target_test = train_test_split(training,target,random_state=42,test_size=0.2)\n",
    "    final_input_train = input_train[list(column_names)]\n",
    "    final_input_test = input_test[list(column_names)]\n",
    "    train_dm = xgboost.DMatrix(final_input_train, label = target_train, weight = input_train[WEIGHT],nthread = -1)\n",
    "    validation_dm = xgboost.DMatrix(final_input_test, label = target_test,weight = input_test[WEIGHT])\n",
    "    watchlist = [(train_dm, 'train'), (validation_dm, 'valid')]\n",
    "\n",
    "    start = time.time()\n",
    "    if show:\n",
    "        verbose = 10\n",
    "    else:\n",
    "        verbose = 0\n",
    "    model = xgboost.train(params,train_dm,400,watchlist,early_stopping_rounds=50,verbose_eval=verbose)\n",
    "    infos = compute_metrics_model_xgboost(model,final_input_test,target_test,sample_weight = input_test[WEIGHT],show=show)\n",
    "    duration = time.time()-start\n",
    "    infos.update({'time':duration})\n",
    "    if show:      \n",
    "        print_res_xgboost(infos)\n",
    "    return  infos\n",
    "\n",
    "# Pushing the limits :100 % training no validation !!\n",
    "# Just in case it allows to gain small digts in kaggle score...\n",
    "def build_XGBoost_model_100_0(training,target,column_names,show=True):\n",
    "    final_train = training[list(column_names)]\n",
    "    final_target = target\n",
    "    final_weight = training[WEIGHT]\n",
    "\n",
    "    train_dm = xgboost.DMatrix(final_train, label = final_target, weight = final_weight,nthread = -1)\n",
    "    watchlist = [(train_dm, 'train')]\n",
    "\n",
    "    start = time.time()\n",
    "    if show:\n",
    "        verbose = 10\n",
    "    else:\n",
    "        verbose = 0\n",
    "    model = xgboost.train(params,train_dm,400,watchlist,early_stopping_rounds=50,verbose_eval=verbose)\n",
    "    duration = time.time()-start\n",
    "    infos = compute_metrics_model_xgboost(model,final_train,final_target,sample_weight = final_weight,show=show)\n",
    "    infos.update({'time':duration})\n",
    "    if show:      \n",
    "        print_res_xgboost(infos)\n",
    "    return  infos\n",
    "\n",
    "def compute_metrics_model_xgboost(model,input_df,target_df,sample_weight = None,show = True):\n",
    "    final_input = xgboost.DMatrix(input_df)\n",
    "    prediction_proba_df = model.predict(final_input,ntree_limit=model.best_ntree_limit)\n",
    "    # Hum shouldn't we challenge this 50% threshold ?\n",
    "    prediction_df = numpy.where(prediction_proba_df>0.5,1,0)\n",
    "    res = metrics.classification_report(target_df,prediction_df,sample_weight = sample_weight,output_dict=True)\n",
    "    accuracy = res['accuracy']\n",
    "    score = res['weighted avg']['f1-score']\n",
    "    logloss_proba = metrics.log_loss(target_df,prediction_proba_df,sample_weight = sample_weight)\n",
    "    if show:\n",
    "        print_info('Classification report')\n",
    "        print(metrics.classification_report(target_df,prediction_df,sample_weight = sample_weight))\n",
    "    return {\n",
    "             'accuracy':accuracy,\n",
    "             'score':score,\n",
    "             'logloss_proba':logloss_proba,\n",
    "             'model':model\n",
    "           }\n",
    "\n",
    "INFO_XGBOOST_MODEL= {\n",
    "    'logloss_proba': '%.4f',\n",
    "    'score': '%.4f',\n",
    "    'accuracy': '%.4f',\n",
    "    'time': '%.2f'\n",
    "}\n",
    "\n",
    "print_res_xgboost({'alain':1})\n",
    "\n",
    "if UNITARY_TEST:\n",
    "    print_section('Unitary test : playbox XGBoost 80_20')\n",
    "    small_train = train_dataframe.sample(1000,random_state=42)\n",
    "    print_section('Unitary test : playbox XGBoost 100_0')\n",
    "    res = build_XGBoost_model_100_0(small_train,small_train['is_duplicate'],all_numeric_columns(small_train))\n",
    "    print(res)\n",
    "\n",
    "if UNITARY_TEST:\n",
    "    print_section('Unitary test : playbox XGBoost 80_20')\n",
    "    small_train = train_dataframe.sample(1000,random_state=42)\n",
    "    print_section('Unitary test : playbox XGBoost 80_20')\n",
    "    res = build_XGBoost_model_80_20(small_train,small_train['is_duplicate'],all_numeric_columns(small_train))\n",
    "    print(res)"
   ]
  },
  {
   "source": [
    "Another bunch of code to wrap\n",
    "* building a set of xgboost models from the 'exploration' a set of features (possibly no exploration)\n",
    "* find the best model according to a metric (default is logloss)\n",
    "* save the metrics and all models in a 'database'\n",
    "* export all metrics of all models in excel\n",
    "* predict all probabilities from challenge dataset\n",
    "* prepare submission to kaggle \n",
    "\n",
    "** Note the 'database of models' is cached : if it can be retrieved, they are not rebuilt** "
   ],
   "cell_type": "markdown",
   "metadata": {}
  },
  {
   "cell_type": "code",
   "execution_count": 31,
   "metadata": {},
   "outputs": [],
   "source": [
    "def find_best_result(results,metric):\n",
    "    if 'logloss' in metric:\n",
    "        return results.nsmallest(1,metric)\n",
    "    else:\n",
    "        return results.nlargest(1,metric)\n",
    "        \n",
    "def apply_xgboost(model,columns,input_df):\n",
    "    res = pandas.DataFrame()\n",
    "    res['test_id'] = input_df['test_id']\n",
    "    res['is_duplicate'] = model.predict(xgboost.DMatrix(input_df[columns]))\n",
    "    return res\n",
    "\n",
    "def submit_best_result(results,input_df,file_name,kaggle_message,metric='logloss_proba'):\n",
    "    start = time.time()\n",
    "    print_section(\"Scoring XGBoost model with best %s: %s\" % (metric,kaggle_message))\n",
    "    csv_file_name = absolute_env_file_name(file_name,ext='.csv')\n",
    "    print_info('Generating scores in %s' % csv_file_name)\n",
    "    best = find_best_result(results,metric)\n",
    "    model = best['model'][0]\n",
    "    columns = best['columns'][0]\n",
    "    prediction = apply_xgboost(model,columns,input_df)\n",
    "    prediction.to_csv(csv_file_name,index=False)\n",
    "    print_info('Zipping file')\n",
    "    absolute_file_name_zip = zip_file_and_delete(csv_file_name)\n",
    "    print_done('Done',top=start)\n",
    "    print_info('%s is ready' % absolute_file_name_zip)\n",
    "    print_warning('Use this commands to submit apply results to kaggle')\n",
    "    print_warning('kaggle competitions submit quora-question-pairs -f \"%s\" -m \"%s %s\"' % (absolute_file_name_zip,EXPERIMENT,kaggle_message))\n",
    "    return prediction\n",
    "\n",
    "def n_columns(columns,n):\n",
    "    return columns[0:n]\n",
    "\n",
    "def xgboost_all_fields_80_20(dataframe,columns_to_explore,explore=True,show=False):\n",
    "    if explore:\n",
    "        print_section(\"XGBoost (80,20) on 1 to %d fields\" % len(columns_to_explore))\n",
    "    else:\n",
    "        print_section(\"XGBoost (80,20) on %d fields\" % len(columns_to_explore))\n",
    "    start = time.time()\n",
    "    res_final = dict()\n",
    "    min_log_loss = 1000\n",
    "    best = 0\n",
    "    best_cols =''\n",
    "    # a shortcut is possible\n",
    "    if explore:\n",
    "        first_nb = 1\n",
    "    else:\n",
    "        first_nb=len(columns_to_explore)\n",
    "    for i in tqdm(range(first_nb,len(columns_to_explore)+1)):\n",
    "        columns = n_columns(columns_to_explore,i)\n",
    "        res = build_XGBoost_model_80_20(dataframe,dataframe['is_duplicate'],columns,show = show)\n",
    "        cur_logloss = res['logloss_proba']\n",
    "        if cur_logloss<min_log_loss:\n",
    "            print_info(\"%d:%.4f %s\" % (i,cur_logloss,columns))\n",
    "            min_log_loss = cur_logloss\n",
    "            best_cols = columns\n",
    "            best = i\n",
    "        else:\n",
    "            print_warning(\"%d:%.4f\" % (i,cur_logloss))\n",
    "        res.update( {'columns':columns})\n",
    "        res_final.update({str(i):res})\n",
    "    print_info('Best: %d %.4f %s' % (best,min_log_loss,best_cols))\n",
    "    print_done('Done',top=start)\n",
    "    return pandas.DataFrame.from_dict(res_final, orient='index')\n",
    "\n",
    "# try to reload from cache an exploration\n",
    "# if not available, redo it and save results in cache\n",
    "# find the best result according to a metric (default logloss_proba)\n",
    "# and submit it to kaggle\n",
    "def study_fields(message,tag,columns,train_df,challenge_df,explore=True,show=False):\n",
    "    print_section(message)\n",
    "    results = load_or_build_dataframe('Rebuild XGBoost models',tag + '_results',lambda df:xgboost_all_fields_80_20(df,columns,explore=explore,show=show),train_df)\n",
    "    save_models_dict_to_excel(results,tag=tag)\n",
    "    display(results.describe())\n",
    "    submit_best_result(results,challenge_df,'Best_'+tag,'Best ' + tag)\n",
    "    return results"
   ]
  },
  {
   "source": [
    "Let's build a model \n",
    "* with all features \n",
    "* no exploration : current exploration is just adding one field at a time and is quite useless now\n",
    "* show progression of the training"
   ],
   "cell_type": "markdown",
   "metadata": {}
  },
  {
   "cell_type": "code",
   "execution_count": 32,
   "metadata": {},
   "outputs": [
    {
     "output_type": "display_data",
     "data": {
      "text/plain": "<IPython.core.display.HTML object>",
      "text/html": "<b>Everything we have</b>"
     },
     "metadata": {
      "text/html": {
       "isolated": true
      }
     }
    },
    {
     "output_type": "display_data",
     "data": {
      "text/plain": "<IPython.core.display.HTML object>",
      "text/html": "<HR>"
     },
     "metadata": {
      "text/html": {
       "isolated": true
      }
     }
    },
    {
     "output_type": "display_data",
     "data": {
      "text/plain": "<IPython.core.display.HTML object>",
      "text/html": "<b>Rebuild XGBoost models: Load or rebuild everything_xgboost_results</b>"
     },
     "metadata": {
      "text/html": {
       "isolated": true
      }
     }
    },
    {
     "output_type": "display_data",
     "data": {
      "text/plain": "<IPython.core.display.HTML object>",
      "text/html": "<HR>"
     },
     "metadata": {
      "text/html": {
       "isolated": true
      }
     }
    },
    {
     "output_type": "display_data",
     "data": {
      "text/plain": "<IPython.core.display.HTML object>",
      "text/html": "<span style=\"color:LIGHTSALMON\"><small>!!!!! ../playbox/everything_xgboost_results.pkl does not exists!!!</small></span>"
     },
     "metadata": {
      "text/html": {
       "isolated": true
      }
     }
    },
    {
     "output_type": "display_data",
     "data": {
      "text/plain": "<IPython.core.display.HTML object>",
      "text/html": "<span style=\"color:LIGHTSALMON\"><small>Rebuild and save it</small></span>"
     },
     "metadata": {
      "text/html": {
       "isolated": true
      }
     }
    },
    {
     "output_type": "display_data",
     "data": {
      "text/plain": "<IPython.core.display.HTML object>",
      "text/html": "<b>XGBoost (80,20) on 105 fields</b>"
     },
     "metadata": {
      "text/html": {
       "isolated": true
      }
     }
    },
    {
     "output_type": "display_data",
     "data": {
      "text/plain": "<IPython.core.display.HTML object>",
      "text/html": "<HR>"
     },
     "metadata": {
      "text/html": {
       "isolated": true
      }
     }
    },
    {
     "output_type": "display_data",
     "data": {
      "text/plain": "HBox(children=(FloatProgress(value=0.0, max=1.0), HTML(value='')))",
      "application/vnd.jupyter.widget-view+json": {
       "version_major": 2,
       "version_minor": 0,
       "model_id": "24d6696658734a46b95b83f8f442b8ac"
      }
     },
     "metadata": {}
    },
    {
     "output_type": "stream",
     "name": "stdout",
     "text": [
      "[0]\ttrain-logloss:0.68234\tvalid-logloss:0.68243\n",
      "Multiple eval metrics have been passed: 'valid-logloss' will be used for early stopping.\n",
      "\n",
      "Will train until valid-logloss hasn't improved in 50 rounds.\n",
      "[10]\ttrain-logloss:0.59471\tvalid-logloss:0.59544\n",
      "[20]\ttrain-logloss:0.53297\tvalid-logloss:0.53387\n",
      "[30]\ttrain-logloss:0.48765\tvalid-logloss:0.48892\n",
      "[40]\ttrain-logloss:0.45370\tvalid-logloss:0.45522\n",
      "[50]\ttrain-logloss:0.42781\tvalid-logloss:0.42951\n",
      "[60]\ttrain-logloss:0.40781\tvalid-logloss:0.40965\n",
      "[70]\ttrain-logloss:0.39224\tvalid-logloss:0.39424\n",
      "[80]\ttrain-logloss:0.38007\tvalid-logloss:0.38211\n",
      "[90]\ttrain-logloss:0.37037\tvalid-logloss:0.37252\n",
      "[100]\ttrain-logloss:0.36272\tvalid-logloss:0.36494\n",
      "[110]\ttrain-logloss:0.35657\tvalid-logloss:0.35895\n",
      "[120]\ttrain-logloss:0.35168\tvalid-logloss:0.35400\n",
      "[130]\ttrain-logloss:0.34763\tvalid-logloss:0.35007\n",
      "[140]\ttrain-logloss:0.34435\tvalid-logloss:0.34685\n",
      "[150]\ttrain-logloss:0.34167\tvalid-logloss:0.34416\n",
      "[160]\ttrain-logloss:0.33938\tvalid-logloss:0.34201\n",
      "[170]\ttrain-logloss:0.33766\tvalid-logloss:0.34023\n",
      "[180]\ttrain-logloss:0.33611\tvalid-logloss:0.33880\n",
      "[190]\ttrain-logloss:0.33489\tvalid-logloss:0.33759\n",
      "[200]\ttrain-logloss:0.33380\tvalid-logloss:0.33653\n",
      "[210]\ttrain-logloss:0.33290\tvalid-logloss:0.33564\n",
      "[220]\ttrain-logloss:0.33209\tvalid-logloss:0.33484\n",
      "[230]\ttrain-logloss:0.33140\tvalid-logloss:0.33413\n",
      "[240]\ttrain-logloss:0.33071\tvalid-logloss:0.33348\n",
      "[250]\ttrain-logloss:0.33006\tvalid-logloss:0.33287\n",
      "[260]\ttrain-logloss:0.32950\tvalid-logloss:0.33234\n",
      "[270]\ttrain-logloss:0.32899\tvalid-logloss:0.33189\n",
      "[280]\ttrain-logloss:0.32855\tvalid-logloss:0.33146\n",
      "[290]\ttrain-logloss:0.32807\tvalid-logloss:0.33102\n",
      "[300]\ttrain-logloss:0.32764\tvalid-logloss:0.33059\n",
      "[310]\ttrain-logloss:0.32720\tvalid-logloss:0.33017\n",
      "[320]\ttrain-logloss:0.32661\tvalid-logloss:0.32962\n",
      "[330]\ttrain-logloss:0.32617\tvalid-logloss:0.32921\n",
      "[340]\ttrain-logloss:0.32572\tvalid-logloss:0.32878\n",
      "[350]\ttrain-logloss:0.32529\tvalid-logloss:0.32838\n",
      "[360]\ttrain-logloss:0.32488\tvalid-logloss:0.32800\n",
      "[370]\ttrain-logloss:0.32447\tvalid-logloss:0.32761\n",
      "[380]\ttrain-logloss:0.32410\tvalid-logloss:0.32727\n",
      "[390]\ttrain-logloss:0.32376\tvalid-logloss:0.32694\n",
      "[399]\ttrain-logloss:0.32344\tvalid-logloss:0.32664\n"
     ]
    },
    {
     "output_type": "display_data",
     "data": {
      "text/plain": "<IPython.core.display.HTML object>",
      "text/html": "<span style=\"color:LIMEGREEN\"><small>Classification report</small></span>"
     },
     "metadata": {
      "text/html": {
       "isolated": true
      }
     }
    },
    {
     "output_type": "stream",
     "name": "stdout",
     "text": [
      "              precision    recall  f1-score   support\n\n           0       0.84      0.98      0.91 66475.35427891841\n           1       0.63      0.14      0.22 14213.525233116525\n\n    accuracy                           0.83 80688.87951203494\n   macro avg       0.74      0.56      0.57 80688.87951203494\nweighted avg       0.81      0.83      0.79 80688.87951203494\n\n"
     ]
    },
    {
     "output_type": "display_data",
     "data": {
      "text/plain": "<IPython.core.display.HTML object>",
      "text/html": "<span style=\"color:LIMEGREEN\"><small>logloss_proba 0.3267 | score 0.7866 | accuracy 0.8340 | time 91.56</small></span>"
     },
     "metadata": {
      "text/html": {
       "isolated": true
      }
     }
    },
    {
     "output_type": "display_data",
     "data": {
      "text/plain": "<IPython.core.display.HTML object>",
      "text/html": "<span style=\"color:LIMEGREEN\"><small>105:0.3267 ['nb_words_question1', 'nb_words_question2', 'nb_common_words', 'nb_common_words/nb_words_question1', 'nb_common_words/nb_words_question2', 'nb_words_question1-common_words', 'nb_words_question2-common_words', 'nb_common_words/(nb_words_question1+nb_words_question2)', 'nltk_nb_words_question1', 'nltk_nb_words_question2', 'nltk_nb_common_words', 'nltk_nb_common_words/nltk_nb_words_question1', 'nltk_nb_common_words/nltk_nb_words_question2', 'nltk_nb_words_question1-nltk_common_words', 'nltk_nb_words_question2-nltk_common_words', 'nltk_nb_common_words/(nltk_nb_words_question1+nltk_nb_words_question2)', 'all_nb_words_question1', 'all_nb_words_question2', 'all_nb_common_words', 'all_nb_common_words/all_nb_words_question1', 'all_nb_common_words/all_nb_words_question2', 'all_nb_words_question1-all_common_words', 'all_nb_words_question2-all_common_words', 'all_nb_common_words/(all_nb_words_question1+all_nb_words_question2)', 'nb_unknown_question1', 'nb_unknown_question2', 'clean_all_nb_words_question1', 'clean_all_nb_words_question2', 'clean_all_nb_common_words', 'clean_all_nb_common_words/clean_all_nb_words_question1', 'clean_all_nb_common_words/clean_all_nb_words_question2', 'clean_all_nb_words_question1-clean_all_common_words', 'clean_all_nb_words_question2-clean_all_common_words', 'clean_all_nb_common_words/(clean_all_nb_words_question1+clean_all_nb_words_question2)', 'nb_entities_GPE_question1', 'nb_entities_PERSON_question1', 'nb_entities_PRODUCT_question1', 'nb_entities_ORG_question1', 'nb_entities_DATE_question1', 'nb_entities_NORP_question1', 'nb_entities_WORK_OF_ART_question1', 'nb_entities_LANGUAGE_question1', 'nb_entities_EVENT_question1', 'nb_entities_FAC_question1', 'nb_entities_LAW_question1', 'nb_entities_LOC_question1', 'nb_entities_GPE_question2', 'nb_entities_PERSON_question2', 'nb_entities_PRODUCT_question2', 'nb_entities_ORG_question2', 'nb_entities_DATE_question2', 'nb_entities_NORP_question2', 'nb_entities_WORK_OF_ART_question2', 'nb_entities_LANGUAGE_question2', 'nb_entities_EVENT_question2', 'nb_entities_FAC_question2', 'nb_entities_LAW_question2', 'nb_entities_LOC_question2', 'nb_entities_common_GPE', 'nb_entities_common_PERSON', 'nb_entities_common_PRODUCT', 'nb_entities_common_ORG', 'nb_entities_common_DATE', 'nb_entities_common_NORP', 'nb_entities_common_WORK_OF_ART', 'nb_entities_common_LANGUAGE', 'nb_entities_common_EVENT', 'nb_entities_common_FAC', 'nb_entities_common_LAW', 'nb_entities_common_LOC', 'ratio_nb_entities_common_GPE', 'ratio_nb_entities_common_PERSON', 'ratio_nb_entities_common_PRODUCT', 'ratio_nb_entities_common_ORG', 'ratio_nb_entities_common_DATE', 'ratio_nb_entities_common_NORP', 'ratio_nb_entities_common_WORK_OF_ART', 'ratio_nb_entities_common_LANGUAGE', 'ratio_nb_entities_common_EVENT', 'ratio_nb_entities_common_FAC', 'ratio_nb_entities_common_LAW', 'ratio_nb_entities_common_LOC', 'lemmatized_nb_words_question1', 'lemmatized_nb_words_question2', 'lemmatized_nb_common_words', 'lemmatized_nb_common_words/lemmatized_nb_words_question1', 'lemmatized_nb_common_words/lemmatized_nb_words_question2', 'lemmatized_nb_words_question1-lemmatized_common_words', 'lemmatized_nb_words_question2-lemmatized_common_words', 'lemmatized_nb_common_words/(lemmatized_nb_words_question1+lemmatized_nb_words_question2)', 'proba_religion_question1', 'proba_computers_question1', 'proba_forsale_question1', 'proba_vehicles_question1', 'proba_sport_question1', 'proba_science_question1', 'proba_politics_question1', 'proba_religion_question2', 'proba_computers_question2', 'proba_forsale_question2', 'proba_vehicles_question2', 'proba_sport_question2', 'proba_science_question2', 'proba_politics_question2', 'spacy_similarity']</small></span>"
     },
     "metadata": {
      "text/html": {
       "isolated": true
      }
     }
    },
    {
     "output_type": "stream",
     "name": "stdout",
     "text": [
      "\n"
     ]
    },
    {
     "output_type": "display_data",
     "data": {
      "text/plain": "<IPython.core.display.HTML object>",
      "text/html": "<span style=\"color:LIMEGREEN\"><small>Best: 105 0.3267 ['nb_words_question1', 'nb_words_question2', 'nb_common_words', 'nb_common_words/nb_words_question1', 'nb_common_words/nb_words_question2', 'nb_words_question1-common_words', 'nb_words_question2-common_words', 'nb_common_words/(nb_words_question1+nb_words_question2)', 'nltk_nb_words_question1', 'nltk_nb_words_question2', 'nltk_nb_common_words', 'nltk_nb_common_words/nltk_nb_words_question1', 'nltk_nb_common_words/nltk_nb_words_question2', 'nltk_nb_words_question1-nltk_common_words', 'nltk_nb_words_question2-nltk_common_words', 'nltk_nb_common_words/(nltk_nb_words_question1+nltk_nb_words_question2)', 'all_nb_words_question1', 'all_nb_words_question2', 'all_nb_common_words', 'all_nb_common_words/all_nb_words_question1', 'all_nb_common_words/all_nb_words_question2', 'all_nb_words_question1-all_common_words', 'all_nb_words_question2-all_common_words', 'all_nb_common_words/(all_nb_words_question1+all_nb_words_question2)', 'nb_unknown_question1', 'nb_unknown_question2', 'clean_all_nb_words_question1', 'clean_all_nb_words_question2', 'clean_all_nb_common_words', 'clean_all_nb_common_words/clean_all_nb_words_question1', 'clean_all_nb_common_words/clean_all_nb_words_question2', 'clean_all_nb_words_question1-clean_all_common_words', 'clean_all_nb_words_question2-clean_all_common_words', 'clean_all_nb_common_words/(clean_all_nb_words_question1+clean_all_nb_words_question2)', 'nb_entities_GPE_question1', 'nb_entities_PERSON_question1', 'nb_entities_PRODUCT_question1', 'nb_entities_ORG_question1', 'nb_entities_DATE_question1', 'nb_entities_NORP_question1', 'nb_entities_WORK_OF_ART_question1', 'nb_entities_LANGUAGE_question1', 'nb_entities_EVENT_question1', 'nb_entities_FAC_question1', 'nb_entities_LAW_question1', 'nb_entities_LOC_question1', 'nb_entities_GPE_question2', 'nb_entities_PERSON_question2', 'nb_entities_PRODUCT_question2', 'nb_entities_ORG_question2', 'nb_entities_DATE_question2', 'nb_entities_NORP_question2', 'nb_entities_WORK_OF_ART_question2', 'nb_entities_LANGUAGE_question2', 'nb_entities_EVENT_question2', 'nb_entities_FAC_question2', 'nb_entities_LAW_question2', 'nb_entities_LOC_question2', 'nb_entities_common_GPE', 'nb_entities_common_PERSON', 'nb_entities_common_PRODUCT', 'nb_entities_common_ORG', 'nb_entities_common_DATE', 'nb_entities_common_NORP', 'nb_entities_common_WORK_OF_ART', 'nb_entities_common_LANGUAGE', 'nb_entities_common_EVENT', 'nb_entities_common_FAC', 'nb_entities_common_LAW', 'nb_entities_common_LOC', 'ratio_nb_entities_common_GPE', 'ratio_nb_entities_common_PERSON', 'ratio_nb_entities_common_PRODUCT', 'ratio_nb_entities_common_ORG', 'ratio_nb_entities_common_DATE', 'ratio_nb_entities_common_NORP', 'ratio_nb_entities_common_WORK_OF_ART', 'ratio_nb_entities_common_LANGUAGE', 'ratio_nb_entities_common_EVENT', 'ratio_nb_entities_common_FAC', 'ratio_nb_entities_common_LAW', 'ratio_nb_entities_common_LOC', 'lemmatized_nb_words_question1', 'lemmatized_nb_words_question2', 'lemmatized_nb_common_words', 'lemmatized_nb_common_words/lemmatized_nb_words_question1', 'lemmatized_nb_common_words/lemmatized_nb_words_question2', 'lemmatized_nb_words_question1-lemmatized_common_words', 'lemmatized_nb_words_question2-lemmatized_common_words', 'lemmatized_nb_common_words/(lemmatized_nb_words_question1+lemmatized_nb_words_question2)', 'proba_religion_question1', 'proba_computers_question1', 'proba_forsale_question1', 'proba_vehicles_question1', 'proba_sport_question1', 'proba_science_question1', 'proba_politics_question1', 'proba_religion_question2', 'proba_computers_question2', 'proba_forsale_question2', 'proba_vehicles_question2', 'proba_sport_question2', 'proba_science_question2', 'proba_politics_question2', 'spacy_similarity']</small></span>"
     },
     "metadata": {
      "text/html": {
       "isolated": true
      }
     }
    },
    {
     "output_type": "display_data",
     "data": {
      "text/plain": "<IPython.core.display.HTML object>",
      "text/html": "<span style=\"color:LIMEGREEN\"><small><b><i>Done in 93.6 s</i></b><p></p></small></span>"
     },
     "metadata": {
      "text/html": {
       "isolated": true
      }
     }
    },
    {
     "output_type": "display_data",
     "data": {
      "text/plain": "<IPython.core.display.HTML object>",
      "text/html": "<span style=\"color:LIMEGREEN\"><small>Save everything_xgboost_results</small></span>"
     },
     "metadata": {
      "text/html": {
       "isolated": true
      }
     }
    },
    {
     "output_type": "display_data",
     "data": {
      "text/plain": "<IPython.core.display.HTML object>",
      "text/html": "<span style=\"color:LIMEGREEN\"><small><b><i>Done:everything_xgboost_results contains 1 lines in 93.6 s</i></b><p></p></small></span>"
     },
     "metadata": {
      "text/html": {
       "isolated": true
      }
     }
    },
    {
     "output_type": "display_data",
     "data": {
      "text/plain": "<IPython.core.display.HTML object>",
      "text/html": "<b>save 1 results in ../playbox/playbox_everything_xgboost.xlsx</b>"
     },
     "metadata": {
      "text/html": {
       "isolated": true
      }
     }
    },
    {
     "output_type": "display_data",
     "data": {
      "text/plain": "<IPython.core.display.HTML object>",
      "text/html": "<HR>"
     },
     "metadata": {
      "text/html": {
       "isolated": true
      }
     }
    },
    {
     "output_type": "display_data",
     "data": {
      "text/plain": "<IPython.core.display.HTML object>",
      "text/html": "<span style=\"color:LIMEGREEN\"><small><b><i>Done</i></b><p></p></small></span>"
     },
     "metadata": {
      "text/html": {
       "isolated": true
      }
     }
    },
    {
     "output_type": "display_data",
     "data": {
      "text/plain": "       accuracy     score  logloss_proba       time\ncount  1.000000  1.000000       1.000000   1.000000\nmean   0.833984  0.786622       0.326652  91.557519\nstd         NaN       NaN            NaN        NaN\nmin    0.833984  0.786622       0.326652  91.557519\n25%    0.833984  0.786622       0.326652  91.557519\n50%    0.833984  0.786622       0.326652  91.557519\n75%    0.833984  0.786622       0.326652  91.557519\nmax    0.833984  0.786622       0.326652  91.557519",
      "text/html": "<div>\n<style scoped>\n    .dataframe tbody tr th:only-of-type {\n        vertical-align: middle;\n    }\n\n    .dataframe tbody tr th {\n        vertical-align: top;\n    }\n\n    .dataframe thead th {\n        text-align: right;\n    }\n</style>\n<table border=\"1\" class=\"dataframe\">\n  <thead>\n    <tr style=\"text-align: right;\">\n      <th></th>\n      <th>accuracy</th>\n      <th>score</th>\n      <th>logloss_proba</th>\n      <th>time</th>\n    </tr>\n  </thead>\n  <tbody>\n    <tr>\n      <th>count</th>\n      <td>1.000000</td>\n      <td>1.000000</td>\n      <td>1.000000</td>\n      <td>1.000000</td>\n    </tr>\n    <tr>\n      <th>mean</th>\n      <td>0.833984</td>\n      <td>0.786622</td>\n      <td>0.326652</td>\n      <td>91.557519</td>\n    </tr>\n    <tr>\n      <th>std</th>\n      <td>NaN</td>\n      <td>NaN</td>\n      <td>NaN</td>\n      <td>NaN</td>\n    </tr>\n    <tr>\n      <th>min</th>\n      <td>0.833984</td>\n      <td>0.786622</td>\n      <td>0.326652</td>\n      <td>91.557519</td>\n    </tr>\n    <tr>\n      <th>25%</th>\n      <td>0.833984</td>\n      <td>0.786622</td>\n      <td>0.326652</td>\n      <td>91.557519</td>\n    </tr>\n    <tr>\n      <th>50%</th>\n      <td>0.833984</td>\n      <td>0.786622</td>\n      <td>0.326652</td>\n      <td>91.557519</td>\n    </tr>\n    <tr>\n      <th>75%</th>\n      <td>0.833984</td>\n      <td>0.786622</td>\n      <td>0.326652</td>\n      <td>91.557519</td>\n    </tr>\n    <tr>\n      <th>max</th>\n      <td>0.833984</td>\n      <td>0.786622</td>\n      <td>0.326652</td>\n      <td>91.557519</td>\n    </tr>\n  </tbody>\n</table>\n</div>"
     },
     "metadata": {}
    },
    {
     "output_type": "display_data",
     "data": {
      "text/plain": "<IPython.core.display.HTML object>",
      "text/html": "<b>Scoring XGBoost model with best logloss_proba: Best everything_xgboost</b>"
     },
     "metadata": {
      "text/html": {
       "isolated": true
      }
     }
    },
    {
     "output_type": "display_data",
     "data": {
      "text/plain": "<IPython.core.display.HTML object>",
      "text/html": "<HR>"
     },
     "metadata": {
      "text/html": {
       "isolated": true
      }
     }
    },
    {
     "output_type": "display_data",
     "data": {
      "text/plain": "<IPython.core.display.HTML object>",
      "text/html": "<span style=\"color:LIMEGREEN\"><small>Generating scores in /SAPDevelop/QuoraPairs/playbox/Best_everything_xgboost.csv</small></span>"
     },
     "metadata": {
      "text/html": {
       "isolated": true
      }
     }
    },
    {
     "output_type": "display_data",
     "data": {
      "text/plain": "<IPython.core.display.HTML object>",
      "text/html": "<span style=\"color:LIMEGREEN\"><small>Zipping file</small></span>"
     },
     "metadata": {
      "text/html": {
       "isolated": true
      }
     }
    },
    {
     "output_type": "display_data",
     "data": {
      "text/plain": "<IPython.core.display.HTML object>",
      "text/html": "<span style=\"color:LIMEGREEN\"><small><b><i>Done in 23.3 s</i></b><p></p></small></span>"
     },
     "metadata": {
      "text/html": {
       "isolated": true
      }
     }
    },
    {
     "output_type": "display_data",
     "data": {
      "text/plain": "<IPython.core.display.HTML object>",
      "text/html": "<span style=\"color:LIMEGREEN\"><small>/SAPDevelop/QuoraPairs/playbox/Best_everything_xgboost.zip is ready</small></span>"
     },
     "metadata": {
      "text/html": {
       "isolated": true
      }
     }
    },
    {
     "output_type": "display_data",
     "data": {
      "text/plain": "<IPython.core.display.HTML object>",
      "text/html": "<span style=\"color:LIGHTSALMON\"><small>Use this commands to submit apply results to kaggle</small></span>"
     },
     "metadata": {
      "text/html": {
       "isolated": true
      }
     }
    },
    {
     "output_type": "display_data",
     "data": {
      "text/plain": "<IPython.core.display.HTML object>",
      "text/html": "<span style=\"color:LIGHTSALMON\"><small>kaggle competitions submit quora-question-pairs -f \"/SAPDevelop/QuoraPairs/playbox/Best_everything_xgboost.zip\" -m \"playbox Best everything_xgboost\"</small></span>"
     },
     "metadata": {
      "text/html": {
       "isolated": true
      }
     }
    }
   ],
   "source": [
    "xgboost_everything_results = study_fields(\n",
    "    'Everything we have',\n",
    "    'everything_xgboost',\n",
    "    ALL_FEATURES,\n",
    "    train_dataframe,\n",
    "    challenge_dataframe,\n",
    "    explore = False,\n",
    "    show = True)"
   ]
  },
  {
   "source": [
    "This is currently our best model according to kaggle:\n",
    "* public score: 0.33623\n",
    "* private score: 0.33861\n",
    "\n",
    "These scores are in the 20 % best scores from all teams\n",
    "\n",
    "**However**, this is the kaggle score. What about the usual metrics for classification ? \n",
    "\n",
    "For example, confusion matrix ...\n",
    "\n",
    "1. XGBoost outputs only probabilities\n",
    "2. A threshold must be applied to decide if prediction is 1 or 0. Default is obviously 0.5"
   ],
   "cell_type": "markdown",
   "metadata": {}
  },
  {
   "cell_type": "code",
   "execution_count": 71,
   "metadata": {},
   "outputs": [],
   "source": [
    "# Get back our model\n",
    "model = xgboost_everything_results['model'][0]\n",
    "# do the usual split (80,20)\n",
    "input_train,input_test,target_train,target_test = train_test_split(train_dataframe,train_dataframe['is_duplicate'],random_state=42,test_size=0.2)\n",
    "test_probabilities = model.predict(xgboost.DMatrix(input_test[ALL_FEATURES]),ntree_limit=model.best_ntree_limit)\n",
    "train_probabilities = model.predict(xgboost.DMatrix(input_train[ALL_FEATURES]),ntree_limit=model.best_ntree_limit)\n",
    "\n",
    "# Apply the usual threshold\n",
    "test_predictions = numpy.where(test_probabilities>0.5,1,0)\n",
    "train_predictions = numpy.where(train_probabilities>0.5,1,0)"
   ]
  },
  {
   "source": [
    "What do we have in predictions ?"
   ],
   "cell_type": "markdown",
   "metadata": {}
  },
  {
   "cell_type": "code",
   "execution_count": 72,
   "metadata": {},
   "outputs": [
    {
     "output_type": "display_data",
     "data": {
      "text/plain": "<IPython.core.display.HTML object>",
      "text/html": "<span style=\"color:LIMEGREEN\"><small>On test % of true duplicates is 0.372</small></span>"
     },
     "metadata": {
      "text/html": {
       "isolated": true
      }
     }
    },
    {
     "output_type": "display_data",
     "data": {
      "text/plain": "<IPython.core.display.HTML object>",
      "text/html": "<span style=\"color:LIGHTSALMON\"><small>On test % of predicted duplicates is 0.061 !!</small></span>"
     },
     "metadata": {
      "text/html": {
       "isolated": true
      }
     }
    },
    {
     "output_type": "display_data",
     "data": {
      "text/plain": "<IPython.core.display.HTML object>",
      "text/html": "<span style=\"color:LIMEGREEN\"><small>On train % of true duplicates is 0.369</small></span>"
     },
     "metadata": {
      "text/html": {
       "isolated": true
      }
     }
    },
    {
     "output_type": "display_data",
     "data": {
      "text/plain": "<IPython.core.display.HTML object>",
      "text/html": "<span style=\"color:LIGHTSALMON\"><small>On train % of predicted duplicates is 0.059 !!</small></span>"
     },
     "metadata": {
      "text/html": {
       "isolated": true
      }
     }
    }
   ],
   "source": [
    "print_info('On test %% of true duplicates is %.3f' % target_test.mean())\n",
    "print_warning('On test %% of predicted duplicates is %.3f !!' % test_predictions.mean())\n",
    "\n",
    "print_info('On train %% of true duplicates is %.3f' % target_train.mean())\n",
    "print_warning('On train %% of predicted duplicates is %.3f !!' % train_predictions.mean())"
   ]
  },
  {
   "source": [
    "Looks like we have a calibration issue\n",
    "\n",
    "Let's check it with a reliability graph (or calibration curve)"
   ],
   "cell_type": "markdown",
   "metadata": {}
  },
  {
   "cell_type": "code",
   "execution_count": 101,
   "metadata": {},
   "outputs": [
    {
     "output_type": "display_data",
     "data": {
      "text/plain": "<Figure size 432x288 with 1 Axes>",
      "image/svg+xml": "<?xml version=\"1.0\" encoding=\"utf-8\" standalone=\"no\"?>\n<!DOCTYPE svg PUBLIC \"-//W3C//DTD SVG 1.1//EN\"\n  \"http://www.w3.org/Graphics/SVG/1.1/DTD/svg11.dtd\">\n<!-- Created with matplotlib (https://matplotlib.org/) -->\n<svg height=\"277.314375pt\" version=\"1.1\" viewBox=\"0 0 385.78125 277.314375\" width=\"385.78125pt\" xmlns=\"http://www.w3.org/2000/svg\" xmlns:xlink=\"http://www.w3.org/1999/xlink\">\n <defs>\n  <style type=\"text/css\">\n*{stroke-linecap:butt;stroke-linejoin:round;}\n  </style>\n </defs>\n <g id=\"figure_1\">\n  <g id=\"patch_1\">\n   <path d=\"M 0 277.314375 \nL 385.78125 277.314375 \nL 385.78125 0 \nL 0 0 \nz\n\" style=\"fill:none;\"/>\n  </g>\n  <g id=\"axes_1\">\n   <g id=\"patch_2\">\n    <path d=\"M 43.78125 239.758125 \nL 378.58125 239.758125 \nL 378.58125 22.318125 \nL 43.78125 22.318125 \nz\n\" style=\"fill:#ffffff;\"/>\n   </g>\n   <g id=\"matplotlib.axis_1\">\n    <g id=\"xtick_1\">\n     <g id=\"line2d_1\">\n      <defs>\n       <path d=\"M 0 0 \nL 0 3.5 \n\" id=\"m7b3aacadb2\" style=\"stroke:#000000;stroke-width:0.8;\"/>\n      </defs>\n      <g>\n       <use style=\"stroke:#000000;stroke-width:0.8;\" x=\"58.999432\" xlink:href=\"#m7b3aacadb2\" y=\"239.758125\"/>\n      </g>\n     </g>\n     <g id=\"text_1\">\n      <!-- 0.0 -->\n      <defs>\n       <path d=\"M 31.78125 66.40625 \nQ 24.171875 66.40625 20.328125 58.90625 \nQ 16.5 51.421875 16.5 36.375 \nQ 16.5 21.390625 20.328125 13.890625 \nQ 24.171875 6.390625 31.78125 6.390625 \nQ 39.453125 6.390625 43.28125 13.890625 \nQ 47.125 21.390625 47.125 36.375 \nQ 47.125 51.421875 43.28125 58.90625 \nQ 39.453125 66.40625 31.78125 66.40625 \nz\nM 31.78125 74.21875 \nQ 44.046875 74.21875 50.515625 64.515625 \nQ 56.984375 54.828125 56.984375 36.375 \nQ 56.984375 17.96875 50.515625 8.265625 \nQ 44.046875 -1.421875 31.78125 -1.421875 \nQ 19.53125 -1.421875 13.0625 8.265625 \nQ 6.59375 17.96875 6.59375 36.375 \nQ 6.59375 54.828125 13.0625 64.515625 \nQ 19.53125 74.21875 31.78125 74.21875 \nz\n\" id=\"DejaVuSans-48\"/>\n       <path d=\"M 10.6875 12.40625 \nL 21 12.40625 \nL 21 0 \nL 10.6875 0 \nz\n\" id=\"DejaVuSans-46\"/>\n      </defs>\n      <g transform=\"translate(51.047869 254.356562)scale(0.1 -0.1)\">\n       <use xlink:href=\"#DejaVuSans-48\"/>\n       <use x=\"63.623047\" xlink:href=\"#DejaVuSans-46\"/>\n       <use x=\"95.410156\" xlink:href=\"#DejaVuSans-48\"/>\n      </g>\n     </g>\n    </g>\n    <g id=\"xtick_2\">\n     <g id=\"line2d_2\">\n      <g>\n       <use style=\"stroke:#000000;stroke-width:0.8;\" x=\"97.197234\" xlink:href=\"#m7b3aacadb2\" y=\"239.758125\"/>\n      </g>\n     </g>\n     <g id=\"text_2\">\n      <!-- 0.1 -->\n      <defs>\n       <path d=\"M 12.40625 8.296875 \nL 28.515625 8.296875 \nL 28.515625 63.921875 \nL 10.984375 60.40625 \nL 10.984375 69.390625 \nL 28.421875 72.90625 \nL 38.28125 72.90625 \nL 38.28125 8.296875 \nL 54.390625 8.296875 \nL 54.390625 0 \nL 12.40625 0 \nz\n\" id=\"DejaVuSans-49\"/>\n      </defs>\n      <g transform=\"translate(89.245671 254.356562)scale(0.1 -0.1)\">\n       <use xlink:href=\"#DejaVuSans-48\"/>\n       <use x=\"63.623047\" xlink:href=\"#DejaVuSans-46\"/>\n       <use x=\"95.410156\" xlink:href=\"#DejaVuSans-49\"/>\n      </g>\n     </g>\n    </g>\n    <g id=\"xtick_3\">\n     <g id=\"line2d_3\">\n      <g>\n       <use style=\"stroke:#000000;stroke-width:0.8;\" x=\"135.395035\" xlink:href=\"#m7b3aacadb2\" y=\"239.758125\"/>\n      </g>\n     </g>\n     <g id=\"text_3\">\n      <!-- 0.2 -->\n      <defs>\n       <path d=\"M 19.1875 8.296875 \nL 53.609375 8.296875 \nL 53.609375 0 \nL 7.328125 0 \nL 7.328125 8.296875 \nQ 12.9375 14.109375 22.625 23.890625 \nQ 32.328125 33.6875 34.8125 36.53125 \nQ 39.546875 41.84375 41.421875 45.53125 \nQ 43.3125 49.21875 43.3125 52.78125 \nQ 43.3125 58.59375 39.234375 62.25 \nQ 35.15625 65.921875 28.609375 65.921875 \nQ 23.96875 65.921875 18.8125 64.3125 \nQ 13.671875 62.703125 7.8125 59.421875 \nL 7.8125 69.390625 \nQ 13.765625 71.78125 18.9375 73 \nQ 24.125 74.21875 28.421875 74.21875 \nQ 39.75 74.21875 46.484375 68.546875 \nQ 53.21875 62.890625 53.21875 53.421875 \nQ 53.21875 48.921875 51.53125 44.890625 \nQ 49.859375 40.875 45.40625 35.40625 \nQ 44.1875 33.984375 37.640625 27.21875 \nQ 31.109375 20.453125 19.1875 8.296875 \nz\n\" id=\"DejaVuSans-50\"/>\n      </defs>\n      <g transform=\"translate(127.443473 254.356562)scale(0.1 -0.1)\">\n       <use xlink:href=\"#DejaVuSans-48\"/>\n       <use x=\"63.623047\" xlink:href=\"#DejaVuSans-46\"/>\n       <use x=\"95.410156\" xlink:href=\"#DejaVuSans-50\"/>\n      </g>\n     </g>\n    </g>\n    <g id=\"xtick_4\">\n     <g id=\"line2d_4\">\n      <g>\n       <use style=\"stroke:#000000;stroke-width:0.8;\" x=\"173.592837\" xlink:href=\"#m7b3aacadb2\" y=\"239.758125\"/>\n      </g>\n     </g>\n     <g id=\"text_4\">\n      <!-- 0.3 -->\n      <defs>\n       <path d=\"M 40.578125 39.3125 \nQ 47.65625 37.796875 51.625 33 \nQ 55.609375 28.21875 55.609375 21.1875 \nQ 55.609375 10.40625 48.1875 4.484375 \nQ 40.765625 -1.421875 27.09375 -1.421875 \nQ 22.515625 -1.421875 17.65625 -0.515625 \nQ 12.796875 0.390625 7.625 2.203125 \nL 7.625 11.71875 \nQ 11.71875 9.328125 16.59375 8.109375 \nQ 21.484375 6.890625 26.8125 6.890625 \nQ 36.078125 6.890625 40.9375 10.546875 \nQ 45.796875 14.203125 45.796875 21.1875 \nQ 45.796875 27.640625 41.28125 31.265625 \nQ 36.765625 34.90625 28.71875 34.90625 \nL 20.21875 34.90625 \nL 20.21875 43.015625 \nL 29.109375 43.015625 \nQ 36.375 43.015625 40.234375 45.921875 \nQ 44.09375 48.828125 44.09375 54.296875 \nQ 44.09375 59.90625 40.109375 62.90625 \nQ 36.140625 65.921875 28.71875 65.921875 \nQ 24.65625 65.921875 20.015625 65.03125 \nQ 15.375 64.15625 9.8125 62.3125 \nL 9.8125 71.09375 \nQ 15.4375 72.65625 20.34375 73.4375 \nQ 25.25 74.21875 29.59375 74.21875 \nQ 40.828125 74.21875 47.359375 69.109375 \nQ 53.90625 64.015625 53.90625 55.328125 \nQ 53.90625 49.265625 50.4375 45.09375 \nQ 46.96875 40.921875 40.578125 39.3125 \nz\n\" id=\"DejaVuSans-51\"/>\n      </defs>\n      <g transform=\"translate(165.641274 254.356562)scale(0.1 -0.1)\">\n       <use xlink:href=\"#DejaVuSans-48\"/>\n       <use x=\"63.623047\" xlink:href=\"#DejaVuSans-46\"/>\n       <use x=\"95.410156\" xlink:href=\"#DejaVuSans-51\"/>\n      </g>\n     </g>\n    </g>\n    <g id=\"xtick_5\">\n     <g id=\"line2d_5\">\n      <g>\n       <use style=\"stroke:#000000;stroke-width:0.8;\" x=\"211.790639\" xlink:href=\"#m7b3aacadb2\" y=\"239.758125\"/>\n      </g>\n     </g>\n     <g id=\"text_5\">\n      <!-- 0.4 -->\n      <defs>\n       <path d=\"M 37.796875 64.3125 \nL 12.890625 25.390625 \nL 37.796875 25.390625 \nz\nM 35.203125 72.90625 \nL 47.609375 72.90625 \nL 47.609375 25.390625 \nL 58.015625 25.390625 \nL 58.015625 17.1875 \nL 47.609375 17.1875 \nL 47.609375 0 \nL 37.796875 0 \nL 37.796875 17.1875 \nL 4.890625 17.1875 \nL 4.890625 26.703125 \nz\n\" id=\"DejaVuSans-52\"/>\n      </defs>\n      <g transform=\"translate(203.839076 254.356562)scale(0.1 -0.1)\">\n       <use xlink:href=\"#DejaVuSans-48\"/>\n       <use x=\"63.623047\" xlink:href=\"#DejaVuSans-46\"/>\n       <use x=\"95.410156\" xlink:href=\"#DejaVuSans-52\"/>\n      </g>\n     </g>\n    </g>\n    <g id=\"xtick_6\">\n     <g id=\"line2d_6\">\n      <g>\n       <use style=\"stroke:#000000;stroke-width:0.8;\" x=\"249.98844\" xlink:href=\"#m7b3aacadb2\" y=\"239.758125\"/>\n      </g>\n     </g>\n     <g id=\"text_6\">\n      <!-- 0.5 -->\n      <defs>\n       <path d=\"M 10.796875 72.90625 \nL 49.515625 72.90625 \nL 49.515625 64.59375 \nL 19.828125 64.59375 \nL 19.828125 46.734375 \nQ 21.96875 47.46875 24.109375 47.828125 \nQ 26.265625 48.1875 28.421875 48.1875 \nQ 40.625 48.1875 47.75 41.5 \nQ 54.890625 34.8125 54.890625 23.390625 \nQ 54.890625 11.625 47.5625 5.09375 \nQ 40.234375 -1.421875 26.90625 -1.421875 \nQ 22.3125 -1.421875 17.546875 -0.640625 \nQ 12.796875 0.140625 7.71875 1.703125 \nL 7.71875 11.625 \nQ 12.109375 9.234375 16.796875 8.0625 \nQ 21.484375 6.890625 26.703125 6.890625 \nQ 35.15625 6.890625 40.078125 11.328125 \nQ 45.015625 15.765625 45.015625 23.390625 \nQ 45.015625 31 40.078125 35.4375 \nQ 35.15625 39.890625 26.703125 39.890625 \nQ 22.75 39.890625 18.8125 39.015625 \nQ 14.890625 38.140625 10.796875 36.28125 \nz\n\" id=\"DejaVuSans-53\"/>\n      </defs>\n      <g transform=\"translate(242.036878 254.356562)scale(0.1 -0.1)\">\n       <use xlink:href=\"#DejaVuSans-48\"/>\n       <use x=\"63.623047\" xlink:href=\"#DejaVuSans-46\"/>\n       <use x=\"95.410156\" xlink:href=\"#DejaVuSans-53\"/>\n      </g>\n     </g>\n    </g>\n    <g id=\"xtick_7\">\n     <g id=\"line2d_7\">\n      <g>\n       <use style=\"stroke:#000000;stroke-width:0.8;\" x=\"288.186242\" xlink:href=\"#m7b3aacadb2\" y=\"239.758125\"/>\n      </g>\n     </g>\n     <g id=\"text_7\">\n      <!-- 0.6 -->\n      <defs>\n       <path d=\"M 33.015625 40.375 \nQ 26.375 40.375 22.484375 35.828125 \nQ 18.609375 31.296875 18.609375 23.390625 \nQ 18.609375 15.53125 22.484375 10.953125 \nQ 26.375 6.390625 33.015625 6.390625 \nQ 39.65625 6.390625 43.53125 10.953125 \nQ 47.40625 15.53125 47.40625 23.390625 \nQ 47.40625 31.296875 43.53125 35.828125 \nQ 39.65625 40.375 33.015625 40.375 \nz\nM 52.59375 71.296875 \nL 52.59375 62.3125 \nQ 48.875 64.0625 45.09375 64.984375 \nQ 41.3125 65.921875 37.59375 65.921875 \nQ 27.828125 65.921875 22.671875 59.328125 \nQ 17.53125 52.734375 16.796875 39.40625 \nQ 19.671875 43.65625 24.015625 45.921875 \nQ 28.375 48.1875 33.59375 48.1875 \nQ 44.578125 48.1875 50.953125 41.515625 \nQ 57.328125 34.859375 57.328125 23.390625 \nQ 57.328125 12.15625 50.6875 5.359375 \nQ 44.046875 -1.421875 33.015625 -1.421875 \nQ 20.359375 -1.421875 13.671875 8.265625 \nQ 6.984375 17.96875 6.984375 36.375 \nQ 6.984375 53.65625 15.1875 63.9375 \nQ 23.390625 74.21875 37.203125 74.21875 \nQ 40.921875 74.21875 44.703125 73.484375 \nQ 48.484375 72.75 52.59375 71.296875 \nz\n\" id=\"DejaVuSans-54\"/>\n      </defs>\n      <g transform=\"translate(280.23468 254.356562)scale(0.1 -0.1)\">\n       <use xlink:href=\"#DejaVuSans-48\"/>\n       <use x=\"63.623047\" xlink:href=\"#DejaVuSans-46\"/>\n       <use x=\"95.410156\" xlink:href=\"#DejaVuSans-54\"/>\n      </g>\n     </g>\n    </g>\n    <g id=\"xtick_8\">\n     <g id=\"line2d_8\">\n      <g>\n       <use style=\"stroke:#000000;stroke-width:0.8;\" x=\"326.384044\" xlink:href=\"#m7b3aacadb2\" y=\"239.758125\"/>\n      </g>\n     </g>\n     <g id=\"text_8\">\n      <!-- 0.7 -->\n      <defs>\n       <path d=\"M 8.203125 72.90625 \nL 55.078125 72.90625 \nL 55.078125 68.703125 \nL 28.609375 0 \nL 18.3125 0 \nL 43.21875 64.59375 \nL 8.203125 64.59375 \nz\n\" id=\"DejaVuSans-55\"/>\n      </defs>\n      <g transform=\"translate(318.432481 254.356562)scale(0.1 -0.1)\">\n       <use xlink:href=\"#DejaVuSans-48\"/>\n       <use x=\"63.623047\" xlink:href=\"#DejaVuSans-46\"/>\n       <use x=\"95.410156\" xlink:href=\"#DejaVuSans-55\"/>\n      </g>\n     </g>\n    </g>\n    <g id=\"xtick_9\">\n     <g id=\"line2d_9\">\n      <g>\n       <use style=\"stroke:#000000;stroke-width:0.8;\" x=\"364.581845\" xlink:href=\"#m7b3aacadb2\" y=\"239.758125\"/>\n      </g>\n     </g>\n     <g id=\"text_9\">\n      <!-- 0.8 -->\n      <defs>\n       <path d=\"M 31.78125 34.625 \nQ 24.75 34.625 20.71875 30.859375 \nQ 16.703125 27.09375 16.703125 20.515625 \nQ 16.703125 13.921875 20.71875 10.15625 \nQ 24.75 6.390625 31.78125 6.390625 \nQ 38.8125 6.390625 42.859375 10.171875 \nQ 46.921875 13.96875 46.921875 20.515625 \nQ 46.921875 27.09375 42.890625 30.859375 \nQ 38.875 34.625 31.78125 34.625 \nz\nM 21.921875 38.8125 \nQ 15.578125 40.375 12.03125 44.71875 \nQ 8.5 49.078125 8.5 55.328125 \nQ 8.5 64.0625 14.71875 69.140625 \nQ 20.953125 74.21875 31.78125 74.21875 \nQ 42.671875 74.21875 48.875 69.140625 \nQ 55.078125 64.0625 55.078125 55.328125 \nQ 55.078125 49.078125 51.53125 44.71875 \nQ 48 40.375 41.703125 38.8125 \nQ 48.828125 37.15625 52.796875 32.3125 \nQ 56.78125 27.484375 56.78125 20.515625 \nQ 56.78125 9.90625 50.3125 4.234375 \nQ 43.84375 -1.421875 31.78125 -1.421875 \nQ 19.734375 -1.421875 13.25 4.234375 \nQ 6.78125 9.90625 6.78125 20.515625 \nQ 6.78125 27.484375 10.78125 32.3125 \nQ 14.796875 37.15625 21.921875 38.8125 \nz\nM 18.3125 54.390625 \nQ 18.3125 48.734375 21.84375 45.5625 \nQ 25.390625 42.390625 31.78125 42.390625 \nQ 38.140625 42.390625 41.71875 45.5625 \nQ 45.3125 48.734375 45.3125 54.390625 \nQ 45.3125 60.0625 41.71875 63.234375 \nQ 38.140625 66.40625 31.78125 66.40625 \nQ 25.390625 66.40625 21.84375 63.234375 \nQ 18.3125 60.0625 18.3125 54.390625 \nz\n\" id=\"DejaVuSans-56\"/>\n      </defs>\n      <g transform=\"translate(356.630283 254.356562)scale(0.1 -0.1)\">\n       <use xlink:href=\"#DejaVuSans-48\"/>\n       <use x=\"63.623047\" xlink:href=\"#DejaVuSans-46\"/>\n       <use x=\"95.410156\" xlink:href=\"#DejaVuSans-56\"/>\n      </g>\n     </g>\n    </g>\n    <g id=\"text_10\">\n     <!-- Fraction of positives (Predicted) -->\n     <defs>\n      <path d=\"M 9.8125 72.90625 \nL 51.703125 72.90625 \nL 51.703125 64.59375 \nL 19.671875 64.59375 \nL 19.671875 43.109375 \nL 48.578125 43.109375 \nL 48.578125 34.8125 \nL 19.671875 34.8125 \nL 19.671875 0 \nL 9.8125 0 \nz\n\" id=\"DejaVuSans-70\"/>\n      <path d=\"M 41.109375 46.296875 \nQ 39.59375 47.171875 37.8125 47.578125 \nQ 36.03125 48 33.890625 48 \nQ 26.265625 48 22.1875 43.046875 \nQ 18.109375 38.09375 18.109375 28.8125 \nL 18.109375 0 \nL 9.078125 0 \nL 9.078125 54.6875 \nL 18.109375 54.6875 \nL 18.109375 46.1875 \nQ 20.953125 51.171875 25.484375 53.578125 \nQ 30.03125 56 36.53125 56 \nQ 37.453125 56 38.578125 55.875 \nQ 39.703125 55.765625 41.0625 55.515625 \nz\n\" id=\"DejaVuSans-114\"/>\n      <path d=\"M 34.28125 27.484375 \nQ 23.390625 27.484375 19.1875 25 \nQ 14.984375 22.515625 14.984375 16.5 \nQ 14.984375 11.71875 18.140625 8.90625 \nQ 21.296875 6.109375 26.703125 6.109375 \nQ 34.1875 6.109375 38.703125 11.40625 \nQ 43.21875 16.703125 43.21875 25.484375 \nL 43.21875 27.484375 \nz\nM 52.203125 31.203125 \nL 52.203125 0 \nL 43.21875 0 \nL 43.21875 8.296875 \nQ 40.140625 3.328125 35.546875 0.953125 \nQ 30.953125 -1.421875 24.3125 -1.421875 \nQ 15.921875 -1.421875 10.953125 3.296875 \nQ 6 8.015625 6 15.921875 \nQ 6 25.140625 12.171875 29.828125 \nQ 18.359375 34.515625 30.609375 34.515625 \nL 43.21875 34.515625 \nL 43.21875 35.40625 \nQ 43.21875 41.609375 39.140625 45 \nQ 35.0625 48.390625 27.6875 48.390625 \nQ 23 48.390625 18.546875 47.265625 \nQ 14.109375 46.140625 10.015625 43.890625 \nL 10.015625 52.203125 \nQ 14.9375 54.109375 19.578125 55.046875 \nQ 24.21875 56 28.609375 56 \nQ 40.484375 56 46.34375 49.84375 \nQ 52.203125 43.703125 52.203125 31.203125 \nz\n\" id=\"DejaVuSans-97\"/>\n      <path d=\"M 48.78125 52.59375 \nL 48.78125 44.1875 \nQ 44.96875 46.296875 41.140625 47.34375 \nQ 37.3125 48.390625 33.40625 48.390625 \nQ 24.65625 48.390625 19.8125 42.84375 \nQ 14.984375 37.3125 14.984375 27.296875 \nQ 14.984375 17.28125 19.8125 11.734375 \nQ 24.65625 6.203125 33.40625 6.203125 \nQ 37.3125 6.203125 41.140625 7.25 \nQ 44.96875 8.296875 48.78125 10.40625 \nL 48.78125 2.09375 \nQ 45.015625 0.34375 40.984375 -0.53125 \nQ 36.96875 -1.421875 32.421875 -1.421875 \nQ 20.0625 -1.421875 12.78125 6.34375 \nQ 5.515625 14.109375 5.515625 27.296875 \nQ 5.515625 40.671875 12.859375 48.328125 \nQ 20.21875 56 33.015625 56 \nQ 37.15625 56 41.109375 55.140625 \nQ 45.0625 54.296875 48.78125 52.59375 \nz\n\" id=\"DejaVuSans-99\"/>\n      <path d=\"M 18.3125 70.21875 \nL 18.3125 54.6875 \nL 36.8125 54.6875 \nL 36.8125 47.703125 \nL 18.3125 47.703125 \nL 18.3125 18.015625 \nQ 18.3125 11.328125 20.140625 9.421875 \nQ 21.96875 7.515625 27.59375 7.515625 \nL 36.8125 7.515625 \nL 36.8125 0 \nL 27.59375 0 \nQ 17.1875 0 13.234375 3.875 \nQ 9.28125 7.765625 9.28125 18.015625 \nL 9.28125 47.703125 \nL 2.6875 47.703125 \nL 2.6875 54.6875 \nL 9.28125 54.6875 \nL 9.28125 70.21875 \nz\n\" id=\"DejaVuSans-116\"/>\n      <path d=\"M 9.421875 54.6875 \nL 18.40625 54.6875 \nL 18.40625 0 \nL 9.421875 0 \nz\nM 9.421875 75.984375 \nL 18.40625 75.984375 \nL 18.40625 64.59375 \nL 9.421875 64.59375 \nz\n\" id=\"DejaVuSans-105\"/>\n      <path d=\"M 30.609375 48.390625 \nQ 23.390625 48.390625 19.1875 42.75 \nQ 14.984375 37.109375 14.984375 27.296875 \nQ 14.984375 17.484375 19.15625 11.84375 \nQ 23.34375 6.203125 30.609375 6.203125 \nQ 37.796875 6.203125 41.984375 11.859375 \nQ 46.1875 17.53125 46.1875 27.296875 \nQ 46.1875 37.015625 41.984375 42.703125 \nQ 37.796875 48.390625 30.609375 48.390625 \nz\nM 30.609375 56 \nQ 42.328125 56 49.015625 48.375 \nQ 55.71875 40.765625 55.71875 27.296875 \nQ 55.71875 13.875 49.015625 6.21875 \nQ 42.328125 -1.421875 30.609375 -1.421875 \nQ 18.84375 -1.421875 12.171875 6.21875 \nQ 5.515625 13.875 5.515625 27.296875 \nQ 5.515625 40.765625 12.171875 48.375 \nQ 18.84375 56 30.609375 56 \nz\n\" id=\"DejaVuSans-111\"/>\n      <path d=\"M 54.890625 33.015625 \nL 54.890625 0 \nL 45.90625 0 \nL 45.90625 32.71875 \nQ 45.90625 40.484375 42.875 44.328125 \nQ 39.84375 48.1875 33.796875 48.1875 \nQ 26.515625 48.1875 22.3125 43.546875 \nQ 18.109375 38.921875 18.109375 30.90625 \nL 18.109375 0 \nL 9.078125 0 \nL 9.078125 54.6875 \nL 18.109375 54.6875 \nL 18.109375 46.1875 \nQ 21.34375 51.125 25.703125 53.5625 \nQ 30.078125 56 35.796875 56 \nQ 45.21875 56 50.046875 50.171875 \nQ 54.890625 44.34375 54.890625 33.015625 \nz\n\" id=\"DejaVuSans-110\"/>\n      <path id=\"DejaVuSans-32\"/>\n      <path d=\"M 37.109375 75.984375 \nL 37.109375 68.5 \nL 28.515625 68.5 \nQ 23.6875 68.5 21.796875 66.546875 \nQ 19.921875 64.59375 19.921875 59.515625 \nL 19.921875 54.6875 \nL 34.71875 54.6875 \nL 34.71875 47.703125 \nL 19.921875 47.703125 \nL 19.921875 0 \nL 10.890625 0 \nL 10.890625 47.703125 \nL 2.296875 47.703125 \nL 2.296875 54.6875 \nL 10.890625 54.6875 \nL 10.890625 58.5 \nQ 10.890625 67.625 15.140625 71.796875 \nQ 19.390625 75.984375 28.609375 75.984375 \nz\n\" id=\"DejaVuSans-102\"/>\n      <path d=\"M 18.109375 8.203125 \nL 18.109375 -20.796875 \nL 9.078125 -20.796875 \nL 9.078125 54.6875 \nL 18.109375 54.6875 \nL 18.109375 46.390625 \nQ 20.953125 51.265625 25.265625 53.625 \nQ 29.59375 56 35.59375 56 \nQ 45.5625 56 51.78125 48.09375 \nQ 58.015625 40.1875 58.015625 27.296875 \nQ 58.015625 14.40625 51.78125 6.484375 \nQ 45.5625 -1.421875 35.59375 -1.421875 \nQ 29.59375 -1.421875 25.265625 0.953125 \nQ 20.953125 3.328125 18.109375 8.203125 \nz\nM 48.6875 27.296875 \nQ 48.6875 37.203125 44.609375 42.84375 \nQ 40.53125 48.484375 33.40625 48.484375 \nQ 26.265625 48.484375 22.1875 42.84375 \nQ 18.109375 37.203125 18.109375 27.296875 \nQ 18.109375 17.390625 22.1875 11.75 \nQ 26.265625 6.109375 33.40625 6.109375 \nQ 40.53125 6.109375 44.609375 11.75 \nQ 48.6875 17.390625 48.6875 27.296875 \nz\n\" id=\"DejaVuSans-112\"/>\n      <path d=\"M 44.28125 53.078125 \nL 44.28125 44.578125 \nQ 40.484375 46.53125 36.375 47.5 \nQ 32.28125 48.484375 27.875 48.484375 \nQ 21.1875 48.484375 17.84375 46.4375 \nQ 14.5 44.390625 14.5 40.28125 \nQ 14.5 37.15625 16.890625 35.375 \nQ 19.28125 33.59375 26.515625 31.984375 \nL 29.59375 31.296875 \nQ 39.15625 29.25 43.1875 25.515625 \nQ 47.21875 21.78125 47.21875 15.09375 \nQ 47.21875 7.46875 41.1875 3.015625 \nQ 35.15625 -1.421875 24.609375 -1.421875 \nQ 20.21875 -1.421875 15.453125 -0.5625 \nQ 10.6875 0.296875 5.421875 2 \nL 5.421875 11.28125 \nQ 10.40625 8.6875 15.234375 7.390625 \nQ 20.0625 6.109375 24.8125 6.109375 \nQ 31.15625 6.109375 34.5625 8.28125 \nQ 37.984375 10.453125 37.984375 14.40625 \nQ 37.984375 18.0625 35.515625 20.015625 \nQ 33.0625 21.96875 24.703125 23.78125 \nL 21.578125 24.515625 \nQ 13.234375 26.265625 9.515625 29.90625 \nQ 5.8125 33.546875 5.8125 39.890625 \nQ 5.8125 47.609375 11.28125 51.796875 \nQ 16.75 56 26.8125 56 \nQ 31.78125 56 36.171875 55.265625 \nQ 40.578125 54.546875 44.28125 53.078125 \nz\n\" id=\"DejaVuSans-115\"/>\n      <path d=\"M 2.984375 54.6875 \nL 12.5 54.6875 \nL 29.59375 8.796875 \nL 46.6875 54.6875 \nL 56.203125 54.6875 \nL 35.6875 0 \nL 23.484375 0 \nz\n\" id=\"DejaVuSans-118\"/>\n      <path d=\"M 56.203125 29.59375 \nL 56.203125 25.203125 \nL 14.890625 25.203125 \nQ 15.484375 15.921875 20.484375 11.0625 \nQ 25.484375 6.203125 34.421875 6.203125 \nQ 39.59375 6.203125 44.453125 7.46875 \nQ 49.3125 8.734375 54.109375 11.28125 \nL 54.109375 2.78125 \nQ 49.265625 0.734375 44.1875 -0.34375 \nQ 39.109375 -1.421875 33.890625 -1.421875 \nQ 20.796875 -1.421875 13.15625 6.1875 \nQ 5.515625 13.8125 5.515625 26.8125 \nQ 5.515625 40.234375 12.765625 48.109375 \nQ 20.015625 56 32.328125 56 \nQ 43.359375 56 49.78125 48.890625 \nQ 56.203125 41.796875 56.203125 29.59375 \nz\nM 47.21875 32.234375 \nQ 47.125 39.59375 43.09375 43.984375 \nQ 39.0625 48.390625 32.421875 48.390625 \nQ 24.90625 48.390625 20.390625 44.140625 \nQ 15.875 39.890625 15.1875 32.171875 \nz\n\" id=\"DejaVuSans-101\"/>\n      <path d=\"M 31 75.875 \nQ 24.46875 64.65625 21.28125 53.65625 \nQ 18.109375 42.671875 18.109375 31.390625 \nQ 18.109375 20.125 21.3125 9.0625 \nQ 24.515625 -2 31 -13.1875 \nL 23.1875 -13.1875 \nQ 15.875 -1.703125 12.234375 9.375 \nQ 8.59375 20.453125 8.59375 31.390625 \nQ 8.59375 42.28125 12.203125 53.3125 \nQ 15.828125 64.359375 23.1875 75.875 \nz\n\" id=\"DejaVuSans-40\"/>\n      <path d=\"M 19.671875 64.796875 \nL 19.671875 37.40625 \nL 32.078125 37.40625 \nQ 38.96875 37.40625 42.71875 40.96875 \nQ 46.484375 44.53125 46.484375 51.125 \nQ 46.484375 57.671875 42.71875 61.234375 \nQ 38.96875 64.796875 32.078125 64.796875 \nz\nM 9.8125 72.90625 \nL 32.078125 72.90625 \nQ 44.34375 72.90625 50.609375 67.359375 \nQ 56.890625 61.8125 56.890625 51.125 \nQ 56.890625 40.328125 50.609375 34.8125 \nQ 44.34375 29.296875 32.078125 29.296875 \nL 19.671875 29.296875 \nL 19.671875 0 \nL 9.8125 0 \nz\n\" id=\"DejaVuSans-80\"/>\n      <path d=\"M 45.40625 46.390625 \nL 45.40625 75.984375 \nL 54.390625 75.984375 \nL 54.390625 0 \nL 45.40625 0 \nL 45.40625 8.203125 \nQ 42.578125 3.328125 38.25 0.953125 \nQ 33.9375 -1.421875 27.875 -1.421875 \nQ 17.96875 -1.421875 11.734375 6.484375 \nQ 5.515625 14.40625 5.515625 27.296875 \nQ 5.515625 40.1875 11.734375 48.09375 \nQ 17.96875 56 27.875 56 \nQ 33.9375 56 38.25 53.625 \nQ 42.578125 51.265625 45.40625 46.390625 \nz\nM 14.796875 27.296875 \nQ 14.796875 17.390625 18.875 11.75 \nQ 22.953125 6.109375 30.078125 6.109375 \nQ 37.203125 6.109375 41.296875 11.75 \nQ 45.40625 17.390625 45.40625 27.296875 \nQ 45.40625 37.203125 41.296875 42.84375 \nQ 37.203125 48.484375 30.078125 48.484375 \nQ 22.953125 48.484375 18.875 42.84375 \nQ 14.796875 37.203125 14.796875 27.296875 \nz\n\" id=\"DejaVuSans-100\"/>\n      <path d=\"M 8.015625 75.875 \nL 15.828125 75.875 \nQ 23.140625 64.359375 26.78125 53.3125 \nQ 30.421875 42.28125 30.421875 31.390625 \nQ 30.421875 20.453125 26.78125 9.375 \nQ 23.140625 -1.703125 15.828125 -13.1875 \nL 8.015625 -13.1875 \nQ 14.5 -2 17.703125 9.0625 \nQ 20.90625 20.125 20.90625 31.390625 \nQ 20.90625 42.671875 17.703125 53.65625 \nQ 14.5 64.65625 8.015625 75.875 \nz\n\" id=\"DejaVuSans-41\"/>\n     </defs>\n     <g transform=\"translate(132.046094 268.034687)scale(0.1 -0.1)\">\n      <use xlink:href=\"#DejaVuSans-70\"/>\n      <use x=\"50.269531\" xlink:href=\"#DejaVuSans-114\"/>\n      <use x=\"91.382812\" xlink:href=\"#DejaVuSans-97\"/>\n      <use x=\"152.662109\" xlink:href=\"#DejaVuSans-99\"/>\n      <use x=\"207.642578\" xlink:href=\"#DejaVuSans-116\"/>\n      <use x=\"246.851562\" xlink:href=\"#DejaVuSans-105\"/>\n      <use x=\"274.634766\" xlink:href=\"#DejaVuSans-111\"/>\n      <use x=\"335.816406\" xlink:href=\"#DejaVuSans-110\"/>\n      <use x=\"399.195312\" xlink:href=\"#DejaVuSans-32\"/>\n      <use x=\"430.982422\" xlink:href=\"#DejaVuSans-111\"/>\n      <use x=\"492.164062\" xlink:href=\"#DejaVuSans-102\"/>\n      <use x=\"527.369141\" xlink:href=\"#DejaVuSans-32\"/>\n      <use x=\"559.15625\" xlink:href=\"#DejaVuSans-112\"/>\n      <use x=\"622.632812\" xlink:href=\"#DejaVuSans-111\"/>\n      <use x=\"683.814453\" xlink:href=\"#DejaVuSans-115\"/>\n      <use x=\"735.914062\" xlink:href=\"#DejaVuSans-105\"/>\n      <use x=\"763.697266\" xlink:href=\"#DejaVuSans-116\"/>\n      <use x=\"802.90625\" xlink:href=\"#DejaVuSans-105\"/>\n      <use x=\"830.689453\" xlink:href=\"#DejaVuSans-118\"/>\n      <use x=\"889.869141\" xlink:href=\"#DejaVuSans-101\"/>\n      <use x=\"951.392578\" xlink:href=\"#DejaVuSans-115\"/>\n      <use x=\"1003.492188\" xlink:href=\"#DejaVuSans-32\"/>\n      <use x=\"1035.279297\" xlink:href=\"#DejaVuSans-40\"/>\n      <use x=\"1074.292969\" xlink:href=\"#DejaVuSans-80\"/>\n      <use x=\"1132.845703\" xlink:href=\"#DejaVuSans-114\"/>\n      <use x=\"1171.708984\" xlink:href=\"#DejaVuSans-101\"/>\n      <use x=\"1233.232422\" xlink:href=\"#DejaVuSans-100\"/>\n      <use x=\"1296.708984\" xlink:href=\"#DejaVuSans-105\"/>\n      <use x=\"1324.492188\" xlink:href=\"#DejaVuSans-99\"/>\n      <use x=\"1379.472656\" xlink:href=\"#DejaVuSans-116\"/>\n      <use x=\"1418.681641\" xlink:href=\"#DejaVuSans-101\"/>\n      <use x=\"1480.205078\" xlink:href=\"#DejaVuSans-100\"/>\n      <use x=\"1543.681641\" xlink:href=\"#DejaVuSans-41\"/>\n     </g>\n    </g>\n   </g>\n   <g id=\"matplotlib.axis_2\">\n    <g id=\"ytick_1\">\n     <g id=\"line2d_10\">\n      <defs>\n       <path d=\"M 0 0 \nL -3.5 0 \n\" id=\"m00e26981b6\" style=\"stroke:#000000;stroke-width:0.8;\"/>\n      </defs>\n      <g>\n       <use style=\"stroke:#000000;stroke-width:0.8;\" x=\"43.78125\" xlink:href=\"#m00e26981b6\" y=\"229.874489\"/>\n      </g>\n     </g>\n     <g id=\"text_11\">\n      <!-- 0.0 -->\n      <g transform=\"translate(20.878125 233.673707)scale(0.1 -0.1)\">\n       <use xlink:href=\"#DejaVuSans-48\"/>\n       <use x=\"63.623047\" xlink:href=\"#DejaVuSans-46\"/>\n       <use x=\"95.410156\" xlink:href=\"#DejaVuSans-48\"/>\n      </g>\n     </g>\n    </g>\n    <g id=\"ytick_2\">\n     <g id=\"line2d_11\">\n      <g>\n       <use style=\"stroke:#000000;stroke-width:0.8;\" x=\"43.78125\" xlink:href=\"#m00e26981b6\" y=\"190.339943\"/>\n      </g>\n     </g>\n     <g id=\"text_12\">\n      <!-- 0.2 -->\n      <g transform=\"translate(20.878125 194.139162)scale(0.1 -0.1)\">\n       <use xlink:href=\"#DejaVuSans-48\"/>\n       <use x=\"63.623047\" xlink:href=\"#DejaVuSans-46\"/>\n       <use x=\"95.410156\" xlink:href=\"#DejaVuSans-50\"/>\n      </g>\n     </g>\n    </g>\n    <g id=\"ytick_3\">\n     <g id=\"line2d_12\">\n      <g>\n       <use style=\"stroke:#000000;stroke-width:0.8;\" x=\"43.78125\" xlink:href=\"#m00e26981b6\" y=\"150.805398\"/>\n      </g>\n     </g>\n     <g id=\"text_13\">\n      <!-- 0.4 -->\n      <g transform=\"translate(20.878125 154.604616)scale(0.1 -0.1)\">\n       <use xlink:href=\"#DejaVuSans-48\"/>\n       <use x=\"63.623047\" xlink:href=\"#DejaVuSans-46\"/>\n       <use x=\"95.410156\" xlink:href=\"#DejaVuSans-52\"/>\n      </g>\n     </g>\n    </g>\n    <g id=\"ytick_4\">\n     <g id=\"line2d_13\">\n      <g>\n       <use style=\"stroke:#000000;stroke-width:0.8;\" x=\"43.78125\" xlink:href=\"#m00e26981b6\" y=\"111.270852\"/>\n      </g>\n     </g>\n     <g id=\"text_14\">\n      <!-- 0.6 -->\n      <g transform=\"translate(20.878125 115.070071)scale(0.1 -0.1)\">\n       <use xlink:href=\"#DejaVuSans-48\"/>\n       <use x=\"63.623047\" xlink:href=\"#DejaVuSans-46\"/>\n       <use x=\"95.410156\" xlink:href=\"#DejaVuSans-54\"/>\n      </g>\n     </g>\n    </g>\n    <g id=\"ytick_5\">\n     <g id=\"line2d_14\">\n      <g>\n       <use style=\"stroke:#000000;stroke-width:0.8;\" x=\"43.78125\" xlink:href=\"#m00e26981b6\" y=\"71.736307\"/>\n      </g>\n     </g>\n     <g id=\"text_15\">\n      <!-- 0.8 -->\n      <g transform=\"translate(20.878125 75.535526)scale(0.1 -0.1)\">\n       <use xlink:href=\"#DejaVuSans-48\"/>\n       <use x=\"63.623047\" xlink:href=\"#DejaVuSans-46\"/>\n       <use x=\"95.410156\" xlink:href=\"#DejaVuSans-56\"/>\n      </g>\n     </g>\n    </g>\n    <g id=\"ytick_6\">\n     <g id=\"line2d_15\">\n      <g>\n       <use style=\"stroke:#000000;stroke-width:0.8;\" x=\"43.78125\" xlink:href=\"#m00e26981b6\" y=\"32.201761\"/>\n      </g>\n     </g>\n     <g id=\"text_16\">\n      <!-- 1.0 -->\n      <g transform=\"translate(20.878125 36.00098)scale(0.1 -0.1)\">\n       <use xlink:href=\"#DejaVuSans-49\"/>\n       <use x=\"63.623047\" xlink:href=\"#DejaVuSans-46\"/>\n       <use x=\"95.410156\" xlink:href=\"#DejaVuSans-48\"/>\n      </g>\n     </g>\n    </g>\n    <g id=\"text_17\">\n     <!-- Fraction of positives (Actual) -->\n     <defs>\n      <path d=\"M 34.1875 63.1875 \nL 20.796875 26.90625 \nL 47.609375 26.90625 \nz\nM 28.609375 72.90625 \nL 39.796875 72.90625 \nL 67.578125 0 \nL 57.328125 0 \nL 50.6875 18.703125 \nL 17.828125 18.703125 \nL 11.1875 0 \nL 0.78125 0 \nz\n\" id=\"DejaVuSans-65\"/>\n      <path d=\"M 8.5 21.578125 \nL 8.5 54.6875 \nL 17.484375 54.6875 \nL 17.484375 21.921875 \nQ 17.484375 14.15625 20.5 10.265625 \nQ 23.53125 6.390625 29.59375 6.390625 \nQ 36.859375 6.390625 41.078125 11.03125 \nQ 45.3125 15.671875 45.3125 23.6875 \nL 45.3125 54.6875 \nL 54.296875 54.6875 \nL 54.296875 0 \nL 45.3125 0 \nL 45.3125 8.40625 \nQ 42.046875 3.421875 37.71875 1 \nQ 33.40625 -1.421875 27.6875 -1.421875 \nQ 18.265625 -1.421875 13.375 4.4375 \nQ 8.5 10.296875 8.5 21.578125 \nz\nM 31.109375 56 \nz\n\" id=\"DejaVuSans-117\"/>\n      <path d=\"M 9.421875 75.984375 \nL 18.40625 75.984375 \nL 18.40625 0 \nL 9.421875 0 \nz\n\" id=\"DejaVuSans-108\"/>\n     </defs>\n     <g transform=\"translate(14.798438 202.367031)rotate(-90)scale(0.1 -0.1)\">\n      <use xlink:href=\"#DejaVuSans-70\"/>\n      <use x=\"50.269531\" xlink:href=\"#DejaVuSans-114\"/>\n      <use x=\"91.382812\" xlink:href=\"#DejaVuSans-97\"/>\n      <use x=\"152.662109\" xlink:href=\"#DejaVuSans-99\"/>\n      <use x=\"207.642578\" xlink:href=\"#DejaVuSans-116\"/>\n      <use x=\"246.851562\" xlink:href=\"#DejaVuSans-105\"/>\n      <use x=\"274.634766\" xlink:href=\"#DejaVuSans-111\"/>\n      <use x=\"335.816406\" xlink:href=\"#DejaVuSans-110\"/>\n      <use x=\"399.195312\" xlink:href=\"#DejaVuSans-32\"/>\n      <use x=\"430.982422\" xlink:href=\"#DejaVuSans-111\"/>\n      <use x=\"492.164062\" xlink:href=\"#DejaVuSans-102\"/>\n      <use x=\"527.369141\" xlink:href=\"#DejaVuSans-32\"/>\n      <use x=\"559.15625\" xlink:href=\"#DejaVuSans-112\"/>\n      <use x=\"622.632812\" xlink:href=\"#DejaVuSans-111\"/>\n      <use x=\"683.814453\" xlink:href=\"#DejaVuSans-115\"/>\n      <use x=\"735.914062\" xlink:href=\"#DejaVuSans-105\"/>\n      <use x=\"763.697266\" xlink:href=\"#DejaVuSans-116\"/>\n      <use x=\"802.90625\" xlink:href=\"#DejaVuSans-105\"/>\n      <use x=\"830.689453\" xlink:href=\"#DejaVuSans-118\"/>\n      <use x=\"889.869141\" xlink:href=\"#DejaVuSans-101\"/>\n      <use x=\"951.392578\" xlink:href=\"#DejaVuSans-115\"/>\n      <use x=\"1003.492188\" xlink:href=\"#DejaVuSans-32\"/>\n      <use x=\"1035.279297\" xlink:href=\"#DejaVuSans-40\"/>\n      <use x=\"1074.292969\" xlink:href=\"#DejaVuSans-65\"/>\n      <use x=\"1140.951172\" xlink:href=\"#DejaVuSans-99\"/>\n      <use x=\"1195.931641\" xlink:href=\"#DejaVuSans-116\"/>\n      <use x=\"1235.140625\" xlink:href=\"#DejaVuSans-117\"/>\n      <use x=\"1298.519531\" xlink:href=\"#DejaVuSans-97\"/>\n      <use x=\"1359.798828\" xlink:href=\"#DejaVuSans-108\"/>\n      <use x=\"1387.582031\" xlink:href=\"#DejaVuSans-41\"/>\n     </g>\n    </g>\n   </g>\n   <g id=\"line2d_16\">\n    <path clip-path=\"url(#pc410d0be0b)\" d=\"M 59.29639 229.874489 \nL 59.484974 229.80115 \nL 62.682663 226.794256 \nL 91.84732 201.53773 \nL 140.820905 158.83356 \nL 164.308023 132.749366 \nL 178.920761 116.796398 \nL 195.386963 103.193797 \nL 214.209831 92.046287 \nL 266.010787 72.367021 \n\" style=\"fill:none;stroke:#1f77b4;stroke-linecap:square;stroke-width:1.5;\"/>\n   </g>\n   <g id=\"line2d_17\">\n    <path clip-path=\"url(#pc410d0be0b)\" d=\"M 58.999432 229.874489 \nL 363.363068 72.367021 \n\" style=\"fill:none;stroke:#ff7f0e;stroke-dasharray:5.55,2.4;stroke-dashoffset:0;stroke-width:1.5;\"/>\n   </g>\n   <g id=\"patch_3\">\n    <path d=\"M 43.78125 239.758125 \nL 43.78125 22.318125 \n\" style=\"fill:none;stroke:#000000;stroke-linecap:square;stroke-linejoin:miter;stroke-width:0.8;\"/>\n   </g>\n   <g id=\"patch_4\">\n    <path d=\"M 378.58125 239.758125 \nL 378.58125 22.318125 \n\" style=\"fill:none;stroke:#000000;stroke-linecap:square;stroke-linejoin:miter;stroke-width:0.8;\"/>\n   </g>\n   <g id=\"patch_5\">\n    <path d=\"M 43.78125 239.758125 \nL 378.58125 239.758125 \n\" style=\"fill:none;stroke:#000000;stroke-linecap:square;stroke-linejoin:miter;stroke-width:0.8;\"/>\n   </g>\n   <g id=\"patch_6\">\n    <path d=\"M 43.78125 22.318125 \nL 378.58125 22.318125 \n\" style=\"fill:none;stroke:#000000;stroke-linecap:square;stroke-linejoin:miter;stroke-width:0.8;\"/>\n   </g>\n   <g id=\"text_18\">\n    <!-- Calibration Plots (Reliability Curve) -->\n    <defs>\n     <path d=\"M 64.40625 67.28125 \nL 64.40625 56.890625 \nQ 59.421875 61.53125 53.78125 63.8125 \nQ 48.140625 66.109375 41.796875 66.109375 \nQ 29.296875 66.109375 22.65625 58.46875 \nQ 16.015625 50.828125 16.015625 36.375 \nQ 16.015625 21.96875 22.65625 14.328125 \nQ 29.296875 6.6875 41.796875 6.6875 \nQ 48.140625 6.6875 53.78125 8.984375 \nQ 59.421875 11.28125 64.40625 15.921875 \nL 64.40625 5.609375 \nQ 59.234375 2.09375 53.4375 0.328125 \nQ 47.65625 -1.421875 41.21875 -1.421875 \nQ 24.65625 -1.421875 15.125 8.703125 \nQ 5.609375 18.84375 5.609375 36.375 \nQ 5.609375 53.953125 15.125 64.078125 \nQ 24.65625 74.21875 41.21875 74.21875 \nQ 47.75 74.21875 53.53125 72.484375 \nQ 59.328125 70.75 64.40625 67.28125 \nz\n\" id=\"DejaVuSans-67\"/>\n     <path d=\"M 48.6875 27.296875 \nQ 48.6875 37.203125 44.609375 42.84375 \nQ 40.53125 48.484375 33.40625 48.484375 \nQ 26.265625 48.484375 22.1875 42.84375 \nQ 18.109375 37.203125 18.109375 27.296875 \nQ 18.109375 17.390625 22.1875 11.75 \nQ 26.265625 6.109375 33.40625 6.109375 \nQ 40.53125 6.109375 44.609375 11.75 \nQ 48.6875 17.390625 48.6875 27.296875 \nz\nM 18.109375 46.390625 \nQ 20.953125 51.265625 25.265625 53.625 \nQ 29.59375 56 35.59375 56 \nQ 45.5625 56 51.78125 48.09375 \nQ 58.015625 40.1875 58.015625 27.296875 \nQ 58.015625 14.40625 51.78125 6.484375 \nQ 45.5625 -1.421875 35.59375 -1.421875 \nQ 29.59375 -1.421875 25.265625 0.953125 \nQ 20.953125 3.328125 18.109375 8.203125 \nL 18.109375 0 \nL 9.078125 0 \nL 9.078125 75.984375 \nL 18.109375 75.984375 \nz\n\" id=\"DejaVuSans-98\"/>\n     <path d=\"M 44.390625 34.1875 \nQ 47.5625 33.109375 50.5625 29.59375 \nQ 53.5625 26.078125 56.59375 19.921875 \nL 66.609375 0 \nL 56 0 \nL 46.6875 18.703125 \nQ 43.0625 26.03125 39.671875 28.421875 \nQ 36.28125 30.8125 30.421875 30.8125 \nL 19.671875 30.8125 \nL 19.671875 0 \nL 9.8125 0 \nL 9.8125 72.90625 \nL 32.078125 72.90625 \nQ 44.578125 72.90625 50.734375 67.671875 \nQ 56.890625 62.453125 56.890625 51.90625 \nQ 56.890625 45.015625 53.6875 40.46875 \nQ 50.484375 35.9375 44.390625 34.1875 \nz\nM 19.671875 64.796875 \nL 19.671875 38.921875 \nL 32.078125 38.921875 \nQ 39.203125 38.921875 42.84375 42.21875 \nQ 46.484375 45.515625 46.484375 51.90625 \nQ 46.484375 58.296875 42.84375 61.546875 \nQ 39.203125 64.796875 32.078125 64.796875 \nz\n\" id=\"DejaVuSans-82\"/>\n     <path d=\"M 32.171875 -5.078125 \nQ 28.375 -14.84375 24.75 -17.8125 \nQ 21.140625 -20.796875 15.09375 -20.796875 \nL 7.90625 -20.796875 \nL 7.90625 -13.28125 \nL 13.1875 -13.28125 \nQ 16.890625 -13.28125 18.9375 -11.515625 \nQ 21 -9.765625 23.484375 -3.21875 \nL 25.09375 0.875 \nL 2.984375 54.6875 \nL 12.5 54.6875 \nL 29.59375 11.921875 \nL 46.6875 54.6875 \nL 56.203125 54.6875 \nz\n\" id=\"DejaVuSans-121\"/>\n    </defs>\n    <g transform=\"translate(106.682813 16.318125)scale(0.12 -0.12)\">\n     <use xlink:href=\"#DejaVuSans-67\"/>\n     <use x=\"69.824219\" xlink:href=\"#DejaVuSans-97\"/>\n     <use x=\"131.103516\" xlink:href=\"#DejaVuSans-108\"/>\n     <use x=\"158.886719\" xlink:href=\"#DejaVuSans-105\"/>\n     <use x=\"186.669922\" xlink:href=\"#DejaVuSans-98\"/>\n     <use x=\"250.146484\" xlink:href=\"#DejaVuSans-114\"/>\n     <use x=\"291.259766\" xlink:href=\"#DejaVuSans-97\"/>\n     <use x=\"352.539062\" xlink:href=\"#DejaVuSans-116\"/>\n     <use x=\"391.748047\" xlink:href=\"#DejaVuSans-105\"/>\n     <use x=\"419.53125\" xlink:href=\"#DejaVuSans-111\"/>\n     <use x=\"480.712891\" xlink:href=\"#DejaVuSans-110\"/>\n     <use x=\"544.091797\" xlink:href=\"#DejaVuSans-32\"/>\n     <use x=\"575.878906\" xlink:href=\"#DejaVuSans-80\"/>\n     <use x=\"636.181641\" xlink:href=\"#DejaVuSans-108\"/>\n     <use x=\"663.964844\" xlink:href=\"#DejaVuSans-111\"/>\n     <use x=\"725.146484\" xlink:href=\"#DejaVuSans-116\"/>\n     <use x=\"764.355469\" xlink:href=\"#DejaVuSans-115\"/>\n     <use x=\"816.455078\" xlink:href=\"#DejaVuSans-32\"/>\n     <use x=\"848.242188\" xlink:href=\"#DejaVuSans-40\"/>\n     <use x=\"887.255859\" xlink:href=\"#DejaVuSans-82\"/>\n     <use x=\"952.238281\" xlink:href=\"#DejaVuSans-101\"/>\n     <use x=\"1013.761719\" xlink:href=\"#DejaVuSans-108\"/>\n     <use x=\"1041.544922\" xlink:href=\"#DejaVuSans-105\"/>\n     <use x=\"1069.328125\" xlink:href=\"#DejaVuSans-97\"/>\n     <use x=\"1130.607422\" xlink:href=\"#DejaVuSans-98\"/>\n     <use x=\"1194.083984\" xlink:href=\"#DejaVuSans-105\"/>\n     <use x=\"1221.867188\" xlink:href=\"#DejaVuSans-108\"/>\n     <use x=\"1249.650391\" xlink:href=\"#DejaVuSans-105\"/>\n     <use x=\"1277.433594\" xlink:href=\"#DejaVuSans-116\"/>\n     <use x=\"1316.642578\" xlink:href=\"#DejaVuSans-121\"/>\n     <use x=\"1375.822266\" xlink:href=\"#DejaVuSans-32\"/>\n     <use x=\"1407.609375\" xlink:href=\"#DejaVuSans-67\"/>\n     <use x=\"1477.433594\" xlink:href=\"#DejaVuSans-117\"/>\n     <use x=\"1540.8125\" xlink:href=\"#DejaVuSans-114\"/>\n     <use x=\"1581.925781\" xlink:href=\"#DejaVuSans-118\"/>\n     <use x=\"1641.105469\" xlink:href=\"#DejaVuSans-101\"/>\n     <use x=\"1702.628906\" xlink:href=\"#DejaVuSans-41\"/>\n    </g>\n   </g>\n   <g id=\"legend_1\">\n    <g id=\"patch_7\">\n     <path d=\"M 50.78125 44.99625 \nL 185.689063 44.99625 \nQ 187.689063 44.99625 187.689063 42.99625 \nL 187.689063 29.318125 \nQ 187.689063 27.318125 185.689063 27.318125 \nL 50.78125 27.318125 \nQ 48.78125 27.318125 48.78125 29.318125 \nL 48.78125 42.99625 \nQ 48.78125 44.99625 50.78125 44.99625 \nz\n\" style=\"fill:#ffffff;opacity:0.8;stroke:#cccccc;stroke-linejoin:miter;\"/>\n    </g>\n    <g id=\"line2d_18\">\n     <path d=\"M 52.78125 35.416562 \nL 72.78125 35.416562 \n\" style=\"fill:none;stroke:#1f77b4;stroke-linecap:square;stroke-width:1.5;\"/>\n    </g>\n    <g id=\"line2d_19\"/>\n    <g id=\"text_19\">\n     <!-- test -->\n     <g transform=\"translate(80.78125 38.916562)scale(0.1 -0.1)\">\n      <use xlink:href=\"#DejaVuSans-116\"/>\n      <use x=\"39.208984\" xlink:href=\"#DejaVuSans-101\"/>\n      <use x=\"100.732422\" xlink:href=\"#DejaVuSans-115\"/>\n      <use x=\"152.832031\" xlink:href=\"#DejaVuSans-116\"/>\n     </g>\n    </g>\n    <g id=\"line2d_20\">\n     <path d=\"M 119.984375 35.416562 \nL 139.984375 35.416562 \n\" style=\"fill:none;stroke:#ff7f0e;stroke-dasharray:5.55,2.4;stroke-dashoffset:0;stroke-width:1.5;\"/>\n    </g>\n    <g id=\"line2d_21\"/>\n    <g id=\"text_20\">\n     <!-- perfect -->\n     <g transform=\"translate(147.984375 38.916562)scale(0.1 -0.1)\">\n      <use xlink:href=\"#DejaVuSans-112\"/>\n      <use x=\"63.476562\" xlink:href=\"#DejaVuSans-101\"/>\n      <use x=\"125\" xlink:href=\"#DejaVuSans-114\"/>\n      <use x=\"166.113281\" xlink:href=\"#DejaVuSans-102\"/>\n      <use x=\"201.318359\" xlink:href=\"#DejaVuSans-101\"/>\n      <use x=\"262.841797\" xlink:href=\"#DejaVuSans-99\"/>\n      <use x=\"317.822266\" xlink:href=\"#DejaVuSans-116\"/>\n     </g>\n    </g>\n   </g>\n  </g>\n </g>\n <defs>\n  <clipPath id=\"pc410d0be0b\">\n   <rect height=\"217.44\" width=\"334.8\" x=\"43.78125\" y=\"22.318125\"/>\n  </clipPath>\n </defs>\n</svg>\n",
      "image/png": "[encoded data removed]"
     },
     "metadata": {
      "needs_background": "light"
     }
    }
   ],
   "source": [
    "from sklearn.calibration import calibration_curve\n",
    "\n",
    "fig,ax = plot.subplots(1)\n",
    "plot_test_truth, plot_test_predictions = calibration_curve(target_test, test_probabilities,strategy='quantile', n_bins=10)\n",
    "plot.plot(plot_test_predictions, plot_test_truth,label='test')\n",
    "# Useless to draw train curve : almost identical to test and therefore, invisible\n",
    "#plot_train_truth, plot_train_predictions = calibration_curve(target_train, train_probabilities,strategy='quantile', n_bins=10)\n",
    "#plot.plot(plot_train_predictions, plot_train_truth,label='train')\n",
    "\n",
    "xmin = min(plot_predictions.min(), plot_truth.min())\n",
    "xmax = max(plot_predictions.max(), plot_truth.max())\n",
    "plot.plot([xmin,xmax],[xmin,xmax], '--',label='perfect')\n",
    "#plot.plot([0, 1], [0, 1], '--', label='perfect')\n",
    "ax.set_xlabel('Fraction of positives (Predicted)')\n",
    "ax.set_ylabel('Fraction of positives (Actual)')\n",
    "ax.set_ylim([-0.05, 1.05])\n",
    "ax.legend(loc='upper left', ncol=2)\n",
    "ax.set_title('Calibration Plots (Reliability Curve)')\n",
    "plot.show()\n"
   ]
  },
  {
   "source": [
    "That's it : blue line is largely above the truth, meaning probabilities are very underestimated: model is under-casting\n",
    "\n",
    "Kaggle score is not impacted (we don't have the truth so we cannot recalibrate) as well as the model's logloss but all metrics from confusion matrix are false...\n",
    "\n",
    "We have to recalibrate!! \n",
    "* Platt scaling : builds a logistic regression model where only input is uncalibrated probabilities and output true target\n",
    "* Isotonic regression : make a piecewise calibration\n"
   ],
   "cell_type": "markdown",
   "metadata": {}
  },
  {
   "cell_type": "code",
   "execution_count": 137,
   "metadata": {},
   "outputs": [],
   "source": [
    "from sklearn.linear_model import LogisticRegression\n",
    "from sklearn.base import BaseEstimator\n",
    "\n",
    "class MyPlattScaling(BaseEstimator):\n",
    "    def __init__(self, log_odds: bool=True):\n",
    "        self.log_odds = log_odds\n",
    "    \n",
    "    def fit(self, y_prob: numpy.ndarray, y_true: numpy.ndarray):\n",
    "        self.fit_predict(y_prob, y_true)\n",
    "        return self\n",
    "\n",
    "    @staticmethod\n",
    "    def _convert_to_log_odds(y_prob: numpy.ndarray):\n",
    "        eps = 1e-12\n",
    "        y_prob = numpy.clip(y_prob, eps, 1 - eps)\n",
    "        y_prob = numpy.log(y_prob / (1 - y_prob))\n",
    "        return y_prob\n",
    "\n",
    "    def predict(self, y_prob: numpy.ndarray):\n",
    "        if self.log_odds:\n",
    "            y_prob = self._convert_to_log_odds(y_prob)\n",
    "\n",
    "        output = self._transform(y_prob)\n",
    "        return output\n",
    "\n",
    "    def _transform(self, y_prob: numpy.ndarray):\n",
    "        output = y_prob * self.coef_[0] + self.intercept_\n",
    "        output = 1 / (1 + numpy.exp(-output))\n",
    "        return output\n",
    "\n",
    "    def fit_predict(self, y_prob: numpy.ndarray, y_true: numpy.ndarray) -> numpy.ndarray:\n",
    "        if self.log_odds:\n",
    "            y_prob = self._convert_to_log_odds(y_prob)\n",
    "\n",
    "        # the class expects 2d ndarray as input features\n",
    "        logistic = LogisticRegression(C=1e10, solver='lbfgs')\n",
    "        logistic.fit(y_prob.reshape(-1, 1), y_true)\n",
    "        self.coef_ = logistic.coef_[0]\n",
    "        self.intercept_ = logistic.intercept_\n",
    "\n",
    "        y_calibrated_prob = self._transform(y_prob)\n",
    "        return y_calibrated_prob"
   ]
  },
  {
   "source": [
    "Apply this calibration"
   ],
   "cell_type": "markdown",
   "metadata": {}
  },
  {
   "cell_type": "code",
   "execution_count": 142,
   "metadata": {},
   "outputs": [
    {
     "output_type": "display_data",
     "data": {
      "text/plain": "<IPython.core.display.HTML object>",
      "text/html": "<span style=\"color:LIMEGREEN\"><small>Now, we have 0.367 % of 1 using Platt\"s scaling recalibrated probabilities</small></span>"
     },
     "metadata": {
      "text/html": {
       "isolated": true
      }
     }
    },
    {
     "output_type": "display_data",
     "data": {
      "text/plain": "<IPython.core.display.HTML object>",
      "text/html": "<span style=\"color:LIGHTSALMON\"><small>Now, we have 0.452 % of 1 using log+Platt\"s scaling recalibrated probabilities</small></span>"
     },
     "metadata": {
      "text/html": {
       "isolated": true
      }
     }
    },
    {
     "output_type": "display_data",
     "data": {
      "text/plain": "<IPython.core.display.HTML object>",
      "text/html": "<span style=\"color:LIGHTSALMON\"><small>Now, we have 0.427 % of 1 using Isotonic\"s recalibrated probabilities</small></span>"
     },
     "metadata": {
      "text/html": {
       "isolated": true
      }
     }
    },
    {
     "output_type": "display_data",
     "data": {
      "text/plain": "<Figure size 432x288 with 1 Axes>",
      "image/svg+xml": "<?xml version=\"1.0\" encoding=\"utf-8\" standalone=\"no\"?>\n<!DOCTYPE svg PUBLIC \"-//W3C//DTD SVG 1.1//EN\"\n  \"http://www.w3.org/Graphics/SVG/1.1/DTD/svg11.dtd\">\n<!-- Created with matplotlib (https://matplotlib.org/) -->\n<svg height=\"277.314375pt\" version=\"1.1\" viewBox=\"0 0 385.78125 277.314375\" width=\"385.78125pt\" xmlns=\"http://www.w3.org/2000/svg\" xmlns:xlink=\"http://www.w3.org/1999/xlink\">\n <defs>\n  <style type=\"text/css\">\n*{stroke-linecap:butt;stroke-linejoin:round;}\n  </style>\n </defs>\n <g id=\"figure_1\">\n  <g id=\"patch_1\">\n   <path d=\"M 0 277.314375 \nL 385.78125 277.314375 \nL 385.78125 0 \nL 0 0 \nz\n\" style=\"fill:none;\"/>\n  </g>\n  <g id=\"axes_1\">\n   <g id=\"patch_2\">\n    <path d=\"M 43.78125 239.758125 \nL 378.58125 239.758125 \nL 378.58125 22.318125 \nL 43.78125 22.318125 \nz\n\" style=\"fill:#ffffff;\"/>\n   </g>\n   <g id=\"matplotlib.axis_1\">\n    <g id=\"xtick_1\">\n     <g id=\"line2d_1\">\n      <defs>\n       <path d=\"M 0 0 \nL 0 3.5 \n\" id=\"m25fc7dca78\" style=\"stroke:#000000;stroke-width:0.8;\"/>\n      </defs>\n      <g>\n       <use style=\"stroke:#000000;stroke-width:0.8;\" x=\"58.999432\" xlink:href=\"#m25fc7dca78\" y=\"239.758125\"/>\n      </g>\n     </g>\n     <g id=\"text_1\">\n      <!-- 0.0 -->\n      <defs>\n       <path d=\"M 31.78125 66.40625 \nQ 24.171875 66.40625 20.328125 58.90625 \nQ 16.5 51.421875 16.5 36.375 \nQ 16.5 21.390625 20.328125 13.890625 \nQ 24.171875 6.390625 31.78125 6.390625 \nQ 39.453125 6.390625 43.28125 13.890625 \nQ 47.125 21.390625 47.125 36.375 \nQ 47.125 51.421875 43.28125 58.90625 \nQ 39.453125 66.40625 31.78125 66.40625 \nz\nM 31.78125 74.21875 \nQ 44.046875 74.21875 50.515625 64.515625 \nQ 56.984375 54.828125 56.984375 36.375 \nQ 56.984375 17.96875 50.515625 8.265625 \nQ 44.046875 -1.421875 31.78125 -1.421875 \nQ 19.53125 -1.421875 13.0625 8.265625 \nQ 6.59375 17.96875 6.59375 36.375 \nQ 6.59375 54.828125 13.0625 64.515625 \nQ 19.53125 74.21875 31.78125 74.21875 \nz\n\" id=\"DejaVuSans-48\"/>\n       <path d=\"M 10.6875 12.40625 \nL 21 12.40625 \nL 21 0 \nL 10.6875 0 \nz\n\" id=\"DejaVuSans-46\"/>\n      </defs>\n      <g transform=\"translate(51.047869 254.356562)scale(0.1 -0.1)\">\n       <use xlink:href=\"#DejaVuSans-48\"/>\n       <use x=\"63.623047\" xlink:href=\"#DejaVuSans-46\"/>\n       <use x=\"95.410156\" xlink:href=\"#DejaVuSans-48\"/>\n      </g>\n     </g>\n    </g>\n    <g id=\"xtick_2\">\n     <g id=\"line2d_2\">\n      <g>\n       <use style=\"stroke:#000000;stroke-width:0.8;\" x=\"127.250539\" xlink:href=\"#m25fc7dca78\" y=\"239.758125\"/>\n      </g>\n     </g>\n     <g id=\"text_2\">\n      <!-- 0.2 -->\n      <defs>\n       <path d=\"M 19.1875 8.296875 \nL 53.609375 8.296875 \nL 53.609375 0 \nL 7.328125 0 \nL 7.328125 8.296875 \nQ 12.9375 14.109375 22.625 23.890625 \nQ 32.328125 33.6875 34.8125 36.53125 \nQ 39.546875 41.84375 41.421875 45.53125 \nQ 43.3125 49.21875 43.3125 52.78125 \nQ 43.3125 58.59375 39.234375 62.25 \nQ 35.15625 65.921875 28.609375 65.921875 \nQ 23.96875 65.921875 18.8125 64.3125 \nQ 13.671875 62.703125 7.8125 59.421875 \nL 7.8125 69.390625 \nQ 13.765625 71.78125 18.9375 73 \nQ 24.125 74.21875 28.421875 74.21875 \nQ 39.75 74.21875 46.484375 68.546875 \nQ 53.21875 62.890625 53.21875 53.421875 \nQ 53.21875 48.921875 51.53125 44.890625 \nQ 49.859375 40.875 45.40625 35.40625 \nQ 44.1875 33.984375 37.640625 27.21875 \nQ 31.109375 20.453125 19.1875 8.296875 \nz\n\" id=\"DejaVuSans-50\"/>\n      </defs>\n      <g transform=\"translate(119.298977 254.356562)scale(0.1 -0.1)\">\n       <use xlink:href=\"#DejaVuSans-48\"/>\n       <use x=\"63.623047\" xlink:href=\"#DejaVuSans-46\"/>\n       <use x=\"95.410156\" xlink:href=\"#DejaVuSans-50\"/>\n      </g>\n     </g>\n    </g>\n    <g id=\"xtick_3\">\n     <g id=\"line2d_3\">\n      <g>\n       <use style=\"stroke:#000000;stroke-width:0.8;\" x=\"195.501646\" xlink:href=\"#m25fc7dca78\" y=\"239.758125\"/>\n      </g>\n     </g>\n     <g id=\"text_3\">\n      <!-- 0.4 -->\n      <defs>\n       <path d=\"M 37.796875 64.3125 \nL 12.890625 25.390625 \nL 37.796875 25.390625 \nz\nM 35.203125 72.90625 \nL 47.609375 72.90625 \nL 47.609375 25.390625 \nL 58.015625 25.390625 \nL 58.015625 17.1875 \nL 47.609375 17.1875 \nL 47.609375 0 \nL 37.796875 0 \nL 37.796875 17.1875 \nL 4.890625 17.1875 \nL 4.890625 26.703125 \nz\n\" id=\"DejaVuSans-52\"/>\n      </defs>\n      <g transform=\"translate(187.550084 254.356562)scale(0.1 -0.1)\">\n       <use xlink:href=\"#DejaVuSans-48\"/>\n       <use x=\"63.623047\" xlink:href=\"#DejaVuSans-46\"/>\n       <use x=\"95.410156\" xlink:href=\"#DejaVuSans-52\"/>\n      </g>\n     </g>\n    </g>\n    <g id=\"xtick_4\">\n     <g id=\"line2d_4\">\n      <g>\n       <use style=\"stroke:#000000;stroke-width:0.8;\" x=\"263.752754\" xlink:href=\"#m25fc7dca78\" y=\"239.758125\"/>\n      </g>\n     </g>\n     <g id=\"text_4\">\n      <!-- 0.6 -->\n      <defs>\n       <path d=\"M 33.015625 40.375 \nQ 26.375 40.375 22.484375 35.828125 \nQ 18.609375 31.296875 18.609375 23.390625 \nQ 18.609375 15.53125 22.484375 10.953125 \nQ 26.375 6.390625 33.015625 6.390625 \nQ 39.65625 6.390625 43.53125 10.953125 \nQ 47.40625 15.53125 47.40625 23.390625 \nQ 47.40625 31.296875 43.53125 35.828125 \nQ 39.65625 40.375 33.015625 40.375 \nz\nM 52.59375 71.296875 \nL 52.59375 62.3125 \nQ 48.875 64.0625 45.09375 64.984375 \nQ 41.3125 65.921875 37.59375 65.921875 \nQ 27.828125 65.921875 22.671875 59.328125 \nQ 17.53125 52.734375 16.796875 39.40625 \nQ 19.671875 43.65625 24.015625 45.921875 \nQ 28.375 48.1875 33.59375 48.1875 \nQ 44.578125 48.1875 50.953125 41.515625 \nQ 57.328125 34.859375 57.328125 23.390625 \nQ 57.328125 12.15625 50.6875 5.359375 \nQ 44.046875 -1.421875 33.015625 -1.421875 \nQ 20.359375 -1.421875 13.671875 8.265625 \nQ 6.984375 17.96875 6.984375 36.375 \nQ 6.984375 53.65625 15.1875 63.9375 \nQ 23.390625 74.21875 37.203125 74.21875 \nQ 40.921875 74.21875 44.703125 73.484375 \nQ 48.484375 72.75 52.59375 71.296875 \nz\n\" id=\"DejaVuSans-54\"/>\n      </defs>\n      <g transform=\"translate(255.801191 254.356562)scale(0.1 -0.1)\">\n       <use xlink:href=\"#DejaVuSans-48\"/>\n       <use x=\"63.623047\" xlink:href=\"#DejaVuSans-46\"/>\n       <use x=\"95.410156\" xlink:href=\"#DejaVuSans-54\"/>\n      </g>\n     </g>\n    </g>\n    <g id=\"xtick_5\">\n     <g id=\"line2d_5\">\n      <g>\n       <use style=\"stroke:#000000;stroke-width:0.8;\" x=\"332.003861\" xlink:href=\"#m25fc7dca78\" y=\"239.758125\"/>\n      </g>\n     </g>\n     <g id=\"text_5\">\n      <!-- 0.8 -->\n      <defs>\n       <path d=\"M 31.78125 34.625 \nQ 24.75 34.625 20.71875 30.859375 \nQ 16.703125 27.09375 16.703125 20.515625 \nQ 16.703125 13.921875 20.71875 10.15625 \nQ 24.75 6.390625 31.78125 6.390625 \nQ 38.8125 6.390625 42.859375 10.171875 \nQ 46.921875 13.96875 46.921875 20.515625 \nQ 46.921875 27.09375 42.890625 30.859375 \nQ 38.875 34.625 31.78125 34.625 \nz\nM 21.921875 38.8125 \nQ 15.578125 40.375 12.03125 44.71875 \nQ 8.5 49.078125 8.5 55.328125 \nQ 8.5 64.0625 14.71875 69.140625 \nQ 20.953125 74.21875 31.78125 74.21875 \nQ 42.671875 74.21875 48.875 69.140625 \nQ 55.078125 64.0625 55.078125 55.328125 \nQ 55.078125 49.078125 51.53125 44.71875 \nQ 48 40.375 41.703125 38.8125 \nQ 48.828125 37.15625 52.796875 32.3125 \nQ 56.78125 27.484375 56.78125 20.515625 \nQ 56.78125 9.90625 50.3125 4.234375 \nQ 43.84375 -1.421875 31.78125 -1.421875 \nQ 19.734375 -1.421875 13.25 4.234375 \nQ 6.78125 9.90625 6.78125 20.515625 \nQ 6.78125 27.484375 10.78125 32.3125 \nQ 14.796875 37.15625 21.921875 38.8125 \nz\nM 18.3125 54.390625 \nQ 18.3125 48.734375 21.84375 45.5625 \nQ 25.390625 42.390625 31.78125 42.390625 \nQ 38.140625 42.390625 41.71875 45.5625 \nQ 45.3125 48.734375 45.3125 54.390625 \nQ 45.3125 60.0625 41.71875 63.234375 \nQ 38.140625 66.40625 31.78125 66.40625 \nQ 25.390625 66.40625 21.84375 63.234375 \nQ 18.3125 60.0625 18.3125 54.390625 \nz\n\" id=\"DejaVuSans-56\"/>\n      </defs>\n      <g transform=\"translate(324.052299 254.356562)scale(0.1 -0.1)\">\n       <use xlink:href=\"#DejaVuSans-48\"/>\n       <use x=\"63.623047\" xlink:href=\"#DejaVuSans-46\"/>\n       <use x=\"95.410156\" xlink:href=\"#DejaVuSans-56\"/>\n      </g>\n     </g>\n    </g>\n    <g id=\"text_6\">\n     <!-- Fraction of positives (Predicted) -->\n     <defs>\n      <path d=\"M 9.8125 72.90625 \nL 51.703125 72.90625 \nL 51.703125 64.59375 \nL 19.671875 64.59375 \nL 19.671875 43.109375 \nL 48.578125 43.109375 \nL 48.578125 34.8125 \nL 19.671875 34.8125 \nL 19.671875 0 \nL 9.8125 0 \nz\n\" id=\"DejaVuSans-70\"/>\n      <path d=\"M 41.109375 46.296875 \nQ 39.59375 47.171875 37.8125 47.578125 \nQ 36.03125 48 33.890625 48 \nQ 26.265625 48 22.1875 43.046875 \nQ 18.109375 38.09375 18.109375 28.8125 \nL 18.109375 0 \nL 9.078125 0 \nL 9.078125 54.6875 \nL 18.109375 54.6875 \nL 18.109375 46.1875 \nQ 20.953125 51.171875 25.484375 53.578125 \nQ 30.03125 56 36.53125 56 \nQ 37.453125 56 38.578125 55.875 \nQ 39.703125 55.765625 41.0625 55.515625 \nz\n\" id=\"DejaVuSans-114\"/>\n      <path d=\"M 34.28125 27.484375 \nQ 23.390625 27.484375 19.1875 25 \nQ 14.984375 22.515625 14.984375 16.5 \nQ 14.984375 11.71875 18.140625 8.90625 \nQ 21.296875 6.109375 26.703125 6.109375 \nQ 34.1875 6.109375 38.703125 11.40625 \nQ 43.21875 16.703125 43.21875 25.484375 \nL 43.21875 27.484375 \nz\nM 52.203125 31.203125 \nL 52.203125 0 \nL 43.21875 0 \nL 43.21875 8.296875 \nQ 40.140625 3.328125 35.546875 0.953125 \nQ 30.953125 -1.421875 24.3125 -1.421875 \nQ 15.921875 -1.421875 10.953125 3.296875 \nQ 6 8.015625 6 15.921875 \nQ 6 25.140625 12.171875 29.828125 \nQ 18.359375 34.515625 30.609375 34.515625 \nL 43.21875 34.515625 \nL 43.21875 35.40625 \nQ 43.21875 41.609375 39.140625 45 \nQ 35.0625 48.390625 27.6875 48.390625 \nQ 23 48.390625 18.546875 47.265625 \nQ 14.109375 46.140625 10.015625 43.890625 \nL 10.015625 52.203125 \nQ 14.9375 54.109375 19.578125 55.046875 \nQ 24.21875 56 28.609375 56 \nQ 40.484375 56 46.34375 49.84375 \nQ 52.203125 43.703125 52.203125 31.203125 \nz\n\" id=\"DejaVuSans-97\"/>\n      <path d=\"M 48.78125 52.59375 \nL 48.78125 44.1875 \nQ 44.96875 46.296875 41.140625 47.34375 \nQ 37.3125 48.390625 33.40625 48.390625 \nQ 24.65625 48.390625 19.8125 42.84375 \nQ 14.984375 37.3125 14.984375 27.296875 \nQ 14.984375 17.28125 19.8125 11.734375 \nQ 24.65625 6.203125 33.40625 6.203125 \nQ 37.3125 6.203125 41.140625 7.25 \nQ 44.96875 8.296875 48.78125 10.40625 \nL 48.78125 2.09375 \nQ 45.015625 0.34375 40.984375 -0.53125 \nQ 36.96875 -1.421875 32.421875 -1.421875 \nQ 20.0625 -1.421875 12.78125 6.34375 \nQ 5.515625 14.109375 5.515625 27.296875 \nQ 5.515625 40.671875 12.859375 48.328125 \nQ 20.21875 56 33.015625 56 \nQ 37.15625 56 41.109375 55.140625 \nQ 45.0625 54.296875 48.78125 52.59375 \nz\n\" id=\"DejaVuSans-99\"/>\n      <path d=\"M 18.3125 70.21875 \nL 18.3125 54.6875 \nL 36.8125 54.6875 \nL 36.8125 47.703125 \nL 18.3125 47.703125 \nL 18.3125 18.015625 \nQ 18.3125 11.328125 20.140625 9.421875 \nQ 21.96875 7.515625 27.59375 7.515625 \nL 36.8125 7.515625 \nL 36.8125 0 \nL 27.59375 0 \nQ 17.1875 0 13.234375 3.875 \nQ 9.28125 7.765625 9.28125 18.015625 \nL 9.28125 47.703125 \nL 2.6875 47.703125 \nL 2.6875 54.6875 \nL 9.28125 54.6875 \nL 9.28125 70.21875 \nz\n\" id=\"DejaVuSans-116\"/>\n      <path d=\"M 9.421875 54.6875 \nL 18.40625 54.6875 \nL 18.40625 0 \nL 9.421875 0 \nz\nM 9.421875 75.984375 \nL 18.40625 75.984375 \nL 18.40625 64.59375 \nL 9.421875 64.59375 \nz\n\" id=\"DejaVuSans-105\"/>\n      <path d=\"M 30.609375 48.390625 \nQ 23.390625 48.390625 19.1875 42.75 \nQ 14.984375 37.109375 14.984375 27.296875 \nQ 14.984375 17.484375 19.15625 11.84375 \nQ 23.34375 6.203125 30.609375 6.203125 \nQ 37.796875 6.203125 41.984375 11.859375 \nQ 46.1875 17.53125 46.1875 27.296875 \nQ 46.1875 37.015625 41.984375 42.703125 \nQ 37.796875 48.390625 30.609375 48.390625 \nz\nM 30.609375 56 \nQ 42.328125 56 49.015625 48.375 \nQ 55.71875 40.765625 55.71875 27.296875 \nQ 55.71875 13.875 49.015625 6.21875 \nQ 42.328125 -1.421875 30.609375 -1.421875 \nQ 18.84375 -1.421875 12.171875 6.21875 \nQ 5.515625 13.875 5.515625 27.296875 \nQ 5.515625 40.765625 12.171875 48.375 \nQ 18.84375 56 30.609375 56 \nz\n\" id=\"DejaVuSans-111\"/>\n      <path d=\"M 54.890625 33.015625 \nL 54.890625 0 \nL 45.90625 0 \nL 45.90625 32.71875 \nQ 45.90625 40.484375 42.875 44.328125 \nQ 39.84375 48.1875 33.796875 48.1875 \nQ 26.515625 48.1875 22.3125 43.546875 \nQ 18.109375 38.921875 18.109375 30.90625 \nL 18.109375 0 \nL 9.078125 0 \nL 9.078125 54.6875 \nL 18.109375 54.6875 \nL 18.109375 46.1875 \nQ 21.34375 51.125 25.703125 53.5625 \nQ 30.078125 56 35.796875 56 \nQ 45.21875 56 50.046875 50.171875 \nQ 54.890625 44.34375 54.890625 33.015625 \nz\n\" id=\"DejaVuSans-110\"/>\n      <path id=\"DejaVuSans-32\"/>\n      <path d=\"M 37.109375 75.984375 \nL 37.109375 68.5 \nL 28.515625 68.5 \nQ 23.6875 68.5 21.796875 66.546875 \nQ 19.921875 64.59375 19.921875 59.515625 \nL 19.921875 54.6875 \nL 34.71875 54.6875 \nL 34.71875 47.703125 \nL 19.921875 47.703125 \nL 19.921875 0 \nL 10.890625 0 \nL 10.890625 47.703125 \nL 2.296875 47.703125 \nL 2.296875 54.6875 \nL 10.890625 54.6875 \nL 10.890625 58.5 \nQ 10.890625 67.625 15.140625 71.796875 \nQ 19.390625 75.984375 28.609375 75.984375 \nz\n\" id=\"DejaVuSans-102\"/>\n      <path d=\"M 18.109375 8.203125 \nL 18.109375 -20.796875 \nL 9.078125 -20.796875 \nL 9.078125 54.6875 \nL 18.109375 54.6875 \nL 18.109375 46.390625 \nQ 20.953125 51.265625 25.265625 53.625 \nQ 29.59375 56 35.59375 56 \nQ 45.5625 56 51.78125 48.09375 \nQ 58.015625 40.1875 58.015625 27.296875 \nQ 58.015625 14.40625 51.78125 6.484375 \nQ 45.5625 -1.421875 35.59375 -1.421875 \nQ 29.59375 -1.421875 25.265625 0.953125 \nQ 20.953125 3.328125 18.109375 8.203125 \nz\nM 48.6875 27.296875 \nQ 48.6875 37.203125 44.609375 42.84375 \nQ 40.53125 48.484375 33.40625 48.484375 \nQ 26.265625 48.484375 22.1875 42.84375 \nQ 18.109375 37.203125 18.109375 27.296875 \nQ 18.109375 17.390625 22.1875 11.75 \nQ 26.265625 6.109375 33.40625 6.109375 \nQ 40.53125 6.109375 44.609375 11.75 \nQ 48.6875 17.390625 48.6875 27.296875 \nz\n\" id=\"DejaVuSans-112\"/>\n      <path d=\"M 44.28125 53.078125 \nL 44.28125 44.578125 \nQ 40.484375 46.53125 36.375 47.5 \nQ 32.28125 48.484375 27.875 48.484375 \nQ 21.1875 48.484375 17.84375 46.4375 \nQ 14.5 44.390625 14.5 40.28125 \nQ 14.5 37.15625 16.890625 35.375 \nQ 19.28125 33.59375 26.515625 31.984375 \nL 29.59375 31.296875 \nQ 39.15625 29.25 43.1875 25.515625 \nQ 47.21875 21.78125 47.21875 15.09375 \nQ 47.21875 7.46875 41.1875 3.015625 \nQ 35.15625 -1.421875 24.609375 -1.421875 \nQ 20.21875 -1.421875 15.453125 -0.5625 \nQ 10.6875 0.296875 5.421875 2 \nL 5.421875 11.28125 \nQ 10.40625 8.6875 15.234375 7.390625 \nQ 20.0625 6.109375 24.8125 6.109375 \nQ 31.15625 6.109375 34.5625 8.28125 \nQ 37.984375 10.453125 37.984375 14.40625 \nQ 37.984375 18.0625 35.515625 20.015625 \nQ 33.0625 21.96875 24.703125 23.78125 \nL 21.578125 24.515625 \nQ 13.234375 26.265625 9.515625 29.90625 \nQ 5.8125 33.546875 5.8125 39.890625 \nQ 5.8125 47.609375 11.28125 51.796875 \nQ 16.75 56 26.8125 56 \nQ 31.78125 56 36.171875 55.265625 \nQ 40.578125 54.546875 44.28125 53.078125 \nz\n\" id=\"DejaVuSans-115\"/>\n      <path d=\"M 2.984375 54.6875 \nL 12.5 54.6875 \nL 29.59375 8.796875 \nL 46.6875 54.6875 \nL 56.203125 54.6875 \nL 35.6875 0 \nL 23.484375 0 \nz\n\" id=\"DejaVuSans-118\"/>\n      <path d=\"M 56.203125 29.59375 \nL 56.203125 25.203125 \nL 14.890625 25.203125 \nQ 15.484375 15.921875 20.484375 11.0625 \nQ 25.484375 6.203125 34.421875 6.203125 \nQ 39.59375 6.203125 44.453125 7.46875 \nQ 49.3125 8.734375 54.109375 11.28125 \nL 54.109375 2.78125 \nQ 49.265625 0.734375 44.1875 -0.34375 \nQ 39.109375 -1.421875 33.890625 -1.421875 \nQ 20.796875 -1.421875 13.15625 6.1875 \nQ 5.515625 13.8125 5.515625 26.8125 \nQ 5.515625 40.234375 12.765625 48.109375 \nQ 20.015625 56 32.328125 56 \nQ 43.359375 56 49.78125 48.890625 \nQ 56.203125 41.796875 56.203125 29.59375 \nz\nM 47.21875 32.234375 \nQ 47.125 39.59375 43.09375 43.984375 \nQ 39.0625 48.390625 32.421875 48.390625 \nQ 24.90625 48.390625 20.390625 44.140625 \nQ 15.875 39.890625 15.1875 32.171875 \nz\n\" id=\"DejaVuSans-101\"/>\n      <path d=\"M 31 75.875 \nQ 24.46875 64.65625 21.28125 53.65625 \nQ 18.109375 42.671875 18.109375 31.390625 \nQ 18.109375 20.125 21.3125 9.0625 \nQ 24.515625 -2 31 -13.1875 \nL 23.1875 -13.1875 \nQ 15.875 -1.703125 12.234375 9.375 \nQ 8.59375 20.453125 8.59375 31.390625 \nQ 8.59375 42.28125 12.203125 53.3125 \nQ 15.828125 64.359375 23.1875 75.875 \nz\n\" id=\"DejaVuSans-40\"/>\n      <path d=\"M 19.671875 64.796875 \nL 19.671875 37.40625 \nL 32.078125 37.40625 \nQ 38.96875 37.40625 42.71875 40.96875 \nQ 46.484375 44.53125 46.484375 51.125 \nQ 46.484375 57.671875 42.71875 61.234375 \nQ 38.96875 64.796875 32.078125 64.796875 \nz\nM 9.8125 72.90625 \nL 32.078125 72.90625 \nQ 44.34375 72.90625 50.609375 67.359375 \nQ 56.890625 61.8125 56.890625 51.125 \nQ 56.890625 40.328125 50.609375 34.8125 \nQ 44.34375 29.296875 32.078125 29.296875 \nL 19.671875 29.296875 \nL 19.671875 0 \nL 9.8125 0 \nz\n\" id=\"DejaVuSans-80\"/>\n      <path d=\"M 45.40625 46.390625 \nL 45.40625 75.984375 \nL 54.390625 75.984375 \nL 54.390625 0 \nL 45.40625 0 \nL 45.40625 8.203125 \nQ 42.578125 3.328125 38.25 0.953125 \nQ 33.9375 -1.421875 27.875 -1.421875 \nQ 17.96875 -1.421875 11.734375 6.484375 \nQ 5.515625 14.40625 5.515625 27.296875 \nQ 5.515625 40.1875 11.734375 48.09375 \nQ 17.96875 56 27.875 56 \nQ 33.9375 56 38.25 53.625 \nQ 42.578125 51.265625 45.40625 46.390625 \nz\nM 14.796875 27.296875 \nQ 14.796875 17.390625 18.875 11.75 \nQ 22.953125 6.109375 30.078125 6.109375 \nQ 37.203125 6.109375 41.296875 11.75 \nQ 45.40625 17.390625 45.40625 27.296875 \nQ 45.40625 37.203125 41.296875 42.84375 \nQ 37.203125 48.484375 30.078125 48.484375 \nQ 22.953125 48.484375 18.875 42.84375 \nQ 14.796875 37.203125 14.796875 27.296875 \nz\n\" id=\"DejaVuSans-100\"/>\n      <path d=\"M 8.015625 75.875 \nL 15.828125 75.875 \nQ 23.140625 64.359375 26.78125 53.3125 \nQ 30.421875 42.28125 30.421875 31.390625 \nQ 30.421875 20.453125 26.78125 9.375 \nQ 23.140625 -1.703125 15.828125 -13.1875 \nL 8.015625 -13.1875 \nQ 14.5 -2 17.703125 9.0625 \nQ 20.90625 20.125 20.90625 31.390625 \nQ 20.90625 42.671875 17.703125 53.65625 \nQ 14.5 64.65625 8.015625 75.875 \nz\n\" id=\"DejaVuSans-41\"/>\n     </defs>\n     <g transform=\"translate(132.046094 268.034687)scale(0.1 -0.1)\">\n      <use xlink:href=\"#DejaVuSans-70\"/>\n      <use x=\"50.269531\" xlink:href=\"#DejaVuSans-114\"/>\n      <use x=\"91.382812\" xlink:href=\"#DejaVuSans-97\"/>\n      <use x=\"152.662109\" xlink:href=\"#DejaVuSans-99\"/>\n      <use x=\"207.642578\" xlink:href=\"#DejaVuSans-116\"/>\n      <use x=\"246.851562\" xlink:href=\"#DejaVuSans-105\"/>\n      <use x=\"274.634766\" xlink:href=\"#DejaVuSans-111\"/>\n      <use x=\"335.816406\" xlink:href=\"#DejaVuSans-110\"/>\n      <use x=\"399.195312\" xlink:href=\"#DejaVuSans-32\"/>\n      <use x=\"430.982422\" xlink:href=\"#DejaVuSans-111\"/>\n      <use x=\"492.164062\" xlink:href=\"#DejaVuSans-102\"/>\n      <use x=\"527.369141\" xlink:href=\"#DejaVuSans-32\"/>\n      <use x=\"559.15625\" xlink:href=\"#DejaVuSans-112\"/>\n      <use x=\"622.632812\" xlink:href=\"#DejaVuSans-111\"/>\n      <use x=\"683.814453\" xlink:href=\"#DejaVuSans-115\"/>\n      <use x=\"735.914062\" xlink:href=\"#DejaVuSans-105\"/>\n      <use x=\"763.697266\" xlink:href=\"#DejaVuSans-116\"/>\n      <use x=\"802.90625\" xlink:href=\"#DejaVuSans-105\"/>\n      <use x=\"830.689453\" xlink:href=\"#DejaVuSans-118\"/>\n      <use x=\"889.869141\" xlink:href=\"#DejaVuSans-101\"/>\n      <use x=\"951.392578\" xlink:href=\"#DejaVuSans-115\"/>\n      <use x=\"1003.492188\" xlink:href=\"#DejaVuSans-32\"/>\n      <use x=\"1035.279297\" xlink:href=\"#DejaVuSans-40\"/>\n      <use x=\"1074.292969\" xlink:href=\"#DejaVuSans-80\"/>\n      <use x=\"1132.845703\" xlink:href=\"#DejaVuSans-114\"/>\n      <use x=\"1171.708984\" xlink:href=\"#DejaVuSans-101\"/>\n      <use x=\"1233.232422\" xlink:href=\"#DejaVuSans-100\"/>\n      <use x=\"1296.708984\" xlink:href=\"#DejaVuSans-105\"/>\n      <use x=\"1324.492188\" xlink:href=\"#DejaVuSans-99\"/>\n      <use x=\"1379.472656\" xlink:href=\"#DejaVuSans-116\"/>\n      <use x=\"1418.681641\" xlink:href=\"#DejaVuSans-101\"/>\n      <use x=\"1480.205078\" xlink:href=\"#DejaVuSans-100\"/>\n      <use x=\"1543.681641\" xlink:href=\"#DejaVuSans-41\"/>\n     </g>\n    </g>\n   </g>\n   <g id=\"matplotlib.axis_2\">\n    <g id=\"ytick_1\">\n     <g id=\"line2d_6\">\n      <defs>\n       <path d=\"M 0 0 \nL -3.5 0 \n\" id=\"mef149e29ba\" style=\"stroke:#000000;stroke-width:0.8;\"/>\n      </defs>\n      <g>\n       <use style=\"stroke:#000000;stroke-width:0.8;\" x=\"43.78125\" xlink:href=\"#mef149e29ba\" y=\"229.874489\"/>\n      </g>\n     </g>\n     <g id=\"text_7\">\n      <!-- 0.0 -->\n      <g transform=\"translate(20.878125 233.673707)scale(0.1 -0.1)\">\n       <use xlink:href=\"#DejaVuSans-48\"/>\n       <use x=\"63.623047\" xlink:href=\"#DejaVuSans-46\"/>\n       <use x=\"95.410156\" xlink:href=\"#DejaVuSans-48\"/>\n      </g>\n     </g>\n    </g>\n    <g id=\"ytick_2\">\n     <g id=\"line2d_7\">\n      <g>\n       <use style=\"stroke:#000000;stroke-width:0.8;\" x=\"43.78125\" xlink:href=\"#mef149e29ba\" y=\"190.339943\"/>\n      </g>\n     </g>\n     <g id=\"text_8\">\n      <!-- 0.2 -->\n      <g transform=\"translate(20.878125 194.139162)scale(0.1 -0.1)\">\n       <use xlink:href=\"#DejaVuSans-48\"/>\n       <use x=\"63.623047\" xlink:href=\"#DejaVuSans-46\"/>\n       <use x=\"95.410156\" xlink:href=\"#DejaVuSans-50\"/>\n      </g>\n     </g>\n    </g>\n    <g id=\"ytick_3\">\n     <g id=\"line2d_8\">\n      <g>\n       <use style=\"stroke:#000000;stroke-width:0.8;\" x=\"43.78125\" xlink:href=\"#mef149e29ba\" y=\"150.805398\"/>\n      </g>\n     </g>\n     <g id=\"text_9\">\n      <!-- 0.4 -->\n      <g transform=\"translate(20.878125 154.604616)scale(0.1 -0.1)\">\n       <use xlink:href=\"#DejaVuSans-48\"/>\n       <use x=\"63.623047\" xlink:href=\"#DejaVuSans-46\"/>\n       <use x=\"95.410156\" xlink:href=\"#DejaVuSans-52\"/>\n      </g>\n     </g>\n    </g>\n    <g id=\"ytick_4\">\n     <g id=\"line2d_9\">\n      <g>\n       <use style=\"stroke:#000000;stroke-width:0.8;\" x=\"43.78125\" xlink:href=\"#mef149e29ba\" y=\"111.270852\"/>\n      </g>\n     </g>\n     <g id=\"text_10\">\n      <!-- 0.6 -->\n      <g transform=\"translate(20.878125 115.070071)scale(0.1 -0.1)\">\n       <use xlink:href=\"#DejaVuSans-48\"/>\n       <use x=\"63.623047\" xlink:href=\"#DejaVuSans-46\"/>\n       <use x=\"95.410156\" xlink:href=\"#DejaVuSans-54\"/>\n      </g>\n     </g>\n    </g>\n    <g id=\"ytick_5\">\n     <g id=\"line2d_10\">\n      <g>\n       <use style=\"stroke:#000000;stroke-width:0.8;\" x=\"43.78125\" xlink:href=\"#mef149e29ba\" y=\"71.736307\"/>\n      </g>\n     </g>\n     <g id=\"text_11\">\n      <!-- 0.8 -->\n      <g transform=\"translate(20.878125 75.535526)scale(0.1 -0.1)\">\n       <use xlink:href=\"#DejaVuSans-48\"/>\n       <use x=\"63.623047\" xlink:href=\"#DejaVuSans-46\"/>\n       <use x=\"95.410156\" xlink:href=\"#DejaVuSans-56\"/>\n      </g>\n     </g>\n    </g>\n    <g id=\"ytick_6\">\n     <g id=\"line2d_11\">\n      <g>\n       <use style=\"stroke:#000000;stroke-width:0.8;\" x=\"43.78125\" xlink:href=\"#mef149e29ba\" y=\"32.201761\"/>\n      </g>\n     </g>\n     <g id=\"text_12\">\n      <!-- 1.0 -->\n      <defs>\n       <path d=\"M 12.40625 8.296875 \nL 28.515625 8.296875 \nL 28.515625 63.921875 \nL 10.984375 60.40625 \nL 10.984375 69.390625 \nL 28.421875 72.90625 \nL 38.28125 72.90625 \nL 38.28125 8.296875 \nL 54.390625 8.296875 \nL 54.390625 0 \nL 12.40625 0 \nz\n\" id=\"DejaVuSans-49\"/>\n      </defs>\n      <g transform=\"translate(20.878125 36.00098)scale(0.1 -0.1)\">\n       <use xlink:href=\"#DejaVuSans-49\"/>\n       <use x=\"63.623047\" xlink:href=\"#DejaVuSans-46\"/>\n       <use x=\"95.410156\" xlink:href=\"#DejaVuSans-48\"/>\n      </g>\n     </g>\n    </g>\n    <g id=\"text_13\">\n     <!-- Fraction of positives (Actual) -->\n     <defs>\n      <path d=\"M 34.1875 63.1875 \nL 20.796875 26.90625 \nL 47.609375 26.90625 \nz\nM 28.609375 72.90625 \nL 39.796875 72.90625 \nL 67.578125 0 \nL 57.328125 0 \nL 50.6875 18.703125 \nL 17.828125 18.703125 \nL 11.1875 0 \nL 0.78125 0 \nz\n\" id=\"DejaVuSans-65\"/>\n      <path d=\"M 8.5 21.578125 \nL 8.5 54.6875 \nL 17.484375 54.6875 \nL 17.484375 21.921875 \nQ 17.484375 14.15625 20.5 10.265625 \nQ 23.53125 6.390625 29.59375 6.390625 \nQ 36.859375 6.390625 41.078125 11.03125 \nQ 45.3125 15.671875 45.3125 23.6875 \nL 45.3125 54.6875 \nL 54.296875 54.6875 \nL 54.296875 0 \nL 45.3125 0 \nL 45.3125 8.40625 \nQ 42.046875 3.421875 37.71875 1 \nQ 33.40625 -1.421875 27.6875 -1.421875 \nQ 18.265625 -1.421875 13.375 4.4375 \nQ 8.5 10.296875 8.5 21.578125 \nz\nM 31.109375 56 \nz\n\" id=\"DejaVuSans-117\"/>\n      <path d=\"M 9.421875 75.984375 \nL 18.40625 75.984375 \nL 18.40625 0 \nL 9.421875 0 \nz\n\" id=\"DejaVuSans-108\"/>\n     </defs>\n     <g transform=\"translate(14.798438 202.367031)rotate(-90)scale(0.1 -0.1)\">\n      <use xlink:href=\"#DejaVuSans-70\"/>\n      <use x=\"50.269531\" xlink:href=\"#DejaVuSans-114\"/>\n      <use x=\"91.382812\" xlink:href=\"#DejaVuSans-97\"/>\n      <use x=\"152.662109\" xlink:href=\"#DejaVuSans-99\"/>\n      <use x=\"207.642578\" xlink:href=\"#DejaVuSans-116\"/>\n      <use x=\"246.851562\" xlink:href=\"#DejaVuSans-105\"/>\n      <use x=\"274.634766\" xlink:href=\"#DejaVuSans-111\"/>\n      <use x=\"335.816406\" xlink:href=\"#DejaVuSans-110\"/>\n      <use x=\"399.195312\" xlink:href=\"#DejaVuSans-32\"/>\n      <use x=\"430.982422\" xlink:href=\"#DejaVuSans-111\"/>\n      <use x=\"492.164062\" xlink:href=\"#DejaVuSans-102\"/>\n      <use x=\"527.369141\" xlink:href=\"#DejaVuSans-32\"/>\n      <use x=\"559.15625\" xlink:href=\"#DejaVuSans-112\"/>\n      <use x=\"622.632812\" xlink:href=\"#DejaVuSans-111\"/>\n      <use x=\"683.814453\" xlink:href=\"#DejaVuSans-115\"/>\n      <use x=\"735.914062\" xlink:href=\"#DejaVuSans-105\"/>\n      <use x=\"763.697266\" xlink:href=\"#DejaVuSans-116\"/>\n      <use x=\"802.90625\" xlink:href=\"#DejaVuSans-105\"/>\n      <use x=\"830.689453\" xlink:href=\"#DejaVuSans-118\"/>\n      <use x=\"889.869141\" xlink:href=\"#DejaVuSans-101\"/>\n      <use x=\"951.392578\" xlink:href=\"#DejaVuSans-115\"/>\n      <use x=\"1003.492188\" xlink:href=\"#DejaVuSans-32\"/>\n      <use x=\"1035.279297\" xlink:href=\"#DejaVuSans-40\"/>\n      <use x=\"1074.292969\" xlink:href=\"#DejaVuSans-65\"/>\n      <use x=\"1140.951172\" xlink:href=\"#DejaVuSans-99\"/>\n      <use x=\"1195.931641\" xlink:href=\"#DejaVuSans-116\"/>\n      <use x=\"1235.140625\" xlink:href=\"#DejaVuSans-117\"/>\n      <use x=\"1298.519531\" xlink:href=\"#DejaVuSans-97\"/>\n      <use x=\"1359.798828\" xlink:href=\"#DejaVuSans-108\"/>\n      <use x=\"1387.582031\" xlink:href=\"#DejaVuSans-41\"/>\n     </g>\n    </g>\n   </g>\n   <g id=\"line2d_12\">\n    <path clip-path=\"url(#p96304d437c)\" d=\"M 59.196541 229.837728 \nL 63.541377 226.883193 \nL 103.642696 203.077744 \nL 179.436392 159.930275 \nL 222.957228 134.037993 \nL 250.634314 118.122272 \nL 277.527764 104.198483 \nL 297.008446 92.279473 \nL 315.793606 72.521985 \n\" style=\"fill:none;stroke:#1f77b4;stroke-linecap:square;stroke-width:1.5;\"/>\n   </g>\n   <g id=\"line2d_13\">\n    <path clip-path=\"url(#p96304d437c)\" d=\"M 59.264731 229.874489 \nL 59.43321 229.80115 \nL 62.289996 226.794256 \nL 88.345424 201.53773 \nL 132.097959 158.83356 \nL 153.081128 132.749366 \nL 166.13601 116.796398 \nL 180.846758 103.193797 \nL 197.66293 92.046287 \nL 243.941413 72.367021 \n\" style=\"fill:none;stroke:#ff7f0e;stroke-linecap:square;stroke-width:1.5;\"/>\n   </g>\n   <g id=\"line2d_14\">\n    <path clip-path=\"url(#p96304d437c)\" d=\"M 74.617488 229.874489 \nL 74.690597 229.80115 \nL 76.01152 226.794256 \nL 94.992902 201.53773 \nL 157.080001 158.83356 \nL 203.152793 132.749366 \nL 235.150812 116.796398 \nL 270.600018 103.193797 \nL 306.750253 92.046287 \nL 363.363068 72.367021 \n\" style=\"fill:none;stroke:#2ca02c;stroke-linecap:square;stroke-width:1.5;\"/>\n   </g>\n   <g id=\"line2d_15\">\n    <path clip-path=\"url(#p96304d437c)\" d=\"M 59.10571 229.874489 \nL 59.203202 229.80115 \nL 62.087904 226.794256 \nL 107.143493 201.53773 \nL 192.530069 158.83356 \nL 229.362191 132.749366 \nL 249.77291 116.796398 \nL 270.542208 103.193797 \nL 291.594395 92.046287 \nL 334.365317 72.367021 \n\" style=\"fill:none;stroke:#d62728;stroke-linecap:square;stroke-width:1.5;\"/>\n   </g>\n   <g id=\"line2d_16\">\n    <path clip-path=\"url(#p96304d437c)\" d=\"M 58.999432 229.874489 \nL 330.915017 72.367021 \n\" style=\"fill:none;stroke:#9467bd;stroke-dasharray:5.55,2.4;stroke-dashoffset:0;stroke-width:1.5;\"/>\n   </g>\n   <g id=\"patch_3\">\n    <path d=\"M 43.78125 239.758125 \nL 43.78125 22.318125 \n\" style=\"fill:none;stroke:#000000;stroke-linecap:square;stroke-linejoin:miter;stroke-width:0.8;\"/>\n   </g>\n   <g id=\"patch_4\">\n    <path d=\"M 378.58125 239.758125 \nL 378.58125 22.318125 \n\" style=\"fill:none;stroke:#000000;stroke-linecap:square;stroke-linejoin:miter;stroke-width:0.8;\"/>\n   </g>\n   <g id=\"patch_5\">\n    <path d=\"M 43.78125 239.758125 \nL 378.58125 239.758125 \n\" style=\"fill:none;stroke:#000000;stroke-linecap:square;stroke-linejoin:miter;stroke-width:0.8;\"/>\n   </g>\n   <g id=\"patch_6\">\n    <path d=\"M 43.78125 22.318125 \nL 378.58125 22.318125 \n\" style=\"fill:none;stroke:#000000;stroke-linecap:square;stroke-linejoin:miter;stroke-width:0.8;\"/>\n   </g>\n   <g id=\"text_14\">\n    <!-- Calibration Plots (Reliability Curve) -->\n    <defs>\n     <path d=\"M 64.40625 67.28125 \nL 64.40625 56.890625 \nQ 59.421875 61.53125 53.78125 63.8125 \nQ 48.140625 66.109375 41.796875 66.109375 \nQ 29.296875 66.109375 22.65625 58.46875 \nQ 16.015625 50.828125 16.015625 36.375 \nQ 16.015625 21.96875 22.65625 14.328125 \nQ 29.296875 6.6875 41.796875 6.6875 \nQ 48.140625 6.6875 53.78125 8.984375 \nQ 59.421875 11.28125 64.40625 15.921875 \nL 64.40625 5.609375 \nQ 59.234375 2.09375 53.4375 0.328125 \nQ 47.65625 -1.421875 41.21875 -1.421875 \nQ 24.65625 -1.421875 15.125 8.703125 \nQ 5.609375 18.84375 5.609375 36.375 \nQ 5.609375 53.953125 15.125 64.078125 \nQ 24.65625 74.21875 41.21875 74.21875 \nQ 47.75 74.21875 53.53125 72.484375 \nQ 59.328125 70.75 64.40625 67.28125 \nz\n\" id=\"DejaVuSans-67\"/>\n     <path d=\"M 48.6875 27.296875 \nQ 48.6875 37.203125 44.609375 42.84375 \nQ 40.53125 48.484375 33.40625 48.484375 \nQ 26.265625 48.484375 22.1875 42.84375 \nQ 18.109375 37.203125 18.109375 27.296875 \nQ 18.109375 17.390625 22.1875 11.75 \nQ 26.265625 6.109375 33.40625 6.109375 \nQ 40.53125 6.109375 44.609375 11.75 \nQ 48.6875 17.390625 48.6875 27.296875 \nz\nM 18.109375 46.390625 \nQ 20.953125 51.265625 25.265625 53.625 \nQ 29.59375 56 35.59375 56 \nQ 45.5625 56 51.78125 48.09375 \nQ 58.015625 40.1875 58.015625 27.296875 \nQ 58.015625 14.40625 51.78125 6.484375 \nQ 45.5625 -1.421875 35.59375 -1.421875 \nQ 29.59375 -1.421875 25.265625 0.953125 \nQ 20.953125 3.328125 18.109375 8.203125 \nL 18.109375 0 \nL 9.078125 0 \nL 9.078125 75.984375 \nL 18.109375 75.984375 \nz\n\" id=\"DejaVuSans-98\"/>\n     <path d=\"M 44.390625 34.1875 \nQ 47.5625 33.109375 50.5625 29.59375 \nQ 53.5625 26.078125 56.59375 19.921875 \nL 66.609375 0 \nL 56 0 \nL 46.6875 18.703125 \nQ 43.0625 26.03125 39.671875 28.421875 \nQ 36.28125 30.8125 30.421875 30.8125 \nL 19.671875 30.8125 \nL 19.671875 0 \nL 9.8125 0 \nL 9.8125 72.90625 \nL 32.078125 72.90625 \nQ 44.578125 72.90625 50.734375 67.671875 \nQ 56.890625 62.453125 56.890625 51.90625 \nQ 56.890625 45.015625 53.6875 40.46875 \nQ 50.484375 35.9375 44.390625 34.1875 \nz\nM 19.671875 64.796875 \nL 19.671875 38.921875 \nL 32.078125 38.921875 \nQ 39.203125 38.921875 42.84375 42.21875 \nQ 46.484375 45.515625 46.484375 51.90625 \nQ 46.484375 58.296875 42.84375 61.546875 \nQ 39.203125 64.796875 32.078125 64.796875 \nz\n\" id=\"DejaVuSans-82\"/>\n     <path d=\"M 32.171875 -5.078125 \nQ 28.375 -14.84375 24.75 -17.8125 \nQ 21.140625 -20.796875 15.09375 -20.796875 \nL 7.90625 -20.796875 \nL 7.90625 -13.28125 \nL 13.1875 -13.28125 \nQ 16.890625 -13.28125 18.9375 -11.515625 \nQ 21 -9.765625 23.484375 -3.21875 \nL 25.09375 0.875 \nL 2.984375 54.6875 \nL 12.5 54.6875 \nL 29.59375 11.921875 \nL 46.6875 54.6875 \nL 56.203125 54.6875 \nz\n\" id=\"DejaVuSans-121\"/>\n    </defs>\n    <g transform=\"translate(106.682813 16.318125)scale(0.12 -0.12)\">\n     <use xlink:href=\"#DejaVuSans-67\"/>\n     <use x=\"69.824219\" xlink:href=\"#DejaVuSans-97\"/>\n     <use x=\"131.103516\" xlink:href=\"#DejaVuSans-108\"/>\n     <use x=\"158.886719\" xlink:href=\"#DejaVuSans-105\"/>\n     <use x=\"186.669922\" xlink:href=\"#DejaVuSans-98\"/>\n     <use x=\"250.146484\" xlink:href=\"#DejaVuSans-114\"/>\n     <use x=\"291.259766\" xlink:href=\"#DejaVuSans-97\"/>\n     <use x=\"352.539062\" xlink:href=\"#DejaVuSans-116\"/>\n     <use x=\"391.748047\" xlink:href=\"#DejaVuSans-105\"/>\n     <use x=\"419.53125\" xlink:href=\"#DejaVuSans-111\"/>\n     <use x=\"480.712891\" xlink:href=\"#DejaVuSans-110\"/>\n     <use x=\"544.091797\" xlink:href=\"#DejaVuSans-32\"/>\n     <use x=\"575.878906\" xlink:href=\"#DejaVuSans-80\"/>\n     <use x=\"636.181641\" xlink:href=\"#DejaVuSans-108\"/>\n     <use x=\"663.964844\" xlink:href=\"#DejaVuSans-111\"/>\n     <use x=\"725.146484\" xlink:href=\"#DejaVuSans-116\"/>\n     <use x=\"764.355469\" xlink:href=\"#DejaVuSans-115\"/>\n     <use x=\"816.455078\" xlink:href=\"#DejaVuSans-32\"/>\n     <use x=\"848.242188\" xlink:href=\"#DejaVuSans-40\"/>\n     <use x=\"887.255859\" xlink:href=\"#DejaVuSans-82\"/>\n     <use x=\"952.238281\" xlink:href=\"#DejaVuSans-101\"/>\n     <use x=\"1013.761719\" xlink:href=\"#DejaVuSans-108\"/>\n     <use x=\"1041.544922\" xlink:href=\"#DejaVuSans-105\"/>\n     <use x=\"1069.328125\" xlink:href=\"#DejaVuSans-97\"/>\n     <use x=\"1130.607422\" xlink:href=\"#DejaVuSans-98\"/>\n     <use x=\"1194.083984\" xlink:href=\"#DejaVuSans-105\"/>\n     <use x=\"1221.867188\" xlink:href=\"#DejaVuSans-108\"/>\n     <use x=\"1249.650391\" xlink:href=\"#DejaVuSans-105\"/>\n     <use x=\"1277.433594\" xlink:href=\"#DejaVuSans-116\"/>\n     <use x=\"1316.642578\" xlink:href=\"#DejaVuSans-121\"/>\n     <use x=\"1375.822266\" xlink:href=\"#DejaVuSans-32\"/>\n     <use x=\"1407.609375\" xlink:href=\"#DejaVuSans-67\"/>\n     <use x=\"1477.433594\" xlink:href=\"#DejaVuSans-117\"/>\n     <use x=\"1540.8125\" xlink:href=\"#DejaVuSans-114\"/>\n     <use x=\"1581.925781\" xlink:href=\"#DejaVuSans-118\"/>\n     <use x=\"1641.105469\" xlink:href=\"#DejaVuSans-101\"/>\n     <use x=\"1702.628906\" xlink:href=\"#DejaVuSans-41\"/>\n    </g>\n   </g>\n   <g id=\"legend_1\">\n    <g id=\"patch_7\">\n     <path d=\"M 50.78125 74.3525 \nL 364.498438 74.3525 \nQ 366.498438 74.3525 366.498438 72.3525 \nL 366.498438 29.318125 \nQ 366.498438 27.318125 364.498438 27.318125 \nL 50.78125 27.318125 \nQ 48.78125 27.318125 48.78125 29.318125 \nL 48.78125 72.3525 \nQ 48.78125 74.3525 50.78125 74.3525 \nz\n\" style=\"fill:#ffffff;opacity:0.8;stroke:#cccccc;stroke-linejoin:miter;\"/>\n    </g>\n    <g id=\"line2d_17\">\n     <path d=\"M 52.78125 35.416562 \nL 72.78125 35.416562 \n\" style=\"fill:none;stroke:#1f77b4;stroke-linecap:square;stroke-width:1.5;\"/>\n    </g>\n    <g id=\"line2d_18\"/>\n    <g id=\"text_15\">\n     <!-- test Isotonic Regression -->\n     <defs>\n      <path d=\"M 9.8125 72.90625 \nL 19.671875 72.90625 \nL 19.671875 0 \nL 9.8125 0 \nz\n\" id=\"DejaVuSans-73\"/>\n      <path d=\"M 45.40625 27.984375 \nQ 45.40625 37.75 41.375 43.109375 \nQ 37.359375 48.484375 30.078125 48.484375 \nQ 22.859375 48.484375 18.828125 43.109375 \nQ 14.796875 37.75 14.796875 27.984375 \nQ 14.796875 18.265625 18.828125 12.890625 \nQ 22.859375 7.515625 30.078125 7.515625 \nQ 37.359375 7.515625 41.375 12.890625 \nQ 45.40625 18.265625 45.40625 27.984375 \nz\nM 54.390625 6.78125 \nQ 54.390625 -7.171875 48.1875 -13.984375 \nQ 42 -20.796875 29.203125 -20.796875 \nQ 24.46875 -20.796875 20.265625 -20.09375 \nQ 16.0625 -19.390625 12.109375 -17.921875 \nL 12.109375 -9.1875 \nQ 16.0625 -11.328125 19.921875 -12.34375 \nQ 23.78125 -13.375 27.78125 -13.375 \nQ 36.625 -13.375 41.015625 -8.765625 \nQ 45.40625 -4.15625 45.40625 5.171875 \nL 45.40625 9.625 \nQ 42.625 4.78125 38.28125 2.390625 \nQ 33.9375 0 27.875 0 \nQ 17.828125 0 11.671875 7.65625 \nQ 5.515625 15.328125 5.515625 27.984375 \nQ 5.515625 40.671875 11.671875 48.328125 \nQ 17.828125 56 27.875 56 \nQ 33.9375 56 38.28125 53.609375 \nQ 42.625 51.21875 45.40625 46.390625 \nL 45.40625 54.6875 \nL 54.390625 54.6875 \nz\n\" id=\"DejaVuSans-103\"/>\n     </defs>\n     <g transform=\"translate(80.78125 38.916562)scale(0.1 -0.1)\">\n      <use xlink:href=\"#DejaVuSans-116\"/>\n      <use x=\"39.208984\" xlink:href=\"#DejaVuSans-101\"/>\n      <use x=\"100.732422\" xlink:href=\"#DejaVuSans-115\"/>\n      <use x=\"152.832031\" xlink:href=\"#DejaVuSans-116\"/>\n      <use x=\"192.041016\" xlink:href=\"#DejaVuSans-32\"/>\n      <use x=\"223.828125\" xlink:href=\"#DejaVuSans-73\"/>\n      <use x=\"253.320312\" xlink:href=\"#DejaVuSans-115\"/>\n      <use x=\"305.419922\" xlink:href=\"#DejaVuSans-111\"/>\n      <use x=\"366.601562\" xlink:href=\"#DejaVuSans-116\"/>\n      <use x=\"405.810547\" xlink:href=\"#DejaVuSans-111\"/>\n      <use x=\"466.992188\" xlink:href=\"#DejaVuSans-110\"/>\n      <use x=\"530.371094\" xlink:href=\"#DejaVuSans-105\"/>\n      <use x=\"558.154297\" xlink:href=\"#DejaVuSans-99\"/>\n      <use x=\"613.134766\" xlink:href=\"#DejaVuSans-32\"/>\n      <use x=\"644.921875\" xlink:href=\"#DejaVuSans-82\"/>\n      <use x=\"709.904297\" xlink:href=\"#DejaVuSans-101\"/>\n      <use x=\"771.427734\" xlink:href=\"#DejaVuSans-103\"/>\n      <use x=\"834.904297\" xlink:href=\"#DejaVuSans-114\"/>\n      <use x=\"873.767578\" xlink:href=\"#DejaVuSans-101\"/>\n      <use x=\"935.291016\" xlink:href=\"#DejaVuSans-115\"/>\n      <use x=\"987.390625\" xlink:href=\"#DejaVuSans-115\"/>\n      <use x=\"1039.490234\" xlink:href=\"#DejaVuSans-105\"/>\n      <use x=\"1067.273438\" xlink:href=\"#DejaVuSans-111\"/>\n      <use x=\"1128.455078\" xlink:href=\"#DejaVuSans-110\"/>\n     </g>\n    </g>\n    <g id=\"line2d_19\">\n     <path d=\"M 52.78125 50.094687 \nL 72.78125 50.094687 \n\" style=\"fill:none;stroke:#ff7f0e;stroke-linecap:square;stroke-width:1.5;\"/>\n    </g>\n    <g id=\"line2d_20\"/>\n    <g id=\"text_16\">\n     <!-- test uncalibrated -->\n     <g transform=\"translate(80.78125 53.594687)scale(0.1 -0.1)\">\n      <use xlink:href=\"#DejaVuSans-116\"/>\n      <use x=\"39.208984\" xlink:href=\"#DejaVuSans-101\"/>\n      <use x=\"100.732422\" xlink:href=\"#DejaVuSans-115\"/>\n      <use x=\"152.832031\" xlink:href=\"#DejaVuSans-116\"/>\n      <use x=\"192.041016\" xlink:href=\"#DejaVuSans-32\"/>\n      <use x=\"223.828125\" xlink:href=\"#DejaVuSans-117\"/>\n      <use x=\"287.207031\" xlink:href=\"#DejaVuSans-110\"/>\n      <use x=\"350.585938\" xlink:href=\"#DejaVuSans-99\"/>\n      <use x=\"405.566406\" xlink:href=\"#DejaVuSans-97\"/>\n      <use x=\"466.845703\" xlink:href=\"#DejaVuSans-108\"/>\n      <use x=\"494.628906\" xlink:href=\"#DejaVuSans-105\"/>\n      <use x=\"522.412109\" xlink:href=\"#DejaVuSans-98\"/>\n      <use x=\"585.888672\" xlink:href=\"#DejaVuSans-114\"/>\n      <use x=\"627.001953\" xlink:href=\"#DejaVuSans-97\"/>\n      <use x=\"688.28125\" xlink:href=\"#DejaVuSans-116\"/>\n      <use x=\"727.490234\" xlink:href=\"#DejaVuSans-101\"/>\n      <use x=\"789.013672\" xlink:href=\"#DejaVuSans-100\"/>\n     </g>\n    </g>\n    <g id=\"line2d_21\">\n     <path d=\"M 52.78125 64.772812 \nL 72.78125 64.772812 \n\" style=\"fill:none;stroke:#2ca02c;stroke-linecap:square;stroke-width:1.5;\"/>\n    </g>\n    <g id=\"line2d_22\"/>\n    <g id=\"text_17\">\n     <!-- test Platt Scaling -->\n     <defs>\n      <path d=\"M 53.515625 70.515625 \nL 53.515625 60.890625 \nQ 47.90625 63.578125 42.921875 64.890625 \nQ 37.9375 66.21875 33.296875 66.21875 \nQ 25.25 66.21875 20.875 63.09375 \nQ 16.5 59.96875 16.5 54.203125 \nQ 16.5 49.359375 19.40625 46.890625 \nQ 22.3125 44.4375 30.421875 42.921875 \nL 36.375 41.703125 \nQ 47.40625 39.59375 52.65625 34.296875 \nQ 57.90625 29 57.90625 20.125 \nQ 57.90625 9.515625 50.796875 4.046875 \nQ 43.703125 -1.421875 29.984375 -1.421875 \nQ 24.8125 -1.421875 18.96875 -0.25 \nQ 13.140625 0.921875 6.890625 3.21875 \nL 6.890625 13.375 \nQ 12.890625 10.015625 18.65625 8.296875 \nQ 24.421875 6.59375 29.984375 6.59375 \nQ 38.421875 6.59375 43.015625 9.90625 \nQ 47.609375 13.234375 47.609375 19.390625 \nQ 47.609375 24.75 44.3125 27.78125 \nQ 41.015625 30.8125 33.5 32.328125 \nL 27.484375 33.5 \nQ 16.453125 35.6875 11.515625 40.375 \nQ 6.59375 45.0625 6.59375 53.421875 \nQ 6.59375 63.09375 13.40625 68.65625 \nQ 20.21875 74.21875 32.171875 74.21875 \nQ 37.3125 74.21875 42.625 73.28125 \nQ 47.953125 72.359375 53.515625 70.515625 \nz\n\" id=\"DejaVuSans-83\"/>\n     </defs>\n     <g transform=\"translate(80.78125 68.272812)scale(0.1 -0.1)\">\n      <use xlink:href=\"#DejaVuSans-116\"/>\n      <use x=\"39.208984\" xlink:href=\"#DejaVuSans-101\"/>\n      <use x=\"100.732422\" xlink:href=\"#DejaVuSans-115\"/>\n      <use x=\"152.832031\" xlink:href=\"#DejaVuSans-116\"/>\n      <use x=\"192.041016\" xlink:href=\"#DejaVuSans-32\"/>\n      <use x=\"223.828125\" xlink:href=\"#DejaVuSans-80\"/>\n      <use x=\"284.130859\" xlink:href=\"#DejaVuSans-108\"/>\n      <use x=\"311.914062\" xlink:href=\"#DejaVuSans-97\"/>\n      <use x=\"373.193359\" xlink:href=\"#DejaVuSans-116\"/>\n      <use x=\"412.402344\" xlink:href=\"#DejaVuSans-116\"/>\n      <use x=\"451.611328\" xlink:href=\"#DejaVuSans-32\"/>\n      <use x=\"483.398438\" xlink:href=\"#DejaVuSans-83\"/>\n      <use x=\"546.875\" xlink:href=\"#DejaVuSans-99\"/>\n      <use x=\"601.855469\" xlink:href=\"#DejaVuSans-97\"/>\n      <use x=\"663.134766\" xlink:href=\"#DejaVuSans-108\"/>\n      <use x=\"690.917969\" xlink:href=\"#DejaVuSans-105\"/>\n      <use x=\"718.701172\" xlink:href=\"#DejaVuSans-110\"/>\n      <use x=\"782.080078\" xlink:href=\"#DejaVuSans-103\"/>\n     </g>\n    </g>\n    <g id=\"line2d_23\">\n     <path d=\"M 219.964063 35.416562 \nL 239.964063 35.416562 \n\" style=\"fill:none;stroke:#d62728;stroke-linecap:square;stroke-width:1.5;\"/>\n    </g>\n    <g id=\"line2d_24\"/>\n    <g id=\"text_18\">\n     <!-- test log + Platt Scaling -->\n     <defs>\n      <path d=\"M 46 62.703125 \nL 46 35.5 \nL 73.1875 35.5 \nL 73.1875 27.203125 \nL 46 27.203125 \nL 46 0 \nL 37.796875 0 \nL 37.796875 27.203125 \nL 10.59375 27.203125 \nL 10.59375 35.5 \nL 37.796875 35.5 \nL 37.796875 62.703125 \nz\n\" id=\"DejaVuSans-43\"/>\n     </defs>\n     <g transform=\"translate(247.964063 38.916562)scale(0.1 -0.1)\">\n      <use xlink:href=\"#DejaVuSans-116\"/>\n      <use x=\"39.208984\" xlink:href=\"#DejaVuSans-101\"/>\n      <use x=\"100.732422\" xlink:href=\"#DejaVuSans-115\"/>\n      <use x=\"152.832031\" xlink:href=\"#DejaVuSans-116\"/>\n      <use x=\"192.041016\" xlink:href=\"#DejaVuSans-32\"/>\n      <use x=\"223.828125\" xlink:href=\"#DejaVuSans-108\"/>\n      <use x=\"251.611328\" xlink:href=\"#DejaVuSans-111\"/>\n      <use x=\"312.792969\" xlink:href=\"#DejaVuSans-103\"/>\n      <use x=\"376.269531\" xlink:href=\"#DejaVuSans-32\"/>\n      <use x=\"408.056641\" xlink:href=\"#DejaVuSans-43\"/>\n      <use x=\"491.845703\" xlink:href=\"#DejaVuSans-32\"/>\n      <use x=\"523.632812\" xlink:href=\"#DejaVuSans-80\"/>\n      <use x=\"583.935547\" xlink:href=\"#DejaVuSans-108\"/>\n      <use x=\"611.71875\" xlink:href=\"#DejaVuSans-97\"/>\n      <use x=\"672.998047\" xlink:href=\"#DejaVuSans-116\"/>\n      <use x=\"712.207031\" xlink:href=\"#DejaVuSans-116\"/>\n      <use x=\"751.416016\" xlink:href=\"#DejaVuSans-32\"/>\n      <use x=\"783.203125\" xlink:href=\"#DejaVuSans-83\"/>\n      <use x=\"846.679688\" xlink:href=\"#DejaVuSans-99\"/>\n      <use x=\"901.660156\" xlink:href=\"#DejaVuSans-97\"/>\n      <use x=\"962.939453\" xlink:href=\"#DejaVuSans-108\"/>\n      <use x=\"990.722656\" xlink:href=\"#DejaVuSans-105\"/>\n      <use x=\"1018.505859\" xlink:href=\"#DejaVuSans-110\"/>\n      <use x=\"1081.884766\" xlink:href=\"#DejaVuSans-103\"/>\n     </g>\n    </g>\n    <g id=\"line2d_25\">\n     <path d=\"M 219.964063 50.094687 \nL 239.964063 50.094687 \n\" style=\"fill:none;stroke:#9467bd;stroke-dasharray:5.55,2.4;stroke-dashoffset:0;stroke-width:1.5;\"/>\n    </g>\n    <g id=\"line2d_26\"/>\n    <g id=\"text_19\">\n     <!-- perfect -->\n     <g transform=\"translate(247.964063 53.594687)scale(0.1 -0.1)\">\n      <use xlink:href=\"#DejaVuSans-112\"/>\n      <use x=\"63.476562\" xlink:href=\"#DejaVuSans-101\"/>\n      <use x=\"125\" xlink:href=\"#DejaVuSans-114\"/>\n      <use x=\"166.113281\" xlink:href=\"#DejaVuSans-102\"/>\n      <use x=\"201.318359\" xlink:href=\"#DejaVuSans-101\"/>\n      <use x=\"262.841797\" xlink:href=\"#DejaVuSans-99\"/>\n      <use x=\"317.822266\" xlink:href=\"#DejaVuSans-116\"/>\n     </g>\n    </g>\n   </g>\n  </g>\n </g>\n <defs>\n  <clipPath id=\"p96304d437c\">\n   <rect height=\"217.44\" width=\"334.8\" x=\"43.78125\" y=\"22.318125\"/>\n  </clipPath>\n </defs>\n</svg>\n",
      "image/png": "[encoded data removed]"
     },
     "metadata": {
      "needs_background": "light"
     }
    }
   ],
   "source": [
    "from sklearn.calibration import IsotonicRegression\n",
    "\n",
    "isotonic = IsotonicRegression(out_of_bounds='clip',\n",
    "                              y_min=train_probabilities.min(),\n",
    "                              y_max=train_probabilities.max())\n",
    "# still valid: learn on train, predict on test\n",
    "isotonic.fit(train_probabilities,target_train)\n",
    "isotonic_test_probabilities = isotonic.predict(test_probabilities)\n",
    "\n",
    "platt = MyPlattScaling(log_odds=False)\n",
    "# still valid: learn on train, predict on test\n",
    "platt.fit(train_probabilities,target_train)\n",
    "platt_test_probabilities = platt.predict(test_probabilities)\n",
    "\n",
    "new_test_predictions = numpy.where(platt_test_probabilities>0.5,1,0)\n",
    "print_info('Now, we have %.3f %% of 1 using Platt\"s scaling recalibrated probabilities' % new_test_predictions.mean())\n",
    "\n",
    "fig,ax = plot.subplots(1)\n",
    "plot_test_truth, plot_test_predictions = calibration_curve(target_test, isotonic_test_probabilities,strategy='quantile', n_bins=10)\n",
    "plot.plot(plot_test_predictions, plot_test_truth,label='test Isotonic Regression')\n",
    "\n",
    "plot_test_truth, plot_test_predictions = calibration_curve(target_test, test_probabilities,strategy='quantile', n_bins=10)\n",
    "plot.plot(plot_test_predictions, plot_test_truth,label='test uncalibrated')\n",
    "\n",
    "plot_test_truth, plot_test_predictions = calibration_curve(target_test, platt_test_probabilities,strategy='quantile', n_bins=10)\n",
    "plot.plot(plot_test_predictions, plot_test_truth,label='test Platt Scaling')\n",
    "\n",
    "platt = PlattScaling(log_odds=True)\n",
    "# still valid: learn on train, predict on test\n",
    "platt.fit(train_probabilities,target_train)\n",
    "platt_log_test_probabilities = platt.predict(test_probabilities)\n",
    "plot_test_truth, plot_log_test_predictions = calibration_curve(target_test, platt_log_test_probabilities,strategy='quantile', n_bins=10)\n",
    "plot.plot(plot_log_test_predictions, plot_test_truth,label='test log + Platt Scaling')\n",
    "\n",
    "new_test_log_predictions = numpy.where(platt_log_test_probabilities>0.5,1,0)\n",
    "print_warning('Now, we have %.3f %% of 1 using log+Platt\"s scaling recalibrated probabilities' % new_test_log_predictions.mean())\n",
    "\n",
    "new_test_isotonic_predictions = numpy.where(isotonic_test_probabilities>0.5,1,0)\n",
    "print_warning('Now, we have %.3f %% of 1 using Isotonic\"s recalibrated probabilities' % new_test_isotonic_predictions.mean())\n",
    "\n",
    "\n",
    "xmin = min(plot_predictions.min(), plot_truth.min())\n",
    "xmax = max(plot_predictions.max(), plot_truth.max())\n",
    "plot.plot([xmin,xmax],[xmin,xmax], '--',label='perfect')\n",
    "ax.set_xlabel('Fraction of positives (Predicted)')\n",
    "ax.set_ylabel('Fraction of positives (Actual)')\n",
    "ax.set_ylim([-0.05, 1.05])\n",
    "ax.legend(loc='upper left', ncol=2)\n",
    "ax.set_title('Calibration Plots (Reliability Curve)')\n",
    "plot.show()\n"
   ]
  }
 ]
}