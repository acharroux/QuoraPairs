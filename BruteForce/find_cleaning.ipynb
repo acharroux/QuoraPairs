{
 "metadata": {
  "language_info": {
   "codemirror_mode": {
    "name": "ipython",
    "version": 3
   },
   "file_extension": ".py",
   "mimetype": "text/x-python",
   "name": "python",
   "nbconvert_exporter": "python",
   "pygments_lexer": "ipython3",
   "version": "3.8.3-final"
  },
  "orig_nbformat": 2,
  "kernelspec": {
   "name": "Python 3.8.3 64-bit ('anaconda3': conda)",
   "display_name": "Python 3.8.3 64-bit ('anaconda3': conda)",
   "metadata": {
    "interpreter": {
     "hash": "8bc84ed563ec7490c0834918abd0859beccf8dba92b402dc7a3db729b0eff288"
    }
   }
  }
 },
 "nbformat": 4,
 "nbformat_minor": 2,
 "cells": [
  {
   "source": [
    "# Find proper cleaning rules\n",
    "\n",
    "OK we are convinced the better the questions are cleaned, the better the features around Nb common words will be powerful (even if we may have reached a limit)\n",
    "\n",
    "So, now objective is to reduced as much as possible the fields 'uncommon words' (or extend the field 'common word')\n",
    "\n",
    "**Lot of things are possible**\n",
    "\n",
    "### Chirurgical and ad hoc cleaning\n",
    "* remove the ? at end. tons of common words are missed due to that\n",
    "* replace all what's, it's, where's by their long versions what is, it is, where is ...\n",
    "* after that and after that only, replace any punctuation by a blank to get rid of these strange \"\" we have seen\n",
    "\n"
   ],
   "cell_type": "markdown",
   "metadata": {}
  },
  {
   "cell_type": "code",
   "execution_count": 1,
   "metadata": {},
   "outputs": [
    {
     "output_type": "display_data",
     "data": {
      "text/plain": "<IPython.core.display.HTML object>",
      "text/html": "<span style=\"color:RED\">You will work on experiment spacy_preprocessing </span>"
     },
     "metadata": {
      "text/html": {
       "isolated": true
      }
     }
    },
    {
     "output_type": "display_data",
     "data": {
      "text/plain": "<IPython.core.display.HTML object>",
      "text/html": "<b>Prepare spacy_preprocessing environment in ../spacy_preprocessing</b>"
     },
     "metadata": {
      "text/html": {
       "isolated": true
      }
     }
    },
    {
     "output_type": "display_data",
     "data": {
      "text/plain": "<IPython.core.display.HTML object>",
      "text/html": "<HR>"
     },
     "metadata": {
      "text/html": {
       "isolated": true
      }
     }
    },
    {
     "output_type": "display_data",
     "data": {
      "text/plain": "<IPython.core.display.HTML object>",
      "text/html": "<span style=\"color:LIMEGREEN\"><small>Make local copy of ../PandasStore/clean_training.pkl</small></span>"
     },
     "metadata": {
      "text/html": {
       "isolated": true
      }
     }
    },
    {
     "output_type": "display_data",
     "data": {
      "text/plain": "<IPython.core.display.HTML object>",
      "text/html": "<span style=\"color:LIMEGREEN\"><small>Make local copy of ../PandasStore/clean_challenge.pkl</small></span>"
     },
     "metadata": {
      "text/html": {
       "isolated": true
      }
     }
    },
    {
     "output_type": "display_data",
     "data": {
      "text/plain": "<IPython.core.display.HTML object>",
      "text/html": "<span style=\"color:LIMEGREEN\"><small><b><i>Done</i></b><p></p></small></span>"
     },
     "metadata": {
      "text/html": {
       "isolated": true
      }
     }
    },
    {
     "output_type": "display_data",
     "data": {
      "text/plain": "<IPython.core.display.HTML object>",
      "text/html": "<b>Untouched input data has been loaded. Training: 404290 lines Challenge: 2345796 lines</b>"
     },
     "metadata": {
      "text/html": {
       "isolated": true
      }
     }
    },
    {
     "output_type": "display_data",
     "data": {
      "text/plain": "<IPython.core.display.HTML object>",
      "text/html": "<HR>"
     },
     "metadata": {
      "text/html": {
       "isolated": true
      }
     }
    }
   ],
   "source": [
    "# Ugly incantation to make our framework working\n",
    "import sys\n",
    "sys.path.insert(0, r'/SAPDevelop/QuoraPairs/BruteForce/Tools')\n",
    "\n",
    "#import all our small tools (paths, cache, print,zip,excel, pandas, progress,..)\n",
    "from Tools.all import *\n",
    "\n",
    "# setup the name of our experiment\n",
    "# it will be used to store every result in a unique place\n",
    "EXPERIMENT='spacy_preprocessing'\n",
    "print_alert('You will work on experiment %s' %EXPERIMENT)\n",
    "\n",
    "prepare_environnement(EXPERIMENT)\n",
    "train_dataframe=load_dataframe(CLEAN_TRAINING_DATA)\n",
    "challenge_dataframe=load_dataframe(CLEAN_CHALLENGE_DATA)\n",
    "print_section('Untouched input data has been loaded. Training: %d lines Challenge: %d lines' % (len(train_dataframe),len(challenge_dataframe)))"
   ]
  },
  {
   "source": [
    "### First step : as usual lowercase everything"
   ],
   "cell_type": "markdown",
   "metadata": {}
  },
  {
   "cell_type": "code",
   "execution_count": 2,
   "metadata": {},
   "outputs": [],
   "source": [
    "# our main tool to add feature\n",
    "# no progress info as we will starts to play on a small sample\n",
    "def add_column_from_columns(dataframe,output_column_name,function):\n",
    "    dataframe[output_column_name]=dataframe.progress_apply(function,axis=1)\n",
    "    return dataframe[output_column_name]\n",
    "\n",
    "def add_column_from_column(dataframe,output_column_name,input_column_name,function):\n",
    "    dataframe[output_column_name]=dataframe[input_column_name].progress_apply(function)\n",
    "    return dataframe[output_column_name]"
   ]
  },
  {
   "cell_type": "code",
   "execution_count": 3,
   "metadata": {},
   "outputs": [
    {
     "output_type": "display_data",
     "data": {
      "text/plain": "<IPython.core.display.HTML object>",
      "text/html": "<b>Before</b>"
     },
     "metadata": {
      "text/html": {
       "isolated": true
      }
     }
    },
    {
     "output_type": "display_data",
     "data": {
      "text/plain": "<IPython.core.display.HTML object>",
      "text/html": "<HR>"
     },
     "metadata": {
      "text/html": {
       "isolated": true
      }
     }
    },
    {
     "output_type": "display_data",
     "data": {
      "text/plain": "                                                                               0\nid                                                                             0\nqid1                                                                           1\nqid2                                                                           2\nquestion1     What is the step by step guide to invest in share market in india?\nquestion2              What is the step by step guide to invest in share market?\nis_duplicate                                                                   0",
      "text/html": "<div>\n<style scoped>\n    .dataframe tbody tr th:only-of-type {\n        vertical-align: middle;\n    }\n\n    .dataframe tbody tr th {\n        vertical-align: top;\n    }\n\n    .dataframe thead th {\n        text-align: right;\n    }\n</style>\n<table border=\"1\" class=\"dataframe\">\n  <thead>\n    <tr style=\"text-align: right;\">\n      <th></th>\n      <th>0</th>\n    </tr>\n  </thead>\n  <tbody>\n    <tr>\n      <th>id</th>\n      <td>0</td>\n    </tr>\n    <tr>\n      <th>qid1</th>\n      <td>1</td>\n    </tr>\n    <tr>\n      <th>qid2</th>\n      <td>2</td>\n    </tr>\n    <tr>\n      <th>question1</th>\n      <td>What is the step by step guide to invest in share market in india?</td>\n    </tr>\n    <tr>\n      <th>question2</th>\n      <td>What is the step by step guide to invest in share market?</td>\n    </tr>\n    <tr>\n      <th>is_duplicate</th>\n      <td>0</td>\n    </tr>\n  </tbody>\n</table>\n</div>"
     },
     "metadata": {}
    },
    {
     "output_type": "display_data",
     "data": {
      "text/plain": "<IPython.core.display.HTML object>",
      "text/html": "<b>Lower case everything in training: Load or rebuild training_lower</b>"
     },
     "metadata": {
      "text/html": {
       "isolated": true
      }
     }
    },
    {
     "output_type": "display_data",
     "data": {
      "text/plain": "<IPython.core.display.HTML object>",
      "text/html": "<HR>"
     },
     "metadata": {
      "text/html": {
       "isolated": true
      }
     }
    },
    {
     "output_type": "display_data",
     "data": {
      "text/plain": "<IPython.core.display.HTML object>",
      "text/html": "<span style=\"color:LIGHTSALMON\"><small>!!!!! ../spacy_preprocessing/training_lower.pkl does not exists!!!</small></span>"
     },
     "metadata": {
      "text/html": {
       "isolated": true
      }
     }
    },
    {
     "output_type": "display_data",
     "data": {
      "text/plain": "<IPython.core.display.HTML object>",
      "text/html": "<span style=\"color:LIGHTSALMON\"><small>Rebuild and save it</small></span>"
     },
     "metadata": {
      "text/html": {
       "isolated": true
      }
     }
    },
    {
     "output_type": "display_data",
     "data": {
      "text/plain": "<IPython.core.display.HTML object>",
      "text/html": "<span style=\"color:LIMEGREEN\"><small>Lower case question1</small></span>"
     },
     "metadata": {
      "text/html": {
       "isolated": true
      }
     }
    },
    {
     "output_type": "display_data",
     "data": {
      "text/plain": "<IPython.core.display.HTML object>",
      "text/html": "<span style=\"color:LIMEGREEN\"><small>Lower case question2</small></span>"
     },
     "metadata": {
      "text/html": {
       "isolated": true
      }
     }
    },
    {
     "output_type": "display_data",
     "data": {
      "text/plain": "<IPython.core.display.HTML object>",
      "text/html": "<span style=\"color:LIMEGREEN\"><small>Save training_lower</small></span>"
     },
     "metadata": {
      "text/html": {
       "isolated": true
      }
     }
    },
    {
     "output_type": "display_data",
     "data": {
      "text/plain": "<IPython.core.display.HTML object>",
      "text/html": "<span style=\"color:LIMEGREEN\"><small><b><i>Done:training_lower contains 404290 lines in 0.6 s</i></b><p></p></small></span>"
     },
     "metadata": {
      "text/html": {
       "isolated": true
      }
     }
    },
    {
     "output_type": "display_data",
     "data": {
      "text/plain": "<IPython.core.display.HTML object>",
      "text/html": "<b>Lower case everything in challenge: Load or rebuild challenge_lower</b>"
     },
     "metadata": {
      "text/html": {
       "isolated": true
      }
     }
    },
    {
     "output_type": "display_data",
     "data": {
      "text/plain": "<IPython.core.display.HTML object>",
      "text/html": "<HR>"
     },
     "metadata": {
      "text/html": {
       "isolated": true
      }
     }
    },
    {
     "output_type": "display_data",
     "data": {
      "text/plain": "<IPython.core.display.HTML object>",
      "text/html": "<span style=\"color:LIGHTSALMON\"><small>!!!!! ../spacy_preprocessing/challenge_lower.pkl does not exists!!!</small></span>"
     },
     "metadata": {
      "text/html": {
       "isolated": true
      }
     }
    },
    {
     "output_type": "display_data",
     "data": {
      "text/plain": "<IPython.core.display.HTML object>",
      "text/html": "<span style=\"color:LIGHTSALMON\"><small>Rebuild and save it</small></span>"
     },
     "metadata": {
      "text/html": {
       "isolated": true
      }
     }
    },
    {
     "output_type": "display_data",
     "data": {
      "text/plain": "<IPython.core.display.HTML object>",
      "text/html": "<span style=\"color:LIMEGREEN\"><small>Lower case question1</small></span>"
     },
     "metadata": {
      "text/html": {
       "isolated": true
      }
     }
    },
    {
     "output_type": "display_data",
     "data": {
      "text/plain": "<IPython.core.display.HTML object>",
      "text/html": "<span style=\"color:LIMEGREEN\"><small>Lower case question2</small></span>"
     },
     "metadata": {
      "text/html": {
       "isolated": true
      }
     }
    },
    {
     "output_type": "display_data",
     "data": {
      "text/plain": "<IPython.core.display.HTML object>",
      "text/html": "<span style=\"color:LIMEGREEN\"><small>Save challenge_lower</small></span>"
     },
     "metadata": {
      "text/html": {
       "isolated": true
      }
     }
    },
    {
     "output_type": "display_data",
     "data": {
      "text/plain": "<IPython.core.display.HTML object>",
      "text/html": "<span style=\"color:LIMEGREEN\"><small><b><i>Done:challenge_lower contains 2345796 lines in 3.5 s</i></b><p></p></small></span>"
     },
     "metadata": {
      "text/html": {
       "isolated": true
      }
     }
    },
    {
     "output_type": "display_data",
     "data": {
      "text/plain": "<IPython.core.display.HTML object>",
      "text/html": "<b>After</b>"
     },
     "metadata": {
      "text/html": {
       "isolated": true
      }
     }
    },
    {
     "output_type": "display_data",
     "data": {
      "text/plain": "<IPython.core.display.HTML object>",
      "text/html": "<HR>"
     },
     "metadata": {
      "text/html": {
       "isolated": true
      }
     }
    },
    {
     "output_type": "display_data",
     "data": {
      "text/plain": "                                                                               0\nid                                                                             0\nqid1                                                                           1\nqid2                                                                           2\nquestion1     what is the step by step guide to invest in share market in india?\nquestion2              what is the step by step guide to invest in share market?\nis_duplicate                                                                   0",
      "text/html": "<div>\n<style scoped>\n    .dataframe tbody tr th:only-of-type {\n        vertical-align: middle;\n    }\n\n    .dataframe tbody tr th {\n        vertical-align: top;\n    }\n\n    .dataframe thead th {\n        text-align: right;\n    }\n</style>\n<table border=\"1\" class=\"dataframe\">\n  <thead>\n    <tr style=\"text-align: right;\">\n      <th></th>\n      <th>0</th>\n    </tr>\n  </thead>\n  <tbody>\n    <tr>\n      <th>id</th>\n      <td>0</td>\n    </tr>\n    <tr>\n      <th>qid1</th>\n      <td>1</td>\n    </tr>\n    <tr>\n      <th>qid2</th>\n      <td>2</td>\n    </tr>\n    <tr>\n      <th>question1</th>\n      <td>what is the step by step guide to invest in share market in india?</td>\n    </tr>\n    <tr>\n      <th>question2</th>\n      <td>what is the step by step guide to invest in share market?</td>\n    </tr>\n    <tr>\n      <th>is_duplicate</th>\n      <td>0</td>\n    </tr>\n  </tbody>\n</table>\n</div>"
     },
     "metadata": {}
    }
   ],
   "source": [
    "def build_all_lower_data(dataframe):\n",
    "    print_info('Lower case question1')\n",
    "    dataframe['question1'] = dataframe['question1'].str.lower()\n",
    "    print_info('Lower case question2')\n",
    "    dataframe['question2'] = dataframe['question2'].str.lower()\n",
    "    return dataframe\n",
    "\n",
    "print_section('Before')\n",
    "display(train_dataframe.head(1).transpose())\n",
    "train_dataframe = load_or_build_dataframe('Lower case everything in training','training_lower',build_all_lower_data,train_dataframe)\n",
    "challenge_dataframe = load_or_build_dataframe('Lower case everything in challenge','challenge_lower',build_all_lower_data,challenge_dataframe)\n",
    "print_section('After')\n",
    "display(train_dataframe.head(1).transpose())"
   ]
  },
  {
   "source": [
    "We will start by exploring our preprocessing on a small dataset"
   ],
   "cell_type": "markdown",
   "metadata": {}
  },
  {
   "cell_type": "code",
   "execution_count": 4,
   "metadata": {},
   "outputs": [],
   "source": [
    "#small_train = train_dataframe.sample(20000,random_state=42)\n",
    "small_train = train_dataframe"
   ]
  },
  {
   "cell_type": "code",
   "execution_count": 6,
   "metadata": {},
   "outputs": [
    {
     "output_type": "stream",
     "name": "stderr",
     "text": [
      "[nltk_data] Downloading package stopwords to\n[nltk_data]     /home/acharroux/nltk_data...\n[nltk_data]   Unzipping corpora/stopwords.zip.\n"
     ]
    }
   ],
   "source": [
    "import nltk\n",
    "nltk.download('stopwords')\n",
    "from nltk.corpus import stopwords\n",
    "from sklearn.feature_extraction.text import ENGLISH_STOP_WORDS\n",
    "\n",
    "\n",
    "nltk_stopwords = set(stopwords.words('english'))\n",
    "sk_stopwords = set(ENGLISH_STOP_WORDS)\n",
    "all_stop_words = nltk_stopwords | sk_stopwords\n",
    "\n",
    "def preprocess_one_row(q1,q2,stopwords):\n",
    "    q1 = set([w for w in q1.split() if w not in stopwords])\n",
    "    len_q1 = len(q1)\n",
    "    q2 = set([w for w in q2.split() if w not in stopwords])\n",
    "    len_q2 = len(q2)\n",
    "\n",
    "    common = q1&q2\n",
    "    len_common = len(common)\n",
    "\n",
    "    uncommon_q1 = q1-common\n",
    "    len_uncommon_q1 = len(uncommon_q1)\n",
    "\n",
    "    #       0     1           2          3               4      \n",
    "    return common,uncommon_q1,len_common,len_uncommon_q1,len_q1\n",
    "    \n",
    "def initial_preprocess(dataframe):\n",
    "    print_warning('Compute all features in one shot')\n",
    "    add_column_from_columns(dataframe,'temp',lambda r: preprocess_one_row(r.question1,r.question2,all_stop_words))\n",
    "    \n",
    "    print_warning('Extract common words between question1 & question2')\n",
    "    add_column_from_column(dataframe,'common_words','temp',lambda x: x[0])\n",
    "    \n",
    "    print_warning('Extract uncommon words in question1')\n",
    "    add_column_from_column(dataframe,'uncommon_words_question1','temp',lambda x: x[1])\n",
    "\n",
    "    print_warning('Extract Nb common_words between question1 & question2')\n",
    "    add_column_from_column(dataframe,'nb_common_words','temp',lambda x: x[2])\n",
    "\n",
    "    print_warning('Extract Nb words in question1 not in common words')\n",
    "    add_column_from_column(dataframe,'nb_uncommon_words','temp',lambda x: x[3])\n",
    "\n",
    "    print_warning('Extract nb_words_question1')\n",
    "    add_column_from_column(dataframe,'nb_words_question1','temp',lambda x: x[4])\n",
    "    dataframe = dataframe.drop(columns='temp')\n",
    "    return dataframe\n",
    "\n",
    "def sniff_changes(dataframe):\n",
    "    nb_all_common = dataframe['nb_common_words'].sum()\n",
    "    nb_all_uncommon = dataframe['nb_uncommon_words'].sum()\n",
    "    if 'new_nb_common_words' in dataframe and 'new_nb_uncommon_words' in dataframe:\n",
    "        new_nb_all_common = dataframe['new_nb_common_words'].sum()\n",
    "        new_nb_all_uncommon = dataframe['new_nb_uncommon_words'].sum()\n",
    "        print_info( \"New common %.3f %% New uncommon %.3f %%\" % (100.*new_nb_all_common/nb_all_common,100.*new_nb_all_uncommon/nb_all_uncommon))\n",
    "    else:\n",
    "        print_warning('??')\n"
   ]
  },
  {
   "cell_type": "code",
   "execution_count": 7,
   "metadata": {},
   "outputs": [
    {
     "output_type": "display_data",
     "data": {
      "text/plain": "<IPython.core.display.HTML object>",
      "text/html": "<span style=\"color:LIGHTSALMON\"><small>Compute all features in one shot</small></span>"
     },
     "metadata": {
      "text/html": {
       "isolated": true
      }
     }
    },
    {
     "output_type": "display_data",
     "data": {
      "text/plain": "HBox(children=(FloatProgress(value=0.0, max=404290.0), HTML(value='')))",
      "application/vnd.jupyter.widget-view+json": {
       "version_major": 2,
       "version_minor": 0,
       "model_id": "78b7d96a0eb44d4d9e264f138a0ba4e5"
      }
     },
     "metadata": {}
    },
    {
     "output_type": "stream",
     "name": "stdout",
     "text": [
      "\n"
     ]
    },
    {
     "output_type": "display_data",
     "data": {
      "text/plain": "<IPython.core.display.HTML object>",
      "text/html": "<span style=\"color:LIGHTSALMON\"><small>Extract common words between question1 & question2</small></span>"
     },
     "metadata": {
      "text/html": {
       "isolated": true
      }
     }
    },
    {
     "output_type": "display_data",
     "data": {
      "text/plain": "HBox(children=(FloatProgress(value=0.0, max=404290.0), HTML(value='')))",
      "application/vnd.jupyter.widget-view+json": {
       "version_major": 2,
       "version_minor": 0,
       "model_id": "6a304bd6c8bd4749bf0d996c21ea2e9b"
      }
     },
     "metadata": {}
    },
    {
     "output_type": "stream",
     "name": "stdout",
     "text": [
      "\n"
     ]
    },
    {
     "output_type": "display_data",
     "data": {
      "text/plain": "<IPython.core.display.HTML object>",
      "text/html": "<span style=\"color:LIGHTSALMON\"><small>Extract uncommon words in question1</small></span>"
     },
     "metadata": {
      "text/html": {
       "isolated": true
      }
     }
    },
    {
     "output_type": "display_data",
     "data": {
      "text/plain": "HBox(children=(FloatProgress(value=0.0, max=404290.0), HTML(value='')))",
      "application/vnd.jupyter.widget-view+json": {
       "version_major": 2,
       "version_minor": 0,
       "model_id": "ff2a88deafda4a7d929445866ad1f8be"
      }
     },
     "metadata": {}
    },
    {
     "output_type": "stream",
     "name": "stdout",
     "text": [
      "\n"
     ]
    },
    {
     "output_type": "display_data",
     "data": {
      "text/plain": "<IPython.core.display.HTML object>",
      "text/html": "<span style=\"color:LIGHTSALMON\"><small>Extract Nb common_words between question1 & question2</small></span>"
     },
     "metadata": {
      "text/html": {
       "isolated": true
      }
     }
    },
    {
     "output_type": "display_data",
     "data": {
      "text/plain": "HBox(children=(FloatProgress(value=0.0, max=404290.0), HTML(value='')))",
      "application/vnd.jupyter.widget-view+json": {
       "version_major": 2,
       "version_minor": 0,
       "model_id": "5189337752334164a4cc0832529cd3c1"
      }
     },
     "metadata": {}
    },
    {
     "output_type": "stream",
     "name": "stdout",
     "text": [
      "\n"
     ]
    },
    {
     "output_type": "display_data",
     "data": {
      "text/plain": "<IPython.core.display.HTML object>",
      "text/html": "<span style=\"color:LIGHTSALMON\"><small>Extract Nb words in question1 not in common words</small></span>"
     },
     "metadata": {
      "text/html": {
       "isolated": true
      }
     }
    },
    {
     "output_type": "display_data",
     "data": {
      "text/plain": "HBox(children=(FloatProgress(value=0.0, max=404290.0), HTML(value='')))",
      "application/vnd.jupyter.widget-view+json": {
       "version_major": 2,
       "version_minor": 0,
       "model_id": "08ef209d431e45f5ac72e08e56057134"
      }
     },
     "metadata": {}
    },
    {
     "output_type": "stream",
     "name": "stdout",
     "text": [
      "\n"
     ]
    },
    {
     "output_type": "display_data",
     "data": {
      "text/plain": "<IPython.core.display.HTML object>",
      "text/html": "<span style=\"color:LIGHTSALMON\"><small>Extract nb_words_question1</small></span>"
     },
     "metadata": {
      "text/html": {
       "isolated": true
      }
     }
    },
    {
     "output_type": "display_data",
     "data": {
      "text/plain": "HBox(children=(FloatProgress(value=0.0, max=404290.0), HTML(value='')))",
      "application/vnd.jupyter.widget-view+json": {
       "version_major": 2,
       "version_minor": 0,
       "model_id": "c98b02c43d794ede8d61f91c88bb1a5a"
      }
     },
     "metadata": {}
    },
    {
     "output_type": "stream",
     "name": "stdout",
     "text": [
      "\n"
     ]
    },
    {
     "output_type": "display_data",
     "data": {
      "text/plain": "                   common_words                                               uncommon_words_question1\n0  {invest, step, guide, share}                                                       {india?, market}\n1      {kohinoor, (koh-i-noor)}                                                      {diamond?, story}\n2             {internet, speed}                                    {connection, using, increase, vpn?}\n3                            {}                                        {lonely?, mentally, solve, it?}\n4                            {}  {water, quikly, oxide?, methane, di, sugar,, dissolve, salt,, carbon}\n5   {capricorn, moon, say, me?}                                  {sun, rising...what, cap, astrology:}\n6                            {}                                                          {buy, tiago?}\n7                  {geologist?}                                                                 {good}\n8                {instead, use}                                                                {し?, シ}\n9              {hack, motorola}                             {motorolla, charter, dcx3400?, (company):}",
      "text/html": "<div>\n<style scoped>\n    .dataframe tbody tr th:only-of-type {\n        vertical-align: middle;\n    }\n\n    .dataframe tbody tr th {\n        vertical-align: top;\n    }\n\n    .dataframe thead th {\n        text-align: right;\n    }\n</style>\n<table border=\"1\" class=\"dataframe\">\n  <thead>\n    <tr style=\"text-align: right;\">\n      <th></th>\n      <th>common_words</th>\n      <th>uncommon_words_question1</th>\n    </tr>\n  </thead>\n  <tbody>\n    <tr>\n      <th>0</th>\n      <td>{invest, step, guide, share}</td>\n      <td>{india?, market}</td>\n    </tr>\n    <tr>\n      <th>1</th>\n      <td>{kohinoor, (koh-i-noor)}</td>\n      <td>{diamond?, story}</td>\n    </tr>\n    <tr>\n      <th>2</th>\n      <td>{internet, speed}</td>\n      <td>{connection, using, increase, vpn?}</td>\n    </tr>\n    <tr>\n      <th>3</th>\n      <td>{}</td>\n      <td>{lonely?, mentally, solve, it?}</td>\n    </tr>\n    <tr>\n      <th>4</th>\n      <td>{}</td>\n      <td>{water, quikly, oxide?, methane, di, sugar,, dissolve, salt,, carbon}</td>\n    </tr>\n    <tr>\n      <th>5</th>\n      <td>{capricorn, moon, say, me?}</td>\n      <td>{sun, rising...what, cap, astrology:}</td>\n    </tr>\n    <tr>\n      <th>6</th>\n      <td>{}</td>\n      <td>{buy, tiago?}</td>\n    </tr>\n    <tr>\n      <th>7</th>\n      <td>{geologist?}</td>\n      <td>{good}</td>\n    </tr>\n    <tr>\n      <th>8</th>\n      <td>{instead, use}</td>\n      <td>{し?, シ}</td>\n    </tr>\n    <tr>\n      <th>9</th>\n      <td>{hack, motorola}</td>\n      <td>{motorolla, charter, dcx3400?, (company):}</td>\n    </tr>\n  </tbody>\n</table>\n</div>"
     },
     "metadata": {}
    },
    {
     "output_type": "display_data",
     "data": {
      "text/plain": "<IPython.core.display.HTML object>",
      "text/html": "<span style=\"color:LIGHTSALMON\"><small>??</small></span>"
     },
     "metadata": {
      "text/html": {
       "isolated": true
      }
     }
    }
   ],
   "source": [
    "\n",
    "small_train = initial_preprocess(small_train)\n",
    "display(small_train[['common_words','uncommon_words_question1']].head(10))\n",
    "sniff_changes(small_train)\n"
   ]
  },
  {
   "source": [
    "* Remove all these question marks\n",
    "* "
   ],
   "cell_type": "markdown",
   "metadata": {}
  },
  {
   "cell_type": "code",
   "execution_count": 8,
   "metadata": {},
   "outputs": [],
   "source": [
    "# pattern to easily iterate\n",
    "\n",
    "def preprocess_one_row(q1,q2,stopwords):\n",
    "    q1 = clean_text(q1)\n",
    "    q2 = clean_text(q2)\n",
    "\n",
    "    q1 = set([w for w in q1.split() if w not in stopwords])\n",
    "    len_q1 = len(q1)\n",
    "    q2 = set([w for w in q2.split() if w not in stopwords])\n",
    "    len_q2 = len(q2)\n",
    "\n",
    "    common = q1&q2\n",
    "    len_common = len(common)\n",
    "\n",
    "    uncommon_q1 = q1-common\n",
    "    len_uncommon_q1 = len(uncommon_q1)\n",
    "\n",
    "    #       0     1           2          3               4      \n",
    "    return common,uncommon_q1,len_common,len_uncommon_q1,len_q1\n",
    "\n",
    "def new_preprocess(dataframe):\n",
    "    print_warning('Compute all features in one shot')\n",
    "    add_column_from_columns(dataframe,'temp',lambda r: preprocess_one_row(r.question1,r.question2,all_stop_words))\n",
    "    \n",
    "    print_warning('Extract common words between question1 & question2')\n",
    "    add_column_from_column(dataframe,'new_common_words','temp',lambda x: x[0])\n",
    "    \n",
    "    print_warning('Extract uncommon words in question1')\n",
    "    add_column_from_column(dataframe,'new_uncommon_words_question1','temp',lambda x: x[1])\n",
    "\n",
    "    print_warning('Extract Nb common_words between question1 & question2')\n",
    "    add_column_from_column(dataframe,'new_nb_common_words','temp',lambda x: x[2])\n",
    "\n",
    "    print_warning('Extract Nb words in question1 not in common words')\n",
    "    add_column_from_column(dataframe,'new_nb_uncommon_words','temp',lambda x: x[3])\n",
    "\n",
    "    dataframe = dataframe.drop(columns='temp')\n",
    "    return dataframe\n"
   ]
  },
  {
   "cell_type": "code",
   "execution_count": 9,
   "metadata": {
    "tags": []
   },
   "outputs": [
    {
     "output_type": "display_data",
     "data": {
      "text/plain": "<IPython.core.display.HTML object>",
      "text/html": "<span style=\"color:LIGHTSALMON\"><small>Compute all features in one shot</small></span>"
     },
     "metadata": {
      "text/html": {
       "isolated": true
      }
     }
    },
    {
     "output_type": "display_data",
     "data": {
      "text/plain": "HBox(children=(FloatProgress(value=0.0, max=404290.0), HTML(value='')))",
      "application/vnd.jupyter.widget-view+json": {
       "version_major": 2,
       "version_minor": 0,
       "model_id": "ffd0dc74741541fd9b518e2d4bc3eb3c"
      }
     },
     "metadata": {}
    },
    {
     "output_type": "stream",
     "name": "stdout",
     "text": [
      "\n"
     ]
    },
    {
     "output_type": "display_data",
     "data": {
      "text/plain": "<IPython.core.display.HTML object>",
      "text/html": "<span style=\"color:LIGHTSALMON\"><small>Extract common words between question1 & question2</small></span>"
     },
     "metadata": {
      "text/html": {
       "isolated": true
      }
     }
    },
    {
     "output_type": "display_data",
     "data": {
      "text/plain": "HBox(children=(FloatProgress(value=0.0, max=404290.0), HTML(value='')))",
      "application/vnd.jupyter.widget-view+json": {
       "version_major": 2,
       "version_minor": 0,
       "model_id": "9499bdc1b1764e80a52a1dd3cb6e0ef8"
      }
     },
     "metadata": {}
    },
    {
     "output_type": "stream",
     "name": "stdout",
     "text": [
      "\n"
     ]
    },
    {
     "output_type": "display_data",
     "data": {
      "text/plain": "<IPython.core.display.HTML object>",
      "text/html": "<span style=\"color:LIGHTSALMON\"><small>Extract uncommon words in question1</small></span>"
     },
     "metadata": {
      "text/html": {
       "isolated": true
      }
     }
    },
    {
     "output_type": "display_data",
     "data": {
      "text/plain": "HBox(children=(FloatProgress(value=0.0, max=404290.0), HTML(value='')))",
      "application/vnd.jupyter.widget-view+json": {
       "version_major": 2,
       "version_minor": 0,
       "model_id": "faea4b09119e434c84cefb333a86d814"
      }
     },
     "metadata": {}
    },
    {
     "output_type": "stream",
     "name": "stdout",
     "text": [
      "\n"
     ]
    },
    {
     "output_type": "display_data",
     "data": {
      "text/plain": "<IPython.core.display.HTML object>",
      "text/html": "<span style=\"color:LIGHTSALMON\"><small>Extract Nb common_words between question1 & question2</small></span>"
     },
     "metadata": {
      "text/html": {
       "isolated": true
      }
     }
    },
    {
     "output_type": "display_data",
     "data": {
      "text/plain": "HBox(children=(FloatProgress(value=0.0, max=404290.0), HTML(value='')))",
      "application/vnd.jupyter.widget-view+json": {
       "version_major": 2,
       "version_minor": 0,
       "model_id": "5521a88127ab471a9261dc9e8d7a60b1"
      }
     },
     "metadata": {}
    },
    {
     "output_type": "stream",
     "name": "stdout",
     "text": [
      "\n"
     ]
    },
    {
     "output_type": "display_data",
     "data": {
      "text/plain": "<IPython.core.display.HTML object>",
      "text/html": "<span style=\"color:LIGHTSALMON\"><small>Extract Nb words in question1 not in common words</small></span>"
     },
     "metadata": {
      "text/html": {
       "isolated": true
      }
     }
    },
    {
     "output_type": "display_data",
     "data": {
      "text/plain": "HBox(children=(FloatProgress(value=0.0, max=404290.0), HTML(value='')))",
      "application/vnd.jupyter.widget-view+json": {
       "version_major": 2,
       "version_minor": 0,
       "model_id": "6c5214db18e7403da5c4c7d9362e4e20"
      }
     },
     "metadata": {}
    },
    {
     "output_type": "stream",
     "name": "stdout",
     "text": [
      "\n"
     ]
    },
    {
     "output_type": "display_data",
     "data": {
      "text/plain": "<IPython.core.display.HTML object>",
      "text/html": "<span style=\"color:LIMEGREEN\"><small>New common 111.329 % New uncommon 88.429 %</small></span>"
     },
     "metadata": {
      "text/html": {
       "isolated": true
      }
     }
    }
   ],
   "source": [
    "import re\n",
    "\n",
    "def clean_text(text):\n",
    "    text = re.sub('\\?',' ',text) # ?\n",
    "    return text\n",
    "\n",
    "small_train = new_preprocess(small_train)\n",
    "#display(small_train[['common_words','new_common_words','uncommon_words_question1','new_uncommon_words_question1']].head(10))\n",
    "sniff_changes(small_train)\n"
   ]
  },
  {
   "cell_type": "code",
   "execution_count": 10,
   "metadata": {},
   "outputs": [
    {
     "output_type": "display_data",
     "data": {
      "text/plain": "<IPython.core.display.HTML object>",
      "text/html": "<span style=\"color:LIGHTSALMON\"><small>Compute all features in one shot</small></span>"
     },
     "metadata": {
      "text/html": {
       "isolated": true
      }
     }
    },
    {
     "output_type": "display_data",
     "data": {
      "text/plain": "HBox(children=(FloatProgress(value=0.0, max=404290.0), HTML(value='')))",
      "application/vnd.jupyter.widget-view+json": {
       "version_major": 2,
       "version_minor": 0,
       "model_id": "c5c1b05ae9544e83984ee6cbc352a2bb"
      }
     },
     "metadata": {}
    },
    {
     "output_type": "stream",
     "name": "stdout",
     "text": [
      "\n"
     ]
    },
    {
     "output_type": "display_data",
     "data": {
      "text/plain": "<IPython.core.display.HTML object>",
      "text/html": "<span style=\"color:LIGHTSALMON\"><small>Extract common words between question1 & question2</small></span>"
     },
     "metadata": {
      "text/html": {
       "isolated": true
      }
     }
    },
    {
     "output_type": "display_data",
     "data": {
      "text/plain": "HBox(children=(FloatProgress(value=0.0, max=404290.0), HTML(value='')))",
      "application/vnd.jupyter.widget-view+json": {
       "version_major": 2,
       "version_minor": 0,
       "model_id": "705544de653649cd919da45c899a0e0c"
      }
     },
     "metadata": {}
    },
    {
     "output_type": "stream",
     "name": "stdout",
     "text": [
      "\n"
     ]
    },
    {
     "output_type": "display_data",
     "data": {
      "text/plain": "<IPython.core.display.HTML object>",
      "text/html": "<span style=\"color:LIGHTSALMON\"><small>Extract uncommon words in question1</small></span>"
     },
     "metadata": {
      "text/html": {
       "isolated": true
      }
     }
    },
    {
     "output_type": "display_data",
     "data": {
      "text/plain": "HBox(children=(FloatProgress(value=0.0, max=404290.0), HTML(value='')))",
      "application/vnd.jupyter.widget-view+json": {
       "version_major": 2,
       "version_minor": 0,
       "model_id": "2ab50deb6ac741bd80b8dbdcd355a0c9"
      }
     },
     "metadata": {}
    },
    {
     "output_type": "stream",
     "name": "stdout",
     "text": [
      "\n"
     ]
    },
    {
     "output_type": "display_data",
     "data": {
      "text/plain": "<IPython.core.display.HTML object>",
      "text/html": "<span style=\"color:LIGHTSALMON\"><small>Extract Nb common_words between question1 & question2</small></span>"
     },
     "metadata": {
      "text/html": {
       "isolated": true
      }
     }
    },
    {
     "output_type": "display_data",
     "data": {
      "text/plain": "HBox(children=(FloatProgress(value=0.0, max=404290.0), HTML(value='')))",
      "application/vnd.jupyter.widget-view+json": {
       "version_major": 2,
       "version_minor": 0,
       "model_id": "edcd374befd44a82b025c6be1636334d"
      }
     },
     "metadata": {}
    },
    {
     "output_type": "stream",
     "name": "stdout",
     "text": [
      "\n"
     ]
    },
    {
     "output_type": "display_data",
     "data": {
      "text/plain": "<IPython.core.display.HTML object>",
      "text/html": "<span style=\"color:LIGHTSALMON\"><small>Extract Nb words in question1 not in common words</small></span>"
     },
     "metadata": {
      "text/html": {
       "isolated": true
      }
     }
    },
    {
     "output_type": "display_data",
     "data": {
      "text/plain": "HBox(children=(FloatProgress(value=0.0, max=404290.0), HTML(value='')))",
      "application/vnd.jupyter.widget-view+json": {
       "version_major": 2,
       "version_minor": 0,
       "model_id": "822764fc2c30407e83da670b1c6539ff"
      }
     },
     "metadata": {}
    },
    {
     "output_type": "stream",
     "name": "stdout",
     "text": [
      "\n"
     ]
    },
    {
     "output_type": "display_data",
     "data": {
      "text/plain": "<IPython.core.display.HTML object>",
      "text/html": "<span style=\"color:LIMEGREEN\"><small>New common 111.364 % New uncommon 88.365 %</small></span>"
     },
     "metadata": {
      "text/html": {
       "isolated": true
      }
     }
    }
   ],
   "source": [
    "def clean_text(text):\n",
    "    text = re.sub('\\?',' ',text) # ?\n",
    "    # odd chars\n",
    "    text = re.sub(\"’\", \"'\", text) # special single quote\n",
    "    text = re.sub(\"`\", \"'\", text) # special single quote\n",
    "    text = re.sub(\"“\", '\"', text) # special double quote\n",
    "    text = re.sub(\"？\", \"?\", text) \n",
    "    text = re.sub(\"…\", \" \", text) \n",
    "    text = re.sub(\"é\", \"e\", text)\n",
    "        \n",
    "    return text\n",
    "\n",
    "small_train = new_preprocess(small_train)\n",
    "#display(small_train[['common_words','new_common_words','uncommon_words_question1','new_uncommon_words_question1']].head(10))\n",
    "sniff_changes(small_train)"
   ]
  },
  {
   "cell_type": "code",
   "execution_count": 11,
   "metadata": {},
   "outputs": [
    {
     "output_type": "display_data",
     "data": {
      "text/plain": "<IPython.core.display.HTML object>",
      "text/html": "<span style=\"color:LIGHTSALMON\"><small>Compute all features in one shot</small></span>"
     },
     "metadata": {
      "text/html": {
       "isolated": true
      }
     }
    },
    {
     "output_type": "display_data",
     "data": {
      "text/plain": "HBox(children=(FloatProgress(value=0.0, max=404290.0), HTML(value='')))",
      "application/vnd.jupyter.widget-view+json": {
       "version_major": 2,
       "version_minor": 0,
       "model_id": "70f68c30b97248e0a6f367c057a92d36"
      }
     },
     "metadata": {}
    },
    {
     "output_type": "stream",
     "name": "stdout",
     "text": [
      "\n"
     ]
    },
    {
     "output_type": "display_data",
     "data": {
      "text/plain": "<IPython.core.display.HTML object>",
      "text/html": "<span style=\"color:LIGHTSALMON\"><small>Extract common words between question1 & question2</small></span>"
     },
     "metadata": {
      "text/html": {
       "isolated": true
      }
     }
    },
    {
     "output_type": "display_data",
     "data": {
      "text/plain": "HBox(children=(FloatProgress(value=0.0, max=404290.0), HTML(value='')))",
      "application/vnd.jupyter.widget-view+json": {
       "version_major": 2,
       "version_minor": 0,
       "model_id": "1982f0e0a55d435289a183f16808c958"
      }
     },
     "metadata": {}
    },
    {
     "output_type": "stream",
     "name": "stdout",
     "text": [
      "\n"
     ]
    },
    {
     "output_type": "display_data",
     "data": {
      "text/plain": "<IPython.core.display.HTML object>",
      "text/html": "<span style=\"color:LIGHTSALMON\"><small>Extract uncommon words in question1</small></span>"
     },
     "metadata": {
      "text/html": {
       "isolated": true
      }
     }
    },
    {
     "output_type": "display_data",
     "data": {
      "text/plain": "HBox(children=(FloatProgress(value=0.0, max=404290.0), HTML(value='')))",
      "application/vnd.jupyter.widget-view+json": {
       "version_major": 2,
       "version_minor": 0,
       "model_id": "9cd36921d3f348b28a767be7e1bc2372"
      }
     },
     "metadata": {}
    },
    {
     "output_type": "stream",
     "name": "stdout",
     "text": [
      "\n"
     ]
    },
    {
     "output_type": "display_data",
     "data": {
      "text/plain": "<IPython.core.display.HTML object>",
      "text/html": "<span style=\"color:LIGHTSALMON\"><small>Extract Nb common_words between question1 & question2</small></span>"
     },
     "metadata": {
      "text/html": {
       "isolated": true
      }
     }
    },
    {
     "output_type": "display_data",
     "data": {
      "text/plain": "HBox(children=(FloatProgress(value=0.0, max=404290.0), HTML(value='')))",
      "application/vnd.jupyter.widget-view+json": {
       "version_major": 2,
       "version_minor": 0,
       "model_id": "abf9e35534f84276bc688296004ad4d7"
      }
     },
     "metadata": {}
    },
    {
     "output_type": "stream",
     "name": "stdout",
     "text": [
      "\n"
     ]
    },
    {
     "output_type": "display_data",
     "data": {
      "text/plain": "<IPython.core.display.HTML object>",
      "text/html": "<span style=\"color:LIGHTSALMON\"><small>Extract Nb words in question1 not in common words</small></span>"
     },
     "metadata": {
      "text/html": {
       "isolated": true
      }
     }
    },
    {
     "output_type": "display_data",
     "data": {
      "text/plain": "HBox(children=(FloatProgress(value=0.0, max=404290.0), HTML(value='')))",
      "application/vnd.jupyter.widget-view+json": {
       "version_major": 2,
       "version_minor": 0,
       "model_id": "e0ea381ec62f4bca8fb641df9107bf8f"
      }
     },
     "metadata": {}
    },
    {
     "output_type": "stream",
     "name": "stdout",
     "text": [
      "\n"
     ]
    },
    {
     "output_type": "display_data",
     "data": {
      "text/plain": "<IPython.core.display.HTML object>",
      "text/html": "<span style=\"color:LIMEGREEN\"><small>New common 111.678 % New uncommon 87.088 %</small></span>"
     },
     "metadata": {
      "text/html": {
       "isolated": true
      }
     }
    }
   ],
   "source": [
    "def clean_text(text):\n",
    "    text = re.sub('\\?',' ',text) # ?\n",
    "    # odd chars\n",
    "    text = re.sub(\"’\", \"'\", text) # special single quote\n",
    "    text = re.sub(\"`\", \"'\", text) # special single quote\n",
    "    text = re.sub(\"“\", '\"', text) # special double quote\n",
    "    text = re.sub(\"？\", \"?\", text) \n",
    "    text = re.sub(\"…\", \" \", text) \n",
    "    text = re.sub(\"é\", \"e\", text)\n",
    "\n",
    "    # shortcuts\n",
    "    text = re.sub(\"\\'s\", \" \", text) \n",
    "    text = re.sub(\" whats \", \" what is \", text)\n",
    "    text = re.sub(\"\\'ve\", \" have \", text)\n",
    "    text = re.sub(\"can't\", \"can not\", text)\n",
    "    text = re.sub(\"n't\", \" not \", text)\n",
    "    text = re.sub(\"i'm\", \"i am\", text)\n",
    "    text = re.sub(\"\\'re\", \" are \", text)\n",
    "    text = re.sub(\"\\'d\", \" would \", text)\n",
    "    text = re.sub(\"\\'ll\", \" will \", text)\n",
    "    text = re.sub(\"e\\.g\\.\", \" eg \", text)\n",
    "    text = re.sub(\"b\\.g\\.\", \" bg \", text)\n",
    "    text = re.sub(\"e-mail\", \" email \", text)\n",
    "    text = re.sub(\"(the[\\s]+|The[\\s]+)?U\\.S\\.A\\.\", \" America \", text)\n",
    "    text = re.sub(\"(the[\\s]+|The[\\s]+)?United State(s)?\", \" America \", text)\n",
    "#    text = re.sub(\"\\(s\\)\", \" \", text)\n",
    "#    text = re.sub(\"[c-fC-F]\\:\\/\", \" disk \", text)\n",
    "#    text = re.sub(\"(\\d+)(kK)\", \" \\g<1>000 \", text)\n",
    "\n",
    "    return text\n",
    "\n",
    "small_train = new_preprocess(small_train)\n",
    "#display(small_train[['common_words','new_common_words','uncommon_words_question1','new_uncommon_words_question1']].head(10))\n",
    "sniff_changes(small_train)"
   ]
  },
  {
   "cell_type": "code",
   "execution_count": 12,
   "metadata": {},
   "outputs": [
    {
     "output_type": "display_data",
     "data": {
      "text/plain": "<IPython.core.display.HTML object>",
      "text/html": "<span style=\"color:LIGHTSALMON\"><small>Compute all features in one shot</small></span>"
     },
     "metadata": {
      "text/html": {
       "isolated": true
      }
     }
    },
    {
     "output_type": "display_data",
     "data": {
      "text/plain": "HBox(children=(FloatProgress(value=0.0, max=404290.0), HTML(value='')))",
      "application/vnd.jupyter.widget-view+json": {
       "version_major": 2,
       "version_minor": 0,
       "model_id": "e6db6856baaf4e0896843c8ccef44586"
      }
     },
     "metadata": {}
    },
    {
     "output_type": "stream",
     "name": "stdout",
     "text": [
      "\n"
     ]
    },
    {
     "output_type": "display_data",
     "data": {
      "text/plain": "<IPython.core.display.HTML object>",
      "text/html": "<span style=\"color:LIGHTSALMON\"><small>Extract common words between question1 & question2</small></span>"
     },
     "metadata": {
      "text/html": {
       "isolated": true
      }
     }
    },
    {
     "output_type": "display_data",
     "data": {
      "text/plain": "HBox(children=(FloatProgress(value=0.0, max=404290.0), HTML(value='')))",
      "application/vnd.jupyter.widget-view+json": {
       "version_major": 2,
       "version_minor": 0,
       "model_id": "52cbdba9d9494bec8a8b9fa51b6656de"
      }
     },
     "metadata": {}
    },
    {
     "output_type": "stream",
     "name": "stdout",
     "text": [
      "\n"
     ]
    },
    {
     "output_type": "display_data",
     "data": {
      "text/plain": "<IPython.core.display.HTML object>",
      "text/html": "<span style=\"color:LIGHTSALMON\"><small>Extract uncommon words in question1</small></span>"
     },
     "metadata": {
      "text/html": {
       "isolated": true
      }
     }
    },
    {
     "output_type": "display_data",
     "data": {
      "text/plain": "HBox(children=(FloatProgress(value=0.0, max=404290.0), HTML(value='')))",
      "application/vnd.jupyter.widget-view+json": {
       "version_major": 2,
       "version_minor": 0,
       "model_id": "17650ec5d0c34307bc088cf813ffeac0"
      }
     },
     "metadata": {}
    },
    {
     "output_type": "stream",
     "name": "stdout",
     "text": [
      "\n"
     ]
    },
    {
     "output_type": "display_data",
     "data": {
      "text/plain": "<IPython.core.display.HTML object>",
      "text/html": "<span style=\"color:LIGHTSALMON\"><small>Extract Nb common_words between question1 & question2</small></span>"
     },
     "metadata": {
      "text/html": {
       "isolated": true
      }
     }
    },
    {
     "output_type": "display_data",
     "data": {
      "text/plain": "HBox(children=(FloatProgress(value=0.0, max=404290.0), HTML(value='')))",
      "application/vnd.jupyter.widget-view+json": {
       "version_major": 2,
       "version_minor": 0,
       "model_id": "9a086dc8d2c540f9b26b88ad43a3fde5"
      }
     },
     "metadata": {}
    },
    {
     "output_type": "stream",
     "name": "stdout",
     "text": [
      "\n"
     ]
    },
    {
     "output_type": "display_data",
     "data": {
      "text/plain": "<IPython.core.display.HTML object>",
      "text/html": "<span style=\"color:LIGHTSALMON\"><small>Extract Nb words in question1 not in common words</small></span>"
     },
     "metadata": {
      "text/html": {
       "isolated": true
      }
     }
    },
    {
     "output_type": "display_data",
     "data": {
      "text/plain": "HBox(children=(FloatProgress(value=0.0, max=404290.0), HTML(value='')))",
      "application/vnd.jupyter.widget-view+json": {
       "version_major": 2,
       "version_minor": 0,
       "model_id": "b563315d176549c9bf8c79f938afd128"
      }
     },
     "metadata": {}
    },
    {
     "output_type": "stream",
     "name": "stdout",
     "text": [
      "\n"
     ]
    },
    {
     "output_type": "display_data",
     "data": {
      "text/plain": "<IPython.core.display.HTML object>",
      "text/html": "<span style=\"color:LIMEGREEN\"><small>New common 111.683 % New uncommon 87.086 %</small></span>"
     },
     "metadata": {
      "text/html": {
       "isolated": true
      }
     }
    }
   ],
   "source": [
    "def clean_text(text):\n",
    "    text = re.sub('\\?',' ',text) # ?\n",
    "    # odd chars\n",
    "    text = re.sub('’', \"'\", text) # special single quote\n",
    "    text = re.sub('`', \"'\", text) # special single quote\n",
    "    text = re.sub('“', \"'\", text) # special double quote\n",
    "    text = re.sub('？', '?', text) \n",
    "    text = re.sub('…', ' ', text) \n",
    "    text = re.sub('é', 'e', text)\n",
    "\n",
    "    # shortcuts\n",
    "    text = re.sub('\\'s', ' ', text) \n",
    "    text = re.sub(' whats ', ' what is ', text)\n",
    "    text = re.sub('\\'ve', ' have ', text)\n",
    "    text = re.sub(\"can't\", 'can not', text)\n",
    "    text = re.sub(\"n't\", ' not ', text)\n",
    "    text = re.sub(\"i'm\", 'i am', text)\n",
    "    text = re.sub('\\'re', ' are ', text)\n",
    "    text = re.sub('\\'d', ' would ', text)\n",
    "    text = re.sub('\\'ll', ' will ', text)\n",
    "    text = re.sub('e\\.g\\.', ' eg ', text)\n",
    "    text = re.sub('b\\.g\\.', ' bg ', text)\n",
    "    text = re.sub('e-mail', ' email ', text)\n",
    "    text = re.sub('(the[\\s]+|The[\\s]+)?U\\.S\\.A\\.', ' america ', text)\n",
    "    text = re.sub('(the[\\s]+|The[\\s]+)?United State(s)?', ' america ', text)\n",
    "#    text = re.sub('\\(s\\)', ' ', text)\n",
    "#    text = re.sub('[c-fC-F]\\:\\/', ' disk ', text)\n",
    "#    text = re.sub('(\\d+)(kK)', ' \\g<1>000 ', text)\n",
    "\n",
    "    # 12,000 -> 12000\n",
    "    text = re.sub('(?<=[0-9])\\,(?=[0-9])', '', text)\n",
    "    return text\n",
    "\n",
    "small_train = new_preprocess(small_train)\n",
    "#display(small_train[['common_words','new_common_words','uncommon_words_question1','new_uncommon_words_question1']].head(10))\n",
    "sniff_changes(small_train)"
   ]
  },
  {
   "cell_type": "code",
   "execution_count": 13,
   "metadata": {},
   "outputs": [
    {
     "output_type": "display_data",
     "data": {
      "text/plain": "<IPython.core.display.HTML object>",
      "text/html": "<span style=\"color:LIGHTSALMON\"><small>Compute all features in one shot</small></span>"
     },
     "metadata": {
      "text/html": {
       "isolated": true
      }
     }
    },
    {
     "output_type": "display_data",
     "data": {
      "text/plain": "HBox(children=(FloatProgress(value=0.0, max=404290.0), HTML(value='')))",
      "application/vnd.jupyter.widget-view+json": {
       "version_major": 2,
       "version_minor": 0,
       "model_id": "29baec6af85a46bd9d0d4bb857a61d0a"
      }
     },
     "metadata": {}
    },
    {
     "output_type": "stream",
     "name": "stdout",
     "text": [
      "\n"
     ]
    },
    {
     "output_type": "display_data",
     "data": {
      "text/plain": "<IPython.core.display.HTML object>",
      "text/html": "<span style=\"color:LIGHTSALMON\"><small>Extract common words between question1 & question2</small></span>"
     },
     "metadata": {
      "text/html": {
       "isolated": true
      }
     }
    },
    {
     "output_type": "display_data",
     "data": {
      "text/plain": "HBox(children=(FloatProgress(value=0.0, max=404290.0), HTML(value='')))",
      "application/vnd.jupyter.widget-view+json": {
       "version_major": 2,
       "version_minor": 0,
       "model_id": "77cce4e7eedb4b439a808fe4d5a65cab"
      }
     },
     "metadata": {}
    },
    {
     "output_type": "stream",
     "name": "stdout",
     "text": [
      "\n"
     ]
    },
    {
     "output_type": "display_data",
     "data": {
      "text/plain": "<IPython.core.display.HTML object>",
      "text/html": "<span style=\"color:LIGHTSALMON\"><small>Extract uncommon words in question1</small></span>"
     },
     "metadata": {
      "text/html": {
       "isolated": true
      }
     }
    },
    {
     "output_type": "display_data",
     "data": {
      "text/plain": "HBox(children=(FloatProgress(value=0.0, max=404290.0), HTML(value='')))",
      "application/vnd.jupyter.widget-view+json": {
       "version_major": 2,
       "version_minor": 0,
       "model_id": "23c49224a4724557a0e6898d36e20ba3"
      }
     },
     "metadata": {}
    },
    {
     "output_type": "stream",
     "name": "stdout",
     "text": [
      "\n"
     ]
    },
    {
     "output_type": "display_data",
     "data": {
      "text/plain": "<IPython.core.display.HTML object>",
      "text/html": "<span style=\"color:LIGHTSALMON\"><small>Extract Nb common_words between question1 & question2</small></span>"
     },
     "metadata": {
      "text/html": {
       "isolated": true
      }
     }
    },
    {
     "output_type": "display_data",
     "data": {
      "text/plain": "HBox(children=(FloatProgress(value=0.0, max=404290.0), HTML(value='')))",
      "application/vnd.jupyter.widget-view+json": {
       "version_major": 2,
       "version_minor": 0,
       "model_id": "f71f11d525ac4a1b89cee8fcda7e0e20"
      }
     },
     "metadata": {}
    },
    {
     "output_type": "stream",
     "name": "stdout",
     "text": [
      "\n"
     ]
    },
    {
     "output_type": "display_data",
     "data": {
      "text/plain": "<IPython.core.display.HTML object>",
      "text/html": "<span style=\"color:LIGHTSALMON\"><small>Extract Nb words in question1 not in common words</small></span>"
     },
     "metadata": {
      "text/html": {
       "isolated": true
      }
     }
    },
    {
     "output_type": "display_data",
     "data": {
      "text/plain": "HBox(children=(FloatProgress(value=0.0, max=404290.0), HTML(value='')))",
      "application/vnd.jupyter.widget-view+json": {
       "version_major": 2,
       "version_minor": 0,
       "model_id": "efbf7f0d8d9d481d8313d910a8a6f9a1"
      }
     },
     "metadata": {}
    },
    {
     "output_type": "stream",
     "name": "stdout",
     "text": [
      "\n"
     ]
    },
    {
     "output_type": "display_data",
     "data": {
      "text/plain": "<IPython.core.display.HTML object>",
      "text/html": "<span style=\"color:LIMEGREEN\"><small>New common 111.687 % New uncommon 87.083 %</small></span>"
     },
     "metadata": {
      "text/html": {
       "isolated": true
      }
     }
    }
   ],
   "source": [
    "def clean_text(text):\n",
    "    text = re.sub('\\?',' ',text) # ?\n",
    "    # odd chars\n",
    "    text = re.sub(\"’\", \"'\", text) # special single quote\n",
    "    text = re.sub(\"`\", \"'\", text) # special single quote\n",
    "    text = re.sub(\"“\", '\"', text) # special double quote\n",
    "    text = re.sub(\"？\", \"?\", text) \n",
    "    text = re.sub(\"…\", \" \", text) \n",
    "    text = re.sub(\"é\", \"e\", text)\n",
    "    \n",
    "    # shortcuts\n",
    "    text = re.sub('\\'s', ' ', text) \n",
    "    text = re.sub(' whats ', ' what is ', text)\n",
    "    text = re.sub('\\'ve', ' have ', text)\n",
    "    text = re.sub(\"can't\", 'can not', text)\n",
    "    text = re.sub(\"n't\", ' not ', text)\n",
    "    text = re.sub(\"i'm\", 'i am', text)\n",
    "    text = re.sub('\\'re', ' are ', text)\n",
    "    text = re.sub('\\'d', ' would ', text)\n",
    "    text = re.sub('\\'ll', ' will ', text)\n",
    "    text = re.sub('e\\.g\\.', ' eg ', text)\n",
    "    text = re.sub('b\\.g\\.', ' bg ', text)\n",
    "    text = re.sub('e-mail', ' email ', text)\n",
    "    text = re.sub('(the[\\s]+|The[\\s]+)?U\\.S\\.A\\.', ' america ', text)\n",
    "    text = re.sub('(the[\\s]+|The[\\s]+)?United State(s)?', ' america ', text)\n",
    "#    text = re.sub('\\(s\\)', ' ', text)\n",
    "#    text = re.sub('[c-fC-F]\\:\\/', ' disk ', text)\n",
    "#    text = re.sub('(\\d+)(kK)', ' \\g<1>000 ', text)\n",
    "\n",
    "    # Numbers and measures are a true mess\n",
    "    # 12,000 -> 12000\n",
    "    text = re.sub('(?<=[0-9])\\,(?=[0-9])', '', text)\n",
    "\n",
    "    return text\n",
    "\n",
    "small_train = new_preprocess(small_train)\n",
    "#display(small_train[['common_words','new_common_words','uncommon_words_question1','new_uncommon_words_question1']].head(10))\n",
    "sniff_changes(small_train)"
   ]
  },
  {
   "cell_type": "code",
   "execution_count": 14,
   "metadata": {},
   "outputs": [
    {
     "output_type": "display_data",
     "data": {
      "text/plain": "<IPython.core.display.HTML object>",
      "text/html": "<span style=\"color:LIGHTSALMON\"><small>Compute all features in one shot</small></span>"
     },
     "metadata": {
      "text/html": {
       "isolated": true
      }
     }
    },
    {
     "output_type": "display_data",
     "data": {
      "text/plain": "HBox(children=(FloatProgress(value=0.0, max=404290.0), HTML(value='')))",
      "application/vnd.jupyter.widget-view+json": {
       "version_major": 2,
       "version_minor": 0,
       "model_id": "5c0b65cbe19f427ea63bae6fe2ea2b72"
      }
     },
     "metadata": {}
    },
    {
     "output_type": "stream",
     "name": "stdout",
     "text": [
      "\n"
     ]
    },
    {
     "output_type": "display_data",
     "data": {
      "text/plain": "<IPython.core.display.HTML object>",
      "text/html": "<span style=\"color:LIGHTSALMON\"><small>Extract common words between question1 & question2</small></span>"
     },
     "metadata": {
      "text/html": {
       "isolated": true
      }
     }
    },
    {
     "output_type": "display_data",
     "data": {
      "text/plain": "HBox(children=(FloatProgress(value=0.0, max=404290.0), HTML(value='')))",
      "application/vnd.jupyter.widget-view+json": {
       "version_major": 2,
       "version_minor": 0,
       "model_id": "c108e0cbe05c445a9dc310e077788360"
      }
     },
     "metadata": {}
    },
    {
     "output_type": "stream",
     "name": "stdout",
     "text": [
      "\n"
     ]
    },
    {
     "output_type": "display_data",
     "data": {
      "text/plain": "<IPython.core.display.HTML object>",
      "text/html": "<span style=\"color:LIGHTSALMON\"><small>Extract uncommon words in question1</small></span>"
     },
     "metadata": {
      "text/html": {
       "isolated": true
      }
     }
    },
    {
     "output_type": "display_data",
     "data": {
      "text/plain": "HBox(children=(FloatProgress(value=0.0, max=404290.0), HTML(value='')))",
      "application/vnd.jupyter.widget-view+json": {
       "version_major": 2,
       "version_minor": 0,
       "model_id": "7986cf1d7f684dfb955366818a26d2bf"
      }
     },
     "metadata": {}
    },
    {
     "output_type": "stream",
     "name": "stdout",
     "text": [
      "\n"
     ]
    },
    {
     "output_type": "display_data",
     "data": {
      "text/plain": "<IPython.core.display.HTML object>",
      "text/html": "<span style=\"color:LIGHTSALMON\"><small>Extract Nb common_words between question1 & question2</small></span>"
     },
     "metadata": {
      "text/html": {
       "isolated": true
      }
     }
    },
    {
     "output_type": "display_data",
     "data": {
      "text/plain": "HBox(children=(FloatProgress(value=0.0, max=404290.0), HTML(value='')))",
      "application/vnd.jupyter.widget-view+json": {
       "version_major": 2,
       "version_minor": 0,
       "model_id": "ad703c5c4a1b4f67a3ac80ea4596fe75"
      }
     },
     "metadata": {}
    },
    {
     "output_type": "stream",
     "name": "stdout",
     "text": [
      "\n"
     ]
    },
    {
     "output_type": "display_data",
     "data": {
      "text/plain": "<IPython.core.display.HTML object>",
      "text/html": "<span style=\"color:LIGHTSALMON\"><small>Extract Nb words in question1 not in common words</small></span>"
     },
     "metadata": {
      "text/html": {
       "isolated": true
      }
     }
    },
    {
     "output_type": "display_data",
     "data": {
      "text/plain": "HBox(children=(FloatProgress(value=0.0, max=404290.0), HTML(value='')))",
      "application/vnd.jupyter.widget-view+json": {
       "version_major": 2,
       "version_minor": 0,
       "model_id": "4a6d3b8c22634bc5be0d886a2f4632c1"
      }
     },
     "metadata": {}
    },
    {
     "output_type": "stream",
     "name": "stdout",
     "text": [
      "\n"
     ]
    },
    {
     "output_type": "display_data",
     "data": {
      "text/plain": "<IPython.core.display.HTML object>",
      "text/html": "<span style=\"color:LIMEGREEN\"><small>New common 111.702 % New uncommon 87.082 %</small></span>"
     },
     "metadata": {
      "text/html": {
       "isolated": true
      }
     }
    }
   ],
   "source": [
    "def clean_text(text):\n",
    "    text = re.sub('\\?',' ',text) # ?\n",
    "    # odd chars\n",
    "    text = re.sub(\"’\", \"'\", text) # special single quote\n",
    "    text = re.sub(\"`\", \"'\", text) # special single quote\n",
    "    text = re.sub(\"“\", '\"', text) # special double quote\n",
    "    text = re.sub(\"？\", \"?\", text) \n",
    "    text = re.sub(\"…\", \" \", text) \n",
    "    text = re.sub(\"é\", \"e\", text)\n",
    "    \n",
    "    # shortcuts\n",
    "    text = re.sub('\\'s', ' ', text) \n",
    "    text = re.sub(' whats ', ' what is ', text)\n",
    "    text = re.sub('\\'ve', ' have ', text)\n",
    "    text = re.sub(\"can't\", 'can not', text)\n",
    "    text = re.sub(\"n't\", ' not ', text)\n",
    "    text = re.sub(\"i'm\", 'i am', text)\n",
    "    text = re.sub('\\'re', ' are ', text)\n",
    "    text = re.sub('\\'d', ' would ', text)\n",
    "    text = re.sub('\\'ll', ' will ', text)\n",
    "    text = re.sub('e\\.g\\.', ' eg ', text)\n",
    "    text = re.sub('b\\.g\\.', ' bg ', text)\n",
    "    text = re.sub('e-mail', ' email ', text)\n",
    "    text = re.sub('(the[\\s]+|The[\\s]+)?U\\.S\\.A\\.', ' america ', text)\n",
    "    text = re.sub('(the[\\s]+|The[\\s]+)?United State(s)?', ' america ', text)\n",
    "#    text = re.sub('\\(s\\)', ' ', text)\n",
    "#    text = re.sub('[c-fC-F]\\:\\/', ' disk ', text)\n",
    "#    text = re.sub('(\\d+)(kK)', ' \\g<1>000 ', text)\n",
    "\n",
    "    # Numbers and measures are a true mess\n",
    "    # 12,000 -> 12000\n",
    "    text = re.sub('(?<=[0-9])\\,(?=[0-9])', '', text)\n",
    "\n",
    "    # Quora is very used in India so roupie (rs) is often present\n",
    "    text = re.sub(\"(?<=[0-9])rs \", \" rs \", text)\n",
    "    text = re.sub(\" rs(?=[0-9])\", \" rs \", text)\n",
    "    return text\n",
    "\n",
    "small_train = new_preprocess(small_train)\n",
    "#display(small_train[['common_words','new_common_words','uncommon_words_question1','new_uncommon_words_question1']].head(10))\n",
    "sniff_changes(small_train)"
   ]
  },
  {
   "cell_type": "code",
   "execution_count": 15,
   "metadata": {},
   "outputs": [
    {
     "output_type": "display_data",
     "data": {
      "text/plain": "<IPython.core.display.HTML object>",
      "text/html": "<span style=\"color:LIGHTSALMON\"><small>Compute all features in one shot</small></span>"
     },
     "metadata": {
      "text/html": {
       "isolated": true
      }
     }
    },
    {
     "output_type": "display_data",
     "data": {
      "text/plain": "HBox(children=(FloatProgress(value=0.0, max=404290.0), HTML(value='')))",
      "application/vnd.jupyter.widget-view+json": {
       "version_major": 2,
       "version_minor": 0,
       "model_id": "0215be8508ab4d1f924ba6bc56a62403"
      }
     },
     "metadata": {}
    },
    {
     "output_type": "stream",
     "name": "stdout",
     "text": [
      "\n"
     ]
    },
    {
     "output_type": "display_data",
     "data": {
      "text/plain": "<IPython.core.display.HTML object>",
      "text/html": "<span style=\"color:LIGHTSALMON\"><small>Extract common words between question1 & question2</small></span>"
     },
     "metadata": {
      "text/html": {
       "isolated": true
      }
     }
    },
    {
     "output_type": "display_data",
     "data": {
      "text/plain": "HBox(children=(FloatProgress(value=0.0, max=404290.0), HTML(value='')))",
      "application/vnd.jupyter.widget-view+json": {
       "version_major": 2,
       "version_minor": 0,
       "model_id": "66d21826e943497a876255d56cb120f6"
      }
     },
     "metadata": {}
    },
    {
     "output_type": "stream",
     "name": "stdout",
     "text": [
      "\n"
     ]
    },
    {
     "output_type": "display_data",
     "data": {
      "text/plain": "<IPython.core.display.HTML object>",
      "text/html": "<span style=\"color:LIGHTSALMON\"><small>Extract uncommon words in question1</small></span>"
     },
     "metadata": {
      "text/html": {
       "isolated": true
      }
     }
    },
    {
     "output_type": "display_data",
     "data": {
      "text/plain": "HBox(children=(FloatProgress(value=0.0, max=404290.0), HTML(value='')))",
      "application/vnd.jupyter.widget-view+json": {
       "version_major": 2,
       "version_minor": 0,
       "model_id": "0d493f656853498cb4a45d93e64face5"
      }
     },
     "metadata": {}
    },
    {
     "output_type": "stream",
     "name": "stdout",
     "text": [
      "\n"
     ]
    },
    {
     "output_type": "display_data",
     "data": {
      "text/plain": "<IPython.core.display.HTML object>",
      "text/html": "<span style=\"color:LIGHTSALMON\"><small>Extract Nb common_words between question1 & question2</small></span>"
     },
     "metadata": {
      "text/html": {
       "isolated": true
      }
     }
    },
    {
     "output_type": "display_data",
     "data": {
      "text/plain": "HBox(children=(FloatProgress(value=0.0, max=404290.0), HTML(value='')))",
      "application/vnd.jupyter.widget-view+json": {
       "version_major": 2,
       "version_minor": 0,
       "model_id": "621cd22976644de0a63013d9f158818a"
      }
     },
     "metadata": {}
    },
    {
     "output_type": "stream",
     "name": "stdout",
     "text": [
      "\n"
     ]
    },
    {
     "output_type": "display_data",
     "data": {
      "text/plain": "<IPython.core.display.HTML object>",
      "text/html": "<span style=\"color:LIGHTSALMON\"><small>Extract Nb words in question1 not in common words</small></span>"
     },
     "metadata": {
      "text/html": {
       "isolated": true
      }
     }
    },
    {
     "output_type": "display_data",
     "data": {
      "text/plain": "HBox(children=(FloatProgress(value=0.0, max=404290.0), HTML(value='')))",
      "application/vnd.jupyter.widget-view+json": {
       "version_major": 2,
       "version_minor": 0,
       "model_id": "5e45d435f52447f79a43b3d09975715d"
      }
     },
     "metadata": {}
    },
    {
     "output_type": "stream",
     "name": "stdout",
     "text": [
      "\n"
     ]
    },
    {
     "output_type": "display_data",
     "data": {
      "text/plain": "<IPython.core.display.HTML object>",
      "text/html": "<span style=\"color:LIMEGREEN\"><small>New common 111.770 % New uncommon 87.056 %</small></span>"
     },
     "metadata": {
      "text/html": {
       "isolated": true
      }
     }
    }
   ],
   "source": [
    "\n",
    "def clean_text(text):\n",
    "    text = re.sub('\\?',' ',text) # ?\n",
    "    # odd chars\n",
    "    text = re.sub(\"’\", \"'\", text) # special single quote\n",
    "    text = re.sub(\"`\", \"'\", text) # special single quote\n",
    "    text = re.sub(\"“\", '\"', text) # special double quote\n",
    "    text = re.sub(\"？\", \"?\", text) \n",
    "    text = re.sub(\"…\", \" \", text) \n",
    "    text = re.sub(\"é\", \"e\", text)\n",
    "    \n",
    "    # shortcuts\n",
    "    text = re.sub('\\'s', ' ', text) \n",
    "    text = re.sub(' whats ', ' what is ', text)\n",
    "    text = re.sub('\\'ve', ' have ', text)\n",
    "    text = re.sub(\"can't\", 'can not', text)\n",
    "    text = re.sub(\"n't\", ' not ', text)\n",
    "    text = re.sub(\"i'm\", 'i am', text)\n",
    "    text = re.sub('\\'re', ' are ', text)\n",
    "    text = re.sub('\\'d', ' would ', text)\n",
    "    text = re.sub('\\'ll', ' will ', text)\n",
    "    text = re.sub('e\\.g\\.', ' eg ', text)\n",
    "    text = re.sub('b\\.g\\.', ' bg ', text)\n",
    "    text = re.sub('e-mail', ' email ', text)\n",
    "    text = re.sub('\\(s\\)', ' ', text)\n",
    "#    text = re.sub('[c-fC-F]\\:\\/', ' disk ', text)\n",
    "#    text = re.sub('(\\d+)(kK)', ' \\g<1>000 ', text)\n",
    "\n",
    "    # Numbers and measures are a true mess\n",
    "    # 12,000 -> 12000\n",
    "    text = re.sub('(?<=[0-9])\\,(?=[0-9])', '', text)\n",
    "\n",
    "    # Quora is very used in India so roupie (rs) is often present\n",
    "    text = re.sub(\"(?<=[0-9])rs \", \" rs \", text)\n",
    "    text = re.sub(\" rs(?=[0-9])\", \" rs \", text)\n",
    "\n",
    "    # stolen at kaggle : https://www.kaggle.com/currie32/the-importance-of-cleaning-text\n",
    "\n",
    "    # very weird !!! these ones decrease the hit % WTF ?\n",
    "\n",
    "    #text = re.sub(r\" (the[\\s]+|the[\\s]+)?us(a)? \", \" usa \", text)\n",
    "    #text = re.sub('(the[\\s]+|the[\\s]+)?united state(s)?', ' usa ', text)\n",
    "\n",
    "    text = re.sub(r\" UK \", \" england \", text)\n",
    "    text = re.sub(r\" imrovement \", \" improvement \", text)\n",
    "    text = re.sub(r\" intially \", \" initially \", text)\n",
    "    text = re.sub(r\" dms \", \" direct messages \", text)  \n",
    "    text = re.sub(r\" demonitization \", \" demonetization \", text) \n",
    "    text = re.sub(r\" actived \", \" active \", text)\n",
    "    text = re.sub(r\" kms \", \" kilometers \", text)\n",
    "    text = re.sub(r\" cs \", \" computer science \", text) \n",
    "    text = re.sub(r\" upvote\", \" up vote\", text)\n",
    "    text = re.sub(r\" iphone \", \" phone \", text)\n",
    "    text = re.sub(r\" \\0rs \", \" rs \", text)\n",
    "    text = re.sub(r\" calender \", \" calendar \", text)\n",
    "    text = re.sub(r\" ios \", \" operating system \", text)\n",
    "    text = re.sub(r\" programing \", \" programming \", text)\n",
    "    text = re.sub(r\" bestfriend \", \" best friend \", text)\n",
    "    text = re.sub(r\" iii \", \" 3 \", text)\n",
    "    text = re.sub(r\" banglore \", \" bangalore \", text)\n",
    "    text = re.sub(r\" j k \", \" jk \", text)\n",
    "    text = re.sub(r\" J\\.K\\. \", \" jk \", text)\n",
    "    \n",
    "    return text\n",
    "\n",
    "small_train = new_preprocess(small_train)\n",
    "#display(small_train[['common_words','new_common_words','uncommon_words_question1','new_uncommon_words_question1']].head(10))\n",
    "sniff_changes(small_train)"
   ]
  },
  {
   "cell_type": "code",
   "execution_count": 16,
   "metadata": {},
   "outputs": [
    {
     "output_type": "display_data",
     "data": {
      "text/plain": "<IPython.core.display.HTML object>",
      "text/html": "<span style=\"color:LIGHTSALMON\"><small>Compute all features in one shot</small></span>"
     },
     "metadata": {
      "text/html": {
       "isolated": true
      }
     }
    },
    {
     "output_type": "display_data",
     "data": {
      "text/plain": "HBox(children=(FloatProgress(value=0.0, max=404290.0), HTML(value='')))",
      "application/vnd.jupyter.widget-view+json": {
       "version_major": 2,
       "version_minor": 0,
       "model_id": "9ee0bc954c61423a8f8bb8fa8fad86a2"
      }
     },
     "metadata": {}
    },
    {
     "output_type": "stream",
     "name": "stdout",
     "text": [
      "\n"
     ]
    },
    {
     "output_type": "display_data",
     "data": {
      "text/plain": "<IPython.core.display.HTML object>",
      "text/html": "<span style=\"color:LIGHTSALMON\"><small>Extract common words between question1 & question2</small></span>"
     },
     "metadata": {
      "text/html": {
       "isolated": true
      }
     }
    },
    {
     "output_type": "display_data",
     "data": {
      "text/plain": "HBox(children=(FloatProgress(value=0.0, max=404290.0), HTML(value='')))",
      "application/vnd.jupyter.widget-view+json": {
       "version_major": 2,
       "version_minor": 0,
       "model_id": "ebe01be4d5214d91aa1603255f39e06f"
      }
     },
     "metadata": {}
    },
    {
     "output_type": "stream",
     "name": "stdout",
     "text": [
      "\n"
     ]
    },
    {
     "output_type": "display_data",
     "data": {
      "text/plain": "<IPython.core.display.HTML object>",
      "text/html": "<span style=\"color:LIGHTSALMON\"><small>Extract uncommon words in question1</small></span>"
     },
     "metadata": {
      "text/html": {
       "isolated": true
      }
     }
    },
    {
     "output_type": "display_data",
     "data": {
      "text/plain": "HBox(children=(FloatProgress(value=0.0, max=404290.0), HTML(value='')))",
      "application/vnd.jupyter.widget-view+json": {
       "version_major": 2,
       "version_minor": 0,
       "model_id": "75f6b7c84b2c4a7a91534f15cbe2502b"
      }
     },
     "metadata": {}
    },
    {
     "output_type": "stream",
     "name": "stdout",
     "text": [
      "\n"
     ]
    },
    {
     "output_type": "display_data",
     "data": {
      "text/plain": "<IPython.core.display.HTML object>",
      "text/html": "<span style=\"color:LIGHTSALMON\"><small>Extract Nb common_words between question1 & question2</small></span>"
     },
     "metadata": {
      "text/html": {
       "isolated": true
      }
     }
    },
    {
     "output_type": "display_data",
     "data": {
      "text/plain": "HBox(children=(FloatProgress(value=0.0, max=404290.0), HTML(value='')))",
      "application/vnd.jupyter.widget-view+json": {
       "version_major": 2,
       "version_minor": 0,
       "model_id": "a384936ee3514555826f7f337f79fbc0"
      }
     },
     "metadata": {}
    },
    {
     "output_type": "stream",
     "name": "stdout",
     "text": [
      "\n"
     ]
    },
    {
     "output_type": "display_data",
     "data": {
      "text/plain": "<IPython.core.display.HTML object>",
      "text/html": "<span style=\"color:LIGHTSALMON\"><small>Extract Nb words in question1 not in common words</small></span>"
     },
     "metadata": {
      "text/html": {
       "isolated": true
      }
     }
    },
    {
     "output_type": "display_data",
     "data": {
      "text/plain": "HBox(children=(FloatProgress(value=0.0, max=404290.0), HTML(value='')))",
      "application/vnd.jupyter.widget-view+json": {
       "version_major": 2,
       "version_minor": 0,
       "model_id": "3fe6f2f2155941089ea77e2f457f5a37"
      }
     },
     "metadata": {}
    },
    {
     "output_type": "stream",
     "name": "stdout",
     "text": [
      "\n"
     ]
    },
    {
     "output_type": "display_data",
     "data": {
      "text/plain": "<IPython.core.display.HTML object>",
      "text/html": "<span style=\"color:LIMEGREEN\"><small>New common 115.516 % New uncommon 82.359 %</small></span>"
     },
     "metadata": {
      "text/html": {
       "isolated": true
      }
     }
    }
   ],
   "source": [
    "\n",
    "def clean_text(text):\n",
    "    text = re.sub('\\?',' ',text) # ?\n",
    "    # odd chars\n",
    "    text = re.sub(\"’\", \"'\", text) # special single quote\n",
    "    text = re.sub(\"`\", \"'\", text) # special single quote\n",
    "    text = re.sub(\"“\", '\"', text) # special double quote\n",
    "    text = re.sub(\"？\", \"?\", text) \n",
    "    text = re.sub(\"…\", \" \", text) \n",
    "    text = re.sub(\"é\", \"e\", text)\n",
    "    \n",
    "    # shortcuts\n",
    "    text = re.sub('\\'s', ' ', text) \n",
    "    text = re.sub(' whats ', ' what is ', text)\n",
    "    text = re.sub('\\'ve', ' have ', text)\n",
    "    text = re.sub(\"can't\", 'can not', text)\n",
    "    text = re.sub(\"n't\", ' not ', text)\n",
    "    text = re.sub(\"i'm\", 'i am', text)\n",
    "    text = re.sub('\\'re', ' are ', text)\n",
    "    text = re.sub('\\'d', ' would ', text)\n",
    "    text = re.sub('\\'ll', ' will ', text)\n",
    "    text = re.sub('e\\.g\\.', ' eg ', text)\n",
    "    text = re.sub('b\\.g\\.', ' bg ', text)\n",
    "    text = re.sub('e-mail', ' email ', text)\n",
    "    text = re.sub('\\(s\\)', ' ', text)\n",
    "\n",
    "    # Numbers and measures are a true mess\n",
    "    # 12,000 -> 12000\n",
    "    text = re.sub('(?<=[0-9])\\,(?=[0-9])', '', text)\n",
    "\n",
    "    # Quora is very used in India so roupie (rs) is often present\n",
    "    text = re.sub(\"(?<=[0-9])rs \", \" rs \", text)\n",
    "    text = re.sub(\" rs(?=[0-9])\", \" rs \", text)\n",
    "\n",
    "    # stolen at kaggle : https://www.kaggle.com/currie32/the-importance-of-cleaning-text\n",
    "\n",
    "#    text = re.sub('[c-fC-F]\\:\\/', ' disk ', text)\n",
    "#    text = re.sub('(\\d+)(kK)', ' \\g<1>000 ', text)\n",
    "    # very weird !!! these ones decrease the hit % WTF ?\n",
    "\n",
    "    #text = re.sub(r\" (the[\\s]+|the[\\s]+)?us(a)? \", \" usa \", text)\n",
    "    #text = re.sub('(the[\\s]+|the[\\s]+)?united state(s)?', ' usa ', text)\n",
    "\n",
    "    text = re.sub(r\" uk \", \" england \", text)\n",
    "    text = re.sub(r\" imrovement \", \" improvement \", text)\n",
    "    text = re.sub(r\" intially \", \" initially \", text)\n",
    "    text = re.sub(r\" dms \", \" direct messages \", text)  \n",
    "    text = re.sub(r\" demonitization \", \" demonetization \", text) \n",
    "    text = re.sub(r\" actived \", \" active \", text)\n",
    "    text = re.sub(r\" kms \", \" kilometers \", text)\n",
    "    text = re.sub(r\" cs \", \" computer science \", text) \n",
    "    text = re.sub(r\" upvote\", \" up vote\", text)\n",
    "    text = re.sub(r\" iphone \", \" phone \", text)\n",
    "    text = re.sub(r\" \\0rs \", \" rs \", text)\n",
    "    text = re.sub(r\" calender \", \" calendar \", text)\n",
    "    text = re.sub(r\" ios \", \" operating system \", text)\n",
    "    text = re.sub(r\" programing \", \" programming \", text)\n",
    "    text = re.sub(r\" bestfriend \", \" best friend \", text)\n",
    "    text = re.sub(r\" iii \", \" 3 \", text)\n",
    "    text = re.sub(r\" banglore \", \" bangalore \", text)\n",
    "    text = re.sub(r\" j k \", \" jk \", text)\n",
    "    text = re.sub(r\" J\\.K\\. \", \" jk \", text)\n",
    "\n",
    "    \n",
    "    # some others\n",
    "    text = re.sub(r\"60k\", \" 60000 \", text)\n",
    "    text = re.sub(r\" e g \", \" eg \", text)\n",
    "    text = re.sub(r\" b g \", \" bg \", text)\n",
    "    text = re.sub(r\"\\0s\", \"0\", text)\n",
    "    text = re.sub(r\" 9 11 \", \"911\", text)\n",
    "    text = re.sub(r\"\\s{2,}\", \" \", text)\n",
    "    text = re.sub(r\" usa \", \" America \", text)\n",
    "    text = re.sub(r\" u s \", \" America \", text)\n",
    "    text = re.sub(r\"\\'s\", \" \", text)    \n",
    "    text = re.sub(r\" m \", \" am \", text)\n",
    "    # Now we can remove punctuation but not all !\n",
    "    # we keep - and @ for later maybe \n",
    "    text = ''.join([c for c in text if c not in '!\"#$%&\\'()*+,./:;<=>?[\\\\]^_`{|}~'])\n",
    "    return text\n",
    "\n",
    "small_train = new_preprocess(small_train)\n",
    "#display(small_train[['common_words','new_common_words','uncommon_words_question1','new_uncommon_words_question1']].head(10))\n",
    "sniff_changes(small_train)"
   ]
  },
  {
   "cell_type": "code",
   "execution_count": 17,
   "metadata": {},
   "outputs": [
    {
     "output_type": "display_data",
     "data": {
      "text/plain": "<IPython.core.display.HTML object>",
      "text/html": "<span style=\"color:LIGHTSALMON\"><small>Compute all features in one shot</small></span>"
     },
     "metadata": {
      "text/html": {
       "isolated": true
      }
     }
    },
    {
     "output_type": "display_data",
     "data": {
      "text/plain": "HBox(children=(FloatProgress(value=0.0, max=404290.0), HTML(value='')))",
      "application/vnd.jupyter.widget-view+json": {
       "version_major": 2,
       "version_minor": 0,
       "model_id": "4a9ec0f234ed405393e26eb518b525db"
      }
     },
     "metadata": {}
    },
    {
     "output_type": "stream",
     "name": "stdout",
     "text": [
      "\n"
     ]
    },
    {
     "output_type": "display_data",
     "data": {
      "text/plain": "<IPython.core.display.HTML object>",
      "text/html": "<span style=\"color:LIGHTSALMON\"><small>Extract common words between question1 & question2</small></span>"
     },
     "metadata": {
      "text/html": {
       "isolated": true
      }
     }
    },
    {
     "output_type": "display_data",
     "data": {
      "text/plain": "HBox(children=(FloatProgress(value=0.0, max=404290.0), HTML(value='')))",
      "application/vnd.jupyter.widget-view+json": {
       "version_major": 2,
       "version_minor": 0,
       "model_id": "8b607d7bd6b24cbeb4569343bc076f72"
      }
     },
     "metadata": {}
    },
    {
     "output_type": "stream",
     "name": "stdout",
     "text": [
      "\n"
     ]
    },
    {
     "output_type": "display_data",
     "data": {
      "text/plain": "<IPython.core.display.HTML object>",
      "text/html": "<span style=\"color:LIGHTSALMON\"><small>Extract uncommon words in question1</small></span>"
     },
     "metadata": {
      "text/html": {
       "isolated": true
      }
     }
    },
    {
     "output_type": "display_data",
     "data": {
      "text/plain": "HBox(children=(FloatProgress(value=0.0, max=404290.0), HTML(value='')))",
      "application/vnd.jupyter.widget-view+json": {
       "version_major": 2,
       "version_minor": 0,
       "model_id": "008664a09d284c429ae10eb29c61487c"
      }
     },
     "metadata": {}
    },
    {
     "output_type": "stream",
     "name": "stdout",
     "text": [
      "\n"
     ]
    },
    {
     "output_type": "display_data",
     "data": {
      "text/plain": "<IPython.core.display.HTML object>",
      "text/html": "<span style=\"color:LIGHTSALMON\"><small>Extract Nb common_words between question1 & question2</small></span>"
     },
     "metadata": {
      "text/html": {
       "isolated": true
      }
     }
    },
    {
     "output_type": "display_data",
     "data": {
      "text/plain": "HBox(children=(FloatProgress(value=0.0, max=404290.0), HTML(value='')))",
      "application/vnd.jupyter.widget-view+json": {
       "version_major": 2,
       "version_minor": 0,
       "model_id": "a6a996d585d74b348ca37406d3ed0375"
      }
     },
     "metadata": {}
    },
    {
     "output_type": "stream",
     "name": "stdout",
     "text": [
      "\n"
     ]
    },
    {
     "output_type": "display_data",
     "data": {
      "text/plain": "<IPython.core.display.HTML object>",
      "text/html": "<span style=\"color:LIGHTSALMON\"><small>Extract Nb words in question1 not in common words</small></span>"
     },
     "metadata": {
      "text/html": {
       "isolated": true
      }
     }
    },
    {
     "output_type": "display_data",
     "data": {
      "text/plain": "HBox(children=(FloatProgress(value=0.0, max=404290.0), HTML(value='')))",
      "application/vnd.jupyter.widget-view+json": {
       "version_major": 2,
       "version_minor": 0,
       "model_id": "f33bd9e7c12f4c2fb55fd7130fb0cbce"
      }
     },
     "metadata": {}
    },
    {
     "output_type": "stream",
     "name": "stdout",
     "text": [
      "\n"
     ]
    },
    {
     "output_type": "display_data",
     "data": {
      "text/plain": "<IPython.core.display.HTML object>",
      "text/html": "<span style=\"color:LIMEGREEN\"><small>New common 115.516 % New uncommon 82.360 %</small></span>"
     },
     "metadata": {
      "text/html": {
       "isolated": true
      }
     }
    }
   ],
   "source": [
    "def clean_text(text):\n",
    "    text = re.sub('\\?',' ',text) # ?\n",
    "    # odd chars\n",
    "    text = re.sub(\"’\", \"'\", text) # special single quote\n",
    "    text = re.sub(\"`\", \"'\", text) # special single quote\n",
    "    text = re.sub(\"“\", '\"', text) # special double quote\n",
    "    text = re.sub(\"？\", \"?\", text) \n",
    "    text = re.sub(\"…\", \" \", text) \n",
    "    text = re.sub(\"é\", \"e\", text)\n",
    "    \n",
    "    # shortcuts\n",
    "    text = re.sub('\\'s', ' is', text) \n",
    "    text = re.sub(' whats ', ' what is ', text)\n",
    "    text = re.sub('\\'ve', ' have ', text)\n",
    "    text = re.sub(\"can't\", 'can not', text)\n",
    "    # this one is tricky do it in order\n",
    "    text = re.sub(\"wouldn't\", 'would not', text)\n",
    "    text = re.sub(\"n't\", ' not ', text)\n",
    "    text = re.sub(\"i'm\", 'i am', text)\n",
    "    text = re.sub('\\'re', ' are ', text)\n",
    "    text = re.sub('\\'d', ' would ', text)\n",
    "    text = re.sub('\\'ll', ' will ', text)\n",
    "    text = re.sub('e\\.g\\.', ' eg ', text)\n",
    "    text = re.sub('b\\.g\\.', ' bg ', text)\n",
    "    text = re.sub('e-mail', ' email ', text)\n",
    "    text = re.sub('\\(s\\)', ' ', text)\n",
    "\n",
    "    # Numbers and measures are a true mess\n",
    "    # 12,000 -> 12000\n",
    "    text = re.sub('(?<=[0-9])\\,(?=[0-9])', '', text)\n",
    "\n",
    "    # Quora is very used in India so roupie (rs) is often present\n",
    "    text = re.sub(\"(?<=[0-9])rs \", \" rs \", text)\n",
    "    text = re.sub(\" rs(?=[0-9])\", \" rs \", text)\n",
    "\n",
    "    # stolen at kaggle : https://www.kaggle.com/currie32/the-importance-of-cleaning-text\n",
    "\n",
    "#    text = re.sub('[c-fC-F]\\:\\/', ' disk ', text)\n",
    "#    text = re.sub('(\\d+)(kK)', ' \\g<1>000 ', text)\n",
    "    # very weird !!! these ones decrease the hit % WTF ?\n",
    "\n",
    "    #text = re.sub(r\" (the[\\s]+|the[\\s]+)?us(a)? \", \" usa \", text)\n",
    "    #text = re.sub('(the[\\s]+|the[\\s]+)?united state(s)?', ' usa ', text)\n",
    "\n",
    "    text = re.sub(r\" uk \", \" england \", text)\n",
    "    text = re.sub(r\" imrovement \", \" improvement \", text)\n",
    "    text = re.sub(r\" intially \", \" initially \", text)\n",
    "    text = re.sub(r\" dms \", \" direct messages \", text)  \n",
    "    text = re.sub(r\" demonitization \", \" demonetization \", text) \n",
    "    text = re.sub(r\" actived \", \" active \", text)\n",
    "    text = re.sub(r\" kms \", \" kilometers \", text)\n",
    "    text = re.sub(r\" cs \", \" computer science \", text) \n",
    "    text = re.sub(r\" upvote\", \" up vote\", text)\n",
    "    text = re.sub(r\" iphone \", \" phone \", text)\n",
    "    text = re.sub(r\" \\0rs \", \" rs \", text)\n",
    "    text = re.sub(r\" calender \", \" calendar \", text)\n",
    "    text = re.sub(r\" ios \", \" operating system \", text)\n",
    "    text = re.sub(r\" programing \", \" programming \", text)\n",
    "    text = re.sub(r\" bestfriend \", \" best friend \", text)\n",
    "    text = re.sub(r\" iii \", \" 3 \", text)\n",
    "    text = re.sub(r\" banglore \", \" bangalore \", text)\n",
    "    text = re.sub(r\" j k \", \" jk \", text)\n",
    "    text = re.sub(r\" J\\.K\\. \", \" jk \", text)\n",
    "\n",
    "    \n",
    "    # some others\n",
    "    text = re.sub(r\"60k\", \" 60000 \", text)\n",
    "    text = re.sub(r\" e g \", \" eg \", text)\n",
    "    text = re.sub(r\" b g \", \" bg \", text)\n",
    "    text = re.sub(r\"\\0s\", \"0\", text)\n",
    "    text = re.sub(r\" 9 11 \", \"911\", text)\n",
    "    text = re.sub(r\"\\s{2,}\", \" \", text)\n",
    "    text = re.sub(r\" usa \", \" America \", text)\n",
    "    text = re.sub(r\" u s \", \" America \", text)\n",
    "    text = re.sub(r\"'m \", \" am \", text)\n",
    "\n",
    "    # Now we can remove punctuation but not all !\n",
    "    # we keep - and @ for later maybe \n",
    "    text = ''.join([c for c in text if c not in '!\"#$%&\\'()*+,./:;<=>?[\\\\]^_`{|}~'])\n",
    "\n",
    "    return text\n",
    "\n",
    "small_train = new_preprocess(small_train)\n",
    "#display(small_train[['common_words','new_common_words','uncommon_words_question1','new_uncommon_words_question1']].head(10))\n",
    "sniff_changes(small_train)"
   ]
  },
  {
   "source": [
    "I changed my mind\n",
    "\n",
    "Instead of replacing punctuation by nothing, we should surround it with blanks. Otherwise we ar just generating more unknown words\n",
    "\n",
    "Example\n",
    "monday,tuesday i will go swimming.sure! -> MondayTuesday i will go swimmingsure\n",
    "monday,tuesday i will go swimming.sure! -> monday tuesday i will go swimming sure"
   ],
   "cell_type": "markdown",
   "metadata": {}
  },
  {
   "cell_type": "code",
   "execution_count": 18,
   "metadata": {},
   "outputs": [
    {
     "output_type": "display_data",
     "data": {
      "text/plain": "<IPython.core.display.HTML object>",
      "text/html": "<span style=\"color:LIGHTSALMON\"><small>Compute all features in one shot</small></span>"
     },
     "metadata": {
      "text/html": {
       "isolated": true
      }
     }
    },
    {
     "output_type": "display_data",
     "data": {
      "text/plain": "HBox(children=(FloatProgress(value=0.0, max=404290.0), HTML(value='')))",
      "application/vnd.jupyter.widget-view+json": {
       "version_major": 2,
       "version_minor": 0,
       "model_id": "8f1e1f11bad1460fb4ca55a9ad47cedb"
      }
     },
     "metadata": {}
    },
    {
     "output_type": "stream",
     "name": "stdout",
     "text": [
      "\n"
     ]
    },
    {
     "output_type": "display_data",
     "data": {
      "text/plain": "<IPython.core.display.HTML object>",
      "text/html": "<span style=\"color:LIGHTSALMON\"><small>Extract common words between question1 & question2</small></span>"
     },
     "metadata": {
      "text/html": {
       "isolated": true
      }
     }
    },
    {
     "output_type": "display_data",
     "data": {
      "text/plain": "HBox(children=(FloatProgress(value=0.0, max=404290.0), HTML(value='')))",
      "application/vnd.jupyter.widget-view+json": {
       "version_major": 2,
       "version_minor": 0,
       "model_id": "c1d37d276992431980b4a8bbaf16f741"
      }
     },
     "metadata": {}
    },
    {
     "output_type": "stream",
     "name": "stdout",
     "text": [
      "\n"
     ]
    },
    {
     "output_type": "display_data",
     "data": {
      "text/plain": "<IPython.core.display.HTML object>",
      "text/html": "<span style=\"color:LIGHTSALMON\"><small>Extract uncommon words in question1</small></span>"
     },
     "metadata": {
      "text/html": {
       "isolated": true
      }
     }
    },
    {
     "output_type": "display_data",
     "data": {
      "text/plain": "HBox(children=(FloatProgress(value=0.0, max=404290.0), HTML(value='')))",
      "application/vnd.jupyter.widget-view+json": {
       "version_major": 2,
       "version_minor": 0,
       "model_id": "2f873c476dbb43b1acad5fdfa27e392e"
      }
     },
     "metadata": {}
    },
    {
     "output_type": "stream",
     "name": "stdout",
     "text": [
      "\n"
     ]
    },
    {
     "output_type": "display_data",
     "data": {
      "text/plain": "<IPython.core.display.HTML object>",
      "text/html": "<span style=\"color:LIGHTSALMON\"><small>Extract Nb common_words between question1 & question2</small></span>"
     },
     "metadata": {
      "text/html": {
       "isolated": true
      }
     }
    },
    {
     "output_type": "display_data",
     "data": {
      "text/plain": "HBox(children=(FloatProgress(value=0.0, max=404290.0), HTML(value='')))",
      "application/vnd.jupyter.widget-view+json": {
       "version_major": 2,
       "version_minor": 0,
       "model_id": "4005b29c4df94fb886a99edc4cfe8c26"
      }
     },
     "metadata": {}
    },
    {
     "output_type": "stream",
     "name": "stdout",
     "text": [
      "\n"
     ]
    },
    {
     "output_type": "display_data",
     "data": {
      "text/plain": "<IPython.core.display.HTML object>",
      "text/html": "<span style=\"color:LIGHTSALMON\"><small>Extract Nb words in question1 not in common words</small></span>"
     },
     "metadata": {
      "text/html": {
       "isolated": true
      }
     }
    },
    {
     "output_type": "display_data",
     "data": {
      "text/plain": "HBox(children=(FloatProgress(value=0.0, max=404290.0), HTML(value='')))",
      "application/vnd.jupyter.widget-view+json": {
       "version_major": 2,
       "version_minor": 0,
       "model_id": "f9b0a945e50a46a580a306e51728e554"
      }
     },
     "metadata": {}
    },
    {
     "output_type": "stream",
     "name": "stdout",
     "text": [
      "\n"
     ]
    },
    {
     "output_type": "display_data",
     "data": {
      "text/plain": "<IPython.core.display.HTML object>",
      "text/html": "<span style=\"color:LIMEGREEN\"><small>New common 118.768 % New uncommon 82.289 %</small></span>"
     },
     "metadata": {
      "text/html": {
       "isolated": true
      }
     }
    }
   ],
   "source": [
    "FINAL_PUNC_CLEANER = str.maketrans(dict([ (c,' ') for c in '!\"#$%&\\'()*+,./:;<=>?[\\\\]^_`{|}~-@']))\n",
    "\n",
    "def clean_text(text):\n",
    "    text = re.sub('\\?',' ',text) # ?\n",
    "    # odd chars\n",
    "    # will generate more ' so do it first\n",
    "    text = re.sub(\"’\", \"'\", text) # special single quote\n",
    "    text = re.sub(\"`\", \"'\", text) # special single quote\n",
    "    text = re.sub(\"“\", '\"', text) # special double quote\n",
    "    text = re.sub(\"？\", \"?\", text) \n",
    "    text = re.sub(\"…\", \" \", text) \n",
    "    text = re.sub(\"é\", \"e\", text)\n",
    "    \n",
    "    # shortcuts\n",
    "    text = re.sub('\\'s', ' is', text) \n",
    "    text = re.sub(' whats ', ' what is ', text)\n",
    "    text = re.sub('\\'ve', ' have ', text)\n",
    "    text = re.sub(\"can't\", 'can not', text)\n",
    "    # this one is tricky do it in order\n",
    "    text = re.sub(\"wouldn't\", 'would not', text)\n",
    "    text = re.sub(\"n't\", ' not ', text)\n",
    "    text = re.sub(\"i'm\", 'i am', text)\n",
    "    text = re.sub('\\'re', ' are ', text)\n",
    "    text = re.sub('\\'d', ' would ', text)\n",
    "    text = re.sub('\\'ll', ' will ', text)\n",
    "    text = re.sub('e\\.g\\.', ' eg ', text)\n",
    "    text = re.sub('b\\.g\\.', ' bg ', text)\n",
    "    text = re.sub('e-mail', ' email ', text)\n",
    "    text = re.sub('\\(s\\)', ' ', text)\n",
    "\n",
    "    # Numbers and measures are a true mess\n",
    "    # 12,000 -> 12000\n",
    "    text = re.sub('(?<=[0-9])\\,(?=[0-9])', '', text)\n",
    "\n",
    "    # Quora is very used in India so roupie (rs) is often present\n",
    "    text = re.sub(\"(?<=[0-9])rs \", \" rs \", text)\n",
    "    text = re.sub(\" rs(?=[0-9])\", \" rs \", text)\n",
    "\n",
    "    # stolen at kaggle : https://www.kaggle.com/currie32/the-importance-of-cleaning-text\n",
    "\n",
    "#    text = re.sub('[c-fC-F]\\:\\/', ' disk ', text)\n",
    "#    text = re.sub('(\\d+)(kK)', ' \\g<1>000 ', text)\n",
    "    # very weird !!! these ones decrease the hit % WTF ?\n",
    "\n",
    "    #text = re.sub(r\" (the[\\s]+|the[\\s]+)?us(a)? \", \" usa \", text)\n",
    "    #text = re.sub('(the[\\s]+|the[\\s]+)?united state(s)?', ' usa ', text)\n",
    "\n",
    "    text = re.sub(r\" uk \", \" england \", text)\n",
    "    text = re.sub(r\" imrovement \", \" improvement \", text)\n",
    "    text = re.sub(r\" intially \", \" initially \", text)\n",
    "    text = re.sub(r\" dms \", \" direct messages \", text)  \n",
    "    text = re.sub(r\" demonitization \", \" demonetization \", text) \n",
    "    text = re.sub(r\" actived \", \" active \", text)\n",
    "    text = re.sub(r\" kms \", \" kilometers \", text)\n",
    "    text = re.sub(r\" cs \", \" computer science \", text) \n",
    "    text = re.sub(r\" upvote\", \" up vote\", text)\n",
    "    text = re.sub(r\" iphone \", \" phone \", text)\n",
    "    text = re.sub(r\" \\0rs \", \" rs \", text)\n",
    "    text = re.sub(r\" calender \", \" calendar \", text)\n",
    "    text = re.sub(r\" ios \", \" operating system \", text)\n",
    "    text = re.sub(r\" programing \", \" programming \", text)\n",
    "    text = re.sub(r\" bestfriend \", \" best friend \", text)\n",
    "    text = re.sub(r\" iii \", \" 3 \", text)\n",
    "    text = re.sub(r\" banglore \", \" bangalore \", text)\n",
    "    text = re.sub(r\" j k \", \" jk \", text)\n",
    "    text = re.sub(r\" J\\.K\\. \", \" jk \", text)\n",
    "\n",
    "    \n",
    "    # some others\n",
    "    text = re.sub(r\"60k\", \" 60000 \", text)\n",
    "    text = re.sub(r\" e g \", \" eg \", text)\n",
    "    text = re.sub(r\" b g \", \" bg \", text)\n",
    "    text = re.sub(r\"\\0s\", \"0\", text)\n",
    "    text = re.sub(r\" 9 11 \", \"911\", text)\n",
    "    text = re.sub(r\"\\s{2,}\", \" \", text)\n",
    "    text = re.sub(r\" usa \", \" America \", text)\n",
    "    text = re.sub(r\" u s \", \" America \", text)\n",
    "    text = re.sub(r\"'m \", \" am \", text)\n",
    "\n",
    "    # will blank any of !\"#$%&\\'()*+,./:;<=>?[\\\\]^_`{|}~-@\n",
    "    # Note the @ is dubious : won't we loose some emails\n",
    "    text = text.translate(FINAL_PUNC_CLEANER)\n",
    "\n",
    "    return text\n",
    "\n",
    "small_train = new_preprocess(small_train)\n",
    "#display(small_train[['common_words','new_common_words','uncommon_words_question1','new_uncommon_words_question1']].head(10))\n",
    "sniff_changes(small_train)"
   ]
  },
  {
   "cell_type": "code",
   "execution_count": 19,
   "metadata": {},
   "outputs": [
    {
     "output_type": "display_data",
     "data": {
      "text/plain": "<IPython.core.display.HTML object>",
      "text/html": "<span style=\"color:LIGHTSALMON\"><small>Compute all features in one shot</small></span>"
     },
     "metadata": {
      "text/html": {
       "isolated": true
      }
     }
    },
    {
     "output_type": "display_data",
     "data": {
      "text/plain": "HBox(children=(FloatProgress(value=0.0, max=404290.0), HTML(value='')))",
      "application/vnd.jupyter.widget-view+json": {
       "version_major": 2,
       "version_minor": 0,
       "model_id": "4036663fe1e04df8a1d8909668629210"
      }
     },
     "metadata": {}
    },
    {
     "output_type": "stream",
     "name": "stdout",
     "text": [
      "\n"
     ]
    },
    {
     "output_type": "display_data",
     "data": {
      "text/plain": "<IPython.core.display.HTML object>",
      "text/html": "<span style=\"color:LIGHTSALMON\"><small>Extract common words between question1 & question2</small></span>"
     },
     "metadata": {
      "text/html": {
       "isolated": true
      }
     }
    },
    {
     "output_type": "display_data",
     "data": {
      "text/plain": "HBox(children=(FloatProgress(value=0.0, max=404290.0), HTML(value='')))",
      "application/vnd.jupyter.widget-view+json": {
       "version_major": 2,
       "version_minor": 0,
       "model_id": "d4afc783fd63402bb00f20821104eab3"
      }
     },
     "metadata": {}
    },
    {
     "output_type": "stream",
     "name": "stdout",
     "text": [
      "\n"
     ]
    },
    {
     "output_type": "display_data",
     "data": {
      "text/plain": "<IPython.core.display.HTML object>",
      "text/html": "<span style=\"color:LIGHTSALMON\"><small>Extract uncommon words in question1</small></span>"
     },
     "metadata": {
      "text/html": {
       "isolated": true
      }
     }
    },
    {
     "output_type": "display_data",
     "data": {
      "text/plain": "HBox(children=(FloatProgress(value=0.0, max=404290.0), HTML(value='')))",
      "application/vnd.jupyter.widget-view+json": {
       "version_major": 2,
       "version_minor": 0,
       "model_id": "2285fe2e2d294dceacf5f9631f5b64f7"
      }
     },
     "metadata": {}
    },
    {
     "output_type": "stream",
     "name": "stdout",
     "text": [
      "\n"
     ]
    },
    {
     "output_type": "display_data",
     "data": {
      "text/plain": "<IPython.core.display.HTML object>",
      "text/html": "<span style=\"color:LIGHTSALMON\"><small>Extract Nb common_words between question1 & question2</small></span>"
     },
     "metadata": {
      "text/html": {
       "isolated": true
      }
     }
    },
    {
     "output_type": "display_data",
     "data": {
      "text/plain": "HBox(children=(FloatProgress(value=0.0, max=404290.0), HTML(value='')))",
      "application/vnd.jupyter.widget-view+json": {
       "version_major": 2,
       "version_minor": 0,
       "model_id": "f03e47c695574f3fbcb95ef26ed8066d"
      }
     },
     "metadata": {}
    },
    {
     "output_type": "stream",
     "name": "stdout",
     "text": [
      "\n"
     ]
    },
    {
     "output_type": "display_data",
     "data": {
      "text/plain": "<IPython.core.display.HTML object>",
      "text/html": "<span style=\"color:LIGHTSALMON\"><small>Extract Nb words in question1 not in common words</small></span>"
     },
     "metadata": {
      "text/html": {
       "isolated": true
      }
     }
    },
    {
     "output_type": "display_data",
     "data": {
      "text/plain": "HBox(children=(FloatProgress(value=0.0, max=404290.0), HTML(value='')))",
      "application/vnd.jupyter.widget-view+json": {
       "version_major": 2,
       "version_minor": 0,
       "model_id": "fdc908dbaaa9477e8c37db3ddd0c82c1"
      }
     },
     "metadata": {}
    },
    {
     "output_type": "stream",
     "name": "stdout",
     "text": [
      "\n"
     ]
    },
    {
     "output_type": "display_data",
     "data": {
      "text/plain": "<IPython.core.display.HTML object>",
      "text/html": "<span style=\"color:LIMEGREEN\"><small>New common 118.681 % New uncommon 82.213 %</small></span>"
     },
     "metadata": {
      "text/html": {
       "isolated": true
      }
     }
    }
   ],
   "source": [
    "# I do special stuff with $ and roupie char\n",
    "FINAL_PUNC_CLEANER = str.maketrans(dict([ (c,' ') for c in '!\"#%&\\'()*+,./:;<=>?[\\\\]^_`{|}~-@']))\n",
    "\n",
    "def clean_text(text):\n",
    "    text = re.sub('\\?',' ',text) # ?\n",
    "    # odd chars\n",
    "    # will generate more ' so do it first\n",
    "    text = re.sub(\"’\", \"'\", text) # special single quote\n",
    "    text = re.sub(\"`\", \"'\", text) # special single quote\n",
    "    text = re.sub(\"“\", '\"', text) # special double quote\n",
    "    text = re.sub(\"？\", \"?\", text) \n",
    "    text = re.sub(\"…\", \" \", text) \n",
    "    text = re.sub(\"é\", \"e\", text)\n",
    "    \n",
    "    # shortcuts\n",
    "    text = re.sub('\\'s', ' is', text) \n",
    "    text = re.sub(' whats ', ' what is ', text)\n",
    "    text = re.sub('\\'ve', ' have ', text)\n",
    "    text = re.sub(\"can't\", 'can not', text)\n",
    "    # this one is tricky do it in order\n",
    "    text = re.sub(\"wouldn't\", 'would not', text)\n",
    "    text = re.sub(\"n't\", ' not ', text)\n",
    "    text = re.sub(\"i'm\", 'i am', text)\n",
    "    text = re.sub('\\'re', ' are ', text)\n",
    "    text = re.sub('\\'d', ' would ', text)\n",
    "    text = re.sub('\\'ll', ' will ', text)\n",
    "    text = re.sub('e\\.g\\.', ' eg ', text)\n",
    "    text = re.sub('b\\.g\\.', ' bg ', text)\n",
    "    text = re.sub('e-mail', ' email ', text)\n",
    "    text = re.sub('\\(s\\)', ' ', text)\n",
    "\n",
    "    # Numbers and measures are a true mess\n",
    "    # 12,000 -> 12000\n",
    "    text = re.sub('(?<=[0-9])\\,(?=[0-9])', '', text)\n",
    "\n",
    "    # Quora is very used in India so roupie (rs) is often present\n",
    "    text = re.sub(\"(?<=[0-9])rs \", \" rs \", text)\n",
    "    text = re.sub(\" rs(?=[0-9])\", \" rs \", text)\n",
    "\n",
    "    # stolen at kaggle : https://www.kaggle.com/currie32/the-importance-of-cleaning-text\n",
    "\n",
    "#    text = re.sub('[c-fC-F]\\:\\/', ' disk ', text)\n",
    "#    text = re.sub('(\\d+)(kK)', ' \\g<1>000 ', text)\n",
    "    # very weird !!! these ones decrease the hit % WTF ?\n",
    "\n",
    "    #text = re.sub(r\" (the[\\s]+|the[\\s]+)?us(a)? \", \" usa \", text)\n",
    "    #text = re.sub('(the[\\s]+|the[\\s]+)?united state(s)?', ' usa ', text)\n",
    "\n",
    "    text = re.sub(r\" uk \", \" england \", text)\n",
    "    text = re.sub(r\" imrovement \", \" improvement \", text)\n",
    "    text = re.sub(r\" intially \", \" initially \", text)\n",
    "    text = re.sub(r\" dms \", \" direct messages \", text)  \n",
    "    text = re.sub(r\" demonitization \", \" demonetization \", text) \n",
    "    text = re.sub(r\" actived \", \" active \", text)\n",
    "    text = re.sub(r\" kms \", \" kilometers \", text)\n",
    "    text = re.sub(r\" cs \", \" computer science \", text) \n",
    "    text = re.sub(r\" upvote\", \" up vote\", text)\n",
    "    text = re.sub(r\" iphone \", \" phone \", text)\n",
    "    text = re.sub(r\" \\0rs \", \" rs \", text)\n",
    "    text = re.sub(r\" calender \", \" calendar \", text)\n",
    "    text = re.sub(r\" ios \", \" operating system \", text)\n",
    "    text = re.sub(r\" programing \", \" programming \", text)\n",
    "    text = re.sub(r\" bestfriend \", \" best friend \", text)\n",
    "    text = re.sub(r\" iii \", \" 3 \", text)\n",
    "    text = re.sub(r\" banglore \", \" bangalore \", text)\n",
    "    text = re.sub(r\" j k \", \" jk \", text)\n",
    "    text = re.sub(r\" J\\.K\\. \", \" jk \", text)\n",
    "\n",
    "    \n",
    "    # some others\n",
    "    text = re.sub(r\"60k\", \" 60000 \", text)\n",
    "    text = re.sub(r\" e g \", \" eg \", text)\n",
    "    text = re.sub(r\" b g \", \" bg \", text)\n",
    "    text = re.sub(r\"\\0s\", \"0\", text)\n",
    "    text = re.sub(r\" 9 11 \", \"911\", text)\n",
    "    text = re.sub(r\"\\s{2,}\", \" \", text)\n",
    "    text = re.sub(r\" usa \", \" America \", text)\n",
    "    text = re.sub(r\" u s \", \" America \", text)\n",
    "    text = re.sub(r\"'m \", \" am \", text)\n",
    "\n",
    "    # units\n",
    "    text = re.sub(r\"(\\d+)kgs \", lambda m: m.group(1) + ' kg ', text)        # e.g. 4kgs => 4 kg\n",
    "    text = re.sub(r\"(\\d+)kg \", lambda m: m.group(1) + ' kg ', text)         # e.g. 4kg => 4 kg\n",
    "    text = re.sub(r\"(\\d+)k \", lambda m: m.group(1) + '000 ', text)          # e.g. 4k => 4000\n",
    "    text = re.sub(r\"\\$(\\d+)\", lambda m: m.group(1) + ' dollar ', text)\n",
    "    text = re.sub(r\"(\\d+)\\$\", lambda m: m.group(1) + ' dollar ', text)\n",
    "    # This one is important in 2017\n",
    "    text = re.sub(' donald trump',' trump ',text)\n",
    "    text = re.sub(' dollars',' dollar ',text)\n",
    "    text = re.sub(' quaro',' quora ',text)\n",
    "    text = re.sub(r\"googling\", \" google \", text)\n",
    "    text = re.sub(r\"googled\", \" google \", text)\n",
    "    text = re.sub(r\"googleable\", \" google \", text)\n",
    "    text = re.sub(r\"googles\", \" google \", text)\n",
    "    \n",
    "    text = re.sub(r\"₹\", \" rs \", text)      # 测试！\n",
    "    text = re.sub(r\"\\$\", \" dollar \", text)  \n",
    "    \n",
    "    # will blank any of !\"#%&\\'()*+,./:;<=>?[\\\\]^_`{|}~-@\n",
    "    # Note the @ is dubious : won't we loose some emails\n",
    "    # and $ is replaced by dollar before\n",
    "    text = text.translate(FINAL_PUNC_CLEANER)\n",
    "\n",
    "    return text\n",
    "\n",
    "small_train = new_preprocess(small_train)\n",
    "#display(small_train[['common_words','new_common_words','uncommon_words_question1','new_uncommon_words_question1']].head(10))\n",
    "sniff_changes(small_train)"
   ]
  },
  {
   "source": [
    "Question that may have impact next steps\n",
    "How many unicode chars are present ?"
   ],
   "cell_type": "markdown",
   "metadata": {}
  },
  {
   "cell_type": "code",
   "execution_count": 20,
   "metadata": {
    "tags": []
   },
   "outputs": [
    {
     "output_type": "display_data",
     "data": {
      "text/plain": "HBox(children=(FloatProgress(value=0.0, max=404290.0), HTML(value='')))",
      "application/vnd.jupyter.widget-view+json": {
       "version_major": 2,
       "version_minor": 0,
       "model_id": "b1c6b31116a049acab6650692a3b3f24"
      }
     },
     "metadata": {}
    },
    {
     "output_type": "stream",
     "name": "stdout",
     "text": [
      "\n"
     ]
    },
    {
     "output_type": "display_data",
     "data": {
      "text/plain": "HBox(children=(FloatProgress(value=0.0, max=404290.0), HTML(value='')))",
      "application/vnd.jupyter.widget-view+json": {
       "version_major": 2,
       "version_minor": 0,
       "model_id": "452305478bdc4e3b974b9d7e42528b45"
      }
     },
     "metadata": {}
    },
    {
     "output_type": "stream",
     "name": "stdout",
     "text": [
      "\n"
     ]
    },
    {
     "output_type": "display_data",
     "data": {
      "text/plain": "HBox(children=(FloatProgress(value=0.0, max=2345796.0), HTML(value='')))",
      "application/vnd.jupyter.widget-view+json": {
       "version_major": 2,
       "version_minor": 0,
       "model_id": "e0ba42365d5c46b5864281951704039f"
      }
     },
     "metadata": {}
    },
    {
     "output_type": "stream",
     "name": "stdout",
     "text": [
      "\n"
     ]
    },
    {
     "output_type": "display_data",
     "data": {
      "text/plain": "HBox(children=(FloatProgress(value=0.0, max=2345796.0), HTML(value='')))",
      "application/vnd.jupyter.widget-view+json": {
       "version_major": 2,
       "version_minor": 0,
       "model_id": "23d0db49ab16418088967f0afea8dc1a"
      }
     },
     "metadata": {}
    },
    {
     "output_type": "stream",
     "name": "stdout",
     "text": [
      "\n"
     ]
    },
    {
     "output_type": "display_data",
     "data": {
      "text/plain": "<IPython.core.display.HTML object>",
      "text/html": "<span style=\"color:LIGHTSALMON\"><small>Unicode train: 0.022 challenge: 0.021</small></span>"
     },
     "metadata": {
      "text/html": {
       "isolated": true
      }
     }
    }
   ],
   "source": [
    "# Ugly but easy\n",
    "def sniff_unicode(s):\n",
    "    if re.sub('[^\\x00-\\x7F]+', '', s) != s:\n",
    "        return 1\n",
    "    else:\n",
    "        return 0\n",
    "\n",
    "nb_unicode_train = train_dataframe['question1'].progress_apply(sniff_unicode).sum()/len(train_dataframe)\n",
    "nb_unicode_train += train_dataframe['question2'].progress_apply(sniff_unicode).sum()/len(train_dataframe)\n",
    "nb_unicode_challenge = challenge_dataframe['question1'].progress_apply(sniff_unicode).sum()/len(challenge_dataframe)\n",
    "nb_unicode_challenge += challenge_dataframe['question2'].progress_apply(sniff_unicode).sum()/len(challenge_dataframe)\n",
    "print_warning('Unicode train: %.3f challenge: %.3f' %(nb_unicode_train,nb_unicode_challenge))"
   ]
  },
  {
   "source": [
    "Humpf, 0.02% of questions has some words fully in Unicode:\n",
    "* awfully small.\n",
    "* we are pushing the limits of this 'nb common words' feature and every little bit of information matters for the kaggle result\n",
    "\n",
    "* Not clear if it does worth it ...\n",
    "* Not clear also if we just replace it with nothing or with a generic placeholder like 'unicode_text' ...\n",
    "\n",
    "I decide to not go so far (and a quick test showed kaggle score was slightly decreasing)\n"
   ],
   "cell_type": "markdown",
   "metadata": {}
  }
 ]
}