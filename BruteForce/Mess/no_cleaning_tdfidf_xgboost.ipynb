{
 "cells": [
  {
   "cell_type": "code",
   "execution_count": 2,
   "metadata": {
    "ExecuteTime": {
     "end_time": "2020-09-03T09:29:11.643421Z",
     "start_time": "2020-09-03T09:29:08.401788Z"
    }
   },
   "outputs": [],
   "source": [
    "import numpy\n",
    "import pandas\n",
    "import os\n",
    "import gc\n",
    "import matplotlib.pyplot as plot\n",
    "import unicodedata\n",
    "import seaborn as sns\n",
    "from sklearn.feature_extraction.text import TfidfVectorizer\n",
    "# This is upposed to enhance default pandas display\n",
    "pandas.set_option('display.width',120)\n"
   ]
  },
  {
   "cell_type": "markdown",
   "metadata": {},
   "source": [
    "## Read text files "
   ]
  },
  {
   "cell_type": "code",
   "execution_count": 3,
   "metadata": {
    "ExecuteTime": {
     "end_time": "2020-09-03T09:29:12.944455Z",
     "start_time": "2020-09-03T09:29:11.650428Z"
    },
    "tags": []
   },
   "outputs": [
    {
     "output_type": "stream",
     "name": "stdout",
     "text": "load clean_training\nTrain contains 404290 lines\nload clean_challenge\nChallenge contains 2345796 lines\n"
    }
   ],
   "source": [
    "def load_dataframe(file_name,title):\n",
    "    print ('load %s' % file_name)\n",
    "    df = pandas.read_pickle('../PandasStore/'+file_name+'.pkl')\n",
    "    print('%s contains %d lines' % (title,len(df)))\n",
    "    df.metadata={'title':title}\n",
    "    return df\n",
    "\n",
    "train_dataframe = load_dataframe('clean_training','Train')\n",
    "challenge_dataframe = load_dataframe('clean_challenge','Challenge')"
   ]
  },
  {
   "cell_type": "code",
   "execution_count": 4,
   "metadata": {
    "ExecuteTime": {
     "end_time": "2020-09-03T09:29:12.964451Z",
     "start_time": "2020-09-03T09:29:12.947452Z"
    }
   },
   "outputs": [
    {
     "output_type": "execute_result",
     "data": {
      "text/plain": "   id  qid1  qid2                                          question1  \\\n0   0     1     2  What is the step by step guide to invest in sh...   \n1   1     3     4  What is the story of Kohinoor (Koh-i-Noor) Dia...   \n2   2     5     6  How can I increase the speed of my internet co...   \n3   3     7     8  Why am I mentally very lonely? How can I solve...   \n4   4     9    10  Which one dissolve in water quikly sugar, salt...   \n\n                                           question2  is_duplicate  \n0  What is the step by step guide to invest in sh...             0  \n1  What would happen if the Indian government sto...             0  \n2  How can Internet speed be increased by hacking...             0  \n3  Find the remainder when [math]23^{24}[/math] i...             0  \n4            Which fish would survive in salt water?             0  ",
      "text/html": "<div>\n<style scoped>\n    .dataframe tbody tr th:only-of-type {\n        vertical-align: middle;\n    }\n\n    .dataframe tbody tr th {\n        vertical-align: top;\n    }\n\n    .dataframe thead th {\n        text-align: right;\n    }\n</style>\n<table border=\"1\" class=\"dataframe\">\n  <thead>\n    <tr style=\"text-align: right;\">\n      <th></th>\n      <th>id</th>\n      <th>qid1</th>\n      <th>qid2</th>\n      <th>question1</th>\n      <th>question2</th>\n      <th>is_duplicate</th>\n    </tr>\n  </thead>\n  <tbody>\n    <tr>\n      <th>0</th>\n      <td>0</td>\n      <td>1</td>\n      <td>2</td>\n      <td>What is the step by step guide to invest in sh...</td>\n      <td>What is the step by step guide to invest in sh...</td>\n      <td>0</td>\n    </tr>\n    <tr>\n      <th>1</th>\n      <td>1</td>\n      <td>3</td>\n      <td>4</td>\n      <td>What is the story of Kohinoor (Koh-i-Noor) Dia...</td>\n      <td>What would happen if the Indian government sto...</td>\n      <td>0</td>\n    </tr>\n    <tr>\n      <th>2</th>\n      <td>2</td>\n      <td>5</td>\n      <td>6</td>\n      <td>How can I increase the speed of my internet co...</td>\n      <td>How can Internet speed be increased by hacking...</td>\n      <td>0</td>\n    </tr>\n    <tr>\n      <th>3</th>\n      <td>3</td>\n      <td>7</td>\n      <td>8</td>\n      <td>Why am I mentally very lonely? How can I solve...</td>\n      <td>Find the remainder when [math]23^{24}[/math] i...</td>\n      <td>0</td>\n    </tr>\n    <tr>\n      <th>4</th>\n      <td>4</td>\n      <td>9</td>\n      <td>10</td>\n      <td>Which one dissolve in water quikly sugar, salt...</td>\n      <td>Which fish would survive in salt water?</td>\n      <td>0</td>\n    </tr>\n  </tbody>\n</table>\n</div>"
     },
     "metadata": {},
     "execution_count": 4
    }
   ],
   "source": [
    "train_dataframe.head()"
   ]
  },
  {
   "cell_type": "code",
   "execution_count": 5,
   "metadata": {
    "ExecuteTime": {
     "end_time": "2020-09-03T09:29:12.977453Z",
     "start_time": "2020-09-03T09:29:12.967450Z"
    }
   },
   "outputs": [
    {
     "output_type": "execute_result",
     "data": {
      "text/plain": "   test_id                                          question1                                          question2\n0        0  How does the Surface Pro himself 4 compare wit...  Why did Microsoft choose core m3 and not core ...\n1        1  Should I have a hair transplant at age 24? How...        How much cost does hair transplant require?\n2        2  What but is the best way to send money from Ch...                      What you send money to China?\n3        3                        Which food not emulsifiers?                                  What foods fibre?\n4        4                   How \"aberystwyth\" start reading?                     How their can I start reading?",
      "text/html": "<div>\n<style scoped>\n    .dataframe tbody tr th:only-of-type {\n        vertical-align: middle;\n    }\n\n    .dataframe tbody tr th {\n        vertical-align: top;\n    }\n\n    .dataframe thead th {\n        text-align: right;\n    }\n</style>\n<table border=\"1\" class=\"dataframe\">\n  <thead>\n    <tr style=\"text-align: right;\">\n      <th></th>\n      <th>test_id</th>\n      <th>question1</th>\n      <th>question2</th>\n    </tr>\n  </thead>\n  <tbody>\n    <tr>\n      <th>0</th>\n      <td>0</td>\n      <td>How does the Surface Pro himself 4 compare wit...</td>\n      <td>Why did Microsoft choose core m3 and not core ...</td>\n    </tr>\n    <tr>\n      <th>1</th>\n      <td>1</td>\n      <td>Should I have a hair transplant at age 24? How...</td>\n      <td>How much cost does hair transplant require?</td>\n    </tr>\n    <tr>\n      <th>2</th>\n      <td>2</td>\n      <td>What but is the best way to send money from Ch...</td>\n      <td>What you send money to China?</td>\n    </tr>\n    <tr>\n      <th>3</th>\n      <td>3</td>\n      <td>Which food not emulsifiers?</td>\n      <td>What foods fibre?</td>\n    </tr>\n    <tr>\n      <th>4</th>\n      <td>4</td>\n      <td>How \"aberystwyth\" start reading?</td>\n      <td>How their can I start reading?</td>\n    </tr>\n  </tbody>\n</table>\n</div>"
     },
     "metadata": {},
     "execution_count": 5
    }
   ],
   "source": [
    "challenge_dataframe.head()"
   ]
  },
  {
   "cell_type": "markdown",
   "metadata": {},
   "source": [
    "## Compute TDF-IDF"
   ]
  },
  {
   "cell_type": "code",
   "execution_count": 6,
   "metadata": {
    "ExecuteTime": {
     "end_time": "2020-09-03T09:29:13.072590Z",
     "start_time": "2020-09-03T09:29:12.979451Z"
    }
   },
   "outputs": [],
   "source": [
    "all_train_questions = list(train_dataframe['question1'])+list(train_dataframe['question2'])"
   ]
  },
  {
   "cell_type": "code",
   "execution_count": 7,
   "metadata": {
    "ExecuteTime": {
     "end_time": "2020-09-03T09:29:22.633581Z",
     "start_time": "2020-09-03T09:29:13.074452Z"
    }
   },
   "outputs": [],
   "source": [
    "tfidfer = TfidfVectorizer()\n",
    "all_train_tfidfs = tfidfer.fit_transform(all_train_questions)\n"
   ]
  },
  {
   "cell_type": "code",
   "execution_count": 8,
   "metadata": {
    "ExecuteTime": {
     "end_time": "2020-09-03T09:29:22.703558Z",
     "start_time": "2020-09-03T09:29:22.635561Z"
    }
   },
   "outputs": [
    {
     "output_type": "execute_result",
     "data": {
      "text/plain": "86040"
     },
     "metadata": {},
     "execution_count": 8
    }
   ],
   "source": [
    "len(tfidfer.get_feature_names())"
   ]
  },
  {
   "cell_type": "code",
   "execution_count": 9,
   "metadata": {
    "ExecuteTime": {
     "end_time": "2020-09-03T09:29:22.783592Z",
     "start_time": "2020-09-03T09:29:22.706560Z"
    }
   },
   "outputs": [],
   "source": [
    "all_train_word2tfidf = dict(zip(tfidfer.get_feature_names(), tfidfer.idf_))"
   ]
  },
  {
   "cell_type": "code",
   "execution_count": 10,
   "metadata": {
    "ExecuteTime": {
     "end_time": "2020-09-03T09:29:25.335121Z",
     "start_time": "2020-09-03T09:29:22.785559Z"
    }
   },
   "outputs": [],
   "source": [
    "import spacy\n",
    "from tqdm import tqdm\n",
    "spacy_nlp = spacy.load('en_core_web_sm')"
   ]
  },
  {
   "cell_type": "code",
   "execution_count": 11,
   "metadata": {
    "ExecuteTime": {
     "end_time": "2020-09-03T09:34:19.510722Z",
     "start_time": "2020-09-03T09:34:17.504248Z"
    },
    "tags": []
   },
   "outputs": [
    {
     "output_type": "stream",
     "name": "stderr",
     "text": "100%|██████████| 404290/404290 [00:00<00:00, 1041096.55it/s]\nTask time 0.39 s\n\n"
    },
    {
     "output_type": "execute_result",
     "data": {
      "text/plain": "{'TaskName': 'train_question1', 'NbRows': 404290, 'Duration': 0.39}"
     },
     "metadata": {},
     "execution_count": 11
    }
   ],
   "source": [
    "import time\n",
    "\n",
    "import ray\n",
    "\n",
    "def do_partial_nlp(questions,task_name):\n",
    "    i = 0\n",
    "    start = time.time()\n",
    "    for question in tqdm(questions):\n",
    "        i = i+1\n",
    "        if i% 10000 == 0 :\n",
    "            pos = spacy_nlp(question,disable=[\"parser\"])\n",
    "    return {\n",
    "        'TaskName': task_name,\n",
    "        'NbRows': i,\n",
    "        'Duration':  round(time.time()-start,2)}\n",
    "\n",
    "def do_full_nlp_with_progress(questions,task_name):\n",
    "    start = time.time()\n",
    "    for question in tqdm(questions):\n",
    "            pos = spacy_nlp(question,disable=[\"parser\"])\n",
    "    return {\n",
    "        'TaskName': task_name,\n",
    "        'NbRows': len(questions),\n",
    "        'Duration': round(time.time()-start,2)}\n",
    "\n",
    "def do_full_nlp(questions,task_name):\n",
    "    start = time.time()\n",
    "    for question in questions:\n",
    "            pos = spacy_nlp(question,disable=[\"parser\"])\n",
    "    return {\n",
    "        'TaskName': task_name,\n",
    "        'NbRows': len(questions),\n",
    "        'Duration': round(time.time()-start,2)}\n",
    "\n",
    "@ray.remote\n",
    "def ray_do_nlp(questions,task_name):\n",
    "    return do_nlp(questions,task_name)\n",
    "\n",
    "\n",
    "detailed_durations = do_partial_nlp(train_dataframe['question1'],'train_question1')\n",
    "print('\\nTask time %.2f s' % detailed_durations['Duration'])\n",
    "detailed_durations\n",
    "# lost = do_full_nlp_with_progress(challenge_dataframe['question1'],'train_question1')\n",
    "#lost\n",
    "#lost = do_nlp(challenge_dataframe['question2'])\n",
    "\n",
    "# do_nlp(train_dataframe['question2'])"
   ]
  },
  {
   "cell_type": "code",
   "execution_count": 12,
   "metadata": {
    "tags": []
   },
   "outputs": [
    {
     "output_type": "execute_result",
     "data": {
      "text/plain": "404290"
     },
     "metadata": {},
     "execution_count": 12
    }
   ],
   "source": [
    "def show_progress(task_name,pos,block_size,nb_pos):\n",
    "    step = block_size/nb_pos\n",
    "    step_cur = int(pos/step)\n",
    "    return task_name+':'+'|'.ljust(step_cur,'.')+'*'.ljust(nb_pos-step_cur,'.')+'|'\n",
    "\n",
    "def do_range_nlp(questions,task_name_prefix,nb_blocks,num_block):\n",
    "    start = time.time()\n",
    "    nb_steps_in_progress = 20\n",
    "    task_name =  task_name_prefix+':'+str(num_block)+'-'+str(nb_blocks)\n",
    "    block_size = int(round(len(questions)/nb_blocks,0))\n",
    "    min_row = block_size*num_block\n",
    "    top_progress = int(block_size/nb_steps_in_progress)\n",
    "    if num_block >= (nb_blocks-1):\n",
    "        max_row = len(questions)\n",
    "    else:\n",
    "        max_row = block_size*(num_block+1)-1\n",
    "    print( 'Block from %d to %d' % (min_row,max_row))\n",
    "    pos = 0\n",
    "    for i in range(min_row,max_row):\n",
    "            pos = pos + 1\n",
    "            spacy_nlp(questions[i],disable=[\"parser\"])\n",
    "            if pos % top_progress == 0:\n",
    "                print(show_progress(task_name,pos,block_size,nb_steps_in_progress))\n",
    "    return {\n",
    "        'TaskName': task_name,\n",
    "        'NbRows': max_row-min_row,\n",
    "        'Duration': round(time.time()-start,2)}\n",
    "\n",
    "@ray.remote\n",
    "def ray_do_range_nlp(questions,task_name_prefix,nb_blocks,num_block):\n",
    "    return do_range_nlp(questions,task_name_prefix,nb_blocks,num_block)\n",
    "\n",
    "\n",
    "#info = do_range_nlp(train_dataframe['question1'],'pouet',10,0)\n",
    "# info = do_range_nlp(train_dataframe['question1'],'pouet',10,1)\n",
    "# info = do_range_nlp(train_dataframe['question1'],'pouet',10,2)\n",
    "# info = do_range_nlp(train_dataframe['question1'],'pouet',10,3)\n",
    "# info = do_range_nlp(train_dataframe['question1'],'pouet',10,4)\n",
    "# info = do_range_nlp(train_dataframe['question1'],'pouet',10,5)\n",
    "# info = do_range_nlp(train_dataframe['question1'],'pouet',10,6)\n",
    "# info = do_range_nlp(train_dataframe['question1'],'pouet',10,7)\n",
    "# info = do_range_nlp(train_dataframe['question1'],'pouet',10,8)\n",
    "# info = do_range_nlp(train_dataframe['question1'],'pouet',10,9)\n",
    "\n",
    "len(train_dataframe['question1'])\n",
    "\n"
   ]
  },
  {
   "cell_type": "code",
   "execution_count": null,
   "metadata": {},
   "outputs": [],
   "source": [
    "info"
   ]
  },
  {
   "cell_type": "code",
   "execution_count": null,
   "metadata": {},
   "outputs": [],
   "source": []
  },
  {
   "cell_type": "code",
   "execution_count": 13,
   "metadata": {
    "tags": []
   },
   "outputs": [
    {
     "output_type": "stream",
     "name": "stderr",
     "text": "2020-09-04 08:47:30,475\tINFO resource_spec.py:223 -- Starting Ray with 18.95 GiB memory available for workers and up to 9.49 GiB for objects. You can adjust these settings with ray.init(memory=<bytes>, object_store_memory=<bytes>).\n2020-09-04 08:47:31,047\tINFO services.py:1191 -- View the Ray dashboard at \u001b[1m\u001b[32mlocalhost:8265\u001b[39m\u001b[22m\n2020-09-04 08:47:31,051\tWARNING services.py:1559 -- WARNING: The object store is using /tmp instead of /dev/shm because /dev/shm has only 2147479552 bytes available. This may slow down performance! You may be able to free up space by deleting files in /dev/shm or terminating any running plasma_store_server processes. If you are inside a Docker container, you may need to pass an argument with the flag '--shm-size' to 'docker run'.\n2020-09-04 08:47:31,084\tWARNING services.py:1559 -- WARNING: The object store is using /tmp instead of /dev/shm because /dev/shm has only 2147479552 bytes available. This may slow down performance! You may be able to free up space by deleting files in /dev/shm or terminating any running plasma_store_server processes. If you are inside a Docker container, you may need to pass an argument with the flag '--shm-size' to 'docker run'.\n2020-09-04 08:47:32,620\tWARNING worker.py:1134 -- Warning: The remote function __main__.ray_do_range_nlp has size 75151473 when pickled. It will be stored in Redis, which could cause memory issues. This may mean that its definition uses a large array or other object.\n\u001b[2m\u001b[36m(pid=28006)\u001b[0m Block from 0 to 390965\n\u001b[2m\u001b[36m(pid=28009)\u001b[0m Block from 390966 to 781931\n\u001b[2m\u001b[36m(pid=28001)\u001b[0m Block from 781932 to 1172897\n\u001b[2m\u001b[36m(pid=28003)\u001b[0m Block from 1172898 to 1563863\n\u001b[2m\u001b[36m(pid=28010)\u001b[0m Block from 1563864 to 1954829\n\u001b[2m\u001b[36m(pid=28008)\u001b[0m Block from 1954830 to 2345796\n"
    },
    {
     "output_type": "error",
     "ename": "KeyboardInterrupt",
     "evalue": "",
     "traceback": [
      "\u001b[0;31m---------------------------------------------------------------------------\u001b[0m",
      "\u001b[0;31mKeyboardInterrupt\u001b[0m                         Traceback (most recent call last)",
      "\u001b[0;32m<ipython-input-13-93854791a25a>\u001b[0m in \u001b[0;36m<module>\u001b[0;34m\u001b[0m\n\u001b[1;32m      4\u001b[0m \u001b[0;34m\u001b[0m\u001b[0m\n\u001b[1;32m      5\u001b[0m \u001b[0mglobal_start\u001b[0m \u001b[0;34m=\u001b[0m \u001b[0mtime\u001b[0m\u001b[0;34m.\u001b[0m\u001b[0mtime\u001b[0m\u001b[0;34m(\u001b[0m\u001b[0;34m)\u001b[0m\u001b[0;34m\u001b[0m\u001b[0;34m\u001b[0m\u001b[0m\n\u001b[0;32m----> 6\u001b[0;31m ret = ray.get([\n\u001b[0m\u001b[1;32m      7\u001b[0m     \u001b[0mray_do_range_nlp\u001b[0m\u001b[0;34m.\u001b[0m\u001b[0mremote\u001b[0m\u001b[0;34m(\u001b[0m\u001b[0mchallenge_dataframe\u001b[0m\u001b[0;34m[\u001b[0m\u001b[0;34m'question1'\u001b[0m\u001b[0;34m]\u001b[0m\u001b[0;34m,\u001b[0m\u001b[0;34m'challenge_question1'\u001b[0m\u001b[0;34m,\u001b[0m\u001b[0;36m6\u001b[0m\u001b[0;34m,\u001b[0m\u001b[0;36m0\u001b[0m\u001b[0;34m)\u001b[0m\u001b[0;34m,\u001b[0m\u001b[0;34m\u001b[0m\u001b[0;34m\u001b[0m\u001b[0m\n\u001b[1;32m      8\u001b[0m     \u001b[0mray_do_range_nlp\u001b[0m\u001b[0;34m.\u001b[0m\u001b[0mremote\u001b[0m\u001b[0;34m(\u001b[0m\u001b[0mchallenge_dataframe\u001b[0m\u001b[0;34m[\u001b[0m\u001b[0;34m'question1'\u001b[0m\u001b[0;34m]\u001b[0m\u001b[0;34m,\u001b[0m\u001b[0;34m'challenge_question1'\u001b[0m\u001b[0;34m,\u001b[0m\u001b[0;36m6\u001b[0m\u001b[0;34m,\u001b[0m\u001b[0;36m1\u001b[0m\u001b[0;34m)\u001b[0m\u001b[0;34m,\u001b[0m\u001b[0;34m\u001b[0m\u001b[0;34m\u001b[0m\u001b[0m\n",
      "\u001b[0;32m~/anaconda3/lib/python3.8/site-packages/ray/worker.py\u001b[0m in \u001b[0;36mget\u001b[0;34m(object_refs, timeout)\u001b[0m\n\u001b[1;32m   1529\u001b[0m         \u001b[0;32mglobal\u001b[0m \u001b[0mlast_task_error_raise_time\u001b[0m\u001b[0;34m\u001b[0m\u001b[0;34m\u001b[0m\u001b[0m\n\u001b[1;32m   1530\u001b[0m         \u001b[0;31m# TODO(ujvl): Consider how to allow user to retrieve the ready objects.\u001b[0m\u001b[0;34m\u001b[0m\u001b[0;34m\u001b[0m\u001b[0;34m\u001b[0m\u001b[0m\n\u001b[0;32m-> 1531\u001b[0;31m         \u001b[0mvalues\u001b[0m \u001b[0;34m=\u001b[0m \u001b[0mworker\u001b[0m\u001b[0;34m.\u001b[0m\u001b[0mget_objects\u001b[0m\u001b[0;34m(\u001b[0m\u001b[0mobject_refs\u001b[0m\u001b[0;34m,\u001b[0m \u001b[0mtimeout\u001b[0m\u001b[0;34m=\u001b[0m\u001b[0mtimeout\u001b[0m\u001b[0;34m)\u001b[0m\u001b[0;34m\u001b[0m\u001b[0;34m\u001b[0m\u001b[0m\n\u001b[0m\u001b[1;32m   1532\u001b[0m         \u001b[0;32mfor\u001b[0m \u001b[0mi\u001b[0m\u001b[0;34m,\u001b[0m \u001b[0mvalue\u001b[0m \u001b[0;32min\u001b[0m \u001b[0menumerate\u001b[0m\u001b[0;34m(\u001b[0m\u001b[0mvalues\u001b[0m\u001b[0;34m)\u001b[0m\u001b[0;34m:\u001b[0m\u001b[0;34m\u001b[0m\u001b[0;34m\u001b[0m\u001b[0m\n\u001b[1;32m   1533\u001b[0m             \u001b[0;32mif\u001b[0m \u001b[0misinstance\u001b[0m\u001b[0;34m(\u001b[0m\u001b[0mvalue\u001b[0m\u001b[0;34m,\u001b[0m \u001b[0mRayError\u001b[0m\u001b[0;34m)\u001b[0m\u001b[0;34m:\u001b[0m\u001b[0;34m\u001b[0m\u001b[0;34m\u001b[0m\u001b[0m\n",
      "\u001b[0;32m~/anaconda3/lib/python3.8/site-packages/ray/worker.py\u001b[0m in \u001b[0;36mget_objects\u001b[0;34m(self, object_refs, timeout)\u001b[0m\n\u001b[1;32m    299\u001b[0m \u001b[0;34m\u001b[0m\u001b[0m\n\u001b[1;32m    300\u001b[0m         \u001b[0mtimeout_ms\u001b[0m \u001b[0;34m=\u001b[0m \u001b[0mint\u001b[0m\u001b[0;34m(\u001b[0m\u001b[0mtimeout\u001b[0m \u001b[0;34m*\u001b[0m \u001b[0;36m1000\u001b[0m\u001b[0;34m)\u001b[0m \u001b[0;32mif\u001b[0m \u001b[0mtimeout\u001b[0m \u001b[0;32melse\u001b[0m \u001b[0;34m-\u001b[0m\u001b[0;36m1\u001b[0m\u001b[0;34m\u001b[0m\u001b[0;34m\u001b[0m\u001b[0m\n\u001b[0;32m--> 301\u001b[0;31m         data_metadata_pairs = self.core_worker.get_objects(\n\u001b[0m\u001b[1;32m    302\u001b[0m             object_refs, self.current_task_id, timeout_ms)\n\u001b[1;32m    303\u001b[0m         \u001b[0;32mreturn\u001b[0m \u001b[0mself\u001b[0m\u001b[0;34m.\u001b[0m\u001b[0mdeserialize_objects\u001b[0m\u001b[0;34m(\u001b[0m\u001b[0mdata_metadata_pairs\u001b[0m\u001b[0;34m,\u001b[0m \u001b[0mobject_refs\u001b[0m\u001b[0;34m)\u001b[0m\u001b[0;34m\u001b[0m\u001b[0;34m\u001b[0m\u001b[0m\n",
      "\u001b[0;32mpython/ray/_raylet.pyx\u001b[0m in \u001b[0;36mray._raylet.CoreWorker.get_objects\u001b[0;34m()\u001b[0m\n",
      "\u001b[0;32mpython/ray/_raylet.pyx\u001b[0m in \u001b[0;36mray._raylet.check_status\u001b[0;34m()\u001b[0m\n",
      "\u001b[0;31mKeyboardInterrupt\u001b[0m: "
     ]
    }
   ],
   "source": [
    "ray.shutdown()\n",
    "ray.init(num_cpus=6)\n",
    "# ray.init(include_dashboard=False,num_cpus=6)\n",
    "\n",
    "global_start = time.time()\n",
    "ret = ray.get([\n",
    "    ray_do_range_nlp.remote(challenge_dataframe['question1'],'challenge_question1',6,0),\n",
    "    ray_do_range_nlp.remote(challenge_dataframe['question1'],'challenge_question1',6,1),\n",
    "    ray_do_range_nlp.remote(challenge_dataframe['question1'],'challenge_question1',6,2),\n",
    "    ray_do_range_nlp.remote(challenge_dataframe['question1'],'challenge_question1',6,3),\n",
    "    ray_do_range_nlp.remote(challenge_dataframe['question1'],'challenge_question1',6,4),\n",
    "    ray_do_range_nlp.remote(challenge_dataframe['question1'],'challenge_question1',6,5),\n",
    "    ])\n",
    "duration = time.time()-global_start\n",
    "ray.shutdown()\n",
    "print ('Global time %d %s' % (duration,ret))"
   ]
  },
  {
   "cell_type": "code",
   "execution_count": 15,
   "metadata": {},
   "outputs": [],
   "source": [
    "ray.shutdown()\n",
    "\n"
   ]
  },
  {
   "cell_type": "code",
   "execution_count": null,
   "metadata": {},
   "outputs": [],
   "source": []
  }
 ],
 "metadata": {
  "kernelspec": {
   "display_name": "Python 3.8.3 64-bit ('base': conda)",
   "language": "python",
   "name": "python_defaultSpec_1599209183653"
  },
  "language_info": {
   "codemirror_mode": {
    "name": "ipython",
    "version": 3
   },
   "file_extension": ".py",
   "mimetype": "text/x-python",
   "name": "python",
   "nbconvert_exporter": "python",
   "pygments_lexer": "ipython3",
   "version": "3.8.3-final"
  }
 },
 "nbformat": 4,
 "nbformat_minor": 2
}