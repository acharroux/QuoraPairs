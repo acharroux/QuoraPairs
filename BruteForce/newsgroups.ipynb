{
 "metadata": {
  "language_info": {
   "codemirror_mode": {
    "name": "ipython",
    "version": 3
   },
   "file_extension": ".py",
   "mimetype": "text/x-python",
   "name": "python",
   "nbconvert_exporter": "python",
   "pygments_lexer": "ipython3",
   "version": "3.8.3-final"
  },
  "orig_nbformat": 2,
  "kernelspec": {
   "name": "Python 3.8.3 64-bit",
   "display_name": "Python 3.8.3 64-bit",
   "metadata": {
    "interpreter": {
     "hash": "31f2aee4e71d21fbe5cf8b01ff0e069b9275f58929596ceb00d14d90e3e16cd6"
    }
   }
  }
 },
 "nbformat": 4,
 "nbformat_minor": 2,
 "cells": [
  {
   "source": [
    "# Usage of a classic dataset :20newsgroups\n",
    "\n",
    "1. We use this standard to build a classification model on 20 high level topics\n",
    "2. We use it to predict the topic of each questions. Maybe 2 or 3, certainly with a threshold\n",
    "3. We add this feature to the input data: \n",
    "    * if both newsgroup tags are the same, it means they talk about the same high level subject. \n",
    "    * if they are not, it means they don't talk about the same subkect, probably questions are different\n",
    "\n"
   ],
   "cell_type": "markdown",
   "metadata": {}
  },
  {
   "cell_type": "code",
   "execution_count": 1,
   "metadata": {},
   "outputs": [
    {
     "output_type": "display_data",
     "data": {
      "text/plain": "&lt;IPython.core.display.HTML object&gt;",
      "text/html": "<span style=\"color:RED\">You will use environment newsgroups </span>"
     },
     "metadata": {
      "text/html": {
       "isolated": true
      }
     }
    },
    {
     "output_type": "display_data",
     "data": {
      "text/plain": "&lt;IPython.core.display.HTML object&gt;",
      "text/html": "<b>Prepare newsgroups environment in ../newsgroups</b>"
     },
     "metadata": {
      "text/html": {
       "isolated": true
      }
     }
    },
    {
     "output_type": "display_data",
     "data": {
      "text/plain": "&lt;IPython.core.display.HTML object&gt;",
      "text/html": "<HR>"
     },
     "metadata": {
      "text/html": {
       "isolated": true
      }
     }
    },
    {
     "output_type": "display_data",
     "data": {
      "text/plain": "&lt;IPython.core.display.HTML object&gt;",
      "text/html": "<span style=\"color:LIMEGREEN\"><small><b><i>Done</i></b><p></p></small></span>"
     },
     "metadata": {
      "text/html": {
       "isolated": true
      }
     }
    },
    {
     "output_type": "display_data",
     "data": {
      "text/plain": "&lt;IPython.core.display.HTML object&gt;",
      "text/html": "<b>Untouched input data has been loaded. Training: 404290 lines Challenge: 2345796 lines</b>"
     },
     "metadata": {
      "text/html": {
       "isolated": true
      }
     }
    },
    {
     "output_type": "display_data",
     "data": {
      "text/plain": "&lt;IPython.core.display.HTML object&gt;",
      "text/html": "<HR>"
     },
     "metadata": {
      "text/html": {
       "isolated": true
      }
     }
    }
   ],
   "source": [
    "# Ugly incantation to make our 'framework' working\n",
    "import sys\n",
    "sys.path.insert(0, r'/SAPDevelop/QuoraPairs/BruteForce/Tools')\n",
    "\n",
    "#import all our small tools (paths, cache, print,zip,excel, pandas, progress,..)\n",
    "from Tools.all import *\n",
    "\n",
    "# setup the name of our experiment\n",
    "# it will be used to store every result in a unique place\n",
    "EXPERIMENT='newsgroups'\n",
    "# Do a bit of checks before actually running code\n",
    "UNITARY_TEST = True\n",
    "print_alert('You will use environment %s' % EXPERIMENT)\n",
    "\n",
    "prepare_environnement(EXPERIMENT)\n",
    "train_dataframe=load_dataframe(CLEAN_TRAINING_DATA)\n",
    "challenge_dataframe=load_dataframe(CLEAN_CHALLENGE_DATA)\n",
    "print_section('Untouched input data has been loaded. Training: %d lines Challenge: %d lines' % (len(train_dataframe),len(challenge_dataframe)))\n"
   ]
  },
  {
   "cell_type": "code",
   "execution_count": 2,
   "metadata": {},
   "outputs": [],
   "source": [
    "from sklearn.datasets import fetch_20newsgroups\n",
    "twenty_train = fetch_20newsgroups(subset='train', shuffle=True,remove=('headers','footers','quotes'))"
   ]
  },
  {
   "cell_type": "code",
   "execution_count": 3,
   "metadata": {},
   "outputs": [
    {
     "output_type": "execute_result",
     "data": {
      "text/plain": "[&#39;alt.atheism&#39;,\n &#39;comp.graphics&#39;,\n &#39;comp.os.ms-windows.misc&#39;,\n &#39;comp.sys.ibm.pc.hardware&#39;,\n &#39;comp.sys.mac.hardware&#39;,\n &#39;comp.windows.x&#39;,\n &#39;misc.forsale&#39;,\n &#39;rec.autos&#39;,\n &#39;rec.motorcycles&#39;,\n &#39;rec.sport.baseball&#39;,\n &#39;rec.sport.hockey&#39;,\n &#39;sci.crypt&#39;,\n &#39;sci.electronics&#39;,\n &#39;sci.med&#39;,\n &#39;sci.space&#39;,\n &#39;soc.religion.christian&#39;,\n &#39;talk.politics.guns&#39;,\n &#39;talk.politics.mideast&#39;,\n &#39;talk.politics.misc&#39;,\n &#39;talk.religion.misc&#39;]"
     },
     "metadata": {},
     "execution_count": 3
    }
   ],
   "source": [
    "twenty_train.target_names"
   ]
  },
  {
   "cell_type": "code",
   "execution_count": 4,
   "metadata": {},
   "outputs": [],
   "source": [
    "from sklearn.pipeline import Pipeline\n",
    "from sklearn.feature_extraction.text import CountVectorizer\n",
    "from sklearn.feature_extraction.text import TfidfTransformer\n",
    "text_clf = Pipeline([('vect', CountVectorizer(ngram_range=(1,2))), ('tfidf', TfidfTransformer(use_idf=True)), ('clf', MultinomialNB(alpha=0.01))])\n",
    "\n",
    "text_clf = text_clf.fit(twenty_train.data, twenty_train.target)"
   ]
  },
  {
   "cell_type": "code",
   "execution_count": 5,
   "metadata": {},
   "outputs": [
    {
     "output_type": "execute_result",
     "data": {
      "text/plain": "0.7890334572490706"
     },
     "metadata": {},
     "execution_count": 5
    }
   ],
   "source": [
    "import numpy as np\n",
    "twenty_test = fetch_20newsgroups(subset='test', shuffle=True)\n",
    "predicted = text_clf.predict(twenty_test.data)\n",
    "np.mean(predicted == twenty_test.target)\n"
   ]
  },
  {
   "cell_type": "code",
   "execution_count": 6,
   "metadata": {},
   "outputs": [],
   "source": [
    "train_dataframe['newsgroup1'] = text_clf.predict(train_dataframe['question1'])"
   ]
  },
  {
   "cell_type": "code",
   "execution_count": 7,
   "metadata": {},
   "outputs": [],
   "source": [
    "train_dataframe['newsgroup2'] = text_clf.predict(train_dataframe['question2'])"
   ]
  },
  {
   "cell_type": "code",
   "execution_count": 8,
   "metadata": {},
   "outputs": [
    {
     "output_type": "execute_result",
     "data": {
      "text/plain": "            id    qid1    qid2                                                                                       question1  \\\n0            0       1       2                              What is the step by step guide to invest in share market in india?   \n1            1       3       4                                             What is the story of Kohinoor (Koh-i-Noor) Diamond?   \n2            2       5       6                       How can I increase the speed of my internet connection while using a VPN?   \n3            3       7       8                                              Why am I mentally very lonely? How can I solve it?   \n4            4       9      10                    Which one dissolve in water quikly sugar, salt, methane and carbon di oxide?   \n...        ...     ...     ...                                                                                             ...   \n404285  404285  433578  379845           How many keywords are there in the Racket programming language of the latest version?   \n404286  404286   18840  155606                                                       Do you believe there is life after death?   \n404287  404287  537928  537929                                                                               What is one coin?   \n404288  404288  537930  537931  What is the approx annual cost of living while studying in UIC Chicago, for an Indian student?   \n404289  404289  537932  537933                                                           What is like to have sex with cousin?   \n\n                                                                                                                              question2  is_duplicate  newsgroup1  newsgroup2  \n0                                                                             What is the step by step guide to invest in share market?             0          14           3  \n1                                              What would happen if the Indian government stole the Kohinoor (Koh-i-Noor) diamond back?             0          19          15  \n2                                                                           How can Internet speed be increased by hacking through DNS?             0          12          12  \n3                                                                     Find the remainder when [math]23^{24}[/math] is divided by 24,23?             0          15          11  \n4                                                                                               Which fish would survive in salt water?             0          13          13  \n...                                                                                                                                 ...           ...         ...         ...  \n404285                                                  How many keywords are there in PERL Programming Language in the latest version?             0           1           1  \n404286                                                                                       Is it true that there is life after death?             1          15          15  \n404287                                                                                                                What&#39;s this coin?             0           8           8  \n404288  I am having little hairfall problem but I want to use hair styling product. Which one should I prefer out of gel, wax and clay?             0           8           7  \n404289                                                                                    What is it like to have sex with your cousin?             0           0           0  \n\n[404290 rows x 8 columns]",
      "text/html": "<div>\n<style scoped>\n    .dataframe tbody tr th:only-of-type {\n        vertical-align: middle;\n    }\n\n    .dataframe tbody tr th {\n        vertical-align: top;\n    }\n\n    .dataframe thead th {\n        text-align: right;\n    }\n</style>\n<table border=\"1\" class=\"dataframe\">\n  <thead>\n    <tr style=\"text-align: right;\">\n      <th></th>\n      <th>id</th>\n      <th>qid1</th>\n      <th>qid2</th>\n      <th>question1</th>\n      <th>question2</th>\n      <th>is_duplicate</th>\n      <th>newsgroup1</th>\n      <th>newsgroup2</th>\n    </tr>\n  </thead>\n  <tbody>\n    <tr>\n      <th>0</th>\n      <td>0</td>\n      <td>1</td>\n      <td>2</td>\n      <td>What is the step by step guide to invest in share market in india?</td>\n      <td>What is the step by step guide to invest in share market?</td>\n      <td>0</td>\n      <td>14</td>\n      <td>3</td>\n    </tr>\n    <tr>\n      <th>1</th>\n      <td>1</td>\n      <td>3</td>\n      <td>4</td>\n      <td>What is the story of Kohinoor (Koh-i-Noor) Diamond?</td>\n      <td>What would happen if the Indian government stole the Kohinoor (Koh-i-Noor) diamond back?</td>\n      <td>0</td>\n      <td>19</td>\n      <td>15</td>\n    </tr>\n    <tr>\n      <th>2</th>\n      <td>2</td>\n      <td>5</td>\n      <td>6</td>\n      <td>How can I increase the speed of my internet connection while using a VPN?</td>\n      <td>How can Internet speed be increased by hacking through DNS?</td>\n      <td>0</td>\n      <td>12</td>\n      <td>12</td>\n    </tr>\n    <tr>\n      <th>3</th>\n      <td>3</td>\n      <td>7</td>\n      <td>8</td>\n      <td>Why am I mentally very lonely? How can I solve it?</td>\n      <td>Find the remainder when [math]23^{24}[/math] is divided by 24,23?</td>\n      <td>0</td>\n      <td>15</td>\n      <td>11</td>\n    </tr>\n    <tr>\n      <th>4</th>\n      <td>4</td>\n      <td>9</td>\n      <td>10</td>\n      <td>Which one dissolve in water quikly sugar, salt, methane and carbon di oxide?</td>\n      <td>Which fish would survive in salt water?</td>\n      <td>0</td>\n      <td>13</td>\n      <td>13</td>\n    </tr>\n    <tr>\n      <th>...</th>\n      <td>...</td>\n      <td>...</td>\n      <td>...</td>\n      <td>...</td>\n      <td>...</td>\n      <td>...</td>\n      <td>...</td>\n      <td>...</td>\n    </tr>\n    <tr>\n      <th>404285</th>\n      <td>404285</td>\n      <td>433578</td>\n      <td>379845</td>\n      <td>How many keywords are there in the Racket programming language of the latest version?</td>\n      <td>How many keywords are there in PERL Programming Language in the latest version?</td>\n      <td>0</td>\n      <td>1</td>\n      <td>1</td>\n    </tr>\n    <tr>\n      <th>404286</th>\n      <td>404286</td>\n      <td>18840</td>\n      <td>155606</td>\n      <td>Do you believe there is life after death?</td>\n      <td>Is it true that there is life after death?</td>\n      <td>1</td>\n      <td>15</td>\n      <td>15</td>\n    </tr>\n    <tr>\n      <th>404287</th>\n      <td>404287</td>\n      <td>537928</td>\n      <td>537929</td>\n      <td>What is one coin?</td>\n      <td>What's this coin?</td>\n      <td>0</td>\n      <td>8</td>\n      <td>8</td>\n    </tr>\n    <tr>\n      <th>404288</th>\n      <td>404288</td>\n      <td>537930</td>\n      <td>537931</td>\n      <td>What is the approx annual cost of living while studying in UIC Chicago, for an Indian student?</td>\n      <td>I am having little hairfall problem but I want to use hair styling product. Which one should I prefer out of gel, wax and clay?</td>\n      <td>0</td>\n      <td>8</td>\n      <td>7</td>\n    </tr>\n    <tr>\n      <th>404289</th>\n      <td>404289</td>\n      <td>537932</td>\n      <td>537933</td>\n      <td>What is like to have sex with cousin?</td>\n      <td>What is it like to have sex with your cousin?</td>\n      <td>0</td>\n      <td>0</td>\n      <td>0</td>\n    </tr>\n  </tbody>\n</table>\n<p>404290 rows × 8 columns</p>\n</div>"
     },
     "metadata": {},
     "execution_count": 8
    }
   ],
   "source": [
    "train_dataframe"
   ]
  }
 ]
}