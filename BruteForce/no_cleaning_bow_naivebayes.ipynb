{
 "metadata": {
  "language_info": {
   "codemirror_mode": {
    "name": "ipython",
    "version": 3
   },
   "file_extension": ".py",
   "mimetype": "text/x-python",
   "name": "python",
   "nbconvert_exporter": "python",
   "pygments_lexer": "ipython3",
   "version": "3.6.0-final"
  },
  "orig_nbformat": 2,
  "kernelspec": {
   "name": "python_defaultSpec_1599385473396",
   "display_name": "Python 3.6.0 64-bit"
  }
 },
 "nbformat": 4,
 "nbformat_minor": 2,
 "cells": [
  {
   "cell_type": "markdown",
   "metadata": {},
   "source": [
    "# All inits"
   ]
  },
  {
   "cell_type": "code",
   "execution_count": 2,
   "metadata": {},
   "outputs": [],
   "source": [
    "import numpy\n",
    "import pandas\n",
    "import os\n",
    "import matplotlib.pyplot as plot\n",
    "from sklearn.feature_extraction.text import CountVectorizer\n",
    "# This is upposed to enhance default pandas display\n",
    "pandas.set_option('display.width',75)\n"
   ]
  },
  {
   "cell_type": "markdown",
   "metadata": {},
   "source": [
    "## Read data with minimal cleaning"
   ]
  },
  {
   "cell_type": "code",
   "execution_count": 3,
   "metadata": {
    "tags": []
   },
   "outputs": [
    {
     "output_type": "stream",
     "name": "stdout",
     "text": "load clean_training\nTrain contains 404290 lines\nload clean_challenge\nChallenge contains 2345796 lines\n"
    }
   ],
   "source": [
    "def load_dataframe(file_name,title):\n",
    "    print ('load %s' % file_name)\n",
    "    df = pandas.read_pickle('../PandasStore/'+file_name+'.pkl')\n",
    "    print('%s contains %d lines' % (title,len(df)))\n",
    "    df.metadata={'title':title}\n",
    "    return df\n",
    "\n",
    "train_dataframe = load_dataframe('clean_training','Train')\n",
    "challenge_dataframe = load_dataframe('clean_challenge','Challenge')"
   ]
  },
  {
   "cell_type": "markdown",
   "metadata": {},
   "source": [
    "# Generates counts of words for both question1 & question2"
   ]
  },
  {
   "cell_type": "code",
   "execution_count": 7,
   "metadata": {},
   "outputs": [],
   "source": [
    "matrix_question1 = CountVectorizer()\n",
    "vectors_question1 = matrix_question1.fit_transform(train_dataframe['question1'])\n"
   ]
  },
  {
   "cell_type": "code",
   "execution_count": 11,
   "metadata": {},
   "outputs": [
    {
     "output_type": "execute_result",
     "data": {
      "text/plain": "array([[0, 0, 0, ..., 0, 0, 0],\n       [0, 0, 0, ..., 0, 0, 0],\n       [0, 0, 0, ..., 0, 0, 0],\n       ...,\n       [0, 0, 0, ..., 0, 0, 0],\n       [0, 0, 0, ..., 0, 0, 0],\n       [0, 0, 0, ..., 0, 0, 0]])"
     },
     "metadata": {},
     "execution_count": 11
    }
   ],
   "source": [
    "vectors_question1.toarray()"
   ]
  },
  {
   "cell_type": "code",
   "execution_count": 12,
   "metadata": {},
   "outputs": [],
   "source": [
    "train_dataframe['counts_question1']=vectors_question1.toarray()"
   ]
  },
  {
   "cell_type": "code",
   "execution_count": null,
   "metadata": {},
   "outputs": [],
   "source": [
    "train_dataframe['counts_question1']"
   ]
  }
 ]
}