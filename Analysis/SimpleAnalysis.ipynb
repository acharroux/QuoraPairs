{
 "metadata": {
  "language_info": {
   "codemirror_mode": {
    "name": "ipython",
    "version": 3
   },
   "file_extension": ".py",
   "mimetype": "text/x-python",
   "name": "python",
   "nbconvert_exporter": "python",
   "pygments_lexer": "ipython3",
   "version": "3.8.3-final"
  },
  "orig_nbformat": 2,
  "kernelspec": {
   "name": "python_defaultSpec_1598388989363",
   "display_name": "Python 3.8.3 64-bit ('Anaconda3': conda)"
  }
 },
 "nbformat": 4,
 "nbformat_minor": 2,
 "cells": [
  {
   "cell_type": "markdown",
   "metadata": {},
   "source": [
    "# First basic analysis of input data files"
   ]
  },
  {
   "cell_type": "markdown",
   "metadata": {},
   "source": [
    " A bunch of import and setup stuff"
   ]
  },
  {
   "cell_type": "code",
   "execution_count": null,
   "metadata": {},
   "outputs": [],
   "source": [
    "import numpy\n",
    "import pandas\n",
    "import os\n",
    "import gc\n",
    "import matplotlib.pyplot as plot\n",
    "\n",
    "# This is upposed to enhance default pandas display\n",
    "pandas.set_option('display.width',75)\n",
    "%matplotlib inline\n"
   ]
  },
  {
   "cell_type": "markdown",
   "metadata": {},
   "source": [
    "Play a little bit with infos from os"
   ]
  },
  {
   "cell_type": "code",
   "execution_count": 12,
   "metadata": {
    "tags": []
   },
   "outputs": [
    {
     "output_type": "stream",
     "name": "stdout",
     "text": "Content of input folder\nsample_submission.csv              21MB\ntest.csv                           299MB\ntest_without_quotes_final.csv      299MB\ntrain.csv                          60MB\ntrain_without_quotes_final.csv     60MB\n"
    }
   ],
   "source": [
    "\n",
    "print('Content of input folder')\n",
    "file_list = os.listdir('../input')\n",
    "file_list.sort()\n",
    "for file in file_list:\n",
    "        print('%s%.0fMB' % (file.ljust(35),os.path.getsize('../input/' + file) / (1024*1024)))"
   ]
  }
 ]
}